{
 "cells": [
  {
   "cell_type": "code",
   "execution_count": 1,
   "metadata": {},
   "outputs": [],
   "source": [
    "\"\"\"setup\"\"\"\n",
    "import pandas as pd\n",
    "import pytest\n",
    "import sys\n",
    "sys.path.append('../..')\n",
    "from quickviz import visualize as v\n",
    "from vega_datasets import data"
   ]
  },
  {
   "cell_type": "code",
   "execution_count": 2,
   "metadata": {},
   "outputs": [],
   "source": [
    "\"\"\"test_input_fail\"\"\"\n",
    "d = [{'a': 1, 'b': 2, 'c': 4}]*4\n",
    "\n",
    "with pytest.raises(TypeError):\n",
    "    v(d)"
   ]
  },
  {
   "cell_type": "code",
   "execution_count": 3,
   "metadata": {},
   "outputs": [
    {
     "data": {
      "application/vnd.jupyter.widget-view+json": {
       "model_id": "0f25ba61c17846a5893f2dc413e0f9ab",
       "version_major": 2,
       "version_minor": 0
      },
      "text/plain": [
       "VBox()"
      ]
     },
     "metadata": {},
     "output_type": "display_data"
    },
    {
     "data": {
      "application/vnd.jupyter.widget-view+json": {
       "model_id": "f41623e478b9424eae26a0ff693a558a",
       "version_major": 2,
       "version_minor": 0
      },
      "text/plain": [
       "Output()"
      ]
     },
     "metadata": {},
     "output_type": "display_data"
    }
   ],
   "source": [
    "\"\"\"test_input\"\"\"\n",
    "df = pd.DataFrame(d)\n",
    "p = v(df)"
   ]
  }
 ],
 "metadata": {
  "kernelspec": {
   "display_name": "Python 3",
   "language": "python",
   "name": "python3"
  },
  "language_info": {
   "codemirror_mode": {
    "name": "ipython",
    "version": 3
   },
   "file_extension": ".py",
   "mimetype": "text/x-python",
   "name": "python",
   "nbconvert_exporter": "python",
   "pygments_lexer": "ipython3",
   "version": "3.7.0"
  },
  "widgets": {
   "application/vnd.jupyter.widget-state+json": {
    "state": {
     "009ea9737dd34eca9452fa57204caa52": {
      "model_module": "@jupyter-widgets/controls",
      "model_module_version": "1.4.0",
      "model_name": "HBoxModel",
      "state": {
       "children": [
        "IPY_MODEL_7a72eab5e12e45c5b8586d4f886a3e5b"
       ],
       "layout": "IPY_MODEL_1efde5fb95b94fbb87c18fb7682f54dd"
      }
     },
     "00a2b608b3dd4c1ea2cdd37b6a2e2d73": {
      "model_module": "@jupyter-widgets/controls",
      "model_module_version": "1.4.0",
      "model_name": "FloatTextModel",
      "state": {
       "layout": "IPY_MODEL_05ed413daa8d483b93c8d09724eb8033",
       "step": null,
       "style": "IPY_MODEL_0ba8bf52c3e8478da945e7fc711a7cbb",
       "value": 0.1
      }
     },
     "02387d4d86d54409814b700644d7da2b": {
      "model_module": "@jupyter-widgets/base",
      "model_module_version": "1.1.0",
      "model_name": "LayoutModel",
      "state": {}
     },
     "02c2952a957c4148ba0126f935a46caa": {
      "model_module": "@jupyter-widgets/base",
      "model_module_version": "1.1.0",
      "model_name": "LayoutModel",
      "state": {}
     },
     "052d17ba0fb44e72a3e66bd239ca26d6": {
      "model_module": "@jupyter-widgets/base",
      "model_module_version": "1.1.0",
      "model_name": "LayoutModel",
      "state": {}
     },
     "05ed413daa8d483b93c8d09724eb8033": {
      "model_module": "@jupyter-widgets/base",
      "model_module_version": "1.1.0",
      "model_name": "LayoutModel",
      "state": {}
     },
     "0738df41e4134213b2bffa962d569c80": {
      "model_module": "@jupyter-widgets/controls",
      "model_module_version": "1.4.0",
      "model_name": "CheckboxModel",
      "state": {
       "disabled": false,
       "layout": "IPY_MODEL_4c238acd37de4d41a7cde3e73e0881bc",
       "style": "IPY_MODEL_9b3d156827f64d7eb46f4335bb6788be",
       "value": false
      }
     },
     "08100f44310e49a0ba9dc15aa3611669": {
      "model_module": "@jupyter-widgets/base",
      "model_module_version": "1.1.0",
      "model_name": "LayoutModel",
      "state": {}
     },
     "08bffd4800b5482cb4a87d137a57d53c": {
      "model_module": "@jupyter-widgets/base",
      "model_module_version": "1.1.0",
      "model_name": "LayoutModel",
      "state": {}
     },
     "096a3ae763534ff1b68492e5e891c8ea": {
      "model_module": "@jupyter-widgets/base",
      "model_module_version": "1.1.0",
      "model_name": "LayoutModel",
      "state": {}
     },
     "0a9dd55f0cf348d78bb02ee7faf2c6a5": {
      "model_module": "@jupyter-widgets/controls",
      "model_module_version": "1.4.0",
      "model_name": "DropdownModel",
      "state": {
       "_options_labels": [
        "a",
        "b",
        "c"
       ],
       "index": 0,
       "layout": "IPY_MODEL_e9dbfa356f0b4de6b0a4b76408b82c17",
       "style": "IPY_MODEL_7b7147fb65e346a38abbcdc960e48b82"
      }
     },
     "0ac7121e6d1a42129a166ddf2323d8de": {
      "model_module": "@jupyter-widgets/controls",
      "model_module_version": "1.4.0",
      "model_name": "CheckboxModel",
      "state": {
       "disabled": false,
       "layout": "IPY_MODEL_e464200ca03a4c12aeb57d2352a05035",
       "style": "IPY_MODEL_55afd536b8da42b1a1c336ef9e8205df",
       "value": false
      }
     },
     "0b759a75613e4aa69511f6dfbaf378d7": {
      "model_module": "@jupyter-widgets/controls",
      "model_module_version": "1.4.0",
      "model_name": "DescriptionStyleModel",
      "state": {
       "description_width": ""
      }
     },
     "0ba8bf52c3e8478da945e7fc711a7cbb": {
      "model_module": "@jupyter-widgets/controls",
      "model_module_version": "1.4.0",
      "model_name": "DescriptionStyleModel",
      "state": {
       "description_width": ""
      }
     },
     "0bbecbd2518f48719e3061f2fc4852f3": {
      "model_module": "@jupyter-widgets/controls",
      "model_module_version": "1.4.0",
      "model_name": "CheckboxModel",
      "state": {
       "disabled": false,
       "layout": "IPY_MODEL_f67bcbe7a984442680739b55424e7255",
       "style": "IPY_MODEL_584e6f74207d43b5b6c001b019591a9a",
       "value": false
      }
     },
     "0bd59d0bc8a949dd807143a1e7ff9e36": {
      "model_module": "@jupyter-widgets/base",
      "model_module_version": "1.1.0",
      "model_name": "LayoutModel",
      "state": {}
     },
     "0c16f5b572fe4696a635eec47af86e94": {
      "model_module": "@jupyter-widgets/base",
      "model_module_version": "1.1.0",
      "model_name": "LayoutModel",
      "state": {}
     },
     "0c70b0248b4f47739e43f614647c421c": {
      "model_module": "@jupyter-widgets/controls",
      "model_module_version": "1.4.0",
      "model_name": "DescriptionStyleModel",
      "state": {
       "description_width": ""
      }
     },
     "0e5949c3b8994251a344781e7be635f4": {
      "model_module": "@jupyter-widgets/controls",
      "model_module_version": "1.4.0",
      "model_name": "DropdownModel",
      "state": {
       "_options_labels": [
        "point",
        "bar",
        "strip",
        "swarm",
        "box",
        "violin",
        "boxen"
       ],
       "index": 0,
       "layout": "IPY_MODEL_0bd59d0bc8a949dd807143a1e7ff9e36",
       "style": "IPY_MODEL_75d5ecdb4b834a22b3bd9144321446ab"
      }
     },
     "0e604ea787de4819ae01ee5bec4882e6": {
      "model_module": "@jupyter-widgets/controls",
      "model_module_version": "1.4.0",
      "model_name": "DescriptionStyleModel",
      "state": {
       "description_width": ""
      }
     },
     "0ea6e33690474375bd7b2b06aac37062": {
      "model_module": "@jupyter-widgets/controls",
      "model_module_version": "1.4.0",
      "model_name": "DescriptionStyleModel",
      "state": {
       "description_width": ""
      }
     },
     "0ef13d4aea714292ba33b62b978fd084": {
      "model_module": "@jupyter-widgets/controls",
      "model_module_version": "1.4.0",
      "model_name": "DescriptionStyleModel",
      "state": {
       "description_width": ""
      }
     },
     "0f25ba61c17846a5893f2dc413e0f9ab": {
      "model_module": "@jupyter-widgets/controls",
      "model_module_version": "1.4.0",
      "model_name": "VBoxModel",
      "state": {
       "children": [
        "IPY_MODEL_f618578ef725439dbb4188252ea0e6d1",
        "IPY_MODEL_949173ff60b2445194756f003f105f4c",
        "IPY_MODEL_009ea9737dd34eca9452fa57204caa52"
       ],
       "layout": "IPY_MODEL_f4832e05303440ba9dae3712afed2ef8"
      }
     },
     "0ffb681f5f0740feb7f76290f0aaf132": {
      "model_module": "@jupyter-widgets/controls",
      "model_module_version": "1.4.0",
      "model_name": "DescriptionStyleModel",
      "state": {
       "description_width": ""
      }
     },
     "10aa3a27bfe34bf1915217a0a69d2aa7": {
      "model_module": "@jupyter-widgets/base",
      "model_module_version": "1.1.0",
      "model_name": "LayoutModel",
      "state": {}
     },
     "10cc59d84cbc4b148277f4beaf1bb940": {
      "model_module": "@jupyter-widgets/base",
      "model_module_version": "1.1.0",
      "model_name": "LayoutModel",
      "state": {}
     },
     "112485f6d10e40af9e1375503197a930": {
      "model_module": "@jupyter-widgets/controls",
      "model_module_version": "1.4.0",
      "model_name": "DescriptionStyleModel",
      "state": {
       "description_width": ""
      }
     },
     "123a45fd9e5b4ff49dde1c4e328fd809": {
      "model_module": "@jupyter-widgets/base",
      "model_module_version": "1.1.0",
      "model_name": "LayoutModel",
      "state": {}
     },
     "1272e0cbca6543a593ec570f7ce449d0": {
      "model_module": "@jupyter-widgets/base",
      "model_module_version": "1.1.0",
      "model_name": "LayoutModel",
      "state": {}
     },
     "12e02b503b814bb2a6cf4f333135718c": {
      "model_module": "@jupyter-widgets/controls",
      "model_module_version": "1.4.0",
      "model_name": "DropdownModel",
      "state": {
       "_options_labels": [
        "band",
        "bars"
       ],
       "index": 0,
       "layout": "IPY_MODEL_25f721d375f243eb8eba72c16df17bec",
       "style": "IPY_MODEL_abe8e54d2b7c43ecb419a3de524b0c7e"
      }
     },
     "139fb4fa822144a3a2bf8bd08bd7c409": {
      "model_module": "@jupyter-widgets/controls",
      "model_module_version": "1.4.0",
      "model_name": "SliderStyleModel",
      "state": {
       "description_width": ""
      }
     },
     "15225350fbcb4405aca2efaa6eb1a3b5": {
      "model_module": "@jupyter-widgets/base",
      "model_module_version": "1.1.0",
      "model_name": "LayoutModel",
      "state": {}
     },
     "158abe34847341fea225a52b4a6525a7": {
      "model_module": "@jupyter-widgets/controls",
      "model_module_version": "1.4.0",
      "model_name": "DescriptionStyleModel",
      "state": {
       "description_width": ""
      }
     },
     "17ff45744803474199c2e4114117aba8": {
      "model_module": "@jupyter-widgets/base",
      "model_module_version": "1.1.0",
      "model_name": "LayoutModel",
      "state": {}
     },
     "18cf3699bc6849c7ad6bb9bd09a6994c": {
      "model_module": "@jupyter-widgets/controls",
      "model_module_version": "1.4.0",
      "model_name": "FloatTextModel",
      "state": {
       "layout": "IPY_MODEL_be3b90eb20fc4674ad53dc890265675c",
       "step": null,
       "style": "IPY_MODEL_4d2bdd089c4440a5a9b8271c86f9c7b2",
       "value": 1
      }
     },
     "18fae94762734912b96a1ac59e23a7aa": {
      "model_module": "@jupyter-widgets/base",
      "model_module_version": "1.1.0",
      "model_name": "LayoutModel",
      "state": {}
     },
     "193015a6fd4a46128a0d2060bd0164d6": {
      "model_module": "@jupyter-widgets/controls",
      "model_module_version": "1.4.0",
      "model_name": "DescriptionStyleModel",
      "state": {
       "description_width": ""
      }
     },
     "19eda13716b54a4cb834ac1ebb45e3e2": {
      "model_module": "@jupyter-widgets/controls",
      "model_module_version": "1.4.0",
      "model_name": "FloatTextModel",
      "state": {
       "layout": "IPY_MODEL_698f455b08f244d196cfd5b3dacddb4f",
       "step": 0.1,
       "style": "IPY_MODEL_b93a7c6f57cf43a4af44c859fc7ea962",
       "value": 1
      }
     },
     "19eeb34ef915475ab0cd071c6d77ede4": {
      "model_module": "@jupyter-widgets/base",
      "model_module_version": "1.1.0",
      "model_name": "LayoutModel",
      "state": {}
     },
     "1c15943b13c84fffa0e6335c04e5d82a": {
      "model_module": "@jupyter-widgets/controls",
      "model_module_version": "1.4.0",
      "model_name": "DescriptionStyleModel",
      "state": {
       "description_width": ""
      }
     },
     "1d6600d56a814acc8accb84c9965e1ba": {
      "model_module": "@jupyter-widgets/base",
      "model_module_version": "1.1.0",
      "model_name": "LayoutModel",
      "state": {}
     },
     "1efde5fb95b94fbb87c18fb7682f54dd": {
      "model_module": "@jupyter-widgets/base",
      "model_module_version": "1.1.0",
      "model_name": "LayoutModel",
      "state": {}
     },
     "230bbf8fdc2d46f594db3a6116d7862b": {
      "model_module": "@jupyter-widgets/base",
      "model_module_version": "1.1.0",
      "model_name": "LayoutModel",
      "state": {}
     },
     "243637a803764b35a2ad3569ea770ff4": {
      "model_module": "@jupyter-widgets/base",
      "model_module_version": "1.1.0",
      "model_name": "LayoutModel",
      "state": {}
     },
     "249ee9989aac4e308c9defd8a6bbf8d6": {
      "model_module": "@jupyter-widgets/controls",
      "model_module_version": "1.4.0",
      "model_name": "DropdownModel",
      "state": {
       "_options_labels": [
        "a",
        "b",
        "c"
       ],
       "index": 0,
       "layout": "IPY_MODEL_ad3c24d8b7034c8c97a00b370de843c3",
       "style": "IPY_MODEL_3225c553dad04854a1cb926506c0ef60"
      }
     },
     "2578f7fdebce4a269cb731ce04d06e1f": {
      "model_module": "@jupyter-widgets/base",
      "model_module_version": "1.1.0",
      "model_name": "LayoutModel",
      "state": {}
     },
     "25b5268129ae458c93215ab502fbfe6a": {
      "model_module": "@jupyter-widgets/base",
      "model_module_version": "1.1.0",
      "model_name": "LayoutModel",
      "state": {}
     },
     "25f721d375f243eb8eba72c16df17bec": {
      "model_module": "@jupyter-widgets/base",
      "model_module_version": "1.1.0",
      "model_name": "LayoutModel",
      "state": {}
     },
     "2689d568cccd4eaa8431c1b7b0418dc4": {
      "model_module": "@jupyter-widgets/base",
      "model_module_version": "1.1.0",
      "model_name": "LayoutModel",
      "state": {}
     },
     "270814f2d5e644d5aaa35b910dd88dd4": {
      "model_module": "@jupyter-widgets/base",
      "model_module_version": "1.1.0",
      "model_name": "LayoutModel",
      "state": {}
     },
     "2832f37516ed45b8a6d62e5ce010d0c4": {
      "model_module": "@jupyter-widgets/base",
      "model_module_version": "1.1.0",
      "model_name": "LayoutModel",
      "state": {}
     },
     "28479fae25144a0bb71eec896b8aa343": {
      "model_module": "@jupyter-widgets/controls",
      "model_module_version": "1.4.0",
      "model_name": "FloatTextModel",
      "state": {
       "layout": "IPY_MODEL_f9f2601188cb49398662ca9dcbd9d6ca",
       "step": null,
       "style": "IPY_MODEL_84a4ddabce904cbca5118f29fc54e53c",
       "value": 1
      }
     },
     "284cf0246eef4c9091fa9a2650db7e64": {
      "model_module": "@jupyter-widgets/base",
      "model_module_version": "1.1.0",
      "model_name": "LayoutModel",
      "state": {}
     },
     "295a6a594c124acfb8ee7f35c4f0df29": {
      "model_module": "@jupyter-widgets/controls",
      "model_module_version": "1.4.0",
      "model_name": "DescriptionStyleModel",
      "state": {
       "description_width": ""
      }
     },
     "297e3ba2ef254dc98f3aea1385141c76": {
      "model_module": "@jupyter-widgets/controls",
      "model_module_version": "1.4.0",
      "model_name": "CheckboxModel",
      "state": {
       "description": "auto-update",
       "disabled": false,
       "layout": "IPY_MODEL_8efd9c4d6ef54fe6a9e46f1e250afd3e",
       "style": "IPY_MODEL_77737b60629640f49897c15ed927fa17",
       "value": false
      }
     },
     "2b52cac9f6024f3bb2e4e4e331edbee6": {
      "model_module": "@jupyter-widgets/controls",
      "model_module_version": "1.4.0",
      "model_name": "DescriptionStyleModel",
      "state": {
       "description_width": ""
      }
     },
     "2c505f8ac7e74010a3850f5876c8c613": {
      "model_module": "@jupyter-widgets/base",
      "model_module_version": "1.1.0",
      "model_name": "LayoutModel",
      "state": {}
     },
     "2ccc68126ca84647852614a87ff515de": {
      "model_module": "@jupyter-widgets/base",
      "model_module_version": "1.1.0",
      "model_name": "LayoutModel",
      "state": {}
     },
     "2d06ed34fe02477db20ea1f0d10dd047": {
      "model_module": "@jupyter-widgets/base",
      "model_module_version": "1.1.0",
      "model_name": "LayoutModel",
      "state": {}
     },
     "2e50d4c793a847cb8e5abfdcf9298054": {
      "model_module": "@jupyter-widgets/base",
      "model_module_version": "1.1.0",
      "model_name": "LayoutModel",
      "state": {}
     },
     "2f7afdf43418422dbc6e8f32ce38a644": {
      "model_module": "@jupyter-widgets/controls",
      "model_module_version": "1.4.0",
      "model_name": "DescriptionStyleModel",
      "state": {
       "description_width": ""
      }
     },
     "304ed70343df412caeedce84f7a61a73": {
      "model_module": "@jupyter-widgets/base",
      "model_module_version": "1.1.0",
      "model_name": "LayoutModel",
      "state": {}
     },
     "30688cdbf1834f34980e4ef55b68ed4a": {
      "model_module": "@jupyter-widgets/controls",
      "model_module_version": "1.4.0",
      "model_name": "DescriptionStyleModel",
      "state": {
       "description_width": ""
      }
     },
     "31485fe94c17416c973227bbb2cb103c": {
      "model_module": "@jupyter-widgets/base",
      "model_module_version": "1.1.0",
      "model_name": "LayoutModel",
      "state": {}
     },
     "3225c553dad04854a1cb926506c0ef60": {
      "model_module": "@jupyter-widgets/controls",
      "model_module_version": "1.4.0",
      "model_name": "DescriptionStyleModel",
      "state": {
       "description_width": ""
      }
     },
     "333a63c77dad42bd8f61d9a1babeed25": {
      "model_module": "@jupyter-widgets/base",
      "model_module_version": "1.1.0",
      "model_name": "LayoutModel",
      "state": {}
     },
     "341e1a84f69e4864b6cadf9ec81bcbfc": {
      "model_module": "@jupyter-widgets/base",
      "model_module_version": "1.1.0",
      "model_name": "LayoutModel",
      "state": {}
     },
     "363fa413616a4c1684d446095a5ed2d0": {
      "model_module": "@jupyter-widgets/controls",
      "model_module_version": "1.4.0",
      "model_name": "DropdownModel",
      "state": {
       "_options_labels": [
        "True",
        "col",
        "row"
       ],
       "index": 0,
       "layout": "IPY_MODEL_2832f37516ed45b8a6d62e5ce010d0c4",
       "style": "IPY_MODEL_61ccfeb1056642eb9c9d6c54b296c6d8"
      }
     },
     "3672e0f70dcc441081acd50abe638e65": {
      "model_module": "@jupyter-widgets/controls",
      "model_module_version": "1.4.0",
      "model_name": "DescriptionStyleModel",
      "state": {
       "description_width": ""
      }
     },
     "36b70ca8075a4ad094fbf06b76784261": {
      "model_module": "@jupyter-widgets/controls",
      "model_module_version": "1.4.0",
      "model_name": "DescriptionStyleModel",
      "state": {
       "description_width": ""
      }
     },
     "36d4655db7bf42f5aa2e032b631b88fd": {
      "model_module": "@jupyter-widgets/controls",
      "model_module_version": "1.4.0",
      "model_name": "DescriptionStyleModel",
      "state": {
       "description_width": ""
      }
     },
     "37f1220a189742cfba7e98b24f25a225": {
      "model_module": "@jupyter-widgets/controls",
      "model_module_version": "1.4.0",
      "model_name": "CheckboxModel",
      "state": {
       "disabled": false,
       "layout": "IPY_MODEL_b038d5b5de064e11a39d3817fe8271b0",
       "style": "IPY_MODEL_693315e4d4d74c2fa1ebee261d751b3d",
       "value": false
      }
     },
     "38448d4a8c22477781c55c103a14a8e9": {
      "model_module": "@jupyter-widgets/controls",
      "model_module_version": "1.4.0",
      "model_name": "CheckboxModel",
      "state": {
       "disabled": false,
       "layout": "IPY_MODEL_e43474016d374a9297d76ecb30aeb46b",
       "style": "IPY_MODEL_d6b04a79f0654a9eb28ea7902995a565",
       "value": false
      }
     },
     "394c601de3c94d21bac4ac74d0771fd8": {
      "model_module": "@jupyter-widgets/controls",
      "model_module_version": "1.4.0",
      "model_name": "DropdownModel",
      "state": {
       "_options_labels": [
        "barplot",
        "boxenplot",
        "boxplot",
        "catplot",
        "countplot",
        "distplot",
        "heatmap",
        "jointplot",
        "kdeplot",
        "lineplot",
        "lmplot",
        "pairplot",
        "pointplot",
        "regplot",
        "relplot",
        "residplot",
        "scatterplot",
        "stripplot",
        "swarmplot",
        "violinplot"
       ],
       "description": "Plot type",
       "index": 0,
       "layout": "IPY_MODEL_e7be19fb011c440e89eab9abc4874d67",
       "style": "IPY_MODEL_c4b55c190830480c8f3ac46f709f6153"
      }
     },
     "3a2da4b095e34558b981d23016563cda": {
      "model_module": "@jupyter-widgets/controls",
      "model_module_version": "1.4.0",
      "model_name": "TextModel",
      "state": {
       "layout": "IPY_MODEL_94913585b4fa4012b999394ea0632574",
       "style": "IPY_MODEL_889b59ae65b1452aacc476f43f074995",
       "value": "gray"
      }
     },
     "3a7ac8a63d724ceb9856741c2c3dcd92": {
      "model_module": "@jupyter-widgets/controls",
      "model_module_version": "1.4.0",
      "model_name": "DropdownModel",
      "state": {
       "_options_labels": [
        "area",
        "count",
        "width"
       ],
       "index": 0,
       "layout": "IPY_MODEL_c1f714feb33c4689a0f0603fb88da4c3",
       "style": "IPY_MODEL_6b18325b29224da288709ff9f11dc8b8"
      }
     },
     "3a86f027cfe64b7192d298465243a026": {
      "model_module": "@jupyter-widgets/controls",
      "model_module_version": "1.4.0",
      "model_name": "DropdownModel",
      "state": {
       "_options_labels": [
        "a",
        "b",
        "c"
       ],
       "index": 0,
       "layout": "IPY_MODEL_284cf0246eef4c9091fa9a2650db7e64",
       "style": "IPY_MODEL_7193151322744c30b4e55ea4d8d30910"
      }
     },
     "3ac92d053d694593af8997281f6fc31d": {
      "model_module": "@jupyter-widgets/controls",
      "model_module_version": "1.4.0",
      "model_name": "DescriptionStyleModel",
      "state": {
       "description_width": ""
      }
     },
     "3b1b0fa4f2254b44a529d6e97589725b": {
      "model_module": "@jupyter-widgets/base",
      "model_module_version": "1.1.0",
      "model_name": "LayoutModel",
      "state": {}
     },
     "3b38b87cc72149efb921cfb8991882f3": {
      "model_module": "@jupyter-widgets/controls",
      "model_module_version": "1.4.0",
      "model_name": "DescriptionStyleModel",
      "state": {
       "description_width": ""
      }
     },
     "3bce096829f341208dc8c1cab09391d5": {
      "model_module": "@jupyter-widgets/controls",
      "model_module_version": "1.4.0",
      "model_name": "DescriptionStyleModel",
      "state": {
       "description_width": ""
      }
     },
     "3c71894eb4084310817625f687f160f1": {
      "model_module": "@jupyter-widgets/controls",
      "model_module_version": "1.4.0",
      "model_name": "TextModel",
      "state": {
       "layout": "IPY_MODEL_8b33ffadb8a544c599544cd1a98039ad",
       "style": "IPY_MODEL_fe2ed0eff4574a86b9256f9513e97290",
       "value": "white"
      }
     },
     "3cd71b9e5bdd4ea5872ea1a86e44fd6b": {
      "model_module": "@jupyter-widgets/base",
      "model_module_version": "1.1.0",
      "model_name": "LayoutModel",
      "state": {}
     },
     "3e2c151bafaf4707ae355d70fa14d059": {
      "model_module": "@jupyter-widgets/controls",
      "model_module_version": "1.4.0",
      "model_name": "DescriptionStyleModel",
      "state": {
       "description_width": ""
      }
     },
     "40211febf2af4f76997dd9bb5db2a7cc": {
      "model_module": "@jupyter-widgets/controls",
      "model_module_version": "1.4.0",
      "model_name": "CheckboxModel",
      "state": {
       "disabled": false,
       "layout": "IPY_MODEL_ddb7dd2055d842d68b02b94cd3701a0c",
       "style": "IPY_MODEL_a3c2eafed8ae4607901e97a921a2c380",
       "value": false
      }
     },
     "404e390d7e3f4e23aee39e9a19c2cf9a": {
      "model_module": "@jupyter-widgets/controls",
      "model_module_version": "1.4.0",
      "model_name": "DropdownModel",
      "state": {
       "_options_labels": [
        "True",
        "col",
        "row"
       ],
       "index": 0,
       "layout": "IPY_MODEL_6f54f661a4204140b0fa16093ac03336",
       "style": "IPY_MODEL_75f60193741e492ba32c8a46820a0ed9"
      }
     },
     "4170f50193704e2aa7072cb737b2c0a8": {
      "model_module": "@jupyter-widgets/base",
      "model_module_version": "1.1.0",
      "model_name": "LayoutModel",
      "state": {}
     },
     "4259483d819147df98dc493c4da4324f": {
      "model_module": "@jupyter-widgets/controls",
      "model_module_version": "1.4.0",
      "model_name": "CheckboxModel",
      "state": {
       "disabled": false,
       "layout": "IPY_MODEL_7fd22dca11f64f1e9a5223c0ba8a00c7",
       "style": "IPY_MODEL_be7fad7950294dafad380363cc17aeaa",
       "value": false
      }
     },
     "42bc92324f954aa28061e9eaa1685ff3": {
      "model_module": "@jupyter-widgets/controls",
      "model_module_version": "1.4.0",
      "model_name": "CheckboxModel",
      "state": {
       "disabled": false,
       "layout": "IPY_MODEL_02c2952a957c4148ba0126f935a46caa",
       "style": "IPY_MODEL_98dfb668abd942e793ffc41ec1b5357d",
       "value": false
      }
     },
     "44908015cd7f49ae86baf7aab86e56e3": {
      "model_module": "@jupyter-widgets/controls",
      "model_module_version": "1.4.0",
      "model_name": "DescriptionStyleModel",
      "state": {
       "description_width": ""
      }
     },
     "468e98c8caa64b608d11ce88e33c0ca1": {
      "model_module": "@jupyter-widgets/controls",
      "model_module_version": "1.4.0",
      "model_name": "CheckboxModel",
      "state": {
       "disabled": false,
       "layout": "IPY_MODEL_ee282c5efe9246fbb18192bc66d377a9",
       "style": "IPY_MODEL_b79b8385bff548b5a81497d7563ff41e",
       "value": false
      }
     },
     "47d73e0194d34d8fa65842b92de3ee28": {
      "model_module": "@jupyter-widgets/controls",
      "model_module_version": "1.4.0",
      "model_name": "TextModel",
      "state": {
       "layout": "IPY_MODEL_895966c9075e4a38aa9a8a5f56817952",
       "style": "IPY_MODEL_e97a0a6bdbf94cab80d82784db58f791"
      }
     },
     "47fd98717cc34b0499ac8c0276faccb2": {
      "model_module": "@jupyter-widgets/base",
      "model_module_version": "1.1.0",
      "model_name": "LayoutModel",
      "state": {}
     },
     "4886a56b310a43af915598b28f8b1da9": {
      "model_module": "@jupyter-widgets/base",
      "model_module_version": "1.1.0",
      "model_name": "LayoutModel",
      "state": {}
     },
     "4c238acd37de4d41a7cde3e73e0881bc": {
      "model_module": "@jupyter-widgets/base",
      "model_module_version": "1.1.0",
      "model_name": "LayoutModel",
      "state": {}
     },
     "4d2bdd089c4440a5a9b8271c86f9c7b2": {
      "model_module": "@jupyter-widgets/controls",
      "model_module_version": "1.4.0",
      "model_name": "DescriptionStyleModel",
      "state": {
       "description_width": ""
      }
     },
     "4d57e106e61a420888e14371d67494f6": {
      "model_module": "@jupyter-widgets/controls",
      "model_module_version": "1.4.0",
      "model_name": "FloatTextModel",
      "state": {
       "layout": "IPY_MODEL_0c16f5b572fe4696a635eec47af86e94",
       "step": 0.01,
       "style": "IPY_MODEL_f6e5926c81ae4736a4bc07ca319ca1e6"
      }
     },
     "4dc3000ff1ae4458af143095b6955736": {
      "model_module": "@jupyter-widgets/controls",
      "model_module_version": "1.4.0",
      "model_name": "IntTextModel",
      "state": {
       "layout": "IPY_MODEL_6f6ddb4c9c4641d2ae102aad60276c4b",
       "step": 1,
       "style": "IPY_MODEL_3ac92d053d694593af8997281f6fc31d",
       "value": 10
      }
     },
     "508b807cde004264a86743902c750f18": {
      "model_module": "@jupyter-widgets/base",
      "model_module_version": "1.1.0",
      "model_name": "LayoutModel",
      "state": {}
     },
     "5108dcd0dfb849749945d4705ec763f5": {
      "model_module": "@jupyter-widgets/base",
      "model_module_version": "1.1.0",
      "model_name": "LayoutModel",
      "state": {}
     },
     "511fb6b27b66436b9f97b5f6a5daa8cb": {
      "model_module": "@jupyter-widgets/controls",
      "model_module_version": "1.4.0",
      "model_name": "DescriptionStyleModel",
      "state": {
       "description_width": ""
      }
     },
     "520ce9ee9cc04a4aa683d870ef75f0b0": {
      "model_module": "@jupyter-widgets/base",
      "model_module_version": "1.1.0",
      "model_name": "LayoutModel",
      "state": {}
     },
     "546ab82249c24799bc12a851ba02e820": {
      "model_module": "@jupyter-widgets/controls",
      "model_module_version": "1.4.0",
      "model_name": "DescriptionStyleModel",
      "state": {
       "description_width": ""
      }
     },
     "549f0831eec54bd5969e9d4487e7ee47": {
      "model_module": "@jupyter-widgets/controls",
      "model_module_version": "1.4.0",
      "model_name": "SliderStyleModel",
      "state": {
       "description_width": ""
      }
     },
     "54a4e09d6e3340b7bc0a684f96c8b13e": {
      "model_module": "@jupyter-widgets/controls",
      "model_module_version": "1.4.0",
      "model_name": "IntTextModel",
      "state": {
       "layout": "IPY_MODEL_5a93e78a37424546a5adc76a831b52f7",
       "step": 1,
       "style": "IPY_MODEL_b53a2bc7699040fd8edf654b51f302aa",
       "value": 5
      }
     },
     "551b8b37486e40deba54b6829230fbcb": {
      "model_module": "@jupyter-widgets/controls",
      "model_module_version": "1.4.0",
      "model_name": "DropdownModel",
      "state": {
       "_options_labels": [
        "a",
        "b",
        "c"
       ],
       "index": 0,
       "layout": "IPY_MODEL_7b3baf5b76194e82abf0a8ef5cd8c2cd",
       "style": "IPY_MODEL_b8b34aca17d149c0a0a4d7e29c970383"
      }
     },
     "5588e9ed4602456eb70ea960a5a01e5d": {
      "model_module": "@jupyter-widgets/controls",
      "model_module_version": "1.4.0",
      "model_name": "DescriptionStyleModel",
      "state": {
       "description_width": ""
      }
     },
     "55afd536b8da42b1a1c336ef9e8205df": {
      "model_module": "@jupyter-widgets/controls",
      "model_module_version": "1.4.0",
      "model_name": "DescriptionStyleModel",
      "state": {
       "description_width": ""
      }
     },
     "568b8054499d4a6ebb96b53474f267a5": {
      "model_module": "@jupyter-widgets/controls",
      "model_module_version": "1.4.0",
      "model_name": "DescriptionStyleModel",
      "state": {
       "description_width": ""
      }
     },
     "579b4a453f5b4fdaa3f3464d411ef97b": {
      "model_module": "@jupyter-widgets/controls",
      "model_module_version": "1.4.0",
      "model_name": "FloatTextModel",
      "state": {
       "layout": "IPY_MODEL_2d06ed34fe02477db20ea1f0d10dd047",
       "step": null,
       "style": "IPY_MODEL_99c244cb1684429e8d92f2d0c260e2c2",
       "value": 1
      }
     },
     "584e6f74207d43b5b6c001b019591a9a": {
      "model_module": "@jupyter-widgets/controls",
      "model_module_version": "1.4.0",
      "model_name": "DescriptionStyleModel",
      "state": {
       "description_width": ""
      }
     },
     "5a6cac53a2a0458583dbfd75df23189c": {
      "model_module": "@jupyter-widgets/controls",
      "model_module_version": "1.4.0",
      "model_name": "CheckboxModel",
      "state": {
       "disabled": false,
       "layout": "IPY_MODEL_d923317cbd5e40bd8bf5175b1d87dc38",
       "style": "IPY_MODEL_e418039c7da848a9aa5c131faa3c28a8",
       "value": false
      }
     },
     "5a8d9b65fad34d1b83b34f0ecd4b3e1c": {
      "model_module": "@jupyter-widgets/base",
      "model_module_version": "1.1.0",
      "model_name": "LayoutModel",
      "state": {}
     },
     "5a93e78a37424546a5adc76a831b52f7": {
      "model_module": "@jupyter-widgets/base",
      "model_module_version": "1.1.0",
      "model_name": "LayoutModel",
      "state": {}
     },
     "5ae8cb359df04a2cac60d31b6ec5bb2e": {
      "model_module": "@jupyter-widgets/controls",
      "model_module_version": "1.4.0",
      "model_name": "FloatTextModel",
      "state": {
       "layout": "IPY_MODEL_d8bfb7e9ed6742509e348d3b11904604",
       "step": null,
       "style": "IPY_MODEL_f93f93d2d43644a795b48b228edbbb0f",
       "value": 5
      }
     },
     "5c62dcabe5e8442188b332d92cc06cfe": {
      "model_module": "@jupyter-widgets/base",
      "model_module_version": "1.1.0",
      "model_name": "LayoutModel",
      "state": {}
     },
     "5cc541e67f3d40d6adfcb636d21fec14": {
      "model_module": "@jupyter-widgets/controls",
      "model_module_version": "1.4.0",
      "model_name": "CheckboxModel",
      "state": {
       "disabled": false,
       "layout": "IPY_MODEL_a3f5fb78c79d43c29d00e23dc34043a9",
       "style": "IPY_MODEL_295a6a594c124acfb8ee7f35c4f0df29",
       "value": false
      }
     },
     "5d59e923a1ef4bfdafed6be9cd33a6e7": {
      "model_module": "@jupyter-widgets/base",
      "model_module_version": "1.1.0",
      "model_name": "LayoutModel",
      "state": {}
     },
     "5d7d474c75404d1399375fa58eddc93a": {
      "model_module": "@jupyter-widgets/controls",
      "model_module_version": "1.4.0",
      "model_name": "DescriptionStyleModel",
      "state": {
       "description_width": ""
      }
     },
     "5ecdf2bf07844cf6a6eae75932d0457e": {
      "model_module": "@jupyter-widgets/controls",
      "model_module_version": "1.4.0",
      "model_name": "DescriptionStyleModel",
      "state": {
       "description_width": ""
      }
     },
     "5edaacbcee89430aa26570494790e380": {
      "model_module": "@jupyter-widgets/controls",
      "model_module_version": "1.4.0",
      "model_name": "FloatTextModel",
      "state": {
       "layout": "IPY_MODEL_cc54edd33fee49108db32a270081fb1b",
       "step": 0.05,
       "style": "IPY_MODEL_0e604ea787de4819ae01ee5bec4882e6",
       "value": 1
      }
     },
     "5f3e1fe8df144d1fa6a5ff34b9a3b5b9": {
      "model_module": "@jupyter-widgets/controls",
      "model_module_version": "1.4.0",
      "model_name": "DescriptionStyleModel",
      "state": {
       "description_width": ""
      }
     },
     "5f9b3836031a4a02a8aeac6366342eab": {
      "model_module": "@jupyter-widgets/controls",
      "model_module_version": "1.4.0",
      "model_name": "FloatSliderModel",
      "state": {
       "layout": "IPY_MODEL_123a45fd9e5b4ff49dde1c4e328fd809",
       "max": 1,
       "step": 0.001,
       "style": "IPY_MODEL_81a16423d2944a1f8ac53fcbea5bacdc",
       "value": 0.007
      }
     },
     "604cf586b8c6457e988aa08e54619816": {
      "model_module": "@jupyter-widgets/controls",
      "model_module_version": "1.4.0",
      "model_name": "DropdownModel",
      "state": {
       "_options_labels": [
        "gau",
        "cos",
        "biw",
        "epa",
        "tri",
        "triw"
       ],
       "index": 0,
       "layout": "IPY_MODEL_3cd71b9e5bdd4ea5872ea1a86e44fd6b",
       "style": "IPY_MODEL_0ea6e33690474375bd7b2b06aac37062"
      }
     },
     "606a69c1cfc544c8ab5060fa964b5cae": {
      "model_module": "@jupyter-widgets/base",
      "model_module_version": "1.1.0",
      "model_name": "LayoutModel",
      "state": {}
     },
     "61ccfeb1056642eb9c9d6c54b296c6d8": {
      "model_module": "@jupyter-widgets/controls",
      "model_module_version": "1.4.0",
      "model_name": "DescriptionStyleModel",
      "state": {
       "description_width": ""
      }
     },
     "62086b81c8fa450290351d284aba03b9": {
      "model_module": "@jupyter-widgets/controls",
      "model_module_version": "1.4.0",
      "model_name": "FloatTextModel",
      "state": {
       "layout": "IPY_MODEL_520ce9ee9cc04a4aa683d870ef75f0b0",
       "step": null,
       "style": "IPY_MODEL_3b38b87cc72149efb921cfb8991882f3",
       "value": 0.2
      }
     },
     "62cae4c679cd4666816ffcec2616b1ed": {
      "model_module": "@jupyter-widgets/controls",
      "model_module_version": "1.4.0",
      "model_name": "DescriptionStyleModel",
      "state": {
       "description_width": ""
      }
     },
     "6461e37136414634823058a4d09218fa": {
      "model_module": "@jupyter-widgets/controls",
      "model_module_version": "1.4.0",
      "model_name": "DescriptionStyleModel",
      "state": {
       "description_width": ""
      }
     },
     "64ba0ef713f54c768cea63cfb86b529d": {
      "model_module": "@jupyter-widgets/controls",
      "model_module_version": "1.4.0",
      "model_name": "IntTextModel",
      "state": {
       "layout": "IPY_MODEL_70101e49475a41c7859c129dd7b554cb",
       "step": 1,
       "style": "IPY_MODEL_ec9219573f984caea3dee5f4b35c3a22",
       "value": 1
      }
     },
     "67765d3ae94246b8897dc00b58a7a8b1": {
      "model_module": "@jupyter-widgets/controls",
      "model_module_version": "1.4.0",
      "model_name": "DescriptionStyleModel",
      "state": {
       "description_width": ""
      }
     },
     "68cdea60a7034062b19bdfc0ad78589b": {
      "model_module": "@jupyter-widgets/controls",
      "model_module_version": "1.4.0",
      "model_name": "DescriptionStyleModel",
      "state": {
       "description_width": ""
      }
     },
     "693315e4d4d74c2fa1ebee261d751b3d": {
      "model_module": "@jupyter-widgets/controls",
      "model_module_version": "1.4.0",
      "model_name": "DescriptionStyleModel",
      "state": {
       "description_width": ""
      }
     },
     "698f455b08f244d196cfd5b3dacddb4f": {
      "model_module": "@jupyter-widgets/base",
      "model_module_version": "1.1.0",
      "model_name": "LayoutModel",
      "state": {}
     },
     "6b18325b29224da288709ff9f11dc8b8": {
      "model_module": "@jupyter-widgets/controls",
      "model_module_version": "1.4.0",
      "model_name": "DescriptionStyleModel",
      "state": {
       "description_width": ""
      }
     },
     "6ba71f9768f04805bc70f296bc5e4321": {
      "model_module": "@jupyter-widgets/controls",
      "model_module_version": "1.4.0",
      "model_name": "DescriptionStyleModel",
      "state": {
       "description_width": ""
      }
     },
     "6c377bd228684cb0967ef33c0ba105e0": {
      "model_module": "@jupyter-widgets/controls",
      "model_module_version": "1.4.0",
      "model_name": "DropdownModel",
      "state": {
       "_options_labels": [
        "a",
        "b",
        "c"
       ],
       "index": 0,
       "layout": "IPY_MODEL_1d6600d56a814acc8accb84c9965e1ba",
       "style": "IPY_MODEL_b341cb2ca86f4d30b07cbbc8ed5786b8"
      }
     },
     "6c85a5b79ad34f9a825ff701f08ae48e": {
      "model_module": "@jupyter-widgets/controls",
      "model_module_version": "1.4.0",
      "model_name": "SliderStyleModel",
      "state": {
       "description_width": ""
      }
     },
     "6f54f661a4204140b0fa16093ac03336": {
      "model_module": "@jupyter-widgets/base",
      "model_module_version": "1.1.0",
      "model_name": "LayoutModel",
      "state": {}
     },
     "6f6ddb4c9c4641d2ae102aad60276c4b": {
      "model_module": "@jupyter-widgets/base",
      "model_module_version": "1.1.0",
      "model_name": "LayoutModel",
      "state": {}
     },
     "6fe6431fc76a4563b95cec3b7b085819": {
      "model_module": "@jupyter-widgets/base",
      "model_module_version": "1.1.0",
      "model_name": "LayoutModel",
      "state": {}
     },
     "70101e49475a41c7859c129dd7b554cb": {
      "model_module": "@jupyter-widgets/base",
      "model_module_version": "1.1.0",
      "model_name": "LayoutModel",
      "state": {}
     },
     "7193151322744c30b4e55ea4d8d30910": {
      "model_module": "@jupyter-widgets/controls",
      "model_module_version": "1.4.0",
      "model_name": "DescriptionStyleModel",
      "state": {
       "description_width": ""
      }
     },
     "726d76a297f54ba78a94634056105132": {
      "model_module": "@jupyter-widgets/controls",
      "model_module_version": "1.4.0",
      "model_name": "FloatTextModel",
      "state": {
       "layout": "IPY_MODEL_1272e0cbca6543a593ec570f7ce449d0",
       "step": null,
       "style": "IPY_MODEL_44908015cd7f49ae86baf7aab86e56e3",
       "value": 1
      }
     },
     "72b8f14e1cda4875be1c571f465198c8": {
      "model_module": "@jupyter-widgets/base",
      "model_module_version": "1.1.0",
      "model_name": "LayoutModel",
      "state": {}
     },
     "72c0926969f04e5a9b41225b25241eaf": {
      "model_module": "@jupyter-widgets/controls",
      "model_module_version": "1.4.0",
      "model_name": "CheckboxModel",
      "state": {
       "disabled": false,
       "layout": "IPY_MODEL_15225350fbcb4405aca2efaa6eb1a3b5",
       "style": "IPY_MODEL_f227c615aa244e678224697d8cea1a7d",
       "value": false
      }
     },
     "7300d33ed3864d3cbb17e93179fa6452": {
      "model_module": "@jupyter-widgets/controls",
      "model_module_version": "1.4.0",
      "model_name": "DescriptionStyleModel",
      "state": {
       "description_width": ""
      }
     },
     "7387765760ad43348a39aa0a8a0dc2b1": {
      "model_module": "@jupyter-widgets/base",
      "model_module_version": "1.1.0",
      "model_name": "LayoutModel",
      "state": {}
     },
     "73978e3fdb1d42258931f5d153d7432a": {
      "model_module": "@jupyter-widgets/base",
      "model_module_version": "1.1.0",
      "model_name": "LayoutModel",
      "state": {}
     },
     "7479bf328db44ff99d7c1430e988c90f": {
      "model_module": "@jupyter-widgets/base",
      "model_module_version": "1.1.0",
      "model_name": "LayoutModel",
      "state": {}
     },
     "7541570f98d6452398245cad514b0fa5": {
      "model_module": "@jupyter-widgets/controls",
      "model_module_version": "1.4.0",
      "model_name": "DescriptionStyleModel",
      "state": {
       "description_width": ""
      }
     },
     "75b9fce7958b4cec9048af4fdb014694": {
      "model_module": "@jupyter-widgets/controls",
      "model_module_version": "1.4.0",
      "model_name": "CheckboxModel",
      "state": {
       "disabled": false,
       "layout": "IPY_MODEL_ec15f483081f43c1be4da8adef7b187b",
       "style": "IPY_MODEL_ead4d9d4dc054428aeea5a22624922ec",
       "value": false
      }
     },
     "75cae28809fc4d23934974dc18a79f67": {
      "model_module": "@jupyter-widgets/controls",
      "model_module_version": "1.4.0",
      "model_name": "DescriptionStyleModel",
      "state": {
       "description_width": ""
      }
     },
     "75d5ecdb4b834a22b3bd9144321446ab": {
      "model_module": "@jupyter-widgets/controls",
      "model_module_version": "1.4.0",
      "model_name": "DescriptionStyleModel",
      "state": {
       "description_width": ""
      }
     },
     "75f60193741e492ba32c8a46820a0ed9": {
      "model_module": "@jupyter-widgets/controls",
      "model_module_version": "1.4.0",
      "model_name": "DescriptionStyleModel",
      "state": {
       "description_width": ""
      }
     },
     "773d7103c0464786ac9b57cf4617542f": {
      "model_module": "@jupyter-widgets/controls",
      "model_module_version": "1.4.0",
      "model_name": "DropdownModel",
      "state": {
       "_options_labels": [
        "o",
        "v",
        "^",
        "<",
        ">",
        "8",
        "s",
        "p",
        "*",
        "h",
        "H",
        "D",
        "d",
        "P",
        "X"
       ],
       "index": 0,
       "layout": "IPY_MODEL_5c62dcabe5e8442188b332d92cc06cfe",
       "style": "IPY_MODEL_f776430743dc42bf9a06b48ef931b793"
      }
     },
     "77737b60629640f49897c15ed927fa17": {
      "model_module": "@jupyter-widgets/controls",
      "model_module_version": "1.4.0",
      "model_name": "DescriptionStyleModel",
      "state": {
       "description_width": ""
      }
     },
     "77b352d7f7a143168653942aae162471": {
      "model_module": "@jupyter-widgets/base",
      "model_module_version": "1.1.0",
      "model_name": "LayoutModel",
      "state": {}
     },
     "784404f11a894531b9a46518fdadc8ce": {
      "model_module": "@jupyter-widgets/base",
      "model_module_version": "1.1.0",
      "model_name": "LayoutModel",
      "state": {}
     },
     "79570320f11c42e0bab37a37100dbdb0": {
      "model_module": "@jupyter-widgets/controls",
      "model_module_version": "1.4.0",
      "model_name": "DescriptionStyleModel",
      "state": {
       "description_width": ""
      }
     },
     "7a72eab5e12e45c5b8586d4f886a3e5b": {
      "model_module": "@jupyter-widgets/controls",
      "model_module_version": "1.4.0",
      "model_name": "DropdownModel",
      "state": {
       "_options_labels": [
        "x",
        "y",
        "capsize",
        "ci",
        "color",
        "errwidth",
        "hue",
        "n_boot",
        "orient",
        "palette",
        "saturation",
        "units"
       ],
       "description": "Add arg",
       "index": null,
       "layout": "IPY_MODEL_096a3ae763534ff1b68492e5e891c8ea",
       "style": "IPY_MODEL_158abe34847341fea225a52b4a6525a7"
      }
     },
     "7b3baf5b76194e82abf0a8ef5cd8c2cd": {
      "model_module": "@jupyter-widgets/base",
      "model_module_version": "1.1.0",
      "model_name": "LayoutModel",
      "state": {}
     },
     "7b7147fb65e346a38abbcdc960e48b82": {
      "model_module": "@jupyter-widgets/controls",
      "model_module_version": "1.4.0",
      "model_name": "DescriptionStyleModel",
      "state": {
       "description_width": ""
      }
     },
     "7cf300ea28d74d17bfd912858827f131": {
      "model_module": "@jupyter-widgets/controls",
      "model_module_version": "1.4.0",
      "model_name": "DescriptionStyleModel",
      "state": {
       "description_width": ""
      }
     },
     "7d875b9256514b8b9a78e196153e6145": {
      "model_module": "@jupyter-widgets/controls",
      "model_module_version": "1.4.0",
      "model_name": "DropdownModel",
      "state": {
       "_options_labels": [
        "scatter",
        "line"
       ],
       "index": 0,
       "layout": "IPY_MODEL_d58dd97432e34773873aa70de22fefce",
       "style": "IPY_MODEL_112485f6d10e40af9e1375503197a930"
      }
     },
     "7dd47743d5bb4ea4856601d840c784e3": {
      "model_module": "@jupyter-widgets/controls",
      "model_module_version": "1.4.0",
      "model_name": "LabelModel",
      "state": {
       "layout": "IPY_MODEL_5a8d9b65fad34d1b83b34f0ecd4b3e1c",
       "style": "IPY_MODEL_0ef13d4aea714292ba33b62b978fd084",
       "value": "---"
      }
     },
     "7e1498689a4849e5b8f50d2394ae8945": {
      "model_module": "@jupyter-widgets/controls",
      "model_module_version": "1.4.0",
      "model_name": "DropdownModel",
      "state": {
       "_options_labels": [
        "a",
        "b",
        "c"
       ],
       "index": 0,
       "layout": "IPY_MODEL_97cfb51989dc433bbf352c84d5d96762",
       "style": "IPY_MODEL_0c70b0248b4f47739e43f614647c421c"
      }
     },
     "7fd22dca11f64f1e9a5223c0ba8a00c7": {
      "model_module": "@jupyter-widgets/base",
      "model_module_version": "1.1.0",
      "model_name": "LayoutModel",
      "state": {}
     },
     "81a16423d2944a1f8ac53fcbea5bacdc": {
      "model_module": "@jupyter-widgets/controls",
      "model_module_version": "1.4.0",
      "model_name": "SliderStyleModel",
      "state": {
       "description_width": ""
      }
     },
     "83a58033f6c241e6ac3bd3ba5c88b2f2": {
      "model_module": "@jupyter-widgets/controls",
      "model_module_version": "1.4.0",
      "model_name": "DropdownModel",
      "state": {
       "_options_labels": [
        "a",
        "b",
        "c"
       ],
       "index": 0,
       "layout": "IPY_MODEL_606a69c1cfc544c8ab5060fa964b5cae",
       "style": "IPY_MODEL_67765d3ae94246b8897dc00b58a7a8b1"
      }
     },
     "84a4ddabce904cbca5118f29fc54e53c": {
      "model_module": "@jupyter-widgets/controls",
      "model_module_version": "1.4.0",
      "model_name": "DescriptionStyleModel",
      "state": {
       "description_width": ""
      }
     },
     "84b9b251f5a649fb97d4de79b8e22967": {
      "model_module": "@jupyter-widgets/controls",
      "model_module_version": "1.4.0",
      "model_name": "DescriptionStyleModel",
      "state": {
       "description_width": ""
      }
     },
     "850068ad778b49e3ad2a30eb2d977998": {
      "model_module": "@jupyter-widgets/controls",
      "model_module_version": "1.4.0",
      "model_name": "TextModel",
      "state": {
       "layout": "IPY_MODEL_25b5268129ae458c93215ab502fbfe6a",
       "style": "IPY_MODEL_193015a6fd4a46128a0d2060bd0164d6",
       "value": "g"
      }
     },
     "85353f19835c43d6b1ff4b2764062e80": {
      "model_module": "@jupyter-widgets/controls",
      "model_module_version": "1.4.0",
      "model_name": "DropdownModel",
      "state": {
       "_options_labels": [
        "scott",
        "silverman"
       ],
       "index": 0,
       "layout": "IPY_MODEL_77b352d7f7a143168653942aae162471",
       "style": "IPY_MODEL_91e6bf3ebfc24d65b0c34f8c09065f25"
      }
     },
     "8757434b2cb349b8a3ec1cf65e5055e6": {
      "model_module": "@jupyter-widgets/base",
      "model_module_version": "1.1.0",
      "model_name": "LayoutModel",
      "state": {}
     },
     "889b59ae65b1452aacc476f43f074995": {
      "model_module": "@jupyter-widgets/controls",
      "model_module_version": "1.4.0",
      "model_name": "DescriptionStyleModel",
      "state": {
       "description_width": ""
      }
     },
     "8934122e9eb048a38ce7eddd2c3da64d": {
      "model_module": "@jupyter-widgets/controls",
      "model_module_version": "1.4.0",
      "model_name": "FloatSliderModel",
      "state": {
       "layout": "IPY_MODEL_243637a803764b35a2ad3569ea770ff4",
       "max": 1,
       "step": 0.05,
       "style": "IPY_MODEL_c242aa40f32e486faac8dc92e4adc73e",
       "value": 1
      }
     },
     "895966c9075e4a38aa9a8a5f56817952": {
      "model_module": "@jupyter-widgets/base",
      "model_module_version": "1.1.0",
      "model_name": "LayoutModel",
      "state": {}
     },
     "8b33ffadb8a544c599544cd1a98039ad": {
      "model_module": "@jupyter-widgets/base",
      "model_module_version": "1.1.0",
      "model_name": "LayoutModel",
      "state": {}
     },
     "8e007e6e0bc941eba1997f9fd6417a3b": {
      "model_module": "@jupyter-widgets/controls",
      "model_module_version": "1.4.0",
      "model_name": "DescriptionStyleModel",
      "state": {
       "description_width": ""
      }
     },
     "8efd9c4d6ef54fe6a9e46f1e250afd3e": {
      "model_module": "@jupyter-widgets/base",
      "model_module_version": "1.1.0",
      "model_name": "LayoutModel",
      "state": {}
     },
     "91e6bf3ebfc24d65b0c34f8c09065f25": {
      "model_module": "@jupyter-widgets/controls",
      "model_module_version": "1.4.0",
      "model_name": "DescriptionStyleModel",
      "state": {
       "description_width": ""
      }
     },
     "91f922e9e9834654af0a5105fa6949d5": {
      "model_module": "@jupyter-widgets/controls",
      "model_module_version": "1.4.0",
      "model_name": "IntSliderModel",
      "state": {
       "layout": "IPY_MODEL_341e1a84f69e4864b6cadf9ec81bcbfc",
       "style": "IPY_MODEL_6c85a5b79ad34f9a825ff701f08ae48e",
       "value": 95
      }
     },
     "928a298bbd1d47a9a79955a8892fb046": {
      "model_module": "@jupyter-widgets/controls",
      "model_module_version": "1.4.0",
      "model_name": "DescriptionStyleModel",
      "state": {
       "description_width": ""
      }
     },
     "9459e338783e42bfbee06d6077db5522": {
      "model_module": "@jupyter-widgets/controls",
      "model_module_version": "1.4.0",
      "model_name": "DescriptionStyleModel",
      "state": {
       "description_width": ""
      }
     },
     "94913585b4fa4012b999394ea0632574": {
      "model_module": "@jupyter-widgets/base",
      "model_module_version": "1.1.0",
      "model_name": "LayoutModel",
      "state": {}
     },
     "949173ff60b2445194756f003f105f4c": {
      "model_module": "@jupyter-widgets/controls",
      "model_module_version": "1.4.0",
      "model_name": "HBoxModel",
      "state": {
       "children": [
        "IPY_MODEL_7dd47743d5bb4ea4856601d840c784e3"
       ],
       "layout": "IPY_MODEL_f2110fb2ecfc489fa03fc2150a42c23c"
      }
     },
     "9545b46c764841fcb5faf9bc6dcddfbe": {
      "model_module": "@jupyter-widgets/controls",
      "model_module_version": "1.4.0",
      "model_name": "FloatTextModel",
      "state": {
       "layout": "IPY_MODEL_4170f50193704e2aa7072cb737b2c0a8",
       "step": null,
       "style": "IPY_MODEL_36d4655db7bf42f5aa2e032b631b88fd",
       "value": 1
      }
     },
     "96106e22bb0948afa633413ffbae5fad": {
      "model_module": "@jupyter-widgets/controls",
      "model_module_version": "1.4.0",
      "model_name": "DescriptionStyleModel",
      "state": {
       "description_width": ""
      }
     },
     "9727187d63ea40b99853c20e4418e609": {
      "model_module": "@jupyter-widgets/controls",
      "model_module_version": "1.4.0",
      "model_name": "DescriptionStyleModel",
      "state": {
       "description_width": ""
      }
     },
     "97cfb51989dc433bbf352c84d5d96762": {
      "model_module": "@jupyter-widgets/base",
      "model_module_version": "1.1.0",
      "model_name": "LayoutModel",
      "state": {}
     },
     "98393af60d4346c38196bdcf2bf2f0f1": {
      "model_module": "@jupyter-widgets/base",
      "model_module_version": "1.1.0",
      "model_name": "LayoutModel",
      "state": {}
     },
     "98dfb668abd942e793ffc41ec1b5357d": {
      "model_module": "@jupyter-widgets/controls",
      "model_module_version": "1.4.0",
      "model_name": "DescriptionStyleModel",
      "state": {
       "description_width": ""
      }
     },
     "99c244cb1684429e8d92f2d0c260e2c2": {
      "model_module": "@jupyter-widgets/controls",
      "model_module_version": "1.4.0",
      "model_name": "DescriptionStyleModel",
      "state": {
       "description_width": ""
      }
     },
     "9ae5c4c8b5434a639713cb3eca5dae63": {
      "model_module": "@jupyter-widgets/controls",
      "model_module_version": "1.4.0",
      "model_name": "DropdownModel",
      "state": {
       "_options_labels": [
        "scatter",
        "reg",
        "resid",
        "kde",
        "hex"
       ],
       "index": 0,
       "layout": "IPY_MODEL_3b1b0fa4f2254b44a529d6e97589725b",
       "style": "IPY_MODEL_1c15943b13c84fffa0e6335c04e5d82a"
      }
     },
     "9b3d156827f64d7eb46f4335bb6788be": {
      "model_module": "@jupyter-widgets/controls",
      "model_module_version": "1.4.0",
      "model_name": "DescriptionStyleModel",
      "state": {
       "description_width": ""
      }
     },
     "9c1b9ade9c7d47b59d57cff2b1c3a602": {
      "model_module": "@jupyter-widgets/controls",
      "model_module_version": "1.4.0",
      "model_name": "FloatSliderModel",
      "state": {
       "layout": "IPY_MODEL_47fd98717cc34b0499ac8c0276faccb2",
       "step": 0.1,
       "style": "IPY_MODEL_549f0831eec54bd5969e9d4487e7ee47",
       "value": 95
      }
     },
     "9d1a15795f744ec48df4be71a417e2d8": {
      "model_module": "@jupyter-widgets/controls",
      "model_module_version": "1.4.0",
      "model_name": "DropdownModel",
      "state": {
       "_options_labels": [
        "a",
        "b",
        "c"
       ],
       "index": 0,
       "layout": "IPY_MODEL_a843d2dcd3ea473fbad90d09e752f834",
       "style": "IPY_MODEL_8e007e6e0bc941eba1997f9fd6417a3b"
      }
     },
     "9d6b54388e494d51a05933fed78cb4d3": {
      "model_module": "@jupyter-widgets/controls",
      "model_module_version": "1.4.0",
      "model_name": "CheckboxModel",
      "state": {
       "disabled": false,
       "layout": "IPY_MODEL_2e50d4c793a847cb8e5abfdcf9298054",
       "style": "IPY_MODEL_84b9b251f5a649fb97d4de79b8e22967",
       "value": false
      }
     },
     "a27036a45d5e469c9a8827e4e3162487": {
      "model_module": "@jupyter-widgets/controls",
      "model_module_version": "1.4.0",
      "model_name": "TextModel",
      "state": {
       "layout": "IPY_MODEL_784404f11a894531b9a46518fdadc8ce",
       "style": "IPY_MODEL_511fb6b27b66436b9f97b5f6a5daa8cb"
      }
     },
     "a3c2eafed8ae4607901e97a921a2c380": {
      "model_module": "@jupyter-widgets/controls",
      "model_module_version": "1.4.0",
      "model_name": "DescriptionStyleModel",
      "state": {
       "description_width": ""
      }
     },
     "a3f5fb78c79d43c29d00e23dc34043a9": {
      "model_module": "@jupyter-widgets/base",
      "model_module_version": "1.1.0",
      "model_name": "LayoutModel",
      "state": {}
     },
     "a7ffb6b9c0194a8089acfdfe06c028ee": {
      "model_module": "@jupyter-widgets/controls",
      "model_module_version": "1.4.0",
      "model_name": "CheckboxModel",
      "state": {
       "disabled": false,
       "layout": "IPY_MODEL_5d59e923a1ef4bfdafed6be9cd33a6e7",
       "style": "IPY_MODEL_68cdea60a7034062b19bdfc0ad78589b",
       "value": false
      }
     },
     "a843d2dcd3ea473fbad90d09e752f834": {
      "model_module": "@jupyter-widgets/base",
      "model_module_version": "1.1.0",
      "model_name": "LayoutModel",
      "state": {}
     },
     "a8701af2127e4c6ba5c42cfee77885f4": {
      "model_module": "@jupyter-widgets/controls",
      "model_module_version": "1.4.0",
      "model_name": "DropdownModel",
      "state": {
       "_options_labels": [
        "a",
        "b",
        "c"
       ],
       "index": 0,
       "layout": "IPY_MODEL_2689d568cccd4eaa8431c1b7b0418dc4",
       "style": "IPY_MODEL_6ba71f9768f04805bc70f296bc5e4321"
      }
     },
     "a8c7e390bc744483ba589cba58ef3368": {
      "model_module": "@jupyter-widgets/base",
      "model_module_version": "1.1.0",
      "model_name": "LayoutModel",
      "state": {}
     },
     "a945ce63f31b4e499f806883fbef077d": {
      "model_module": "@jupyter-widgets/controls",
      "model_module_version": "1.4.0",
      "model_name": "TextModel",
      "state": {
       "layout": "IPY_MODEL_4886a56b310a43af915598b28f8b1da9",
       "style": "IPY_MODEL_7541570f98d6452398245cad514b0fa5",
       "value": "viridis"
      }
     },
     "a9f4e50dc44841d783403887bb311d3c": {
      "model_module": "@jupyter-widgets/base",
      "model_module_version": "1.1.0",
      "model_name": "LayoutModel",
      "state": {}
     },
     "ab1ce284dc1948c694b12650c62805c4": {
      "model_module": "@jupyter-widgets/controls",
      "model_module_version": "1.4.0",
      "model_name": "DescriptionStyleModel",
      "state": {
       "description_width": ""
      }
     },
     "abe8e54d2b7c43ecb419a3de524b0c7e": {
      "model_module": "@jupyter-widgets/controls",
      "model_module_version": "1.4.0",
      "model_name": "DescriptionStyleModel",
      "state": {
       "description_width": ""
      }
     },
     "acf08e1c5d7f4cf98e042c57ab91e57c": {
      "model_module": "@jupyter-widgets/base",
      "model_module_version": "1.1.0",
      "model_name": "LayoutModel",
      "state": {}
     },
     "ad273ad8c8a646418de0dedd1db038e7": {
      "model_module": "@jupyter-widgets/controls",
      "model_module_version": "1.4.0",
      "model_name": "DropdownModel",
      "state": {
       "_options_labels": [
        "linear",
        "exponential",
        "area"
       ],
       "index": 0,
       "layout": "IPY_MODEL_ccc96e45ed494fc098e44f26c9114fb7",
       "style": "IPY_MODEL_79570320f11c42e0bab37a37100dbdb0"
      }
     },
     "ad3c24d8b7034c8c97a00b370de843c3": {
      "model_module": "@jupyter-widgets/base",
      "model_module_version": "1.1.0",
      "model_name": "LayoutModel",
      "state": {}
     },
     "b038d5b5de064e11a39d3817fe8271b0": {
      "model_module": "@jupyter-widgets/base",
      "model_module_version": "1.1.0",
      "model_name": "LayoutModel",
      "state": {}
     },
     "b0dbef848f474e5f94c482e4d7e0b438": {
      "model_module": "@jupyter-widgets/controls",
      "model_module_version": "1.4.0",
      "model_name": "DescriptionStyleModel",
      "state": {
       "description_width": ""
      }
     },
     "b1136481d3bf43c7b7572abcf56abc8a": {
      "model_module": "@jupyter-widgets/base",
      "model_module_version": "1.1.0",
      "model_name": "LayoutModel",
      "state": {}
     },
     "b2d09bd702d74b719447270b7487c995": {
      "model_module": "@jupyter-widgets/controls",
      "model_module_version": "1.4.0",
      "model_name": "IntTextModel",
      "state": {
       "layout": "IPY_MODEL_b37e17567ae645b88081f3c03e61bfb1",
       "step": 1,
       "style": "IPY_MODEL_5f3e1fe8df144d1fa6a5ff34b9a3b5b9",
       "value": 10
      }
     },
     "b33b73aaa8914be88f37f986e6c7cc3f": {
      "model_module": "@jupyter-widgets/controls",
      "model_module_version": "1.4.0",
      "model_name": "DescriptionStyleModel",
      "state": {
       "description_width": ""
      }
     },
     "b341cb2ca86f4d30b07cbbc8ed5786b8": {
      "model_module": "@jupyter-widgets/controls",
      "model_module_version": "1.4.0",
      "model_name": "DescriptionStyleModel",
      "state": {
       "description_width": ""
      }
     },
     "b37e17567ae645b88081f3c03e61bfb1": {
      "model_module": "@jupyter-widgets/base",
      "model_module_version": "1.1.0",
      "model_name": "LayoutModel",
      "state": {}
     },
     "b53a2bc7699040fd8edf654b51f302aa": {
      "model_module": "@jupyter-widgets/controls",
      "model_module_version": "1.4.0",
      "model_name": "DescriptionStyleModel",
      "state": {
       "description_width": ""
      }
     },
     "b5f73a9ebce045278fd0679da16db22d": {
      "model_module": "@jupyter-widgets/controls",
      "model_module_version": "1.4.0",
      "model_name": "DescriptionStyleModel",
      "state": {
       "description_width": ""
      }
     },
     "b653ca51730541b88ae49c5fa5e16fd5": {
      "model_module": "@jupyter-widgets/controls",
      "model_module_version": "1.4.0",
      "model_name": "FloatTextModel",
      "state": {
       "layout": "IPY_MODEL_eddb70b312344415b82ebe6cacf33927",
       "step": null,
       "style": "IPY_MODEL_cc0aba8c0e5246febb8b71b43a718576",
       "value": 1
      }
     },
     "b706f74372ce4611aae26b2dd8e11ac6": {
      "model_module": "@jupyter-widgets/base",
      "model_module_version": "1.1.0",
      "model_name": "LayoutModel",
      "state": {}
     },
     "b77369c51c8f4525941ce4dec32c16aa": {
      "model_module": "@jupyter-widgets/controls",
      "model_module_version": "1.4.0",
      "model_name": "DropdownModel",
      "state": {
       "_options_labels": [
        "a",
        "b",
        "c"
       ],
       "index": 0,
       "layout": "IPY_MODEL_18fae94762734912b96a1ac59e23a7aa",
       "style": "IPY_MODEL_36b70ca8075a4ad094fbf06b76784261"
      }
     },
     "b79b8385bff548b5a81497d7563ff41e": {
      "model_module": "@jupyter-widgets/controls",
      "model_module_version": "1.4.0",
      "model_name": "DescriptionStyleModel",
      "state": {
       "description_width": ""
      }
     },
     "b7de2f9bbdba4d6cbbfe725fdbbcab01": {
      "model_module": "@jupyter-widgets/controls",
      "model_module_version": "1.4.0",
      "model_name": "CheckboxModel",
      "state": {
       "disabled": false,
       "layout": "IPY_MODEL_17ff45744803474199c2e4114117aba8",
       "style": "IPY_MODEL_0ffb681f5f0740feb7f76290f0aaf132",
       "value": false
      }
     },
     "b7fe6e5609a0481384498a213cb15bfb": {
      "model_module": "@jupyter-widgets/controls",
      "model_module_version": "1.4.0",
      "model_name": "CheckboxModel",
      "state": {
       "disabled": false,
       "layout": "IPY_MODEL_08100f44310e49a0ba9dc15aa3611669",
       "style": "IPY_MODEL_b33b73aaa8914be88f37f986e6c7cc3f",
       "value": false
      }
     },
     "b83fdf2a60544a13be0cc18c7ce48f13": {
      "model_module": "@jupyter-widgets/controls",
      "model_module_version": "1.4.0",
      "model_name": "DescriptionStyleModel",
      "state": {
       "description_width": ""
      }
     },
     "b8b34aca17d149c0a0a4d7e29c970383": {
      "model_module": "@jupyter-widgets/controls",
      "model_module_version": "1.4.0",
      "model_name": "DescriptionStyleModel",
      "state": {
       "description_width": ""
      }
     },
     "b8b89cdfbccd42b3b985e1d93e2ecd04": {
      "model_module": "@jupyter-widgets/controls",
      "model_module_version": "1.4.0",
      "model_name": "FloatTextModel",
      "state": {
       "layout": "IPY_MODEL_daa7010994e6461ba0156f55ce81f211",
       "step": null,
       "style": "IPY_MODEL_62cae4c679cd4666816ffcec2616b1ed",
       "value": 1
      }
     },
     "b92fb6fb142d4090b7f344c137e8bae9": {
      "model_module": "@jupyter-widgets/controls",
      "model_module_version": "1.4.0",
      "model_name": "FloatTextModel",
      "state": {
       "layout": "IPY_MODEL_6fe6431fc76a4563b95cec3b7b085819",
       "step": 0.1,
       "style": "IPY_MODEL_3672e0f70dcc441081acd50abe638e65",
       "value": 1
      }
     },
     "b93a7c6f57cf43a4af44c859fc7ea962": {
      "model_module": "@jupyter-widgets/controls",
      "model_module_version": "1.4.0",
      "model_name": "DescriptionStyleModel",
      "state": {
       "description_width": ""
      }
     },
     "bc08b19147d1497496384baf839b4d4f": {
      "model_module": "@jupyter-widgets/base",
      "model_module_version": "1.1.0",
      "model_name": "LayoutModel",
      "state": {}
     },
     "be3b90eb20fc4674ad53dc890265675c": {
      "model_module": "@jupyter-widgets/base",
      "model_module_version": "1.1.0",
      "model_name": "LayoutModel",
      "state": {}
     },
     "be7fad7950294dafad380363cc17aeaa": {
      "model_module": "@jupyter-widgets/controls",
      "model_module_version": "1.4.0",
      "model_name": "DescriptionStyleModel",
      "state": {
       "description_width": ""
      }
     },
     "bf6c38ff93ee4a39986495308507f8a5": {
      "model_module": "@jupyter-widgets/controls",
      "model_module_version": "1.4.0",
      "model_name": "CheckboxModel",
      "state": {
       "disabled": false,
       "layout": "IPY_MODEL_19eeb34ef915475ab0cd071c6d77ede4",
       "style": "IPY_MODEL_5d7d474c75404d1399375fa58eddc93a",
       "value": false
      }
     },
     "c020e10ed2a642d593a75adba2493e2d": {
      "model_module": "@jupyter-widgets/controls",
      "model_module_version": "1.4.0",
      "model_name": "DropdownModel",
      "state": {
       "_options_labels": [
        "box",
        "quartile",
        "point",
        "stick"
       ],
       "index": 0,
       "layout": "IPY_MODEL_7479bf328db44ff99d7c1430e988c90f",
       "style": "IPY_MODEL_30688cdbf1834f34980e4ef55b68ed4a"
      }
     },
     "c1f714feb33c4689a0f0603fb88da4c3": {
      "model_module": "@jupyter-widgets/base",
      "model_module_version": "1.1.0",
      "model_name": "LayoutModel",
      "state": {}
     },
     "c242aa40f32e486faac8dc92e4adc73e": {
      "model_module": "@jupyter-widgets/controls",
      "model_module_version": "1.4.0",
      "model_name": "SliderStyleModel",
      "state": {
       "description_width": ""
      }
     },
     "c255f933ca05432688c21796bc69eab0": {
      "model_module": "@jupyter-widgets/base",
      "model_module_version": "1.1.0",
      "model_name": "LayoutModel",
      "state": {}
     },
     "c3a55e7174614aae894ca9a338ebf46a": {
      "model_module": "@jupyter-widgets/controls",
      "model_module_version": "1.4.0",
      "model_name": "DescriptionStyleModel",
      "state": {
       "description_width": ""
      }
     },
     "c4b55c190830480c8f3ac46f709f6153": {
      "model_module": "@jupyter-widgets/controls",
      "model_module_version": "1.4.0",
      "model_name": "DescriptionStyleModel",
      "state": {
       "description_width": ""
      }
     },
     "c6179ea50a8e49f381427dd1a985db85": {
      "model_module": "@jupyter-widgets/controls",
      "model_module_version": "1.4.0",
      "model_name": "DescriptionStyleModel",
      "state": {
       "description_width": ""
      }
     },
     "c74c20cb563949169350d688262e290f": {
      "model_module": "@jupyter-widgets/controls",
      "model_module_version": "1.4.0",
      "model_name": "FloatTextModel",
      "state": {
       "layout": "IPY_MODEL_a8c7e390bc744483ba589cba58ef3368",
       "step": null,
       "style": "IPY_MODEL_2f7afdf43418422dbc6e8f32ce38a644",
       "value": 1
      }
     },
     "c7b9b6539eda4645a76ba062fefcd5d0": {
      "model_module": "@jupyter-widgets/controls",
      "model_module_version": "1.4.0",
      "model_name": "CheckboxModel",
      "state": {
       "disabled": false,
       "layout": "IPY_MODEL_270814f2d5e644d5aaa35b910dd88dd4",
       "style": "IPY_MODEL_6461e37136414634823058a4d09218fa",
       "value": false
      }
     },
     "ca6cfe4f9ac1414ca1c46b33797fc44a": {
      "model_module": "@jupyter-widgets/controls",
      "model_module_version": "1.4.0",
      "model_name": "FloatTextModel",
      "state": {
       "layout": "IPY_MODEL_31485fe94c17416c973227bbb2cb103c",
       "step": null,
       "style": "IPY_MODEL_9459e338783e42bfbee06d6077db5522",
       "value": 1
      }
     },
     "cc0aba8c0e5246febb8b71b43a718576": {
      "model_module": "@jupyter-widgets/controls",
      "model_module_version": "1.4.0",
      "model_name": "DescriptionStyleModel",
      "state": {
       "description_width": ""
      }
     },
     "cc30360717e343c3b297e4424322511a": {
      "model_module": "@jupyter-widgets/controls",
      "model_module_version": "1.4.0",
      "model_name": "DescriptionStyleModel",
      "state": {
       "description_width": ""
      }
     },
     "cc54edd33fee49108db32a270081fb1b": {
      "model_module": "@jupyter-widgets/base",
      "model_module_version": "1.1.0",
      "model_name": "LayoutModel",
      "state": {}
     },
     "cca63d6e6ca046538cf6f59883457cf1": {
      "model_module": "@jupyter-widgets/controls",
      "model_module_version": "1.4.0",
      "model_name": "FloatSliderModel",
      "state": {
       "layout": "IPY_MODEL_e462c38bdc9e4025bbf6575b7d97ba1e",
       "max": 1,
       "step": 0.05,
       "style": "IPY_MODEL_139fb4fa822144a3a2bf8bd08bd7c409"
      }
     },
     "ccc96e45ed494fc098e44f26c9114fb7": {
      "model_module": "@jupyter-widgets/base",
      "model_module_version": "1.1.0",
      "model_name": "LayoutModel",
      "state": {}
     },
     "cdf6a2078ac84e39950979ad4f3f9341": {
      "model_module": "@jupyter-widgets/controls",
      "model_module_version": "1.4.0",
      "model_name": "CheckboxModel",
      "state": {
       "disabled": false,
       "layout": "IPY_MODEL_2c505f8ac7e74010a3850f5876c8c613",
       "style": "IPY_MODEL_7cf300ea28d74d17bfd912858827f131",
       "value": false
      }
     },
     "ce4be75527f8405ea354cb1b19941c0f": {
      "model_module": "@jupyter-widgets/controls",
      "model_module_version": "1.4.0",
      "model_name": "DropdownModel",
      "state": {
       "_options_labels": [
        "scatter",
        "reg"
       ],
       "index": 0,
       "layout": "IPY_MODEL_333a63c77dad42bd8f61d9a1babeed25",
       "style": "IPY_MODEL_c3a55e7174614aae894ca9a338ebf46a"
      }
     },
     "cf02776cf6f5466eba984c7ba1002437": {
      "model_module": "@jupyter-widgets/controls",
      "model_module_version": "1.4.0",
      "model_name": "DropdownModel",
      "state": {
       "_options_labels": [
        "proportion",
        "tukey",
        "trustworthy"
       ],
       "index": 0,
       "layout": "IPY_MODEL_052d17ba0fb44e72a3e66bd239ca26d6",
       "style": "IPY_MODEL_3bce096829f341208dc8c1cab09391d5"
      }
     },
     "d014bc65dfa04fcd9e6a890af561d13f": {
      "model_module": "@jupyter-widgets/controls",
      "model_module_version": "1.4.0",
      "model_name": "DropdownModel",
      "state": {
       "_options_labels": [
        "v",
        "h"
       ],
       "index": 0,
       "layout": "IPY_MODEL_2ccc68126ca84647852614a87ff515de",
       "style": "IPY_MODEL_cc30360717e343c3b297e4424322511a"
      }
     },
     "d1a88fb0d4ea41ad8f031e44f4a46294": {
      "model_module": "@jupyter-widgets/controls",
      "model_module_version": "1.4.0",
      "model_name": "CheckboxModel",
      "state": {
       "disabled": false,
       "layout": "IPY_MODEL_5108dcd0dfb849749945d4705ec763f5",
       "style": "IPY_MODEL_75cae28809fc4d23934974dc18a79f67",
       "value": false
      }
     },
     "d1d504f48d914b4cad708f80620f1531": {
      "model_module": "@jupyter-widgets/controls",
      "model_module_version": "1.4.0",
      "model_name": "IntTextModel",
      "state": {
       "layout": "IPY_MODEL_f73baef8265b40a790d37dc7c695e3fc",
       "step": 1,
       "style": "IPY_MODEL_ab1ce284dc1948c694b12650c62805c4",
       "value": 1000
      }
     },
     "d507fb0cd38341748ccbfb50c57117c4": {
      "model_module": "@jupyter-widgets/controls",
      "model_module_version": "1.4.0",
      "model_name": "DropdownModel",
      "state": {
       "_options_labels": [
        "auto",
        "hist",
        "kde"
       ],
       "index": 0,
       "layout": "IPY_MODEL_fa77dc582b914e9f8152ace8810f26ee",
       "style": "IPY_MODEL_5ecdf2bf07844cf6a6eae75932d0457e"
      }
     },
     "d58950b4079b4960b26e35dbe5d5c584": {
      "model_module": "@jupyter-widgets/controls",
      "model_module_version": "1.4.0",
      "model_name": "DropdownModel",
      "state": {
       "_options_labels": [
        "brief",
        "full",
        "False"
       ],
       "index": 0,
       "layout": "IPY_MODEL_10cc59d84cbc4b148277f4beaf1bb940",
       "style": "IPY_MODEL_0b759a75613e4aa69511f6dfbaf378d7"
      }
     },
     "d58dd97432e34773873aa70de22fefce": {
      "model_module": "@jupyter-widgets/base",
      "model_module_version": "1.1.0",
      "model_name": "LayoutModel",
      "state": {}
     },
     "d5fc50279bc545a3b512956d83e461ba": {
      "model_module": "@jupyter-widgets/controls",
      "model_module_version": "1.4.0",
      "model_name": "FloatTextModel",
      "state": {
       "layout": "IPY_MODEL_02387d4d86d54409814b700644d7da2b",
       "step": null,
       "style": "IPY_MODEL_db98fe0f6e834e9f8c73cd656611ea5b",
       "value": 1
      }
     },
     "d6b04a79f0654a9eb28ea7902995a565": {
      "model_module": "@jupyter-widgets/controls",
      "model_module_version": "1.4.0",
      "model_name": "DescriptionStyleModel",
      "state": {
       "description_width": ""
      }
     },
     "d8bfb7e9ed6742509e348d3b11904604": {
      "model_module": "@jupyter-widgets/base",
      "model_module_version": "1.1.0",
      "model_name": "LayoutModel",
      "state": {}
     },
     "d8c9dd473999492a9e0a8825312a047e": {
      "model_module": "@jupyter-widgets/controls",
      "model_module_version": "1.4.0",
      "model_name": "IntTextModel",
      "state": {
       "layout": "IPY_MODEL_b706f74372ce4611aae26b2dd8e11ac6",
       "step": 1,
       "style": "IPY_MODEL_546ab82249c24799bc12a851ba02e820",
       "value": 100
      }
     },
     "d923317cbd5e40bd8bf5175b1d87dc38": {
      "model_module": "@jupyter-widgets/base",
      "model_module_version": "1.1.0",
      "model_name": "LayoutModel",
      "state": {}
     },
     "d93da270edef44f2ae204d2a4ce8d59d": {
      "model_module": "@jupyter-widgets/controls",
      "model_module_version": "1.4.0",
      "model_name": "CheckboxModel",
      "state": {
       "disabled": false,
       "layout": "IPY_MODEL_2578f7fdebce4a269cb731ce04d06e1f",
       "style": "IPY_MODEL_fec5fb24003e48478e95225bfbebb321",
       "value": false
      }
     },
     "daa7010994e6461ba0156f55ce81f211": {
      "model_module": "@jupyter-widgets/base",
      "model_module_version": "1.1.0",
      "model_name": "LayoutModel",
      "state": {}
     },
     "daa724097b8942e2b4a970a899a58c92": {
      "model_module": "@jupyter-widgets/controls",
      "model_module_version": "1.4.0",
      "model_name": "CheckboxModel",
      "state": {
       "disabled": false,
       "layout": "IPY_MODEL_98393af60d4346c38196bdcf2bf2f0f1",
       "style": "IPY_MODEL_9727187d63ea40b99853c20e4418e609",
       "value": false
      }
     },
     "db98fe0f6e834e9f8c73cd656611ea5b": {
      "model_module": "@jupyter-widgets/controls",
      "model_module_version": "1.4.0",
      "model_name": "DescriptionStyleModel",
      "state": {
       "description_width": ""
      }
     },
     "dbf01da6b7f746bc9e3173ad12449099": {
      "model_module": "@jupyter-widgets/base",
      "model_module_version": "1.1.0",
      "model_name": "LayoutModel",
      "state": {}
     },
     "ddb424cef59e4835985546e113113881": {
      "model_module": "@jupyter-widgets/controls",
      "model_module_version": "1.4.0",
      "model_name": "DropdownModel",
      "state": {
       "_options_labels": [
        "a",
        "b",
        "c"
       ],
       "index": 0,
       "layout": "IPY_MODEL_7387765760ad43348a39aa0a8a0dc2b1",
       "style": "IPY_MODEL_b5f73a9ebce045278fd0679da16db22d"
      }
     },
     "ddb7dd2055d842d68b02b94cd3701a0c": {
      "model_module": "@jupyter-widgets/base",
      "model_module_version": "1.1.0",
      "model_name": "LayoutModel",
      "state": {}
     },
     "e3b5494ba0b54ac68ffff94b61885fd2": {
      "model_module": "@jupyter-widgets/controls",
      "model_module_version": "1.4.0",
      "model_name": "DropdownModel",
      "state": {
       "_options_labels": [
        "a",
        "b",
        "c"
       ],
       "index": 0,
       "layout": "IPY_MODEL_dbf01da6b7f746bc9e3173ad12449099",
       "style": "IPY_MODEL_928a298bbd1d47a9a79955a8892fb046"
      }
     },
     "e418039c7da848a9aa5c131faa3c28a8": {
      "model_module": "@jupyter-widgets/controls",
      "model_module_version": "1.4.0",
      "model_name": "DescriptionStyleModel",
      "state": {
       "description_width": ""
      }
     },
     "e43474016d374a9297d76ecb30aeb46b": {
      "model_module": "@jupyter-widgets/base",
      "model_module_version": "1.1.0",
      "model_name": "LayoutModel",
      "state": {}
     },
     "e452c1c0c476406eba1d3c349e94eff4": {
      "model_module": "@jupyter-widgets/controls",
      "model_module_version": "1.4.0",
      "model_name": "DropdownModel",
      "state": {
       "_options_labels": [
        "a",
        "b",
        "c"
       ],
       "index": 0,
       "layout": "IPY_MODEL_230bbf8fdc2d46f594db3a6116d7862b",
       "style": "IPY_MODEL_568b8054499d4a6ebb96b53474f267a5"
      }
     },
     "e462c38bdc9e4025bbf6575b7d97ba1e": {
      "model_module": "@jupyter-widgets/base",
      "model_module_version": "1.1.0",
      "model_name": "LayoutModel",
      "state": {}
     },
     "e464200ca03a4c12aeb57d2352a05035": {
      "model_module": "@jupyter-widgets/base",
      "model_module_version": "1.1.0",
      "model_name": "LayoutModel",
      "state": {}
     },
     "e6cef336786d43e994f38faad4b1752d": {
      "model_module": "@jupyter-widgets/controls",
      "model_module_version": "1.4.0",
      "model_name": "FloatTextModel",
      "state": {
       "layout": "IPY_MODEL_72b8f14e1cda4875be1c571f465198c8",
       "step": null,
       "style": "IPY_MODEL_b0dbef848f474e5f94c482e4d7e0b438",
       "value": 0.1
      }
     },
     "e7be19fb011c440e89eab9abc4874d67": {
      "model_module": "@jupyter-widgets/base",
      "model_module_version": "1.1.0",
      "model_name": "LayoutModel",
      "state": {}
     },
     "e97a0a6bdbf94cab80d82784db58f791": {
      "model_module": "@jupyter-widgets/controls",
      "model_module_version": "1.4.0",
      "model_name": "DescriptionStyleModel",
      "state": {
       "description_width": ""
      }
     },
     "e9dbfa356f0b4de6b0a4b76408b82c17": {
      "model_module": "@jupyter-widgets/base",
      "model_module_version": "1.1.0",
      "model_name": "LayoutModel",
      "state": {}
     },
     "ead4d9d4dc054428aeea5a22624922ec": {
      "model_module": "@jupyter-widgets/controls",
      "model_module_version": "1.4.0",
      "model_name": "DescriptionStyleModel",
      "state": {
       "description_width": ""
      }
     },
     "eaeec9689df94e8f93814a201bad9d27": {
      "model_module": "@jupyter-widgets/controls",
      "model_module_version": "1.4.0",
      "model_name": "CheckboxModel",
      "state": {
       "disabled": false,
       "layout": "IPY_MODEL_304ed70343df412caeedce84f7a61a73",
       "style": "IPY_MODEL_f5b78d2b78764f6d9f40e052abfdef6a",
       "value": false
      }
     },
     "ec15f483081f43c1be4da8adef7b187b": {
      "model_module": "@jupyter-widgets/base",
      "model_module_version": "1.1.0",
      "model_name": "LayoutModel",
      "state": {}
     },
     "ec9219573f984caea3dee5f4b35c3a22": {
      "model_module": "@jupyter-widgets/controls",
      "model_module_version": "1.4.0",
      "model_name": "DescriptionStyleModel",
      "state": {
       "description_width": ""
      }
     },
     "eddb70b312344415b82ebe6cacf33927": {
      "model_module": "@jupyter-widgets/base",
      "model_module_version": "1.1.0",
      "model_name": "LayoutModel",
      "state": {}
     },
     "ee282c5efe9246fbb18192bc66d377a9": {
      "model_module": "@jupyter-widgets/base",
      "model_module_version": "1.1.0",
      "model_name": "LayoutModel",
      "state": {}
     },
     "f0ec3b0de0d94fb6bcd4547050848050": {
      "model_module": "@jupyter-widgets/controls",
      "model_module_version": "1.4.0",
      "model_name": "CheckboxModel",
      "state": {
       "disabled": false,
       "layout": "IPY_MODEL_10aa3a27bfe34bf1915217a0a69d2aa7",
       "style": "IPY_MODEL_3e2c151bafaf4707ae355d70fa14d059",
       "value": false
      }
     },
     "f2110fb2ecfc489fa03fc2150a42c23c": {
      "model_module": "@jupyter-widgets/base",
      "model_module_version": "1.1.0",
      "model_name": "LayoutModel",
      "state": {}
     },
     "f227c615aa244e678224697d8cea1a7d": {
      "model_module": "@jupyter-widgets/controls",
      "model_module_version": "1.4.0",
      "model_name": "DescriptionStyleModel",
      "state": {
       "description_width": ""
      }
     },
     "f2e5bdb7e7ff4bf88a14c45233d47246": {
      "model_module": "@jupyter-widgets/controls",
      "model_module_version": "1.4.0",
      "model_name": "CheckboxModel",
      "state": {
       "disabled": false,
       "layout": "IPY_MODEL_b1136481d3bf43c7b7572abcf56abc8a",
       "style": "IPY_MODEL_2b52cac9f6024f3bb2e4e4e331edbee6",
       "value": false
      }
     },
     "f41623e478b9424eae26a0ff693a558a": {
      "model_module": "@jupyter-widgets/output",
      "model_module_version": "1.0.0",
      "model_name": "OutputModel",
      "state": {
       "layout": "IPY_MODEL_8757434b2cb349b8a3ec1cf65e5055e6"
      }
     },
     "f4832e05303440ba9dae3712afed2ef8": {
      "model_module": "@jupyter-widgets/base",
      "model_module_version": "1.1.0",
      "model_name": "LayoutModel",
      "state": {}
     },
     "f5b78d2b78764f6d9f40e052abfdef6a": {
      "model_module": "@jupyter-widgets/controls",
      "model_module_version": "1.4.0",
      "model_name": "DescriptionStyleModel",
      "state": {
       "description_width": ""
      }
     },
     "f5d63a782edd4aa095832233b7df7b61": {
      "model_module": "@jupyter-widgets/controls",
      "model_module_version": "1.4.0",
      "model_name": "DescriptionStyleModel",
      "state": {
       "description_width": ""
      }
     },
     "f5e20525e0a84ca892147595ae850b51": {
      "model_module": "@jupyter-widgets/controls",
      "model_module_version": "1.4.0",
      "model_name": "TextModel",
      "state": {
       "layout": "IPY_MODEL_73978e3fdb1d42258931f5d153d7432a",
       "style": "IPY_MODEL_c6179ea50a8e49f381427dd1a985db85",
       "value": "viridis"
      }
     },
     "f618578ef725439dbb4188252ea0e6d1": {
      "model_module": "@jupyter-widgets/controls",
      "model_module_version": "1.4.0",
      "model_name": "HBoxModel",
      "state": {
       "children": [
        "IPY_MODEL_394c601de3c94d21bac4ac74d0771fd8",
        "IPY_MODEL_297e3ba2ef254dc98f3aea1385141c76"
       ],
       "layout": "IPY_MODEL_acf08e1c5d7f4cf98e042c57ab91e57c"
      }
     },
     "f67bcbe7a984442680739b55424e7255": {
      "model_module": "@jupyter-widgets/base",
      "model_module_version": "1.1.0",
      "model_name": "LayoutModel",
      "state": {}
     },
     "f6e5926c81ae4736a4bc07ca319ca1e6": {
      "model_module": "@jupyter-widgets/controls",
      "model_module_version": "1.4.0",
      "model_name": "DescriptionStyleModel",
      "state": {
       "description_width": ""
      }
     },
     "f73baef8265b40a790d37dc7c695e3fc": {
      "model_module": "@jupyter-widgets/base",
      "model_module_version": "1.1.0",
      "model_name": "LayoutModel",
      "state": {}
     },
     "f776430743dc42bf9a06b48ef931b793": {
      "model_module": "@jupyter-widgets/controls",
      "model_module_version": "1.4.0",
      "model_name": "DescriptionStyleModel",
      "state": {
       "description_width": ""
      }
     },
     "f79e43fe78d94997a6718c9b8465c977": {
      "model_module": "@jupyter-widgets/controls",
      "model_module_version": "1.4.0",
      "model_name": "IntTextModel",
      "state": {
       "layout": "IPY_MODEL_508b807cde004264a86743902c750f18",
       "step": 1,
       "style": "IPY_MODEL_7300d33ed3864d3cbb17e93179fa6452",
       "value": 10
      }
     },
     "f93f93d2d43644a795b48b228edbbb0f": {
      "model_module": "@jupyter-widgets/controls",
      "model_module_version": "1.4.0",
      "model_name": "DescriptionStyleModel",
      "state": {
       "description_width": ""
      }
     },
     "f9a39234921641dcb6b781885fd49daf": {
      "model_module": "@jupyter-widgets/controls",
      "model_module_version": "1.4.0",
      "model_name": "TextModel",
      "state": {
       "layout": "IPY_MODEL_c255f933ca05432688c21796bc69eab0",
       "style": "IPY_MODEL_b83fdf2a60544a13be0cc18c7ce48f13",
       "value": ".2g"
      }
     },
     "f9f2601188cb49398662ca9dcbd9d6ca": {
      "model_module": "@jupyter-widgets/base",
      "model_module_version": "1.1.0",
      "model_name": "LayoutModel",
      "state": {}
     },
     "fa30595e59f140368bbfc9022308e387": {
      "model_module": "@jupyter-widgets/controls",
      "model_module_version": "1.4.0",
      "model_name": "CheckboxModel",
      "state": {
       "disabled": false,
       "layout": "IPY_MODEL_bc08b19147d1497496384baf839b4d4f",
       "style": "IPY_MODEL_5588e9ed4602456eb70ea960a5a01e5d",
       "value": false
      }
     },
     "fa77dc582b914e9f8152ace8810f26ee": {
      "model_module": "@jupyter-widgets/base",
      "model_module_version": "1.1.0",
      "model_name": "LayoutModel",
      "state": {}
     },
     "fad47c68ec5c4abeb08bafaec8d75e19": {
      "model_module": "@jupyter-widgets/controls",
      "model_module_version": "1.4.0",
      "model_name": "CheckboxModel",
      "state": {
       "disabled": false,
       "layout": "IPY_MODEL_a9f4e50dc44841d783403887bb311d3c",
       "style": "IPY_MODEL_f5d63a782edd4aa095832233b7df7b61",
       "value": false
      }
     },
     "fc575237a272443e99a8e3b3b8f7b613": {
      "model_module": "@jupyter-widgets/controls",
      "model_module_version": "1.4.0",
      "model_name": "CheckboxModel",
      "state": {
       "disabled": false,
       "layout": "IPY_MODEL_08bffd4800b5482cb4a87d137a57d53c",
       "style": "IPY_MODEL_96106e22bb0948afa633413ffbae5fad",
       "value": false
      }
     },
     "fe2ed0eff4574a86b9256f9513e97290": {
      "model_module": "@jupyter-widgets/controls",
      "model_module_version": "1.4.0",
      "model_name": "DescriptionStyleModel",
      "state": {
       "description_width": ""
      }
     },
     "fec5fb24003e48478e95225bfbebb321": {
      "model_module": "@jupyter-widgets/controls",
      "model_module_version": "1.4.0",
      "model_name": "DescriptionStyleModel",
      "state": {
       "description_width": ""
      }
     }
    },
    "version_major": 2,
    "version_minor": 0
   }
  }
 },
 "nbformat": 4,
 "nbformat_minor": 2
}
