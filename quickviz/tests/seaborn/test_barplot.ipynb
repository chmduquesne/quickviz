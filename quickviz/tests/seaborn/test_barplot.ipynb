{
 "cells": [
  {
   "cell_type": "code",
   "execution_count": 1,
   "metadata": {},
   "outputs": [],
   "source": [
    "\"\"\"setup\"\"\"\n",
    "import pandas as pd\n",
    "import pytest\n",
    "import sys\n",
    "sys.path.append('../..')\n",
    "from quickviz import visualize as v\n",
    "from vega_datasets import data"
   ]
  },
  {
   "cell_type": "code",
   "execution_count": 2,
   "metadata": {},
   "outputs": [
    {
     "data": {
      "application/vnd.jupyter.widget-view+json": {
       "model_id": "5403ea313af74b9db546848a2c1f3afe",
       "version_major": 2,
       "version_minor": 0
      },
      "text/plain": [
       "VBox()"
      ]
     },
     "metadata": {},
     "output_type": "display_data"
    },
    {
     "data": {
      "application/vnd.jupyter.widget-view+json": {
       "model_id": "fef5a97776e64a1992f5f487d9ac1632",
       "version_major": 2,
       "version_minor": 0
      },
      "text/plain": [
       "Output()"
      ]
     },
     "metadata": {},
     "output_type": "display_data"
    }
   ],
   "source": [
    "\"\"\"test_seaborn_barplot\"\"\"\n",
    "df = data.cars()\n",
    "plot = v(df, method=\"seaborn\")\n",
    "plot.load({'plot': 'barplot', 'kwargs': {'x': 'Origin', 'y': 'Miles_per_Gallon'}})\n",
    "plot.auto_update.value = True"
   ]
  }
 ],
 "metadata": {
  "kernelspec": {
   "display_name": "Python 3",
   "language": "python",
   "name": "python3"
  },
  "language_info": {
   "codemirror_mode": {
    "name": "ipython",
    "version": 3
   },
   "file_extension": ".py",
   "mimetype": "text/x-python",
   "name": "python",
   "nbconvert_exporter": "python",
   "pygments_lexer": "ipython3",
   "version": "3.7.0"
  },
  "widgets": {
   "application/vnd.jupyter.widget-state+json": {
    "state": {
     "001d79028d084d69aaa587a39e7902a4": {
      "model_module": "@jupyter-widgets/controls",
      "model_module_version": "1.4.0",
      "model_name": "DescriptionStyleModel",
      "state": {
       "description_width": ""
      }
     },
     "0043b4b15b5a404e855ba30ab9d45ec7": {
      "model_module": "@jupyter-widgets/controls",
      "model_module_version": "1.4.0",
      "model_name": "DropdownModel",
      "state": {
       "_options_labels": [
        "Acceleration",
        "Cylinders",
        "Displacement",
        "Horsepower",
        "Miles_per_Gallon",
        "Name",
        "Origin",
        "Weight_in_lbs",
        "Year"
       ],
       "index": 0,
       "layout": "IPY_MODEL_6949cb3e475348729f29305c63ded017",
       "style": "IPY_MODEL_6f622b14ba53438ab028c4654a96290f"
      }
     },
     "00479eda91a24c37988dd2257534a553": {
      "model_module": "@jupyter-widgets/controls",
      "model_module_version": "1.4.0",
      "model_name": "DescriptionStyleModel",
      "state": {
       "description_width": ""
      }
     },
     "0072d7ff7d7840dab5e42325b2195023": {
      "model_module": "@jupyter-widgets/base",
      "model_module_version": "1.1.0",
      "model_name": "LayoutModel",
      "state": {}
     },
     "00af68ee8ddb4d568790a55f5337b818": {
      "model_module": "@jupyter-widgets/controls",
      "model_module_version": "1.4.0",
      "model_name": "TextModel",
      "state": {
       "layout": "IPY_MODEL_f0b0c740d58941d78cbd75c3cf33c023",
       "style": "IPY_MODEL_7c151951a45d4abc85cf3cf8f842f5fa"
      }
     },
     "00c36a030a2a4ca1aa949c717a814ed0": {
      "model_module": "@jupyter-widgets/base",
      "model_module_version": "1.1.0",
      "model_name": "LayoutModel",
      "state": {}
     },
     "00fe6b23400143eea61841862eb9567c": {
      "model_module": "@jupyter-widgets/base",
      "model_module_version": "1.1.0",
      "model_name": "LayoutModel",
      "state": {}
     },
     "014e9796612543afb21a412ec7c1449d": {
      "model_module": "@jupyter-widgets/controls",
      "model_module_version": "1.4.0",
      "model_name": "CheckboxModel",
      "state": {
       "disabled": false,
       "layout": "IPY_MODEL_9f95e6c75e744ef0ad6837535714abeb",
       "style": "IPY_MODEL_7fc876a3d3cc4ab49d2d6143e856e6f6",
       "value": false
      }
     },
     "01871b5d30754ebcb7baa4478613218b": {
      "model_module": "@jupyter-widgets/base",
      "model_module_version": "1.1.0",
      "model_name": "LayoutModel",
      "state": {}
     },
     "018f244d74a944608628220d0fde8b5e": {
      "model_module": "@jupyter-widgets/controls",
      "model_module_version": "1.4.0",
      "model_name": "DropdownModel",
      "state": {
       "_options_labels": [
        "box",
        "quartile",
        "point",
        "stick"
       ],
       "index": 0,
       "layout": "IPY_MODEL_4a787d2ad5364b4bb3c8992a37a9dba7",
       "style": "IPY_MODEL_57adaac1f8564d70a1fa7265281dc4dd"
      }
     },
     "01a5d74eb09542fc8d43cd6fe731fb81": {
      "model_module": "@jupyter-widgets/controls",
      "model_module_version": "1.4.0",
      "model_name": "FloatTextModel",
      "state": {
       "layout": "IPY_MODEL_eb88559a60c54514a23b33784ef38dfe",
       "step": 0.1,
       "style": "IPY_MODEL_ed2249a9598f4b64bdc94a330c55bf69",
       "value": 1
      }
     },
     "01b1d1ff3fc941d19a47d356674176a9": {
      "model_module": "@jupyter-widgets/controls",
      "model_module_version": "1.4.0",
      "model_name": "CheckboxModel",
      "state": {
       "disabled": false,
       "layout": "IPY_MODEL_3caa93de7b1f4ee6879fbefcb70af75b",
       "style": "IPY_MODEL_9ce58edd0a9c47988ee451e563768047",
       "value": false
      }
     },
     "0210f6a2d88a4cb2a210fbfdf023b6f5": {
      "model_module": "@jupyter-widgets/base",
      "model_module_version": "1.1.0",
      "model_name": "LayoutModel",
      "state": {}
     },
     "0235d0420dc14c9789a421b5f8df2dff": {
      "model_module": "@jupyter-widgets/base",
      "model_module_version": "1.1.0",
      "model_name": "LayoutModel",
      "state": {}
     },
     "024f0067739743a984fdf4ac0fc95a50": {
      "model_module": "@jupyter-widgets/controls",
      "model_module_version": "1.4.0",
      "model_name": "CheckboxModel",
      "state": {
       "disabled": false,
       "layout": "IPY_MODEL_5a067182a86a41cda56e2f59a6bbf58f",
       "style": "IPY_MODEL_9abb0cbaccaf4e58a8c8055897ecf23f",
       "value": false
      }
     },
     "0261d754f60a4934904c73aa3ba62806": {
      "model_module": "@jupyter-widgets/controls",
      "model_module_version": "1.4.0",
      "model_name": "DescriptionStyleModel",
      "state": {
       "description_width": ""
      }
     },
     "0265e7ab05a84e05a458dffd73f9c241": {
      "model_module": "@jupyter-widgets/controls",
      "model_module_version": "1.4.0",
      "model_name": "CheckboxModel",
      "state": {
       "disabled": false,
       "layout": "IPY_MODEL_30adde58aa3e4d87935fef58d6396c58",
       "style": "IPY_MODEL_a19b81409b9f4e20b5f331cef354a95f",
       "value": false
      }
     },
     "0296a4a3d7ef4bf8876dd92b7a876df4": {
      "model_module": "@jupyter-widgets/controls",
      "model_module_version": "1.4.0",
      "model_name": "DescriptionStyleModel",
      "state": {
       "description_width": ""
      }
     },
     "029b4549240f446586ae3567b0dece25": {
      "model_module": "@jupyter-widgets/base",
      "model_module_version": "1.1.0",
      "model_name": "LayoutModel",
      "state": {}
     },
     "02b0658a204a4b3a8ea6c48982de7953": {
      "model_module": "@jupyter-widgets/controls",
      "model_module_version": "1.4.0",
      "model_name": "SliderStyleModel",
      "state": {
       "description_width": ""
      }
     },
     "031cd23b3c5241ac837ab3f8f55f7bfa": {
      "model_module": "@jupyter-widgets/controls",
      "model_module_version": "1.4.0",
      "model_name": "DescriptionStyleModel",
      "state": {
       "description_width": ""
      }
     },
     "032cd0aadce54645b87f4ec86cc93ace": {
      "model_module": "@jupyter-widgets/controls",
      "model_module_version": "1.4.0",
      "model_name": "CheckboxModel",
      "state": {
       "disabled": false,
       "layout": "IPY_MODEL_a07e54d893dd4a71ba46c50bb9be5281",
       "style": "IPY_MODEL_5e7cd8b8d2714409a9f7cbe45f999269",
       "value": false
      }
     },
     "034e3ce948e34e4090f2c3b57542a5e3": {
      "model_module": "@jupyter-widgets/controls",
      "model_module_version": "1.4.0",
      "model_name": "DescriptionStyleModel",
      "state": {
       "description_width": ""
      }
     },
     "03848565d3cf4195968aeb0c199d80d0": {
      "model_module": "@jupyter-widgets/base",
      "model_module_version": "1.1.0",
      "model_name": "LayoutModel",
      "state": {}
     },
     "03861700c8564e0880a42fcc321b68ed": {
      "model_module": "@jupyter-widgets/controls",
      "model_module_version": "1.4.0",
      "model_name": "DescriptionStyleModel",
      "state": {
       "description_width": ""
      }
     },
     "0388d5f06575456098198b3d0b51c9e2": {
      "model_module": "@jupyter-widgets/base",
      "model_module_version": "1.1.0",
      "model_name": "LayoutModel",
      "state": {}
     },
     "038b6f96f6284733a0fa5ad6b96c194c": {
      "model_module": "@jupyter-widgets/controls",
      "model_module_version": "1.4.0",
      "model_name": "DescriptionStyleModel",
      "state": {
       "description_width": ""
      }
     },
     "03a02a2cd6874193b784c76e54feda95": {
      "model_module": "@jupyter-widgets/controls",
      "model_module_version": "1.4.0",
      "model_name": "ButtonStyleModel",
      "state": {}
     },
     "03a7540cf2a2403796128b898873beb1": {
      "model_module": "@jupyter-widgets/base",
      "model_module_version": "1.1.0",
      "model_name": "LayoutModel",
      "state": {}
     },
     "03daa8994fb145889970b9d320a80832": {
      "model_module": "@jupyter-widgets/controls",
      "model_module_version": "1.4.0",
      "model_name": "DescriptionStyleModel",
      "state": {
       "description_width": ""
      }
     },
     "0441a33c6c324c2a9f2102cfb2adc99a": {
      "model_module": "@jupyter-widgets/base",
      "model_module_version": "1.1.0",
      "model_name": "LayoutModel",
      "state": {}
     },
     "04600b464c594ccdb31db10e4074252c": {
      "model_module": "@jupyter-widgets/base",
      "model_module_version": "1.1.0",
      "model_name": "LayoutModel",
      "state": {}
     },
     "0480b21d9ae2469194368c57c57ad27b": {
      "model_module": "@jupyter-widgets/base",
      "model_module_version": "1.1.0",
      "model_name": "LayoutModel",
      "state": {}
     },
     "04819af3723145028627057928c1dc14": {
      "model_module": "@jupyter-widgets/controls",
      "model_module_version": "1.4.0",
      "model_name": "CheckboxModel",
      "state": {
       "disabled": false,
       "layout": "IPY_MODEL_7ceb77f2a1954d79b437e135abaa12d8",
       "style": "IPY_MODEL_aea296f87c1d461a8d0541794b92f17c",
       "value": false
      }
     },
     "048a38994e2c405a8ad9b1fa153c6866": {
      "model_module": "@jupyter-widgets/base",
      "model_module_version": "1.1.0",
      "model_name": "LayoutModel",
      "state": {}
     },
     "049985ce44c549818f5e82b6c9e7b1aa": {
      "model_module": "@jupyter-widgets/controls",
      "model_module_version": "1.4.0",
      "model_name": "DescriptionStyleModel",
      "state": {
       "description_width": ""
      }
     },
     "04bb857ff2f44deebc48fcd8abedfa47": {
      "model_module": "@jupyter-widgets/controls",
      "model_module_version": "1.4.0",
      "model_name": "DropdownModel",
      "state": {
       "_options_labels": [
        "petalLength",
        "petalWidth",
        "sepalLength",
        "sepalWidth",
        "species"
       ],
       "index": 0,
       "layout": "IPY_MODEL_f81fb621d13f4e1db43b94972483437f",
       "style": "IPY_MODEL_876117bff52041979dc287e4a2ac8852"
      }
     },
     "04eeb400ed0346abab5ec6565ec673dc": {
      "model_module": "@jupyter-widgets/base",
      "model_module_version": "1.1.0",
      "model_name": "LayoutModel",
      "state": {}
     },
     "05151ab723454dc09f3098e75b725bf7": {
      "model_module": "@jupyter-widgets/controls",
      "model_module_version": "1.4.0",
      "model_name": "CheckboxModel",
      "state": {
       "disabled": false,
       "layout": "IPY_MODEL_661ec6554a0d41569bda2582a1c96c75",
       "style": "IPY_MODEL_fcdbf9d3f8784ddc8613bbaf20412451",
       "value": false
      }
     },
     "052072c603ad4809bb01bc5a8fc1afcc": {
      "model_module": "@jupyter-widgets/controls",
      "model_module_version": "1.4.0",
      "model_name": "DescriptionStyleModel",
      "state": {
       "description_width": ""
      }
     },
     "0590201c61dc4c38809ba90146536b35": {
      "model_module": "@jupyter-widgets/controls",
      "model_module_version": "1.4.0",
      "model_name": "DescriptionStyleModel",
      "state": {
       "description_width": ""
      }
     },
     "05a900d0574d43bab594d44288bb8f50": {
      "model_module": "@jupyter-widgets/base",
      "model_module_version": "1.1.0",
      "model_name": "LayoutModel",
      "state": {}
     },
     "05d3dd453f4e4f8095fa4a04b5fdd09b": {
      "model_module": "@jupyter-widgets/base",
      "model_module_version": "1.1.0",
      "model_name": "LayoutModel",
      "state": {}
     },
     "05d47fb2b9324f30b25ff122c7782abd": {
      "model_module": "@jupyter-widgets/controls",
      "model_module_version": "1.4.0",
      "model_name": "CheckboxModel",
      "state": {
       "disabled": false,
       "layout": "IPY_MODEL_fd66e0763475427f8e9bdb60bcbe1cdf",
       "style": "IPY_MODEL_46dc8ef8d6524b648bf907a45f6b9a80",
       "value": false
      }
     },
     "05ede9ad6dbf4f90937adcbbc0e4f81f": {
      "model_module": "@jupyter-widgets/controls",
      "model_module_version": "1.4.0",
      "model_name": "CheckboxModel",
      "state": {
       "disabled": false,
       "layout": "IPY_MODEL_108d4dd5a8fc4e758338d64266b29b10",
       "style": "IPY_MODEL_f16f962b6ede4a6f8deb2dec1b65e1a4",
       "value": false
      }
     },
     "05f5df37f7cb4c5eb9c90f38cb1cb375": {
      "model_module": "@jupyter-widgets/controls",
      "model_module_version": "1.4.0",
      "model_name": "HBoxModel",
      "state": {
       "children": [
        "IPY_MODEL_89379c6186654089bdbf466ec111cf1d",
        "IPY_MODEL_f2f3ce9dbe3840bfa89a5ddd1f58ed47"
       ],
       "layout": "IPY_MODEL_0876ad13ff60487bbe1627df70b4e5e5"
      }
     },
     "06036c1a69294b95a6754b5f2e97bba6": {
      "model_module": "@jupyter-widgets/controls",
      "model_module_version": "1.4.0",
      "model_name": "DropdownModel",
      "state": {
       "_options_labels": [
        "Acceleration",
        "Cylinders",
        "Displacement",
        "Horsepower",
        "Miles_per_Gallon",
        "Name",
        "Origin",
        "Weight_in_lbs",
        "Year"
       ],
       "index": 0,
       "layout": "IPY_MODEL_f2b72321ebc84c65a66bedc1f792d32e",
       "style": "IPY_MODEL_9e83850ef9fd414a87919ada974a840d"
      }
     },
     "062d3ae7e3af429dbea253366fac72c2": {
      "model_module": "@jupyter-widgets/controls",
      "model_module_version": "1.4.0",
      "model_name": "DescriptionStyleModel",
      "state": {
       "description_width": ""
      }
     },
     "062d40b364af48f5802b7097fe492dbf": {
      "model_module": "@jupyter-widgets/controls",
      "model_module_version": "1.4.0",
      "model_name": "FloatTextModel",
      "state": {
       "layout": "IPY_MODEL_b1b1837f319a47c383db5e618915e874",
       "step": null,
       "style": "IPY_MODEL_140e05426d344eb6bc207ed4116583bb",
       "value": 0.1
      }
     },
     "06cc34171b3e423baa9eedb36dfd1cc7": {
      "model_module": "@jupyter-widgets/controls",
      "model_module_version": "1.4.0",
      "model_name": "DropdownModel",
      "state": {
       "_options_labels": [
        "linear",
        "exponential",
        "area"
       ],
       "index": 0,
       "layout": "IPY_MODEL_8c8c0cfab6f9467a841080e2fff26ee8",
       "style": "IPY_MODEL_44e13cfac7d04a9285999b27ac3acbbe"
      }
     },
     "06e9b6daea0045a7a67b68a4493215e0": {
      "model_module": "@jupyter-widgets/controls",
      "model_module_version": "1.4.0",
      "model_name": "DescriptionStyleModel",
      "state": {
       "description_width": ""
      }
     },
     "0700303e8fc74f2188ee26dd655af734": {
      "model_module": "@jupyter-widgets/base",
      "model_module_version": "1.1.0",
      "model_name": "LayoutModel",
      "state": {}
     },
     "072b1ae5650044bda775ebf0dad860fc": {
      "model_module": "@jupyter-widgets/controls",
      "model_module_version": "1.4.0",
      "model_name": "DescriptionStyleModel",
      "state": {
       "description_width": ""
      }
     },
     "073d26a2c6b046b096b2572f874c23c5": {
      "model_module": "@jupyter-widgets/controls",
      "model_module_version": "1.4.0",
      "model_name": "DescriptionStyleModel",
      "state": {
       "description_width": ""
      }
     },
     "075eb74a827c4996b713676c7703a7fe": {
      "model_module": "@jupyter-widgets/base",
      "model_module_version": "1.1.0",
      "model_name": "LayoutModel",
      "state": {}
     },
     "076f06ce51074836b594379c27a6c50f": {
      "model_module": "@jupyter-widgets/base",
      "model_module_version": "1.1.0",
      "model_name": "LayoutModel",
      "state": {}
     },
     "0784a4af5fdf4fd2a90c4868ac89ab4a": {
      "model_module": "@jupyter-widgets/base",
      "model_module_version": "1.1.0",
      "model_name": "LayoutModel",
      "state": {}
     },
     "07b6bab38588499cac8a8dcef2998be9": {
      "model_module": "@jupyter-widgets/base",
      "model_module_version": "1.1.0",
      "model_name": "LayoutModel",
      "state": {}
     },
     "07ca9b55bc234204a846e8332bd38d98": {
      "model_module": "@jupyter-widgets/base",
      "model_module_version": "1.1.0",
      "model_name": "LayoutModel",
      "state": {}
     },
     "07d0bc12577041d1ad606309c49dcf6f": {
      "model_module": "@jupyter-widgets/base",
      "model_module_version": "1.1.0",
      "model_name": "LayoutModel",
      "state": {}
     },
     "07e1e314d93c4fe59f49b31f5833df41": {
      "model_module": "@jupyter-widgets/controls",
      "model_module_version": "1.4.0",
      "model_name": "CheckboxModel",
      "state": {
       "disabled": false,
       "layout": "IPY_MODEL_0cc26c50682341d7981f0a067b142b21",
       "style": "IPY_MODEL_c956adaf06ea402a88f77e9aa6883f23",
       "value": false
      }
     },
     "085659b2ada5467782cda274b89b9cb1": {
      "model_module": "@jupyter-widgets/controls",
      "model_module_version": "1.4.0",
      "model_name": "DropdownModel",
      "state": {
       "_options_labels": [
        "scatter",
        "line"
       ],
       "index": 0,
       "layout": "IPY_MODEL_4f005a381159400fb89c0f464d198ad8",
       "style": "IPY_MODEL_31631ec90e9b4401b77a9ed652e9f644"
      }
     },
     "085c14ee5393421fbdeaa37a79ec3798": {
      "model_module": "@jupyter-widgets/base",
      "model_module_version": "1.1.0",
      "model_name": "LayoutModel",
      "state": {}
     },
     "0876ad13ff60487bbe1627df70b4e5e5": {
      "model_module": "@jupyter-widgets/base",
      "model_module_version": "1.1.0",
      "model_name": "LayoutModel",
      "state": {}
     },
     "089218c58c1545a2af33a3de4bcace48": {
      "model_module": "@jupyter-widgets/controls",
      "model_module_version": "1.4.0",
      "model_name": "FloatTextModel",
      "state": {
       "layout": "IPY_MODEL_a951d3abbd694ad4890bd390fc573882",
       "step": null,
       "style": "IPY_MODEL_25b5d52a8f4749bbb70a6844770c9139",
       "value": 0.1
      }
     },
     "089bbae46b3a48af9ff9b7e99d9518e0": {
      "model_module": "@jupyter-widgets/base",
      "model_module_version": "1.1.0",
      "model_name": "LayoutModel",
      "state": {}
     },
     "08b3728e263e40a0b276b5b6ac94cc1b": {
      "model_module": "@jupyter-widgets/controls",
      "model_module_version": "1.4.0",
      "model_name": "LabelModel",
      "state": {
       "layout": "IPY_MODEL_2d053274a97b4908aad22a47d48b93b6",
       "style": "IPY_MODEL_0c7eadcb46ea4454aad3adcea2fc6d30",
       "value": "---"
      }
     },
     "08d2f241af264d6da6cddde3b7ca262f": {
      "model_module": "@jupyter-widgets/base",
      "model_module_version": "1.1.0",
      "model_name": "LayoutModel",
      "state": {}
     },
     "08d556069afc4f228af1608a440ab073": {
      "model_module": "@jupyter-widgets/base",
      "model_module_version": "1.1.0",
      "model_name": "LayoutModel",
      "state": {}
     },
     "091e06147cb847419b3d6b1db64eee07": {
      "model_module": "@jupyter-widgets/controls",
      "model_module_version": "1.4.0",
      "model_name": "DescriptionStyleModel",
      "state": {
       "description_width": ""
      }
     },
     "0930a3e6325a427c9859f4c2bf5ea52a": {
      "model_module": "@jupyter-widgets/controls",
      "model_module_version": "1.4.0",
      "model_name": "SliderStyleModel",
      "state": {
       "description_width": ""
      }
     },
     "0934cfc5cf8c4c28845d736e7e07323e": {
      "model_module": "@jupyter-widgets/controls",
      "model_module_version": "1.4.0",
      "model_name": "DescriptionStyleModel",
      "state": {
       "description_width": ""
      }
     },
     "09a67d45342f41aeaeac2f1c72d12d26": {
      "model_module": "@jupyter-widgets/base",
      "model_module_version": "1.1.0",
      "model_name": "LayoutModel",
      "state": {}
     },
     "09d0c5d394e448cfac51176f57d92fa5": {
      "model_module": "@jupyter-widgets/controls",
      "model_module_version": "1.4.0",
      "model_name": "FloatTextModel",
      "state": {
       "layout": "IPY_MODEL_e3dc83e837c44d03a5e3896e1a5fe296",
       "step": null,
       "style": "IPY_MODEL_53066eaedc6c469aa42807dd66232615",
       "value": 1
      }
     },
     "09f8210716904ce195e435047c25b4f7": {
      "model_module": "@jupyter-widgets/controls",
      "model_module_version": "1.4.0",
      "model_name": "CheckboxModel",
      "state": {
       "disabled": false,
       "layout": "IPY_MODEL_9f07c11ca6e947508aa98cd3b479f70f",
       "style": "IPY_MODEL_9c512aa266924d08860ad424a7b865e6",
       "value": false
      }
     },
     "0a3d094add0343d682a1382eaceef419": {
      "model_module": "@jupyter-widgets/controls",
      "model_module_version": "1.4.0",
      "model_name": "HBoxModel",
      "state": {
       "children": [
        "IPY_MODEL_ff9c9975b6354d948a9057629a7ef657"
       ],
       "layout": "IPY_MODEL_cd48ea5ffec44bc68574baf52fee465a"
      }
     },
     "0a568293605945d2b4c731042c9f1531": {
      "model_module": "@jupyter-widgets/controls",
      "model_module_version": "1.4.0",
      "model_name": "DescriptionStyleModel",
      "state": {
       "description_width": ""
      }
     },
     "0a7eefb487334842987cfacbd966cc5a": {
      "model_module": "@jupyter-widgets/controls",
      "model_module_version": "1.4.0",
      "model_name": "DescriptionStyleModel",
      "state": {
       "description_width": ""
      }
     },
     "0aa7ddf00c214dfdaad20e3851fb7431": {
      "model_module": "@jupyter-widgets/base",
      "model_module_version": "1.1.0",
      "model_name": "LayoutModel",
      "state": {}
     },
     "0ab0b462ff9341caa40c4282a2784002": {
      "model_module": "@jupyter-widgets/controls",
      "model_module_version": "1.4.0",
      "model_name": "CheckboxModel",
      "state": {
       "disabled": false,
       "layout": "IPY_MODEL_2f678c8980304dbead049e9fa90bac02",
       "style": "IPY_MODEL_23414788e9ec4030a473858a5c492c4d",
       "value": false
      }
     },
     "0abf55887fc44496b9349feb2181f7a4": {
      "model_module": "@jupyter-widgets/base",
      "model_module_version": "1.1.0",
      "model_name": "LayoutModel",
      "state": {}
     },
     "0b434f5149ae41878ddf3781fb33c559": {
      "model_module": "@jupyter-widgets/controls",
      "model_module_version": "1.4.0",
      "model_name": "SliderStyleModel",
      "state": {
       "description_width": ""
      }
     },
     "0b514aee5d4449148c50994d1fb7a50f": {
      "model_module": "@jupyter-widgets/controls",
      "model_module_version": "1.4.0",
      "model_name": "DescriptionStyleModel",
      "state": {
       "description_width": ""
      }
     },
     "0b59fe4200df4fb68d26ab17dfb208e0": {
      "model_module": "@jupyter-widgets/controls",
      "model_module_version": "1.4.0",
      "model_name": "DescriptionStyleModel",
      "state": {
       "description_width": ""
      }
     },
     "0b7830ba0251402790684374ba4b55b7": {
      "model_module": "@jupyter-widgets/base",
      "model_module_version": "1.1.0",
      "model_name": "LayoutModel",
      "state": {}
     },
     "0c0e9f9d6b5744a398558b6fc0b3dadc": {
      "model_module": "@jupyter-widgets/base",
      "model_module_version": "1.1.0",
      "model_name": "LayoutModel",
      "state": {}
     },
     "0c224c9e8b214b9dbfc42a36ec10b421": {
      "model_module": "@jupyter-widgets/controls",
      "model_module_version": "1.4.0",
      "model_name": "DescriptionStyleModel",
      "state": {
       "description_width": ""
      }
     },
     "0c71c679c75148759174d788db3bf8c9": {
      "model_module": "@jupyter-widgets/controls",
      "model_module_version": "1.4.0",
      "model_name": "FloatTextModel",
      "state": {
       "layout": "IPY_MODEL_f87c9a2f34b1488b95e82ec6b100fdab",
       "step": null,
       "style": "IPY_MODEL_5d73ad80f30f4b90b826d9c8fb5b4544",
       "value": 1
      }
     },
     "0c7eadcb46ea4454aad3adcea2fc6d30": {
      "model_module": "@jupyter-widgets/controls",
      "model_module_version": "1.4.0",
      "model_name": "DescriptionStyleModel",
      "state": {
       "description_width": ""
      }
     },
     "0c872ffe3cbb4a7499355d8dd4959019": {
      "model_module": "@jupyter-widgets/controls",
      "model_module_version": "1.4.0",
      "model_name": "LabelModel",
      "state": {
       "layout": "IPY_MODEL_5f2588e8ccd8425789b632c0caccc0e2",
       "style": "IPY_MODEL_5e51b17b7ded4cf98dec7e6c978ab3d1",
       "value": "---"
      }
     },
     "0c9e3ea9a19741c29471f72833dcde53": {
      "model_module": "@jupyter-widgets/controls",
      "model_module_version": "1.4.0",
      "model_name": "CheckboxModel",
      "state": {
       "disabled": false,
       "layout": "IPY_MODEL_6dacd761b2134613a2efe924a6ca242d",
       "style": "IPY_MODEL_9d750d9d7d5044b29686033288037757",
       "value": false
      }
     },
     "0cc26c50682341d7981f0a067b142b21": {
      "model_module": "@jupyter-widgets/base",
      "model_module_version": "1.1.0",
      "model_name": "LayoutModel",
      "state": {}
     },
     "0cf2081861f24876b469d0ae1889bb9f": {
      "model_module": "@jupyter-widgets/base",
      "model_module_version": "1.1.0",
      "model_name": "LayoutModel",
      "state": {}
     },
     "0d0e031d68374ccc851fdefbc4d2742d": {
      "model_module": "@jupyter-widgets/controls",
      "model_module_version": "1.4.0",
      "model_name": "DescriptionStyleModel",
      "state": {
       "description_width": ""
      }
     },
     "0d27b68de00e4b69bb66795ad3f60f0d": {
      "model_module": "@jupyter-widgets/controls",
      "model_module_version": "1.4.0",
      "model_name": "DescriptionStyleModel",
      "state": {
       "description_width": ""
      }
     },
     "0d50509784c74255b3d5aacd9614e6e6": {
      "model_module": "@jupyter-widgets/base",
      "model_module_version": "1.1.0",
      "model_name": "LayoutModel",
      "state": {}
     },
     "0dab6c7a47b4456791f296be1806d719": {
      "model_module": "@jupyter-widgets/controls",
      "model_module_version": "1.4.0",
      "model_name": "DescriptionStyleModel",
      "state": {
       "description_width": ""
      }
     },
     "0dc281e467f34ac792a9938d46aaaa85": {
      "model_module": "@jupyter-widgets/controls",
      "model_module_version": "1.4.0",
      "model_name": "DescriptionStyleModel",
      "state": {
       "description_width": ""
      }
     },
     "0dc82dd3fb7846a28ac2b99865aff3e9": {
      "model_module": "@jupyter-widgets/controls",
      "model_module_version": "1.4.0",
      "model_name": "DescriptionStyleModel",
      "state": {
       "description_width": ""
      }
     },
     "0de7e360ddf047fbba6515a2b3bc50ee": {
      "model_module": "@jupyter-widgets/controls",
      "model_module_version": "1.4.0",
      "model_name": "DescriptionStyleModel",
      "state": {
       "description_width": ""
      }
     },
     "0dedfa885a2a48c493ffedbc1a395d96": {
      "model_module": "@jupyter-widgets/base",
      "model_module_version": "1.1.0",
      "model_name": "LayoutModel",
      "state": {}
     },
     "0e16ddf4e91b4e5c93f31fee96cc153c": {
      "model_module": "@jupyter-widgets/controls",
      "model_module_version": "1.4.0",
      "model_name": "TextModel",
      "state": {
       "layout": "IPY_MODEL_c01147189af64740a8131a31b081c2f3",
       "style": "IPY_MODEL_97857b56aa024bf6ab601b631ba876ce",
       "value": "g"
      }
     },
     "0e5084c1f3e34873b46d482f120f22f7": {
      "model_module": "@jupyter-widgets/controls",
      "model_module_version": "1.4.0",
      "model_name": "DropdownModel",
      "state": {
       "_options_labels": [
        "True",
        "col",
        "row"
       ],
       "index": 0,
       "layout": "IPY_MODEL_a4e2f196350242a188ee3d50209fe77f",
       "style": "IPY_MODEL_67dfb0e7d77d4152bbe0ceda8603ba51"
      }
     },
     "0e5eac6b76174c1dbe897c650f59e4ba": {
      "model_module": "@jupyter-widgets/base",
      "model_module_version": "1.1.0",
      "model_name": "LayoutModel",
      "state": {}
     },
     "0f386347d8164602b8631fea92f19757": {
      "model_module": "@jupyter-widgets/controls",
      "model_module_version": "1.4.0",
      "model_name": "DescriptionStyleModel",
      "state": {
       "description_width": ""
      }
     },
     "0f59459dd1ac42b89234aa8f587c32ea": {
      "model_module": "@jupyter-widgets/base",
      "model_module_version": "1.1.0",
      "model_name": "LayoutModel",
      "state": {}
     },
     "0f87359fe8334ac3854590e9dda660b9": {
      "model_module": "@jupyter-widgets/controls",
      "model_module_version": "1.4.0",
      "model_name": "CheckboxModel",
      "state": {
       "disabled": false,
       "layout": "IPY_MODEL_00c36a030a2a4ca1aa949c717a814ed0",
       "style": "IPY_MODEL_9d8748d665024d1189cbdd710a7e6b06",
       "value": false
      }
     },
     "0f910bf16a294a5683aa11c2bc620b87": {
      "model_module": "@jupyter-widgets/controls",
      "model_module_version": "1.4.0",
      "model_name": "CheckboxModel",
      "state": {
       "disabled": false,
       "layout": "IPY_MODEL_9122118b2c4441e0b24c5c73ea462abe",
       "style": "IPY_MODEL_598a42a6df284e0c8b4a506e8bee0c29",
       "value": false
      }
     },
     "10039d72d6ea4a3ab2bfd38a2a409197": {
      "model_module": "@jupyter-widgets/controls",
      "model_module_version": "1.4.0",
      "model_name": "DescriptionStyleModel",
      "state": {
       "description_width": ""
      }
     },
     "102d86f7ce9c4e7bb32aef7be79af473": {
      "model_module": "@jupyter-widgets/controls",
      "model_module_version": "1.4.0",
      "model_name": "DescriptionStyleModel",
      "state": {
       "description_width": ""
      }
     },
     "103bdc4e9300418cb13a73bca5a52442": {
      "model_module": "@jupyter-widgets/controls",
      "model_module_version": "1.4.0",
      "model_name": "CheckboxModel",
      "state": {
       "disabled": false,
       "layout": "IPY_MODEL_3e3b5df93d6e4aebad3c84a24753e727",
       "style": "IPY_MODEL_fa955c85366646d3934e733f44f22060",
       "value": false
      }
     },
     "10594161dbfd49d0847f350798e9a8eb": {
      "model_module": "@jupyter-widgets/controls",
      "model_module_version": "1.4.0",
      "model_name": "FloatTextModel",
      "state": {
       "layout": "IPY_MODEL_73eea9d05aa040508d4d2ea74cc4bed5",
       "step": 0.1,
       "style": "IPY_MODEL_477f5ddab4314b298b82e649ce4db46f",
       "value": 1
      }
     },
     "108d4dd5a8fc4e758338d64266b29b10": {
      "model_module": "@jupyter-widgets/base",
      "model_module_version": "1.1.0",
      "model_name": "LayoutModel",
      "state": {}
     },
     "10f4731fe0c444acae309dbd2fea0b8a": {
      "model_module": "@jupyter-widgets/base",
      "model_module_version": "1.1.0",
      "model_name": "LayoutModel",
      "state": {}
     },
     "110fafc2324c430183d8614cddf5a970": {
      "model_module": "@jupyter-widgets/base",
      "model_module_version": "1.1.0",
      "model_name": "LayoutModel",
      "state": {}
     },
     "117d40a4009d4363a77892c9ae36ba19": {
      "model_module": "@jupyter-widgets/controls",
      "model_module_version": "1.4.0",
      "model_name": "CheckboxModel",
      "state": {
       "disabled": false,
       "layout": "IPY_MODEL_ced7786805e34a529679e920fed6c26b",
       "style": "IPY_MODEL_49327ddb2f234a089517f4730e0edf3f",
       "value": false
      }
     },
     "11a251f2ca19432e8799747aa6702a60": {
      "model_module": "@jupyter-widgets/base",
      "model_module_version": "1.1.0",
      "model_name": "LayoutModel",
      "state": {}
     },
     "11e0111e0d0d45f885d48a7320552d76": {
      "model_module": "@jupyter-widgets/base",
      "model_module_version": "1.1.0",
      "model_name": "LayoutModel",
      "state": {}
     },
     "1209038817d94fce9db206e9aa445f3a": {
      "model_module": "@jupyter-widgets/controls",
      "model_module_version": "1.4.0",
      "model_name": "DropdownModel",
      "state": {
       "_options_labels": [
        "scott",
        "silverman"
       ],
       "index": 0,
       "layout": "IPY_MODEL_73dee00cf8d346658a1664d0398be254",
       "style": "IPY_MODEL_9f63bc3aac594bf494a21c72b7a7d215"
      }
     },
     "12177b1c82e0400baf518e30c99a51e9": {
      "model_module": "@jupyter-widgets/base",
      "model_module_version": "1.1.0",
      "model_name": "LayoutModel",
      "state": {}
     },
     "121d05d6886d423eb32aaee78edf3b0a": {
      "model_module": "@jupyter-widgets/controls",
      "model_module_version": "1.4.0",
      "model_name": "DescriptionStyleModel",
      "state": {
       "description_width": ""
      }
     },
     "12323b2102e64d09b7baf987f9b9ed18": {
      "model_module": "@jupyter-widgets/controls",
      "model_module_version": "1.4.0",
      "model_name": "DescriptionStyleModel",
      "state": {
       "description_width": ""
      }
     },
     "1249f90f58964b889937f5e63c0c7005": {
      "model_module": "@jupyter-widgets/base",
      "model_module_version": "1.1.0",
      "model_name": "LayoutModel",
      "state": {}
     },
     "1283674a6a154ce58de430bf9a1f3d4c": {
      "model_module": "@jupyter-widgets/base",
      "model_module_version": "1.1.0",
      "model_name": "LayoutModel",
      "state": {}
     },
     "129e1e1b11354f4581d15521ddb0b99c": {
      "model_module": "@jupyter-widgets/controls",
      "model_module_version": "1.4.0",
      "model_name": "IntTextModel",
      "state": {
       "layout": "IPY_MODEL_b8d02f9508d5454988fee089d95d3dc9",
       "step": 1,
       "style": "IPY_MODEL_cadc9b184f4e482b8f8ad37bcd32fab1",
       "value": 10
      }
     },
     "129f3afe579f44ac9ca64a845d35822b": {
      "model_module": "@jupyter-widgets/base",
      "model_module_version": "1.1.0",
      "model_name": "LayoutModel",
      "state": {}
     },
     "12ad9c1f3ffc48658e39aa7830a72a46": {
      "model_module": "@jupyter-widgets/base",
      "model_module_version": "1.1.0",
      "model_name": "LayoutModel",
      "state": {}
     },
     "12c2f899df8f4a539226dc95d3c58db3": {
      "model_module": "@jupyter-widgets/controls",
      "model_module_version": "1.4.0",
      "model_name": "DropdownModel",
      "state": {
       "_options_labels": [
        "box",
        "quartile",
        "point",
        "stick"
       ],
       "index": 0,
       "layout": "IPY_MODEL_957a41daa3294b4ca4fa6daf85926a08",
       "style": "IPY_MODEL_553899c8e8ed401f8f6cffbe402bdfde"
      }
     },
     "12cd98f1ee574145bedce980a85704b1": {
      "model_module": "@jupyter-widgets/base",
      "model_module_version": "1.1.0",
      "model_name": "LayoutModel",
      "state": {}
     },
     "12df07aa1a7c4dcabfb41b3490be1671": {
      "model_module": "@jupyter-widgets/controls",
      "model_module_version": "1.4.0",
      "model_name": "DescriptionStyleModel",
      "state": {
       "description_width": ""
      }
     },
     "134a2fb926a9480b8514ab3eb7f40600": {
      "model_module": "@jupyter-widgets/controls",
      "model_module_version": "1.4.0",
      "model_name": "CheckboxModel",
      "state": {
       "disabled": false,
       "layout": "IPY_MODEL_4f38493f4e3c4bdfb5fcf2e2b7702f9d",
       "style": "IPY_MODEL_b271bea1c6644b8298f7d43ee56e3487",
       "value": false
      }
     },
     "1361dea5bbf44af9a1c20a5264c4c20a": {
      "model_module": "@jupyter-widgets/controls",
      "model_module_version": "1.4.0",
      "model_name": "CheckboxModel",
      "state": {
       "description": "auto-update",
       "disabled": false,
       "layout": "IPY_MODEL_55b5daab900c4fffa85bd9537deae649",
       "style": "IPY_MODEL_fd323f697cbb43c8a628ae1c000c8df0",
       "value": true
      }
     },
     "13a98ea70bfc4640aaa50194de6a5809": {
      "model_module": "@jupyter-widgets/base",
      "model_module_version": "1.1.0",
      "model_name": "LayoutModel",
      "state": {}
     },
     "13afd515c89a4812a893e60d56016223": {
      "model_module": "@jupyter-widgets/controls",
      "model_module_version": "1.4.0",
      "model_name": "FloatTextModel",
      "state": {
       "layout": "IPY_MODEL_7075cdc2f5144e3bbbbf96546e858228",
       "step": null,
       "style": "IPY_MODEL_a3abf8e0e71a463498c3c6227e22526d",
       "value": 1
      }
     },
     "13b5a7b4800342d6a0f7ebe369438026": {
      "model_module": "@jupyter-widgets/base",
      "model_module_version": "1.1.0",
      "model_name": "LayoutModel",
      "state": {}
     },
     "13e57d4514d544feb8c862277fed23c1": {
      "model_module": "@jupyter-widgets/controls",
      "model_module_version": "1.4.0",
      "model_name": "DescriptionStyleModel",
      "state": {
       "description_width": ""
      }
     },
     "140e05426d344eb6bc207ed4116583bb": {
      "model_module": "@jupyter-widgets/controls",
      "model_module_version": "1.4.0",
      "model_name": "DescriptionStyleModel",
      "state": {
       "description_width": ""
      }
     },
     "141f286bf9dd42a580a56312857c7174": {
      "model_module": "@jupyter-widgets/controls",
      "model_module_version": "1.4.0",
      "model_name": "CheckboxModel",
      "state": {
       "disabled": false,
       "layout": "IPY_MODEL_b60133c6f8a84a99b6698f75c6311011",
       "style": "IPY_MODEL_2d00f6e7f0e44a3abee8bedac134d69c",
       "value": false
      }
     },
     "14bd7c4235b7430caeb0d87ad5eefd97": {
      "model_module": "@jupyter-widgets/base",
      "model_module_version": "1.1.0",
      "model_name": "LayoutModel",
      "state": {}
     },
     "14c3c29a04b34f3ca331747a868df9e2": {
      "model_module": "@jupyter-widgets/controls",
      "model_module_version": "1.4.0",
      "model_name": "DescriptionStyleModel",
      "state": {
       "description_width": ""
      }
     },
     "1513e6ce693b4bc4a80faa1c8c0d3649": {
      "model_module": "@jupyter-widgets/base",
      "model_module_version": "1.1.0",
      "model_name": "LayoutModel",
      "state": {}
     },
     "157cc69cd0b648198833c68b3dc4c61c": {
      "model_module": "@jupyter-widgets/controls",
      "model_module_version": "1.4.0",
      "model_name": "DescriptionStyleModel",
      "state": {
       "description_width": ""
      }
     },
     "1584c480835140c79bb4d51d8658a76e": {
      "model_module": "@jupyter-widgets/controls",
      "model_module_version": "1.4.0",
      "model_name": "DescriptionStyleModel",
      "state": {
       "description_width": ""
      }
     },
     "1594c5a2af7747f8ab6bd3ff30dd675f": {
      "model_module": "@jupyter-widgets/controls",
      "model_module_version": "1.4.0",
      "model_name": "DropdownModel",
      "state": {
       "_options_labels": [
        "Acceleration",
        "Cylinders",
        "Displacement",
        "Horsepower",
        "Miles_per_Gallon",
        "Name",
        "Origin",
        "Weight_in_lbs",
        "Year"
       ],
       "index": 0,
       "layout": "IPY_MODEL_d30653e5e6144c29aa31e2dcbf4378f0",
       "style": "IPY_MODEL_f3c640bf28fd4e4da39d8a7307e78cd4"
      }
     },
     "159aef4c462a43b08a149f5f58b11269": {
      "model_module": "@jupyter-widgets/base",
      "model_module_version": "1.1.0",
      "model_name": "LayoutModel",
      "state": {}
     },
     "15a0b8f6084c4562b1adfe39528fdcc9": {
      "model_module": "@jupyter-widgets/base",
      "model_module_version": "1.1.0",
      "model_name": "LayoutModel",
      "state": {}
     },
     "15a687c332134381930528a15e868a1d": {
      "model_module": "@jupyter-widgets/controls",
      "model_module_version": "1.4.0",
      "model_name": "DescriptionStyleModel",
      "state": {
       "description_width": ""
      }
     },
     "15ad737848f2459d9e8134015e70966a": {
      "model_module": "@jupyter-widgets/controls",
      "model_module_version": "1.4.0",
      "model_name": "DescriptionStyleModel",
      "state": {
       "description_width": ""
      }
     },
     "15d3cca6201f45859cfcc7bf62ed1b88": {
      "model_module": "@jupyter-widgets/controls",
      "model_module_version": "1.4.0",
      "model_name": "CheckboxModel",
      "state": {
       "disabled": false,
       "layout": "IPY_MODEL_07ca9b55bc234204a846e8332bd38d98",
       "style": "IPY_MODEL_cf337438fa6a44119e2e23d93ac661e7",
       "value": false
      }
     },
     "15e7a017193d4c9197240a28fbd3fe52": {
      "model_module": "@jupyter-widgets/controls",
      "model_module_version": "1.4.0",
      "model_name": "DescriptionStyleModel",
      "state": {
       "description_width": ""
      }
     },
     "1624c59beb7e4f20992c21f8a3c85d07": {
      "model_module": "@jupyter-widgets/controls",
      "model_module_version": "1.4.0",
      "model_name": "DropdownModel",
      "state": {
       "_options_labels": [
        "petalLength",
        "petalWidth",
        "sepalLength",
        "sepalWidth",
        "species"
       ],
       "index": 0,
       "layout": "IPY_MODEL_f7ae6d76b2154fb090e7ce24f4cabf26",
       "style": "IPY_MODEL_c732bf29af584e899ebe8a1d4769c8b2"
      }
     },
     "16c4407452ad4e34811ba331c68528a6": {
      "model_module": "@jupyter-widgets/controls",
      "model_module_version": "1.4.0",
      "model_name": "DropdownModel",
      "state": {
       "_options_labels": [
        "Acceleration",
        "Cylinders",
        "Displacement",
        "Horsepower",
        "Miles_per_Gallon",
        "Name",
        "Origin",
        "Weight_in_lbs",
        "Year"
       ],
       "index": 0,
       "layout": "IPY_MODEL_95c7f3152d924c3696bfad33c9276a2d",
       "style": "IPY_MODEL_a823298b1a2c4f448e22a26b13919993"
      }
     },
     "16c580d68cb44ee7960e5cbe3e5de746": {
      "model_module": "@jupyter-widgets/controls",
      "model_module_version": "1.4.0",
      "model_name": "DescriptionStyleModel",
      "state": {
       "description_width": ""
      }
     },
     "16fa971e2ea941b1b1cf7d271df464e7": {
      "model_module": "@jupyter-widgets/controls",
      "model_module_version": "1.4.0",
      "model_name": "DescriptionStyleModel",
      "state": {
       "description_width": ""
      }
     },
     "17197fa8098a4ba9a7cc15b463855b89": {
      "model_module": "@jupyter-widgets/base",
      "model_module_version": "1.1.0",
      "model_name": "LayoutModel",
      "state": {}
     },
     "17278e4255584bccb6f4006b92f88e09": {
      "model_module": "@jupyter-widgets/base",
      "model_module_version": "1.1.0",
      "model_name": "LayoutModel",
      "state": {}
     },
     "1752e157025648f0b314cc1c48b13fd5": {
      "model_module": "@jupyter-widgets/controls",
      "model_module_version": "1.4.0",
      "model_name": "CheckboxModel",
      "state": {
       "disabled": false,
       "layout": "IPY_MODEL_5437d3e272fb464d802441b0c5d12ff7",
       "style": "IPY_MODEL_49366b943d5b40debdcf305957274301",
       "value": false
      }
     },
     "17996180f6ae482694a06b88a895e4f3": {
      "model_module": "@jupyter-widgets/controls",
      "model_module_version": "1.4.0",
      "model_name": "TextModel",
      "state": {
       "layout": "IPY_MODEL_04eeb400ed0346abab5ec6565ec673dc",
       "style": "IPY_MODEL_034e3ce948e34e4090f2c3b57542a5e3",
       "value": "g"
      }
     },
     "17d88fbcfd544a47a4711418171e6629": {
      "model_module": "@jupyter-widgets/controls",
      "model_module_version": "1.4.0",
      "model_name": "FloatTextModel",
      "state": {
       "layout": "IPY_MODEL_a64b31c5c1ab4b488e045c70e67a9a85",
       "step": null,
       "style": "IPY_MODEL_8c7012eff8e3443cbe553a485fbad00c",
       "value": 1
      }
     },
     "17d97e1432cf4d9b98ef707c7416e178": {
      "model_module": "@jupyter-widgets/base",
      "model_module_version": "1.1.0",
      "model_name": "LayoutModel",
      "state": {}
     },
     "1800302da88f4f8999ec941b59560b57": {
      "model_module": "@jupyter-widgets/controls",
      "model_module_version": "1.4.0",
      "model_name": "CheckboxModel",
      "state": {
       "disabled": false,
       "layout": "IPY_MODEL_8e5448ee05954796be0802574f9192f7",
       "style": "IPY_MODEL_c9e46921f4df4ae89e8b02765fb20eda",
       "value": false
      }
     },
     "1804634f21ec4fa68ddc422f1292a185": {
      "model_module": "@jupyter-widgets/controls",
      "model_module_version": "1.4.0",
      "model_name": "DropdownModel",
      "state": {
       "_options_labels": [
        "scatter",
        "reg",
        "resid",
        "kde",
        "hex"
       ],
       "index": 0,
       "layout": "IPY_MODEL_da28f5f981c441e68a3a30215afac42b",
       "style": "IPY_MODEL_0a568293605945d2b4c731042c9f1531"
      }
     },
     "183b4335c4e148c2bd121f10aa769ca7": {
      "model_module": "@jupyter-widgets/controls",
      "model_module_version": "1.4.0",
      "model_name": "VBoxModel",
      "state": {
       "children": [
        "IPY_MODEL_eee1ca5662c842dd9049c1fbaceb41a9",
        "IPY_MODEL_2579e76d6ebe4456af971048492acf69",
        "IPY_MODEL_ba0b967dabc54f5e842237e5292f91eb",
        "IPY_MODEL_cb552917763b48ef82b20f0d11d81f28",
        "IPY_MODEL_87fd51b401844a1bad467f3cd84b2d82"
       ],
       "layout": "IPY_MODEL_14bd7c4235b7430caeb0d87ad5eefd97"
      }
     },
     "189e5bc73b6c4bf5b28e6d5ef542c61d": {
      "model_module": "@jupyter-widgets/controls",
      "model_module_version": "1.4.0",
      "model_name": "DescriptionStyleModel",
      "state": {
       "description_width": ""
      }
     },
     "18bbeebcf4de43bcaab7cbcc432c14ca": {
      "model_module": "@jupyter-widgets/controls",
      "model_module_version": "1.4.0",
      "model_name": "TextModel",
      "state": {
       "layout": "IPY_MODEL_f85a9cac999046648e0281150e92f87f",
       "style": "IPY_MODEL_e3114e0e61c14f269d7a64e3666b6fce"
      }
     },
     "18d89bbb171b48c79bc946326e23be40": {
      "model_module": "@jupyter-widgets/base",
      "model_module_version": "1.1.0",
      "model_name": "LayoutModel",
      "state": {}
     },
     "18fa781e5b6f48359e460987a500fccd": {
      "model_module": "@jupyter-widgets/controls",
      "model_module_version": "1.4.0",
      "model_name": "DescriptionStyleModel",
      "state": {
       "description_width": ""
      }
     },
     "190734bd56b64e64ba5535875c9913f8": {
      "model_module": "@jupyter-widgets/base",
      "model_module_version": "1.1.0",
      "model_name": "LayoutModel",
      "state": {}
     },
     "19074ccad33e4b8eaaa73d5618ce2dfe": {
      "model_module": "@jupyter-widgets/base",
      "model_module_version": "1.1.0",
      "model_name": "LayoutModel",
      "state": {}
     },
     "190d90e121dc4d88b4686b1e6683aaee": {
      "model_module": "@jupyter-widgets/controls",
      "model_module_version": "1.4.0",
      "model_name": "CheckboxModel",
      "state": {
       "disabled": false,
       "layout": "IPY_MODEL_ca3d8e323ead4586965e64e154b6c878",
       "style": "IPY_MODEL_6723d42f52814598b833d97ac5e13d26",
       "value": false
      }
     },
     "191ca2c43d0b4d5f8fad1fbf813a8d63": {
      "model_module": "@jupyter-widgets/base",
      "model_module_version": "1.1.0",
      "model_name": "LayoutModel",
      "state": {}
     },
     "19688fae96634e8cbea9b67d59a6519e": {
      "model_module": "@jupyter-widgets/controls",
      "model_module_version": "1.4.0",
      "model_name": "CheckboxModel",
      "state": {
       "disabled": false,
       "layout": "IPY_MODEL_3bb973faf45642c69abba3dfdfca9aa3",
       "style": "IPY_MODEL_ce406c9dce7a4f06b906e30fb87f2780",
       "value": false
      }
     },
     "198cc244b07f48cca5b60c1388c583aa": {
      "model_module": "@jupyter-widgets/controls",
      "model_module_version": "1.4.0",
      "model_name": "CheckboxModel",
      "state": {
       "disabled": false,
       "layout": "IPY_MODEL_a8ef2560429b46b18bc00f999576afd8",
       "style": "IPY_MODEL_66a8f93f88954502ac1de8caad2e59f8",
       "value": false
      }
     },
     "1a0d068b8ddc4d53beb514bf72e88b4b": {
      "model_module": "@jupyter-widgets/base",
      "model_module_version": "1.1.0",
      "model_name": "LayoutModel",
      "state": {}
     },
     "1a1df7fbee884bf682ce9731bb7b05db": {
      "model_module": "@jupyter-widgets/controls",
      "model_module_version": "1.4.0",
      "model_name": "FloatTextModel",
      "state": {
       "layout": "IPY_MODEL_47d99904c7a24e5b82bf4192fed190fa",
       "step": null,
       "style": "IPY_MODEL_b3b22fef8a8c42b0804c3519cd4a3100",
       "value": 1
      }
     },
     "1adf5c3b6cdd46d5a1daf5fa74d44e63": {
      "model_module": "@jupyter-widgets/base",
      "model_module_version": "1.1.0",
      "model_name": "LayoutModel",
      "state": {}
     },
     "1b1055835a73452ea68c96647f6a2dc4": {
      "model_module": "@jupyter-widgets/controls",
      "model_module_version": "1.4.0",
      "model_name": "DescriptionStyleModel",
      "state": {
       "description_width": ""
      }
     },
     "1b23f9c5227c417d9576e6bd4080686e": {
      "model_module": "@jupyter-widgets/controls",
      "model_module_version": "1.4.0",
      "model_name": "CheckboxModel",
      "state": {
       "description": "auto-update",
       "disabled": false,
       "layout": "IPY_MODEL_cb4008caa98a4eae8963f5811dff2543",
       "style": "IPY_MODEL_233f4a04a7c044eabfc0aff6c1ba7004",
       "value": true
      }
     },
     "1b2ae47c4a7b4450bd8d97a4c7b1fe84": {
      "model_module": "@jupyter-widgets/controls",
      "model_module_version": "1.4.0",
      "model_name": "DescriptionStyleModel",
      "state": {
       "description_width": ""
      }
     },
     "1b639373f6e741958c52e826507527ab": {
      "model_module": "@jupyter-widgets/controls",
      "model_module_version": "1.4.0",
      "model_name": "FloatSliderModel",
      "state": {
       "layout": "IPY_MODEL_8a4d4dbddfe846fba054ea1e2bb33122",
       "max": 1,
       "step": 0.05,
       "style": "IPY_MODEL_aacb46c571474851935ce67aee888d53",
       "value": 1
      }
     },
     "1b722d369eb04c73882a6bab87f03a16": {
      "model_module": "@jupyter-widgets/controls",
      "model_module_version": "1.4.0",
      "model_name": "DropdownModel",
      "state": {
       "_options_labels": [
        "Acceleration",
        "Cylinders",
        "Displacement",
        "Horsepower",
        "Miles_per_Gallon",
        "Name",
        "Origin",
        "Weight_in_lbs",
        "Year"
       ],
       "description": "x",
       "index": 6,
       "layout": "IPY_MODEL_6dc4eeb58fc843a1bffabd7d11b1fe99",
       "style": "IPY_MODEL_57ba1bfe6c024970ac17879d33e7cc2b"
      }
     },
     "1ba73281ebb34fe7a0933daf06ce1165": {
      "model_module": "@jupyter-widgets/controls",
      "model_module_version": "1.4.0",
      "model_name": "DescriptionStyleModel",
      "state": {
       "description_width": ""
      }
     },
     "1bcdfa0c32364b20aa9cb0224159714d": {
      "model_module": "@jupyter-widgets/controls",
      "model_module_version": "1.4.0",
      "model_name": "DropdownModel",
      "state": {
       "_options_labels": [
        "scatter",
        "reg",
        "resid",
        "kde",
        "hex"
       ],
       "index": 0,
       "layout": "IPY_MODEL_2e9fba6065f24a40816993eed30f11bc",
       "style": "IPY_MODEL_cd4e70161ffc42618c05af54a37831f2"
      }
     },
     "1bdbc7d880fb4d23ae085d9b77863163": {
      "model_module": "@jupyter-widgets/controls",
      "model_module_version": "1.4.0",
      "model_name": "DropdownModel",
      "state": {
       "_options_labels": [
        "brief",
        "full",
        "False"
       ],
       "index": 0,
       "layout": "IPY_MODEL_6684dbbf4de94b1f81768e56b1cda277",
       "style": "IPY_MODEL_517af71e1cd64c3c81d64e189da1eb17"
      }
     },
     "1c007628a74446a8bc26bff79b3a7213": {
      "model_module": "@jupyter-widgets/controls",
      "model_module_version": "1.4.0",
      "model_name": "DescriptionStyleModel",
      "state": {
       "description_width": ""
      }
     },
     "1c09e02c95fa41dd8bf633b577bf6dc7": {
      "model_module": "@jupyter-widgets/base",
      "model_module_version": "1.1.0",
      "model_name": "LayoutModel",
      "state": {}
     },
     "1c418ce37f8e4a428c89b0991986142b": {
      "model_module": "@jupyter-widgets/base",
      "model_module_version": "1.1.0",
      "model_name": "LayoutModel",
      "state": {}
     },
     "1c4fba380d4949ccb8a9edecca799c20": {
      "model_module": "@jupyter-widgets/controls",
      "model_module_version": "1.4.0",
      "model_name": "DescriptionStyleModel",
      "state": {
       "description_width": ""
      }
     },
     "1c5f20995dd04cdb92dd7e17cae7ca3c": {
      "model_module": "@jupyter-widgets/controls",
      "model_module_version": "1.4.0",
      "model_name": "DescriptionStyleModel",
      "state": {
       "description_width": ""
      }
     },
     "1c65a57adc944eca9a06026103e8be04": {
      "model_module": "@jupyter-widgets/controls",
      "model_module_version": "1.4.0",
      "model_name": "CheckboxModel",
      "state": {
       "disabled": false,
       "layout": "IPY_MODEL_1d3f9623bf2049e2b42d3367fb6d16d7",
       "style": "IPY_MODEL_953da5ae9cd54077b3921ac7e04d4d1f",
       "value": false
      }
     },
     "1ca422e75f994c1cb6a8a2cdb9c9a72d": {
      "model_module": "@jupyter-widgets/controls",
      "model_module_version": "1.4.0",
      "model_name": "TextModel",
      "state": {
       "layout": "IPY_MODEL_ebd7d4bc73324ec6ac370bcd8f779adb",
       "style": "IPY_MODEL_6250d5f576e7410cb50708f0ef816aae",
       "value": "g"
      }
     },
     "1cb53a0ba4e7457886e6e85a7cfb2261": {
      "model_module": "@jupyter-widgets/controls",
      "model_module_version": "1.4.0",
      "model_name": "DescriptionStyleModel",
      "state": {
       "description_width": ""
      }
     },
     "1ccd7e1d5c0a4ec593eda35f97a313a0": {
      "model_module": "@jupyter-widgets/base",
      "model_module_version": "1.1.0",
      "model_name": "LayoutModel",
      "state": {}
     },
     "1d068956cc914c798c54a900527e6c47": {
      "model_module": "@jupyter-widgets/controls",
      "model_module_version": "1.4.0",
      "model_name": "DropdownModel",
      "state": {
       "_options_labels": [
        "linear",
        "exponential",
        "area"
       ],
       "index": 0,
       "layout": "IPY_MODEL_5b45ee2b594c4c61adb9cf281187d6d8",
       "style": "IPY_MODEL_975b7b07c7744d518af0d134f55d0c87"
      }
     },
     "1d3718bc57764f3abe8e03f6df29b029": {
      "model_module": "@jupyter-widgets/base",
      "model_module_version": "1.1.0",
      "model_name": "LayoutModel",
      "state": {}
     },
     "1d3f9623bf2049e2b42d3367fb6d16d7": {
      "model_module": "@jupyter-widgets/base",
      "model_module_version": "1.1.0",
      "model_name": "LayoutModel",
      "state": {}
     },
     "1d924f49d2304c0ab937006f4a2c479a": {
      "model_module": "@jupyter-widgets/controls",
      "model_module_version": "1.4.0",
      "model_name": "SliderStyleModel",
      "state": {
       "description_width": ""
      }
     },
     "1de9ebe73d36424d80079c25d4dcac98": {
      "model_module": "@jupyter-widgets/controls",
      "model_module_version": "1.4.0",
      "model_name": "TextModel",
      "state": {
       "layout": "IPY_MODEL_d239c7b1e5b340a08fe0b09ec41e0b3a",
       "style": "IPY_MODEL_d68d84fda81a42fa89fde120bba16f50",
       "value": "g"
      }
     },
     "1ded497af7f245288e6625370fd2592c": {
      "model_module": "@jupyter-widgets/controls",
      "model_module_version": "1.4.0",
      "model_name": "DropdownModel",
      "state": {
       "_options_labels": [
        "petalLength",
        "petalWidth",
        "sepalLength",
        "sepalWidth",
        "species"
       ],
       "index": 0,
       "layout": "IPY_MODEL_5a3811ed7d3048bc8137794ecc44d635",
       "style": "IPY_MODEL_031cd23b3c5241ac837ab3f8f55f7bfa"
      }
     },
     "1e0e19ae19db49cf9eaff51fb2c25405": {
      "model_module": "@jupyter-widgets/controls",
      "model_module_version": "1.4.0",
      "model_name": "DescriptionStyleModel",
      "state": {
       "description_width": ""
      }
     },
     "1e1d474940a6471e88efda9dc5aea969": {
      "model_module": "@jupyter-widgets/base",
      "model_module_version": "1.1.0",
      "model_name": "LayoutModel",
      "state": {}
     },
     "1e2a494e99dc4b5a834c52c20d3451a0": {
      "model_module": "@jupyter-widgets/base",
      "model_module_version": "1.1.0",
      "model_name": "LayoutModel",
      "state": {}
     },
     "1ecf633187dd4e1e9ed43c90dcb36380": {
      "model_module": "@jupyter-widgets/controls",
      "model_module_version": "1.4.0",
      "model_name": "CheckboxModel",
      "state": {
       "disabled": false,
       "layout": "IPY_MODEL_21d4739ed1df4944a24ce244b041bad8",
       "style": "IPY_MODEL_d5853dced8bb4c9489ce72f74c22f8bd",
       "value": false
      }
     },
     "1f26d94b162546648a87ff70bd1bf666": {
      "model_module": "@jupyter-widgets/controls",
      "model_module_version": "1.4.0",
      "model_name": "FloatTextModel",
      "state": {
       "layout": "IPY_MODEL_a1c06f937bb54541a3d27c22a48b20ea",
       "step": null,
       "style": "IPY_MODEL_4face01e7cb5409294f279980da4e4e3",
       "value": 1
      }
     },
     "1f381b9db8204b949a202480557c25b9": {
      "model_module": "@jupyter-widgets/controls",
      "model_module_version": "1.4.0",
      "model_name": "DescriptionStyleModel",
      "state": {
       "description_width": ""
      }
     },
     "1f7e9fc3ac064df79d99029b684b7e37": {
      "model_module": "@jupyter-widgets/controls",
      "model_module_version": "1.4.0",
      "model_name": "DescriptionStyleModel",
      "state": {
       "description_width": ""
      }
     },
     "1fa5f11ae24c43d4b638322db522b5a7": {
      "model_module": "@jupyter-widgets/controls",
      "model_module_version": "1.4.0",
      "model_name": "DropdownModel",
      "state": {
       "_options_labels": [
        "Acceleration",
        "Cylinders",
        "Displacement",
        "Horsepower",
        "Miles_per_Gallon",
        "Name",
        "Origin",
        "Weight_in_lbs",
        "Year"
       ],
       "index": 0,
       "layout": "IPY_MODEL_25db3cfca5364ce7869b0fa15d162a52",
       "style": "IPY_MODEL_ebb6242d08af410f95ef8fcc62cae32e"
      }
     },
     "1fc8fb2f57454b5c845a01c21fd392da": {
      "model_module": "@jupyter-widgets/controls",
      "model_module_version": "1.4.0",
      "model_name": "DescriptionStyleModel",
      "state": {
       "description_width": ""
      }
     },
     "20430d8468b34c4d87ae9068f2cd62fa": {
      "model_module": "@jupyter-widgets/controls",
      "model_module_version": "1.4.0",
      "model_name": "FloatTextModel",
      "state": {
       "layout": "IPY_MODEL_90bd1de651dc4138a343c71de4a10b5e",
       "step": null,
       "style": "IPY_MODEL_fcaf389016414d038548b85b72b619a7",
       "value": 1
      }
     },
     "206a1e8aa2cd4679a2eac371f8166ff5": {
      "model_module": "@jupyter-widgets/controls",
      "model_module_version": "1.4.0",
      "model_name": "DescriptionStyleModel",
      "state": {
       "description_width": ""
      }
     },
     "207d78c2988d4ed287906166a30d81f8": {
      "model_module": "@jupyter-widgets/controls",
      "model_module_version": "1.4.0",
      "model_name": "DescriptionStyleModel",
      "state": {
       "description_width": ""
      }
     },
     "207ddb4cb2c443738ebfbfa2900bc045": {
      "model_module": "@jupyter-widgets/controls",
      "model_module_version": "1.4.0",
      "model_name": "DescriptionStyleModel",
      "state": {
       "description_width": ""
      }
     },
     "208bd1757bf644b0b65a7bf9bb38e7b9": {
      "model_module": "@jupyter-widgets/controls",
      "model_module_version": "1.4.0",
      "model_name": "DescriptionStyleModel",
      "state": {
       "description_width": ""
      }
     },
     "20b179b5f40f4c2f9656c2f4241be4d9": {
      "model_module": "@jupyter-widgets/controls",
      "model_module_version": "1.4.0",
      "model_name": "DescriptionStyleModel",
      "state": {
       "description_width": ""
      }
     },
     "20bd4fa000ca4e9d9aa09b0c8aaaf2eb": {
      "model_module": "@jupyter-widgets/controls",
      "model_module_version": "1.4.0",
      "model_name": "TextModel",
      "state": {
       "layout": "IPY_MODEL_99b84601b2004356887f601c9b5d4f62",
       "style": "IPY_MODEL_f4ae0e61277d46a1a12b9e17180c553b",
       "value": "viridis"
      }
     },
     "20df84c9b5bb4178a3b3113da463e89a": {
      "model_module": "@jupyter-widgets/controls",
      "model_module_version": "1.4.0",
      "model_name": "DescriptionStyleModel",
      "state": {
       "description_width": ""
      }
     },
     "2101cbde99f940e0b252f4394d7a2c5e": {
      "model_module": "@jupyter-widgets/controls",
      "model_module_version": "1.4.0",
      "model_name": "DescriptionStyleModel",
      "state": {
       "description_width": ""
      }
     },
     "21152889cfd748d780e6aa893e1205ea": {
      "model_module": "@jupyter-widgets/base",
      "model_module_version": "1.1.0",
      "model_name": "LayoutModel",
      "state": {}
     },
     "2118d0823fd84bedb4ec3f3ae4ce3e4c": {
      "model_module": "@jupyter-widgets/controls",
      "model_module_version": "1.4.0",
      "model_name": "DescriptionStyleModel",
      "state": {
       "description_width": ""
      }
     },
     "213590afa0a1491a8ebfb50cf6e35915": {
      "model_module": "@jupyter-widgets/controls",
      "model_module_version": "1.4.0",
      "model_name": "CheckboxModel",
      "state": {
       "disabled": false,
       "layout": "IPY_MODEL_52ce7aa70c7f4295a26330bf65590089",
       "style": "IPY_MODEL_33fdb73469d443e4b9e60124fc056f16",
       "value": false
      }
     },
     "2160923aeac3448e964c0b7f7669f2f4": {
      "model_module": "@jupyter-widgets/controls",
      "model_module_version": "1.4.0",
      "model_name": "DescriptionStyleModel",
      "state": {
       "description_width": ""
      }
     },
     "21d4739ed1df4944a24ce244b041bad8": {
      "model_module": "@jupyter-widgets/base",
      "model_module_version": "1.1.0",
      "model_name": "LayoutModel",
      "state": {}
     },
     "21f67f42a2b54f438be5ec8b2e292804": {
      "model_module": "@jupyter-widgets/controls",
      "model_module_version": "1.4.0",
      "model_name": "TextModel",
      "state": {
       "layout": "IPY_MODEL_39ba053dc6c848cead497ac9a5eca8f2",
       "style": "IPY_MODEL_0dab6c7a47b4456791f296be1806d719",
       "value": ".2g"
      }
     },
     "220ffc2e564b4e8da38fa200b647ddae": {
      "model_module": "@jupyter-widgets/controls",
      "model_module_version": "1.4.0",
      "model_name": "ButtonModel",
      "state": {
       "description": "remove",
       "layout": "IPY_MODEL_279f1baebdef4744a3586f429ff6f51d",
       "style": "IPY_MODEL_779a29d711244e7d90a0d41e127e859d"
      }
     },
     "223d01aa45fa4679b703cf0cb7984af4": {
      "model_module": "@jupyter-widgets/base",
      "model_module_version": "1.1.0",
      "model_name": "LayoutModel",
      "state": {}
     },
     "225927c5810a4c47b8138ef2b7c8f541": {
      "model_module": "@jupyter-widgets/controls",
      "model_module_version": "1.4.0",
      "model_name": "DescriptionStyleModel",
      "state": {
       "description_width": ""
      }
     },
     "22694f0edded4572bb8e3f0809bd6b9b": {
      "model_module": "@jupyter-widgets/controls",
      "model_module_version": "1.4.0",
      "model_name": "DescriptionStyleModel",
      "state": {
       "description_width": ""
      }
     },
     "226f0c6bc59743ada7a753acf4a132bc": {
      "model_module": "@jupyter-widgets/controls",
      "model_module_version": "1.4.0",
      "model_name": "IntSliderModel",
      "state": {
       "layout": "IPY_MODEL_2bf572496b094a6eb9109c42339ccf65",
       "style": "IPY_MODEL_3aaabde4ae4e4097bdaddb03127c1660",
       "value": 95
      }
     },
     "23205841031e469f8f3182fad1c424a1": {
      "model_module": "@jupyter-widgets/base",
      "model_module_version": "1.1.0",
      "model_name": "LayoutModel",
      "state": {}
     },
     "233f4a04a7c044eabfc0aff6c1ba7004": {
      "model_module": "@jupyter-widgets/controls",
      "model_module_version": "1.4.0",
      "model_name": "DescriptionStyleModel",
      "state": {
       "description_width": ""
      }
     },
     "23414788e9ec4030a473858a5c492c4d": {
      "model_module": "@jupyter-widgets/controls",
      "model_module_version": "1.4.0",
      "model_name": "DescriptionStyleModel",
      "state": {
       "description_width": ""
      }
     },
     "2355f805b3e14a68a0a35612141433fe": {
      "model_module": "@jupyter-widgets/controls",
      "model_module_version": "1.4.0",
      "model_name": "DescriptionStyleModel",
      "state": {
       "description_width": ""
      }
     },
     "2391e6c511b1451c8e7f07eec8a221a3": {
      "model_module": "@jupyter-widgets/controls",
      "model_module_version": "1.4.0",
      "model_name": "TextModel",
      "state": {
       "layout": "IPY_MODEL_8b1e1175be78488991fb565f233e11a1",
       "style": "IPY_MODEL_f8e4b080376d430c84f0d7de2ed0d738",
       "value": "viridis"
      }
     },
     "23b703bb140a4d15b0c438e2cc40d128": {
      "model_module": "@jupyter-widgets/base",
      "model_module_version": "1.1.0",
      "model_name": "LayoutModel",
      "state": {}
     },
     "2437ac223ae443c691dbdebda000cd7f": {
      "model_module": "@jupyter-widgets/controls",
      "model_module_version": "1.4.0",
      "model_name": "DropdownModel",
      "state": {
       "_options_labels": [
        "box",
        "quartile",
        "point",
        "stick"
       ],
       "index": 0,
       "layout": "IPY_MODEL_3af0a1eba9804aa3b32075c595e4f4a0",
       "style": "IPY_MODEL_c7a6ac0a3e29465f89e897840bd11f65"
      }
     },
     "24458c59f7604801b233efdd82cda1b2": {
      "model_module": "@jupyter-widgets/base",
      "model_module_version": "1.1.0",
      "model_name": "LayoutModel",
      "state": {}
     },
     "244bab9a5fda4c3383e6a1168a59c40c": {
      "model_module": "@jupyter-widgets/controls",
      "model_module_version": "1.4.0",
      "model_name": "DescriptionStyleModel",
      "state": {
       "description_width": ""
      }
     },
     "24591a418564401fa3ff4b288e36f705": {
      "model_module": "@jupyter-widgets/base",
      "model_module_version": "1.1.0",
      "model_name": "LayoutModel",
      "state": {}
     },
     "2486c60f4a9649beb906260ebd1223be": {
      "model_module": "@jupyter-widgets/controls",
      "model_module_version": "1.4.0",
      "model_name": "DescriptionStyleModel",
      "state": {
       "description_width": ""
      }
     },
     "24d15bb061fe4e6982e485cb11473cc6": {
      "model_module": "@jupyter-widgets/controls",
      "model_module_version": "1.4.0",
      "model_name": "DescriptionStyleModel",
      "state": {
       "description_width": ""
      }
     },
     "250c5b9d43d1497686dc03fa6fe91a99": {
      "model_module": "@jupyter-widgets/controls",
      "model_module_version": "1.4.0",
      "model_name": "DescriptionStyleModel",
      "state": {
       "description_width": ""
      }
     },
     "256c480e96194779ab48cc25430616ef": {
      "model_module": "@jupyter-widgets/controls",
      "model_module_version": "1.4.0",
      "model_name": "CheckboxModel",
      "state": {
       "disabled": false,
       "layout": "IPY_MODEL_915b2dea1e634b1381edbd1d54271678",
       "style": "IPY_MODEL_2118d0823fd84bedb4ec3f3ae4ce3e4c",
       "value": false
      }
     },
     "2579e76d6ebe4456af971048492acf69": {
      "model_module": "@jupyter-widgets/controls",
      "model_module_version": "1.4.0",
      "model_name": "HBoxModel",
      "state": {
       "children": [
        "IPY_MODEL_9c3b6b76bc134cdfa2d6544fa5aff82b",
        "IPY_MODEL_81c41e04dc7346c8b0c52837b60ef86f"
       ],
       "layout": "IPY_MODEL_efb94e8785504fdfb719bb7bee0120c5"
      }
     },
     "25b5d52a8f4749bbb70a6844770c9139": {
      "model_module": "@jupyter-widgets/controls",
      "model_module_version": "1.4.0",
      "model_name": "DescriptionStyleModel",
      "state": {
       "description_width": ""
      }
     },
     "25bbeb70b62c407baf72deb8fba16f83": {
      "model_module": "@jupyter-widgets/base",
      "model_module_version": "1.1.0",
      "model_name": "LayoutModel",
      "state": {}
     },
     "25db3cfca5364ce7869b0fa15d162a52": {
      "model_module": "@jupyter-widgets/base",
      "model_module_version": "1.1.0",
      "model_name": "LayoutModel",
      "state": {}
     },
     "25ddac36e3e64c0e9231d03c9de6fd04": {
      "model_module": "@jupyter-widgets/controls",
      "model_module_version": "1.4.0",
      "model_name": "DescriptionStyleModel",
      "state": {
       "description_width": ""
      }
     },
     "25de8334addb4aeebdbbede74c92e388": {
      "model_module": "@jupyter-widgets/controls",
      "model_module_version": "1.4.0",
      "model_name": "DescriptionStyleModel",
      "state": {
       "description_width": ""
      }
     },
     "25e0efd982154b17996d214e0cd82d0b": {
      "model_module": "@jupyter-widgets/controls",
      "model_module_version": "1.4.0",
      "model_name": "CheckboxModel",
      "state": {
       "disabled": false,
       "layout": "IPY_MODEL_781d4fe28817484e8d8673f49580336f",
       "style": "IPY_MODEL_510ff94310fb4d3a82098d77d52882dd",
       "value": false
      }
     },
     "25ed80719b2d4c76b627002f1d1470c5": {
      "model_module": "@jupyter-widgets/controls",
      "model_module_version": "1.4.0",
      "model_name": "DescriptionStyleModel",
      "state": {
       "description_width": ""
      }
     },
     "25fe4a454c304fb0bd91a30e5fd89846": {
      "model_module": "@jupyter-widgets/controls",
      "model_module_version": "1.4.0",
      "model_name": "CheckboxModel",
      "state": {
       "description": "auto-update",
       "disabled": false,
       "layout": "IPY_MODEL_90ef5951c90d41f48029452d089d6a23",
       "style": "IPY_MODEL_1c5f20995dd04cdb92dd7e17cae7ca3c",
       "value": false
      }
     },
     "2619063a85714a4dbded5e613a565fec": {
      "model_module": "@jupyter-widgets/controls",
      "model_module_version": "1.4.0",
      "model_name": "CheckboxModel",
      "state": {
       "disabled": false,
       "layout": "IPY_MODEL_291128d0987349869a1d330816a56db5",
       "style": "IPY_MODEL_cab22b2e21b944d4b134da909d8ecf9d",
       "value": false
      }
     },
     "262e9a002ed54f1f88d08d0506d79125": {
      "model_module": "@jupyter-widgets/controls",
      "model_module_version": "1.4.0",
      "model_name": "DescriptionStyleModel",
      "state": {
       "description_width": ""
      }
     },
     "26468dbb8c544a109a6548a61ec75d4a": {
      "model_module": "@jupyter-widgets/controls",
      "model_module_version": "1.4.0",
      "model_name": "DescriptionStyleModel",
      "state": {
       "description_width": ""
      }
     },
     "264742b4dd3043c8a0ec4f884e42f2c6": {
      "model_module": "@jupyter-widgets/controls",
      "model_module_version": "1.4.0",
      "model_name": "DescriptionStyleModel",
      "state": {
       "description_width": ""
      }
     },
     "268cc7707ff84ef5a367a9f2e25fb8df": {
      "model_module": "@jupyter-widgets/base",
      "model_module_version": "1.1.0",
      "model_name": "LayoutModel",
      "state": {}
     },
     "26bd04d844b44169bf49b7aa99b8fa19": {
      "model_module": "@jupyter-widgets/controls",
      "model_module_version": "1.4.0",
      "model_name": "DescriptionStyleModel",
      "state": {
       "description_width": ""
      }
     },
     "26bfa950505f4934bcaa66851d71b7fb": {
      "model_module": "@jupyter-widgets/base",
      "model_module_version": "1.1.0",
      "model_name": "LayoutModel",
      "state": {}
     },
     "2703915e04094a1f8938dc1f3891787c": {
      "model_module": "@jupyter-widgets/controls",
      "model_module_version": "1.4.0",
      "model_name": "CheckboxModel",
      "state": {
       "disabled": false,
       "layout": "IPY_MODEL_db0ad3077b2347998435b96378f80330",
       "style": "IPY_MODEL_aec6eec04b2f4f8faf900d49f14874d9",
       "value": false
      }
     },
     "2767db9cf3dc418383ee47dfabce673f": {
      "model_module": "@jupyter-widgets/controls",
      "model_module_version": "1.4.0",
      "model_name": "CheckboxModel",
      "state": {
       "disabled": false,
       "layout": "IPY_MODEL_d229560688b940f09a618e353e46409d",
       "style": "IPY_MODEL_b05cc7911e2a43dcaf19ff1ffa29719a",
       "value": false
      }
     },
     "2770d87ec9e649aab6a4ff5390a94bab": {
      "model_module": "@jupyter-widgets/controls",
      "model_module_version": "1.4.0",
      "model_name": "DescriptionStyleModel",
      "state": {
       "description_width": ""
      }
     },
     "2778f6917e1340aaa24b2aa7cbd920dd": {
      "model_module": "@jupyter-widgets/base",
      "model_module_version": "1.1.0",
      "model_name": "LayoutModel",
      "state": {}
     },
     "279f1baebdef4744a3586f429ff6f51d": {
      "model_module": "@jupyter-widgets/base",
      "model_module_version": "1.1.0",
      "model_name": "LayoutModel",
      "state": {}
     },
     "27a2a9f9831a4379b399ff64b0b14030": {
      "model_module": "@jupyter-widgets/base",
      "model_module_version": "1.1.0",
      "model_name": "LayoutModel",
      "state": {}
     },
     "27aaa096ad6a4ba5a0e6074b90359fe4": {
      "model_module": "@jupyter-widgets/controls",
      "model_module_version": "1.4.0",
      "model_name": "DescriptionStyleModel",
      "state": {
       "description_width": ""
      }
     },
     "27aab5f8c95343f395c8506adec3cc3f": {
      "model_module": "@jupyter-widgets/base",
      "model_module_version": "1.1.0",
      "model_name": "LayoutModel",
      "state": {}
     },
     "27c95d80b52149e5a329fa96d7082917": {
      "model_module": "@jupyter-widgets/base",
      "model_module_version": "1.1.0",
      "model_name": "LayoutModel",
      "state": {}
     },
     "27dc27935c554853ba20e1f8ba0aa408": {
      "model_module": "@jupyter-widgets/controls",
      "model_module_version": "1.4.0",
      "model_name": "DescriptionStyleModel",
      "state": {
       "description_width": ""
      }
     },
     "280abe46013849dcb43ad45cc4510fb4": {
      "model_module": "@jupyter-widgets/base",
      "model_module_version": "1.1.0",
      "model_name": "LayoutModel",
      "state": {}
     },
     "281400905ef04419accc4670da482b50": {
      "model_module": "@jupyter-widgets/controls",
      "model_module_version": "1.4.0",
      "model_name": "DropdownModel",
      "state": {
       "_options_labels": [
        "o",
        "v",
        "^",
        "<",
        ">",
        "8",
        "s",
        "p",
        "*",
        "h",
        "H",
        "D",
        "d",
        "P",
        "X"
       ],
       "index": 0,
       "layout": "IPY_MODEL_3dde459151734dfdb5d5f965c5e9ee25",
       "style": "IPY_MODEL_6dda71cbb27a434198eb8f78e26443d9"
      }
     },
     "28513695203d45478ec92630e82da9fa": {
      "model_module": "@jupyter-widgets/base",
      "model_module_version": "1.1.0",
      "model_name": "LayoutModel",
      "state": {}
     },
     "288f6d99b0254eeba8633c92c91901d7": {
      "model_module": "@jupyter-widgets/base",
      "model_module_version": "1.1.0",
      "model_name": "LayoutModel",
      "state": {}
     },
     "2896d129b2b54887aef28d3fe70f0f03": {
      "model_module": "@jupyter-widgets/controls",
      "model_module_version": "1.4.0",
      "model_name": "DescriptionStyleModel",
      "state": {
       "description_width": ""
      }
     },
     "28aecb8a6b734dcf8a40f681210a1401": {
      "model_module": "@jupyter-widgets/base",
      "model_module_version": "1.1.0",
      "model_name": "LayoutModel",
      "state": {}
     },
     "29079742ab7e4620b286055d6ae891a1": {
      "model_module": "@jupyter-widgets/controls",
      "model_module_version": "1.4.0",
      "model_name": "IntTextModel",
      "state": {
       "layout": "IPY_MODEL_37c7f3ad34ae48ceb9b87b73fcea8ea3",
       "step": 1,
       "style": "IPY_MODEL_8fcccdc882a8406cbd95d362f8de9756",
       "value": 5
      }
     },
     "291128d0987349869a1d330816a56db5": {
      "model_module": "@jupyter-widgets/base",
      "model_module_version": "1.1.0",
      "model_name": "LayoutModel",
      "state": {}
     },
     "29728901d61348bf919b1a3aa9c0c135": {
      "model_module": "@jupyter-widgets/controls",
      "model_module_version": "1.4.0",
      "model_name": "FloatTextModel",
      "state": {
       "layout": "IPY_MODEL_f42c6376d6204f5da6c8c1c7701fb442",
       "step": 0.01,
       "style": "IPY_MODEL_384881f09de24a7cb9fd076b0cfe769b"
      }
     },
     "2a97e745e292427ab86226620ad61915": {
      "model_module": "@jupyter-widgets/controls",
      "model_module_version": "1.4.0",
      "model_name": "IntTextModel",
      "state": {
       "layout": "IPY_MODEL_28513695203d45478ec92630e82da9fa",
       "step": 1,
       "style": "IPY_MODEL_18fa781e5b6f48359e460987a500fccd",
       "value": 100
      }
     },
     "2a9c9f4474a2426e965075ab46b5491a": {
      "model_module": "@jupyter-widgets/controls",
      "model_module_version": "1.4.0",
      "model_name": "FloatTextModel",
      "state": {
       "layout": "IPY_MODEL_e173d97cc6574397a9421b74782725c2",
       "step": null,
       "style": "IPY_MODEL_12323b2102e64d09b7baf987f9b9ed18",
       "value": 1
      }
     },
     "2b2477f1fd3e43e49f699350c3b58f93": {
      "model_module": "@jupyter-widgets/controls",
      "model_module_version": "1.4.0",
      "model_name": "DescriptionStyleModel",
      "state": {
       "description_width": ""
      }
     },
     "2b3612ab6d5b4c42b8ad2aab32f6942d": {
      "model_module": "@jupyter-widgets/controls",
      "model_module_version": "1.4.0",
      "model_name": "DropdownModel",
      "state": {
       "_options_labels": [
        "x",
        "y",
        "capsize",
        "ci",
        "color",
        "errwidth",
        "hue",
        "n_boot",
        "orient",
        "palette",
        "saturation",
        "units"
       ],
       "description": "Add arg",
       "index": null,
       "layout": "IPY_MODEL_dc85aa0c40854214be37435f5bc89fc8",
       "style": "IPY_MODEL_9e1d818bc36a41f2bd413150dec7589b"
      }
     },
     "2b4936baa9ef4505b23eadb00728c7bd": {
      "model_module": "@jupyter-widgets/base",
      "model_module_version": "1.1.0",
      "model_name": "LayoutModel",
      "state": {}
     },
     "2b8c742514dd4e38a21efec4045d211a": {
      "model_module": "@jupyter-widgets/controls",
      "model_module_version": "1.4.0",
      "model_name": "DescriptionStyleModel",
      "state": {
       "description_width": ""
      }
     },
     "2b97109bd7c24572b231906ddda2b291": {
      "model_module": "@jupyter-widgets/controls",
      "model_module_version": "1.4.0",
      "model_name": "VBoxModel",
      "state": {
       "children": [
        "IPY_MODEL_7b63bc89b4ff494c97695ea35ca0e1ed",
        "IPY_MODEL_36308c249bed49b19f1044b06a232bcd",
        "IPY_MODEL_89368c42db89454992ebdf1ab5e10004",
        "IPY_MODEL_ab7ea38b1e6d4df1a9ce735b33b69ad4",
        "IPY_MODEL_0a3d094add0343d682a1382eaceef419"
       ],
       "layout": "IPY_MODEL_f96eb961f05e470e9782de5ddbd3ebb8"
      }
     },
     "2bb00a45adfe4b469c9e6bd49ffae78f": {
      "model_module": "@jupyter-widgets/controls",
      "model_module_version": "1.4.0",
      "model_name": "DescriptionStyleModel",
      "state": {
       "description_width": ""
      }
     },
     "2bf572496b094a6eb9109c42339ccf65": {
      "model_module": "@jupyter-widgets/base",
      "model_module_version": "1.1.0",
      "model_name": "LayoutModel",
      "state": {}
     },
     "2c1857904d1b42b3b4c03fcee00b6533": {
      "model_module": "@jupyter-widgets/controls",
      "model_module_version": "1.4.0",
      "model_name": "DescriptionStyleModel",
      "state": {
       "description_width": ""
      }
     },
     "2c7c1095f1b1436282b9833287eee087": {
      "model_module": "@jupyter-widgets/controls",
      "model_module_version": "1.4.0",
      "model_name": "FloatTextModel",
      "state": {
       "layout": "IPY_MODEL_68c1aa6ee4094aa2a7c35a5475632b18",
       "step": null,
       "style": "IPY_MODEL_7124a68cdc664182a8addea125927d6c",
       "value": 1
      }
     },
     "2c92d75a92404c0d823673ab9b50bfea": {
      "model_module": "@jupyter-widgets/base",
      "model_module_version": "1.1.0",
      "model_name": "LayoutModel",
      "state": {}
     },
     "2ca345935a4a42e0b34563673a8ec99a": {
      "model_module": "@jupyter-widgets/controls",
      "model_module_version": "1.4.0",
      "model_name": "DescriptionStyleModel",
      "state": {
       "description_width": ""
      }
     },
     "2cba3ecaf0154898916177d60f6940e7": {
      "model_module": "@jupyter-widgets/base",
      "model_module_version": "1.1.0",
      "model_name": "LayoutModel",
      "state": {}
     },
     "2cbfb2f9ba4943529d4e53b4d74383bf": {
      "model_module": "@jupyter-widgets/controls",
      "model_module_version": "1.4.0",
      "model_name": "DropdownModel",
      "state": {
       "_options_labels": [
        "scatter",
        "reg"
       ],
       "index": 0,
       "layout": "IPY_MODEL_1c418ce37f8e4a428c89b0991986142b",
       "style": "IPY_MODEL_83e6e823bb714730ab2afd824c586daa"
      }
     },
     "2cc428eaae414eeabb54b97acf2efbf3": {
      "model_module": "@jupyter-widgets/controls",
      "model_module_version": "1.4.0",
      "model_name": "DropdownModel",
      "state": {
       "_options_labels": [
        "auto",
        "hist",
        "kde"
       ],
       "index": 0,
       "layout": "IPY_MODEL_f8222b7382e6420fa340336efb9c7060",
       "style": "IPY_MODEL_2355f805b3e14a68a0a35612141433fe"
      }
     },
     "2cc7c3ec0f7b438a80abc05be9b98cdf": {
      "model_module": "@jupyter-widgets/base",
      "model_module_version": "1.1.0",
      "model_name": "LayoutModel",
      "state": {}
     },
     "2d00f6e7f0e44a3abee8bedac134d69c": {
      "model_module": "@jupyter-widgets/controls",
      "model_module_version": "1.4.0",
      "model_name": "DescriptionStyleModel",
      "state": {
       "description_width": ""
      }
     },
     "2d053274a97b4908aad22a47d48b93b6": {
      "model_module": "@jupyter-widgets/base",
      "model_module_version": "1.1.0",
      "model_name": "LayoutModel",
      "state": {}
     },
     "2d196e7887e6473d8923cd2d63954478": {
      "model_module": "@jupyter-widgets/controls",
      "model_module_version": "1.4.0",
      "model_name": "CheckboxModel",
      "state": {
       "disabled": false,
       "layout": "IPY_MODEL_f43bf866b9c74342a596ed065fa0a706",
       "style": "IPY_MODEL_2f9497c796ba4ccab68ea3640a25f95c",
       "value": false
      }
     },
     "2d1b36205b9241ad8e67c8209ea278c3": {
      "model_module": "@jupyter-widgets/controls",
      "model_module_version": "1.4.0",
      "model_name": "IntTextModel",
      "state": {
       "layout": "IPY_MODEL_937956d5e02642f5ba495c2c6452e21e",
       "step": 1,
       "style": "IPY_MODEL_b38cf1b129f541d899b03e4a1271feae",
       "value": 10
      }
     },
     "2d1c1ed8de3f4af78fe44643c48aac1b": {
      "model_module": "@jupyter-widgets/controls",
      "model_module_version": "1.4.0",
      "model_name": "DescriptionStyleModel",
      "state": {
       "description_width": ""
      }
     },
     "2d57ca0483cc4e608b29999273a20899": {
      "model_module": "@jupyter-widgets/controls",
      "model_module_version": "1.4.0",
      "model_name": "DescriptionStyleModel",
      "state": {
       "description_width": ""
      }
     },
     "2d718d3a0ace4ec4a73d30b28682cc38": {
      "model_module": "@jupyter-widgets/controls",
      "model_module_version": "1.4.0",
      "model_name": "CheckboxModel",
      "state": {
       "disabled": false,
       "layout": "IPY_MODEL_574f7a652a024302b3205395b7047099",
       "style": "IPY_MODEL_1cb53a0ba4e7457886e6e85a7cfb2261",
       "value": false
      }
     },
     "2d77d0c099bd4649b7c16a7597ebba67": {
      "model_module": "@jupyter-widgets/controls",
      "model_module_version": "1.4.0",
      "model_name": "DescriptionStyleModel",
      "state": {
       "description_width": ""
      }
     },
     "2dafffa0860c4e83bf4f58fdeb70ca05": {
      "model_module": "@jupyter-widgets/controls",
      "model_module_version": "1.4.0",
      "model_name": "DescriptionStyleModel",
      "state": {
       "description_width": ""
      }
     },
     "2db19e4237d3449d9910b0638c16772c": {
      "model_module": "@jupyter-widgets/controls",
      "model_module_version": "1.4.0",
      "model_name": "DescriptionStyleModel",
      "state": {
       "description_width": ""
      }
     },
     "2e095a259caf4324bf010f0d95fcb87a": {
      "model_module": "@jupyter-widgets/base",
      "model_module_version": "1.1.0",
      "model_name": "LayoutModel",
      "state": {}
     },
     "2e9fba6065f24a40816993eed30f11bc": {
      "model_module": "@jupyter-widgets/base",
      "model_module_version": "1.1.0",
      "model_name": "LayoutModel",
      "state": {}
     },
     "2eb4142caf864e079fce096ac01d0c85": {
      "model_module": "@jupyter-widgets/controls",
      "model_module_version": "1.4.0",
      "model_name": "CheckboxModel",
      "state": {
       "disabled": false,
       "layout": "IPY_MODEL_341d44ae9d454192a068828165837224",
       "style": "IPY_MODEL_db64e9ea49a04856a0cedaed485b6a99",
       "value": false
      }
     },
     "2f678c8980304dbead049e9fa90bac02": {
      "model_module": "@jupyter-widgets/base",
      "model_module_version": "1.1.0",
      "model_name": "LayoutModel",
      "state": {}
     },
     "2f9497c796ba4ccab68ea3640a25f95c": {
      "model_module": "@jupyter-widgets/controls",
      "model_module_version": "1.4.0",
      "model_name": "DescriptionStyleModel",
      "state": {
       "description_width": ""
      }
     },
     "2fcfae45b41d4edcaf0d79d7d6c6ad52": {
      "model_module": "@jupyter-widgets/controls",
      "model_module_version": "1.4.0",
      "model_name": "FloatTextModel",
      "state": {
       "layout": "IPY_MODEL_efaf38ef48cc4312a2f6ed4fc4ba4044",
       "step": null,
       "style": "IPY_MODEL_aac21ea073a0410a8f80b56f5a8bb488",
       "value": 1
      }
     },
     "303ce3ce19b94ac0aa3f886661626543": {
      "model_module": "@jupyter-widgets/controls",
      "model_module_version": "1.4.0",
      "model_name": "FloatSliderModel",
      "state": {
       "layout": "IPY_MODEL_b27bd26afb1641c9aaba7311b3efd315",
       "max": 1,
       "step": 0.05,
       "style": "IPY_MODEL_e6983e97f50c49f8912cf47a4b3b7df4"
      }
     },
     "303d1a0442e34c40b0078b99abca6551": {
      "model_module": "@jupyter-widgets/controls",
      "model_module_version": "1.4.0",
      "model_name": "DropdownModel",
      "state": {
       "_options_labels": [
        "brief",
        "full",
        "False"
       ],
       "index": 0,
       "layout": "IPY_MODEL_bd4c52d7a0f34c8e9765c339c771adef",
       "style": "IPY_MODEL_c0a98cb893a243d3b06f54a547a7bdd5"
      }
     },
     "3042bbd16e5b41d7862e0aa59f5668b5": {
      "model_module": "@jupyter-widgets/controls",
      "model_module_version": "1.4.0",
      "model_name": "IntTextModel",
      "state": {
       "layout": "IPY_MODEL_52996a46c0be4581aff3edc6f370609a",
       "step": 1,
       "style": "IPY_MODEL_84dd2715533d4d1db4683bc00f0ce662",
       "value": 100
      }
     },
     "3042d24e5b124bb8b0ebb64561c5cbef": {
      "model_module": "@jupyter-widgets/output",
      "model_module_version": "1.0.0",
      "model_name": "OutputModel",
      "state": {
       "layout": "IPY_MODEL_4e0cd637e0ca414d95447718781582ac"
      }
     },
     "306589ca1bf84a2eb46e5414cf645c9c": {
      "model_module": "@jupyter-widgets/controls",
      "model_module_version": "1.4.0",
      "model_name": "CheckboxModel",
      "state": {
       "disabled": false,
       "layout": "IPY_MODEL_12177b1c82e0400baf518e30c99a51e9",
       "style": "IPY_MODEL_620cc74e5150416a9684c5d7f6a7a823",
       "value": false
      }
     },
     "3076c44abfa94d52abdc31f8f6198978": {
      "model_module": "@jupyter-widgets/base",
      "model_module_version": "1.1.0",
      "model_name": "LayoutModel",
      "state": {}
     },
     "308fcb9a13834e26adf2d396f837f177": {
      "model_module": "@jupyter-widgets/controls",
      "model_module_version": "1.4.0",
      "model_name": "DescriptionStyleModel",
      "state": {
       "description_width": ""
      }
     },
     "30a568a71d40458689b70a218e2e6df9": {
      "model_module": "@jupyter-widgets/controls",
      "model_module_version": "1.4.0",
      "model_name": "CheckboxModel",
      "state": {
       "disabled": false,
       "layout": "IPY_MODEL_4588bdc663e343f891d20a144ac0bac1",
       "style": "IPY_MODEL_746c8635b4264c51be9dbb8d5eb9558d",
       "value": false
      }
     },
     "30adde58aa3e4d87935fef58d6396c58": {
      "model_module": "@jupyter-widgets/base",
      "model_module_version": "1.1.0",
      "model_name": "LayoutModel",
      "state": {}
     },
     "30be09b85b2c4d729e1858c69d5f4be3": {
      "model_module": "@jupyter-widgets/controls",
      "model_module_version": "1.4.0",
      "model_name": "DescriptionStyleModel",
      "state": {
       "description_width": ""
      }
     },
     "312896d1c9ce45b19fc6667be7cdbfc9": {
      "model_module": "@jupyter-widgets/controls",
      "model_module_version": "1.4.0",
      "model_name": "DropdownModel",
      "state": {
       "_options_labels": [
        "Acceleration",
        "Cylinders",
        "Displacement",
        "Horsepower",
        "Miles_per_Gallon",
        "Name",
        "Origin",
        "Weight_in_lbs",
        "Year"
       ],
       "index": 0,
       "layout": "IPY_MODEL_c80dc68098b544c29d80d7d9d1ff16b7",
       "style": "IPY_MODEL_e1d88dbb25754174b4854b69107ac6f9"
      }
     },
     "3143a25a16c646c88647659c5c20af33": {
      "model_module": "@jupyter-widgets/controls",
      "model_module_version": "1.4.0",
      "model_name": "FloatTextModel",
      "state": {
       "layout": "IPY_MODEL_e304ce39a3f645a3b5308f1d4153ae2a",
       "step": null,
       "style": "IPY_MODEL_4ef4bff12dab4a96b8306acbc5f3a6fc",
       "value": 1
      }
     },
     "314b0c9c5e3b4cbeaa8c6bc56cf82e69": {
      "model_module": "@jupyter-widgets/controls",
      "model_module_version": "1.4.0",
      "model_name": "SliderStyleModel",
      "state": {
       "description_width": ""
      }
     },
     "31631ec90e9b4401b77a9ed652e9f644": {
      "model_module": "@jupyter-widgets/controls",
      "model_module_version": "1.4.0",
      "model_name": "DescriptionStyleModel",
      "state": {
       "description_width": ""
      }
     },
     "316eaf4014bf4d91be9ea1bc1a17d6d6": {
      "model_module": "@jupyter-widgets/controls",
      "model_module_version": "1.4.0",
      "model_name": "DescriptionStyleModel",
      "state": {
       "description_width": ""
      }
     },
     "3186db9bf4e943e8a569b1007b7721d0": {
      "model_module": "@jupyter-widgets/controls",
      "model_module_version": "1.4.0",
      "model_name": "DescriptionStyleModel",
      "state": {
       "description_width": ""
      }
     },
     "319a6413ff83469c83152acb7cca47d8": {
      "model_module": "@jupyter-widgets/base",
      "model_module_version": "1.1.0",
      "model_name": "LayoutModel",
      "state": {}
     },
     "319c7d11673c475b943296b79e027109": {
      "model_module": "@jupyter-widgets/base",
      "model_module_version": "1.1.0",
      "model_name": "LayoutModel",
      "state": {}
     },
     "319e417a322944c69d19f1de7b8004c4": {
      "model_module": "@jupyter-widgets/base",
      "model_module_version": "1.1.0",
      "model_name": "LayoutModel",
      "state": {}
     },
     "31e5a0089d51414d99ccbdc54e5e67fc": {
      "model_module": "@jupyter-widgets/base",
      "model_module_version": "1.1.0",
      "model_name": "LayoutModel",
      "state": {}
     },
     "32053138bdff49158231088a4af913c6": {
      "model_module": "@jupyter-widgets/base",
      "model_module_version": "1.1.0",
      "model_name": "LayoutModel",
      "state": {}
     },
     "3259522dde864b39aead2f4a9c16ba88": {
      "model_module": "@jupyter-widgets/controls",
      "model_module_version": "1.4.0",
      "model_name": "DescriptionStyleModel",
      "state": {
       "description_width": ""
      }
     },
     "325b3083bb364cafaf72dd8ca706b7ed": {
      "model_module": "@jupyter-widgets/base",
      "model_module_version": "1.1.0",
      "model_name": "LayoutModel",
      "state": {}
     },
     "325e441a498c488fb6b86c21a6887121": {
      "model_module": "@jupyter-widgets/controls",
      "model_module_version": "1.4.0",
      "model_name": "DescriptionStyleModel",
      "state": {
       "description_width": ""
      }
     },
     "32892023cd1f4e50b15b6bd433e5f04e": {
      "model_module": "@jupyter-widgets/controls",
      "model_module_version": "1.4.0",
      "model_name": "DescriptionStyleModel",
      "state": {
       "description_width": ""
      }
     },
     "32a9cf53e32d49308c1a68ad193c9783": {
      "model_module": "@jupyter-widgets/controls",
      "model_module_version": "1.4.0",
      "model_name": "FloatTextModel",
      "state": {
       "layout": "IPY_MODEL_a46c6d0637cd4cf4bf66ed76363b1efd",
       "step": null,
       "style": "IPY_MODEL_4f22c07188e54135b135ddd18a2599b3",
       "value": 1
      }
     },
     "32b8dfb9ce254cab9fd04c506e02a691": {
      "model_module": "@jupyter-widgets/controls",
      "model_module_version": "1.4.0",
      "model_name": "DescriptionStyleModel",
      "state": {
       "description_width": ""
      }
     },
     "32e1a9e5aa994ecc93e38ff99f26de64": {
      "model_module": "@jupyter-widgets/controls",
      "model_module_version": "1.4.0",
      "model_name": "DescriptionStyleModel",
      "state": {
       "description_width": ""
      }
     },
     "336da3455fe04025b7771ea4e9a53644": {
      "model_module": "@jupyter-widgets/controls",
      "model_module_version": "1.4.0",
      "model_name": "DescriptionStyleModel",
      "state": {
       "description_width": ""
      }
     },
     "3379ef9203ae433ca369f86e799c5024": {
      "model_module": "@jupyter-widgets/base",
      "model_module_version": "1.1.0",
      "model_name": "LayoutModel",
      "state": {}
     },
     "33a032c7086341fd897ec3314e57fe3b": {
      "model_module": "@jupyter-widgets/controls",
      "model_module_version": "1.4.0",
      "model_name": "CheckboxModel",
      "state": {
       "disabled": false,
       "layout": "IPY_MODEL_0abf55887fc44496b9349feb2181f7a4",
       "style": "IPY_MODEL_9e13239a40374b1cbc3383a6bdd48b0c",
       "value": false
      }
     },
     "33bda08040514c7a8b9658394b694976": {
      "model_module": "@jupyter-widgets/controls",
      "model_module_version": "1.4.0",
      "model_name": "DescriptionStyleModel",
      "state": {
       "description_width": ""
      }
     },
     "33c143ccb5df46faa78a3b5edb45444b": {
      "model_module": "@jupyter-widgets/controls",
      "model_module_version": "1.4.0",
      "model_name": "DescriptionStyleModel",
      "state": {
       "description_width": ""
      }
     },
     "33df1e7f50ca454286cd1949fe2622b2": {
      "model_module": "@jupyter-widgets/base",
      "model_module_version": "1.1.0",
      "model_name": "LayoutModel",
      "state": {}
     },
     "33fdb73469d443e4b9e60124fc056f16": {
      "model_module": "@jupyter-widgets/controls",
      "model_module_version": "1.4.0",
      "model_name": "DescriptionStyleModel",
      "state": {
       "description_width": ""
      }
     },
     "33fee98e296f4639888a324e81169866": {
      "model_module": "@jupyter-widgets/controls",
      "model_module_version": "1.4.0",
      "model_name": "FloatTextModel",
      "state": {
       "layout": "IPY_MODEL_7d454313666543eda78d56de218f35aa",
       "step": null,
       "style": "IPY_MODEL_a9a505f4e5c04a4f8c585f29e241e34a",
       "value": 0.1
      }
     },
     "34021c3b169e4994b091ade799b3b388": {
      "model_module": "@jupyter-widgets/base",
      "model_module_version": "1.1.0",
      "model_name": "LayoutModel",
      "state": {}
     },
     "340a81420ed540c5bbbff1b0a24065d1": {
      "model_module": "@jupyter-widgets/base",
      "model_module_version": "1.1.0",
      "model_name": "LayoutModel",
      "state": {}
     },
     "341d44ae9d454192a068828165837224": {
      "model_module": "@jupyter-widgets/base",
      "model_module_version": "1.1.0",
      "model_name": "LayoutModel",
      "state": {}
     },
     "342914c14f7f4069854b1b2463cf5a68": {
      "model_module": "@jupyter-widgets/base",
      "model_module_version": "1.1.0",
      "model_name": "LayoutModel",
      "state": {}
     },
     "345b336a502d48b4b5edf411109f36d7": {
      "model_module": "@jupyter-widgets/controls",
      "model_module_version": "1.4.0",
      "model_name": "DescriptionStyleModel",
      "state": {
       "description_width": ""
      }
     },
     "3473a75dac3b4dd9984dcd161be85fb7": {
      "model_module": "@jupyter-widgets/controls",
      "model_module_version": "1.4.0",
      "model_name": "FloatTextModel",
      "state": {
       "layout": "IPY_MODEL_75adfd1d8010427eb8f1c9e2fa1b6fa6",
       "step": 0.1,
       "style": "IPY_MODEL_e91e338916fa49499cc24c93871b3d2b",
       "value": 1
      }
     },
     "3477c3a6c9644ca3b67b4ee3034a1319": {
      "model_module": "@jupyter-widgets/controls",
      "model_module_version": "1.4.0",
      "model_name": "DescriptionStyleModel",
      "state": {
       "description_width": ""
      }
     },
     "34b317f36b0a498d94daca7b00aa693a": {
      "model_module": "@jupyter-widgets/base",
      "model_module_version": "1.1.0",
      "model_name": "LayoutModel",
      "state": {}
     },
     "34fd89c8628a4ff5895d09cd6093c660": {
      "model_module": "@jupyter-widgets/controls",
      "model_module_version": "1.4.0",
      "model_name": "DescriptionStyleModel",
      "state": {
       "description_width": ""
      }
     },
     "350dc7b1573e412f819cd4dddc738398": {
      "model_module": "@jupyter-widgets/base",
      "model_module_version": "1.1.0",
      "model_name": "LayoutModel",
      "state": {}
     },
     "355fef4ff37a43a983c97f8f39737047": {
      "model_module": "@jupyter-widgets/base",
      "model_module_version": "1.1.0",
      "model_name": "LayoutModel",
      "state": {}
     },
     "356affb0ea4f4b239805423a2c6cdc8c": {
      "model_module": "@jupyter-widgets/base",
      "model_module_version": "1.1.0",
      "model_name": "LayoutModel",
      "state": {}
     },
     "35bfe5b5dc124d93ae7553c66dbb3577": {
      "model_module": "@jupyter-widgets/base",
      "model_module_version": "1.1.0",
      "model_name": "LayoutModel",
      "state": {}
     },
     "35c52c9d21b84357affce8a032737403": {
      "model_module": "@jupyter-widgets/base",
      "model_module_version": "1.1.0",
      "model_name": "LayoutModel",
      "state": {}
     },
     "35f17d6f47c347018a897204f5a2693e": {
      "model_module": "@jupyter-widgets/controls",
      "model_module_version": "1.4.0",
      "model_name": "DescriptionStyleModel",
      "state": {
       "description_width": ""
      }
     },
     "36308c249bed49b19f1044b06a232bcd": {
      "model_module": "@jupyter-widgets/controls",
      "model_module_version": "1.4.0",
      "model_name": "HBoxModel",
      "state": {
       "children": [
        "IPY_MODEL_88c2b249f16d4ad8ba19a9b44b5a07a5",
        "IPY_MODEL_dda1a0dcd9bc4f6fb5ce0a03fefc9e79"
       ],
       "layout": "IPY_MODEL_8ad03059981b4ceb975dce02205bdc67"
      }
     },
     "366a7a1648b44603a9a36514d06a9a8b": {
      "model_module": "@jupyter-widgets/controls",
      "model_module_version": "1.4.0",
      "model_name": "DescriptionStyleModel",
      "state": {
       "description_width": ""
      }
     },
     "369101fd5f4143f6a06c4134cf6d0442": {
      "model_module": "@jupyter-widgets/controls",
      "model_module_version": "1.4.0",
      "model_name": "DescriptionStyleModel",
      "state": {
       "description_width": ""
      }
     },
     "36b8e5c7b4e94a2f862607bdf3e5bd0a": {
      "model_module": "@jupyter-widgets/controls",
      "model_module_version": "1.4.0",
      "model_name": "HBoxModel",
      "state": {
       "children": [
        "IPY_MODEL_a09c853eeec243388b4e071abbedef3d"
       ],
       "layout": "IPY_MODEL_5c5b6c11dd764281844ca0a5039d1706"
      }
     },
     "36bb579b65cd40af9a6419f548d8e844": {
      "model_module": "@jupyter-widgets/controls",
      "model_module_version": "1.4.0",
      "model_name": "DropdownModel",
      "state": {
       "_options_labels": [
        "o",
        "v",
        "^",
        "<",
        ">",
        "8",
        "s",
        "p",
        "*",
        "h",
        "H",
        "D",
        "d",
        "P",
        "X"
       ],
       "index": 0,
       "layout": "IPY_MODEL_615219e2783e413abc91841ce0ee900b",
       "style": "IPY_MODEL_75b6762045764493b7ba9eac5049d69b"
      }
     },
     "36d13d52f5a848748a05c06dbac1a278": {
      "model_module": "@jupyter-widgets/base",
      "model_module_version": "1.1.0",
      "model_name": "LayoutModel",
      "state": {}
     },
     "3753db8ef1104e1cb545ad7e5ed98841": {
      "model_module": "@jupyter-widgets/controls",
      "model_module_version": "1.4.0",
      "model_name": "DescriptionStyleModel",
      "state": {
       "description_width": ""
      }
     },
     "375b490a0b10473abf7fd96b0043db47": {
      "model_module": "@jupyter-widgets/controls",
      "model_module_version": "1.4.0",
      "model_name": "DescriptionStyleModel",
      "state": {
       "description_width": ""
      }
     },
     "377b274fb2974c2cbc7c36e3c5a4b75e": {
      "model_module": "@jupyter-widgets/controls",
      "model_module_version": "1.4.0",
      "model_name": "DescriptionStyleModel",
      "state": {
       "description_width": ""
      }
     },
     "3799b011f49c4e0ab5445a9e4de7b91d": {
      "model_module": "@jupyter-widgets/controls",
      "model_module_version": "1.4.0",
      "model_name": "DropdownModel",
      "state": {
       "_options_labels": [
        "scott",
        "silverman"
       ],
       "index": 0,
       "layout": "IPY_MODEL_d7f7e4a133994d1da85da9c415bad244",
       "style": "IPY_MODEL_3cfbcaa634b842e396c8cc52f5976990"
      }
     },
     "37b60fdd15ff4d13875439b5db59032d": {
      "model_module": "@jupyter-widgets/controls",
      "model_module_version": "1.4.0",
      "model_name": "IntTextModel",
      "state": {
       "layout": "IPY_MODEL_17278e4255584bccb6f4006b92f88e09",
       "step": 1,
       "style": "IPY_MODEL_3753db8ef1104e1cb545ad7e5ed98841",
       "value": 5
      }
     },
     "37c3c729882c4f3181025d0069b2940d": {
      "model_module": "@jupyter-widgets/controls",
      "model_module_version": "1.4.0",
      "model_name": "DropdownModel",
      "state": {
       "_options_labels": [
        "box",
        "quartile",
        "point",
        "stick"
       ],
       "index": 0,
       "layout": "IPY_MODEL_8b5142e6c57a4c7c9c8b277c479299cf",
       "style": "IPY_MODEL_928d6f69242549cc8e090b833b8c64f2"
      }
     },
     "37c7f3ad34ae48ceb9b87b73fcea8ea3": {
      "model_module": "@jupyter-widgets/base",
      "model_module_version": "1.1.0",
      "model_name": "LayoutModel",
      "state": {}
     },
     "37ddad6d151b4e7f9da892a60451a5f2": {
      "model_module": "@jupyter-widgets/base",
      "model_module_version": "1.1.0",
      "model_name": "LayoutModel",
      "state": {}
     },
     "384881f09de24a7cb9fd076b0cfe769b": {
      "model_module": "@jupyter-widgets/controls",
      "model_module_version": "1.4.0",
      "model_name": "DescriptionStyleModel",
      "state": {
       "description_width": ""
      }
     },
     "3871410e33ad4ff79aa221038b3537f0": {
      "model_module": "@jupyter-widgets/controls",
      "model_module_version": "1.4.0",
      "model_name": "CheckboxModel",
      "state": {
       "disabled": false,
       "layout": "IPY_MODEL_c8b999be1a6244e19697b6a15b7bd74b",
       "style": "IPY_MODEL_f819f387268c477682465fad3f4a8c92",
       "value": false
      }
     },
     "389bf633836d4a799d2ab58b605dc8fb": {
      "model_module": "@jupyter-widgets/base",
      "model_module_version": "1.1.0",
      "model_name": "LayoutModel",
      "state": {}
     },
     "391140b42a1b4b41ab224c95b4921637": {
      "model_module": "@jupyter-widgets/controls",
      "model_module_version": "1.4.0",
      "model_name": "DescriptionStyleModel",
      "state": {
       "description_width": ""
      }
     },
     "391ae882d8cf42a3a4464e7a5ac28607": {
      "model_module": "@jupyter-widgets/base",
      "model_module_version": "1.1.0",
      "model_name": "LayoutModel",
      "state": {}
     },
     "391e759081f049e485e264332ea1cc91": {
      "model_module": "@jupyter-widgets/controls",
      "model_module_version": "1.4.0",
      "model_name": "HBoxModel",
      "state": {
       "children": [
        "IPY_MODEL_4ca540b617df46b59e443c1a59d9f993"
       ],
       "layout": "IPY_MODEL_91c47650f97f487180f826a9217cb897"
      }
     },
     "39218c60396d4288be1936e1ebcc2c3e": {
      "model_module": "@jupyter-widgets/controls",
      "model_module_version": "1.4.0",
      "model_name": "DropdownModel",
      "state": {
       "_options_labels": [
        "Acceleration",
        "Cylinders",
        "Displacement",
        "Horsepower",
        "Miles_per_Gallon",
        "Name",
        "Origin",
        "Weight_in_lbs",
        "Year"
       ],
       "index": 0,
       "layout": "IPY_MODEL_903d611b1edf463a9b18fa9968672e83",
       "style": "IPY_MODEL_f25a5129ed294203b91a167f23a9f50b"
      }
     },
     "392210bcbde348e5be0e7ee1b615daf3": {
      "model_module": "@jupyter-widgets/controls",
      "model_module_version": "1.4.0",
      "model_name": "ButtonStyleModel",
      "state": {}
     },
     "3933da82da5c42f582047fb53235c743": {
      "model_module": "@jupyter-widgets/controls",
      "model_module_version": "1.4.0",
      "model_name": "TextModel",
      "state": {
       "layout": "IPY_MODEL_47b7890dbd4b47a8a40d6e0e08bcc873",
       "style": "IPY_MODEL_7abe7f0be27840fda74940478b074c23",
       "value": ".2g"
      }
     },
     "39aa93fdf817401085ec186cbbf93994": {
      "model_module": "@jupyter-widgets/base",
      "model_module_version": "1.1.0",
      "model_name": "LayoutModel",
      "state": {}
     },
     "39ba053dc6c848cead497ac9a5eca8f2": {
      "model_module": "@jupyter-widgets/base",
      "model_module_version": "1.1.0",
      "model_name": "LayoutModel",
      "state": {}
     },
     "39d282e972134bc7bf200fd0704a7afb": {
      "model_module": "@jupyter-widgets/base",
      "model_module_version": "1.1.0",
      "model_name": "LayoutModel",
      "state": {}
     },
     "39d68a7cf2a94dd6993307239c9709cb": {
      "model_module": "@jupyter-widgets/controls",
      "model_module_version": "1.4.0",
      "model_name": "IntTextModel",
      "state": {
       "layout": "IPY_MODEL_ee439c1dbff140b688c2700f5ac09c67",
       "step": 1,
       "style": "IPY_MODEL_7bb7ccd82531401d9ecf5110ccb8e52b",
       "value": 10
      }
     },
     "39e2356fb1504bada65feb8316108312": {
      "model_module": "@jupyter-widgets/controls",
      "model_module_version": "1.4.0",
      "model_name": "DropdownModel",
      "state": {
       "_options_labels": [
        "auto",
        "hist",
        "kde"
       ],
       "index": 0,
       "layout": "IPY_MODEL_790df5d406514b1cbcc78f7ae0556bb3",
       "style": "IPY_MODEL_3e703c6244a449b588f55036d1661865"
      }
     },
     "3a0075f2551e4ae0b26cc2820177bfe4": {
      "model_module": "@jupyter-widgets/controls",
      "model_module_version": "1.4.0",
      "model_name": "FloatTextModel",
      "state": {
       "layout": "IPY_MODEL_12ad9c1f3ffc48658e39aa7830a72a46",
       "step": null,
       "style": "IPY_MODEL_32892023cd1f4e50b15b6bd433e5f04e",
       "value": 1
      }
     },
     "3a556096af684f09a8e88e4be8fd978f": {
      "model_module": "@jupyter-widgets/base",
      "model_module_version": "1.1.0",
      "model_name": "LayoutModel",
      "state": {}
     },
     "3a80a40db29c4ef9ab8b10572067e492": {
      "model_module": "@jupyter-widgets/controls",
      "model_module_version": "1.4.0",
      "model_name": "DropdownModel",
      "state": {
       "_options_labels": [
        "area",
        "count",
        "width"
       ],
       "index": 0,
       "layout": "IPY_MODEL_5be89c4fa557472bb4609bcdd3286696",
       "style": "IPY_MODEL_80e2a1fb08c441e48c32a744c777f09c"
      }
     },
     "3aaabde4ae4e4097bdaddb03127c1660": {
      "model_module": "@jupyter-widgets/controls",
      "model_module_version": "1.4.0",
      "model_name": "SliderStyleModel",
      "state": {
       "description_width": ""
      }
     },
     "3ad284639c664c26bbbb48796722cdbf": {
      "model_module": "@jupyter-widgets/base",
      "model_module_version": "1.1.0",
      "model_name": "LayoutModel",
      "state": {}
     },
     "3af0a1eba9804aa3b32075c595e4f4a0": {
      "model_module": "@jupyter-widgets/base",
      "model_module_version": "1.1.0",
      "model_name": "LayoutModel",
      "state": {}
     },
     "3b20425e8ba247d88e55db899b8c87af": {
      "model_module": "@jupyter-widgets/controls",
      "model_module_version": "1.4.0",
      "model_name": "DescriptionStyleModel",
      "state": {
       "description_width": ""
      }
     },
     "3b93cb3594624bf4ae90eb480b5b4604": {
      "model_module": "@jupyter-widgets/controls",
      "model_module_version": "1.4.0",
      "model_name": "CheckboxModel",
      "state": {
       "disabled": false,
       "layout": "IPY_MODEL_73eac06e692f4f3a85c1a37900eaef19",
       "style": "IPY_MODEL_c3ce2658f1644e43a4f1e76f6b96896f",
       "value": false
      }
     },
     "3bb973faf45642c69abba3dfdfca9aa3": {
      "model_module": "@jupyter-widgets/base",
      "model_module_version": "1.1.0",
      "model_name": "LayoutModel",
      "state": {}
     },
     "3bf24a1ee99140dfa1745b21f4ecde80": {
      "model_module": "@jupyter-widgets/controls",
      "model_module_version": "1.4.0",
      "model_name": "DropdownModel",
      "state": {
       "_options_labels": [
        "scatter",
        "reg",
        "resid",
        "kde",
        "hex"
       ],
       "index": 0,
       "layout": "IPY_MODEL_92c0182f538e4047973ad42faf81933d",
       "style": "IPY_MODEL_94c09f2220b3441b8fb1d287d100feb1"
      }
     },
     "3c091748ed744dc3a1474fcd3ee1a903": {
      "model_module": "@jupyter-widgets/controls",
      "model_module_version": "1.4.0",
      "model_name": "ButtonModel",
      "state": {
       "description": "remove",
       "layout": "IPY_MODEL_96f01882f4224a07a724c2e04d0f92f1",
       "style": "IPY_MODEL_bdb2a8b281c344b0bdf14260ac0c3b0c"
      }
     },
     "3c208f2a02664ac0ae66b18c6baba38b": {
      "model_module": "@jupyter-widgets/controls",
      "model_module_version": "1.4.0",
      "model_name": "DropdownModel",
      "state": {
       "_options_labels": [
        "petalLength",
        "petalWidth",
        "sepalLength",
        "sepalWidth",
        "species"
       ],
       "index": 0,
       "layout": "IPY_MODEL_bd04271c892249b0814c5bafa2b67065",
       "style": "IPY_MODEL_3477c3a6c9644ca3b67b4ee3034a1319"
      }
     },
     "3c28a91d15994ea18c0d24530094fd6b": {
      "model_module": "@jupyter-widgets/controls",
      "model_module_version": "1.4.0",
      "model_name": "DescriptionStyleModel",
      "state": {
       "description_width": ""
      }
     },
     "3caa93de7b1f4ee6879fbefcb70af75b": {
      "model_module": "@jupyter-widgets/base",
      "model_module_version": "1.1.0",
      "model_name": "LayoutModel",
      "state": {}
     },
     "3cf2fe7c43d44d67a02ce8a82e470515": {
      "model_module": "@jupyter-widgets/controls",
      "model_module_version": "1.4.0",
      "model_name": "DropdownModel",
      "state": {
       "_options_labels": [
        "barplot",
        "boxenplot",
        "boxplot",
        "catplot",
        "countplot",
        "distplot",
        "heatmap",
        "jointplot",
        "kdeplot",
        "lineplot",
        "lmplot",
        "pairplot",
        "pointplot",
        "regplot",
        "relplot",
        "residplot",
        "scatterplot",
        "stripplot",
        "swarmplot",
        "violinplot"
       ],
       "description": "Plot type",
       "index": 0,
       "layout": "IPY_MODEL_7235452f1f724076801f8a4037750fb7",
       "style": "IPY_MODEL_0de7e360ddf047fbba6515a2b3bc50ee"
      }
     },
     "3cfbcaa634b842e396c8cc52f5976990": {
      "model_module": "@jupyter-widgets/controls",
      "model_module_version": "1.4.0",
      "model_name": "DescriptionStyleModel",
      "state": {
       "description_width": ""
      }
     },
     "3d0df5df7daf4d37b45764e09dcdb491": {
      "model_module": "@jupyter-widgets/controls",
      "model_module_version": "1.4.0",
      "model_name": "FloatTextModel",
      "state": {
       "layout": "IPY_MODEL_40e9b56ccdb147de84d0f448634ab056",
       "step": null,
       "style": "IPY_MODEL_8f02011f9f4c4353a28aa06df3a8f179",
       "value": 0.1
      }
     },
     "3d1e4ac7a7eb4890822aa3b26d19eca5": {
      "model_module": "@jupyter-widgets/controls",
      "model_module_version": "1.4.0",
      "model_name": "DescriptionStyleModel",
      "state": {
       "description_width": ""
      }
     },
     "3d25ad461d9c402488c5903bb6d82556": {
      "model_module": "@jupyter-widgets/controls",
      "model_module_version": "1.4.0",
      "model_name": "CheckboxModel",
      "state": {
       "disabled": false,
       "layout": "IPY_MODEL_5bf4e585f28c4e36b8a772cb1cfb3d47",
       "style": "IPY_MODEL_3f8d6701d5e54ffaab7f16ea768574c4",
       "value": false
      }
     },
     "3d62eba889104b78a4472f32d053fa2e": {
      "model_module": "@jupyter-widgets/controls",
      "model_module_version": "1.4.0",
      "model_name": "DropdownModel",
      "state": {
       "_options_labels": [
        "Acceleration",
        "Cylinders",
        "Displacement",
        "Horsepower",
        "Miles_per_Gallon",
        "Name",
        "Origin",
        "Weight_in_lbs",
        "Year"
       ],
       "index": 0,
       "layout": "IPY_MODEL_3a556096af684f09a8e88e4be8fd978f",
       "style": "IPY_MODEL_517876b4c8e64a79a51d8a5ab2217ce3"
      }
     },
     "3da3156f6d364042ac0e853f2c5e5a4f": {
      "model_module": "@jupyter-widgets/base",
      "model_module_version": "1.1.0",
      "model_name": "LayoutModel",
      "state": {}
     },
     "3dde459151734dfdb5d5f965c5e9ee25": {
      "model_module": "@jupyter-widgets/base",
      "model_module_version": "1.1.0",
      "model_name": "LayoutModel",
      "state": {}
     },
     "3df8b73bad014a698f89b28dd7eebeba": {
      "model_module": "@jupyter-widgets/controls",
      "model_module_version": "1.4.0",
      "model_name": "LabelModel",
      "state": {
       "layout": "IPY_MODEL_b647e19d4cc542ddada64147c73d6e7f",
       "style": "IPY_MODEL_a418e1d0152541d9a849cec3d0f18b4f",
       "value": "---"
      }
     },
     "3e3b5df93d6e4aebad3c84a24753e727": {
      "model_module": "@jupyter-widgets/base",
      "model_module_version": "1.1.0",
      "model_name": "LayoutModel",
      "state": {}
     },
     "3e403be62a674ed59533f682131a4a9c": {
      "model_module": "@jupyter-widgets/controls",
      "model_module_version": "1.4.0",
      "model_name": "ButtonStyleModel",
      "state": {}
     },
     "3e45dde5956141f59baf8d854a057982": {
      "model_module": "@jupyter-widgets/controls",
      "model_module_version": "1.4.0",
      "model_name": "DescriptionStyleModel",
      "state": {
       "description_width": ""
      }
     },
     "3e52b348a1a1427caaf21d8c01e70b9a": {
      "model_module": "@jupyter-widgets/base",
      "model_module_version": "1.1.0",
      "model_name": "LayoutModel",
      "state": {}
     },
     "3e703c6244a449b588f55036d1661865": {
      "model_module": "@jupyter-widgets/controls",
      "model_module_version": "1.4.0",
      "model_name": "DescriptionStyleModel",
      "state": {
       "description_width": ""
      }
     },
     "3e77c3e000e74e3daf7e88bf5968c8b7": {
      "model_module": "@jupyter-widgets/controls",
      "model_module_version": "1.4.0",
      "model_name": "DropdownModel",
      "state": {
       "_options_labels": [
        "Acceleration",
        "Cylinders",
        "Displacement",
        "Horsepower",
        "Miles_per_Gallon",
        "Name",
        "Origin",
        "Weight_in_lbs",
        "Year"
       ],
       "index": 0,
       "layout": "IPY_MODEL_8d22c966b0f245319cb98e7a8315cec5",
       "style": "IPY_MODEL_c86cc5ced08e467fb28dd7cefba749cc"
      }
     },
     "3e77f02d4d3f431b8fdbbbbd589a977c": {
      "model_module": "@jupyter-widgets/controls",
      "model_module_version": "1.4.0",
      "model_name": "DescriptionStyleModel",
      "state": {
       "description_width": ""
      }
     },
     "3f22d18e9e4b4d5c99ad0932cc064c29": {
      "model_module": "@jupyter-widgets/controls",
      "model_module_version": "1.4.0",
      "model_name": "ButtonStyleModel",
      "state": {}
     },
     "3f5da48c85874a9895915636f7e41ea4": {
      "model_module": "@jupyter-widgets/controls",
      "model_module_version": "1.4.0",
      "model_name": "DropdownModel",
      "state": {
       "_options_labels": [
        "petalLength",
        "petalWidth",
        "sepalLength",
        "sepalWidth",
        "species"
       ],
       "index": 0,
       "layout": "IPY_MODEL_19074ccad33e4b8eaaa73d5618ce2dfe",
       "style": "IPY_MODEL_dc8f36a40c3f49a5b6cf44ee8551492e"
      }
     },
     "3f8d6701d5e54ffaab7f16ea768574c4": {
      "model_module": "@jupyter-widgets/controls",
      "model_module_version": "1.4.0",
      "model_name": "DescriptionStyleModel",
      "state": {
       "description_width": ""
      }
     },
     "3fb5eb45b82e4cedbf9d74cf9d3b87c7": {
      "model_module": "@jupyter-widgets/base",
      "model_module_version": "1.1.0",
      "model_name": "LayoutModel",
      "state": {}
     },
     "3fe46fed26314cbf9ac06a2fda467f66": {
      "model_module": "@jupyter-widgets/controls",
      "model_module_version": "1.4.0",
      "model_name": "DescriptionStyleModel",
      "state": {
       "description_width": ""
      }
     },
     "3ff1111dbace4572a5cb68653d616893": {
      "model_module": "@jupyter-widgets/controls",
      "model_module_version": "1.4.0",
      "model_name": "DescriptionStyleModel",
      "state": {
       "description_width": ""
      }
     },
     "4022f232410946b5880b5f94afce17a4": {
      "model_module": "@jupyter-widgets/controls",
      "model_module_version": "1.4.0",
      "model_name": "CheckboxModel",
      "state": {
       "disabled": false,
       "layout": "IPY_MODEL_4ed3ffe9f29b4454a3862caa077006eb",
       "style": "IPY_MODEL_bed03b5b5c37467bb6eb4e3453125915",
       "value": false
      }
     },
     "403273a05fa0430793bcffec25d8684e": {
      "model_module": "@jupyter-widgets/base",
      "model_module_version": "1.1.0",
      "model_name": "LayoutModel",
      "state": {}
     },
     "4068b8ddedec4415bbf37b0e7beb319a": {
      "model_module": "@jupyter-widgets/controls",
      "model_module_version": "1.4.0",
      "model_name": "DropdownModel",
      "state": {
       "_options_labels": [
        "barplot",
        "boxenplot",
        "boxplot",
        "catplot",
        "countplot",
        "distplot",
        "heatmap",
        "jointplot",
        "kdeplot",
        "lineplot",
        "lmplot",
        "pairplot",
        "pointplot",
        "regplot",
        "relplot",
        "residplot",
        "scatterplot",
        "stripplot",
        "swarmplot",
        "violinplot"
       ],
       "description": "Plot type",
       "index": 0,
       "layout": "IPY_MODEL_f6424cd730cd4d2d9194c84e8563b2c0",
       "style": "IPY_MODEL_0f386347d8164602b8631fea92f19757"
      }
     },
     "409e2a207e9244db84bdc1c675fb5103": {
      "model_module": "@jupyter-widgets/controls",
      "model_module_version": "1.4.0",
      "model_name": "CheckboxModel",
      "state": {
       "disabled": false,
       "layout": "IPY_MODEL_d8ac3cde9cbb410aad0c86ea4576fad3",
       "style": "IPY_MODEL_c4432e4ff1be495da278daff24f41c9b",
       "value": false
      }
     },
     "40a8355caf9943839bdd68541685b5bd": {
      "model_module": "@jupyter-widgets/controls",
      "model_module_version": "1.4.0",
      "model_name": "FloatSliderModel",
      "state": {
       "layout": "IPY_MODEL_d44ae46603c34b75b92bc33cdc2c9964",
       "step": 0.1,
       "style": "IPY_MODEL_55e7ed2dc6c74433a01dfa329ac1c8a5",
       "value": 95
      }
     },
     "40e9b56ccdb147de84d0f448634ab056": {
      "model_module": "@jupyter-widgets/base",
      "model_module_version": "1.1.0",
      "model_name": "LayoutModel",
      "state": {}
     },
     "412a156e13164d62b3f6897830f050ee": {
      "model_module": "@jupyter-widgets/controls",
      "model_module_version": "1.4.0",
      "model_name": "SliderStyleModel",
      "state": {
       "description_width": ""
      }
     },
     "4133b6fb249d4f1d93533b4e8b7e9534": {
      "model_module": "@jupyter-widgets/controls",
      "model_module_version": "1.4.0",
      "model_name": "CheckboxModel",
      "state": {
       "disabled": false,
       "layout": "IPY_MODEL_b4066e2f5c9342bca94eed3bdf1fdbca",
       "style": "IPY_MODEL_aaf5b40ee2874165acd7db3605d1c6f4",
       "value": false
      }
     },
     "415b2487fa8c4e01b3198475b3669942": {
      "model_module": "@jupyter-widgets/controls",
      "model_module_version": "1.4.0",
      "model_name": "DescriptionStyleModel",
      "state": {
       "description_width": ""
      }
     },
     "4171d7f96e0a40a998e59ecddc67dd3a": {
      "model_module": "@jupyter-widgets/controls",
      "model_module_version": "1.4.0",
      "model_name": "DescriptionStyleModel",
      "state": {
       "description_width": ""
      }
     },
     "4183b125996442d0b1af41e5d33a9d64": {
      "model_module": "@jupyter-widgets/controls",
      "model_module_version": "1.4.0",
      "model_name": "ButtonStyleModel",
      "state": {}
     },
     "4184dc2ef1404a2397da98d724777630": {
      "model_module": "@jupyter-widgets/controls",
      "model_module_version": "1.4.0",
      "model_name": "CheckboxModel",
      "state": {
       "disabled": false,
       "layout": "IPY_MODEL_d119899a715845769c25a1ffc9317b0a",
       "style": "IPY_MODEL_b41546b448d242a085ebca73d5653fbc",
       "value": false
      }
     },
     "41a7dba0fe6847558703453f66ba7ba5": {
      "model_module": "@jupyter-widgets/base",
      "model_module_version": "1.1.0",
      "model_name": "LayoutModel",
      "state": {}
     },
     "41ce10c3c25e46efa02f669eefe2dffd": {
      "model_module": "@jupyter-widgets/controls",
      "model_module_version": "1.4.0",
      "model_name": "DescriptionStyleModel",
      "state": {
       "description_width": ""
      }
     },
     "42ca7ee72fb7458da776e7110ca7bf9b": {
      "model_module": "@jupyter-widgets/controls",
      "model_module_version": "1.4.0",
      "model_name": "DescriptionStyleModel",
      "state": {
       "description_width": ""
      }
     },
     "42cad1e4c6944e5694fdde26d3fc2e9f": {
      "model_module": "@jupyter-widgets/controls",
      "model_module_version": "1.4.0",
      "model_name": "CheckboxModel",
      "state": {
       "disabled": false,
       "layout": "IPY_MODEL_8a59b0d125964756994d801f72da1e96",
       "style": "IPY_MODEL_308fcb9a13834e26adf2d396f837f177",
       "value": false
      }
     },
     "42e6ae87c14148e69a7f02af473e2b59": {
      "model_module": "@jupyter-widgets/controls",
      "model_module_version": "1.4.0",
      "model_name": "FloatSliderModel",
      "state": {
       "layout": "IPY_MODEL_1513e6ce693b4bc4a80faa1c8c0d3649",
       "max": 1,
       "step": 0.05,
       "style": "IPY_MODEL_cebb950a0b684086a2fb262ee2873b40"
      }
     },
     "4309ddea33534aab8ffd64e3b4e0ffc7": {
      "model_module": "@jupyter-widgets/base",
      "model_module_version": "1.1.0",
      "model_name": "LayoutModel",
      "state": {}
     },
     "433e92b1faa148a28ad31c85f0632359": {
      "model_module": "@jupyter-widgets/controls",
      "model_module_version": "1.4.0",
      "model_name": "DescriptionStyleModel",
      "state": {
       "description_width": ""
      }
     },
     "4376394cd4ed4a51a319d757e57afc71": {
      "model_module": "@jupyter-widgets/base",
      "model_module_version": "1.1.0",
      "model_name": "LayoutModel",
      "state": {}
     },
     "4396737d0e324ca78bd39f5ba3d8455e": {
      "model_module": "@jupyter-widgets/base",
      "model_module_version": "1.1.0",
      "model_name": "LayoutModel",
      "state": {}
     },
     "43b57fc95a8447d69a87acd7559b17ed": {
      "model_module": "@jupyter-widgets/controls",
      "model_module_version": "1.4.0",
      "model_name": "IntTextModel",
      "state": {
       "layout": "IPY_MODEL_d81c4d3a32dc4c39a09dc232a83d2e90",
       "step": 1,
       "style": "IPY_MODEL_cb3b6afa213a43099b46c6800b6590b9",
       "value": 100
      }
     },
     "44133f4270a24a34b7d53b2c2e9c4159": {
      "model_module": "@jupyter-widgets/base",
      "model_module_version": "1.1.0",
      "model_name": "LayoutModel",
      "state": {}
     },
     "442d75237b57421897154e1af05c58c0": {
      "model_module": "@jupyter-widgets/controls",
      "model_module_version": "1.4.0",
      "model_name": "CheckboxModel",
      "state": {
       "disabled": false,
       "layout": "IPY_MODEL_5fd4051a96654c3e8770bfc3173559f3",
       "style": "IPY_MODEL_842a837e9cdb4fa4baddabb733154cb4",
       "value": false
      }
     },
     "444f7b87c20148f1bee2ad24803ff983": {
      "model_module": "@jupyter-widgets/controls",
      "model_module_version": "1.4.0",
      "model_name": "DropdownModel",
      "state": {
       "_options_labels": [
        "point",
        "bar",
        "strip",
        "swarm",
        "box",
        "violin",
        "boxen"
       ],
       "index": 0,
       "layout": "IPY_MODEL_f3cfe55b7d4147c6abafbacf382e0e95",
       "style": "IPY_MODEL_3b20425e8ba247d88e55db899b8c87af"
      }
     },
     "4477e1a563dd466f852c3a4ff307d13f": {
      "model_module": "@jupyter-widgets/controls",
      "model_module_version": "1.4.0",
      "model_name": "DescriptionStyleModel",
      "state": {
       "description_width": ""
      }
     },
     "44e13cfac7d04a9285999b27ac3acbbe": {
      "model_module": "@jupyter-widgets/controls",
      "model_module_version": "1.4.0",
      "model_name": "DescriptionStyleModel",
      "state": {
       "description_width": ""
      }
     },
     "45335b29e2504604b9501f77b1649a76": {
      "model_module": "@jupyter-widgets/base",
      "model_module_version": "1.1.0",
      "model_name": "LayoutModel",
      "state": {}
     },
     "45657fb4c6e34bd984c70686dedcab34": {
      "model_module": "@jupyter-widgets/controls",
      "model_module_version": "1.4.0",
      "model_name": "HBoxModel",
      "state": {
       "children": [
        "IPY_MODEL_baf159c588f74752af61338afb84decb",
        "IPY_MODEL_d9ef98e8b36d4bf79d44a77a1e55345a"
       ],
       "layout": "IPY_MODEL_34b317f36b0a498d94daca7b00aa693a"
      }
     },
     "4588bdc663e343f891d20a144ac0bac1": {
      "model_module": "@jupyter-widgets/base",
      "model_module_version": "1.1.0",
      "model_name": "LayoutModel",
      "state": {}
     },
     "45d043b028834407a927039e9e6119d4": {
      "model_module": "@jupyter-widgets/controls",
      "model_module_version": "1.4.0",
      "model_name": "DropdownModel",
      "state": {
       "_options_labels": [
        "auto",
        "hist",
        "kde"
       ],
       "index": 0,
       "layout": "IPY_MODEL_8d6c7d922b894786b44c5dc0c8b36f51",
       "style": "IPY_MODEL_a15cef81876541759fe5d518f8088c1f"
      }
     },
     "45e5070426a64b24b28e85a11b631d5f": {
      "model_module": "@jupyter-widgets/controls",
      "model_module_version": "1.4.0",
      "model_name": "DropdownModel",
      "state": {
       "_options_labels": [
        "proportion",
        "tukey",
        "trustworthy"
       ],
       "index": 0,
       "layout": "IPY_MODEL_8a5ea17f5e1b45ea971cf065219462f8",
       "style": "IPY_MODEL_88d0daa83023456eb885f43c821ee233"
      }
     },
     "4683757aba4147fdbb4206574ac82103": {
      "model_module": "@jupyter-widgets/base",
      "model_module_version": "1.1.0",
      "model_name": "LayoutModel",
      "state": {}
     },
     "46c402887e3c4cd693a1fe607ea9e4f0": {
      "model_module": "@jupyter-widgets/base",
      "model_module_version": "1.1.0",
      "model_name": "LayoutModel",
      "state": {}
     },
     "46d644b1f8484f34841d6d59e577e266": {
      "model_module": "@jupyter-widgets/base",
      "model_module_version": "1.1.0",
      "model_name": "LayoutModel",
      "state": {}
     },
     "46dc8ef8d6524b648bf907a45f6b9a80": {
      "model_module": "@jupyter-widgets/controls",
      "model_module_version": "1.4.0",
      "model_name": "DescriptionStyleModel",
      "state": {
       "description_width": ""
      }
     },
     "46ddd5fff24f4e4aac4d078202e7d513": {
      "model_module": "@jupyter-widgets/base",
      "model_module_version": "1.1.0",
      "model_name": "LayoutModel",
      "state": {}
     },
     "46f193686a8a465c886326c0a49e6ea5": {
      "model_module": "@jupyter-widgets/controls",
      "model_module_version": "1.4.0",
      "model_name": "DescriptionStyleModel",
      "state": {
       "description_width": ""
      }
     },
     "471cad1682c043b4ae72e8d082af3dfe": {
      "model_module": "@jupyter-widgets/controls",
      "model_module_version": "1.4.0",
      "model_name": "CheckboxModel",
      "state": {
       "disabled": false,
       "layout": "IPY_MODEL_e5db9e23ca0e4038b4cadb9f5eb10bb2",
       "style": "IPY_MODEL_df5497b00dcd4518ae09be9965afb384",
       "value": false
      }
     },
     "477f5ddab4314b298b82e649ce4db46f": {
      "model_module": "@jupyter-widgets/controls",
      "model_module_version": "1.4.0",
      "model_name": "DescriptionStyleModel",
      "state": {
       "description_width": ""
      }
     },
     "479c94f9999644bf832ce694272449d3": {
      "model_module": "@jupyter-widgets/controls",
      "model_module_version": "1.4.0",
      "model_name": "DropdownModel",
      "state": {
       "_options_labels": [
        "Acceleration",
        "Cylinders",
        "Displacement",
        "Horsepower",
        "Miles_per_Gallon",
        "Name",
        "Origin",
        "Weight_in_lbs",
        "Year"
       ],
       "index": 0,
       "layout": "IPY_MODEL_f189202770fe4d3da9c04cc25fb6e3a7",
       "style": "IPY_MODEL_1fc8fb2f57454b5c845a01c21fd392da"
      }
     },
     "47b7890dbd4b47a8a40d6e0e08bcc873": {
      "model_module": "@jupyter-widgets/base",
      "model_module_version": "1.1.0",
      "model_name": "LayoutModel",
      "state": {}
     },
     "47c1d2f6087a4fee81eec6a4ebf6dd62": {
      "model_module": "@jupyter-widgets/controls",
      "model_module_version": "1.4.0",
      "model_name": "DropdownModel",
      "state": {
       "_options_labels": [
        "Acceleration",
        "Cylinders",
        "Displacement",
        "Horsepower",
        "Miles_per_Gallon",
        "Name",
        "Origin",
        "Weight_in_lbs",
        "Year"
       ],
       "index": 0,
       "layout": "IPY_MODEL_f2afb40ebf494364b5f510595c38a31f",
       "style": "IPY_MODEL_50d0799c8c8c4ef3b01d2b88a8cb851b"
      }
     },
     "47c3252704834bce93053261f26503aa": {
      "model_module": "@jupyter-widgets/controls",
      "model_module_version": "1.4.0",
      "model_name": "DropdownModel",
      "state": {
       "_options_labels": [
        "area",
        "count",
        "width"
       ],
       "index": 0,
       "layout": "IPY_MODEL_aacc8730732b46848c73d7fee9601fb5",
       "style": "IPY_MODEL_a7306a390b234afc80b3bb3df9d369e8"
      }
     },
     "47d99904c7a24e5b82bf4192fed190fa": {
      "model_module": "@jupyter-widgets/base",
      "model_module_version": "1.1.0",
      "model_name": "LayoutModel",
      "state": {}
     },
     "47e3b2b8de2c48e79c7dd7620d4b8775": {
      "model_module": "@jupyter-widgets/base",
      "model_module_version": "1.1.0",
      "model_name": "LayoutModel",
      "state": {}
     },
     "47ec2c4a6fbb41e4929fba9859a308d5": {
      "model_module": "@jupyter-widgets/controls",
      "model_module_version": "1.4.0",
      "model_name": "DropdownModel",
      "state": {
       "_options_labels": [
        "Acceleration",
        "Cylinders",
        "Displacement",
        "Horsepower",
        "Miles_per_Gallon",
        "Name",
        "Origin",
        "Weight_in_lbs",
        "Year"
       ],
       "index": 0,
       "layout": "IPY_MODEL_27c95d80b52149e5a329fa96d7082917",
       "style": "IPY_MODEL_33bda08040514c7a8b9658394b694976"
      }
     },
     "48134b0b7c274433ae4baa059129fd03": {
      "model_module": "@jupyter-widgets/controls",
      "model_module_version": "1.4.0",
      "model_name": "DescriptionStyleModel",
      "state": {
       "description_width": ""
      }
     },
     "483ef9a68ce946129e0a9b895eb9149d": {
      "model_module": "@jupyter-widgets/controls",
      "model_module_version": "1.4.0",
      "model_name": "DescriptionStyleModel",
      "state": {
       "description_width": ""
      }
     },
     "4861b28a17764e4c8b0672b4bc06af42": {
      "model_module": "@jupyter-widgets/controls",
      "model_module_version": "1.4.0",
      "model_name": "IntTextModel",
      "state": {
       "layout": "IPY_MODEL_319c7d11673c475b943296b79e027109",
       "step": 1,
       "style": "IPY_MODEL_25ed80719b2d4c76b627002f1d1470c5",
       "value": 1000
      }
     },
     "487a4216726d40269bf8a37daee66ce5": {
      "model_module": "@jupyter-widgets/controls",
      "model_module_version": "1.4.0",
      "model_name": "SliderStyleModel",
      "state": {
       "description_width": ""
      }
     },
     "48c721d91b494d0887f0aeb8b0ff857f": {
      "model_module": "@jupyter-widgets/controls",
      "model_module_version": "1.4.0",
      "model_name": "HBoxModel",
      "state": {
       "children": [
        "IPY_MODEL_9c3b6b76bc134cdfa2d6544fa5aff82b",
        "IPY_MODEL_50aad0574dfd4fb2991c6bb40c289d14"
       ],
       "layout": "IPY_MODEL_f57e3111137e4e3493c53027217b3381"
      }
     },
     "49327ddb2f234a089517f4730e0edf3f": {
      "model_module": "@jupyter-widgets/controls",
      "model_module_version": "1.4.0",
      "model_name": "DescriptionStyleModel",
      "state": {
       "description_width": ""
      }
     },
     "49366b943d5b40debdcf305957274301": {
      "model_module": "@jupyter-widgets/controls",
      "model_module_version": "1.4.0",
      "model_name": "DescriptionStyleModel",
      "state": {
       "description_width": ""
      }
     },
     "4942fd6d2dd94b7d8d6a89bccbb2782a": {
      "model_module": "@jupyter-widgets/controls",
      "model_module_version": "1.4.0",
      "model_name": "CheckboxModel",
      "state": {
       "disabled": false,
       "layout": "IPY_MODEL_340a81420ed540c5bbbff1b0a24065d1",
       "style": "IPY_MODEL_94e5a123d5ca4e5f9dae050c2debf409",
       "value": false
      }
     },
     "49628ca6650f40eba1f9d20fb0eb7578": {
      "model_module": "@jupyter-widgets/controls",
      "model_module_version": "1.4.0",
      "model_name": "DescriptionStyleModel",
      "state": {
       "description_width": ""
      }
     },
     "496fe4dd0ae24fd8bbf67b208d39744c": {
      "model_module": "@jupyter-widgets/controls",
      "model_module_version": "1.4.0",
      "model_name": "DescriptionStyleModel",
      "state": {
       "description_width": ""
      }
     },
     "497945438fd44683b61c38afeceeb2a5": {
      "model_module": "@jupyter-widgets/base",
      "model_module_version": "1.1.0",
      "model_name": "LayoutModel",
      "state": {}
     },
     "49d46ab201f04c36a0b7608ca174c333": {
      "model_module": "@jupyter-widgets/base",
      "model_module_version": "1.1.0",
      "model_name": "LayoutModel",
      "state": {}
     },
     "49ee35c6f14c4218b3744a34d21be1b5": {
      "model_module": "@jupyter-widgets/base",
      "model_module_version": "1.1.0",
      "model_name": "LayoutModel",
      "state": {}
     },
     "4a439afb97f745ec92521de6b0659653": {
      "model_module": "@jupyter-widgets/controls",
      "model_module_version": "1.4.0",
      "model_name": "DescriptionStyleModel",
      "state": {
       "description_width": ""
      }
     },
     "4a787d2ad5364b4bb3c8992a37a9dba7": {
      "model_module": "@jupyter-widgets/base",
      "model_module_version": "1.1.0",
      "model_name": "LayoutModel",
      "state": {}
     },
     "4a98a468f3244ad6aacea6dbae348ca7": {
      "model_module": "@jupyter-widgets/controls",
      "model_module_version": "1.4.0",
      "model_name": "FloatSliderModel",
      "state": {
       "layout": "IPY_MODEL_b0e37f0665e04bbdbda9711827bf97f2",
       "step": 0.1,
       "style": "IPY_MODEL_ea6d93aa6fa04919a662214da0d7b2aa",
       "value": 95
      }
     },
     "4ac3080b1f1640f08b5ba980bd59de75": {
      "model_module": "@jupyter-widgets/controls",
      "model_module_version": "1.4.0",
      "model_name": "DescriptionStyleModel",
      "state": {
       "description_width": ""
      }
     },
     "4aff157b6e6941728f5d9d2da7f28c71": {
      "model_module": "@jupyter-widgets/controls",
      "model_module_version": "1.4.0",
      "model_name": "DropdownModel",
      "state": {
       "_options_labels": [
        "v",
        "h"
       ],
       "index": 0,
       "layout": "IPY_MODEL_bead324c0c2743fea35efcafc9c98f0c",
       "style": "IPY_MODEL_fbebd8d5e5a347ff86a6adad397fd07b"
      }
     },
     "4b08f601a0a24b59a6898150416456cc": {
      "model_module": "@jupyter-widgets/controls",
      "model_module_version": "1.4.0",
      "model_name": "CheckboxModel",
      "state": {
       "disabled": false,
       "layout": "IPY_MODEL_089bbae46b3a48af9ff9b7e99d9518e0",
       "style": "IPY_MODEL_53469d3552f44f788fcc5675d4d3a938",
       "value": false
      }
     },
     "4b2d47d3a4814aa8951611b4d80ea57a": {
      "model_module": "@jupyter-widgets/base",
      "model_module_version": "1.1.0",
      "model_name": "LayoutModel",
      "state": {}
     },
     "4b65247d1a3d449ea04bb2a2f148bc71": {
      "model_module": "@jupyter-widgets/controls",
      "model_module_version": "1.4.0",
      "model_name": "TextModel",
      "state": {
       "layout": "IPY_MODEL_e1d4610986844f7394d224b13cd3f112",
       "style": "IPY_MODEL_74df9c0bec27417ea099404fcccbcb2a"
      }
     },
     "4b6c2763e8aa4242b094d6cf82d8e4d7": {
      "model_module": "@jupyter-widgets/controls",
      "model_module_version": "1.4.0",
      "model_name": "DescriptionStyleModel",
      "state": {
       "description_width": ""
      }
     },
     "4b734a0ba7204b7e8597e13be463cf3e": {
      "model_module": "@jupyter-widgets/controls",
      "model_module_version": "1.4.0",
      "model_name": "CheckboxModel",
      "state": {
       "disabled": false,
       "layout": "IPY_MODEL_ed529000d6b647ac8e516bde5ced1dcf",
       "style": "IPY_MODEL_f2e87dfe16c84c46bcd0e9353e154a3a",
       "value": false
      }
     },
     "4b9a0bb3924542f392b1a906b53c5f58": {
      "model_module": "@jupyter-widgets/controls",
      "model_module_version": "1.4.0",
      "model_name": "DescriptionStyleModel",
      "state": {
       "description_width": ""
      }
     },
     "4ba22174f7f9498ea83ddd35e80536fd": {
      "model_module": "@jupyter-widgets/controls",
      "model_module_version": "1.4.0",
      "model_name": "DescriptionStyleModel",
      "state": {
       "description_width": ""
      }
     },
     "4bef14c935fd4e9a8ec4d6e46eb6d722": {
      "model_module": "@jupyter-widgets/controls",
      "model_module_version": "1.4.0",
      "model_name": "FloatTextModel",
      "state": {
       "layout": "IPY_MODEL_5999268f65a245e5a825a8e23eed8d18",
       "step": 0.01,
       "style": "IPY_MODEL_0dc82dd3fb7846a28ac2b99865aff3e9"
      }
     },
     "4bf1e28be8694485b4a23bd349bb20e1": {
      "model_module": "@jupyter-widgets/controls",
      "model_module_version": "1.4.0",
      "model_name": "DescriptionStyleModel",
      "state": {
       "description_width": ""
      }
     },
     "4bf53bb250b0420d860b2810c0b9890b": {
      "model_module": "@jupyter-widgets/controls",
      "model_module_version": "1.4.0",
      "model_name": "DescriptionStyleModel",
      "state": {
       "description_width": ""
      }
     },
     "4c033047841843a18e0d0ac1087ab7ea": {
      "model_module": "@jupyter-widgets/base",
      "model_module_version": "1.1.0",
      "model_name": "LayoutModel",
      "state": {}
     },
     "4c0ec99068a2438fa8bf0c7a670d40d5": {
      "model_module": "@jupyter-widgets/controls",
      "model_module_version": "1.4.0",
      "model_name": "DescriptionStyleModel",
      "state": {
       "description_width": ""
      }
     },
     "4c1e058c1bf84f50bffaae0d31996dd1": {
      "model_module": "@jupyter-widgets/controls",
      "model_module_version": "1.4.0",
      "model_name": "DescriptionStyleModel",
      "state": {
       "description_width": ""
      }
     },
     "4c30704af2104bb6a66d78e58d12b7be": {
      "model_module": "@jupyter-widgets/controls",
      "model_module_version": "1.4.0",
      "model_name": "CheckboxModel",
      "state": {
       "disabled": false,
       "layout": "IPY_MODEL_24591a418564401fa3ff4b288e36f705",
       "style": "IPY_MODEL_dd0a6114e6aa4193bdcb0198b95ce3d7",
       "value": false
      }
     },
     "4ca540b617df46b59e443c1a59d9f993": {
      "model_module": "@jupyter-widgets/controls",
      "model_module_version": "1.4.0",
      "model_name": "DropdownModel",
      "state": {
       "_options_labels": [
        "x",
        "y",
        "capsize",
        "ci",
        "color",
        "errwidth",
        "hue",
        "n_boot",
        "orient",
        "palette",
        "saturation",
        "units"
       ],
       "description": "Add arg",
       "index": null,
       "layout": "IPY_MODEL_4309ddea33534aab8ffd64e3b4e0ffc7",
       "style": "IPY_MODEL_d614a178621344fca31555d69f1ae320"
      }
     },
     "4ceb824b051849f381be6e7ddff6a1c2": {
      "model_module": "@jupyter-widgets/controls",
      "model_module_version": "1.4.0",
      "model_name": "IntTextModel",
      "state": {
       "layout": "IPY_MODEL_23205841031e469f8f3182fad1c424a1",
       "step": 1,
       "style": "IPY_MODEL_77b19d6781104baf8caff56c7ceb8087",
       "value": 10
      }
     },
     "4d16a7cfe5d2460cb5de0b1f0b3defd6": {
      "model_module": "@jupyter-widgets/base",
      "model_module_version": "1.1.0",
      "model_name": "LayoutModel",
      "state": {}
     },
     "4d29efab2b7341f09b91ff24c3eb1f51": {
      "model_module": "@jupyter-widgets/controls",
      "model_module_version": "1.4.0",
      "model_name": "DropdownModel",
      "state": {
       "_options_labels": [
        "Acceleration",
        "Cylinders",
        "Displacement",
        "Horsepower",
        "Miles_per_Gallon",
        "Name",
        "Origin",
        "Weight_in_lbs",
        "Year"
       ],
       "index": 0,
       "layout": "IPY_MODEL_986fc476b9da4a5a907b6c5e11c4ffdd",
       "style": "IPY_MODEL_a568dbc327c84e2c98ab6082fd498f20"
      }
     },
     "4d58e5dcdbe949ca95986590740aee4a": {
      "model_module": "@jupyter-widgets/base",
      "model_module_version": "1.1.0",
      "model_name": "LayoutModel",
      "state": {}
     },
     "4de7ebed38864a41aa48f601d55dbce1": {
      "model_module": "@jupyter-widgets/controls",
      "model_module_version": "1.4.0",
      "model_name": "HBoxModel",
      "state": {
       "children": [
        "IPY_MODEL_747dc598f80f4acab94b19fcf3d8daba"
       ],
       "layout": "IPY_MODEL_391ae882d8cf42a3a4464e7a5ac28607"
      }
     },
     "4e03ea38c2444050b460f665e7ddbf9d": {
      "model_module": "@jupyter-widgets/controls",
      "model_module_version": "1.4.0",
      "model_name": "CheckboxModel",
      "state": {
       "disabled": false,
       "layout": "IPY_MODEL_0dedfa885a2a48c493ffedbc1a395d96",
       "style": "IPY_MODEL_34fd89c8628a4ff5895d09cd6093c660",
       "value": false
      }
     },
     "4e0cd637e0ca414d95447718781582ac": {
      "model_module": "@jupyter-widgets/base",
      "model_module_version": "1.1.0",
      "model_name": "LayoutModel",
      "state": {}
     },
     "4e3abfc45ce34a88abfb39e645bb22fe": {
      "model_module": "@jupyter-widgets/controls",
      "model_module_version": "1.4.0",
      "model_name": "DescriptionStyleModel",
      "state": {
       "description_width": ""
      }
     },
     "4e87b588c4ae4f3eb719995a3d0c37e0": {
      "model_module": "@jupyter-widgets/controls",
      "model_module_version": "1.4.0",
      "model_name": "DropdownModel",
      "state": {
       "_options_labels": [
        "o",
        "v",
        "^",
        "<",
        ">",
        "8",
        "s",
        "p",
        "*",
        "h",
        "H",
        "D",
        "d",
        "P",
        "X"
       ],
       "index": 0,
       "layout": "IPY_MODEL_12cd98f1ee574145bedce980a85704b1",
       "style": "IPY_MODEL_5926c36918ca4ab5b754e1cee914e3ae"
      }
     },
     "4eb69cb346f94ab29b524c2633a28ad1": {
      "model_module": "@jupyter-widgets/controls",
      "model_module_version": "1.4.0",
      "model_name": "LabelModel",
      "state": {
       "layout": "IPY_MODEL_cf7ed393a91d4fe0aad4f494eaa6847f",
       "style": "IPY_MODEL_59d94441d398403b96638298f3b3da9c",
       "value": "---"
      }
     },
     "4ed3ffe9f29b4454a3862caa077006eb": {
      "model_module": "@jupyter-widgets/base",
      "model_module_version": "1.1.0",
      "model_name": "LayoutModel",
      "state": {}
     },
     "4ef4bff12dab4a96b8306acbc5f3a6fc": {
      "model_module": "@jupyter-widgets/controls",
      "model_module_version": "1.4.0",
      "model_name": "DescriptionStyleModel",
      "state": {
       "description_width": ""
      }
     },
     "4f005a381159400fb89c0f464d198ad8": {
      "model_module": "@jupyter-widgets/base",
      "model_module_version": "1.1.0",
      "model_name": "LayoutModel",
      "state": {}
     },
     "4f22c07188e54135b135ddd18a2599b3": {
      "model_module": "@jupyter-widgets/controls",
      "model_module_version": "1.4.0",
      "model_name": "DescriptionStyleModel",
      "state": {
       "description_width": ""
      }
     },
     "4f38493f4e3c4bdfb5fcf2e2b7702f9d": {
      "model_module": "@jupyter-widgets/base",
      "model_module_version": "1.1.0",
      "model_name": "LayoutModel",
      "state": {}
     },
     "4face01e7cb5409294f279980da4e4e3": {
      "model_module": "@jupyter-widgets/controls",
      "model_module_version": "1.4.0",
      "model_name": "DescriptionStyleModel",
      "state": {
       "description_width": ""
      }
     },
     "501915ee898448ffbe2fda724ef9d26d": {
      "model_module": "@jupyter-widgets/controls",
      "model_module_version": "1.4.0",
      "model_name": "FloatTextModel",
      "state": {
       "layout": "IPY_MODEL_e9cb077f02c248138924c98d187d7e0e",
       "step": 0.1,
       "style": "IPY_MODEL_072b1ae5650044bda775ebf0dad860fc",
       "value": 1
      }
     },
     "501c628c3ebe4f84a004a8078b8b847e": {
      "model_module": "@jupyter-widgets/controls",
      "model_module_version": "1.4.0",
      "model_name": "DropdownModel",
      "state": {
       "_options_labels": [
        "Acceleration",
        "Cylinders",
        "Displacement",
        "Horsepower",
        "Miles_per_Gallon",
        "Name",
        "Origin",
        "Weight_in_lbs",
        "Year"
       ],
       "description": "x",
       "index": 6,
       "layout": "IPY_MODEL_24458c59f7604801b233efdd82cda1b2",
       "style": "IPY_MODEL_b6bbaf1226404a369ac1cc0a1d16086c"
      }
     },
     "5056b1b3e1f44a3faf1fbcd71182b4fe": {
      "model_module": "@jupyter-widgets/base",
      "model_module_version": "1.1.0",
      "model_name": "LayoutModel",
      "state": {}
     },
     "507144b0563749d5a6a697a6dc0af0be": {
      "model_module": "@jupyter-widgets/base",
      "model_module_version": "1.1.0",
      "model_name": "LayoutModel",
      "state": {}
     },
     "50aad0574dfd4fb2991c6bb40c289d14": {
      "model_module": "@jupyter-widgets/controls",
      "model_module_version": "1.4.0",
      "model_name": "ButtonModel",
      "state": {
       "description": "remove",
       "layout": "IPY_MODEL_e30699aec600456eabf3d435f5fd5887",
       "style": "IPY_MODEL_c7de5f477c8e4fd28504c118cd152b50"
      }
     },
     "50d0799c8c8c4ef3b01d2b88a8cb851b": {
      "model_module": "@jupyter-widgets/controls",
      "model_module_version": "1.4.0",
      "model_name": "DescriptionStyleModel",
      "state": {
       "description_width": ""
      }
     },
     "50f769a33a45421fadde86337cf0cd82": {
      "model_module": "@jupyter-widgets/controls",
      "model_module_version": "1.4.0",
      "model_name": "DropdownModel",
      "state": {
       "_options_labels": [
        "o",
        "v",
        "^",
        "<",
        ">",
        "8",
        "s",
        "p",
        "*",
        "h",
        "H",
        "D",
        "d",
        "P",
        "X"
       ],
       "index": 0,
       "layout": "IPY_MODEL_37ddad6d151b4e7f9da892a60451a5f2",
       "style": "IPY_MODEL_0261d754f60a4934904c73aa3ba62806"
      }
     },
     "510ff94310fb4d3a82098d77d52882dd": {
      "model_module": "@jupyter-widgets/controls",
      "model_module_version": "1.4.0",
      "model_name": "DescriptionStyleModel",
      "state": {
       "description_width": ""
      }
     },
     "511c13e46b7245b58d67d79719969a8b": {
      "model_module": "@jupyter-widgets/controls",
      "model_module_version": "1.4.0",
      "model_name": "DescriptionStyleModel",
      "state": {
       "description_width": ""
      }
     },
     "512939cdbfa04c69b3f6de9ef91761db": {
      "model_module": "@jupyter-widgets/controls",
      "model_module_version": "1.4.0",
      "model_name": "DescriptionStyleModel",
      "state": {
       "description_width": ""
      }
     },
     "51392c84ead7439fbf08bdac6f914bb1": {
      "model_module": "@jupyter-widgets/controls",
      "model_module_version": "1.4.0",
      "model_name": "CheckboxModel",
      "state": {
       "disabled": false,
       "layout": "IPY_MODEL_de254156faf64b76acd16b7e0891f1c5",
       "style": "IPY_MODEL_12df07aa1a7c4dcabfb41b3490be1671",
       "value": false
      }
     },
     "514b9dbff41946cfbe4464f2c1788a90": {
      "model_module": "@jupyter-widgets/controls",
      "model_module_version": "1.4.0",
      "model_name": "CheckboxModel",
      "state": {
       "disabled": false,
       "layout": "IPY_MODEL_f6a0e7d0647f452993b4d14cac6d73c3",
       "style": "IPY_MODEL_4bf1e28be8694485b4a23bd349bb20e1",
       "value": false
      }
     },
     "5152a3bdf9d448b68eee9085d64b6830": {
      "model_module": "@jupyter-widgets/controls",
      "model_module_version": "1.4.0",
      "model_name": "CheckboxModel",
      "state": {
       "disabled": false,
       "layout": "IPY_MODEL_319a6413ff83469c83152acb7cca47d8",
       "style": "IPY_MODEL_2b8c742514dd4e38a21efec4045d211a",
       "value": false
      }
     },
     "517876b4c8e64a79a51d8a5ab2217ce3": {
      "model_module": "@jupyter-widgets/controls",
      "model_module_version": "1.4.0",
      "model_name": "DescriptionStyleModel",
      "state": {
       "description_width": ""
      }
     },
     "517af71e1cd64c3c81d64e189da1eb17": {
      "model_module": "@jupyter-widgets/controls",
      "model_module_version": "1.4.0",
      "model_name": "DescriptionStyleModel",
      "state": {
       "description_width": ""
      }
     },
     "51b200d6305d4864b4fc7db213804bff": {
      "model_module": "@jupyter-widgets/controls",
      "model_module_version": "1.4.0",
      "model_name": "CheckboxModel",
      "state": {
       "disabled": false,
       "layout": "IPY_MODEL_bd23570524ea4779b05c12295a2d72a4",
       "style": "IPY_MODEL_b9cfa6b8a6064b96aae65c11fd33469d",
       "value": false
      }
     },
     "51b5b59f231a498d97ffa2a0c0d79007": {
      "model_module": "@jupyter-widgets/controls",
      "model_module_version": "1.4.0",
      "model_name": "IntTextModel",
      "state": {
       "layout": "IPY_MODEL_f3df4252b15747e694d0928bc55a3b48",
       "step": 1,
       "style": "IPY_MODEL_41ce10c3c25e46efa02f669eefe2dffd",
       "value": 1000
      }
     },
     "51f226d28b8245b0ac20a3d5370480ef": {
      "model_module": "@jupyter-widgets/controls",
      "model_module_version": "1.4.0",
      "model_name": "DropdownModel",
      "state": {
       "_options_labels": [
        "petalLength",
        "petalWidth",
        "sepalLength",
        "sepalWidth",
        "species"
       ],
       "index": 0,
       "layout": "IPY_MODEL_f46bfcea14184dc7a75e26c60a63ae3a",
       "style": "IPY_MODEL_5eba56817df14362ac56cdca249333aa"
      }
     },
     "522210fd7b844b6ca9cf525544331712": {
      "model_module": "@jupyter-widgets/base",
      "model_module_version": "1.1.0",
      "model_name": "LayoutModel",
      "state": {}
     },
     "5225021477074c21ad3f8b178843953a": {
      "model_module": "@jupyter-widgets/controls",
      "model_module_version": "1.4.0",
      "model_name": "SliderStyleModel",
      "state": {
       "description_width": ""
      }
     },
     "52996a46c0be4581aff3edc6f370609a": {
      "model_module": "@jupyter-widgets/base",
      "model_module_version": "1.1.0",
      "model_name": "LayoutModel",
      "state": {}
     },
     "52ce7aa70c7f4295a26330bf65590089": {
      "model_module": "@jupyter-widgets/base",
      "model_module_version": "1.1.0",
      "model_name": "LayoutModel",
      "state": {}
     },
     "53066eaedc6c469aa42807dd66232615": {
      "model_module": "@jupyter-widgets/controls",
      "model_module_version": "1.4.0",
      "model_name": "DescriptionStyleModel",
      "state": {
       "description_width": ""
      }
     },
     "531fea599a284c13957f2aee3dc69c53": {
      "model_module": "@jupyter-widgets/controls",
      "model_module_version": "1.4.0",
      "model_name": "DropdownModel",
      "state": {
       "_options_labels": [
        "Acceleration",
        "Cylinders",
        "Displacement",
        "Horsepower",
        "Miles_per_Gallon",
        "Name",
        "Origin",
        "Weight_in_lbs",
        "Year"
       ],
       "index": 0,
       "layout": "IPY_MODEL_565235b164bd480baa062fe58065af5c",
       "style": "IPY_MODEL_aeba136b297b47f5b69b90c25f66bd93"
      }
     },
     "53218b83c8d44d0c8ddce61d7c23e0b8": {
      "model_module": "@jupyter-widgets/controls",
      "model_module_version": "1.4.0",
      "model_name": "FloatTextModel",
      "state": {
       "layout": "IPY_MODEL_53d880f2f4ac44f8b35408c74b2d4c86",
       "step": null,
       "style": "IPY_MODEL_937c02355a4a43eeb1432ac644374e98",
       "value": 1
      }
     },
     "53469d3552f44f788fcc5675d4d3a938": {
      "model_module": "@jupyter-widgets/controls",
      "model_module_version": "1.4.0",
      "model_name": "DescriptionStyleModel",
      "state": {
       "description_width": ""
      }
     },
     "5373b37398944d988ffcd1683a4a3a9f": {
      "model_module": "@jupyter-widgets/controls",
      "model_module_version": "1.4.0",
      "model_name": "TextModel",
      "state": {
       "layout": "IPY_MODEL_e79ec3f1e71c4e5495feb25a8c9018f1",
       "style": "IPY_MODEL_48134b0b7c274433ae4baa059129fd03",
       "value": "viridis"
      }
     },
     "53d5de612c46400d9a6bef5e997e971e": {
      "model_module": "@jupyter-widgets/controls",
      "model_module_version": "1.4.0",
      "model_name": "FloatSliderModel",
      "state": {
       "layout": "IPY_MODEL_223d01aa45fa4679b703cf0cb7984af4",
       "max": 1,
       "step": 0.05,
       "style": "IPY_MODEL_02b0658a204a4b3a8ea6c48982de7953",
       "value": 1
      }
     },
     "53d880f2f4ac44f8b35408c74b2d4c86": {
      "model_module": "@jupyter-widgets/base",
      "model_module_version": "1.1.0",
      "model_name": "LayoutModel",
      "state": {}
     },
     "53f398d117eb421c899fd401b9ec84ad": {
      "model_module": "@jupyter-widgets/base",
      "model_module_version": "1.1.0",
      "model_name": "LayoutModel",
      "state": {}
     },
     "53f3a592a9ef4e3183efcf628b9ae7ae": {
      "model_module": "@jupyter-widgets/controls",
      "model_module_version": "1.4.0",
      "model_name": "DescriptionStyleModel",
      "state": {
       "description_width": ""
      }
     },
     "5403ea313af74b9db546848a2c1f3afe": {
      "model_module": "@jupyter-widgets/controls",
      "model_module_version": "1.4.0",
      "model_name": "VBoxModel",
      "state": {
       "children": [
        "IPY_MODEL_b974af3c4cb74427ac2532cc932b7fff",
        "IPY_MODEL_da84f739d0124d7081a62d2bd10eef4e",
        "IPY_MODEL_dcd52c505ae2442ab6d55c2cf18883d5",
        "IPY_MODEL_36b8e5c7b4e94a2f862607bdf3e5bd0a",
        "IPY_MODEL_8a21dc5df4234631b571c49f93e232ea"
       ],
       "layout": "IPY_MODEL_98c33865e652474c955353a4738af456"
      }
     },
     "5418d7ea9c494a20acf3173495ebe664": {
      "model_module": "@jupyter-widgets/base",
      "model_module_version": "1.1.0",
      "model_name": "LayoutModel",
      "state": {}
     },
     "543729deb0fc4518940179e96a339bb5": {
      "model_module": "@jupyter-widgets/base",
      "model_module_version": "1.1.0",
      "model_name": "LayoutModel",
      "state": {}
     },
     "5437d3e272fb464d802441b0c5d12ff7": {
      "model_module": "@jupyter-widgets/base",
      "model_module_version": "1.1.0",
      "model_name": "LayoutModel",
      "state": {}
     },
     "54867b7493cf4bbca6b1cacab99876e5": {
      "model_module": "@jupyter-widgets/controls",
      "model_module_version": "1.4.0",
      "model_name": "DropdownModel",
      "state": {
       "_options_labels": [
        "Acceleration",
        "Cylinders",
        "Displacement",
        "Horsepower",
        "Miles_per_Gallon",
        "Name",
        "Origin",
        "Weight_in_lbs",
        "Year"
       ],
       "index": 0,
       "layout": "IPY_MODEL_159aef4c462a43b08a149f5f58b11269",
       "style": "IPY_MODEL_59925509fbd1456d8fc9b322c8e627de"
      }
     },
     "54a5b8f086b84521aa91a97350a70653": {
      "model_module": "@jupyter-widgets/base",
      "model_module_version": "1.1.0",
      "model_name": "LayoutModel",
      "state": {}
     },
     "54be910990604201bd754817a1a42756": {
      "model_module": "@jupyter-widgets/controls",
      "model_module_version": "1.4.0",
      "model_name": "DropdownModel",
      "state": {
       "_options_labels": [
        "Acceleration",
        "Cylinders",
        "Displacement",
        "Horsepower",
        "Miles_per_Gallon",
        "Name",
        "Origin",
        "Weight_in_lbs",
        "Year"
       ],
       "index": 0,
       "layout": "IPY_MODEL_0235d0420dc14c9789a421b5f8df2dff",
       "style": "IPY_MODEL_cbf01653a2454f4289cdded548b673d6"
      }
     },
     "54e3ef142b26420c9eb898e3c2c31fca": {
      "model_module": "@jupyter-widgets/controls",
      "model_module_version": "1.4.0",
      "model_name": "CheckboxModel",
      "state": {
       "disabled": false,
       "layout": "IPY_MODEL_6e00dad349bd465c8a0e6f22bcbf473d",
       "style": "IPY_MODEL_ab2ae0dd00704bac81900f364335063d",
       "value": false
      }
     },
     "553899c8e8ed401f8f6cffbe402bdfde": {
      "model_module": "@jupyter-widgets/controls",
      "model_module_version": "1.4.0",
      "model_name": "DescriptionStyleModel",
      "state": {
       "description_width": ""
      }
     },
     "5570ce249366415da70c0765d67d9601": {
      "model_module": "@jupyter-widgets/controls",
      "model_module_version": "1.4.0",
      "model_name": "IntTextModel",
      "state": {
       "layout": "IPY_MODEL_3ad284639c664c26bbbb48796722cdbf",
       "step": 1,
       "style": "IPY_MODEL_cf55a20228394240ba9f522f4f076946",
       "value": 1000
      }
     },
     "557524aba43d4eb7a37fb84b8524f4e3": {
      "model_module": "@jupyter-widgets/controls",
      "model_module_version": "1.4.0",
      "model_name": "FloatTextModel",
      "state": {
       "layout": "IPY_MODEL_8b46b372b54b4ac49937ceb435a738bf",
       "step": null,
       "style": "IPY_MODEL_e1bbb771c40744d899d96b0c12aa42b2",
       "value": 1
      }
     },
     "55b5daab900c4fffa85bd9537deae649": {
      "model_module": "@jupyter-widgets/base",
      "model_module_version": "1.1.0",
      "model_name": "LayoutModel",
      "state": {}
     },
     "55e7ed2dc6c74433a01dfa329ac1c8a5": {
      "model_module": "@jupyter-widgets/controls",
      "model_module_version": "1.4.0",
      "model_name": "SliderStyleModel",
      "state": {
       "description_width": ""
      }
     },
     "561650d48c6c4e659342458d89db5b45": {
      "model_module": "@jupyter-widgets/base",
      "model_module_version": "1.1.0",
      "model_name": "LayoutModel",
      "state": {}
     },
     "562d94d72e0d443893a4467dc41e4aab": {
      "model_module": "@jupyter-widgets/controls",
      "model_module_version": "1.4.0",
      "model_name": "CheckboxModel",
      "state": {
       "disabled": false,
       "layout": "IPY_MODEL_f04b4435417a40398865b2fffb00782c",
       "style": "IPY_MODEL_741ed60bc2fd46f4abd9fc4b39945a7a",
       "value": false
      }
     },
     "5631b390a826449a93f05c0462dae04f": {
      "model_module": "@jupyter-widgets/controls",
      "model_module_version": "1.4.0",
      "model_name": "FloatTextModel",
      "state": {
       "layout": "IPY_MODEL_32053138bdff49158231088a4af913c6",
       "step": null,
       "style": "IPY_MODEL_fd59fb79d73741ed87241f37c9c67f7e",
       "value": 0.2
      }
     },
     "565235b164bd480baa062fe58065af5c": {
      "model_module": "@jupyter-widgets/base",
      "model_module_version": "1.1.0",
      "model_name": "LayoutModel",
      "state": {}
     },
     "566a502aebcb46cb9f63efb977977569": {
      "model_module": "@jupyter-widgets/base",
      "model_module_version": "1.1.0",
      "model_name": "LayoutModel",
      "state": {}
     },
     "567eaae6d0f34577b16b78e19e0b821e": {
      "model_module": "@jupyter-widgets/base",
      "model_module_version": "1.1.0",
      "model_name": "LayoutModel",
      "state": {}
     },
     "5689fee9529a474cbb9e0b01a2e3fa95": {
      "model_module": "@jupyter-widgets/controls",
      "model_module_version": "1.4.0",
      "model_name": "DescriptionStyleModel",
      "state": {
       "description_width": ""
      }
     },
     "56c975b024884551bbadf28d5e7cec3d": {
      "model_module": "@jupyter-widgets/controls",
      "model_module_version": "1.4.0",
      "model_name": "SliderStyleModel",
      "state": {
       "description_width": ""
      }
     },
     "56fab13de9a64af4a58a0018dea326c7": {
      "model_module": "@jupyter-widgets/controls",
      "model_module_version": "1.4.0",
      "model_name": "FloatTextModel",
      "state": {
       "layout": "IPY_MODEL_c7595875452947c9a98f2832fa993eec",
       "step": 0.1,
       "style": "IPY_MODEL_f06da5530d3641e58afa4848acc5edd8",
       "value": 1
      }
     },
     "574f7a652a024302b3205395b7047099": {
      "model_module": "@jupyter-widgets/base",
      "model_module_version": "1.1.0",
      "model_name": "LayoutModel",
      "state": {}
     },
     "57934997ee86486aac99301b6c3fa8bf": {
      "model_module": "@jupyter-widgets/controls",
      "model_module_version": "1.4.0",
      "model_name": "DescriptionStyleModel",
      "state": {
       "description_width": ""
      }
     },
     "57adaac1f8564d70a1fa7265281dc4dd": {
      "model_module": "@jupyter-widgets/controls",
      "model_module_version": "1.4.0",
      "model_name": "DescriptionStyleModel",
      "state": {
       "description_width": ""
      }
     },
     "57b7208baeb74795b807b7031e414bef": {
      "model_module": "@jupyter-widgets/controls",
      "model_module_version": "1.4.0",
      "model_name": "CheckboxModel",
      "state": {
       "disabled": false,
       "layout": "IPY_MODEL_8da23dabf1f543bbb1c8117fbf79df5c",
       "style": "IPY_MODEL_95433eb236f244f3aceaf35113a62b30",
       "value": false
      }
     },
     "57ba1bfe6c024970ac17879d33e7cc2b": {
      "model_module": "@jupyter-widgets/controls",
      "model_module_version": "1.4.0",
      "model_name": "DescriptionStyleModel",
      "state": {
       "description_width": ""
      }
     },
     "5801ae30d2f342c0acc79dc042588df2": {
      "model_module": "@jupyter-widgets/base",
      "model_module_version": "1.1.0",
      "model_name": "LayoutModel",
      "state": {}
     },
     "582193fa14c9494ea3eb429d73ef6938": {
      "model_module": "@jupyter-widgets/base",
      "model_module_version": "1.1.0",
      "model_name": "LayoutModel",
      "state": {}
     },
     "586a5fefa7204466b3504ed6a91fd3ad": {
      "model_module": "@jupyter-widgets/controls",
      "model_module_version": "1.4.0",
      "model_name": "CheckboxModel",
      "state": {
       "disabled": false,
       "layout": "IPY_MODEL_e1caccf47e3a4d8e8327e8063014df27",
       "style": "IPY_MODEL_69ec127a4eb045b3bcd47220f34f155f",
       "value": false
      }
     },
     "5888e20383a14c83813b2543039012dd": {
      "model_module": "@jupyter-widgets/controls",
      "model_module_version": "1.4.0",
      "model_name": "DescriptionStyleModel",
      "state": {
       "description_width": ""
      }
     },
     "589ed307094a4af1937ba049aa77e0a2": {
      "model_module": "@jupyter-widgets/base",
      "model_module_version": "1.1.0",
      "model_name": "LayoutModel",
      "state": {}
     },
     "58a5f4dc3fff4e87af7f1d9268efb20a": {
      "model_module": "@jupyter-widgets/base",
      "model_module_version": "1.1.0",
      "model_name": "LayoutModel",
      "state": {}
     },
     "58acdefddaf9483c9031007d9f47561f": {
      "model_module": "@jupyter-widgets/controls",
      "model_module_version": "1.4.0",
      "model_name": "DropdownModel",
      "state": {
       "_options_labels": [
        "band",
        "bars"
       ],
       "index": 0,
       "layout": "IPY_MODEL_c192818989004595bb303c1b902c559f",
       "style": "IPY_MODEL_ba62e2d1b46441368ce08d5be81b7bdf"
      }
     },
     "58e08168bc6b43d18ebc72fb0368355e": {
      "model_module": "@jupyter-widgets/base",
      "model_module_version": "1.1.0",
      "model_name": "LayoutModel",
      "state": {}
     },
     "59104edd63e54abdab8d26165c080db1": {
      "model_module": "@jupyter-widgets/controls",
      "model_module_version": "1.4.0",
      "model_name": "TextModel",
      "state": {
       "layout": "IPY_MODEL_88a67ae789684eeea4985b6e1107e24a",
       "style": "IPY_MODEL_157cc69cd0b648198833c68b3dc4c61c"
      }
     },
     "59127d12d9434c56a396553f21fcc36d": {
      "model_module": "@jupyter-widgets/controls",
      "model_module_version": "1.4.0",
      "model_name": "CheckboxModel",
      "state": {
       "disabled": false,
       "layout": "IPY_MODEL_46c402887e3c4cd693a1fe607ea9e4f0",
       "style": "IPY_MODEL_fb5ae171a7cd42c5ba68f053a25462f8",
       "value": false
      }
     },
     "591e93550a2448a1bc2459c4c6b2ecae": {
      "model_module": "@jupyter-widgets/base",
      "model_module_version": "1.1.0",
      "model_name": "LayoutModel",
      "state": {}
     },
     "5921af9b0e834722b3f0609912a50666": {
      "model_module": "@jupyter-widgets/controls",
      "model_module_version": "1.4.0",
      "model_name": "DescriptionStyleModel",
      "state": {
       "description_width": ""
      }
     },
     "5926c36918ca4ab5b754e1cee914e3ae": {
      "model_module": "@jupyter-widgets/controls",
      "model_module_version": "1.4.0",
      "model_name": "DescriptionStyleModel",
      "state": {
       "description_width": ""
      }
     },
     "592f7c99280c447f86a9315902ef6d3c": {
      "model_module": "@jupyter-widgets/base",
      "model_module_version": "1.1.0",
      "model_name": "LayoutModel",
      "state": {}
     },
     "595628f85ad0451a981c8e596ceff258": {
      "model_module": "@jupyter-widgets/controls",
      "model_module_version": "1.4.0",
      "model_name": "TextModel",
      "state": {
       "layout": "IPY_MODEL_718ccd4b41614846adee7301c99fc0cf",
       "style": "IPY_MODEL_69018dac7f5e43389a136f41985839c2"
      }
     },
     "5971d9d8980c44d8a9f610617d3a510f": {
      "model_module": "@jupyter-widgets/controls",
      "model_module_version": "1.4.0",
      "model_name": "DescriptionStyleModel",
      "state": {
       "description_width": ""
      }
     },
     "598a42a6df284e0c8b4a506e8bee0c29": {
      "model_module": "@jupyter-widgets/controls",
      "model_module_version": "1.4.0",
      "model_name": "DescriptionStyleModel",
      "state": {
       "description_width": ""
      }
     },
     "598df0dbdf8c485998bab2e259748e29": {
      "model_module": "@jupyter-widgets/controls",
      "model_module_version": "1.4.0",
      "model_name": "DescriptionStyleModel",
      "state": {
       "description_width": ""
      }
     },
     "59925509fbd1456d8fc9b322c8e627de": {
      "model_module": "@jupyter-widgets/controls",
      "model_module_version": "1.4.0",
      "model_name": "DescriptionStyleModel",
      "state": {
       "description_width": ""
      }
     },
     "5999268f65a245e5a825a8e23eed8d18": {
      "model_module": "@jupyter-widgets/base",
      "model_module_version": "1.1.0",
      "model_name": "LayoutModel",
      "state": {}
     },
     "59ccd308313e46dbb2f0db0e631445df": {
      "model_module": "@jupyter-widgets/controls",
      "model_module_version": "1.4.0",
      "model_name": "DescriptionStyleModel",
      "state": {
       "description_width": ""
      }
     },
     "59d94441d398403b96638298f3b3da9c": {
      "model_module": "@jupyter-widgets/controls",
      "model_module_version": "1.4.0",
      "model_name": "DescriptionStyleModel",
      "state": {
       "description_width": ""
      }
     },
     "59e0ceb61a8d4fe3b3560e6399b247ca": {
      "model_module": "@jupyter-widgets/base",
      "model_module_version": "1.1.0",
      "model_name": "LayoutModel",
      "state": {}
     },
     "5a067182a86a41cda56e2f59a6bbf58f": {
      "model_module": "@jupyter-widgets/base",
      "model_module_version": "1.1.0",
      "model_name": "LayoutModel",
      "state": {}
     },
     "5a091de61c07432cb76fab43c92c56f5": {
      "model_module": "@jupyter-widgets/base",
      "model_module_version": "1.1.0",
      "model_name": "LayoutModel",
      "state": {}
     },
     "5a21ef17406941ec9be45204ad83521b": {
      "model_module": "@jupyter-widgets/base",
      "model_module_version": "1.1.0",
      "model_name": "LayoutModel",
      "state": {}
     },
     "5a3811ed7d3048bc8137794ecc44d635": {
      "model_module": "@jupyter-widgets/base",
      "model_module_version": "1.1.0",
      "model_name": "LayoutModel",
      "state": {}
     },
     "5a51ce73d91146e3a22cbcea80b98a45": {
      "model_module": "@jupyter-widgets/controls",
      "model_module_version": "1.4.0",
      "model_name": "CheckboxModel",
      "state": {
       "disabled": false,
       "layout": "IPY_MODEL_ab8d2bd8cf6a491b82f91b121f42b9d0",
       "style": "IPY_MODEL_9cb3f39c3f3b4a599d64d97729a87dea",
       "value": false
      }
     },
     "5a9d41c4cf874c009cb44effe039f42b": {
      "model_module": "@jupyter-widgets/controls",
      "model_module_version": "1.4.0",
      "model_name": "FloatTextModel",
      "state": {
       "layout": "IPY_MODEL_df7cd1d7d9794ad1a004a3ae00477c9b",
       "step": null,
       "style": "IPY_MODEL_e80d33c5a8c34c2f9b39736c10d4c2f2",
       "value": 0.1
      }
     },
     "5ab0089fdc9a43108a2cb033ff9158f6": {
      "model_module": "@jupyter-widgets/controls",
      "model_module_version": "1.4.0",
      "model_name": "DropdownModel",
      "state": {
       "_options_labels": [
        "petalLength",
        "petalWidth",
        "sepalLength",
        "sepalWidth",
        "species"
       ],
       "index": 0,
       "layout": "IPY_MODEL_638dac5cfae8464cb724ccd9755b49fb",
       "style": "IPY_MODEL_aa02c68f84bc4b948400c6b18f01d272"
      }
     },
     "5ad2da0558a548efa71e9d5029241734": {
      "model_module": "@jupyter-widgets/controls",
      "model_module_version": "1.4.0",
      "model_name": "DescriptionStyleModel",
      "state": {
       "description_width": ""
      }
     },
     "5b45ee2b594c4c61adb9cf281187d6d8": {
      "model_module": "@jupyter-widgets/base",
      "model_module_version": "1.1.0",
      "model_name": "LayoutModel",
      "state": {}
     },
     "5b4f515ffbbe47e6948cbd34de71b6f4": {
      "model_module": "@jupyter-widgets/base",
      "model_module_version": "1.1.0",
      "model_name": "LayoutModel",
      "state": {}
     },
     "5b603a1d21944866945aec43c270db78": {
      "model_module": "@jupyter-widgets/controls",
      "model_module_version": "1.4.0",
      "model_name": "DescriptionStyleModel",
      "state": {
       "description_width": ""
      }
     },
     "5b7904ba7ae2465aa1af3520d061325b": {
      "model_module": "@jupyter-widgets/controls",
      "model_module_version": "1.4.0",
      "model_name": "DescriptionStyleModel",
      "state": {
       "description_width": ""
      }
     },
     "5b8733bf32d147578365f221b53f5fdd": {
      "model_module": "@jupyter-widgets/base",
      "model_module_version": "1.1.0",
      "model_name": "LayoutModel",
      "state": {}
     },
     "5bb70bd9ff4541ab8a0c5abb0b29fdd3": {
      "model_module": "@jupyter-widgets/controls",
      "model_module_version": "1.4.0",
      "model_name": "IntTextModel",
      "state": {
       "layout": "IPY_MODEL_09a67d45342f41aeaeac2f1c72d12d26",
       "step": 1,
       "style": "IPY_MODEL_20df84c9b5bb4178a3b3113da463e89a",
       "value": 10
      }
     },
     "5be89c4fa557472bb4609bcdd3286696": {
      "model_module": "@jupyter-widgets/base",
      "model_module_version": "1.1.0",
      "model_name": "LayoutModel",
      "state": {}
     },
     "5be9cf9bdc084a87b5e87f9e4bc60288": {
      "model_module": "@jupyter-widgets/controls",
      "model_module_version": "1.4.0",
      "model_name": "IntTextModel",
      "state": {
       "layout": "IPY_MODEL_b357c8d2bd214ccb9c175f863dfe1a25",
       "step": 1,
       "style": "IPY_MODEL_06e9b6daea0045a7a67b68a4493215e0",
       "value": 10
      }
     },
     "5bf4e585f28c4e36b8a772cb1cfb3d47": {
      "model_module": "@jupyter-widgets/base",
      "model_module_version": "1.1.0",
      "model_name": "LayoutModel",
      "state": {}
     },
     "5c15f99fa69e44d798b8565cbd7dfb22": {
      "model_module": "@jupyter-widgets/controls",
      "model_module_version": "1.4.0",
      "model_name": "ButtonModel",
      "state": {
       "description": "remove",
       "layout": "IPY_MODEL_c7947a9c65064ffba2ce80268415a93b",
       "style": "IPY_MODEL_98e64a2ef6e14e139a4eb728a85c0234"
      }
     },
     "5c192de6fefd4931b288dcdaab35e1b8": {
      "model_module": "@jupyter-widgets/base",
      "model_module_version": "1.1.0",
      "model_name": "LayoutModel",
      "state": {}
     },
     "5c4a0e25fdd144ba96d8e2d5d2ee3353": {
      "model_module": "@jupyter-widgets/controls",
      "model_module_version": "1.4.0",
      "model_name": "HBoxModel",
      "state": {
       "children": [
        "IPY_MODEL_7218989168db4fe59e39106d07bf9568",
        "IPY_MODEL_bb92623fdc2847eaa80c90a26162f04d"
       ],
       "layout": "IPY_MODEL_6edf6f391c7443d3ac2bf5c51ba04c9c"
      }
     },
     "5c5b6c11dd764281844ca0a5039d1706": {
      "model_module": "@jupyter-widgets/base",
      "model_module_version": "1.1.0",
      "model_name": "LayoutModel",
      "state": {}
     },
     "5c999aec6de34df799da3d1473147f38": {
      "model_module": "@jupyter-widgets/base",
      "model_module_version": "1.1.0",
      "model_name": "LayoutModel",
      "state": {}
     },
     "5ca7e487253c494ea62908ddcf88b542": {
      "model_module": "@jupyter-widgets/controls",
      "model_module_version": "1.4.0",
      "model_name": "DropdownModel",
      "state": {
       "_options_labels": [
        "scott",
        "silverman"
       ],
       "index": 0,
       "layout": "IPY_MODEL_c7c0c313828d487e9747571bec439d05",
       "style": "IPY_MODEL_375b490a0b10473abf7fd96b0043db47"
      }
     },
     "5d15bef128324c8a997e4cd87b45645e": {
      "model_module": "@jupyter-widgets/controls",
      "model_module_version": "1.4.0",
      "model_name": "DescriptionStyleModel",
      "state": {
       "description_width": ""
      }
     },
     "5d677ba9aecd4827bf4e0d3d5b9f0ea7": {
      "model_module": "@jupyter-widgets/controls",
      "model_module_version": "1.4.0",
      "model_name": "DescriptionStyleModel",
      "state": {
       "description_width": ""
      }
     },
     "5d73ad80f30f4b90b826d9c8fb5b4544": {
      "model_module": "@jupyter-widgets/controls",
      "model_module_version": "1.4.0",
      "model_name": "DescriptionStyleModel",
      "state": {
       "description_width": ""
      }
     },
     "5d8316d1915148cfb6043b0c6334c7f4": {
      "model_module": "@jupyter-widgets/controls",
      "model_module_version": "1.4.0",
      "model_name": "FloatSliderModel",
      "state": {
       "layout": "IPY_MODEL_86776f08092247a7bf85e0d8feba5cb4",
       "step": 0.1,
       "style": "IPY_MODEL_f86a663dd74040899f7f3c6ff1dc12de",
       "value": 95
      }
     },
     "5e51b17b7ded4cf98dec7e6c978ab3d1": {
      "model_module": "@jupyter-widgets/controls",
      "model_module_version": "1.4.0",
      "model_name": "DescriptionStyleModel",
      "state": {
       "description_width": ""
      }
     },
     "5e56d2abbde04b699f7f87f722057010": {
      "model_module": "@jupyter-widgets/controls",
      "model_module_version": "1.4.0",
      "model_name": "FloatTextModel",
      "state": {
       "layout": "IPY_MODEL_582193fa14c9494ea3eb429d73ef6938",
       "step": null,
       "style": "IPY_MODEL_8fcec66dd61a4dfc9523f7bdff7d59fc",
       "value": 1
      }
     },
     "5e5f3bf6e2f045a986f6e7e6e9a90af2": {
      "model_module": "@jupyter-widgets/controls",
      "model_module_version": "1.4.0",
      "model_name": "DropdownModel",
      "state": {
       "_options_labels": [
        "Acceleration",
        "Cylinders",
        "Displacement",
        "Horsepower",
        "Miles_per_Gallon",
        "Name",
        "Origin",
        "Weight_in_lbs",
        "Year"
       ],
       "index": 0,
       "layout": "IPY_MODEL_26bfa950505f4934bcaa66851d71b7fb",
       "style": "IPY_MODEL_fa6d523075e6424f85115bf44427395a"
      }
     },
     "5e625ffc144f4865ba72844cb379ed7d": {
      "model_module": "@jupyter-widgets/controls",
      "model_module_version": "1.4.0",
      "model_name": "LabelModel",
      "state": {
       "layout": "IPY_MODEL_0e5eac6b76174c1dbe897c650f59e4ba",
       "style": "IPY_MODEL_13e57d4514d544feb8c862277fed23c1",
       "value": "---"
      }
     },
     "5e77c0b34f594f4caf93b4b167e78468": {
      "model_module": "@jupyter-widgets/controls",
      "model_module_version": "1.4.0",
      "model_name": "FloatTextModel",
      "state": {
       "layout": "IPY_MODEL_c0c5ef5af2ff45c5bb6a4a09565bd3ab",
       "step": null,
       "style": "IPY_MODEL_f6b467bbbf4f40bbb5aa2af055bf989f",
       "value": 0.1
      }
     },
     "5e7be07661fe40beb5404be9c056c58b": {
      "model_module": "@jupyter-widgets/controls",
      "model_module_version": "1.4.0",
      "model_name": "DescriptionStyleModel",
      "state": {
       "description_width": ""
      }
     },
     "5e7cd8b8d2714409a9f7cbe45f999269": {
      "model_module": "@jupyter-widgets/controls",
      "model_module_version": "1.4.0",
      "model_name": "DescriptionStyleModel",
      "state": {
       "description_width": ""
      }
     },
     "5e89b59dad4a4923a6256da9f1df6870": {
      "model_module": "@jupyter-widgets/controls",
      "model_module_version": "1.4.0",
      "model_name": "DropdownModel",
      "state": {
       "_options_labels": [
        "scott",
        "silverman"
       ],
       "index": 0,
       "layout": "IPY_MODEL_2e095a259caf4324bf010f0d95fcb87a",
       "style": "IPY_MODEL_f9d8577e693b4ffa802efa295381f3d7"
      }
     },
     "5e931f9bb2cc4846be0b9e610c42cac6": {
      "model_module": "@jupyter-widgets/base",
      "model_module_version": "1.1.0",
      "model_name": "LayoutModel",
      "state": {}
     },
     "5eba56817df14362ac56cdca249333aa": {
      "model_module": "@jupyter-widgets/controls",
      "model_module_version": "1.4.0",
      "model_name": "DescriptionStyleModel",
      "state": {
       "description_width": ""
      }
     },
     "5ed349d62af04169835463c77de15468": {
      "model_module": "@jupyter-widgets/base",
      "model_module_version": "1.1.0",
      "model_name": "LayoutModel",
      "state": {}
     },
     "5ed8c501f5e742dfb3fbbd52e31138e0": {
      "model_module": "@jupyter-widgets/base",
      "model_module_version": "1.1.0",
      "model_name": "LayoutModel",
      "state": {}
     },
     "5f2588e8ccd8425789b632c0caccc0e2": {
      "model_module": "@jupyter-widgets/base",
      "model_module_version": "1.1.0",
      "model_name": "LayoutModel",
      "state": {}
     },
     "5f42319a6ebc42ceb1eaacc457f25134": {
      "model_module": "@jupyter-widgets/controls",
      "model_module_version": "1.4.0",
      "model_name": "HBoxModel",
      "state": {
       "children": [
        "IPY_MODEL_08b3728e263e40a0b276b5b6ac94cc1b"
       ],
       "layout": "IPY_MODEL_4d16a7cfe5d2460cb5de0b1f0b3defd6"
      }
     },
     "5f9257790d75446a88f32bb7465ba949": {
      "model_module": "@jupyter-widgets/controls",
      "model_module_version": "1.4.0",
      "model_name": "ButtonModel",
      "state": {
       "description": "remove",
       "layout": "IPY_MODEL_a255f371e54443c8aa84e1f77e1c6842",
       "style": "IPY_MODEL_392210bcbde348e5be0e7ee1b615daf3"
      }
     },
     "5fd4051a96654c3e8770bfc3173559f3": {
      "model_module": "@jupyter-widgets/base",
      "model_module_version": "1.1.0",
      "model_name": "LayoutModel",
      "state": {}
     },
     "5ff157ca8f464738b03f229ec844ee78": {
      "model_module": "@jupyter-widgets/controls",
      "model_module_version": "1.4.0",
      "model_name": "DescriptionStyleModel",
      "state": {
       "description_width": ""
      }
     },
     "60122ece21a1427095c30411d20c1a2f": {
      "model_module": "@jupyter-widgets/controls",
      "model_module_version": "1.4.0",
      "model_name": "TextModel",
      "state": {
       "layout": "IPY_MODEL_c87c119ee21d4be2821de78af9fdbd25",
       "style": "IPY_MODEL_2c1857904d1b42b3b4c03fcee00b6533",
       "value": "viridis"
      }
     },
     "606a4dee6edc43bdb1329b1046e8e7a3": {
      "model_module": "@jupyter-widgets/controls",
      "model_module_version": "1.4.0",
      "model_name": "IntTextModel",
      "state": {
       "layout": "IPY_MODEL_3e52b348a1a1427caaf21d8c01e70b9a",
       "step": 1,
       "style": "IPY_MODEL_8a83f7e9fb3c4766b211cfb2e2bc02fa",
       "value": 100
      }
     },
     "6091726140384aec9882a8063d882cd5": {
      "model_module": "@jupyter-widgets/controls",
      "model_module_version": "1.4.0",
      "model_name": "CheckboxModel",
      "state": {
       "disabled": false,
       "layout": "IPY_MODEL_589ed307094a4af1937ba049aa77e0a2",
       "style": "IPY_MODEL_052072c603ad4809bb01bc5a8fc1afcc",
       "value": false
      }
     },
     "60bceb66ff964b0dbd34e7efda0e5a13": {
      "model_module": "@jupyter-widgets/controls",
      "model_module_version": "1.4.0",
      "model_name": "DropdownModel",
      "state": {
       "_options_labels": [
        "v",
        "h"
       ],
       "index": 0,
       "layout": "IPY_MODEL_ecf71877aeae4d7da553f85b8b2bc90c",
       "style": "IPY_MODEL_4ba22174f7f9498ea83ddd35e80536fd"
      }
     },
     "60cf40de69fa4348b5740670dec43a40": {
      "model_module": "@jupyter-widgets/controls",
      "model_module_version": "1.4.0",
      "model_name": "IntSliderModel",
      "state": {
       "layout": "IPY_MODEL_dfa9080756864ac089d7eaf833fffe20",
       "style": "IPY_MODEL_7dca441f00fd49f3a4d3508f4b541644",
       "value": 95
      }
     },
     "6144a6c52c044f47b4b5ccb62b42120b": {
      "model_module": "@jupyter-widgets/controls",
      "model_module_version": "1.4.0",
      "model_name": "CheckboxModel",
      "state": {
       "disabled": false,
       "layout": "IPY_MODEL_f24b5d253c264aa1b3dfff260a3089e8",
       "style": "IPY_MODEL_8b2d5e00026048d78a248c19cc921ba8",
       "value": false
      }
     },
     "6145256ad8af47ffbc299bc4140cd9bd": {
      "model_module": "@jupyter-widgets/controls",
      "model_module_version": "1.4.0",
      "model_name": "SliderStyleModel",
      "state": {
       "description_width": ""
      }
     },
     "615219e2783e413abc91841ce0ee900b": {
      "model_module": "@jupyter-widgets/base",
      "model_module_version": "1.1.0",
      "model_name": "LayoutModel",
      "state": {}
     },
     "618b55fad88a4f468be15e6eebb665fb": {
      "model_module": "@jupyter-widgets/controls",
      "model_module_version": "1.4.0",
      "model_name": "FloatTextModel",
      "state": {
       "layout": "IPY_MODEL_190734bd56b64e64ba5535875c9913f8",
       "step": 0.1,
       "style": "IPY_MODEL_b252a849e6124dc09b992772f8dfa12e",
       "value": 1
      }
     },
     "61bed41d3238466da9c01b48f0221329": {
      "model_module": "@jupyter-widgets/controls",
      "model_module_version": "1.4.0",
      "model_name": "DropdownModel",
      "state": {
       "_options_labels": [
        "petalLength",
        "petalWidth",
        "sepalLength",
        "sepalWidth",
        "species"
       ],
       "index": 0,
       "layout": "IPY_MODEL_cd2c0cb8d11545729195cab721a1a638",
       "style": "IPY_MODEL_511c13e46b7245b58d67d79719969a8b"
      }
     },
     "620cc74e5150416a9684c5d7f6a7a823": {
      "model_module": "@jupyter-widgets/controls",
      "model_module_version": "1.4.0",
      "model_name": "DescriptionStyleModel",
      "state": {
       "description_width": ""
      }
     },
     "620f849f2b6d4ba2a073d7ed667e6841": {
      "model_module": "@jupyter-widgets/base",
      "model_module_version": "1.1.0",
      "model_name": "LayoutModel",
      "state": {}
     },
     "6250d5f576e7410cb50708f0ef816aae": {
      "model_module": "@jupyter-widgets/controls",
      "model_module_version": "1.4.0",
      "model_name": "DescriptionStyleModel",
      "state": {
       "description_width": ""
      }
     },
     "6256b92ad97242419dafddf8b73a4c59": {
      "model_module": "@jupyter-widgets/controls",
      "model_module_version": "1.4.0",
      "model_name": "DropdownModel",
      "state": {
       "_options_labels": [
        "scatter",
        "reg"
       ],
       "index": 0,
       "layout": "IPY_MODEL_33df1e7f50ca454286cd1949fe2622b2",
       "style": "IPY_MODEL_d0f5f4e07d764b5e95f2207fc427ed0f"
      }
     },
     "6305064e3b864e3186278e4bae54b1a9": {
      "model_module": "@jupyter-widgets/controls",
      "model_module_version": "1.4.0",
      "model_name": "HBoxModel",
      "state": {
       "children": [
        "IPY_MODEL_1b722d369eb04c73882a6bab87f03a16",
        "IPY_MODEL_ea0725f527994946815a2ef52cb5be54"
       ],
       "layout": "IPY_MODEL_085c14ee5393421fbdeaa37a79ec3798"
      }
     },
     "6330cb3e5bfa48b5976c54798f3f6208": {
      "model_module": "@jupyter-widgets/controls",
      "model_module_version": "1.4.0",
      "model_name": "DescriptionStyleModel",
      "state": {
       "description_width": ""
      }
     },
     "6377e7cff1c54c039a69df28a58ca2d4": {
      "model_module": "@jupyter-widgets/controls",
      "model_module_version": "1.4.0",
      "model_name": "IntTextModel",
      "state": {
       "layout": "IPY_MODEL_1a0d068b8ddc4d53beb514bf72e88b4b",
       "step": 1,
       "style": "IPY_MODEL_4171d7f96e0a40a998e59ecddc67dd3a",
       "value": 10
      }
     },
     "638dac5cfae8464cb724ccd9755b49fb": {
      "model_module": "@jupyter-widgets/base",
      "model_module_version": "1.1.0",
      "model_name": "LayoutModel",
      "state": {}
     },
     "63b8b14f7d25482a9a6eae96899f2f4d": {
      "model_module": "@jupyter-widgets/controls",
      "model_module_version": "1.4.0",
      "model_name": "DescriptionStyleModel",
      "state": {
       "description_width": ""
      }
     },
     "63e8eedc34c54d8fa43bcacf0aca8239": {
      "model_module": "@jupyter-widgets/controls",
      "model_module_version": "1.4.0",
      "model_name": "DescriptionStyleModel",
      "state": {
       "description_width": ""
      }
     },
     "63f91e759e134078989cdc74e163ac78": {
      "model_module": "@jupyter-widgets/base",
      "model_module_version": "1.1.0",
      "model_name": "LayoutModel",
      "state": {}
     },
     "6411923647e04a248f7795891bf034cf": {
      "model_module": "@jupyter-widgets/controls",
      "model_module_version": "1.4.0",
      "model_name": "DescriptionStyleModel",
      "state": {
       "description_width": ""
      }
     },
     "64519d362e9147bd96a7a70642c36b48": {
      "model_module": "@jupyter-widgets/controls",
      "model_module_version": "1.4.0",
      "model_name": "LabelModel",
      "state": {
       "layout": "IPY_MODEL_9b325a8a8f1b461aa0dcec8d7e2aca24",
       "style": "IPY_MODEL_ac97d532d2da4b51bf1dd5809eb69562",
       "value": "---"
      }
     },
     "6469d87ec0024c1181e4e1fb12b1d644": {
      "model_module": "@jupyter-widgets/controls",
      "model_module_version": "1.4.0",
      "model_name": "DescriptionStyleModel",
      "state": {
       "description_width": ""
      }
     },
     "6472af0a4b0a4a76966204efe6df9a16": {
      "model_module": "@jupyter-widgets/controls",
      "model_module_version": "1.4.0",
      "model_name": "DropdownModel",
      "state": {
       "_options_labels": [
        "Acceleration",
        "Cylinders",
        "Displacement",
        "Horsepower",
        "Miles_per_Gallon",
        "Name",
        "Origin",
        "Weight_in_lbs",
        "Year"
       ],
       "index": 0,
       "layout": "IPY_MODEL_d689bc942b0243109baf483cd418d58f",
       "style": "IPY_MODEL_001d79028d084d69aaa587a39e7902a4"
      }
     },
     "6479096b2c624b4f87d2788f2a166165": {
      "model_module": "@jupyter-widgets/controls",
      "model_module_version": "1.4.0",
      "model_name": "DropdownModel",
      "state": {
       "_options_labels": [
        "scatter",
        "line"
       ],
       "index": 0,
       "layout": "IPY_MODEL_522210fd7b844b6ca9cf525544331712",
       "style": "IPY_MODEL_dbe47bea346c4bdca7b1739a793337d9"
      }
     },
     "649d17c373e64df4860851b4fd08a940": {
      "model_module": "@jupyter-widgets/controls",
      "model_module_version": "1.4.0",
      "model_name": "DescriptionStyleModel",
      "state": {
       "description_width": ""
      }
     },
     "64f12f9d584249c6aa0d7aa7b907d719": {
      "model_module": "@jupyter-widgets/controls",
      "model_module_version": "1.4.0",
      "model_name": "HBoxModel",
      "state": {
       "children": [
        "IPY_MODEL_e5cb75d796d44d1b978b86456c0ce1a6",
        "IPY_MODEL_c52847c3ff334c43aa9c9519b4c70271"
       ],
       "layout": "IPY_MODEL_69b979b0d6b44222bcbf94f6c9156364"
      }
     },
     "65213be4a67a4fecab78dace045c3292": {
      "model_module": "@jupyter-widgets/controls",
      "model_module_version": "1.4.0",
      "model_name": "CheckboxModel",
      "state": {
       "disabled": false,
       "layout": "IPY_MODEL_2cba3ecaf0154898916177d60f6940e7",
       "style": "IPY_MODEL_0c224c9e8b214b9dbfc42a36ec10b421",
       "value": false
      }
     },
     "65362c519f534aa89da7c79904d37167": {
      "model_module": "@jupyter-widgets/controls",
      "model_module_version": "1.4.0",
      "model_name": "DescriptionStyleModel",
      "state": {
       "description_width": ""
      }
     },
     "6542cae811364d23b551c270a5aee8db": {
      "model_module": "@jupyter-widgets/controls",
      "model_module_version": "1.4.0",
      "model_name": "DropdownModel",
      "state": {
       "_options_labels": [
        "True",
        "col",
        "row"
       ],
       "index": 0,
       "layout": "IPY_MODEL_711d45ebd09442fba3cbe6b3234bae55",
       "style": "IPY_MODEL_a3aee0d11d7344d0a48297050fa7cad2"
      }
     },
     "657e645871b74dd8b62bf7b0ea701074": {
      "model_module": "@jupyter-widgets/controls",
      "model_module_version": "1.4.0",
      "model_name": "HBoxModel",
      "state": {
       "children": [
        "IPY_MODEL_4068b8ddedec4415bbf37b0e7beb319a",
        "IPY_MODEL_25fe4a454c304fb0bd91a30e5fd89846"
       ],
       "layout": "IPY_MODEL_76bb35b0a7a2468f8b84c974f8af3d2b"
      }
     },
     "658b3930052d4abe80950c74eb82ab91": {
      "model_module": "@jupyter-widgets/controls",
      "model_module_version": "1.4.0",
      "model_name": "DescriptionStyleModel",
      "state": {
       "description_width": ""
      }
     },
     "659b87c819d74430a4fccc5cc9c9a73a": {
      "model_module": "@jupyter-widgets/base",
      "model_module_version": "1.1.0",
      "model_name": "LayoutModel",
      "state": {}
     },
     "65b71a02798e481da8f7182857142edd": {
      "model_module": "@jupyter-widgets/base",
      "model_module_version": "1.1.0",
      "model_name": "LayoutModel",
      "state": {}
     },
     "65c6a68d0c7547a0948223edf5c82daf": {
      "model_module": "@jupyter-widgets/controls",
      "model_module_version": "1.4.0",
      "model_name": "DescriptionStyleModel",
      "state": {
       "description_width": ""
      }
     },
     "65ee1d37dcee489faf16c3181ce8d557": {
      "model_module": "@jupyter-widgets/controls",
      "model_module_version": "1.4.0",
      "model_name": "FloatTextModel",
      "state": {
       "layout": "IPY_MODEL_70510343aec947b8a3a64061556bf5c9",
       "step": null,
       "style": "IPY_MODEL_2d1c1ed8de3f4af78fe44643c48aac1b",
       "value": 5
      }
     },
     "661ec6554a0d41569bda2582a1c96c75": {
      "model_module": "@jupyter-widgets/base",
      "model_module_version": "1.1.0",
      "model_name": "LayoutModel",
      "state": {}
     },
     "6626a656367948c1b19b202a43591f10": {
      "model_module": "@jupyter-widgets/base",
      "model_module_version": "1.1.0",
      "model_name": "LayoutModel",
      "state": {}
     },
     "664869c22bf9451a80d0e62aca7e8470": {
      "model_module": "@jupyter-widgets/controls",
      "model_module_version": "1.4.0",
      "model_name": "DescriptionStyleModel",
      "state": {
       "description_width": ""
      }
     },
     "6684dbbf4de94b1f81768e56b1cda277": {
      "model_module": "@jupyter-widgets/base",
      "model_module_version": "1.1.0",
      "model_name": "LayoutModel",
      "state": {}
     },
     "6687c00163a148d788d5cb53d749d6b2": {
      "model_module": "@jupyter-widgets/controls",
      "model_module_version": "1.4.0",
      "model_name": "FloatTextModel",
      "state": {
       "layout": "IPY_MODEL_7858375a3d2d471d84590b8d98592b67",
       "step": null,
       "style": "IPY_MODEL_d011bdcf900c4b01b42e9fee5c3f48e6",
       "value": 1
      }
     },
     "668d3318d6e248bba898457cc0c00ba1": {
      "model_module": "@jupyter-widgets/controls",
      "model_module_version": "1.4.0",
      "model_name": "DropdownModel",
      "state": {
       "_options_labels": [
        "Acceleration",
        "Cylinders",
        "Displacement",
        "Horsepower",
        "Miles_per_Gallon",
        "Name",
        "Origin",
        "Weight_in_lbs",
        "Year"
       ],
       "index": 0,
       "layout": "IPY_MODEL_debdfdfc77d342d9bb8a547b066417a6",
       "style": "IPY_MODEL_366a7a1648b44603a9a36514d06a9a8b"
      }
     },
     "66909447dc6e4cebb285efbf37f4e44c": {
      "model_module": "@jupyter-widgets/controls",
      "model_module_version": "1.4.0",
      "model_name": "IntSliderModel",
      "state": {
       "layout": "IPY_MODEL_a1db0c06ba9b464998eb070ca9586101",
       "style": "IPY_MODEL_0b434f5149ae41878ddf3781fb33c559",
       "value": 95
      }
     },
     "66a8f93f88954502ac1de8caad2e59f8": {
      "model_module": "@jupyter-widgets/controls",
      "model_module_version": "1.4.0",
      "model_name": "DescriptionStyleModel",
      "state": {
       "description_width": ""
      }
     },
     "66c9e0948ebc4c348d01e7c8dbaaebf2": {
      "model_module": "@jupyter-widgets/controls",
      "model_module_version": "1.4.0",
      "model_name": "DescriptionStyleModel",
      "state": {
       "description_width": ""
      }
     },
     "66d4b06709304eb1a5d03cd0083d3b00": {
      "model_module": "@jupyter-widgets/controls",
      "model_module_version": "1.4.0",
      "model_name": "DropdownModel",
      "state": {
       "_options_labels": [
        "Acceleration",
        "Cylinders",
        "Displacement",
        "Horsepower",
        "Miles_per_Gallon",
        "Name",
        "Origin",
        "Weight_in_lbs",
        "Year"
       ],
       "index": 0,
       "layout": "IPY_MODEL_b307c6d138294a1a90a4fc306341d571",
       "style": "IPY_MODEL_0dc281e467f34ac792a9938d46aaaa85"
      }
     },
     "6723d42f52814598b833d97ac5e13d26": {
      "model_module": "@jupyter-widgets/controls",
      "model_module_version": "1.4.0",
      "model_name": "DescriptionStyleModel",
      "state": {
       "description_width": ""
      }
     },
     "6785ad4b431f44d3943dcc1a8a7e41c1": {
      "model_module": "@jupyter-widgets/controls",
      "model_module_version": "1.4.0",
      "model_name": "ButtonModel",
      "state": {
       "description": "remove",
       "layout": "IPY_MODEL_592f7c99280c447f86a9315902ef6d3c",
       "style": "IPY_MODEL_3e403be62a674ed59533f682131a4a9c"
      }
     },
     "67dfb0e7d77d4152bbe0ceda8603ba51": {
      "model_module": "@jupyter-widgets/controls",
      "model_module_version": "1.4.0",
      "model_name": "DescriptionStyleModel",
      "state": {
       "description_width": ""
      }
     },
     "683e533f6c9741cab1a1782e42198294": {
      "model_module": "@jupyter-widgets/controls",
      "model_module_version": "1.4.0",
      "model_name": "FloatTextModel",
      "state": {
       "layout": "IPY_MODEL_f03ac773e38546abaefd827b15e6ca52",
       "step": 0.1,
       "style": "IPY_MODEL_6c37d4f3dd2b44ba91dd1b7c3fc422b1",
       "value": 1
      }
     },
     "6843ca2534c3412bb4aece04e8865fab": {
      "model_module": "@jupyter-widgets/controls",
      "model_module_version": "1.4.0",
      "model_name": "DescriptionStyleModel",
      "state": {
       "description_width": ""
      }
     },
     "68b1b403d762477d970a59ab91120f1b": {
      "model_module": "@jupyter-widgets/base",
      "model_module_version": "1.1.0",
      "model_name": "LayoutModel",
      "state": {}
     },
     "68bdaacd170d4c32ab18a11b08e7325f": {
      "model_module": "@jupyter-widgets/controls",
      "model_module_version": "1.4.0",
      "model_name": "DescriptionStyleModel",
      "state": {
       "description_width": ""
      }
     },
     "68c1aa6ee4094aa2a7c35a5475632b18": {
      "model_module": "@jupyter-widgets/base",
      "model_module_version": "1.1.0",
      "model_name": "LayoutModel",
      "state": {}
     },
     "68fd5718436342a2bcfdc4be804d6d9d": {
      "model_module": "@jupyter-widgets/base",
      "model_module_version": "1.1.0",
      "model_name": "LayoutModel",
      "state": {}
     },
     "69007ab829294d8aa578d1f7070f7ea4": {
      "model_module": "@jupyter-widgets/base",
      "model_module_version": "1.1.0",
      "model_name": "LayoutModel",
      "state": {}
     },
     "69018dac7f5e43389a136f41985839c2": {
      "model_module": "@jupyter-widgets/controls",
      "model_module_version": "1.4.0",
      "model_name": "DescriptionStyleModel",
      "state": {
       "description_width": ""
      }
     },
     "69039a12c29246169085ea95a5191325": {
      "model_module": "@jupyter-widgets/controls",
      "model_module_version": "1.4.0",
      "model_name": "CheckboxModel",
      "state": {
       "disabled": false,
       "layout": "IPY_MODEL_280abe46013849dcb43ad45cc4510fb4",
       "style": "IPY_MODEL_0934cfc5cf8c4c28845d736e7e07323e",
       "value": false
      }
     },
     "6949cb3e475348729f29305c63ded017": {
      "model_module": "@jupyter-widgets/base",
      "model_module_version": "1.1.0",
      "model_name": "LayoutModel",
      "state": {}
     },
     "697ab2c32e4f45b9bbc64b203e874a97": {
      "model_module": "@jupyter-widgets/base",
      "model_module_version": "1.1.0",
      "model_name": "LayoutModel",
      "state": {}
     },
     "69a5950360bc42a797e2569c0d6828da": {
      "model_module": "@jupyter-widgets/controls",
      "model_module_version": "1.4.0",
      "model_name": "DropdownModel",
      "state": {
       "_options_labels": [
        "True",
        "col",
        "row"
       ],
       "index": 0,
       "layout": "IPY_MODEL_e04af032c23045f6b0989c4b7b25ddc6",
       "style": "IPY_MODEL_496fe4dd0ae24fd8bbf67b208d39744c"
      }
     },
     "69b979b0d6b44222bcbf94f6c9156364": {
      "model_module": "@jupyter-widgets/base",
      "model_module_version": "1.1.0",
      "model_name": "LayoutModel",
      "state": {}
     },
     "69cd7ecce82b48c187f485ce4ba9db1f": {
      "model_module": "@jupyter-widgets/controls",
      "model_module_version": "1.4.0",
      "model_name": "DropdownModel",
      "state": {
       "_options_labels": [
        "o",
        "v",
        "^",
        "<",
        ">",
        "8",
        "s",
        "p",
        "*",
        "h",
        "H",
        "D",
        "d",
        "P",
        "X"
       ],
       "index": 0,
       "layout": "IPY_MODEL_aa002470615143b1980f9a1f2ecfce7e",
       "style": "IPY_MODEL_a0196066724a4c9ea5b53f2d1ea04610"
      }
     },
     "69d5fa3d012e4d1e83cb9e37191abe13": {
      "model_module": "@jupyter-widgets/base",
      "model_module_version": "1.1.0",
      "model_name": "LayoutModel",
      "state": {}
     },
     "69ec127a4eb045b3bcd47220f34f155f": {
      "model_module": "@jupyter-widgets/controls",
      "model_module_version": "1.4.0",
      "model_name": "DescriptionStyleModel",
      "state": {
       "description_width": ""
      }
     },
     "69ee2c5273384e0098b23ae6dce47b2b": {
      "model_module": "@jupyter-widgets/base",
      "model_module_version": "1.1.0",
      "model_name": "LayoutModel",
      "state": {}
     },
     "6a052c493ee24db28fe242d486a52ca7": {
      "model_module": "@jupyter-widgets/controls",
      "model_module_version": "1.4.0",
      "model_name": "CheckboxModel",
      "state": {
       "disabled": false,
       "layout": "IPY_MODEL_95a5494ec43249c893579ee9b0f9b135",
       "style": "IPY_MODEL_f7e2584233704350bebd22b834bff15b",
       "value": false
      }
     },
     "6a2f4ab9ef1b499b91d6f24f26ae75e6": {
      "model_module": "@jupyter-widgets/controls",
      "model_module_version": "1.4.0",
      "model_name": "CheckboxModel",
      "state": {
       "disabled": false,
       "layout": "IPY_MODEL_d8506404f85342e9bb7510925a2cb12e",
       "style": "IPY_MODEL_0296a4a3d7ef4bf8876dd92b7a876df4",
       "value": false
      }
     },
     "6a76f288e8984d87add05bf98190c0db": {
      "model_module": "@jupyter-widgets/controls",
      "model_module_version": "1.4.0",
      "model_name": "DescriptionStyleModel",
      "state": {
       "description_width": ""
      }
     },
     "6a7addba9a7949f1834a4555650c2cf2": {
      "model_module": "@jupyter-widgets/controls",
      "model_module_version": "1.4.0",
      "model_name": "CheckboxModel",
      "state": {
       "disabled": false,
       "layout": "IPY_MODEL_c0715591ba2d41c4b0fc80eb4c9bdeb7",
       "style": "IPY_MODEL_b49278ab11f04ceb8a09cfcb411787d4",
       "value": false
      }
     },
     "6a92986d21ea463e80ba018fc8a47006": {
      "model_module": "@jupyter-widgets/controls",
      "model_module_version": "1.4.0",
      "model_name": "SliderStyleModel",
      "state": {
       "description_width": ""
      }
     },
     "6aa90fc3b9124f6c826193d6f3946c38": {
      "model_module": "@jupyter-widgets/controls",
      "model_module_version": "1.4.0",
      "model_name": "FloatTextModel",
      "state": {
       "layout": "IPY_MODEL_cf8da6177f7c4e93bd6f0b2e3a3ef33e",
       "step": null,
       "style": "IPY_MODEL_6a76f288e8984d87add05bf98190c0db",
       "value": 1
      }
     },
     "6b3393459ed142308bebf476e3a3792a": {
      "model_module": "@jupyter-widgets/base",
      "model_module_version": "1.1.0",
      "model_name": "LayoutModel",
      "state": {}
     },
     "6b47d9ea80194f95a3191c66ea8f5b1a": {
      "model_module": "@jupyter-widgets/base",
      "model_module_version": "1.1.0",
      "model_name": "LayoutModel",
      "state": {}
     },
     "6b5248d2e9bf49b28c24400ec730a581": {
      "model_module": "@jupyter-widgets/controls",
      "model_module_version": "1.4.0",
      "model_name": "DropdownModel",
      "state": {
       "_options_labels": [
        "Acceleration",
        "Cylinders",
        "Displacement",
        "Horsepower",
        "Miles_per_Gallon",
        "Name",
        "Origin",
        "Weight_in_lbs",
        "Year"
       ],
       "description": "y",
       "index": 4,
       "layout": "IPY_MODEL_f2cdb0b2c9914f3cad55a1df19cfcd22",
       "style": "IPY_MODEL_b0a44cdbd3cb4144ab18bafdca2e2ba2"
      }
     },
     "6b79531328ab43c380de23eab7e6ba2d": {
      "model_module": "@jupyter-widgets/controls",
      "model_module_version": "1.4.0",
      "model_name": "DropdownModel",
      "state": {
       "_options_labels": [
        "Acceleration",
        "Cylinders",
        "Displacement",
        "Horsepower",
        "Miles_per_Gallon",
        "Name",
        "Origin",
        "Weight_in_lbs",
        "Year"
       ],
       "index": 0,
       "layout": "IPY_MODEL_65b71a02798e481da8f7182857142edd",
       "style": "IPY_MODEL_b4ca87848e8e491ca5c3c8a66f3c8f6a"
      }
     },
     "6b7cc16cd98942d88cb6568035dc9020": {
      "model_module": "@jupyter-widgets/base",
      "model_module_version": "1.1.0",
      "model_name": "LayoutModel",
      "state": {}
     },
     "6bcf09b012c942acb1087f7e8fe2f812": {
      "model_module": "@jupyter-widgets/controls",
      "model_module_version": "1.4.0",
      "model_name": "TextModel",
      "state": {
       "layout": "IPY_MODEL_d8c9acb50afa4daa8dd0c459d9af0484",
       "style": "IPY_MODEL_2b2477f1fd3e43e49f699350c3b58f93",
       "value": "white"
      }
     },
     "6bf4d6328ca3476193bf1d9d72f89f4a": {
      "model_module": "@jupyter-widgets/controls",
      "model_module_version": "1.4.0",
      "model_name": "TextModel",
      "state": {
       "layout": "IPY_MODEL_4396737d0e324ca78bd39f5ba3d8455e",
       "style": "IPY_MODEL_66c9e0948ebc4c348d01e7c8dbaaebf2"
      }
     },
     "6c37d4f3dd2b44ba91dd1b7c3fc422b1": {
      "model_module": "@jupyter-widgets/controls",
      "model_module_version": "1.4.0",
      "model_name": "DescriptionStyleModel",
      "state": {
       "description_width": ""
      }
     },
     "6c55af61c79849639170a2e2b7499569": {
      "model_module": "@jupyter-widgets/controls",
      "model_module_version": "1.4.0",
      "model_name": "IntTextModel",
      "state": {
       "layout": "IPY_MODEL_1adf5c3b6cdd46d5a1daf5fa74d44e63",
       "step": 1,
       "style": "IPY_MODEL_8dca63b9734f46c98307f5e9b7f008ac",
       "value": 5
      }
     },
     "6c7a94e1e3004865acb28946ab41b18b": {
      "model_module": "@jupyter-widgets/controls",
      "model_module_version": "1.4.0",
      "model_name": "TextModel",
      "state": {
       "layout": "IPY_MODEL_f31a2bb9b5814321ae6ff2575a315b18",
       "style": "IPY_MODEL_855afb44a0254dfb9f572c8c6d5a449d"
      }
     },
     "6cd4ccb90edb4246a7c3bc0220adc37f": {
      "model_module": "@jupyter-widgets/base",
      "model_module_version": "1.1.0",
      "model_name": "LayoutModel",
      "state": {}
     },
     "6cd73e13970b4a898bc990c6fc2db50e": {
      "model_module": "@jupyter-widgets/controls",
      "model_module_version": "1.4.0",
      "model_name": "DescriptionStyleModel",
      "state": {
       "description_width": ""
      }
     },
     "6d2bcd8a1be14f90ae5832a2661273c5": {
      "model_module": "@jupyter-widgets/controls",
      "model_module_version": "1.4.0",
      "model_name": "DescriptionStyleModel",
      "state": {
       "description_width": ""
      }
     },
     "6d3971d41c0f4b73b7b459efb34cb7c5": {
      "model_module": "@jupyter-widgets/base",
      "model_module_version": "1.1.0",
      "model_name": "LayoutModel",
      "state": {}
     },
     "6d8e71fe21cf411cad46e295de48fabe": {
      "model_module": "@jupyter-widgets/controls",
      "model_module_version": "1.4.0",
      "model_name": "HBoxModel",
      "state": {
       "children": [
        "IPY_MODEL_c86500e89aba4edbb9a6682ad221353d"
       ],
       "layout": "IPY_MODEL_cad9dff48a2f4853a38c9b86903c5dbf"
      }
     },
     "6dacd761b2134613a2efe924a6ca242d": {
      "model_module": "@jupyter-widgets/base",
      "model_module_version": "1.1.0",
      "model_name": "LayoutModel",
      "state": {}
     },
     "6dc4eeb58fc843a1bffabd7d11b1fe99": {
      "model_module": "@jupyter-widgets/base",
      "model_module_version": "1.1.0",
      "model_name": "LayoutModel",
      "state": {}
     },
     "6dda71cbb27a434198eb8f78e26443d9": {
      "model_module": "@jupyter-widgets/controls",
      "model_module_version": "1.4.0",
      "model_name": "DescriptionStyleModel",
      "state": {
       "description_width": ""
      }
     },
     "6e00dad349bd465c8a0e6f22bcbf473d": {
      "model_module": "@jupyter-widgets/base",
      "model_module_version": "1.1.0",
      "model_name": "LayoutModel",
      "state": {}
     },
     "6e15aba503c14ad9bf512a7e9a22eca8": {
      "model_module": "@jupyter-widgets/controls",
      "model_module_version": "1.4.0",
      "model_name": "TextModel",
      "state": {
       "layout": "IPY_MODEL_1d3718bc57764f3abe8e03f6df29b029",
       "style": "IPY_MODEL_0a7eefb487334842987cfacbd966cc5a",
       "value": ".2g"
      }
     },
     "6e283bf7b9364d95a2959cc4b3db920a": {
      "model_module": "@jupyter-widgets/controls",
      "model_module_version": "1.4.0",
      "model_name": "ButtonModel",
      "state": {
       "description": "remove",
       "layout": "IPY_MODEL_507144b0563749d5a6a697a6dc0af0be",
       "style": "IPY_MODEL_9d87e3ee6b034a9494c186b9c9b06a3f"
      }
     },
     "6eac2017706d4ba7abf08561289d067d": {
      "model_module": "@jupyter-widgets/controls",
      "model_module_version": "1.4.0",
      "model_name": "DescriptionStyleModel",
      "state": {
       "description_width": ""
      }
     },
     "6eda171e326742bea22ea23aa953de9b": {
      "model_module": "@jupyter-widgets/controls",
      "model_module_version": "1.4.0",
      "model_name": "DescriptionStyleModel",
      "state": {
       "description_width": ""
      }
     },
     "6edf6f391c7443d3ac2bf5c51ba04c9c": {
      "model_module": "@jupyter-widgets/base",
      "model_module_version": "1.1.0",
      "model_name": "LayoutModel",
      "state": {}
     },
     "6f4948417a26482990c4d19219521558": {
      "model_module": "@jupyter-widgets/controls",
      "model_module_version": "1.4.0",
      "model_name": "FloatTextModel",
      "state": {
       "layout": "IPY_MODEL_b4d78dcda8e94d488cb628b75c8c1962",
       "step": null,
       "style": "IPY_MODEL_3fe46fed26314cbf9ac06a2fda467f66",
       "value": 1
      }
     },
     "6f622b14ba53438ab028c4654a96290f": {
      "model_module": "@jupyter-widgets/controls",
      "model_module_version": "1.4.0",
      "model_name": "DescriptionStyleModel",
      "state": {
       "description_width": ""
      }
     },
     "7024e9babcb9477caad1069925675a62": {
      "model_module": "@jupyter-widgets/controls",
      "model_module_version": "1.4.0",
      "model_name": "DropdownModel",
      "state": {
       "_options_labels": [
        "v",
        "h"
       ],
       "index": 0,
       "layout": "IPY_MODEL_497945438fd44683b61c38afeceeb2a5",
       "style": "IPY_MODEL_d53dbf766b484e63b33b3f5f62f195b4"
      }
     },
     "70510343aec947b8a3a64061556bf5c9": {
      "model_module": "@jupyter-widgets/base",
      "model_module_version": "1.1.0",
      "model_name": "LayoutModel",
      "state": {}
     },
     "706baa2edd8c4784b03a6626e6cb3441": {
      "model_module": "@jupyter-widgets/base",
      "model_module_version": "1.1.0",
      "model_name": "LayoutModel",
      "state": {}
     },
     "7075cdc2f5144e3bbbbf96546e858228": {
      "model_module": "@jupyter-widgets/base",
      "model_module_version": "1.1.0",
      "model_name": "LayoutModel",
      "state": {}
     },
     "7087c6744b424addb4e1402fed02ef09": {
      "model_module": "@jupyter-widgets/controls",
      "model_module_version": "1.4.0",
      "model_name": "DescriptionStyleModel",
      "state": {
       "description_width": ""
      }
     },
     "70c45c16c2bc4aab8ce2d6868e692baa": {
      "model_module": "@jupyter-widgets/base",
      "model_module_version": "1.1.0",
      "model_name": "LayoutModel",
      "state": {}
     },
     "711d45ebd09442fba3cbe6b3234bae55": {
      "model_module": "@jupyter-widgets/base",
      "model_module_version": "1.1.0",
      "model_name": "LayoutModel",
      "state": {}
     },
     "7124a68cdc664182a8addea125927d6c": {
      "model_module": "@jupyter-widgets/controls",
      "model_module_version": "1.4.0",
      "model_name": "DescriptionStyleModel",
      "state": {
       "description_width": ""
      }
     },
     "714fc99f26ca45ceb79c79c53b7b7d26": {
      "model_module": "@jupyter-widgets/controls",
      "model_module_version": "1.4.0",
      "model_name": "FloatTextModel",
      "state": {
       "layout": "IPY_MODEL_110fafc2324c430183d8614cddf5a970",
       "step": null,
       "style": "IPY_MODEL_336da3455fe04025b7771ea4e9a53644",
       "value": 1
      }
     },
     "715bbc19ea884e1f9d6aad67e1722dd7": {
      "model_module": "@jupyter-widgets/base",
      "model_module_version": "1.1.0",
      "model_name": "LayoutModel",
      "state": {}
     },
     "7180ff79d1384cec99e0803588e0c991": {
      "model_module": "@jupyter-widgets/controls",
      "model_module_version": "1.4.0",
      "model_name": "DescriptionStyleModel",
      "state": {
       "description_width": ""
      }
     },
     "7184cb35fad541ea99e1a8a017300690": {
      "model_module": "@jupyter-widgets/base",
      "model_module_version": "1.1.0",
      "model_name": "LayoutModel",
      "state": {}
     },
     "718b0cd3a90c4b9f9083ef8a0058af42": {
      "model_module": "@jupyter-widgets/controls",
      "model_module_version": "1.4.0",
      "model_name": "SliderStyleModel",
      "state": {
       "description_width": ""
      }
     },
     "718ccd4b41614846adee7301c99fc0cf": {
      "model_module": "@jupyter-widgets/base",
      "model_module_version": "1.1.0",
      "model_name": "LayoutModel",
      "state": {}
     },
     "71af92f0b0dc4753823b61c5ec7d7eef": {
      "model_module": "@jupyter-widgets/controls",
      "model_module_version": "1.4.0",
      "model_name": "DescriptionStyleModel",
      "state": {
       "description_width": ""
      }
     },
     "71ed8c0acf0541db9bb6f09f67732b2b": {
      "model_module": "@jupyter-widgets/controls",
      "model_module_version": "1.4.0",
      "model_name": "DropdownModel",
      "state": {
       "_options_labels": [
        "barplot",
        "boxenplot",
        "boxplot",
        "catplot",
        "countplot",
        "distplot",
        "heatmap",
        "jointplot",
        "kdeplot",
        "lineplot",
        "lmplot",
        "pairplot",
        "pointplot",
        "regplot",
        "relplot",
        "residplot",
        "scatterplot",
        "stripplot",
        "swarmplot",
        "violinplot"
       ],
       "description": "Plot type",
       "index": 0,
       "layout": "IPY_MODEL_6b3393459ed142308bebf476e3a3792a",
       "style": "IPY_MODEL_c1ae42bf2ce04dd6986b5dc4f70941fa"
      }
     },
     "7218989168db4fe59e39106d07bf9568": {
      "model_module": "@jupyter-widgets/controls",
      "model_module_version": "1.4.0",
      "model_name": "DropdownModel",
      "state": {
       "_options_labels": [
        "petalLength",
        "petalWidth",
        "sepalLength",
        "sepalWidth",
        "species"
       ],
       "description": "x",
       "index": 0,
       "layout": "IPY_MODEL_ac37b2e9f12a446da5ced2fe77951891",
       "style": "IPY_MODEL_0b514aee5d4449148c50994d1fb7a50f"
      }
     },
     "7235452f1f724076801f8a4037750fb7": {
      "model_module": "@jupyter-widgets/base",
      "model_module_version": "1.1.0",
      "model_name": "LayoutModel",
      "state": {}
     },
     "7240554df669478a9b9774a8a59cdf8e": {
      "model_module": "@jupyter-widgets/controls",
      "model_module_version": "1.4.0",
      "model_name": "FloatTextModel",
      "state": {
       "layout": "IPY_MODEL_77c268ee8bbf4d8a814fe36baa42f63f",
       "step": null,
       "style": "IPY_MODEL_b721de1767bf487eb6127c11d7347010",
       "value": 1
      }
     },
     "726f3d36639d42279c72b9170bcdf32b": {
      "model_module": "@jupyter-widgets/base",
      "model_module_version": "1.1.0",
      "model_name": "LayoutModel",
      "state": {}
     },
     "7297cbeef09141a1a68adcb6a97a767f": {
      "model_module": "@jupyter-widgets/controls",
      "model_module_version": "1.4.0",
      "model_name": "CheckboxModel",
      "state": {
       "disabled": false,
       "layout": "IPY_MODEL_b52fdbbb96164d07ab825d163270d7a5",
       "style": "IPY_MODEL_6eda171e326742bea22ea23aa953de9b",
       "value": false
      }
     },
     "72c94ad8113c4f4883c0e6d353d3942e": {
      "model_module": "@jupyter-widgets/controls",
      "model_module_version": "1.4.0",
      "model_name": "DescriptionStyleModel",
      "state": {
       "description_width": ""
      }
     },
     "73178fb7eeeb40bab1567e1c4569ffee": {
      "model_module": "@jupyter-widgets/controls",
      "model_module_version": "1.4.0",
      "model_name": "FloatTextModel",
      "state": {
       "layout": "IPY_MODEL_561650d48c6c4e659342458d89db5b45",
       "step": null,
       "style": "IPY_MODEL_783c8cd8dc414cb9908bf8c777d98927",
       "value": 1
      }
     },
     "73baaeaf5ca6420bbe934f64fab2733d": {
      "model_module": "@jupyter-widgets/controls",
      "model_module_version": "1.4.0",
      "model_name": "DescriptionStyleModel",
      "state": {
       "description_width": ""
      }
     },
     "73dee00cf8d346658a1664d0398be254": {
      "model_module": "@jupyter-widgets/base",
      "model_module_version": "1.1.0",
      "model_name": "LayoutModel",
      "state": {}
     },
     "73eac06e692f4f3a85c1a37900eaef19": {
      "model_module": "@jupyter-widgets/base",
      "model_module_version": "1.1.0",
      "model_name": "LayoutModel",
      "state": {}
     },
     "73eea9d05aa040508d4d2ea74cc4bed5": {
      "model_module": "@jupyter-widgets/base",
      "model_module_version": "1.1.0",
      "model_name": "LayoutModel",
      "state": {}
     },
     "73f5e0e51f9f4fe3b3f91c6aafb571e5": {
      "model_module": "@jupyter-widgets/base",
      "model_module_version": "1.1.0",
      "model_name": "LayoutModel",
      "state": {}
     },
     "73f866fd13504b8aba8d9acc1b1b7802": {
      "model_module": "@jupyter-widgets/controls",
      "model_module_version": "1.4.0",
      "model_name": "DescriptionStyleModel",
      "state": {
       "description_width": ""
      }
     },
     "73ff5b3512784cee9a65c0064cea9d86": {
      "model_module": "@jupyter-widgets/controls",
      "model_module_version": "1.4.0",
      "model_name": "FloatTextModel",
      "state": {
       "layout": "IPY_MODEL_edd74493bc0e4d3aac24d9a21d015cdd",
       "step": null,
       "style": "IPY_MODEL_a80133d74ba049c6a65380981c454044",
       "value": 1
      }
     },
     "741ed60bc2fd46f4abd9fc4b39945a7a": {
      "model_module": "@jupyter-widgets/controls",
      "model_module_version": "1.4.0",
      "model_name": "DescriptionStyleModel",
      "state": {
       "description_width": ""
      }
     },
     "7469393682c842edbe361b6725beafcb": {
      "model_module": "@jupyter-widgets/controls",
      "model_module_version": "1.4.0",
      "model_name": "DropdownModel",
      "state": {
       "_options_labels": [
        "point",
        "bar",
        "strip",
        "swarm",
        "box",
        "violin",
        "boxen"
       ],
       "index": 0,
       "layout": "IPY_MODEL_8422fa99f66140489da1717ef56d8c3b",
       "style": "IPY_MODEL_dd6e3d1d395248e8a3a85f1407f720e5"
      }
     },
     "746c8635b4264c51be9dbb8d5eb9558d": {
      "model_module": "@jupyter-widgets/controls",
      "model_module_version": "1.4.0",
      "model_name": "DescriptionStyleModel",
      "state": {
       "description_width": ""
      }
     },
     "747dc598f80f4acab94b19fcf3d8daba": {
      "model_module": "@jupyter-widgets/controls",
      "model_module_version": "1.4.0",
      "model_name": "LabelModel",
      "state": {
       "layout": "IPY_MODEL_93f8b10875bd434db31e5c30986e6aa3",
       "style": "IPY_MODEL_9056a0733e38464e80ce9bdf20367ace",
       "value": "---"
      }
     },
     "74a3863fad0940dcbf9e2e360cb7a719": {
      "model_module": "@jupyter-widgets/controls",
      "model_module_version": "1.4.0",
      "model_name": "FloatSliderModel",
      "state": {
       "layout": "IPY_MODEL_5ed8c501f5e742dfb3fbbd52e31138e0",
       "max": 1,
       "step": 0.001,
       "style": "IPY_MODEL_e3b6b3c861414eed8ead332d17aa9a86",
       "value": 0.007
      }
     },
     "74df9c0bec27417ea099404fcccbcb2a": {
      "model_module": "@jupyter-widgets/controls",
      "model_module_version": "1.4.0",
      "model_name": "DescriptionStyleModel",
      "state": {
       "description_width": ""
      }
     },
     "750f27a2606546c49da566d65c670b6a": {
      "model_module": "@jupyter-widgets/controls",
      "model_module_version": "1.4.0",
      "model_name": "DescriptionStyleModel",
      "state": {
       "description_width": ""
      }
     },
     "751b2b66af764b238812abcf868abd07": {
      "model_module": "@jupyter-widgets/base",
      "model_module_version": "1.1.0",
      "model_name": "LayoutModel",
      "state": {}
     },
     "75ac2776f47146809ace5697b58dda41": {
      "model_module": "@jupyter-widgets/base",
      "model_module_version": "1.1.0",
      "model_name": "LayoutModel",
      "state": {}
     },
     "75adfd1d8010427eb8f1c9e2fa1b6fa6": {
      "model_module": "@jupyter-widgets/base",
      "model_module_version": "1.1.0",
      "model_name": "LayoutModel",
      "state": {}
     },
     "75b6762045764493b7ba9eac5049d69b": {
      "model_module": "@jupyter-widgets/controls",
      "model_module_version": "1.4.0",
      "model_name": "DescriptionStyleModel",
      "state": {
       "description_width": ""
      }
     },
     "75d36c7867f048298c14a02b873d1371": {
      "model_module": "@jupyter-widgets/base",
      "model_module_version": "1.1.0",
      "model_name": "LayoutModel",
      "state": {}
     },
     "765bbeaf012240fba73c2f2f382cb509": {
      "model_module": "@jupyter-widgets/base",
      "model_module_version": "1.1.0",
      "model_name": "LayoutModel",
      "state": {}
     },
     "767368fa9dbe4a29900c84fa4a049536": {
      "model_module": "@jupyter-widgets/base",
      "model_module_version": "1.1.0",
      "model_name": "LayoutModel",
      "state": {}
     },
     "76bb35b0a7a2468f8b84c974f8af3d2b": {
      "model_module": "@jupyter-widgets/base",
      "model_module_version": "1.1.0",
      "model_name": "LayoutModel",
      "state": {}
     },
     "7703fecddb2a41df9d2344ab621c3c27": {
      "model_module": "@jupyter-widgets/controls",
      "model_module_version": "1.4.0",
      "model_name": "DescriptionStyleModel",
      "state": {
       "description_width": ""
      }
     },
     "779a29d711244e7d90a0d41e127e859d": {
      "model_module": "@jupyter-widgets/controls",
      "model_module_version": "1.4.0",
      "model_name": "ButtonStyleModel",
      "state": {}
     },
     "77b19d6781104baf8caff56c7ceb8087": {
      "model_module": "@jupyter-widgets/controls",
      "model_module_version": "1.4.0",
      "model_name": "DescriptionStyleModel",
      "state": {
       "description_width": ""
      }
     },
     "77b2a98d481044bf96de879764283d87": {
      "model_module": "@jupyter-widgets/controls",
      "model_module_version": "1.4.0",
      "model_name": "DropdownModel",
      "state": {
       "_options_labels": [
        "True",
        "col",
        "row"
       ],
       "index": 0,
       "layout": "IPY_MODEL_726f3d36639d42279c72b9170bcdf32b",
       "style": "IPY_MODEL_cd17b231310b485c844259a137c0404d"
      }
     },
     "77c268ee8bbf4d8a814fe36baa42f63f": {
      "model_module": "@jupyter-widgets/base",
      "model_module_version": "1.1.0",
      "model_name": "LayoutModel",
      "state": {}
     },
     "7813b6a1b5ad43c0a6d37a071ac4e76d": {
      "model_module": "@jupyter-widgets/controls",
      "model_module_version": "1.4.0",
      "model_name": "DropdownModel",
      "state": {
       "_options_labels": [
        "True",
        "col",
        "row"
       ],
       "index": 0,
       "layout": "IPY_MODEL_5ed349d62af04169835463c77de15468",
       "style": "IPY_MODEL_27dc27935c554853ba20e1f8ba0aa408"
      }
     },
     "781d4fe28817484e8d8673f49580336f": {
      "model_module": "@jupyter-widgets/base",
      "model_module_version": "1.1.0",
      "model_name": "LayoutModel",
      "state": {}
     },
     "783c8cd8dc414cb9908bf8c777d98927": {
      "model_module": "@jupyter-widgets/controls",
      "model_module_version": "1.4.0",
      "model_name": "DescriptionStyleModel",
      "state": {
       "description_width": ""
      }
     },
     "7845e431695b427683d41c63fedfd5ec": {
      "model_module": "@jupyter-widgets/controls",
      "model_module_version": "1.4.0",
      "model_name": "DropdownModel",
      "state": {
       "_options_labels": [
        "Acceleration",
        "Cylinders",
        "Displacement",
        "Horsepower",
        "Miles_per_Gallon",
        "Name",
        "Origin",
        "Weight_in_lbs",
        "Year"
       ],
       "index": 0,
       "layout": "IPY_MODEL_355fef4ff37a43a983c97f8f39737047",
       "style": "IPY_MODEL_a2d2c6e6c8c0441d9ba62ed1ab0c7b3a"
      }
     },
     "78551c9c01174d33b96653ddfcbb22be": {
      "model_module": "@jupyter-widgets/controls",
      "model_module_version": "1.4.0",
      "model_name": "LabelModel",
      "state": {
       "layout": "IPY_MODEL_cfdfdd2bd2ca41389e0ed85ea8fe2bb1",
       "style": "IPY_MODEL_2bb00a45adfe4b469c9e6bd49ffae78f",
       "value": "---"
      }
     },
     "7858375a3d2d471d84590b8d98592b67": {
      "model_module": "@jupyter-widgets/base",
      "model_module_version": "1.1.0",
      "model_name": "LayoutModel",
      "state": {}
     },
     "7889d52de43a48ac932abfc72691d823": {
      "model_module": "@jupyter-widgets/base",
      "model_module_version": "1.1.0",
      "model_name": "LayoutModel",
      "state": {}
     },
     "788a9a4b6ce24c048d19a6b7eed6515f": {
      "model_module": "@jupyter-widgets/base",
      "model_module_version": "1.1.0",
      "model_name": "LayoutModel",
      "state": {}
     },
     "78a2c8b35d404dd1b7920183aefba015": {
      "model_module": "@jupyter-widgets/controls",
      "model_module_version": "1.4.0",
      "model_name": "ButtonStyleModel",
      "state": {}
     },
     "78c49a2543024fd984a29e26a27280f4": {
      "model_module": "@jupyter-widgets/controls",
      "model_module_version": "1.4.0",
      "model_name": "FloatTextModel",
      "state": {
       "layout": "IPY_MODEL_791cd5037051411a8098e46898a93725",
       "step": null,
       "style": "IPY_MODEL_c14d0632d0fc4993b1d07d1b5997a6e6",
       "value": 1
      }
     },
     "78f5cfbfe21c4b49ae671b1369111345": {
      "model_module": "@jupyter-widgets/base",
      "model_module_version": "1.1.0",
      "model_name": "LayoutModel",
      "state": {}
     },
     "790df5d406514b1cbcc78f7ae0556bb3": {
      "model_module": "@jupyter-widgets/base",
      "model_module_version": "1.1.0",
      "model_name": "LayoutModel",
      "state": {}
     },
     "791cd5037051411a8098e46898a93725": {
      "model_module": "@jupyter-widgets/base",
      "model_module_version": "1.1.0",
      "model_name": "LayoutModel",
      "state": {}
     },
     "7a49045eb0054d3e9bd40e8406195fba": {
      "model_module": "@jupyter-widgets/base",
      "model_module_version": "1.1.0",
      "model_name": "LayoutModel",
      "state": {}
     },
     "7a63dd8b974841e3a89170595f2256a3": {
      "model_module": "@jupyter-widgets/controls",
      "model_module_version": "1.4.0",
      "model_name": "DropdownModel",
      "state": {
       "_options_labels": [
        "scatter",
        "reg"
       ],
       "index": 0,
       "layout": "IPY_MODEL_39d282e972134bc7bf200fd0704a7afb",
       "style": "IPY_MODEL_bdbbb831d8d34fc1a07b93cd1037554d"
      }
     },
     "7a852b3b9a7646e093cccb3f2f5b1c0c": {
      "model_module": "@jupyter-widgets/base",
      "model_module_version": "1.1.0",
      "model_name": "LayoutModel",
      "state": {}
     },
     "7abe7f0be27840fda74940478b074c23": {
      "model_module": "@jupyter-widgets/controls",
      "model_module_version": "1.4.0",
      "model_name": "DescriptionStyleModel",
      "state": {
       "description_width": ""
      }
     },
     "7b63bc89b4ff494c97695ea35ca0e1ed": {
      "model_module": "@jupyter-widgets/controls",
      "model_module_version": "1.4.0",
      "model_name": "HBoxModel",
      "state": {
       "children": [
        "IPY_MODEL_7f08c1a31307447db61429d7e9e36695",
        "IPY_MODEL_8410c0ce6a6a49d88be93ae3ccf56033"
       ],
       "layout": "IPY_MODEL_887eddb7f5634d9da3455dd9d3097bc9"
      }
     },
     "7b8fe6eea6434fa1a59d1f3127a4236a": {
      "model_module": "@jupyter-widgets/base",
      "model_module_version": "1.1.0",
      "model_name": "LayoutModel",
      "state": {}
     },
     "7bb7ccd82531401d9ecf5110ccb8e52b": {
      "model_module": "@jupyter-widgets/controls",
      "model_module_version": "1.4.0",
      "model_name": "DescriptionStyleModel",
      "state": {
       "description_width": ""
      }
     },
     "7bce3154a7224750a9ad2b30cfd5ed6e": {
      "model_module": "@jupyter-widgets/controls",
      "model_module_version": "1.4.0",
      "model_name": "DropdownModel",
      "state": {
       "_options_labels": [
        "brief",
        "full",
        "False"
       ],
       "index": 0,
       "layout": "IPY_MODEL_75d36c7867f048298c14a02b873d1371",
       "style": "IPY_MODEL_4bf53bb250b0420d860b2810c0b9890b"
      }
     },
     "7bda8736eadd4ef998fbe05bc7842caf": {
      "model_module": "@jupyter-widgets/base",
      "model_module_version": "1.1.0",
      "model_name": "LayoutModel",
      "state": {}
     },
     "7be6b3518a00425cae46f962fd34db30": {
      "model_module": "@jupyter-widgets/controls",
      "model_module_version": "1.4.0",
      "model_name": "DropdownModel",
      "state": {
       "_options_labels": [
        "Acceleration",
        "Cylinders",
        "Displacement",
        "Horsepower",
        "Miles_per_Gallon",
        "Name",
        "Origin",
        "Weight_in_lbs",
        "Year"
       ],
       "index": 0,
       "layout": "IPY_MODEL_47e3b2b8de2c48e79c7dd7620d4b8775",
       "style": "IPY_MODEL_6eac2017706d4ba7abf08561289d067d"
      }
     },
     "7bf6fa865538498399f99aa11c607a97": {
      "model_module": "@jupyter-widgets/controls",
      "model_module_version": "1.4.0",
      "model_name": "DescriptionStyleModel",
      "state": {
       "description_width": ""
      }
     },
     "7c151951a45d4abc85cf3cf8f842f5fa": {
      "model_module": "@jupyter-widgets/controls",
      "model_module_version": "1.4.0",
      "model_name": "DescriptionStyleModel",
      "state": {
       "description_width": ""
      }
     },
     "7c5f98297dd549f09500e3ef77697961": {
      "model_module": "@jupyter-widgets/controls",
      "model_module_version": "1.4.0",
      "model_name": "FloatTextModel",
      "state": {
       "layout": "IPY_MODEL_bd41f685378544d6a6ad0de50f82b356",
       "step": null,
       "style": "IPY_MODEL_7bf6fa865538498399f99aa11c607a97",
       "value": 0.1
      }
     },
     "7c7d58f7be4241d98145b875f3526b63": {
      "model_module": "@jupyter-widgets/base",
      "model_module_version": "1.1.0",
      "model_name": "LayoutModel",
      "state": {}
     },
     "7cc0194290524917bfc97fb2e6d07b08": {
      "model_module": "@jupyter-widgets/controls",
      "model_module_version": "1.4.0",
      "model_name": "DropdownModel",
      "state": {
       "_options_labels": [
        "brief",
        "full",
        "False"
       ],
       "index": 0,
       "layout": "IPY_MODEL_1e2a494e99dc4b5a834c52c20d3451a0",
       "style": "IPY_MODEL_1f381b9db8204b949a202480557c25b9"
      }
     },
     "7ce81e294a2e4291a77592a6a9d60d9f": {
      "model_module": "@jupyter-widgets/controls",
      "model_module_version": "1.4.0",
      "model_name": "DescriptionStyleModel",
      "state": {
       "description_width": ""
      }
     },
     "7ceb77f2a1954d79b437e135abaa12d8": {
      "model_module": "@jupyter-widgets/base",
      "model_module_version": "1.1.0",
      "model_name": "LayoutModel",
      "state": {}
     },
     "7cffcb620b13483e816e99dba225a001": {
      "model_module": "@jupyter-widgets/controls",
      "model_module_version": "1.4.0",
      "model_name": "FloatTextModel",
      "state": {
       "layout": "IPY_MODEL_35bfe5b5dc124d93ae7553c66dbb3577",
       "step": null,
       "style": "IPY_MODEL_2d77d0c099bd4649b7c16a7597ebba67",
       "value": 1
      }
     },
     "7d454313666543eda78d56de218f35aa": {
      "model_module": "@jupyter-widgets/base",
      "model_module_version": "1.1.0",
      "model_name": "LayoutModel",
      "state": {}
     },
     "7d6883dca6fa4f439a2dd2a6bb6f9520": {
      "model_module": "@jupyter-widgets/controls",
      "model_module_version": "1.4.0",
      "model_name": "DescriptionStyleModel",
      "state": {
       "description_width": ""
      }
     },
     "7dca441f00fd49f3a4d3508f4b541644": {
      "model_module": "@jupyter-widgets/controls",
      "model_module_version": "1.4.0",
      "model_name": "SliderStyleModel",
      "state": {
       "description_width": ""
      }
     },
     "7e05c8ad43624227aa6f23557504aa70": {
      "model_module": "@jupyter-widgets/base",
      "model_module_version": "1.1.0",
      "model_name": "LayoutModel",
      "state": {}
     },
     "7e104c1870834e44b308f839b0c0058f": {
      "model_module": "@jupyter-widgets/base",
      "model_module_version": "1.1.0",
      "model_name": "LayoutModel",
      "state": {}
     },
     "7e318b2bdd3640199be8b675284f1278": {
      "model_module": "@jupyter-widgets/base",
      "model_module_version": "1.1.0",
      "model_name": "LayoutModel",
      "state": {}
     },
     "7e36f7c89a514261a8194409340268bc": {
      "model_module": "@jupyter-widgets/base",
      "model_module_version": "1.1.0",
      "model_name": "LayoutModel",
      "state": {}
     },
     "7e95551324ba453a8ca83afc8f322469": {
      "model_module": "@jupyter-widgets/base",
      "model_module_version": "1.1.0",
      "model_name": "LayoutModel",
      "state": {}
     },
     "7f08c1a31307447db61429d7e9e36695": {
      "model_module": "@jupyter-widgets/controls",
      "model_module_version": "1.4.0",
      "model_name": "DropdownModel",
      "state": {
       "_options_labels": [
        "barplot",
        "boxenplot",
        "boxplot",
        "catplot",
        "countplot",
        "distplot",
        "heatmap",
        "jointplot",
        "kdeplot",
        "lineplot",
        "lmplot",
        "pairplot",
        "pointplot",
        "regplot",
        "relplot",
        "residplot",
        "scatterplot",
        "stripplot",
        "swarmplot",
        "violinplot"
       ],
       "description": "Plot type",
       "index": 0,
       "layout": "IPY_MODEL_35c52c9d21b84357affce8a032737403",
       "style": "IPY_MODEL_9f7d67c84f9d465b8d4e87e3947cb414"
      }
     },
     "7f64ebdd09fa47f9a3a9ad3dca119105": {
      "model_module": "@jupyter-widgets/controls",
      "model_module_version": "1.4.0",
      "model_name": "CheckboxModel",
      "state": {
       "disabled": false,
       "layout": "IPY_MODEL_d103acc869734ee1852e99160e07187e",
       "style": "IPY_MODEL_f2061492a81442249c56bf71946f0aab",
       "value": false
      }
     },
     "7fc876a3d3cc4ab49d2d6143e856e6f6": {
      "model_module": "@jupyter-widgets/controls",
      "model_module_version": "1.4.0",
      "model_name": "DescriptionStyleModel",
      "state": {
       "description_width": ""
      }
     },
     "8015bd48cfa94c68aa1d23efe80e7f27": {
      "model_module": "@jupyter-widgets/controls",
      "model_module_version": "1.4.0",
      "model_name": "FloatTextModel",
      "state": {
       "layout": "IPY_MODEL_31e5a0089d51414d99ccbdc54e5e67fc",
       "step": null,
       "style": "IPY_MODEL_5ff157ca8f464738b03f229ec844ee78",
       "value": 1
      }
     },
     "80438db5648b4786aa31a8e83706002c": {
      "model_module": "@jupyter-widgets/controls",
      "model_module_version": "1.4.0",
      "model_name": "DescriptionStyleModel",
      "state": {
       "description_width": ""
      }
     },
     "807f1b38efe348ffb3b21fa1b964de7e": {
      "model_module": "@jupyter-widgets/controls",
      "model_module_version": "1.4.0",
      "model_name": "LabelModel",
      "state": {
       "layout": "IPY_MODEL_e512663c087a4247bec77fefb788d73b",
       "style": "IPY_MODEL_6330cb3e5bfa48b5976c54798f3f6208",
       "value": "---"
      }
     },
     "80beeb96a90942bf850d877ed141b240": {
      "model_module": "@jupyter-widgets/controls",
      "model_module_version": "1.4.0",
      "model_name": "FloatTextModel",
      "state": {
       "layout": "IPY_MODEL_b35d3f05b4f6488aa26169bbce328747",
       "step": null,
       "style": "IPY_MODEL_cb5504b2a35e49cbbb61ce7c9db07f44",
       "value": 5
      }
     },
     "80c118c67f804f2195a02ac3d02a2f86": {
      "model_module": "@jupyter-widgets/base",
      "model_module_version": "1.1.0",
      "model_name": "LayoutModel",
      "state": {}
     },
     "80e2a1fb08c441e48c32a744c777f09c": {
      "model_module": "@jupyter-widgets/controls",
      "model_module_version": "1.4.0",
      "model_name": "DescriptionStyleModel",
      "state": {
       "description_width": ""
      }
     },
     "8144862411ff4f4db8c2255f91e7821c": {
      "model_module": "@jupyter-widgets/controls",
      "model_module_version": "1.4.0",
      "model_name": "FloatTextModel",
      "state": {
       "layout": "IPY_MODEL_191ca2c43d0b4d5f8fad1fbf813a8d63",
       "step": null,
       "style": "IPY_MODEL_7ce81e294a2e4291a77592a6a9d60d9f",
       "value": 1
      }
     },
     "814a771445d9470abe0b2b8e24f5b9c5": {
      "model_module": "@jupyter-widgets/controls",
      "model_module_version": "1.4.0",
      "model_name": "DescriptionStyleModel",
      "state": {
       "description_width": ""
      }
     },
     "8170e9233fa24ae28ff3cac9d5a165a6": {
      "model_module": "@jupyter-widgets/base",
      "model_module_version": "1.1.0",
      "model_name": "LayoutModel",
      "state": {}
     },
     "81a6b435db18401da23a7f27adcb4d1b": {
      "model_module": "@jupyter-widgets/controls",
      "model_module_version": "1.4.0",
      "model_name": "FloatTextModel",
      "state": {
       "layout": "IPY_MODEL_b7c473e1e3344f5a9e138e8b99fb3131",
       "step": null,
       "style": "IPY_MODEL_b4508921b66e4dfa82c5ddd40adfa9f8",
       "value": 1
      }
     },
     "81a8daf8e67447f98d6e7d8809b8010e": {
      "model_module": "@jupyter-widgets/base",
      "model_module_version": "1.1.0",
      "model_name": "LayoutModel",
      "state": {}
     },
     "81c41e04dc7346c8b0c52837b60ef86f": {
      "model_module": "@jupyter-widgets/controls",
      "model_module_version": "1.4.0",
      "model_name": "ButtonModel",
      "state": {
       "description": "remove",
       "layout": "IPY_MODEL_2b4936baa9ef4505b23eadb00728c7bd",
       "style": "IPY_MODEL_e57bfa10294248b38e343e83b7e3d158"
      }
     },
     "81cb36b96a9c4c30bc9029272c92feb0": {
      "model_module": "@jupyter-widgets/controls",
      "model_module_version": "1.4.0",
      "model_name": "DescriptionStyleModel",
      "state": {
       "description_width": ""
      }
     },
     "81fb8a5065514963a7b4a91e8d6cd87e": {
      "model_module": "@jupyter-widgets/controls",
      "model_module_version": "1.4.0",
      "model_name": "CheckboxModel",
      "state": {
       "disabled": false,
       "layout": "IPY_MODEL_d2a653bf12024607b449d21c5ad764aa",
       "style": "IPY_MODEL_b91c4a8f5390475b901a29e87bfe1de4",
       "value": false
      }
     },
     "82478b2e2d4a423182f2b4acc5e316d0": {
      "model_module": "@jupyter-widgets/controls",
      "model_module_version": "1.4.0",
      "model_name": "CheckboxModel",
      "state": {
       "disabled": false,
       "layout": "IPY_MODEL_b2af92269a3d45b384debbc458add80c",
       "style": "IPY_MODEL_369101fd5f4143f6a06c4134cf6d0442",
       "value": false
      }
     },
     "829e229dfb73402abdc804ad5f79330f": {
      "model_module": "@jupyter-widgets/controls",
      "model_module_version": "1.4.0",
      "model_name": "DescriptionStyleModel",
      "state": {
       "description_width": ""
      }
     },
     "831d465217c14d599256b33f7d9836c7": {
      "model_module": "@jupyter-widgets/base",
      "model_module_version": "1.1.0",
      "model_name": "LayoutModel",
      "state": {}
     },
     "8321a6d5e99948259cd5287c8bbd1357": {
      "model_module": "@jupyter-widgets/controls",
      "model_module_version": "1.4.0",
      "model_name": "HBoxModel",
      "state": {
       "children": [
        "IPY_MODEL_e43f5db3edfd4f2285cd24a72ef2d4ea"
       ],
       "layout": "IPY_MODEL_0441a33c6c324c2a9f2102cfb2adc99a"
      }
     },
     "83498c12784b4d988ab7f764ee3337d8": {
      "model_module": "@jupyter-widgets/controls",
      "model_module_version": "1.4.0",
      "model_name": "DescriptionStyleModel",
      "state": {
       "description_width": ""
      }
     },
     "83b633744d16456b98e464587ad49c5b": {
      "model_module": "@jupyter-widgets/controls",
      "model_module_version": "1.4.0",
      "model_name": "DropdownModel",
      "state": {
       "_options_labels": [
        "Acceleration",
        "Cylinders",
        "Displacement",
        "Horsepower",
        "Miles_per_Gallon",
        "Name",
        "Origin",
        "Weight_in_lbs",
        "Year"
       ],
       "index": 0,
       "layout": "IPY_MODEL_01871b5d30754ebcb7baa4478613218b",
       "style": "IPY_MODEL_9d864ad524f7435f95824cd1cd105a7f"
      }
     },
     "83ddb92f913d420a914ad2007dde9176": {
      "model_module": "@jupyter-widgets/controls",
      "model_module_version": "1.4.0",
      "model_name": "DescriptionStyleModel",
      "state": {
       "description_width": ""
      }
     },
     "83e6e823bb714730ab2afd824c586daa": {
      "model_module": "@jupyter-widgets/controls",
      "model_module_version": "1.4.0",
      "model_name": "DescriptionStyleModel",
      "state": {
       "description_width": ""
      }
     },
     "83f6e0f22ba644edbf8182cec347f8b7": {
      "model_module": "@jupyter-widgets/controls",
      "model_module_version": "1.4.0",
      "model_name": "DescriptionStyleModel",
      "state": {
       "description_width": ""
      }
     },
     "8410c0ce6a6a49d88be93ae3ccf56033": {
      "model_module": "@jupyter-widgets/controls",
      "model_module_version": "1.4.0",
      "model_name": "CheckboxModel",
      "state": {
       "description": "auto-update",
       "disabled": false,
       "layout": "IPY_MODEL_ef4d22a348364833bec32d2f40c08beb",
       "style": "IPY_MODEL_f8750438ac8d42fc9ed9fee360df4742",
       "value": true
      }
     },
     "84228e3973404b2a934d47104d45adff": {
      "model_module": "@jupyter-widgets/controls",
      "model_module_version": "1.4.0",
      "model_name": "LabelModel",
      "state": {
       "layout": "IPY_MODEL_356affb0ea4f4b239805423a2c6cdc8c",
       "style": "IPY_MODEL_6411923647e04a248f7795891bf034cf",
       "value": "---"
      }
     },
     "8422fa99f66140489da1717ef56d8c3b": {
      "model_module": "@jupyter-widgets/base",
      "model_module_version": "1.1.0",
      "model_name": "LayoutModel",
      "state": {}
     },
     "84293ea785cc4d058d00aac21ac6cf20": {
      "model_module": "@jupyter-widgets/controls",
      "model_module_version": "1.4.0",
      "model_name": "FloatTextModel",
      "state": {
       "layout": "IPY_MODEL_07d0bc12577041d1ad606309c49dcf6f",
       "step": 0.01,
       "style": "IPY_MODEL_24d15bb061fe4e6982e485cb11473cc6"
      }
     },
     "842a837e9cdb4fa4baddabb733154cb4": {
      "model_module": "@jupyter-widgets/controls",
      "model_module_version": "1.4.0",
      "model_name": "DescriptionStyleModel",
      "state": {
       "description_width": ""
      }
     },
     "843662dff0d345628ded44dd578f2ad6": {
      "model_module": "@jupyter-widgets/controls",
      "model_module_version": "1.4.0",
      "model_name": "CheckboxModel",
      "state": {
       "disabled": false,
       "layout": "IPY_MODEL_b4aa46bfa8bf43de81fc5b13fb6bb9c1",
       "style": "IPY_MODEL_5b7904ba7ae2465aa1af3520d061325b",
       "value": false
      }
     },
     "849054a75ccb4c1a9f49dce6560d551b": {
      "model_module": "@jupyter-widgets/controls",
      "model_module_version": "1.4.0",
      "model_name": "DropdownModel",
      "state": {
       "_options_labels": [
        "point",
        "bar",
        "strip",
        "swarm",
        "box",
        "violin",
        "boxen"
       ],
       "index": 0,
       "layout": "IPY_MODEL_f63e6d66228641cc86f0e33bf98acd1a",
       "style": "IPY_MODEL_5888e20383a14c83813b2543039012dd"
      }
     },
     "84c2d526b0cb45c2a81dfd1a24371a79": {
      "model_module": "@jupyter-widgets/controls",
      "model_module_version": "1.4.0",
      "model_name": "DescriptionStyleModel",
      "state": {
       "description_width": ""
      }
     },
     "84c816ce17054835ac64d3a4ce634bb5": {
      "model_module": "@jupyter-widgets/controls",
      "model_module_version": "1.4.0",
      "model_name": "DescriptionStyleModel",
      "state": {
       "description_width": ""
      }
     },
     "84dc795cd3ef4e27a8f2ee2e31087151": {
      "model_module": "@jupyter-widgets/controls",
      "model_module_version": "1.4.0",
      "model_name": "FloatTextModel",
      "state": {
       "layout": "IPY_MODEL_45335b29e2504604b9501f77b1649a76",
       "step": null,
       "style": "IPY_MODEL_1e0e19ae19db49cf9eaff51fb2c25405",
       "value": 1
      }
     },
     "84dd2715533d4d1db4683bc00f0ce662": {
      "model_module": "@jupyter-widgets/controls",
      "model_module_version": "1.4.0",
      "model_name": "DescriptionStyleModel",
      "state": {
       "description_width": ""
      }
     },
     "855afb44a0254dfb9f572c8c6d5a449d": {
      "model_module": "@jupyter-widgets/controls",
      "model_module_version": "1.4.0",
      "model_name": "DescriptionStyleModel",
      "state": {
       "description_width": ""
      }
     },
     "8576b25bc3064449945f0fab89264ed3": {
      "model_module": "@jupyter-widgets/controls",
      "model_module_version": "1.4.0",
      "model_name": "CheckboxModel",
      "state": {
       "disabled": false,
       "layout": "IPY_MODEL_c093810068114329bc8aa5b7c6a56a4f",
       "style": "IPY_MODEL_fc00ed81087d4f4eb0a0032aa3cbb5f9",
       "value": false
      }
     },
     "858280dc05174964b1bf08642e3e3660": {
      "model_module": "@jupyter-widgets/controls",
      "model_module_version": "1.4.0",
      "model_name": "ButtonStyleModel",
      "state": {}
     },
     "85ae6a0f522d4fef969618cceb574bf1": {
      "model_module": "@jupyter-widgets/controls",
      "model_module_version": "1.4.0",
      "model_name": "DescriptionStyleModel",
      "state": {
       "description_width": ""
      }
     },
     "85bd3c9ade16411096ebdf37bcbbb834": {
      "model_module": "@jupyter-widgets/controls",
      "model_module_version": "1.4.0",
      "model_name": "FloatSliderModel",
      "state": {
       "layout": "IPY_MODEL_f3ac5cb588c54417bdff3517c58760d4",
       "step": 0.1,
       "style": "IPY_MODEL_0930a3e6325a427c9859f4c2bf5ea52a",
       "value": 95
      }
     },
     "85c5470b2b484bdfab18a29f84c082ce": {
      "model_module": "@jupyter-widgets/controls",
      "model_module_version": "1.4.0",
      "model_name": "IntTextModel",
      "state": {
       "layout": "IPY_MODEL_eaa23d584810424aba1b69e9c8ebab63",
       "step": 1,
       "style": "IPY_MODEL_83498c12784b4d988ab7f764ee3337d8",
       "value": 1000
      }
     },
     "861772cc2d644e86b0edad6e5482d7e4": {
      "model_module": "@jupyter-widgets/controls",
      "model_module_version": "1.4.0",
      "model_name": "HBoxModel",
      "state": {
       "children": [
        "IPY_MODEL_88c2b249f16d4ad8ba19a9b44b5a07a5",
        "IPY_MODEL_bf71f72d620749bdbcd6f4abe183155a"
       ],
       "layout": "IPY_MODEL_890e367c9f9b4446ada892f6bce13aca"
      }
     },
     "86776f08092247a7bf85e0d8feba5cb4": {
      "model_module": "@jupyter-widgets/base",
      "model_module_version": "1.1.0",
      "model_name": "LayoutModel",
      "state": {}
     },
     "869d60d170d847dd991214edbf23d27a": {
      "model_module": "@jupyter-widgets/base",
      "model_module_version": "1.1.0",
      "model_name": "LayoutModel",
      "state": {}
     },
     "86e08a306821456a92ffad44646c800c": {
      "model_module": "@jupyter-widgets/controls",
      "model_module_version": "1.4.0",
      "model_name": "ButtonStyleModel",
      "state": {}
     },
     "8704a35dd8544029901b199c058f6a83": {
      "model_module": "@jupyter-widgets/controls",
      "model_module_version": "1.4.0",
      "model_name": "DescriptionStyleModel",
      "state": {
       "description_width": ""
      }
     },
     "876117bff52041979dc287e4a2ac8852": {
      "model_module": "@jupyter-widgets/controls",
      "model_module_version": "1.4.0",
      "model_name": "DescriptionStyleModel",
      "state": {
       "description_width": ""
      }
     },
     "878a994d76a94e1daf14dfad7cd28d00": {
      "model_module": "@jupyter-widgets/base",
      "model_module_version": "1.1.0",
      "model_name": "LayoutModel",
      "state": {}
     },
     "878dc0f575904b259d6665a7cdb93bea": {
      "model_module": "@jupyter-widgets/controls",
      "model_module_version": "1.4.0",
      "model_name": "CheckboxModel",
      "state": {
       "disabled": false,
       "layout": "IPY_MODEL_029b4549240f446586ae3567b0dece25",
       "style": "IPY_MODEL_950d1e7cf1214096932882fa566eecb1",
       "value": false
      }
     },
     "87df728f20664c23b91560db266b8e29": {
      "model_module": "@jupyter-widgets/controls",
      "model_module_version": "1.4.0",
      "model_name": "DescriptionStyleModel",
      "state": {
       "description_width": ""
      }
     },
     "87fd51b401844a1bad467f3cd84b2d82": {
      "model_module": "@jupyter-widgets/controls",
      "model_module_version": "1.4.0",
      "model_name": "HBoxModel",
      "state": {
       "children": [
        "IPY_MODEL_ff97a63a903741bbbc12f3555f4136e3"
       ],
       "layout": "IPY_MODEL_6626a656367948c1b19b202a43591f10"
      }
     },
     "887eddb7f5634d9da3455dd9d3097bc9": {
      "model_module": "@jupyter-widgets/base",
      "model_module_version": "1.1.0",
      "model_name": "LayoutModel",
      "state": {}
     },
     "88a67ae789684eeea4985b6e1107e24a": {
      "model_module": "@jupyter-widgets/base",
      "model_module_version": "1.1.0",
      "model_name": "LayoutModel",
      "state": {}
     },
     "88c2b249f16d4ad8ba19a9b44b5a07a5": {
      "model_module": "@jupyter-widgets/controls",
      "model_module_version": "1.4.0",
      "model_name": "DropdownModel",
      "state": {
       "_options_labels": [
        "Acceleration",
        "Cylinders",
        "Displacement",
        "Horsepower",
        "Miles_per_Gallon",
        "Name",
        "Origin",
        "Weight_in_lbs",
        "Year"
       ],
       "description": "x",
       "index": 6,
       "layout": "IPY_MODEL_9b3181ad01c8494f96743e025866b291",
       "style": "IPY_MODEL_e9eae6bfb1334483adb9dd62a865f4e0"
      }
     },
     "88d0daa83023456eb885f43c821ee233": {
      "model_module": "@jupyter-widgets/controls",
      "model_module_version": "1.4.0",
      "model_name": "DescriptionStyleModel",
      "state": {
       "description_width": ""
      }
     },
     "88d49ff2fca04bfd9bfa750573316e76": {
      "model_module": "@jupyter-widgets/controls",
      "model_module_version": "1.4.0",
      "model_name": "HBoxModel",
      "state": {
       "children": [
        "IPY_MODEL_6b5248d2e9bf49b28c24400ec730a581",
        "IPY_MODEL_3c091748ed744dc3a1474fcd3ee1a903"
       ],
       "layout": "IPY_MODEL_fa34087f0c8a4628ae19a857fe046352"
      }
     },
     "88ed89034dcb473e9fbef643cfca3321": {
      "model_module": "@jupyter-widgets/controls",
      "model_module_version": "1.4.0",
      "model_name": "CheckboxModel",
      "state": {
       "disabled": false,
       "layout": "IPY_MODEL_1283674a6a154ce58de430bf9a1f3d4c",
       "style": "IPY_MODEL_b8cb72a612e64b3bafd1ac66c501b6e8",
       "value": false
      }
     },
     "890e367c9f9b4446ada892f6bce13aca": {
      "model_module": "@jupyter-widgets/base",
      "model_module_version": "1.1.0",
      "model_name": "LayoutModel",
      "state": {}
     },
     "8914fbfa10db4a1eba855b31eeb7f812": {
      "model_module": "@jupyter-widgets/controls",
      "model_module_version": "1.4.0",
      "model_name": "FloatTextModel",
      "state": {
       "layout": "IPY_MODEL_1249f90f58964b889937f5e63c0c7005",
       "step": 0.1,
       "style": "IPY_MODEL_63e8eedc34c54d8fa43bcacf0aca8239",
       "value": 1
      }
     },
     "8922b0c255c34930b18de4ae6fec9288": {
      "model_module": "@jupyter-widgets/base",
      "model_module_version": "1.1.0",
      "model_name": "LayoutModel",
      "state": {}
     },
     "89368c42db89454992ebdf1ab5e10004": {
      "model_module": "@jupyter-widgets/controls",
      "model_module_version": "1.4.0",
      "model_name": "HBoxModel",
      "state": {
       "children": [
        "IPY_MODEL_a609fec16caf4137ae07b37d7840597e",
        "IPY_MODEL_220ffc2e564b4e8da38fa200b647ddae"
       ],
       "layout": "IPY_MODEL_58a5f4dc3fff4e87af7f1d9268efb20a"
      }
     },
     "89379c6186654089bdbf466ec111cf1d": {
      "model_module": "@jupyter-widgets/controls",
      "model_module_version": "1.4.0",
      "model_name": "DropdownModel",
      "state": {
       "_options_labels": [
        "Acceleration",
        "Cylinders",
        "Displacement",
        "Horsepower",
        "Miles_per_Gallon",
        "Name",
        "Origin",
        "Weight_in_lbs",
        "Year"
       ],
       "description": "y",
       "index": 4,
       "layout": "IPY_MODEL_7bda8736eadd4ef998fbe05bc7842caf",
       "style": "IPY_MODEL_0d27b68de00e4b69bb66795ad3f60f0d"
      }
     },
     "895124bc27524c47bb7c2bf9284db8ba": {
      "model_module": "@jupyter-widgets/controls",
      "model_module_version": "1.4.0",
      "model_name": "DescriptionStyleModel",
      "state": {
       "description_width": ""
      }
     },
     "896e4c38acdf41d7bc3dc2160b43bc66": {
      "model_module": "@jupyter-widgets/controls",
      "model_module_version": "1.4.0",
      "model_name": "DescriptionStyleModel",
      "state": {
       "description_width": ""
      }
     },
     "899373e3aceb4780b9702e51002fc41c": {
      "model_module": "@jupyter-widgets/base",
      "model_module_version": "1.1.0",
      "model_name": "LayoutModel",
      "state": {}
     },
     "89cb1d1c7ce74368b6edda61b49f82b3": {
      "model_module": "@jupyter-widgets/controls",
      "model_module_version": "1.4.0",
      "model_name": "DescriptionStyleModel",
      "state": {
       "description_width": ""
      }
     },
     "89e3db2a1ee5466e9107758812e92148": {
      "model_module": "@jupyter-widgets/controls",
      "model_module_version": "1.4.0",
      "model_name": "IntTextModel",
      "state": {
       "layout": "IPY_MODEL_63f91e759e134078989cdc74e163ac78",
       "step": 1,
       "style": "IPY_MODEL_ca68b6b7f0e9499fb3d5632741e418d2",
       "value": 1
      }
     },
     "89f8da4d09244c3883ef1421f0cc0160": {
      "model_module": "@jupyter-widgets/base",
      "model_module_version": "1.1.0",
      "model_name": "LayoutModel",
      "state": {}
     },
     "8a0fbdf58d0b498c8c5c6c6ab5d8fa6e": {
      "model_module": "@jupyter-widgets/controls",
      "model_module_version": "1.4.0",
      "model_name": "FloatTextModel",
      "state": {
       "layout": "IPY_MODEL_73f5e0e51f9f4fe3b3f91c6aafb571e5",
       "step": null,
       "style": "IPY_MODEL_6843ca2534c3412bb4aece04e8865fab",
       "value": 1
      }
     },
     "8a21dc5df4234631b571c49f93e232ea": {
      "model_module": "@jupyter-widgets/controls",
      "model_module_version": "1.4.0",
      "model_name": "HBoxModel",
      "state": {
       "children": [
        "IPY_MODEL_2b3612ab6d5b4c42b8ad2aab32f6942d"
       ],
       "layout": "IPY_MODEL_767368fa9dbe4a29900c84fa4a049536"
      }
     },
     "8a37489de2d34bdcab264fa71eb1924b": {
      "model_module": "@jupyter-widgets/controls",
      "model_module_version": "1.4.0",
      "model_name": "DropdownModel",
      "state": {
       "_options_labels": [
        "Acceleration",
        "Cylinders",
        "Displacement",
        "Horsepower",
        "Miles_per_Gallon",
        "Name",
        "Origin",
        "Weight_in_lbs",
        "Year"
       ],
       "index": 0,
       "layout": "IPY_MODEL_c9ba5af45dae4e59ba04ee518c745870",
       "style": "IPY_MODEL_d8664c75ba8a49c6b6406f8e2a43f6b2"
      }
     },
     "8a4d4dbddfe846fba054ea1e2bb33122": {
      "model_module": "@jupyter-widgets/base",
      "model_module_version": "1.1.0",
      "model_name": "LayoutModel",
      "state": {}
     },
     "8a59b0d125964756994d801f72da1e96": {
      "model_module": "@jupyter-widgets/base",
      "model_module_version": "1.1.0",
      "model_name": "LayoutModel",
      "state": {}
     },
     "8a5ea17f5e1b45ea971cf065219462f8": {
      "model_module": "@jupyter-widgets/base",
      "model_module_version": "1.1.0",
      "model_name": "LayoutModel",
      "state": {}
     },
     "8a7e1560737b4efd9f8a22d62db7e2af": {
      "model_module": "@jupyter-widgets/controls",
      "model_module_version": "1.4.0",
      "model_name": "CheckboxModel",
      "state": {
       "disabled": false,
       "layout": "IPY_MODEL_7e104c1870834e44b308f839b0c0058f",
       "style": "IPY_MODEL_cfed058f1a9746da96e9a73f64708e85",
       "value": false
      }
     },
     "8a83f7e9fb3c4766b211cfb2e2bc02fa": {
      "model_module": "@jupyter-widgets/controls",
      "model_module_version": "1.4.0",
      "model_name": "DescriptionStyleModel",
      "state": {
       "description_width": ""
      }
     },
     "8ad03059981b4ceb975dce02205bdc67": {
      "model_module": "@jupyter-widgets/base",
      "model_module_version": "1.1.0",
      "model_name": "LayoutModel",
      "state": {}
     },
     "8b1e1175be78488991fb565f233e11a1": {
      "model_module": "@jupyter-widgets/base",
      "model_module_version": "1.1.0",
      "model_name": "LayoutModel",
      "state": {}
     },
     "8b2d5e00026048d78a248c19cc921ba8": {
      "model_module": "@jupyter-widgets/controls",
      "model_module_version": "1.4.0",
      "model_name": "DescriptionStyleModel",
      "state": {
       "description_width": ""
      }
     },
     "8b46b372b54b4ac49937ceb435a738bf": {
      "model_module": "@jupyter-widgets/base",
      "model_module_version": "1.1.0",
      "model_name": "LayoutModel",
      "state": {}
     },
     "8b5142e6c57a4c7c9c8b277c479299cf": {
      "model_module": "@jupyter-widgets/base",
      "model_module_version": "1.1.0",
      "model_name": "LayoutModel",
      "state": {}
     },
     "8b66b1a773da44cb9dff815fd787e7ee": {
      "model_module": "@jupyter-widgets/base",
      "model_module_version": "1.1.0",
      "model_name": "LayoutModel",
      "state": {}
     },
     "8b971933b2124b639749f50bf3e3bf11": {
      "model_module": "@jupyter-widgets/controls",
      "model_module_version": "1.4.0",
      "model_name": "HBoxModel",
      "state": {
       "children": [
        "IPY_MODEL_98bdfacdf35749218ffd3c3a590619fa"
       ],
       "layout": "IPY_MODEL_23b703bb140a4d15b0c438e2cc40d128"
      }
     },
     "8bcbf79951e741a1a91c1cc6001a179a": {
      "model_module": "@jupyter-widgets/controls",
      "model_module_version": "1.4.0",
      "model_name": "TextModel",
      "state": {
       "layout": "IPY_MODEL_7e05c8ad43624227aa6f23557504aa70",
       "style": "IPY_MODEL_5e7be07661fe40beb5404be9c056c58b"
      }
     },
     "8bff5fa999054effab60f70df23e948b": {
      "model_module": "@jupyter-widgets/controls",
      "model_module_version": "1.4.0",
      "model_name": "DescriptionStyleModel",
      "state": {
       "description_width": ""
      }
     },
     "8c0906bdb9b446b182e7427c816be44a": {
      "model_module": "@jupyter-widgets/controls",
      "model_module_version": "1.4.0",
      "model_name": "CheckboxModel",
      "state": {
       "disabled": false,
       "layout": "IPY_MODEL_a861a7568523483ab49e44391b54b37d",
       "style": "IPY_MODEL_89cb1d1c7ce74368b6edda61b49f82b3",
       "value": false
      }
     },
     "8c3ef9d281884126869a84f3b95d1e38": {
      "model_module": "@jupyter-widgets/controls",
      "model_module_version": "1.4.0",
      "model_name": "DescriptionStyleModel",
      "state": {
       "description_width": ""
      }
     },
     "8c45a6c69b3b4c269a1cd4304c5fab9d": {
      "model_module": "@jupyter-widgets/controls",
      "model_module_version": "1.4.0",
      "model_name": "DescriptionStyleModel",
      "state": {
       "description_width": ""
      }
     },
     "8c7012eff8e3443cbe553a485fbad00c": {
      "model_module": "@jupyter-widgets/controls",
      "model_module_version": "1.4.0",
      "model_name": "DescriptionStyleModel",
      "state": {
       "description_width": ""
      }
     },
     "8c8c0cfab6f9467a841080e2fff26ee8": {
      "model_module": "@jupyter-widgets/base",
      "model_module_version": "1.1.0",
      "model_name": "LayoutModel",
      "state": {}
     },
     "8cb78df328574e9c8f4751ab02be2e70": {
      "model_module": "@jupyter-widgets/controls",
      "model_module_version": "1.4.0",
      "model_name": "CheckboxModel",
      "state": {
       "disabled": false,
       "layout": "IPY_MODEL_91ed3e6079104ad48f9c53e748f23638",
       "style": "IPY_MODEL_750f27a2606546c49da566d65c670b6a",
       "value": false
      }
     },
     "8cb8e94121b043c6983808b391efe314": {
      "model_module": "@jupyter-widgets/controls",
      "model_module_version": "1.4.0",
      "model_name": "ButtonStyleModel",
      "state": {}
     },
     "8d190609c6454d38b6ad1390fa45eb70": {
      "model_module": "@jupyter-widgets/controls",
      "model_module_version": "1.4.0",
      "model_name": "TextModel",
      "state": {
       "layout": "IPY_MODEL_69007ab829294d8aa578d1f7070f7ea4",
       "style": "IPY_MODEL_5d677ba9aecd4827bf4e0d3d5b9f0ea7"
      }
     },
     "8d22c966b0f245319cb98e7a8315cec5": {
      "model_module": "@jupyter-widgets/base",
      "model_module_version": "1.1.0",
      "model_name": "LayoutModel",
      "state": {}
     },
     "8d63cb4ce4374862b28070b45127b0cc": {
      "model_module": "@jupyter-widgets/base",
      "model_module_version": "1.1.0",
      "model_name": "LayoutModel",
      "state": {}
     },
     "8d6c7d922b894786b44c5dc0c8b36f51": {
      "model_module": "@jupyter-widgets/base",
      "model_module_version": "1.1.0",
      "model_name": "LayoutModel",
      "state": {}
     },
     "8da23dabf1f543bbb1c8117fbf79df5c": {
      "model_module": "@jupyter-widgets/base",
      "model_module_version": "1.1.0",
      "model_name": "LayoutModel",
      "state": {}
     },
     "8da861ca4d3b4d119553f85403f6c57d": {
      "model_module": "@jupyter-widgets/controls",
      "model_module_version": "1.4.0",
      "model_name": "DropdownModel",
      "state": {
       "_options_labels": [
        "brief",
        "full",
        "False"
       ],
       "index": 0,
       "layout": "IPY_MODEL_325b3083bb364cafaf72dd8ca706b7ed",
       "style": "IPY_MODEL_25ddac36e3e64c0e9231d03c9de6fd04"
      }
     },
     "8db7320bf4524066a043785658847cae": {
      "model_module": "@jupyter-widgets/controls",
      "model_module_version": "1.4.0",
      "model_name": "FloatTextModel",
      "state": {
       "layout": "IPY_MODEL_ac9cefa917cc4f6a8d4abefc355b5273",
       "step": null,
       "style": "IPY_MODEL_2770d87ec9e649aab6a4ff5390a94bab",
       "value": 1
      }
     },
     "8dc286674fe24422be1add6ad39d9d97": {
      "model_module": "@jupyter-widgets/controls",
      "model_module_version": "1.4.0",
      "model_name": "DescriptionStyleModel",
      "state": {
       "description_width": ""
      }
     },
     "8dca63b9734f46c98307f5e9b7f008ac": {
      "model_module": "@jupyter-widgets/controls",
      "model_module_version": "1.4.0",
      "model_name": "DescriptionStyleModel",
      "state": {
       "description_width": ""
      }
     },
     "8e505cb89d3a4665af60d52ec793f595": {
      "model_module": "@jupyter-widgets/controls",
      "model_module_version": "1.4.0",
      "model_name": "SliderStyleModel",
      "state": {
       "description_width": ""
      }
     },
     "8e5448ee05954796be0802574f9192f7": {
      "model_module": "@jupyter-widgets/base",
      "model_module_version": "1.1.0",
      "model_name": "LayoutModel",
      "state": {}
     },
     "8e7e6caf8d8e4739bd89fd28dadf2857": {
      "model_module": "@jupyter-widgets/controls",
      "model_module_version": "1.4.0",
      "model_name": "FloatSliderModel",
      "state": {
       "layout": "IPY_MODEL_8922b0c255c34930b18de4ae6fec9288",
       "max": 1,
       "step": 0.001,
       "style": "IPY_MODEL_6145256ad8af47ffbc299bc4140cd9bd",
       "value": 0.007
      }
     },
     "8f02011f9f4c4353a28aa06df3a8f179": {
      "model_module": "@jupyter-widgets/controls",
      "model_module_version": "1.4.0",
      "model_name": "DescriptionStyleModel",
      "state": {
       "description_width": ""
      }
     },
     "8f0b8235da6a4d0e89cccb53f654e3fe": {
      "model_module": "@jupyter-widgets/base",
      "model_module_version": "1.1.0",
      "model_name": "LayoutModel",
      "state": {}
     },
     "8f0f069b38994740a4a87427cd553fe0": {
      "model_module": "@jupyter-widgets/base",
      "model_module_version": "1.1.0",
      "model_name": "LayoutModel",
      "state": {}
     },
     "8fcccdc882a8406cbd95d362f8de9756": {
      "model_module": "@jupyter-widgets/controls",
      "model_module_version": "1.4.0",
      "model_name": "DescriptionStyleModel",
      "state": {
       "description_width": ""
      }
     },
     "8fcec66dd61a4dfc9523f7bdff7d59fc": {
      "model_module": "@jupyter-widgets/controls",
      "model_module_version": "1.4.0",
      "model_name": "DescriptionStyleModel",
      "state": {
       "description_width": ""
      }
     },
     "8fe0bfe7fcdf4090bf57dfdf89ca75b5": {
      "model_module": "@jupyter-widgets/controls",
      "model_module_version": "1.4.0",
      "model_name": "IntTextModel",
      "state": {
       "layout": "IPY_MODEL_eefa05f7e2d941c5a2d52ca8969bc398",
       "step": 1,
       "style": "IPY_MODEL_68bdaacd170d4c32ab18a11b08e7325f",
       "value": 10
      }
     },
     "8fec3f0a75e64ad08b4f9dd3d98400b9": {
      "model_module": "@jupyter-widgets/base",
      "model_module_version": "1.1.0",
      "model_name": "LayoutModel",
      "state": {}
     },
     "9034a2df4248447a986eed8e0c9dbf34": {
      "model_module": "@jupyter-widgets/controls",
      "model_module_version": "1.4.0",
      "model_name": "CheckboxModel",
      "state": {
       "disabled": false,
       "layout": "IPY_MODEL_bde32b49addd46419451887a68b9d6a0",
       "style": "IPY_MODEL_598df0dbdf8c485998bab2e259748e29",
       "value": false
      }
     },
     "903d611b1edf463a9b18fa9968672e83": {
      "model_module": "@jupyter-widgets/base",
      "model_module_version": "1.1.0",
      "model_name": "LayoutModel",
      "state": {}
     },
     "9056a0733e38464e80ce9bdf20367ace": {
      "model_module": "@jupyter-widgets/controls",
      "model_module_version": "1.4.0",
      "model_name": "DescriptionStyleModel",
      "state": {
       "description_width": ""
      }
     },
     "907459a74bf74b0e8b5c145c20f7a1d1": {
      "model_module": "@jupyter-widgets/controls",
      "model_module_version": "1.4.0",
      "model_name": "FloatTextModel",
      "state": {
       "layout": "IPY_MODEL_a957bec9f2bf4951a2058f4276747e0a",
       "step": null,
       "style": "IPY_MODEL_ac29ffb8cc1c479f86d8544d2c7ca760",
       "value": 0.2
      }
     },
     "907871fdf13a4ceeb33442ae646aa262": {
      "model_module": "@jupyter-widgets/controls",
      "model_module_version": "1.4.0",
      "model_name": "CheckboxModel",
      "state": {
       "disabled": false,
       "layout": "IPY_MODEL_c119f1e2cba34d9aa529e0f4a84f3462",
       "style": "IPY_MODEL_2dafffa0860c4e83bf4f58fdeb70ca05",
       "value": false
      }
     },
     "909fcea939bd490982f15f4518c78a2f": {
      "model_module": "@jupyter-widgets/controls",
      "model_module_version": "1.4.0",
      "model_name": "DescriptionStyleModel",
      "state": {
       "description_width": ""
      }
     },
     "90bd1de651dc4138a343c71de4a10b5e": {
      "model_module": "@jupyter-widgets/base",
      "model_module_version": "1.1.0",
      "model_name": "LayoutModel",
      "state": {}
     },
     "90ef5951c90d41f48029452d089d6a23": {
      "model_module": "@jupyter-widgets/base",
      "model_module_version": "1.1.0",
      "model_name": "LayoutModel",
      "state": {}
     },
     "9122118b2c4441e0b24c5c73ea462abe": {
      "model_module": "@jupyter-widgets/base",
      "model_module_version": "1.1.0",
      "model_name": "LayoutModel",
      "state": {}
     },
     "915b2dea1e634b1381edbd1d54271678": {
      "model_module": "@jupyter-widgets/base",
      "model_module_version": "1.1.0",
      "model_name": "LayoutModel",
      "state": {}
     },
     "916383f9f3ef425d9dbd6fca7af645ab": {
      "model_module": "@jupyter-widgets/controls",
      "model_module_version": "1.4.0",
      "model_name": "DescriptionStyleModel",
      "state": {
       "description_width": ""
      }
     },
     "918b6d3fdc8640fbad58ce79aed43b5f": {
      "model_module": "@jupyter-widgets/controls",
      "model_module_version": "1.4.0",
      "model_name": "DropdownModel",
      "state": {
       "_options_labels": [
        "auto",
        "hist",
        "kde"
       ],
       "index": 0,
       "layout": "IPY_MODEL_acbaafbbec8d4618a9480f73c128f019",
       "style": "IPY_MODEL_df0852df5f5944aeb1ac90bb07d9f494"
      }
     },
     "919731c7a8264cf893ff125a748e6d86": {
      "model_module": "@jupyter-widgets/controls",
      "model_module_version": "1.4.0",
      "model_name": "DropdownModel",
      "state": {
       "_options_labels": [
        "proportion",
        "tukey",
        "trustworthy"
       ],
       "index": 0,
       "layout": "IPY_MODEL_e4b2d67fa31d428a90245f307225df9f",
       "style": "IPY_MODEL_72c94ad8113c4f4883c0e6d353d3942e"
      }
     },
     "91c47650f97f487180f826a9217cb897": {
      "model_module": "@jupyter-widgets/base",
      "model_module_version": "1.1.0",
      "model_name": "LayoutModel",
      "state": {}
     },
     "91ed3e6079104ad48f9c53e748f23638": {
      "model_module": "@jupyter-widgets/base",
      "model_module_version": "1.1.0",
      "model_name": "LayoutModel",
      "state": {}
     },
     "9215f367ba784b6a81001ee2d2ce0c01": {
      "model_module": "@jupyter-widgets/controls",
      "model_module_version": "1.4.0",
      "model_name": "DescriptionStyleModel",
      "state": {
       "description_width": ""
      }
     },
     "9237548dcc4a482a9003ac8f2fb4ff25": {
      "model_module": "@jupyter-widgets/base",
      "model_module_version": "1.1.0",
      "model_name": "LayoutModel",
      "state": {}
     },
     "926cc91547f049629d94c7f93ba4e39e": {
      "model_module": "@jupyter-widgets/controls",
      "model_module_version": "1.4.0",
      "model_name": "CheckboxModel",
      "state": {
       "disabled": false,
       "layout": "IPY_MODEL_41a7dba0fe6847558703453f66ba7ba5",
       "style": "IPY_MODEL_658b3930052d4abe80950c74eb82ab91",
       "value": false
      }
     },
     "928d6f69242549cc8e090b833b8c64f2": {
      "model_module": "@jupyter-widgets/controls",
      "model_module_version": "1.4.0",
      "model_name": "DescriptionStyleModel",
      "state": {
       "description_width": ""
      }
     },
     "92c0182f538e4047973ad42faf81933d": {
      "model_module": "@jupyter-widgets/base",
      "model_module_version": "1.1.0",
      "model_name": "LayoutModel",
      "state": {}
     },
     "93422eca7ccb49b198dfed6576254df4": {
      "model_module": "@jupyter-widgets/controls",
      "model_module_version": "1.4.0",
      "model_name": "DropdownModel",
      "state": {
       "_options_labels": [
        "proportion",
        "tukey",
        "trustworthy"
       ],
       "index": 0,
       "layout": "IPY_MODEL_13b5a7b4800342d6a0f7ebe369438026",
       "style": "IPY_MODEL_4c1e058c1bf84f50bffaae0d31996dd1"
      }
     },
     "934dd5b3c8ec4da793207dcbebc325c6": {
      "model_module": "@jupyter-widgets/controls",
      "model_module_version": "1.4.0",
      "model_name": "DropdownModel",
      "state": {
       "_options_labels": [
        "Acceleration",
        "Cylinders",
        "Displacement",
        "Horsepower",
        "Miles_per_Gallon",
        "Name",
        "Origin",
        "Weight_in_lbs",
        "Year"
       ],
       "index": 0,
       "layout": "IPY_MODEL_a99523fc1f9e41a98a948f2660f55453",
       "style": "IPY_MODEL_32e1a9e5aa994ecc93e38ff99f26de64"
      }
     },
     "937956d5e02642f5ba495c2c6452e21e": {
      "model_module": "@jupyter-widgets/base",
      "model_module_version": "1.1.0",
      "model_name": "LayoutModel",
      "state": {}
     },
     "937c02355a4a43eeb1432ac644374e98": {
      "model_module": "@jupyter-widgets/controls",
      "model_module_version": "1.4.0",
      "model_name": "DescriptionStyleModel",
      "state": {
       "description_width": ""
      }
     },
     "93f8b10875bd434db31e5c30986e6aa3": {
      "model_module": "@jupyter-widgets/base",
      "model_module_version": "1.1.0",
      "model_name": "LayoutModel",
      "state": {}
     },
     "940ba89eec2c4571bed5cfba0a2d92b0": {
      "model_module": "@jupyter-widgets/controls",
      "model_module_version": "1.4.0",
      "model_name": "CheckboxModel",
      "state": {
       "disabled": false,
       "layout": "IPY_MODEL_0f59459dd1ac42b89234aa8f587c32ea",
       "style": "IPY_MODEL_73baaeaf5ca6420bbe934f64fab2733d",
       "value": false
      }
     },
     "94602b3373da491292217cb640de79fd": {
      "model_module": "@jupyter-widgets/controls",
      "model_module_version": "1.4.0",
      "model_name": "CheckboxModel",
      "state": {
       "disabled": false,
       "layout": "IPY_MODEL_aa029ad8e94d4900afdcc61280c947ba",
       "style": "IPY_MODEL_15e7a017193d4c9197240a28fbd3fe52",
       "value": false
      }
     },
     "94c09f2220b3441b8fb1d287d100feb1": {
      "model_module": "@jupyter-widgets/controls",
      "model_module_version": "1.4.0",
      "model_name": "DescriptionStyleModel",
      "state": {
       "description_width": ""
      }
     },
     "94c8a5ab36554c6996a2abd8d315c4c9": {
      "model_module": "@jupyter-widgets/controls",
      "model_module_version": "1.4.0",
      "model_name": "TextModel",
      "state": {
       "layout": "IPY_MODEL_05d3dd453f4e4f8095fa4a04b5fdd09b",
       "style": "IPY_MODEL_bffcf2b8e1ee4c888e479825dddf4f62"
      }
     },
     "94d2d008798d4286b8bc393c63eedb0a": {
      "model_module": "@jupyter-widgets/controls",
      "model_module_version": "1.4.0",
      "model_name": "CheckboxModel",
      "state": {
       "disabled": false,
       "layout": "IPY_MODEL_a45cbdad4887443cab385c4ca6d7b977",
       "style": "IPY_MODEL_6cd73e13970b4a898bc990c6fc2db50e",
       "value": false
      }
     },
     "94e5a123d5ca4e5f9dae050c2debf409": {
      "model_module": "@jupyter-widgets/controls",
      "model_module_version": "1.4.0",
      "model_name": "DescriptionStyleModel",
      "state": {
       "description_width": ""
      }
     },
     "950d1e7cf1214096932882fa566eecb1": {
      "model_module": "@jupyter-widgets/controls",
      "model_module_version": "1.4.0",
      "model_name": "DescriptionStyleModel",
      "state": {
       "description_width": ""
      }
     },
     "953da5ae9cd54077b3921ac7e04d4d1f": {
      "model_module": "@jupyter-widgets/controls",
      "model_module_version": "1.4.0",
      "model_name": "DescriptionStyleModel",
      "state": {
       "description_width": ""
      }
     },
     "95433eb236f244f3aceaf35113a62b30": {
      "model_module": "@jupyter-widgets/controls",
      "model_module_version": "1.4.0",
      "model_name": "DescriptionStyleModel",
      "state": {
       "description_width": ""
      }
     },
     "957a41daa3294b4ca4fa6daf85926a08": {
      "model_module": "@jupyter-widgets/base",
      "model_module_version": "1.1.0",
      "model_name": "LayoutModel",
      "state": {}
     },
     "9580a4372f38400eafd6f768af32e213": {
      "model_module": "@jupyter-widgets/controls",
      "model_module_version": "1.4.0",
      "model_name": "FloatTextModel",
      "state": {
       "layout": "IPY_MODEL_dcde54f2ec1040b6bcc7c3676f21c6ec",
       "step": null,
       "style": "IPY_MODEL_896e4c38acdf41d7bc3dc2160b43bc66",
       "value": 1
      }
     },
     "95a5494ec43249c893579ee9b0f9b135": {
      "model_module": "@jupyter-widgets/base",
      "model_module_version": "1.1.0",
      "model_name": "LayoutModel",
      "state": {}
     },
     "95afd0959e634532a4bdfda55f429c05": {
      "model_module": "@jupyter-widgets/base",
      "model_module_version": "1.1.0",
      "model_name": "LayoutModel",
      "state": {}
     },
     "95c134ffcaa346a88a62f03ef2a83808": {
      "model_module": "@jupyter-widgets/base",
      "model_module_version": "1.1.0",
      "model_name": "LayoutModel",
      "state": {}
     },
     "95c7f3152d924c3696bfad33c9276a2d": {
      "model_module": "@jupyter-widgets/base",
      "model_module_version": "1.1.0",
      "model_name": "LayoutModel",
      "state": {}
     },
     "95ebc3087b5a4c19b3fe08ce23a6f323": {
      "model_module": "@jupyter-widgets/controls",
      "model_module_version": "1.4.0",
      "model_name": "FloatTextModel",
      "state": {
       "layout": "IPY_MODEL_7a49045eb0054d3e9bd40e8406195fba",
       "step": null,
       "style": "IPY_MODEL_3e45dde5956141f59baf8d854a057982",
       "value": 1
      }
     },
     "965ae27a75f840f3b765ec05aeb4b1a9": {
      "model_module": "@jupyter-widgets/controls",
      "model_module_version": "1.4.0",
      "model_name": "IntTextModel",
      "state": {
       "layout": "IPY_MODEL_d7194bba9cfd4c00af6a383993105e2e",
       "step": 1,
       "style": "IPY_MODEL_483ef9a68ce946129e0a9b895eb9149d",
       "value": 10
      }
     },
     "96b6895db86f4b468a0655e9e2111dd7": {
      "model_module": "@jupyter-widgets/base",
      "model_module_version": "1.1.0",
      "model_name": "LayoutModel",
      "state": {}
     },
     "96ce08d38ce24a3e8215b6385ab8b1f4": {
      "model_module": "@jupyter-widgets/controls",
      "model_module_version": "1.4.0",
      "model_name": "IntTextModel",
      "state": {
       "layout": "IPY_MODEL_54a5b8f086b84521aa91a97350a70653",
       "step": 1,
       "style": "IPY_MODEL_9ec52036bbed487ab5b04c91dc651ffc",
       "value": 10
      }
     },
     "96f01882f4224a07a724c2e04d0f92f1": {
      "model_module": "@jupyter-widgets/base",
      "model_module_version": "1.1.0",
      "model_name": "LayoutModel",
      "state": {}
     },
     "975b7b07c7744d518af0d134f55d0c87": {
      "model_module": "@jupyter-widgets/controls",
      "model_module_version": "1.4.0",
      "model_name": "DescriptionStyleModel",
      "state": {
       "description_width": ""
      }
     },
     "9780a3b75a2c4d929b14ddc148c64a3c": {
      "model_module": "@jupyter-widgets/controls",
      "model_module_version": "1.4.0",
      "model_name": "IntTextModel",
      "state": {
       "layout": "IPY_MODEL_b2a00e5844534e76a4808dbf05a394ee",
       "step": 1,
       "style": "IPY_MODEL_a6dff0bddb134e9cb5ac2f4b4789157d",
       "value": 10
      }
     },
     "97857b56aa024bf6ab601b631ba876ce": {
      "model_module": "@jupyter-widgets/controls",
      "model_module_version": "1.4.0",
      "model_name": "DescriptionStyleModel",
      "state": {
       "description_width": ""
      }
     },
     "97c53373e7754b4aaec9d8aeb66b06cc": {
      "model_module": "@jupyter-widgets/controls",
      "model_module_version": "1.4.0",
      "model_name": "IntTextModel",
      "state": {
       "layout": "IPY_MODEL_878a994d76a94e1daf14dfad7cd28d00",
       "step": 1,
       "style": "IPY_MODEL_d8e58c69ba004371b585ae203f363f44",
       "value": 100
      }
     },
     "97c7d94686ee4f9fa59acfd21c361610": {
      "model_module": "@jupyter-widgets/base",
      "model_module_version": "1.1.0",
      "model_name": "LayoutModel",
      "state": {}
     },
     "98600980b5c34bd183a15dd6a1f4740a": {
      "model_module": "@jupyter-widgets/base",
      "model_module_version": "1.1.0",
      "model_name": "LayoutModel",
      "state": {}
     },
     "986fc476b9da4a5a907b6c5e11c4ffdd": {
      "model_module": "@jupyter-widgets/base",
      "model_module_version": "1.1.0",
      "model_name": "LayoutModel",
      "state": {}
     },
     "9873059c75a446b38867110f7373056d": {
      "model_module": "@jupyter-widgets/controls",
      "model_module_version": "1.4.0",
      "model_name": "FloatTextModel",
      "state": {
       "layout": "IPY_MODEL_81a8daf8e67447f98d6e7d8809b8010e",
       "step": null,
       "style": "IPY_MODEL_a0071b9c255f4bec88be7e05de5f5e24",
       "value": 0.1
      }
     },
     "988d51aebccf491499ab4b00248425ac": {
      "model_module": "@jupyter-widgets/controls",
      "model_module_version": "1.4.0",
      "model_name": "DropdownModel",
      "state": {
       "_options_labels": [
        "scatter",
        "reg"
       ],
       "index": 0,
       "layout": "IPY_MODEL_ce667f7a55c642199e5999b7c30315a2",
       "style": "IPY_MODEL_a8f9107ed89f49fb9c953c0cc86f8310"
      }
     },
     "989b6953dc8f4ac891e4323eadf05920": {
      "model_module": "@jupyter-widgets/controls",
      "model_module_version": "1.4.0",
      "model_name": "DescriptionStyleModel",
      "state": {
       "description_width": ""
      }
     },
     "98bdfacdf35749218ffd3c3a590619fa": {
      "model_module": "@jupyter-widgets/controls",
      "model_module_version": "1.4.0",
      "model_name": "LabelModel",
      "state": {
       "layout": "IPY_MODEL_8f0b8235da6a4d0e89cccb53f654e3fe",
       "style": "IPY_MODEL_2486c60f4a9649beb906260ebd1223be",
       "value": "---"
      }
     },
     "98c33865e652474c955353a4738af456": {
      "model_module": "@jupyter-widgets/base",
      "model_module_version": "1.1.0",
      "model_name": "LayoutModel",
      "state": {}
     },
     "98e64a2ef6e14e139a4eb728a85c0234": {
      "model_module": "@jupyter-widgets/controls",
      "model_module_version": "1.4.0",
      "model_name": "ButtonStyleModel",
      "state": {}
     },
     "9916fd95f62842e0b3be2cc5beb6c0ff": {
      "model_module": "@jupyter-widgets/controls",
      "model_module_version": "1.4.0",
      "model_name": "DropdownModel",
      "state": {
       "_options_labels": [
        "True",
        "col",
        "row"
       ],
       "index": 0,
       "layout": "IPY_MODEL_c7c9abbca3a340448a2984279bff3c2f",
       "style": "IPY_MODEL_091e06147cb847419b3d6b1db64eee07"
      }
     },
     "992255871183483c805d93643b53b932": {
      "model_module": "@jupyter-widgets/controls",
      "model_module_version": "1.4.0",
      "model_name": "CheckboxModel",
      "state": {
       "disabled": false,
       "layout": "IPY_MODEL_bdbd592b8285478ab8f094aec39e1213",
       "style": "IPY_MODEL_073d26a2c6b046b096b2572f874c23c5",
       "value": false
      }
     },
     "99398626a55249b695dd2c080e5fc451": {
      "model_module": "@jupyter-widgets/base",
      "model_module_version": "1.1.0",
      "model_name": "LayoutModel",
      "state": {}
     },
     "994b728c964945c7aaf0dbd357d43491": {
      "model_module": "@jupyter-widgets/base",
      "model_module_version": "1.1.0",
      "model_name": "LayoutModel",
      "state": {}
     },
     "9995538c81474a73901520ca62c5f08a": {
      "model_module": "@jupyter-widgets/base",
      "model_module_version": "1.1.0",
      "model_name": "LayoutModel",
      "state": {}
     },
     "99b84601b2004356887f601c9b5d4f62": {
      "model_module": "@jupyter-widgets/base",
      "model_module_version": "1.1.0",
      "model_name": "LayoutModel",
      "state": {}
     },
     "99cf1c237cda4f589fd5bd48e02cbc8b": {
      "model_module": "@jupyter-widgets/base",
      "model_module_version": "1.1.0",
      "model_name": "LayoutModel",
      "state": {}
     },
     "9a04fbc89de441089b9b6f8fc6db0794": {
      "model_module": "@jupyter-widgets/controls",
      "model_module_version": "1.4.0",
      "model_name": "DropdownModel",
      "state": {
       "_options_labels": [
        "Acceleration",
        "Cylinders",
        "Displacement",
        "Horsepower",
        "Miles_per_Gallon",
        "Name",
        "Origin",
        "Weight_in_lbs",
        "Year"
       ],
       "index": 0,
       "layout": "IPY_MODEL_7c7d58f7be4241d98145b875f3526b63",
       "style": "IPY_MODEL_6d2bcd8a1be14f90ae5832a2661273c5"
      }
     },
     "9a1ef7c28bf44091b3df9cdab6eea389": {
      "model_module": "@jupyter-widgets/controls",
      "model_module_version": "1.4.0",
      "model_name": "FloatTextModel",
      "state": {
       "layout": "IPY_MODEL_d9107eb15ab34e6f8ba6bb37e667ba59",
       "step": null,
       "style": "IPY_MODEL_2ca345935a4a42e0b34563673a8ec99a",
       "value": 1
      }
     },
     "9a322d3b1cbb4dacafaf5418d74bdeb6": {
      "model_module": "@jupyter-widgets/controls",
      "model_module_version": "1.4.0",
      "model_name": "DescriptionStyleModel",
      "state": {
       "description_width": ""
      }
     },
     "9a53391dd3514a4d89dff78ed7fca723": {
      "model_module": "@jupyter-widgets/controls",
      "model_module_version": "1.4.0",
      "model_name": "CheckboxModel",
      "state": {
       "disabled": false,
       "layout": "IPY_MODEL_d6fff22c772f4a79b94cb45d0fb7c231",
       "style": "IPY_MODEL_aaa11320f9db4b65b164f2b33dbc7a5d",
       "value": false
      }
     },
     "9abb0cbaccaf4e58a8c8055897ecf23f": {
      "model_module": "@jupyter-widgets/controls",
      "model_module_version": "1.4.0",
      "model_name": "DescriptionStyleModel",
      "state": {
       "description_width": ""
      }
     },
     "9ae6df2f7fc14cfb9a2b761fb62462d1": {
      "model_module": "@jupyter-widgets/controls",
      "model_module_version": "1.4.0",
      "model_name": "ButtonModel",
      "state": {
       "description": "remove",
       "layout": "IPY_MODEL_ed657fde2c3b4b2584ece5cd2cf7b72e",
       "style": "IPY_MODEL_e61e7d3395224addb68e27d3f80a2acb"
      }
     },
     "9b3181ad01c8494f96743e025866b291": {
      "model_module": "@jupyter-widgets/base",
      "model_module_version": "1.1.0",
      "model_name": "LayoutModel",
      "state": {}
     },
     "9b325a8a8f1b461aa0dcec8d7e2aca24": {
      "model_module": "@jupyter-widgets/base",
      "model_module_version": "1.1.0",
      "model_name": "LayoutModel",
      "state": {}
     },
     "9b619e8f57254bb79e7c9256c3ab8692": {
      "model_module": "@jupyter-widgets/controls",
      "model_module_version": "1.4.0",
      "model_name": "DescriptionStyleModel",
      "state": {
       "description_width": ""
      }
     },
     "9bc62bfd19414a80a8d560bd10df1047": {
      "model_module": "@jupyter-widgets/controls",
      "model_module_version": "1.4.0",
      "model_name": "CheckboxModel",
      "state": {
       "disabled": false,
       "layout": "IPY_MODEL_751b2b66af764b238812abcf868abd07",
       "style": "IPY_MODEL_1f7e9fc3ac064df79d99029b684b7e37",
       "value": false
      }
     },
     "9c3a87b6540e4fcc81a8960f6bb43497": {
      "model_module": "@jupyter-widgets/controls",
      "model_module_version": "1.4.0",
      "model_name": "IntTextModel",
      "state": {
       "layout": "IPY_MODEL_9dc5edd2991f407fafcb7529d2c8a4b0",
       "step": 1,
       "style": "IPY_MODEL_26468dbb8c544a109a6548a61ec75d4a",
       "value": 1
      }
     },
     "9c3b6b76bc134cdfa2d6544fa5aff82b": {
      "model_module": "@jupyter-widgets/controls",
      "model_module_version": "1.4.0",
      "model_name": "DropdownModel",
      "state": {
       "_options_labels": [
        "Acceleration",
        "Cylinders",
        "Displacement",
        "Horsepower",
        "Miles_per_Gallon",
        "Name",
        "Origin",
        "Weight_in_lbs",
        "Year"
       ],
       "description": "x",
       "index": 6,
       "layout": "IPY_MODEL_5c999aec6de34df799da3d1473147f38",
       "style": "IPY_MODEL_efceb50b85f94b94b14dd2570b62baac"
      }
     },
     "9c512aa266924d08860ad424a7b865e6": {
      "model_module": "@jupyter-widgets/controls",
      "model_module_version": "1.4.0",
      "model_name": "DescriptionStyleModel",
      "state": {
       "description_width": ""
      }
     },
     "9c5d7edba6b24f638d3ef0812037bd3e": {
      "model_module": "@jupyter-widgets/base",
      "model_module_version": "1.1.0",
      "model_name": "LayoutModel",
      "state": {}
     },
     "9cb3f39c3f3b4a599d64d97729a87dea": {
      "model_module": "@jupyter-widgets/controls",
      "model_module_version": "1.4.0",
      "model_name": "DescriptionStyleModel",
      "state": {
       "description_width": ""
      }
     },
     "9ce58edd0a9c47988ee451e563768047": {
      "model_module": "@jupyter-widgets/controls",
      "model_module_version": "1.4.0",
      "model_name": "DescriptionStyleModel",
      "state": {
       "description_width": ""
      }
     },
     "9d28fc2a65624675ade5453105474299": {
      "model_module": "@jupyter-widgets/controls",
      "model_module_version": "1.4.0",
      "model_name": "FloatTextModel",
      "state": {
       "layout": "IPY_MODEL_2c92d75a92404c0d823673ab9b50bfea",
       "step": null,
       "style": "IPY_MODEL_207d78c2988d4ed287906166a30d81f8",
       "value": 1
      }
     },
     "9d5387e98d3242aeba946ce6782be37f": {
      "model_module": "@jupyter-widgets/controls",
      "model_module_version": "1.4.0",
      "model_name": "CheckboxModel",
      "state": {
       "disabled": false,
       "layout": "IPY_MODEL_9237548dcc4a482a9003ac8f2fb4ff25",
       "style": "IPY_MODEL_a01bcc2bf8864903bc4bd111ac0f23b0",
       "value": false
      }
     },
     "9d645580db084647a6b7c21303bd7d51": {
      "model_module": "@jupyter-widgets/base",
      "model_module_version": "1.1.0",
      "model_name": "LayoutModel",
      "state": {}
     },
     "9d750d9d7d5044b29686033288037757": {
      "model_module": "@jupyter-widgets/controls",
      "model_module_version": "1.4.0",
      "model_name": "DescriptionStyleModel",
      "state": {
       "description_width": ""
      }
     },
     "9d864ad524f7435f95824cd1cd105a7f": {
      "model_module": "@jupyter-widgets/controls",
      "model_module_version": "1.4.0",
      "model_name": "DescriptionStyleModel",
      "state": {
       "description_width": ""
      }
     },
     "9d8748d665024d1189cbdd710a7e6b06": {
      "model_module": "@jupyter-widgets/controls",
      "model_module_version": "1.4.0",
      "model_name": "DescriptionStyleModel",
      "state": {
       "description_width": ""
      }
     },
     "9d87e3ee6b034a9494c186b9c9b06a3f": {
      "model_module": "@jupyter-widgets/controls",
      "model_module_version": "1.4.0",
      "model_name": "ButtonStyleModel",
      "state": {}
     },
     "9daabfa91fcc4ae08f4cc4095390a5c5": {
      "model_module": "@jupyter-widgets/base",
      "model_module_version": "1.1.0",
      "model_name": "LayoutModel",
      "state": {}
     },
     "9dc5edd2991f407fafcb7529d2c8a4b0": {
      "model_module": "@jupyter-widgets/base",
      "model_module_version": "1.1.0",
      "model_name": "LayoutModel",
      "state": {}
     },
     "9e0467c964864b6fa2b6e544130d1a1e": {
      "model_module": "@jupyter-widgets/controls",
      "model_module_version": "1.4.0",
      "model_name": "TextModel",
      "state": {
       "layout": "IPY_MODEL_bc79653a07fb40bfa00ec8e8a46bf56b",
       "style": "IPY_MODEL_14c3c29a04b34f3ca331747a868df9e2",
       "value": "gray"
      }
     },
     "9e13239a40374b1cbc3383a6bdd48b0c": {
      "model_module": "@jupyter-widgets/controls",
      "model_module_version": "1.4.0",
      "model_name": "DescriptionStyleModel",
      "state": {
       "description_width": ""
      }
     },
     "9e1d818bc36a41f2bd413150dec7589b": {
      "model_module": "@jupyter-widgets/controls",
      "model_module_version": "1.4.0",
      "model_name": "DescriptionStyleModel",
      "state": {
       "description_width": ""
      }
     },
     "9e74b946be58429e982c049dcf5d2d94": {
      "model_module": "@jupyter-widgets/controls",
      "model_module_version": "1.4.0",
      "model_name": "DropdownModel",
      "state": {
       "_options_labels": [
        "Acceleration",
        "Cylinders",
        "Displacement",
        "Horsepower",
        "Miles_per_Gallon",
        "Name",
        "Origin",
        "Weight_in_lbs",
        "Year"
       ],
       "index": 0,
       "layout": "IPY_MODEL_620f849f2b6d4ba2a073d7ed667e6841",
       "style": "IPY_MODEL_42ca7ee72fb7458da776e7110ca7bf9b"
      }
     },
     "9e83850ef9fd414a87919ada974a840d": {
      "model_module": "@jupyter-widgets/controls",
      "model_module_version": "1.4.0",
      "model_name": "DescriptionStyleModel",
      "state": {
       "description_width": ""
      }
     },
     "9ec52036bbed487ab5b04c91dc651ffc": {
      "model_module": "@jupyter-widgets/controls",
      "model_module_version": "1.4.0",
      "model_name": "DescriptionStyleModel",
      "state": {
       "description_width": ""
      }
     },
     "9ec99efb1f704c07bb627f0918af0708": {
      "model_module": "@jupyter-widgets/base",
      "model_module_version": "1.1.0",
      "model_name": "LayoutModel",
      "state": {}
     },
     "9f07c11ca6e947508aa98cd3b479f70f": {
      "model_module": "@jupyter-widgets/base",
      "model_module_version": "1.1.0",
      "model_name": "LayoutModel",
      "state": {}
     },
     "9f0f58d16d5a4a38a82472e1470bba1f": {
      "model_module": "@jupyter-widgets/controls",
      "model_module_version": "1.4.0",
      "model_name": "FloatTextModel",
      "state": {
       "layout": "IPY_MODEL_1ccd7e1d5c0a4ec593eda35f97a313a0",
       "step": null,
       "style": "IPY_MODEL_a6aa7a4ba79649ce95cc44726b5fd0b6",
       "value": 1
      }
     },
     "9f5bc0b4157c41608fced01e15d47826": {
      "model_module": "@jupyter-widgets/base",
      "model_module_version": "1.1.0",
      "model_name": "LayoutModel",
      "state": {}
     },
     "9f63bc3aac594bf494a21c72b7a7d215": {
      "model_module": "@jupyter-widgets/controls",
      "model_module_version": "1.4.0",
      "model_name": "DescriptionStyleModel",
      "state": {
       "description_width": ""
      }
     },
     "9f7d67c84f9d465b8d4e87e3947cb414": {
      "model_module": "@jupyter-widgets/controls",
      "model_module_version": "1.4.0",
      "model_name": "DescriptionStyleModel",
      "state": {
       "description_width": ""
      }
     },
     "9f95e6c75e744ef0ad6837535714abeb": {
      "model_module": "@jupyter-widgets/base",
      "model_module_version": "1.1.0",
      "model_name": "LayoutModel",
      "state": {}
     },
     "9fc044c6b1b04873b731c3fe85be0901": {
      "model_module": "@jupyter-widgets/base",
      "model_module_version": "1.1.0",
      "model_name": "LayoutModel",
      "state": {}
     },
     "a0071b9c255f4bec88be7e05de5f5e24": {
      "model_module": "@jupyter-widgets/controls",
      "model_module_version": "1.4.0",
      "model_name": "DescriptionStyleModel",
      "state": {
       "description_width": ""
      }
     },
     "a0196066724a4c9ea5b53f2d1ea04610": {
      "model_module": "@jupyter-widgets/controls",
      "model_module_version": "1.4.0",
      "model_name": "DescriptionStyleModel",
      "state": {
       "description_width": ""
      }
     },
     "a01bcc2bf8864903bc4bd111ac0f23b0": {
      "model_module": "@jupyter-widgets/controls",
      "model_module_version": "1.4.0",
      "model_name": "DescriptionStyleModel",
      "state": {
       "description_width": ""
      }
     },
     "a023f6ccfd8f45d08e38677ad3414036": {
      "model_module": "@jupyter-widgets/base",
      "model_module_version": "1.1.0",
      "model_name": "LayoutModel",
      "state": {}
     },
     "a044674f14b24e58a80822863c2a2dca": {
      "model_module": "@jupyter-widgets/base",
      "model_module_version": "1.1.0",
      "model_name": "LayoutModel",
      "state": {}
     },
     "a04bf5a1cd064befb8a2af4cee4ed3d2": {
      "model_module": "@jupyter-widgets/controls",
      "model_module_version": "1.4.0",
      "model_name": "FloatTextModel",
      "state": {
       "layout": "IPY_MODEL_566a502aebcb46cb9f63efb977977569",
       "step": null,
       "style": "IPY_MODEL_0590201c61dc4c38809ba90146536b35",
       "value": 0.2
      }
     },
     "a0715261b1b043278ca1d566e42f8ba8": {
      "model_module": "@jupyter-widgets/controls",
      "model_module_version": "1.4.0",
      "model_name": "ButtonModel",
      "state": {
       "description": "remove",
       "layout": "IPY_MODEL_2778f6917e1340aaa24b2aa7cbd920dd",
       "style": "IPY_MODEL_86e08a306821456a92ffad44646c800c"
      }
     },
     "a07e54d893dd4a71ba46c50bb9be5281": {
      "model_module": "@jupyter-widgets/base",
      "model_module_version": "1.1.0",
      "model_name": "LayoutModel",
      "state": {}
     },
     "a0834d94838c44779abc9f3f0748a525": {
      "model_module": "@jupyter-widgets/base",
      "model_module_version": "1.1.0",
      "model_name": "LayoutModel",
      "state": {}
     },
     "a09c853eeec243388b4e071abbedef3d": {
      "model_module": "@jupyter-widgets/controls",
      "model_module_version": "1.4.0",
      "model_name": "LabelModel",
      "state": {
       "layout": "IPY_MODEL_697ab2c32e4f45b9bbc64b203e874a97",
       "style": "IPY_MODEL_1c007628a74446a8bc26bff79b3a7213",
       "value": "---"
      }
     },
     "a0a19117084c49f3a3b7d3ea6841fdeb": {
      "model_module": "@jupyter-widgets/base",
      "model_module_version": "1.1.0",
      "model_name": "LayoutModel",
      "state": {}
     },
     "a0d67a69f6db4f74a78a20a55955284f": {
      "model_module": "@jupyter-widgets/controls",
      "model_module_version": "1.4.0",
      "model_name": "DescriptionStyleModel",
      "state": {
       "description_width": ""
      }
     },
     "a0df6a7ee7894308a473907c4fd63362": {
      "model_module": "@jupyter-widgets/controls",
      "model_module_version": "1.4.0",
      "model_name": "DescriptionStyleModel",
      "state": {
       "description_width": ""
      }
     },
     "a0facaa6ce7f4ebc894eb91d2e5b1732": {
      "model_module": "@jupyter-widgets/controls",
      "model_module_version": "1.4.0",
      "model_name": "DropdownModel",
      "state": {
       "_options_labels": [
        "point",
        "bar",
        "strip",
        "swarm",
        "box",
        "violin",
        "boxen"
       ],
       "index": 0,
       "layout": "IPY_MODEL_aab77fc432e140fdb6ee343407a2fb49",
       "style": "IPY_MODEL_d318cfb21ec541f28be737dc98e5f06b"
      }
     },
     "a11271532e0641c3ad3548d954616cd5": {
      "model_module": "@jupyter-widgets/base",
      "model_module_version": "1.1.0",
      "model_name": "LayoutModel",
      "state": {}
     },
     "a1456b14bdc24b43973a2bb0d8de51af": {
      "model_module": "@jupyter-widgets/base",
      "model_module_version": "1.1.0",
      "model_name": "LayoutModel",
      "state": {}
     },
     "a1507e800a264f0ea5c68f8366ec55a6": {
      "model_module": "@jupyter-widgets/controls",
      "model_module_version": "1.4.0",
      "model_name": "DropdownModel",
      "state": {
       "_options_labels": [
        "proportion",
        "tukey",
        "trustworthy"
       ],
       "index": 0,
       "layout": "IPY_MODEL_34021c3b169e4994b091ade799b3b388",
       "style": "IPY_MODEL_2896d129b2b54887aef28d3fe70f0f03"
      }
     },
     "a15cef81876541759fe5d518f8088c1f": {
      "model_module": "@jupyter-widgets/controls",
      "model_module_version": "1.4.0",
      "model_name": "DescriptionStyleModel",
      "state": {
       "description_width": ""
      }
     },
     "a171527b928643b88c0daebaaea27d1e": {
      "model_module": "@jupyter-widgets/base",
      "model_module_version": "1.1.0",
      "model_name": "LayoutModel",
      "state": {}
     },
     "a19b81409b9f4e20b5f331cef354a95f": {
      "model_module": "@jupyter-widgets/controls",
      "model_module_version": "1.4.0",
      "model_name": "DescriptionStyleModel",
      "state": {
       "description_width": ""
      }
     },
     "a1b1d25910e747af92fcf3627516057a": {
      "model_module": "@jupyter-widgets/controls",
      "model_module_version": "1.4.0",
      "model_name": "CheckboxModel",
      "state": {
       "disabled": false,
       "layout": "IPY_MODEL_bb1a675498034578b591c5d9eb83ba07",
       "style": "IPY_MODEL_121d05d6886d423eb32aaee78edf3b0a",
       "value": false
      }
     },
     "a1c06f937bb54541a3d27c22a48b20ea": {
      "model_module": "@jupyter-widgets/base",
      "model_module_version": "1.1.0",
      "model_name": "LayoutModel",
      "state": {}
     },
     "a1db0c06ba9b464998eb070ca9586101": {
      "model_module": "@jupyter-widgets/base",
      "model_module_version": "1.1.0",
      "model_name": "LayoutModel",
      "state": {}
     },
     "a2220f35103e4e1c892dc273422c2788": {
      "model_module": "@jupyter-widgets/controls",
      "model_module_version": "1.4.0",
      "model_name": "DescriptionStyleModel",
      "state": {
       "description_width": ""
      }
     },
     "a24152e7dbdc4590a9720d865e2b8af7": {
      "model_module": "@jupyter-widgets/controls",
      "model_module_version": "1.4.0",
      "model_name": "FloatTextModel",
      "state": {
       "layout": "IPY_MODEL_59e0ceb61a8d4fe3b3560e6399b247ca",
       "step": null,
       "style": "IPY_MODEL_a5700312ffc24acb8909631a451696fc",
       "value": 1
      }
     },
     "a255f371e54443c8aa84e1f77e1c6842": {
      "model_module": "@jupyter-widgets/base",
      "model_module_version": "1.1.0",
      "model_name": "LayoutModel",
      "state": {}
     },
     "a2577d6f73f84e5eac891e8eed04a7b0": {
      "model_module": "@jupyter-widgets/controls",
      "model_module_version": "1.4.0",
      "model_name": "CheckboxModel",
      "state": {
       "disabled": false,
       "layout": "IPY_MODEL_a465758244f44bbe81ac2f5220cb80a0",
       "style": "IPY_MODEL_4a439afb97f745ec92521de6b0659653",
       "value": false
      }
     },
     "a2d2c6e6c8c0441d9ba62ed1ab0c7b3a": {
      "model_module": "@jupyter-widgets/controls",
      "model_module_version": "1.4.0",
      "model_name": "DescriptionStyleModel",
      "state": {
       "description_width": ""
      }
     },
     "a2e76fca32584e6f81f581185a05c54e": {
      "model_module": "@jupyter-widgets/controls",
      "model_module_version": "1.4.0",
      "model_name": "DescriptionStyleModel",
      "state": {
       "description_width": ""
      }
     },
     "a32e0ca2064a4e7694b86b36b9d96f7d": {
      "model_module": "@jupyter-widgets/controls",
      "model_module_version": "1.4.0",
      "model_name": "DescriptionStyleModel",
      "state": {
       "description_width": ""
      }
     },
     "a37813ebff9f481e962e08127c4f74b5": {
      "model_module": "@jupyter-widgets/controls",
      "model_module_version": "1.4.0",
      "model_name": "DescriptionStyleModel",
      "state": {
       "description_width": ""
      }
     },
     "a3abf8e0e71a463498c3c6227e22526d": {
      "model_module": "@jupyter-widgets/controls",
      "model_module_version": "1.4.0",
      "model_name": "DescriptionStyleModel",
      "state": {
       "description_width": ""
      }
     },
     "a3aee0d11d7344d0a48297050fa7cad2": {
      "model_module": "@jupyter-widgets/controls",
      "model_module_version": "1.4.0",
      "model_name": "DescriptionStyleModel",
      "state": {
       "description_width": ""
      }
     },
     "a40f2e2357d04b48955fd43f501d06b6": {
      "model_module": "@jupyter-widgets/base",
      "model_module_version": "1.1.0",
      "model_name": "LayoutModel",
      "state": {}
     },
     "a418e1d0152541d9a849cec3d0f18b4f": {
      "model_module": "@jupyter-widgets/controls",
      "model_module_version": "1.4.0",
      "model_name": "DescriptionStyleModel",
      "state": {
       "description_width": ""
      }
     },
     "a434250ceb0b41279e5f964804f92a96": {
      "model_module": "@jupyter-widgets/controls",
      "model_module_version": "1.4.0",
      "model_name": "TextModel",
      "state": {
       "layout": "IPY_MODEL_cfa1da4f00b9450d8b99e55e0565511b",
       "style": "IPY_MODEL_57934997ee86486aac99301b6c3fa8bf",
       "value": "gray"
      }
     },
     "a45cbdad4887443cab385c4ca6d7b977": {
      "model_module": "@jupyter-widgets/base",
      "model_module_version": "1.1.0",
      "model_name": "LayoutModel",
      "state": {}
     },
     "a465758244f44bbe81ac2f5220cb80a0": {
      "model_module": "@jupyter-widgets/base",
      "model_module_version": "1.1.0",
      "model_name": "LayoutModel",
      "state": {}
     },
     "a46c6d0637cd4cf4bf66ed76363b1efd": {
      "model_module": "@jupyter-widgets/base",
      "model_module_version": "1.1.0",
      "model_name": "LayoutModel",
      "state": {}
     },
     "a47dd467e7274e9791222ce7389583b4": {
      "model_module": "@jupyter-widgets/controls",
      "model_module_version": "1.4.0",
      "model_name": "DropdownModel",
      "state": {
       "_options_labels": [
        "Acceleration",
        "Cylinders",
        "Displacement",
        "Horsepower",
        "Miles_per_Gallon",
        "Name",
        "Origin",
        "Weight_in_lbs",
        "Year"
       ],
       "index": 0,
       "layout": "IPY_MODEL_994b728c964945c7aaf0dbd357d43491",
       "style": "IPY_MODEL_00479eda91a24c37988dd2257534a553"
      }
     },
     "a49cd3e32f034b15923650926349ec7c": {
      "model_module": "@jupyter-widgets/base",
      "model_module_version": "1.1.0",
      "model_name": "LayoutModel",
      "state": {}
     },
     "a4bb5c01cd1d4594be1777d67e9135a7": {
      "model_module": "@jupyter-widgets/controls",
      "model_module_version": "1.4.0",
      "model_name": "IntTextModel",
      "state": {
       "layout": "IPY_MODEL_af0315a8bc434df78db615ed48e9c6b7",
       "step": 1,
       "style": "IPY_MODEL_1c4fba380d4949ccb8a9edecca799c20",
       "value": 1000
      }
     },
     "a4e2f196350242a188ee3d50209fe77f": {
      "model_module": "@jupyter-widgets/base",
      "model_module_version": "1.1.0",
      "model_name": "LayoutModel",
      "state": {}
     },
     "a512f7e120984beaab8529fa20a6b465": {
      "model_module": "@jupyter-widgets/base",
      "model_module_version": "1.1.0",
      "model_name": "LayoutModel",
      "state": {}
     },
     "a51bc547d80f4ec98958b21937e788ca": {
      "model_module": "@jupyter-widgets/controls",
      "model_module_version": "1.4.0",
      "model_name": "DescriptionStyleModel",
      "state": {
       "description_width": ""
      }
     },
     "a53632faf39b4802ace50e247efc3acb": {
      "model_module": "@jupyter-widgets/controls",
      "model_module_version": "1.4.0",
      "model_name": "CheckboxModel",
      "state": {
       "disabled": false,
       "layout": "IPY_MODEL_bac5190b35cd47419734276a74c05144",
       "style": "IPY_MODEL_5b603a1d21944866945aec43c270db78",
       "value": false
      }
     },
     "a53d49b786d94bfea1eb437ae5373355": {
      "model_module": "@jupyter-widgets/controls",
      "model_module_version": "1.4.0",
      "model_name": "FloatTextModel",
      "state": {
       "layout": "IPY_MODEL_319e417a322944c69d19f1de7b8004c4",
       "step": null,
       "style": "IPY_MODEL_a0df6a7ee7894308a473907c4fd63362",
       "value": 5
      }
     },
     "a554b51006f7428f95d6e3184dcf9250": {
      "model_module": "@jupyter-widgets/controls",
      "model_module_version": "1.4.0",
      "model_name": "DropdownModel",
      "state": {
       "_options_labels": [
        "linear",
        "exponential",
        "area"
       ],
       "index": 0,
       "layout": "IPY_MODEL_831d465217c14d599256b33f7d9836c7",
       "style": "IPY_MODEL_b235877c5f464a2a9f49e0cc1bdb3535"
      }
     },
     "a568dbc327c84e2c98ab6082fd498f20": {
      "model_module": "@jupyter-widgets/controls",
      "model_module_version": "1.4.0",
      "model_name": "DescriptionStyleModel",
      "state": {
       "description_width": ""
      }
     },
     "a5700312ffc24acb8909631a451696fc": {
      "model_module": "@jupyter-widgets/controls",
      "model_module_version": "1.4.0",
      "model_name": "DescriptionStyleModel",
      "state": {
       "description_width": ""
      }
     },
     "a573b9c7aaed4a94ad8bf7dd99c07a76": {
      "model_module": "@jupyter-widgets/controls",
      "model_module_version": "1.4.0",
      "model_name": "TextModel",
      "state": {
       "layout": "IPY_MODEL_53f398d117eb421c899fd401b9ec84ad",
       "style": "IPY_MODEL_16c580d68cb44ee7960e5cbe3e5de746"
      }
     },
     "a57648e6823742949c7b9ddf0c19af7e": {
      "model_module": "@jupyter-widgets/controls",
      "model_module_version": "1.4.0",
      "model_name": "CheckboxModel",
      "state": {
       "disabled": false,
       "layout": "IPY_MODEL_27a2a9f9831a4379b399ff64b0b14030",
       "style": "IPY_MODEL_f8c6a1a12b44478db6099e04143ab258",
       "value": false
      }
     },
     "a609fec16caf4137ae07b37d7840597e": {
      "model_module": "@jupyter-widgets/controls",
      "model_module_version": "1.4.0",
      "model_name": "DropdownModel",
      "state": {
       "_options_labels": [
        "Acceleration",
        "Cylinders",
        "Displacement",
        "Horsepower",
        "Miles_per_Gallon",
        "Name",
        "Origin",
        "Weight_in_lbs",
        "Year"
       ],
       "description": "y",
       "index": 4,
       "layout": "IPY_MODEL_9d645580db084647a6b7c21303bd7d51",
       "style": "IPY_MODEL_33c143ccb5df46faa78a3b5edb45444b"
      }
     },
     "a627f41430634888aa18c2ffdef1bd65": {
      "model_module": "@jupyter-widgets/controls",
      "model_module_version": "1.4.0",
      "model_name": "CheckboxModel",
      "state": {
       "disabled": false,
       "layout": "IPY_MODEL_c372784f1f8a4edb938aaa64623b43a4",
       "style": "IPY_MODEL_b03294e6a54e4f5ba2860b2de31515f4",
       "value": false
      }
     },
     "a64b31c5c1ab4b488e045c70e67a9a85": {
      "model_module": "@jupyter-widgets/base",
      "model_module_version": "1.1.0",
      "model_name": "LayoutModel",
      "state": {}
     },
     "a68ebe74d3ca48e9bb3a215074c7116d": {
      "model_module": "@jupyter-widgets/base",
      "model_module_version": "1.1.0",
      "model_name": "LayoutModel",
      "state": {}
     },
     "a6a08fbc5c3444f2ad3d1d0f8165b8a3": {
      "model_module": "@jupyter-widgets/base",
      "model_module_version": "1.1.0",
      "model_name": "LayoutModel",
      "state": {}
     },
     "a6aa7a4ba79649ce95cc44726b5fd0b6": {
      "model_module": "@jupyter-widgets/controls",
      "model_module_version": "1.4.0",
      "model_name": "DescriptionStyleModel",
      "state": {
       "description_width": ""
      }
     },
     "a6dff0bddb134e9cb5ac2f4b4789157d": {
      "model_module": "@jupyter-widgets/controls",
      "model_module_version": "1.4.0",
      "model_name": "DescriptionStyleModel",
      "state": {
       "description_width": ""
      }
     },
     "a71edc40cbfa46a6950be57457851d00": {
      "model_module": "@jupyter-widgets/base",
      "model_module_version": "1.1.0",
      "model_name": "LayoutModel",
      "state": {}
     },
     "a72fd5050b634afebca34ad8ad4b557c": {
      "model_module": "@jupyter-widgets/controls",
      "model_module_version": "1.4.0",
      "model_name": "CheckboxModel",
      "state": {
       "disabled": false,
       "layout": "IPY_MODEL_efb4350abd404114b198216d1b1c4992",
       "style": "IPY_MODEL_83ddb92f913d420a914ad2007dde9176",
       "value": false
      }
     },
     "a7306a390b234afc80b3bb3df9d369e8": {
      "model_module": "@jupyter-widgets/controls",
      "model_module_version": "1.4.0",
      "model_name": "DescriptionStyleModel",
      "state": {
       "description_width": ""
      }
     },
     "a74b1e1a57d44ed3a7af51c42cea0a30": {
      "model_module": "@jupyter-widgets/controls",
      "model_module_version": "1.4.0",
      "model_name": "CheckboxModel",
      "state": {
       "disabled": false,
       "layout": "IPY_MODEL_6cd4ccb90edb4246a7c3bc0220adc37f",
       "style": "IPY_MODEL_3d1e4ac7a7eb4890822aa3b26d19eca5",
       "value": false
      }
     },
     "a80133d74ba049c6a65380981c454044": {
      "model_module": "@jupyter-widgets/controls",
      "model_module_version": "1.4.0",
      "model_name": "DescriptionStyleModel",
      "state": {
       "description_width": ""
      }
     },
     "a823298b1a2c4f448e22a26b13919993": {
      "model_module": "@jupyter-widgets/controls",
      "model_module_version": "1.4.0",
      "model_name": "DescriptionStyleModel",
      "state": {
       "description_width": ""
      }
     },
     "a861a7568523483ab49e44391b54b37d": {
      "model_module": "@jupyter-widgets/base",
      "model_module_version": "1.1.0",
      "model_name": "LayoutModel",
      "state": {}
     },
     "a8d648d2f420450a8ae453f47710873e": {
      "model_module": "@jupyter-widgets/controls",
      "model_module_version": "1.4.0",
      "model_name": "DescriptionStyleModel",
      "state": {
       "description_width": ""
      }
     },
     "a8ef2560429b46b18bc00f999576afd8": {
      "model_module": "@jupyter-widgets/base",
      "model_module_version": "1.1.0",
      "model_name": "LayoutModel",
      "state": {}
     },
     "a8f9107ed89f49fb9c953c0cc86f8310": {
      "model_module": "@jupyter-widgets/controls",
      "model_module_version": "1.4.0",
      "model_name": "DescriptionStyleModel",
      "state": {
       "description_width": ""
      }
     },
     "a951d3abbd694ad4890bd390fc573882": {
      "model_module": "@jupyter-widgets/base",
      "model_module_version": "1.1.0",
      "model_name": "LayoutModel",
      "state": {}
     },
     "a957bec9f2bf4951a2058f4276747e0a": {
      "model_module": "@jupyter-widgets/base",
      "model_module_version": "1.1.0",
      "model_name": "LayoutModel",
      "state": {}
     },
     "a982de76dade4d708d7b1c9122324b91": {
      "model_module": "@jupyter-widgets/controls",
      "model_module_version": "1.4.0",
      "model_name": "DropdownModel",
      "state": {
       "_options_labels": [
        "gau",
        "cos",
        "biw",
        "epa",
        "tri",
        "triw"
       ],
       "index": 0,
       "layout": "IPY_MODEL_8f0f069b38994740a4a87427cd553fe0",
       "style": "IPY_MODEL_325e441a498c488fb6b86c21a6887121"
      }
     },
     "a99523fc1f9e41a98a948f2660f55453": {
      "model_module": "@jupyter-widgets/base",
      "model_module_version": "1.1.0",
      "model_name": "LayoutModel",
      "state": {}
     },
     "a9a505f4e5c04a4f8c585f29e241e34a": {
      "model_module": "@jupyter-widgets/controls",
      "model_module_version": "1.4.0",
      "model_name": "DescriptionStyleModel",
      "state": {
       "description_width": ""
      }
     },
     "a9d9a485064e4336a5b391efea54230a": {
      "model_module": "@jupyter-widgets/controls",
      "model_module_version": "1.4.0",
      "model_name": "FloatTextModel",
      "state": {
       "layout": "IPY_MODEL_a1456b14bdc24b43973a2bb0d8de51af",
       "step": null,
       "style": "IPY_MODEL_f4f04d59c5d546f78850f3823fa5872a",
       "value": 1
      }
     },
     "a9e372a3f45243ff941669fe5e73b46e": {
      "model_module": "@jupyter-widgets/controls",
      "model_module_version": "1.4.0",
      "model_name": "DropdownModel",
      "state": {
       "_options_labels": [
        "linear",
        "exponential",
        "area"
       ],
       "index": 0,
       "layout": "IPY_MODEL_afa872d8bf8745f5a2ad31af2c6c5132",
       "style": "IPY_MODEL_d09bcf024b9f4f769b25d2e91a9b7a58"
      }
     },
     "aa002470615143b1980f9a1f2ecfce7e": {
      "model_module": "@jupyter-widgets/base",
      "model_module_version": "1.1.0",
      "model_name": "LayoutModel",
      "state": {}
     },
     "aa029ad8e94d4900afdcc61280c947ba": {
      "model_module": "@jupyter-widgets/base",
      "model_module_version": "1.1.0",
      "model_name": "LayoutModel",
      "state": {}
     },
     "aa02c68f84bc4b948400c6b18f01d272": {
      "model_module": "@jupyter-widgets/controls",
      "model_module_version": "1.4.0",
      "model_name": "DescriptionStyleModel",
      "state": {
       "description_width": ""
      }
     },
     "aa2e4e5fc8c64e91907e13b3351763f9": {
      "model_module": "@jupyter-widgets/controls",
      "model_module_version": "1.4.0",
      "model_name": "IntTextModel",
      "state": {
       "layout": "IPY_MODEL_44133f4270a24a34b7d53b2c2e9c4159",
       "step": 1,
       "style": "IPY_MODEL_d67f7ccbb8644284918472f4a47eeb37",
       "value": 10
      }
     },
     "aa396a9de0df47f99eaf0dccfaddf0ef": {
      "model_module": "@jupyter-widgets/controls",
      "model_module_version": "1.4.0",
      "model_name": "HBoxModel",
      "state": {
       "children": [
        "IPY_MODEL_0c872ffe3cbb4a7499355d8dd4959019"
       ],
       "layout": "IPY_MODEL_9995538c81474a73901520ca62c5f08a"
      }
     },
     "aaa11320f9db4b65b164f2b33dbc7a5d": {
      "model_module": "@jupyter-widgets/controls",
      "model_module_version": "1.4.0",
      "model_name": "DescriptionStyleModel",
      "state": {
       "description_width": ""
      }
     },
     "aab77fc432e140fdb6ee343407a2fb49": {
      "model_module": "@jupyter-widgets/base",
      "model_module_version": "1.1.0",
      "model_name": "LayoutModel",
      "state": {}
     },
     "aac19ad40cd24626aa94b88ce84f7c26": {
      "model_module": "@jupyter-widgets/controls",
      "model_module_version": "1.4.0",
      "model_name": "CheckboxModel",
      "state": {
       "disabled": false,
       "layout": "IPY_MODEL_706baa2edd8c4784b03a6626e6cb3441",
       "style": "IPY_MODEL_b8748eea46034417a7d92e9e9991cf44",
       "value": false
      }
     },
     "aac21ea073a0410a8f80b56f5a8bb488": {
      "model_module": "@jupyter-widgets/controls",
      "model_module_version": "1.4.0",
      "model_name": "DescriptionStyleModel",
      "state": {
       "description_width": ""
      }
     },
     "aacb46c571474851935ce67aee888d53": {
      "model_module": "@jupyter-widgets/controls",
      "model_module_version": "1.4.0",
      "model_name": "SliderStyleModel",
      "state": {
       "description_width": ""
      }
     },
     "aacc8730732b46848c73d7fee9601fb5": {
      "model_module": "@jupyter-widgets/base",
      "model_module_version": "1.1.0",
      "model_name": "LayoutModel",
      "state": {}
     },
     "aaf5b40ee2874165acd7db3605d1c6f4": {
      "model_module": "@jupyter-widgets/controls",
      "model_module_version": "1.4.0",
      "model_name": "DescriptionStyleModel",
      "state": {
       "description_width": ""
      }
     },
     "ab2a9f72dbc74059b38d7d805355a87d": {
      "model_module": "@jupyter-widgets/base",
      "model_module_version": "1.1.0",
      "model_name": "LayoutModel",
      "state": {}
     },
     "ab2ae0dd00704bac81900f364335063d": {
      "model_module": "@jupyter-widgets/controls",
      "model_module_version": "1.4.0",
      "model_name": "DescriptionStyleModel",
      "state": {
       "description_width": ""
      }
     },
     "ab4d3e6c4988458bbcadd983753f9d74": {
      "model_module": "@jupyter-widgets/controls",
      "model_module_version": "1.4.0",
      "model_name": "FloatTextModel",
      "state": {
       "layout": "IPY_MODEL_342914c14f7f4069854b1b2463cf5a68",
       "step": null,
       "style": "IPY_MODEL_206a1e8aa2cd4679a2eac371f8166ff5",
       "value": 1
      }
     },
     "ab51f855c6114da4ab144b69087fce00": {
      "model_module": "@jupyter-widgets/controls",
      "model_module_version": "1.4.0",
      "model_name": "DropdownModel",
      "state": {
       "_options_labels": [
        "linear",
        "exponential",
        "area"
       ],
       "index": 0,
       "layout": "IPY_MODEL_5c192de6fefd4931b288dcdaab35e1b8",
       "style": "IPY_MODEL_345b336a502d48b4b5edf411109f36d7"
      }
     },
     "ab7ea38b1e6d4df1a9ce735b33b69ad4": {
      "model_module": "@jupyter-widgets/controls",
      "model_module_version": "1.4.0",
      "model_name": "HBoxModel",
      "state": {
       "children": [
        "IPY_MODEL_84228e3973404b2a934d47104d45adff"
       ],
       "layout": "IPY_MODEL_b09619a8e26a4c9bae8822ca57883a97"
      }
     },
     "ab8aba724a624169a4bb3e58b358c3f3": {
      "model_module": "@jupyter-widgets/base",
      "model_module_version": "1.1.0",
      "model_name": "LayoutModel",
      "state": {}
     },
     "ab8d2bd8cf6a491b82f91b121f42b9d0": {
      "model_module": "@jupyter-widgets/base",
      "model_module_version": "1.1.0",
      "model_name": "LayoutModel",
      "state": {}
     },
     "ab9b538bfdf84e31886c10279a164452": {
      "model_module": "@jupyter-widgets/controls",
      "model_module_version": "1.4.0",
      "model_name": "FloatTextModel",
      "state": {
       "layout": "IPY_MODEL_ab2a9f72dbc74059b38d7d805355a87d",
       "step": null,
       "style": "IPY_MODEL_4b9a0bb3924542f392b1a906b53c5f58",
       "value": 1
      }
     },
     "abc4010b84094d3c8f619d5a371714d9": {
      "model_module": "@jupyter-widgets/base",
      "model_module_version": "1.1.0",
      "model_name": "LayoutModel",
      "state": {}
     },
     "abc858fe32834e2c90e92f74926faa08": {
      "model_module": "@jupyter-widgets/controls",
      "model_module_version": "1.4.0",
      "model_name": "DropdownModel",
      "state": {
       "_options_labels": [
        "band",
        "bars"
       ],
       "index": 0,
       "layout": "IPY_MODEL_5056b1b3e1f44a3faf1fbcd71182b4fe",
       "style": "IPY_MODEL_b84f8e8476a6415fb39c6e243c61da62"
      }
     },
     "abedc5b75d324457a502c6daf01cbe0d": {
      "model_module": "@jupyter-widgets/controls",
      "model_module_version": "1.4.0",
      "model_name": "DescriptionStyleModel",
      "state": {
       "description_width": ""
      }
     },
     "ac04b8394d8c45c3a5bc13cd84dec462": {
      "model_module": "@jupyter-widgets/controls",
      "model_module_version": "1.4.0",
      "model_name": "CheckboxModel",
      "state": {
       "disabled": false,
       "layout": "IPY_MODEL_17197fa8098a4ba9a7cc15b463855b89",
       "style": "IPY_MODEL_ea403a2759a04c5f9681442628e7eb83",
       "value": false
      }
     },
     "ac29ffb8cc1c479f86d8544d2c7ca760": {
      "model_module": "@jupyter-widgets/controls",
      "model_module_version": "1.4.0",
      "model_name": "DescriptionStyleModel",
      "state": {
       "description_width": ""
      }
     },
     "ac37b2e9f12a446da5ced2fe77951891": {
      "model_module": "@jupyter-widgets/base",
      "model_module_version": "1.1.0",
      "model_name": "LayoutModel",
      "state": {}
     },
     "ac97d532d2da4b51bf1dd5809eb69562": {
      "model_module": "@jupyter-widgets/controls",
      "model_module_version": "1.4.0",
      "model_name": "DescriptionStyleModel",
      "state": {
       "description_width": ""
      }
     },
     "ac9cefa917cc4f6a8d4abefc355b5273": {
      "model_module": "@jupyter-widgets/base",
      "model_module_version": "1.1.0",
      "model_name": "LayoutModel",
      "state": {}
     },
     "acbaafbbec8d4618a9480f73c128f019": {
      "model_module": "@jupyter-widgets/base",
      "model_module_version": "1.1.0",
      "model_name": "LayoutModel",
      "state": {}
     },
     "ad59e8dc58904550865ddafb4f33b4b3": {
      "model_module": "@jupyter-widgets/base",
      "model_module_version": "1.1.0",
      "model_name": "LayoutModel",
      "state": {}
     },
     "ad9b0b113fb343d3a687d4ee6171bdeb": {
      "model_module": "@jupyter-widgets/controls",
      "model_module_version": "1.4.0",
      "model_name": "HBoxModel",
      "state": {
       "children": [
        "IPY_MODEL_5e625ffc144f4865ba72844cb379ed7d"
       ],
       "layout": "IPY_MODEL_129f3afe579f44ac9ca64a845d35822b"
      }
     },
     "ae3064e2cf3b4d8eb2b771cde67c225c": {
      "model_module": "@jupyter-widgets/base",
      "model_module_version": "1.1.0",
      "model_name": "LayoutModel",
      "state": {}
     },
     "ae8d691878e5474ca797a7038f0fa354": {
      "model_module": "@jupyter-widgets/controls",
      "model_module_version": "1.4.0",
      "model_name": "FloatTextModel",
      "state": {
       "layout": "IPY_MODEL_95c134ffcaa346a88a62f03ef2a83808",
       "step": null,
       "style": "IPY_MODEL_ea7c4f470a544f9896537ca65a29b2f1",
       "value": 0.1
      }
     },
     "ae8e4e9ced1f4c99be387a03582ffd93": {
      "model_module": "@jupyter-widgets/base",
      "model_module_version": "1.1.0",
      "model_name": "LayoutModel",
      "state": {}
     },
     "ae8f519375144a9ca7b83aab80a0d329": {
      "model_module": "@jupyter-widgets/controls",
      "model_module_version": "1.4.0",
      "model_name": "CheckboxModel",
      "state": {
       "disabled": false,
       "layout": "IPY_MODEL_8fec3f0a75e64ad08b4f9dd3d98400b9",
       "style": "IPY_MODEL_3186db9bf4e943e8a569b1007b7721d0",
       "value": false
      }
     },
     "aea296f87c1d461a8d0541794b92f17c": {
      "model_module": "@jupyter-widgets/controls",
      "model_module_version": "1.4.0",
      "model_name": "DescriptionStyleModel",
      "state": {
       "description_width": ""
      }
     },
     "aeba136b297b47f5b69b90c25f66bd93": {
      "model_module": "@jupyter-widgets/controls",
      "model_module_version": "1.4.0",
      "model_name": "DescriptionStyleModel",
      "state": {
       "description_width": ""
      }
     },
     "aec66b26be3746379238447480fbc08c": {
      "model_module": "@jupyter-widgets/controls",
      "model_module_version": "1.4.0",
      "model_name": "CheckboxModel",
      "state": {
       "disabled": false,
       "layout": "IPY_MODEL_78f5cfbfe21c4b49ae671b1369111345",
       "style": "IPY_MODEL_415b2487fa8c4e01b3198475b3669942",
       "value": false
      }
     },
     "aec6eec04b2f4f8faf900d49f14874d9": {
      "model_module": "@jupyter-widgets/controls",
      "model_module_version": "1.4.0",
      "model_name": "DescriptionStyleModel",
      "state": {
       "description_width": ""
      }
     },
     "af0315a8bc434df78db615ed48e9c6b7": {
      "model_module": "@jupyter-widgets/base",
      "model_module_version": "1.1.0",
      "model_name": "LayoutModel",
      "state": {}
     },
     "af17520223a148539ac544724e29161b": {
      "model_module": "@jupyter-widgets/base",
      "model_module_version": "1.1.0",
      "model_name": "LayoutModel",
      "state": {}
     },
     "af33af287ac541579506838d8e1eecf4": {
      "model_module": "@jupyter-widgets/base",
      "model_module_version": "1.1.0",
      "model_name": "LayoutModel",
      "state": {}
     },
     "af54dffd35b6485fbb54957db270d39e": {
      "model_module": "@jupyter-widgets/controls",
      "model_module_version": "1.4.0",
      "model_name": "CheckboxModel",
      "state": {
       "disabled": false,
       "layout": "IPY_MODEL_567eaae6d0f34577b16b78e19e0b821e",
       "style": "IPY_MODEL_0b59fe4200df4fb68d26ab17dfb208e0",
       "value": false
      }
     },
     "af974043f3c542cda751df7a53264aa2": {
      "model_module": "@jupyter-widgets/controls",
      "model_module_version": "1.4.0",
      "model_name": "TextModel",
      "state": {
       "layout": "IPY_MODEL_a023f6ccfd8f45d08e38677ad3414036",
       "style": "IPY_MODEL_cbe1ac7eb6f741f3b49c84b3dce98902",
       "value": "gray"
      }
     },
     "afa872d8bf8745f5a2ad31af2c6c5132": {
      "model_module": "@jupyter-widgets/base",
      "model_module_version": "1.1.0",
      "model_name": "LayoutModel",
      "state": {}
     },
     "afbcd7c74b2b484d9e7a7cc396ae7eb1": {
      "model_module": "@jupyter-widgets/controls",
      "model_module_version": "1.4.0",
      "model_name": "FloatTextModel",
      "state": {
       "layout": "IPY_MODEL_7e36f7c89a514261a8194409340268bc",
       "step": null,
       "style": "IPY_MODEL_049985ce44c549818f5e82b6c9e7b1aa",
       "value": 5
      }
     },
     "b03294e6a54e4f5ba2860b2de31515f4": {
      "model_module": "@jupyter-widgets/controls",
      "model_module_version": "1.4.0",
      "model_name": "DescriptionStyleModel",
      "state": {
       "description_width": ""
      }
     },
     "b03f2b488c804b0abdbd6665ab88d992": {
      "model_module": "@jupyter-widgets/controls",
      "model_module_version": "1.4.0",
      "model_name": "DropdownModel",
      "state": {
       "_options_labels": [
        "Acceleration",
        "Cylinders",
        "Displacement",
        "Horsepower",
        "Miles_per_Gallon",
        "Name",
        "Origin",
        "Weight_in_lbs",
        "Year"
       ],
       "index": 0,
       "layout": "IPY_MODEL_0210f6a2d88a4cb2a210fbfdf023b6f5",
       "style": "IPY_MODEL_ee4153cd730746959b18a5016fefaa47"
      }
     },
     "b05cc7911e2a43dcaf19ff1ffa29719a": {
      "model_module": "@jupyter-widgets/controls",
      "model_module_version": "1.4.0",
      "model_name": "DescriptionStyleModel",
      "state": {
       "description_width": ""
      }
     },
     "b06a5e3198c841b5a423f33f2d6749eb": {
      "model_module": "@jupyter-widgets/controls",
      "model_module_version": "1.4.0",
      "model_name": "DropdownModel",
      "state": {
       "_options_labels": [
        "gau",
        "cos",
        "biw",
        "epa",
        "tri",
        "triw"
       ],
       "index": 0,
       "layout": "IPY_MODEL_08d556069afc4f228af1608a440ab073",
       "style": "IPY_MODEL_cb5de3d6fa904d989d649f4987bb6dc4"
      }
     },
     "b09619a8e26a4c9bae8822ca57883a97": {
      "model_module": "@jupyter-widgets/base",
      "model_module_version": "1.1.0",
      "model_name": "LayoutModel",
      "state": {}
     },
     "b0a44cdbd3cb4144ab18bafdca2e2ba2": {
      "model_module": "@jupyter-widgets/controls",
      "model_module_version": "1.4.0",
      "model_name": "DescriptionStyleModel",
      "state": {
       "description_width": ""
      }
     },
     "b0e37f0665e04bbdbda9711827bf97f2": {
      "model_module": "@jupyter-widgets/base",
      "model_module_version": "1.1.0",
      "model_name": "LayoutModel",
      "state": {}
     },
     "b112c276fecf48b6a32b1536dc433ae2": {
      "model_module": "@jupyter-widgets/controls",
      "model_module_version": "1.4.0",
      "model_name": "CheckboxModel",
      "state": {
       "disabled": false,
       "layout": "IPY_MODEL_f4298abef75847129008a81c75388747",
       "style": "IPY_MODEL_1ba73281ebb34fe7a0933daf06ce1165",
       "value": false
      }
     },
     "b1a06f7cbbf946d0af36fe3f87085a4b": {
      "model_module": "@jupyter-widgets/controls",
      "model_module_version": "1.4.0",
      "model_name": "IntTextModel",
      "state": {
       "layout": "IPY_MODEL_591e93550a2448a1bc2459c4c6b2ecae",
       "step": 1,
       "style": "IPY_MODEL_27aaa096ad6a4ba5a0e6074b90359fe4",
       "value": 10
      }
     },
     "b1b1837f319a47c383db5e618915e874": {
      "model_module": "@jupyter-widgets/base",
      "model_module_version": "1.1.0",
      "model_name": "LayoutModel",
      "state": {}
     },
     "b1bba66979ec453284b9708098e96230": {
      "model_module": "@jupyter-widgets/base",
      "model_module_version": "1.1.0",
      "model_name": "LayoutModel",
      "state": {}
     },
     "b235877c5f464a2a9f49e0cc1bdb3535": {
      "model_module": "@jupyter-widgets/controls",
      "model_module_version": "1.4.0",
      "model_name": "DescriptionStyleModel",
      "state": {
       "description_width": ""
      }
     },
     "b252a849e6124dc09b992772f8dfa12e": {
      "model_module": "@jupyter-widgets/controls",
      "model_module_version": "1.4.0",
      "model_name": "DescriptionStyleModel",
      "state": {
       "description_width": ""
      }
     },
     "b25e581a943f4d21adda3a9af65d9146": {
      "model_module": "@jupyter-widgets/controls",
      "model_module_version": "1.4.0",
      "model_name": "CheckboxModel",
      "state": {
       "disabled": false,
       "layout": "IPY_MODEL_659b87c819d74430a4fccc5cc9c9a73a",
       "style": "IPY_MODEL_8dc286674fe24422be1add6ad39d9d97",
       "value": false
      }
     },
     "b271bea1c6644b8298f7d43ee56e3487": {
      "model_module": "@jupyter-widgets/controls",
      "model_module_version": "1.4.0",
      "model_name": "DescriptionStyleModel",
      "state": {
       "description_width": ""
      }
     },
     "b275b844986049e3a9cfdc8d9853495a": {
      "model_module": "@jupyter-widgets/controls",
      "model_module_version": "1.4.0",
      "model_name": "CheckboxModel",
      "state": {
       "disabled": false,
       "layout": "IPY_MODEL_350dc7b1573e412f819cd4dddc738398",
       "style": "IPY_MODEL_262e9a002ed54f1f88d08d0506d79125",
       "value": false
      }
     },
     "b27bd26afb1641c9aaba7311b3efd315": {
      "model_module": "@jupyter-widgets/base",
      "model_module_version": "1.1.0",
      "model_name": "LayoutModel",
      "state": {}
     },
     "b2a00e5844534e76a4808dbf05a394ee": {
      "model_module": "@jupyter-widgets/base",
      "model_module_version": "1.1.0",
      "model_name": "LayoutModel",
      "state": {}
     },
     "b2af92269a3d45b384debbc458add80c": {
      "model_module": "@jupyter-widgets/base",
      "model_module_version": "1.1.0",
      "model_name": "LayoutModel",
      "state": {}
     },
     "b2e7d781049c40dcbf0c0ff3ac55ddc1": {
      "model_module": "@jupyter-widgets/controls",
      "model_module_version": "1.4.0",
      "model_name": "CheckboxModel",
      "state": {
       "disabled": false,
       "layout": "IPY_MODEL_49d46ab201f04c36a0b7608ca174c333",
       "style": "IPY_MODEL_bcdba0f4f3d1469fa958e8eb3f3d1df4",
       "value": false
      }
     },
     "b307c6d138294a1a90a4fc306341d571": {
      "model_module": "@jupyter-widgets/base",
      "model_module_version": "1.1.0",
      "model_name": "LayoutModel",
      "state": {}
     },
     "b357c8d2bd214ccb9c175f863dfe1a25": {
      "model_module": "@jupyter-widgets/base",
      "model_module_version": "1.1.0",
      "model_name": "LayoutModel",
      "state": {}
     },
     "b35d3f05b4f6488aa26169bbce328747": {
      "model_module": "@jupyter-widgets/base",
      "model_module_version": "1.1.0",
      "model_name": "LayoutModel",
      "state": {}
     },
     "b37d77f3d9364ea380ca0b1e31559fa6": {
      "model_module": "@jupyter-widgets/controls",
      "model_module_version": "1.4.0",
      "model_name": "CheckboxModel",
      "state": {
       "disabled": false,
       "layout": "IPY_MODEL_403273a05fa0430793bcffec25d8684e",
       "style": "IPY_MODEL_264742b4dd3043c8a0ec4f884e42f2c6",
       "value": false
      }
     },
     "b38cf1b129f541d899b03e4a1271feae": {
      "model_module": "@jupyter-widgets/controls",
      "model_module_version": "1.4.0",
      "model_name": "DescriptionStyleModel",
      "state": {
       "description_width": ""
      }
     },
     "b3b22fef8a8c42b0804c3519cd4a3100": {
      "model_module": "@jupyter-widgets/controls",
      "model_module_version": "1.4.0",
      "model_name": "DescriptionStyleModel",
      "state": {
       "description_width": ""
      }
     },
     "b3d37c3f1b69498fa3b4ac5a75167bd7": {
      "model_module": "@jupyter-widgets/controls",
      "model_module_version": "1.4.0",
      "model_name": "CheckboxModel",
      "state": {
       "disabled": false,
       "layout": "IPY_MODEL_c7c0769661c64d4287b79b9545579b61",
       "style": "IPY_MODEL_4ac3080b1f1640f08b5ba980bd59de75",
       "value": false
      }
     },
     "b3d6b814de4845d19631cf69e2af4638": {
      "model_module": "@jupyter-widgets/base",
      "model_module_version": "1.1.0",
      "model_name": "LayoutModel",
      "state": {}
     },
     "b4066e2f5c9342bca94eed3bdf1fdbca": {
      "model_module": "@jupyter-widgets/base",
      "model_module_version": "1.1.0",
      "model_name": "LayoutModel",
      "state": {}
     },
     "b41546b448d242a085ebca73d5653fbc": {
      "model_module": "@jupyter-widgets/controls",
      "model_module_version": "1.4.0",
      "model_name": "DescriptionStyleModel",
      "state": {
       "description_width": ""
      }
     },
     "b4155887b2fa45be9a2b8771a34fd243": {
      "model_module": "@jupyter-widgets/controls",
      "model_module_version": "1.4.0",
      "model_name": "DescriptionStyleModel",
      "state": {
       "description_width": ""
      }
     },
     "b4508921b66e4dfa82c5ddd40adfa9f8": {
      "model_module": "@jupyter-widgets/controls",
      "model_module_version": "1.4.0",
      "model_name": "DescriptionStyleModel",
      "state": {
       "description_width": ""
      }
     },
     "b4787a662be34a9eb784a88a92787678": {
      "model_module": "@jupyter-widgets/base",
      "model_module_version": "1.1.0",
      "model_name": "LayoutModel",
      "state": {}
     },
     "b49278ab11f04ceb8a09cfcb411787d4": {
      "model_module": "@jupyter-widgets/controls",
      "model_module_version": "1.4.0",
      "model_name": "DescriptionStyleModel",
      "state": {
       "description_width": ""
      }
     },
     "b4960a3d0c784f43a60dcba01a07ef3c": {
      "model_module": "@jupyter-widgets/controls",
      "model_module_version": "1.4.0",
      "model_name": "DescriptionStyleModel",
      "state": {
       "description_width": ""
      }
     },
     "b4aa46bfa8bf43de81fc5b13fb6bb9c1": {
      "model_module": "@jupyter-widgets/base",
      "model_module_version": "1.1.0",
      "model_name": "LayoutModel",
      "state": {}
     },
     "b4ca87848e8e491ca5c3c8a66f3c8f6a": {
      "model_module": "@jupyter-widgets/controls",
      "model_module_version": "1.4.0",
      "model_name": "DescriptionStyleModel",
      "state": {
       "description_width": ""
      }
     },
     "b4d78dcda8e94d488cb628b75c8c1962": {
      "model_module": "@jupyter-widgets/base",
      "model_module_version": "1.1.0",
      "model_name": "LayoutModel",
      "state": {}
     },
     "b5238973ff584c51a88affc2af2678ee": {
      "model_module": "@jupyter-widgets/base",
      "model_module_version": "1.1.0",
      "model_name": "LayoutModel",
      "state": {}
     },
     "b52fdbbb96164d07ab825d163270d7a5": {
      "model_module": "@jupyter-widgets/base",
      "model_module_version": "1.1.0",
      "model_name": "LayoutModel",
      "state": {}
     },
     "b60133c6f8a84a99b6698f75c6311011": {
      "model_module": "@jupyter-widgets/base",
      "model_module_version": "1.1.0",
      "model_name": "LayoutModel",
      "state": {}
     },
     "b624d5d51cf648358a55416774e7a522": {
      "model_module": "@jupyter-widgets/controls",
      "model_module_version": "1.4.0",
      "model_name": "DropdownModel",
      "state": {
       "_options_labels": [
        "scatter",
        "reg",
        "resid",
        "kde",
        "hex"
       ],
       "index": 0,
       "layout": "IPY_MODEL_7889d52de43a48ac932abfc72691d823",
       "style": "IPY_MODEL_3e77f02d4d3f431b8fdbbbbd589a977c"
      }
     },
     "b647e19d4cc542ddada64147c73d6e7f": {
      "model_module": "@jupyter-widgets/base",
      "model_module_version": "1.1.0",
      "model_name": "LayoutModel",
      "state": {}
     },
     "b6616fda0713431b8f2839c4ba0955c9": {
      "model_module": "@jupyter-widgets/controls",
      "model_module_version": "1.4.0",
      "model_name": "DropdownModel",
      "state": {
       "_options_labels": [
        "True",
        "col",
        "row"
       ],
       "index": 0,
       "layout": "IPY_MODEL_b9504801b62f41b99d59ce4cdcb099c4",
       "style": "IPY_MODEL_03daa8994fb145889970b9d320a80832"
      }
     },
     "b686ec6b6b864f188ff6c1a21f9bd5eb": {
      "model_module": "@jupyter-widgets/controls",
      "model_module_version": "1.4.0",
      "model_name": "DropdownModel",
      "state": {
       "_options_labels": [
        "scatter",
        "reg",
        "resid",
        "kde",
        "hex"
       ],
       "index": 0,
       "layout": "IPY_MODEL_b4787a662be34a9eb784a88a92787678",
       "style": "IPY_MODEL_63b8b14f7d25482a9a6eae96899f2f4d"
      }
     },
     "b6b66b43744b4d6e95be60ad99384592": {
      "model_module": "@jupyter-widgets/controls",
      "model_module_version": "1.4.0",
      "model_name": "FloatTextModel",
      "state": {
       "layout": "IPY_MODEL_c213951f230747ae96ac81cdc2221068",
       "step": null,
       "style": "IPY_MODEL_e3e42e6ea846434abb1138af0f25bfbb",
       "value": 0.2
      }
     },
     "b6bbaf1226404a369ac1cc0a1d16086c": {
      "model_module": "@jupyter-widgets/controls",
      "model_module_version": "1.4.0",
      "model_name": "DescriptionStyleModel",
      "state": {
       "description_width": ""
      }
     },
     "b721de1767bf487eb6127c11d7347010": {
      "model_module": "@jupyter-widgets/controls",
      "model_module_version": "1.4.0",
      "model_name": "DescriptionStyleModel",
      "state": {
       "description_width": ""
      }
     },
     "b7c473e1e3344f5a9e138e8b99fb3131": {
      "model_module": "@jupyter-widgets/base",
      "model_module_version": "1.1.0",
      "model_name": "LayoutModel",
      "state": {}
     },
     "b7cf0fed1fe14b8da41e877ea73cdc23": {
      "model_module": "@jupyter-widgets/base",
      "model_module_version": "1.1.0",
      "model_name": "LayoutModel",
      "state": {}
     },
     "b7e9c77816944232ab3f2875cdf81987": {
      "model_module": "@jupyter-widgets/base",
      "model_module_version": "1.1.0",
      "model_name": "LayoutModel",
      "state": {}
     },
     "b82054cea2e54c0ebaacbd495a910b9a": {
      "model_module": "@jupyter-widgets/controls",
      "model_module_version": "1.4.0",
      "model_name": "DropdownModel",
      "state": {
       "_options_labels": [
        "Acceleration",
        "Cylinders",
        "Displacement",
        "Horsepower",
        "Miles_per_Gallon",
        "Name",
        "Origin",
        "Weight_in_lbs",
        "Year"
       ],
       "index": 0,
       "layout": "IPY_MODEL_ab8aba724a624169a4bb3e58b358c3f3",
       "style": "IPY_MODEL_bcbcd4fef0c245d6b46c7f32c4f15041"
      }
     },
     "b84f8e8476a6415fb39c6e243c61da62": {
      "model_module": "@jupyter-widgets/controls",
      "model_module_version": "1.4.0",
      "model_name": "DescriptionStyleModel",
      "state": {
       "description_width": ""
      }
     },
     "b8748eea46034417a7d92e9e9991cf44": {
      "model_module": "@jupyter-widgets/controls",
      "model_module_version": "1.4.0",
      "model_name": "DescriptionStyleModel",
      "state": {
       "description_width": ""
      }
     },
     "b89bbec9c0cb4d69bd7b12c36cc413b9": {
      "model_module": "@jupyter-widgets/controls",
      "model_module_version": "1.4.0",
      "model_name": "CheckboxModel",
      "state": {
       "disabled": false,
       "layout": "IPY_MODEL_e997afde93b549dfb6a410c2c38f3db3",
       "style": "IPY_MODEL_83f6e0f22ba644edbf8182cec347f8b7",
       "value": false
      }
     },
     "b8c09802732946da97bd08223c951c74": {
      "model_module": "@jupyter-widgets/controls",
      "model_module_version": "1.4.0",
      "model_name": "CheckboxModel",
      "state": {
       "disabled": false,
       "layout": "IPY_MODEL_21152889cfd748d780e6aa893e1205ea",
       "style": "IPY_MODEL_8c45a6c69b3b4c269a1cd4304c5fab9d",
       "value": false
      }
     },
     "b8cb72a612e64b3bafd1ac66c501b6e8": {
      "model_module": "@jupyter-widgets/controls",
      "model_module_version": "1.4.0",
      "model_name": "DescriptionStyleModel",
      "state": {
       "description_width": ""
      }
     },
     "b8d02f9508d5454988fee089d95d3dc9": {
      "model_module": "@jupyter-widgets/base",
      "model_module_version": "1.1.0",
      "model_name": "LayoutModel",
      "state": {}
     },
     "b91c4a8f5390475b901a29e87bfe1de4": {
      "model_module": "@jupyter-widgets/controls",
      "model_module_version": "1.4.0",
      "model_name": "DescriptionStyleModel",
      "state": {
       "description_width": ""
      }
     },
     "b91d368d5f8045d7acd8c9423d05339e": {
      "model_module": "@jupyter-widgets/controls",
      "model_module_version": "1.4.0",
      "model_name": "DescriptionStyleModel",
      "state": {
       "description_width": ""
      }
     },
     "b9504801b62f41b99d59ce4cdcb099c4": {
      "model_module": "@jupyter-widgets/base",
      "model_module_version": "1.1.0",
      "model_name": "LayoutModel",
      "state": {}
     },
     "b974af3c4cb74427ac2532cc932b7fff": {
      "model_module": "@jupyter-widgets/controls",
      "model_module_version": "1.4.0",
      "model_name": "HBoxModel",
      "state": {
       "children": [
        "IPY_MODEL_3cf2fe7c43d44d67a02ce8a82e470515",
        "IPY_MODEL_1361dea5bbf44af9a1c20a5264c4c20a"
       ],
       "layout": "IPY_MODEL_5b8733bf32d147578365f221b53f5fdd"
      }
     },
     "b9a1a479f1554384b41524a3da54fa17": {
      "model_module": "@jupyter-widgets/base",
      "model_module_version": "1.1.0",
      "model_name": "LayoutModel",
      "state": {}
     },
     "b9cfa6b8a6064b96aae65c11fd33469d": {
      "model_module": "@jupyter-widgets/controls",
      "model_module_version": "1.4.0",
      "model_name": "DescriptionStyleModel",
      "state": {
       "description_width": ""
      }
     },
     "ba0b967dabc54f5e842237e5292f91eb": {
      "model_module": "@jupyter-widgets/controls",
      "model_module_version": "1.4.0",
      "model_name": "HBoxModel",
      "state": {
       "children": [
        "IPY_MODEL_baf159c588f74752af61338afb84decb",
        "IPY_MODEL_6e283bf7b9364d95a2959cc4b3db920a"
       ],
       "layout": "IPY_MODEL_ad59e8dc58904550865ddafb4f33b4b3"
      }
     },
     "ba62e2d1b46441368ce08d5be81b7bdf": {
      "model_module": "@jupyter-widgets/controls",
      "model_module_version": "1.4.0",
      "model_name": "DescriptionStyleModel",
      "state": {
       "description_width": ""
      }
     },
     "bac5190b35cd47419734276a74c05144": {
      "model_module": "@jupyter-widgets/base",
      "model_module_version": "1.1.0",
      "model_name": "LayoutModel",
      "state": {}
     },
     "baf0af5138ec40bfbd6121279031b4ee": {
      "model_module": "@jupyter-widgets/base",
      "model_module_version": "1.1.0",
      "model_name": "LayoutModel",
      "state": {}
     },
     "baf159c588f74752af61338afb84decb": {
      "model_module": "@jupyter-widgets/controls",
      "model_module_version": "1.4.0",
      "model_name": "DropdownModel",
      "state": {
       "_options_labels": [
        "Acceleration",
        "Cylinders",
        "Displacement",
        "Horsepower",
        "Miles_per_Gallon",
        "Name",
        "Origin",
        "Weight_in_lbs",
        "Year"
       ],
       "description": "y",
       "index": 4,
       "layout": "IPY_MODEL_4d58e5dcdbe949ca95986590740aee4a",
       "style": "IPY_MODEL_32b8dfb9ce254cab9fd04c506e02a691"
      }
     },
     "bb1a675498034578b591c5d9eb83ba07": {
      "model_module": "@jupyter-widgets/base",
      "model_module_version": "1.1.0",
      "model_name": "LayoutModel",
      "state": {}
     },
     "bb633e8a5d92419b9550d63864bc0e04": {
      "model_module": "@jupyter-widgets/base",
      "model_module_version": "1.1.0",
      "model_name": "LayoutModel",
      "state": {}
     },
     "bb92623fdc2847eaa80c90a26162f04d": {
      "model_module": "@jupyter-widgets/controls",
      "model_module_version": "1.4.0",
      "model_name": "ButtonModel",
      "state": {
       "description": "remove",
       "layout": "IPY_MODEL_0480b21d9ae2469194368c57c57ad27b",
       "style": "IPY_MODEL_03a02a2cd6874193b784c76e54feda95"
      }
     },
     "bb9dec7eceba41ed97018f6dfbcc4ba1": {
      "model_module": "@jupyter-widgets/controls",
      "model_module_version": "1.4.0",
      "model_name": "DescriptionStyleModel",
      "state": {
       "description_width": ""
      }
     },
     "bbde00cc3c2a4733a036228889765787": {
      "model_module": "@jupyter-widgets/controls",
      "model_module_version": "1.4.0",
      "model_name": "DropdownModel",
      "state": {
       "_options_labels": [
        "True",
        "col",
        "row"
       ],
       "index": 0,
       "layout": "IPY_MODEL_6b7cc16cd98942d88cb6568035dc9020",
       "style": "IPY_MODEL_bded4329de5e414ba89207bec640ab35"
      }
     },
     "bc6fa1f4b12b4d449b0a45f4508f7852": {
      "model_module": "@jupyter-widgets/base",
      "model_module_version": "1.1.0",
      "model_name": "LayoutModel",
      "state": {}
     },
     "bc79653a07fb40bfa00ec8e8a46bf56b": {
      "model_module": "@jupyter-widgets/base",
      "model_module_version": "1.1.0",
      "model_name": "LayoutModel",
      "state": {}
     },
     "bc911021bc9843c589cc8db7cded8c51": {
      "model_module": "@jupyter-widgets/base",
      "model_module_version": "1.1.0",
      "model_name": "LayoutModel",
      "state": {}
     },
     "bcbcd4fef0c245d6b46c7f32c4f15041": {
      "model_module": "@jupyter-widgets/controls",
      "model_module_version": "1.4.0",
      "model_name": "DescriptionStyleModel",
      "state": {
       "description_width": ""
      }
     },
     "bcdba0f4f3d1469fa958e8eb3f3d1df4": {
      "model_module": "@jupyter-widgets/controls",
      "model_module_version": "1.4.0",
      "model_name": "DescriptionStyleModel",
      "state": {
       "description_width": ""
      }
     },
     "bce919f5e05a40b3ab591d19f166629d": {
      "model_module": "@jupyter-widgets/controls",
      "model_module_version": "1.4.0",
      "model_name": "FloatSliderModel",
      "state": {
       "layout": "IPY_MODEL_a40f2e2357d04b48955fd43f501d06b6",
       "max": 1,
       "step": 0.001,
       "style": "IPY_MODEL_dd21fb90cddf4c329ceb1cfefec652b5",
       "value": 0.007
      }
     },
     "bd04271c892249b0814c5bafa2b67065": {
      "model_module": "@jupyter-widgets/base",
      "model_module_version": "1.1.0",
      "model_name": "LayoutModel",
      "state": {}
     },
     "bd23570524ea4779b05c12295a2d72a4": {
      "model_module": "@jupyter-widgets/base",
      "model_module_version": "1.1.0",
      "model_name": "LayoutModel",
      "state": {}
     },
     "bd41f685378544d6a6ad0de50f82b356": {
      "model_module": "@jupyter-widgets/base",
      "model_module_version": "1.1.0",
      "model_name": "LayoutModel",
      "state": {}
     },
     "bd4c52d7a0f34c8e9765c339c771adef": {
      "model_module": "@jupyter-widgets/base",
      "model_module_version": "1.1.0",
      "model_name": "LayoutModel",
      "state": {}
     },
     "bd5b60be61d84884b5c98b85cef2cd96": {
      "model_module": "@jupyter-widgets/base",
      "model_module_version": "1.1.0",
      "model_name": "LayoutModel",
      "state": {}
     },
     "bdb2a8b281c344b0bdf14260ac0c3b0c": {
      "model_module": "@jupyter-widgets/controls",
      "model_module_version": "1.4.0",
      "model_name": "ButtonStyleModel",
      "state": {}
     },
     "bdbbb831d8d34fc1a07b93cd1037554d": {
      "model_module": "@jupyter-widgets/controls",
      "model_module_version": "1.4.0",
      "model_name": "DescriptionStyleModel",
      "state": {
       "description_width": ""
      }
     },
     "bdbd592b8285478ab8f094aec39e1213": {
      "model_module": "@jupyter-widgets/base",
      "model_module_version": "1.1.0",
      "model_name": "LayoutModel",
      "state": {}
     },
     "bdde9d2939114bc9a01cc270841795e1": {
      "model_module": "@jupyter-widgets/controls",
      "model_module_version": "1.4.0",
      "model_name": "TextModel",
      "state": {
       "layout": "IPY_MODEL_a044674f14b24e58a80822863c2a2dca",
       "style": "IPY_MODEL_0d0e031d68374ccc851fdefbc4d2742d",
       "value": ".2g"
      }
     },
     "bde32b49addd46419451887a68b9d6a0": {
      "model_module": "@jupyter-widgets/base",
      "model_module_version": "1.1.0",
      "model_name": "LayoutModel",
      "state": {}
     },
     "bded4329de5e414ba89207bec640ab35": {
      "model_module": "@jupyter-widgets/controls",
      "model_module_version": "1.4.0",
      "model_name": "DescriptionStyleModel",
      "state": {
       "description_width": ""
      }
     },
     "be3843de398347d591aee0b234d1616b": {
      "model_module": "@jupyter-widgets/controls",
      "model_module_version": "1.4.0",
      "model_name": "DescriptionStyleModel",
      "state": {
       "description_width": ""
      }
     },
     "be4d448003564144838cdeadea67862d": {
      "model_module": "@jupyter-widgets/base",
      "model_module_version": "1.1.0",
      "model_name": "LayoutModel",
      "state": {}
     },
     "be6041f2bfb74a51b11d9141562a7ff2": {
      "model_module": "@jupyter-widgets/controls",
      "model_module_version": "1.4.0",
      "model_name": "VBoxModel",
      "state": {
       "children": [
        "IPY_MODEL_657e645871b74dd8b62bf7b0ea701074",
        "IPY_MODEL_6305064e3b864e3186278e4bae54b1a9",
        "IPY_MODEL_88d49ff2fca04bfd9bfa750573316e76",
        "IPY_MODEL_6d8e71fe21cf411cad46e295de48fabe",
        "IPY_MODEL_391e759081f049e485e264332ea1cc91"
       ],
       "layout": "IPY_MODEL_28aecb8a6b734dcf8a40f681210a1401"
      }
     },
     "be9a810ca6434e2583295389a04d0369": {
      "model_module": "@jupyter-widgets/controls",
      "model_module_version": "1.4.0",
      "model_name": "CheckboxModel",
      "state": {
       "disabled": false,
       "layout": "IPY_MODEL_3076c44abfa94d52abdc31f8f6198978",
       "style": "IPY_MODEL_189e5bc73b6c4bf5b28e6d5ef542c61d",
       "value": false
      }
     },
     "bead324c0c2743fea35efcafc9c98f0c": {
      "model_module": "@jupyter-widgets/base",
      "model_module_version": "1.1.0",
      "model_name": "LayoutModel",
      "state": {}
     },
     "bed03b5b5c37467bb6eb4e3453125915": {
      "model_module": "@jupyter-widgets/controls",
      "model_module_version": "1.4.0",
      "model_name": "DescriptionStyleModel",
      "state": {
       "description_width": ""
      }
     },
     "bf26cd39dcca479aaed747d717942164": {
      "model_module": "@jupyter-widgets/controls",
      "model_module_version": "1.4.0",
      "model_name": "DescriptionStyleModel",
      "state": {
       "description_width": ""
      }
     },
     "bf6977acc4784ec19ecd5694b4be848d": {
      "model_module": "@jupyter-widgets/controls",
      "model_module_version": "1.4.0",
      "model_name": "DropdownModel",
      "state": {
       "_options_labels": [
        "Acceleration",
        "Cylinders",
        "Displacement",
        "Horsepower",
        "Miles_per_Gallon",
        "Name",
        "Origin",
        "Weight_in_lbs",
        "Year"
       ],
       "index": 0,
       "layout": "IPY_MODEL_d1651812d6424c7c86ed37a2c224108c",
       "style": "IPY_MODEL_b4155887b2fa45be9a2b8771a34fd243"
      }
     },
     "bf71f72d620749bdbcd6f4abe183155a": {
      "model_module": "@jupyter-widgets/controls",
      "model_module_version": "1.4.0",
      "model_name": "ButtonModel",
      "state": {
       "description": "remove",
       "layout": "IPY_MODEL_6d3971d41c0f4b73b7b459efb34cb7c5",
       "style": "IPY_MODEL_4183b125996442d0b1af41e5d33a9d64"
      }
     },
     "bfa064e0ee9f44caa02ed9704d134de9": {
      "model_module": "@jupyter-widgets/controls",
      "model_module_version": "1.4.0",
      "model_name": "FloatSliderModel",
      "state": {
       "layout": "IPY_MODEL_d24fa82ac1814f58927f479d9afb410d",
       "max": 1,
       "step": 0.05,
       "style": "IPY_MODEL_1d924f49d2304c0ab937006f4a2c479a"
      }
     },
     "bfac576ea32847888ac89e9fd60464e8": {
      "model_module": "@jupyter-widgets/controls",
      "model_module_version": "1.4.0",
      "model_name": "DropdownModel",
      "state": {
       "_options_labels": [
        "scatter",
        "line"
       ],
       "index": 0,
       "layout": "IPY_MODEL_98600980b5c34bd183a15dd6a1f4740a",
       "style": "IPY_MODEL_4477e1a563dd466f852c3a4ff307d13f"
      }
     },
     "bface3cc4f774090a9c4f3b2e5ffabf5": {
      "model_module": "@jupyter-widgets/controls",
      "model_module_version": "1.4.0",
      "model_name": "DescriptionStyleModel",
      "state": {
       "description_width": ""
      }
     },
     "bfb49f8cb8094b8eb5f6c4b9325b9463": {
      "model_module": "@jupyter-widgets/controls",
      "model_module_version": "1.4.0",
      "model_name": "FloatTextModel",
      "state": {
       "layout": "IPY_MODEL_076f06ce51074836b594379c27a6c50f",
       "step": null,
       "style": "IPY_MODEL_46f193686a8a465c886326c0a49e6ea5",
       "value": 1
      }
     },
     "bfca06b9f96e4e188dd03bc75bf6c0ac": {
      "model_module": "@jupyter-widgets/controls",
      "model_module_version": "1.4.0",
      "model_name": "TextModel",
      "state": {
       "layout": "IPY_MODEL_17d97e1432cf4d9b98ef707c7416e178",
       "style": "IPY_MODEL_7703fecddb2a41df9d2344ab621c3c27",
       "value": "white"
      }
     },
     "bffcf2b8e1ee4c888e479825dddf4f62": {
      "model_module": "@jupyter-widgets/controls",
      "model_module_version": "1.4.0",
      "model_name": "DescriptionStyleModel",
      "state": {
       "description_width": ""
      }
     },
     "c01147189af64740a8131a31b081c2f3": {
      "model_module": "@jupyter-widgets/base",
      "model_module_version": "1.1.0",
      "model_name": "LayoutModel",
      "state": {}
     },
     "c04ac4c9f8294e91af03906d8bdc9abc": {
      "model_module": "@jupyter-widgets/base",
      "model_module_version": "1.1.0",
      "model_name": "LayoutModel",
      "state": {}
     },
     "c0715591ba2d41c4b0fc80eb4c9bdeb7": {
      "model_module": "@jupyter-widgets/base",
      "model_module_version": "1.1.0",
      "model_name": "LayoutModel",
      "state": {}
     },
     "c07964bb66d844eabd6c40b6119ba89a": {
      "model_module": "@jupyter-widgets/controls",
      "model_module_version": "1.4.0",
      "model_name": "FloatTextModel",
      "state": {
       "layout": "IPY_MODEL_765bbeaf012240fba73c2f2f382cb509",
       "step": null,
       "style": "IPY_MODEL_a2e76fca32584e6f81f581185a05c54e",
       "value": 1
      }
     },
     "c093810068114329bc8aa5b7c6a56a4f": {
      "model_module": "@jupyter-widgets/base",
      "model_module_version": "1.1.0",
      "model_name": "LayoutModel",
      "state": {}
     },
     "c094a4d5e5fd4b24b73686d1dbe72eb3": {
      "model_module": "@jupyter-widgets/controls",
      "model_module_version": "1.4.0",
      "model_name": "DropdownModel",
      "state": {
       "_options_labels": [
        "petalLength",
        "petalWidth",
        "sepalLength",
        "sepalWidth",
        "species"
       ],
       "index": 0,
       "layout": "IPY_MODEL_39aa93fdf817401085ec186cbbf93994",
       "style": "IPY_MODEL_a8d648d2f420450a8ae453f47710873e"
      }
     },
     "c0a98cb893a243d3b06f54a547a7bdd5": {
      "model_module": "@jupyter-widgets/controls",
      "model_module_version": "1.4.0",
      "model_name": "DescriptionStyleModel",
      "state": {
       "description_width": ""
      }
     },
     "c0c5ef5af2ff45c5bb6a4a09565bd3ab": {
      "model_module": "@jupyter-widgets/base",
      "model_module_version": "1.1.0",
      "model_name": "LayoutModel",
      "state": {}
     },
     "c119f1e2cba34d9aa529e0f4a84f3462": {
      "model_module": "@jupyter-widgets/base",
      "model_module_version": "1.1.0",
      "model_name": "LayoutModel",
      "state": {}
     },
     "c12eeeff7d974068a3106276af39a85d": {
      "model_module": "@jupyter-widgets/controls",
      "model_module_version": "1.4.0",
      "model_name": "DropdownModel",
      "state": {
       "_options_labels": [
        "scatter",
        "line"
       ],
       "index": 0,
       "layout": "IPY_MODEL_abc4010b84094d3c8f619d5a371714d9",
       "style": "IPY_MODEL_d28b4ec6e8754f68857e143700be8228"
      }
     },
     "c132be86bfef47659c34f12900a70ec6": {
      "model_module": "@jupyter-widgets/controls",
      "model_module_version": "1.4.0",
      "model_name": "DropdownModel",
      "state": {
       "_options_labels": [
        "petalLength",
        "petalWidth",
        "sepalLength",
        "sepalWidth",
        "species"
       ],
       "index": 0,
       "layout": "IPY_MODEL_d7bbbe9a5128424b88c0069b8de5b0b7",
       "style": "IPY_MODEL_2d57ca0483cc4e608b29999273a20899"
      }
     },
     "c14d0632d0fc4993b1d07d1b5997a6e6": {
      "model_module": "@jupyter-widgets/controls",
      "model_module_version": "1.4.0",
      "model_name": "DescriptionStyleModel",
      "state": {
       "description_width": ""
      }
     },
     "c167ff579f184ab6b49a722a58494517": {
      "model_module": "@jupyter-widgets/controls",
      "model_module_version": "1.4.0",
      "model_name": "TextModel",
      "state": {
       "layout": "IPY_MODEL_8d63cb4ce4374862b28070b45127b0cc",
       "style": "IPY_MODEL_8704a35dd8544029901b199c058f6a83",
       "value": "white"
      }
     },
     "c192818989004595bb303c1b902c559f": {
      "model_module": "@jupyter-widgets/base",
      "model_module_version": "1.1.0",
      "model_name": "LayoutModel",
      "state": {}
     },
     "c1ae42bf2ce04dd6986b5dc4f70941fa": {
      "model_module": "@jupyter-widgets/controls",
      "model_module_version": "1.4.0",
      "model_name": "DescriptionStyleModel",
      "state": {
       "description_width": ""
      }
     },
     "c1bbd20b9e74463a92e49f7b882ff6de": {
      "model_module": "@jupyter-widgets/controls",
      "model_module_version": "1.4.0",
      "model_name": "TextModel",
      "state": {
       "layout": "IPY_MODEL_c9342acbf9f24276bf59529511709afe",
       "style": "IPY_MODEL_20b179b5f40f4c2f9656c2f4241be4d9",
       "value": ".2g"
      }
     },
     "c213951f230747ae96ac81cdc2221068": {
      "model_module": "@jupyter-widgets/base",
      "model_module_version": "1.1.0",
      "model_name": "LayoutModel",
      "state": {}
     },
     "c264c3bdbb9c497fb5ed83ca5c873a01": {
      "model_module": "@jupyter-widgets/controls",
      "model_module_version": "1.4.0",
      "model_name": "DropdownModel",
      "state": {
       "_options_labels": [
        "Acceleration",
        "Cylinders",
        "Displacement",
        "Horsepower",
        "Miles_per_Gallon",
        "Name",
        "Origin",
        "Weight_in_lbs",
        "Year"
       ],
       "index": 0,
       "layout": "IPY_MODEL_a512f7e120984beaab8529fa20a6b465",
       "style": "IPY_MODEL_84c816ce17054835ac64d3a4ce634bb5"
      }
     },
     "c29ea76c33fe49adb2ea42dd7249165a": {
      "model_module": "@jupyter-widgets/base",
      "model_module_version": "1.1.0",
      "model_name": "LayoutModel",
      "state": {}
     },
     "c2a2afb31931428c92bcf6dc1a2cd2f8": {
      "model_module": "@jupyter-widgets/controls",
      "model_module_version": "1.4.0",
      "model_name": "DropdownModel",
      "state": {
       "_options_labels": [
        "band",
        "bars"
       ],
       "index": 0,
       "layout": "IPY_MODEL_d170188c32e048528e341f6a1b40deaa",
       "style": "IPY_MODEL_829e229dfb73402abdc804ad5f79330f"
      }
     },
     "c2b5dabafcee46998bd8066158f8be2b": {
      "model_module": "@jupyter-widgets/controls",
      "model_module_version": "1.4.0",
      "model_name": "TextModel",
      "state": {
       "layout": "IPY_MODEL_70c45c16c2bc4aab8ce2d6868e692baa",
       "style": "IPY_MODEL_35f17d6f47c347018a897204f5a2693e"
      }
     },
     "c317a3e0dd104eb18ec44cee1d83da87": {
      "model_module": "@jupyter-widgets/controls",
      "model_module_version": "1.4.0",
      "model_name": "CheckboxModel",
      "state": {
       "disabled": false,
       "layout": "IPY_MODEL_5801ae30d2f342c0acc79dc042588df2",
       "style": "IPY_MODEL_59ccd308313e46dbb2f0db0e631445df",
       "value": false
      }
     },
     "c372784f1f8a4edb938aaa64623b43a4": {
      "model_module": "@jupyter-widgets/base",
      "model_module_version": "1.1.0",
      "model_name": "LayoutModel",
      "state": {}
     },
     "c396352d5cb249929b654cb5f5937518": {
      "model_module": "@jupyter-widgets/base",
      "model_module_version": "1.1.0",
      "model_name": "LayoutModel",
      "state": {}
     },
     "c3ce2658f1644e43a4f1e76f6b96896f": {
      "model_module": "@jupyter-widgets/controls",
      "model_module_version": "1.4.0",
      "model_name": "DescriptionStyleModel",
      "state": {
       "description_width": ""
      }
     },
     "c4432e4ff1be495da278daff24f41c9b": {
      "model_module": "@jupyter-widgets/controls",
      "model_module_version": "1.4.0",
      "model_name": "DescriptionStyleModel",
      "state": {
       "description_width": ""
      }
     },
     "c44ce4489b1f4aa2ad48245e79c1e6b2": {
      "model_module": "@jupyter-widgets/controls",
      "model_module_version": "1.4.0",
      "model_name": "DropdownModel",
      "state": {
       "_options_labels": [
        "auto",
        "hist",
        "kde"
       ],
       "index": 0,
       "layout": "IPY_MODEL_ae3064e2cf3b4d8eb2b771cde67c225c",
       "style": "IPY_MODEL_fcf8aff308364d79bf6147913f66d487"
      }
     },
     "c4d2b9cdce0c431f98f3288e9301c5f1": {
      "model_module": "@jupyter-widgets/controls",
      "model_module_version": "1.4.0",
      "model_name": "FloatTextModel",
      "state": {
       "layout": "IPY_MODEL_ae8e4e9ced1f4c99be387a03582ffd93",
       "step": null,
       "style": "IPY_MODEL_4e3abfc45ce34a88abfb39e645bb22fe",
       "value": 1
      }
     },
     "c526bdb80d3a4fee98ac845f301f6878": {
      "model_module": "@jupyter-widgets/controls",
      "model_module_version": "1.4.0",
      "model_name": "CheckboxModel",
      "state": {
       "disabled": false,
       "layout": "IPY_MODEL_af17520223a148539ac544724e29161b",
       "style": "IPY_MODEL_30be09b85b2c4d729e1858c69d5f4be3",
       "value": false
      }
     },
     "c52847c3ff334c43aa9c9519b4c70271": {
      "model_module": "@jupyter-widgets/controls",
      "model_module_version": "1.4.0",
      "model_name": "CheckboxModel",
      "state": {
       "description": "auto-update",
       "disabled": false,
       "layout": "IPY_MODEL_1c09e02c95fa41dd8bf633b577bf6dc7",
       "style": "IPY_MODEL_e7a26e801723415584136abc84167c35",
       "value": false
      }
     },
     "c5301ec9c2364623a943cd729997aef8": {
      "model_module": "@jupyter-widgets/controls",
      "model_module_version": "1.4.0",
      "model_name": "DropdownModel",
      "state": {
       "_options_labels": [
        "band",
        "bars"
       ],
       "index": 0,
       "layout": "IPY_MODEL_a0a19117084c49f3a3b7d3ea6841fdeb",
       "style": "IPY_MODEL_e2900da246bb4616b31754594a017f57"
      }
     },
     "c5632f7369b64197b0ce448598310a3f": {
      "model_module": "@jupyter-widgets/base",
      "model_module_version": "1.1.0",
      "model_name": "LayoutModel",
      "state": {}
     },
     "c58a51cd637043ecb45e3245893bea85": {
      "model_module": "@jupyter-widgets/controls",
      "model_module_version": "1.4.0",
      "model_name": "HBoxModel",
      "state": {
       "children": [
        "IPY_MODEL_501c628c3ebe4f84a004a8078b8b847e",
        "IPY_MODEL_6785ad4b431f44d3943dcc1a8a7e41c1"
       ],
       "layout": "IPY_MODEL_df658092869049adbd32e3b00d38864f"
      }
     },
     "c5a4b06514dc4b91b8bc45bbc0e2e204": {
      "model_module": "@jupyter-widgets/controls",
      "model_module_version": "1.4.0",
      "model_name": "CheckboxModel",
      "state": {
       "disabled": false,
       "layout": "IPY_MODEL_58e08168bc6b43d18ebc72fb0368355e",
       "style": "IPY_MODEL_4b6c2763e8aa4242b094d6cf82d8e4d7",
       "value": false
      }
     },
     "c5c7abb34f4f49f0810473d8a1076061": {
      "model_module": "@jupyter-widgets/controls",
      "model_module_version": "1.4.0",
      "model_name": "DescriptionStyleModel",
      "state": {
       "description_width": ""
      }
     },
     "c5eddc89ebf0483e8ffe938df51348bb": {
      "model_module": "@jupyter-widgets/base",
      "model_module_version": "1.1.0",
      "model_name": "LayoutModel",
      "state": {}
     },
     "c62e0336b4d645bc8b9ad80ebf264165": {
      "model_module": "@jupyter-widgets/controls",
      "model_module_version": "1.4.0",
      "model_name": "DropdownModel",
      "state": {
       "_options_labels": [
        "scott",
        "silverman"
       ],
       "index": 0,
       "layout": "IPY_MODEL_dc8212aae4e446f5a0f5e0877abcf56d",
       "style": "IPY_MODEL_f2a03de52b664c718937f7d9cfc9b691"
      }
     },
     "c63c663fde7a462cafe9f554192d21f7": {
      "model_module": "@jupyter-widgets/controls",
      "model_module_version": "1.4.0",
      "model_name": "DropdownModel",
      "state": {
       "_options_labels": [
        "v",
        "h"
       ],
       "index": 0,
       "layout": "IPY_MODEL_0c0e9f9d6b5744a398558b6fc0b3dadc",
       "style": "IPY_MODEL_84c2d526b0cb45c2a81dfd1a24371a79"
      }
     },
     "c732bf29af584e899ebe8a1d4769c8b2": {
      "model_module": "@jupyter-widgets/controls",
      "model_module_version": "1.4.0",
      "model_name": "DescriptionStyleModel",
      "state": {
       "description_width": ""
      }
     },
     "c7595875452947c9a98f2832fa993eec": {
      "model_module": "@jupyter-widgets/base",
      "model_module_version": "1.1.0",
      "model_name": "LayoutModel",
      "state": {}
     },
     "c75c50065d294ec3ad6216e4f885f0f8": {
      "model_module": "@jupyter-widgets/base",
      "model_module_version": "1.1.0",
      "model_name": "LayoutModel",
      "state": {}
     },
     "c7644bef34b24b7aa2d1e913600da47e": {
      "model_module": "@jupyter-widgets/base",
      "model_module_version": "1.1.0",
      "model_name": "LayoutModel",
      "state": {}
     },
     "c768b0985da34830a5d9259bd24998f0": {
      "model_module": "@jupyter-widgets/controls",
      "model_module_version": "1.4.0",
      "model_name": "TextModel",
      "state": {
       "layout": "IPY_MODEL_a49cd3e32f034b15923650926349ec7c",
       "style": "IPY_MODEL_895124bc27524c47bb7c2bf9284db8ba"
      }
     },
     "c783963d5472482eb354cd744583fe20": {
      "model_module": "@jupyter-widgets/controls",
      "model_module_version": "1.4.0",
      "model_name": "DropdownModel",
      "state": {
       "_options_labels": [
        "Acceleration",
        "Cylinders",
        "Displacement",
        "Horsepower",
        "Miles_per_Gallon",
        "Name",
        "Origin",
        "Weight_in_lbs",
        "Year"
       ],
       "index": 0,
       "layout": "IPY_MODEL_288f6d99b0254eeba8633c92c91901d7",
       "style": "IPY_MODEL_664869c22bf9451a80d0e62aca7e8470"
      }
     },
     "c7947a9c65064ffba2ce80268415a93b": {
      "model_module": "@jupyter-widgets/base",
      "model_module_version": "1.1.0",
      "model_name": "LayoutModel",
      "state": {}
     },
     "c7a6ac0a3e29465f89e897840bd11f65": {
      "model_module": "@jupyter-widgets/controls",
      "model_module_version": "1.4.0",
      "model_name": "DescriptionStyleModel",
      "state": {
       "description_width": ""
      }
     },
     "c7b10a94b1fd4e5ca11dcac839162a15": {
      "model_module": "@jupyter-widgets/controls",
      "model_module_version": "1.4.0",
      "model_name": "TextModel",
      "state": {
       "layout": "IPY_MODEL_dec4b2b0e3d84f74ad0c11b7beaa076f",
       "style": "IPY_MODEL_6469d87ec0024c1181e4e1fb12b1d644",
       "value": "white"
      }
     },
     "c7c0769661c64d4287b79b9545579b61": {
      "model_module": "@jupyter-widgets/base",
      "model_module_version": "1.1.0",
      "model_name": "LayoutModel",
      "state": {}
     },
     "c7c0c313828d487e9747571bec439d05": {
      "model_module": "@jupyter-widgets/base",
      "model_module_version": "1.1.0",
      "model_name": "LayoutModel",
      "state": {}
     },
     "c7c9abbca3a340448a2984279bff3c2f": {
      "model_module": "@jupyter-widgets/base",
      "model_module_version": "1.1.0",
      "model_name": "LayoutModel",
      "state": {}
     },
     "c7de5f477c8e4fd28504c118cd152b50": {
      "model_module": "@jupyter-widgets/controls",
      "model_module_version": "1.4.0",
      "model_name": "ButtonStyleModel",
      "state": {}
     },
     "c7ff00a81b58418fb293c7d61658a38b": {
      "model_module": "@jupyter-widgets/base",
      "model_module_version": "1.1.0",
      "model_name": "LayoutModel",
      "state": {}
     },
     "c80dc68098b544c29d80d7d9d1ff16b7": {
      "model_module": "@jupyter-widgets/base",
      "model_module_version": "1.1.0",
      "model_name": "LayoutModel",
      "state": {}
     },
     "c8647aaeac4444b0a77f65a5fe5f0acd": {
      "model_module": "@jupyter-widgets/controls",
      "model_module_version": "1.4.0",
      "model_name": "DescriptionStyleModel",
      "state": {
       "description_width": ""
      }
     },
     "c86500e89aba4edbb9a6682ad221353d": {
      "model_module": "@jupyter-widgets/controls",
      "model_module_version": "1.4.0",
      "model_name": "LabelModel",
      "state": {
       "layout": "IPY_MODEL_96b6895db86f4b468a0655e9e2111dd7",
       "style": "IPY_MODEL_8bff5fa999054effab60f70df23e948b",
       "value": "---"
      }
     },
     "c86cc5ced08e467fb28dd7cefba749cc": {
      "model_module": "@jupyter-widgets/controls",
      "model_module_version": "1.4.0",
      "model_name": "DescriptionStyleModel",
      "state": {
       "description_width": ""
      }
     },
     "c87c119ee21d4be2821de78af9fdbd25": {
      "model_module": "@jupyter-widgets/base",
      "model_module_version": "1.1.0",
      "model_name": "LayoutModel",
      "state": {}
     },
     "c88813428c544be7a9ba6fdcfbdace8e": {
      "model_module": "@jupyter-widgets/controls",
      "model_module_version": "1.4.0",
      "model_name": "CheckboxModel",
      "state": {
       "disabled": false,
       "layout": "IPY_MODEL_b5238973ff584c51a88affc2af2678ee",
       "style": "IPY_MODEL_e4ed14fed42c461e949fcf1394438edd",
       "value": false
      }
     },
     "c8b999be1a6244e19697b6a15b7bd74b": {
      "model_module": "@jupyter-widgets/base",
      "model_module_version": "1.1.0",
      "model_name": "LayoutModel",
      "state": {}
     },
     "c8bd4a293923420386c99bc47485360b": {
      "model_module": "@jupyter-widgets/controls",
      "model_module_version": "1.4.0",
      "model_name": "DescriptionStyleModel",
      "state": {
       "description_width": ""
      }
     },
     "c8fc06c4397040cc84d9d713091c5bfd": {
      "model_module": "@jupyter-widgets/controls",
      "model_module_version": "1.4.0",
      "model_name": "IntSliderModel",
      "state": {
       "layout": "IPY_MODEL_80c118c67f804f2195a02ac3d02a2f86",
       "style": "IPY_MODEL_5225021477074c21ad3f8b178843953a",
       "value": 95
      }
     },
     "c9342acbf9f24276bf59529511709afe": {
      "model_module": "@jupyter-widgets/base",
      "model_module_version": "1.1.0",
      "model_name": "LayoutModel",
      "state": {}
     },
     "c93c3f4765f44f2ba564df139df578c2": {
      "model_module": "@jupyter-widgets/controls",
      "model_module_version": "1.4.0",
      "model_name": "CheckboxModel",
      "state": {
       "disabled": false,
       "layout": "IPY_MODEL_a171527b928643b88c0daebaaea27d1e",
       "style": "IPY_MODEL_d3bde6ef9ed94ad192bcf1f1b7711229",
       "value": false
      }
     },
     "c94db8fa202041b1852ac59c2a5afba0": {
      "model_module": "@jupyter-widgets/controls",
      "model_module_version": "1.4.0",
      "model_name": "CheckboxModel",
      "state": {
       "disabled": false,
       "layout": "IPY_MODEL_a6a08fbc5c3444f2ad3d1d0f8165b8a3",
       "style": "IPY_MODEL_2101cbde99f940e0b252f4394d7a2c5e",
       "value": false
      }
     },
     "c956adaf06ea402a88f77e9aa6883f23": {
      "model_module": "@jupyter-widgets/controls",
      "model_module_version": "1.4.0",
      "model_name": "DescriptionStyleModel",
      "state": {
       "description_width": ""
      }
     },
     "c99bf67bba7c4bf0919e9c669381d8ff": {
      "model_module": "@jupyter-widgets/controls",
      "model_module_version": "1.4.0",
      "model_name": "CheckboxModel",
      "state": {
       "disabled": false,
       "layout": "IPY_MODEL_3da3156f6d364042ac0e853f2c5e5a4f",
       "style": "IPY_MODEL_80438db5648b4786aa31a8e83706002c",
       "value": false
      }
     },
     "c9a6eaf5dda0455692f326f43bd144c7": {
      "model_module": "@jupyter-widgets/base",
      "model_module_version": "1.1.0",
      "model_name": "LayoutModel",
      "state": {}
     },
     "c9ba5af45dae4e59ba04ee518c745870": {
      "model_module": "@jupyter-widgets/base",
      "model_module_version": "1.1.0",
      "model_name": "LayoutModel",
      "state": {}
     },
     "c9c33db1d70f41dd9c1ce61045415610": {
      "model_module": "@jupyter-widgets/output",
      "model_module_version": "1.0.0",
      "model_name": "OutputModel",
      "state": {
       "layout": "IPY_MODEL_3379ef9203ae433ca369f86e799c5024"
      }
     },
     "c9e46921f4df4ae89e8b02765fb20eda": {
      "model_module": "@jupyter-widgets/controls",
      "model_module_version": "1.4.0",
      "model_name": "DescriptionStyleModel",
      "state": {
       "description_width": ""
      }
     },
     "ca2ba414ac05461184673b5d3ae27a9b": {
      "model_module": "@jupyter-widgets/controls",
      "model_module_version": "1.4.0",
      "model_name": "FloatTextModel",
      "state": {
       "layout": "IPY_MODEL_27aab5f8c95343f395c8506adec3cc3f",
       "step": null,
       "style": "IPY_MODEL_7180ff79d1384cec99e0803588e0c991",
       "value": 5
      }
     },
     "ca3d8e323ead4586965e64e154b6c878": {
      "model_module": "@jupyter-widgets/base",
      "model_module_version": "1.1.0",
      "model_name": "LayoutModel",
      "state": {}
     },
     "ca68b6b7f0e9499fb3d5632741e418d2": {
      "model_module": "@jupyter-widgets/controls",
      "model_module_version": "1.4.0",
      "model_name": "DescriptionStyleModel",
      "state": {
       "description_width": ""
      }
     },
     "cab22b2e21b944d4b134da909d8ecf9d": {
      "model_module": "@jupyter-widgets/controls",
      "model_module_version": "1.4.0",
      "model_name": "DescriptionStyleModel",
      "state": {
       "description_width": ""
      }
     },
     "cad9dff48a2f4853a38c9b86903c5dbf": {
      "model_module": "@jupyter-widgets/base",
      "model_module_version": "1.1.0",
      "model_name": "LayoutModel",
      "state": {}
     },
     "cadc9b184f4e482b8f8ad37bcd32fab1": {
      "model_module": "@jupyter-widgets/controls",
      "model_module_version": "1.4.0",
      "model_name": "DescriptionStyleModel",
      "state": {
       "description_width": ""
      }
     },
     "cae141a19e184ccf8ec8adaef9b83ae5": {
      "model_module": "@jupyter-widgets/controls",
      "model_module_version": "1.4.0",
      "model_name": "SliderStyleModel",
      "state": {
       "description_width": ""
      }
     },
     "caeb639c165848e796e2c3ab797bbfa0": {
      "model_module": "@jupyter-widgets/controls",
      "model_module_version": "1.4.0",
      "model_name": "IntTextModel",
      "state": {
       "layout": "IPY_MODEL_a11271532e0641c3ad3548d954616cd5",
       "step": 1,
       "style": "IPY_MODEL_e5b037da961548948fea4f654a6077c5",
       "value": 5
      }
     },
     "cb38467759d547ab8f74e485defcf96d": {
      "model_module": "@jupyter-widgets/controls",
      "model_module_version": "1.4.0",
      "model_name": "CheckboxModel",
      "state": {
       "disabled": false,
       "layout": "IPY_MODEL_07b6bab38588499cac8a8dcef2998be9",
       "style": "IPY_MODEL_03861700c8564e0880a42fcc321b68ed",
       "value": false
      }
     },
     "cb3b6afa213a43099b46c6800b6590b9": {
      "model_module": "@jupyter-widgets/controls",
      "model_module_version": "1.4.0",
      "model_name": "DescriptionStyleModel",
      "state": {
       "description_width": ""
      }
     },
     "cb4008caa98a4eae8963f5811dff2543": {
      "model_module": "@jupyter-widgets/base",
      "model_module_version": "1.1.0",
      "model_name": "LayoutModel",
      "state": {}
     },
     "cb5504b2a35e49cbbb61ce7c9db07f44": {
      "model_module": "@jupyter-widgets/controls",
      "model_module_version": "1.4.0",
      "model_name": "DescriptionStyleModel",
      "state": {
       "description_width": ""
      }
     },
     "cb552917763b48ef82b20f0d11d81f28": {
      "model_module": "@jupyter-widgets/controls",
      "model_module_version": "1.4.0",
      "model_name": "HBoxModel",
      "state": {
       "children": [
        "IPY_MODEL_3df8b73bad014a698f89b28dd7eebeba"
       ],
       "layout": "IPY_MODEL_0388d5f06575456098198b3d0b51c9e2"
      }
     },
     "cb57d43e9aee4711a0a8e86ceb1b82f1": {
      "model_module": "@jupyter-widgets/controls",
      "model_module_version": "1.4.0",
      "model_name": "FloatTextModel",
      "state": {
       "layout": "IPY_MODEL_7b8fe6eea6434fa1a59d1f3127a4236a",
       "step": null,
       "style": "IPY_MODEL_4c0ec99068a2438fa8bf0c7a670d40d5",
       "value": 0.2
      }
     },
     "cb5de3d6fa904d989d649f4987bb6dc4": {
      "model_module": "@jupyter-widgets/controls",
      "model_module_version": "1.4.0",
      "model_name": "DescriptionStyleModel",
      "state": {
       "description_width": ""
      }
     },
     "cbe1ac7eb6f741f3b49c84b3dce98902": {
      "model_module": "@jupyter-widgets/controls",
      "model_module_version": "1.4.0",
      "model_name": "DescriptionStyleModel",
      "state": {
       "description_width": ""
      }
     },
     "cbf01653a2454f4289cdded548b673d6": {
      "model_module": "@jupyter-widgets/controls",
      "model_module_version": "1.4.0",
      "model_name": "DescriptionStyleModel",
      "state": {
       "description_width": ""
      }
     },
     "cd17b231310b485c844259a137c0404d": {
      "model_module": "@jupyter-widgets/controls",
      "model_module_version": "1.4.0",
      "model_name": "DescriptionStyleModel",
      "state": {
       "description_width": ""
      }
     },
     "cd2c0cb8d11545729195cab721a1a638": {
      "model_module": "@jupyter-widgets/base",
      "model_module_version": "1.1.0",
      "model_name": "LayoutModel",
      "state": {}
     },
     "cd48ea5ffec44bc68574baf52fee465a": {
      "model_module": "@jupyter-widgets/base",
      "model_module_version": "1.1.0",
      "model_name": "LayoutModel",
      "state": {}
     },
     "cd4e70161ffc42618c05af54a37831f2": {
      "model_module": "@jupyter-widgets/controls",
      "model_module_version": "1.4.0",
      "model_name": "DescriptionStyleModel",
      "state": {
       "description_width": ""
      }
     },
     "cd9032de55f548b69b6defdcdc8320bd": {
      "model_module": "@jupyter-widgets/controls",
      "model_module_version": "1.4.0",
      "model_name": "TextModel",
      "state": {
       "layout": "IPY_MODEL_18d89bbb171b48c79bc946326e23be40",
       "style": "IPY_MODEL_038b6f96f6284733a0fa5ad6b96c194c"
      }
     },
     "ce36f980523d4fbf9303c6ae84d0f862": {
      "model_module": "@jupyter-widgets/base",
      "model_module_version": "1.1.0",
      "model_name": "LayoutModel",
      "state": {}
     },
     "ce3870e80c5347c0a07f37c35e0f0798": {
      "model_module": "@jupyter-widgets/controls",
      "model_module_version": "1.4.0",
      "model_name": "IntTextModel",
      "state": {
       "layout": "IPY_MODEL_9f5bc0b4157c41608fced01e15d47826",
       "step": 1,
       "style": "IPY_MODEL_062d3ae7e3af429dbea253366fac72c2",
       "value": 10
      }
     },
     "ce406c9dce7a4f06b906e30fb87f2780": {
      "model_module": "@jupyter-widgets/controls",
      "model_module_version": "1.4.0",
      "model_name": "DescriptionStyleModel",
      "state": {
       "description_width": ""
      }
     },
     "ce573897c7954b6ca2d2ddfcf259ffdc": {
      "model_module": "@jupyter-widgets/controls",
      "model_module_version": "1.4.0",
      "model_name": "CheckboxModel",
      "state": {
       "disabled": false,
       "layout": "IPY_MODEL_3fb5eb45b82e4cedbf9d74cf9d3b87c7",
       "style": "IPY_MODEL_916383f9f3ef425d9dbd6fca7af645ab",
       "value": false
      }
     },
     "ce667f7a55c642199e5999b7c30315a2": {
      "model_module": "@jupyter-widgets/base",
      "model_module_version": "1.1.0",
      "model_name": "LayoutModel",
      "state": {}
     },
     "ce8594b4e56c41bfabdfc4162e5b512c": {
      "model_module": "@jupyter-widgets/controls",
      "model_module_version": "1.4.0",
      "model_name": "DropdownModel",
      "state": {
       "_options_labels": [
        "area",
        "count",
        "width"
       ],
       "index": 0,
       "layout": "IPY_MODEL_899373e3aceb4780b9702e51002fc41c",
       "style": "IPY_MODEL_9215f367ba784b6a81001ee2d2ce0c01"
      }
     },
     "cea93fa4a2c5460aa0d6ca4209eb1c40": {
      "model_module": "@jupyter-widgets/controls",
      "model_module_version": "1.4.0",
      "model_name": "FloatTextModel",
      "state": {
       "layout": "IPY_MODEL_0700303e8fc74f2188ee26dd655af734",
       "step": null,
       "style": "IPY_MODEL_c8bd4a293923420386c99bc47485360b",
       "value": 1
      }
     },
     "cebb950a0b684086a2fb262ee2873b40": {
      "model_module": "@jupyter-widgets/controls",
      "model_module_version": "1.4.0",
      "model_name": "SliderStyleModel",
      "state": {
       "description_width": ""
      }
     },
     "ced7786805e34a529679e920fed6c26b": {
      "model_module": "@jupyter-widgets/base",
      "model_module_version": "1.1.0",
      "model_name": "LayoutModel",
      "state": {}
     },
     "ced8c6c1d47c4637b4e6f53b7b94c98c": {
      "model_module": "@jupyter-widgets/controls",
      "model_module_version": "1.4.0",
      "model_name": "DropdownModel",
      "state": {
       "_options_labels": [
        "gau",
        "cos",
        "biw",
        "epa",
        "tri",
        "triw"
       ],
       "index": 0,
       "layout": "IPY_MODEL_99cf1c237cda4f589fd5bd48e02cbc8b",
       "style": "IPY_MODEL_15ad737848f2459d9e8134015e70966a"
      }
     },
     "cf337438fa6a44119e2e23d93ac661e7": {
      "model_module": "@jupyter-widgets/controls",
      "model_module_version": "1.4.0",
      "model_name": "DescriptionStyleModel",
      "state": {
       "description_width": ""
      }
     },
     "cf55a20228394240ba9f522f4f076946": {
      "model_module": "@jupyter-widgets/controls",
      "model_module_version": "1.4.0",
      "model_name": "DescriptionStyleModel",
      "state": {
       "description_width": ""
      }
     },
     "cf7ed393a91d4fe0aad4f494eaa6847f": {
      "model_module": "@jupyter-widgets/base",
      "model_module_version": "1.1.0",
      "model_name": "LayoutModel",
      "state": {}
     },
     "cf8da6177f7c4e93bd6f0b2e3a3ef33e": {
      "model_module": "@jupyter-widgets/base",
      "model_module_version": "1.1.0",
      "model_name": "LayoutModel",
      "state": {}
     },
     "cf9ea77e9186494ab00ae99a278092ff": {
      "model_module": "@jupyter-widgets/controls",
      "model_module_version": "1.4.0",
      "model_name": "DescriptionStyleModel",
      "state": {
       "description_width": ""
      }
     },
     "cf9f42de1ad1473292c8c2b25194c596": {
      "model_module": "@jupyter-widgets/controls",
      "model_module_version": "1.4.0",
      "model_name": "DescriptionStyleModel",
      "state": {
       "description_width": ""
      }
     },
     "cfa1da4f00b9450d8b99e55e0565511b": {
      "model_module": "@jupyter-widgets/base",
      "model_module_version": "1.1.0",
      "model_name": "LayoutModel",
      "state": {}
     },
     "cfdfdd2bd2ca41389e0ed85ea8fe2bb1": {
      "model_module": "@jupyter-widgets/base",
      "model_module_version": "1.1.0",
      "model_name": "LayoutModel",
      "state": {}
     },
     "cfed058f1a9746da96e9a73f64708e85": {
      "model_module": "@jupyter-widgets/controls",
      "model_module_version": "1.4.0",
      "model_name": "DescriptionStyleModel",
      "state": {
       "description_width": ""
      }
     },
     "d0068b40692043e9a07fc7622594ecf1": {
      "model_module": "@jupyter-widgets/controls",
      "model_module_version": "1.4.0",
      "model_name": "DropdownModel",
      "state": {
       "_options_labels": [
        "Acceleration",
        "Cylinders",
        "Displacement",
        "Horsepower",
        "Miles_per_Gallon",
        "Name",
        "Origin",
        "Weight_in_lbs",
        "Year"
       ],
       "index": 0,
       "layout": "IPY_MODEL_8170e9233fa24ae28ff3cac9d5a165a6",
       "style": "IPY_MODEL_be3843de398347d591aee0b234d1616b"
      }
     },
     "d0101c9c5e0e47b782f43e8c9b3d613a": {
      "model_module": "@jupyter-widgets/base",
      "model_module_version": "1.1.0",
      "model_name": "LayoutModel",
      "state": {}
     },
     "d011bdcf900c4b01b42e9fee5c3f48e6": {
      "model_module": "@jupyter-widgets/controls",
      "model_module_version": "1.4.0",
      "model_name": "DescriptionStyleModel",
      "state": {
       "description_width": ""
      }
     },
     "d03746de5c2240b7aa987dc081860873": {
      "model_module": "@jupyter-widgets/controls",
      "model_module_version": "1.4.0",
      "model_name": "TextModel",
      "state": {
       "layout": "IPY_MODEL_c396352d5cb249929b654cb5f5937518",
       "style": "IPY_MODEL_225927c5810a4c47b8138ef2b7c8f541",
       "value": "gray"
      }
     },
     "d04cf50a8538472e91f683f0123210af": {
      "model_module": "@jupyter-widgets/controls",
      "model_module_version": "1.4.0",
      "model_name": "FloatTextModel",
      "state": {
       "layout": "IPY_MODEL_9c5d7edba6b24f638d3ef0812037bd3e",
       "step": null,
       "style": "IPY_MODEL_e0873c4a559c4e9e98be6471285fe1a2",
       "value": 1
      }
     },
     "d09bcf024b9f4f769b25d2e91a9b7a58": {
      "model_module": "@jupyter-widgets/controls",
      "model_module_version": "1.4.0",
      "model_name": "DescriptionStyleModel",
      "state": {
       "description_width": ""
      }
     },
     "d0dfecac5a9c4b7e91ddcc0b4beae3a7": {
      "model_module": "@jupyter-widgets/controls",
      "model_module_version": "1.4.0",
      "model_name": "DropdownModel",
      "state": {
       "_options_labels": [
        "area",
        "count",
        "width"
       ],
       "index": 0,
       "layout": "IPY_MODEL_869d60d170d847dd991214edbf23d27a",
       "style": "IPY_MODEL_5971d9d8980c44d8a9f610617d3a510f"
      }
     },
     "d0f5f4e07d764b5e95f2207fc427ed0f": {
      "model_module": "@jupyter-widgets/controls",
      "model_module_version": "1.4.0",
      "model_name": "DescriptionStyleModel",
      "state": {
       "description_width": ""
      }
     },
     "d103acc869734ee1852e99160e07187e": {
      "model_module": "@jupyter-widgets/base",
      "model_module_version": "1.1.0",
      "model_name": "LayoutModel",
      "state": {}
     },
     "d119899a715845769c25a1ffc9317b0a": {
      "model_module": "@jupyter-widgets/base",
      "model_module_version": "1.1.0",
      "model_name": "LayoutModel",
      "state": {}
     },
     "d120b7b7db97497eb42a1c99b1e4da53": {
      "model_module": "@jupyter-widgets/controls",
      "model_module_version": "1.4.0",
      "model_name": "DescriptionStyleModel",
      "state": {
       "description_width": ""
      }
     },
     "d1651812d6424c7c86ed37a2c224108c": {
      "model_module": "@jupyter-widgets/base",
      "model_module_version": "1.1.0",
      "model_name": "LayoutModel",
      "state": {}
     },
     "d170188c32e048528e341f6a1b40deaa": {
      "model_module": "@jupyter-widgets/base",
      "model_module_version": "1.1.0",
      "model_name": "LayoutModel",
      "state": {}
     },
     "d1e90044949645e1abd2f423579a1583": {
      "model_module": "@jupyter-widgets/output",
      "model_module_version": "1.0.0",
      "model_name": "OutputModel",
      "state": {
       "layout": "IPY_MODEL_c5eddc89ebf0483e8ffe938df51348bb",
       "outputs": [
        {
         "name": "stderr",
         "output_type": "stream",
         "text": "/home/me/code/perso/notebooks/data-science-exercises/venv/lib/python3.7/site-packages/scipy/stats/stats.py:1713: FutureWarning: Using a non-tuple sequence for multidimensional indexing is deprecated; use `arr[tuple(seq)]` instead of `arr[seq]`. In the future this will be interpreted as an array index, `arr[np.array(seq)]`, which will result either in an error or a different result.\n  return np.add.reduce(sorted[indexer] * weights, axis=axis) / sumval\n"
        },
        {
         "data": {
          "image/png": "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\n",
          "text/plain": "<Figure size 432x288 with 1 Axes>"
         },
         "metadata": {},
         "output_type": "display_data"
        }
       ]
      }
     },
     "d1fd2884ad6642858d9366c1ee00f5f5": {
      "model_module": "@jupyter-widgets/controls",
      "model_module_version": "1.4.0",
      "model_name": "DropdownModel",
      "state": {
       "_options_labels": [
        "box",
        "quartile",
        "point",
        "stick"
       ],
       "index": 0,
       "layout": "IPY_MODEL_0cf2081861f24876b469d0ae1889bb9f",
       "style": "IPY_MODEL_c5c7abb34f4f49f0810473d8a1076061"
      }
     },
     "d229560688b940f09a618e353e46409d": {
      "model_module": "@jupyter-widgets/base",
      "model_module_version": "1.1.0",
      "model_name": "LayoutModel",
      "state": {}
     },
     "d239c7b1e5b340a08fe0b09ec41e0b3a": {
      "model_module": "@jupyter-widgets/base",
      "model_module_version": "1.1.0",
      "model_name": "LayoutModel",
      "state": {}
     },
     "d24fa82ac1814f58927f479d9afb410d": {
      "model_module": "@jupyter-widgets/base",
      "model_module_version": "1.1.0",
      "model_name": "LayoutModel",
      "state": {}
     },
     "d28b4ec6e8754f68857e143700be8228": {
      "model_module": "@jupyter-widgets/controls",
      "model_module_version": "1.4.0",
      "model_name": "DescriptionStyleModel",
      "state": {
       "description_width": ""
      }
     },
     "d2a653bf12024607b449d21c5ad764aa": {
      "model_module": "@jupyter-widgets/base",
      "model_module_version": "1.1.0",
      "model_name": "LayoutModel",
      "state": {}
     },
     "d2b88d8dc5ab4b2f831c558e15a9a113": {
      "model_module": "@jupyter-widgets/controls",
      "model_module_version": "1.4.0",
      "model_name": "DropdownModel",
      "state": {
       "_options_labels": [
        "Acceleration",
        "Cylinders",
        "Displacement",
        "Horsepower",
        "Miles_per_Gallon",
        "Name",
        "Origin",
        "Weight_in_lbs",
        "Year"
       ],
       "index": 0,
       "layout": "IPY_MODEL_4376394cd4ed4a51a319d757e57afc71",
       "style": "IPY_MODEL_989b6953dc8f4ac891e4323eadf05920"
      }
     },
     "d2c2f24a16574c2fa09f94512d698b47": {
      "model_module": "@jupyter-widgets/controls",
      "model_module_version": "1.4.0",
      "model_name": "FloatTextModel",
      "state": {
       "layout": "IPY_MODEL_c7ff00a81b58418fb293c7d61658a38b",
       "step": null,
       "style": "IPY_MODEL_49628ca6650f40eba1f9d20fb0eb7578",
       "value": 1
      }
     },
     "d30653e5e6144c29aa31e2dcbf4378f0": {
      "model_module": "@jupyter-widgets/base",
      "model_module_version": "1.1.0",
      "model_name": "LayoutModel",
      "state": {}
     },
     "d318cfb21ec541f28be737dc98e5f06b": {
      "model_module": "@jupyter-widgets/controls",
      "model_module_version": "1.4.0",
      "model_name": "DescriptionStyleModel",
      "state": {
       "description_width": ""
      }
     },
     "d36384971b084c74b433ec14eb5e9fd2": {
      "model_module": "@jupyter-widgets/controls",
      "model_module_version": "1.4.0",
      "model_name": "TextModel",
      "state": {
       "layout": "IPY_MODEL_dbc18255827141b3848202c17cbd911c",
       "style": "IPY_MODEL_eba421f1d2b94ece9a605101ba6ec14a",
       "value": "gray"
      }
     },
     "d39a4e7eab0f490b9f88f2604efa2ee3": {
      "model_module": "@jupyter-widgets/controls",
      "model_module_version": "1.4.0",
      "model_name": "VBoxModel",
      "state": {
       "children": [
        "IPY_MODEL_64f12f9d584249c6aa0d7aa7b907d719",
        "IPY_MODEL_5c4a0e25fdd144ba96d8e2d5d2ee3353",
        "IPY_MODEL_8321a6d5e99948259cd5287c8bbd1357",
        "IPY_MODEL_f0d6e391ba9249faae59e8549a3024f4"
       ],
       "layout": "IPY_MODEL_00fe6b23400143eea61841862eb9567c"
      }
     },
     "d3bde6ef9ed94ad192bcf1f1b7711229": {
      "model_module": "@jupyter-widgets/controls",
      "model_module_version": "1.4.0",
      "model_name": "DescriptionStyleModel",
      "state": {
       "description_width": ""
      }
     },
     "d44ae46603c34b75b92bc33cdc2c9964": {
      "model_module": "@jupyter-widgets/base",
      "model_module_version": "1.1.0",
      "model_name": "LayoutModel",
      "state": {}
     },
     "d5362c21ed0d4934814eccb5b31445d7": {
      "model_module": "@jupyter-widgets/controls",
      "model_module_version": "1.4.0",
      "model_name": "HBoxModel",
      "state": {
       "children": [
        "IPY_MODEL_4eb69cb346f94ab29b524c2633a28ad1"
       ],
       "layout": "IPY_MODEL_c5632f7369b64197b0ce448598310a3f"
      }
     },
     "d53dbf766b484e63b33b3f5f62f195b4": {
      "model_module": "@jupyter-widgets/controls",
      "model_module_version": "1.4.0",
      "model_name": "DescriptionStyleModel",
      "state": {
       "description_width": ""
      }
     },
     "d5853dced8bb4c9489ce72f74c22f8bd": {
      "model_module": "@jupyter-widgets/controls",
      "model_module_version": "1.4.0",
      "model_name": "DescriptionStyleModel",
      "state": {
       "description_width": ""
      }
     },
     "d5859aa874444a53bfc7d3d8a341854f": {
      "model_module": "@jupyter-widgets/controls",
      "model_module_version": "1.4.0",
      "model_name": "FloatTextModel",
      "state": {
       "layout": "IPY_MODEL_e5d248d0cae74d0d8fe5450eae0cca92",
       "step": 0.1,
       "style": "IPY_MODEL_5689fee9529a474cbb9e0b01a2e3fa95",
       "value": 1
      }
     },
     "d5fae20f38f845e18aa9b09f43ca69c7": {
      "model_module": "@jupyter-widgets/controls",
      "model_module_version": "1.4.0",
      "model_name": "CheckboxModel",
      "state": {
       "disabled": false,
       "layout": "IPY_MODEL_e89e879521cc4d4ab98c5ec478d6031c",
       "style": "IPY_MODEL_71af92f0b0dc4753823b61c5ec7d7eef",
       "value": false
      }
     },
     "d614a178621344fca31555d69f1ae320": {
      "model_module": "@jupyter-widgets/controls",
      "model_module_version": "1.4.0",
      "model_name": "DescriptionStyleModel",
      "state": {
       "description_width": ""
      }
     },
     "d62f1bbc0db24faba20c118bcaca3673": {
      "model_module": "@jupyter-widgets/controls",
      "model_module_version": "1.4.0",
      "model_name": "DropdownModel",
      "state": {
       "_options_labels": [
        "Acceleration",
        "Cylinders",
        "Displacement",
        "Horsepower",
        "Miles_per_Gallon",
        "Name",
        "Origin",
        "Weight_in_lbs",
        "Year"
       ],
       "index": 0,
       "layout": "IPY_MODEL_bc911021bc9843c589cc8db7cded8c51",
       "style": "IPY_MODEL_433e92b1faa148a28ad31c85f0632359"
      }
     },
     "d67f7ccbb8644284918472f4a47eeb37": {
      "model_module": "@jupyter-widgets/controls",
      "model_module_version": "1.4.0",
      "model_name": "DescriptionStyleModel",
      "state": {
       "description_width": ""
      }
     },
     "d689bc942b0243109baf483cd418d58f": {
      "model_module": "@jupyter-widgets/base",
      "model_module_version": "1.1.0",
      "model_name": "LayoutModel",
      "state": {}
     },
     "d68d84fda81a42fa89fde120bba16f50": {
      "model_module": "@jupyter-widgets/controls",
      "model_module_version": "1.4.0",
      "model_name": "DescriptionStyleModel",
      "state": {
       "description_width": ""
      }
     },
     "d6f6f0a3d80d41958ae9bb60b022e886": {
      "model_module": "@jupyter-widgets/controls",
      "model_module_version": "1.4.0",
      "model_name": "FloatTextModel",
      "state": {
       "layout": "IPY_MODEL_bd5b60be61d84884b5c98b85cef2cd96",
       "step": null,
       "style": "IPY_MODEL_22694f0edded4572bb8e3f0809bd6b9b",
       "value": 1
      }
     },
     "d6fff22c772f4a79b94cb45d0fb7c231": {
      "model_module": "@jupyter-widgets/base",
      "model_module_version": "1.1.0",
      "model_name": "LayoutModel",
      "state": {}
     },
     "d7194bba9cfd4c00af6a383993105e2e": {
      "model_module": "@jupyter-widgets/base",
      "model_module_version": "1.1.0",
      "model_name": "LayoutModel",
      "state": {}
     },
     "d73f471259704586a55a78376865ca02": {
      "model_module": "@jupyter-widgets/controls",
      "model_module_version": "1.4.0",
      "model_name": "CheckboxModel",
      "state": {
       "disabled": false,
       "layout": "IPY_MODEL_04600b464c594ccdb31db10e4074252c",
       "style": "IPY_MODEL_df90b928619144cd9cd6aeb432d9121b",
       "value": false
      }
     },
     "d73f99cef3c0406aa5ae0f9925436ce0": {
      "model_module": "@jupyter-widgets/controls",
      "model_module_version": "1.4.0",
      "model_name": "TextModel",
      "state": {
       "layout": "IPY_MODEL_0aa7ddf00c214dfdaad20e3851fb7431",
       "style": "IPY_MODEL_bface3cc4f774090a9c4f3b2e5ffabf5"
      }
     },
     "d7512678873a4948a88dbcfab1806f2e": {
      "model_module": "@jupyter-widgets/controls",
      "model_module_version": "1.4.0",
      "model_name": "DropdownModel",
      "state": {
       "_options_labels": [
        "Acceleration",
        "Cylinders",
        "Displacement",
        "Horsepower",
        "Miles_per_Gallon",
        "Name",
        "Origin",
        "Weight_in_lbs",
        "Year"
       ],
       "index": 0,
       "layout": "IPY_MODEL_13a98ea70bfc4640aaa50194de6a5809",
       "style": "IPY_MODEL_dc07dddbe20149789d00b254a4a64eb9"
      }
     },
     "d758273dc3ed4b8b9997493f878f83d0": {
      "model_module": "@jupyter-widgets/base",
      "model_module_version": "1.1.0",
      "model_name": "LayoutModel",
      "state": {}
     },
     "d7bbbe9a5128424b88c0069b8de5b0b7": {
      "model_module": "@jupyter-widgets/base",
      "model_module_version": "1.1.0",
      "model_name": "LayoutModel",
      "state": {}
     },
     "d7ed7025bc6144e19d97ea940829c4f6": {
      "model_module": "@jupyter-widgets/controls",
      "model_module_version": "1.4.0",
      "model_name": "CheckboxModel",
      "state": {
       "disabled": false,
       "layout": "IPY_MODEL_a0834d94838c44779abc9f3f0748a525",
       "style": "IPY_MODEL_3259522dde864b39aead2f4a9c16ba88",
       "value": false
      }
     },
     "d7f7e4a133994d1da85da9c415bad244": {
      "model_module": "@jupyter-widgets/base",
      "model_module_version": "1.1.0",
      "model_name": "LayoutModel",
      "state": {}
     },
     "d81c4d3a32dc4c39a09dc232a83d2e90": {
      "model_module": "@jupyter-widgets/base",
      "model_module_version": "1.1.0",
      "model_name": "LayoutModel",
      "state": {}
     },
     "d8506404f85342e9bb7510925a2cb12e": {
      "model_module": "@jupyter-widgets/base",
      "model_module_version": "1.1.0",
      "model_name": "LayoutModel",
      "state": {}
     },
     "d8664c75ba8a49c6b6406f8e2a43f6b2": {
      "model_module": "@jupyter-widgets/controls",
      "model_module_version": "1.4.0",
      "model_name": "DescriptionStyleModel",
      "state": {
       "description_width": ""
      }
     },
     "d8ac3cde9cbb410aad0c86ea4576fad3": {
      "model_module": "@jupyter-widgets/base",
      "model_module_version": "1.1.0",
      "model_name": "LayoutModel",
      "state": {}
     },
     "d8c9acb50afa4daa8dd0c459d9af0484": {
      "model_module": "@jupyter-widgets/base",
      "model_module_version": "1.1.0",
      "model_name": "LayoutModel",
      "state": {}
     },
     "d8e58c69ba004371b585ae203f363f44": {
      "model_module": "@jupyter-widgets/controls",
      "model_module_version": "1.4.0",
      "model_name": "DescriptionStyleModel",
      "state": {
       "description_width": ""
      }
     },
     "d9107eb15ab34e6f8ba6bb37e667ba59": {
      "model_module": "@jupyter-widgets/base",
      "model_module_version": "1.1.0",
      "model_name": "LayoutModel",
      "state": {}
     },
     "d961224c83b44111b5e385233a01e432": {
      "model_module": "@jupyter-widgets/controls",
      "model_module_version": "1.4.0",
      "model_name": "FloatSliderModel",
      "state": {
       "layout": "IPY_MODEL_c9a6eaf5dda0455692f326f43bd144c7",
       "max": 1,
       "step": 0.05,
       "style": "IPY_MODEL_6a92986d21ea463e80ba018fc8a47006",
       "value": 1
      }
     },
     "d9bdeade84d940208c5a0796edb76273": {
      "model_module": "@jupyter-widgets/controls",
      "model_module_version": "1.4.0",
      "model_name": "FloatTextModel",
      "state": {
       "layout": "IPY_MODEL_7184cb35fad541ea99e1a8a017300690",
       "step": 0.01,
       "style": "IPY_MODEL_5ad2da0558a548efa71e9d5029241734"
      }
     },
     "d9ef98e8b36d4bf79d44a77a1e55345a": {
      "model_module": "@jupyter-widgets/controls",
      "model_module_version": "1.4.0",
      "model_name": "ButtonModel",
      "state": {
       "description": "remove",
       "layout": "IPY_MODEL_fa360407b261477587bffa46bd670798",
       "style": "IPY_MODEL_3f22d18e9e4b4d5c99ad0932cc064c29"
      }
     },
     "da28f5f981c441e68a3a30215afac42b": {
      "model_module": "@jupyter-widgets/base",
      "model_module_version": "1.1.0",
      "model_name": "LayoutModel",
      "state": {}
     },
     "da84f739d0124d7081a62d2bd10eef4e": {
      "model_module": "@jupyter-widgets/controls",
      "model_module_version": "1.4.0",
      "model_name": "HBoxModel",
      "state": {
       "children": [
        "IPY_MODEL_501c628c3ebe4f84a004a8078b8b847e",
        "IPY_MODEL_5f9257790d75446a88f32bb7465ba949"
       ],
       "layout": "IPY_MODEL_25bbeb70b62c407baf72deb8fba16f83"
      }
     },
     "dad0a2f2ef5149bebc80741b85f8dbbe": {
      "model_module": "@jupyter-widgets/controls",
      "model_module_version": "1.4.0",
      "model_name": "CheckboxModel",
      "state": {
       "disabled": false,
       "layout": "IPY_MODEL_69d5fa3d012e4d1e83cb9e37191abe13",
       "style": "IPY_MODEL_10039d72d6ea4a3ab2bfd38a2a409197",
       "value": false
      }
     },
     "dafe401e93d04e36acd475b882fd1560": {
      "model_module": "@jupyter-widgets/base",
      "model_module_version": "1.1.0",
      "model_name": "LayoutModel",
      "state": {}
     },
     "db0ad3077b2347998435b96378f80330": {
      "model_module": "@jupyter-widgets/base",
      "model_module_version": "1.1.0",
      "model_name": "LayoutModel",
      "state": {}
     },
     "db64e9ea49a04856a0cedaed485b6a99": {
      "model_module": "@jupyter-widgets/controls",
      "model_module_version": "1.4.0",
      "model_name": "DescriptionStyleModel",
      "state": {
       "description_width": ""
      }
     },
     "db6d3e348c534a87924bb2306fa0c5fd": {
      "model_module": "@jupyter-widgets/controls",
      "model_module_version": "1.4.0",
      "model_name": "FloatTextModel",
      "state": {
       "layout": "IPY_MODEL_9fc044c6b1b04873b731c3fe85be0901",
       "step": null,
       "style": "IPY_MODEL_391140b42a1b4b41ab224c95b4921637",
       "value": 1
      }
     },
     "db8f5b58f49d47be9a8e30c89f10fa4f": {
      "model_module": "@jupyter-widgets/base",
      "model_module_version": "1.1.0",
      "model_name": "LayoutModel",
      "state": {}
     },
     "dbc18255827141b3848202c17cbd911c": {
      "model_module": "@jupyter-widgets/base",
      "model_module_version": "1.1.0",
      "model_name": "LayoutModel",
      "state": {}
     },
     "dbe47bea346c4bdca7b1739a793337d9": {
      "model_module": "@jupyter-widgets/controls",
      "model_module_version": "1.4.0",
      "model_name": "DescriptionStyleModel",
      "state": {
       "description_width": ""
      }
     },
     "dc07dddbe20149789d00b254a4a64eb9": {
      "model_module": "@jupyter-widgets/controls",
      "model_module_version": "1.4.0",
      "model_name": "DescriptionStyleModel",
      "state": {
       "description_width": ""
      }
     },
     "dc30a4b61fe9460c95b872c946a7693d": {
      "model_module": "@jupyter-widgets/controls",
      "model_module_version": "1.4.0",
      "model_name": "CheckboxModel",
      "state": {
       "disabled": false,
       "layout": "IPY_MODEL_be4d448003564144838cdeadea67862d",
       "style": "IPY_MODEL_1b1055835a73452ea68c96647f6a2dc4",
       "value": false
      }
     },
     "dc4d2b6c4e8349cd9280cb903e1e8560": {
      "model_module": "@jupyter-widgets/controls",
      "model_module_version": "1.4.0",
      "model_name": "DescriptionStyleModel",
      "state": {
       "description_width": ""
      }
     },
     "dc60a956c17340dd9ee126faf94c8ef8": {
      "model_module": "@jupyter-widgets/controls",
      "model_module_version": "1.4.0",
      "model_name": "IntTextModel",
      "state": {
       "layout": "IPY_MODEL_7e95551324ba453a8ca83afc8f322469",
       "step": 1,
       "style": "IPY_MODEL_5921af9b0e834722b3f0609912a50666",
       "value": 1
      }
     },
     "dc8212aae4e446f5a0f5e0877abcf56d": {
      "model_module": "@jupyter-widgets/base",
      "model_module_version": "1.1.0",
      "model_name": "LayoutModel",
      "state": {}
     },
     "dc85aa0c40854214be37435f5bc89fc8": {
      "model_module": "@jupyter-widgets/base",
      "model_module_version": "1.1.0",
      "model_name": "LayoutModel",
      "state": {}
     },
     "dc8f36a40c3f49a5b6cf44ee8551492e": {
      "model_module": "@jupyter-widgets/controls",
      "model_module_version": "1.4.0",
      "model_name": "DescriptionStyleModel",
      "state": {
       "description_width": ""
      }
     },
     "dcd52c505ae2442ab6d55c2cf18883d5": {
      "model_module": "@jupyter-widgets/controls",
      "model_module_version": "1.4.0",
      "model_name": "HBoxModel",
      "state": {
       "children": [
        "IPY_MODEL_89379c6186654089bdbf466ec111cf1d",
        "IPY_MODEL_9ae6df2f7fc14cfb9a2b761fb62462d1"
       ],
       "layout": "IPY_MODEL_715bbc19ea884e1f9d6aad67e1722dd7"
      }
     },
     "dcde54f2ec1040b6bcc7c3676f21c6ec": {
      "model_module": "@jupyter-widgets/base",
      "model_module_version": "1.1.0",
      "model_name": "LayoutModel",
      "state": {}
     },
     "dd0a6114e6aa4193bdcb0198b95ce3d7": {
      "model_module": "@jupyter-widgets/controls",
      "model_module_version": "1.4.0",
      "model_name": "DescriptionStyleModel",
      "state": {
       "description_width": ""
      }
     },
     "dd21fb90cddf4c329ceb1cfefec652b5": {
      "model_module": "@jupyter-widgets/controls",
      "model_module_version": "1.4.0",
      "model_name": "SliderStyleModel",
      "state": {
       "description_width": ""
      }
     },
     "dd4885cb9d4e4d079afae31c528cce83": {
      "model_module": "@jupyter-widgets/controls",
      "model_module_version": "1.4.0",
      "model_name": "FloatSliderModel",
      "state": {
       "layout": "IPY_MODEL_af33af287ac541579506838d8e1eecf4",
       "max": 1,
       "step": 0.05,
       "style": "IPY_MODEL_8e505cb89d3a4665af60d52ec793f595"
      }
     },
     "dd6e3d1d395248e8a3a85f1407f720e5": {
      "model_module": "@jupyter-widgets/controls",
      "model_module_version": "1.4.0",
      "model_name": "DescriptionStyleModel",
      "state": {
       "description_width": ""
      }
     },
     "dda1a0dcd9bc4f6fb5ce0a03fefc9e79": {
      "model_module": "@jupyter-widgets/controls",
      "model_module_version": "1.4.0",
      "model_name": "ButtonModel",
      "state": {
       "description": "remove",
       "layout": "IPY_MODEL_97c7d94686ee4f9fa59acfd21c361610",
       "style": "IPY_MODEL_8cb8e94121b043c6983808b391efe314"
      }
     },
     "de131c001690474db9346a96880e6733": {
      "model_module": "@jupyter-widgets/base",
      "model_module_version": "1.1.0",
      "model_name": "LayoutModel",
      "state": {}
     },
     "de254156faf64b76acd16b7e0891f1c5": {
      "model_module": "@jupyter-widgets/base",
      "model_module_version": "1.1.0",
      "model_name": "LayoutModel",
      "state": {}
     },
     "de3fea6b3d784f2c8d0152f48eb3adf4": {
      "model_module": "@jupyter-widgets/controls",
      "model_module_version": "1.4.0",
      "model_name": "CheckboxModel",
      "state": {
       "disabled": false,
       "layout": "IPY_MODEL_075eb74a827c4996b713676c7703a7fe",
       "style": "IPY_MODEL_3ff1111dbace4572a5cb68653d616893",
       "value": false
      }
     },
     "de842ae52d2d45449e1fecb4c03cee54": {
      "model_module": "@jupyter-widgets/controls",
      "model_module_version": "1.4.0",
      "model_name": "DescriptionStyleModel",
      "state": {
       "description_width": ""
      }
     },
     "debdfdfc77d342d9bb8a547b066417a6": {
      "model_module": "@jupyter-widgets/base",
      "model_module_version": "1.1.0",
      "model_name": "LayoutModel",
      "state": {}
     },
     "dec4b2b0e3d84f74ad0c11b7beaa076f": {
      "model_module": "@jupyter-widgets/base",
      "model_module_version": "1.1.0",
      "model_name": "LayoutModel",
      "state": {}
     },
     "df0852df5f5944aeb1ac90bb07d9f494": {
      "model_module": "@jupyter-widgets/controls",
      "model_module_version": "1.4.0",
      "model_name": "DescriptionStyleModel",
      "state": {
       "description_width": ""
      }
     },
     "df5497b00dcd4518ae09be9965afb384": {
      "model_module": "@jupyter-widgets/controls",
      "model_module_version": "1.4.0",
      "model_name": "DescriptionStyleModel",
      "state": {
       "description_width": ""
      }
     },
     "df658092869049adbd32e3b00d38864f": {
      "model_module": "@jupyter-widgets/base",
      "model_module_version": "1.1.0",
      "model_name": "LayoutModel",
      "state": {}
     },
     "df7cd1d7d9794ad1a004a3ae00477c9b": {
      "model_module": "@jupyter-widgets/base",
      "model_module_version": "1.1.0",
      "model_name": "LayoutModel",
      "state": {}
     },
     "df8e010eaf784c37b2c753adb57c918a": {
      "model_module": "@jupyter-widgets/controls",
      "model_module_version": "1.4.0",
      "model_name": "FloatSliderModel",
      "state": {
       "layout": "IPY_MODEL_e87807d037da4170bca18001a4ed37b8",
       "max": 1,
       "step": 0.001,
       "style": "IPY_MODEL_718b0cd3a90c4b9f9083ef8a0058af42",
       "value": 0.007
      }
     },
     "df90b928619144cd9cd6aeb432d9121b": {
      "model_module": "@jupyter-widgets/controls",
      "model_module_version": "1.4.0",
      "model_name": "DescriptionStyleModel",
      "state": {
       "description_width": ""
      }
     },
     "dfa9080756864ac089d7eaf833fffe20": {
      "model_module": "@jupyter-widgets/base",
      "model_module_version": "1.1.0",
      "model_name": "LayoutModel",
      "state": {}
     },
     "e0216e9d6b9f4a5b8ab2d5d3c6ef893c": {
      "model_module": "@jupyter-widgets/controls",
      "model_module_version": "1.4.0",
      "model_name": "FloatSliderModel",
      "state": {
       "layout": "IPY_MODEL_36d13d52f5a848748a05c06dbac1a278",
       "step": 0.1,
       "style": "IPY_MODEL_f55bb34e0a8c4154bf307527ac5a64aa",
       "value": 95
      }
     },
     "e04af032c23045f6b0989c4b7b25ddc6": {
      "model_module": "@jupyter-widgets/base",
      "model_module_version": "1.1.0",
      "model_name": "LayoutModel",
      "state": {}
     },
     "e0873c4a559c4e9e98be6471285fe1a2": {
      "model_module": "@jupyter-widgets/controls",
      "model_module_version": "1.4.0",
      "model_name": "DescriptionStyleModel",
      "state": {
       "description_width": ""
      }
     },
     "e0c7769703f44ddcb7e17c59fcdf92ff": {
      "model_module": "@jupyter-widgets/controls",
      "model_module_version": "1.4.0",
      "model_name": "TextModel",
      "state": {
       "layout": "IPY_MODEL_c75c50065d294ec3ad6216e4f885f0f8",
       "style": "IPY_MODEL_7d6883dca6fa4f439a2dd2a6bb6f9520",
       "value": "white"
      }
     },
     "e0ef82a66a4144b898707120b0b6dcb1": {
      "model_module": "@jupyter-widgets/controls",
      "model_module_version": "1.4.0",
      "model_name": "FloatSliderModel",
      "state": {
       "layout": "IPY_MODEL_08d2f241af264d6da6cddde3b7ca262f",
       "max": 1,
       "step": 0.001,
       "style": "IPY_MODEL_314b0c9c5e3b4cbeaa8c6bc56cf82e69",
       "value": 0.007
      }
     },
     "e173d97cc6574397a9421b74782725c2": {
      "model_module": "@jupyter-widgets/base",
      "model_module_version": "1.1.0",
      "model_name": "LayoutModel",
      "state": {}
     },
     "e1bbb771c40744d899d96b0c12aa42b2": {
      "model_module": "@jupyter-widgets/controls",
      "model_module_version": "1.4.0",
      "model_name": "DescriptionStyleModel",
      "state": {
       "description_width": ""
      }
     },
     "e1caccf47e3a4d8e8327e8063014df27": {
      "model_module": "@jupyter-widgets/base",
      "model_module_version": "1.1.0",
      "model_name": "LayoutModel",
      "state": {}
     },
     "e1d4610986844f7394d224b13cd3f112": {
      "model_module": "@jupyter-widgets/base",
      "model_module_version": "1.1.0",
      "model_name": "LayoutModel",
      "state": {}
     },
     "e1d88dbb25754174b4854b69107ac6f9": {
      "model_module": "@jupyter-widgets/controls",
      "model_module_version": "1.4.0",
      "model_name": "DescriptionStyleModel",
      "state": {
       "description_width": ""
      }
     },
     "e217c48dd3144ee88a6f28b226fa98c3": {
      "model_module": "@jupyter-widgets/controls",
      "model_module_version": "1.4.0",
      "model_name": "IntTextModel",
      "state": {
       "layout": "IPY_MODEL_0b7830ba0251402790684374ba4b55b7",
       "step": 1,
       "style": "IPY_MODEL_bb9dec7eceba41ed97018f6dfbcc4ba1",
       "value": 10
      }
     },
     "e23976c63a6c4afe8055715165695816": {
      "model_module": "@jupyter-widgets/controls",
      "model_module_version": "1.4.0",
      "model_name": "FloatTextModel",
      "state": {
       "layout": "IPY_MODEL_46ddd5fff24f4e4aac4d078202e7d513",
       "step": 0.1,
       "style": "IPY_MODEL_b4960a3d0c784f43a60dcba01a07ef3c",
       "value": 1
      }
     },
     "e2680c25ffbb4a2a958e0bda0132b24e": {
      "model_module": "@jupyter-widgets/controls",
      "model_module_version": "1.4.0",
      "model_name": "IntTextModel",
      "state": {
       "layout": "IPY_MODEL_bb633e8a5d92419b9550d63864bc0e04",
       "step": 1,
       "style": "IPY_MODEL_cf9f42de1ad1473292c8c2b25194c596",
       "value": 5
      }
     },
     "e2900da246bb4616b31754594a017f57": {
      "model_module": "@jupyter-widgets/controls",
      "model_module_version": "1.4.0",
      "model_name": "DescriptionStyleModel",
      "state": {
       "description_width": ""
      }
     },
     "e2cd0661998541c3b2a45a7d9115b365": {
      "model_module": "@jupyter-widgets/controls",
      "model_module_version": "1.4.0",
      "model_name": "FloatTextModel",
      "state": {
       "layout": "IPY_MODEL_e666b2d21c0b4735b9151878251ebb25",
       "step": null,
       "style": "IPY_MODEL_81cb36b96a9c4c30bc9029272c92feb0",
       "value": 1
      }
     },
     "e304ce39a3f645a3b5308f1d4153ae2a": {
      "model_module": "@jupyter-widgets/base",
      "model_module_version": "1.1.0",
      "model_name": "LayoutModel",
      "state": {}
     },
     "e30699aec600456eabf3d435f5fd5887": {
      "model_module": "@jupyter-widgets/base",
      "model_module_version": "1.1.0",
      "model_name": "LayoutModel",
      "state": {}
     },
     "e3114e0e61c14f269d7a64e3666b6fce": {
      "model_module": "@jupyter-widgets/controls",
      "model_module_version": "1.4.0",
      "model_name": "DescriptionStyleModel",
      "state": {
       "description_width": ""
      }
     },
     "e3234be832be407cb0b5ffa1a11fb8cb": {
      "model_module": "@jupyter-widgets/controls",
      "model_module_version": "1.4.0",
      "model_name": "DropdownModel",
      "state": {
       "_options_labels": [
        "Acceleration",
        "Cylinders",
        "Displacement",
        "Horsepower",
        "Miles_per_Gallon",
        "Name",
        "Origin",
        "Weight_in_lbs",
        "Year"
       ],
       "index": 0,
       "layout": "IPY_MODEL_ed62fffff82a4a2da097a5d1fcc5a9b7",
       "style": "IPY_MODEL_dc4d2b6c4e8349cd9280cb903e1e8560"
      }
     },
     "e3839a9eee8d4f4e967683eee7a99549": {
      "model_module": "@jupyter-widgets/controls",
      "model_module_version": "1.4.0",
      "model_name": "DropdownModel",
      "state": {
       "_options_labels": [
        "petalLength",
        "petalWidth",
        "sepalLength",
        "sepalWidth",
        "species"
       ],
       "index": 0,
       "layout": "IPY_MODEL_15a0b8f6084c4562b1adfe39528fdcc9",
       "style": "IPY_MODEL_a37813ebff9f481e962e08127c4f74b5"
      }
     },
     "e398c379a579440986b92a9f72ce0269": {
      "model_module": "@jupyter-widgets/controls",
      "model_module_version": "1.4.0",
      "model_name": "IntTextModel",
      "state": {
       "layout": "IPY_MODEL_6b47d9ea80194f95a3191c66ea8f5b1a",
       "step": 1,
       "style": "IPY_MODEL_15a687c332134381930528a15e868a1d",
       "value": 1
      }
     },
     "e3b6b3c861414eed8ead332d17aa9a86": {
      "model_module": "@jupyter-widgets/controls",
      "model_module_version": "1.4.0",
      "model_name": "SliderStyleModel",
      "state": {
       "description_width": ""
      }
     },
     "e3dc83e837c44d03a5e3896e1a5fe296": {
      "model_module": "@jupyter-widgets/base",
      "model_module_version": "1.1.0",
      "model_name": "LayoutModel",
      "state": {}
     },
     "e3e42e6ea846434abb1138af0f25bfbb": {
      "model_module": "@jupyter-widgets/controls",
      "model_module_version": "1.4.0",
      "model_name": "DescriptionStyleModel",
      "state": {
       "description_width": ""
      }
     },
     "e3f95d4b4c9a4b1d8d7052d5af872428": {
      "model_module": "@jupyter-widgets/controls",
      "model_module_version": "1.4.0",
      "model_name": "DropdownModel",
      "state": {
       "_options_labels": [
        "band",
        "bars"
       ],
       "index": 0,
       "layout": "IPY_MODEL_fe96c57591144476ab8d9fd4b607916e",
       "style": "IPY_MODEL_fd795eec019a481c9670c127dca1f299"
      }
     },
     "e43f5db3edfd4f2285cd24a72ef2d4ea": {
      "model_module": "@jupyter-widgets/controls",
      "model_module_version": "1.4.0",
      "model_name": "LabelModel",
      "state": {
       "layout": "IPY_MODEL_268cc7707ff84ef5a367a9f2e25fb8df",
       "style": "IPY_MODEL_649d17c373e64df4860851b4fd08a940",
       "value": "---"
      }
     },
     "e47d3edda4ad420da7736080609c9c19": {
      "model_module": "@jupyter-widgets/controls",
      "model_module_version": "1.4.0",
      "model_name": "FloatSliderModel",
      "state": {
       "layout": "IPY_MODEL_0d50509784c74255b3d5aacd9614e6e6",
       "max": 1,
       "step": 0.05,
       "style": "IPY_MODEL_412a156e13164d62b3f6897830f050ee",
       "value": 1
      }
     },
     "e48368687d1c41109a9fde3e9abd0f73": {
      "model_module": "@jupyter-widgets/base",
      "model_module_version": "1.1.0",
      "model_name": "LayoutModel",
      "state": {}
     },
     "e4b2d67fa31d428a90245f307225df9f": {
      "model_module": "@jupyter-widgets/base",
      "model_module_version": "1.1.0",
      "model_name": "LayoutModel",
      "state": {}
     },
     "e4ed14fed42c461e949fcf1394438edd": {
      "model_module": "@jupyter-widgets/controls",
      "model_module_version": "1.4.0",
      "model_name": "DescriptionStyleModel",
      "state": {
       "description_width": ""
      }
     },
     "e512663c087a4247bec77fefb788d73b": {
      "model_module": "@jupyter-widgets/base",
      "model_module_version": "1.1.0",
      "model_name": "LayoutModel",
      "state": {}
     },
     "e57bfa10294248b38e343e83b7e3d158": {
      "model_module": "@jupyter-widgets/controls",
      "model_module_version": "1.4.0",
      "model_name": "ButtonStyleModel",
      "state": {}
     },
     "e58d11eae54a46aeb66200d54a07df2f": {
      "model_module": "@jupyter-widgets/controls",
      "model_module_version": "1.4.0",
      "model_name": "FloatTextModel",
      "state": {
       "layout": "IPY_MODEL_2cc7c3ec0f7b438a80abc05be9b98cdf",
       "step": null,
       "style": "IPY_MODEL_377b274fb2974c2cbc7c36e3c5a4b75e",
       "value": 1
      }
     },
     "e5a0f1fc44cd4c58b58f430bfaff1357": {
      "model_module": "@jupyter-widgets/controls",
      "model_module_version": "1.4.0",
      "model_name": "DropdownModel",
      "state": {
       "_options_labels": [
        "Acceleration",
        "Cylinders",
        "Displacement",
        "Horsepower",
        "Miles_per_Gallon",
        "Name",
        "Origin",
        "Weight_in_lbs",
        "Year"
       ],
       "index": 0,
       "layout": "IPY_MODEL_d758273dc3ed4b8b9997493f878f83d0",
       "style": "IPY_MODEL_f02226beb2ae42cd9f8f48164dba838c"
      }
     },
     "e5b037da961548948fea4f654a6077c5": {
      "model_module": "@jupyter-widgets/controls",
      "model_module_version": "1.4.0",
      "model_name": "DescriptionStyleModel",
      "state": {
       "description_width": ""
      }
     },
     "e5c750fbbc474ee8bc12d2c0b76d9f5b": {
      "model_module": "@jupyter-widgets/base",
      "model_module_version": "1.1.0",
      "model_name": "LayoutModel",
      "state": {}
     },
     "e5cb75d796d44d1b978b86456c0ce1a6": {
      "model_module": "@jupyter-widgets/controls",
      "model_module_version": "1.4.0",
      "model_name": "DropdownModel",
      "state": {
       "_options_labels": [
        "barplot",
        "boxenplot",
        "boxplot",
        "catplot",
        "countplot",
        "distplot",
        "heatmap",
        "jointplot",
        "kdeplot",
        "lineplot",
        "lmplot",
        "pairplot",
        "pointplot",
        "regplot",
        "relplot",
        "residplot",
        "scatterplot",
        "stripplot",
        "swarmplot",
        "violinplot"
       ],
       "description": "Plot type",
       "index": 0,
       "layout": "IPY_MODEL_b1bba66979ec453284b9708098e96230",
       "style": "IPY_MODEL_102d86f7ce9c4e7bb32aef7be79af473"
      }
     },
     "e5d248d0cae74d0d8fe5450eae0cca92": {
      "model_module": "@jupyter-widgets/base",
      "model_module_version": "1.1.0",
      "model_name": "LayoutModel",
      "state": {}
     },
     "e5db9e23ca0e4038b4cadb9f5eb10bb2": {
      "model_module": "@jupyter-widgets/base",
      "model_module_version": "1.1.0",
      "model_name": "LayoutModel",
      "state": {}
     },
     "e5dfe51fb7324d399febd8342273b2f5": {
      "model_module": "@jupyter-widgets/controls",
      "model_module_version": "1.4.0",
      "model_name": "FloatTextModel",
      "state": {
       "layout": "IPY_MODEL_89f8da4d09244c3883ef1421f0cc0160",
       "step": null,
       "style": "IPY_MODEL_5d15bef128324c8a997e4cd87b45645e",
       "value": 1
      }
     },
     "e61e7d3395224addb68e27d3f80a2acb": {
      "model_module": "@jupyter-widgets/controls",
      "model_module_version": "1.4.0",
      "model_name": "ButtonStyleModel",
      "state": {}
     },
     "e666b2d21c0b4735b9151878251ebb25": {
      "model_module": "@jupyter-widgets/base",
      "model_module_version": "1.1.0",
      "model_name": "LayoutModel",
      "state": {}
     },
     "e667ea0f50b94000a51a9e4a54878dba": {
      "model_module": "@jupyter-widgets/controls",
      "model_module_version": "1.4.0",
      "model_name": "FloatSliderModel",
      "state": {
       "layout": "IPY_MODEL_f1c03b489ac14f27a5eb09636856322f",
       "max": 1,
       "step": 0.05,
       "style": "IPY_MODEL_56c975b024884551bbadf28d5e7cec3d",
       "value": 1
      }
     },
     "e696cfb4a88b4745bc2695321bdbecbb": {
      "model_module": "@jupyter-widgets/controls",
      "model_module_version": "1.4.0",
      "model_name": "DropdownModel",
      "state": {
       "_options_labels": [
        "petalLength",
        "petalWidth",
        "sepalLength",
        "sepalWidth",
        "species"
       ],
       "index": 0,
       "layout": "IPY_MODEL_5e931f9bb2cc4846be0b9e610c42cac6",
       "style": "IPY_MODEL_53f3a592a9ef4e3183efcf628b9ae7ae"
      }
     },
     "e6983e97f50c49f8912cf47a4b3b7df4": {
      "model_module": "@jupyter-widgets/controls",
      "model_module_version": "1.4.0",
      "model_name": "SliderStyleModel",
      "state": {
       "description_width": ""
      }
     },
     "e79ec3f1e71c4e5495feb25a8c9018f1": {
      "model_module": "@jupyter-widgets/base",
      "model_module_version": "1.1.0",
      "model_name": "LayoutModel",
      "state": {}
     },
     "e7a26e801723415584136abc84167c35": {
      "model_module": "@jupyter-widgets/controls",
      "model_module_version": "1.4.0",
      "model_name": "DescriptionStyleModel",
      "state": {
       "description_width": ""
      }
     },
     "e7d3751e70e3464e98806fedc4ad0976": {
      "model_module": "@jupyter-widgets/controls",
      "model_module_version": "1.4.0",
      "model_name": "DropdownModel",
      "state": {
       "_options_labels": [
        "gau",
        "cos",
        "biw",
        "epa",
        "tri",
        "triw"
       ],
       "index": 0,
       "layout": "IPY_MODEL_11e0111e0d0d45f885d48a7320552d76",
       "style": "IPY_MODEL_87df728f20664c23b91560db266b8e29"
      }
     },
     "e7dc7c5dd6ff4599a3f9de379475fb77": {
      "model_module": "@jupyter-widgets/controls",
      "model_module_version": "1.4.0",
      "model_name": "CheckboxModel",
      "state": {
       "disabled": false,
       "layout": "IPY_MODEL_543729deb0fc4518940179e96a339bb5",
       "style": "IPY_MODEL_73f866fd13504b8aba8d9acc1b1b7802",
       "value": false
      }
     },
     "e7e110d346274cf8a19267e64d68cbe7": {
      "model_module": "@jupyter-widgets/controls",
      "model_module_version": "1.4.0",
      "model_name": "CheckboxModel",
      "state": {
       "disabled": false,
       "layout": "IPY_MODEL_9ec99efb1f704c07bb627f0918af0708",
       "style": "IPY_MODEL_2db19e4237d3449d9910b0638c16772c",
       "value": false
      }
     },
     "e80d33c5a8c34c2f9b39736c10d4c2f2": {
      "model_module": "@jupyter-widgets/controls",
      "model_module_version": "1.4.0",
      "model_name": "DescriptionStyleModel",
      "state": {
       "description_width": ""
      }
     },
     "e85bd2576abc4df490f21a633ea98b0f": {
      "model_module": "@jupyter-widgets/controls",
      "model_module_version": "1.4.0",
      "model_name": "DescriptionStyleModel",
      "state": {
       "description_width": ""
      }
     },
     "e87807d037da4170bca18001a4ed37b8": {
      "model_module": "@jupyter-widgets/base",
      "model_module_version": "1.1.0",
      "model_name": "LayoutModel",
      "state": {}
     },
     "e89e879521cc4d4ab98c5ec478d6031c": {
      "model_module": "@jupyter-widgets/base",
      "model_module_version": "1.1.0",
      "model_name": "LayoutModel",
      "state": {}
     },
     "e8a5ae1216414335b44836733e71d748": {
      "model_module": "@jupyter-widgets/controls",
      "model_module_version": "1.4.0",
      "model_name": "HBoxModel",
      "state": {
       "children": [
        "IPY_MODEL_9c3b6b76bc134cdfa2d6544fa5aff82b",
        "IPY_MODEL_5c15f99fa69e44d798b8565cbd7dfb22"
       ],
       "layout": "IPY_MODEL_a68ebe74d3ca48e9bb3a215074c7116d"
      }
     },
     "e91e338916fa49499cc24c93871b3d2b": {
      "model_module": "@jupyter-widgets/controls",
      "model_module_version": "1.4.0",
      "model_name": "DescriptionStyleModel",
      "state": {
       "description_width": ""
      }
     },
     "e99133c1e4b9443a98a539e271edc272": {
      "model_module": "@jupyter-widgets/controls",
      "model_module_version": "1.4.0",
      "model_name": "CheckboxModel",
      "state": {
       "disabled": false,
       "layout": "IPY_MODEL_f718715243a64c7492fbf93f8f1a723d",
       "style": "IPY_MODEL_bf26cd39dcca479aaed747d717942164",
       "value": false
      }
     },
     "e997afde93b549dfb6a410c2c38f3db3": {
      "model_module": "@jupyter-widgets/base",
      "model_module_version": "1.1.0",
      "model_name": "LayoutModel",
      "state": {}
     },
     "e9ca9e5a47cd4700a40243fb303b5587": {
      "model_module": "@jupyter-widgets/controls",
      "model_module_version": "1.4.0",
      "model_name": "FloatTextModel",
      "state": {
       "layout": "IPY_MODEL_49ee35c6f14c4218b3744a34d21be1b5",
       "step": null,
       "style": "IPY_MODEL_3c28a91d15994ea18c0d24530094fd6b",
       "value": 1
      }
     },
     "e9cb077f02c248138924c98d187d7e0e": {
      "model_module": "@jupyter-widgets/base",
      "model_module_version": "1.1.0",
      "model_name": "LayoutModel",
      "state": {}
     },
     "e9eae6bfb1334483adb9dd62a865f4e0": {
      "model_module": "@jupyter-widgets/controls",
      "model_module_version": "1.4.0",
      "model_name": "DescriptionStyleModel",
      "state": {
       "description_width": ""
      }
     },
     "ea0725f527994946815a2ef52cb5be54": {
      "model_module": "@jupyter-widgets/controls",
      "model_module_version": "1.4.0",
      "model_name": "ButtonModel",
      "state": {
       "description": "remove",
       "layout": "IPY_MODEL_b9a1a479f1554384b41524a3da54fa17",
       "style": "IPY_MODEL_78a2c8b35d404dd1b7920183aefba015"
      }
     },
     "ea403a2759a04c5f9681442628e7eb83": {
      "model_module": "@jupyter-widgets/controls",
      "model_module_version": "1.4.0",
      "model_name": "DescriptionStyleModel",
      "state": {
       "description_width": ""
      }
     },
     "ea67c62ae9e34c3ab01d55e216ea71af": {
      "model_module": "@jupyter-widgets/controls",
      "model_module_version": "1.4.0",
      "model_name": "FloatTextModel",
      "state": {
       "layout": "IPY_MODEL_b7cf0fed1fe14b8da41e877ea73cdc23",
       "step": null,
       "style": "IPY_MODEL_16fa971e2ea941b1b1cf7d271df464e7",
       "value": 1
      }
     },
     "ea6d93aa6fa04919a662214da0d7b2aa": {
      "model_module": "@jupyter-widgets/controls",
      "model_module_version": "1.4.0",
      "model_name": "SliderStyleModel",
      "state": {
       "description_width": ""
      }
     },
     "ea7c4f470a544f9896537ca65a29b2f1": {
      "model_module": "@jupyter-widgets/controls",
      "model_module_version": "1.4.0",
      "model_name": "DescriptionStyleModel",
      "state": {
       "description_width": ""
      }
     },
     "ea95d6b2964c461985cdddfcc9a92c4a": {
      "model_module": "@jupyter-widgets/controls",
      "model_module_version": "1.4.0",
      "model_name": "DropdownModel",
      "state": {
       "_options_labels": [
        "Acceleration",
        "Cylinders",
        "Displacement",
        "Horsepower",
        "Miles_per_Gallon",
        "Name",
        "Origin",
        "Weight_in_lbs",
        "Year"
       ],
       "index": 0,
       "layout": "IPY_MODEL_c29ea76c33fe49adb2ea42dd7249165a",
       "style": "IPY_MODEL_512939cdbfa04c69b3f6de9ef91761db"
      }
     },
     "eaa23d584810424aba1b69e9c8ebab63": {
      "model_module": "@jupyter-widgets/base",
      "model_module_version": "1.1.0",
      "model_name": "LayoutModel",
      "state": {}
     },
     "eaf541cdd58848d3aee1a489240b8222": {
      "model_module": "@jupyter-widgets/controls",
      "model_module_version": "1.4.0",
      "model_name": "CheckboxModel",
      "state": {
       "disabled": false,
       "layout": "IPY_MODEL_03a7540cf2a2403796128b898873beb1",
       "style": "IPY_MODEL_8c3ef9d281884126869a84f3b95d1e38",
       "value": false
      }
     },
     "eb88559a60c54514a23b33784ef38dfe": {
      "model_module": "@jupyter-widgets/base",
      "model_module_version": "1.1.0",
      "model_name": "LayoutModel",
      "state": {}
     },
     "eba421f1d2b94ece9a605101ba6ec14a": {
      "model_module": "@jupyter-widgets/controls",
      "model_module_version": "1.4.0",
      "model_name": "DescriptionStyleModel",
      "state": {
       "description_width": ""
      }
     },
     "ebb6242d08af410f95ef8fcc62cae32e": {
      "model_module": "@jupyter-widgets/controls",
      "model_module_version": "1.4.0",
      "model_name": "DescriptionStyleModel",
      "state": {
       "description_width": ""
      }
     },
     "ebc8022002b34cb186518ad8a4473851": {
      "model_module": "@jupyter-widgets/controls",
      "model_module_version": "1.4.0",
      "model_name": "FloatTextModel",
      "state": {
       "layout": "IPY_MODEL_baf0af5138ec40bfbd6121279031b4ee",
       "step": null,
       "style": "IPY_MODEL_a51bc547d80f4ec98958b21937e788ca",
       "value": 1
      }
     },
     "ebd7d4bc73324ec6ac370bcd8f779adb": {
      "model_module": "@jupyter-widgets/base",
      "model_module_version": "1.1.0",
      "model_name": "LayoutModel",
      "state": {}
     },
     "ec7d25228cc74d3abe2440ac4e44c20a": {
      "model_module": "@jupyter-widgets/controls",
      "model_module_version": "1.4.0",
      "model_name": "CheckboxModel",
      "state": {
       "disabled": false,
       "layout": "IPY_MODEL_5b4f515ffbbe47e6948cbd34de71b6f4",
       "style": "IPY_MODEL_d120b7b7db97497eb42a1c99b1e4da53",
       "value": false
      }
     },
     "eccf6fbab20f4673bfb43755534391c2": {
      "model_module": "@jupyter-widgets/controls",
      "model_module_version": "1.4.0",
      "model_name": "DropdownModel",
      "state": {
       "_options_labels": [
        "scatter",
        "reg"
       ],
       "index": 0,
       "layout": "IPY_MODEL_99398626a55249b695dd2c080e5fc451",
       "style": "IPY_MODEL_207ddb4cb2c443738ebfbfa2900bc045"
      }
     },
     "ecf71877aeae4d7da553f85b8b2bc90c": {
      "model_module": "@jupyter-widgets/base",
      "model_module_version": "1.1.0",
      "model_name": "LayoutModel",
      "state": {}
     },
     "ed2249a9598f4b64bdc94a330c55bf69": {
      "model_module": "@jupyter-widgets/controls",
      "model_module_version": "1.4.0",
      "model_name": "DescriptionStyleModel",
      "state": {
       "description_width": ""
      }
     },
     "ed529000d6b647ac8e516bde5ced1dcf": {
      "model_module": "@jupyter-widgets/base",
      "model_module_version": "1.1.0",
      "model_name": "LayoutModel",
      "state": {}
     },
     "ed62fffff82a4a2da097a5d1fcc5a9b7": {
      "model_module": "@jupyter-widgets/base",
      "model_module_version": "1.1.0",
      "model_name": "LayoutModel",
      "state": {}
     },
     "ed657fde2c3b4b2584ece5cd2cf7b72e": {
      "model_module": "@jupyter-widgets/base",
      "model_module_version": "1.1.0",
      "model_name": "LayoutModel",
      "state": {}
     },
     "eda4c3f3edf74d69a667d4803a9814ce": {
      "model_module": "@jupyter-widgets/controls",
      "model_module_version": "1.4.0",
      "model_name": "CheckboxModel",
      "state": {
       "disabled": false,
       "layout": "IPY_MODEL_389bf633836d4a799d2ab58b605dc8fb",
       "style": "IPY_MODEL_fbb22c5395124a6bb6dfab0d3121258a",
       "value": false
      }
     },
     "edd74493bc0e4d3aac24d9a21d015cdd": {
      "model_module": "@jupyter-widgets/base",
      "model_module_version": "1.1.0",
      "model_name": "LayoutModel",
      "state": {}
     },
     "eddb3f79c7b34fe39bb8d8b4fa7cd3e9": {
      "model_module": "@jupyter-widgets/base",
      "model_module_version": "1.1.0",
      "model_name": "LayoutModel",
      "state": {}
     },
     "ee4153cd730746959b18a5016fefaa47": {
      "model_module": "@jupyter-widgets/controls",
      "model_module_version": "1.4.0",
      "model_name": "DescriptionStyleModel",
      "state": {
       "description_width": ""
      }
     },
     "ee439c1dbff140b688c2700f5ac09c67": {
      "model_module": "@jupyter-widgets/base",
      "model_module_version": "1.1.0",
      "model_name": "LayoutModel",
      "state": {}
     },
     "eeabc101e1bc463d84e183d09cd586f7": {
      "model_module": "@jupyter-widgets/controls",
      "model_module_version": "1.4.0",
      "model_name": "DropdownModel",
      "state": {
       "_options_labels": [
        "v",
        "h"
       ],
       "index": 0,
       "layout": "IPY_MODEL_0784a4af5fdf4fd2a90c4868ac89ab4a",
       "style": "IPY_MODEL_f5ab37e3819440bab00ed4d4855fa37c"
      }
     },
     "eec7beca5dd1406bb47157a5eabc255d": {
      "model_module": "@jupyter-widgets/controls",
      "model_module_version": "1.4.0",
      "model_name": "DropdownModel",
      "state": {
       "_options_labels": [
        "True",
        "col",
        "row"
       ],
       "index": 0,
       "layout": "IPY_MODEL_e5c750fbbc474ee8bc12d2c0b76d9f5b",
       "style": "IPY_MODEL_85ae6a0f522d4fef969618cceb574bf1"
      }
     },
     "eee1ca5662c842dd9049c1fbaceb41a9": {
      "model_module": "@jupyter-widgets/controls",
      "model_module_version": "1.4.0",
      "model_name": "HBoxModel",
      "state": {
       "children": [
        "IPY_MODEL_71ed8c0acf0541db9bb6f09f67732b2b",
        "IPY_MODEL_1b23f9c5227c417d9576e6bd4080686e"
       ],
       "layout": "IPY_MODEL_f8492e6515af46cd925e5326a30e5cab"
      }
     },
     "eefa05f7e2d941c5a2d52ca8969bc398": {
      "model_module": "@jupyter-widgets/base",
      "model_module_version": "1.1.0",
      "model_name": "LayoutModel",
      "state": {}
     },
     "ef4514d09ce1443cb7ed24a20babf981": {
      "model_module": "@jupyter-widgets/controls",
      "model_module_version": "1.4.0",
      "model_name": "TextModel",
      "state": {
       "layout": "IPY_MODEL_95afd0959e634532a4bdfda55f429c05",
       "style": "IPY_MODEL_814a771445d9470abe0b2b8e24f5b9c5",
       "value": "g"
      }
     },
     "ef4d22a348364833bec32d2f40c08beb": {
      "model_module": "@jupyter-widgets/base",
      "model_module_version": "1.1.0",
      "model_name": "LayoutModel",
      "state": {}
     },
     "efaf38ef48cc4312a2f6ed4fc4ba4044": {
      "model_module": "@jupyter-widgets/base",
      "model_module_version": "1.1.0",
      "model_name": "LayoutModel",
      "state": {}
     },
     "efb4350abd404114b198216d1b1c4992": {
      "model_module": "@jupyter-widgets/base",
      "model_module_version": "1.1.0",
      "model_name": "LayoutModel",
      "state": {}
     },
     "efb94e8785504fdfb719bb7bee0120c5": {
      "model_module": "@jupyter-widgets/base",
      "model_module_version": "1.1.0",
      "model_name": "LayoutModel",
      "state": {}
     },
     "efceb50b85f94b94b14dd2570b62baac": {
      "model_module": "@jupyter-widgets/controls",
      "model_module_version": "1.4.0",
      "model_name": "DescriptionStyleModel",
      "state": {
       "description_width": ""
      }
     },
     "f02226beb2ae42cd9f8f48164dba838c": {
      "model_module": "@jupyter-widgets/controls",
      "model_module_version": "1.4.0",
      "model_name": "DescriptionStyleModel",
      "state": {
       "description_width": ""
      }
     },
     "f03ac773e38546abaefd827b15e6ca52": {
      "model_module": "@jupyter-widgets/base",
      "model_module_version": "1.1.0",
      "model_name": "LayoutModel",
      "state": {}
     },
     "f04b4435417a40398865b2fffb00782c": {
      "model_module": "@jupyter-widgets/base",
      "model_module_version": "1.1.0",
      "model_name": "LayoutModel",
      "state": {}
     },
     "f06da5530d3641e58afa4848acc5edd8": {
      "model_module": "@jupyter-widgets/controls",
      "model_module_version": "1.4.0",
      "model_name": "DescriptionStyleModel",
      "state": {
       "description_width": ""
      }
     },
     "f0b0c740d58941d78cbd75c3cf33c023": {
      "model_module": "@jupyter-widgets/base",
      "model_module_version": "1.1.0",
      "model_name": "LayoutModel",
      "state": {}
     },
     "f0d6e391ba9249faae59e8549a3024f4": {
      "model_module": "@jupyter-widgets/controls",
      "model_module_version": "1.4.0",
      "model_name": "HBoxModel",
      "state": {
       "children": [
        "IPY_MODEL_f6657ec74bc64d3e939f0451ec05843d"
       ],
       "layout": "IPY_MODEL_bc6fa1f4b12b4d449b0a45f4508f7852"
      }
     },
     "f0f3f5f9d69b4b83923c79daeb733552": {
      "model_module": "@jupyter-widgets/controls",
      "model_module_version": "1.4.0",
      "model_name": "DescriptionStyleModel",
      "state": {
       "description_width": ""
      }
     },
     "f16f962b6ede4a6f8deb2dec1b65e1a4": {
      "model_module": "@jupyter-widgets/controls",
      "model_module_version": "1.4.0",
      "model_name": "DescriptionStyleModel",
      "state": {
       "description_width": ""
      }
     },
     "f189202770fe4d3da9c04cc25fb6e3a7": {
      "model_module": "@jupyter-widgets/base",
      "model_module_version": "1.1.0",
      "model_name": "LayoutModel",
      "state": {}
     },
     "f1c03b489ac14f27a5eb09636856322f": {
      "model_module": "@jupyter-widgets/base",
      "model_module_version": "1.1.0",
      "model_name": "LayoutModel",
      "state": {}
     },
     "f1e7dcf269d54284a7b8bb795d8ad270": {
      "model_module": "@jupyter-widgets/controls",
      "model_module_version": "1.4.0",
      "model_name": "CheckboxModel",
      "state": {
       "disabled": false,
       "layout": "IPY_MODEL_11a251f2ca19432e8799747aa6702a60",
       "style": "IPY_MODEL_f2be0c829ace43098832f4f4ec2f6785",
       "value": false
      }
     },
     "f1e97bc519d84044b8e15034d9a41c2a": {
      "model_module": "@jupyter-widgets/controls",
      "model_module_version": "1.4.0",
      "model_name": "HBoxModel",
      "state": {
       "children": [
        "IPY_MODEL_a609fec16caf4137ae07b37d7840597e",
        "IPY_MODEL_a0715261b1b043278ca1d566e42f8ba8"
       ],
       "layout": "IPY_MODEL_03848565d3cf4195968aeb0c199d80d0"
      }
     },
     "f1fbe3007a2540e886eaae97b7728811": {
      "model_module": "@jupyter-widgets/controls",
      "model_module_version": "1.4.0",
      "model_name": "DropdownModel",
      "state": {
       "_options_labels": [
        "proportion",
        "tukey",
        "trustworthy"
       ],
       "index": 0,
       "layout": "IPY_MODEL_69ee2c5273384e0098b23ae6dce47b2b",
       "style": "IPY_MODEL_25de8334addb4aeebdbbede74c92e388"
      }
     },
     "f2061492a81442249c56bf71946f0aab": {
      "model_module": "@jupyter-widgets/controls",
      "model_module_version": "1.4.0",
      "model_name": "DescriptionStyleModel",
      "state": {
       "description_width": ""
      }
     },
     "f21d73eaacc74cb39383df48a813e5a4": {
      "model_module": "@jupyter-widgets/controls",
      "model_module_version": "1.4.0",
      "model_name": "DropdownModel",
      "state": {
       "_options_labels": [
        "Acceleration",
        "Cylinders",
        "Displacement",
        "Horsepower",
        "Miles_per_Gallon",
        "Name",
        "Origin",
        "Weight_in_lbs",
        "Year"
       ],
       "index": 0,
       "layout": "IPY_MODEL_75ac2776f47146809ace5697b58dda41",
       "style": "IPY_MODEL_208bd1757bf644b0b65a7bf9bb38e7b9"
      }
     },
     "f24b5d253c264aa1b3dfff260a3089e8": {
      "model_module": "@jupyter-widgets/base",
      "model_module_version": "1.1.0",
      "model_name": "LayoutModel",
      "state": {}
     },
     "f2565eb04fb04be78d4f2a856e133edb": {
      "model_module": "@jupyter-widgets/controls",
      "model_module_version": "1.4.0",
      "model_name": "IntSliderModel",
      "state": {
       "layout": "IPY_MODEL_7a852b3b9a7646e093cccb3f2f5b1c0c",
       "style": "IPY_MODEL_cae141a19e184ccf8ec8adaef9b83ae5",
       "value": 95
      }
     },
     "f25a5129ed294203b91a167f23a9f50b": {
      "model_module": "@jupyter-widgets/controls",
      "model_module_version": "1.4.0",
      "model_name": "DescriptionStyleModel",
      "state": {
       "description_width": ""
      }
     },
     "f25df035b1c84a6c83e91a02fc9e388c": {
      "model_module": "@jupyter-widgets/controls",
      "model_module_version": "1.4.0",
      "model_name": "DropdownModel",
      "state": {
       "_options_labels": [
        "Acceleration",
        "Cylinders",
        "Displacement",
        "Horsepower",
        "Miles_per_Gallon",
        "Name",
        "Origin",
        "Weight_in_lbs",
        "Year"
       ],
       "index": 0,
       "layout": "IPY_MODEL_b7e9c77816944232ab3f2875cdf81987",
       "style": "IPY_MODEL_de842ae52d2d45449e1fecb4c03cee54"
      }
     },
     "f2892daacd08460ea0700eaa4242ce49": {
      "model_module": "@jupyter-widgets/controls",
      "model_module_version": "1.4.0",
      "model_name": "DropdownModel",
      "state": {
       "_options_labels": [
        "gau",
        "cos",
        "biw",
        "epa",
        "tri",
        "triw"
       ],
       "index": 0,
       "layout": "IPY_MODEL_d0101c9c5e0e47b782f43e8c9b3d613a",
       "style": "IPY_MODEL_1584c480835140c79bb4d51d8658a76e"
      }
     },
     "f29c53df56234769be69a903d01bc2cb": {
      "model_module": "@jupyter-widgets/controls",
      "model_module_version": "1.4.0",
      "model_name": "IntTextModel",
      "state": {
       "layout": "IPY_MODEL_7e318b2bdd3640199be8b675284f1278",
       "step": 1,
       "style": "IPY_MODEL_2160923aeac3448e964c0b7f7669f2f4",
       "value": 1
      }
     },
     "f2a03de52b664c718937f7d9cfc9b691": {
      "model_module": "@jupyter-widgets/controls",
      "model_module_version": "1.4.0",
      "model_name": "DescriptionStyleModel",
      "state": {
       "description_width": ""
      }
     },
     "f2afb40ebf494364b5f510595c38a31f": {
      "model_module": "@jupyter-widgets/base",
      "model_module_version": "1.1.0",
      "model_name": "LayoutModel",
      "state": {}
     },
     "f2b72321ebc84c65a66bedc1f792d32e": {
      "model_module": "@jupyter-widgets/base",
      "model_module_version": "1.1.0",
      "model_name": "LayoutModel",
      "state": {}
     },
     "f2be0c829ace43098832f4f4ec2f6785": {
      "model_module": "@jupyter-widgets/controls",
      "model_module_version": "1.4.0",
      "model_name": "DescriptionStyleModel",
      "state": {
       "description_width": ""
      }
     },
     "f2cdb0b2c9914f3cad55a1df19cfcd22": {
      "model_module": "@jupyter-widgets/base",
      "model_module_version": "1.1.0",
      "model_name": "LayoutModel",
      "state": {}
     },
     "f2e87dfe16c84c46bcd0e9353e154a3a": {
      "model_module": "@jupyter-widgets/controls",
      "model_module_version": "1.4.0",
      "model_name": "DescriptionStyleModel",
      "state": {
       "description_width": ""
      }
     },
     "f2f3ce9dbe3840bfa89a5ddd1f58ed47": {
      "model_module": "@jupyter-widgets/controls",
      "model_module_version": "1.4.0",
      "model_name": "ButtonModel",
      "state": {
       "description": "remove",
       "layout": "IPY_MODEL_c7644bef34b24b7aa2d1e913600da47e",
       "style": "IPY_MODEL_858280dc05174964b1bf08642e3e3660"
      }
     },
     "f31a2bb9b5814321ae6ff2575a315b18": {
      "model_module": "@jupyter-widgets/base",
      "model_module_version": "1.1.0",
      "model_name": "LayoutModel",
      "state": {}
     },
     "f379666dc3b9438b8625f3afbbe0ab99": {
      "model_module": "@jupyter-widgets/controls",
      "model_module_version": "1.4.0",
      "model_name": "FloatTextModel",
      "state": {
       "layout": "IPY_MODEL_5a21ef17406941ec9be45204ad83521b",
       "step": null,
       "style": "IPY_MODEL_1b2ae47c4a7b4450bd8d97a4c7b1fe84",
       "value": 0.1
      }
     },
     "f3ac5cb588c54417bdff3517c58760d4": {
      "model_module": "@jupyter-widgets/base",
      "model_module_version": "1.1.0",
      "model_name": "LayoutModel",
      "state": {}
     },
     "f3c640bf28fd4e4da39d8a7307e78cd4": {
      "model_module": "@jupyter-widgets/controls",
      "model_module_version": "1.4.0",
      "model_name": "DescriptionStyleModel",
      "state": {
       "description_width": ""
      }
     },
     "f3cfe55b7d4147c6abafbacf382e0e95": {
      "model_module": "@jupyter-widgets/base",
      "model_module_version": "1.1.0",
      "model_name": "LayoutModel",
      "state": {}
     },
     "f3df4252b15747e694d0928bc55a3b48": {
      "model_module": "@jupyter-widgets/base",
      "model_module_version": "1.1.0",
      "model_name": "LayoutModel",
      "state": {}
     },
     "f3f395bd9e444051a4bc8292daf11fc3": {
      "model_module": "@jupyter-widgets/controls",
      "model_module_version": "1.4.0",
      "model_name": "CheckboxModel",
      "state": {
       "disabled": false,
       "layout": "IPY_MODEL_1e1d474940a6471e88efda9dc5aea969",
       "style": "IPY_MODEL_c8647aaeac4444b0a77f65a5fe5f0acd",
       "value": false
      }
     },
     "f4298abef75847129008a81c75388747": {
      "model_module": "@jupyter-widgets/base",
      "model_module_version": "1.1.0",
      "model_name": "LayoutModel",
      "state": {}
     },
     "f42c6376d6204f5da6c8c1c7701fb442": {
      "model_module": "@jupyter-widgets/base",
      "model_module_version": "1.1.0",
      "model_name": "LayoutModel",
      "state": {}
     },
     "f43041689bff4888b00aca6e92b936df": {
      "model_module": "@jupyter-widgets/controls",
      "model_module_version": "1.4.0",
      "model_name": "CheckboxModel",
      "state": {
       "disabled": false,
       "layout": "IPY_MODEL_048a38994e2c405a8ad9b1fa153c6866",
       "style": "IPY_MODEL_a0d67a69f6db4f74a78a20a55955284f",
       "value": false
      }
     },
     "f4325963e83943e791b195584379ecdf": {
      "model_module": "@jupyter-widgets/controls",
      "model_module_version": "1.4.0",
      "model_name": "DropdownModel",
      "state": {
       "_options_labels": [
        "scatter",
        "line"
       ],
       "index": 0,
       "layout": "IPY_MODEL_788a9a4b6ce24c048d19a6b7eed6515f",
       "style": "IPY_MODEL_909fcea939bd490982f15f4518c78a2f"
      }
     },
     "f43bf866b9c74342a596ed065fa0a706": {
      "model_module": "@jupyter-widgets/base",
      "model_module_version": "1.1.0",
      "model_name": "LayoutModel",
      "state": {}
     },
     "f449efd8d1b84772821c5d1a9f228987": {
      "model_module": "@jupyter-widgets/controls",
      "model_module_version": "1.4.0",
      "model_name": "FloatTextModel",
      "state": {
       "layout": "IPY_MODEL_4b2d47d3a4814aa8951611b4d80ea57a",
       "step": 0.01,
       "style": "IPY_MODEL_9a322d3b1cbb4dacafaf5418d74bdeb6"
      }
     },
     "f46bfcea14184dc7a75e26c60a63ae3a": {
      "model_module": "@jupyter-widgets/base",
      "model_module_version": "1.1.0",
      "model_name": "LayoutModel",
      "state": {}
     },
     "f46cc05a901c4b4a8f4c0ecefc307bd3": {
      "model_module": "@jupyter-widgets/base",
      "model_module_version": "1.1.0",
      "model_name": "LayoutModel",
      "state": {}
     },
     "f49e76d839234e9b88522d3a37e85ee0": {
      "model_module": "@jupyter-widgets/controls",
      "model_module_version": "1.4.0",
      "model_name": "DropdownModel",
      "state": {
       "_options_labels": [
        "Acceleration",
        "Cylinders",
        "Displacement",
        "Horsepower",
        "Miles_per_Gallon",
        "Name",
        "Origin",
        "Weight_in_lbs",
        "Year"
       ],
       "index": 0,
       "layout": "IPY_MODEL_0072d7ff7d7840dab5e42325b2195023",
       "style": "IPY_MODEL_fd68541d325540d1aead4db4e3ba6c63"
      }
     },
     "f4ae0e61277d46a1a12b9e17180c553b": {
      "model_module": "@jupyter-widgets/controls",
      "model_module_version": "1.4.0",
      "model_name": "DescriptionStyleModel",
      "state": {
       "description_width": ""
      }
     },
     "f4b10d9be1ba4ed0bdefcea189513056": {
      "model_module": "@jupyter-widgets/controls",
      "model_module_version": "1.4.0",
      "model_name": "CheckboxModel",
      "state": {
       "disabled": false,
       "layout": "IPY_MODEL_4683757aba4147fdbb4206574ac82103",
       "style": "IPY_MODEL_316eaf4014bf4d91be9ea1bc1a17d6d6",
       "value": false
      }
     },
     "f4f04d59c5d546f78850f3823fa5872a": {
      "model_module": "@jupyter-widgets/controls",
      "model_module_version": "1.4.0",
      "model_name": "DescriptionStyleModel",
      "state": {
       "description_width": ""
      }
     },
     "f55bb34e0a8c4154bf307527ac5a64aa": {
      "model_module": "@jupyter-widgets/controls",
      "model_module_version": "1.4.0",
      "model_name": "SliderStyleModel",
      "state": {
       "description_width": ""
      }
     },
     "f57e3111137e4e3493c53027217b3381": {
      "model_module": "@jupyter-widgets/base",
      "model_module_version": "1.1.0",
      "model_name": "LayoutModel",
      "state": {}
     },
     "f59509795aa54e998eec50a5ea32ce58": {
      "model_module": "@jupyter-widgets/controls",
      "model_module_version": "1.4.0",
      "model_name": "DropdownModel",
      "state": {
       "_options_labels": [
        "area",
        "count",
        "width"
       ],
       "index": 0,
       "layout": "IPY_MODEL_10f4731fe0c444acae309dbd2fea0b8a",
       "style": "IPY_MODEL_26bd04d844b44169bf49b7aa99b8fa19"
      }
     },
     "f5ab37e3819440bab00ed4d4855fa37c": {
      "model_module": "@jupyter-widgets/controls",
      "model_module_version": "1.4.0",
      "model_name": "DescriptionStyleModel",
      "state": {
       "description_width": ""
      }
     },
     "f5edf3ae0ddb436fb1fa07e37e840f08": {
      "model_module": "@jupyter-widgets/controls",
      "model_module_version": "1.4.0",
      "model_name": "TextModel",
      "state": {
       "layout": "IPY_MODEL_8b66b1a773da44cb9dff815fd787e7ee",
       "style": "IPY_MODEL_cf9ea77e9186494ab00ae99a278092ff",
       "value": "viridis"
      }
     },
     "f63e6d66228641cc86f0e33bf98acd1a": {
      "model_module": "@jupyter-widgets/base",
      "model_module_version": "1.1.0",
      "model_name": "LayoutModel",
      "state": {}
     },
     "f6424cd730cd4d2d9194c84e8563b2c0": {
      "model_module": "@jupyter-widgets/base",
      "model_module_version": "1.1.0",
      "model_name": "LayoutModel",
      "state": {}
     },
     "f6657ec74bc64d3e939f0451ec05843d": {
      "model_module": "@jupyter-widgets/controls",
      "model_module_version": "1.4.0",
      "model_name": "DropdownModel",
      "state": {
       "_options_labels": [
        "x",
        "y",
        "capsize",
        "ci",
        "color",
        "errwidth",
        "hue",
        "n_boot",
        "orient",
        "palette",
        "saturation",
        "units"
       ],
       "description": "Add arg",
       "index": 0,
       "layout": "IPY_MODEL_db8f5b58f49d47be9a8e30c89f10fa4f",
       "style": "IPY_MODEL_9b619e8f57254bb79e7c9256c3ab8692"
      }
     },
     "f6a0e7d0647f452993b4d14cac6d73c3": {
      "model_module": "@jupyter-widgets/base",
      "model_module_version": "1.1.0",
      "model_name": "LayoutModel",
      "state": {}
     },
     "f6b467bbbf4f40bbb5aa2af055bf989f": {
      "model_module": "@jupyter-widgets/controls",
      "model_module_version": "1.4.0",
      "model_name": "DescriptionStyleModel",
      "state": {
       "description_width": ""
      }
     },
     "f6c3fc17bcab4fc7b3b178663569f7a4": {
      "model_module": "@jupyter-widgets/controls",
      "model_module_version": "1.4.0",
      "model_name": "FloatSliderModel",
      "state": {
       "layout": "IPY_MODEL_de131c001690474db9346a96880e6733",
       "max": 1,
       "step": 0.05,
       "style": "IPY_MODEL_487a4216726d40269bf8a37daee66ce5"
      }
     },
     "f718715243a64c7492fbf93f8f1a723d": {
      "model_module": "@jupyter-widgets/base",
      "model_module_version": "1.1.0",
      "model_name": "LayoutModel",
      "state": {}
     },
     "f79eed55a5c64084a064b0020be2f210": {
      "model_module": "@jupyter-widgets/controls",
      "model_module_version": "1.4.0",
      "model_name": "CheckboxModel",
      "state": {
       "disabled": false,
       "layout": "IPY_MODEL_e48368687d1c41109a9fde3e9abd0f73",
       "style": "IPY_MODEL_a2220f35103e4e1c892dc273422c2788",
       "value": false
      }
     },
     "f7ae6d76b2154fb090e7ce24f4cabf26": {
      "model_module": "@jupyter-widgets/base",
      "model_module_version": "1.1.0",
      "model_name": "LayoutModel",
      "state": {}
     },
     "f7e2584233704350bebd22b834bff15b": {
      "model_module": "@jupyter-widgets/controls",
      "model_module_version": "1.4.0",
      "model_name": "DescriptionStyleModel",
      "state": {
       "description_width": ""
      }
     },
     "f819f387268c477682465fad3f4a8c92": {
      "model_module": "@jupyter-widgets/controls",
      "model_module_version": "1.4.0",
      "model_name": "DescriptionStyleModel",
      "state": {
       "description_width": ""
      }
     },
     "f81fb621d13f4e1db43b94972483437f": {
      "model_module": "@jupyter-widgets/base",
      "model_module_version": "1.1.0",
      "model_name": "LayoutModel",
      "state": {}
     },
     "f8222b7382e6420fa340336efb9c7060": {
      "model_module": "@jupyter-widgets/base",
      "model_module_version": "1.1.0",
      "model_name": "LayoutModel",
      "state": {}
     },
     "f84706e049424cba8fdef4819e902693": {
      "model_module": "@jupyter-widgets/controls",
      "model_module_version": "1.4.0",
      "model_name": "DropdownModel",
      "state": {
       "_options_labels": [
        "point",
        "bar",
        "strip",
        "swarm",
        "box",
        "violin",
        "boxen"
       ],
       "index": 0,
       "layout": "IPY_MODEL_a71edc40cbfa46a6950be57457851d00",
       "style": "IPY_MODEL_fbcbe55473ec4b21ba31da2b7485c140"
      }
     },
     "f8492e6515af46cd925e5326a30e5cab": {
      "model_module": "@jupyter-widgets/base",
      "model_module_version": "1.1.0",
      "model_name": "LayoutModel",
      "state": {}
     },
     "f85a9cac999046648e0281150e92f87f": {
      "model_module": "@jupyter-widgets/base",
      "model_module_version": "1.1.0",
      "model_name": "LayoutModel",
      "state": {}
     },
     "f86a663dd74040899f7f3c6ff1dc12de": {
      "model_module": "@jupyter-widgets/controls",
      "model_module_version": "1.4.0",
      "model_name": "SliderStyleModel",
      "state": {
       "description_width": ""
      }
     },
     "f8750438ac8d42fc9ed9fee360df4742": {
      "model_module": "@jupyter-widgets/controls",
      "model_module_version": "1.4.0",
      "model_name": "DescriptionStyleModel",
      "state": {
       "description_width": ""
      }
     },
     "f87c9a2f34b1488b95e82ec6b100fdab": {
      "model_module": "@jupyter-widgets/base",
      "model_module_version": "1.1.0",
      "model_name": "LayoutModel",
      "state": {}
     },
     "f8c6a1a12b44478db6099e04143ab258": {
      "model_module": "@jupyter-widgets/controls",
      "model_module_version": "1.4.0",
      "model_name": "DescriptionStyleModel",
      "state": {
       "description_width": ""
      }
     },
     "f8e4b080376d430c84f0d7de2ed0d738": {
      "model_module": "@jupyter-widgets/controls",
      "model_module_version": "1.4.0",
      "model_name": "DescriptionStyleModel",
      "state": {
       "description_width": ""
      }
     },
     "f96eb961f05e470e9782de5ddbd3ebb8": {
      "model_module": "@jupyter-widgets/base",
      "model_module_version": "1.1.0",
      "model_name": "LayoutModel",
      "state": {}
     },
     "f9b59668b8b041568868d7b71965f988": {
      "model_module": "@jupyter-widgets/controls",
      "model_module_version": "1.4.0",
      "model_name": "CheckboxModel",
      "state": {
       "disabled": false,
       "layout": "IPY_MODEL_46d644b1f8484f34841d6d59e577e266",
       "style": "IPY_MODEL_f0f3f5f9d69b4b83923c79daeb733552",
       "value": false
      }
     },
     "f9d8577e693b4ffa802efa295381f3d7": {
      "model_module": "@jupyter-widgets/controls",
      "model_module_version": "1.4.0",
      "model_name": "DescriptionStyleModel",
      "state": {
       "description_width": ""
      }
     },
     "fa32c1bddfb24d0ca17da4fbe0c320bd": {
      "model_module": "@jupyter-widgets/controls",
      "model_module_version": "1.4.0",
      "model_name": "HBoxModel",
      "state": {
       "children": [
        "IPY_MODEL_78551c9c01174d33b96653ddfcbb22be"
       ],
       "layout": "IPY_MODEL_f46cc05a901c4b4a8f4c0ecefc307bd3"
      }
     },
     "fa34087f0c8a4628ae19a857fe046352": {
      "model_module": "@jupyter-widgets/base",
      "model_module_version": "1.1.0",
      "model_name": "LayoutModel",
      "state": {}
     },
     "fa360407b261477587bffa46bd670798": {
      "model_module": "@jupyter-widgets/base",
      "model_module_version": "1.1.0",
      "model_name": "LayoutModel",
      "state": {}
     },
     "fa43d03b2e194aaca7b7399522f7976a": {
      "model_module": "@jupyter-widgets/controls",
      "model_module_version": "1.4.0",
      "model_name": "CheckboxModel",
      "state": {
       "disabled": false,
       "layout": "IPY_MODEL_eddb3f79c7b34fe39bb8d8b4fa7cd3e9",
       "style": "IPY_MODEL_abedc5b75d324457a502c6daf01cbe0d",
       "value": false
      }
     },
     "fa6d523075e6424f85115bf44427395a": {
      "model_module": "@jupyter-widgets/controls",
      "model_module_version": "1.4.0",
      "model_name": "DescriptionStyleModel",
      "state": {
       "description_width": ""
      }
     },
     "fa955c85366646d3934e733f44f22060": {
      "model_module": "@jupyter-widgets/controls",
      "model_module_version": "1.4.0",
      "model_name": "DescriptionStyleModel",
      "state": {
       "description_width": ""
      }
     },
     "fadea0881f9840debc305e3668f37c9d": {
      "model_module": "@jupyter-widgets/base",
      "model_module_version": "1.1.0",
      "model_name": "LayoutModel",
      "state": {}
     },
     "fb3da0c74d10400c99dc65c66ee97d62": {
      "model_module": "@jupyter-widgets/controls",
      "model_module_version": "1.4.0",
      "model_name": "DropdownModel",
      "state": {
       "_options_labels": [
        "True",
        "col",
        "row"
       ],
       "index": 0,
       "layout": "IPY_MODEL_4c033047841843a18e0d0ac1087ab7ea",
       "style": "IPY_MODEL_a32e0ca2064a4e7694b86b36b9d96f7d"
      }
     },
     "fb5ae171a7cd42c5ba68f053a25462f8": {
      "model_module": "@jupyter-widgets/controls",
      "model_module_version": "1.4.0",
      "model_name": "DescriptionStyleModel",
      "state": {
       "description_width": ""
      }
     },
     "fbb22c5395124a6bb6dfab0d3121258a": {
      "model_module": "@jupyter-widgets/controls",
      "model_module_version": "1.4.0",
      "model_name": "DescriptionStyleModel",
      "state": {
       "description_width": ""
      }
     },
     "fbb627e396244ef0bd1fced4df489b87": {
      "model_module": "@jupyter-widgets/controls",
      "model_module_version": "1.4.0",
      "model_name": "CheckboxModel",
      "state": {
       "disabled": false,
       "layout": "IPY_MODEL_68fd5718436342a2bcfdc4be804d6d9d",
       "style": "IPY_MODEL_7087c6744b424addb4e1402fed02ef09",
       "value": false
      }
     },
     "fbcbe55473ec4b21ba31da2b7485c140": {
      "model_module": "@jupyter-widgets/controls",
      "model_module_version": "1.4.0",
      "model_name": "DescriptionStyleModel",
      "state": {
       "description_width": ""
      }
     },
     "fbebd8d5e5a347ff86a6adad397fd07b": {
      "model_module": "@jupyter-widgets/controls",
      "model_module_version": "1.4.0",
      "model_name": "DescriptionStyleModel",
      "state": {
       "description_width": ""
      }
     },
     "fc00ed81087d4f4eb0a0032aa3cbb5f9": {
      "model_module": "@jupyter-widgets/controls",
      "model_module_version": "1.4.0",
      "model_name": "DescriptionStyleModel",
      "state": {
       "description_width": ""
      }
     },
     "fc45579cfaf14374bbce7d54631a48f2": {
      "model_module": "@jupyter-widgets/controls",
      "model_module_version": "1.4.0",
      "model_name": "CheckboxModel",
      "state": {
       "disabled": false,
       "layout": "IPY_MODEL_05a900d0574d43bab594d44288bb8f50",
       "style": "IPY_MODEL_b91d368d5f8045d7acd8c9423d05339e",
       "value": false
      }
     },
     "fcaf389016414d038548b85b72b619a7": {
      "model_module": "@jupyter-widgets/controls",
      "model_module_version": "1.4.0",
      "model_name": "DescriptionStyleModel",
      "state": {
       "description_width": ""
      }
     },
     "fcdbf9d3f8784ddc8613bbaf20412451": {
      "model_module": "@jupyter-widgets/controls",
      "model_module_version": "1.4.0",
      "model_name": "DescriptionStyleModel",
      "state": {
       "description_width": ""
      }
     },
     "fcf8aff308364d79bf6147913f66d487": {
      "model_module": "@jupyter-widgets/controls",
      "model_module_version": "1.4.0",
      "model_name": "DescriptionStyleModel",
      "state": {
       "description_width": ""
      }
     },
     "fd323f697cbb43c8a628ae1c000c8df0": {
      "model_module": "@jupyter-widgets/controls",
      "model_module_version": "1.4.0",
      "model_name": "DescriptionStyleModel",
      "state": {
       "description_width": ""
      }
     },
     "fd59fb79d73741ed87241f37c9c67f7e": {
      "model_module": "@jupyter-widgets/controls",
      "model_module_version": "1.4.0",
      "model_name": "DescriptionStyleModel",
      "state": {
       "description_width": ""
      }
     },
     "fd66e0763475427f8e9bdb60bcbe1cdf": {
      "model_module": "@jupyter-widgets/base",
      "model_module_version": "1.1.0",
      "model_name": "LayoutModel",
      "state": {}
     },
     "fd68541d325540d1aead4db4e3ba6c63": {
      "model_module": "@jupyter-widgets/controls",
      "model_module_version": "1.4.0",
      "model_name": "DescriptionStyleModel",
      "state": {
       "description_width": ""
      }
     },
     "fd795eec019a481c9670c127dca1f299": {
      "model_module": "@jupyter-widgets/controls",
      "model_module_version": "1.4.0",
      "model_name": "DescriptionStyleModel",
      "state": {
       "description_width": ""
      }
     },
     "fe03cf548c5e4700b430ea897b63ac5a": {
      "model_module": "@jupyter-widgets/output",
      "model_module_version": "1.0.0",
      "model_name": "OutputModel",
      "state": {
       "layout": "IPY_MODEL_b3d6b814de4845d19631cf69e2af4638",
       "outputs": [
        {
         "name": "stderr",
         "output_type": "stream",
         "text": "/home/me/code/perso/notebooks/data-science-exercises/venv/lib/python3.7/site-packages/scipy/stats/stats.py:1713: FutureWarning: Using a non-tuple sequence for multidimensional indexing is deprecated; use `arr[tuple(seq)]` instead of `arr[seq]`. In the future this will be interpreted as an array index, `arr[np.array(seq)]`, which will result either in an error or a different result.\n  return np.add.reduce(sorted[indexer] * weights, axis=axis) / sumval\n"
        },
        {
         "data": {
          "image/png": "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\n",
          "text/plain": "<Figure size 432x288 with 1 Axes>"
         },
         "metadata": {},
         "output_type": "display_data"
        }
       ]
      }
     },
     "fe5c5eeb8b294ea09127b765052f7dea": {
      "model_module": "@jupyter-widgets/controls",
      "model_module_version": "1.4.0",
      "model_name": "FloatTextModel",
      "state": {
       "layout": "IPY_MODEL_dafe401e93d04e36acd475b882fd1560",
       "step": null,
       "style": "IPY_MODEL_65362c519f534aa89da7c79904d37167",
       "value": 1
      }
     },
     "fe96c57591144476ab8d9fd4b607916e": {
      "model_module": "@jupyter-widgets/base",
      "model_module_version": "1.1.0",
      "model_name": "LayoutModel",
      "state": {}
     },
     "fedac9cbde7546078c1e1ff7d351eefe": {
      "model_module": "@jupyter-widgets/controls",
      "model_module_version": "1.4.0",
      "model_name": "CheckboxModel",
      "state": {
       "disabled": false,
       "layout": "IPY_MODEL_ce36f980523d4fbf9303c6ae84d0f862",
       "style": "IPY_MODEL_e85bd2576abc4df490f21a633ea98b0f",
       "value": false
      }
     },
     "fedf20ecd89d4ba2a6bd6cacf2b8c7e5": {
      "model_module": "@jupyter-widgets/controls",
      "model_module_version": "1.4.0",
      "model_name": "CheckboxModel",
      "state": {
       "disabled": false,
       "layout": "IPY_MODEL_5a091de61c07432cb76fab43c92c56f5",
       "style": "IPY_MODEL_244bab9a5fda4c3383e6a1168a59c40c",
       "value": false
      }
     },
     "fef5a97776e64a1992f5f487d9ac1632": {
      "model_module": "@jupyter-widgets/output",
      "model_module_version": "1.0.0",
      "model_name": "OutputModel",
      "state": {
       "layout": "IPY_MODEL_5418d7ea9c494a20acf3173495ebe664",
       "outputs": [
        {
         "name": "stderr",
         "output_type": "stream",
         "text": "/home/me/code/perso/notebooks/data-science-exercises/venv/lib/python3.7/site-packages/scipy/stats/stats.py:1713: FutureWarning: Using a non-tuple sequence for multidimensional indexing is deprecated; use `arr[tuple(seq)]` instead of `arr[seq]`. In the future this will be interpreted as an array index, `arr[np.array(seq)]`, which will result either in an error or a different result.\n  return np.add.reduce(sorted[indexer] * weights, axis=axis) / sumval\n"
        },
        {
         "data": {
          "image/png": "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\n",
          "text/plain": "<Figure size 432x288 with 1 Axes>"
         },
         "metadata": {},
         "output_type": "display_data"
        }
       ]
      }
     },
     "ff1b94688ed744dc863e2360a31ab78c": {
      "model_module": "@jupyter-widgets/controls",
      "model_module_version": "1.4.0",
      "model_name": "HBoxModel",
      "state": {
       "children": [
        "IPY_MODEL_64519d362e9147bd96a7a70642c36b48"
       ],
       "layout": "IPY_MODEL_fadea0881f9840debc305e3668f37c9d"
      }
     },
     "ff644effe7374df4a67fc49647516d51": {
      "model_module": "@jupyter-widgets/controls",
      "model_module_version": "1.4.0",
      "model_name": "HBoxModel",
      "state": {
       "children": [
        "IPY_MODEL_807f1b38efe348ffb3b21fa1b964de7e"
       ],
       "layout": "IPY_MODEL_c04ac4c9f8294e91af03906d8bdc9abc"
      }
     },
     "ff97a63a903741bbbc12f3555f4136e3": {
      "model_module": "@jupyter-widgets/controls",
      "model_module_version": "1.4.0",
      "model_name": "DropdownModel",
      "state": {
       "_options_labels": [
        "x",
        "y",
        "capsize",
        "ci",
        "color",
        "errwidth",
        "hue",
        "n_boot",
        "orient",
        "palette",
        "saturation",
        "units"
       ],
       "description": "Add arg",
       "index": 1,
       "layout": "IPY_MODEL_68b1b403d762477d970a59ab91120f1b",
       "style": "IPY_MODEL_65c6a68d0c7547a0948223edf5c82daf"
      }
     },
     "ff9c9975b6354d948a9057629a7ef657": {
      "model_module": "@jupyter-widgets/controls",
      "model_module_version": "1.4.0",
      "model_name": "DropdownModel",
      "state": {
       "_options_labels": [
        "x",
        "y",
        "capsize",
        "ci",
        "color",
        "errwidth",
        "hue",
        "n_boot",
        "orient",
        "palette",
        "saturation",
        "units"
       ],
       "description": "Add arg",
       "index": null,
       "layout": "IPY_MODEL_9daabfa91fcc4ae08f4cc4095390a5c5",
       "style": "IPY_MODEL_250c5b9d43d1497686dc03fa6fe91a99"
      }
     }
    },
    "version_major": 2,
    "version_minor": 0
   }
  }
 },
 "nbformat": 4,
 "nbformat_minor": 2
}
