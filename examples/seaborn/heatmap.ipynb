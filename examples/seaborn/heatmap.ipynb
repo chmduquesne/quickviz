{
 "cells": [
  {
   "cell_type": "code",
   "execution_count": 1,
   "metadata": {},
   "outputs": [
    {
     "data": {
      "application/vnd.jupyter.widget-view+json": {
       "model_id": "17d0ec2932d147d49862be61205f55f0",
       "version_major": 2,
       "version_minor": 0
      },
      "text/plain": [
       "VBox()"
      ]
     },
     "metadata": {},
     "output_type": "display_data"
    },
    {
     "data": {
      "application/vnd.jupyter.widget-view+json": {
       "model_id": "43024e33c8a74f4a8675f4c818e4f52b",
       "version_major": 2,
       "version_minor": 0
      },
      "text/plain": [
       "Output()"
      ]
     },
     "metadata": {},
     "output_type": "display_data"
    },
    {
     "data": {
      "text/plain": [
       "<quickviz.quickviz.UI at 0x7f6063860b00>"
      ]
     },
     "execution_count": 1,
     "metadata": {},
     "output_type": "execute_result"
    }
   ],
   "source": [
    "%matplotlib inline\n",
    "\n",
    "from quickviz import visualize as v\n",
    "from vega_datasets import data\n",
    "\n",
    "github = data.github()\n",
    "github[\"month\"] = github[\"time\"].map(lambda t: t.month)\n",
    "github[\"day\"] = github[\"time\"].map(lambda t: t.day)\n",
    "per_day = github.groupby([\"month\", \"day\"]).sum()\n",
    "heatmap = per_day.reset_index().pivot(\"month\", \"day\", \"count\")\n",
    "v(heatmap)"
   ]
  }
 ],
 "metadata": {
  "kernelspec": {
   "display_name": "Python 3",
   "language": "python",
   "name": "python3"
  },
  "language_info": {
   "codemirror_mode": {
    "name": "ipython",
    "version": 3
   },
   "file_extension": ".py",
   "mimetype": "text/x-python",
   "name": "python",
   "nbconvert_exporter": "python",
   "pygments_lexer": "ipython3",
   "version": "3.7.0"
  },
  "widgets": {
   "application/vnd.jupyter.widget-state+json": {
    "state": {
     "003ec1247ec0494b9585ecb288707e52": {
      "model_module": "@jupyter-widgets/base",
      "model_module_version": "1.1.0",
      "model_name": "LayoutModel",
      "state": {}
     },
     "0041e91f702f40cfbb677ba89cdae514": {
      "model_module": "@jupyter-widgets/controls",
      "model_module_version": "1.4.0",
      "model_name": "FloatTextModel",
      "state": {
       "description": "cut",
       "layout": "IPY_MODEL_26df628cd8804b53909a0f60453a9983",
       "step": null,
       "style": "IPY_MODEL_380e6350b21142b7b8a6dfe0c7d47b44",
       "value": 1
      }
     },
     "00527df3074247558b76e28133ace2d1": {
      "model_module": "@jupyter-widgets/controls",
      "model_module_version": "1.4.0",
      "model_name": "FloatTextModel",
      "state": {
       "description": "capsize",
       "layout": "IPY_MODEL_499db478b843481f985d0b16e56202f6",
       "step": null,
       "style": "IPY_MODEL_3f3c4e8760ad481da8c25cc004be1eea",
       "value": 1
      }
     },
     "00b36e002c4a4fb78bd2b266a51b199e": {
      "model_module": "@jupyter-widgets/controls",
      "model_module_version": "1.4.0",
      "model_name": "DropdownModel",
      "state": {
       "_options_labels": [
        "1",
        "2",
        "3",
        "4",
        "5",
        "6",
        "7",
        "8",
        "9",
        "10",
        "11",
        "12",
        "13",
        "14",
        "15",
        "16",
        "17",
        "18",
        "19",
        "20",
        "21",
        "22",
        "23",
        "24",
        "25",
        "26",
        "27",
        "28",
        "29",
        "30",
        "31"
       ],
       "description": "x_partial",
       "index": 0,
       "layout": "IPY_MODEL_7b176fc132274e3aa288f504f51fcdf1",
       "style": "IPY_MODEL_806f104df754494e88ffea872e10f878"
      }
     },
     "010d55f56f044d2f8a1c8a7abb50bf93": {
      "model_module": "@jupyter-widgets/base",
      "model_module_version": "1.1.0",
      "model_name": "LayoutModel",
      "state": {}
     },
     "01133dd8a63e4e31b7e789895626f07d": {
      "model_module": "@jupyter-widgets/controls",
      "model_module_version": "1.4.0",
      "model_name": "DescriptionStyleModel",
      "state": {
       "description_width": ""
      }
     },
     "01216a7f24d94c8286b67e69e64ff8f6": {
      "model_module": "@jupyter-widgets/controls",
      "model_module_version": "1.4.0",
      "model_name": "DescriptionStyleModel",
      "state": {
       "description_width": ""
      }
     },
     "013b8c0cf2d6437485d65fff8e32a2d8": {
      "model_module": "@jupyter-widgets/controls",
      "model_module_version": "1.4.0",
      "model_name": "IntTextModel",
      "state": {
       "description": "space",
       "layout": "IPY_MODEL_34fc9ec11e40439aa455a73cc927adce",
       "step": 1,
       "style": "IPY_MODEL_bc7fb0327c114424ad4b15aac00635aa",
       "value": 1
      }
     },
     "01b0f6ac84dc4d46897cc7d939a2118d": {
      "model_module": "@jupyter-widgets/base",
      "model_module_version": "1.1.0",
      "model_name": "LayoutModel",
      "state": {}
     },
     "01c26fe34da04980917766c30824f744": {
      "model_module": "@jupyter-widgets/base",
      "model_module_version": "1.1.0",
      "model_name": "LayoutModel",
      "state": {}
     },
     "01cb63d09d14453ab2e70bced37acf09": {
      "model_module": "@jupyter-widgets/controls",
      "model_module_version": "1.4.0",
      "model_name": "DropdownModel",
      "state": {
       "_options_labels": [
        "1",
        "2",
        "3",
        "4",
        "5",
        "6",
        "7",
        "8",
        "9",
        "10",
        "11",
        "12",
        "13",
        "14",
        "15",
        "16",
        "17",
        "18",
        "19",
        "20",
        "21",
        "22",
        "23",
        "24",
        "25",
        "26",
        "27",
        "28",
        "29",
        "30",
        "31"
       ],
       "description": "hue",
       "index": 0,
       "layout": "IPY_MODEL_9ee7621c513240dbbe7832908552288f",
       "style": "IPY_MODEL_1961814ce1c74d338280ecf0a30b622c"
      }
     },
     "0226157520514d9e9e984277bf106240": {
      "model_module": "@jupyter-widgets/base",
      "model_module_version": "1.1.0",
      "model_name": "LayoutModel",
      "state": {}
     },
     "0298f917f77a4ba698929c7433efc12f": {
      "model_module": "@jupyter-widgets/base",
      "model_module_version": "1.1.0",
      "model_name": "LayoutModel",
      "state": {}
     },
     "03291a3a6c194d719dd26d2d958da0d4": {
      "model_module": "@jupyter-widgets/base",
      "model_module_version": "1.1.0",
      "model_name": "LayoutModel",
      "state": {}
     },
     "04934bf25aec4081bdbd20ab17119255": {
      "model_module": "@jupyter-widgets/base",
      "model_module_version": "1.1.0",
      "model_name": "LayoutModel",
      "state": {}
     },
     "04a0b4b5b3b5490cbc6f95393504667e": {
      "model_module": "@jupyter-widgets/controls",
      "model_module_version": "1.4.0",
      "model_name": "FloatTextModel",
      "state": {
       "description": "saturation",
       "layout": "IPY_MODEL_0298f917f77a4ba698929c7433efc12f",
       "step": null,
       "style": "IPY_MODEL_c021656ec2cf4f14a35ee3f19a399c38",
       "value": 1
      }
     },
     "04c2b3523d7b4bc1962026049e78edf5": {
      "model_module": "@jupyter-widgets/base",
      "model_module_version": "1.1.0",
      "model_name": "LayoutModel",
      "state": {}
     },
     "05b6d728adec4689b8d2a6df15d6da08": {
      "model_module": "@jupyter-widgets/base",
      "model_module_version": "1.1.0",
      "model_name": "LayoutModel",
      "state": {}
     },
     "05e2643de05c45d09d9bd9ce714a917e": {
      "model_module": "@jupyter-widgets/base",
      "model_module_version": "1.1.0",
      "model_name": "LayoutModel",
      "state": {}
     },
     "065f1a8a62cc4090b9cd5efe98ac0ab9": {
      "model_module": "@jupyter-widgets/base",
      "model_module_version": "1.1.0",
      "model_name": "LayoutModel",
      "state": {}
     },
     "0742c2b7826248d2bc08066e9864755f": {
      "model_module": "@jupyter-widgets/base",
      "model_module_version": "1.1.0",
      "model_name": "LayoutModel",
      "state": {}
     },
     "077256e133c44d17b2f207768ba592f0": {
      "model_module": "@jupyter-widgets/controls",
      "model_module_version": "1.4.0",
      "model_name": "DescriptionStyleModel",
      "state": {
       "description_width": ""
      }
     },
     "07b8c78cf06442a283bf67d5e8c8af25": {
      "model_module": "@jupyter-widgets/controls",
      "model_module_version": "1.4.0",
      "model_name": "DescriptionStyleModel",
      "state": {
       "description_width": ""
      }
     },
     "0845df79491046e2bf1564f78a4f5657": {
      "model_module": "@jupyter-widgets/base",
      "model_module_version": "1.1.0",
      "model_name": "LayoutModel",
      "state": {}
     },
     "09a517b8f04c4d13a44dfc2dd82e930a": {
      "model_module": "@jupyter-widgets/base",
      "model_module_version": "1.1.0",
      "model_name": "LayoutModel",
      "state": {}
     },
     "09d47020d272458aa247fb68ff1d9797": {
      "model_module": "@jupyter-widgets/controls",
      "model_module_version": "1.4.0",
      "model_name": "DescriptionStyleModel",
      "state": {
       "description_width": ""
      }
     },
     "09ef6405acfe462ba8aada64bdec6eef": {
      "model_module": "@jupyter-widgets/base",
      "model_module_version": "1.1.0",
      "model_name": "LayoutModel",
      "state": {}
     },
     "0a3d073bc2274254a281af33689003ae": {
      "model_module": "@jupyter-widgets/base",
      "model_module_version": "1.1.0",
      "model_name": "LayoutModel",
      "state": {}
     },
     "0a86bb9887244031bad6f3d58fd3bcdf": {
      "model_module": "@jupyter-widgets/base",
      "model_module_version": "1.1.0",
      "model_name": "LayoutModel",
      "state": {}
     },
     "0b02493be48645169ba79ee7a1a4ee75": {
      "model_module": "@jupyter-widgets/controls",
      "model_module_version": "1.4.0",
      "model_name": "DescriptionStyleModel",
      "state": {
       "description_width": ""
      }
     },
     "0b89843554734b2f9925bbffe01877d8": {
      "model_module": "@jupyter-widgets/controls",
      "model_module_version": "1.4.0",
      "model_name": "CheckboxModel",
      "state": {
       "description": "robust",
       "disabled": false,
       "layout": "IPY_MODEL_ab02b283a6494a709d1041966f7b1793",
       "style": "IPY_MODEL_8d3fff8849994e95b3acd0242d290334",
       "value": false
      }
     },
     "0c2b4ad451cb43ea8083f3518f7a3f10": {
      "model_module": "@jupyter-widgets/controls",
      "model_module_version": "1.4.0",
      "model_name": "IntSliderModel",
      "state": {
       "description": "ci",
       "layout": "IPY_MODEL_c2b8a84221074cb7a66bb7ec470ef769",
       "style": "IPY_MODEL_dd7f3b9c72314408b19837ec5404d897",
       "value": 95
      }
     },
     "0ca8051d6fe44e6082aec81a1007ee38": {
      "model_module": "@jupyter-widgets/controls",
      "model_module_version": "1.4.0",
      "model_name": "DescriptionStyleModel",
      "state": {
       "description_width": ""
      }
     },
     "0cbd88377ea748bb9f3322704778f702": {
      "model_module": "@jupyter-widgets/base",
      "model_module_version": "1.1.0",
      "model_name": "LayoutModel",
      "state": {}
     },
     "0cf581459f73418386b4277aa54463a8": {
      "model_module": "@jupyter-widgets/base",
      "model_module_version": "1.1.0",
      "model_name": "LayoutModel",
      "state": {}
     },
     "0cfdbadfb0ac45afae31a6b7783db623": {
      "model_module": "@jupyter-widgets/controls",
      "model_module_version": "1.4.0",
      "model_name": "DescriptionStyleModel",
      "state": {
       "description_width": ""
      }
     },
     "0d9617f57d0845e197e594af3e9afafd": {
      "model_module": "@jupyter-widgets/controls",
      "model_module_version": "1.4.0",
      "model_name": "DropdownModel",
      "state": {
       "_options_labels": [
        "auto",
        "hist",
        "kde"
       ],
       "description": "diag_kind",
       "index": 0,
       "layout": "IPY_MODEL_166e698db4ec46a284ff13a7f5b22d4c",
       "style": "IPY_MODEL_825b50c45b0047a5b5eff3ad36779712"
      }
     },
     "0dfa9d16798d43e8aec2be367c6ba4ea": {
      "model_module": "@jupyter-widgets/controls",
      "model_module_version": "1.4.0",
      "model_name": "DescriptionStyleModel",
      "state": {
       "description_width": ""
      }
     },
     "0eaf7bb4d66647529df129db34faf310": {
      "model_module": "@jupyter-widgets/base",
      "model_module_version": "1.1.0",
      "model_name": "LayoutModel",
      "state": {}
     },
     "10bbe46f6ae44ed28470bd193ac12775": {
      "model_module": "@jupyter-widgets/controls",
      "model_module_version": "1.4.0",
      "model_name": "DescriptionStyleModel",
      "state": {
       "description_width": ""
      }
     },
     "1154e4042b374ebf8ef6bd22c7a9754d": {
      "model_module": "@jupyter-widgets/controls",
      "model_module_version": "1.4.0",
      "model_name": "DropdownModel",
      "state": {
       "_options_labels": [
        "barplot",
        "boxenplot",
        "boxplot",
        "catplot",
        "countplot",
        "distplot",
        "heatmap",
        "jointplot",
        "kdeplot",
        "lineplot",
        "lmplot",
        "pairplot",
        "pointplot",
        "regplot",
        "relplot",
        "residplot",
        "scatterplot",
        "stripplot",
        "swarmplot",
        "violinplot"
       ],
       "description": "Plot",
       "index": 6,
       "layout": "IPY_MODEL_b5cd4dc2dd6b4f56a6cfae1fffeac5e4",
       "style": "IPY_MODEL_b1a8723ea8f24ceba717f6273d1ee268"
      }
     },
     "11659534298548afb9283ba76128690a": {
      "model_module": "@jupyter-widgets/base",
      "model_module_version": "1.1.0",
      "model_name": "LayoutModel",
      "state": {}
     },
     "1196dd97f2a048e3b2bcacc543a8cd0a": {
      "model_module": "@jupyter-widgets/controls",
      "model_module_version": "1.4.0",
      "model_name": "CheckboxModel",
      "state": {
       "description": "square",
       "disabled": false,
       "layout": "IPY_MODEL_ad29a9532ade46cd9c5ea632fb48e4b2",
       "style": "IPY_MODEL_11e21635249047478172881a11120e38",
       "value": false
      }
     },
     "11c58c75563143c69ede329968e2d4c9": {
      "model_module": "@jupyter-widgets/base",
      "model_module_version": "1.1.0",
      "model_name": "LayoutModel",
      "state": {}
     },
     "11e21635249047478172881a11120e38": {
      "model_module": "@jupyter-widgets/controls",
      "model_module_version": "1.4.0",
      "model_name": "DescriptionStyleModel",
      "state": {
       "description_width": ""
      }
     },
     "11e9d50894664f2fb04860f9abc1457a": {
      "model_module": "@jupyter-widgets/controls",
      "model_module_version": "1.4.0",
      "model_name": "CheckboxModel",
      "state": {
       "description": "dropna",
       "disabled": false,
       "layout": "IPY_MODEL_b960133acff5405da9eb1e4d1b54f63b",
       "style": "IPY_MODEL_30fb25f7300e45089864ba59d2e27a49",
       "value": false
      }
     },
     "124c7d61006d43e896ce177693cdc034": {
      "model_module": "@jupyter-widgets/controls",
      "model_module_version": "1.4.0",
      "model_name": "DropdownModel",
      "state": {
       "_options_labels": [
        "1",
        "2",
        "3",
        "4",
        "5",
        "6",
        "7",
        "8",
        "9",
        "10",
        "11",
        "12",
        "13",
        "14",
        "15",
        "16",
        "17",
        "18",
        "19",
        "20",
        "21",
        "22",
        "23",
        "24",
        "25",
        "26",
        "27",
        "28",
        "29",
        "30",
        "31"
       ],
       "description": "y",
       "index": 0,
       "layout": "IPY_MODEL_26448c806c24401cb15d856ddf5896fe",
       "style": "IPY_MODEL_8e4ed59013f641ac84ea8dfb426308cc"
      }
     },
     "12cf80cb69914892805ad7ce0cf7f178": {
      "model_module": "@jupyter-widgets/controls",
      "model_module_version": "1.4.0",
      "model_name": "DescriptionStyleModel",
      "state": {
       "description_width": ""
      }
     },
     "1390961ccfd748aebf2777b98b7d18b8": {
      "model_module": "@jupyter-widgets/base",
      "model_module_version": "1.1.0",
      "model_name": "LayoutModel",
      "state": {}
     },
     "13c7f34fb9f54265b5cc21c142e5c757": {
      "model_module": "@jupyter-widgets/controls",
      "model_module_version": "1.4.0",
      "model_name": "DescriptionStyleModel",
      "state": {
       "description_width": ""
      }
     },
     "13da6fbb78a34dd8af624eafe82b863d": {
      "model_module": "@jupyter-widgets/controls",
      "model_module_version": "1.4.0",
      "model_name": "CheckboxModel",
      "state": {
       "description": "shade_lowest",
       "disabled": false,
       "layout": "IPY_MODEL_1e7f4d0826874aa78829044173a22dfa",
       "style": "IPY_MODEL_b26761d85f47457d9b46e23c2556c91b",
       "value": false
      }
     },
     "141def824bad4beebc3fced57a8a0948": {
      "model_module": "@jupyter-widgets/base",
      "model_module_version": "1.1.0",
      "model_name": "LayoutModel",
      "state": {}
     },
     "1452625acb4d4e9f9e532c3adb9b39b1": {
      "model_module": "@jupyter-widgets/controls",
      "model_module_version": "1.4.0",
      "model_name": "DescriptionStyleModel",
      "state": {
       "description_width": ""
      }
     },
     "149283245b1e4aa189fbb7315cd1e3b0": {
      "model_module": "@jupyter-widgets/base",
      "model_module_version": "1.1.0",
      "model_name": "LayoutModel",
      "state": {}
     },
     "14fbd4c6ae1347ee9e211bc2e3b1848b": {
      "model_module": "@jupyter-widgets/base",
      "model_module_version": "1.1.0",
      "model_name": "LayoutModel",
      "state": {}
     },
     "1570d02eed20470bbf23a30d8284dadf": {
      "model_module": "@jupyter-widgets/base",
      "model_module_version": "1.1.0",
      "model_name": "LayoutModel",
      "state": {}
     },
     "160dbe7734994ac198edc1d0f855691a": {
      "model_module": "@jupyter-widgets/controls",
      "model_module_version": "1.4.0",
      "model_name": "DescriptionStyleModel",
      "state": {
       "description_width": ""
      }
     },
     "166e698db4ec46a284ff13a7f5b22d4c": {
      "model_module": "@jupyter-widgets/base",
      "model_module_version": "1.1.0",
      "model_name": "LayoutModel",
      "state": {}
     },
     "16778f4b68ef431b80c6786636b3aaab": {
      "model_module": "@jupyter-widgets/controls",
      "model_module_version": "1.4.0",
      "model_name": "DropdownModel",
      "state": {
       "_options_labels": [
        "scott",
        "silverman"
       ],
       "description": "bw",
       "index": 0,
       "layout": "IPY_MODEL_f40e3796f319474597865c0a846d1960",
       "style": "IPY_MODEL_ad04f3debbce421c841a9eb84d20be98"
      }
     },
     "1689fc574d854fcf87aef6d7f780ea09": {
      "model_module": "@jupyter-widgets/controls",
      "model_module_version": "1.4.0",
      "model_name": "CheckboxModel",
      "state": {
       "description": "cbar",
       "disabled": false,
       "layout": "IPY_MODEL_1390961ccfd748aebf2777b98b7d18b8",
       "style": "IPY_MODEL_5e672d7e987c48cbb729bd1fd4b1a023",
       "value": false
      }
     },
     "171b3b2f505e4ca39e254d97482277ec": {
      "model_module": "@jupyter-widgets/controls",
      "model_module_version": "1.4.0",
      "model_name": "DescriptionStyleModel",
      "state": {
       "description_width": ""
      }
     },
     "17278c3844064866a0c021eb8b72a220": {
      "model_module": "@jupyter-widgets/controls",
      "model_module_version": "1.4.0",
      "model_name": "DescriptionStyleModel",
      "state": {
       "description_width": ""
      }
     },
     "17453afdab574edbbd5ece713a8688f4": {
      "model_module": "@jupyter-widgets/base",
      "model_module_version": "1.1.0",
      "model_name": "LayoutModel",
      "state": {}
     },
     "17d0ec2932d147d49862be61205f55f0": {
      "model_module": "@jupyter-widgets/controls",
      "model_module_version": "1.4.0",
      "model_name": "VBoxModel",
      "state": {
       "children": [
        "IPY_MODEL_7d515a7989374b338add1709256d82a7",
        "IPY_MODEL_5f67ef8ccf834f39939047c2b75d7419",
        "IPY_MODEL_91bd3a9efee742de83f58da86f2cb033",
        "IPY_MODEL_1154e4042b374ebf8ef6bd22c7a9754d"
       ],
       "layout": "IPY_MODEL_93e3715f573e48b6abd75ed19d65d601"
      }
     },
     "17e3e8992e764167a4dd01ac8c6ac65e": {
      "model_module": "@jupyter-widgets/controls",
      "model_module_version": "1.4.0",
      "model_name": "TextModel",
      "state": {
       "description": "fmt",
       "layout": "IPY_MODEL_7de1402ccc46441a9e98abeff73fbfac",
       "style": "IPY_MODEL_6c1ced30e5e9451b9edb6ce7314d2dc9"
      }
     },
     "17fa000677524f2fbee59f2ea0cb373e": {
      "model_module": "@jupyter-widgets/base",
      "model_module_version": "1.1.0",
      "model_name": "LayoutModel",
      "state": {}
     },
     "18001ac1116d4a5da534cf6ac562989e": {
      "model_module": "@jupyter-widgets/controls",
      "model_module_version": "1.4.0",
      "model_name": "DescriptionStyleModel",
      "state": {
       "description_width": ""
      }
     },
     "188658b8ae4f422c9eb68044b38899ea": {
      "model_module": "@jupyter-widgets/controls",
      "model_module_version": "1.4.0",
      "model_name": "DescriptionStyleModel",
      "state": {
       "description_width": ""
      }
     },
     "18dd6b890bcc48cd980936dff2fc9d5f": {
      "model_module": "@jupyter-widgets/base",
      "model_module_version": "1.1.0",
      "model_name": "LayoutModel",
      "state": {}
     },
     "1905d18fa1904c048ac7b157965ebfbc": {
      "model_module": "@jupyter-widgets/controls",
      "model_module_version": "1.4.0",
      "model_name": "FloatTextModel",
      "state": {
       "description": "aspect",
       "layout": "IPY_MODEL_91a8ef91c4fa4270a71fefbe98df9710",
       "step": null,
       "style": "IPY_MODEL_baa09bc9a52243fa94707ca6477c8b6e",
       "value": 1
      }
     },
     "1957662260d24193bbbc9326c73d6ec1": {
      "model_module": "@jupyter-widgets/controls",
      "model_module_version": "1.4.0",
      "model_name": "LabelModel",
      "state": {
       "layout": "IPY_MODEL_38e35ffa4a5a4de1a4bfe5bfb23ce6de",
       "style": "IPY_MODEL_33be7ddd7b5a47ac8494a9ccb10f3baf",
       "value": "---"
      }
     },
     "195cb5fbf57442b189e3f7ec46c2a53e": {
      "model_module": "@jupyter-widgets/controls",
      "model_module_version": "1.4.0",
      "model_name": "DropdownModel",
      "state": {
       "_options_labels": [
        "1",
        "2",
        "3",
        "4",
        "5",
        "6",
        "7",
        "8",
        "9",
        "10",
        "11",
        "12",
        "13",
        "14",
        "15",
        "16",
        "17",
        "18",
        "19",
        "20",
        "21",
        "22",
        "23",
        "24",
        "25",
        "26",
        "27",
        "28",
        "29",
        "30",
        "31"
       ],
       "description": "hue",
       "index": 0,
       "layout": "IPY_MODEL_af5b688f526c4e20882dd50bea9355b8",
       "style": "IPY_MODEL_3dd7ea3001874d42b48e3f5b9de32f65"
      }
     },
     "1961814ce1c74d338280ecf0a30b622c": {
      "model_module": "@jupyter-widgets/controls",
      "model_module_version": "1.4.0",
      "model_name": "DescriptionStyleModel",
      "state": {
       "description_width": ""
      }
     },
     "19847492bb2140d4bcd0ccf86e3dbd14": {
      "model_module": "@jupyter-widgets/base",
      "model_module_version": "1.1.0",
      "model_name": "LayoutModel",
      "state": {}
     },
     "1a2e02c7773f4e188d94f87799001100": {
      "model_module": "@jupyter-widgets/controls",
      "model_module_version": "1.4.0",
      "model_name": "DropdownModel",
      "state": {
       "_options_labels": [
        "box",
        "quartile",
        "point",
        "stick"
       ],
       "description": "inner",
       "index": 0,
       "layout": "IPY_MODEL_ead42430d463458899d3ff00e55709ed",
       "style": "IPY_MODEL_f3c62296cfd74cc883dc810dac674758"
      }
     },
     "1acc29ce897741b9b61731e3cbb2dd29": {
      "model_module": "@jupyter-widgets/controls",
      "model_module_version": "1.4.0",
      "model_name": "DescriptionStyleModel",
      "state": {
       "description_width": ""
      }
     },
     "1b536408a9b04ed5bf96ecc2782d7f5a": {
      "model_module": "@jupyter-widgets/controls",
      "model_module_version": "1.4.0",
      "model_name": "CheckboxModel",
      "state": {
       "description": "square",
       "disabled": false,
       "layout": "IPY_MODEL_6b0cdbaa3b0f4ec08376fcb1601d6009",
       "style": "IPY_MODEL_1c6769be94fb4cb6aec98b7d8dc5efd1",
       "value": false
      }
     },
     "1b6aba047a8d420ebe8ce67714d97801": {
      "model_module": "@jupyter-widgets/base",
      "model_module_version": "1.1.0",
      "model_name": "LayoutModel",
      "state": {}
     },
     "1c1afde449374c18b00fe6f750de0b9e": {
      "model_module": "@jupyter-widgets/controls",
      "model_module_version": "1.4.0",
      "model_name": "IntTextModel",
      "state": {
       "description": "x_bins",
       "layout": "IPY_MODEL_bc8636665c4d44a5b94edcf113ace447",
       "step": 1,
       "style": "IPY_MODEL_88e7426b0e0a46998f2402cde02a732e",
       "value": 10
      }
     },
     "1c4d9d5199044480a3771051c033d336": {
      "model_module": "@jupyter-widgets/controls",
      "model_module_version": "1.4.0",
      "model_name": "CheckboxModel",
      "state": {
       "description": "shade",
       "disabled": false,
       "layout": "IPY_MODEL_b04f0debfcc045be81a3ccd90eb1a0b7",
       "style": "IPY_MODEL_eab9c80c6de2473ca8fd7e443a63d38e",
       "value": false
      }
     },
     "1c6769be94fb4cb6aec98b7d8dc5efd1": {
      "model_module": "@jupyter-widgets/controls",
      "model_module_version": "1.4.0",
      "model_name": "DescriptionStyleModel",
      "state": {
       "description_width": ""
      }
     },
     "1c9046593c914234ba88060aad31bbac": {
      "model_module": "@jupyter-widgets/base",
      "model_module_version": "1.1.0",
      "model_name": "LayoutModel",
      "state": {}
     },
     "1cbe2062e9c048569e6c686e268a0368": {
      "model_module": "@jupyter-widgets/base",
      "model_module_version": "1.1.0",
      "model_name": "LayoutModel",
      "state": {}
     },
     "1e40c0cb69f449ffb52225912333c647": {
      "model_module": "@jupyter-widgets/controls",
      "model_module_version": "1.4.0",
      "model_name": "CheckboxModel",
      "state": {
       "description": "cbar",
       "disabled": false,
       "layout": "IPY_MODEL_3e528c828cc24b03be2296fc7051e7e8",
       "style": "IPY_MODEL_9cc9d177a1344aa8aa4d308707f9712e",
       "value": false
      }
     },
     "1e572a03ab0646e99b01b7e7f0e8c859": {
      "model_module": "@jupyter-widgets/controls",
      "model_module_version": "1.4.0",
      "model_name": "CheckboxModel",
      "state": {
       "description": "legend_out",
       "disabled": false,
       "layout": "IPY_MODEL_661b05d3911f4947b0a59bd96e3a5d8b",
       "style": "IPY_MODEL_e9631db3e07d4ce3b2dde01138db517b",
       "value": false
      }
     },
     "1e7c75322d2041b3a9d6e5b7f142a745": {
      "model_module": "@jupyter-widgets/controls",
      "model_module_version": "1.4.0",
      "model_name": "HBoxModel",
      "state": {
       "children": [
        "IPY_MODEL_34fb785938634b98a8bed9b886f640e8",
        "IPY_MODEL_e26a0525104d4a87a1dd09a06ec62718"
       ],
       "layout": "IPY_MODEL_eed14040be7f419082add6a06215a18f"
      }
     },
     "1e7f4d0826874aa78829044173a22dfa": {
      "model_module": "@jupyter-widgets/base",
      "model_module_version": "1.1.0",
      "model_name": "LayoutModel",
      "state": {}
     },
     "205103ab15474d71b07e98702a9a9cca": {
      "model_module": "@jupyter-widgets/controls",
      "model_module_version": "1.4.0",
      "model_name": "DropdownModel",
      "state": {
       "_options_labels": [
        "o",
        "v",
        "^",
        "<",
        ">",
        "8",
        "s",
        "p",
        "*",
        "h",
        "H",
        "D",
        "d",
        "P",
        "X"
       ],
       "description": "marker",
       "index": 0,
       "layout": "IPY_MODEL_999b1e7c6e4042fab26adc1d43bee51c",
       "style": "IPY_MODEL_fbf166a49f4c417b8b603a75b94bbd4e"
      }
     },
     "20849334a7a84e928e6afaa566ad28ed": {
      "model_module": "@jupyter-widgets/controls",
      "model_module_version": "1.4.0",
      "model_name": "DescriptionStyleModel",
      "state": {
       "description_width": ""
      }
     },
     "20b6a509cc36499184a0ea33b95ab167": {
      "model_module": "@jupyter-widgets/controls",
      "model_module_version": "1.4.0",
      "model_name": "DescriptionStyleModel",
      "state": {
       "description_width": ""
      }
     },
     "2148248df63f4cccab5d70026754bbf5": {
      "model_module": "@jupyter-widgets/base",
      "model_module_version": "1.1.0",
      "model_name": "LayoutModel",
      "state": {}
     },
     "2184ce2ed12e465ea7fb8e3304ab903e": {
      "model_module": "@jupyter-widgets/controls",
      "model_module_version": "1.4.0",
      "model_name": "IntTextModel",
      "state": {
       "description": "order",
       "layout": "IPY_MODEL_70cebfe9f7ac4997ab55595b1ad01025",
       "step": 1,
       "style": "IPY_MODEL_6c40c83664c3499ca1b56b539753512b",
       "value": 1
      }
     },
     "226e4ec335ec4acc95e768a8f2cad130": {
      "model_module": "@jupyter-widgets/controls",
      "model_module_version": "1.4.0",
      "model_name": "DropdownModel",
      "state": {
       "_options_labels": [
        "o",
        "v",
        "^",
        "<",
        ">",
        "8",
        "s",
        "p",
        "*",
        "h",
        "H",
        "D",
        "d",
        "P",
        "X"
       ],
       "description": "marker",
       "index": 0,
       "layout": "IPY_MODEL_1b6aba047a8d420ebe8ce67714d97801",
       "style": "IPY_MODEL_e347c683411a4081bfa2f3571d9533c9"
      }
     },
     "228be1a17e984a7d9f5a8c7a7fff9e10": {
      "model_module": "@jupyter-widgets/base",
      "model_module_version": "1.1.0",
      "model_name": "LayoutModel",
      "state": {}
     },
     "22b16c2d4dd545cc9ef11cfaf4f98500": {
      "model_module": "@jupyter-widgets/controls",
      "model_module_version": "1.4.0",
      "model_name": "DescriptionStyleModel",
      "state": {
       "description_width": ""
      }
     },
     "22bdb420b58c49ab837299189fab6abb": {
      "model_module": "@jupyter-widgets/base",
      "model_module_version": "1.1.0",
      "model_name": "LayoutModel",
      "state": {}
     },
     "22c070fc1d7c4ae2ac90c441c509871e": {
      "model_module": "@jupyter-widgets/controls",
      "model_module_version": "1.4.0",
      "model_name": "DescriptionStyleModel",
      "state": {
       "description_width": ""
      }
     },
     "23a3a98e856e4f1a8cd977212aba2b02": {
      "model_module": "@jupyter-widgets/controls",
      "model_module_version": "1.4.0",
      "model_name": "DropdownModel",
      "state": {
       "_options_labels": [
        "linear",
        "exponential",
        "area"
       ],
       "description": "scale",
       "index": 0,
       "layout": "IPY_MODEL_ff53f7446e834bd38e6e0a60d34b5628",
       "style": "IPY_MODEL_10bbe46f6ae44ed28470bd193ac12775"
      }
     },
     "23cce3abb67c4256ad4c9abcf5e3637f": {
      "model_module": "@jupyter-widgets/base",
      "model_module_version": "1.1.0",
      "model_name": "LayoutModel",
      "state": {}
     },
     "24232f04f5294e13939ed1897ab0809a": {
      "model_module": "@jupyter-widgets/controls",
      "model_module_version": "1.4.0",
      "model_name": "IntTextModel",
      "state": {
       "description": "space",
       "layout": "IPY_MODEL_9f8f4d77bab8491494c68fc4e42361ca",
       "step": 1,
       "style": "IPY_MODEL_b6b14666cffc484ab9cc1dcb839df8f6",
       "value": 1
      }
     },
     "24596155808b42829f18ddb9a6708f88": {
      "model_module": "@jupyter-widgets/controls",
      "model_module_version": "1.4.0",
      "model_name": "DropdownModel",
      "state": {
       "_options_labels": [
        "1",
        "2",
        "3",
        "4",
        "5",
        "6",
        "7",
        "8",
        "9",
        "10",
        "11",
        "12",
        "13",
        "14",
        "15",
        "16",
        "17",
        "18",
        "19",
        "20",
        "21",
        "22",
        "23",
        "24",
        "25",
        "26",
        "27",
        "28",
        "29",
        "30",
        "31"
       ],
       "description": "row",
       "index": 0,
       "layout": "IPY_MODEL_f3554df7b41f406ab1ed32a2642ec336",
       "style": "IPY_MODEL_01133dd8a63e4e31b7e789895626f07d"
      }
     },
     "25498ff9358240f7913ef935755fdf1a": {
      "model_module": "@jupyter-widgets/controls",
      "model_module_version": "1.4.0",
      "model_name": "LabelModel",
      "state": {
       "layout": "IPY_MODEL_b716f2fcdc714d91bedd67a9e6f76205",
       "style": "IPY_MODEL_98b6689aaa9c495dbb7e4c6816596008",
       "value": "---"
      }
     },
     "256cfde4ebc94d0faf12f57b29a3c5ad": {
      "model_module": "@jupyter-widgets/controls",
      "model_module_version": "1.4.0",
      "model_name": "DescriptionStyleModel",
      "state": {
       "description_width": ""
      }
     },
     "257c8c5486c14b14ad31788bf5897fdd": {
      "model_module": "@jupyter-widgets/base",
      "model_module_version": "1.1.0",
      "model_name": "LayoutModel",
      "state": {}
     },
     "26074768a03d4714a254dedd27236cb5": {
      "model_module": "@jupyter-widgets/controls",
      "model_module_version": "1.4.0",
      "model_name": "DescriptionStyleModel",
      "state": {
       "description_width": ""
      }
     },
     "262adbf1a30443dcbd165c71ced2adba": {
      "model_module": "@jupyter-widgets/controls",
      "model_module_version": "1.4.0",
      "model_name": "CheckboxModel",
      "state": {
       "description": "sort",
       "disabled": false,
       "layout": "IPY_MODEL_19847492bb2140d4bcd0ccf86e3dbd14",
       "style": "IPY_MODEL_d7a0ab04fa2243e6a42d41105e0a225b",
       "value": false
      }
     },
     "26448c806c24401cb15d856ddf5896fe": {
      "model_module": "@jupyter-widgets/base",
      "model_module_version": "1.1.0",
      "model_name": "LayoutModel",
      "state": {}
     },
     "26a0fad09b7a419a9315ed9e68c186fd": {
      "model_module": "@jupyter-widgets/controls",
      "model_module_version": "1.4.0",
      "model_name": "SliderStyleModel",
      "state": {
       "description_width": ""
      }
     },
     "26c3a658492c42b3a421ebd3f2c4df9b": {
      "model_module": "@jupyter-widgets/controls",
      "model_module_version": "1.4.0",
      "model_name": "FloatTextModel",
      "state": {
       "description": "aspect",
       "layout": "IPY_MODEL_c6aa3834aa4941f489e60c4d0eb740a7",
       "step": null,
       "style": "IPY_MODEL_cfbe57c735824b00a78e2a204f7f69c7",
       "value": 1
      }
     },
     "26df628cd8804b53909a0f60453a9983": {
      "model_module": "@jupyter-widgets/base",
      "model_module_version": "1.1.0",
      "model_name": "LayoutModel",
      "state": {}
     },
     "27eb8e6f71054273b0723f6d1dbff6f0": {
      "model_module": "@jupyter-widgets/controls",
      "model_module_version": "1.4.0",
      "model_name": "IntTextModel",
      "state": {
       "description": "n_boot",
       "layout": "IPY_MODEL_09a517b8f04c4d13a44dfc2dd82e930a",
       "step": 1,
       "style": "IPY_MODEL_13c7f34fb9f54265b5cc21c142e5c757",
       "value": 10000
      }
     },
     "283569a7b70442abaf2dada048bbe8df": {
      "model_module": "@jupyter-widgets/controls",
      "model_module_version": "1.4.0",
      "model_name": "HBoxModel",
      "state": {
       "children": [
        "IPY_MODEL_34fb785938634b98a8bed9b886f640e8",
        "IPY_MODEL_f165ff334da94463a0bfb3975766e6bb"
       ],
       "layout": "IPY_MODEL_5044c4c68e7c4fe09fa35bbe53b26cc4"
      }
     },
     "28610ac0bfed429ab855e76f2df991e2": {
      "model_module": "@jupyter-widgets/controls",
      "model_module_version": "1.4.0",
      "model_name": "LabelModel",
      "state": {
       "layout": "IPY_MODEL_bff954d652fd4b19a571e1156c0b9974",
       "style": "IPY_MODEL_a687867042f0497ca0faa01df0e4edc5",
       "value": "---"
      }
     },
     "28a4d5274b544c1dbed2c65e193670ea": {
      "model_module": "@jupyter-widgets/base",
      "model_module_version": "1.1.0",
      "model_name": "LayoutModel",
      "state": {}
     },
     "28d7aaf8a8f3438fa5571ec39602b024": {
      "model_module": "@jupyter-widgets/controls",
      "model_module_version": "1.4.0",
      "model_name": "FloatTextModel",
      "state": {
       "description": "y_jitter",
       "layout": "IPY_MODEL_8328820e1dfa43658b873d807f3f52d2",
       "step": null,
       "style": "IPY_MODEL_eb60abab3335451f889d9758a9c6e714",
       "value": 1
      }
     },
     "28e6b38b21d04a05be39c36293e705b7": {
      "model_module": "@jupyter-widgets/controls",
      "model_module_version": "1.4.0",
      "model_name": "DropdownModel",
      "state": {
       "_options_labels": [
        "1",
        "2",
        "3",
        "4",
        "5",
        "6",
        "7",
        "8",
        "9",
        "10",
        "11",
        "12",
        "13",
        "14",
        "15",
        "16",
        "17",
        "18",
        "19",
        "20",
        "21",
        "22",
        "23",
        "24",
        "25",
        "26",
        "27",
        "28",
        "29",
        "30",
        "31"
       ],
       "description": "a",
       "index": 0,
       "layout": "IPY_MODEL_59ac9b62f6704aa8b3f110223df5785a",
       "style": "IPY_MODEL_8d07018791d64e7ba0228fb11864ba13"
      }
     },
     "2969c9763a2b462e8f71a04b572727e8": {
      "model_module": "@jupyter-widgets/controls",
      "model_module_version": "1.4.0",
      "model_name": "VBoxModel",
      "state": {
       "children": [
        "IPY_MODEL_93f6646fe4e144ec8ef6e846a6305f77",
        "IPY_MODEL_7ba9794c74aa493f842b15e88a2b063f",
        "IPY_MODEL_349e7f1d5a914ae1adbc2a855fae52f0"
       ],
       "layout": "IPY_MODEL_fa9c5c41bb4b468ea4edff45486c18ff"
      }
     },
     "2a2b1dee94c044fe8867a674f6a97146": {
      "model_module": "@jupyter-widgets/controls",
      "model_module_version": "1.4.0",
      "model_name": "DescriptionStyleModel",
      "state": {
       "description_width": ""
      }
     },
     "2ab6b4598005416a97a5fcdf11284841": {
      "model_module": "@jupyter-widgets/controls",
      "model_module_version": "1.4.0",
      "model_name": "DescriptionStyleModel",
      "state": {
       "description_width": ""
      }
     },
     "2ad247dd08f34899b67b5faf5f7c13ce": {
      "model_module": "@jupyter-widgets/base",
      "model_module_version": "1.1.0",
      "model_name": "LayoutModel",
      "state": {}
     },
     "2aec96f2683b4fd187c6c318c12566ea": {
      "model_module": "@jupyter-widgets/controls",
      "model_module_version": "1.4.0",
      "model_name": "CheckboxModel",
      "state": {
       "description": "scatter",
       "disabled": false,
       "layout": "IPY_MODEL_8142d5dbfed6439691de667c6919276e",
       "style": "IPY_MODEL_f0950b2b869748d194697b7ab91a7cb3",
       "value": false
      }
     },
     "2b95d19af4a244baa4f011fe60d86cba": {
      "model_module": "@jupyter-widgets/controls",
      "model_module_version": "1.4.0",
      "model_name": "DescriptionStyleModel",
      "state": {
       "description_width": ""
      }
     },
     "2c79e520a8814913b3fcd344aad3dae3": {
      "model_module": "@jupyter-widgets/base",
      "model_module_version": "1.1.0",
      "model_name": "LayoutModel",
      "state": {}
     },
     "2d78ecc90cae4887bf9a8ba7352aedd0": {
      "model_module": "@jupyter-widgets/controls",
      "model_module_version": "1.4.0",
      "model_name": "DescriptionStyleModel",
      "state": {
       "description_width": ""
      }
     },
     "2dbc6b98401744fc92c7cc5c7ef8652f": {
      "model_module": "@jupyter-widgets/controls",
      "model_module_version": "1.4.0",
      "model_name": "DescriptionStyleModel",
      "state": {
       "description_width": ""
      }
     },
     "2e8d72d18c8940eb862c361589da1810": {
      "model_module": "@jupyter-widgets/controls",
      "model_module_version": "1.4.0",
      "model_name": "HBoxModel",
      "state": {
       "children": [
        "IPY_MODEL_28610ac0bfed429ab855e76f2df991e2"
       ],
       "layout": "IPY_MODEL_a6aec0924e534215b58e5a63a5c4ab49"
      }
     },
     "2f8e390dc30740289512d389ad088d59": {
      "model_module": "@jupyter-widgets/base",
      "model_module_version": "1.1.0",
      "model_name": "LayoutModel",
      "state": {}
     },
     "30fb25f7300e45089864ba59d2e27a49": {
      "model_module": "@jupyter-widgets/controls",
      "model_module_version": "1.4.0",
      "model_name": "DescriptionStyleModel",
      "state": {
       "description_width": ""
      }
     },
     "31865157d14342a88622f8a667623869": {
      "model_module": "@jupyter-widgets/controls",
      "model_module_version": "1.4.0",
      "model_name": "FloatSliderModel",
      "state": {
       "description": "alpha",
       "layout": "IPY_MODEL_0a3d073bc2274254a281af33689003ae",
       "max": 1,
       "step": 0.05,
       "style": "IPY_MODEL_39f67ccd10904419a72ff571b3e80b75"
      }
     },
     "32534f5813a249709f69b9158d911404": {
      "model_module": "@jupyter-widgets/base",
      "model_module_version": "1.1.0",
      "model_name": "LayoutModel",
      "state": {}
     },
     "32bafc1bfc3841008308bd1cf8c189e4": {
      "model_module": "@jupyter-widgets/controls",
      "model_module_version": "1.4.0",
      "model_name": "DescriptionStyleModel",
      "state": {
       "description_width": ""
      }
     },
     "32e2c275396e4b5694ae8894aafc1938": {
      "model_module": "@jupyter-widgets/controls",
      "model_module_version": "1.4.0",
      "model_name": "FloatTextModel",
      "state": {
       "description": "saturation",
       "layout": "IPY_MODEL_8bd9b139ef2f463f9a942c5a85e854f5",
       "step": null,
       "style": "IPY_MODEL_8784fa73144346c9b609a439e87315e0",
       "value": 1
      }
     },
     "33839a5ca40c4fbc83f028d5b796f585": {
      "model_module": "@jupyter-widgets/controls",
      "model_module_version": "1.4.0",
      "model_name": "DescriptionStyleModel",
      "state": {
       "description_width": ""
      }
     },
     "33be7ddd7b5a47ac8494a9ccb10f3baf": {
      "model_module": "@jupyter-widgets/controls",
      "model_module_version": "1.4.0",
      "model_name": "DescriptionStyleModel",
      "state": {
       "description_width": ""
      }
     },
     "33dbd3defda84440b33659d3a985ac94": {
      "model_module": "@jupyter-widgets/controls",
      "model_module_version": "1.4.0",
      "model_name": "DropdownModel",
      "state": {
       "_options_labels": [
        "[heatmap] annot",
        "[heatmap] cbar",
        "[heatmap] center",
        "[heatmap] cmap",
        "[heatmap] fmt",
        "[heatmap] linecolor",
        "[heatmap] linewidths",
        "[heatmap] robust",
        "[heatmap] square",
        "[heatmap] vmax",
        "[heatmap] vmin"
       ],
       "description": "Controls",
       "index": 0,
       "layout": "IPY_MODEL_18dd6b890bcc48cd980936dff2fc9d5f",
       "style": "IPY_MODEL_a638d728f2a14e90bef365eadb7b58bb"
      }
     },
     "34222a7a4eab400da3c5fb9c582e9aef": {
      "model_module": "@jupyter-widgets/base",
      "model_module_version": "1.1.0",
      "model_name": "LayoutModel",
      "state": {}
     },
     "3437cbd119904bf88b78d853fdf2b9b7": {
      "model_module": "@jupyter-widgets/controls",
      "model_module_version": "1.4.0",
      "model_name": "IntTextModel",
      "state": {
       "description": "gridsize",
       "layout": "IPY_MODEL_257c8c5486c14b14ad31788bf5897fdd",
       "step": 1,
       "style": "IPY_MODEL_d0afea2d8f974642b56f71071fb8b590",
       "value": 100
      }
     },
     "349e7f1d5a914ae1adbc2a855fae52f0": {
      "model_module": "@jupyter-widgets/controls",
      "model_module_version": "1.4.0",
      "model_name": "DropdownModel",
      "state": {
       "_options_labels": [
        "barplot",
        "boxenplot",
        "boxplot",
        "catplot",
        "countplot",
        "distplot",
        "heatmap",
        "jointplot",
        "kdeplot",
        "lineplot",
        "lmplot",
        "pairplot",
        "pointplot",
        "regplot",
        "relplot",
        "residplot",
        "scatterplot",
        "stripplot",
        "swarmplot",
        "violinplot"
       ],
       "description": "Plot",
       "index": 0,
       "layout": "IPY_MODEL_f9fb57cd845145c3819f414718476a65",
       "style": "IPY_MODEL_d6b78b398f0d48718ee77f6d999f3c17"
      }
     },
     "34fb785938634b98a8bed9b886f640e8": {
      "model_module": "@jupyter-widgets/controls",
      "model_module_version": "1.4.0",
      "model_name": "TextModel",
      "state": {
       "description": "cmap",
       "layout": "IPY_MODEL_0742c2b7826248d2bc08066e9864755f",
       "style": "IPY_MODEL_6159ea184003456c919043d2f86328de",
       "value": "viridis"
      }
     },
     "34fc6998622e479885f568f548391ecb": {
      "model_module": "@jupyter-widgets/base",
      "model_module_version": "1.1.0",
      "model_name": "LayoutModel",
      "state": {}
     },
     "34fc9ec11e40439aa455a73cc927adce": {
      "model_module": "@jupyter-widgets/base",
      "model_module_version": "1.1.0",
      "model_name": "LayoutModel",
      "state": {}
     },
     "36853f4ff4a047b594af6c8869f873c7": {
      "model_module": "@jupyter-widgets/controls",
      "model_module_version": "1.4.0",
      "model_name": "LabelModel",
      "state": {
       "layout": "IPY_MODEL_2f8e390dc30740289512d389ad088d59",
       "style": "IPY_MODEL_0cfdbadfb0ac45afae31a6b7783db623",
       "value": "---"
      }
     },
     "369baaf6e1ae4cbaa2523f2545394892": {
      "model_module": "@jupyter-widgets/base",
      "model_module_version": "1.1.0",
      "model_name": "LayoutModel",
      "state": {}
     },
     "3742920ef79640fa94eb3b2d8d681993": {
      "model_module": "@jupyter-widgets/base",
      "model_module_version": "1.1.0",
      "model_name": "LayoutModel",
      "state": {}
     },
     "375e9c9dd08c4829a91e1bd5fc7c8227": {
      "model_module": "@jupyter-widgets/controls",
      "model_module_version": "1.4.0",
      "model_name": "DescriptionStyleModel",
      "state": {
       "description_width": ""
      }
     },
     "380021ce703243c29148fb1978cf9101": {
      "model_module": "@jupyter-widgets/base",
      "model_module_version": "1.1.0",
      "model_name": "LayoutModel",
      "state": {}
     },
     "380e6350b21142b7b8a6dfe0c7d47b44": {
      "model_module": "@jupyter-widgets/controls",
      "model_module_version": "1.4.0",
      "model_name": "DescriptionStyleModel",
      "state": {
       "description_width": ""
      }
     },
     "3893c319c5d14ae190d4def1172f7858": {
      "model_module": "@jupyter-widgets/controls",
      "model_module_version": "1.4.0",
      "model_name": "DropdownModel",
      "state": {
       "_options_labels": [
        "1",
        "2",
        "3",
        "4",
        "5",
        "6",
        "7",
        "8",
        "9",
        "10",
        "11",
        "12",
        "13",
        "14",
        "15",
        "16",
        "17",
        "18",
        "19",
        "20",
        "21",
        "22",
        "23",
        "24",
        "25",
        "26",
        "27",
        "28",
        "29",
        "30",
        "31"
       ],
       "description": "x",
       "index": 0,
       "layout": "IPY_MODEL_3a31a739fc7e4a3ead16ccd46dc9f711",
       "style": "IPY_MODEL_32bafc1bfc3841008308bd1cf8c189e4"
      }
     },
     "38e35ffa4a5a4de1a4bfe5bfb23ce6de": {
      "model_module": "@jupyter-widgets/base",
      "model_module_version": "1.1.0",
      "model_name": "LayoutModel",
      "state": {}
     },
     "39c9be33c1af4a88a458cfefb5da2a25": {
      "model_module": "@jupyter-widgets/controls",
      "model_module_version": "1.4.0",
      "model_name": "DropdownModel",
      "state": {
       "_options_labels": [
        "band",
        "bars"
       ],
       "description": "err_style",
       "index": 0,
       "layout": "IPY_MODEL_cc87e6b6265d4963a2853467a430a1f5",
       "style": "IPY_MODEL_3bfb10734d614a748e4a3a179c31b6bd"
      }
     },
     "39f67ccd10904419a72ff571b3e80b75": {
      "model_module": "@jupyter-widgets/controls",
      "model_module_version": "1.4.0",
      "model_name": "SliderStyleModel",
      "state": {
       "description_width": ""
      }
     },
     "3a31a739fc7e4a3ead16ccd46dc9f711": {
      "model_module": "@jupyter-widgets/base",
      "model_module_version": "1.1.0",
      "model_name": "LayoutModel",
      "state": {}
     },
     "3ba9351b41274e8e9617a4e31993a9f6": {
      "model_module": "@jupyter-widgets/controls",
      "model_module_version": "1.4.0",
      "model_name": "FloatTextModel",
      "state": {
       "description": "capsize",
       "layout": "IPY_MODEL_e8303d37d52443918d5b84cccb421b48",
       "step": null,
       "style": "IPY_MODEL_af3601addc2e4cb482ab8d804b9537d6",
       "value": 1
      }
     },
     "3bfb10734d614a748e4a3a179c31b6bd": {
      "model_module": "@jupyter-widgets/controls",
      "model_module_version": "1.4.0",
      "model_name": "DescriptionStyleModel",
      "state": {
       "description_width": ""
      }
     },
     "3c76911f77bc4b379ed336eb7f9fc7bf": {
      "model_module": "@jupyter-widgets/controls",
      "model_module_version": "1.4.0",
      "model_name": "DescriptionStyleModel",
      "state": {
       "description_width": ""
      }
     },
     "3cdba894aa154142a4d2c70de720b7f7": {
      "model_module": "@jupyter-widgets/controls",
      "model_module_version": "1.4.0",
      "model_name": "DescriptionStyleModel",
      "state": {
       "description_width": ""
      }
     },
     "3d965047727a4f528401fdcfa51bde86": {
      "model_module": "@jupyter-widgets/controls",
      "model_module_version": "1.4.0",
      "model_name": "CheckboxModel",
      "state": {
       "description": "notch",
       "disabled": false,
       "layout": "IPY_MODEL_11c58c75563143c69ede329968e2d4c9",
       "style": "IPY_MODEL_ffa555e0b28c4f22b7332fbb798b6bca",
       "value": false
      }
     },
     "3dd7ea3001874d42b48e3f5b9de32f65": {
      "model_module": "@jupyter-widgets/controls",
      "model_module_version": "1.4.0",
      "model_name": "DescriptionStyleModel",
      "state": {
       "description_width": ""
      }
     },
     "3e1bf80a98d64628badbb5a7066d71de": {
      "model_module": "@jupyter-widgets/controls",
      "model_module_version": "1.4.0",
      "model_name": "CheckboxModel",
      "state": {
       "description": "legend_out",
       "disabled": false,
       "layout": "IPY_MODEL_ba88b94382014a8f8ae27a0e711c3ee0",
       "style": "IPY_MODEL_18001ac1116d4a5da534cf6ac562989e",
       "value": false
      }
     },
     "3e1cd64ddb22493da3e544b256323ef9": {
      "model_module": "@jupyter-widgets/controls",
      "model_module_version": "1.4.0",
      "model_name": "CheckboxModel",
      "state": {
       "description": "scatter",
       "disabled": false,
       "layout": "IPY_MODEL_a4c37c03ab8a44758228d02a35300040",
       "style": "IPY_MODEL_188658b8ae4f422c9eb68044b38899ea",
       "value": false
      }
     },
     "3e3d03ab3a474e7284f0ce6a1115068d": {
      "model_module": "@jupyter-widgets/controls",
      "model_module_version": "1.4.0",
      "model_name": "FloatTextModel",
      "state": {
       "description": "linewidth",
       "layout": "IPY_MODEL_2ad247dd08f34899b67b5faf5f7c13ce",
       "step": null,
       "style": "IPY_MODEL_e62aceabd8d94c64b251bfe7ceb0a60e",
       "value": 1
      }
     },
     "3e528c828cc24b03be2296fc7051e7e8": {
      "model_module": "@jupyter-widgets/base",
      "model_module_version": "1.1.0",
      "model_name": "LayoutModel",
      "state": {}
     },
     "3e8d0e98656d40cb98986736ada5426e": {
      "model_module": "@jupyter-widgets/base",
      "model_module_version": "1.1.0",
      "model_name": "LayoutModel",
      "state": {}
     },
     "3f3c4e8760ad481da8c25cc004be1eea": {
      "model_module": "@jupyter-widgets/controls",
      "model_module_version": "1.4.0",
      "model_name": "DescriptionStyleModel",
      "state": {
       "description_width": ""
      }
     },
     "3f76a5addbaf4f97a2db3760f6135bb5": {
      "model_module": "@jupyter-widgets/controls",
      "model_module_version": "1.4.0",
      "model_name": "DropdownModel",
      "state": {
       "_options_labels": [
        "1",
        "2",
        "3",
        "4",
        "5",
        "6",
        "7",
        "8",
        "9",
        "10",
        "11",
        "12",
        "13",
        "14",
        "15",
        "16",
        "17",
        "18",
        "19",
        "20",
        "21",
        "22",
        "23",
        "24",
        "25",
        "26",
        "27",
        "28",
        "29",
        "30",
        "31"
       ],
       "description": "size",
       "index": 0,
       "layout": "IPY_MODEL_b5919b94a8674e588cf659a03c0b5e92",
       "style": "IPY_MODEL_c2d6b70c98d14e848f5c89245a12e6a1"
      }
     },
     "40743cfb5e38405894fe36c05dca63a9": {
      "model_module": "@jupyter-widgets/controls",
      "model_module_version": "1.4.0",
      "model_name": "DropdownModel",
      "state": {
       "_options_labels": [
        "scatter",
        "reg"
       ],
       "description": "kind",
       "index": 0,
       "layout": "IPY_MODEL_d4ba169c57474be9bfb73c5b1dee4558",
       "style": "IPY_MODEL_a6e3c926b8e44d7b9e3dbe3e33752da7"
      }
     },
     "408ce49d03e648f4bac2c28608b7ded4": {
      "model_module": "@jupyter-widgets/controls",
      "model_module_version": "1.4.0",
      "model_name": "DescriptionStyleModel",
      "state": {
       "description_width": ""
      }
     },
     "419ad48b103e4584aa21326382561f9a": {
      "model_module": "@jupyter-widgets/controls",
      "model_module_version": "1.4.0",
      "model_name": "DescriptionStyleModel",
      "state": {
       "description_width": ""
      }
     },
     "42270b5aebd64595821c74ace331407b": {
      "model_module": "@jupyter-widgets/controls",
      "model_module_version": "1.4.0",
      "model_name": "DropdownModel",
      "state": {
       "_options_labels": [
        "1",
        "2",
        "3",
        "4",
        "5",
        "6",
        "7",
        "8",
        "9",
        "10",
        "11",
        "12",
        "13",
        "14",
        "15",
        "16",
        "17",
        "18",
        "19",
        "20",
        "21",
        "22",
        "23",
        "24",
        "25",
        "26",
        "27",
        "28",
        "29",
        "30",
        "31"
       ],
       "description": "dashes",
       "index": 0,
       "layout": "IPY_MODEL_943ce957a5ba41f0a1fb6d9f252c45aa",
       "style": "IPY_MODEL_79d584ba7ee4467892dfe5656734738b"
      }
     },
     "43024e33c8a74f4a8675f4c818e4f52b": {
      "model_module": "@jupyter-widgets/output",
      "model_module_version": "1.0.0",
      "model_name": "OutputModel",
      "state": {
       "layout": "IPY_MODEL_e6a57faee16b405e9c5ebc7d97743dbc",
       "outputs": [
        {
         "data": {
          "image/png": "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\n",
          "text/plain": "<Figure size 432x288 with 2 Axes>"
         },
         "metadata": {},
         "output_type": "display_data"
        }
       ]
      }
     },
     "431e890a15164c43ac1a37a712d60f25": {
      "model_module": "@jupyter-widgets/controls",
      "model_module_version": "1.4.0",
      "model_name": "FloatTextModel",
      "state": {
       "description": "linewidth",
       "layout": "IPY_MODEL_c322b48dee8048db813d10235c9bfd65",
       "step": null,
       "style": "IPY_MODEL_ccd0fafec1174131ab344302f7a0e5bc",
       "value": 1
      }
     },
     "4368f0bce7da4ee8bbddf2d666dea61d": {
      "model_module": "@jupyter-widgets/base",
      "model_module_version": "1.1.0",
      "model_name": "LayoutModel",
      "state": {}
     },
     "4369e86e3d2a4819b208f775921b28ff": {
      "model_module": "@jupyter-widgets/base",
      "model_module_version": "1.1.0",
      "model_name": "LayoutModel",
      "state": {}
     },
     "440cfe21e2874c7d919d536468cdbe2f": {
      "model_module": "@jupyter-widgets/controls",
      "model_module_version": "1.4.0",
      "model_name": "DescriptionStyleModel",
      "state": {
       "description_width": ""
      }
     },
     "44427ec6ced94f819632616dbf7ae2f2": {
      "model_module": "@jupyter-widgets/base",
      "model_module_version": "1.1.0",
      "model_name": "LayoutModel",
      "state": {}
     },
     "4462ab7698054999beb1e3271e44c7f2": {
      "model_module": "@jupyter-widgets/controls",
      "model_module_version": "1.4.0",
      "model_name": "DropdownModel",
      "state": {
       "_options_labels": [
        "brief",
        "full",
        "False"
       ],
       "description": "legend",
       "index": 0,
       "layout": "IPY_MODEL_495a499e031941f1977e184623a2a5db",
       "style": "IPY_MODEL_a0a7823ce59d46ee8dbf1f9f79382cb9"
      }
     },
     "446e50a8a20348ad8054612a5b0a7093": {
      "model_module": "@jupyter-widgets/controls",
      "model_module_version": "1.4.0",
      "model_name": "IntTextModel",
      "state": {
       "description": "col_wrap",
       "layout": "IPY_MODEL_1cbe2062e9c048569e6c686e268a0368",
       "step": 1,
       "style": "IPY_MODEL_2d78ecc90cae4887bf9a8ba7352aedd0",
       "value": 10
      }
     },
     "449e46ca66804f4e9bd324b8fccee8c1": {
      "model_module": "@jupyter-widgets/controls",
      "model_module_version": "1.4.0",
      "model_name": "CheckboxModel",
      "state": {
       "description": "norm_hist",
       "disabled": false,
       "layout": "IPY_MODEL_1c9046593c914234ba88060aad31bbac",
       "style": "IPY_MODEL_d980eef8ab1647c8b8e70f14aab73408",
       "value": false
      }
     },
     "45260e0202c547bb98ca653784d119e2": {
      "model_module": "@jupyter-widgets/controls",
      "model_module_version": "1.4.0",
      "model_name": "ButtonStyleModel",
      "state": {}
     },
     "455dc5e0a7da4cdf8ff5a71440289ec7": {
      "model_module": "@jupyter-widgets/controls",
      "model_module_version": "1.4.0",
      "model_name": "FloatTextModel",
      "state": {
       "description": "center",
       "layout": "IPY_MODEL_14fbd4c6ae1347ee9e211bc2e3b1848b",
       "step": null,
       "style": "IPY_MODEL_95d25900314e49e79095f3f004722ae8",
       "value": 1
      }
     },
     "457fbadc2a224ffe8f26654d30942f7d": {
      "model_module": "@jupyter-widgets/controls",
      "model_module_version": "1.4.0",
      "model_name": "DescriptionStyleModel",
      "state": {
       "description_width": ""
      }
     },
     "467f2c0bea214c9ba3c59e58a8a92b2a": {
      "model_module": "@jupyter-widgets/controls",
      "model_module_version": "1.4.0",
      "model_name": "CheckboxModel",
      "state": {
       "description": "join",
       "disabled": false,
       "layout": "IPY_MODEL_17fa000677524f2fbee59f2ea0cb373e",
       "style": "IPY_MODEL_07b8c78cf06442a283bf67d5e8c8af25",
       "value": false
      }
     },
     "46f8c6d3be9f47e2a6da0494b6970db7": {
      "model_module": "@jupyter-widgets/controls",
      "model_module_version": "1.4.0",
      "model_name": "IntTextModel",
      "state": {
       "description": "height",
       "layout": "IPY_MODEL_47eaff4284d04c01b9f0a75918df0b29",
       "step": 1,
       "style": "IPY_MODEL_4c6561d740be4d2797534fa27aff14a5",
       "value": 5
      }
     },
     "4798d4fd09ec49a4878dfd8f03c3c202": {
      "model_module": "@jupyter-widgets/controls",
      "model_module_version": "1.4.0",
      "model_name": "TextModel",
      "state": {
       "description": "color",
       "layout": "IPY_MODEL_fb197725d6e9432b9d847e0caf3786a5",
       "style": "IPY_MODEL_d5f7b4eee3d9487fabad06b1c64fe522",
       "value": "g"
      }
     },
     "47eaff4284d04c01b9f0a75918df0b29": {
      "model_module": "@jupyter-widgets/base",
      "model_module_version": "1.1.0",
      "model_name": "LayoutModel",
      "state": {}
     },
     "489865602f87406c8cc593540e12556b": {
      "model_module": "@jupyter-widgets/controls",
      "model_module_version": "1.4.0",
      "model_name": "DescriptionStyleModel",
      "state": {
       "description_width": ""
      }
     },
     "490c137a9ea244ae9f4c899bcc73583e": {
      "model_module": "@jupyter-widgets/base",
      "model_module_version": "1.1.0",
      "model_name": "LayoutModel",
      "state": {}
     },
     "495a499e031941f1977e184623a2a5db": {
      "model_module": "@jupyter-widgets/base",
      "model_module_version": "1.1.0",
      "model_name": "LayoutModel",
      "state": {}
     },
     "499db478b843481f985d0b16e56202f6": {
      "model_module": "@jupyter-widgets/base",
      "model_module_version": "1.1.0",
      "model_name": "LayoutModel",
      "state": {}
     },
     "4a16537e468d4281ad9fd8c05f691e58": {
      "model_module": "@jupyter-widgets/base",
      "model_module_version": "1.1.0",
      "model_name": "LayoutModel",
      "state": {}
     },
     "4a5dc115b3c64633a5a5945c4752259c": {
      "model_module": "@jupyter-widgets/controls",
      "model_module_version": "1.4.0",
      "model_name": "CheckboxModel",
      "state": {
       "description": "notch",
       "disabled": false,
       "layout": "IPY_MODEL_f55cbf09434d45dc9ba0e5ab54b29dc5",
       "style": "IPY_MODEL_60637d255b564a969deeaaa5fd16fec6",
       "value": false
      }
     },
     "4a7405690eda4216a5d9b4286caa4abd": {
      "model_module": "@jupyter-widgets/controls",
      "model_module_version": "1.4.0",
      "model_name": "DropdownModel",
      "state": {
       "_options_labels": [
        "1",
        "2",
        "3",
        "4",
        "5",
        "6",
        "7",
        "8",
        "9",
        "10",
        "11",
        "12",
        "13",
        "14",
        "15",
        "16",
        "17",
        "18",
        "19",
        "20",
        "21",
        "22",
        "23",
        "24",
        "25",
        "26",
        "27",
        "28",
        "29",
        "30",
        "31"
       ],
       "description": "style",
       "index": 0,
       "layout": "IPY_MODEL_44427ec6ced94f819632616dbf7ae2f2",
       "style": "IPY_MODEL_64aae24e23e847dfab5fecd5b48cd699"
      }
     },
     "4aa122ad854646d388deff74b8745f4c": {
      "model_module": "@jupyter-widgets/base",
      "model_module_version": "1.1.0",
      "model_name": "LayoutModel",
      "state": {}
     },
     "4b81ac5260c947d9b32a41c805e12517": {
      "model_module": "@jupyter-widgets/controls",
      "model_module_version": "1.4.0",
      "model_name": "DescriptionStyleModel",
      "state": {
       "description_width": ""
      }
     },
     "4bb8f6e9d123448a99bd57523eae732a": {
      "model_module": "@jupyter-widgets/controls",
      "model_module_version": "1.4.0",
      "model_name": "DescriptionStyleModel",
      "state": {
       "description_width": ""
      }
     },
     "4bc9b5cc150349d7ae51f5b1586131b6": {
      "model_module": "@jupyter-widgets/controls",
      "model_module_version": "1.4.0",
      "model_name": "SliderStyleModel",
      "state": {
       "description_width": ""
      }
     },
     "4c277aee9f534c17b9973f81bc00c15c": {
      "model_module": "@jupyter-widgets/controls",
      "model_module_version": "1.4.0",
      "model_name": "FloatSliderModel",
      "state": {
       "description": "alpha",
       "layout": "IPY_MODEL_ba7e782473ac4c74b0a5b85988f60b18",
       "max": 1,
       "step": 0.05,
       "style": "IPY_MODEL_26a0fad09b7a419a9315ed9e68c186fd"
      }
     },
     "4c32365c2c4e49e09c513526e9cb4e39": {
      "model_module": "@jupyter-widgets/base",
      "model_module_version": "1.1.0",
      "model_name": "LayoutModel",
      "state": {}
     },
     "4c4110c8abe440fc8c50088001914985": {
      "model_module": "@jupyter-widgets/controls",
      "model_module_version": "1.4.0",
      "model_name": "DescriptionStyleModel",
      "state": {
       "description_width": ""
      }
     },
     "4c4b357342534afe9de118334450281c": {
      "model_module": "@jupyter-widgets/base",
      "model_module_version": "1.1.0",
      "model_name": "LayoutModel",
      "state": {}
     },
     "4c6561d740be4d2797534fa27aff14a5": {
      "model_module": "@jupyter-widgets/controls",
      "model_module_version": "1.4.0",
      "model_name": "DescriptionStyleModel",
      "state": {
       "description_width": ""
      }
     },
     "4d399185d88945ada35e4527d81f13fb": {
      "model_module": "@jupyter-widgets/controls",
      "model_module_version": "1.4.0",
      "model_name": "DescriptionStyleModel",
      "state": {
       "description_width": ""
      }
     },
     "4d5d851685e3447ca466f1489dd853e6": {
      "model_module": "@jupyter-widgets/controls",
      "model_module_version": "1.4.0",
      "model_name": "CheckboxModel",
      "state": {
       "description": "margin_titles",
       "disabled": false,
       "layout": "IPY_MODEL_01c26fe34da04980917766c30824f744",
       "style": "IPY_MODEL_8e5f21411b2244f595001e4f0f32d8a8",
       "value": false
      }
     },
     "4d8332fb038a4ec2813d6723397e2704": {
      "model_module": "@jupyter-widgets/output",
      "model_module_version": "1.0.0",
      "model_name": "OutputModel",
      "state": {
       "layout": "IPY_MODEL_ee03d910eefa4176922f25b586f79daa",
       "outputs": [
        {
         "name": "stderr",
         "output_type": "stream",
         "text": "/home/me/code/perso/notebooks/data-science-exercises/venv/lib/python3.7/site-packages/scipy/stats/stats.py:1713: FutureWarning: Using a non-tuple sequence for multidimensional indexing is deprecated; use `arr[tuple(seq)]` instead of `arr[seq]`. In the future this will be interpreted as an array index, `arr[np.array(seq)]`, which will result either in an error or a different result.\n  return np.add.reduce(sorted[indexer] * weights, axis=axis) / sumval\n"
        },
        {
         "data": {
          "image/png": "iVBORw0KGgoAAAANSUhEUgAAAXQAAAEKCAYAAAACS67iAAAABHNCSVQICAgIfAhkiAAAAAlwSFlzAAALEgAACxIB0t1+/AAAADl0RVh0U29mdHdhcmUAbWF0cGxvdGxpYiB2ZXJzaW9uIDIuMi4zLCBodHRwOi8vbWF0cGxvdGxpYi5vcmcvIxREBQAAGbBJREFUeJzt3Xu0ZFV94PHvj4bGfvLqprsFSTtLMTEmYtJBHUF5+Ea6ecnoUkHFYTQSdNS0IBkfyySjxFc0RsMCFXWMMiCCaBRECGbWDNooIogPNE2kuy/dInRzUR7d/OaPc271rbpVp+o+6ta9534/a9Xa55z63X121T71q1P7PG5kJpKk2W+PQTdAkjQ1TOiSVBMmdEmqCRO6JNWECV2SasKELkk1YUKXpJrYs5egiNgI3A/sAnZm5pqI2B/4ErAa2Aicmpn39qeZkqRuxrOHfnRmHpaZa8r5c4BrM/OJwLXlvCRpQKKXK0XLPfQ1mfnrUct+ChyVmVsiYhVwfWY+qaqeZcuW5erVqyfXYkmaY2666aZfZ+bybnE9DbkACVwdEQn8U2ZeAKzIzC3l80PAinZ/GBFnAmcCHHLIIWzYsKHHVUqSACLizl7iek3oR2Tmpog4ELgmIn4y+snMzDLZj1Em/wsA1qxZ441jJKlPehpDz8xNZbkVuBw4HLi7HGqhLLf2q5GSpO66JvSIWBQRS0amgecDtwJXAqeXYacDV/SrkZKk7noZclkBXB4RI/FfyMxvRMT3gEsi4gzgTuDU/jVTktRN14Semb8Entpm+T3Asf1olCRp/LxSVJJqwoQuSTVhQpekmuj1PHRpVlm/fj1DQ0OsXLmS888/f9DNkaaFCV21NDQ0xKZNmwbdDGlaOeQiSTVhQpekmjChS1JNmNAlqSZM6JJUEyZ0SaoJE7ok1YQJXZJqwoQuSTVhQpekmjChS1JNmNAlqSZM6JJUEyZ0SaoJE7ok1YQJXZJqwoQuSTVhQpekmjChS1JNmNAlqSZM6JJUEyZ0SaoJE7ok1YQJXZJqYs9BN0Czx/r16xkaGmLlypWcf/75g26OpBYmdPVsaGiITZs2DboZkjpwyEWSasKELkk1YUKXpJroOaFHxLyI+EFEXFXOPz4iboyIOyLiSxExv3/NlCR1M5499DcBt4+afz/w4cx8AnAvcMZUNkySND49JfSIOBg4DriwnA/gGODSMuRi4IR+NFCS1Jte99A/AqwHHi3nDwDuy8yd5fxdwEFT3DZJ0jh0TegR8RJga2beNJEVRMSZEbEhIjZs27ZtIlVIknrQyx76s4C1EbER+CLFUMvfA/tGxMiFSQcDba84ycwLMnNNZq5Zvnz5FDRZktRO14Semedm5sGZuRp4GfDtzHwFcB1wShl2OnBF31opSepqMuehvx14S0TcQTGmftHUNEmSNBHjupdLZl4PXF9O/xI4fOqbNPt5EytJg+DNufrAm1hJGgQv/ZekmjChS1JNmNAlqSZM6JJUEyZ0SaoJE7ok1YQJXZJqwoQuSTVhQpekmjChS1JNmNAlqSZM6JJUEyZ0SaoJE7ok1YS3z5WkGWAq/o+CCV2SZoCp+D8KDrlIUk2Y0CWpJkzoklQTjqFLUp9M9z+MN6FLUp9M9z+Md8hFkmrChC5JNWFCl6SaqOUY+nQfiJCkmaCWCX26D0RI0kzgkIsk1YQJXZJqwoQuSTVhQpekmjChS1JNmNAlqSZqedqi1C9e46CZrGtCj4jHADcAe5fxl2bmuyLi8cAXgQOAm4BXZebD/WysNGhe46CZrJchl4eAYzLzqcBhwAsj4hnA+4EPZ+YTgHuBM8a78vXr13Paaaexfv368f6pJKlF14SeheFydq/ykcAxwKXl8ouBE8a78pG9naGhofH+qSSpRU8HRSNiXkTcDGwFrgF+AdyXmTvLkLuAg/rTRElSL3pK6Jm5KzMPAw4GDgd+v9cVRMSZEbEhIjZs27Ztgs2UJHUzrrNcMvO+iLgOeCawb0TsWe6lHwy0PVKUmRcAFwCsWbMmJ9leSXOcZxp11stZLsuBR8pkvgB4HsUB0euAUyjOdDkduKKfDZ3pvnXhixvTv93xcFlublr+3Nd9fdrbJdWNZxp11sse+irg4oiYRzFEc0lmXhURPwa+GBF/DfwAuKiP7ZQkddE1oWfmLcDT2iz/JcV4uiRpBvBKUUm1NdfG203okmprro23m9A1q8y1Pa5Wc/31q5oJXbPKXNvjajXXX7+qeftcSaoJE7ok1YQJXZJqwjF0qU88gKnpZkKX+sQDmH6pTTcTuqS+8UttepnQpRnAPVlNBRO6NAO4J6up4FkuklQTJnRJqgkTuiTVhAldkmrCg6ID5tkN0ty19eNfbUzv2v5Aoxy9/MA3Ht9zfSb0AfPsBklTxYQuSdTj17IJXZKox69lE7pq47jLPtmYfmh4OwCbh7c3Lf/aya+f9nZJ08WzXCSpJkzoklQTJnRJqgkTuiTVhAldkmrCs1xU6ezLXtiY3jb8SFlualr+0ZO/Me3tkjSWe+iSVBPuoUs1VYcrHzU+JnSppupw5aPGxyEXSaqJWbOH7s9HqX/8fNXDrEno/nyU+sfPVz3MmoQuaWZwb37m6jqGHhGPi4jrIuLHEXFbRLypXL5/RFwTET8vy/3631xJgzayNz80NDTopqhFLwdFdwJvzcwnA88A3hgRTwbOAa7NzCcC15bzkqQB6TrkkplbgC3l9P0RcTtwELAOOKoMuxi4Hnh7X1rZg80ff1tjetf2XzfKkeWPfeMHBtIuSZou4xpDj4jVwNOAG4EVZbIHGAJW9FLHtk98vjG9a/v9jXL08uVveOV4miVJYhwJPSIWA5cBb87MHRHReC4zMyKyw9+dCZwJcMghh0yutTVx+ad33wdleMcjZbmpsfzE13hvFGm2uvtj1zWmd933u0Y5evmKvzi6L+vuKaFHxF4Uyfx/ZeaXy8V3R8SqzNwSEauAre3+NjMvAC4AWLNmTdukP0j9OGK/zyKAKMvB8EwEae7pmtCj2BW/CLg9Mz806qkrgdOB95XlFX1pYZ/14/zblx89f0rrmwjPK57ZTrj02qb54eFiT27z8O8az33llGOnvV2a3XrZQ38W8CrgRxFxc7nsHRSJ/JKIOAO4Ezi1P02UNFt89ZJfN80/MPxooxx57vhTl017u+aKXs5y+TcgOjztLoQkzRDenEuSasJL/yXVyq8+tPsK1p337WqUI8sf95aVA2nXdDCh98izRuqrW9++5NIvNaYfHB4GYPPwcGP5Vaf8l+lpqNSFCb1HdT1rxC+q+vat5h4T+hxnMpPqw4OiklQT7qFrRjvuyx9smn9o+F4ANg/f23juaye9ddrbVQf/4/LNjel7hnc1ypHl7z3xsQNplybOPXRJqgn30CVpnGbqyQQzOqFv/eRHG9O7tt/XKEeWH/j6swfSLnU3Uzd4aSrM1JMJZnRCV7PZlCRn6gYv1ZkJfRYxSUqqYkKXZriTL7uxMb1j+EEAtgw/2LT8spOfPu3tmk63XLD73y08vH1Xoxy9/I/PPHDc9Q598GeN6V33PtIoR5avfOuhE2rvoJjQNXCzaShJ/eE2MDVM6Bo4h5LkNjA1PA9dkmrCPfSa+MfPv6Bpfvv9O8tyU+O5P3/lN6e9XaqHi768e6x6R3lV6Y7hXY3lZ5w0/vFrTT0T+oAtXRxAlqUkTZwJfcDWHWsX1MnaS69sTP92+AEANg8/0Fh+5SlrB9IuzXzLFy5tKifCbCJJM8A7jjhp0nV4UFSSasKELkk14ZBLhRv/6SWN6Qe3P1iWm5uWP/2/XTXt7ZKkdkzompNectnFjekHh3cAsHl4R9Pyq04+fdrbJU3GQBP68oWLm0pJ0sQNNKGf9+wXdA+agGUL5zeVkjQX1HLI5e1HPGHQTZDGZY8l+/BoWQ7C3kuXNZWanWqZ0KXZZuHxLx/o+v9w3dsHun5NDU9blKSamDV76MsXLWwqNXF/+8Xdxy5+U97E6zf3b2pa/o6Xjb2R115LivvOFKWkmWbWJPR3PPs/D7oJc97qtbNmc5HmJD+hM9xnP7N7r/n+HTvLclNj+Wmv9pa4mrmWLlneVKq/5lxC/9k/rGuaf+S+B8pyc+O5Q8+6YtrbJU2FUy/7aWP63uHif2RuGX6kafklJz9p2tpz0nHnTdu6+unuj2xomt9130ONcuS5FW9eM+3tauVBUUmqCRO6JNVE14QeEZ+KiK0RceuoZftHxDUR8fOy3K+/zZQkddPLGPpngH8APjtq2TnAtZn5vog4p5z3yoQ57kVXvLIx/fADxf+a3PTAUGP5v6z7/EDaJc0VXffQM/MG4Dcti9cBI7eluxg4YYrbJUkap4mOoa/IzC3l9BCwolNgRJwZERsiYsO2bdsmuDpJUjeTPiiamQlkxfMXZOaazFyzfLnnok6XhYuDxUuLUtViyWJinyXEEm/jrNltoueh3x0RqzJzS0SsArZOZaNmov0WRVM50x35gnmDbsKssffa5/UcO5L0Tf6aiSaa0K8ETgfeV5a1vxLntc/Ze9BNEBBLFzaV023v448byHqlXnRN6BHxz8BRwLKIuAt4F0UivyQizgDuBE7tZyOlEfPXHt5TXCxZ1FRKc0HXhJ6ZnW7UfOwUt0WaMvPXPnvQTZCm3Zy7l4ukmeE7n9t91tvv7t/VKEcvP/JVnkgxHiZ0DcSLv/JXjemHH7gHgM0P3NNY/vUT/nog7ZJmMxO61CexZGlTWReLli5vKmeyZQuWNZV1Z0KX+mTB8ScOugl9cczadwy6CT37y6efO+gmTCsT+hy3oPy3cgv8t3LSrGdCn+Oe9mIvQJLqwoQ+iyxaXOxNL/JyfmnKLVt4QFM5FZYv3Kep7DcT+izy/Oe6Ny31y7mHn91z7PIF+zWVHet81ism1abxMqFLs8geS/ZrKjUY5z7zdYNuQlsmdGkWWbz2tYNugmYwE7qkWWW/RcubSu1mQpc0q7zhqNlzHvx0m/MJ/YBFewCPlqUkzV5zPqGf/awFg26CJE0Jd0slqSbm/B66+iOWzCPLUtL0MKGrL/Y6cequtpPUG4dcJKkmTOiSVBMOuUg1NW/J/k2l6s+ELtXU0rW932xK9eCQiyTVhHvokgZu38XLm0pNjAldg7dkb6IsNTed9vzzBt2EWjCha+Dmn/DkQTdBqgXH0CWpJkzoklQTJnRJqgkTuiTVhAldkmrChC5JNWFCl6SaMKFLUk2Y0CWpJiaV0CPihRHx04i4IyLOmapGSZLGb8IJPSLmAR8HXgQ8GXh5RHgNtyQNyGT20A8H7sjMX2bmw8AXgXVT0yxJ0nhNJqEfBPxq1Pxd5TJJ0gBEZk7sDyNOAV6Yma8r518FPD0zz2qJOxM4s5x9EvDTlqqWAb/ucbWDjh30+vsVO+j19yt20OvvV+yg19+v2EGvv1+xU1Hn72Vm95vFZ+aEHsAzgW+Omj8XOHcC9WyYLbGDXr+vy9c1E9bv65oZr6vdYzJDLt8DnhgRj4+I+cDLgCsnUZ8kaRIm/A8uMnNnRJwFfBOYB3wqM2+bspZJksZlUv+xKDO/Dnx9km24YBbFDnr9/Yod9Pr7FTvo9fcrdtDr71fsoNffr9h+rX+MCR8UlSTNLF76L0l1MZkjqpN5AJ8CtgK39hD7OOA64MfAbcCbOsQ9Bvgu8MMy7j091D0P+AFwVZe4jcCPgJvpciQa2Be4FPgJcDvwzA5xTyrrG3nsAN7cIfa/l6/pVuCfgcdUrP9NZdxtrfW1e9+B/YFrgJ+X5X4VsS8t630UWNOl3r8r34NbgMuBfSti31vG3QxcDTy2ahsB3goksKyizncDm0a9vy+u2vaAvyjbextwfkW9XxpV50bg5orYw4D/N7LdUFyQ1y7uqcD/LbexrwJLq7b9dn1WEdvUZxVxY/qrIrZdf1V+Tkf3WUW9Y/qsqt6WPvtEhzrH9FfF+tv1V6fYMX1GhxwEPB64EbijbM/8itizyrjG9t1zXp1sYp7oA3g28Cf0ltBXAX9STi8BfgY8uU1cAIvL6b3KN/AZXep+C/AFekvoPb25wMXA68rp+ZSJrMvfzAOGKM43bX3uIODfgQXl/CXAqzvU8xSKZL6Q4hjJt4AnVL3vwPnAOeX0OcD7K2L/gOKL6HqaE3q72OcDe5bT7+9S79JR02cDn+y0jZQfsG8Cd7I7ober893A23rZ9oCjy/dq73L+wF62U+CDwDsr6r0aeFE5/eLyfWsX9z3gOeX0a4H3Vm377fqsIrapzyrixvRXRWy7/ur4OW3ts4p6x/RZRWxrnz2l0/pb+6uiznb91Sl2TJ/RIQdRfGZfVi7/JPCGitinAasZR84ZeQxsyCUzbwB+02Pslsz8fjl9P8Ve75irUrMwXM7uVT46HiSIiIOB44ALx9f6ziJiH4oP7EVlmx7OzPt6+NNjgV9k5p0dnt8TWBARe1Ik680d4v4AuDEzf5uZO4F/BU4aebLD+76O4kuIsjyhU2xm3p6ZrReHdYq9umwDFHs9B1fE7hg1u6hY1HEb+TCwnlF9O87tqV3sG4D3ZeZDZczWbvVGRACnUvxi6hSbFHtuAPsAmzvEHQrcUE5fA5xc1tlp2x/TZ51iW/usIm5Mf1XEtuuvqs9pU5/1+pnuEtvaZ7dW1Tm6vyrqbNdfnWLH9FlFDjqG4lf76P5qG5uZP8jMje3ei25m3Rh6RKym+Aa7scPz8yLiZoqftNdkZtu40kcoNrJHe1h1AldHxE3l1a+dPB7YBnw6In4QERdGxKIe6n8ZZWIYs+LMTcAHgP8AtgDbM/PqDvXcChwZEQdExEJ2/2StsiIzt5TTQ8CKHto7Xq8F/qUqICL+JiJ+BbyCYi+qXcw6YFNm/rDH9Z4VEbdExKciYr+KuEMp3rcbI+JfI+LPeqj7SODuzPx5Rcybgb8rX9cHKC7Aa+c2dt8L6aW06bOWbb+yz7p9TnqIG9NfrbFV/TU6tluftWlDxz5rie3YZx1eV9v+aomt7K+W2LZ91pqDgF8A9436smzcJmWc+aq78ezOT/WD4mdF1yGXUfGLgZuAk3qI3Zdi3OspHZ5/CfCP5fRRdB9yOagsD6QY83p2h7g1wE6K2yAA/D3lz+eKuudTXO67osPz+wHfBpZTfIt/BXhlRX1nlO/TDRTjih+pet/LjW308/d26yNahly6xJ5HMSYbvfQ9xYfoPa1xFL9MbgT2Kec3MuonaZvXtYJiKGsP4G8orpXoFHsr8DGKn8GHUwxxRZfX9QngrV3e249S7LlBsXf4rQ5xv0/xc/8m4F3APVXbfpc+a/s5ae2zirh2/dXxsze6v1pje+iz1tdV1WetsW37rOJ1teuv1jrb9leH2G59NpKDjqC4keHI8se1bk+0yVet71Uvj0kl5Mk+WjfqLrF7UYzBvWUc9b+TNmOo5XP/k+KbciPFHs5vgc/3WO+7K+pdCWwcNX8k8LUu9a0Drq54/qXARaPmT6P8MuqhrX8L/HnV+05xf51V5fQq4Kfd+ogeEzrwaooDRwt77XvgEHYn8dWjpv+IYk9mY/nYSfGrZWUPdba+5tb5bwBHj5r/BbC84nXtCdxNMSxRtZ7t7P5iCGBHD209FPhu1bbfqc/axbbrs05x7fqrqs42/dUUW9VnPdS7ulO9FX22qsPrGtNfHers1F/d2trUZ6OWvxP4S4odtpHjE023TWmJfduo+Y3MljH08SjHvi4Cbs/MD1XELY+IfcvpBcDzKI6Aj5GZ52bmwZm5mmK449uZ+coO9S6KiCUj0xQHj27tUO8Q8KuIeFK56FiKo+NVXk6H4ZbSfwDPiIiF5XtxLMU4XlsRcWBZHkKxl/SFLuu/Eji9nD4duKJLfE8i4oUUQ1prM/O3XWKfOGp2HW36LTN/lJkHZubqst/uojhYNdShzlWjZk+kQ5+VvkJxkI2IOJTdv5o6eS7wk8y8qyIGimMdzymnj6E4K6VdW0f6bA/grygOnFVt+2P6bByfk7Zx7fqrInZMf7WL7dRnFMm1Xb1j+qzidbXrs/d3eP1N/VVR55j+qngPxvRZhxx0O8Xe9ynln470V8/5qmfjyf5T+aBIYFuARyg6+YyK2CMoxrBHTpNqnILWEvfHFKcg3kLx4X1nj205ioohF+A/UQyzjJxedF6X+g6jOOXpFoqNbr+K2EXAPZQ/SSvi3lN29q3A5yiP7HeI/Q7Fl8gPgWO7ve/AAcC1FMnmW8D+FbEnltMPUXwov1kRewfFLZZH+uyTFbGXla/tFopTwA7qto0wag+mQ52fozil7BaKBLiqInY+8PmyDd8HjqnaToHPAK/v4b09guIn+Q8phh7+tEPcmyjOnvgZ8D527yW23fbb9VlFbGuf3dghbkx/VdTZrr+6fk5H+qyi3jF9VhHb2mdnd1p/a39V1NmuvzrFjukzOuQgihzy3fI9/t/A3hWxZ5f9tZPiC+bCXvOqV4pKUk3MiiEXSVJ3JnRJqgkTuiTVhAldkmrChC5JNWFC15wUEe+OiLcNuh3SVDKhS1JNmNA1Z0TEeRHxs4j4N4rbyRIR/zUivhcRP4yIy8qrcZdExL9HxF5lzNLR89JMZULXnBARf0pxi4fDKK7yG7kz35cz888y86kUl2ifkcUtUq+nuLUy5d99OTMfmd5WS+NjQtdccSRweRb3id9BcVk5wFMi4jsR8SOK28D+Ybn8QuA15fRrgE9Pa2ulCTCha677DHBWZv4Rxf1yHgOQmf8HWB0RRwHzMrPqxl7SjGBC11xxA3BCRCwo75x5fLl8CbClHB9/RcvffJbiTpXunWtW8OZcmjMi4jyKW5dupbgl8feBByhuGbuN4u56SzLz1WX8Sop/mrAqe/s3gtJAmdClDiLiFGBdZr5q0G2RerHnoBsgzUQR8THgRRRnxEizgnvoklQTHhSVpJowoUtSTZjQJakmTOiSVBMmdEmqCRO6JNXE/wfNyaIv2YNZQQAAAABJRU5ErkJggg==\n",
          "text/plain": "<Figure size 432x288 with 1 Axes>"
         },
         "metadata": {},
         "output_type": "display_data"
        }
       ]
      }
     },
     "4d95fd856b1e46ef8079e278683719fa": {
      "model_module": "@jupyter-widgets/controls",
      "model_module_version": "1.4.0",
      "model_name": "DropdownModel",
      "state": {
       "_options_labels": [
        "1",
        "2",
        "3",
        "4",
        "5",
        "6",
        "7",
        "8",
        "9",
        "10",
        "11",
        "12",
        "13",
        "14",
        "15",
        "16",
        "17",
        "18",
        "19",
        "20",
        "21",
        "22",
        "23",
        "24",
        "25",
        "26",
        "27",
        "28",
        "29",
        "30",
        "31"
       ],
       "description": "x_partial",
       "index": 0,
       "layout": "IPY_MODEL_c80687f046bc419891cd36cd6bea815a",
       "style": "IPY_MODEL_a02cc4e8ca3348568eca98da23eabf95"
      }
     },
     "4ed7debdb0b94098a03d8d16ab05ee0e": {
      "model_module": "@jupyter-widgets/base",
      "model_module_version": "1.1.0",
      "model_name": "LayoutModel",
      "state": {}
     },
     "4f12f05dda444228bbf434dc8eabea4d": {
      "model_module": "@jupyter-widgets/controls",
      "model_module_version": "1.4.0",
      "model_name": "DescriptionStyleModel",
      "state": {
       "description_width": ""
      }
     },
     "4f36068e344145e9a52cb4cea29abea2": {
      "model_module": "@jupyter-widgets/controls",
      "model_module_version": "1.4.0",
      "model_name": "DropdownModel",
      "state": {
       "_options_labels": [
        "gau",
        "cos",
        "biw",
        "epa",
        "tri",
        "triw"
       ],
       "description": "kernel",
       "index": 0,
       "layout": "IPY_MODEL_4ed7debdb0b94098a03d8d16ab05ee0e",
       "style": "IPY_MODEL_2dbc6b98401744fc92c7cc5c7ef8652f"
      }
     },
     "4f92c2cefd5e49b18d8b76bc4c590174": {
      "model_module": "@jupyter-widgets/controls",
      "model_module_version": "1.4.0",
      "model_name": "CheckboxModel",
      "state": {
       "description": "cbar",
       "disabled": false,
       "layout": "IPY_MODEL_34fc6998622e479885f568f548391ecb",
       "style": "IPY_MODEL_bcde7a6829444993ac9577b7ec814803",
       "value": false
      }
     },
     "4fd10c8c9a964dc7ab1c1a8c34d93ec1": {
      "model_module": "@jupyter-widgets/controls",
      "model_module_version": "1.4.0",
      "model_name": "ButtonStyleModel",
      "state": {}
     },
     "4fd1502f88df45b392b2c47e513a4126": {
      "model_module": "@jupyter-widgets/controls",
      "model_module_version": "1.4.0",
      "model_name": "DescriptionStyleModel",
      "state": {
       "description_width": ""
      }
     },
     "5044c4c68e7c4fe09fa35bbe53b26cc4": {
      "model_module": "@jupyter-widgets/base",
      "model_module_version": "1.1.0",
      "model_name": "LayoutModel",
      "state": {}
     },
     "50875043677c4a6ebba3354f205159aa": {
      "model_module": "@jupyter-widgets/base",
      "model_module_version": "1.1.0",
      "model_name": "LayoutModel",
      "state": {}
     },
     "52653528880c46d8a7b86323934da1ef": {
      "model_module": "@jupyter-widgets/controls",
      "model_module_version": "1.4.0",
      "model_name": "DescriptionStyleModel",
      "state": {
       "description_width": ""
      }
     },
     "52ae487b05cd48dd9b3f273367d91ce7": {
      "model_module": "@jupyter-widgets/base",
      "model_module_version": "1.1.0",
      "model_name": "LayoutModel",
      "state": {}
     },
     "52d603955dd24614850a1e196fca8962": {
      "model_module": "@jupyter-widgets/controls",
      "model_module_version": "1.4.0",
      "model_name": "FloatTextModel",
      "state": {
       "description": "y_jitter",
       "layout": "IPY_MODEL_ec17b50a64684dc7aae3cb29244bd67d",
       "step": null,
       "style": "IPY_MODEL_9ee24ad9dad5463d9ded068de6b33e2d",
       "value": 1
      }
     },
     "530fd86166c34701bf30874e38522acf": {
      "model_module": "@jupyter-widgets/controls",
      "model_module_version": "1.4.0",
      "model_name": "DropdownModel",
      "state": {
       "_options_labels": [
        "scatter",
        "reg",
        "resid",
        "kde",
        "hex"
       ],
       "description": "kind",
       "index": 0,
       "layout": "IPY_MODEL_f06573769b73464f8056e2330c213c60",
       "style": "IPY_MODEL_6e72ddd0f3b44d729ad14df8a5c43c58"
      }
     },
     "5407355a3e074858957b40c4509569dc": {
      "model_module": "@jupyter-widgets/base",
      "model_module_version": "1.1.0",
      "model_name": "LayoutModel",
      "state": {}
     },
     "540ec4667c9e487283236376a0293fcf": {
      "model_module": "@jupyter-widgets/controls",
      "model_module_version": "1.4.0",
      "model_name": "IntTextModel",
      "state": {
       "description": "ratio",
       "layout": "IPY_MODEL_f71a4fe84e594113a357a8fa99830d1d",
       "step": 1,
       "style": "IPY_MODEL_88075e13383c4e9db09bd332ba6b9891",
       "value": 1
      }
     },
     "54e8993669854757bc13cf6f07c994e2": {
      "model_module": "@jupyter-widgets/controls",
      "model_module_version": "1.4.0",
      "model_name": "TextModel",
      "state": {
       "description": "label",
       "layout": "IPY_MODEL_f25e4614a6c045ba978ee4d79515e52a",
       "style": "IPY_MODEL_171b3b2f505e4ca39e254d97482277ec"
      }
     },
     "550e98aa0f4f47699cb3debb9731d12d": {
      "model_module": "@jupyter-widgets/controls",
      "model_module_version": "1.4.0",
      "model_name": "FloatTextModel",
      "state": {
       "description": "center",
       "layout": "IPY_MODEL_b060f32aab2d430da175bda78e74f531",
       "step": null,
       "style": "IPY_MODEL_94827f0c89d34a869b383e684a04a644",
       "value": 1
      }
     },
     "55357ba8cc2c40c7b56f65ffa8d0d8bb": {
      "model_module": "@jupyter-widgets/controls",
      "model_module_version": "1.4.0",
      "model_name": "CheckboxModel",
      "state": {
       "description": "cbar",
       "disabled": false,
       "layout": "IPY_MODEL_818ff825ed4149c7818effd6bc70168c",
       "style": "IPY_MODEL_9f36467b6e7a4d07a88acfc1680b514a",
       "value": false
      }
     },
     "55c505f82c5948bdb3d5be23715331c2": {
      "model_module": "@jupyter-widgets/controls",
      "model_module_version": "1.4.0",
      "model_name": "SliderStyleModel",
      "state": {
       "description_width": ""
      }
     },
     "55db4d3ac8c34199a3e63ce14701c0b4": {
      "model_module": "@jupyter-widgets/base",
      "model_module_version": "1.1.0",
      "model_name": "LayoutModel",
      "state": {}
     },
     "563b6820b2ce442291466fa062edd6eb": {
      "model_module": "@jupyter-widgets/controls",
      "model_module_version": "1.4.0",
      "model_name": "CheckboxModel",
      "state": {
       "description": "hist",
       "disabled": false,
       "layout": "IPY_MODEL_9b6649d9aaf54715907597eeb8a369fa",
       "style": "IPY_MODEL_8bd5de49821c449da2e2b72f4b1c5f3c",
       "value": false
      }
     },
     "565885a9ab754aa1b4dabb8e3ffa7404": {
      "model_module": "@jupyter-widgets/controls",
      "model_module_version": "1.4.0",
      "model_name": "DescriptionStyleModel",
      "state": {
       "description_width": ""
      }
     },
     "56f420831c044f22a7a3ddeea9a5d621": {
      "model_module": "@jupyter-widgets/controls",
      "model_module_version": "1.4.0",
      "model_name": "DescriptionStyleModel",
      "state": {
       "description_width": ""
      }
     },
     "56f76fe1a48e43c4accf0b340f2c94b9": {
      "model_module": "@jupyter-widgets/base",
      "model_module_version": "1.1.0",
      "model_name": "LayoutModel",
      "state": {}
     },
     "5801b5cf7441411d8f9b07284177eeac": {
      "model_module": "@jupyter-widgets/controls",
      "model_module_version": "1.4.0",
      "model_name": "DropdownModel",
      "state": {
       "_options_labels": [
        "True",
        "col",
        "row"
       ],
       "description": "sharey",
       "index": 0,
       "layout": "IPY_MODEL_c6c5b6e3beaa4c649a9809b7584a3c32",
       "style": "IPY_MODEL_160dbe7734994ac198edc1d0f855691a"
      }
     },
     "5833b02ac5eb431f868658cfad9c6a9e": {
      "model_module": "@jupyter-widgets/controls",
      "model_module_version": "1.4.0",
      "model_name": "DescriptionStyleModel",
      "state": {
       "description_width": ""
      }
     },
     "5874e4c431b3467f976693a346c92149": {
      "model_module": "@jupyter-widgets/controls",
      "model_module_version": "1.4.0",
      "model_name": "FloatTextModel",
      "state": {
       "description": "height",
       "layout": "IPY_MODEL_f1048098e2954450aa58a7a0f796539c",
       "step": null,
       "style": "IPY_MODEL_bc5c409386d240a4ac7015de7cb43691",
       "value": 1
      }
     },
     "5903756d37d84e54852450aa393aac9f": {
      "model_module": "@jupyter-widgets/base",
      "model_module_version": "1.1.0",
      "model_name": "LayoutModel",
      "state": {}
     },
     "59ac9b62f6704aa8b3f110223df5785a": {
      "model_module": "@jupyter-widgets/base",
      "model_module_version": "1.1.0",
      "model_name": "LayoutModel",
      "state": {}
     },
     "59bbb798c8f34814a54ee1cc080f9b43": {
      "model_module": "@jupyter-widgets/controls",
      "model_module_version": "1.4.0",
      "model_name": "DescriptionStyleModel",
      "state": {
       "description_width": ""
      }
     },
     "5a0712c68e214507acea0e8e0aa42b54": {
      "model_module": "@jupyter-widgets/base",
      "model_module_version": "1.1.0",
      "model_name": "LayoutModel",
      "state": {}
     },
     "5a5bf49c389d44449fbbd50781dfe5e0": {
      "model_module": "@jupyter-widgets/base",
      "model_module_version": "1.1.0",
      "model_name": "LayoutModel",
      "state": {}
     },
     "5a93f71d4fff4ed4aff26c6eb2d16c78": {
      "model_module": "@jupyter-widgets/controls",
      "model_module_version": "1.4.0",
      "model_name": "FloatTextModel",
      "state": {
       "description": "scale",
       "layout": "IPY_MODEL_a7466274ff62441783037671d4c639b1",
       "step": null,
       "style": "IPY_MODEL_2ab6b4598005416a97a5fcdf11284841",
       "value": 1
      }
     },
     "5ad3d71d17794897a139110e5c2ec513": {
      "model_module": "@jupyter-widgets/controls",
      "model_module_version": "1.4.0",
      "model_name": "DescriptionStyleModel",
      "state": {
       "description_width": ""
      }
     },
     "5adb40c127e6476393b4beef22730210": {
      "model_module": "@jupyter-widgets/base",
      "model_module_version": "1.1.0",
      "model_name": "LayoutModel",
      "state": {}
     },
     "5afc04bdec0148deaef115a99e60be41": {
      "model_module": "@jupyter-widgets/controls",
      "model_module_version": "1.4.0",
      "model_name": "CheckboxModel",
      "state": {
       "description": "annot",
       "disabled": false,
       "layout": "IPY_MODEL_aeb5aee51b2946d9a3715be2ab508368",
       "style": "IPY_MODEL_1acc29ce897741b9b61731e3cbb2dd29",
       "value": false
      }
     },
     "5cfc08670bf24cddbccfd6004381366d": {
      "model_module": "@jupyter-widgets/controls",
      "model_module_version": "1.4.0",
      "model_name": "DropdownModel",
      "state": {
       "_options_labels": [
        "scott",
        "silverman"
       ],
       "description": "bw",
       "index": 0,
       "layout": "IPY_MODEL_05b6d728adec4689b8d2a6df15d6da08",
       "style": "IPY_MODEL_bf22e0d3d2de4f14aa2957aa24f03ccb"
      }
     },
     "5d72b9de9d814ca3935c064a78c2050e": {
      "model_module": "@jupyter-widgets/base",
      "model_module_version": "1.1.0",
      "model_name": "LayoutModel",
      "state": {}
     },
     "5df7299db6bb41f9b95756fbcfe0841d": {
      "model_module": "@jupyter-widgets/controls",
      "model_module_version": "1.4.0",
      "model_name": "DropdownModel",
      "state": {
       "_options_labels": [
        "1",
        "2",
        "3",
        "4",
        "5",
        "6",
        "7",
        "8",
        "9",
        "10",
        "11",
        "12",
        "13",
        "14",
        "15",
        "16",
        "17",
        "18",
        "19",
        "20",
        "21",
        "22",
        "23",
        "24",
        "25",
        "26",
        "27",
        "28",
        "29",
        "30",
        "31"
       ],
       "description": "y_partial",
       "index": 0,
       "layout": "IPY_MODEL_c418105ef7fe4421ba7c93c09aed9aed",
       "style": "IPY_MODEL_d16fc984f56340d99b9cb4b3187a1f94"
      }
     },
     "5e2bf77801e1418cb154c060affafde8": {
      "model_module": "@jupyter-widgets/base",
      "model_module_version": "1.1.0",
      "model_name": "LayoutModel",
      "state": {}
     },
     "5e45cc5d804f4798a482820dc667fd48": {
      "model_module": "@jupyter-widgets/controls",
      "model_module_version": "1.4.0",
      "model_name": "DescriptionStyleModel",
      "state": {
       "description_width": ""
      }
     },
     "5e672d7e987c48cbb729bd1fd4b1a023": {
      "model_module": "@jupyter-widgets/controls",
      "model_module_version": "1.4.0",
      "model_name": "DescriptionStyleModel",
      "state": {
       "description_width": ""
      }
     },
     "5e87007039a64076b64997037871b08f": {
      "model_module": "@jupyter-widgets/controls",
      "model_module_version": "1.4.0",
      "model_name": "FloatTextModel",
      "state": {
       "description": "aspect",
       "layout": "IPY_MODEL_7ceedff79cfc4204a2375d42a21f0a13",
       "step": null,
       "style": "IPY_MODEL_e040acf043ec44a799a20802ca22870e",
       "value": 1
      }
     },
     "5eade71d56404327afd8a93633ec73d4": {
      "model_module": "@jupyter-widgets/controls",
      "model_module_version": "1.4.0",
      "model_name": "DescriptionStyleModel",
      "state": {
       "description_width": ""
      }
     },
     "5ebe20df5f9b4f26a163b4a4f1fd02da": {
      "model_module": "@jupyter-widgets/controls",
      "model_module_version": "1.4.0",
      "model_name": "IntSliderModel",
      "state": {
       "description": "x_ci",
       "layout": "IPY_MODEL_aaeb9211de424bd8842c3d3cdba773c1",
       "style": "IPY_MODEL_e0d96c96ad1849b59bdfffd5c53814a4",
       "value": 95
      }
     },
     "5f10675994c84567aa8c46fbb56a7756": {
      "model_module": "@jupyter-widgets/controls",
      "model_module_version": "1.4.0",
      "model_name": "DescriptionStyleModel",
      "state": {
       "description_width": ""
      }
     },
     "5f30bd7a44db4fe782cd71633b0aebc4": {
      "model_module": "@jupyter-widgets/controls",
      "model_module_version": "1.4.0",
      "model_name": "IntTextModel",
      "state": {
       "description": "x_bins",
       "layout": "IPY_MODEL_b9ce3206290d4ee0841d74b4a751861c",
       "step": 1,
       "style": "IPY_MODEL_2a2b1dee94c044fe8867a674f6a97146",
       "value": 10
      }
     },
     "5f67ef8ccf834f39939047c2b75d7419": {
      "model_module": "@jupyter-widgets/controls",
      "model_module_version": "1.4.0",
      "model_name": "HBoxModel",
      "state": {
       "children": [
        "IPY_MODEL_36853f4ff4a047b594af6c8869f873c7"
       ],
       "layout": "IPY_MODEL_03291a3a6c194d719dd26d2d958da0d4"
      }
     },
     "5fa58884d2de44838c94d9624eca4d38": {
      "model_module": "@jupyter-widgets/controls",
      "model_module_version": "1.4.0",
      "model_name": "CheckboxModel",
      "state": {
       "description": "shade",
       "disabled": false,
       "layout": "IPY_MODEL_a329ec5288c94b5097b6634f08e98239",
       "style": "IPY_MODEL_951cdc47859a47caa3cde8ff0d3946a9",
       "value": false
      }
     },
     "5fdcb39a0ed94bbbb24bc064206095d8": {
      "model_module": "@jupyter-widgets/controls",
      "model_module_version": "1.4.0",
      "model_name": "DescriptionStyleModel",
      "state": {
       "description_width": ""
      }
     },
     "601dfeba90ea4f169603dea72970860e": {
      "model_module": "@jupyter-widgets/controls",
      "model_module_version": "1.4.0",
      "model_name": "DescriptionStyleModel",
      "state": {
       "description_width": ""
      }
     },
     "603d33d7770d41eabeab6c13e917e76c": {
      "model_module": "@jupyter-widgets/controls",
      "model_module_version": "1.4.0",
      "model_name": "DropdownModel",
      "state": {
       "_options_labels": [
        "1",
        "2",
        "3",
        "4",
        "5",
        "6",
        "7",
        "8",
        "9",
        "10",
        "11",
        "12",
        "13",
        "14",
        "15",
        "16",
        "17",
        "18",
        "19",
        "20",
        "21",
        "22",
        "23",
        "24",
        "25",
        "26",
        "27",
        "28",
        "29",
        "30",
        "31"
       ],
       "description": "data2",
       "index": 0,
       "layout": "IPY_MODEL_69b9c0e1530c4f7785867c60d41024c2",
       "style": "IPY_MODEL_a5a17aa29d6640428251f117ed8c508a"
      }
     },
     "60637d255b564a969deeaaa5fd16fec6": {
      "model_module": "@jupyter-widgets/controls",
      "model_module_version": "1.4.0",
      "model_name": "DescriptionStyleModel",
      "state": {
       "description_width": ""
      }
     },
     "60fb1a93331b4f7a8fc21c8ec2fff845": {
      "model_module": "@jupyter-widgets/controls",
      "model_module_version": "1.4.0",
      "model_name": "DescriptionStyleModel",
      "state": {
       "description_width": ""
      }
     },
     "610236d485fe4a3394ee86522aa345eb": {
      "model_module": "@jupyter-widgets/base",
      "model_module_version": "1.1.0",
      "model_name": "LayoutModel",
      "state": {}
     },
     "6159ea184003456c919043d2f86328de": {
      "model_module": "@jupyter-widgets/controls",
      "model_module_version": "1.4.0",
      "model_name": "DescriptionStyleModel",
      "state": {
       "description_width": ""
      }
     },
     "61b2492577ab42bcbff5ed6af52852d0": {
      "model_module": "@jupyter-widgets/base",
      "model_module_version": "1.1.0",
      "model_name": "LayoutModel",
      "state": {}
     },
     "61b5a1da3fc14ad8af448aa0cc004c49": {
      "model_module": "@jupyter-widgets/controls",
      "model_module_version": "1.4.0",
      "model_name": "DescriptionStyleModel",
      "state": {
       "description_width": ""
      }
     },
     "6299f147e7b947ed9d0e7482b9c3177c": {
      "model_module": "@jupyter-widgets/base",
      "model_module_version": "1.1.0",
      "model_name": "LayoutModel",
      "state": {}
     },
     "64aae24e23e847dfab5fecd5b48cd699": {
      "model_module": "@jupyter-widgets/controls",
      "model_module_version": "1.4.0",
      "model_name": "DescriptionStyleModel",
      "state": {
       "description_width": ""
      }
     },
     "64d7c0dd85e64a38a8d4da0834b7e2e7": {
      "model_module": "@jupyter-widgets/controls",
      "model_module_version": "1.4.0",
      "model_name": "DescriptionStyleModel",
      "state": {
       "description_width": ""
      }
     },
     "661b05d3911f4947b0a59bd96e3a5d8b": {
      "model_module": "@jupyter-widgets/base",
      "model_module_version": "1.1.0",
      "model_name": "LayoutModel",
      "state": {}
     },
     "66a9323123254789b0effa5c5797db7a": {
      "model_module": "@jupyter-widgets/base",
      "model_module_version": "1.1.0",
      "model_name": "LayoutModel",
      "state": {}
     },
     "66e19426a98a4d8fb3e58cbf0a3a3b93": {
      "model_module": "@jupyter-widgets/controls",
      "model_module_version": "1.4.0",
      "model_name": "DescriptionStyleModel",
      "state": {
       "description_width": ""
      }
     },
     "6822b4c00232434791e73e900170e63e": {
      "model_module": "@jupyter-widgets/controls",
      "model_module_version": "1.4.0",
      "model_name": "CheckboxModel",
      "state": {
       "description": "split",
       "disabled": false,
       "layout": "IPY_MODEL_34222a7a4eab400da3c5fb9c582e9aef",
       "style": "IPY_MODEL_a7394b004c5e4e96882674c2f7640f6d",
       "value": false
      }
     },
     "696c9e17acfc4e0d9edd18e870cc951c": {
      "model_module": "@jupyter-widgets/controls",
      "model_module_version": "1.4.0",
      "model_name": "FloatTextModel",
      "state": {
       "description": "width",
       "layout": "IPY_MODEL_369baaf6e1ae4cbaa2523f2545394892",
       "step": null,
       "style": "IPY_MODEL_5f10675994c84567aa8c46fbb56a7756",
       "value": 1
      }
     },
     "69b9c0e1530c4f7785867c60d41024c2": {
      "model_module": "@jupyter-widgets/base",
      "model_module_version": "1.1.0",
      "model_name": "LayoutModel",
      "state": {}
     },
     "6a14e4af603f4d8c90a51288a2180723": {
      "model_module": "@jupyter-widgets/controls",
      "model_module_version": "1.4.0",
      "model_name": "CheckboxModel",
      "state": {
       "description": "cbar_ax",
       "disabled": false,
       "layout": "IPY_MODEL_6299f147e7b947ed9d0e7482b9c3177c",
       "style": "IPY_MODEL_09d47020d272458aa247fb68ff1d9797",
       "value": false
      }
     },
     "6a1aefade05b4ab3b7c045e72dfe62d8": {
      "model_module": "@jupyter-widgets/controls",
      "model_module_version": "1.4.0",
      "model_name": "HBoxModel",
      "state": {
       "children": [
        "IPY_MODEL_1957662260d24193bbbc9326c73d6ec1"
       ],
       "layout": "IPY_MODEL_d14a5d436ba54f3da2f3a13f56e66f6c"
      }
     },
     "6a612b5b866e4cbfa4e46025fd7d2f38": {
      "model_module": "@jupyter-widgets/controls",
      "model_module_version": "1.4.0",
      "model_name": "DropdownModel",
      "state": {
       "_options_labels": [
        "True",
        "col",
        "row"
       ],
       "description": "sharey",
       "index": 0,
       "layout": "IPY_MODEL_fdbb6dcf1ee64a7caefe70af53852ce3",
       "style": "IPY_MODEL_e17835a06a514f20af661b1d8fe634a3"
      }
     },
     "6a8fc18e51ef433a9f749aba71e01688": {
      "model_module": "@jupyter-widgets/controls",
      "model_module_version": "1.4.0",
      "model_name": "DropdownModel",
      "state": {
       "_options_labels": [
        "1",
        "2",
        "3",
        "4",
        "5",
        "6",
        "7",
        "8",
        "9",
        "10",
        "11",
        "12",
        "13",
        "14",
        "15",
        "16",
        "17",
        "18",
        "19",
        "20",
        "21",
        "22",
        "23",
        "24",
        "25",
        "26",
        "27",
        "28",
        "29",
        "30",
        "31"
       ],
       "description": "col",
       "index": 0,
       "layout": "IPY_MODEL_cf90efcaf46d472fa14b2581c0de44d7",
       "style": "IPY_MODEL_256cfde4ebc94d0faf12f57b29a3c5ad"
      }
     },
     "6b0cdbaa3b0f4ec08376fcb1601d6009": {
      "model_module": "@jupyter-widgets/base",
      "model_module_version": "1.1.0",
      "model_name": "LayoutModel",
      "state": {}
     },
     "6b4ba11af1ce4561931305382b6fad69": {
      "model_module": "@jupyter-widgets/controls",
      "model_module_version": "1.4.0",
      "model_name": "DropdownModel",
      "state": {
       "_options_labels": [
        "point",
        "bar",
        "strip",
        "swarm",
        "box",
        "violin",
        "boxen"
       ],
       "description": "kind",
       "index": 0,
       "layout": "IPY_MODEL_e96a23db79b64f118e466105c2e28aa9",
       "style": "IPY_MODEL_fae657af77344bcebdf131f490e026d7"
      }
     },
     "6b58cd6afd4247edbddbe191067c6614": {
      "model_module": "@jupyter-widgets/base",
      "model_module_version": "1.1.0",
      "model_name": "LayoutModel",
      "state": {}
     },
     "6b6562923823413aba865d6534ccd9b1": {
      "model_module": "@jupyter-widgets/base",
      "model_module_version": "1.1.0",
      "model_name": "LayoutModel",
      "state": {}
     },
     "6c1ced30e5e9451b9edb6ce7314d2dc9": {
      "model_module": "@jupyter-widgets/controls",
      "model_module_version": "1.4.0",
      "model_name": "DescriptionStyleModel",
      "state": {
       "description_width": ""
      }
     },
     "6c40c83664c3499ca1b56b539753512b": {
      "model_module": "@jupyter-widgets/controls",
      "model_module_version": "1.4.0",
      "model_name": "DescriptionStyleModel",
      "state": {
       "description_width": ""
      }
     },
     "6c8bf7aced9e4c2598d8f433f2a5fac5": {
      "model_module": "@jupyter-widgets/base",
      "model_module_version": "1.1.0",
      "model_name": "LayoutModel",
      "state": {}
     },
     "6d406ac869094748ae557f6fbf20b5ad": {
      "model_module": "@jupyter-widgets/base",
      "model_module_version": "1.1.0",
      "model_name": "LayoutModel",
      "state": {}
     },
     "6da035c0f6214712bcad494895be377d": {
      "model_module": "@jupyter-widgets/controls",
      "model_module_version": "1.4.0",
      "model_name": "CheckboxModel",
      "state": {
       "description": "split",
       "disabled": false,
       "layout": "IPY_MODEL_490c137a9ea244ae9f4c899bcc73583e",
       "style": "IPY_MODEL_22b16c2d4dd545cc9ef11cfaf4f98500",
       "value": false
      }
     },
     "6dd360f0513546f0a3088f9a1420a4b0": {
      "model_module": "@jupyter-widgets/controls",
      "model_module_version": "1.4.0",
      "model_name": "CheckboxModel",
      "state": {
       "description": "robust",
       "disabled": false,
       "layout": "IPY_MODEL_228be1a17e984a7d9f5a8c7a7fff9e10",
       "style": "IPY_MODEL_b1c46fe48a99481089a06e20275f2aad",
       "value": false
      }
     },
     "6e72ddd0f3b44d729ad14df8a5c43c58": {
      "model_module": "@jupyter-widgets/controls",
      "model_module_version": "1.4.0",
      "model_name": "DescriptionStyleModel",
      "state": {
       "description_width": ""
      }
     },
     "6f7625d3f5064d95b49907e1b65d5df7": {
      "model_module": "@jupyter-widgets/controls",
      "model_module_version": "1.4.0",
      "model_name": "DescriptionStyleModel",
      "state": {
       "description_width": ""
      }
     },
     "6f84148bb33049129f056d7f674ef45b": {
      "model_module": "@jupyter-widgets/controls",
      "model_module_version": "1.4.0",
      "model_name": "CheckboxModel",
      "state": {
       "description": "legend_out",
       "disabled": false,
       "layout": "IPY_MODEL_79b78b51a1c34fa2ac0a5f080ae8d926",
       "style": "IPY_MODEL_408ce49d03e648f4bac2c28608b7ded4",
       "value": false
      }
     },
     "6fd115b1e53647ceaeb1a2ff39b50f26": {
      "model_module": "@jupyter-widgets/base",
      "model_module_version": "1.1.0",
      "model_name": "LayoutModel",
      "state": {}
     },
     "703f9d312c2c49d689ed22d06d1d4788": {
      "model_module": "@jupyter-widgets/controls",
      "model_module_version": "1.4.0",
      "model_name": "FloatTextModel",
      "state": {
       "description": "linewidths",
       "layout": "IPY_MODEL_141def824bad4beebc3fced57a8a0948",
       "step": null,
       "style": "IPY_MODEL_c645dce9d4a9433599554b1a1d4cbea6",
       "value": 1
      }
     },
     "7064702a71004495ada638f683863c9d": {
      "model_module": "@jupyter-widgets/controls",
      "model_module_version": "1.4.0",
      "model_name": "TextModel",
      "state": {
       "description": "label",
       "layout": "IPY_MODEL_23cce3abb67c4256ad4c9abcf5e3637f",
       "style": "IPY_MODEL_2b95d19af4a244baa4f011fe60d86cba"
      }
     },
     "709ae0c33312465ba1b129c8695f69be": {
      "model_module": "@jupyter-widgets/controls",
      "model_module_version": "1.4.0",
      "model_name": "DescriptionStyleModel",
      "state": {
       "description_width": ""
      }
     },
     "70cebfe9f7ac4997ab55595b1ad01025": {
      "model_module": "@jupyter-widgets/base",
      "model_module_version": "1.1.0",
      "model_name": "LayoutModel",
      "state": {}
     },
     "71c6cd5077df40148afadeec9aff8545": {
      "model_module": "@jupyter-widgets/controls",
      "model_module_version": "1.4.0",
      "model_name": "ButtonStyleModel",
      "state": {}
     },
     "72f6f71dd20149dbaadc538346e16094": {
      "model_module": "@jupyter-widgets/base",
      "model_module_version": "1.1.0",
      "model_name": "LayoutModel",
      "state": {}
     },
     "72f7d60c5e474ce19657c69e7b962e0f": {
      "model_module": "@jupyter-widgets/controls",
      "model_module_version": "1.4.0",
      "model_name": "DescriptionStyleModel",
      "state": {
       "description_width": ""
      }
     },
     "73d7e19260ba4669bdb70d44a70dba98": {
      "model_module": "@jupyter-widgets/controls",
      "model_module_version": "1.4.0",
      "model_name": "DropdownModel",
      "state": {
       "_options_labels": [
        "area",
        "count",
        "width"
       ],
       "description": "scale",
       "index": 0,
       "layout": "IPY_MODEL_7874e1e54e164cb0828b9a7bcc7e1ea9",
       "style": "IPY_MODEL_f2422af96bfd4d7c8d8ab5bf63e35002"
      }
     },
     "73e6c55658094c51b809103418882ec1": {
      "model_module": "@jupyter-widgets/controls",
      "model_module_version": "1.4.0",
      "model_name": "DropdownModel",
      "state": {
       "_options_labels": [
        "proportion",
        "tukey",
        "trustworthy"
       ],
       "description": "k_depth",
       "index": 0,
       "layout": "IPY_MODEL_7db44b6e53d845cfabb1013fd4e6316d",
       "style": "IPY_MODEL_dfaba91336c04b9392f3f324f39a5175"
      }
     },
     "73ea04aa2e2041a385d5ff6635a1d5cf": {
      "model_module": "@jupyter-widgets/controls",
      "model_module_version": "1.4.0",
      "model_name": "DescriptionStyleModel",
      "state": {
       "description_width": ""
      }
     },
     "740f3e98aeb043309ef2227919b75288": {
      "model_module": "@jupyter-widgets/base",
      "model_module_version": "1.1.0",
      "model_name": "LayoutModel",
      "state": {}
     },
     "743b2e35a44e48f6ab1d608869636b84": {
      "model_module": "@jupyter-widgets/controls",
      "model_module_version": "1.4.0",
      "model_name": "DescriptionStyleModel",
      "state": {
       "description_width": ""
      }
     },
     "743c787c04a74236ac02b4efd6a902d6": {
      "model_module": "@jupyter-widgets/controls",
      "model_module_version": "1.4.0",
      "model_name": "DescriptionStyleModel",
      "state": {
       "description_width": ""
      }
     },
     "75a24e7a962b4046ab591f6f7a461b21": {
      "model_module": "@jupyter-widgets/base",
      "model_module_version": "1.1.0",
      "model_name": "LayoutModel",
      "state": {}
     },
     "75b506304ed643dea1d8c3ee1ec156dc": {
      "model_module": "@jupyter-widgets/base",
      "model_module_version": "1.1.0",
      "model_name": "LayoutModel",
      "state": {}
     },
     "75c93c12a2b047259f43bbb079f7fcc5": {
      "model_module": "@jupyter-widgets/controls",
      "model_module_version": "1.4.0",
      "model_name": "DescriptionStyleModel",
      "state": {
       "description_width": ""
      }
     },
     "761e5ff89b7248fcb376b726fa1678a5": {
      "model_module": "@jupyter-widgets/controls",
      "model_module_version": "1.4.0",
      "model_name": "DropdownModel",
      "state": {
       "_options_labels": [
        "v",
        "h"
       ],
       "description": "orient",
       "index": 0,
       "layout": "IPY_MODEL_0eaf7bb4d66647529df129db34faf310",
       "style": "IPY_MODEL_12cf80cb69914892805ad7ce0cf7f178"
      }
     },
     "7670bd9c0a694209bceb23075f487709": {
      "model_module": "@jupyter-widgets/controls",
      "model_module_version": "1.4.0",
      "model_name": "DescriptionStyleModel",
      "state": {
       "description_width": ""
      }
     },
     "768c2d27464d46d780d46cecdd3023c4": {
      "model_module": "@jupyter-widgets/base",
      "model_module_version": "1.1.0",
      "model_name": "LayoutModel",
      "state": {}
     },
     "76ac9401de224618990fcbcf2c3895e5": {
      "model_module": "@jupyter-widgets/base",
      "model_module_version": "1.1.0",
      "model_name": "LayoutModel",
      "state": {}
     },
     "76c8d0b1df7843e88ecec6462a58fba4": {
      "model_module": "@jupyter-widgets/controls",
      "model_module_version": "1.4.0",
      "model_name": "DropdownModel",
      "state": {
       "_options_labels": [
        "gau",
        "cos",
        "biw",
        "epa",
        "tri",
        "triw"
       ],
       "description": "kernel",
       "index": 0,
       "layout": "IPY_MODEL_5a5bf49c389d44449fbbd50781dfe5e0",
       "style": "IPY_MODEL_c3515aa920a84549a345b9032aba93c5"
      }
     },
     "76cb19b7876746f099713d950cc41d37": {
      "model_module": "@jupyter-widgets/controls",
      "model_module_version": "1.4.0",
      "model_name": "DropdownModel",
      "state": {
       "_options_labels": [
        "1",
        "2",
        "3",
        "4",
        "5",
        "6",
        "7",
        "8",
        "9",
        "10",
        "11",
        "12",
        "13",
        "14",
        "15",
        "16",
        "17",
        "18",
        "19",
        "20",
        "21",
        "22",
        "23",
        "24",
        "25",
        "26",
        "27",
        "28",
        "29",
        "30",
        "31"
       ],
       "description": "x",
       "index": 0,
       "layout": "IPY_MODEL_8252b0ac571d466b8adc1fe44ae21f93",
       "style": "IPY_MODEL_59bbb798c8f34814a54ee1cc080f9b43"
      }
     },
     "76dda10e7ff74eeca8086736d22eb1ab": {
      "model_module": "@jupyter-widgets/controls",
      "model_module_version": "1.4.0",
      "model_name": "DropdownModel",
      "state": {
       "_options_labels": [
        "scatter",
        "reg",
        "resid",
        "kde",
        "hex"
       ],
       "description": "kind",
       "index": 0,
       "layout": "IPY_MODEL_e00f0e5700a84c2abd8137239dc1f437",
       "style": "IPY_MODEL_22c070fc1d7c4ae2ac90c441c509871e"
      }
     },
     "76e09912713c4f7ea3d92fdb3c72d675": {
      "model_module": "@jupyter-widgets/controls",
      "model_module_version": "1.4.0",
      "model_name": "CheckboxModel",
      "state": {
       "description": "kde",
       "disabled": false,
       "layout": "IPY_MODEL_c7f0fd3b8ddb4dd59282ba7a2f24f2dd",
       "style": "IPY_MODEL_d163c83bace64d808117fb79a96e7760",
       "value": false
      }
     },
     "77ddfeb234224a15a454085e4d58ad06": {
      "model_module": "@jupyter-widgets/controls",
      "model_module_version": "1.4.0",
      "model_name": "DropdownModel",
      "state": {
       "_options_labels": [
        "True",
        "col",
        "row"
       ],
       "description": "sharex",
       "index": 0,
       "layout": "IPY_MODEL_e4cf3a5b82f94b64b1f954621e7f463e",
       "style": "IPY_MODEL_743b2e35a44e48f6ab1d608869636b84"
      }
     },
     "7874e1e54e164cb0828b9a7bcc7e1ea9": {
      "model_module": "@jupyter-widgets/base",
      "model_module_version": "1.1.0",
      "model_name": "LayoutModel",
      "state": {}
     },
     "787b5d2eca0948558b750b50a99807ce": {
      "model_module": "@jupyter-widgets/controls",
      "model_module_version": "1.4.0",
      "model_name": "DescriptionStyleModel",
      "state": {
       "description_width": ""
      }
     },
     "78faf5f3812b4897b1eba1272aff0248": {
      "model_module": "@jupyter-widgets/controls",
      "model_module_version": "1.4.0",
      "model_name": "DescriptionStyleModel",
      "state": {
       "description_width": ""
      }
     },
     "7908675177df4aac9188cdfd1fc343e2": {
      "model_module": "@jupyter-widgets/controls",
      "model_module_version": "1.4.0",
      "model_name": "FloatTextModel",
      "state": {
       "description": "errwidth",
       "layout": "IPY_MODEL_6fd115b1e53647ceaeb1a2ff39b50f26",
       "step": null,
       "style": "IPY_MODEL_fcde5115ff084884b36b0e0c96f2c234",
       "value": 1
      }
     },
     "79a41304f4cc45fbab1d59ec5313f002": {
      "model_module": "@jupyter-widgets/controls",
      "model_module_version": "1.4.0",
      "model_name": "DescriptionStyleModel",
      "state": {
       "description_width": ""
      }
     },
     "79b78b51a1c34fa2ac0a5f080ae8d926": {
      "model_module": "@jupyter-widgets/base",
      "model_module_version": "1.1.0",
      "model_name": "LayoutModel",
      "state": {}
     },
     "79d584ba7ee4467892dfe5656734738b": {
      "model_module": "@jupyter-widgets/controls",
      "model_module_version": "1.4.0",
      "model_name": "DescriptionStyleModel",
      "state": {
       "description_width": ""
      }
     },
     "7a425255fc304005a98bb09197bce709": {
      "model_module": "@jupyter-widgets/controls",
      "model_module_version": "1.4.0",
      "model_name": "DescriptionStyleModel",
      "state": {
       "description_width": ""
      }
     },
     "7ad07105dab44cc39afa65603b5034a0": {
      "model_module": "@jupyter-widgets/controls",
      "model_module_version": "1.4.0",
      "model_name": "DescriptionStyleModel",
      "state": {
       "description_width": ""
      }
     },
     "7b176fc132274e3aa288f504f51fcdf1": {
      "model_module": "@jupyter-widgets/base",
      "model_module_version": "1.1.0",
      "model_name": "LayoutModel",
      "state": {}
     },
     "7ba9794c74aa493f842b15e88a2b063f": {
      "model_module": "@jupyter-widgets/controls",
      "model_module_version": "1.4.0",
      "model_name": "HBoxModel",
      "state": {
       "children": [
        "IPY_MODEL_fac952e7f1eb4043be872bba06984b17"
       ],
       "layout": "IPY_MODEL_eabf43770c2f4122beee9a183f7f4af6"
      }
     },
     "7bc8a1cde376434fb7201acbf8029217": {
      "model_module": "@jupyter-widgets/controls",
      "model_module_version": "1.4.0",
      "model_name": "DropdownModel",
      "state": {
       "_options_labels": [
        "area",
        "count",
        "width"
       ],
       "description": "scale",
       "index": 0,
       "layout": "IPY_MODEL_8914832c5180444babdb6d292643c631",
       "style": "IPY_MODEL_79a41304f4cc45fbab1d59ec5313f002"
      }
     },
     "7c22ad42e48d4ab0993c231f97c6365f": {
      "model_module": "@jupyter-widgets/controls",
      "model_module_version": "1.4.0",
      "model_name": "CheckboxModel",
      "state": {
       "description": "logx",
       "disabled": false,
       "layout": "IPY_MODEL_55db4d3ac8c34199a3e63ce14701c0b4",
       "style": "IPY_MODEL_3c76911f77bc4b379ed336eb7f9fc7bf",
       "value": false
      }
     },
     "7c554817683c47e29052039afa9fb961": {
      "model_module": "@jupyter-widgets/controls",
      "model_module_version": "1.4.0",
      "model_name": "CheckboxModel",
      "state": {
       "description": "lowess",
       "disabled": false,
       "layout": "IPY_MODEL_4369e86e3d2a4819b208f775921b28ff",
       "style": "IPY_MODEL_e36bae98e9184c8a930462965e91cdb6",
       "value": false
      }
     },
     "7c5d1bc0a90f4602bf7075a5f538a044": {
      "model_module": "@jupyter-widgets/base",
      "model_module_version": "1.1.0",
      "model_name": "LayoutModel",
      "state": {}
     },
     "7ceedff79cfc4204a2375d42a21f0a13": {
      "model_module": "@jupyter-widgets/base",
      "model_module_version": "1.1.0",
      "model_name": "LayoutModel",
      "state": {}
     },
     "7d515a7989374b338add1709256d82a7": {
      "model_module": "@jupyter-widgets/controls",
      "model_module_version": "1.4.0",
      "model_name": "HBoxModel",
      "state": {
       "children": [
        "IPY_MODEL_33dbd3defda84440b33659d3a985ac94"
       ],
       "layout": "IPY_MODEL_2148248df63f4cccab5d70026754bbf5"
      }
     },
     "7d5cd72aeaa54cb896720e4e66bcae1d": {
      "model_module": "@jupyter-widgets/controls",
      "model_module_version": "1.4.0",
      "model_name": "FloatTextModel",
      "state": {
       "description": "linewidths",
       "layout": "IPY_MODEL_d77e8eda50a741c3a6449313bdfe0cf5",
       "step": null,
       "style": "IPY_MODEL_cdc5b25e16934e16a6f643fc87c6d4cb",
       "value": 1
      }
     },
     "7db44b6e53d845cfabb1013fd4e6316d": {
      "model_module": "@jupyter-widgets/base",
      "model_module_version": "1.1.0",
      "model_name": "LayoutModel",
      "state": {}
     },
     "7de1402ccc46441a9e98abeff73fbfac": {
      "model_module": "@jupyter-widgets/base",
      "model_module_version": "1.1.0",
      "model_name": "LayoutModel",
      "state": {}
     },
     "7e03c0069c3b47a5945da7aac5169150": {
      "model_module": "@jupyter-widgets/controls",
      "model_module_version": "1.4.0",
      "model_name": "IntTextModel",
      "state": {
       "description": "ratio",
       "layout": "IPY_MODEL_cf6accffd5ea44b18a2e903b19fc45d6",
       "step": 1,
       "style": "IPY_MODEL_fc4d7424e68d428f93e14e59fd795d33",
       "value": 1
      }
     },
     "7f12727ee20c43b09422e508c3a0dd26": {
      "model_module": "@jupyter-widgets/controls",
      "model_module_version": "1.4.0",
      "model_name": "DropdownModel",
      "state": {
       "_options_labels": [
        "1",
        "2",
        "3",
        "4",
        "5",
        "6",
        "7",
        "8",
        "9",
        "10",
        "11",
        "12",
        "13",
        "14",
        "15",
        "16",
        "17",
        "18",
        "19",
        "20",
        "21",
        "22",
        "23",
        "24",
        "25",
        "26",
        "27",
        "28",
        "29",
        "30",
        "31"
       ],
       "description": "sizes",
       "index": 0,
       "layout": "IPY_MODEL_740f3e98aeb043309ef2227919b75288",
       "style": "IPY_MODEL_d82ae5ec07c3491089ae670ebd32fad0"
      }
     },
     "7fe56adef46d45f48350950e67ee41ca": {
      "model_module": "@jupyter-widgets/controls",
      "model_module_version": "1.4.0",
      "model_name": "DropdownModel",
      "state": {
       "_options_labels": [
        "True",
        "col",
        "row"
       ],
       "description": "sharex",
       "index": 0,
       "layout": "IPY_MODEL_22bdb420b58c49ab837299189fab6abb",
       "style": "IPY_MODEL_f85135716b4c41629d874c580891ace6"
      }
     },
     "8037de74adb44658adc14ab1fe9de851": {
      "model_module": "@jupyter-widgets/controls",
      "model_module_version": "1.4.0",
      "model_name": "TextModel",
      "state": {
       "description": "axlabel",
       "layout": "IPY_MODEL_01b0f6ac84dc4d46897cc7d939a2118d",
       "style": "IPY_MODEL_601dfeba90ea4f169603dea72970860e"
      }
     },
     "805ecd7e04024420bd56f230bd943a48": {
      "model_module": "@jupyter-widgets/controls",
      "model_module_version": "1.4.0",
      "model_name": "FloatTextModel",
      "state": {
       "description": "fliersize",
       "layout": "IPY_MODEL_3742920ef79640fa94eb3b2d8d681993",
       "step": null,
       "style": "IPY_MODEL_4fd1502f88df45b392b2c47e513a4126",
       "value": 1
      }
     },
     "806f104df754494e88ffea872e10f878": {
      "model_module": "@jupyter-widgets/controls",
      "model_module_version": "1.4.0",
      "model_name": "DescriptionStyleModel",
      "state": {
       "description_width": ""
      }
     },
     "8119eee13b1740078af49133caacbbe2": {
      "model_module": "@jupyter-widgets/controls",
      "model_module_version": "1.4.0",
      "model_name": "CheckboxModel",
      "state": {
       "description": "truncate",
       "disabled": false,
       "layout": "IPY_MODEL_bdf70b89a2f14464b62ce35cdbb29f1c",
       "style": "IPY_MODEL_709ae0c33312465ba1b129c8695f69be",
       "value": false
      }
     },
     "8142d5dbfed6439691de667c6919276e": {
      "model_module": "@jupyter-widgets/base",
      "model_module_version": "1.1.0",
      "model_name": "LayoutModel",
      "state": {}
     },
     "815ec020e3364910870798b4e740eee9": {
      "model_module": "@jupyter-widgets/controls",
      "model_module_version": "1.4.0",
      "model_name": "IntSliderModel",
      "state": {
       "description": "x_ci",
       "layout": "IPY_MODEL_a242c3ac7d23407aa1aaf3d5966616a0",
       "style": "IPY_MODEL_cb71c104e84c420cb9cc74ecf01827bc",
       "value": 95
      }
     },
     "818ff825ed4149c7818effd6bc70168c": {
      "model_module": "@jupyter-widgets/base",
      "model_module_version": "1.1.0",
      "model_name": "LayoutModel",
      "state": {}
     },
     "81f6badf78d443c1bc25146393c61c89": {
      "model_module": "@jupyter-widgets/base",
      "model_module_version": "1.1.0",
      "model_name": "LayoutModel",
      "state": {}
     },
     "8252b0ac571d466b8adc1fe44ae21f93": {
      "model_module": "@jupyter-widgets/base",
      "model_module_version": "1.1.0",
      "model_name": "LayoutModel",
      "state": {}
     },
     "825b50c45b0047a5b5eff3ad36779712": {
      "model_module": "@jupyter-widgets/controls",
      "model_module_version": "1.4.0",
      "model_name": "DescriptionStyleModel",
      "state": {
       "description_width": ""
      }
     },
     "82c791e386624a909973417310b0fb26": {
      "model_module": "@jupyter-widgets/base",
      "model_module_version": "1.1.0",
      "model_name": "LayoutModel",
      "state": {}
     },
     "8328820e1dfa43658b873d807f3f52d2": {
      "model_module": "@jupyter-widgets/base",
      "model_module_version": "1.1.0",
      "model_name": "LayoutModel",
      "state": {}
     },
     "844d5277f0a54fc6962c63e750ddb0f9": {
      "model_module": "@jupyter-widgets/base",
      "model_module_version": "1.1.0",
      "model_name": "LayoutModel",
      "state": {}
     },
     "867a7a9dd4ad48a4b7a2e2cd40e47490": {
      "model_module": "@jupyter-widgets/controls",
      "model_module_version": "1.4.0",
      "model_name": "DropdownModel",
      "state": {
       "_options_labels": [
        "1",
        "2",
        "3",
        "4",
        "5",
        "6",
        "7",
        "8",
        "9",
        "10",
        "11",
        "12",
        "13",
        "14",
        "15",
        "16",
        "17",
        "18",
        "19",
        "20",
        "21",
        "22",
        "23",
        "24",
        "25",
        "26",
        "27",
        "28",
        "29",
        "30",
        "31"
       ],
       "description": "data",
       "index": 0,
       "layout": "IPY_MODEL_f2dff2445d7c48a287f8450540f29489",
       "style": "IPY_MODEL_4bb8f6e9d123448a99bd57523eae732a"
      }
     },
     "86a9a920b8ad4f26b0615b50b3e7c3db": {
      "model_module": "@jupyter-widgets/controls",
      "model_module_version": "1.4.0",
      "model_name": "DropdownModel",
      "state": {
       "_options_labels": [
        "1",
        "2",
        "3",
        "4",
        "5",
        "6",
        "7",
        "8",
        "9",
        "10",
        "11",
        "12",
        "13",
        "14",
        "15",
        "16",
        "17",
        "18",
        "19",
        "20",
        "21",
        "22",
        "23",
        "24",
        "25",
        "26",
        "27",
        "28",
        "29",
        "30",
        "31"
       ],
       "description": "size",
       "index": 0,
       "layout": "IPY_MODEL_edb098815bf64da68ad28e4a8368b6ee",
       "style": "IPY_MODEL_565885a9ab754aa1b4dabb8e3ffa7404"
      }
     },
     "8784fa73144346c9b609a439e87315e0": {
      "model_module": "@jupyter-widgets/controls",
      "model_module_version": "1.4.0",
      "model_name": "DescriptionStyleModel",
      "state": {
       "description_width": ""
      }
     },
     "87998bcb70564342ba56aca05f550b8a": {
      "model_module": "@jupyter-widgets/controls",
      "model_module_version": "1.4.0",
      "model_name": "SliderStyleModel",
      "state": {
       "description_width": ""
      }
     },
     "87eb2be8a4bb40b09ddf2b8b2a7b6416": {
      "model_module": "@jupyter-widgets/controls",
      "model_module_version": "1.4.0",
      "model_name": "DescriptionStyleModel",
      "state": {
       "description_width": ""
      }
     },
     "88075e13383c4e9db09bd332ba6b9891": {
      "model_module": "@jupyter-widgets/controls",
      "model_module_version": "1.4.0",
      "model_name": "DescriptionStyleModel",
      "state": {
       "description_width": ""
      }
     },
     "88e7426b0e0a46998f2402cde02a732e": {
      "model_module": "@jupyter-widgets/controls",
      "model_module_version": "1.4.0",
      "model_name": "DescriptionStyleModel",
      "state": {
       "description_width": ""
      }
     },
     "8914832c5180444babdb6d292643c631": {
      "model_module": "@jupyter-widgets/base",
      "model_module_version": "1.1.0",
      "model_name": "LayoutModel",
      "state": {}
     },
     "8993fd3002104a369df3aa0a6ed9afc2": {
      "model_module": "@jupyter-widgets/controls",
      "model_module_version": "1.4.0",
      "model_name": "FloatTextModel",
      "state": {
       "description": "fliersize",
       "layout": "IPY_MODEL_5903756d37d84e54852450aa393aac9f",
       "step": null,
       "style": "IPY_MODEL_c2e5d8c8d01549b384f69d6279763125",
       "value": 1
      }
     },
     "8ac9800457c5492a8a19cd6ab1b859c5": {
      "model_module": "@jupyter-widgets/controls",
      "model_module_version": "1.4.0",
      "model_name": "CheckboxModel",
      "state": {
       "description": "legend_out",
       "disabled": false,
       "layout": "IPY_MODEL_6d406ac869094748ae557f6fbf20b5ad",
       "style": "IPY_MODEL_cb3fca2906094569a063b4a784e85636",
       "value": false
      }
     },
     "8bd5de49821c449da2e2b72f4b1c5f3c": {
      "model_module": "@jupyter-widgets/controls",
      "model_module_version": "1.4.0",
      "model_name": "DescriptionStyleModel",
      "state": {
       "description_width": ""
      }
     },
     "8bd9b139ef2f463f9a942c5a85e854f5": {
      "model_module": "@jupyter-widgets/base",
      "model_module_version": "1.1.0",
      "model_name": "LayoutModel",
      "state": {}
     },
     "8d07018791d64e7ba0228fb11864ba13": {
      "model_module": "@jupyter-widgets/controls",
      "model_module_version": "1.4.0",
      "model_name": "DescriptionStyleModel",
      "state": {
       "description_width": ""
      }
     },
     "8d3fff8849994e95b3acd0242d290334": {
      "model_module": "@jupyter-widgets/controls",
      "model_module_version": "1.4.0",
      "model_name": "DescriptionStyleModel",
      "state": {
       "description_width": ""
      }
     },
     "8de1a35c155e46049f9030e0d0acfe32": {
      "model_module": "@jupyter-widgets/controls",
      "model_module_version": "1.4.0",
      "model_name": "DescriptionStyleModel",
      "state": {
       "description_width": ""
      }
     },
     "8e4ed59013f641ac84ea8dfb426308cc": {
      "model_module": "@jupyter-widgets/controls",
      "model_module_version": "1.4.0",
      "model_name": "DescriptionStyleModel",
      "state": {
       "description_width": ""
      }
     },
     "8e5f21411b2244f595001e4f0f32d8a8": {
      "model_module": "@jupyter-widgets/controls",
      "model_module_version": "1.4.0",
      "model_name": "DescriptionStyleModel",
      "state": {
       "description_width": ""
      }
     },
     "8ec3aa5984064932816e35caf59cda0d": {
      "model_module": "@jupyter-widgets/base",
      "model_module_version": "1.1.0",
      "model_name": "LayoutModel",
      "state": {}
     },
     "90bd5f2351644a1ba7e2308918110bc4": {
      "model_module": "@jupyter-widgets/controls",
      "model_module_version": "1.4.0",
      "model_name": "ButtonModel",
      "state": {
       "description": "remove",
       "layout": "IPY_MODEL_4368f0bce7da4ee8bbddf2d666dea61d",
       "style": "IPY_MODEL_71c6cd5077df40148afadeec9aff8545"
      }
     },
     "910dc3a26e674f0aaa88cd941d0ce45f": {
      "model_module": "@jupyter-widgets/base",
      "model_module_version": "1.1.0",
      "model_name": "LayoutModel",
      "state": {}
     },
     "91736b0f12934509ae78d68b81de534d": {
      "model_module": "@jupyter-widgets/base",
      "model_module_version": "1.1.0",
      "model_name": "LayoutModel",
      "state": {}
     },
     "91a8ef91c4fa4270a71fefbe98df9710": {
      "model_module": "@jupyter-widgets/base",
      "model_module_version": "1.1.0",
      "model_name": "LayoutModel",
      "state": {}
     },
     "91bd3a9efee742de83f58da86f2cb033": {
      "model_module": "@jupyter-widgets/controls",
      "model_module_version": "1.4.0",
      "model_name": "HBoxModel",
      "state": {
       "children": [
        "IPY_MODEL_34fb785938634b98a8bed9b886f640e8",
        "IPY_MODEL_90bd5f2351644a1ba7e2308918110bc4"
       ],
       "layout": "IPY_MODEL_f00c41639181411ea2f58e317923220b"
      }
     },
     "92fe0e7f807241029007297c4cde8a5a": {
      "model_module": "@jupyter-widgets/controls",
      "model_module_version": "1.4.0",
      "model_name": "DescriptionStyleModel",
      "state": {
       "description_width": ""
      }
     },
     "93e3715f573e48b6abd75ed19d65d601": {
      "model_module": "@jupyter-widgets/base",
      "model_module_version": "1.1.0",
      "model_name": "LayoutModel",
      "state": {}
     },
     "93f6646fe4e144ec8ef6e846a6305f77": {
      "model_module": "@jupyter-widgets/controls",
      "model_module_version": "1.4.0",
      "model_name": "HBoxModel",
      "state": {
       "children": [
        "IPY_MODEL_cfc2d97257244f37ae7d739927b680b1"
       ],
       "layout": "IPY_MODEL_09ef6405acfe462ba8aada64bdec6eef"
      }
     },
     "943ce957a5ba41f0a1fb6d9f252c45aa": {
      "model_module": "@jupyter-widgets/base",
      "model_module_version": "1.1.0",
      "model_name": "LayoutModel",
      "state": {}
     },
     "947902e1bb1d4946afe06cb7fb59c81f": {
      "model_module": "@jupyter-widgets/base",
      "model_module_version": "1.1.0",
      "model_name": "LayoutModel",
      "state": {}
     },
     "94827f0c89d34a869b383e684a04a644": {
      "model_module": "@jupyter-widgets/controls",
      "model_module_version": "1.4.0",
      "model_name": "DescriptionStyleModel",
      "state": {
       "description_width": ""
      }
     },
     "951cdc47859a47caa3cde8ff0d3946a9": {
      "model_module": "@jupyter-widgets/controls",
      "model_module_version": "1.4.0",
      "model_name": "DescriptionStyleModel",
      "state": {
       "description_width": ""
      }
     },
     "953c393515f043159a80f0217bc3e262": {
      "model_module": "@jupyter-widgets/controls",
      "model_module_version": "1.4.0",
      "model_name": "DescriptionStyleModel",
      "state": {
       "description_width": ""
      }
     },
     "95d25900314e49e79095f3f004722ae8": {
      "model_module": "@jupyter-widgets/controls",
      "model_module_version": "1.4.0",
      "model_name": "DescriptionStyleModel",
      "state": {
       "description_width": ""
      }
     },
     "9604f2e4d7114eab9e9d69b6638c05ad": {
      "model_module": "@jupyter-widgets/controls",
      "model_module_version": "1.4.0",
      "model_name": "CheckboxModel",
      "state": {
       "description": "truncate",
       "disabled": false,
       "layout": "IPY_MODEL_fbf02a4945564b7fbfae8f34dedd653e",
       "style": "IPY_MODEL_92fe0e7f807241029007297c4cde8a5a",
       "value": false
      }
     },
     "96870fa3ab8a4f35b97ddd0920cbfe00": {
      "model_module": "@jupyter-widgets/base",
      "model_module_version": "1.1.0",
      "model_name": "LayoutModel",
      "state": {}
     },
     "974cc665e126434abff01a2dc719c2f7": {
      "model_module": "@jupyter-widgets/controls",
      "model_module_version": "1.4.0",
      "model_name": "CheckboxModel",
      "state": {
       "description": "cumulative",
       "disabled": false,
       "layout": "IPY_MODEL_f457e83e1e5d4361b69dc832f1645564",
       "style": "IPY_MODEL_ea414071f086462590af824311906ddd",
       "value": false
      }
     },
     "9769f50183aa4cd3a7f25d708812d8ab": {
      "model_module": "@jupyter-widgets/controls",
      "model_module_version": "1.4.0",
      "model_name": "DropdownModel",
      "state": {
       "_options_labels": [
        "True",
        "col",
        "row"
       ],
       "description": "sharex",
       "index": 0,
       "layout": "IPY_MODEL_e9de2dcf9ac34e61b4885ff71ade5f90",
       "style": "IPY_MODEL_8de1a35c155e46049f9030e0d0acfe32"
      }
     },
     "977182c777e5493e8905c34a00ae2d37": {
      "model_module": "@jupyter-widgets/controls",
      "model_module_version": "1.4.0",
      "model_name": "LabelModel",
      "state": {
       "layout": "IPY_MODEL_d8ed4c59e19441f39e246bfbd16bc8cd",
       "style": "IPY_MODEL_7ad07105dab44cc39afa65603b5034a0",
       "value": "---"
      }
     },
     "979d68444d4c49d09ec6f4037ec9c5ec": {
      "model_module": "@jupyter-widgets/controls",
      "model_module_version": "1.4.0",
      "model_name": "IntTextModel",
      "state": {
       "description": "gridsize",
       "layout": "IPY_MODEL_065f1a8a62cc4090b9cd5efe98ac0ab9",
       "step": 1,
       "style": "IPY_MODEL_b7a02c1eb8484eeca6d61c441e9c71ad",
       "value": 100
      }
     },
     "98b6689aaa9c495dbb7e4c6816596008": {
      "model_module": "@jupyter-widgets/controls",
      "model_module_version": "1.4.0",
      "model_name": "DescriptionStyleModel",
      "state": {
       "description_width": ""
      }
     },
     "99914bd7660947eda6c6403a25162ee7": {
      "model_module": "@jupyter-widgets/base",
      "model_module_version": "1.1.0",
      "model_name": "LayoutModel",
      "state": {}
     },
     "999b1e7c6e4042fab26adc1d43bee51c": {
      "model_module": "@jupyter-widgets/base",
      "model_module_version": "1.1.0",
      "model_name": "LayoutModel",
      "state": {}
     },
     "99df795390be4fc1baf79e659eed47c9": {
      "model_module": "@jupyter-widgets/controls",
      "model_module_version": "1.4.0",
      "model_name": "DropdownModel",
      "state": {
       "_options_labels": [
        "box",
        "quartile",
        "point",
        "stick"
       ],
       "description": "inner",
       "index": 0,
       "layout": "IPY_MODEL_0cbd88377ea748bb9f3322704778f702",
       "style": "IPY_MODEL_c53e3519ba1243aaabef27add46689c9"
      }
     },
     "9a3c8d3a888b46c5a66eb2231a64cce0": {
      "model_module": "@jupyter-widgets/base",
      "model_module_version": "1.1.0",
      "model_name": "LayoutModel",
      "state": {}
     },
     "9a4e2f99ff894ced8849e77303aa442a": {
      "model_module": "@jupyter-widgets/controls",
      "model_module_version": "1.4.0",
      "model_name": "DropdownModel",
      "state": {
       "_options_labels": [
        "1",
        "2",
        "3",
        "4",
        "5",
        "6",
        "7",
        "8",
        "9",
        "10",
        "11",
        "12",
        "13",
        "14",
        "15",
        "16",
        "17",
        "18",
        "19",
        "20",
        "21",
        "22",
        "23",
        "24",
        "25",
        "26",
        "27",
        "28",
        "29",
        "30",
        "31"
       ],
       "description": "y_partial",
       "index": 0,
       "layout": "IPY_MODEL_04c2b3523d7b4bc1962026049e78edf5",
       "style": "IPY_MODEL_72f7d60c5e474ce19657c69e7b962e0f"
      }
     },
     "9b6649d9aaf54715907597eeb8a369fa": {
      "model_module": "@jupyter-widgets/base",
      "model_module_version": "1.1.0",
      "model_name": "LayoutModel",
      "state": {}
     },
     "9b7d56ad00124d1db28f1941c6cefb13": {
      "model_module": "@jupyter-widgets/controls",
      "model_module_version": "1.4.0",
      "model_name": "DescriptionStyleModel",
      "state": {
       "description_width": ""
      }
     },
     "9c893bb35cac4eac887bdc05bd54704b": {
      "model_module": "@jupyter-widgets/controls",
      "model_module_version": "1.4.0",
      "model_name": "TextModel",
      "state": {
       "description": "fmt",
       "layout": "IPY_MODEL_4a16537e468d4281ad9fd8c05f691e58",
       "style": "IPY_MODEL_a95b9f3456df428f9a20bae1585b56ef"
      }
     },
     "9cc9d177a1344aa8aa4d308707f9712e": {
      "model_module": "@jupyter-widgets/controls",
      "model_module_version": "1.4.0",
      "model_name": "DescriptionStyleModel",
      "state": {
       "description_width": ""
      }
     },
     "9cf240fcf3244a1a9241155928d5c069": {
      "model_module": "@jupyter-widgets/base",
      "model_module_version": "1.1.0",
      "model_name": "LayoutModel",
      "state": {}
     },
     "9d2945fd92ce4ef39e677cb7b3d49b60": {
      "model_module": "@jupyter-widgets/controls",
      "model_module_version": "1.4.0",
      "model_name": "DropdownModel",
      "state": {
       "_options_labels": [
        "scatter",
        "line"
       ],
       "description": "kind",
       "index": 0,
       "layout": "IPY_MODEL_5e2bf77801e1418cb154c060affafde8",
       "style": "IPY_MODEL_ac7c7679abec4d878261f57b205028f4"
      }
     },
     "9ee24ad9dad5463d9ded068de6b33e2d": {
      "model_module": "@jupyter-widgets/controls",
      "model_module_version": "1.4.0",
      "model_name": "DescriptionStyleModel",
      "state": {
       "description_width": ""
      }
     },
     "9ee5cfc36036433299569302e090d75e": {
      "model_module": "@jupyter-widgets/base",
      "model_module_version": "1.1.0",
      "model_name": "LayoutModel",
      "state": {}
     },
     "9ee7621c513240dbbe7832908552288f": {
      "model_module": "@jupyter-widgets/base",
      "model_module_version": "1.1.0",
      "model_name": "LayoutModel",
      "state": {}
     },
     "9f36467b6e7a4d07a88acfc1680b514a": {
      "model_module": "@jupyter-widgets/controls",
      "model_module_version": "1.4.0",
      "model_name": "DescriptionStyleModel",
      "state": {
       "description_width": ""
      }
     },
     "9f44159cdc7543a5b0e709e05af974a8": {
      "model_module": "@jupyter-widgets/controls",
      "model_module_version": "1.4.0",
      "model_name": "DescriptionStyleModel",
      "state": {
       "description_width": ""
      }
     },
     "9f8f4d77bab8491494c68fc4e42361ca": {
      "model_module": "@jupyter-widgets/base",
      "model_module_version": "1.1.0",
      "model_name": "LayoutModel",
      "state": {}
     },
     "a02cc4e8ca3348568eca98da23eabf95": {
      "model_module": "@jupyter-widgets/controls",
      "model_module_version": "1.4.0",
      "model_name": "DescriptionStyleModel",
      "state": {
       "description_width": ""
      }
     },
     "a0a7823ce59d46ee8dbf1f9f79382cb9": {
      "model_module": "@jupyter-widgets/controls",
      "model_module_version": "1.4.0",
      "model_name": "DescriptionStyleModel",
      "state": {
       "description_width": ""
      }
     },
     "a242c3ac7d23407aa1aaf3d5966616a0": {
      "model_module": "@jupyter-widgets/base",
      "model_module_version": "1.1.0",
      "model_name": "LayoutModel",
      "state": {}
     },
     "a26a1488e51d4fc2b5815390c97899c2": {
      "model_module": "@jupyter-widgets/controls",
      "model_module_version": "1.4.0",
      "model_name": "DescriptionStyleModel",
      "state": {
       "description_width": ""
      }
     },
     "a329ec5288c94b5097b6634f08e98239": {
      "model_module": "@jupyter-widgets/base",
      "model_module_version": "1.1.0",
      "model_name": "LayoutModel",
      "state": {}
     },
     "a368cfa9c81f4caca2f3029ff0958a53": {
      "model_module": "@jupyter-widgets/controls",
      "model_module_version": "1.4.0",
      "model_name": "CheckboxModel",
      "state": {
       "description": "cbar_ax",
       "disabled": false,
       "layout": "IPY_MODEL_010d55f56f044d2f8a1c8a7abb50bf93",
       "style": "IPY_MODEL_60fb1a93331b4f7a8fc21c8ec2fff845",
       "value": false
      }
     },
     "a3a0f1feb301427b949e7878c9572054": {
      "model_module": "@jupyter-widgets/controls",
      "model_module_version": "1.4.0",
      "model_name": "DropdownModel",
      "state": {
       "_options_labels": [
        "1",
        "2",
        "3",
        "4",
        "5",
        "6",
        "7",
        "8",
        "9",
        "10",
        "11",
        "12",
        "13",
        "14",
        "15",
        "16",
        "17",
        "18",
        "19",
        "20",
        "21",
        "22",
        "23",
        "24",
        "25",
        "26",
        "27",
        "28",
        "29",
        "30",
        "31"
       ],
       "description": "dashes",
       "index": 0,
       "layout": "IPY_MODEL_003ec1247ec0494b9585ecb288707e52",
       "style": "IPY_MODEL_17278c3844064866a0c021eb8b72a220"
      }
     },
     "a4c2267cdac04e47a8a45ef26cf3c365": {
      "model_module": "@jupyter-widgets/base",
      "model_module_version": "1.1.0",
      "model_name": "LayoutModel",
      "state": {}
     },
     "a4c37c03ab8a44758228d02a35300040": {
      "model_module": "@jupyter-widgets/base",
      "model_module_version": "1.1.0",
      "model_name": "LayoutModel",
      "state": {}
     },
     "a4c4e99851ee4ceb805f43bf68413605": {
      "model_module": "@jupyter-widgets/base",
      "model_module_version": "1.1.0",
      "model_name": "LayoutModel",
      "state": {}
     },
     "a4dcbc3b3911430aae96e8778c7deec0": {
      "model_module": "@jupyter-widgets/controls",
      "model_module_version": "1.4.0",
      "model_name": "CheckboxModel",
      "state": {
       "description": "norm_hist",
       "disabled": false,
       "layout": "IPY_MODEL_72f6f71dd20149dbaadc538346e16094",
       "style": "IPY_MODEL_fa52124e31ba4149983269f2fa21c998",
       "value": false
      }
     },
     "a5a17aa29d6640428251f117ed8c508a": {
      "model_module": "@jupyter-widgets/controls",
      "model_module_version": "1.4.0",
      "model_name": "DescriptionStyleModel",
      "state": {
       "description_width": ""
      }
     },
     "a616933a82d342ec99b66028328af3fc": {
      "model_module": "@jupyter-widgets/controls",
      "model_module_version": "1.4.0",
      "model_name": "DescriptionStyleModel",
      "state": {
       "description_width": ""
      }
     },
     "a638d728f2a14e90bef365eadb7b58bb": {
      "model_module": "@jupyter-widgets/controls",
      "model_module_version": "1.4.0",
      "model_name": "DescriptionStyleModel",
      "state": {
       "description_width": ""
      }
     },
     "a687867042f0497ca0faa01df0e4edc5": {
      "model_module": "@jupyter-widgets/controls",
      "model_module_version": "1.4.0",
      "model_name": "DescriptionStyleModel",
      "state": {
       "description_width": ""
      }
     },
     "a6aec0924e534215b58e5a63a5c4ab49": {
      "model_module": "@jupyter-widgets/base",
      "model_module_version": "1.1.0",
      "model_name": "LayoutModel",
      "state": {}
     },
     "a6e2f9b1b84047248836e8d25d4fdca7": {
      "model_module": "@jupyter-widgets/controls",
      "model_module_version": "1.4.0",
      "model_name": "FloatTextModel",
      "state": {
       "description": "size",
       "layout": "IPY_MODEL_82c791e386624a909973417310b0fb26",
       "step": null,
       "style": "IPY_MODEL_ed7087539ae6451291fbaaf87cb499f9",
       "value": 1
      }
     },
     "a6e3c926b8e44d7b9e3dbe3e33752da7": {
      "model_module": "@jupyter-widgets/controls",
      "model_module_version": "1.4.0",
      "model_name": "DescriptionStyleModel",
      "state": {
       "description_width": ""
      }
     },
     "a721e7d94c8643ef8863444a29ec6dc1": {
      "model_module": "@jupyter-widgets/controls",
      "model_module_version": "1.4.0",
      "model_name": "DropdownModel",
      "state": {
       "_options_labels": [
        "scatter",
        "line"
       ],
       "description": "kind",
       "index": 0,
       "layout": "IPY_MODEL_76ac9401de224618990fcbcf2c3895e5",
       "style": "IPY_MODEL_cd9391530747442b941735932a8706a6"
      }
     },
     "a7394b004c5e4e96882674c2f7640f6d": {
      "model_module": "@jupyter-widgets/controls",
      "model_module_version": "1.4.0",
      "model_name": "DescriptionStyleModel",
      "state": {
       "description_width": ""
      }
     },
     "a7466274ff62441783037671d4c639b1": {
      "model_module": "@jupyter-widgets/base",
      "model_module_version": "1.1.0",
      "model_name": "LayoutModel",
      "state": {}
     },
     "a8854709f8dd4b7d83b5b658917ff0cc": {
      "model_module": "@jupyter-widgets/base",
      "model_module_version": "1.1.0",
      "model_name": "LayoutModel",
      "state": {}
     },
     "a8fd3573d26f4b0597ada9e1d5b6ea93": {
      "model_module": "@jupyter-widgets/controls",
      "model_module_version": "1.4.0",
      "model_name": "DescriptionStyleModel",
      "state": {
       "description_width": ""
      }
     },
     "a9036023f27747c8a82af7c050928f82": {
      "model_module": "@jupyter-widgets/controls",
      "model_module_version": "1.4.0",
      "model_name": "HBoxModel",
      "state": {
       "children": [
        "IPY_MODEL_25498ff9358240f7913ef935755fdf1a"
       ],
       "layout": "IPY_MODEL_e98d9881338c4a1aae6273dfaffca603"
      }
     },
     "a929dff5fe5b40ae9acc36af50a4b612": {
      "model_module": "@jupyter-widgets/base",
      "model_module_version": "1.1.0",
      "model_name": "LayoutModel",
      "state": {}
     },
     "a9335c51035d4f41a2445569075219f3": {
      "model_module": "@jupyter-widgets/base",
      "model_module_version": "1.1.0",
      "model_name": "LayoutModel",
      "state": {}
     },
     "a9542ae622ab4a82bd1cd40aab8c047d": {
      "model_module": "@jupyter-widgets/base",
      "model_module_version": "1.1.0",
      "model_name": "LayoutModel",
      "state": {}
     },
     "a95b9f3456df428f9a20bae1585b56ef": {
      "model_module": "@jupyter-widgets/controls",
      "model_module_version": "1.4.0",
      "model_name": "DescriptionStyleModel",
      "state": {
       "description_width": ""
      }
     },
     "aa638394533248f5b161627f5decbf3e": {
      "model_module": "@jupyter-widgets/controls",
      "model_module_version": "1.4.0",
      "model_name": "CheckboxModel",
      "state": {
       "description": "dropna",
       "disabled": false,
       "layout": "IPY_MODEL_17453afdab574edbbd5ece713a8688f4",
       "style": "IPY_MODEL_bc906e2567744f978642de931a7f29d4",
       "value": false
      }
     },
     "aa6437eab61142bd8a823da8e0fae216": {
      "model_module": "@jupyter-widgets/base",
      "model_module_version": "1.1.0",
      "model_name": "LayoutModel",
      "state": {}
     },
     "aaca8480b12c41d9a55c34337bc29845": {
      "model_module": "@jupyter-widgets/controls",
      "model_module_version": "1.4.0",
      "model_name": "DropdownModel",
      "state": {
       "_options_labels": [
        "linear",
        "exponential",
        "area"
       ],
       "description": "scale",
       "index": 0,
       "layout": "IPY_MODEL_04934bf25aec4081bdbd20ab17119255",
       "style": "IPY_MODEL_743c787c04a74236ac02b4efd6a902d6"
      }
     },
     "aaeb9211de424bd8842c3d3cdba773c1": {
      "model_module": "@jupyter-widgets/base",
      "model_module_version": "1.1.0",
      "model_name": "LayoutModel",
      "state": {}
     },
     "ab02b283a6494a709d1041966f7b1793": {
      "model_module": "@jupyter-widgets/base",
      "model_module_version": "1.1.0",
      "model_name": "LayoutModel",
      "state": {}
     },
     "ab19c9ead7bb4c129edfbde305185348": {
      "model_module": "@jupyter-widgets/controls",
      "model_module_version": "1.4.0",
      "model_name": "FloatTextModel",
      "state": {
       "description": "vmin",
       "layout": "IPY_MODEL_0226157520514d9e9e984277bf106240",
       "step": null,
       "style": "IPY_MODEL_489865602f87406c8cc593540e12556b",
       "value": 1
      }
     },
     "ab4dc9bac3984ddd9e24b727801744b0": {
      "model_module": "@jupyter-widgets/controls",
      "model_module_version": "1.4.0",
      "model_name": "TextModel",
      "state": {
       "description": "linecolor",
       "layout": "IPY_MODEL_0845df79491046e2bf1564f78a4f5657",
       "style": "IPY_MODEL_bd4a2a1351884ba3ac10ebdfe9709d95"
      }
     },
     "ab4ddeb2e3bb4d2aaeca127dff95bace": {
      "model_module": "@jupyter-widgets/base",
      "model_module_version": "1.1.0",
      "model_name": "LayoutModel",
      "state": {}
     },
     "abefb3eb7d904e6ca5b1b5984960cfe7": {
      "model_module": "@jupyter-widgets/controls",
      "model_module_version": "1.4.0",
      "model_name": "IntTextModel",
      "state": {
       "description": "height",
       "layout": "IPY_MODEL_66a9323123254789b0effa5c5797db7a",
       "step": 1,
       "style": "IPY_MODEL_bab2ba52a7e449e1a5081eb0f11f0864",
       "value": 5
      }
     },
     "ac41f5476d6d4d4d841ca7ccfd8a4c10": {
      "model_module": "@jupyter-widgets/controls",
      "model_module_version": "1.4.0",
      "model_name": "DescriptionStyleModel",
      "state": {
       "description_width": ""
      }
     },
     "ac4f3aad5a3c4d24a6cfe7b4702bbf6c": {
      "model_module": "@jupyter-widgets/controls",
      "model_module_version": "1.4.0",
      "model_name": "FloatTextModel",
      "state": {
       "description": "errwidth",
       "layout": "IPY_MODEL_5407355a3e074858957b40c4509569dc",
       "step": null,
       "style": "IPY_MODEL_419ad48b103e4584aa21326382561f9a",
       "value": 1
      }
     },
     "ac7c7679abec4d878261f57b205028f4": {
      "model_module": "@jupyter-widgets/controls",
      "model_module_version": "1.4.0",
      "model_name": "DescriptionStyleModel",
      "state": {
       "description_width": ""
      }
     },
     "aca968053381465aa163300c82859f72": {
      "model_module": "@jupyter-widgets/controls",
      "model_module_version": "1.4.0",
      "model_name": "CheckboxModel",
      "state": {
       "description": "join",
       "disabled": false,
       "layout": "IPY_MODEL_f0f93f0d8ccc46e0a84c609fb1ddd3b0",
       "style": "IPY_MODEL_d42ec77c4e324f918a69b17b2528194d",
       "value": false
      }
     },
     "acbb8aee16c449989bdcd5e027a4dd0f": {
      "model_module": "@jupyter-widgets/controls",
      "model_module_version": "1.4.0",
      "model_name": "CheckboxModel",
      "state": {
       "description": "margin_titles",
       "disabled": false,
       "layout": "IPY_MODEL_7c5d1bc0a90f4602bf7075a5f538a044",
       "style": "IPY_MODEL_56f420831c044f22a7a3ddeea9a5d621",
       "value": false
      }
     },
     "ad04f3debbce421c841a9eb84d20be98": {
      "model_module": "@jupyter-widgets/controls",
      "model_module_version": "1.4.0",
      "model_name": "DescriptionStyleModel",
      "state": {
       "description_width": ""
      }
     },
     "ad29a9532ade46cd9c5ea632fb48e4b2": {
      "model_module": "@jupyter-widgets/base",
      "model_module_version": "1.1.0",
      "model_name": "LayoutModel",
      "state": {}
     },
     "ad3a08aed5cb45189f5726d7bebec818": {
      "model_module": "@jupyter-widgets/controls",
      "model_module_version": "1.4.0",
      "model_name": "DropdownModel",
      "state": {
       "_options_labels": [
        "1",
        "2",
        "3",
        "4",
        "5",
        "6",
        "7",
        "8",
        "9",
        "10",
        "11",
        "12",
        "13",
        "14",
        "15",
        "16",
        "17",
        "18",
        "19",
        "20",
        "21",
        "22",
        "23",
        "24",
        "25",
        "26",
        "27",
        "28",
        "29",
        "30",
        "31"
       ],
       "description": "data",
       "index": 0,
       "layout": "IPY_MODEL_4c4b357342534afe9de118334450281c",
       "style": "IPY_MODEL_87eb2be8a4bb40b09ddf2b8b2a7b6416"
      }
     },
     "ad51f28bc46d4929ba54f145ab1ab457": {
      "model_module": "@jupyter-widgets/controls",
      "model_module_version": "1.4.0",
      "model_name": "FloatTextModel",
      "state": {
       "description": "vmax",
       "layout": "IPY_MODEL_149283245b1e4aa189fbb7315cd1e3b0",
       "step": null,
       "style": "IPY_MODEL_9b7d56ad00124d1db28f1941c6cefb13",
       "value": 1
      }
     },
     "ae764a05551f4bd8903b31713a052957": {
      "model_module": "@jupyter-widgets/base",
      "model_module_version": "1.1.0",
      "model_name": "LayoutModel",
      "state": {}
     },
     "aeb5aee51b2946d9a3715be2ab508368": {
      "model_module": "@jupyter-widgets/base",
      "model_module_version": "1.1.0",
      "model_name": "LayoutModel",
      "state": {}
     },
     "af3601addc2e4cb482ab8d804b9537d6": {
      "model_module": "@jupyter-widgets/controls",
      "model_module_version": "1.4.0",
      "model_name": "DescriptionStyleModel",
      "state": {
       "description_width": ""
      }
     },
     "af5b688f526c4e20882dd50bea9355b8": {
      "model_module": "@jupyter-widgets/base",
      "model_module_version": "1.1.0",
      "model_name": "LayoutModel",
      "state": {}
     },
     "af8772de993c4ffcb0a298aaf31e9bec": {
      "model_module": "@jupyter-widgets/controls",
      "model_module_version": "1.4.0",
      "model_name": "CheckboxModel",
      "state": {
       "description": "cumulative",
       "disabled": false,
       "layout": "IPY_MODEL_56f76fe1a48e43c4accf0b340f2c94b9",
       "style": "IPY_MODEL_73ea04aa2e2041a385d5ff6635a1d5cf",
       "value": false
      }
     },
     "b04f0debfcc045be81a3ccd90eb1a0b7": {
      "model_module": "@jupyter-widgets/base",
      "model_module_version": "1.1.0",
      "model_name": "LayoutModel",
      "state": {}
     },
     "b060f32aab2d430da175bda78e74f531": {
      "model_module": "@jupyter-widgets/base",
      "model_module_version": "1.1.0",
      "model_name": "LayoutModel",
      "state": {}
     },
     "b113eab0e0ac4d99b14ead17cbc9da17": {
      "model_module": "@jupyter-widgets/controls",
      "model_module_version": "1.4.0",
      "model_name": "DescriptionStyleModel",
      "state": {
       "description_width": ""
      }
     },
     "b1933ae2b1f24acc8827edecc1c87d12": {
      "model_module": "@jupyter-widgets/controls",
      "model_module_version": "1.4.0",
      "model_name": "FloatTextModel",
      "state": {
       "description": "x_jitter",
       "layout": "IPY_MODEL_8ec3aa5984064932816e35caf59cda0d",
       "step": null,
       "style": "IPY_MODEL_077256e133c44d17b2f207768ba592f0",
       "value": 1
      }
     },
     "b1a8723ea8f24ceba717f6273d1ee268": {
      "model_module": "@jupyter-widgets/controls",
      "model_module_version": "1.4.0",
      "model_name": "DescriptionStyleModel",
      "state": {
       "description_width": ""
      }
     },
     "b1c46fe48a99481089a06e20275f2aad": {
      "model_module": "@jupyter-widgets/controls",
      "model_module_version": "1.4.0",
      "model_name": "DescriptionStyleModel",
      "state": {
       "description_width": ""
      }
     },
     "b26761d85f47457d9b46e23c2556c91b": {
      "model_module": "@jupyter-widgets/controls",
      "model_module_version": "1.4.0",
      "model_name": "DescriptionStyleModel",
      "state": {
       "description_width": ""
      }
     },
     "b2913af26c0d496f85cff8e3eff451db": {
      "model_module": "@jupyter-widgets/base",
      "model_module_version": "1.1.0",
      "model_name": "LayoutModel",
      "state": {}
     },
     "b3811788230f4f589fc8c67bc35b2890": {
      "model_module": "@jupyter-widgets/base",
      "model_module_version": "1.1.0",
      "model_name": "LayoutModel",
      "state": {}
     },
     "b4cc95d9733448d58694f6c2759025ae": {
      "model_module": "@jupyter-widgets/base",
      "model_module_version": "1.1.0",
      "model_name": "LayoutModel",
      "state": {}
     },
     "b5473338ce6840929f400eb946a21d1f": {
      "model_module": "@jupyter-widgets/controls",
      "model_module_version": "1.4.0",
      "model_name": "DescriptionStyleModel",
      "state": {
       "description_width": ""
      }
     },
     "b5919b94a8674e588cf659a03c0b5e92": {
      "model_module": "@jupyter-widgets/base",
      "model_module_version": "1.1.0",
      "model_name": "LayoutModel",
      "state": {}
     },
     "b5cd4dc2dd6b4f56a6cfae1fffeac5e4": {
      "model_module": "@jupyter-widgets/base",
      "model_module_version": "1.1.0",
      "model_name": "LayoutModel",
      "state": {}
     },
     "b63f8554af30467eb1cb2605edd13bca": {
      "model_module": "@jupyter-widgets/controls",
      "model_module_version": "1.4.0",
      "model_name": "DropdownModel",
      "state": {
       "_options_labels": [
        "1",
        "2",
        "3",
        "4",
        "5",
        "6",
        "7",
        "8",
        "9",
        "10",
        "11",
        "12",
        "13",
        "14",
        "15",
        "16",
        "17",
        "18",
        "19",
        "20",
        "21",
        "22",
        "23",
        "24",
        "25",
        "26",
        "27",
        "28",
        "29",
        "30",
        "31"
       ],
       "description": "style",
       "index": 0,
       "layout": "IPY_MODEL_f51e125d8fd84959a35cb5cfc6818e14",
       "style": "IPY_MODEL_7670bd9c0a694209bceb23075f487709"
      }
     },
     "b64613701b2348f4a9a770e5e0b9935c": {
      "model_module": "@jupyter-widgets/base",
      "model_module_version": "1.1.0",
      "model_name": "LayoutModel",
      "state": {}
     },
     "b6b14666cffc484ab9cc1dcb839df8f6": {
      "model_module": "@jupyter-widgets/controls",
      "model_module_version": "1.4.0",
      "model_name": "DescriptionStyleModel",
      "state": {
       "description_width": ""
      }
     },
     "b6c1dbeedf6f49148c7ad7d55a6d5169": {
      "model_module": "@jupyter-widgets/base",
      "model_module_version": "1.1.0",
      "model_name": "LayoutModel",
      "state": {}
     },
     "b716f2fcdc714d91bedd67a9e6f76205": {
      "model_module": "@jupyter-widgets/base",
      "model_module_version": "1.1.0",
      "model_name": "LayoutModel",
      "state": {}
     },
     "b7a02c1eb8484eeca6d61c441e9c71ad": {
      "model_module": "@jupyter-widgets/controls",
      "model_module_version": "1.4.0",
      "model_name": "DescriptionStyleModel",
      "state": {
       "description_width": ""
      }
     },
     "b7d9236a0ab34433b128a0fdde708c46": {
      "model_module": "@jupyter-widgets/base",
      "model_module_version": "1.1.0",
      "model_name": "LayoutModel",
      "state": {}
     },
     "b7ea3952878c4005839d4655e1d16152": {
      "model_module": "@jupyter-widgets/controls",
      "model_module_version": "1.4.0",
      "model_name": "CheckboxModel",
      "state": {
       "description": "logistic",
       "disabled": false,
       "layout": "IPY_MODEL_b4cc95d9733448d58694f6c2759025ae",
       "style": "IPY_MODEL_3cdba894aa154142a4d2c70de720b7f7",
       "value": false
      }
     },
     "b8ee6d2fae2447fbb4a6998098c2de41": {
      "model_module": "@jupyter-widgets/controls",
      "model_module_version": "1.4.0",
      "model_name": "FloatTextModel",
      "state": {
       "description": "cut",
       "layout": "IPY_MODEL_a9542ae622ab4a82bd1cd40aab8c047d",
       "step": null,
       "style": "IPY_MODEL_457fbadc2a224ffe8f26654d30942f7d",
       "value": 1
      }
     },
     "b960133acff5405da9eb1e4d1b54f63b": {
      "model_module": "@jupyter-widgets/base",
      "model_module_version": "1.1.0",
      "model_name": "LayoutModel",
      "state": {}
     },
     "b9ce3206290d4ee0841d74b4a751861c": {
      "model_module": "@jupyter-widgets/base",
      "model_module_version": "1.1.0",
      "model_name": "LayoutModel",
      "state": {}
     },
     "ba163af4d9924cef87cf9581fa0c15ae": {
      "model_module": "@jupyter-widgets/controls",
      "model_module_version": "1.4.0",
      "model_name": "DropdownModel",
      "state": {
       "_options_labels": [
        "1",
        "2",
        "3",
        "4",
        "5",
        "6",
        "7",
        "8",
        "9",
        "10",
        "11",
        "12",
        "13",
        "14",
        "15",
        "16",
        "17",
        "18",
        "19",
        "20",
        "21",
        "22",
        "23",
        "24",
        "25",
        "26",
        "27",
        "28",
        "29",
        "30",
        "31"
       ],
       "description": "data2",
       "index": 0,
       "layout": "IPY_MODEL_0cf581459f73418386b4277aa54463a8",
       "style": "IPY_MODEL_0dfa9d16798d43e8aec2be367c6ba4ea"
      }
     },
     "ba7e782473ac4c74b0a5b85988f60b18": {
      "model_module": "@jupyter-widgets/base",
      "model_module_version": "1.1.0",
      "model_name": "LayoutModel",
      "state": {}
     },
     "ba88b94382014a8f8ae27a0e711c3ee0": {
      "model_module": "@jupyter-widgets/base",
      "model_module_version": "1.1.0",
      "model_name": "LayoutModel",
      "state": {}
     },
     "baa09bc9a52243fa94707ca6477c8b6e": {
      "model_module": "@jupyter-widgets/controls",
      "model_module_version": "1.4.0",
      "model_name": "DescriptionStyleModel",
      "state": {
       "description_width": ""
      }
     },
     "bab2ba52a7e449e1a5081eb0f11f0864": {
      "model_module": "@jupyter-widgets/controls",
      "model_module_version": "1.4.0",
      "model_name": "DescriptionStyleModel",
      "state": {
       "description_width": ""
      }
     },
     "bafaa12984724365a74e504efc1dc48d": {
      "model_module": "@jupyter-widgets/base",
      "model_module_version": "1.1.0",
      "model_name": "LayoutModel",
      "state": {}
     },
     "bbb3c5cee9f4483ead7c1bfce411fd63": {
      "model_module": "@jupyter-widgets/controls",
      "model_module_version": "1.4.0",
      "model_name": "DropdownModel",
      "state": {
       "_options_labels": [
        "1",
        "2",
        "3",
        "4",
        "5",
        "6",
        "7",
        "8",
        "9",
        "10",
        "11",
        "12",
        "13",
        "14",
        "15",
        "16",
        "17",
        "18",
        "19",
        "20",
        "21",
        "22",
        "23",
        "24",
        "25",
        "26",
        "27",
        "28",
        "29",
        "30",
        "31"
       ],
       "description": "col",
       "index": 0,
       "layout": "IPY_MODEL_dbb02ab467f54243963bca623b388d93",
       "style": "IPY_MODEL_0ca8051d6fe44e6082aec81a1007ee38"
      }
     },
     "bbd7f073bff54b4989aea69c97c5b83e": {
      "model_module": "@jupyter-widgets/controls",
      "model_module_version": "1.4.0",
      "model_name": "CheckboxModel",
      "state": {
       "description": "lowess",
       "disabled": false,
       "layout": "IPY_MODEL_28a4d5274b544c1dbed2c65e193670ea",
       "style": "IPY_MODEL_953c393515f043159a80f0217bc3e262",
       "value": false
      }
     },
     "bc58788df6454c0ab0beaafc5e1f1149": {
      "model_module": "@jupyter-widgets/controls",
      "model_module_version": "1.4.0",
      "model_name": "IntTextModel",
      "state": {
       "description": "n_boot",
       "layout": "IPY_MODEL_910dc3a26e674f0aaa88cd941d0ce45f",
       "step": 1,
       "style": "IPY_MODEL_64d7c0dd85e64a38a8d4da0834b7e2e7",
       "value": 10000
      }
     },
     "bc5c409386d240a4ac7015de7cb43691": {
      "model_module": "@jupyter-widgets/controls",
      "model_module_version": "1.4.0",
      "model_name": "DescriptionStyleModel",
      "state": {
       "description_width": ""
      }
     },
     "bc7fb0327c114424ad4b15aac00635aa": {
      "model_module": "@jupyter-widgets/controls",
      "model_module_version": "1.4.0",
      "model_name": "DescriptionStyleModel",
      "state": {
       "description_width": ""
      }
     },
     "bc8636665c4d44a5b94edcf113ace447": {
      "model_module": "@jupyter-widgets/base",
      "model_module_version": "1.1.0",
      "model_name": "LayoutModel",
      "state": {}
     },
     "bc906e2567744f978642de931a7f29d4": {
      "model_module": "@jupyter-widgets/controls",
      "model_module_version": "1.4.0",
      "model_name": "DescriptionStyleModel",
      "state": {
       "description_width": ""
      }
     },
     "bcde7a6829444993ac9577b7ec814803": {
      "model_module": "@jupyter-widgets/controls",
      "model_module_version": "1.4.0",
      "model_name": "DescriptionStyleModel",
      "state": {
       "description_width": ""
      }
     },
     "bd4a2a1351884ba3ac10ebdfe9709d95": {
      "model_module": "@jupyter-widgets/controls",
      "model_module_version": "1.4.0",
      "model_name": "DescriptionStyleModel",
      "state": {
       "description_width": ""
      }
     },
     "bdf70b89a2f14464b62ce35cdbb29f1c": {
      "model_module": "@jupyter-widgets/base",
      "model_module_version": "1.1.0",
      "model_name": "LayoutModel",
      "state": {}
     },
     "be7c41c0d7c14568a9e9d50d71f74479": {
      "model_module": "@jupyter-widgets/controls",
      "model_module_version": "1.4.0",
      "model_name": "DropdownModel",
      "state": {
       "_options_labels": [
        "1",
        "2",
        "3",
        "4",
        "5",
        "6",
        "7",
        "8",
        "9",
        "10",
        "11",
        "12",
        "13",
        "14",
        "15",
        "16",
        "17",
        "18",
        "19",
        "20",
        "21",
        "22",
        "23",
        "24",
        "25",
        "26",
        "27",
        "28",
        "29",
        "30",
        "31"
       ],
       "description": "y",
       "index": 0,
       "layout": "IPY_MODEL_380021ce703243c29148fb1978cf9101",
       "style": "IPY_MODEL_33839a5ca40c4fbc83f028d5b796f585"
      }
     },
     "beea565957b34d8b9f949b41c924d034": {
      "model_module": "@jupyter-widgets/controls",
      "model_module_version": "1.4.0",
      "model_name": "DescriptionStyleModel",
      "state": {
       "description_width": ""
      }
     },
     "bf22e0d3d2de4f14aa2957aa24f03ccb": {
      "model_module": "@jupyter-widgets/controls",
      "model_module_version": "1.4.0",
      "model_name": "DescriptionStyleModel",
      "state": {
       "description_width": ""
      }
     },
     "bf7db497db9749dc8566cc05cf267dc9": {
      "model_module": "@jupyter-widgets/controls",
      "model_module_version": "1.4.0",
      "model_name": "CheckboxModel",
      "state": {
       "description": "vertical",
       "disabled": false,
       "layout": "IPY_MODEL_6b58cd6afd4247edbddbe191067c6614",
       "style": "IPY_MODEL_beea565957b34d8b9f949b41c924d034",
       "value": false
      }
     },
     "bff2ce2822db4648b7f9e4fe4b884a66": {
      "model_module": "@jupyter-widgets/controls",
      "model_module_version": "1.4.0",
      "model_name": "DropdownModel",
      "state": {
       "_options_labels": [
        "proportion",
        "tukey",
        "trustworthy"
       ],
       "description": "k_depth",
       "index": 0,
       "layout": "IPY_MODEL_9cf240fcf3244a1a9241155928d5c069",
       "style": "IPY_MODEL_787b5d2eca0948558b750b50a99807ce"
      }
     },
     "bff954d652fd4b19a571e1156c0b9974": {
      "model_module": "@jupyter-widgets/base",
      "model_module_version": "1.1.0",
      "model_name": "LayoutModel",
      "state": {}
     },
     "c021656ec2cf4f14a35ee3f19a399c38": {
      "model_module": "@jupyter-widgets/controls",
      "model_module_version": "1.4.0",
      "model_name": "DescriptionStyleModel",
      "state": {
       "description_width": ""
      }
     },
     "c0fc7fda5d0740fe92944b87d7305422": {
      "model_module": "@jupyter-widgets/base",
      "model_module_version": "1.1.0",
      "model_name": "LayoutModel",
      "state": {}
     },
     "c1da89469aa64117955c2d65611f4af8": {
      "model_module": "@jupyter-widgets/controls",
      "model_module_version": "1.4.0",
      "model_name": "CheckboxModel",
      "state": {
       "description": "rug",
       "disabled": false,
       "layout": "IPY_MODEL_1570d02eed20470bbf23a30d8284dadf",
       "style": "IPY_MODEL_f538f170c71b4214a8d4b20c829fb226",
       "value": false
      }
     },
     "c29d48d5f89147daa2c227e2820703f3": {
      "model_module": "@jupyter-widgets/controls",
      "model_module_version": "1.4.0",
      "model_name": "CheckboxModel",
      "state": {
       "description": "fit_reg",
       "disabled": false,
       "layout": "IPY_MODEL_c8b8ee08f012486fa3349ca49d71e4b6",
       "style": "IPY_MODEL_66e19426a98a4d8fb3e58cbf0a3a3b93",
       "value": false
      }
     },
     "c2b8a84221074cb7a66bb7ec470ef769": {
      "model_module": "@jupyter-widgets/base",
      "model_module_version": "1.1.0",
      "model_name": "LayoutModel",
      "state": {}
     },
     "c2d6b70c98d14e848f5c89245a12e6a1": {
      "model_module": "@jupyter-widgets/controls",
      "model_module_version": "1.4.0",
      "model_name": "DescriptionStyleModel",
      "state": {
       "description_width": ""
      }
     },
     "c2e3bd9626384ecbb8b4f45eb1858b54": {
      "model_module": "@jupyter-widgets/controls",
      "model_module_version": "1.4.0",
      "model_name": "IntTextModel",
      "state": {
       "description": "col_wrap",
       "layout": "IPY_MODEL_11659534298548afb9283ba76128690a",
       "step": 1,
       "style": "IPY_MODEL_6f7625d3f5064d95b49907e1b65d5df7",
       "value": 10
      }
     },
     "c2e5d8c8d01549b384f69d6279763125": {
      "model_module": "@jupyter-widgets/controls",
      "model_module_version": "1.4.0",
      "model_name": "DescriptionStyleModel",
      "state": {
       "description_width": ""
      }
     },
     "c322b48dee8048db813d10235c9bfd65": {
      "model_module": "@jupyter-widgets/base",
      "model_module_version": "1.1.0",
      "model_name": "LayoutModel",
      "state": {}
     },
     "c3515aa920a84549a345b9032aba93c5": {
      "model_module": "@jupyter-widgets/controls",
      "model_module_version": "1.4.0",
      "model_name": "DescriptionStyleModel",
      "state": {
       "description_width": ""
      }
     },
     "c381bd9687784df382f3d0b9767b7077": {
      "model_module": "@jupyter-widgets/base",
      "model_module_version": "1.1.0",
      "model_name": "LayoutModel",
      "state": {}
     },
     "c39affb9b0504fffa67614cb3a472ca9": {
      "model_module": "@jupyter-widgets/controls",
      "model_module_version": "1.4.0",
      "model_name": "DropdownModel",
      "state": {
       "_options_labels": [
        "True",
        "col",
        "row"
       ],
       "description": "sharey",
       "index": 0,
       "layout": "IPY_MODEL_768c2d27464d46d780d46cecdd3023c4",
       "style": "IPY_MODEL_1452625acb4d4e9f9e532c3adb9b39b1"
      }
     },
     "c418105ef7fe4421ba7c93c09aed9aed": {
      "model_module": "@jupyter-widgets/base",
      "model_module_version": "1.1.0",
      "model_name": "LayoutModel",
      "state": {}
     },
     "c418767afcaa4c8e9fd103640b8f4ca2": {
      "model_module": "@jupyter-widgets/controls",
      "model_module_version": "1.4.0",
      "model_name": "FloatTextModel",
      "state": {
       "description": "scale",
       "layout": "IPY_MODEL_a4c4e99851ee4ceb805f43bf68413605",
       "step": null,
       "style": "IPY_MODEL_e45cf45e6a4a4dc8907912ef66de8a60",
       "value": 1
      }
     },
     "c53e3519ba1243aaabef27add46689c9": {
      "model_module": "@jupyter-widgets/controls",
      "model_module_version": "1.4.0",
      "model_name": "DescriptionStyleModel",
      "state": {
       "description_width": ""
      }
     },
     "c5520729b2a84ba689dec7b05aae0d90": {
      "model_module": "@jupyter-widgets/controls",
      "model_module_version": "1.4.0",
      "model_name": "DescriptionStyleModel",
      "state": {
       "description_width": ""
      }
     },
     "c645dce9d4a9433599554b1a1d4cbea6": {
      "model_module": "@jupyter-widgets/controls",
      "model_module_version": "1.4.0",
      "model_name": "DescriptionStyleModel",
      "state": {
       "description_width": ""
      }
     },
     "c6aa3834aa4941f489e60c4d0eb740a7": {
      "model_module": "@jupyter-widgets/base",
      "model_module_version": "1.1.0",
      "model_name": "LayoutModel",
      "state": {}
     },
     "c6c5b6e3beaa4c649a9809b7584a3c32": {
      "model_module": "@jupyter-widgets/base",
      "model_module_version": "1.1.0",
      "model_name": "LayoutModel",
      "state": {}
     },
     "c78ed6fde63d47c39095d361316f94fe": {
      "model_module": "@jupyter-widgets/controls",
      "model_module_version": "1.4.0",
      "model_name": "FloatTextModel",
      "state": {
       "description": "whis",
       "layout": "IPY_MODEL_cd546465fd6345e3b4e6e6eede2e77dd",
       "step": null,
       "style": "IPY_MODEL_b5473338ce6840929f400eb946a21d1f",
       "value": 1
      }
     },
     "c7f0fd3b8ddb4dd59282ba7a2f24f2dd": {
      "model_module": "@jupyter-widgets/base",
      "model_module_version": "1.1.0",
      "model_name": "LayoutModel",
      "state": {}
     },
     "c80687f046bc419891cd36cd6bea815a": {
      "model_module": "@jupyter-widgets/base",
      "model_module_version": "1.1.0",
      "model_name": "LayoutModel",
      "state": {}
     },
     "c88ffce2fd1745f8834e828886fa983c": {
      "model_module": "@jupyter-widgets/controls",
      "model_module_version": "1.4.0",
      "model_name": "DescriptionStyleModel",
      "state": {
       "description_width": ""
      }
     },
     "c8b8ee08f012486fa3349ca49d71e4b6": {
      "model_module": "@jupyter-widgets/base",
      "model_module_version": "1.1.0",
      "model_name": "LayoutModel",
      "state": {}
     },
     "cb3fca2906094569a063b4a784e85636": {
      "model_module": "@jupyter-widgets/controls",
      "model_module_version": "1.4.0",
      "model_name": "DescriptionStyleModel",
      "state": {
       "description_width": ""
      }
     },
     "cb71c104e84c420cb9cc74ecf01827bc": {
      "model_module": "@jupyter-widgets/controls",
      "model_module_version": "1.4.0",
      "model_name": "SliderStyleModel",
      "state": {
       "description_width": ""
      }
     },
     "cb766adf79394b2691fbacb36f0283f7": {
      "model_module": "@jupyter-widgets/base",
      "model_module_version": "1.1.0",
      "model_name": "LayoutModel",
      "state": {}
     },
     "cc1b3549face4d6e8f9b7f90d16a38d6": {
      "model_module": "@jupyter-widgets/controls",
      "model_module_version": "1.4.0",
      "model_name": "FloatSliderModel",
      "state": {
       "description": "outlier_prop",
       "layout": "IPY_MODEL_6b6562923823413aba865d6534ccd9b1",
       "max": 1,
       "step": 0.001,
       "style": "IPY_MODEL_87998bcb70564342ba56aca05f550b8a",
       "value": 0.007
      }
     },
     "cc25c677c3b242c7a58488b8114bd5e1": {
      "model_module": "@jupyter-widgets/controls",
      "model_module_version": "1.4.0",
      "model_name": "DescriptionStyleModel",
      "state": {
       "description_width": ""
      }
     },
     "cc87e6b6265d4963a2853467a430a1f5": {
      "model_module": "@jupyter-widgets/base",
      "model_module_version": "1.1.0",
      "model_name": "LayoutModel",
      "state": {}
     },
     "ccd0fafec1174131ab344302f7a0e5bc": {
      "model_module": "@jupyter-widgets/controls",
      "model_module_version": "1.4.0",
      "model_name": "DescriptionStyleModel",
      "state": {
       "description_width": ""
      }
     },
     "cd4481eb53124a65ba8127edb198ab5f": {
      "model_module": "@jupyter-widgets/controls",
      "model_module_version": "1.4.0",
      "model_name": "DropdownModel",
      "state": {
       "_options_labels": [
        "v",
        "h"
       ],
       "description": "orient",
       "index": 0,
       "layout": "IPY_MODEL_844d5277f0a54fc6962c63e750ddb0f9",
       "style": "IPY_MODEL_4f12f05dda444228bbf434dc8eabea4d"
      }
     },
     "cd546465fd6345e3b4e6e6eede2e77dd": {
      "model_module": "@jupyter-widgets/base",
      "model_module_version": "1.1.0",
      "model_name": "LayoutModel",
      "state": {}
     },
     "cd67f796c13c4799b5128412a9ce254f": {
      "model_module": "@jupyter-widgets/controls",
      "model_module_version": "1.4.0",
      "model_name": "FloatTextModel",
      "state": {
       "description": "vmin",
       "layout": "IPY_MODEL_50875043677c4a6ebba3354f205159aa",
       "step": null,
       "style": "IPY_MODEL_fbce0ff1eb2f4032842f0f798b91574f",
       "value": 1
      }
     },
     "cd9391530747442b941735932a8706a6": {
      "model_module": "@jupyter-widgets/controls",
      "model_module_version": "1.4.0",
      "model_name": "DescriptionStyleModel",
      "state": {
       "description_width": ""
      }
     },
     "cdc5b25e16934e16a6f643fc87c6d4cb": {
      "model_module": "@jupyter-widgets/controls",
      "model_module_version": "1.4.0",
      "model_name": "DescriptionStyleModel",
      "state": {
       "description_width": ""
      }
     },
     "cea62fb301eb4883b11acf337b8bfb6c": {
      "model_module": "@jupyter-widgets/controls",
      "model_module_version": "1.4.0",
      "model_name": "FloatTextModel",
      "state": {
       "description": "height",
       "layout": "IPY_MODEL_a929dff5fe5b40ae9acc36af50a4b612",
       "step": null,
       "style": "IPY_MODEL_26074768a03d4714a254dedd27236cb5",
       "value": 1
      }
     },
     "cf0fe43236bb48d39dcba67e3907e26f": {
      "model_module": "@jupyter-widgets/base",
      "model_module_version": "1.1.0",
      "model_name": "LayoutModel",
      "state": {}
     },
     "cf6accffd5ea44b18a2e903b19fc45d6": {
      "model_module": "@jupyter-widgets/base",
      "model_module_version": "1.1.0",
      "model_name": "LayoutModel",
      "state": {}
     },
     "cf88b1e909084f08a1ee8a4d1d2d610c": {
      "model_module": "@jupyter-widgets/controls",
      "model_module_version": "1.4.0",
      "model_name": "DescriptionStyleModel",
      "state": {
       "description_width": ""
      }
     },
     "cf90efcaf46d472fa14b2581c0de44d7": {
      "model_module": "@jupyter-widgets/base",
      "model_module_version": "1.1.0",
      "model_name": "LayoutModel",
      "state": {}
     },
     "cfbe57c735824b00a78e2a204f7f69c7": {
      "model_module": "@jupyter-widgets/controls",
      "model_module_version": "1.4.0",
      "model_name": "DescriptionStyleModel",
      "state": {
       "description_width": ""
      }
     },
     "cfc2d97257244f37ae7d739927b680b1": {
      "model_module": "@jupyter-widgets/controls",
      "model_module_version": "1.4.0",
      "model_name": "DropdownModel",
      "state": {
       "_options_labels": [
        "[barplot] capsize",
        "[barplot] color",
        "[barplot] errwidth",
        "[barplot] hue",
        "[barplot] n_boot",
        "[barplot] orient",
        "[barplot] palette",
        "[barplot] saturation",
        "[barplot] x",
        "[barplot] y"
       ],
       "description": "Controls",
       "index": 0,
       "layout": "IPY_MODEL_f5938851622540c68f762c8f86c53cd0",
       "style": "IPY_MODEL_ac41f5476d6d4d4d841ca7ccfd8a4c10"
      }
     },
     "d094380689e143d9981ad3f330049976": {
      "model_module": "@jupyter-widgets/controls",
      "model_module_version": "1.4.0",
      "model_name": "TextModel",
      "state": {
       "description": "palette",
       "layout": "IPY_MODEL_947902e1bb1d4946afe06cb7fb59c81f",
       "style": "IPY_MODEL_d8f782473336486f928d0ea09783fc3c"
      }
     },
     "d0afea2d8f974642b56f71071fb8b590": {
      "model_module": "@jupyter-widgets/controls",
      "model_module_version": "1.4.0",
      "model_name": "DescriptionStyleModel",
      "state": {
       "description_width": ""
      }
     },
     "d0cf9828adef4b6784cc22a8a08fb9e4": {
      "model_module": "@jupyter-widgets/controls",
      "model_module_version": "1.4.0",
      "model_name": "TextModel",
      "state": {
       "description": "palette",
       "layout": "IPY_MODEL_05e2643de05c45d09d9bd9ce714a917e",
       "style": "IPY_MODEL_e1622e09eb7a4762aebe5313adf07979"
      }
     },
     "d14a5d436ba54f3da2f3a13f56e66f6c": {
      "model_module": "@jupyter-widgets/base",
      "model_module_version": "1.1.0",
      "model_name": "LayoutModel",
      "state": {}
     },
     "d163c83bace64d808117fb79a96e7760": {
      "model_module": "@jupyter-widgets/controls",
      "model_module_version": "1.4.0",
      "model_name": "DescriptionStyleModel",
      "state": {
       "description_width": ""
      }
     },
     "d16fc984f56340d99b9cb4b3187a1f94": {
      "model_module": "@jupyter-widgets/controls",
      "model_module_version": "1.4.0",
      "model_name": "DescriptionStyleModel",
      "state": {
       "description_width": ""
      }
     },
     "d2333f8ed827449494fd745ce4937988": {
      "model_module": "@jupyter-widgets/controls",
      "model_module_version": "1.4.0",
      "model_name": "DescriptionStyleModel",
      "state": {
       "description_width": ""
      }
     },
     "d31be58d1e3d4ad4b83490531a805aa4": {
      "model_module": "@jupyter-widgets/controls",
      "model_module_version": "1.4.0",
      "model_name": "DescriptionStyleModel",
      "state": {
       "description_width": ""
      }
     },
     "d3cdf473bea246bc95d0c4489e86deae": {
      "model_module": "@jupyter-widgets/controls",
      "model_module_version": "1.4.0",
      "model_name": "DropdownModel",
      "state": {
       "_options_labels": [
        "brief",
        "full",
        "False"
       ],
       "description": "legend",
       "index": 0,
       "layout": "IPY_MODEL_b6c1dbeedf6f49148c7ad7d55a6d5169",
       "style": "IPY_MODEL_d720701ada8f447aa1067768d7bcdbd3"
      }
     },
     "d3ceac12dbdf4b40ae64cbd8ee3e056a": {
      "model_module": "@jupyter-widgets/controls",
      "model_module_version": "1.4.0",
      "model_name": "CheckboxModel",
      "state": {
       "description": "jitter",
       "disabled": false,
       "layout": "IPY_MODEL_c0fc7fda5d0740fe92944b87d7305422",
       "style": "IPY_MODEL_4c4110c8abe440fc8c50088001914985",
       "value": false
      }
     },
     "d42ec77c4e324f918a69b17b2528194d": {
      "model_module": "@jupyter-widgets/controls",
      "model_module_version": "1.4.0",
      "model_name": "DescriptionStyleModel",
      "state": {
       "description_width": ""
      }
     },
     "d457938e1d6a44248a90e9485722a039": {
      "model_module": "@jupyter-widgets/base",
      "model_module_version": "1.1.0",
      "model_name": "LayoutModel",
      "state": {}
     },
     "d4ba169c57474be9bfb73c5b1dee4558": {
      "model_module": "@jupyter-widgets/base",
      "model_module_version": "1.1.0",
      "model_name": "LayoutModel",
      "state": {}
     },
     "d56939223be04c2e80a45126120bb6fe": {
      "model_module": "@jupyter-widgets/controls",
      "model_module_version": "1.4.0",
      "model_name": "IntTextModel",
      "state": {
       "description": "order",
       "layout": "IPY_MODEL_91736b0f12934509ae78d68b81de534d",
       "step": 1,
       "style": "IPY_MODEL_a8fd3573d26f4b0597ada9e1d5b6ea93",
       "value": 1
      }
     },
     "d5f7b4eee3d9487fabad06b1c64fe522": {
      "model_module": "@jupyter-widgets/controls",
      "model_module_version": "1.4.0",
      "model_name": "DescriptionStyleModel",
      "state": {
       "description_width": ""
      }
     },
     "d6b78b398f0d48718ee77f6d999f3c17": {
      "model_module": "@jupyter-widgets/controls",
      "model_module_version": "1.4.0",
      "model_name": "DescriptionStyleModel",
      "state": {
       "description_width": ""
      }
     },
     "d720701ada8f447aa1067768d7bcdbd3": {
      "model_module": "@jupyter-widgets/controls",
      "model_module_version": "1.4.0",
      "model_name": "DescriptionStyleModel",
      "state": {
       "description_width": ""
      }
     },
     "d77e8eda50a741c3a6449313bdfe0cf5": {
      "model_module": "@jupyter-widgets/base",
      "model_module_version": "1.1.0",
      "model_name": "LayoutModel",
      "state": {}
     },
     "d796aef89d704650975454aabf8a1c68": {
      "model_module": "@jupyter-widgets/base",
      "model_module_version": "1.1.0",
      "model_name": "LayoutModel",
      "state": {}
     },
     "d7a0ab04fa2243e6a42d41105e0a225b": {
      "model_module": "@jupyter-widgets/controls",
      "model_module_version": "1.4.0",
      "model_name": "DescriptionStyleModel",
      "state": {
       "description_width": ""
      }
     },
     "d7b3682fdd1a46f4aed27af217d9c4a9": {
      "model_module": "@jupyter-widgets/controls",
      "model_module_version": "1.4.0",
      "model_name": "FloatTextModel",
      "state": {
       "description": "height",
       "layout": "IPY_MODEL_81f6badf78d443c1bc25146393c61c89",
       "step": null,
       "style": "IPY_MODEL_440cfe21e2874c7d919d536468cdbe2f",
       "value": 1
      }
     },
     "d82ae5ec07c3491089ae670ebd32fad0": {
      "model_module": "@jupyter-widgets/controls",
      "model_module_version": "1.4.0",
      "model_name": "DescriptionStyleModel",
      "state": {
       "description_width": ""
      }
     },
     "d8ed4c59e19441f39e246bfbd16bc8cd": {
      "model_module": "@jupyter-widgets/base",
      "model_module_version": "1.1.0",
      "model_name": "LayoutModel",
      "state": {}
     },
     "d8f782473336486f928d0ea09783fc3c": {
      "model_module": "@jupyter-widgets/controls",
      "model_module_version": "1.4.0",
      "model_name": "DescriptionStyleModel",
      "state": {
       "description_width": ""
      }
     },
     "d980eef8ab1647c8b8e70f14aab73408": {
      "model_module": "@jupyter-widgets/controls",
      "model_module_version": "1.4.0",
      "model_name": "DescriptionStyleModel",
      "state": {
       "description_width": ""
      }
     },
     "dac7761de42d40c1a3472427523894aa": {
      "model_module": "@jupyter-widgets/controls",
      "model_module_version": "1.4.0",
      "model_name": "TextModel",
      "state": {
       "description": "linecolor",
       "layout": "IPY_MODEL_52ae487b05cd48dd9b3f273367d91ce7",
       "style": "IPY_MODEL_e5359ca2b673416ebbe41542c432b9c5"
      }
     },
     "dae3bb4a18f94958b946172617293e17": {
      "model_module": "@jupyter-widgets/controls",
      "model_module_version": "1.4.0",
      "model_name": "CheckboxModel",
      "state": {
       "description": "jitter",
       "disabled": false,
       "layout": "IPY_MODEL_cb766adf79394b2691fbacb36f0283f7",
       "style": "IPY_MODEL_5e45cc5d804f4798a482820dc667fd48",
       "value": false
      }
     },
     "dbb02ab467f54243963bca623b388d93": {
      "model_module": "@jupyter-widgets/base",
      "model_module_version": "1.1.0",
      "model_name": "LayoutModel",
      "state": {}
     },
     "dbbd0d7d60c847c598381a9044a331fb": {
      "model_module": "@jupyter-widgets/base",
      "model_module_version": "1.1.0",
      "model_name": "LayoutModel",
      "state": {}
     },
     "dd7f3b9c72314408b19837ec5404d897": {
      "model_module": "@jupyter-widgets/controls",
      "model_module_version": "1.4.0",
      "model_name": "SliderStyleModel",
      "state": {
       "description_width": ""
      }
     },
     "dfaba91336c04b9392f3f324f39a5175": {
      "model_module": "@jupyter-widgets/controls",
      "model_module_version": "1.4.0",
      "model_name": "DescriptionStyleModel",
      "state": {
       "description_width": ""
      }
     },
     "e00f0e5700a84c2abd8137239dc1f437": {
      "model_module": "@jupyter-widgets/base",
      "model_module_version": "1.1.0",
      "model_name": "LayoutModel",
      "state": {}
     },
     "e040acf043ec44a799a20802ca22870e": {
      "model_module": "@jupyter-widgets/controls",
      "model_module_version": "1.4.0",
      "model_name": "DescriptionStyleModel",
      "state": {
       "description_width": ""
      }
     },
     "e0d96c96ad1849b59bdfffd5c53814a4": {
      "model_module": "@jupyter-widgets/controls",
      "model_module_version": "1.4.0",
      "model_name": "SliderStyleModel",
      "state": {
       "description_width": ""
      }
     },
     "e1622e09eb7a4762aebe5313adf07979": {
      "model_module": "@jupyter-widgets/controls",
      "model_module_version": "1.4.0",
      "model_name": "DescriptionStyleModel",
      "state": {
       "description_width": ""
      }
     },
     "e17835a06a514f20af661b1d8fe634a3": {
      "model_module": "@jupyter-widgets/controls",
      "model_module_version": "1.4.0",
      "model_name": "DescriptionStyleModel",
      "state": {
       "description_width": ""
      }
     },
     "e26a0525104d4a87a1dd09a06ec62718": {
      "model_module": "@jupyter-widgets/controls",
      "model_module_version": "1.4.0",
      "model_name": "ButtonModel",
      "state": {
       "description": "remove",
       "layout": "IPY_MODEL_3e8d0e98656d40cb98986736ada5426e",
       "style": "IPY_MODEL_e56c612f16e1426499a4e9c3902b3d25"
      }
     },
     "e30d77ab3e654777a1f6fecfb2e447c8": {
      "model_module": "@jupyter-widgets/controls",
      "model_module_version": "1.4.0",
      "model_name": "FloatTextModel",
      "state": {
       "description": "size",
       "layout": "IPY_MODEL_96870fa3ab8a4f35b97ddd0920cbfe00",
       "step": null,
       "style": "IPY_MODEL_5fdcb39a0ed94bbbb24bc064206095d8",
       "value": 1
      }
     },
     "e347c683411a4081bfa2f3571d9533c9": {
      "model_module": "@jupyter-widgets/controls",
      "model_module_version": "1.4.0",
      "model_name": "DescriptionStyleModel",
      "state": {
       "description_width": ""
      }
     },
     "e36bae98e9184c8a930462965e91cdb6": {
      "model_module": "@jupyter-widgets/controls",
      "model_module_version": "1.4.0",
      "model_name": "DescriptionStyleModel",
      "state": {
       "description_width": ""
      }
     },
     "e45cf45e6a4a4dc8907912ef66de8a60": {
      "model_module": "@jupyter-widgets/controls",
      "model_module_version": "1.4.0",
      "model_name": "DescriptionStyleModel",
      "state": {
       "description_width": ""
      }
     },
     "e4cf3a5b82f94b64b1f954621e7f463e": {
      "model_module": "@jupyter-widgets/base",
      "model_module_version": "1.1.0",
      "model_name": "LayoutModel",
      "state": {}
     },
     "e5359ca2b673416ebbe41542c432b9c5": {
      "model_module": "@jupyter-widgets/controls",
      "model_module_version": "1.4.0",
      "model_name": "DescriptionStyleModel",
      "state": {
       "description_width": ""
      }
     },
     "e56c612f16e1426499a4e9c3902b3d25": {
      "model_module": "@jupyter-widgets/controls",
      "model_module_version": "1.4.0",
      "model_name": "ButtonStyleModel",
      "state": {}
     },
     "e62aceabd8d94c64b251bfe7ceb0a60e": {
      "model_module": "@jupyter-widgets/controls",
      "model_module_version": "1.4.0",
      "model_name": "DescriptionStyleModel",
      "state": {
       "description_width": ""
      }
     },
     "e6a57faee16b405e9c5ebc7d97743dbc": {
      "model_module": "@jupyter-widgets/base",
      "model_module_version": "1.1.0",
      "model_name": "LayoutModel",
      "state": {}
     },
     "e6bee3311d934819bf313829f4dc69e2": {
      "model_module": "@jupyter-widgets/controls",
      "model_module_version": "1.4.0",
      "model_name": "DescriptionStyleModel",
      "state": {
       "description_width": ""
      }
     },
     "e6cdf93c795b4fefbf8b60ef7e8faad0": {
      "model_module": "@jupyter-widgets/controls",
      "model_module_version": "1.4.0",
      "model_name": "TextModel",
      "state": {
       "description": "cmap",
       "layout": "IPY_MODEL_2c79e520a8814913b3fcd344aad3dae3",
       "style": "IPY_MODEL_d2333f8ed827449494fd745ce4937988",
       "value": "viridis"
      }
     },
     "e6ede79d6002410da566367a7aaf1f00": {
      "model_module": "@jupyter-widgets/controls",
      "model_module_version": "1.4.0",
      "model_name": "DescriptionStyleModel",
      "state": {
       "description_width": ""
      }
     },
     "e7100f05abd3484abd6eb1ff81d102cb": {
      "model_module": "@jupyter-widgets/controls",
      "model_module_version": "1.4.0",
      "model_name": "FloatTextModel",
      "state": {
       "description": "width",
       "layout": "IPY_MODEL_5a0712c68e214507acea0e8e0aa42b54",
       "step": null,
       "style": "IPY_MODEL_4d399185d88945ada35e4527d81f13fb",
       "value": 1
      }
     },
     "e726762026d347538712a5fb45229f3e": {
      "model_module": "@jupyter-widgets/controls",
      "model_module_version": "1.4.0",
      "model_name": "CheckboxModel",
      "state": {
       "description": "sort",
       "disabled": false,
       "layout": "IPY_MODEL_9a3c8d3a888b46c5a66eb2231a64cce0",
       "style": "IPY_MODEL_e6bee3311d934819bf313829f4dc69e2",
       "value": false
      }
     },
     "e7fa1a3cf33941528d10becac22427f6": {
      "model_module": "@jupyter-widgets/controls",
      "model_module_version": "1.4.0",
      "model_name": "DescriptionStyleModel",
      "state": {
       "description_width": ""
      }
     },
     "e8303d37d52443918d5b84cccb421b48": {
      "model_module": "@jupyter-widgets/base",
      "model_module_version": "1.1.0",
      "model_name": "LayoutModel",
      "state": {}
     },
     "e8dd48e565b44611b9d7f249c3a239c7": {
      "model_module": "@jupyter-widgets/controls",
      "model_module_version": "1.4.0",
      "model_name": "CheckboxModel",
      "state": {
       "description": "logx",
       "disabled": false,
       "layout": "IPY_MODEL_d796aef89d704650975454aabf8a1c68",
       "style": "IPY_MODEL_5eade71d56404327afd8a93633ec73d4",
       "value": false
      }
     },
     "e9631db3e07d4ce3b2dde01138db517b": {
      "model_module": "@jupyter-widgets/controls",
      "model_module_version": "1.4.0",
      "model_name": "DescriptionStyleModel",
      "state": {
       "description_width": ""
      }
     },
     "e966080ff3ac498391f7d12de6bfd8f3": {
      "model_module": "@jupyter-widgets/controls",
      "model_module_version": "1.4.0",
      "model_name": "CheckboxModel",
      "state": {
       "description": "annot",
       "disabled": false,
       "layout": "IPY_MODEL_b64613701b2348f4a9a770e5e0b9935c",
       "style": "IPY_MODEL_20b6a509cc36499184a0ea33b95ab167",
       "value": true
      }
     },
     "e96a23db79b64f118e466105c2e28aa9": {
      "model_module": "@jupyter-widgets/base",
      "model_module_version": "1.1.0",
      "model_name": "LayoutModel",
      "state": {}
     },
     "e98d9881338c4a1aae6273dfaffca603": {
      "model_module": "@jupyter-widgets/base",
      "model_module_version": "1.1.0",
      "model_name": "LayoutModel",
      "state": {}
     },
     "e9dd6ed8f3c3470f8421cdf1d74fd783": {
      "model_module": "@jupyter-widgets/controls",
      "model_module_version": "1.4.0",
      "model_name": "DescriptionStyleModel",
      "state": {
       "description_width": ""
      }
     },
     "e9de2dcf9ac34e61b4885ff71ade5f90": {
      "model_module": "@jupyter-widgets/base",
      "model_module_version": "1.1.0",
      "model_name": "LayoutModel",
      "state": {}
     },
     "e9e36099a03a44469a52baa99ac7828c": {
      "model_module": "@jupyter-widgets/controls",
      "model_module_version": "1.4.0",
      "model_name": "FloatSliderModel",
      "state": {
       "description": "outlier_prop",
       "layout": "IPY_MODEL_c381bd9687784df382f3d0b9767b7077",
       "max": 1,
       "step": 0.001,
       "style": "IPY_MODEL_55c505f82c5948bdb3d5be23715331c2",
       "value": 0.007
      }
     },
     "ea414071f086462590af824311906ddd": {
      "model_module": "@jupyter-widgets/controls",
      "model_module_version": "1.4.0",
      "model_name": "DescriptionStyleModel",
      "state": {
       "description_width": ""
      }
     },
     "ea8926c2543e4efebe6df967fdc2b290": {
      "model_module": "@jupyter-widgets/controls",
      "model_module_version": "1.4.0",
      "model_name": "DropdownModel",
      "state": {
       "_options_labels": [
        "True",
        "col",
        "row"
       ],
       "description": "sharex",
       "index": 0,
       "layout": "IPY_MODEL_d457938e1d6a44248a90e9485722a039",
       "style": "IPY_MODEL_5833b02ac5eb431f868658cfad9c6a9e"
      }
     },
     "eab99e7e7e1c4579a9e1fa05fa387cd3": {
      "model_module": "@jupyter-widgets/controls",
      "model_module_version": "1.4.0",
      "model_name": "CheckboxModel",
      "state": {
       "description": "rug",
       "disabled": false,
       "layout": "IPY_MODEL_f36afcf5f3124e52857df92a889488dc",
       "style": "IPY_MODEL_a26a1488e51d4fc2b5815390c97899c2",
       "value": false
      }
     },
     "eab9c80c6de2473ca8fd7e443a63d38e": {
      "model_module": "@jupyter-widgets/controls",
      "model_module_version": "1.4.0",
      "model_name": "DescriptionStyleModel",
      "state": {
       "description_width": ""
      }
     },
     "eabf013ef08342608d6289a3c9aeba5d": {
      "model_module": "@jupyter-widgets/controls",
      "model_module_version": "1.4.0",
      "model_name": "FloatTextModel",
      "state": {
       "description": "x_jitter",
       "layout": "IPY_MODEL_ab4ddeb2e3bb4d2aaeca127dff95bace",
       "step": null,
       "style": "IPY_MODEL_7a425255fc304005a98bb09197bce709",
       "value": 1
      }
     },
     "eabf43770c2f4122beee9a183f7f4af6": {
      "model_module": "@jupyter-widgets/base",
      "model_module_version": "1.1.0",
      "model_name": "LayoutModel",
      "state": {}
     },
     "ead42430d463458899d3ff00e55709ed": {
      "model_module": "@jupyter-widgets/base",
      "model_module_version": "1.1.0",
      "model_name": "LayoutModel",
      "state": {}
     },
     "eb60abab3335451f889d9758a9c6e714": {
      "model_module": "@jupyter-widgets/controls",
      "model_module_version": "1.4.0",
      "model_name": "DescriptionStyleModel",
      "state": {
       "description_width": ""
      }
     },
     "ec17b50a64684dc7aae3cb29244bd67d": {
      "model_module": "@jupyter-widgets/base",
      "model_module_version": "1.1.0",
      "model_name": "LayoutModel",
      "state": {}
     },
     "ec696e4a67ff490893ef715938885262": {
      "model_module": "@jupyter-widgets/controls",
      "model_module_version": "1.4.0",
      "model_name": "DropdownModel",
      "state": {
       "_options_labels": [
        "1",
        "2",
        "3",
        "4",
        "5",
        "6",
        "7",
        "8",
        "9",
        "10",
        "11",
        "12",
        "13",
        "14",
        "15",
        "16",
        "17",
        "18",
        "19",
        "20",
        "21",
        "22",
        "23",
        "24",
        "25",
        "26",
        "27",
        "28",
        "29",
        "30",
        "31"
       ],
       "description": "sizes",
       "index": 0,
       "layout": "IPY_MODEL_9ee5cfc36036433299569302e090d75e",
       "style": "IPY_MODEL_cc25c677c3b242c7a58488b8114bd5e1"
      }
     },
     "ed7087539ae6451291fbaaf87cb499f9": {
      "model_module": "@jupyter-widgets/controls",
      "model_module_version": "1.4.0",
      "model_name": "DescriptionStyleModel",
      "state": {
       "description_width": ""
      }
     },
     "eda70b53a00b497bbd32d400923af476": {
      "model_module": "@jupyter-widgets/controls",
      "model_module_version": "1.4.0",
      "model_name": "DropdownModel",
      "state": {
       "_options_labels": [
        "1",
        "2",
        "3",
        "4",
        "5",
        "6",
        "7",
        "8",
        "9",
        "10",
        "11",
        "12",
        "13",
        "14",
        "15",
        "16",
        "17",
        "18",
        "19",
        "20",
        "21",
        "22",
        "23",
        "24",
        "25",
        "26",
        "27",
        "28",
        "29",
        "30",
        "31"
       ],
       "description": "row",
       "index": 0,
       "layout": "IPY_MODEL_0a86bb9887244031bad6f3d58fd3bcdf",
       "style": "IPY_MODEL_e6ede79d6002410da566367a7aaf1f00"
      }
     },
     "edb098815bf64da68ad28e4a8368b6ee": {
      "model_module": "@jupyter-widgets/base",
      "model_module_version": "1.1.0",
      "model_name": "LayoutModel",
      "state": {}
     },
     "ee03d910eefa4176922f25b586f79daa": {
      "model_module": "@jupyter-widgets/base",
      "model_module_version": "1.1.0",
      "model_name": "LayoutModel",
      "state": {}
     },
     "ee713deddd2849f5bdd54dc4fd66e329": {
      "model_module": "@jupyter-widgets/base",
      "model_module_version": "1.1.0",
      "model_name": "LayoutModel",
      "state": {}
     },
     "eed14040be7f419082add6a06215a18f": {
      "model_module": "@jupyter-widgets/base",
      "model_module_version": "1.1.0",
      "model_name": "LayoutModel",
      "state": {}
     },
     "f00c41639181411ea2f58e317923220b": {
      "model_module": "@jupyter-widgets/base",
      "model_module_version": "1.1.0",
      "model_name": "LayoutModel",
      "state": {}
     },
     "f037799c35ba4e53830d833f3591e88e": {
      "model_module": "@jupyter-widgets/controls",
      "model_module_version": "1.4.0",
      "model_name": "DropdownModel",
      "state": {
       "_options_labels": [
        "True",
        "col",
        "row"
       ],
       "description": "sharey",
       "index": 0,
       "layout": "IPY_MODEL_5adb40c127e6476393b4beef22730210",
       "style": "IPY_MODEL_9f44159cdc7543a5b0e709e05af974a8"
      }
     },
     "f06573769b73464f8056e2330c213c60": {
      "model_module": "@jupyter-widgets/base",
      "model_module_version": "1.1.0",
      "model_name": "LayoutModel",
      "state": {}
     },
     "f0950b2b869748d194697b7ab91a7cb3": {
      "model_module": "@jupyter-widgets/controls",
      "model_module_version": "1.4.0",
      "model_name": "DescriptionStyleModel",
      "state": {
       "description_width": ""
      }
     },
     "f0e21d94738e4af29504109cfcdc951c": {
      "model_module": "@jupyter-widgets/controls",
      "model_module_version": "1.4.0",
      "model_name": "TextModel",
      "state": {
       "description": "color",
       "layout": "IPY_MODEL_f96f6d0ddf6c424bbb93706971eaf23c",
       "style": "IPY_MODEL_20849334a7a84e928e6afaa566ad28ed",
       "value": "g"
      }
     },
     "f0f93f0d8ccc46e0a84c609fb1ddd3b0": {
      "model_module": "@jupyter-widgets/base",
      "model_module_version": "1.1.0",
      "model_name": "LayoutModel",
      "state": {}
     },
     "f1048098e2954450aa58a7a0f796539c": {
      "model_module": "@jupyter-widgets/base",
      "model_module_version": "1.1.0",
      "model_name": "LayoutModel",
      "state": {}
     },
     "f1647369344c47f8afb9349bbfd1af0b": {
      "model_module": "@jupyter-widgets/controls",
      "model_module_version": "1.4.0",
      "model_name": "DescriptionStyleModel",
      "state": {
       "description_width": ""
      }
     },
     "f165ff334da94463a0bfb3975766e6bb": {
      "model_module": "@jupyter-widgets/controls",
      "model_module_version": "1.4.0",
      "model_name": "ButtonModel",
      "state": {
       "description": "remove",
       "layout": "IPY_MODEL_ee713deddd2849f5bdd54dc4fd66e329",
       "style": "IPY_MODEL_4fd10c8c9a964dc7ab1c1a8c34d93ec1"
      }
     },
     "f19b4c32165f4212bd4d0da94ff82122": {
      "model_module": "@jupyter-widgets/controls",
      "model_module_version": "1.4.0",
      "model_name": "FloatTextModel",
      "state": {
       "description": "height",
       "layout": "IPY_MODEL_a4c2267cdac04e47a8a45ef26cf3c365",
       "step": null,
       "style": "IPY_MODEL_5ad3d71d17794897a139110e5c2ec513",
       "value": 1
      }
     },
     "f1cb8bfe87cb4bfdb064897253e07948": {
      "model_module": "@jupyter-widgets/base",
      "model_module_version": "1.1.0",
      "model_name": "LayoutModel",
      "state": {}
     },
     "f2169169474d4ca09ec51314eef1229f": {
      "model_module": "@jupyter-widgets/controls",
      "model_module_version": "1.4.0",
      "model_name": "HBoxModel",
      "state": {
       "children": [
        "IPY_MODEL_977182c777e5493e8905c34a00ae2d37"
       ],
       "layout": "IPY_MODEL_5d72b9de9d814ca3935c064a78c2050e"
      }
     },
     "f2422af96bfd4d7c8d8ab5bf63e35002": {
      "model_module": "@jupyter-widgets/controls",
      "model_module_version": "1.4.0",
      "model_name": "DescriptionStyleModel",
      "state": {
       "description_width": ""
      }
     },
     "f25e4614a6c045ba978ee4d79515e52a": {
      "model_module": "@jupyter-widgets/base",
      "model_module_version": "1.1.0",
      "model_name": "LayoutModel",
      "state": {}
     },
     "f2dff2445d7c48a287f8450540f29489": {
      "model_module": "@jupyter-widgets/base",
      "model_module_version": "1.1.0",
      "model_name": "LayoutModel",
      "state": {}
     },
     "f312ce42b54f4811967668bd31958d4b": {
      "model_module": "@jupyter-widgets/controls",
      "model_module_version": "1.4.0",
      "model_name": "CheckboxModel",
      "state": {
       "description": "shade_lowest",
       "disabled": false,
       "layout": "IPY_MODEL_6c8bf7aced9e4c2598d8f433f2a5fac5",
       "style": "IPY_MODEL_f8e17c9e3ccb4bdd9d5b95bee1c2e6bb",
       "value": false
      }
     },
     "f3554df7b41f406ab1ed32a2642ec336": {
      "model_module": "@jupyter-widgets/base",
      "model_module_version": "1.1.0",
      "model_name": "LayoutModel",
      "state": {}
     },
     "f36afcf5f3124e52857df92a889488dc": {
      "model_module": "@jupyter-widgets/base",
      "model_module_version": "1.1.0",
      "model_name": "LayoutModel",
      "state": {}
     },
     "f3c62296cfd74cc883dc810dac674758": {
      "model_module": "@jupyter-widgets/controls",
      "model_module_version": "1.4.0",
      "model_name": "DescriptionStyleModel",
      "state": {
       "description_width": ""
      }
     },
     "f40e3796f319474597865c0a846d1960": {
      "model_module": "@jupyter-widgets/base",
      "model_module_version": "1.1.0",
      "model_name": "LayoutModel",
      "state": {}
     },
     "f457e83e1e5d4361b69dc832f1645564": {
      "model_module": "@jupyter-widgets/base",
      "model_module_version": "1.1.0",
      "model_name": "LayoutModel",
      "state": {}
     },
     "f46b5f85d3b44af28db63ba7e540062e": {
      "model_module": "@jupyter-widgets/controls",
      "model_module_version": "1.4.0",
      "model_name": "DropdownModel",
      "state": {
       "_options_labels": [
        "band",
        "bars"
       ],
       "description": "err_style",
       "index": 0,
       "layout": "IPY_MODEL_cf0fe43236bb48d39dcba67e3907e26f",
       "style": "IPY_MODEL_e7fa1a3cf33941528d10becac22427f6"
      }
     },
     "f4cb7602ee994cbabe37dd40172bc1e9": {
      "model_module": "@jupyter-widgets/controls",
      "model_module_version": "1.4.0",
      "model_name": "CheckboxModel",
      "state": {
       "description": "kde",
       "disabled": false,
       "layout": "IPY_MODEL_4aa122ad854646d388deff74b8745f4c",
       "style": "IPY_MODEL_01216a7f24d94c8286b67e69e64ff8f6",
       "value": false
      }
     },
     "f51e125d8fd84959a35cb5cfc6818e14": {
      "model_module": "@jupyter-widgets/base",
      "model_module_version": "1.1.0",
      "model_name": "LayoutModel",
      "state": {}
     },
     "f538f170c71b4214a8d4b20c829fb226": {
      "model_module": "@jupyter-widgets/controls",
      "model_module_version": "1.4.0",
      "model_name": "DescriptionStyleModel",
      "state": {
       "description_width": ""
      }
     },
     "f55cbf09434d45dc9ba0e5ab54b29dc5": {
      "model_module": "@jupyter-widgets/base",
      "model_module_version": "1.1.0",
      "model_name": "LayoutModel",
      "state": {}
     },
     "f5938851622540c68f762c8f86c53cd0": {
      "model_module": "@jupyter-widgets/base",
      "model_module_version": "1.1.0",
      "model_name": "LayoutModel",
      "state": {}
     },
     "f625d4575a4c49da9736fbf459573acb": {
      "model_module": "@jupyter-widgets/controls",
      "model_module_version": "1.4.0",
      "model_name": "DropdownModel",
      "state": {
       "_options_labels": [
        "point",
        "bar",
        "strip",
        "swarm",
        "box",
        "violin",
        "boxen"
       ],
       "description": "kind",
       "index": 0,
       "layout": "IPY_MODEL_bafaa12984724365a74e504efc1dc48d",
       "style": "IPY_MODEL_b113eab0e0ac4d99b14ead17cbc9da17"
      }
     },
     "f6e6bab0e8f64fb2842d14fcf2a3fb00": {
      "model_module": "@jupyter-widgets/controls",
      "model_module_version": "1.4.0",
      "model_name": "CheckboxModel",
      "state": {
       "description": "scale_hue",
       "disabled": false,
       "layout": "IPY_MODEL_aa6437eab61142bd8a823da8e0fae216",
       "style": "IPY_MODEL_f1647369344c47f8afb9349bbfd1af0b",
       "value": false
      }
     },
     "f71a4fe84e594113a357a8fa99830d1d": {
      "model_module": "@jupyter-widgets/base",
      "model_module_version": "1.1.0",
      "model_name": "LayoutModel",
      "state": {}
     },
     "f85135716b4c41629d874c580891ace6": {
      "model_module": "@jupyter-widgets/controls",
      "model_module_version": "1.4.0",
      "model_name": "DescriptionStyleModel",
      "state": {
       "description_width": ""
      }
     },
     "f852613dc6874676b5a3e3ae345ff005": {
      "model_module": "@jupyter-widgets/base",
      "model_module_version": "1.1.0",
      "model_name": "LayoutModel",
      "state": {}
     },
     "f8e17c9e3ccb4bdd9d5b95bee1c2e6bb": {
      "model_module": "@jupyter-widgets/controls",
      "model_module_version": "1.4.0",
      "model_name": "DescriptionStyleModel",
      "state": {
       "description_width": ""
      }
     },
     "f93dbe9f09ce4747b3f2821e70b650eb": {
      "model_module": "@jupyter-widgets/controls",
      "model_module_version": "1.4.0",
      "model_name": "DropdownModel",
      "state": {
       "_options_labels": [
        "scatter",
        "reg"
       ],
       "description": "kind",
       "index": 0,
       "layout": "IPY_MODEL_75b506304ed643dea1d8c3ee1ec156dc",
       "style": "IPY_MODEL_c5520729b2a84ba689dec7b05aae0d90"
      }
     },
     "f95de3c5ed7b4c9d8c4655f16fc9a038": {
      "model_module": "@jupyter-widgets/controls",
      "model_module_version": "1.4.0",
      "model_name": "TextModel",
      "state": {
       "description": "axlabel",
       "layout": "IPY_MODEL_610236d485fe4a3394ee86522aa345eb",
       "style": "IPY_MODEL_c88ffce2fd1745f8834e828886fa983c"
      }
     },
     "f96f6d0ddf6c424bbb93706971eaf23c": {
      "model_module": "@jupyter-widgets/base",
      "model_module_version": "1.1.0",
      "model_name": "LayoutModel",
      "state": {}
     },
     "f9fb57cd845145c3819f414718476a65": {
      "model_module": "@jupyter-widgets/base",
      "model_module_version": "1.1.0",
      "model_name": "LayoutModel",
      "state": {}
     },
     "fa52124e31ba4149983269f2fa21c998": {
      "model_module": "@jupyter-widgets/controls",
      "model_module_version": "1.4.0",
      "model_name": "DescriptionStyleModel",
      "state": {
       "description_width": ""
      }
     },
     "fa9c5c41bb4b468ea4edff45486c18ff": {
      "model_module": "@jupyter-widgets/base",
      "model_module_version": "1.1.0",
      "model_name": "LayoutModel",
      "state": {}
     },
     "fac952e7f1eb4043be872bba06984b17": {
      "model_module": "@jupyter-widgets/controls",
      "model_module_version": "1.4.0",
      "model_name": "LabelModel",
      "state": {
       "layout": "IPY_MODEL_4c32365c2c4e49e09c513526e9cb4e39",
       "style": "IPY_MODEL_a616933a82d342ec99b66028328af3fc",
       "value": "---"
      }
     },
     "fae657af77344bcebdf131f490e026d7": {
      "model_module": "@jupyter-widgets/controls",
      "model_module_version": "1.4.0",
      "model_name": "DescriptionStyleModel",
      "state": {
       "description_width": ""
      }
     },
     "fb119da952f14eb49c03f715ecf450ae": {
      "model_module": "@jupyter-widgets/controls",
      "model_module_version": "1.4.0",
      "model_name": "DropdownModel",
      "state": {
       "_options_labels": [
        "1",
        "2",
        "3",
        "4",
        "5",
        "6",
        "7",
        "8",
        "9",
        "10",
        "11",
        "12",
        "13",
        "14",
        "15",
        "16",
        "17",
        "18",
        "19",
        "20",
        "21",
        "22",
        "23",
        "24",
        "25",
        "26",
        "27",
        "28",
        "29",
        "30",
        "31"
       ],
       "description": "a",
       "index": 0,
       "layout": "IPY_MODEL_f852613dc6874676b5a3e3ae345ff005",
       "style": "IPY_MODEL_cf88b1e909084f08a1ee8a4d1d2d610c"
      }
     },
     "fb197725d6e9432b9d847e0caf3786a5": {
      "model_module": "@jupyter-widgets/base",
      "model_module_version": "1.1.0",
      "model_name": "LayoutModel",
      "state": {}
     },
     "fb52acae8f26441593762a22110b1a33": {
      "model_module": "@jupyter-widgets/controls",
      "model_module_version": "1.4.0",
      "model_name": "FloatTextModel",
      "state": {
       "description": "vmax",
       "layout": "IPY_MODEL_b3811788230f4f589fc8c67bc35b2890",
       "step": null,
       "style": "IPY_MODEL_0b02493be48645169ba79ee7a1a4ee75",
       "value": 1
      }
     },
     "fba4cdb9e6ad49d19c10a61cc86c926f": {
      "model_module": "@jupyter-widgets/controls",
      "model_module_version": "1.4.0",
      "model_name": "FloatTextModel",
      "state": {
       "description": "whis",
       "layout": "IPY_MODEL_99914bd7660947eda6c6403a25162ee7",
       "step": null,
       "style": "IPY_MODEL_d31be58d1e3d4ad4b83490531a805aa4",
       "value": 1
      }
     },
     "fbce0ff1eb2f4032842f0f798b91574f": {
      "model_module": "@jupyter-widgets/controls",
      "model_module_version": "1.4.0",
      "model_name": "DescriptionStyleModel",
      "state": {
       "description_width": ""
      }
     },
     "fbe2f5dcf90b4f6bbad6f4e46017d039": {
      "model_module": "@jupyter-widgets/controls",
      "model_module_version": "1.4.0",
      "model_name": "CheckboxModel",
      "state": {
       "description": "hist",
       "disabled": false,
       "layout": "IPY_MODEL_b2913af26c0d496f85cff8e3eff451db",
       "style": "IPY_MODEL_4b81ac5260c947d9b32a41c805e12517",
       "value": false
      }
     },
     "fbf02a4945564b7fbfae8f34dedd653e": {
      "model_module": "@jupyter-widgets/base",
      "model_module_version": "1.1.0",
      "model_name": "LayoutModel",
      "state": {}
     },
     "fbf166a49f4c417b8b603a75b94bbd4e": {
      "model_module": "@jupyter-widgets/controls",
      "model_module_version": "1.4.0",
      "model_name": "DescriptionStyleModel",
      "state": {
       "description_width": ""
      }
     },
     "fc4d7424e68d428f93e14e59fd795d33": {
      "model_module": "@jupyter-widgets/controls",
      "model_module_version": "1.4.0",
      "model_name": "DescriptionStyleModel",
      "state": {
       "description_width": ""
      }
     },
     "fc9bc1b2ca89410d97bd589fe71839ee": {
      "model_module": "@jupyter-widgets/controls",
      "model_module_version": "1.4.0",
      "model_name": "CheckboxModel",
      "state": {
       "description": "vertical",
       "disabled": false,
       "layout": "IPY_MODEL_a9335c51035d4f41a2445569075219f3",
       "style": "IPY_MODEL_e9dd6ed8f3c3470f8421cdf1d74fd783",
       "value": false
      }
     },
     "fc9c5a2b876444bf8cac9726decdbcb6": {
      "model_module": "@jupyter-widgets/controls",
      "model_module_version": "1.4.0",
      "model_name": "CheckboxModel",
      "state": {
       "description": "scale_hue",
       "disabled": false,
       "layout": "IPY_MODEL_75a24e7a962b4046ab591f6f7a461b21",
       "style": "IPY_MODEL_375e9c9dd08c4829a91e1bd5fc7c8227",
       "value": false
      }
     },
     "fcc1dced59b04bf998f6c579c9ebd7e9": {
      "model_module": "@jupyter-widgets/controls",
      "model_module_version": "1.4.0",
      "model_name": "IntSliderModel",
      "state": {
       "description": "ci",
       "layout": "IPY_MODEL_32534f5813a249709f69b9158d911404",
       "style": "IPY_MODEL_4bc9b5cc150349d7ae51f5b1586131b6",
       "value": 95
      }
     },
     "fcde5115ff084884b36b0e0c96f2c234": {
      "model_module": "@jupyter-widgets/controls",
      "model_module_version": "1.4.0",
      "model_name": "DescriptionStyleModel",
      "state": {
       "description_width": ""
      }
     },
     "fd86f41201f840268b04f5ed8acbca2d": {
      "model_module": "@jupyter-widgets/controls",
      "model_module_version": "1.4.0",
      "model_name": "FloatTextModel",
      "state": {
       "description": "aspect",
       "layout": "IPY_MODEL_ae764a05551f4bd8903b31713a052957",
       "step": null,
       "style": "IPY_MODEL_78faf5f3812b4897b1eba1272aff0248",
       "value": 1
      }
     },
     "fdbb6dcf1ee64a7caefe70af53852ce3": {
      "model_module": "@jupyter-widgets/base",
      "model_module_version": "1.1.0",
      "model_name": "LayoutModel",
      "state": {}
     },
     "fdda4de7e6ba45e38cc680de9d856c08": {
      "model_module": "@jupyter-widgets/controls",
      "model_module_version": "1.4.0",
      "model_name": "DropdownModel",
      "state": {
       "_options_labels": [
        "auto",
        "hist",
        "kde"
       ],
       "description": "diag_kind",
       "index": 0,
       "layout": "IPY_MODEL_61b2492577ab42bcbff5ed6af52852d0",
       "style": "IPY_MODEL_61b5a1da3fc14ad8af448aa0cc004c49"
      }
     },
     "fe35b3b791714847954c6f7bd8736faa": {
      "model_module": "@jupyter-widgets/controls",
      "model_module_version": "1.4.0",
      "model_name": "CheckboxModel",
      "state": {
       "description": "fit_reg",
       "disabled": false,
       "layout": "IPY_MODEL_b7d9236a0ab34433b128a0fdde708c46",
       "style": "IPY_MODEL_52653528880c46d8a7b86323934da1ef",
       "value": false
      }
     },
     "feedfeee24e54ce19eaa71655e26a488": {
      "model_module": "@jupyter-widgets/controls",
      "model_module_version": "1.4.0",
      "model_name": "CheckboxModel",
      "state": {
       "description": "logistic",
       "disabled": false,
       "layout": "IPY_MODEL_a8854709f8dd4b7d83b5b658917ff0cc",
       "style": "IPY_MODEL_75c93c12a2b047259f43bbb079f7fcc5",
       "value": false
      }
     },
     "ff53f7446e834bd38e6e0a60d34b5628": {
      "model_module": "@jupyter-widgets/base",
      "model_module_version": "1.1.0",
      "model_name": "LayoutModel",
      "state": {}
     },
     "ffa555e0b28c4f22b7332fbb798b6bca": {
      "model_module": "@jupyter-widgets/controls",
      "model_module_version": "1.4.0",
      "model_name": "DescriptionStyleModel",
      "state": {
       "description_width": ""
      }
     }
    },
    "version_major": 2,
    "version_minor": 0
   }
  }
 },
 "nbformat": 4,
 "nbformat_minor": 2
}
