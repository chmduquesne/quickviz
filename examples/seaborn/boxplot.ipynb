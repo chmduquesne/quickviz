{
 "cells": [
  {
   "cell_type": "code",
   "execution_count": 1,
   "metadata": {},
   "outputs": [
    {
     "data": {
      "application/vnd.jupyter.widget-view+json": {
       "model_id": "cac4f4939fd444e1bf6b4e35a71ab4c7",
       "version_major": 2,
       "version_minor": 0
      },
      "text/plain": [
       "VBox()"
      ]
     },
     "metadata": {},
     "output_type": "display_data"
    },
    {
     "data": {
      "application/vnd.jupyter.widget-view+json": {
       "model_id": "25e1dd2d1f3743229acd0ba01f89017b",
       "version_major": 2,
       "version_minor": 0
      },
      "text/plain": [
       "Output()"
      ]
     },
     "metadata": {},
     "output_type": "display_data"
    },
    {
     "data": {
      "text/plain": [
       "<quickviz.quickviz.UI at 0x7f3bd81c8c88>"
      ]
     },
     "execution_count": 1,
     "metadata": {},
     "output_type": "execute_result"
    }
   ],
   "source": [
    "%matplotlib inline\n",
    "from quickviz import visualize as v\n",
    "from vega_datasets import data\n",
    "from matplotlib import pyplot as plt\n",
    "\n",
    "v(data.cars(), method=\"seaborn\")"
   ]
  },
  {
   "cell_type": "code",
   "execution_count": null,
   "metadata": {},
   "outputs": [],
   "source": []
  }
 ],
 "metadata": {
  "kernelspec": {
   "display_name": "Python 3",
   "language": "python",
   "name": "python3"
  },
  "language_info": {
   "codemirror_mode": {
    "name": "ipython",
    "version": 3
   },
   "file_extension": ".py",
   "mimetype": "text/x-python",
   "name": "python",
   "nbconvert_exporter": "python",
   "pygments_lexer": "ipython3",
   "version": "3.5.2"
  },
  "widgets": {
   "application/vnd.jupyter.widget-state+json": {
    "state": {
     "0027c47413ee402595c0a0caf4567175": {
      "model_module": "@jupyter-widgets/controls",
      "model_module_version": "1.4.0",
      "model_name": "DropdownModel",
      "state": {
       "_options_labels": [
        "Acceleration",
        "Cylinders",
        "Displacement",
        "Horsepower",
        "Miles_per_Gallon",
        "Name",
        "Origin",
        "Weight_in_lbs",
        "Year"
       ],
       "description": "y",
       "index": 0,
       "layout": "IPY_MODEL_065af399c922491389e86e2f41bd1f20",
       "style": "IPY_MODEL_ebc6a6b8f106484ba53bd7ec4bc57de0"
      }
     },
     "009ed9de2b8e4f6f9472ce120dee1863": {
      "model_module": "@jupyter-widgets/controls",
      "model_module_version": "1.4.0",
      "model_name": "DropdownModel",
      "state": {
       "_options_labels": [
        "Name",
        "Year",
        "Miles_per_Gallon",
        "Origin",
        "Cylinders",
        "Displacement",
        "Acceleration",
        "Horsepower",
        "Weight_in_lbs"
       ],
       "description": "sizes",
       "index": 0,
       "layout": "IPY_MODEL_7227865f8ef443ef8a69c79462fdebec",
       "style": "IPY_MODEL_ea2c696a27d242f9a7ce22dcc71f2118"
      }
     },
     "00cae8bd920c42808bcf16e4d5332dff": {
      "model_module": "@jupyter-widgets/base",
      "model_module_version": "1.1.0",
      "model_name": "LayoutModel",
      "state": {}
     },
     "00ea7b9965264b078fd29fee1441927f": {
      "model_module": "@jupyter-widgets/controls",
      "model_module_version": "1.4.0",
      "model_name": "HBoxModel",
      "state": {
       "children": [
        "IPY_MODEL_0027c47413ee402595c0a0caf4567175",
        "IPY_MODEL_93aa80e2bc7943df973cc13ffea9479f"
       ],
       "layout": "IPY_MODEL_86bfbc69ad644b4fbdbf3dc82dc4735f"
      }
     },
     "00fb440a588a4171bd6799abae7e63cd": {
      "model_module": "@jupyter-widgets/base",
      "model_module_version": "1.1.0",
      "model_name": "LayoutModel",
      "state": {}
     },
     "01144fd2a5f64d89a5bc1ac8502f8f7b": {
      "model_module": "@jupyter-widgets/controls",
      "model_module_version": "1.4.0",
      "model_name": "DescriptionStyleModel",
      "state": {
       "description_width": ""
      }
     },
     "0133f19bdc0b49a392da1ca2b2819ba3": {
      "model_module": "@jupyter-widgets/controls",
      "model_module_version": "1.4.0",
      "model_name": "ButtonModel",
      "state": {
       "description": "remove",
       "layout": "IPY_MODEL_28971dfbf2aa4fcba11ef1984083a942",
       "style": "IPY_MODEL_a32f6d2dfe4a48bb9d15efef7a7a0ed5"
      }
     },
     "016f948bc4064ae9bcd1e92ffcf4affe": {
      "model_module": "@jupyter-widgets/controls",
      "model_module_version": "1.4.0",
      "model_name": "TextModel",
      "state": {
       "description": "axlabel",
       "layout": "IPY_MODEL_2ddcb95121e1469dbbfca5e7944eb144",
       "style": "IPY_MODEL_8a32cfd555974019ad609b0fb8b04473"
      }
     },
     "01752d74b531452391f0cbc393410d73": {
      "model_module": "@jupyter-widgets/base",
      "model_module_version": "1.1.0",
      "model_name": "LayoutModel",
      "state": {}
     },
     "018762811e1a49acbd46678ee067d4a1": {
      "model_module": "@jupyter-widgets/controls",
      "model_module_version": "1.4.0",
      "model_name": "DescriptionStyleModel",
      "state": {
       "description_width": ""
      }
     },
     "018e1eff7bb04e0aa4c6f0111b624630": {
      "model_module": "@jupyter-widgets/controls",
      "model_module_version": "1.4.0",
      "model_name": "SliderStyleModel",
      "state": {
       "description_width": ""
      }
     },
     "0191135a442a4134ac39fd976a588470": {
      "model_module": "@jupyter-widgets/base",
      "model_module_version": "1.1.0",
      "model_name": "LayoutModel",
      "state": {}
     },
     "019e67583df349d290578590a77e1371": {
      "model_module": "@jupyter-widgets/controls",
      "model_module_version": "1.4.0",
      "model_name": "DescriptionStyleModel",
      "state": {
       "description_width": ""
      }
     },
     "01cc29c046a64e359895f1e3ed98efc7": {
      "model_module": "@jupyter-widgets/controls",
      "model_module_version": "1.4.0",
      "model_name": "DescriptionStyleModel",
      "state": {
       "description_width": ""
      }
     },
     "01e5427ff50848a985998980218af51c": {
      "model_module": "@jupyter-widgets/base",
      "model_module_version": "1.1.0",
      "model_name": "LayoutModel",
      "state": {}
     },
     "0248fd41de794ce5957dc4e9bab5acc0": {
      "model_module": "@jupyter-widgets/controls",
      "model_module_version": "1.4.0",
      "model_name": "ButtonModel",
      "state": {
       "description": "remove",
       "layout": "IPY_MODEL_6aa09ec9d9184d95914dc113041361eb",
       "style": "IPY_MODEL_81c005c5b4ce469eb24cb75e51cefe9f"
      }
     },
     "024ffa918e474ab1a0aa9f9df9b9aca5": {
      "model_module": "@jupyter-widgets/controls",
      "model_module_version": "1.4.0",
      "model_name": "HBoxModel",
      "state": {
       "children": [
        "IPY_MODEL_acdcad4fd36e4764864c7f324c1e30ba",
        "IPY_MODEL_ac78c114567f49319a662c8371c3a8d1"
       ],
       "layout": "IPY_MODEL_3c6532dbeef34462949c3326e779f4fe"
      }
     },
     "025bd8d349df4b7f94a557352ab9fae4": {
      "model_module": "@jupyter-widgets/base",
      "model_module_version": "1.1.0",
      "model_name": "LayoutModel",
      "state": {}
     },
     "02f025f2f9794f7fa35f82006c05f2ac": {
      "model_module": "@jupyter-widgets/base",
      "model_module_version": "1.1.0",
      "model_name": "LayoutModel",
      "state": {}
     },
     "0348aab1e23a404aa2c564924783d9f3": {
      "model_module": "@jupyter-widgets/controls",
      "model_module_version": "1.4.0",
      "model_name": "DescriptionStyleModel",
      "state": {
       "description_width": ""
      }
     },
     "03932a4ac2bd471da9de8ce772c4fa90": {
      "model_module": "@jupyter-widgets/controls",
      "model_module_version": "1.4.0",
      "model_name": "FloatTextModel",
      "state": {
       "description": "width",
       "layout": "IPY_MODEL_15908435055b402c80b5be1f615094f2",
       "step": null,
       "style": "IPY_MODEL_b3670c9a4d344d8c90e2ec83da67e94a",
       "value": 1
      }
     },
     "039bd64dffd5428fb7c8d18e41aa47e1": {
      "model_module": "@jupyter-widgets/controls",
      "model_module_version": "1.4.0",
      "model_name": "LabelModel",
      "state": {
       "layout": "IPY_MODEL_39e00bdd0bc04407a38eff722e9d6852",
       "style": "IPY_MODEL_01cc29c046a64e359895f1e3ed98efc7",
       "value": "---"
      }
     },
     "03b6eac16bff4560adc90274869f8f75": {
      "model_module": "@jupyter-widgets/controls",
      "model_module_version": "1.4.0",
      "model_name": "DropdownModel",
      "state": {
       "_options_labels": [
        "box",
        "quartile",
        "point",
        "stick"
       ],
       "description": "inner",
       "index": 0,
       "layout": "IPY_MODEL_31d35b2bae524c3785877049507defa9",
       "style": "IPY_MODEL_a7802374ba9a496db5e127cd6700694c"
      }
     },
     "03c463e27081464fb7619809db6b5f09": {
      "model_module": "@jupyter-widgets/base",
      "model_module_version": "1.1.0",
      "model_name": "LayoutModel",
      "state": {}
     },
     "03ce638d1bd74d4ab1833901f407c678": {
      "model_module": "@jupyter-widgets/controls",
      "model_module_version": "1.4.0",
      "model_name": "ButtonModel",
      "state": {
       "description": "remove",
       "layout": "IPY_MODEL_2f1c0b092712468fa83f7c335a95b74b",
       "style": "IPY_MODEL_08ea6355c8374b91a444e8569805ab3c"
      }
     },
     "040b0b431fbc4bd8bfc2d943b5692565": {
      "model_module": "@jupyter-widgets/controls",
      "model_module_version": "1.4.0",
      "model_name": "DropdownModel",
      "state": {
       "_options_labels": [
        "Acceleration",
        "Cylinders",
        "Displacement",
        "Horsepower",
        "Miles_per_Gallon",
        "Name",
        "Origin",
        "Weight_in_lbs",
        "Year"
       ],
       "description": "y",
       "index": 6,
       "layout": "IPY_MODEL_c027826ed9c34998a37a22206f8b7944",
       "style": "IPY_MODEL_73d0948151a84c86bb99d0d75de0e456"
      }
     },
     "0465eff5b7a74df693b05c3bfece5924": {
      "model_module": "@jupyter-widgets/base",
      "model_module_version": "1.1.0",
      "model_name": "LayoutModel",
      "state": {}
     },
     "047d53eb370c4f9b9a3421bebcaea348": {
      "model_module": "@jupyter-widgets/base",
      "model_module_version": "1.1.0",
      "model_name": "LayoutModel",
      "state": {}
     },
     "04bcf0938702414bac12614e1dac97a9": {
      "model_module": "@jupyter-widgets/controls",
      "model_module_version": "1.4.0",
      "model_name": "HBoxModel",
      "state": {
       "children": [
        "IPY_MODEL_267781ec45d3417d96e37cbd2296f9cb"
       ],
       "layout": "IPY_MODEL_da0c09cfb4dd40f98176c17fa5c61890"
      }
     },
     "04c300949196416cb0140485e9b2b901": {
      "model_module": "@jupyter-widgets/controls",
      "model_module_version": "1.4.0",
      "model_name": "CheckboxModel",
      "state": {
       "description": "cumulative",
       "disabled": false,
       "layout": "IPY_MODEL_49c97db9ce2a4289999aac188458f182",
       "style": "IPY_MODEL_43e199c7b8b24880be9b537cce9c33e3",
       "value": false
      }
     },
     "04dcf8e4e4194a6d93b951f3dc1f6d79": {
      "model_module": "@jupyter-widgets/base",
      "model_module_version": "1.1.0",
      "model_name": "LayoutModel",
      "state": {}
     },
     "050d277de89941a0afdb23a7653f0e30": {
      "model_module": "@jupyter-widgets/base",
      "model_module_version": "1.1.0",
      "model_name": "LayoutModel",
      "state": {}
     },
     "0512bd77406e4d45a9c25aeb622ad112": {
      "model_module": "@jupyter-widgets/controls",
      "model_module_version": "1.4.0",
      "model_name": "DropdownModel",
      "state": {
       "_options_labels": [
        "scott",
        "silverman"
       ],
       "description": "bw",
       "index": 0,
       "layout": "IPY_MODEL_ce3ac842cfe94015a6611453c76265f0",
       "style": "IPY_MODEL_69a7db46cc434055b2a15ed54ba6b2c6"
      }
     },
     "0515fd7a34a84ec6b7667778861d43d8": {
      "model_module": "@jupyter-widgets/controls",
      "model_module_version": "1.4.0",
      "model_name": "DropdownModel",
      "state": {
       "_options_labels": [
        "Acceleration",
        "Cylinders",
        "Displacement",
        "Horsepower",
        "Miles_per_Gallon",
        "Name",
        "Origin",
        "Weight_in_lbs",
        "Year"
       ],
       "description": "x_partial",
       "index": 0,
       "layout": "IPY_MODEL_24fc5fc857204da89135195a39bf103a",
       "style": "IPY_MODEL_6dbb4223b4194fb2a067e53add9e1614"
      }
     },
     "0549d7222ed64eaba9ba6b3fb7eaaac7": {
      "model_module": "@jupyter-widgets/base",
      "model_module_version": "1.1.0",
      "model_name": "LayoutModel",
      "state": {}
     },
     "054b9c0e19874ede8fcc70e0385240c6": {
      "model_module": "@jupyter-widgets/base",
      "model_module_version": "1.1.0",
      "model_name": "LayoutModel",
      "state": {}
     },
     "055f8d4f2d1a434897263840f09d3cf4": {
      "model_module": "@jupyter-widgets/base",
      "model_module_version": "1.1.0",
      "model_name": "LayoutModel",
      "state": {}
     },
     "058e0ee144a440ec959c24718883d4f0": {
      "model_module": "@jupyter-widgets/controls",
      "model_module_version": "1.4.0",
      "model_name": "DescriptionStyleModel",
      "state": {
       "description_width": ""
      }
     },
     "0590c95b817f44449875fb8de1540f5e": {
      "model_module": "@jupyter-widgets/base",
      "model_module_version": "1.1.0",
      "model_name": "LayoutModel",
      "state": {}
     },
     "061f01b7082b45279e42be919cb62766": {
      "model_module": "@jupyter-widgets/controls",
      "model_module_version": "1.4.0",
      "model_name": "FloatTextModel",
      "state": {
       "description": "aspect",
       "layout": "IPY_MODEL_f0abf883770644dca196fbdd7f6ab2d1",
       "step": null,
       "style": "IPY_MODEL_1b40481fca674a08a5922a15fd51c7dd",
       "value": 1
      }
     },
     "0631464f02a44320b8500a8fc5ca2664": {
      "model_module": "@jupyter-widgets/base",
      "model_module_version": "1.1.0",
      "model_name": "LayoutModel",
      "state": {}
     },
     "0631aec5a1d9498eafe9dff8e33dd7f4": {
      "model_module": "@jupyter-widgets/controls",
      "model_module_version": "1.4.0",
      "model_name": "DropdownModel",
      "state": {
       "_options_labels": [
        "x",
        "y",
        "color",
        "fliersize",
        "linewidth",
        "notch",
        "orient",
        "palette",
        "saturation",
        "whis",
        "width"
       ],
       "description": "Add arg",
       "index": 8,
       "layout": "IPY_MODEL_37ee984d28294c2e89e7c95ec0cb56d7",
       "style": "IPY_MODEL_4b988b4bbe224d3588dc078dc2814b82"
      }
     },
     "065af399c922491389e86e2f41bd1f20": {
      "model_module": "@jupyter-widgets/base",
      "model_module_version": "1.1.0",
      "model_name": "LayoutModel",
      "state": {}
     },
     "0682da97e6844d5282adf1a109db2525": {
      "model_module": "@jupyter-widgets/controls",
      "model_module_version": "1.4.0",
      "model_name": "DropdownModel",
      "state": {
       "_options_labels": [
        "scatter",
        "line"
       ],
       "description": "kind",
       "index": 0,
       "layout": "IPY_MODEL_c54d1b378f0445a1b5973078905785c0",
       "style": "IPY_MODEL_5f473f1121da449bbd3afb6b5cbec115"
      }
     },
     "06daee1345dd43958b8c65b604eb653f": {
      "model_module": "@jupyter-widgets/base",
      "model_module_version": "1.1.0",
      "model_name": "LayoutModel",
      "state": {}
     },
     "06e92f06602b404baac6a80b7c99d33b": {
      "model_module": "@jupyter-widgets/controls",
      "model_module_version": "1.4.0",
      "model_name": "DescriptionStyleModel",
      "state": {
       "description_width": ""
      }
     },
     "0708eaaefbb54bc18a11dcd9a494eec2": {
      "model_module": "@jupyter-widgets/controls",
      "model_module_version": "1.4.0",
      "model_name": "DescriptionStyleModel",
      "state": {
       "description_width": ""
      }
     },
     "070e9737c2bf4dd5b104faf8454aab89": {
      "model_module": "@jupyter-widgets/controls",
      "model_module_version": "1.4.0",
      "model_name": "HBoxModel",
      "state": {
       "children": [
        "IPY_MODEL_90660925dc4a4dacabeb7503bb9a4c0f",
        "IPY_MODEL_0133f19bdc0b49a392da1ca2b2819ba3"
       ],
       "layout": "IPY_MODEL_8d39f34ca3da41ac99c2b0a8bba99628"
      }
     },
     "075122ca322446bab226633b53303a3d": {
      "model_module": "@jupyter-widgets/base",
      "model_module_version": "1.1.0",
      "model_name": "LayoutModel",
      "state": {}
     },
     "07ca82756e964db5b60f0781e5f76a7a": {
      "model_module": "@jupyter-widgets/base",
      "model_module_version": "1.1.0",
      "model_name": "LayoutModel",
      "state": {}
     },
     "07eb7d8f2d5742aca7f53bcab35d674b": {
      "model_module": "@jupyter-widgets/controls",
      "model_module_version": "1.4.0",
      "model_name": "DescriptionStyleModel",
      "state": {
       "description_width": ""
      }
     },
     "08588b70e4a24523b826aa540f1a8324": {
      "model_module": "@jupyter-widgets/controls",
      "model_module_version": "1.4.0",
      "model_name": "HBoxModel",
      "state": {
       "children": [
        "IPY_MODEL_0dd5ea98bc1e4b6a86c174470a32a7c1"
       ],
       "layout": "IPY_MODEL_72318c529ed045b3b5f861557e7ecfb8"
      }
     },
     "0880a832ac5d4fc7b30286bffcefade4": {
      "model_module": "@jupyter-widgets/base",
      "model_module_version": "1.1.0",
      "model_name": "LayoutModel",
      "state": {}
     },
     "08e2b6863f454ac8b36047c2fd08a6dc": {
      "model_module": "@jupyter-widgets/controls",
      "model_module_version": "1.4.0",
      "model_name": "FloatTextModel",
      "state": {
       "description": "height",
       "layout": "IPY_MODEL_f62d91a7e2af4f6f9c02edc8f263a6ae",
       "step": null,
       "style": "IPY_MODEL_a98048fdc4b94e89a347f12e25ce8cb3",
       "value": 1
      }
     },
     "08ea6355c8374b91a444e8569805ab3c": {
      "model_module": "@jupyter-widgets/controls",
      "model_module_version": "1.4.0",
      "model_name": "ButtonStyleModel",
      "state": {}
     },
     "091ab90489bb48bd925fc1a1d4685b66": {
      "model_module": "@jupyter-widgets/base",
      "model_module_version": "1.1.0",
      "model_name": "LayoutModel",
      "state": {}
     },
     "096bb3926d26425b83054e7392944e85": {
      "model_module": "@jupyter-widgets/controls",
      "model_module_version": "1.4.0",
      "model_name": "DropdownModel",
      "state": {
       "_options_labels": [
        "Acceleration",
        "Cylinders",
        "Displacement",
        "Horsepower",
        "Miles_per_Gallon",
        "Name",
        "Origin",
        "Weight_in_lbs",
        "Year"
       ],
       "description": "size",
       "index": 0,
       "layout": "IPY_MODEL_7699675a36f74835886586c0e8f7182c",
       "style": "IPY_MODEL_fc462efd3d7547dbba8b1cca1fea52e3"
      }
     },
     "097f953faf204ee3bfd47de3ac3d8cea": {
      "model_module": "@jupyter-widgets/controls",
      "model_module_version": "1.4.0",
      "model_name": "CheckboxModel",
      "state": {
       "description": "cbar_ax",
       "disabled": false,
       "layout": "IPY_MODEL_76eef05ff219414fa4477cc5c7e09060",
       "style": "IPY_MODEL_1213027bb466414aa5906c1d1bf15c32",
       "value": false
      }
     },
     "0a05bef3e31341e6a83ff74ba65f320e": {
      "model_module": "@jupyter-widgets/controls",
      "model_module_version": "1.4.0",
      "model_name": "DropdownModel",
      "state": {
       "_options_labels": [
        "Acceleration",
        "Cylinders",
        "Displacement",
        "Horsepower",
        "Miles_per_Gallon",
        "Name",
        "Origin",
        "Weight_in_lbs",
        "Year"
       ],
       "description": "row",
       "index": 0,
       "layout": "IPY_MODEL_25bfa36c951d436f8b048fd2388d1e4f",
       "style": "IPY_MODEL_1494055d5d0547debb834181df532fb7"
      }
     },
     "0a139d15b5884e0f83b931fa84dc1864": {
      "model_module": "@jupyter-widgets/controls",
      "model_module_version": "1.4.0",
      "model_name": "IntTextModel",
      "state": {
       "description": "height",
       "layout": "IPY_MODEL_f8c1a5b9dbfa4840b442c6dfdc65264d",
       "step": 1,
       "style": "IPY_MODEL_4538b1e222424ae380861d4b25f1d492",
       "value": 5
      }
     },
     "0a24374987234929a4bb718698d5ee62": {
      "model_module": "@jupyter-widgets/base",
      "model_module_version": "1.1.0",
      "model_name": "LayoutModel",
      "state": {}
     },
     "0a2be8d2ac7947099ee1bb8424849eae": {
      "model_module": "@jupyter-widgets/controls",
      "model_module_version": "1.4.0",
      "model_name": "HBoxModel",
      "state": {
       "children": [
        "IPY_MODEL_305d4cb7ee8a483f9112efd6d5b694c1"
       ],
       "layout": "IPY_MODEL_c54ea9e71c5341a8b13a1f059a7f690a"
      }
     },
     "0a2f8204eb044620912a931a6a56749e": {
      "model_module": "@jupyter-widgets/controls",
      "model_module_version": "1.4.0",
      "model_name": "ButtonStyleModel",
      "state": {}
     },
     "0a5107ef9dff4dc3a27026fcc06f282e": {
      "model_module": "@jupyter-widgets/base",
      "model_module_version": "1.1.0",
      "model_name": "LayoutModel",
      "state": {}
     },
     "0a660afc84b9434c9edd7d360a1076f3": {
      "model_module": "@jupyter-widgets/controls",
      "model_module_version": "1.4.0",
      "model_name": "FloatTextModel",
      "state": {
       "description": "size",
       "layout": "IPY_MODEL_5e20b46307c64dd1a2df7d8928a25569",
       "step": null,
       "style": "IPY_MODEL_b3c26c73c3a549f680ac6a9fea2c2a5c",
       "value": 1
      }
     },
     "0ae682fa30a6450b989ffeff72d4e96b": {
      "model_module": "@jupyter-widgets/base",
      "model_module_version": "1.1.0",
      "model_name": "LayoutModel",
      "state": {}
     },
     "0b049929d5cf47c792c00cf1449e6bd6": {
      "model_module": "@jupyter-widgets/controls",
      "model_module_version": "1.4.0",
      "model_name": "DescriptionStyleModel",
      "state": {
       "description_width": ""
      }
     },
     "0b264b02bada4853854fb93e45649c6f": {
      "model_module": "@jupyter-widgets/base",
      "model_module_version": "1.1.0",
      "model_name": "LayoutModel",
      "state": {}
     },
     "0b305b4894364136bc1f16afd788595e": {
      "model_module": "@jupyter-widgets/controls",
      "model_module_version": "1.4.0",
      "model_name": "DescriptionStyleModel",
      "state": {
       "description_width": ""
      }
     },
     "0b3f5f436fe347f58238e5fa961d4a84": {
      "model_module": "@jupyter-widgets/controls",
      "model_module_version": "1.4.0",
      "model_name": "CheckboxModel",
      "state": {
       "description": "annot",
       "disabled": false,
       "layout": "IPY_MODEL_6d47f39dc4554aa3ac55adc9d5bf04a1",
       "style": "IPY_MODEL_0348aab1e23a404aa2c564924783d9f3",
       "value": false
      }
     },
     "0b5fac87da6946aab91db34bfbfc85e1": {
      "model_module": "@jupyter-widgets/base",
      "model_module_version": "1.1.0",
      "model_name": "LayoutModel",
      "state": {}
     },
     "0b96cda44d034a98be0236ed93833eec": {
      "model_module": "@jupyter-widgets/base",
      "model_module_version": "1.1.0",
      "model_name": "LayoutModel",
      "state": {}
     },
     "0c5de9add38c4d93a219b454b1e1090a": {
      "model_module": "@jupyter-widgets/base",
      "model_module_version": "1.1.0",
      "model_name": "LayoutModel",
      "state": {}
     },
     "0c7f8a5d528740f885bfe39363cd2f32": {
      "model_module": "@jupyter-widgets/controls",
      "model_module_version": "1.4.0",
      "model_name": "DescriptionStyleModel",
      "state": {
       "description_width": ""
      }
     },
     "0cc8225d37584465a34977cc076fbd41": {
      "model_module": "@jupyter-widgets/controls",
      "model_module_version": "1.4.0",
      "model_name": "CheckboxModel",
      "state": {
       "description": "rug",
       "disabled": false,
       "layout": "IPY_MODEL_4f95a006746f48dc87baf6ad46199d2b",
       "style": "IPY_MODEL_dad3ba38394d4fd1bd8d0b66d11140f8",
       "value": false
      }
     },
     "0cf2faa8f61649249e1f3951482188c1": {
      "model_module": "@jupyter-widgets/base",
      "model_module_version": "1.1.0",
      "model_name": "LayoutModel",
      "state": {}
     },
     "0d636c0c0ca349ec9da36b8d193b919f": {
      "model_module": "@jupyter-widgets/base",
      "model_module_version": "1.1.0",
      "model_name": "LayoutModel",
      "state": {}
     },
     "0d63ff036ba0463e84bcfc79743fc53e": {
      "model_module": "@jupyter-widgets/controls",
      "model_module_version": "1.4.0",
      "model_name": "DropdownModel",
      "state": {
       "_options_labels": [
        "linear",
        "exponential",
        "area"
       ],
       "description": "scale",
       "index": 0,
       "layout": "IPY_MODEL_94c77cb32c254f778489aebd8a820d2d",
       "style": "IPY_MODEL_93aca345099046338e717d447b37bc0a"
      }
     },
     "0dafe08684554faa9110c0964310ba51": {
      "model_module": "@jupyter-widgets/controls",
      "model_module_version": "1.4.0",
      "model_name": "DescriptionStyleModel",
      "state": {
       "description_width": ""
      }
     },
     "0dba01bb31474f6fa4aeb43e7039afae": {
      "model_module": "@jupyter-widgets/controls",
      "model_module_version": "1.4.0",
      "model_name": "HBoxModel",
      "state": {
       "children": [
        "IPY_MODEL_95daa4e3f69a49beb6bd33c0422a2431",
        "IPY_MODEL_82ee1becd0bf422c9f8ae3c9dddedfa4"
       ],
       "layout": "IPY_MODEL_c69748c1472f4b4cb4f0c96b5860a6b6"
      }
     },
     "0dd5ea98bc1e4b6a86c174470a32a7c1": {
      "model_module": "@jupyter-widgets/controls",
      "model_module_version": "1.4.0",
      "model_name": "LabelModel",
      "state": {
       "layout": "IPY_MODEL_aa56c86e234b49bda7e7f28b507b4125",
       "style": "IPY_MODEL_5eb862399041434b9578ca5f041982ea",
       "value": "---"
      }
     },
     "0e36ef1816a94c6baf688e8b44bd7f7e": {
      "model_module": "@jupyter-widgets/base",
      "model_module_version": "1.1.0",
      "model_name": "LayoutModel",
      "state": {}
     },
     "0e48382438cc4d5e9a1a1696dc3a0a6a": {
      "model_module": "@jupyter-widgets/base",
      "model_module_version": "1.1.0",
      "model_name": "LayoutModel",
      "state": {}
     },
     "0e6bcb24baf748c49c3b261a08d2a4a6": {
      "model_module": "@jupyter-widgets/controls",
      "model_module_version": "1.4.0",
      "model_name": "ButtonStyleModel",
      "state": {}
     },
     "0e70a0da16704b3c8c74f637341057ff": {
      "model_module": "@jupyter-widgets/controls",
      "model_module_version": "1.4.0",
      "model_name": "ButtonModel",
      "state": {
       "description": "remove",
       "layout": "IPY_MODEL_2dec49a096b5420db3e9f72010c5cde6",
       "style": "IPY_MODEL_4525e5898fa343089f0fe95abfce808b"
      }
     },
     "0ed94a4af8cf426e8cf735fd5e6b5a7e": {
      "model_module": "@jupyter-widgets/controls",
      "model_module_version": "1.4.0",
      "model_name": "CheckboxModel",
      "state": {
       "description": "norm_hist",
       "disabled": false,
       "layout": "IPY_MODEL_ac62394d4f7b45588cc5239792a52693",
       "style": "IPY_MODEL_726f31c4227a444bb9845a70e51f4d1b",
       "value": false
      }
     },
     "0edb08573625477bba6f50a0e33fa1a2": {
      "model_module": "@jupyter-widgets/controls",
      "model_module_version": "1.4.0",
      "model_name": "DropdownModel",
      "state": {
       "_options_labels": [
        "Acceleration",
        "Cylinders",
        "Displacement",
        "Horsepower",
        "Miles_per_Gallon",
        "Name",
        "Origin",
        "Weight_in_lbs",
        "Year"
       ],
       "description": "x_partial",
       "index": 0,
       "layout": "IPY_MODEL_0880a832ac5d4fc7b30286bffcefade4",
       "style": "IPY_MODEL_ce0c246a81eb4b30a4fd839aee0812a1"
      }
     },
     "0eeb596c3b484e03ab4e92f7cead788d": {
      "model_module": "@jupyter-widgets/controls",
      "model_module_version": "1.4.0",
      "model_name": "HBoxModel",
      "state": {
       "children": [
        "IPY_MODEL_f262a43ca1af42b98e9239c4be03debf"
       ],
       "layout": "IPY_MODEL_2be8aab9c3504fd1b3deecbe04c9380c"
      }
     },
     "0ef4d582255946498f58c5d1ae7d0dab": {
      "model_module": "@jupyter-widgets/controls",
      "model_module_version": "1.4.0",
      "model_name": "DescriptionStyleModel",
      "state": {
       "description_width": ""
      }
     },
     "0efce81facc64daab4044918cfa3c880": {
      "model_module": "@jupyter-widgets/base",
      "model_module_version": "1.1.0",
      "model_name": "LayoutModel",
      "state": {}
     },
     "0f5a8d161af14f14ac68b97043cff568": {
      "model_module": "@jupyter-widgets/controls",
      "model_module_version": "1.4.0",
      "model_name": "HBoxModel",
      "state": {
       "children": [
        "IPY_MODEL_0027c47413ee402595c0a0caf4567175",
        "IPY_MODEL_985da56e6abe4fefbe585761d6586808"
       ],
       "layout": "IPY_MODEL_bec2fd01760a43128373488bee728100"
      }
     },
     "0f646d19bbc040699637d7ac582f1b30": {
      "model_module": "@jupyter-widgets/base",
      "model_module_version": "1.1.0",
      "model_name": "LayoutModel",
      "state": {}
     },
     "0f854ce51d4a47359c5348faeb32dbb5": {
      "model_module": "@jupyter-widgets/controls",
      "model_module_version": "1.4.0",
      "model_name": "CheckboxModel",
      "state": {
       "description": "shade_lowest",
       "disabled": false,
       "layout": "IPY_MODEL_1ed683d7dc7d44829926b64ef8e6faa3",
       "style": "IPY_MODEL_f1f45c078dd14f819ece83fa1aec1548",
       "value": false
      }
     },
     "0f882b2d4a3f4fd49697d1a73ef283d4": {
      "model_module": "@jupyter-widgets/controls",
      "model_module_version": "1.4.0",
      "model_name": "DescriptionStyleModel",
      "state": {
       "description_width": ""
      }
     },
     "0fca3d4ececc48aaafaf18df13bf5ae1": {
      "model_module": "@jupyter-widgets/controls",
      "model_module_version": "1.4.0",
      "model_name": "TextModel",
      "state": {
       "description": "fmt",
       "layout": "IPY_MODEL_af13ac37928a44e49a887fadf17c6d43",
       "style": "IPY_MODEL_46f4127a433f4e9ca8946905a457773a"
      }
     },
     "100adf8acedb4bada0643b1c75bd2db4": {
      "model_module": "@jupyter-widgets/controls",
      "model_module_version": "1.4.0",
      "model_name": "DescriptionStyleModel",
      "state": {
       "description_width": ""
      }
     },
     "102b558efb804ff8891a74244642744b": {
      "model_module": "@jupyter-widgets/base",
      "model_module_version": "1.1.0",
      "model_name": "LayoutModel",
      "state": {}
     },
     "1041b9146a2b464a940cb86dd06d7a1e": {
      "model_module": "@jupyter-widgets/controls",
      "model_module_version": "1.4.0",
      "model_name": "ButtonModel",
      "state": {
       "description": "remove",
       "layout": "IPY_MODEL_c486f51d4df0477a90156bc4dffa1d71",
       "style": "IPY_MODEL_5b924c93c96f4c22b64a87762c47cd15"
      }
     },
     "1046ac60e9c547b7b01a440c3802ba22": {
      "model_module": "@jupyter-widgets/controls",
      "model_module_version": "1.4.0",
      "model_name": "DescriptionStyleModel",
      "state": {
       "description_width": ""
      }
     },
     "104c91f7d9d34ba5b022868e3bd9a457": {
      "model_module": "@jupyter-widgets/controls",
      "model_module_version": "1.4.0",
      "model_name": "DescriptionStyleModel",
      "state": {
       "description_width": ""
      }
     },
     "107ccb9ec1a54dc79b405a4b79c3ece9": {
      "model_module": "@jupyter-widgets/controls",
      "model_module_version": "1.4.0",
      "model_name": "HBoxModel",
      "state": {
       "children": [
        "IPY_MODEL_a9690d503c29458eb5fa99ed97ecb43c",
        "IPY_MODEL_b8985a28acc3465291a355309eab5dae"
       ],
       "layout": "IPY_MODEL_4500a33d387140dc9adf50ac7e1a7d0d"
      }
     },
     "10a40853da2342449d591105e1d58164": {
      "model_module": "@jupyter-widgets/base",
      "model_module_version": "1.1.0",
      "model_name": "LayoutModel",
      "state": {}
     },
     "10b4bb1497994533a03a9589222b17e5": {
      "model_module": "@jupyter-widgets/controls",
      "model_module_version": "1.4.0",
      "model_name": "FloatSliderModel",
      "state": {
       "description": "alpha",
       "layout": "IPY_MODEL_f0dfb55273f44673b94a7834361649c1",
       "max": 1,
       "step": 0.05,
       "style": "IPY_MODEL_ca65cd41ceed49d9ad4b6cf7cbab4846"
      }
     },
     "10d3a01165644be4bc2dfedf0bc8810c": {
      "model_module": "@jupyter-widgets/base",
      "model_module_version": "1.1.0",
      "model_name": "LayoutModel",
      "state": {}
     },
     "110d8dbde9704b9982f5aa30924c9068": {
      "model_module": "@jupyter-widgets/controls",
      "model_module_version": "1.4.0",
      "model_name": "HBoxModel",
      "state": {
       "children": [
        "IPY_MODEL_89edd7af179f4a65ae141a8d23b4bbdd",
        "IPY_MODEL_0e70a0da16704b3c8c74f637341057ff"
       ],
       "layout": "IPY_MODEL_4488c6172f5542ee86d4a95d1a3a0fca"
      }
     },
     "112acc689e954548b5c17ab2fe1d02bf": {
      "model_module": "@jupyter-widgets/base",
      "model_module_version": "1.1.0",
      "model_name": "LayoutModel",
      "state": {}
     },
     "114448e3191443308f1eb0ff65708ffc": {
      "model_module": "@jupyter-widgets/controls",
      "model_module_version": "1.4.0",
      "model_name": "DescriptionStyleModel",
      "state": {
       "description_width": ""
      }
     },
     "116892512c4b448dac8cf798b02ed5a0": {
      "model_module": "@jupyter-widgets/controls",
      "model_module_version": "1.4.0",
      "model_name": "DropdownModel",
      "state": {
       "_options_labels": [
        "x",
        "y",
        "color",
        "hue",
        "k_depth",
        "linewidth",
        "orient",
        "outlier_prop",
        "palette",
        "saturation",
        "scale",
        "width"
       ],
       "description": "Add arg",
       "index": 2,
       "layout": "IPY_MODEL_b267a458b3464fbf8a87dd58b9e01b95",
       "style": "IPY_MODEL_ce33c34160f9404eabc156881d078cbc"
      }
     },
     "1192508768514116b0fa5d17bbc8932c": {
      "model_module": "@jupyter-widgets/controls",
      "model_module_version": "1.4.0",
      "model_name": "DescriptionStyleModel",
      "state": {
       "description_width": ""
      }
     },
     "11a2afc415a041c39fcd89381fab56b3": {
      "model_module": "@jupyter-widgets/base",
      "model_module_version": "1.1.0",
      "model_name": "LayoutModel",
      "state": {}
     },
     "11adb0b71bb1414dbd69d7169cee9b0a": {
      "model_module": "@jupyter-widgets/controls",
      "model_module_version": "1.4.0",
      "model_name": "DescriptionStyleModel",
      "state": {
       "description_width": ""
      }
     },
     "11ff62c55b7946d6a37c4ff31b7c1607": {
      "model_module": "@jupyter-widgets/controls",
      "model_module_version": "1.4.0",
      "model_name": "DescriptionStyleModel",
      "state": {
       "description_width": ""
      }
     },
     "1213027bb466414aa5906c1d1bf15c32": {
      "model_module": "@jupyter-widgets/controls",
      "model_module_version": "1.4.0",
      "model_name": "DescriptionStyleModel",
      "state": {
       "description_width": ""
      }
     },
     "1237b7d33170494ab7a2428068645f97": {
      "model_module": "@jupyter-widgets/controls",
      "model_module_version": "1.4.0",
      "model_name": "IntTextModel",
      "state": {
       "description": "height",
       "layout": "IPY_MODEL_91479d4b42e04a158ab2ba3dc521e215",
       "step": 1,
       "style": "IPY_MODEL_d9db420e9d2d4dfb8eced28d1ca26adf",
       "value": 5
      }
     },
     "127907d690e1454b8eb5bc8c2e0718e9": {
      "model_module": "@jupyter-widgets/base",
      "model_module_version": "1.1.0",
      "model_name": "LayoutModel",
      "state": {}
     },
     "12d64bd9798e4dffb73287e0349049fa": {
      "model_module": "@jupyter-widgets/controls",
      "model_module_version": "1.4.0",
      "model_name": "DropdownModel",
      "state": {
       "_options_labels": [
        "linear",
        "exponential",
        "area"
       ],
       "description": "scale",
       "index": 0,
       "layout": "IPY_MODEL_0c5de9add38c4d93a219b454b1e1090a",
       "style": "IPY_MODEL_682a187f9052421793f1387ee96d655b"
      }
     },
     "130b74c5635042a9bec5834454809429": {
      "model_module": "@jupyter-widgets/controls",
      "model_module_version": "1.4.0",
      "model_name": "HBoxModel",
      "state": {
       "children": [
        "IPY_MODEL_15c3232dbf984386b1e0d56bcc6bdfb7",
        "IPY_MODEL_3095beb5a7fd45a890d9689a214faf7a"
       ],
       "layout": "IPY_MODEL_c499a2bbbd844a66b46160edcf06d14c"
      }
     },
     "1326d90bd971408c92adb82e0003ed1f": {
      "model_module": "@jupyter-widgets/controls",
      "model_module_version": "1.4.0",
      "model_name": "CheckboxModel",
      "state": {
       "description": "legend_out",
       "disabled": false,
       "layout": "IPY_MODEL_6f247d2ffcbe43ffa4cd8b651aedb5f4",
       "style": "IPY_MODEL_11ff62c55b7946d6a37c4ff31b7c1607",
       "value": false
      }
     },
     "132a2d4cd28a4e2abccf9c63a114cbf4": {
      "model_module": "@jupyter-widgets/controls",
      "model_module_version": "1.4.0",
      "model_name": "DropdownModel",
      "state": {
       "_options_labels": [
        "Acceleration",
        "Cylinders",
        "Displacement",
        "Horsepower",
        "Miles_per_Gallon",
        "Name",
        "Origin",
        "Weight_in_lbs",
        "Year"
       ],
       "description": "row",
       "index": 0,
       "layout": "IPY_MODEL_2adef8e4a1bf4120afbcf489625902ac",
       "style": "IPY_MODEL_b284831302fc4cfda5c3262b8e9bfe1e"
      }
     },
     "13421c523b4640f19bde2247725dba97": {
      "model_module": "@jupyter-widgets/base",
      "model_module_version": "1.1.0",
      "model_name": "LayoutModel",
      "state": {}
     },
     "134d62255f8044d69d635e9dde8d6b2b": {
      "model_module": "@jupyter-widgets/controls",
      "model_module_version": "1.4.0",
      "model_name": "DropdownModel",
      "state": {
       "_options_labels": [
        "box",
        "quartile",
        "point",
        "stick"
       ],
       "description": "inner",
       "index": 0,
       "layout": "IPY_MODEL_25b1dd4914b24553baaebe824e3cc3e2",
       "style": "IPY_MODEL_258822ba5e54477289d1d6cb17e8ebd1"
      }
     },
     "137ff10e2083451aa5610ca2985b2326": {
      "model_module": "@jupyter-widgets/controls",
      "model_module_version": "1.4.0",
      "model_name": "HBoxModel",
      "state": {
       "children": [
        "IPY_MODEL_4ff727e33fb54419a9b36d7dcab84dc0"
       ],
       "layout": "IPY_MODEL_d60a30826cef42d7b46caa184945b5dc"
      }
     },
     "1394c905f83549c5a955e897b0abdb2e": {
      "model_module": "@jupyter-widgets/controls",
      "model_module_version": "1.4.0",
      "model_name": "DropdownModel",
      "state": {
       "_options_labels": [
        "gau",
        "cos",
        "biw",
        "epa",
        "tri",
        "triw"
       ],
       "description": "kernel",
       "index": 0,
       "layout": "IPY_MODEL_85b2dc480b794ca2984aa84aab6a470f",
       "style": "IPY_MODEL_d9098e53be02455896b1d6bfcb4bd292"
      }
     },
     "13b0c05c2678452483ad11e2f5347a18": {
      "model_module": "@jupyter-widgets/controls",
      "model_module_version": "1.4.0",
      "model_name": "DescriptionStyleModel",
      "state": {
       "description_width": ""
      }
     },
     "13b197df17dc44d392ad975616a9fa97": {
      "model_module": "@jupyter-widgets/controls",
      "model_module_version": "1.4.0",
      "model_name": "HBoxModel",
      "state": {
       "children": [
        "IPY_MODEL_de2c7743c01e433e872cb2545f4d240e"
       ],
       "layout": "IPY_MODEL_59948229cea34d129320002e0fb2b3e4"
      }
     },
     "13bdb1e6188e411ab281e37a70fdaf81": {
      "model_module": "@jupyter-widgets/controls",
      "model_module_version": "1.4.0",
      "model_name": "DropdownModel",
      "state": {
       "_options_labels": [
        "Acceleration",
        "Cylinders",
        "Displacement",
        "Horsepower",
        "Miles_per_Gallon",
        "Name",
        "Origin",
        "Weight_in_lbs",
        "Year"
       ],
       "description": "data",
       "index": 0,
       "layout": "IPY_MODEL_b4df5708e6e7495b9ae7ce065259b3d8",
       "style": "IPY_MODEL_983d789d4da94da2bfabd840d919e7cc"
      }
     },
     "13cbe3d5fc2344acbdbe7a7def5b7371": {
      "model_module": "@jupyter-widgets/controls",
      "model_module_version": "1.4.0",
      "model_name": "CheckboxModel",
      "state": {
       "description": "logistic",
       "disabled": false,
       "layout": "IPY_MODEL_3b5353630cf54a28bbf1148bcd659273",
       "style": "IPY_MODEL_a416bcaff5644ad6af6ea658646bb3ff",
       "value": false
      }
     },
     "1413d43186554e539bda5a92039659db": {
      "model_module": "@jupyter-widgets/controls",
      "model_module_version": "1.4.0",
      "model_name": "DescriptionStyleModel",
      "state": {
       "description_width": ""
      }
     },
     "14634fb6efcc44418508ee930967c06f": {
      "model_module": "@jupyter-widgets/controls",
      "model_module_version": "1.4.0",
      "model_name": "DescriptionStyleModel",
      "state": {
       "description_width": ""
      }
     },
     "14719c10b9ef4f3c987ac9509eef0061": {
      "model_module": "@jupyter-widgets/controls",
      "model_module_version": "1.4.0",
      "model_name": "DescriptionStyleModel",
      "state": {
       "description_width": ""
      }
     },
     "1494055d5d0547debb834181df532fb7": {
      "model_module": "@jupyter-widgets/controls",
      "model_module_version": "1.4.0",
      "model_name": "DescriptionStyleModel",
      "state": {
       "description_width": ""
      }
     },
     "14d17147241d4b08bd12643d7181d876": {
      "model_module": "@jupyter-widgets/controls",
      "model_module_version": "1.4.0",
      "model_name": "CheckboxModel",
      "state": {
       "description": "vertical",
       "disabled": false,
       "layout": "IPY_MODEL_59d0356dd2354e868b6c43fb6f176697",
       "style": "IPY_MODEL_a0b3ffa43aed4044b170c60d794e9847",
       "value": false
      }
     },
     "14d77e3430d340c3960f6f2b73440a3e": {
      "model_module": "@jupyter-widgets/controls",
      "model_module_version": "1.4.0",
      "model_name": "FloatTextModel",
      "state": {
       "description": "height",
       "layout": "IPY_MODEL_e27cf4e7c98d4a2db61558d6f67b78ba",
       "step": null,
       "style": "IPY_MODEL_7da1ed8d8c2a45e0a2b4b3830f2b1f3b",
       "value": 1
      }
     },
     "14f3a97a1b804a4e8dedb354f6b4f1de": {
      "model_module": "@jupyter-widgets/controls",
      "model_module_version": "1.4.0",
      "model_name": "DescriptionStyleModel",
      "state": {
       "description_width": ""
      }
     },
     "151514fe4e4c422d86f135f905426cd0": {
      "model_module": "@jupyter-widgets/controls",
      "model_module_version": "1.4.0",
      "model_name": "DescriptionStyleModel",
      "state": {
       "description_width": ""
      }
     },
     "152eb692480e41538e41cc13e7ea543c": {
      "model_module": "@jupyter-widgets/controls",
      "model_module_version": "1.4.0",
      "model_name": "DescriptionStyleModel",
      "state": {
       "description_width": ""
      }
     },
     "1537a48e60064c2fba1d3fd1158dc41e": {
      "model_module": "@jupyter-widgets/controls",
      "model_module_version": "1.4.0",
      "model_name": "DescriptionStyleModel",
      "state": {
       "description_width": ""
      }
     },
     "15558e3a6d394d2a99875999c4b85bc4": {
      "model_module": "@jupyter-widgets/controls",
      "model_module_version": "1.4.0",
      "model_name": "DescriptionStyleModel",
      "state": {
       "description_width": ""
      }
     },
     "157984f28a9649589bb09a44a053cb92": {
      "model_module": "@jupyter-widgets/base",
      "model_module_version": "1.1.0",
      "model_name": "LayoutModel",
      "state": {}
     },
     "15908435055b402c80b5be1f615094f2": {
      "model_module": "@jupyter-widgets/base",
      "model_module_version": "1.1.0",
      "model_name": "LayoutModel",
      "state": {}
     },
     "15a6f35b70274e2d8964993ad1829024": {
      "model_module": "@jupyter-widgets/base",
      "model_module_version": "1.1.0",
      "model_name": "LayoutModel",
      "state": {}
     },
     "15b573032f33491c95e2d1e28ad1db52": {
      "model_module": "@jupyter-widgets/base",
      "model_module_version": "1.1.0",
      "model_name": "LayoutModel",
      "state": {}
     },
     "15c3232dbf984386b1e0d56bcc6bdfb7": {
      "model_module": "@jupyter-widgets/controls",
      "model_module_version": "1.4.0",
      "model_name": "DropdownModel",
      "state": {
       "_options_labels": [
        "v",
        "h"
       ],
       "description": "orient",
       "index": 1,
       "layout": "IPY_MODEL_586c713a30c34490961d8d18778d7136",
       "style": "IPY_MODEL_14f3a97a1b804a4e8dedb354f6b4f1de"
      }
     },
     "15d9875d9b444be085c04d1f00106f90": {
      "model_module": "@jupyter-widgets/controls",
      "model_module_version": "1.4.0",
      "model_name": "DescriptionStyleModel",
      "state": {
       "description_width": ""
      }
     },
     "15e2f0a060bc4eb084077f8fd3291e29": {
      "model_module": "@jupyter-widgets/base",
      "model_module_version": "1.1.0",
      "model_name": "LayoutModel",
      "state": {}
     },
     "162d53e743a84b618efb7006eacaef9f": {
      "model_module": "@jupyter-widgets/controls",
      "model_module_version": "1.4.0",
      "model_name": "DescriptionStyleModel",
      "state": {
       "description_width": ""
      }
     },
     "163f1553f6784fd095999c6e811cb0ef": {
      "model_module": "@jupyter-widgets/base",
      "model_module_version": "1.1.0",
      "model_name": "LayoutModel",
      "state": {}
     },
     "16569e4c7dea4b1ebe0b2dab7dd98dad": {
      "model_module": "@jupyter-widgets/controls",
      "model_module_version": "1.4.0",
      "model_name": "FloatTextModel",
      "state": {
       "description": "fliersize",
       "layout": "IPY_MODEL_a052b5a73aee4a7686f9168abc32f4db",
       "step": null,
       "style": "IPY_MODEL_c2740ada281a4f83997548e26946099d",
       "value": 1
      }
     },
     "16660bd8c3ae447cb8a420ff6b64403d": {
      "model_module": "@jupyter-widgets/base",
      "model_module_version": "1.1.0",
      "model_name": "LayoutModel",
      "state": {}
     },
     "1687f77e751d49d495256d64330f762d": {
      "model_module": "@jupyter-widgets/controls",
      "model_module_version": "1.4.0",
      "model_name": "DescriptionStyleModel",
      "state": {
       "description_width": ""
      }
     },
     "16f00454ca9f4db095a145ff4fcb1072": {
      "model_module": "@jupyter-widgets/base",
      "model_module_version": "1.1.0",
      "model_name": "LayoutModel",
      "state": {}
     },
     "16fa3a54d9d449a5b00ccb3290b51166": {
      "model_module": "@jupyter-widgets/controls",
      "model_module_version": "1.4.0",
      "model_name": "DescriptionStyleModel",
      "state": {
       "description_width": ""
      }
     },
     "17145dddab5348c5abda8ad9af29064e": {
      "model_module": "@jupyter-widgets/base",
      "model_module_version": "1.1.0",
      "model_name": "LayoutModel",
      "state": {}
     },
     "1729b554f9de4621a38ef2b06cf9795f": {
      "model_module": "@jupyter-widgets/controls",
      "model_module_version": "1.4.0",
      "model_name": "ButtonStyleModel",
      "state": {}
     },
     "173c031db0814694a26d709dfc976e2b": {
      "model_module": "@jupyter-widgets/controls",
      "model_module_version": "1.4.0",
      "model_name": "DescriptionStyleModel",
      "state": {
       "description_width": ""
      }
     },
     "17a5dc0e695841d5aa7bbd5951fe1c27": {
      "model_module": "@jupyter-widgets/base",
      "model_module_version": "1.1.0",
      "model_name": "LayoutModel",
      "state": {}
     },
     "17bac535b18542149fd4633ab77e8d60": {
      "model_module": "@jupyter-widgets/controls",
      "model_module_version": "1.4.0",
      "model_name": "ButtonStyleModel",
      "state": {}
     },
     "17dc7097ddb64f828980e9cceedc6f67": {
      "model_module": "@jupyter-widgets/controls",
      "model_module_version": "1.4.0",
      "model_name": "CheckboxModel",
      "state": {
       "description": "shade_lowest",
       "disabled": false,
       "layout": "IPY_MODEL_4be48176736a41d8a050577883d5d9a4",
       "style": "IPY_MODEL_3d8166776db347a0b4e8cb07ef6519da",
       "value": false
      }
     },
     "17ff08742f31405e916e0c033eecb189": {
      "model_module": "@jupyter-widgets/controls",
      "model_module_version": "1.4.0",
      "model_name": "IntSliderModel",
      "state": {
       "description": "x_ci",
       "layout": "IPY_MODEL_6cebfa52ee1141afa415d6e19edc4fcc",
       "style": "IPY_MODEL_bf6e96fb58b74f728fe13c133006fae7",
       "value": 95
      }
     },
     "1823613bf1434559873b9b951fad79a8": {
      "model_module": "@jupyter-widgets/controls",
      "model_module_version": "1.4.0",
      "model_name": "DropdownModel",
      "state": {
       "_options_labels": [
        "scott",
        "silverman"
       ],
       "description": "bw",
       "index": 0,
       "layout": "IPY_MODEL_3c71790b497d4f97a01ba368413ac5e8",
       "style": "IPY_MODEL_752c4536c2544d66ad6c1465210a6dd1"
      }
     },
     "1837ff3501ec43c68803a845f957630a": {
      "model_module": "@jupyter-widgets/controls",
      "model_module_version": "1.4.0",
      "model_name": "DescriptionStyleModel",
      "state": {
       "description_width": ""
      }
     },
     "184b6294d8cd42fba37e2851a6868748": {
      "model_module": "@jupyter-widgets/controls",
      "model_module_version": "1.4.0",
      "model_name": "DescriptionStyleModel",
      "state": {
       "description_width": ""
      }
     },
     "1862c4c89cf24ba8af0318fa0e28dd35": {
      "model_module": "@jupyter-widgets/base",
      "model_module_version": "1.1.0",
      "model_name": "LayoutModel",
      "state": {}
     },
     "187245c70163488da2511b0edc5a1b45": {
      "model_module": "@jupyter-widgets/controls",
      "model_module_version": "1.4.0",
      "model_name": "DropdownModel",
      "state": {
       "_options_labels": [
        "band",
        "bars"
       ],
       "description": "err_style",
       "index": 0,
       "layout": "IPY_MODEL_48b5d5bcb16d4c10a3803682d0f3034d",
       "style": "IPY_MODEL_84bddde737044ac4a43845c845497bff"
      }
     },
     "1890a3cca87046d986f069d7e89fb958": {
      "model_module": "@jupyter-widgets/base",
      "model_module_version": "1.1.0",
      "model_name": "LayoutModel",
      "state": {}
     },
     "18d8aea3c3044657abefb45e9f4eaa8b": {
      "model_module": "@jupyter-widgets/controls",
      "model_module_version": "1.4.0",
      "model_name": "CheckboxModel",
      "state": {
       "description": "logistic",
       "disabled": false,
       "layout": "IPY_MODEL_38888dfbf506403abb14fa7e7aa63b9c",
       "style": "IPY_MODEL_1192508768514116b0fa5d17bbc8932c",
       "value": false
      }
     },
     "18ee90d995274bb4a6e52f4af47778d8": {
      "model_module": "@jupyter-widgets/controls",
      "model_module_version": "1.4.0",
      "model_name": "DescriptionStyleModel",
      "state": {
       "description_width": ""
      }
     },
     "193f2577c7054ed2b58086d91ecda894": {
      "model_module": "@jupyter-widgets/controls",
      "model_module_version": "1.4.0",
      "model_name": "FloatTextModel",
      "state": {
       "description": "vmin",
       "layout": "IPY_MODEL_3b7b4096dcce4ed1ad542f9307da831b",
       "step": null,
       "style": "IPY_MODEL_1413d43186554e539bda5a92039659db",
       "value": 1
      }
     },
     "194a8d2bb95c4039b4ea68a30f2a2079": {
      "model_module": "@jupyter-widgets/controls",
      "model_module_version": "1.4.0",
      "model_name": "CheckboxModel",
      "state": {
       "description": "notch",
       "disabled": false,
       "layout": "IPY_MODEL_75df66ca16b14373af5054f03cb28c43",
       "style": "IPY_MODEL_313f3a2b93d540498ec8956f7a90d3c5",
       "value": false
      }
     },
     "194e3d5dec1242b8b2c035968c245cc6": {
      "model_module": "@jupyter-widgets/controls",
      "model_module_version": "1.4.0",
      "model_name": "HBoxModel",
      "state": {
       "children": [
        "IPY_MODEL_249afd1234b0431fadcccb4d89510b63",
        "IPY_MODEL_2227a645fde74341a2393f15c3011339"
       ],
       "layout": "IPY_MODEL_091ab90489bb48bd925fc1a1d4685b66"
      }
     },
     "19940a2db41a4a41810ec2bc2ca08e37": {
      "model_module": "@jupyter-widgets/controls",
      "model_module_version": "1.4.0",
      "model_name": "VBoxModel",
      "state": {
       "children": [
        "IPY_MODEL_bf4c93219cbf40179f4e636167371f4e",
        "IPY_MODEL_896136fc0ea2463bbaf59971954fa11a",
        "IPY_MODEL_3d5297e1e986499f97d17fcac8fe7f09",
        "IPY_MODEL_cc176af91bd044eb8226559b276725a0",
        "IPY_MODEL_5b500fc041ad48b486bbfce92e02104d",
        "IPY_MODEL_f5b9b9b70f51428ca08c64b109edcc96"
       ],
       "layout": "IPY_MODEL_70b766f604e94685a942ebff3eb252bb"
      }
     },
     "19ce675fa19c4cada131ea7ca28ded3c": {
      "model_module": "@jupyter-widgets/controls",
      "model_module_version": "1.4.0",
      "model_name": "DescriptionStyleModel",
      "state": {
       "description_width": ""
      }
     },
     "1a33a1431c5f4f8788354c810b91dd64": {
      "model_module": "@jupyter-widgets/controls",
      "model_module_version": "1.4.0",
      "model_name": "IntTextModel",
      "state": {
       "description": "ratio",
       "layout": "IPY_MODEL_2639f90ed22c435eb01adc722f4aa725",
       "step": 1,
       "style": "IPY_MODEL_6e55597cecf9482d859d762dc5725f23",
       "value": 1
      }
     },
     "1a547ba014f94a90866952ed1b636ba9": {
      "model_module": "@jupyter-widgets/base",
      "model_module_version": "1.1.0",
      "model_name": "LayoutModel",
      "state": {}
     },
     "1a570cca23b0467b92751cd6cf202ef0": {
      "model_module": "@jupyter-widgets/base",
      "model_module_version": "1.1.0",
      "model_name": "LayoutModel",
      "state": {}
     },
     "1a7c9a0ad321456eb179b888da9a37ab": {
      "model_module": "@jupyter-widgets/controls",
      "model_module_version": "1.4.0",
      "model_name": "DescriptionStyleModel",
      "state": {
       "description_width": ""
      }
     },
     "1a7d37dab8874e5bb0cdc7455c5de335": {
      "model_module": "@jupyter-widgets/base",
      "model_module_version": "1.1.0",
      "model_name": "LayoutModel",
      "state": {}
     },
     "1a8654da73e9455a8618d655082c17e8": {
      "model_module": "@jupyter-widgets/base",
      "model_module_version": "1.1.0",
      "model_name": "LayoutModel",
      "state": {}
     },
     "1a9b80eea7284ebaba74cfc8d0c59832": {
      "model_module": "@jupyter-widgets/controls",
      "model_module_version": "1.4.0",
      "model_name": "DropdownModel",
      "state": {
       "_options_labels": [
        "x",
        "y",
        "color",
        "fliersize",
        "linewidth",
        "notch",
        "orient",
        "palette",
        "saturation",
        "whis",
        "width"
       ],
       "description": "Add arg",
       "index": 6,
       "layout": "IPY_MODEL_7aa4ba5c4a5f41718791fec553f71d65",
       "style": "IPY_MODEL_69cd0b309f574cb7abccf0f5ce155996"
      }
     },
     "1aa308252e4f452ba701a1813295cadb": {
      "model_module": "@jupyter-widgets/controls",
      "model_module_version": "1.4.0",
      "model_name": "FloatTextModel",
      "state": {
       "description": "center",
       "layout": "IPY_MODEL_68315303c7e447b39a1192ac006a1ca5",
       "step": null,
       "style": "IPY_MODEL_1046ac60e9c547b7b01a440c3802ba22",
       "value": 1
      }
     },
     "1abdf13b69a04819be40040bcc173982": {
      "model_module": "@jupyter-widgets/controls",
      "model_module_version": "1.4.0",
      "model_name": "DescriptionStyleModel",
      "state": {
       "description_width": ""
      }
     },
     "1ade61fb12c0418ca128b2b0b5ac25e1": {
      "model_module": "@jupyter-widgets/base",
      "model_module_version": "1.1.0",
      "model_name": "LayoutModel",
      "state": {}
     },
     "1b40481fca674a08a5922a15fd51c7dd": {
      "model_module": "@jupyter-widgets/controls",
      "model_module_version": "1.4.0",
      "model_name": "DescriptionStyleModel",
      "state": {
       "description_width": ""
      }
     },
     "1b619fb466a84629ab054f266fe6a018": {
      "model_module": "@jupyter-widgets/controls",
      "model_module_version": "1.4.0",
      "model_name": "DescriptionStyleModel",
      "state": {
       "description_width": ""
      }
     },
     "1b8ed261c0994892b598e000387f828f": {
      "model_module": "@jupyter-widgets/controls",
      "model_module_version": "1.4.0",
      "model_name": "DropdownModel",
      "state": {
       "_options_labels": [
        "Acceleration",
        "Cylinders",
        "Displacement",
        "Horsepower",
        "Miles_per_Gallon",
        "Name",
        "Origin",
        "Weight_in_lbs",
        "Year"
       ],
       "description": "col",
       "index": 0,
       "layout": "IPY_MODEL_adaad3da56fe4f428b8ad73b7e26aaea",
       "style": "IPY_MODEL_9835e4ed5abd4f0ca92c9cf0b0a96431"
      }
     },
     "1b982bf266f647d9a31bde580b03e167": {
      "model_module": "@jupyter-widgets/controls",
      "model_module_version": "1.4.0",
      "model_name": "DescriptionStyleModel",
      "state": {
       "description_width": ""
      }
     },
     "1be9c6c183e3407cafbf367a9a492a88": {
      "model_module": "@jupyter-widgets/controls",
      "model_module_version": "1.4.0",
      "model_name": "SliderStyleModel",
      "state": {
       "description_width": ""
      }
     },
     "1bf255c28cb543959dfc657904f72caa": {
      "model_module": "@jupyter-widgets/controls",
      "model_module_version": "1.4.0",
      "model_name": "HBoxModel",
      "state": {
       "children": [
        "IPY_MODEL_7e89120405a44a81b714e56bc12b8df5"
       ],
       "layout": "IPY_MODEL_2643a591544741faa08cbddd2d0867c3"
      }
     },
     "1c1dfd7666f54e749f539c335e58f60c": {
      "model_module": "@jupyter-widgets/controls",
      "model_module_version": "1.4.0",
      "model_name": "ButtonStyleModel",
      "state": {}
     },
     "1c3fa1ec54d94a6399d467775fff8955": {
      "model_module": "@jupyter-widgets/controls",
      "model_module_version": "1.4.0",
      "model_name": "CheckboxModel",
      "state": {
       "description": "scatter",
       "disabled": false,
       "layout": "IPY_MODEL_ae82b74b873f48108a3b97cb4d37162b",
       "style": "IPY_MODEL_ee000dcccb1b49d8af70011cf735574b",
       "value": false
      }
     },
     "1c42edda5536495daad67bf17e59202d": {
      "model_module": "@jupyter-widgets/base",
      "model_module_version": "1.1.0",
      "model_name": "LayoutModel",
      "state": {}
     },
     "1c6aa2a1218141f2b500145617055dfd": {
      "model_module": "@jupyter-widgets/base",
      "model_module_version": "1.1.0",
      "model_name": "LayoutModel",
      "state": {}
     },
     "1cdde5c23f194c52a26325c8147d3911": {
      "model_module": "@jupyter-widgets/base",
      "model_module_version": "1.1.0",
      "model_name": "LayoutModel",
      "state": {}
     },
     "1ce26f0c5ff143d885568d04398009ff": {
      "model_module": "@jupyter-widgets/controls",
      "model_module_version": "1.4.0",
      "model_name": "DescriptionStyleModel",
      "state": {
       "description_width": ""
      }
     },
     "1cebfb0b939e4b5ba12f5e27f6b4fc1f": {
      "model_module": "@jupyter-widgets/base",
      "model_module_version": "1.1.0",
      "model_name": "LayoutModel",
      "state": {}
     },
     "1cf83f5723d444618b8ec6eeacecea6e": {
      "model_module": "@jupyter-widgets/controls",
      "model_module_version": "1.4.0",
      "model_name": "SliderStyleModel",
      "state": {
       "description_width": ""
      }
     },
     "1d36a99abdf64e66a7b6a5729c842f2e": {
      "model_module": "@jupyter-widgets/controls",
      "model_module_version": "1.4.0",
      "model_name": "TextModel",
      "state": {
       "description": "palette",
       "layout": "IPY_MODEL_c151f94468b14a65aeb7ff79388c5d5e",
       "style": "IPY_MODEL_40cdb8f12b674f479d9ba4bf294727a2"
      }
     },
     "1d8e39e87e864ba394a7b2f801ac89a9": {
      "model_module": "@jupyter-widgets/base",
      "model_module_version": "1.1.0",
      "model_name": "LayoutModel",
      "state": {}
     },
     "1dd743dc09474de1a37f804343ba1eaf": {
      "model_module": "@jupyter-widgets/base",
      "model_module_version": "1.1.0",
      "model_name": "LayoutModel",
      "state": {}
     },
     "1e020add84a643c2a9ca5a055da90cb3": {
      "model_module": "@jupyter-widgets/base",
      "model_module_version": "1.1.0",
      "model_name": "LayoutModel",
      "state": {}
     },
     "1e7d8e6cd0c1451b8f36b64a4a15226d": {
      "model_module": "@jupyter-widgets/controls",
      "model_module_version": "1.4.0",
      "model_name": "LabelModel",
      "state": {
       "layout": "IPY_MODEL_4cef8cf0f8d448ac8ee7e5c3b235211f",
       "style": "IPY_MODEL_314f749ddb7c45beb0c2b2b3a77dd959",
       "value": "---"
      }
     },
     "1e84d859e2524b29acaf5a81ee0174c4": {
      "model_module": "@jupyter-widgets/controls",
      "model_module_version": "1.4.0",
      "model_name": "DropdownModel",
      "state": {
       "_options_labels": [
        "Acceleration",
        "Cylinders",
        "Displacement",
        "Horsepower",
        "Miles_per_Gallon",
        "Name",
        "Origin",
        "Weight_in_lbs",
        "Year"
       ],
       "description": "a",
       "index": 0,
       "layout": "IPY_MODEL_96141c9ad29343eeaf629ea421995ebd",
       "style": "IPY_MODEL_1ce26f0c5ff143d885568d04398009ff"
      }
     },
     "1ec7f227696c4a5caa131cd9bc86d65f": {
      "model_module": "@jupyter-widgets/controls",
      "model_module_version": "1.4.0",
      "model_name": "ButtonStyleModel",
      "state": {}
     },
     "1ed4512d8f6344f59cadfd4f95ce3dc8": {
      "model_module": "@jupyter-widgets/controls",
      "model_module_version": "1.4.0",
      "model_name": "DescriptionStyleModel",
      "state": {
       "description_width": ""
      }
     },
     "1ed683d7dc7d44829926b64ef8e6faa3": {
      "model_module": "@jupyter-widgets/base",
      "model_module_version": "1.1.0",
      "model_name": "LayoutModel",
      "state": {}
     },
     "1eec4dc16cc94a2b813fe6274eda1c8a": {
      "model_module": "@jupyter-widgets/controls",
      "model_module_version": "1.4.0",
      "model_name": "DescriptionStyleModel",
      "state": {
       "description_width": ""
      }
     },
     "1ef3b1b59282420ea6166d0d9fb9a92a": {
      "model_module": "@jupyter-widgets/base",
      "model_module_version": "1.1.0",
      "model_name": "LayoutModel",
      "state": {}
     },
     "1f09ad28fa844eb5856147d363194867": {
      "model_module": "@jupyter-widgets/controls",
      "model_module_version": "1.4.0",
      "model_name": "DescriptionStyleModel",
      "state": {
       "description_width": ""
      }
     },
     "1f90a67fdfe545c39ef50934b8ab551d": {
      "model_module": "@jupyter-widgets/controls",
      "model_module_version": "1.4.0",
      "model_name": "DropdownModel",
      "state": {
       "_options_labels": [
        "row",
        "col",
        "True"
       ],
       "description": "sharex",
       "index": 0,
       "layout": "IPY_MODEL_5ed8d9e90743463d8f0289e7bb480e55",
       "style": "IPY_MODEL_13b0c05c2678452483ad11e2f5347a18"
      }
     },
     "1f9316d8944049319cfd13fa003bf5bd": {
      "model_module": "@jupyter-widgets/controls",
      "model_module_version": "1.4.0",
      "model_name": "DescriptionStyleModel",
      "state": {
       "description_width": ""
      }
     },
     "1fbec8255ed64a82bff2d491398eb643": {
      "model_module": "@jupyter-widgets/controls",
      "model_module_version": "1.4.0",
      "model_name": "LabelModel",
      "state": {
       "layout": "IPY_MODEL_4b78424e466246319ddd56892bd531d9",
       "style": "IPY_MODEL_c5150ab8a47e4fe4ab682d3f4631e606",
       "value": "---"
      }
     },
     "1ffada8ff7c143c0a132c1890ed8995a": {
      "model_module": "@jupyter-widgets/controls",
      "model_module_version": "1.4.0",
      "model_name": "DropdownModel",
      "state": {
       "_options_labels": [
        "Acceleration",
        "Cylinders",
        "Displacement",
        "Horsepower",
        "Miles_per_Gallon",
        "Name",
        "Origin",
        "Weight_in_lbs",
        "Year"
       ],
       "description": "data2",
       "index": 0,
       "layout": "IPY_MODEL_9f8e5fd5604847a09998bcdd612e5c2d",
       "style": "IPY_MODEL_2b4a63204f4a42d18ded21eeea96b9e2"
      }
     },
     "202d6a64763c408f84d8f632a7dcf789": {
      "model_module": "@jupyter-widgets/base",
      "model_module_version": "1.1.0",
      "model_name": "LayoutModel",
      "state": {}
     },
     "204797452dda4063a5075267326a0f94": {
      "model_module": "@jupyter-widgets/controls",
      "model_module_version": "1.4.0",
      "model_name": "HBoxModel",
      "state": {
       "children": [
        "IPY_MODEL_33dc074d94aa425ca06de510bdbf93a5"
       ],
       "layout": "IPY_MODEL_9251f1807627406db96dabf22f2c5cfd"
      }
     },
     "209424973b8e4f82bcf9360d071ce9e3": {
      "model_module": "@jupyter-widgets/controls",
      "model_module_version": "1.4.0",
      "model_name": "DescriptionStyleModel",
      "state": {
       "description_width": ""
      }
     },
     "20ab89114fa14207bc77a1043c43edd5": {
      "model_module": "@jupyter-widgets/controls",
      "model_module_version": "1.4.0",
      "model_name": "DescriptionStyleModel",
      "state": {
       "description_width": ""
      }
     },
     "20c64ee5d9b64836a05fc257a3541f66": {
      "model_module": "@jupyter-widgets/base",
      "model_module_version": "1.1.0",
      "model_name": "LayoutModel",
      "state": {}
     },
     "2125e853edce4acf81c2ec9dbe3c84d3": {
      "model_module": "@jupyter-widgets/base",
      "model_module_version": "1.1.0",
      "model_name": "LayoutModel",
      "state": {}
     },
     "21e1ff55db094d649d6cf3b662c447bf": {
      "model_module": "@jupyter-widgets/controls",
      "model_module_version": "1.4.0",
      "model_name": "TextModel",
      "state": {
       "description": "axlabel",
       "layout": "IPY_MODEL_0a24374987234929a4bb718698d5ee62",
       "style": "IPY_MODEL_bbe3f5d7dc6a4482bad519f276b1a210"
      }
     },
     "21e8a2287457425681dcd3144c7ca4b8": {
      "model_module": "@jupyter-widgets/controls",
      "model_module_version": "1.4.0",
      "model_name": "CheckboxModel",
      "state": {
       "description": "jitter",
       "disabled": false,
       "layout": "IPY_MODEL_b1f237fab2d5429e9bc9cce3e24ef404",
       "style": "IPY_MODEL_71f115f28d564f7e9645af8b447daa82",
       "value": false
      }
     },
     "2227a645fde74341a2393f15c3011339": {
      "model_module": "@jupyter-widgets/controls",
      "model_module_version": "1.4.0",
      "model_name": "ButtonModel",
      "state": {
       "description": "remove",
       "layout": "IPY_MODEL_c815e4152e254cb6ae9e1a87d68a0bfc",
       "style": "IPY_MODEL_dc3e2956a4bf4dfdb3b0c44c5e57ddbd"
      }
     },
     "226019c44a704cab915d34b5bde532d6": {
      "model_module": "@jupyter-widgets/controls",
      "model_module_version": "1.4.0",
      "model_name": "DropdownModel",
      "state": {
       "_options_labels": [
        "auto",
        "hist",
        "kde"
       ],
       "description": "diag_kind",
       "index": 0,
       "layout": "IPY_MODEL_e78daf83997848aa854a159def59aa80",
       "style": "IPY_MODEL_675d31912f004206a16c60c7e6189e63"
      }
     },
     "2261016a48a84d3ea7afbfd1b1f209a7": {
      "model_module": "@jupyter-widgets/controls",
      "model_module_version": "1.4.0",
      "model_name": "DescriptionStyleModel",
      "state": {
       "description_width": ""
      }
     },
     "227724620e9743d798fc9e2eb4d2adc9": {
      "model_module": "@jupyter-widgets/controls",
      "model_module_version": "1.4.0",
      "model_name": "IntTextModel",
      "state": {
       "description": "height",
       "layout": "IPY_MODEL_79c35125f2724103b46c41aa875fc8c4",
       "step": 1,
       "style": "IPY_MODEL_445b4419a6004eb7b36244a25197b965",
       "value": 5
      }
     },
     "2293868b6c214a3dac1fd556bd89e6e7": {
      "model_module": "@jupyter-widgets/controls",
      "model_module_version": "1.4.0",
      "model_name": "DropdownModel",
      "state": {
       "_options_labels": [
        "Acceleration",
        "Cylinders",
        "Displacement",
        "Horsepower",
        "Miles_per_Gallon",
        "Name",
        "Origin",
        "Weight_in_lbs",
        "Year"
       ],
       "description": "y_partial",
       "index": 0,
       "layout": "IPY_MODEL_82339ab43ae04cd9843f10a0731b8f51",
       "style": "IPY_MODEL_4eda5a9350bc42fe8dbb255dc8f75336"
      }
     },
     "22d5f18ccf164408ad7adda9c1cb446e": {
      "model_module": "@jupyter-widgets/controls",
      "model_module_version": "1.4.0",
      "model_name": "HBoxModel",
      "state": {
       "children": [
        "IPY_MODEL_acdcad4fd36e4764864c7f324c1e30ba",
        "IPY_MODEL_8193312c5a46404c991941455a08c0d0"
       ],
       "layout": "IPY_MODEL_c27cf0fa75214a77a811f84f9c0ba3ee"
      }
     },
     "231ed9b1c8ab4e628ec164b9a53ec869": {
      "model_module": "@jupyter-widgets/controls",
      "model_module_version": "1.4.0",
      "model_name": "ButtonStyleModel",
      "state": {}
     },
     "2328273eee8741bbafca763b8c0f8132": {
      "model_module": "@jupyter-widgets/controls",
      "model_module_version": "1.4.0",
      "model_name": "TextModel",
      "state": {
       "description": "color",
       "layout": "IPY_MODEL_2fe0913a5c794df688892409259cf090",
       "style": "IPY_MODEL_5fd32f8b63754814a1e1cc1ea89ba769",
       "value": "g"
      }
     },
     "233dcaec51134140ac8de699d3b8a528": {
      "model_module": "@jupyter-widgets/controls",
      "model_module_version": "1.4.0",
      "model_name": "DescriptionStyleModel",
      "state": {
       "description_width": ""
      }
     },
     "23435863b4154dc3ab24dd9e06330b64": {
      "model_module": "@jupyter-widgets/controls",
      "model_module_version": "1.4.0",
      "model_name": "DropdownModel",
      "state": {
       "_options_labels": [
        "Acceleration",
        "Cylinders",
        "Displacement",
        "Horsepower",
        "Miles_per_Gallon",
        "Name",
        "Origin",
        "Weight_in_lbs",
        "Year"
       ],
       "description": "data",
       "index": 0,
       "layout": "IPY_MODEL_aeb179d145d94379be3e61cfab9b9adf",
       "style": "IPY_MODEL_e1a9f0a25c014e38ac29160ef4486236"
      }
     },
     "234e88b6a6cf4fba96be1176cdd4c87c": {
      "model_module": "@jupyter-widgets/controls",
      "model_module_version": "1.4.0",
      "model_name": "IntTextModel",
      "state": {
       "description": "order",
       "layout": "IPY_MODEL_7dade4b32c9d4ad9983bb07a0504da19",
       "step": 1,
       "style": "IPY_MODEL_36e609b025f744f39cbceac74741561a",
       "value": 1
      }
     },
     "2377b0d6ee034bfe83b8aa9937691887": {
      "model_module": "@jupyter-widgets/base",
      "model_module_version": "1.1.0",
      "model_name": "LayoutModel",
      "state": {}
     },
     "2377b1090ef341c091bc51dd4797b356": {
      "model_module": "@jupyter-widgets/base",
      "model_module_version": "1.1.0",
      "model_name": "LayoutModel",
      "state": {}
     },
     "23df9516470d42ba83b6a3e031b62ff3": {
      "model_module": "@jupyter-widgets/controls",
      "model_module_version": "1.4.0",
      "model_name": "DescriptionStyleModel",
      "state": {
       "description_width": ""
      }
     },
     "2428a8a1324f41a19a8275ede683c427": {
      "model_module": "@jupyter-widgets/controls",
      "model_module_version": "1.4.0",
      "model_name": "DropdownModel",
      "state": {
       "_options_labels": [
        "row",
        "col",
        "True"
       ],
       "description": "sharey",
       "index": 0,
       "layout": "IPY_MODEL_774e23ffd30b4df39267307601311925",
       "style": "IPY_MODEL_56c7800b0e074fb7b952e7f85f713061"
      }
     },
     "248877e0ce90430d89c0ac7e5bf26348": {
      "model_module": "@jupyter-widgets/controls",
      "model_module_version": "1.4.0",
      "model_name": "IntSliderModel",
      "state": {
       "description": "ci",
       "layout": "IPY_MODEL_e1c34d23ba4f4c8ea546c497c4a74ac4",
       "style": "IPY_MODEL_ec984f9ebb4e4c48883bb827dbe98790",
       "value": 95
      }
     },
     "248a50503c374c4294006373945e1420": {
      "model_module": "@jupyter-widgets/base",
      "model_module_version": "1.1.0",
      "model_name": "LayoutModel",
      "state": {}
     },
     "249afd1234b0431fadcccb4d89510b63": {
      "model_module": "@jupyter-widgets/controls",
      "model_module_version": "1.4.0",
      "model_name": "DropdownModel",
      "state": {
       "_options_labels": [
        "proportion",
        "tukey",
        "trustworthy"
       ],
       "description": "k_depth",
       "index": 2,
       "layout": "IPY_MODEL_e8eb5e222f604321af213550e9f590a5",
       "style": "IPY_MODEL_a6923f7135d44dee9b76ed4a092a6b67"
      }
     },
     "24ac8f01bcc446b79471113a5afb6c80": {
      "model_module": "@jupyter-widgets/controls",
      "model_module_version": "1.4.0",
      "model_name": "DropdownModel",
      "state": {
       "_options_labels": [
        "row",
        "col",
        "True"
       ],
       "description": "sharex",
       "index": 0,
       "layout": "IPY_MODEL_1e020add84a643c2a9ca5a055da90cb3",
       "style": "IPY_MODEL_88e26cec1ec74ae9930c36611398e6c8"
      }
     },
     "24b37c78d69549949d4a6cada91ae0aa": {
      "model_module": "@jupyter-widgets/controls",
      "model_module_version": "1.4.0",
      "model_name": "CheckboxModel",
      "state": {
       "description": "dropna",
       "disabled": false,
       "layout": "IPY_MODEL_a29089afd20d481fa3d1f5af72f9915d",
       "style": "IPY_MODEL_98df89b094fa46ff86efea89d62edb3e",
       "value": false
      }
     },
     "24c6c502e45b49aca5b751ec5f5dae97": {
      "model_module": "@jupyter-widgets/base",
      "model_module_version": "1.1.0",
      "model_name": "LayoutModel",
      "state": {}
     },
     "24cba8ba282548fb995e3ff8012bc7c1": {
      "model_module": "@jupyter-widgets/controls",
      "model_module_version": "1.4.0",
      "model_name": "DescriptionStyleModel",
      "state": {
       "description_width": ""
      }
     },
     "24ec405e26ac498c957966818d89d8dc": {
      "model_module": "@jupyter-widgets/controls",
      "model_module_version": "1.4.0",
      "model_name": "DescriptionStyleModel",
      "state": {
       "description_width": ""
      }
     },
     "24fc5fc857204da89135195a39bf103a": {
      "model_module": "@jupyter-widgets/base",
      "model_module_version": "1.1.0",
      "model_name": "LayoutModel",
      "state": {}
     },
     "25089b401cfd436a805f6992b81d0b43": {
      "model_module": "@jupyter-widgets/controls",
      "model_module_version": "1.4.0",
      "model_name": "FloatTextModel",
      "state": {
       "description": "linewidth",
       "layout": "IPY_MODEL_63d37756f1924f808d3b51fb311f817c",
       "step": null,
       "style": "IPY_MODEL_2eb99e4c196e41a8ab1b5516d96069bb",
       "value": 1
      }
     },
     "250aeb2db68c4065a353d0f29dd80da2": {
      "model_module": "@jupyter-widgets/base",
      "model_module_version": "1.1.0",
      "model_name": "LayoutModel",
      "state": {}
     },
     "251e5cd0e6ba404aa4c962d1b6e913b0": {
      "model_module": "@jupyter-widgets/controls",
      "model_module_version": "1.4.0",
      "model_name": "FloatTextModel",
      "state": {
       "description": "height",
       "layout": "IPY_MODEL_b77681bb068c4da88e905e456a8bfd1e",
       "step": null,
       "style": "IPY_MODEL_af539a57554b41478b187eaf3afd2643",
       "value": 1
      }
     },
     "258822ba5e54477289d1d6cb17e8ebd1": {
      "model_module": "@jupyter-widgets/controls",
      "model_module_version": "1.4.0",
      "model_name": "DescriptionStyleModel",
      "state": {
       "description_width": ""
      }
     },
     "25b1dd4914b24553baaebe824e3cc3e2": {
      "model_module": "@jupyter-widgets/base",
      "model_module_version": "1.1.0",
      "model_name": "LayoutModel",
      "state": {}
     },
     "25bfa36c951d436f8b048fd2388d1e4f": {
      "model_module": "@jupyter-widgets/base",
      "model_module_version": "1.1.0",
      "model_name": "LayoutModel",
      "state": {}
     },
     "25e1dd2d1f3743229acd0ba01f89017b": {
      "model_module": "@jupyter-widgets/output",
      "model_module_version": "1.0.0",
      "model_name": "OutputModel",
      "state": {
       "layout": "IPY_MODEL_9e46b4fd176543c79695885f83d6cc9d",
       "outputs": [
        {
         "data": {
          "image/png": "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\n",
          "text/plain": "<Figure size 432x288 with 1 Axes>"
         },
         "metadata": {},
         "output_type": "display_data"
        }
       ]
      }
     },
     "25ed827528a8437b94f571c63ec422ec": {
      "model_module": "@jupyter-widgets/controls",
      "model_module_version": "1.4.0",
      "model_name": "ButtonModel",
      "state": {
       "description": "remove",
       "layout": "IPY_MODEL_7947fe35832c4999ba2174e8f1c3b33b",
       "style": "IPY_MODEL_b262d749e22748a1b91945c30dc2ac45"
      }
     },
     "2604bb46cf1e4da69bcf4c404556c614": {
      "model_module": "@jupyter-widgets/controls",
      "model_module_version": "1.4.0",
      "model_name": "ButtonStyleModel",
      "state": {}
     },
     "2639f90ed22c435eb01adc722f4aa725": {
      "model_module": "@jupyter-widgets/base",
      "model_module_version": "1.1.0",
      "model_name": "LayoutModel",
      "state": {}
     },
     "263def443e4a419284783b236e5ffb3a": {
      "model_module": "@jupyter-widgets/controls",
      "model_module_version": "1.4.0",
      "model_name": "CheckboxModel",
      "state": {
       "description": "sort",
       "disabled": false,
       "layout": "IPY_MODEL_527c403752914f5d941503d6e69648cc",
       "style": "IPY_MODEL_e0f9f8ed74944beea8e2ec346a5c7b76",
       "value": false
      }
     },
     "2643a591544741faa08cbddd2d0867c3": {
      "model_module": "@jupyter-widgets/base",
      "model_module_version": "1.1.0",
      "model_name": "LayoutModel",
      "state": {}
     },
     "264e202a99794b27a1cd9e414a2c8a3b": {
      "model_module": "@jupyter-widgets/controls",
      "model_module_version": "1.4.0",
      "model_name": "DescriptionStyleModel",
      "state": {
       "description_width": ""
      }
     },
     "267781ec45d3417d96e37cbd2296f9cb": {
      "model_module": "@jupyter-widgets/controls",
      "model_module_version": "1.4.0",
      "model_name": "LabelModel",
      "state": {
       "layout": "IPY_MODEL_98e84ae7f7354b99a9839431f3da0c26",
       "style": "IPY_MODEL_ba8e9bad62d645d88704255255c6a18e",
       "value": "---"
      }
     },
     "26784506dcdd41c29069b751a960397c": {
      "model_module": "@jupyter-widgets/controls",
      "model_module_version": "1.4.0",
      "model_name": "DescriptionStyleModel",
      "state": {
       "description_width": ""
      }
     },
     "2681668a341745f7b57e221dfadc5323": {
      "model_module": "@jupyter-widgets/controls",
      "model_module_version": "1.4.0",
      "model_name": "DescriptionStyleModel",
      "state": {
       "description_width": ""
      }
     },
     "268e77c9e6a141628f93612a836991a5": {
      "model_module": "@jupyter-widgets/controls",
      "model_module_version": "1.4.0",
      "model_name": "DescriptionStyleModel",
      "state": {
       "description_width": ""
      }
     },
     "269473f3629044428479f8c6e21f3c6c": {
      "model_module": "@jupyter-widgets/controls",
      "model_module_version": "1.4.0",
      "model_name": "CheckboxModel",
      "state": {
       "description": "fit_reg",
       "disabled": false,
       "layout": "IPY_MODEL_7e187273d42649f990d19631a7f104d1",
       "style": "IPY_MODEL_605bc33bd46b4969bc01535a0c99c8dd",
       "value": false
      }
     },
     "26a56651c9fd4e108f468a9526591455": {
      "model_module": "@jupyter-widgets/base",
      "model_module_version": "1.1.0",
      "model_name": "LayoutModel",
      "state": {}
     },
     "26b2c3e48c0b4f618376fd258eb71cee": {
      "model_module": "@jupyter-widgets/controls",
      "model_module_version": "1.4.0",
      "model_name": "DescriptionStyleModel",
      "state": {
       "description_width": ""
      }
     },
     "270b43cad69a430e8295cebfc73daff3": {
      "model_module": "@jupyter-widgets/controls",
      "model_module_version": "1.4.0",
      "model_name": "HBoxModel",
      "state": {
       "children": [
        "IPY_MODEL_249afd1234b0431fadcccb4d89510b63",
        "IPY_MODEL_79fc2cc6178c4ed5b7b0ebc072060b68"
       ],
       "layout": "IPY_MODEL_39216dd1648746f6a9959635db005114"
      }
     },
     "273bc4b6f98244cfab226d3c9138672a": {
      "model_module": "@jupyter-widgets/controls",
      "model_module_version": "1.4.0",
      "model_name": "LabelModel",
      "state": {
       "layout": "IPY_MODEL_9416e694235d4fd4aa68c81bb4e548df",
       "style": "IPY_MODEL_ff73bb6fdbe34a73bdfeacb6c76bd87e",
       "value": "---"
      }
     },
     "28530bfd6f694970881cece50effff1b": {
      "model_module": "@jupyter-widgets/controls",
      "model_module_version": "1.4.0",
      "model_name": "FloatTextModel",
      "state": {
       "description": "linewidths",
       "layout": "IPY_MODEL_896f7bd6572640448ed5861e8bda752c",
       "step": null,
       "style": "IPY_MODEL_653f0ec08c7d40dd8a7c21ddf37c4851",
       "value": 1
      }
     },
     "28971dfbf2aa4fcba11ef1984083a942": {
      "model_module": "@jupyter-widgets/base",
      "model_module_version": "1.1.0",
      "model_name": "LayoutModel",
      "state": {}
     },
     "28c7419c4a774681a2a5844e24b4d42b": {
      "model_module": "@jupyter-widgets/controls",
      "model_module_version": "1.4.0",
      "model_name": "DescriptionStyleModel",
      "state": {
       "description_width": ""
      }
     },
     "28ca6ae1f0b24813bbaf3dcb6a847920": {
      "model_module": "@jupyter-widgets/controls",
      "model_module_version": "1.4.0",
      "model_name": "DescriptionStyleModel",
      "state": {
       "description_width": ""
      }
     },
     "28e0264d5ba54c18aad54843fc5f0778": {
      "model_module": "@jupyter-widgets/controls",
      "model_module_version": "1.4.0",
      "model_name": "LabelModel",
      "state": {
       "layout": "IPY_MODEL_054b9c0e19874ede8fcc70e0385240c6",
       "style": "IPY_MODEL_1f09ad28fa844eb5856147d363194867",
       "value": "---"
      }
     },
     "29729fe8c87a4b8081ea77d20944c2fa": {
      "model_module": "@jupyter-widgets/base",
      "model_module_version": "1.1.0",
      "model_name": "LayoutModel",
      "state": {}
     },
     "29b81cff4abc4a1486825ddabe8567a9": {
      "model_module": "@jupyter-widgets/base",
      "model_module_version": "1.1.0",
      "model_name": "LayoutModel",
      "state": {}
     },
     "29ecc1ded4ae46509f9c8f076b8c7e5d": {
      "model_module": "@jupyter-widgets/controls",
      "model_module_version": "1.4.0",
      "model_name": "DescriptionStyleModel",
      "state": {
       "description_width": ""
      }
     },
     "2a0a30f8f70241cdad14a386044e6fc3": {
      "model_module": "@jupyter-widgets/base",
      "model_module_version": "1.1.0",
      "model_name": "LayoutModel",
      "state": {}
     },
     "2a2bb34007554f2d88a1119572fe9ae9": {
      "model_module": "@jupyter-widgets/controls",
      "model_module_version": "1.4.0",
      "model_name": "DescriptionStyleModel",
      "state": {
       "description_width": ""
      }
     },
     "2a6d76b5a52441d2915e0af85c16a3ea": {
      "model_module": "@jupyter-widgets/controls",
      "model_module_version": "1.4.0",
      "model_name": "DescriptionStyleModel",
      "state": {
       "description_width": ""
      }
     },
     "2ac5da1122d04c89beafa51b1ca24b10": {
      "model_module": "@jupyter-widgets/controls",
      "model_module_version": "1.4.0",
      "model_name": "DescriptionStyleModel",
      "state": {
       "description_width": ""
      }
     },
     "2adef8e4a1bf4120afbcf489625902ac": {
      "model_module": "@jupyter-widgets/base",
      "model_module_version": "1.1.0",
      "model_name": "LayoutModel",
      "state": {}
     },
     "2adf31c8c52143b8b98aafc0f381cc0d": {
      "model_module": "@jupyter-widgets/controls",
      "model_module_version": "1.4.0",
      "model_name": "CheckboxModel",
      "state": {
       "description": "cbar",
       "disabled": false,
       "layout": "IPY_MODEL_88f745ef31c042ceb18de129af44fb3c",
       "style": "IPY_MODEL_4b68af78737342b4845283f0f62171ab",
       "value": false
      }
     },
     "2b4a63204f4a42d18ded21eeea96b9e2": {
      "model_module": "@jupyter-widgets/controls",
      "model_module_version": "1.4.0",
      "model_name": "DescriptionStyleModel",
      "state": {
       "description_width": ""
      }
     },
     "2b7cf72b33504b1a94f945d45e5b4ec0": {
      "model_module": "@jupyter-widgets/controls",
      "model_module_version": "1.4.0",
      "model_name": "HBoxModel",
      "state": {
       "children": [
        "IPY_MODEL_249afd1234b0431fadcccb4d89510b63",
        "IPY_MODEL_772f6c91862c4032acbfb03c3ed8c3ab"
       ],
       "layout": "IPY_MODEL_8179ed6de20f4d548d0b715cb2dae4ba"
      }
     },
     "2b85b4dd598d4df7b1f63f2cf3671691": {
      "model_module": "@jupyter-widgets/controls",
      "model_module_version": "1.4.0",
      "model_name": "FloatTextModel",
      "state": {
       "description": "center",
       "layout": "IPY_MODEL_6cfc3f567aa045bc916992ce5b6d125c",
       "step": null,
       "style": "IPY_MODEL_b254246af40240d699a627dad5ced806",
       "value": 1
      }
     },
     "2bc61c7c21f8475999cf6cb118bc3057": {
      "model_module": "@jupyter-widgets/controls",
      "model_module_version": "1.4.0",
      "model_name": "DescriptionStyleModel",
      "state": {
       "description_width": ""
      }
     },
     "2be8aab9c3504fd1b3deecbe04c9380c": {
      "model_module": "@jupyter-widgets/base",
      "model_module_version": "1.1.0",
      "model_name": "LayoutModel",
      "state": {}
     },
     "2c0392778269414dbccdd3c05dd09c7c": {
      "model_module": "@jupyter-widgets/base",
      "model_module_version": "1.1.0",
      "model_name": "LayoutModel",
      "state": {}
     },
     "2c4144858b87494fbbdd4bcd9989194a": {
      "model_module": "@jupyter-widgets/controls",
      "model_module_version": "1.4.0",
      "model_name": "CheckboxModel",
      "state": {
       "description": "scatter",
       "disabled": false,
       "layout": "IPY_MODEL_3d7ef82d01024f598af361b189836224",
       "style": "IPY_MODEL_152eb692480e41538e41cc13e7ea543c",
       "value": false
      }
     },
     "2c4ea518ebb54a18b5146f95655b266f": {
      "model_module": "@jupyter-widgets/controls",
      "model_module_version": "1.4.0",
      "model_name": "TextModel",
      "state": {
       "description": "color",
       "layout": "IPY_MODEL_bb60fe8140b4463ea3ba1a03eab67892",
       "style": "IPY_MODEL_100adf8acedb4bada0643b1c75bd2db4",
       "value": "g"
      }
     },
     "2d5d6ae436b541658959ce4f6087f1b9": {
      "model_module": "@jupyter-widgets/controls",
      "model_module_version": "1.4.0",
      "model_name": "DescriptionStyleModel",
      "state": {
       "description_width": ""
      }
     },
     "2ddcb95121e1469dbbfca5e7944eb144": {
      "model_module": "@jupyter-widgets/base",
      "model_module_version": "1.1.0",
      "model_name": "LayoutModel",
      "state": {}
     },
     "2dec49a096b5420db3e9f72010c5cde6": {
      "model_module": "@jupyter-widgets/base",
      "model_module_version": "1.1.0",
      "model_name": "LayoutModel",
      "state": {}
     },
     "2e0979408d914f749f763bc2306431d2": {
      "model_module": "@jupyter-widgets/base",
      "model_module_version": "1.1.0",
      "model_name": "LayoutModel",
      "state": {}
     },
     "2e5e8270c5854af89881668a5952533f": {
      "model_module": "@jupyter-widgets/base",
      "model_module_version": "1.1.0",
      "model_name": "LayoutModel",
      "state": {}
     },
     "2eb99e4c196e41a8ab1b5516d96069bb": {
      "model_module": "@jupyter-widgets/controls",
      "model_module_version": "1.4.0",
      "model_name": "DescriptionStyleModel",
      "state": {
       "description_width": ""
      }
     },
     "2ed4c4e436ea402cb4af3cf8a5e73342": {
      "model_module": "@jupyter-widgets/controls",
      "model_module_version": "1.4.0",
      "model_name": "FloatTextModel",
      "state": {
       "description": "linewidth",
       "layout": "IPY_MODEL_e47096d8808646779b296d2b1f72516a",
       "step": null,
       "style": "IPY_MODEL_a20b76fe1b614f12b030c7ea2f42fdd2",
       "value": 1
      }
     },
     "2ee5a376b0c34d3a9f224248d46c9116": {
      "model_module": "@jupyter-widgets/controls",
      "model_module_version": "1.4.0",
      "model_name": "DropdownModel",
      "state": {
       "_options_labels": [
        "Acceleration",
        "Cylinders",
        "Displacement",
        "Horsepower",
        "Miles_per_Gallon",
        "Name",
        "Origin",
        "Weight_in_lbs",
        "Year"
       ],
       "description": "row",
       "index": 0,
       "layout": "IPY_MODEL_981f8859c7224d2d870cc48c5317ffd6",
       "style": "IPY_MODEL_5e59712229964d6683bfc591fe7d9796"
      }
     },
     "2f1246cb79a74b5287eacd91abfd1d3d": {
      "model_module": "@jupyter-widgets/controls",
      "model_module_version": "1.4.0",
      "model_name": "DropdownModel",
      "state": {
       "_options_labels": [
        "Acceleration",
        "Cylinders",
        "Displacement",
        "Horsepower",
        "Miles_per_Gallon",
        "Name",
        "Origin",
        "Weight_in_lbs",
        "Year"
       ],
       "description": "data",
       "index": 0,
       "layout": "IPY_MODEL_5a94da1f5483428998eaebbe0b2ef540",
       "style": "IPY_MODEL_8129013c286146b5bbf468fb5ea1adfb"
      }
     },
     "2f1c0b092712468fa83f7c335a95b74b": {
      "model_module": "@jupyter-widgets/base",
      "model_module_version": "1.1.0",
      "model_name": "LayoutModel",
      "state": {}
     },
     "2f56c97da579404b8a7e266c80d04513": {
      "model_module": "@jupyter-widgets/controls",
      "model_module_version": "1.4.0",
      "model_name": "ButtonStyleModel",
      "state": {}
     },
     "2fb588c2945644afb733c3986ad267ee": {
      "model_module": "@jupyter-widgets/controls",
      "model_module_version": "1.4.0",
      "model_name": "DescriptionStyleModel",
      "state": {
       "description_width": ""
      }
     },
     "2fb762a7885644abbf8b5fefa5411ecc": {
      "model_module": "@jupyter-widgets/controls",
      "model_module_version": "1.4.0",
      "model_name": "DescriptionStyleModel",
      "state": {
       "description_width": ""
      }
     },
     "2fdd2488502e400ba026f6db8b386aa6": {
      "model_module": "@jupyter-widgets/controls",
      "model_module_version": "1.4.0",
      "model_name": "DescriptionStyleModel",
      "state": {
       "description_width": ""
      }
     },
     "2fe0913a5c794df688892409259cf090": {
      "model_module": "@jupyter-widgets/base",
      "model_module_version": "1.1.0",
      "model_name": "LayoutModel",
      "state": {}
     },
     "300ff9590ecc4494ac5a548a8ea91309": {
      "model_module": "@jupyter-widgets/controls",
      "model_module_version": "1.4.0",
      "model_name": "CheckboxModel",
      "state": {
       "description": "logistic",
       "disabled": false,
       "layout": "IPY_MODEL_c2f4f9ab4fbe489096b64528c084336b",
       "style": "IPY_MODEL_7a17c8df3ca04c1083ed558db0b86abf",
       "value": false
      }
     },
     "302c78cfe9004084946b837be97482c3": {
      "model_module": "@jupyter-widgets/controls",
      "model_module_version": "1.4.0",
      "model_name": "DropdownModel",
      "state": {
       "_options_labels": [
        "scott",
        "silverman"
       ],
       "description": "bw",
       "index": 0,
       "layout": "IPY_MODEL_6311e7b443934d32a8bd09c123368430",
       "style": "IPY_MODEL_a259afd41cbe48dbabd3f2d86cc3de40"
      }
     },
     "302c7faf0a1747ae8c955a0294e0d3fa": {
      "model_module": "@jupyter-widgets/base",
      "model_module_version": "1.1.0",
      "model_name": "LayoutModel",
      "state": {}
     },
     "305bec75c3dc4c0a98b6066a2e89d644": {
      "model_module": "@jupyter-widgets/base",
      "model_module_version": "1.1.0",
      "model_name": "LayoutModel",
      "state": {}
     },
     "305d4cb7ee8a483f9112efd6d5b694c1": {
      "model_module": "@jupyter-widgets/controls",
      "model_module_version": "1.4.0",
      "model_name": "LabelModel",
      "state": {
       "layout": "IPY_MODEL_bf8926fe80df4814967ad4a323edd5a8",
       "style": "IPY_MODEL_b501e8a2be9644ce91be6080a3eba05c",
       "value": "---"
      }
     },
     "30723643f26b4a23b52c1da3ece2b61d": {
      "model_module": "@jupyter-widgets/base",
      "model_module_version": "1.1.0",
      "model_name": "LayoutModel",
      "state": {}
     },
     "3081bb3ea69042429b1e8d949d64115f": {
      "model_module": "@jupyter-widgets/controls",
      "model_module_version": "1.4.0",
      "model_name": "IntTextModel",
      "state": {
       "description": "n_boot",
       "layout": "IPY_MODEL_5dd8bcf1bad44601a257bcb6fe84f49f",
       "step": 1,
       "style": "IPY_MODEL_7381d6dc6d094947ac7f4ae1f58c556c",
       "value": 10000
      }
     },
     "3095beb5a7fd45a890d9689a214faf7a": {
      "model_module": "@jupyter-widgets/controls",
      "model_module_version": "1.4.0",
      "model_name": "ButtonModel",
      "state": {
       "description": "remove",
       "layout": "IPY_MODEL_d075f2afbe3d47b2a44c3f0b04644279",
       "style": "IPY_MODEL_60f4bbf4a0f044cdb759ed97d28ed6e6"
      }
     },
     "30d08ac9b3b74b10b1369ac39b189254": {
      "model_module": "@jupyter-widgets/controls",
      "model_module_version": "1.4.0",
      "model_name": "CheckboxModel",
      "state": {
       "description": "robust",
       "disabled": false,
       "layout": "IPY_MODEL_e58f90e6935d4aa1aa1098e56cda1e98",
       "style": "IPY_MODEL_7b0acfed84e249868c6deb986b118129",
       "value": false
      }
     },
     "30d343c0a9b44f4597067e920fb90a6e": {
      "model_module": "@jupyter-widgets/controls",
      "model_module_version": "1.4.0",
      "model_name": "FloatTextModel",
      "state": {
       "description": "vmax",
       "layout": "IPY_MODEL_1a7d37dab8874e5bb0cdc7455c5de335",
       "step": null,
       "style": "IPY_MODEL_b20e910956154cb59839b54a4a2bbc46",
       "value": 1
      }
     },
     "30ff0f7cf36940a89133fa813496c2fc": {
      "model_module": "@jupyter-widgets/controls",
      "model_module_version": "1.4.0",
      "model_name": "FloatTextModel",
      "state": {
       "description": "fliersize",
       "layout": "IPY_MODEL_bf09b69b121c42879296b4ae5bc48065",
       "step": null,
       "style": "IPY_MODEL_5bbd3b7db92f4324b5cd399435e1cc95",
       "value": 1
      }
     },
     "313b177385c24c31b71c81f20c671b72": {
      "model_module": "@jupyter-widgets/controls",
      "model_module_version": "1.4.0",
      "model_name": "DescriptionStyleModel",
      "state": {
       "description_width": ""
      }
     },
     "313f3a2b93d540498ec8956f7a90d3c5": {
      "model_module": "@jupyter-widgets/controls",
      "model_module_version": "1.4.0",
      "model_name": "DescriptionStyleModel",
      "state": {
       "description_width": ""
      }
     },
     "314f749ddb7c45beb0c2b2b3a77dd959": {
      "model_module": "@jupyter-widgets/controls",
      "model_module_version": "1.4.0",
      "model_name": "DescriptionStyleModel",
      "state": {
       "description_width": ""
      }
     },
     "31c3bc1d1576455688ff0f846f4c743c": {
      "model_module": "@jupyter-widgets/base",
      "model_module_version": "1.1.0",
      "model_name": "LayoutModel",
      "state": {}
     },
     "31d35b2bae524c3785877049507defa9": {
      "model_module": "@jupyter-widgets/base",
      "model_module_version": "1.1.0",
      "model_name": "LayoutModel",
      "state": {}
     },
     "31ed758953aa401abdf5af63d69f939b": {
      "model_module": "@jupyter-widgets/base",
      "model_module_version": "1.1.0",
      "model_name": "LayoutModel",
      "state": {}
     },
     "32568a2e1d2f4cbfa1dd2ce0da97995a": {
      "model_module": "@jupyter-widgets/controls",
      "model_module_version": "1.4.0",
      "model_name": "DescriptionStyleModel",
      "state": {
       "description_width": ""
      }
     },
     "327287bf1d15494d8806b2b8ec12703b": {
      "model_module": "@jupyter-widgets/controls",
      "model_module_version": "1.4.0",
      "model_name": "FloatTextModel",
      "state": {
       "description": "cut",
       "layout": "IPY_MODEL_e5b7a7087b264b00bb85c62c5ee2c59d",
       "step": null,
       "style": "IPY_MODEL_ff47cf4133664d528091db1871243652",
       "value": 1
      }
     },
     "327ca51268ff48718dd271377dedcffe": {
      "model_module": "@jupyter-widgets/controls",
      "model_module_version": "1.4.0",
      "model_name": "ButtonModel",
      "state": {
       "description": "remove",
       "layout": "IPY_MODEL_922eba18cbae4416923aee8601b904b8",
       "style": "IPY_MODEL_f28973805ad6453fb7bbd236ae43499b"
      }
     },
     "3284e112089d485698059debfb19da46": {
      "model_module": "@jupyter-widgets/base",
      "model_module_version": "1.1.0",
      "model_name": "LayoutModel",
      "state": {}
     },
     "329214a095ff4e8fb402b44771fb8a10": {
      "model_module": "@jupyter-widgets/controls",
      "model_module_version": "1.4.0",
      "model_name": "FloatTextModel",
      "state": {
       "description": "capsize",
       "layout": "IPY_MODEL_8f7bef6b50ff47d8ac212ef2dce8d625",
       "step": null,
       "style": "IPY_MODEL_870fcc1710b043989b8d47c15450d555",
       "value": 1
      }
     },
     "32be0f0933064f6bae5442c34cc4eeed": {
      "model_module": "@jupyter-widgets/controls",
      "model_module_version": "1.4.0",
      "model_name": "DropdownModel",
      "state": {
       "_options_labels": [
        "Acceleration",
        "Cylinders",
        "Displacement",
        "Horsepower",
        "Miles_per_Gallon",
        "Name",
        "Origin",
        "Weight_in_lbs",
        "Year"
       ],
       "description": "a",
       "index": 0,
       "layout": "IPY_MODEL_98d9893f09704c1abac5b2c55b4dbf71",
       "style": "IPY_MODEL_7465222457af40db8c4c2e677f119949"
      }
     },
     "32ebf4b4c3ae4a3c87cf33f95fb2860b": {
      "model_module": "@jupyter-widgets/base",
      "model_module_version": "1.1.0",
      "model_name": "LayoutModel",
      "state": {}
     },
     "32ee4da951c54ca19f2e48bb18b337bb": {
      "model_module": "@jupyter-widgets/controls",
      "model_module_version": "1.4.0",
      "model_name": "DescriptionStyleModel",
      "state": {
       "description_width": ""
      }
     },
     "335faffd071a4b999c650bca14973e8c": {
      "model_module": "@jupyter-widgets/base",
      "model_module_version": "1.1.0",
      "model_name": "LayoutModel",
      "state": {}
     },
     "33bc23ea161e44fb8ce0d1ec12ce7845": {
      "model_module": "@jupyter-widgets/controls",
      "model_module_version": "1.4.0",
      "model_name": "ButtonStyleModel",
      "state": {}
     },
     "33dc074d94aa425ca06de510bdbf93a5": {
      "model_module": "@jupyter-widgets/controls",
      "model_module_version": "1.4.0",
      "model_name": "DropdownModel",
      "state": {
       "_options_labels": [
        "x",
        "y",
        "color",
        "hue",
        "k_depth",
        "linewidth",
        "orient",
        "outlier_prop",
        "palette",
        "saturation",
        "scale",
        "width"
       ],
       "description": "Add arg",
       "index": 1,
       "layout": "IPY_MODEL_6087e278698643ba82979171e18f19cb",
       "style": "IPY_MODEL_ea6603485daa424aa90b0ecb0073eac9"
      }
     },
     "33dc7e2718ad43bea247fbe0129fa1e4": {
      "model_module": "@jupyter-widgets/controls",
      "model_module_version": "1.4.0",
      "model_name": "ButtonStyleModel",
      "state": {}
     },
     "34232917e3834a2dacd34e661586fc46": {
      "model_module": "@jupyter-widgets/controls",
      "model_module_version": "1.4.0",
      "model_name": "DescriptionStyleModel",
      "state": {
       "description_width": ""
      }
     },
     "350073947229489fb8adac79bba871dd": {
      "model_module": "@jupyter-widgets/controls",
      "model_module_version": "1.4.0",
      "model_name": "CheckboxModel",
      "state": {
       "description": "split",
       "disabled": false,
       "layout": "IPY_MODEL_d580c94d69b04912a842b10389872d4c",
       "style": "IPY_MODEL_9805bc920077456c8775a21f2e228108",
       "value": false
      }
     },
     "3510dc3276414361be05cd82d12092ea": {
      "model_module": "@jupyter-widgets/controls",
      "model_module_version": "1.4.0",
      "model_name": "DescriptionStyleModel",
      "state": {
       "description_width": ""
      }
     },
     "35219036cc874223a7be3661e55323e6": {
      "model_module": "@jupyter-widgets/controls",
      "model_module_version": "1.4.0",
      "model_name": "DropdownModel",
      "state": {
       "_options_labels": [
        "full",
        "brief",
        "False"
       ],
       "description": "legend",
       "index": 0,
       "layout": "IPY_MODEL_aca9ce8fdea249a783d818c328c5008f",
       "style": "IPY_MODEL_d230ea6a943c40a38a573fbda8a2e90a"
      }
     },
     "35a864139ddc410cb8d270a4f703f276": {
      "model_module": "@jupyter-widgets/controls",
      "model_module_version": "1.4.0",
      "model_name": "DescriptionStyleModel",
      "state": {
       "description_width": ""
      }
     },
     "360120cbd511486987535f1ce84a1421": {
      "model_module": "@jupyter-widgets/controls",
      "model_module_version": "1.4.0",
      "model_name": "DescriptionStyleModel",
      "state": {
       "description_width": ""
      }
     },
     "360321a6c4c54343bc614aa7ca6ef744": {
      "model_module": "@jupyter-widgets/controls",
      "model_module_version": "1.4.0",
      "model_name": "DescriptionStyleModel",
      "state": {
       "description_width": ""
      }
     },
     "361d7c29ba974a00a0ee86303c844fc2": {
      "model_module": "@jupyter-widgets/controls",
      "model_module_version": "1.4.0",
      "model_name": "TextModel",
      "state": {
       "description": "fmt",
       "layout": "IPY_MODEL_36545cbaf15c43af885455631143574f",
       "style": "IPY_MODEL_b9f9ed366d134b82a4a500fdf2a4504c"
      }
     },
     "361dff80cec94118befbf29f72d104d4": {
      "model_module": "@jupyter-widgets/base",
      "model_module_version": "1.1.0",
      "model_name": "LayoutModel",
      "state": {}
     },
     "364fcb17b3cc43fe873bfd11540e795c": {
      "model_module": "@jupyter-widgets/base",
      "model_module_version": "1.1.0",
      "model_name": "LayoutModel",
      "state": {}
     },
     "36545cbaf15c43af885455631143574f": {
      "model_module": "@jupyter-widgets/base",
      "model_module_version": "1.1.0",
      "model_name": "LayoutModel",
      "state": {}
     },
     "3659768097db467493f72aeb8cc635ab": {
      "model_module": "@jupyter-widgets/base",
      "model_module_version": "1.1.0",
      "model_name": "LayoutModel",
      "state": {}
     },
     "366da96e961444dfb3c88b25a671e12f": {
      "model_module": "@jupyter-widgets/controls",
      "model_module_version": "1.4.0",
      "model_name": "HBoxModel",
      "state": {
       "children": [
        "IPY_MODEL_f6879d9d6e4c41b6b8407fabf9642ff0",
        "IPY_MODEL_94440de2eaea4553b338e79f3b65c403"
       ],
       "layout": "IPY_MODEL_0efce81facc64daab4044918cfa3c880"
      }
     },
     "36714185bccb4879b2483de55bd3fe5d": {
      "model_module": "@jupyter-widgets/controls",
      "model_module_version": "1.4.0",
      "model_name": "DescriptionStyleModel",
      "state": {
       "description_width": ""
      }
     },
     "36e5dc9bbefa4e88869d75ab83caad2c": {
      "model_module": "@jupyter-widgets/base",
      "model_module_version": "1.1.0",
      "model_name": "LayoutModel",
      "state": {}
     },
     "36e609b025f744f39cbceac74741561a": {
      "model_module": "@jupyter-widgets/controls",
      "model_module_version": "1.4.0",
      "model_name": "DescriptionStyleModel",
      "state": {
       "description_width": ""
      }
     },
     "36e78f4ccc9c440c8e7b59b56da90411": {
      "model_module": "@jupyter-widgets/controls",
      "model_module_version": "1.4.0",
      "model_name": "DescriptionStyleModel",
      "state": {
       "description_width": ""
      }
     },
     "3772e641ecf346eebe865570b59f5433": {
      "model_module": "@jupyter-widgets/controls",
      "model_module_version": "1.4.0",
      "model_name": "HBoxModel",
      "state": {
       "children": [
        "IPY_MODEL_d4b10f15f91c4fb887268385bad356bd"
       ],
       "layout": "IPY_MODEL_1d8e39e87e864ba394a7b2f801ac89a9"
      }
     },
     "37bb8a6651424ee782f96e5d80852852": {
      "model_module": "@jupyter-widgets/controls",
      "model_module_version": "1.4.0",
      "model_name": "FloatTextModel",
      "state": {
       "description": "linewidths",
       "layout": "IPY_MODEL_93a17486397340d1adad0e02178aa39e",
       "step": null,
       "style": "IPY_MODEL_14634fb6efcc44418508ee930967c06f",
       "value": 1
      }
     },
     "37d18d2341214974a4639cf276316f64": {
      "model_module": "@jupyter-widgets/base",
      "model_module_version": "1.1.0",
      "model_name": "LayoutModel",
      "state": {}
     },
     "37ee984d28294c2e89e7c95ec0cb56d7": {
      "model_module": "@jupyter-widgets/base",
      "model_module_version": "1.1.0",
      "model_name": "LayoutModel",
      "state": {}
     },
     "38042cb48d72490aa5fed0f7fa68708c": {
      "model_module": "@jupyter-widgets/base",
      "model_module_version": "1.1.0",
      "model_name": "LayoutModel",
      "state": {}
     },
     "3841498e305c47428ceead46c157e8f3": {
      "model_module": "@jupyter-widgets/controls",
      "model_module_version": "1.4.0",
      "model_name": "ButtonStyleModel",
      "state": {}
     },
     "386dc2a963724e97b8bcf57f6a91875f": {
      "model_module": "@jupyter-widgets/controls",
      "model_module_version": "1.4.0",
      "model_name": "IntTextModel",
      "state": {
       "description": "height",
       "layout": "IPY_MODEL_36e5dc9bbefa4e88869d75ab83caad2c",
       "step": 1,
       "style": "IPY_MODEL_fc3f0c5844e446c9a73214b5664d2c6d",
       "value": 5
      }
     },
     "38888dfbf506403abb14fa7e7aa63b9c": {
      "model_module": "@jupyter-widgets/base",
      "model_module_version": "1.1.0",
      "model_name": "LayoutModel",
      "state": {}
     },
     "38c7ecfab2b34d9e8537b6004c99b4c4": {
      "model_module": "@jupyter-widgets/base",
      "model_module_version": "1.1.0",
      "model_name": "LayoutModel",
      "state": {}
     },
     "38d525f3d1c84bb3874370e61626d85c": {
      "model_module": "@jupyter-widgets/controls",
      "model_module_version": "1.4.0",
      "model_name": "HBoxModel",
      "state": {
       "children": [
        "IPY_MODEL_acdcad4fd36e4764864c7f324c1e30ba",
        "IPY_MODEL_9f4a3ef91624410d8e8a8b3f4382e99d"
       ],
       "layout": "IPY_MODEL_5996476a04b04b8783b446ce25c1bb01"
      }
     },
     "390d260aec464f5fbc6db3b536a3a751": {
      "model_module": "@jupyter-widgets/controls",
      "model_module_version": "1.4.0",
      "model_name": "CheckboxModel",
      "state": {
       "description": "legend_out",
       "disabled": false,
       "layout": "IPY_MODEL_335faffd071a4b999c650bca14973e8c",
       "style": "IPY_MODEL_bf37eb46c59a4d85b276039e0f5f32e6",
       "value": false
      }
     },
     "391933adb6ff4bfca4e64d4157b3ce8f": {
      "model_module": "@jupyter-widgets/controls",
      "model_module_version": "1.4.0",
      "model_name": "DescriptionStyleModel",
      "state": {
       "description_width": ""
      }
     },
     "39216dd1648746f6a9959635db005114": {
      "model_module": "@jupyter-widgets/base",
      "model_module_version": "1.1.0",
      "model_name": "LayoutModel",
      "state": {}
     },
     "398127d9557a4d068c9f8eae8f4662f0": {
      "model_module": "@jupyter-widgets/base",
      "model_module_version": "1.1.0",
      "model_name": "LayoutModel",
      "state": {}
     },
     "39a9063bd24b4928ab8ef82c9264e3ba": {
      "model_module": "@jupyter-widgets/controls",
      "model_module_version": "1.4.0",
      "model_name": "IntTextModel",
      "state": {
       "description": "n_boot",
       "layout": "IPY_MODEL_00cae8bd920c42808bcf16e4d5332dff",
       "step": 1,
       "style": "IPY_MODEL_db1638f91f1742cea36e3d95297626a8",
       "value": 10000
      }
     },
     "39af92e6364c41f6a326f3794c629b59": {
      "model_module": "@jupyter-widgets/controls",
      "model_module_version": "1.4.0",
      "model_name": "IntTextModel",
      "state": {
       "description": "space",
       "layout": "IPY_MODEL_5a52c1eeadc1454aa5f99d1cc016efad",
       "step": 1,
       "style": "IPY_MODEL_a68898b1236e42acb450bf80ea435d74",
       "value": 1
      }
     },
     "39e00bdd0bc04407a38eff722e9d6852": {
      "model_module": "@jupyter-widgets/base",
      "model_module_version": "1.1.0",
      "model_name": "LayoutModel",
      "state": {}
     },
     "39fb51998fa64a31ad35f17bed99b7b3": {
      "model_module": "@jupyter-widgets/controls",
      "model_module_version": "1.4.0",
      "model_name": "CheckboxModel",
      "state": {
       "description": "logx",
       "disabled": false,
       "layout": "IPY_MODEL_6f62df695e494c83a40ba504339193e6",
       "style": "IPY_MODEL_923ac45b0a024486bb5960264555b476",
       "value": false
      }
     },
     "3aedf4ecb7884dfb8868b75e7c9de0fd": {
      "model_module": "@jupyter-widgets/controls",
      "model_module_version": "1.4.0",
      "model_name": "FloatSliderModel",
      "state": {
       "description": "alpha",
       "layout": "IPY_MODEL_b2404d4b72784c0e97051b749da978fd",
       "max": 1,
       "step": 0.05,
       "style": "IPY_MODEL_70a02e1ff1a5406f80645ce701b31d36"
      }
     },
     "3b5353630cf54a28bbf1148bcd659273": {
      "model_module": "@jupyter-widgets/base",
      "model_module_version": "1.1.0",
      "model_name": "LayoutModel",
      "state": {}
     },
     "3b6c359ff4b54e35b55b255ca38c5add": {
      "model_module": "@jupyter-widgets/controls",
      "model_module_version": "1.4.0",
      "model_name": "DropdownModel",
      "state": {
       "_options_labels": [
        "row",
        "col",
        "True"
       ],
       "description": "sharex",
       "index": 0,
       "layout": "IPY_MODEL_e00e93d675224fb8999272738f0da65f",
       "style": "IPY_MODEL_c4a3aac8e34a44ff852dcac99038293f"
      }
     },
     "3b7b4096dcce4ed1ad542f9307da831b": {
      "model_module": "@jupyter-widgets/base",
      "model_module_version": "1.1.0",
      "model_name": "LayoutModel",
      "state": {}
     },
     "3b9e3cc62a4a4b3ea473e3dde45786d0": {
      "model_module": "@jupyter-widgets/controls",
      "model_module_version": "1.4.0",
      "model_name": "DescriptionStyleModel",
      "state": {
       "description_width": ""
      }
     },
     "3bda312462b940b8b6bd2426ec291eeb": {
      "model_module": "@jupyter-widgets/base",
      "model_module_version": "1.1.0",
      "model_name": "LayoutModel",
      "state": {}
     },
     "3be2bef2c2e94273b9d56caa3eefcac2": {
      "model_module": "@jupyter-widgets/base",
      "model_module_version": "1.1.0",
      "model_name": "LayoutModel",
      "state": {}
     },
     "3c24e082088e4a0386831b7009047549": {
      "model_module": "@jupyter-widgets/controls",
      "model_module_version": "1.4.0",
      "model_name": "HBoxModel",
      "state": {
       "children": [
        "IPY_MODEL_9e730694a4bd4dbdb7c96e606593d011"
       ],
       "layout": "IPY_MODEL_3be2bef2c2e94273b9d56caa3eefcac2"
      }
     },
     "3c6532dbeef34462949c3326e779f4fe": {
      "model_module": "@jupyter-widgets/base",
      "model_module_version": "1.1.0",
      "model_name": "LayoutModel",
      "state": {}
     },
     "3c71790b497d4f97a01ba368413ac5e8": {
      "model_module": "@jupyter-widgets/base",
      "model_module_version": "1.1.0",
      "model_name": "LayoutModel",
      "state": {}
     },
     "3c859c37061e443091c08837a6d21ec9": {
      "model_module": "@jupyter-widgets/controls",
      "model_module_version": "1.4.0",
      "model_name": "DescriptionStyleModel",
      "state": {
       "description_width": ""
      }
     },
     "3c88cff22a5d4216a1c6d79e43b57c02": {
      "model_module": "@jupyter-widgets/controls",
      "model_module_version": "1.4.0",
      "model_name": "DescriptionStyleModel",
      "state": {
       "description_width": ""
      }
     },
     "3c9c896cc60245498dfc77909030743e": {
      "model_module": "@jupyter-widgets/controls",
      "model_module_version": "1.4.0",
      "model_name": "FloatTextModel",
      "state": {
       "description": "cut",
       "layout": "IPY_MODEL_a813b0142d8c4214b40e3efef3f3369e",
       "step": null,
       "style": "IPY_MODEL_c45ff2ee85f04ceea1306f603e8e2fa6",
       "value": 1
      }
     },
     "3cd9b5db20cd4426892c0f9b89dd4fac": {
      "model_module": "@jupyter-widgets/controls",
      "model_module_version": "1.4.0",
      "model_name": "ButtonStyleModel",
      "state": {}
     },
     "3cec8017de68406b8382461bf9192bc1": {
      "model_module": "@jupyter-widgets/controls",
      "model_module_version": "1.4.0",
      "model_name": "HBoxModel",
      "state": {
       "children": [
        "IPY_MODEL_4c144b98e83548cb821cddcd6be44a65",
        "IPY_MODEL_81979193e45c49c8b12dd0802efd0459"
       ],
       "layout": "IPY_MODEL_c6288855058d416d96d185bba99b303d"
      }
     },
     "3d105d8d6fb846a484d19ca38eeb27ca": {
      "model_module": "@jupyter-widgets/controls",
      "model_module_version": "1.4.0",
      "model_name": "DropdownModel",
      "state": {
       "_options_labels": [
        "Acceleration",
        "Cylinders",
        "Displacement",
        "Horsepower",
        "Miles_per_Gallon",
        "Name",
        "Origin",
        "Weight_in_lbs",
        "Year"
       ],
       "description": "data2",
       "index": 0,
       "layout": "IPY_MODEL_a3ccb326301c41b58bf698510af294a0",
       "style": "IPY_MODEL_28ca6ae1f0b24813bbaf3dcb6a847920"
      }
     },
     "3d1e1fb204144ae2a2a1f8d888e3088e": {
      "model_module": "@jupyter-widgets/base",
      "model_module_version": "1.1.0",
      "model_name": "LayoutModel",
      "state": {}
     },
     "3d5297e1e986499f97d17fcac8fe7f09": {
      "model_module": "@jupyter-widgets/controls",
      "model_module_version": "1.4.0",
      "model_name": "HBoxModel",
      "state": {
       "children": [
        "IPY_MODEL_acdcad4fd36e4764864c7f324c1e30ba",
        "IPY_MODEL_c1d024aaa3244a44937e80d1ae1b1d02"
       ],
       "layout": "IPY_MODEL_03c463e27081464fb7619809db6b5f09"
      }
     },
     "3d7ef82d01024f598af361b189836224": {
      "model_module": "@jupyter-widgets/base",
      "model_module_version": "1.1.0",
      "model_name": "LayoutModel",
      "state": {}
     },
     "3d8166776db347a0b4e8cb07ef6519da": {
      "model_module": "@jupyter-widgets/controls",
      "model_module_version": "1.4.0",
      "model_name": "DescriptionStyleModel",
      "state": {
       "description_width": ""
      }
     },
     "3db51edbfd564530b70bbbd8dceed6b5": {
      "model_module": "@jupyter-widgets/controls",
      "model_module_version": "1.4.0",
      "model_name": "ButtonModel",
      "state": {
       "description": "remove",
       "layout": "IPY_MODEL_89901b0eb4c347d6aa73c91c3e96824d",
       "style": "IPY_MODEL_9ab9fec2ecc746859df3970d3ebad3eb"
      }
     },
     "3dc3d88a44e84272888ee1fe51af406d": {
      "model_module": "@jupyter-widgets/controls",
      "model_module_version": "1.4.0",
      "model_name": "FloatTextModel",
      "state": {
       "description": "height",
       "layout": "IPY_MODEL_527a6afda6d04f9a825b7a6ffaae55e1",
       "step": null,
       "style": "IPY_MODEL_0b049929d5cf47c792c00cf1449e6bd6",
       "value": 1
      }
     },
     "3dedafb5fd6a4d6a914b175cdc353ba3": {
      "model_module": "@jupyter-widgets/controls",
      "model_module_version": "1.4.0",
      "model_name": "CheckboxModel",
      "state": {
       "description": "margin_titles",
       "disabled": false,
       "layout": "IPY_MODEL_fc31d5cf55fb41c0abc6b6967ca302ae",
       "style": "IPY_MODEL_a15dac5b0f784207a4d138f422c4e244",
       "value": false
      }
     },
     "3df8dc34a6174f108915a79728d63c54": {
      "model_module": "@jupyter-widgets/base",
      "model_module_version": "1.1.0",
      "model_name": "LayoutModel",
      "state": {}
     },
     "3e24fde6d0e748098e7eb7f118cacf58": {
      "model_module": "@jupyter-widgets/controls",
      "model_module_version": "1.4.0",
      "model_name": "SliderStyleModel",
      "state": {
       "description_width": ""
      }
     },
     "3e31479b000d43fdbd6babb75b1864f9": {
      "model_module": "@jupyter-widgets/controls",
      "model_module_version": "1.4.0",
      "model_name": "CheckboxModel",
      "state": {
       "description": "annot",
       "disabled": false,
       "layout": "IPY_MODEL_d3e699558e4c46fd91a9f78da74cef28",
       "style": "IPY_MODEL_f2d84912bbd0496da1cd3589c288367a",
       "value": false
      }
     },
     "3e5b4968130b4fe2ac7a4a77453acf44": {
      "model_module": "@jupyter-widgets/controls",
      "model_module_version": "1.4.0",
      "model_name": "DropdownModel",
      "state": {
       "_options_labels": [
        "Acceleration",
        "Cylinders",
        "Displacement",
        "Horsepower",
        "Miles_per_Gallon",
        "Name",
        "Origin",
        "Weight_in_lbs",
        "Year"
       ],
       "description": "style",
       "index": 0,
       "layout": "IPY_MODEL_fc5af68d232e40b490ff18e0ca1d5383",
       "style": "IPY_MODEL_fb8a0da0da6043f698b316c300b9829f"
      }
     },
     "3e67d305c9e9433e886c3b382cfd62af": {
      "model_module": "@jupyter-widgets/base",
      "model_module_version": "1.1.0",
      "model_name": "LayoutModel",
      "state": {}
     },
     "3e904ca97eb54e3282f781967de13735": {
      "model_module": "@jupyter-widgets/base",
      "model_module_version": "1.1.0",
      "model_name": "LayoutModel",
      "state": {}
     },
     "3ec513e7b39f41a79a86e4600e91f33a": {
      "model_module": "@jupyter-widgets/base",
      "model_module_version": "1.1.0",
      "model_name": "LayoutModel",
      "state": {}
     },
     "3eeb8a11338442bfbe763aa337ef0160": {
      "model_module": "@jupyter-widgets/controls",
      "model_module_version": "1.4.0",
      "model_name": "CheckboxModel",
      "state": {
       "description": "cbar_ax",
       "disabled": false,
       "layout": "IPY_MODEL_88d8f04c0e4f44d2b0835e82744c9f13",
       "style": "IPY_MODEL_1b982bf266f647d9a31bde580b03e167",
       "value": false
      }
     },
     "3f57fb694b64487dadb42fdfe87e9a21": {
      "model_module": "@jupyter-widgets/controls",
      "model_module_version": "1.4.0",
      "model_name": "ButtonStyleModel",
      "state": {}
     },
     "3fbb358ac33d40558ffda9cc5f9bcefd": {
      "model_module": "@jupyter-widgets/controls",
      "model_module_version": "1.4.0",
      "model_name": "DropdownModel",
      "state": {
       "_options_labels": [
        "Acceleration",
        "Cylinders",
        "Displacement",
        "Horsepower",
        "Miles_per_Gallon",
        "Name",
        "Origin",
        "Weight_in_lbs",
        "Year"
       ],
       "description": "hue",
       "index": 0,
       "layout": "IPY_MODEL_398127d9557a4d068c9f8eae8f4662f0",
       "style": "IPY_MODEL_f586012a3a3b4cc0975c68a7b56feffb"
      }
     },
     "3ff559a756ed4536b4fd5d8f96863d1c": {
      "model_module": "@jupyter-widgets/base",
      "model_module_version": "1.1.0",
      "model_name": "LayoutModel",
      "state": {}
     },
     "401bae7bc9b74bf2a3c99402a7dfae60": {
      "model_module": "@jupyter-widgets/controls",
      "model_module_version": "1.4.0",
      "model_name": "ButtonModel",
      "state": {
       "description": "remove",
       "layout": "IPY_MODEL_37d18d2341214974a4639cf276316f64",
       "style": "IPY_MODEL_c42c5a64eb174fdeaa4bac5913c10c20"
      }
     },
     "4028c23b2f58480fa5066fa5135b9270": {
      "model_module": "@jupyter-widgets/base",
      "model_module_version": "1.1.0",
      "model_name": "LayoutModel",
      "state": {}
     },
     "40366c6a043e441d9a04a7bdbd9b172c": {
      "model_module": "@jupyter-widgets/base",
      "model_module_version": "1.1.0",
      "model_name": "LayoutModel",
      "state": {}
     },
     "40662bf54a054464a41bb1b047c2c52c": {
      "model_module": "@jupyter-widgets/base",
      "model_module_version": "1.1.0",
      "model_name": "LayoutModel",
      "state": {}
     },
     "4090207c96564e659f4c5478f3700466": {
      "model_module": "@jupyter-widgets/controls",
      "model_module_version": "1.4.0",
      "model_name": "DropdownModel",
      "state": {
       "_options_labels": [
        "row",
        "col",
        "True"
       ],
       "description": "sharex",
       "index": 0,
       "layout": "IPY_MODEL_a1e9b7df2c8f4361836a3b07288bd6d4",
       "style": "IPY_MODEL_2681668a341745f7b57e221dfadc5323"
      }
     },
     "40cdb8f12b674f479d9ba4bf294727a2": {
      "model_module": "@jupyter-widgets/controls",
      "model_module_version": "1.4.0",
      "model_name": "DescriptionStyleModel",
      "state": {
       "description_width": ""
      }
     },
     "40d786fd5ce84c1483206c44c62f09f1": {
      "model_module": "@jupyter-widgets/controls",
      "model_module_version": "1.4.0",
      "model_name": "DropdownModel",
      "state": {
       "_options_labels": [
        "v",
        "h"
       ],
       "description": "orient",
       "index": 0,
       "layout": "IPY_MODEL_72e95a1a6ee14b679b15fecaba0bd237",
       "style": "IPY_MODEL_1ed4512d8f6344f59cadfd4f95ce3dc8"
      }
     },
     "40ecb490e42041c2af44f3e11b9b1eaa": {
      "model_module": "@jupyter-widgets/base",
      "model_module_version": "1.1.0",
      "model_name": "LayoutModel",
      "state": {}
     },
     "41613ca3fc14433a8c2eb71170ea6a6c": {
      "model_module": "@jupyter-widgets/controls",
      "model_module_version": "1.4.0",
      "model_name": "HBoxModel",
      "state": {
       "children": [
        "IPY_MODEL_517e0d23458349a898bc7d5a31639810",
        "IPY_MODEL_03ce638d1bd74d4ab1833901f407c678"
       ],
       "layout": "IPY_MODEL_656ebf3cd96940838fc6f7f585ec1c8a"
      }
     },
     "41abdf1ab3fb450abbcdaca354779622": {
      "model_module": "@jupyter-widgets/controls",
      "model_module_version": "1.4.0",
      "model_name": "CheckboxModel",
      "state": {
       "description": "dropna",
       "disabled": false,
       "layout": "IPY_MODEL_3284e112089d485698059debfb19da46",
       "style": "IPY_MODEL_d015f8cc6a234f0a9381940fd6a7bddd",
       "value": false
      }
     },
     "4212e8c8f5cb4e4eb8bc0ee358a7b325": {
      "model_module": "@jupyter-widgets/base",
      "model_module_version": "1.1.0",
      "model_name": "LayoutModel",
      "state": {}
     },
     "42b55f1301904ccea3597f7d76bc399c": {
      "model_module": "@jupyter-widgets/controls",
      "model_module_version": "1.4.0",
      "model_name": "DescriptionStyleModel",
      "state": {
       "description_width": ""
      }
     },
     "42be008a365b475bb14461ef969b3494": {
      "model_module": "@jupyter-widgets/base",
      "model_module_version": "1.1.0",
      "model_name": "LayoutModel",
      "state": {}
     },
     "42be073492a84162927f34b5278a9405": {
      "model_module": "@jupyter-widgets/base",
      "model_module_version": "1.1.0",
      "model_name": "LayoutModel",
      "state": {}
     },
     "42cab6044ab7485b848a938752d061ff": {
      "model_module": "@jupyter-widgets/controls",
      "model_module_version": "1.4.0",
      "model_name": "CheckboxModel",
      "state": {
       "description": "hist",
       "disabled": false,
       "layout": "IPY_MODEL_2a0a30f8f70241cdad14a386044e6fc3",
       "style": "IPY_MODEL_b189b1a098a54c03af1a279956c230e9",
       "value": false
      }
     },
     "4356d8604aab4a90be4ab1f6070b1329": {
      "model_module": "@jupyter-widgets/controls",
      "model_module_version": "1.4.0",
      "model_name": "ButtonStyleModel",
      "state": {}
     },
     "4366067f666c4cc8961da2536ed45911": {
      "model_module": "@jupyter-widgets/base",
      "model_module_version": "1.1.0",
      "model_name": "LayoutModel",
      "state": {}
     },
     "437c193656f54754aa8e57088afe6464": {
      "model_module": "@jupyter-widgets/controls",
      "model_module_version": "1.4.0",
      "model_name": "CheckboxModel",
      "state": {
       "description": "sort",
       "disabled": false,
       "layout": "IPY_MODEL_31c3bc1d1576455688ff0f846f4c743c",
       "style": "IPY_MODEL_b8906bad9d464ff3a460a91ceb034fc4",
       "value": false
      }
     },
     "438747e6dfd64c99a7fb083310a0213b": {
      "model_module": "@jupyter-widgets/controls",
      "model_module_version": "1.4.0",
      "model_name": "HBoxModel",
      "state": {
       "children": [
        "IPY_MODEL_97897f6b71a9433f9feff489616a11a1"
       ],
       "layout": "IPY_MODEL_fa3d68de1709417da4772003f621ed54"
      }
     },
     "43e199c7b8b24880be9b537cce9c33e3": {
      "model_module": "@jupyter-widgets/controls",
      "model_module_version": "1.4.0",
      "model_name": "DescriptionStyleModel",
      "state": {
       "description_width": ""
      }
     },
     "442f367e1c4549a68616a4ef452d728b": {
      "model_module": "@jupyter-widgets/base",
      "model_module_version": "1.1.0",
      "model_name": "LayoutModel",
      "state": {}
     },
     "445acff615a2493594559ea0d053d14e": {
      "model_module": "@jupyter-widgets/base",
      "model_module_version": "1.1.0",
      "model_name": "LayoutModel",
      "state": {}
     },
     "445b4419a6004eb7b36244a25197b965": {
      "model_module": "@jupyter-widgets/controls",
      "model_module_version": "1.4.0",
      "model_name": "DescriptionStyleModel",
      "state": {
       "description_width": ""
      }
     },
     "44874b8d26414b26a79878bd4848d447": {
      "model_module": "@jupyter-widgets/controls",
      "model_module_version": "1.4.0",
      "model_name": "DropdownModel",
      "state": {
       "_options_labels": [
        "area",
        "count",
        "width"
       ],
       "description": "scale",
       "index": 0,
       "layout": "IPY_MODEL_f9f8671133db4e3f9e68ecc47f6c543f",
       "style": "IPY_MODEL_7dbc708e88f543b4ba7226195830eb01"
      }
     },
     "4488c6172f5542ee86d4a95d1a3a0fca": {
      "model_module": "@jupyter-widgets/base",
      "model_module_version": "1.1.0",
      "model_name": "LayoutModel",
      "state": {}
     },
     "449c7f8a7c514273a1d6d1971f269eb4": {
      "model_module": "@jupyter-widgets/controls",
      "model_module_version": "1.4.0",
      "model_name": "DescriptionStyleModel",
      "state": {
       "description_width": ""
      }
     },
     "44b62d6629344e99b32f0d3799809d8d": {
      "model_module": "@jupyter-widgets/controls",
      "model_module_version": "1.4.0",
      "model_name": "HBoxModel",
      "state": {
       "children": [
        "IPY_MODEL_0027c47413ee402595c0a0caf4567175",
        "IPY_MODEL_f8541654ac26441d96e2d6662a32499f"
       ],
       "layout": "IPY_MODEL_a1835f9d9f2243a29f6cd8f6889aaf1b"
      }
     },
     "44cec0e90c1546a4964d85a2f5589171": {
      "model_module": "@jupyter-widgets/controls",
      "model_module_version": "1.4.0",
      "model_name": "DescriptionStyleModel",
      "state": {
       "description_width": ""
      }
     },
     "44d56f6a2df740229c191eb1a54ebd33": {
      "model_module": "@jupyter-widgets/controls",
      "model_module_version": "1.4.0",
      "model_name": "DropdownModel",
      "state": {
       "_options_labels": [
        "Name",
        "Year",
        "Miles_per_Gallon",
        "Origin",
        "Cylinders",
        "Displacement",
        "Acceleration",
        "Horsepower",
        "Weight_in_lbs"
       ],
       "description": "dashes",
       "index": 0,
       "layout": "IPY_MODEL_dad6c1b2a55142dd8396ad283ba646a6",
       "style": "IPY_MODEL_af0802d336ef43e399f2764ea506a8a5"
      }
     },
     "4500a33d387140dc9adf50ac7e1a7d0d": {
      "model_module": "@jupyter-widgets/base",
      "model_module_version": "1.1.0",
      "model_name": "LayoutModel",
      "state": {}
     },
     "4525e5898fa343089f0fe95abfce808b": {
      "model_module": "@jupyter-widgets/controls",
      "model_module_version": "1.4.0",
      "model_name": "ButtonStyleModel",
      "state": {}
     },
     "4538b1e222424ae380861d4b25f1d492": {
      "model_module": "@jupyter-widgets/controls",
      "model_module_version": "1.4.0",
      "model_name": "DescriptionStyleModel",
      "state": {
       "description_width": ""
      }
     },
     "45441ac9895a4f5197ea5c6362bae66e": {
      "model_module": "@jupyter-widgets/controls",
      "model_module_version": "1.4.0",
      "model_name": "DescriptionStyleModel",
      "state": {
       "description_width": ""
      }
     },
     "457cc4daabec4b98a4518afe8dd525a4": {
      "model_module": "@jupyter-widgets/controls",
      "model_module_version": "1.4.0",
      "model_name": "CheckboxModel",
      "state": {
       "description": "logistic",
       "disabled": false,
       "layout": "IPY_MODEL_cb0e57dc81a0477a86179765e1f33f6d",
       "style": "IPY_MODEL_1687f77e751d49d495256d64330f762d",
       "value": false
      }
     },
     "45d067d38bf344e6aca731a0dafb0845": {
      "model_module": "@jupyter-widgets/controls",
      "model_module_version": "1.4.0",
      "model_name": "DescriptionStyleModel",
      "state": {
       "description_width": ""
      }
     },
     "45fb63aad9814499a5a9a73ba4a460f2": {
      "model_module": "@jupyter-widgets/controls",
      "model_module_version": "1.4.0",
      "model_name": "TextModel",
      "state": {
       "description": "fmt",
       "layout": "IPY_MODEL_c5802d326bc34e34b3dd111885163393",
       "style": "IPY_MODEL_e06ddedd6f114906b5d1e5878263672e"
      }
     },
     "45fc7ab38605494d8f30ae6224a405a0": {
      "model_module": "@jupyter-widgets/controls",
      "model_module_version": "1.4.0",
      "model_name": "CheckboxModel",
      "state": {
       "description": "norm_hist",
       "disabled": false,
       "layout": "IPY_MODEL_7904c107d5464b2a835d7c576a954360",
       "style": "IPY_MODEL_dd8c922a11684a6eb0a7730e46c9684e",
       "value": false
      }
     },
     "46089bbe113b40ad8d11d7727f7cb203": {
      "model_module": "@jupyter-widgets/base",
      "model_module_version": "1.1.0",
      "model_name": "LayoutModel",
      "state": {}
     },
     "465a2ebd63a347a6b1ef340842bacc65": {
      "model_module": "@jupyter-widgets/controls",
      "model_module_version": "1.4.0",
      "model_name": "CheckboxModel",
      "state": {
       "description": "cbar",
       "disabled": false,
       "layout": "IPY_MODEL_26a56651c9fd4e108f468a9526591455",
       "style": "IPY_MODEL_c70487426def4292ac916faf467c368f",
       "value": false
      }
     },
     "468a3a469f2248c89ed962f74f99e7f6": {
      "model_module": "@jupyter-widgets/controls",
      "model_module_version": "1.4.0",
      "model_name": "DescriptionStyleModel",
      "state": {
       "description_width": ""
      }
     },
     "469074c0d2b9452e8eebb6caff381ae0": {
      "model_module": "@jupyter-widgets/controls",
      "model_module_version": "1.4.0",
      "model_name": "DescriptionStyleModel",
      "state": {
       "description_width": ""
      }
     },
     "46a758ea1d99405f9f9a9545fc2aa4df": {
      "model_module": "@jupyter-widgets/controls",
      "model_module_version": "1.4.0",
      "model_name": "DescriptionStyleModel",
      "state": {
       "description_width": ""
      }
     },
     "46d411f5a3ea4e87914930aa206870d3": {
      "model_module": "@jupyter-widgets/controls",
      "model_module_version": "1.4.0",
      "model_name": "DescriptionStyleModel",
      "state": {
       "description_width": ""
      }
     },
     "46f4127a433f4e9ca8946905a457773a": {
      "model_module": "@jupyter-widgets/controls",
      "model_module_version": "1.4.0",
      "model_name": "DescriptionStyleModel",
      "state": {
       "description_width": ""
      }
     },
     "46fc359faa9249468dc88ccadb43e282": {
      "model_module": "@jupyter-widgets/controls",
      "model_module_version": "1.4.0",
      "model_name": "DropdownModel",
      "state": {
       "_options_labels": [
        "point",
        "bar",
        "strip",
        "swarm",
        "box",
        "violin",
        "boxen"
       ],
       "description": "kind",
       "index": 0,
       "layout": "IPY_MODEL_e1146b24849d4d29b45869f82c5c99e2",
       "style": "IPY_MODEL_86ad712841bd4fbcb714bfdfb3934ab1"
      }
     },
     "474001906ae64459a169857d2b8ebb1a": {
      "model_module": "@jupyter-widgets/base",
      "model_module_version": "1.1.0",
      "model_name": "LayoutModel",
      "state": {}
     },
     "47522bce98c34557966a69fd01cb3719": {
      "model_module": "@jupyter-widgets/controls",
      "model_module_version": "1.4.0",
      "model_name": "FloatTextModel",
      "state": {
       "description": "linewidth",
       "layout": "IPY_MODEL_ec82eda3d0294435897162b4ea59b7b4",
       "step": null,
       "style": "IPY_MODEL_de7a06cf1e964da2ab756338f835d17d",
       "value": 1
      }
     },
     "479304137c6c4e438b8e921749ecfeec": {
      "model_module": "@jupyter-widgets/base",
      "model_module_version": "1.1.0",
      "model_name": "LayoutModel",
      "state": {}
     },
     "47937fb160e54d37972e6e2da0ace75b": {
      "model_module": "@jupyter-widgets/controls",
      "model_module_version": "1.4.0",
      "model_name": "DescriptionStyleModel",
      "state": {
       "description_width": ""
      }
     },
     "47fc395e050c45be9cece0f1f3962002": {
      "model_module": "@jupyter-widgets/controls",
      "model_module_version": "1.4.0",
      "model_name": "DropdownModel",
      "state": {
       "_options_labels": [
        "Acceleration",
        "Name",
        "Displacement",
        "Year",
        "Miles_per_Gallon",
        "Weight_in_lbs",
        "Cylinders",
        "Horsepower",
        "Origin"
       ],
       "description": "sizes",
       "index": 0,
       "layout": "IPY_MODEL_0191135a442a4134ac39fd976a588470",
       "style": "IPY_MODEL_6cc6e96edc86476194b5ea6a86e87492"
      }
     },
     "47fdf813caf7413099e57052ffe386f6": {
      "model_module": "@jupyter-widgets/base",
      "model_module_version": "1.1.0",
      "model_name": "LayoutModel",
      "state": {}
     },
     "4804791750924ff58b0d4b6c6b067a93": {
      "model_module": "@jupyter-widgets/base",
      "model_module_version": "1.1.0",
      "model_name": "LayoutModel",
      "state": {}
     },
     "482074b31bce44078b5f12882891ebec": {
      "model_module": "@jupyter-widgets/base",
      "model_module_version": "1.1.0",
      "model_name": "LayoutModel",
      "state": {}
     },
     "48334c0c86a94d63a2185f589c9f8910": {
      "model_module": "@jupyter-widgets/controls",
      "model_module_version": "1.4.0",
      "model_name": "FloatTextModel",
      "state": {
       "description": "aspect",
       "layout": "IPY_MODEL_f32ab3a0036446ce9345b32d25810730",
       "step": null,
       "style": "IPY_MODEL_b6a057e37c5f4439aade06777a3f9e54",
       "value": 1
      }
     },
     "484142181b2a41dd9ce1de12c8daf84a": {
      "model_module": "@jupyter-widgets/controls",
      "model_module_version": "1.4.0",
      "model_name": "DescriptionStyleModel",
      "state": {
       "description_width": ""
      }
     },
     "48533dc92e81427191991f15e5ab062f": {
      "model_module": "@jupyter-widgets/controls",
      "model_module_version": "1.4.0",
      "model_name": "DescriptionStyleModel",
      "state": {
       "description_width": ""
      }
     },
     "48728fb87985434f8d5e5fb345b76360": {
      "model_module": "@jupyter-widgets/base",
      "model_module_version": "1.1.0",
      "model_name": "LayoutModel",
      "state": {}
     },
     "4873888337b2483a81f9c23a709ec4ea": {
      "model_module": "@jupyter-widgets/output",
      "model_module_version": "1.0.0",
      "model_name": "OutputModel",
      "state": {
       "layout": "IPY_MODEL_9ec5988a1ed64fc793d93b902dbb6942",
       "outputs": [
        {
         "ename": "TypeError",
         "evalue": "cannot perform reduce with flexible type",
         "output_type": "error",
         "traceback": [
          "\u001b[0;31m---------------------------------------------------------------------------\u001b[0m",
          "\u001b[0;31mTypeError\u001b[0m                                 Traceback (most recent call last)",
          "\u001b[0;32m~/code/perso/data-science-exercises/venv/lib/python3.5/site-packages/quickviz-0.0.11-py3.5.egg/quickviz/quickviz.py\u001b[0m in \u001b[0;36mplot\u001b[0;34m(self, *_)\u001b[0m\n\u001b[1;32m    132\u001b[0m                     \u001b[0mself\u001b[0m\u001b[0;34m.\u001b[0m\u001b[0mdf\u001b[0m\u001b[0;34m,\u001b[0m\u001b[0;34m\u001b[0m\u001b[0m\n\u001b[1;32m    133\u001b[0m                     \u001b[0mplot_type\u001b[0m\u001b[0;34m,\u001b[0m\u001b[0;34m\u001b[0m\u001b[0m\n\u001b[0;32m--> 134\u001b[0;31m                     kwargs)\n\u001b[0m\u001b[1;32m    135\u001b[0m             \u001b[0mshow_inline_matplotlib_plots\u001b[0m\u001b[0;34m(\u001b[0m\u001b[0;34m)\u001b[0m\u001b[0;34m\u001b[0m\u001b[0m\n\u001b[1;32m    136\u001b[0m \u001b[0;34m\u001b[0m\u001b[0m\n",
          "\u001b[0;32m~/code/perso/data-science-exercises/venv/lib/python3.5/site-packages/quickviz-0.0.11-py3.5.egg/quickviz/seaborn.py\u001b[0m in \u001b[0;36mplot\u001b[0;34m(df, plot_type, kwargs)\u001b[0m\n\u001b[1;32m    394\u001b[0m     \u001b[0;32mif\u001b[0m \u001b[0mplot_type\u001b[0m \u001b[0;32mnot\u001b[0m \u001b[0;32min\u001b[0m \u001b[0;34m[\u001b[0m\u001b[0;34m\"distplot\"\u001b[0m\u001b[0;34m,\u001b[0m \u001b[0;34m\"kdeplot\"\u001b[0m\u001b[0;34m]\u001b[0m\u001b[0;34m:\u001b[0m\u001b[0;34m\u001b[0m\u001b[0m\n\u001b[1;32m    395\u001b[0m         \u001b[0mkwargs\u001b[0m\u001b[0;34m[\u001b[0m\u001b[0;34m\"data\"\u001b[0m\u001b[0;34m]\u001b[0m\u001b[0;34m=\u001b[0m\u001b[0mdf\u001b[0m\u001b[0;34m\u001b[0m\u001b[0m\n\u001b[0;32m--> 396\u001b[0;31m     \u001b[0mmethod\u001b[0m\u001b[0;34m(\u001b[0m\u001b[0;34m**\u001b[0m\u001b[0mkwargs\u001b[0m\u001b[0;34m)\u001b[0m\u001b[0;34m\u001b[0m\u001b[0m\n\u001b[0m",
          "\u001b[0;32m~/code/perso/data-science-exercises/venv/lib/python3.5/site-packages/seaborn/categorical.py\u001b[0m in \u001b[0;36mboxplot\u001b[0;34m(x, y, hue, data, order, hue_order, orient, color, palette, saturation, width, dodge, fliersize, linewidth, whis, notch, ax, **kwargs)\u001b[0m\n\u001b[1;32m   2235\u001b[0m     \u001b[0mkwargs\u001b[0m\u001b[0;34m.\u001b[0m\u001b[0mupdate\u001b[0m\u001b[0;34m(\u001b[0m\u001b[0mdict\u001b[0m\u001b[0;34m(\u001b[0m\u001b[0mwhis\u001b[0m\u001b[0;34m=\u001b[0m\u001b[0mwhis\u001b[0m\u001b[0;34m,\u001b[0m \u001b[0mnotch\u001b[0m\u001b[0;34m=\u001b[0m\u001b[0mnotch\u001b[0m\u001b[0;34m)\u001b[0m\u001b[0;34m)\u001b[0m\u001b[0;34m\u001b[0m\u001b[0m\n\u001b[1;32m   2236\u001b[0m \u001b[0;34m\u001b[0m\u001b[0m\n\u001b[0;32m-> 2237\u001b[0;31m     \u001b[0mplotter\u001b[0m\u001b[0;34m.\u001b[0m\u001b[0mplot\u001b[0m\u001b[0;34m(\u001b[0m\u001b[0max\u001b[0m\u001b[0;34m,\u001b[0m \u001b[0mkwargs\u001b[0m\u001b[0;34m)\u001b[0m\u001b[0;34m\u001b[0m\u001b[0m\n\u001b[0m\u001b[1;32m   2238\u001b[0m     \u001b[0;32mreturn\u001b[0m \u001b[0max\u001b[0m\u001b[0;34m\u001b[0m\u001b[0m\n\u001b[1;32m   2239\u001b[0m \u001b[0;34m\u001b[0m\u001b[0m\n",
          "\u001b[0;32m~/code/perso/data-science-exercises/venv/lib/python3.5/site-packages/seaborn/categorical.py\u001b[0m in \u001b[0;36mplot\u001b[0;34m(self, ax, boxplot_kws)\u001b[0m\n\u001b[1;32m    547\u001b[0m     \u001b[0;32mdef\u001b[0m \u001b[0mplot\u001b[0m\u001b[0;34m(\u001b[0m\u001b[0mself\u001b[0m\u001b[0;34m,\u001b[0m \u001b[0max\u001b[0m\u001b[0;34m,\u001b[0m \u001b[0mboxplot_kws\u001b[0m\u001b[0;34m)\u001b[0m\u001b[0;34m:\u001b[0m\u001b[0;34m\u001b[0m\u001b[0m\n\u001b[1;32m    548\u001b[0m         \u001b[0;34m\"\"\"Make the plot.\"\"\"\u001b[0m\u001b[0;34m\u001b[0m\u001b[0m\n\u001b[0;32m--> 549\u001b[0;31m         \u001b[0mself\u001b[0m\u001b[0;34m.\u001b[0m\u001b[0mdraw_boxplot\u001b[0m\u001b[0;34m(\u001b[0m\u001b[0max\u001b[0m\u001b[0;34m,\u001b[0m \u001b[0mboxplot_kws\u001b[0m\u001b[0;34m)\u001b[0m\u001b[0;34m\u001b[0m\u001b[0m\n\u001b[0m\u001b[1;32m    550\u001b[0m         \u001b[0mself\u001b[0m\u001b[0;34m.\u001b[0m\u001b[0mannotate_axes\u001b[0m\u001b[0;34m(\u001b[0m\u001b[0max\u001b[0m\u001b[0;34m)\u001b[0m\u001b[0;34m\u001b[0m\u001b[0m\n\u001b[1;32m    551\u001b[0m         \u001b[0;32mif\u001b[0m \u001b[0mself\u001b[0m\u001b[0;34m.\u001b[0m\u001b[0morient\u001b[0m \u001b[0;34m==\u001b[0m \u001b[0;34m\"h\"\u001b[0m\u001b[0;34m:\u001b[0m\u001b[0;34m\u001b[0m\u001b[0m\n",
          "\u001b[0;32m~/code/perso/data-science-exercises/venv/lib/python3.5/site-packages/seaborn/categorical.py\u001b[0m in \u001b[0;36mdraw_boxplot\u001b[0;34m(self, ax, kws)\u001b[0m\n\u001b[1;32m    484\u001b[0m                                          \u001b[0mpositions\u001b[0m\u001b[0;34m=\u001b[0m\u001b[0;34m[\u001b[0m\u001b[0mi\u001b[0m\u001b[0;34m]\u001b[0m\u001b[0;34m,\u001b[0m\u001b[0;34m\u001b[0m\u001b[0m\n\u001b[1;32m    485\u001b[0m                                          \u001b[0mwidths\u001b[0m\u001b[0;34m=\u001b[0m\u001b[0mself\u001b[0m\u001b[0;34m.\u001b[0m\u001b[0mwidth\u001b[0m\u001b[0;34m,\u001b[0m\u001b[0;34m\u001b[0m\u001b[0m\n\u001b[0;32m--> 486\u001b[0;31m                                          **kws)\n\u001b[0m\u001b[1;32m    487\u001b[0m                 \u001b[0mcolor\u001b[0m \u001b[0;34m=\u001b[0m \u001b[0mself\u001b[0m\u001b[0;34m.\u001b[0m\u001b[0mcolors\u001b[0m\u001b[0;34m[\u001b[0m\u001b[0mi\u001b[0m\u001b[0;34m]\u001b[0m\u001b[0;34m\u001b[0m\u001b[0m\n\u001b[1;32m    488\u001b[0m                 \u001b[0mself\u001b[0m\u001b[0;34m.\u001b[0m\u001b[0mrestyle_boxplot\u001b[0m\u001b[0;34m(\u001b[0m\u001b[0martist_dict\u001b[0m\u001b[0;34m,\u001b[0m \u001b[0mcolor\u001b[0m\u001b[0;34m,\u001b[0m \u001b[0mprops\u001b[0m\u001b[0;34m)\u001b[0m\u001b[0;34m\u001b[0m\u001b[0m\n",
          "\u001b[0;32m~/code/perso/data-science-exercises/venv/lib/python3.5/site-packages/matplotlib/__init__.py\u001b[0m in \u001b[0;36minner\u001b[0;34m(ax, *args, **kwargs)\u001b[0m\n\u001b[1;32m   1865\u001b[0m                         \u001b[0;34m\"the Matplotlib list!)\"\u001b[0m \u001b[0;34m%\u001b[0m \u001b[0;34m(\u001b[0m\u001b[0mlabel_namer\u001b[0m\u001b[0;34m,\u001b[0m \u001b[0mfunc\u001b[0m\u001b[0;34m.\u001b[0m\u001b[0m__name__\u001b[0m\u001b[0;34m)\u001b[0m\u001b[0;34m,\u001b[0m\u001b[0;34m\u001b[0m\u001b[0m\n\u001b[1;32m   1866\u001b[0m                         RuntimeWarning, stacklevel=2)\n\u001b[0;32m-> 1867\u001b[0;31m             \u001b[0;32mreturn\u001b[0m \u001b[0mfunc\u001b[0m\u001b[0;34m(\u001b[0m\u001b[0max\u001b[0m\u001b[0;34m,\u001b[0m \u001b[0;34m*\u001b[0m\u001b[0margs\u001b[0m\u001b[0;34m,\u001b[0m \u001b[0;34m**\u001b[0m\u001b[0mkwargs\u001b[0m\u001b[0;34m)\u001b[0m\u001b[0;34m\u001b[0m\u001b[0m\n\u001b[0m\u001b[1;32m   1868\u001b[0m \u001b[0;34m\u001b[0m\u001b[0m\n\u001b[1;32m   1869\u001b[0m         inner.__doc__ = _add_data_doc(inner.__doc__,\n",
          "\u001b[0;32m~/code/perso/data-science-exercises/venv/lib/python3.5/site-packages/matplotlib/axes/_axes.py\u001b[0m in \u001b[0;36mboxplot\u001b[0;34m(self, x, notch, sym, vert, whis, positions, widths, patch_artist, bootstrap, usermedians, conf_intervals, meanline, showmeans, showcaps, showbox, showfliers, boxprops, labels, flierprops, medianprops, meanprops, capprops, whiskerprops, manage_xticks, autorange, zorder)\u001b[0m\n\u001b[1;32m   3569\u001b[0m \u001b[0;34m\u001b[0m\u001b[0m\n\u001b[1;32m   3570\u001b[0m         bxpstats = cbook.boxplot_stats(x, whis=whis, bootstrap=bootstrap,\n\u001b[0;32m-> 3571\u001b[0;31m                                        labels=labels, autorange=autorange)\n\u001b[0m\u001b[1;32m   3572\u001b[0m         \u001b[0;32mif\u001b[0m \u001b[0mnotch\u001b[0m \u001b[0;32mis\u001b[0m \u001b[0;32mNone\u001b[0m\u001b[0;34m:\u001b[0m\u001b[0;34m\u001b[0m\u001b[0m\n\u001b[1;32m   3573\u001b[0m             \u001b[0mnotch\u001b[0m \u001b[0;34m=\u001b[0m \u001b[0mrcParams\u001b[0m\u001b[0;34m[\u001b[0m\u001b[0;34m'boxplot.notch'\u001b[0m\u001b[0;34m]\u001b[0m\u001b[0;34m\u001b[0m\u001b[0m\n",
          "\u001b[0;32m~/code/perso/data-science-exercises/venv/lib/python3.5/site-packages/matplotlib/cbook/__init__.py\u001b[0m in \u001b[0;36mboxplot_stats\u001b[0;34m(X, whis, bootstrap, labels, autorange)\u001b[0m\n\u001b[1;32m   1841\u001b[0m \u001b[0;34m\u001b[0m\u001b[0m\n\u001b[1;32m   1842\u001b[0m         \u001b[0;31m# arithmetic mean\u001b[0m\u001b[0;34m\u001b[0m\u001b[0;34m\u001b[0m\u001b[0m\n\u001b[0;32m-> 1843\u001b[0;31m         \u001b[0mstats\u001b[0m\u001b[0;34m[\u001b[0m\u001b[0;34m'mean'\u001b[0m\u001b[0;34m]\u001b[0m \u001b[0;34m=\u001b[0m \u001b[0mnp\u001b[0m\u001b[0;34m.\u001b[0m\u001b[0mmean\u001b[0m\u001b[0;34m(\u001b[0m\u001b[0mx\u001b[0m\u001b[0;34m)\u001b[0m\u001b[0;34m\u001b[0m\u001b[0m\n\u001b[0m\u001b[1;32m   1844\u001b[0m \u001b[0;34m\u001b[0m\u001b[0m\n\u001b[1;32m   1845\u001b[0m         \u001b[0;31m# medians and quartiles\u001b[0m\u001b[0;34m\u001b[0m\u001b[0;34m\u001b[0m\u001b[0m\n",
          "\u001b[0;32m~/code/perso/data-science-exercises/venv/lib/python3.5/site-packages/numpy/core/fromnumeric.py\u001b[0m in \u001b[0;36mmean\u001b[0;34m(a, axis, dtype, out, keepdims)\u001b[0m\n\u001b[1;32m   2918\u001b[0m \u001b[0;34m\u001b[0m\u001b[0m\n\u001b[1;32m   2919\u001b[0m     return _methods._mean(a, axis=axis, dtype=dtype,\n\u001b[0;32m-> 2920\u001b[0;31m                           out=out, **kwargs)\n\u001b[0m\u001b[1;32m   2921\u001b[0m \u001b[0;34m\u001b[0m\u001b[0m\n\u001b[1;32m   2922\u001b[0m \u001b[0;34m\u001b[0m\u001b[0m\n",
          "\u001b[0;32m~/code/perso/data-science-exercises/venv/lib/python3.5/site-packages/numpy/core/_methods.py\u001b[0m in \u001b[0;36m_mean\u001b[0;34m(a, axis, dtype, out, keepdims)\u001b[0m\n\u001b[1;32m     73\u001b[0m             \u001b[0mis_float16_result\u001b[0m \u001b[0;34m=\u001b[0m \u001b[0;32mTrue\u001b[0m\u001b[0;34m\u001b[0m\u001b[0m\n\u001b[1;32m     74\u001b[0m \u001b[0;34m\u001b[0m\u001b[0m\n\u001b[0;32m---> 75\u001b[0;31m     \u001b[0mret\u001b[0m \u001b[0;34m=\u001b[0m \u001b[0mumr_sum\u001b[0m\u001b[0;34m(\u001b[0m\u001b[0marr\u001b[0m\u001b[0;34m,\u001b[0m \u001b[0maxis\u001b[0m\u001b[0;34m,\u001b[0m \u001b[0mdtype\u001b[0m\u001b[0;34m,\u001b[0m \u001b[0mout\u001b[0m\u001b[0;34m,\u001b[0m \u001b[0mkeepdims\u001b[0m\u001b[0;34m)\u001b[0m\u001b[0;34m\u001b[0m\u001b[0m\n\u001b[0m\u001b[1;32m     76\u001b[0m     \u001b[0;32mif\u001b[0m \u001b[0misinstance\u001b[0m\u001b[0;34m(\u001b[0m\u001b[0mret\u001b[0m\u001b[0;34m,\u001b[0m \u001b[0mmu\u001b[0m\u001b[0;34m.\u001b[0m\u001b[0mndarray\u001b[0m\u001b[0;34m)\u001b[0m\u001b[0;34m:\u001b[0m\u001b[0;34m\u001b[0m\u001b[0m\n\u001b[1;32m     77\u001b[0m         ret = um.true_divide(\n",
          "\u001b[0;31mTypeError\u001b[0m: cannot perform reduce with flexible type"
         ]
        }
       ]
      }
     },
     "48a5a32c6cad4f3e9aecd2f5ad067c2b": {
      "model_module": "@jupyter-widgets/controls",
      "model_module_version": "1.4.0",
      "model_name": "DescriptionStyleModel",
      "state": {
       "description_width": ""
      }
     },
     "48b5d5bcb16d4c10a3803682d0f3034d": {
      "model_module": "@jupyter-widgets/base",
      "model_module_version": "1.1.0",
      "model_name": "LayoutModel",
      "state": {}
     },
     "4900e7fcc31f4528b6649fa4332a3d90": {
      "model_module": "@jupyter-widgets/controls",
      "model_module_version": "1.4.0",
      "model_name": "HBoxModel",
      "state": {
       "children": [
        "IPY_MODEL_039bd64dffd5428fb7c8d18e41aa47e1"
       ],
       "layout": "IPY_MODEL_54e75cdfee9346658938d9bebc272038"
      }
     },
     "4928737907d94ad085ba2e145593f7e9": {
      "model_module": "@jupyter-widgets/controls",
      "model_module_version": "1.4.0",
      "model_name": "CheckboxModel",
      "state": {
       "description": "scatter",
       "disabled": false,
       "layout": "IPY_MODEL_050d277de89941a0afdb23a7653f0e30",
       "style": "IPY_MODEL_71b26b464f5348b88c00ae3e491233fb",
       "value": false
      }
     },
     "492a5c5a86a041ad903a40b65003bb3d": {
      "model_module": "@jupyter-widgets/base",
      "model_module_version": "1.1.0",
      "model_name": "LayoutModel",
      "state": {}
     },
     "49310cd480944e2bbbfc7c1020ae70a4": {
      "model_module": "@jupyter-widgets/base",
      "model_module_version": "1.1.0",
      "model_name": "LayoutModel",
      "state": {}
     },
     "49768f85f3634846b34e8888787aa78b": {
      "model_module": "@jupyter-widgets/controls",
      "model_module_version": "1.4.0",
      "model_name": "FloatTextModel",
      "state": {
       "description": "y_jitter",
       "layout": "IPY_MODEL_4e1a36a285d24de5a87257efc16b8d05",
       "step": null,
       "style": "IPY_MODEL_268e77c9e6a141628f93612a836991a5",
       "value": 1
      }
     },
     "49c97db9ce2a4289999aac188458f182": {
      "model_module": "@jupyter-widgets/base",
      "model_module_version": "1.1.0",
      "model_name": "LayoutModel",
      "state": {}
     },
     "49e9f60741f44582aa461fbf4ab9e888": {
      "model_module": "@jupyter-widgets/controls",
      "model_module_version": "1.4.0",
      "model_name": "CheckboxModel",
      "state": {
       "description": "logx",
       "disabled": false,
       "layout": "IPY_MODEL_989acb7747944851b8d061b84f08b853",
       "style": "IPY_MODEL_209424973b8e4f82bcf9360d071ce9e3",
       "value": false
      }
     },
     "4a21aa6d6be845878a10583f468b0571": {
      "model_module": "@jupyter-widgets/controls",
      "model_module_version": "1.4.0",
      "model_name": "DescriptionStyleModel",
      "state": {
       "description_width": ""
      }
     },
     "4a387d69861144b88d5d4a224363fcfe": {
      "model_module": "@jupyter-widgets/controls",
      "model_module_version": "1.4.0",
      "model_name": "DropdownModel",
      "state": {
       "_options_labels": [
        "Acceleration",
        "Cylinders",
        "Displacement",
        "Horsepower",
        "Miles_per_Gallon",
        "Name",
        "Origin",
        "Weight_in_lbs",
        "Year"
       ],
       "description": "data2",
       "index": 0,
       "layout": "IPY_MODEL_38042cb48d72490aa5fed0f7fa68708c",
       "style": "IPY_MODEL_aa15861e0c3e4c47b15e2eb4247d917e"
      }
     },
     "4a693834d5e146de927af6412a422691": {
      "model_module": "@jupyter-widgets/controls",
      "model_module_version": "1.4.0",
      "model_name": "ButtonModel",
      "state": {
       "description": "remove",
       "layout": "IPY_MODEL_ce9c947d18b84e139ccd75174165ac33",
       "style": "IPY_MODEL_643117722cb642a2b909d1f83ea6e785"
      }
     },
     "4a6b402aff6946b6885b17c66f1b391f": {
      "model_module": "@jupyter-widgets/controls",
      "model_module_version": "1.4.0",
      "model_name": "HBoxModel",
      "state": {
       "children": [
        "IPY_MODEL_0027c47413ee402595c0a0caf4567175",
        "IPY_MODEL_ca08520c9eec459db6007cef9ead025a"
       ],
       "layout": "IPY_MODEL_fbb71218a3f047589ce56ec5c5e22c8a"
      }
     },
     "4a7468138d3e456ead9aa042e2ce3017": {
      "model_module": "@jupyter-widgets/controls",
      "model_module_version": "1.4.0",
      "model_name": "LabelModel",
      "state": {
       "layout": "IPY_MODEL_a2fb590512164e1abbf3e569b07ad80b",
       "style": "IPY_MODEL_f5dfa5aea2f14deca4d3e06a075a6297",
       "value": "---"
      }
     },
     "4af0421ed0f94d08bff61e5f20f2299a": {
      "model_module": "@jupyter-widgets/base",
      "model_module_version": "1.1.0",
      "model_name": "LayoutModel",
      "state": {}
     },
     "4b02cf7786d04d63aa1abec0e24f5c6b": {
      "model_module": "@jupyter-widgets/controls",
      "model_module_version": "1.4.0",
      "model_name": "DescriptionStyleModel",
      "state": {
       "description_width": ""
      }
     },
     "4b13bc25c8ef49f3a2d0959268430cf9": {
      "model_module": "@jupyter-widgets/controls",
      "model_module_version": "1.4.0",
      "model_name": "DescriptionStyleModel",
      "state": {
       "description_width": ""
      }
     },
     "4b68af78737342b4845283f0f62171ab": {
      "model_module": "@jupyter-widgets/controls",
      "model_module_version": "1.4.0",
      "model_name": "DescriptionStyleModel",
      "state": {
       "description_width": ""
      }
     },
     "4b6a82f9dbb54765b43aa4ff8720aa37": {
      "model_module": "@jupyter-widgets/controls",
      "model_module_version": "1.4.0",
      "model_name": "DropdownModel",
      "state": {
       "_options_labels": [
        "Acceleration",
        "Cylinders",
        "Displacement",
        "Horsepower",
        "Miles_per_Gallon",
        "Name",
        "Origin",
        "Weight_in_lbs",
        "Year"
       ],
       "description": "y_partial",
       "index": 0,
       "layout": "IPY_MODEL_8528944f89404ec6827d879d5f60de78",
       "style": "IPY_MODEL_151514fe4e4c422d86f135f905426cd0"
      }
     },
     "4b78424e466246319ddd56892bd531d9": {
      "model_module": "@jupyter-widgets/base",
      "model_module_version": "1.1.0",
      "model_name": "LayoutModel",
      "state": {}
     },
     "4b9507a576534e9c9bc45864c7bb4b03": {
      "model_module": "@jupyter-widgets/controls",
      "model_module_version": "1.4.0",
      "model_name": "CheckboxModel",
      "state": {
       "description": "dropna",
       "disabled": false,
       "layout": "IPY_MODEL_b7a55f00139c4a4cb35bb7232bd4f54e",
       "style": "IPY_MODEL_7847692d7c1c4fb28634a838d0804647",
       "value": false
      }
     },
     "4b988b4bbe224d3588dc078dc2814b82": {
      "model_module": "@jupyter-widgets/controls",
      "model_module_version": "1.4.0",
      "model_name": "DescriptionStyleModel",
      "state": {
       "description_width": ""
      }
     },
     "4b9f77cb302242b1be1913b2b00b945d": {
      "model_module": "@jupyter-widgets/controls",
      "model_module_version": "1.4.0",
      "model_name": "CheckboxModel",
      "state": {
       "description": "sort",
       "disabled": false,
       "layout": "IPY_MODEL_8de6f5e9e5ea43fa84f4331294e8df9e",
       "style": "IPY_MODEL_e5d2b0cc4318400593f837ee15405135",
       "value": false
      }
     },
     "4bd178ba47b8458e826545a704b0e1b2": {
      "model_module": "@jupyter-widgets/controls",
      "model_module_version": "1.4.0",
      "model_name": "DropdownModel",
      "state": {
       "_options_labels": [
        "box",
        "quartile",
        "point",
        "stick"
       ],
       "description": "inner",
       "index": 0,
       "layout": "IPY_MODEL_1ade61fb12c0418ca128b2b0b5ac25e1",
       "style": "IPY_MODEL_3510dc3276414361be05cd82d12092ea"
      }
     },
     "4be48176736a41d8a050577883d5d9a4": {
      "model_module": "@jupyter-widgets/base",
      "model_module_version": "1.1.0",
      "model_name": "LayoutModel",
      "state": {}
     },
     "4c141de4ffc643df804f717323b6aa9e": {
      "model_module": "@jupyter-widgets/base",
      "model_module_version": "1.1.0",
      "model_name": "LayoutModel",
      "state": {}
     },
     "4c144b98e83548cb821cddcd6be44a65": {
      "model_module": "@jupyter-widgets/controls",
      "model_module_version": "1.4.0",
      "model_name": "DropdownModel",
      "state": {
       "_options_labels": [
        "Acceleration",
        "Cylinders",
        "Displacement",
        "Horsepower",
        "Miles_per_Gallon",
        "Name",
        "Origin",
        "Weight_in_lbs",
        "Year"
       ],
       "description": "y",
       "index": 0,
       "layout": "IPY_MODEL_a8a6343e75964519b9224ce099cfe131",
       "style": "IPY_MODEL_1b619fb466a84629ab054f266fe6a018"
      }
     },
     "4c26c8f2a8484694aa210e42c391b695": {
      "model_module": "@jupyter-widgets/controls",
      "model_module_version": "1.4.0",
      "model_name": "LabelModel",
      "state": {
       "layout": "IPY_MODEL_9ae6450260cb4b479e0b5da8eed92b32",
       "style": "IPY_MODEL_1837ff3501ec43c68803a845f957630a",
       "value": "---"
      }
     },
     "4c42f76dad52478d834255d0fa8bb006": {
      "model_module": "@jupyter-widgets/controls",
      "model_module_version": "1.4.0",
      "model_name": "CheckboxModel",
      "state": {
       "description": "scale_hue",
       "disabled": false,
       "layout": "IPY_MODEL_b50ac605068645bab3332844bc70e23c",
       "style": "IPY_MODEL_7b2a6052bfea44bba18bb0a0af17f6a7",
       "value": false
      }
     },
     "4c44d06f32ca40a3aaf35150ed959324": {
      "model_module": "@jupyter-widgets/controls",
      "model_module_version": "1.4.0",
      "model_name": "ButtonModel",
      "state": {
       "description": "remove",
       "layout": "IPY_MODEL_caed9d5b6abd4a91b949bbc94bf6807e",
       "style": "IPY_MODEL_3cd9b5db20cd4426892c0f9b89dd4fac"
      }
     },
     "4c59ab5fdc024e019fe6142f76d379cc": {
      "model_module": "@jupyter-widgets/base",
      "model_module_version": "1.1.0",
      "model_name": "LayoutModel",
      "state": {}
     },
     "4c7c286c6f2b40d0ba2a41241e009f01": {
      "model_module": "@jupyter-widgets/controls",
      "model_module_version": "1.4.0",
      "model_name": "DescriptionStyleModel",
      "state": {
       "description_width": ""
      }
     },
     "4c7e9bff8d73473d8c19648e8b38535b": {
      "model_module": "@jupyter-widgets/controls",
      "model_module_version": "1.4.0",
      "model_name": "DropdownModel",
      "state": {
       "_options_labels": [
        "row",
        "col",
        "True"
       ],
       "description": "sharex",
       "index": 0,
       "layout": "IPY_MODEL_29729fe8c87a4b8081ea77d20944c2fa",
       "style": "IPY_MODEL_55b5607c375041d29ff4e290b91ba437"
      }
     },
     "4ca4cf9948d84f2f81033ade8e4d5e47": {
      "model_module": "@jupyter-widgets/base",
      "model_module_version": "1.1.0",
      "model_name": "LayoutModel",
      "state": {}
     },
     "4cd754f206684da2afc0d65769248970": {
      "model_module": "@jupyter-widgets/controls",
      "model_module_version": "1.4.0",
      "model_name": "CheckboxModel",
      "state": {
       "description": "norm_hist",
       "disabled": false,
       "layout": "IPY_MODEL_4dcc9587954f4b83a46f6ed8639883e3",
       "style": "IPY_MODEL_2fdd2488502e400ba026f6db8b386aa6",
       "value": false
      }
     },
     "4cef8cf0f8d448ac8ee7e5c3b235211f": {
      "model_module": "@jupyter-widgets/base",
      "model_module_version": "1.1.0",
      "model_name": "LayoutModel",
      "state": {}
     },
     "4d774e7629d945b4826c13819cc862d1": {
      "model_module": "@jupyter-widgets/controls",
      "model_module_version": "1.4.0",
      "model_name": "DescriptionStyleModel",
      "state": {
       "description_width": ""
      }
     },
     "4d9cabc0b7e441e0adc0d9e141b38929": {
      "model_module": "@jupyter-widgets/controls",
      "model_module_version": "1.4.0",
      "model_name": "DescriptionStyleModel",
      "state": {
       "description_width": ""
      }
     },
     "4dabbfbe84cf46dd856d7409b487bb2d": {
      "model_module": "@jupyter-widgets/base",
      "model_module_version": "1.1.0",
      "model_name": "LayoutModel",
      "state": {}
     },
     "4dac7adc89874a328549c3318b035dc3": {
      "model_module": "@jupyter-widgets/base",
      "model_module_version": "1.1.0",
      "model_name": "LayoutModel",
      "state": {}
     },
     "4dada54beefa4bc4ae0da4e9dfff71f4": {
      "model_module": "@jupyter-widgets/base",
      "model_module_version": "1.1.0",
      "model_name": "LayoutModel",
      "state": {}
     },
     "4daf9af9972c4364b95c2f881fba9170": {
      "model_module": "@jupyter-widgets/controls",
      "model_module_version": "1.4.0",
      "model_name": "FloatTextModel",
      "state": {
       "description": "aspect",
       "layout": "IPY_MODEL_9a6ae8ba218c4f19a4221676e494ad2a",
       "step": null,
       "style": "IPY_MODEL_84362cb84ac64972b378adb8a22db7a1",
       "value": 1
      }
     },
     "4db19877eaaa4704a88fe85dd066d9eb": {
      "model_module": "@jupyter-widgets/controls",
      "model_module_version": "1.4.0",
      "model_name": "DropdownModel",
      "state": {
       "_options_labels": [
        "Acceleration",
        "Cylinders",
        "Displacement",
        "Horsepower",
        "Miles_per_Gallon",
        "Name",
        "Origin",
        "Weight_in_lbs",
        "Year"
       ],
       "description": "style",
       "index": 0,
       "layout": "IPY_MODEL_c8d15b78f292460c9b9ee0f9eca3279e",
       "style": "IPY_MODEL_01144fd2a5f64d89a5bc1ac8502f8f7b"
      }
     },
     "4dcc38178a4d45528df71eb50c893bc9": {
      "model_module": "@jupyter-widgets/base",
      "model_module_version": "1.1.0",
      "model_name": "LayoutModel",
      "state": {}
     },
     "4dcc9587954f4b83a46f6ed8639883e3": {
      "model_module": "@jupyter-widgets/base",
      "model_module_version": "1.1.0",
      "model_name": "LayoutModel",
      "state": {}
     },
     "4dfab4cd747f42bbb2da6c29ee31e9c7": {
      "model_module": "@jupyter-widgets/base",
      "model_module_version": "1.1.0",
      "model_name": "LayoutModel",
      "state": {}
     },
     "4e13a99929ed4c168d9e438d4806f7a7": {
      "model_module": "@jupyter-widgets/controls",
      "model_module_version": "1.4.0",
      "model_name": "DropdownModel",
      "state": {
       "_options_labels": [
        "v",
        "h"
       ],
       "description": "orient",
       "index": 0,
       "layout": "IPY_MODEL_7d680b0b32124c1a9ddf0a04a1554064",
       "style": "IPY_MODEL_90e82335f02e4f08ba098f5c0e0c12c9"
      }
     },
     "4e1a36a285d24de5a87257efc16b8d05": {
      "model_module": "@jupyter-widgets/base",
      "model_module_version": "1.1.0",
      "model_name": "LayoutModel",
      "state": {}
     },
     "4e3d88a260c64bb1b01d2ee12d941a18": {
      "model_module": "@jupyter-widgets/controls",
      "model_module_version": "1.4.0",
      "model_name": "ButtonModel",
      "state": {
       "description": "remove",
       "layout": "IPY_MODEL_e3b05f03358440dc817070da22131a01",
       "style": "IPY_MODEL_ac0a0eb3b2d4442ab3d872bda3393700"
      }
     },
     "4e99012960c845b084e621c95f2c8ed4": {
      "model_module": "@jupyter-widgets/controls",
      "model_module_version": "1.4.0",
      "model_name": "ButtonModel",
      "state": {
       "description": "remove",
       "layout": "IPY_MODEL_8d344ce46d5c49e3988015104858e4c9",
       "style": "IPY_MODEL_9e93a052054141a09aa125ee78390575"
      }
     },
     "4ed79f3677434d25b4dcbcb51db9d00f": {
      "model_module": "@jupyter-widgets/controls",
      "model_module_version": "1.4.0",
      "model_name": "DescriptionStyleModel",
      "state": {
       "description_width": ""
      }
     },
     "4eda5a9350bc42fe8dbb255dc8f75336": {
      "model_module": "@jupyter-widgets/controls",
      "model_module_version": "1.4.0",
      "model_name": "DescriptionStyleModel",
      "state": {
       "description_width": ""
      }
     },
     "4f44a30dd58742fd8890e78bd6a9eda6": {
      "model_module": "@jupyter-widgets/controls",
      "model_module_version": "1.4.0",
      "model_name": "DropdownModel",
      "state": {
       "_options_labels": [
        "False",
        "full",
        "brief"
       ],
       "description": "legend",
       "index": 0,
       "layout": "IPY_MODEL_784b5ed396194db6988fb95b06988c78",
       "style": "IPY_MODEL_391933adb6ff4bfca4e64d4157b3ce8f"
      }
     },
     "4f4cfd0cd12d41f2b6d134f95415ab41": {
      "model_module": "@jupyter-widgets/base",
      "model_module_version": "1.1.0",
      "model_name": "LayoutModel",
      "state": {}
     },
     "4f851a28b11446b289b98a595e99563b": {
      "model_module": "@jupyter-widgets/controls",
      "model_module_version": "1.4.0",
      "model_name": "DescriptionStyleModel",
      "state": {
       "description_width": ""
      }
     },
     "4f95a006746f48dc87baf6ad46199d2b": {
      "model_module": "@jupyter-widgets/base",
      "model_module_version": "1.1.0",
      "model_name": "LayoutModel",
      "state": {}
     },
     "4fbd60b8612142b7ae874b5a04477032": {
      "model_module": "@jupyter-widgets/controls",
      "model_module_version": "1.4.0",
      "model_name": "DropdownModel",
      "state": {
       "_options_labels": [
        "gau",
        "cos",
        "biw",
        "epa",
        "tri",
        "triw"
       ],
       "description": "kernel",
       "index": 0,
       "layout": "IPY_MODEL_f6d8a4a8293342f09416bbf6e82a1c6d",
       "style": "IPY_MODEL_26784506dcdd41c29069b751a960397c"
      }
     },
     "4ff727e33fb54419a9b36d7dcab84dc0": {
      "model_module": "@jupyter-widgets/controls",
      "model_module_version": "1.4.0",
      "model_name": "LabelModel",
      "state": {
       "layout": "IPY_MODEL_163f1553f6784fd095999c6e811cb0ef",
       "style": "IPY_MODEL_930ca841f2ac4453a46ce6238b8968ac",
       "value": "---"
      }
     },
     "50140e43d09d4c09b6df2d9db2d2e9e8": {
      "model_module": "@jupyter-widgets/controls",
      "model_module_version": "1.4.0",
      "model_name": "DropdownModel",
      "state": {
       "_options_labels": [
        "o",
        "v",
        "^",
        "<",
        ">",
        "8",
        "s",
        "p",
        "*",
        "h",
        "H",
        "D",
        "d",
        "P",
        "X"
       ],
       "description": "marker",
       "index": 0,
       "layout": "IPY_MODEL_951eaae4af1d4a8ca9eaf49d5790556c",
       "style": "IPY_MODEL_c965d8ed64104da997606d29658e2875"
      }
     },
     "50ed9f021f7c4b649dada565f7eaa03b": {
      "model_module": "@jupyter-widgets/controls",
      "model_module_version": "1.4.0",
      "model_name": "SliderStyleModel",
      "state": {
       "description_width": ""
      }
     },
     "50f72fa6100045e6b08a50768e857a2a": {
      "model_module": "@jupyter-widgets/controls",
      "model_module_version": "1.4.0",
      "model_name": "IntTextModel",
      "state": {
       "description": "space",
       "layout": "IPY_MODEL_5bcf5b3322a3430c92997d485aa1d328",
       "step": 1,
       "style": "IPY_MODEL_4b13bc25c8ef49f3a2d0959268430cf9",
       "value": 1
      }
     },
     "50f87aba358b46fdb22389e8abba71b4": {
      "model_module": "@jupyter-widgets/controls",
      "model_module_version": "1.4.0",
      "model_name": "DescriptionStyleModel",
      "state": {
       "description_width": ""
      }
     },
     "5119c56814534572b51f8f4c6469bbb0": {
      "model_module": "@jupyter-widgets/base",
      "model_module_version": "1.1.0",
      "model_name": "LayoutModel",
      "state": {}
     },
     "5124b527f61e492faa7cea40c7ff7f0d": {
      "model_module": "@jupyter-widgets/controls",
      "model_module_version": "1.4.0",
      "model_name": "LabelModel",
      "state": {
       "layout": "IPY_MODEL_e9c2a8cc6e7f47f88f80626981502ee4",
       "style": "IPY_MODEL_8d6b41b837a74dafa3760944fd91c873",
       "value": "---"
      }
     },
     "517e0d23458349a898bc7d5a31639810": {
      "model_module": "@jupyter-widgets/controls",
      "model_module_version": "1.4.0",
      "model_name": "FloatTextModel",
      "state": {
       "description": "saturation",
       "layout": "IPY_MODEL_fb792155919a43b190b840b4ffabfe44",
       "step": null,
       "style": "IPY_MODEL_d553b0bf809d449086cec7a4631610f1",
       "value": 0.5
      }
     },
     "5201b1de52924fc5b40e3c52a32e76ff": {
      "model_module": "@jupyter-widgets/base",
      "model_module_version": "1.1.0",
      "model_name": "LayoutModel",
      "state": {}
     },
     "523633ba5d564224a5e4b101e13df5b0": {
      "model_module": "@jupyter-widgets/base",
      "model_module_version": "1.1.0",
      "model_name": "LayoutModel",
      "state": {}
     },
     "523cbd7e18a24851bb9a6abee8e81a22": {
      "model_module": "@jupyter-widgets/controls",
      "model_module_version": "1.4.0",
      "model_name": "DropdownModel",
      "state": {
       "_options_labels": [
        "proportion",
        "tukey",
        "trustworthy"
       ],
       "description": "k_depth",
       "index": 0,
       "layout": "IPY_MODEL_0590c95b817f44449875fb8de1540f5e",
       "style": "IPY_MODEL_233dcaec51134140ac8de699d3b8a528"
      }
     },
     "527a6afda6d04f9a825b7a6ffaae55e1": {
      "model_module": "@jupyter-widgets/base",
      "model_module_version": "1.1.0",
      "model_name": "LayoutModel",
      "state": {}
     },
     "527c403752914f5d941503d6e69648cc": {
      "model_module": "@jupyter-widgets/base",
      "model_module_version": "1.1.0",
      "model_name": "LayoutModel",
      "state": {}
     },
     "53052c5f35dc4555a874d8e883790bd1": {
      "model_module": "@jupyter-widgets/controls",
      "model_module_version": "1.4.0",
      "model_name": "DescriptionStyleModel",
      "state": {
       "description_width": ""
      }
     },
     "53289a29076a47bcaa6de4ffd6349555": {
      "model_module": "@jupyter-widgets/controls",
      "model_module_version": "1.4.0",
      "model_name": "DescriptionStyleModel",
      "state": {
       "description_width": ""
      }
     },
     "536c14db615346f9baf9545c42d8402f": {
      "model_module": "@jupyter-widgets/controls",
      "model_module_version": "1.4.0",
      "model_name": "HBoxModel",
      "state": {
       "children": [
        "IPY_MODEL_f6879d9d6e4c41b6b8407fabf9642ff0",
        "IPY_MODEL_ee1f3d8e9191438c81d858ed1f028a0b"
       ],
       "layout": "IPY_MODEL_3df8dc34a6174f108915a79728d63c54"
      }
     },
     "5388387bf24a46ae9012b4b89e2a14d8": {
      "model_module": "@jupyter-widgets/base",
      "model_module_version": "1.1.0",
      "model_name": "LayoutModel",
      "state": {}
     },
     "5456d0cb5c064a899fafb0def777fa4e": {
      "model_module": "@jupyter-widgets/base",
      "model_module_version": "1.1.0",
      "model_name": "LayoutModel",
      "state": {}
     },
     "545961c287254ed6b8bd8d8a30d7cadd": {
      "model_module": "@jupyter-widgets/controls",
      "model_module_version": "1.4.0",
      "model_name": "FloatSliderModel",
      "state": {
       "description": "alpha",
       "layout": "IPY_MODEL_f837caa27e9c4817bebad0361c7ac750",
       "max": 1,
       "step": 0.05,
       "style": "IPY_MODEL_fbd00d992f964c86b456fa3138b2baaf"
      }
     },
     "5468f47b7e114d6297de1a0516ee2c0f": {
      "model_module": "@jupyter-widgets/controls",
      "model_module_version": "1.4.0",
      "model_name": "DescriptionStyleModel",
      "state": {
       "description_width": ""
      }
     },
     "54786e204fb641ad860afe5ce3206f0d": {
      "model_module": "@jupyter-widgets/controls",
      "model_module_version": "1.4.0",
      "model_name": "FloatTextModel",
      "state": {
       "description": "linewidths",
       "layout": "IPY_MODEL_8b9eb88557844cbe9f57f6cdc70d51d4",
       "step": null,
       "style": "IPY_MODEL_5d5c7aa97e7f49abae62c5f3d36870dd",
       "value": 1
      }
     },
     "54b6cb983b714fb693b5ab0fa9c87f7b": {
      "model_module": "@jupyter-widgets/controls",
      "model_module_version": "1.4.0",
      "model_name": "DescriptionStyleModel",
      "state": {
       "description_width": ""
      }
     },
     "54e75cdfee9346658938d9bebc272038": {
      "model_module": "@jupyter-widgets/base",
      "model_module_version": "1.1.0",
      "model_name": "LayoutModel",
      "state": {}
     },
     "5522a46baf5f458884926046cbf28843": {
      "model_module": "@jupyter-widgets/controls",
      "model_module_version": "1.4.0",
      "model_name": "DropdownModel",
      "state": {
       "_options_labels": [
        "scatter",
        "reg",
        "resid",
        "kde",
        "hex"
       ],
       "description": "kind",
       "index": 0,
       "layout": "IPY_MODEL_ca8acfc9cd6141cd8c5379ab2822c20b",
       "style": "IPY_MODEL_8425f4a5b29e43248f355f84c56b958e"
      }
     },
     "55691c1e8d484a9695a824f53a4f5447": {
      "model_module": "@jupyter-widgets/controls",
      "model_module_version": "1.4.0",
      "model_name": "IntTextModel",
      "state": {
       "description": "ratio",
       "layout": "IPY_MODEL_af1b3d01586247c6805ef6d7560b3246",
       "step": 1,
       "style": "IPY_MODEL_81a69587e58b4c23924b660161b3ff45",
       "value": 1
      }
     },
     "556c64086b5641769fdaac2911c006fd": {
      "model_module": "@jupyter-widgets/controls",
      "model_module_version": "1.4.0",
      "model_name": "DescriptionStyleModel",
      "state": {
       "description_width": ""
      }
     },
     "55ab39dc3ea9472784ebde41ec63e31c": {
      "model_module": "@jupyter-widgets/base",
      "model_module_version": "1.1.0",
      "model_name": "LayoutModel",
      "state": {}
     },
     "55b5607c375041d29ff4e290b91ba437": {
      "model_module": "@jupyter-widgets/controls",
      "model_module_version": "1.4.0",
      "model_name": "DescriptionStyleModel",
      "state": {
       "description_width": ""
      }
     },
     "55fe3f2f79944582b6457492cea3d76d": {
      "model_module": "@jupyter-widgets/base",
      "model_module_version": "1.1.0",
      "model_name": "LayoutModel",
      "state": {}
     },
     "563034c1074d41529ba75c1ad244782e": {
      "model_module": "@jupyter-widgets/controls",
      "model_module_version": "1.4.0",
      "model_name": "DescriptionStyleModel",
      "state": {
       "description_width": ""
      }
     },
     "568377e7379548a5b175eec3c55c0197": {
      "model_module": "@jupyter-widgets/controls",
      "model_module_version": "1.4.0",
      "model_name": "DescriptionStyleModel",
      "state": {
       "description_width": ""
      }
     },
     "5690228c463946dfb6f2579bef2f240d": {
      "model_module": "@jupyter-widgets/controls",
      "model_module_version": "1.4.0",
      "model_name": "DescriptionStyleModel",
      "state": {
       "description_width": ""
      }
     },
     "56b42bd5ac28486fba1953810fb0c217": {
      "model_module": "@jupyter-widgets/base",
      "model_module_version": "1.1.0",
      "model_name": "LayoutModel",
      "state": {}
     },
     "56c7800b0e074fb7b952e7f85f713061": {
      "model_module": "@jupyter-widgets/controls",
      "model_module_version": "1.4.0",
      "model_name": "DescriptionStyleModel",
      "state": {
       "description_width": ""
      }
     },
     "56fec25da34a4c60b69e6c74c37af115": {
      "model_module": "@jupyter-widgets/base",
      "model_module_version": "1.1.0",
      "model_name": "LayoutModel",
      "state": {}
     },
     "575ec00a3d5a433d874325ea7bad5328": {
      "model_module": "@jupyter-widgets/base",
      "model_module_version": "1.1.0",
      "model_name": "LayoutModel",
      "state": {}
     },
     "5761d7beabf545d19670a67f9cc52395": {
      "model_module": "@jupyter-widgets/base",
      "model_module_version": "1.1.0",
      "model_name": "LayoutModel",
      "state": {}
     },
     "577d0ab892c5410a86932e720e8db96a": {
      "model_module": "@jupyter-widgets/base",
      "model_module_version": "1.1.0",
      "model_name": "LayoutModel",
      "state": {}
     },
     "5827adcc46ff424e8f75b6790bda77ec": {
      "model_module": "@jupyter-widgets/controls",
      "model_module_version": "1.4.0",
      "model_name": "CheckboxModel",
      "state": {
       "description": "join",
       "disabled": false,
       "layout": "IPY_MODEL_eca0ca02955f44fcb0c32f9d8cf74163",
       "style": "IPY_MODEL_6eddf872f6c64682971fa203b87195ea",
       "value": false
      }
     },
     "582a5c1b2e5a411a90ddd2be9b2365a8": {
      "model_module": "@jupyter-widgets/controls",
      "model_module_version": "1.4.0",
      "model_name": "CheckboxModel",
      "state": {
       "description": "auto-update",
       "disabled": false,
       "layout": "IPY_MODEL_a3119459011945f4bf7fe6ae4a22d7dc",
       "style": "IPY_MODEL_e9a8f8b2ed9840bd95c978b4d9c4d825",
       "value": true
      }
     },
     "5832f99562484e51a2651e0c686786fd": {
      "model_module": "@jupyter-widgets/controls",
      "model_module_version": "1.4.0",
      "model_name": "ButtonModel",
      "state": {
       "description": "remove",
       "layout": "IPY_MODEL_ce0530a209e34be1bae7425880e81018",
       "style": "IPY_MODEL_3841498e305c47428ceead46c157e8f3"
      }
     },
     "584b15f468e44854808c1e0a24f40c39": {
      "model_module": "@jupyter-widgets/base",
      "model_module_version": "1.1.0",
      "model_name": "LayoutModel",
      "state": {}
     },
     "586c713a30c34490961d8d18778d7136": {
      "model_module": "@jupyter-widgets/base",
      "model_module_version": "1.1.0",
      "model_name": "LayoutModel",
      "state": {}
     },
     "58795155f7324d0cab07cc0d05ec76e0": {
      "model_module": "@jupyter-widgets/controls",
      "model_module_version": "1.4.0",
      "model_name": "HBoxModel",
      "state": {
       "children": [
        "IPY_MODEL_8e906d7b62e04458a2cce695e7931b84"
       ],
       "layout": "IPY_MODEL_6167a993aa8b4063806c88620ed9e9e7"
      }
     },
     "587dc0a389a347af92b412fc5cfe5ffa": {
      "model_module": "@jupyter-widgets/controls",
      "model_module_version": "1.4.0",
      "model_name": "ButtonModel",
      "state": {
       "description": "remove",
       "layout": "IPY_MODEL_a6a2c7addaa744b8bf8d0c9ca522f60e",
       "style": "IPY_MODEL_0e6bcb24baf748c49c3b261a08d2a4a6"
      }
     },
     "58919c3326b44ea8be6c73b79813555c": {
      "model_module": "@jupyter-widgets/controls",
      "model_module_version": "1.4.0",
      "model_name": "DropdownModel",
      "state": {
       "_options_labels": [
        "Acceleration",
        "Cylinders",
        "Displacement",
        "Horsepower",
        "Miles_per_Gallon",
        "Name",
        "Origin",
        "Weight_in_lbs",
        "Year"
       ],
       "description": "col",
       "index": 0,
       "layout": "IPY_MODEL_3e67d305c9e9433e886c3b382cfd62af",
       "style": "IPY_MODEL_f19c9b2bb206421e835adbc9fa3abdd1"
      }
     },
     "5899ac6c5004465c97c1b6e7dbd7e0a3": {
      "model_module": "@jupyter-widgets/controls",
      "model_module_version": "1.4.0",
      "model_name": "DescriptionStyleModel",
      "state": {
       "description_width": ""
      }
     },
     "58cbb4cfab6e47dc8e7dc1457ca8fa2d": {
      "model_module": "@jupyter-widgets/controls",
      "model_module_version": "1.4.0",
      "model_name": "DropdownModel",
      "state": {
       "_options_labels": [
        "scatter",
        "reg"
       ],
       "description": "kind",
       "index": 0,
       "layout": "IPY_MODEL_6cfe49c2bbcc4c26853d4eefb7f57bde",
       "style": "IPY_MODEL_ceee48f991c44cbcbd2b281338b6b444"
      }
     },
     "58cce8d61e5e4cb98d1d937e17258ea7": {
      "model_module": "@jupyter-widgets/controls",
      "model_module_version": "1.4.0",
      "model_name": "FloatTextModel",
      "state": {
       "description": "size",
       "layout": "IPY_MODEL_e27518deb63541619083af1518e33841",
       "step": null,
       "style": "IPY_MODEL_b02f9ba6c54f44fda0207b34eb919e6c",
       "value": 1
      }
     },
     "5945ccc1fb60498396a0b0a7b887410e": {
      "model_module": "@jupyter-widgets/controls",
      "model_module_version": "1.4.0",
      "model_name": "DescriptionStyleModel",
      "state": {
       "description_width": ""
      }
     },
     "5971205f00164c4e93aceee0867bcf20": {
      "model_module": "@jupyter-widgets/controls",
      "model_module_version": "1.4.0",
      "model_name": "FloatTextModel",
      "state": {
       "description": "capsize",
       "layout": "IPY_MODEL_2125e853edce4acf81c2ec9dbe3c84d3",
       "step": null,
       "style": "IPY_MODEL_0ef4d582255946498f58c5d1ae7d0dab",
       "value": 1
      }
     },
     "59948229cea34d129320002e0fb2b3e4": {
      "model_module": "@jupyter-widgets/base",
      "model_module_version": "1.1.0",
      "model_name": "LayoutModel",
      "state": {}
     },
     "5996476a04b04b8783b446ce25c1bb01": {
      "model_module": "@jupyter-widgets/base",
      "model_module_version": "1.1.0",
      "model_name": "LayoutModel",
      "state": {}
     },
     "59d0356dd2354e868b6c43fb6f176697": {
      "model_module": "@jupyter-widgets/base",
      "model_module_version": "1.1.0",
      "model_name": "LayoutModel",
      "state": {}
     },
     "59f5afbcc05f494f9d0e347f523e8ca3": {
      "model_module": "@jupyter-widgets/base",
      "model_module_version": "1.1.0",
      "model_name": "LayoutModel",
      "state": {}
     },
     "5a074377398c49b383032467286d73fa": {
      "model_module": "@jupyter-widgets/controls",
      "model_module_version": "1.4.0",
      "model_name": "ButtonModel",
      "state": {
       "description": "remove",
       "layout": "IPY_MODEL_e9538930be4044a9bd9f9c201f9ed03a",
       "style": "IPY_MODEL_7b80532d187c49759efbc94c1744194d"
      }
     },
     "5a43a15713484edfa9eb88099a47c381": {
      "model_module": "@jupyter-widgets/controls",
      "model_module_version": "1.4.0",
      "model_name": "DescriptionStyleModel",
      "state": {
       "description_width": ""
      }
     },
     "5a52c1eeadc1454aa5f99d1cc016efad": {
      "model_module": "@jupyter-widgets/base",
      "model_module_version": "1.1.0",
      "model_name": "LayoutModel",
      "state": {}
     },
     "5a88e555aa0c4c0ca5cbc6d1179eccd1": {
      "model_module": "@jupyter-widgets/controls",
      "model_module_version": "1.4.0",
      "model_name": "DescriptionStyleModel",
      "state": {
       "description_width": ""
      }
     },
     "5a94da1f5483428998eaebbe0b2ef540": {
      "model_module": "@jupyter-widgets/base",
      "model_module_version": "1.1.0",
      "model_name": "LayoutModel",
      "state": {}
     },
     "5aa948f5b18e40229150a477fdc58e0d": {
      "model_module": "@jupyter-widgets/base",
      "model_module_version": "1.1.0",
      "model_name": "LayoutModel",
      "state": {}
     },
     "5ab111254a6b45f3a416c9b8dccb0205": {
      "model_module": "@jupyter-widgets/controls",
      "model_module_version": "1.4.0",
      "model_name": "FloatTextModel",
      "state": {
       "description": "vmin",
       "layout": "IPY_MODEL_d477e743db8d45ff89e286d77eb9af52",
       "step": null,
       "style": "IPY_MODEL_53289a29076a47bcaa6de4ffd6349555",
       "value": 1
      }
     },
     "5b0ce8847498452ca332ad6ea042ca1a": {
      "model_module": "@jupyter-widgets/controls",
      "model_module_version": "1.4.0",
      "model_name": "DescriptionStyleModel",
      "state": {
       "description_width": ""
      }
     },
     "5b500fc041ad48b486bbfce92e02104d": {
      "model_module": "@jupyter-widgets/controls",
      "model_module_version": "1.4.0",
      "model_name": "HBoxModel",
      "state": {
       "children": [
        "IPY_MODEL_68cb34dff073491482ba558530ff2c9d"
       ],
       "layout": "IPY_MODEL_6914a29523c842819e80d959c5cd9351"
      }
     },
     "5b729a8d9a9e48eebdfaa3ed78dac8e8": {
      "model_module": "@jupyter-widgets/controls",
      "model_module_version": "1.4.0",
      "model_name": "CheckboxModel",
      "state": {
       "description": "fit_reg",
       "disabled": false,
       "layout": "IPY_MODEL_102b558efb804ff8891a74244642744b",
       "style": "IPY_MODEL_3c88cff22a5d4216a1c6d79e43b57c02",
       "value": false
      }
     },
     "5b82f4e92b4943cca9fedf1d7607e737": {
      "model_module": "@jupyter-widgets/controls",
      "model_module_version": "1.4.0",
      "model_name": "DescriptionStyleModel",
      "state": {
       "description_width": ""
      }
     },
     "5b924c93c96f4c22b64a87762c47cd15": {
      "model_module": "@jupyter-widgets/controls",
      "model_module_version": "1.4.0",
      "model_name": "ButtonStyleModel",
      "state": {}
     },
     "5bbd3b7db92f4324b5cd399435e1cc95": {
      "model_module": "@jupyter-widgets/controls",
      "model_module_version": "1.4.0",
      "model_name": "DescriptionStyleModel",
      "state": {
       "description_width": ""
      }
     },
     "5bcf5b3322a3430c92997d485aa1d328": {
      "model_module": "@jupyter-widgets/base",
      "model_module_version": "1.1.0",
      "model_name": "LayoutModel",
      "state": {}
     },
     "5bf8e286845945f3bed32109a78f109f": {
      "model_module": "@jupyter-widgets/controls",
      "model_module_version": "1.4.0",
      "model_name": "ButtonStyleModel",
      "state": {}
     },
     "5c3773dfc7274267b5788b84a85705ed": {
      "model_module": "@jupyter-widgets/controls",
      "model_module_version": "1.4.0",
      "model_name": "FloatTextModel",
      "state": {
       "description": "vmin",
       "layout": "IPY_MODEL_4ca4cf9948d84f2f81033ade8e4d5e47",
       "step": null,
       "style": "IPY_MODEL_d820e9c14b5a4bf79882eaa02b8d63c8",
       "value": 1
      }
     },
     "5c46106d22944f28b7259db0097060fd": {
      "model_module": "@jupyter-widgets/controls",
      "model_module_version": "1.4.0",
      "model_name": "IntTextModel",
      "state": {
       "description": "order",
       "layout": "IPY_MODEL_bd1bbd83088942d9a0c073abb84bff07",
       "step": 1,
       "style": "IPY_MODEL_b953872779034d26acb0a47734ec5d1b",
       "value": 1
      }
     },
     "5c77020a01384309a25e2f0523a1b115": {
      "model_module": "@jupyter-widgets/controls",
      "model_module_version": "1.4.0",
      "model_name": "DropdownModel",
      "state": {
       "_options_labels": [
        "Acceleration",
        "Cylinders",
        "Displacement",
        "Horsepower",
        "Miles_per_Gallon",
        "Name",
        "Origin",
        "Weight_in_lbs",
        "Year"
       ],
       "description": "x_partial",
       "index": 0,
       "layout": "IPY_MODEL_1cebfb0b939e4b5ba12f5e27f6b4fc1f",
       "style": "IPY_MODEL_18ee90d995274bb4a6e52f4af47778d8"
      }
     },
     "5c7f4e081dac45f592a67676634710d7": {
      "model_module": "@jupyter-widgets/controls",
      "model_module_version": "1.4.0",
      "model_name": "DescriptionStyleModel",
      "state": {
       "description_width": ""
      }
     },
     "5ce724bd24a54bcf836f6bbd228964ae": {
      "model_module": "@jupyter-widgets/base",
      "model_module_version": "1.1.0",
      "model_name": "LayoutModel",
      "state": {}
     },
     "5cfc980c4dec447e8e5d2b25ba6441ef": {
      "model_module": "@jupyter-widgets/controls",
      "model_module_version": "1.4.0",
      "model_name": "FloatTextModel",
      "state": {
       "description": "height",
       "layout": "IPY_MODEL_250aeb2db68c4065a353d0f29dd80da2",
       "step": null,
       "style": "IPY_MODEL_766dc86896914dcfba4d9f52c1a3b5dc",
       "value": 1
      }
     },
     "5d359cc4355d4c3697d530a315fe86d6": {
      "model_module": "@jupyter-widgets/controls",
      "model_module_version": "1.4.0",
      "model_name": "HBoxModel",
      "state": {
       "children": [
        "IPY_MODEL_5124b527f61e492faa7cea40c7ff7f0d"
       ],
       "layout": "IPY_MODEL_c4d67eb80ef74370816ba583bde222c2"
      }
     },
     "5d3bd53276ac4727bb8a84b0b08f077c": {
      "model_module": "@jupyter-widgets/controls",
      "model_module_version": "1.4.0",
      "model_name": "IntTextModel",
      "state": {
       "description": "col_wrap",
       "layout": "IPY_MODEL_0f646d19bbc040699637d7ac582f1b30",
       "step": 1,
       "style": "IPY_MODEL_bed7bfd669b54f5689669c181e1eff48",
       "value": 10
      }
     },
     "5d5c7aa97e7f49abae62c5f3d36870dd": {
      "model_module": "@jupyter-widgets/controls",
      "model_module_version": "1.4.0",
      "model_name": "DescriptionStyleModel",
      "state": {
       "description_width": ""
      }
     },
     "5d730d76350443dd944ead609ce2ccd9": {
      "model_module": "@jupyter-widgets/controls",
      "model_module_version": "1.4.0",
      "model_name": "CheckboxModel",
      "state": {
       "description": "logx",
       "disabled": false,
       "layout": "IPY_MODEL_96af3975129347c2baf60d00e6964485",
       "style": "IPY_MODEL_45d067d38bf344e6aca731a0dafb0845",
       "value": false
      }
     },
     "5d92baa0ddd14e49a3f9ac5b3cab63a9": {
      "model_module": "@jupyter-widgets/base",
      "model_module_version": "1.1.0",
      "model_name": "LayoutModel",
      "state": {}
     },
     "5db0aaf1d71b48b9ad8688d59919e64b": {
      "model_module": "@jupyter-widgets/base",
      "model_module_version": "1.1.0",
      "model_name": "LayoutModel",
      "state": {}
     },
     "5db3d0aa26b2455ea45122938c310689": {
      "model_module": "@jupyter-widgets/controls",
      "model_module_version": "1.4.0",
      "model_name": "DropdownModel",
      "state": {
       "_options_labels": [
        "row",
        "col",
        "True"
       ],
       "description": "sharex",
       "index": 0,
       "layout": "IPY_MODEL_91cbb68fdace4264977991cacadb371c",
       "style": "IPY_MODEL_469074c0d2b9452e8eebb6caff381ae0"
      }
     },
     "5dd8bcf1bad44601a257bcb6fe84f49f": {
      "model_module": "@jupyter-widgets/base",
      "model_module_version": "1.1.0",
      "model_name": "LayoutModel",
      "state": {}
     },
     "5df1a6f7314b4a40bc73841a2bfb487a": {
      "model_module": "@jupyter-widgets/controls",
      "model_module_version": "1.4.0",
      "model_name": "DescriptionStyleModel",
      "state": {
       "description_width": ""
      }
     },
     "5e20b46307c64dd1a2df7d8928a25569": {
      "model_module": "@jupyter-widgets/base",
      "model_module_version": "1.1.0",
      "model_name": "LayoutModel",
      "state": {}
     },
     "5e44a5bc99c14ae6ad197f0cd3336d5b": {
      "model_module": "@jupyter-widgets/controls",
      "model_module_version": "1.4.0",
      "model_name": "HBoxModel",
      "state": {
       "children": [
        "IPY_MODEL_650afea40f094d3f88bfd15997f555c8"
       ],
       "layout": "IPY_MODEL_20c64ee5d9b64836a05fc257a3541f66"
      }
     },
     "5e59712229964d6683bfc591fe7d9796": {
      "model_module": "@jupyter-widgets/controls",
      "model_module_version": "1.4.0",
      "model_name": "DescriptionStyleModel",
      "state": {
       "description_width": ""
      }
     },
     "5e7ee940d2a744d9b857b426498465df": {
      "model_module": "@jupyter-widgets/base",
      "model_module_version": "1.1.0",
      "model_name": "LayoutModel",
      "state": {}
     },
     "5e978ea06d0949539ef6822fba19605b": {
      "model_module": "@jupyter-widgets/controls",
      "model_module_version": "1.4.0",
      "model_name": "HBoxModel",
      "state": {
       "children": [
        "IPY_MODEL_1fbec8255ed64a82bff2d491398eb643"
       ],
       "layout": "IPY_MODEL_99e1da33cf5147fbbaf9b8bb3f993b57"
      }
     },
     "5eb862399041434b9578ca5f041982ea": {
      "model_module": "@jupyter-widgets/controls",
      "model_module_version": "1.4.0",
      "model_name": "DescriptionStyleModel",
      "state": {
       "description_width": ""
      }
     },
     "5ed8d9e90743463d8f0289e7bb480e55": {
      "model_module": "@jupyter-widgets/base",
      "model_module_version": "1.1.0",
      "model_name": "LayoutModel",
      "state": {}
     },
     "5f473f1121da449bbd3afb6b5cbec115": {
      "model_module": "@jupyter-widgets/controls",
      "model_module_version": "1.4.0",
      "model_name": "DescriptionStyleModel",
      "state": {
       "description_width": ""
      }
     },
     "5f6f844352914208beb1c77a710e0e58": {
      "model_module": "@jupyter-widgets/controls",
      "model_module_version": "1.4.0",
      "model_name": "FloatTextModel",
      "state": {
       "description": "aspect",
       "layout": "IPY_MODEL_15b573032f33491c95e2d1e28ad1db52",
       "step": null,
       "style": "IPY_MODEL_36e78f4ccc9c440c8e7b59b56da90411",
       "value": 1
      }
     },
     "5f718340b2c24925bb6ca9c59ca350ba": {
      "model_module": "@jupyter-widgets/base",
      "model_module_version": "1.1.0",
      "model_name": "LayoutModel",
      "state": {}
     },
     "5fd32f8b63754814a1e1cc1ea89ba769": {
      "model_module": "@jupyter-widgets/controls",
      "model_module_version": "1.4.0",
      "model_name": "DescriptionStyleModel",
      "state": {
       "description_width": ""
      }
     },
     "600f90cdaf7a4150a3a961f3f0d2d41d": {
      "model_module": "@jupyter-widgets/base",
      "model_module_version": "1.1.0",
      "model_name": "LayoutModel",
      "state": {}
     },
     "601726b2782c4b0f9372649b754a2e65": {
      "model_module": "@jupyter-widgets/controls",
      "model_module_version": "1.4.0",
      "model_name": "HBoxModel",
      "state": {
       "children": [
        "IPY_MODEL_aa29401999894367bf4fafa79bd1b873"
       ],
       "layout": "IPY_MODEL_2377b1090ef341c091bc51dd4797b356"
      }
     },
     "605bc33bd46b4969bc01535a0c99c8dd": {
      "model_module": "@jupyter-widgets/controls",
      "model_module_version": "1.4.0",
      "model_name": "DescriptionStyleModel",
      "state": {
       "description_width": ""
      }
     },
     "6087e278698643ba82979171e18f19cb": {
      "model_module": "@jupyter-widgets/base",
      "model_module_version": "1.1.0",
      "model_name": "LayoutModel",
      "state": {}
     },
     "60b6add70c9e4e84b46b673dcc05d645": {
      "model_module": "@jupyter-widgets/base",
      "model_module_version": "1.1.0",
      "model_name": "LayoutModel",
      "state": {}
     },
     "60f4bbf4a0f044cdb759ed97d28ed6e6": {
      "model_module": "@jupyter-widgets/controls",
      "model_module_version": "1.4.0",
      "model_name": "ButtonStyleModel",
      "state": {}
     },
     "61062acd725741478f061df07bb755c3": {
      "model_module": "@jupyter-widgets/base",
      "model_module_version": "1.1.0",
      "model_name": "LayoutModel",
      "state": {}
     },
     "611cc58865dc49f1a950499963020bd5": {
      "model_module": "@jupyter-widgets/base",
      "model_module_version": "1.1.0",
      "model_name": "LayoutModel",
      "state": {}
     },
     "6167a993aa8b4063806c88620ed9e9e7": {
      "model_module": "@jupyter-widgets/base",
      "model_module_version": "1.1.0",
      "model_name": "LayoutModel",
      "state": {}
     },
     "618d0febbb854508b1370f2e2aa9e555": {
      "model_module": "@jupyter-widgets/controls",
      "model_module_version": "1.4.0",
      "model_name": "LabelModel",
      "state": {
       "layout": "IPY_MODEL_79cd9318ff4647759634fe4c99021253",
       "style": "IPY_MODEL_bdf71544fcea431dae7bbc254c24e4fb",
       "value": "---"
      }
     },
     "6197875d81dd4bbd92596affd3287ede": {
      "model_module": "@jupyter-widgets/controls",
      "model_module_version": "1.4.0",
      "model_name": "HBoxModel",
      "state": {
       "children": [
        "IPY_MODEL_28e0264d5ba54c18aad54843fc5f0778"
       ],
       "layout": "IPY_MODEL_a1977c2bc5694ca78628a5e7d8b86fe7"
      }
     },
     "61f05b3ba96d450c83a5879eba1a182c": {
      "model_module": "@jupyter-widgets/controls",
      "model_module_version": "1.4.0",
      "model_name": "CheckboxModel",
      "state": {
       "description": "hist",
       "disabled": false,
       "layout": "IPY_MODEL_795e55ed3af9444f8cb2c411aa8cf30f",
       "style": "IPY_MODEL_89494173fb8544fba828d73ffe8b1820",
       "value": false
      }
     },
     "6203db5b1518437c864c61ae04b184c5": {
      "model_module": "@jupyter-widgets/controls",
      "model_module_version": "1.4.0",
      "model_name": "DescriptionStyleModel",
      "state": {
       "description_width": ""
      }
     },
     "62ab2fa547c64e49a280a8ee6945c05d": {
      "model_module": "@jupyter-widgets/controls",
      "model_module_version": "1.4.0",
      "model_name": "HBoxModel",
      "state": {
       "children": [
        "IPY_MODEL_4c144b98e83548cb821cddcd6be44a65",
        "IPY_MODEL_c3617dac6334450dbf660f389c7d8323"
       ],
       "layout": "IPY_MODEL_6ad8201faf09434c95e13693e552b47e"
      }
     },
     "63024d90ae2e4bd49d756daa86d9bc91": {
      "model_module": "@jupyter-widgets/controls",
      "model_module_version": "1.4.0",
      "model_name": "DescriptionStyleModel",
      "state": {
       "description_width": ""
      }
     },
     "6311e7b443934d32a8bd09c123368430": {
      "model_module": "@jupyter-widgets/base",
      "model_module_version": "1.1.0",
      "model_name": "LayoutModel",
      "state": {}
     },
     "637219d6f2a043c8bec967371b551527": {
      "model_module": "@jupyter-widgets/controls",
      "model_module_version": "1.4.0",
      "model_name": "FloatTextModel",
      "state": {
       "description": "errwidth",
       "layout": "IPY_MODEL_5aa948f5b18e40229150a477fdc58e0d",
       "step": null,
       "style": "IPY_MODEL_2fb762a7885644abbf8b5fefa5411ecc",
       "value": 1
      }
     },
     "63b761726fc6432e90f0d7353ef674b3": {
      "model_module": "@jupyter-widgets/base",
      "model_module_version": "1.1.0",
      "model_name": "LayoutModel",
      "state": {}
     },
     "63b9fd2b62ee44578d7a17c1b73c5a6e": {
      "model_module": "@jupyter-widgets/controls",
      "model_module_version": "1.4.0",
      "model_name": "CheckboxModel",
      "state": {
       "description": "shade_lowest",
       "disabled": false,
       "layout": "IPY_MODEL_6d964406753046009cb3646cae80e04d",
       "style": "IPY_MODEL_568377e7379548a5b175eec3c55c0197",
       "value": false
      }
     },
     "63d258e546904b7cb12999fbecfe0f35": {
      "model_module": "@jupyter-widgets/controls",
      "model_module_version": "1.4.0",
      "model_name": "ButtonStyleModel",
      "state": {}
     },
     "63d37756f1924f808d3b51fb311f817c": {
      "model_module": "@jupyter-widgets/base",
      "model_module_version": "1.1.0",
      "model_name": "LayoutModel",
      "state": {}
     },
     "643117722cb642a2b909d1f83ea6e785": {
      "model_module": "@jupyter-widgets/controls",
      "model_module_version": "1.4.0",
      "model_name": "ButtonStyleModel",
      "state": {}
     },
     "64589fd0bde842f597e57c9973fcae05": {
      "model_module": "@jupyter-widgets/controls",
      "model_module_version": "1.4.0",
      "model_name": "DescriptionStyleModel",
      "state": {
       "description_width": ""
      }
     },
     "64b139b9105e4982979efd7660288541": {
      "model_module": "@jupyter-widgets/base",
      "model_module_version": "1.1.0",
      "model_name": "LayoutModel",
      "state": {}
     },
     "650afea40f094d3f88bfd15997f555c8": {
      "model_module": "@jupyter-widgets/controls",
      "model_module_version": "1.4.0",
      "model_name": "LabelModel",
      "state": {
       "layout": "IPY_MODEL_ff13b5ef556c4f82ab3f0f0e25b6892c",
       "style": "IPY_MODEL_6a3ed84bd309401da76267f084155908",
       "value": "---"
      }
     },
     "651daba981f24c2db56c4ec3e0298a59": {
      "model_module": "@jupyter-widgets/controls",
      "model_module_version": "1.4.0",
      "model_name": "HBoxModel",
      "state": {
       "children": [
        "IPY_MODEL_708397b3fb4246f8981ed1672332f693",
        "IPY_MODEL_effa562d631b47abaa710f97ce122ac6"
       ],
       "layout": "IPY_MODEL_83f448d829784e6b899c224bd382c8d0"
      }
     },
     "653960cf410e42e3b55fdded884e581b": {
      "model_module": "@jupyter-widgets/controls",
      "model_module_version": "1.4.0",
      "model_name": "DropdownModel",
      "state": {
       "_options_labels": [
        "area",
        "count",
        "width"
       ],
       "description": "scale",
       "index": 0,
       "layout": "IPY_MODEL_d59effea047949c4b555e682bc9090f9",
       "style": "IPY_MODEL_1eec4dc16cc94a2b813fe6274eda1c8a"
      }
     },
     "653f0ec08c7d40dd8a7c21ddf37c4851": {
      "model_module": "@jupyter-widgets/controls",
      "model_module_version": "1.4.0",
      "model_name": "DescriptionStyleModel",
      "state": {
       "description_width": ""
      }
     },
     "655946b7d3c84aaeb3e7d6f4c86b9c12": {
      "model_module": "@jupyter-widgets/controls",
      "model_module_version": "1.4.0",
      "model_name": "DropdownModel",
      "state": {
       "_options_labels": [
        "area",
        "count",
        "width"
       ],
       "description": "scale",
       "index": 0,
       "layout": "IPY_MODEL_e6a64fcf64a348bcacff0a9d217cc5ce",
       "style": "IPY_MODEL_7af51b8f202541a5908b777656d0315e"
      }
     },
     "655e1a9a5dba48638ae72825a4e8d514": {
      "model_module": "@jupyter-widgets/controls",
      "model_module_version": "1.4.0",
      "model_name": "DropdownModel",
      "state": {
       "_options_labels": [
        "col",
        "row",
        "True"
       ],
       "description": "sharey",
       "index": 0,
       "layout": "IPY_MODEL_1890a3cca87046d986f069d7e89fb958",
       "style": "IPY_MODEL_563034c1074d41529ba75c1ad244782e"
      }
     },
     "65634cf61cb14b5b8572734ed27effb0": {
      "model_module": "@jupyter-widgets/controls",
      "model_module_version": "1.4.0",
      "model_name": "IntTextModel",
      "state": {
       "description": "order",
       "layout": "IPY_MODEL_5d92baa0ddd14e49a3f9ac5b3cab63a9",
       "step": 1,
       "style": "IPY_MODEL_da7aa6378dd34bce90e6fb511e27b1d9",
       "value": 1
      }
     },
     "656ebf3cd96940838fc6f7f585ec1c8a": {
      "model_module": "@jupyter-widgets/base",
      "model_module_version": "1.1.0",
      "model_name": "LayoutModel",
      "state": {}
     },
     "65961acd4cd94186beb9b000a7b3f59c": {
      "model_module": "@jupyter-widgets/controls",
      "model_module_version": "1.4.0",
      "model_name": "ButtonStyleModel",
      "state": {}
     },
     "65b39fc082494958be5c6a9ee7b1def2": {
      "model_module": "@jupyter-widgets/base",
      "model_module_version": "1.1.0",
      "model_name": "LayoutModel",
      "state": {}
     },
     "65dc3ec5e00f40b89fc76d6c555e3680": {
      "model_module": "@jupyter-widgets/base",
      "model_module_version": "1.1.0",
      "model_name": "LayoutModel",
      "state": {}
     },
     "6699401a7ecf4458a91c8f98da66e2bd": {
      "model_module": "@jupyter-widgets/controls",
      "model_module_version": "1.4.0",
      "model_name": "DropdownModel",
      "state": {
       "_options_labels": [
        "Acceleration",
        "Cylinders",
        "Displacement",
        "Horsepower",
        "Miles_per_Gallon",
        "Name",
        "Origin",
        "Weight_in_lbs",
        "Year"
       ],
       "description": "a",
       "index": 0,
       "layout": "IPY_MODEL_04dcf8e4e4194a6d93b951f3dc1f6d79",
       "style": "IPY_MODEL_a3e3c9e8de4b43c5b155aba77d5e610b"
      }
     },
     "66dca485055245a3afa987ecd5071e1a": {
      "model_module": "@jupyter-widgets/controls",
      "model_module_version": "1.4.0",
      "model_name": "DropdownModel",
      "state": {
       "_options_labels": [
        "v",
        "h"
       ],
       "description": "orient",
       "index": 0,
       "layout": "IPY_MODEL_6b8341e18a2d40d9b6f0fc9bee3be22b",
       "style": "IPY_MODEL_2a6d76b5a52441d2915e0af85c16a3ea"
      }
     },
     "672d6f21f1ed4a97916d192e12ab904a": {
      "model_module": "@jupyter-widgets/controls",
      "model_module_version": "1.4.0",
      "model_name": "DropdownModel",
      "state": {
       "_options_labels": [
        "barplot",
        "boxenplot",
        "boxplot",
        "catplot",
        "countplot",
        "distplot",
        "heatmap",
        "jointplot",
        "kdeplot",
        "lineplot",
        "lmplot",
        "pairplot",
        "pointplot",
        "regplot",
        "relplot",
        "residplot",
        "scatterplot",
        "stripplot",
        "swarmplot",
        "violinplot"
       ],
       "description": "Plot type",
       "index": 2,
       "layout": "IPY_MODEL_e1ee2c634858408498e56cd4be772b89",
       "style": "IPY_MODEL_b35c7ae33f4f4050ab06254bcad02736"
      }
     },
     "6757cc49299a455d8bf43ff74cac97ba": {
      "model_module": "@jupyter-widgets/base",
      "model_module_version": "1.1.0",
      "model_name": "LayoutModel",
      "state": {}
     },
     "675d31912f004206a16c60c7e6189e63": {
      "model_module": "@jupyter-widgets/controls",
      "model_module_version": "1.4.0",
      "model_name": "DescriptionStyleModel",
      "state": {
       "description_width": ""
      }
     },
     "67fb8b99fb024feb909881e91b9a1b95": {
      "model_module": "@jupyter-widgets/base",
      "model_module_version": "1.1.0",
      "model_name": "LayoutModel",
      "state": {}
     },
     "680b9f97316947728f36884056fa33bf": {
      "model_module": "@jupyter-widgets/base",
      "model_module_version": "1.1.0",
      "model_name": "LayoutModel",
      "state": {}
     },
     "682a187f9052421793f1387ee96d655b": {
      "model_module": "@jupyter-widgets/controls",
      "model_module_version": "1.4.0",
      "model_name": "DescriptionStyleModel",
      "state": {
       "description_width": ""
      }
     },
     "6830ae0792724eb08f0d5a15b0d44176": {
      "model_module": "@jupyter-widgets/controls",
      "model_module_version": "1.4.0",
      "model_name": "CheckboxModel",
      "state": {
       "description": "shade",
       "disabled": false,
       "layout": "IPY_MODEL_f2dc1e794ec442f0a872ffcf76585541",
       "style": "IPY_MODEL_76bd8ea183814a39a60591dd85f16f3f",
       "value": false
      }
     },
     "68315303c7e447b39a1192ac006a1ca5": {
      "model_module": "@jupyter-widgets/base",
      "model_module_version": "1.1.0",
      "model_name": "LayoutModel",
      "state": {}
     },
     "684524f3ad0a49069f6c41c7b110b837": {
      "model_module": "@jupyter-widgets/controls",
      "model_module_version": "1.4.0",
      "model_name": "ButtonModel",
      "state": {
       "description": "remove",
       "layout": "IPY_MODEL_ab849f73f2da4f94a4443dbf708aac85",
       "style": "IPY_MODEL_9345c2cba53948bfa0df4db593265235"
      }
     },
     "68523fb33aa246b88504a359c721cfdd": {
      "model_module": "@jupyter-widgets/controls",
      "model_module_version": "1.4.0",
      "model_name": "FloatTextModel",
      "state": {
       "description": "aspect",
       "layout": "IPY_MODEL_02f025f2f9794f7fa35f82006c05f2ac",
       "step": null,
       "style": "IPY_MODEL_449c7f8a7c514273a1d6d1971f269eb4",
       "value": 1
      }
     },
     "68963df29a024b3ba3a1a6e151c8d6bd": {
      "model_module": "@jupyter-widgets/base",
      "model_module_version": "1.1.0",
      "model_name": "LayoutModel",
      "state": {}
     },
     "68a0e785e63d4842aef0a871c10eb653": {
      "model_module": "@jupyter-widgets/base",
      "model_module_version": "1.1.0",
      "model_name": "LayoutModel",
      "state": {}
     },
     "68a92acf5dc54600a88a130098e5d159": {
      "model_module": "@jupyter-widgets/controls",
      "model_module_version": "1.4.0",
      "model_name": "DescriptionStyleModel",
      "state": {
       "description_width": ""
      }
     },
     "68abb41f8cf944eea5bb5b78527cc1d7": {
      "model_module": "@jupyter-widgets/controls",
      "model_module_version": "1.4.0",
      "model_name": "CheckboxModel",
      "state": {
       "description": "cbar",
       "disabled": false,
       "layout": "IPY_MODEL_4dabbfbe84cf46dd856d7409b487bb2d",
       "style": "IPY_MODEL_c0616501f3e946c9bb04130ac5180421",
       "value": false
      }
     },
     "68cb34dff073491482ba558530ff2c9d": {
      "model_module": "@jupyter-widgets/controls",
      "model_module_version": "1.4.0",
      "model_name": "LabelModel",
      "state": {
       "layout": "IPY_MODEL_9754eec72fad4aec9b4af5069b93c961",
       "style": "IPY_MODEL_c6daf844f5644cb68e325206d85e0e82",
       "value": "---"
      }
     },
     "68f4af87efa4439a8bc0e709d40a1558": {
      "model_module": "@jupyter-widgets/base",
      "model_module_version": "1.1.0",
      "model_name": "LayoutModel",
      "state": {}
     },
     "68fe70ee25f041129fefd1724c311e9e": {
      "model_module": "@jupyter-widgets/controls",
      "model_module_version": "1.4.0",
      "model_name": "DescriptionStyleModel",
      "state": {
       "description_width": ""
      }
     },
     "6914a29523c842819e80d959c5cd9351": {
      "model_module": "@jupyter-widgets/base",
      "model_module_version": "1.1.0",
      "model_name": "LayoutModel",
      "state": {}
     },
     "697eb54dfabe48ce9ca5742fc714a082": {
      "model_module": "@jupyter-widgets/controls",
      "model_module_version": "1.4.0",
      "model_name": "DropdownModel",
      "state": {
       "_options_labels": [
        "box",
        "quartile",
        "point",
        "stick"
       ],
       "description": "inner",
       "index": 0,
       "layout": "IPY_MODEL_db75565ebb9e4e0e8507d27d658e3feb",
       "style": "IPY_MODEL_5c7f4e081dac45f592a67676634710d7"
      }
     },
     "698315f106cf47a6ae96532bfecc738a": {
      "model_module": "@jupyter-widgets/controls",
      "model_module_version": "1.4.0",
      "model_name": "DescriptionStyleModel",
      "state": {
       "description_width": ""
      }
     },
     "6985471d26974961a397af89377f4f68": {
      "model_module": "@jupyter-widgets/controls",
      "model_module_version": "1.4.0",
      "model_name": "ButtonStyleModel",
      "state": {}
     },
     "69a7db46cc434055b2a15ed54ba6b2c6": {
      "model_module": "@jupyter-widgets/controls",
      "model_module_version": "1.4.0",
      "model_name": "DescriptionStyleModel",
      "state": {
       "description_width": ""
      }
     },
     "69cd0b309f574cb7abccf0f5ce155996": {
      "model_module": "@jupyter-widgets/controls",
      "model_module_version": "1.4.0",
      "model_name": "DescriptionStyleModel",
      "state": {
       "description_width": ""
      }
     },
     "6a160d64793b435c909f8b7dac57bb2a": {
      "model_module": "@jupyter-widgets/controls",
      "model_module_version": "1.4.0",
      "model_name": "IntTextModel",
      "state": {
       "description": "col_wrap",
       "layout": "IPY_MODEL_6cb7a4c0e4344e37bd305f1f14409f6f",
       "step": 1,
       "style": "IPY_MODEL_32ee4da951c54ca19f2e48bb18b337bb",
       "value": 10
      }
     },
     "6a2c8d2c21644937bade4b3e4999e449": {
      "model_module": "@jupyter-widgets/controls",
      "model_module_version": "1.4.0",
      "model_name": "HBoxModel",
      "state": {
       "children": [
        "IPY_MODEL_89edd7af179f4a65ae141a8d23b4bbdd",
        "IPY_MODEL_70eaa1a5c77a4b99a139c1334c2ef73e"
       ],
       "layout": "IPY_MODEL_ff356c6748704314a436fd968008d40c"
      }
     },
     "6a3ed84bd309401da76267f084155908": {
      "model_module": "@jupyter-widgets/controls",
      "model_module_version": "1.4.0",
      "model_name": "DescriptionStyleModel",
      "state": {
       "description_width": ""
      }
     },
     "6aa09ec9d9184d95914dc113041361eb": {
      "model_module": "@jupyter-widgets/base",
      "model_module_version": "1.1.0",
      "model_name": "LayoutModel",
      "state": {}
     },
     "6aa4f73c5a2a4d68bd839e41f7bc99d4": {
      "model_module": "@jupyter-widgets/controls",
      "model_module_version": "1.4.0",
      "model_name": "IntSliderModel",
      "state": {
       "description": "x_ci",
       "layout": "IPY_MODEL_5e7ee940d2a744d9b857b426498465df",
       "style": "IPY_MODEL_932fb6377d3545f19bb417e25bedfd55",
       "value": 95
      }
     },
     "6aa655f0cc0842cb8b6581b47dd7878a": {
      "model_module": "@jupyter-widgets/controls",
      "model_module_version": "1.4.0",
      "model_name": "CheckboxModel",
      "state": {
       "description": "lowess",
       "disabled": false,
       "layout": "IPY_MODEL_a1ab5d9247ae4274be784fa02844f145",
       "style": "IPY_MODEL_468a3a469f2248c89ed962f74f99e7f6",
       "value": false
      }
     },
     "6ad21e6eb2ff4d82b5dc7088dacf472b": {
      "model_module": "@jupyter-widgets/controls",
      "model_module_version": "1.4.0",
      "model_name": "DescriptionStyleModel",
      "state": {
       "description_width": ""
      }
     },
     "6ad8201faf09434c95e13693e552b47e": {
      "model_module": "@jupyter-widgets/base",
      "model_module_version": "1.1.0",
      "model_name": "LayoutModel",
      "state": {}
     },
     "6ae170fcb8cf4dba83b5014284d50b5a": {
      "model_module": "@jupyter-widgets/base",
      "model_module_version": "1.1.0",
      "model_name": "LayoutModel",
      "state": {}
     },
     "6b01f05867f84837b2ce80ad93140c23": {
      "model_module": "@jupyter-widgets/base",
      "model_module_version": "1.1.0",
      "model_name": "LayoutModel",
      "state": {}
     },
     "6b05c10606654313a6a132b985951b09": {
      "model_module": "@jupyter-widgets/controls",
      "model_module_version": "1.4.0",
      "model_name": "HBoxModel",
      "state": {
       "children": [
        "IPY_MODEL_95daa4e3f69a49beb6bd33c0422a2431",
        "IPY_MODEL_a7b1d7dad1d24964868b4875ffa3f728"
       ],
       "layout": "IPY_MODEL_9707924a7dfe47a3a06ee7d03237f488"
      }
     },
     "6b3793431ae94ac2ab60768e1480b3d8": {
      "model_module": "@jupyter-widgets/base",
      "model_module_version": "1.1.0",
      "model_name": "LayoutModel",
      "state": {}
     },
     "6b3cd181142446bf8a5c6574f656fb3a": {
      "model_module": "@jupyter-widgets/controls",
      "model_module_version": "1.4.0",
      "model_name": "DropdownModel",
      "state": {
       "_options_labels": [
        "Acceleration",
        "Cylinders",
        "Displacement",
        "Horsepower",
        "Miles_per_Gallon",
        "Name",
        "Origin",
        "Weight_in_lbs",
        "Year"
       ],
       "description": "col",
       "index": 0,
       "layout": "IPY_MODEL_85d0f0af05c14b38aae8a01d7769d256",
       "style": "IPY_MODEL_d205cb93c9834a688fc4ff8c5a8eff0b"
      }
     },
     "6b7c9e226d0d4ad99b30cbbbe9291b3c": {
      "model_module": "@jupyter-widgets/controls",
      "model_module_version": "1.4.0",
      "model_name": "DropdownModel",
      "state": {
       "_options_labels": [
        "scatter",
        "reg",
        "resid",
        "kde",
        "hex"
       ],
       "description": "kind",
       "index": 0,
       "layout": "IPY_MODEL_b4278f4703334bdbb98fa8a7c22da5b9",
       "style": "IPY_MODEL_aadd07a76cdb4baf9d0d27293fa2c213"
      }
     },
     "6b8341e18a2d40d9b6f0fc9bee3be22b": {
      "model_module": "@jupyter-widgets/base",
      "model_module_version": "1.1.0",
      "model_name": "LayoutModel",
      "state": {}
     },
     "6b8d7b4af2cb4fe2a8c80f7dad0a8370": {
      "model_module": "@jupyter-widgets/controls",
      "model_module_version": "1.4.0",
      "model_name": "DescriptionStyleModel",
      "state": {
       "description_width": ""
      }
     },
     "6bb70ff8b54544f899c6fbd82e9b439b": {
      "model_module": "@jupyter-widgets/base",
      "model_module_version": "1.1.0",
      "model_name": "LayoutModel",
      "state": {}
     },
     "6c1c9affdd5b4a7cba54c1f3de95ea2a": {
      "model_module": "@jupyter-widgets/base",
      "model_module_version": "1.1.0",
      "model_name": "LayoutModel",
      "state": {}
     },
     "6c29ef8726604958a03a506f9f3b3603": {
      "model_module": "@jupyter-widgets/base",
      "model_module_version": "1.1.0",
      "model_name": "LayoutModel",
      "state": {}
     },
     "6c32582b76c949d6b4354eda8b5c1d07": {
      "model_module": "@jupyter-widgets/controls",
      "model_module_version": "1.4.0",
      "model_name": "CheckboxModel",
      "state": {
       "description": "cbar",
       "disabled": false,
       "layout": "IPY_MODEL_c7fec7ade73a4f4880b94131af71ccb1",
       "style": "IPY_MODEL_3c859c37061e443091c08837a6d21ec9",
       "value": false
      }
     },
     "6c6f4411ae964608a6f7f55f71afc84c": {
      "model_module": "@jupyter-widgets/controls",
      "model_module_version": "1.4.0",
      "model_name": "DropdownModel",
      "state": {
       "_options_labels": [
        "row",
        "col",
        "True"
       ],
       "description": "sharey",
       "index": 0,
       "layout": "IPY_MODEL_b5d63624e9984603afd62217712092c3",
       "style": "IPY_MODEL_8d7b6dd4e0c84c789add7a26d8ebeb2d"
      }
     },
     "6c8104beaa2349139493e3cd174ad9d5": {
      "model_module": "@jupyter-widgets/base",
      "model_module_version": "1.1.0",
      "model_name": "LayoutModel",
      "state": {}
     },
     "6c9f34ea921447e3a1fa1590645001ca": {
      "model_module": "@jupyter-widgets/controls",
      "model_module_version": "1.4.0",
      "model_name": "DescriptionStyleModel",
      "state": {
       "description_width": ""
      }
     },
     "6ca9a046ad17408c8bc8ddb0a1dca879": {
      "model_module": "@jupyter-widgets/base",
      "model_module_version": "1.1.0",
      "model_name": "LayoutModel",
      "state": {}
     },
     "6cb7a4c0e4344e37bd305f1f14409f6f": {
      "model_module": "@jupyter-widgets/base",
      "model_module_version": "1.1.0",
      "model_name": "LayoutModel",
      "state": {}
     },
     "6cc46d08117e411c9073970f4d9438d1": {
      "model_module": "@jupyter-widgets/controls",
      "model_module_version": "1.4.0",
      "model_name": "HBoxModel",
      "state": {
       "children": [
        "IPY_MODEL_95daa4e3f69a49beb6bd33c0422a2431",
        "IPY_MODEL_b81e105d3b854e02bc8ecd45b5009a34"
       ],
       "layout": "IPY_MODEL_42be073492a84162927f34b5278a9405"
      }
     },
     "6cc6e96edc86476194b5ea6a86e87492": {
      "model_module": "@jupyter-widgets/controls",
      "model_module_version": "1.4.0",
      "model_name": "DescriptionStyleModel",
      "state": {
       "description_width": ""
      }
     },
     "6cebfa52ee1141afa415d6e19edc4fcc": {
      "model_module": "@jupyter-widgets/base",
      "model_module_version": "1.1.0",
      "model_name": "LayoutModel",
      "state": {}
     },
     "6cfc3f567aa045bc916992ce5b6d125c": {
      "model_module": "@jupyter-widgets/base",
      "model_module_version": "1.1.0",
      "model_name": "LayoutModel",
      "state": {}
     },
     "6cfe49c2bbcc4c26853d4eefb7f57bde": {
      "model_module": "@jupyter-widgets/base",
      "model_module_version": "1.1.0",
      "model_name": "LayoutModel",
      "state": {}
     },
     "6d115d3f74974f54bbe591a1116acfe8": {
      "model_module": "@jupyter-widgets/controls",
      "model_module_version": "1.4.0",
      "model_name": "CheckboxModel",
      "state": {
       "description": "rug",
       "disabled": false,
       "layout": "IPY_MODEL_6e4845aeb5944c46a9811722db273494",
       "style": "IPY_MODEL_6da97f3331344aa995363c7d32179f63",
       "value": false
      }
     },
     "6d3396b19dab48c9bb03681814c6901b": {
      "model_module": "@jupyter-widgets/controls",
      "model_module_version": "1.4.0",
      "model_name": "TextModel",
      "state": {
       "description": "color",
       "layout": "IPY_MODEL_3e904ca97eb54e3282f781967de13735",
       "style": "IPY_MODEL_8246257368ed446bba941b12d5b347ac",
       "value": "g"
      }
     },
     "6d47f39dc4554aa3ac55adc9d5bf04a1": {
      "model_module": "@jupyter-widgets/base",
      "model_module_version": "1.1.0",
      "model_name": "LayoutModel",
      "state": {}
     },
     "6d964406753046009cb3646cae80e04d": {
      "model_module": "@jupyter-widgets/base",
      "model_module_version": "1.1.0",
      "model_name": "LayoutModel",
      "state": {}
     },
     "6d986e3bdcdc4e6c87887ed04b07f2a8": {
      "model_module": "@jupyter-widgets/controls",
      "model_module_version": "1.4.0",
      "model_name": "CheckboxModel",
      "state": {
       "description": "lowess",
       "disabled": false,
       "layout": "IPY_MODEL_b253de9ac5e3434689c7758c9f1d614a",
       "style": "IPY_MODEL_c1bb0343d4314bdbb3d2ace90ee43ec3",
       "value": false
      }
     },
     "6da97f3331344aa995363c7d32179f63": {
      "model_module": "@jupyter-widgets/controls",
      "model_module_version": "1.4.0",
      "model_name": "DescriptionStyleModel",
      "state": {
       "description_width": ""
      }
     },
     "6dae1b3ac04e4c3fb36dc6dcce1bb2bc": {
      "model_module": "@jupyter-widgets/controls",
      "model_module_version": "1.4.0",
      "model_name": "DescriptionStyleModel",
      "state": {
       "description_width": ""
      }
     },
     "6dbb4223b4194fb2a067e53add9e1614": {
      "model_module": "@jupyter-widgets/controls",
      "model_module_version": "1.4.0",
      "model_name": "DescriptionStyleModel",
      "state": {
       "description_width": ""
      }
     },
     "6e3bd4dfa50e46ca8167ebce4a6c73c2": {
      "model_module": "@jupyter-widgets/controls",
      "model_module_version": "1.4.0",
      "model_name": "DescriptionStyleModel",
      "state": {
       "description_width": ""
      }
     },
     "6e4845aeb5944c46a9811722db273494": {
      "model_module": "@jupyter-widgets/base",
      "model_module_version": "1.1.0",
      "model_name": "LayoutModel",
      "state": {}
     },
     "6e55597cecf9482d859d762dc5725f23": {
      "model_module": "@jupyter-widgets/controls",
      "model_module_version": "1.4.0",
      "model_name": "DescriptionStyleModel",
      "state": {
       "description_width": ""
      }
     },
     "6e6aa4da312a45a5b34e507ffb83c085": {
      "model_module": "@jupyter-widgets/controls",
      "model_module_version": "1.4.0",
      "model_name": "CheckboxModel",
      "state": {
       "description": "truncate",
       "disabled": false,
       "layout": "IPY_MODEL_92898e68ee09403394ca100849f21090",
       "style": "IPY_MODEL_264e202a99794b27a1cd9e414a2c8a3b",
       "value": false
      }
     },
     "6e7e5fe6db3040aca0e959f706bbd177": {
      "model_module": "@jupyter-widgets/controls",
      "model_module_version": "1.4.0",
      "model_name": "DescriptionStyleModel",
      "state": {
       "description_width": ""
      }
     },
     "6e9a3e556be241d0ae0f246401867ba6": {
      "model_module": "@jupyter-widgets/base",
      "model_module_version": "1.1.0",
      "model_name": "LayoutModel",
      "state": {}
     },
     "6e9bc66f17064008a4da73ac8e294521": {
      "model_module": "@jupyter-widgets/base",
      "model_module_version": "1.1.0",
      "model_name": "LayoutModel",
      "state": {}
     },
     "6e9f9aeb3061441c9ccdc4cb813cf81d": {
      "model_module": "@jupyter-widgets/controls",
      "model_module_version": "1.4.0",
      "model_name": "IntSliderModel",
      "state": {
       "description": "ci",
       "layout": "IPY_MODEL_5456d0cb5c064a899fafb0def777fa4e",
       "style": "IPY_MODEL_1cf83f5723d444618b8ec6eeacecea6e",
       "value": 95
      }
     },
     "6eb73de369de459783612356c19d1e26": {
      "model_module": "@jupyter-widgets/controls",
      "model_module_version": "1.4.0",
      "model_name": "CheckboxModel",
      "state": {
       "description": "cbar",
       "disabled": false,
       "layout": "IPY_MODEL_76c6a0769b4c42f98a8288a5afa8ae2c",
       "style": "IPY_MODEL_f1c2ee9687f94eccb77726ae063816e0",
       "value": false
      }
     },
     "6ec44437b364441c8b488f668a844ca1": {
      "model_module": "@jupyter-widgets/controls",
      "model_module_version": "1.4.0",
      "model_name": "TextModel",
      "state": {
       "description": "cmap",
       "layout": "IPY_MODEL_68963df29a024b3ba3a1a6e151c8d6bd",
       "style": "IPY_MODEL_5690228c463946dfb6f2579bef2f240d",
       "value": "viridis"
      }
     },
     "6eddf872f6c64682971fa203b87195ea": {
      "model_module": "@jupyter-widgets/controls",
      "model_module_version": "1.4.0",
      "model_name": "DescriptionStyleModel",
      "state": {
       "description_width": ""
      }
     },
     "6ee47d3a2cf2481bb8ac9adfc9c2d42d": {
      "model_module": "@jupyter-widgets/controls",
      "model_module_version": "1.4.0",
      "model_name": "HBoxModel",
      "state": {
       "children": [
        "IPY_MODEL_672d6f21f1ed4a97916d192e12ab904a",
        "IPY_MODEL_873aca88e1ac4ca3a407154e649b3a5b"
       ],
       "layout": "IPY_MODEL_c0afbcc923834e2381c854d728c99b97"
      }
     },
     "6f247d2ffcbe43ffa4cd8b651aedb5f4": {
      "model_module": "@jupyter-widgets/base",
      "model_module_version": "1.1.0",
      "model_name": "LayoutModel",
      "state": {}
     },
     "6f62df695e494c83a40ba504339193e6": {
      "model_module": "@jupyter-widgets/base",
      "model_module_version": "1.1.0",
      "model_name": "LayoutModel",
      "state": {}
     },
     "6f9d2dd22b214d2485d99be69631c3de": {
      "model_module": "@jupyter-widgets/controls",
      "model_module_version": "1.4.0",
      "model_name": "DropdownModel",
      "state": {
       "_options_labels": [
        "Acceleration",
        "Cylinders",
        "Displacement",
        "Horsepower",
        "Miles_per_Gallon",
        "Name",
        "Origin",
        "Weight_in_lbs",
        "Year"
       ],
       "description": "y_partial",
       "index": 0,
       "layout": "IPY_MODEL_b03d88152cd04534be1781bc175d53ef",
       "style": "IPY_MODEL_971577ffaf2a40d094fa65745d05ebd4"
      }
     },
     "7016c27e54e945ed9223bf748915d492": {
      "model_module": "@jupyter-widgets/base",
      "model_module_version": "1.1.0",
      "model_name": "LayoutModel",
      "state": {}
     },
     "703525c2f58648d1a2e957be048b9c2c": {
      "model_module": "@jupyter-widgets/controls",
      "model_module_version": "1.4.0",
      "model_name": "CheckboxModel",
      "state": {
       "description": "jitter",
       "disabled": false,
       "layout": "IPY_MODEL_1dd743dc09474de1a37f804343ba1eaf",
       "style": "IPY_MODEL_73d007c3d233451682cc44a59b1022b7",
       "value": false
      }
     },
     "708397b3fb4246f8981ed1672332f693": {
      "model_module": "@jupyter-widgets/controls",
      "model_module_version": "1.4.0",
      "model_name": "DropdownModel",
      "state": {
       "_options_labels": [
        "barplot",
        "boxenplot",
        "boxplot",
        "catplot",
        "countplot",
        "distplot",
        "heatmap",
        "jointplot",
        "kdeplot",
        "lineplot",
        "lmplot",
        "pairplot",
        "pointplot",
        "regplot",
        "relplot",
        "residplot",
        "scatterplot",
        "stripplot",
        "swarmplot",
        "violinplot"
       ],
       "description": "Plot type",
       "index": 1,
       "layout": "IPY_MODEL_67fb8b99fb024feb909881e91b9a1b95",
       "style": "IPY_MODEL_29ecc1ded4ae46509f9c8f076b8c7e5d"
      }
     },
     "708d63e49809448dbcc8bd8e8b3b5cee": {
      "model_module": "@jupyter-widgets/controls",
      "model_module_version": "1.4.0",
      "model_name": "ButtonStyleModel",
      "state": {}
     },
     "70a02e1ff1a5406f80645ce701b31d36": {
      "model_module": "@jupyter-widgets/controls",
      "model_module_version": "1.4.0",
      "model_name": "SliderStyleModel",
      "state": {
       "description_width": ""
      }
     },
     "70a92f087b1f47358da6c013a80bed26": {
      "model_module": "@jupyter-widgets/controls",
      "model_module_version": "1.4.0",
      "model_name": "DescriptionStyleModel",
      "state": {
       "description_width": ""
      }
     },
     "70b766f604e94685a942ebff3eb252bb": {
      "model_module": "@jupyter-widgets/base",
      "model_module_version": "1.1.0",
      "model_name": "LayoutModel",
      "state": {}
     },
     "70d3aa017d714de6be0ba6f17ac5eb67": {
      "model_module": "@jupyter-widgets/base",
      "model_module_version": "1.1.0",
      "model_name": "LayoutModel",
      "state": {}
     },
     "70de63c440a946eaa5aede05453e56d4": {
      "model_module": "@jupyter-widgets/controls",
      "model_module_version": "1.4.0",
      "model_name": "FloatTextModel",
      "state": {
       "description": "vmax",
       "layout": "IPY_MODEL_9965cc084b114a61a2a9d5411d1d7c08",
       "step": null,
       "style": "IPY_MODEL_53052c5f35dc4555a874d8e883790bd1",
       "value": 1
      }
     },
     "70eaa1a5c77a4b99a139c1334c2ef73e": {
      "model_module": "@jupyter-widgets/controls",
      "model_module_version": "1.4.0",
      "model_name": "ButtonModel",
      "state": {
       "description": "remove",
       "layout": "IPY_MODEL_fb18d2f7c50e458799ea7d42c4c0bddd",
       "style": "IPY_MODEL_db066c8da6154d3a9546341f556ea1b8"
      }
     },
     "70fbd48663624efb8981dadd1fafd90e": {
      "model_module": "@jupyter-widgets/controls",
      "model_module_version": "1.4.0",
      "model_name": "DropdownModel",
      "state": {
       "_options_labels": [
        "Acceleration",
        "Cylinders",
        "Displacement",
        "Horsepower",
        "Miles_per_Gallon",
        "Name",
        "Origin",
        "Weight_in_lbs",
        "Year"
       ],
       "description": "style",
       "index": 0,
       "layout": "IPY_MODEL_d7b1328ad2ce4d43b8a84cab0ecff80f",
       "style": "IPY_MODEL_c4e2b60eb907424cb455dd17089e298c"
      }
     },
     "71328dc164ca43e1a3213b6a8c06fb23": {
      "model_module": "@jupyter-widgets/controls",
      "model_module_version": "1.4.0",
      "model_name": "DescriptionStyleModel",
      "state": {
       "description_width": ""
      }
     },
     "7147af2cf1444ec09905e6d77f1fd74f": {
      "model_module": "@jupyter-widgets/controls",
      "model_module_version": "1.4.0",
      "model_name": "DropdownModel",
      "state": {
       "_options_labels": [
        "band",
        "bars"
       ],
       "description": "err_style",
       "index": 0,
       "layout": "IPY_MODEL_16660bd8c3ae447cb8a420ff6b64403d",
       "style": "IPY_MODEL_ad77121a5c69460ca311c5b361b5adaf"
      }
     },
     "7154344f295f4612af2a966853897853": {
      "model_module": "@jupyter-widgets/controls",
      "model_module_version": "1.4.0",
      "model_name": "IntSliderModel",
      "state": {
       "description": "ci",
       "layout": "IPY_MODEL_5db0aaf1d71b48b9ad8688d59919e64b",
       "style": "IPY_MODEL_c8dca62bb13a4ebcb89171eb16b77c79",
       "value": 95
      }
     },
     "71789b1a4deb4eecbcfc41ba8a8d0bf6": {
      "model_module": "@jupyter-widgets/base",
      "model_module_version": "1.1.0",
      "model_name": "LayoutModel",
      "state": {}
     },
     "71b26b464f5348b88c00ae3e491233fb": {
      "model_module": "@jupyter-widgets/controls",
      "model_module_version": "1.4.0",
      "model_name": "DescriptionStyleModel",
      "state": {
       "description_width": ""
      }
     },
     "71f115f28d564f7e9645af8b447daa82": {
      "model_module": "@jupyter-widgets/controls",
      "model_module_version": "1.4.0",
      "model_name": "DescriptionStyleModel",
      "state": {
       "description_width": ""
      }
     },
     "71f6dd873f914176994e5fe9eb0a0980": {
      "model_module": "@jupyter-widgets/controls",
      "model_module_version": "1.4.0",
      "model_name": "CheckboxModel",
      "state": {
       "description": "auto-update",
       "disabled": false,
       "layout": "IPY_MODEL_8970c8b48c824941ba7edb6146557afb",
       "style": "IPY_MODEL_e98693a894ca4a62bc5a140184552ff9",
       "value": true
      }
     },
     "7227865f8ef443ef8a69c79462fdebec": {
      "model_module": "@jupyter-widgets/base",
      "model_module_version": "1.1.0",
      "model_name": "LayoutModel",
      "state": {}
     },
     "72318c529ed045b3b5f861557e7ecfb8": {
      "model_module": "@jupyter-widgets/base",
      "model_module_version": "1.1.0",
      "model_name": "LayoutModel",
      "state": {}
     },
     "7259c396df9a4c3481d9e8a4a3bcc1c6": {
      "model_module": "@jupyter-widgets/base",
      "model_module_version": "1.1.0",
      "model_name": "LayoutModel",
      "state": {}
     },
     "726a9d76e3544209b98a2ba4abbee024": {
      "model_module": "@jupyter-widgets/controls",
      "model_module_version": "1.4.0",
      "model_name": "ButtonModel",
      "state": {
       "description": "remove",
       "layout": "IPY_MODEL_ad231239f97044bb8f34940513325204",
       "style": "IPY_MODEL_33dc7e2718ad43bea247fbe0129fa1e4"
      }
     },
     "726f31c4227a444bb9845a70e51f4d1b": {
      "model_module": "@jupyter-widgets/controls",
      "model_module_version": "1.4.0",
      "model_name": "DescriptionStyleModel",
      "state": {
       "description_width": ""
      }
     },
     "72e95a1a6ee14b679b15fecaba0bd237": {
      "model_module": "@jupyter-widgets/base",
      "model_module_version": "1.1.0",
      "model_name": "LayoutModel",
      "state": {}
     },
     "730f21efebae43ed831a1c3e46690b78": {
      "model_module": "@jupyter-widgets/controls",
      "model_module_version": "1.4.0",
      "model_name": "DropdownModel",
      "state": {
       "_options_labels": [
        "Acceleration",
        "Cylinders",
        "Displacement",
        "Horsepower",
        "Miles_per_Gallon",
        "Name",
        "Origin",
        "Weight_in_lbs",
        "Year"
       ],
       "description": "data2",
       "index": 0,
       "layout": "IPY_MODEL_6b3793431ae94ac2ab60768e1480b3d8",
       "style": "IPY_MODEL_7d2bc2f09ca54402aba1ab141f15ab65"
      }
     },
     "73223d6b3f2c487fab266eaa36615664": {
      "model_module": "@jupyter-widgets/base",
      "model_module_version": "1.1.0",
      "model_name": "LayoutModel",
      "state": {}
     },
     "7381d6dc6d094947ac7f4ae1f58c556c": {
      "model_module": "@jupyter-widgets/controls",
      "model_module_version": "1.4.0",
      "model_name": "DescriptionStyleModel",
      "state": {
       "description_width": ""
      }
     },
     "73d007c3d233451682cc44a59b1022b7": {
      "model_module": "@jupyter-widgets/controls",
      "model_module_version": "1.4.0",
      "model_name": "DescriptionStyleModel",
      "state": {
       "description_width": ""
      }
     },
     "73d0948151a84c86bb99d0d75de0e456": {
      "model_module": "@jupyter-widgets/controls",
      "model_module_version": "1.4.0",
      "model_name": "DescriptionStyleModel",
      "state": {
       "description_width": ""
      }
     },
     "7402d0457c574b259512baeb65aae178": {
      "model_module": "@jupyter-widgets/base",
      "model_module_version": "1.1.0",
      "model_name": "LayoutModel",
      "state": {}
     },
     "74328311488740fea4a108010d88adfc": {
      "model_module": "@jupyter-widgets/controls",
      "model_module_version": "1.4.0",
      "model_name": "DropdownModel",
      "state": {
       "_options_labels": [
        "scatter",
        "reg"
       ],
       "description": "kind",
       "index": 0,
       "layout": "IPY_MODEL_29b81cff4abc4a1486825ddabe8567a9",
       "style": "IPY_MODEL_16fa3a54d9d449a5b00ccb3290b51166"
      }
     },
     "7465222457af40db8c4c2e677f119949": {
      "model_module": "@jupyter-widgets/controls",
      "model_module_version": "1.4.0",
      "model_name": "DescriptionStyleModel",
      "state": {
       "description_width": ""
      }
     },
     "7469c6cb7c9c4feb8c896f70319d508d": {
      "model_module": "@jupyter-widgets/controls",
      "model_module_version": "1.4.0",
      "model_name": "FloatTextModel",
      "state": {
       "description": "saturation",
       "layout": "IPY_MODEL_96f608bfb4a9440e8ce45bd5aef97700",
       "step": null,
       "style": "IPY_MODEL_a91bb399fb4b4fd09d554fbc32cdfe27",
       "value": 1
      }
     },
     "74dd880e49dd4b158351ab198944baa0": {
      "model_module": "@jupyter-widgets/controls",
      "model_module_version": "1.4.0",
      "model_name": "HBoxModel",
      "state": {
       "children": [
        "IPY_MODEL_040b0b431fbc4bd8bfc2d943b5692565",
        "IPY_MODEL_83e9969a711e40e6b345c8ff9ebd56cf"
       ],
       "layout": "IPY_MODEL_f5d1b54bd1b347fdb5a68effa8c40ab8"
      }
     },
     "74eb1c6b662f48fb870916322becad7a": {
      "model_module": "@jupyter-widgets/controls",
      "model_module_version": "1.4.0",
      "model_name": "DescriptionStyleModel",
      "state": {
       "description_width": ""
      }
     },
     "74fb390a807b415786da0a61d4adfc9b": {
      "model_module": "@jupyter-widgets/base",
      "model_module_version": "1.1.0",
      "model_name": "LayoutModel",
      "state": {}
     },
     "752bd0dc5c424d5ea51eb6d6aaf7cfb4": {
      "model_module": "@jupyter-widgets/controls",
      "model_module_version": "1.4.0",
      "model_name": "DropdownModel",
      "state": {
       "_options_labels": [
        "row",
        "col",
        "True"
       ],
       "description": "sharey",
       "index": 0,
       "layout": "IPY_MODEL_9f9596a072c1485b841963d602f94327",
       "style": "IPY_MODEL_54b6cb983b714fb693b5ab0fa9c87f7b"
      }
     },
     "752c4536c2544d66ad6c1465210a6dd1": {
      "model_module": "@jupyter-widgets/controls",
      "model_module_version": "1.4.0",
      "model_name": "DescriptionStyleModel",
      "state": {
       "description_width": ""
      }
     },
     "753e8845ce2a498298966aa1b8126a32": {
      "model_module": "@jupyter-widgets/controls",
      "model_module_version": "1.4.0",
      "model_name": "DescriptionStyleModel",
      "state": {
       "description_width": ""
      }
     },
     "7543339664974ea8aedc3457c235a5b0": {
      "model_module": "@jupyter-widgets/controls",
      "model_module_version": "1.4.0",
      "model_name": "HBoxModel",
      "state": {
       "children": [
        "IPY_MODEL_828f819b33764216b7a76df030be6752",
        "IPY_MODEL_0248fd41de794ce5957dc4e9bab5acc0"
       ],
       "layout": "IPY_MODEL_e8020f522a2449a6addbd9ac2f80df1b"
      }
     },
     "75aac7305f0e437081e828435a0ca87e": {
      "model_module": "@jupyter-widgets/controls",
      "model_module_version": "1.4.0",
      "model_name": "DescriptionStyleModel",
      "state": {
       "description_width": ""
      }
     },
     "75d26c716e1c4a7fb52e3f252ec799fe": {
      "model_module": "@jupyter-widgets/controls",
      "model_module_version": "1.4.0",
      "model_name": "DescriptionStyleModel",
      "state": {
       "description_width": ""
      }
     },
     "75df66ca16b14373af5054f03cb28c43": {
      "model_module": "@jupyter-widgets/base",
      "model_module_version": "1.1.0",
      "model_name": "LayoutModel",
      "state": {}
     },
     "766dc86896914dcfba4d9f52c1a3b5dc": {
      "model_module": "@jupyter-widgets/controls",
      "model_module_version": "1.4.0",
      "model_name": "DescriptionStyleModel",
      "state": {
       "description_width": ""
      }
     },
     "768b1376901e439dbc51ec743e525d4d": {
      "model_module": "@jupyter-widgets/controls",
      "model_module_version": "1.4.0",
      "model_name": "ButtonStyleModel",
      "state": {}
     },
     "7699675a36f74835886586c0e8f7182c": {
      "model_module": "@jupyter-widgets/base",
      "model_module_version": "1.1.0",
      "model_name": "LayoutModel",
      "state": {}
     },
     "76af466cba3f4f65bf48921aa4c41311": {
      "model_module": "@jupyter-widgets/base",
      "model_module_version": "1.1.0",
      "model_name": "LayoutModel",
      "state": {}
     },
     "76bd8ea183814a39a60591dd85f16f3f": {
      "model_module": "@jupyter-widgets/controls",
      "model_module_version": "1.4.0",
      "model_name": "DescriptionStyleModel",
      "state": {
       "description_width": ""
      }
     },
     "76c6a0769b4c42f98a8288a5afa8ae2c": {
      "model_module": "@jupyter-widgets/base",
      "model_module_version": "1.1.0",
      "model_name": "LayoutModel",
      "state": {}
     },
     "76eef05ff219414fa4477cc5c7e09060": {
      "model_module": "@jupyter-widgets/base",
      "model_module_version": "1.1.0",
      "model_name": "LayoutModel",
      "state": {}
     },
     "772f6c91862c4032acbfb03c3ed8c3ab": {
      "model_module": "@jupyter-widgets/controls",
      "model_module_version": "1.4.0",
      "model_name": "ButtonModel",
      "state": {
       "description": "remove",
       "layout": "IPY_MODEL_82d37ba5928c40a7ad360eebbf3079e7",
       "style": "IPY_MODEL_a3f6fbfe1d95473fb4d4113078fb6127"
      }
     },
     "77320c132ea0473388c3c8c93d32e794": {
      "model_module": "@jupyter-widgets/controls",
      "model_module_version": "1.4.0",
      "model_name": "TextModel",
      "state": {
       "description": "palette",
       "layout": "IPY_MODEL_cc2f970dd4a543abac3032db3f03a033",
       "style": "IPY_MODEL_cba18b0367454463aee0a9b08751d777"
      }
     },
     "774e23ffd30b4df39267307601311925": {
      "model_module": "@jupyter-widgets/base",
      "model_module_version": "1.1.0",
      "model_name": "LayoutModel",
      "state": {}
     },
     "776722bebc9d49839e5d86f7ea7fee52": {
      "model_module": "@jupyter-widgets/controls",
      "model_module_version": "1.4.0",
      "model_name": "CheckboxModel",
      "state": {
       "description": "vertical",
       "disabled": false,
       "layout": "IPY_MODEL_a75d5fbd376a4005b6bc989160e0ff6d",
       "style": "IPY_MODEL_c033b439c60e4260a953f77d867f978c",
       "value": false
      }
     },
     "77805a7ed75f4caf8bdf0f5d4eb01210": {
      "model_module": "@jupyter-widgets/controls",
      "model_module_version": "1.4.0",
      "model_name": "TextModel",
      "state": {
       "description": "axlabel",
       "layout": "IPY_MODEL_c07b2feb0f7940e0aa52e80a647f75ac",
       "style": "IPY_MODEL_48533dc92e81427191991f15e5ab062f"
      }
     },
     "77ef72e07b5147469fdef68b97421451": {
      "model_module": "@jupyter-widgets/base",
      "model_module_version": "1.1.0",
      "model_name": "LayoutModel",
      "state": {}
     },
     "77f7215e530c482cbc754c6f00c5e0ba": {
      "model_module": "@jupyter-widgets/controls",
      "model_module_version": "1.4.0",
      "model_name": "DropdownModel",
      "state": {
       "_options_labels": [
        "o",
        "v",
        "^",
        "<",
        ">",
        "8",
        "s",
        "p",
        "*",
        "h",
        "H",
        "D",
        "d",
        "P",
        "X"
       ],
       "description": "marker",
       "index": 0,
       "layout": "IPY_MODEL_2c0392778269414dbccdd3c05dd09c7c",
       "style": "IPY_MODEL_d0928e4a34e9473d986d5caa913f51fc"
      }
     },
     "77f78ab5821943728f82cf4d113816bd": {
      "model_module": "@jupyter-widgets/controls",
      "model_module_version": "1.4.0",
      "model_name": "DropdownModel",
      "state": {
       "_options_labels": [
        "Acceleration",
        "Cylinders",
        "Displacement",
        "Horsepower",
        "Miles_per_Gallon",
        "Name",
        "Origin",
        "Weight_in_lbs",
        "Year"
       ],
       "description": "hue",
       "index": 0,
       "layout": "IPY_MODEL_eea15025ef5f48beafaf824f02559584",
       "style": "IPY_MODEL_6e3bd4dfa50e46ca8167ebce4a6c73c2"
      }
     },
     "783858c59a754950abfd650d6429f574": {
      "model_module": "@jupyter-widgets/base",
      "model_module_version": "1.1.0",
      "model_name": "LayoutModel",
      "state": {}
     },
     "7841ba0e98564c3ca8de295d9029f269": {
      "model_module": "@jupyter-widgets/base",
      "model_module_version": "1.1.0",
      "model_name": "LayoutModel",
      "state": {}
     },
     "7845c74bae9f48a4b58597bd1c838669": {
      "model_module": "@jupyter-widgets/controls",
      "model_module_version": "1.4.0",
      "model_name": "DropdownModel",
      "state": {
       "_options_labels": [
        "col",
        "row",
        "True"
       ],
       "description": "sharex",
       "index": 0,
       "layout": "IPY_MODEL_5761d7beabf545d19670a67f9cc52395",
       "style": "IPY_MODEL_9e3486f3402e45e6a99d3fa2cd3d73e2"
      }
     },
     "7847692d7c1c4fb28634a838d0804647": {
      "model_module": "@jupyter-widgets/controls",
      "model_module_version": "1.4.0",
      "model_name": "DescriptionStyleModel",
      "state": {
       "description_width": ""
      }
     },
     "784b5ed396194db6988fb95b06988c78": {
      "model_module": "@jupyter-widgets/base",
      "model_module_version": "1.1.0",
      "model_name": "LayoutModel",
      "state": {}
     },
     "787c0c87cfb2483497489c86e736d139": {
      "model_module": "@jupyter-widgets/controls",
      "model_module_version": "1.4.0",
      "model_name": "IntTextModel",
      "state": {
       "description": "x_bins",
       "layout": "IPY_MODEL_575ec00a3d5a433d874325ea7bad5328",
       "step": 1,
       "style": "IPY_MODEL_810ce58842d84cb2b2e2582b6a0c22ca",
       "value": 10
      }
     },
     "78aca0a77c7149299920714a8aef6344": {
      "model_module": "@jupyter-widgets/base",
      "model_module_version": "1.1.0",
      "model_name": "LayoutModel",
      "state": {}
     },
     "7904c107d5464b2a835d7c576a954360": {
      "model_module": "@jupyter-widgets/base",
      "model_module_version": "1.1.0",
      "model_name": "LayoutModel",
      "state": {}
     },
     "7947fe35832c4999ba2174e8f1c3b33b": {
      "model_module": "@jupyter-widgets/base",
      "model_module_version": "1.1.0",
      "model_name": "LayoutModel",
      "state": {}
     },
     "795e55ed3af9444f8cb2c411aa8cf30f": {
      "model_module": "@jupyter-widgets/base",
      "model_module_version": "1.1.0",
      "model_name": "LayoutModel",
      "state": {}
     },
     "79678e45fe314c0f8aa21e2b58cabe42": {
      "model_module": "@jupyter-widgets/base",
      "model_module_version": "1.1.0",
      "model_name": "LayoutModel",
      "state": {}
     },
     "797056a23b894ceab92a184df7f61570": {
      "model_module": "@jupyter-widgets/controls",
      "model_module_version": "1.4.0",
      "model_name": "HBoxModel",
      "state": {
       "children": [
        "IPY_MODEL_040b0b431fbc4bd8bfc2d943b5692565",
        "IPY_MODEL_c0b842ad5a694b72a9c8a80e2475f1d0"
       ],
       "layout": "IPY_MODEL_e09ca5668472444daaf88532702405a9"
      }
     },
     "79c35125f2724103b46c41aa875fc8c4": {
      "model_module": "@jupyter-widgets/base",
      "model_module_version": "1.1.0",
      "model_name": "LayoutModel",
      "state": {}
     },
     "79cd9318ff4647759634fe4c99021253": {
      "model_module": "@jupyter-widgets/base",
      "model_module_version": "1.1.0",
      "model_name": "LayoutModel",
      "state": {}
     },
     "79fc2cc6178c4ed5b7b0ebc072060b68": {
      "model_module": "@jupyter-widgets/controls",
      "model_module_version": "1.4.0",
      "model_name": "ButtonModel",
      "state": {
       "description": "remove",
       "layout": "IPY_MODEL_a4b3ee80acae4cf8b66058690516d390",
       "style": "IPY_MODEL_3f57fb694b64487dadb42fdfe87e9a21"
      }
     },
     "7a17c8df3ca04c1083ed558db0b86abf": {
      "model_module": "@jupyter-widgets/controls",
      "model_module_version": "1.4.0",
      "model_name": "DescriptionStyleModel",
      "state": {
       "description_width": ""
      }
     },
     "7a7ffb65471240f59bc28a9b7ba17aa1": {
      "model_module": "@jupyter-widgets/controls",
      "model_module_version": "1.4.0",
      "model_name": "HBoxModel",
      "state": {
       "children": [
        "IPY_MODEL_812a73dbab2e4e419a290e528f49bd82"
       ],
       "layout": "IPY_MODEL_680b9f97316947728f36884056fa33bf"
      }
     },
     "7aa4ba5c4a5f41718791fec553f71d65": {
      "model_module": "@jupyter-widgets/base",
      "model_module_version": "1.1.0",
      "model_name": "LayoutModel",
      "state": {}
     },
     "7aeb4d7dedee452b99fcaaabdfc258fe": {
      "model_module": "@jupyter-widgets/base",
      "model_module_version": "1.1.0",
      "model_name": "LayoutModel",
      "state": {}
     },
     "7af51b8f202541a5908b777656d0315e": {
      "model_module": "@jupyter-widgets/controls",
      "model_module_version": "1.4.0",
      "model_name": "DescriptionStyleModel",
      "state": {
       "description_width": ""
      }
     },
     "7b09315a15104bb5a0d860886b6f0039": {
      "model_module": "@jupyter-widgets/controls",
      "model_module_version": "1.4.0",
      "model_name": "DescriptionStyleModel",
      "state": {
       "description_width": ""
      }
     },
     "7b0acfed84e249868c6deb986b118129": {
      "model_module": "@jupyter-widgets/controls",
      "model_module_version": "1.4.0",
      "model_name": "DescriptionStyleModel",
      "state": {
       "description_width": ""
      }
     },
     "7b2a6052bfea44bba18bb0a0af17f6a7": {
      "model_module": "@jupyter-widgets/controls",
      "model_module_version": "1.4.0",
      "model_name": "DescriptionStyleModel",
      "state": {
       "description_width": ""
      }
     },
     "7b48b9234f364ae7b4206b05b6c7e353": {
      "model_module": "@jupyter-widgets/controls",
      "model_module_version": "1.4.0",
      "model_name": "CheckboxModel",
      "state": {
       "description": "truncate",
       "disabled": false,
       "layout": "IPY_MODEL_a4af9e7efaf64018bc3715c7438b210a",
       "style": "IPY_MODEL_b76f1f52e08e493b865553250a8ffc6e",
       "value": false
      }
     },
     "7b80532d187c49759efbc94c1744194d": {
      "model_module": "@jupyter-widgets/controls",
      "model_module_version": "1.4.0",
      "model_name": "ButtonStyleModel",
      "state": {}
     },
     "7bb63c2e3ca344c8861b1919a2a0e275": {
      "model_module": "@jupyter-widgets/controls",
      "model_module_version": "1.4.0",
      "model_name": "FloatSliderModel",
      "state": {
       "description": "outlier_prop",
       "layout": "IPY_MODEL_71789b1a4deb4eecbcfc41ba8a8d0bf6",
       "max": 1,
       "step": 0.001,
       "style": "IPY_MODEL_50ed9f021f7c4b649dada565f7eaa03b",
       "value": 0.007
      }
     },
     "7bc0e0de4afd4924b34c9f4cbd060f10": {
      "model_module": "@jupyter-widgets/controls",
      "model_module_version": "1.4.0",
      "model_name": "DescriptionStyleModel",
      "state": {
       "description_width": ""
      }
     },
     "7c06b434a33c4642ae78add1640f7cd3": {
      "model_module": "@jupyter-widgets/controls",
      "model_module_version": "1.4.0",
      "model_name": "IntTextModel",
      "state": {
       "description": "space",
       "layout": "IPY_MODEL_600f90cdaf7a4150a3a961f3f0d2d41d",
       "step": 1,
       "style": "IPY_MODEL_06e92f06602b404baac6a80b7c99d33b",
       "value": 1
      }
     },
     "7c2230d1972a42b4b2b196fc60e79135": {
      "model_module": "@jupyter-widgets/controls",
      "model_module_version": "1.4.0",
      "model_name": "CheckboxModel",
      "state": {
       "description": "join",
       "disabled": false,
       "layout": "IPY_MODEL_9a6e06baec2644409098de4ad32777e7",
       "style": "IPY_MODEL_4f851a28b11446b289b98a595e99563b",
       "value": false
      }
     },
     "7c8db1e326e34ee5bd41f90d13230f6f": {
      "model_module": "@jupyter-widgets/controls",
      "model_module_version": "1.4.0",
      "model_name": "FloatTextModel",
      "state": {
       "description": "center",
       "layout": "IPY_MODEL_d1be9bdbce984599ae496b17f4c3f994",
       "step": null,
       "style": "IPY_MODEL_bbd9bd56474e45438fa34269b5fb4452",
       "value": 1
      }
     },
     "7cbb023061374fefbb63d202e9b728c9": {
      "model_module": "@jupyter-widgets/base",
      "model_module_version": "1.1.0",
      "model_name": "LayoutModel",
      "state": {}
     },
     "7ccecc03c4d34fd4bb4a392c2ead349f": {
      "model_module": "@jupyter-widgets/base",
      "model_module_version": "1.1.0",
      "model_name": "LayoutModel",
      "state": {}
     },
     "7d02d2cec3d8440ba654eed6e5f65c9d": {
      "model_module": "@jupyter-widgets/base",
      "model_module_version": "1.1.0",
      "model_name": "LayoutModel",
      "state": {}
     },
     "7d2bc2f09ca54402aba1ab141f15ab65": {
      "model_module": "@jupyter-widgets/controls",
      "model_module_version": "1.4.0",
      "model_name": "DescriptionStyleModel",
      "state": {
       "description_width": ""
      }
     },
     "7d33841bd27a45158f8b0a589f9cfc2d": {
      "model_module": "@jupyter-widgets/base",
      "model_module_version": "1.1.0",
      "model_name": "LayoutModel",
      "state": {}
     },
     "7d680b0b32124c1a9ddf0a04a1554064": {
      "model_module": "@jupyter-widgets/base",
      "model_module_version": "1.1.0",
      "model_name": "LayoutModel",
      "state": {}
     },
     "7d96b7a008e4420e898490396d0cb564": {
      "model_module": "@jupyter-widgets/base",
      "model_module_version": "1.1.0",
      "model_name": "LayoutModel",
      "state": {}
     },
     "7da15e46cf3b4d00bc284cf498809adc": {
      "model_module": "@jupyter-widgets/controls",
      "model_module_version": "1.4.0",
      "model_name": "DropdownModel",
      "state": {
       "_options_labels": [
        "Acceleration",
        "Cylinders",
        "Displacement",
        "Horsepower",
        "Miles_per_Gallon",
        "Name",
        "Origin",
        "Weight_in_lbs",
        "Year"
       ],
       "description": "col",
       "index": 0,
       "layout": "IPY_MODEL_248a50503c374c4294006373945e1420",
       "style": "IPY_MODEL_a0a8bce5077841bba41fdfc7c46783ff"
      }
     },
     "7da1ed8d8c2a45e0a2b4b3830f2b1f3b": {
      "model_module": "@jupyter-widgets/controls",
      "model_module_version": "1.4.0",
      "model_name": "DescriptionStyleModel",
      "state": {
       "description_width": ""
      }
     },
     "7dade4b32c9d4ad9983bb07a0504da19": {
      "model_module": "@jupyter-widgets/base",
      "model_module_version": "1.1.0",
      "model_name": "LayoutModel",
      "state": {}
     },
     "7dbc708e88f543b4ba7226195830eb01": {
      "model_module": "@jupyter-widgets/controls",
      "model_module_version": "1.4.0",
      "model_name": "DescriptionStyleModel",
      "state": {
       "description_width": ""
      }
     },
     "7e187273d42649f990d19631a7f104d1": {
      "model_module": "@jupyter-widgets/base",
      "model_module_version": "1.1.0",
      "model_name": "LayoutModel",
      "state": {}
     },
     "7e1f9eb41ff049c0a4653a340b01ad74": {
      "model_module": "@jupyter-widgets/controls",
      "model_module_version": "1.4.0",
      "model_name": "CheckboxModel",
      "state": {
       "description": "rug",
       "disabled": false,
       "layout": "IPY_MODEL_7016c27e54e945ed9223bf748915d492",
       "style": "IPY_MODEL_173c031db0814694a26d709dfc976e2b",
       "value": false
      }
     },
     "7e72869c66f7442180c4708680768591": {
      "model_module": "@jupyter-widgets/controls",
      "model_module_version": "1.4.0",
      "model_name": "DropdownModel",
      "state": {
       "_options_labels": [
        "proportion",
        "tukey",
        "trustworthy"
       ],
       "description": "k_depth",
       "index": 0,
       "layout": "IPY_MODEL_4804791750924ff58b0d4b6c6b067a93",
       "style": "IPY_MODEL_f4ce2b4c20254a3aa0f61030a1974901"
      }
     },
     "7e74f665455d42c0b8633aee12e58aae": {
      "model_module": "@jupyter-widgets/controls",
      "model_module_version": "1.4.0",
      "model_name": "DescriptionStyleModel",
      "state": {
       "description_width": ""
      }
     },
     "7e89120405a44a81b714e56bc12b8df5": {
      "model_module": "@jupyter-widgets/controls",
      "model_module_version": "1.4.0",
      "model_name": "LabelModel",
      "state": {
       "layout": "IPY_MODEL_e5e2760efef84f06803d552accacead4",
       "style": "IPY_MODEL_4c7c286c6f2b40d0ba2a41241e009f01",
       "value": "---"
      }
     },
     "7e898372f4b043cea551df21ae7c9a65": {
      "model_module": "@jupyter-widgets/controls",
      "model_module_version": "1.4.0",
      "model_name": "HBoxModel",
      "state": {
       "children": [
        "IPY_MODEL_0631aec5a1d9498eafe9dff8e33dd7f4"
       ],
       "layout": "IPY_MODEL_f601dab2990840baacbb665cc96782d0"
      }
     },
     "7eff8b37cfaa4301ab2465a243314407": {
      "model_module": "@jupyter-widgets/controls",
      "model_module_version": "1.4.0",
      "model_name": "HBoxModel",
      "state": {
       "children": [
        "IPY_MODEL_95daa4e3f69a49beb6bd33c0422a2431",
        "IPY_MODEL_c8cef68cc09b4b5389db4d5bbfa0a25e"
       ],
       "layout": "IPY_MODEL_302c7faf0a1747ae8c955a0294e0d3fa"
      }
     },
     "7f0cd4d0bcab4c7ea8f4d42cec48c464": {
      "model_module": "@jupyter-widgets/controls",
      "model_module_version": "1.4.0",
      "model_name": "DescriptionStyleModel",
      "state": {
       "description_width": ""
      }
     },
     "7f66414d70cf4f56a297f6e7a52501ff": {
      "model_module": "@jupyter-widgets/base",
      "model_module_version": "1.1.0",
      "model_name": "LayoutModel",
      "state": {}
     },
     "7f7b9415fb114aebb5610a46605e593e": {
      "model_module": "@jupyter-widgets/base",
      "model_module_version": "1.1.0",
      "model_name": "LayoutModel",
      "state": {}
     },
     "7ffec342e7e84050a5cb5cc0dbe23dda": {
      "model_module": "@jupyter-widgets/controls",
      "model_module_version": "1.4.0",
      "model_name": "FloatTextModel",
      "state": {
       "description": "capsize",
       "layout": "IPY_MODEL_bb2a9293cdd7433a9794d788e7c8bdbc",
       "step": null,
       "style": "IPY_MODEL_07eb7d8f2d5742aca7f53bcab35d674b",
       "value": 1
      }
     },
     "8018da4dfd41425daf111116238397b7": {
      "model_module": "@jupyter-widgets/controls",
      "model_module_version": "1.4.0",
      "model_name": "CheckboxModel",
      "state": {
       "description": "fit_reg",
       "disabled": false,
       "layout": "IPY_MODEL_dd0a8273233241ad89ae73702d6734d6",
       "style": "IPY_MODEL_75d26c716e1c4a7fb52e3f252ec799fe",
       "value": false
      }
     },
     "802dbacffecd4d288dd596f1a922f322": {
      "model_module": "@jupyter-widgets/controls",
      "model_module_version": "1.4.0",
      "model_name": "CheckboxModel",
      "state": {
       "description": "margin_titles",
       "disabled": false,
       "layout": "IPY_MODEL_f964cf4dd4b7478d886ebb9771add571",
       "style": "IPY_MODEL_63024d90ae2e4bd49d756daa86d9bc91",
       "value": false
      }
     },
     "8031a9dee036446fab3b683cbd416760": {
      "model_module": "@jupyter-widgets/base",
      "model_module_version": "1.1.0",
      "model_name": "LayoutModel",
      "state": {}
     },
     "80b70c3303e64e4aa91ec052fac41591": {
      "model_module": "@jupyter-widgets/controls",
      "model_module_version": "1.4.0",
      "model_name": "DropdownModel",
      "state": {
       "_options_labels": [
        "col",
        "row",
        "True"
       ],
       "description": "sharey",
       "index": 0,
       "layout": "IPY_MODEL_5388387bf24a46ae9012b4b89e2a14d8",
       "style": "IPY_MODEL_313b177385c24c31b71c81f20c671b72"
      }
     },
     "810ce58842d84cb2b2e2582b6a0c22ca": {
      "model_module": "@jupyter-widgets/controls",
      "model_module_version": "1.4.0",
      "model_name": "DescriptionStyleModel",
      "state": {
       "description_width": ""
      }
     },
     "8116796706314e4d9ce67ca01ba5e01a": {
      "model_module": "@jupyter-widgets/base",
      "model_module_version": "1.1.0",
      "model_name": "LayoutModel",
      "state": {}
     },
     "8129013c286146b5bbf468fb5ea1adfb": {
      "model_module": "@jupyter-widgets/controls",
      "model_module_version": "1.4.0",
      "model_name": "DescriptionStyleModel",
      "state": {
       "description_width": ""
      }
     },
     "812a73dbab2e4e419a290e528f49bd82": {
      "model_module": "@jupyter-widgets/controls",
      "model_module_version": "1.4.0",
      "model_name": "LabelModel",
      "state": {
       "layout": "IPY_MODEL_a0ac1cc55e9343e2ac9d5a37877800c9",
       "style": "IPY_MODEL_956d41fff3f143f993ea0f95376ad2d6",
       "value": "---"
      }
     },
     "8145fe01d07c4b5ea60859bbb0158feb": {
      "model_module": "@jupyter-widgets/base",
      "model_module_version": "1.1.0",
      "model_name": "LayoutModel",
      "state": {}
     },
     "8179ed6de20f4d548d0b715cb2dae4ba": {
      "model_module": "@jupyter-widgets/base",
      "model_module_version": "1.1.0",
      "model_name": "LayoutModel",
      "state": {}
     },
     "8193312c5a46404c991941455a08c0d0": {
      "model_module": "@jupyter-widgets/controls",
      "model_module_version": "1.4.0",
      "model_name": "ButtonModel",
      "state": {
       "description": "remove",
       "layout": "IPY_MODEL_59f5afbcc05f494f9d0e347f523e8ca3",
       "style": "IPY_MODEL_5bf8e286845945f3bed32109a78f109f"
      }
     },
     "8196412921884ba9ad021e235df0a387": {
      "model_module": "@jupyter-widgets/base",
      "model_module_version": "1.1.0",
      "model_name": "LayoutModel",
      "state": {}
     },
     "81979193e45c49c8b12dd0802efd0459": {
      "model_module": "@jupyter-widgets/controls",
      "model_module_version": "1.4.0",
      "model_name": "ButtonModel",
      "state": {
       "description": "remove",
       "layout": "IPY_MODEL_65b39fc082494958be5c6a9ee7b1def2",
       "style": "IPY_MODEL_231ed9b1c8ab4e628ec164b9a53ec869"
      }
     },
     "81a69587e58b4c23924b660161b3ff45": {
      "model_module": "@jupyter-widgets/controls",
      "model_module_version": "1.4.0",
      "model_name": "DescriptionStyleModel",
      "state": {
       "description_width": ""
      }
     },
     "81b614f3b99c4a71bd840488688df10a": {
      "model_module": "@jupyter-widgets/controls",
      "model_module_version": "1.4.0",
      "model_name": "DropdownModel",
      "state": {
       "_options_labels": [
        "gau",
        "cos",
        "biw",
        "epa",
        "tri",
        "triw"
       ],
       "description": "kernel",
       "index": 0,
       "layout": "IPY_MODEL_ca73dd104c52453aa082b27721f86f33",
       "style": "IPY_MODEL_ff4ba7ab70dc4d8f8a8a9b10e32e4bac"
      }
     },
     "81c005c5b4ce469eb24cb75e51cefe9f": {
      "model_module": "@jupyter-widgets/controls",
      "model_module_version": "1.4.0",
      "model_name": "ButtonStyleModel",
      "state": {}
     },
     "81c5674f74ce422ba59951b6595a2548": {
      "model_module": "@jupyter-widgets/base",
      "model_module_version": "1.1.0",
      "model_name": "LayoutModel",
      "state": {}
     },
     "822da89f4ca244fdba344462a0af9914": {
      "model_module": "@jupyter-widgets/base",
      "model_module_version": "1.1.0",
      "model_name": "LayoutModel",
      "state": {}
     },
     "82339ab43ae04cd9843f10a0731b8f51": {
      "model_module": "@jupyter-widgets/base",
      "model_module_version": "1.1.0",
      "model_name": "LayoutModel",
      "state": {}
     },
     "8246257368ed446bba941b12d5b347ac": {
      "model_module": "@jupyter-widgets/controls",
      "model_module_version": "1.4.0",
      "model_name": "DescriptionStyleModel",
      "state": {
       "description_width": ""
      }
     },
     "828f819b33764216b7a76df030be6752": {
      "model_module": "@jupyter-widgets/controls",
      "model_module_version": "1.4.0",
      "model_name": "DropdownModel",
      "state": {
       "_options_labels": [
        "Acceleration",
        "Cylinders",
        "Displacement",
        "Horsepower",
        "Miles_per_Gallon",
        "Name",
        "Origin",
        "Weight_in_lbs",
        "Year"
       ],
       "description": "x",
       "index": 0,
       "layout": "IPY_MODEL_9fc677ef12cc4c6386187abd8658bb77",
       "style": "IPY_MODEL_cbe77a068f3b402a950461958c40b670"
      }
     },
     "82a4e5081f144cf6925de9fc5f3d6281": {
      "model_module": "@jupyter-widgets/base",
      "model_module_version": "1.1.0",
      "model_name": "LayoutModel",
      "state": {}
     },
     "82d37ba5928c40a7ad360eebbf3079e7": {
      "model_module": "@jupyter-widgets/base",
      "model_module_version": "1.1.0",
      "model_name": "LayoutModel",
      "state": {}
     },
     "82df864917b543d0aba3c2096e956c7a": {
      "model_module": "@jupyter-widgets/controls",
      "model_module_version": "1.4.0",
      "model_name": "ButtonStyleModel",
      "state": {}
     },
     "82ee1becd0bf422c9f8ae3c9dddedfa4": {
      "model_module": "@jupyter-widgets/controls",
      "model_module_version": "1.4.0",
      "model_name": "ButtonModel",
      "state": {
       "description": "remove",
       "layout": "IPY_MODEL_bcc67d07968242e39394ea150c06422f",
       "style": "IPY_MODEL_17bac535b18542149fd4633ab77e8d60"
      }
     },
     "82f6d07889ed47d0bf9bc7de7c2ea656": {
      "model_module": "@jupyter-widgets/controls",
      "model_module_version": "1.4.0",
      "model_name": "DescriptionStyleModel",
      "state": {
       "description_width": ""
      }
     },
     "8301a85d81d54dfbb639c7f04ec1cdc8": {
      "model_module": "@jupyter-widgets/controls",
      "model_module_version": "1.4.0",
      "model_name": "HBoxModel",
      "state": {
       "children": [
        "IPY_MODEL_273bc4b6f98244cfab226d3c9138672a"
       ],
       "layout": "IPY_MODEL_5f718340b2c24925bb6ca9c59ca350ba"
      }
     },
     "835adc9096ab4e86b139f12966d71e6e": {
      "model_module": "@jupyter-widgets/controls",
      "model_module_version": "1.4.0",
      "model_name": "DescriptionStyleModel",
      "state": {
       "description_width": ""
      }
     },
     "837a71b4b4654054b1db32de1e6e5882": {
      "model_module": "@jupyter-widgets/base",
      "model_module_version": "1.1.0",
      "model_name": "LayoutModel",
      "state": {}
     },
     "83d0817e5972441aab643b439e85333f": {
      "model_module": "@jupyter-widgets/controls",
      "model_module_version": "1.4.0",
      "model_name": "CheckboxModel",
      "state": {
       "description": "cbar_ax",
       "disabled": false,
       "layout": "IPY_MODEL_b61c1b49941747d198da33661f0a3392",
       "style": "IPY_MODEL_20ab89114fa14207bc77a1043c43edd5",
       "value": false
      }
     },
     "83d735650bd843588d70b926c32535dd": {
      "model_module": "@jupyter-widgets/controls",
      "model_module_version": "1.4.0",
      "model_name": "CheckboxModel",
      "state": {
       "description": "kde",
       "disabled": false,
       "layout": "IPY_MODEL_482074b31bce44078b5f12882891ebec",
       "style": "IPY_MODEL_ee173d87176c441c9fddf65a7ee7678d",
       "value": false
      }
     },
     "83e15bcdcdde42378d32eee17f48fabc": {
      "model_module": "@jupyter-widgets/controls",
      "model_module_version": "1.4.0",
      "model_name": "DescriptionStyleModel",
      "state": {
       "description_width": ""
      }
     },
     "83e9969a711e40e6b345c8ff9ebd56cf": {
      "model_module": "@jupyter-widgets/controls",
      "model_module_version": "1.4.0",
      "model_name": "ButtonModel",
      "state": {
       "description": "remove",
       "layout": "IPY_MODEL_442f367e1c4549a68616a4ef452d728b",
       "style": "IPY_MODEL_e806d6b8459c433e96ed1f61947d5ba2"
      }
     },
     "83f448d829784e6b899c224bd382c8d0": {
      "model_module": "@jupyter-widgets/base",
      "model_module_version": "1.1.0",
      "model_name": "LayoutModel",
      "state": {}
     },
     "8425f4a5b29e43248f355f84c56b958e": {
      "model_module": "@jupyter-widgets/controls",
      "model_module_version": "1.4.0",
      "model_name": "DescriptionStyleModel",
      "state": {
       "description_width": ""
      }
     },
     "84362cb84ac64972b378adb8a22db7a1": {
      "model_module": "@jupyter-widgets/controls",
      "model_module_version": "1.4.0",
      "model_name": "DescriptionStyleModel",
      "state": {
       "description_width": ""
      }
     },
     "847257eb144641989b32c5334492e9d5": {
      "model_module": "@jupyter-widgets/controls",
      "model_module_version": "1.4.0",
      "model_name": "DescriptionStyleModel",
      "state": {
       "description_width": ""
      }
     },
     "849aea6e7ccd4ed4bc64d2b3cc2abc27": {
      "model_module": "@jupyter-widgets/controls",
      "model_module_version": "1.4.0",
      "model_name": "CheckboxModel",
      "state": {
       "description": "annot",
       "disabled": false,
       "layout": "IPY_MODEL_bfc4858cf10b441ba15b2d41894d9278",
       "style": "IPY_MODEL_a8d3809e5f834462a164cc82037436dd",
       "value": false
      }
     },
     "84af55c6655a4efe94b3edb28b6f7eb9": {
      "model_module": "@jupyter-widgets/controls",
      "model_module_version": "1.4.0",
      "model_name": "FloatTextModel",
      "state": {
       "description": "whis",
       "layout": "IPY_MODEL_87a0c948f52b442e98d5180c9490b288",
       "step": null,
       "style": "IPY_MODEL_cff0b75a6b3b44bd8a7f8ff8013a2bb9",
       "value": 1
      }
     },
     "84bddde737044ac4a43845c845497bff": {
      "model_module": "@jupyter-widgets/controls",
      "model_module_version": "1.4.0",
      "model_name": "DescriptionStyleModel",
      "state": {
       "description_width": ""
      }
     },
     "8528944f89404ec6827d879d5f60de78": {
      "model_module": "@jupyter-widgets/base",
      "model_module_version": "1.1.0",
      "model_name": "LayoutModel",
      "state": {}
     },
     "8537da884d5b46fa87a3a89bbb84ae95": {
      "model_module": "@jupyter-widgets/controls",
      "model_module_version": "1.4.0",
      "model_name": "LabelModel",
      "state": {
       "layout": "IPY_MODEL_7259c396df9a4c3481d9e8a4a3bcc1c6",
       "style": "IPY_MODEL_b0d1035391a143299505b047eb390d63",
       "value": "---"
      }
     },
     "85b2dc480b794ca2984aa84aab6a470f": {
      "model_module": "@jupyter-widgets/base",
      "model_module_version": "1.1.0",
      "model_name": "LayoutModel",
      "state": {}
     },
     "85d0f0af05c14b38aae8a01d7769d256": {
      "model_module": "@jupyter-widgets/base",
      "model_module_version": "1.1.0",
      "model_name": "LayoutModel",
      "state": {}
     },
     "85e20c92bb1b4116acb7e148560d3ba5": {
      "model_module": "@jupyter-widgets/base",
      "model_module_version": "1.1.0",
      "model_name": "LayoutModel",
      "state": {}
     },
     "85fcd825c12d45d7b6a51bf11ed3f0a2": {
      "model_module": "@jupyter-widgets/controls",
      "model_module_version": "1.4.0",
      "model_name": "FloatTextModel",
      "state": {
       "description": "fliersize",
       "layout": "IPY_MODEL_f39bd55e976249eeb8cabc3268cdaa4f",
       "step": null,
       "style": "IPY_MODEL_8fc71a9eb14e47b193647645a3d8bfd9",
       "value": 1
      }
     },
     "861c22506f71494190fb0234f33ea18f": {
      "model_module": "@jupyter-widgets/controls",
      "model_module_version": "1.4.0",
      "model_name": "ButtonModel",
      "state": {
       "description": "remove",
       "layout": "IPY_MODEL_fb4553ac8eae4c248d689f32ed5133a9",
       "style": "IPY_MODEL_0a2f8204eb044620912a931a6a56749e"
      }
     },
     "861cecb5f1e84940b52e08a1869a2302": {
      "model_module": "@jupyter-widgets/controls",
      "model_module_version": "1.4.0",
      "model_name": "CheckboxModel",
      "state": {
       "description": "lowess",
       "disabled": false,
       "layout": "IPY_MODEL_e28207253c0e4f7f981ff5bb58af60c6",
       "style": "IPY_MODEL_7bc0e0de4afd4924b34c9f4cbd060f10",
       "value": false
      }
     },
     "867d9fddd82c4cd299822e0922685d0f": {
      "model_module": "@jupyter-widgets/controls",
      "model_module_version": "1.4.0",
      "model_name": "DescriptionStyleModel",
      "state": {
       "description_width": ""
      }
     },
     "86ad712841bd4fbcb714bfdfb3934ab1": {
      "model_module": "@jupyter-widgets/controls",
      "model_module_version": "1.4.0",
      "model_name": "DescriptionStyleModel",
      "state": {
       "description_width": ""
      }
     },
     "86bfbc69ad644b4fbdbf3dc82dc4735f": {
      "model_module": "@jupyter-widgets/base",
      "model_module_version": "1.1.0",
      "model_name": "LayoutModel",
      "state": {}
     },
     "86da5feb4f32425aa7c122ab5d894a3d": {
      "model_module": "@jupyter-widgets/controls",
      "model_module_version": "1.4.0",
      "model_name": "DescriptionStyleModel",
      "state": {
       "description_width": ""
      }
     },
     "86f46053a10f4645affab06126fd0ed6": {
      "model_module": "@jupyter-widgets/controls",
      "model_module_version": "1.4.0",
      "model_name": "CheckboxModel",
      "state": {
       "description": "dropna",
       "disabled": false,
       "layout": "IPY_MODEL_6c29ef8726604958a03a506f9f3b3603",
       "style": "IPY_MODEL_d05cda21842548eeb1149cebee9f547d",
       "value": false
      }
     },
     "870fcc1710b043989b8d47c15450d555": {
      "model_module": "@jupyter-widgets/controls",
      "model_module_version": "1.4.0",
      "model_name": "DescriptionStyleModel",
      "state": {
       "description_width": ""
      }
     },
     "871f52b2e7174354924b54739e46d860": {
      "model_module": "@jupyter-widgets/controls",
      "model_module_version": "1.4.0",
      "model_name": "DropdownModel",
      "state": {
       "_options_labels": [
        "Acceleration",
        "Cylinders",
        "Displacement",
        "Horsepower",
        "Miles_per_Gallon",
        "Name",
        "Origin",
        "Weight_in_lbs",
        "Year"
       ],
       "description": "style",
       "index": 0,
       "layout": "IPY_MODEL_7aeb4d7dedee452b99fcaaabdfc258fe",
       "style": "IPY_MODEL_ea1d417607404a44a8aed15577e28240"
      }
     },
     "872fdc1b8c394c6b9094f6df66afa28e": {
      "model_module": "@jupyter-widgets/controls",
      "model_module_version": "1.4.0",
      "model_name": "FloatTextModel",
      "state": {
       "description": "height",
       "layout": "IPY_MODEL_c723277b0bd74566bed1432e595cd192",
       "step": null,
       "style": "IPY_MODEL_14719c10b9ef4f3c987ac9509eef0061",
       "value": 1
      }
     },
     "873aca88e1ac4ca3a407154e649b3a5b": {
      "model_module": "@jupyter-widgets/controls",
      "model_module_version": "1.4.0",
      "model_name": "CheckboxModel",
      "state": {
       "description": "auto-update",
       "disabled": false,
       "layout": "IPY_MODEL_aa4409cfdcd345c9b567f1f761b5dad5",
       "style": "IPY_MODEL_cb14e54d30984a9494db57c2cdd092be",
       "value": true
      }
     },
     "87a0c948f52b442e98d5180c9490b288": {
      "model_module": "@jupyter-widgets/base",
      "model_module_version": "1.1.0",
      "model_name": "LayoutModel",
      "state": {}
     },
     "87bda398155b4e3596cdba68bc8d46a3": {
      "model_module": "@jupyter-widgets/base",
      "model_module_version": "1.1.0",
      "model_name": "LayoutModel",
      "state": {}
     },
     "87c3baa5e97a4637a52f988c25ae010d": {
      "model_module": "@jupyter-widgets/base",
      "model_module_version": "1.1.0",
      "model_name": "LayoutModel",
      "state": {}
     },
     "87cb96d6bee94b5db499a10a7bac66b9": {
      "model_module": "@jupyter-widgets/base",
      "model_module_version": "1.1.0",
      "model_name": "LayoutModel",
      "state": {}
     },
     "8813c1477e1f4ec6985c6ab05d421887": {
      "model_module": "@jupyter-widgets/controls",
      "model_module_version": "1.4.0",
      "model_name": "DescriptionStyleModel",
      "state": {
       "description_width": ""
      }
     },
     "8876f3832285442e956d92910dc99376": {
      "model_module": "@jupyter-widgets/controls",
      "model_module_version": "1.4.0",
      "model_name": "ButtonModel",
      "state": {
       "description": "remove",
       "layout": "IPY_MODEL_1cdde5c23f194c52a26325c8147d3911",
       "style": "IPY_MODEL_a758b57c94fa49b4bc538c6c2b6df932"
      }
     },
     "8895f71b8ac84427806861bbee5b2b81": {
      "model_module": "@jupyter-widgets/base",
      "model_module_version": "1.1.0",
      "model_name": "LayoutModel",
      "state": {}
     },
     "88aecd2c8bf547eb912d3dcf5e030825": {
      "model_module": "@jupyter-widgets/controls",
      "model_module_version": "1.4.0",
      "model_name": "DescriptionStyleModel",
      "state": {
       "description_width": ""
      }
     },
     "88d4c8ba56c14f5db867738a3511fa72": {
      "model_module": "@jupyter-widgets/base",
      "model_module_version": "1.1.0",
      "model_name": "LayoutModel",
      "state": {}
     },
     "88d8f04c0e4f44d2b0835e82744c9f13": {
      "model_module": "@jupyter-widgets/base",
      "model_module_version": "1.1.0",
      "model_name": "LayoutModel",
      "state": {}
     },
     "88e26cec1ec74ae9930c36611398e6c8": {
      "model_module": "@jupyter-widgets/controls",
      "model_module_version": "1.4.0",
      "model_name": "DescriptionStyleModel",
      "state": {
       "description_width": ""
      }
     },
     "88f745ef31c042ceb18de129af44fb3c": {
      "model_module": "@jupyter-widgets/base",
      "model_module_version": "1.1.0",
      "model_name": "LayoutModel",
      "state": {}
     },
     "89219e69aeba4e4ea05f97449c0633ff": {
      "model_module": "@jupyter-widgets/base",
      "model_module_version": "1.1.0",
      "model_name": "LayoutModel",
      "state": {}
     },
     "893a8fa476b7415db90ba553630ecf24": {
      "model_module": "@jupyter-widgets/controls",
      "model_module_version": "1.4.0",
      "model_name": "DescriptionStyleModel",
      "state": {
       "description_width": ""
      }
     },
     "89494173fb8544fba828d73ffe8b1820": {
      "model_module": "@jupyter-widgets/controls",
      "model_module_version": "1.4.0",
      "model_name": "DescriptionStyleModel",
      "state": {
       "description_width": ""
      }
     },
     "894e91672c984fbeb93e2a68e87c191e": {
      "model_module": "@jupyter-widgets/base",
      "model_module_version": "1.1.0",
      "model_name": "LayoutModel",
      "state": {}
     },
     "896136fc0ea2463bbaf59971954fa11a": {
      "model_module": "@jupyter-widgets/controls",
      "model_module_version": "1.4.0",
      "model_name": "HBoxModel",
      "state": {
       "children": [
        "IPY_MODEL_95daa4e3f69a49beb6bd33c0422a2431",
        "IPY_MODEL_afcd4e2e56d847fb988cb4488c0d25b4"
       ],
       "layout": "IPY_MODEL_d19a324f7f5a4a8d99dcfc19daa9602c"
      }
     },
     "896f7bd6572640448ed5861e8bda752c": {
      "model_module": "@jupyter-widgets/base",
      "model_module_version": "1.1.0",
      "model_name": "LayoutModel",
      "state": {}
     },
     "8970c8b48c824941ba7edb6146557afb": {
      "model_module": "@jupyter-widgets/base",
      "model_module_version": "1.1.0",
      "model_name": "LayoutModel",
      "state": {}
     },
     "89901b0eb4c347d6aa73c91c3e96824d": {
      "model_module": "@jupyter-widgets/base",
      "model_module_version": "1.1.0",
      "model_name": "LayoutModel",
      "state": {}
     },
     "89b0f3ad0eae43eaaa2b93c56adabe37": {
      "model_module": "@jupyter-widgets/controls",
      "model_module_version": "1.4.0",
      "model_name": "HBoxModel",
      "state": {
       "children": [
        "IPY_MODEL_4a7468138d3e456ead9aa042e2ce3017"
       ],
       "layout": "IPY_MODEL_a8b6234b8aaf48989fc20e9fcb6deb4a"
      }
     },
     "89edd7af179f4a65ae141a8d23b4bbdd": {
      "model_module": "@jupyter-widgets/controls",
      "model_module_version": "1.4.0",
      "model_name": "CheckboxModel",
      "state": {
       "description": "notch",
       "disabled": false,
       "layout": "IPY_MODEL_c4538328ee16432bb1ae3815aeff212b",
       "style": "IPY_MODEL_48a5a32c6cad4f3e9aecd2f5ad067c2b",
       "value": true
      }
     },
     "8a32cfd555974019ad609b0fb8b04473": {
      "model_module": "@jupyter-widgets/controls",
      "model_module_version": "1.4.0",
      "model_name": "DescriptionStyleModel",
      "state": {
       "description_width": ""
      }
     },
     "8a86bdddb84c47ae8f9bb5849005f1e3": {
      "model_module": "@jupyter-widgets/controls",
      "model_module_version": "1.4.0",
      "model_name": "CheckboxModel",
      "state": {
       "description": "join",
       "disabled": false,
       "layout": "IPY_MODEL_4dac7adc89874a328549c3318b035dc3",
       "style": "IPY_MODEL_dc751f2a534c4460ba6e1d3b111aa6c4",
       "value": false
      }
     },
     "8a8e2f362285497898175e9b6b9395f7": {
      "model_module": "@jupyter-widgets/controls",
      "model_module_version": "1.4.0",
      "model_name": "DropdownModel",
      "state": {
       "_options_labels": [
        "barplot",
        "boxenplot",
        "boxplot",
        "catplot",
        "countplot",
        "distplot",
        "heatmap",
        "jointplot",
        "kdeplot",
        "lineplot",
        "lmplot",
        "pairplot",
        "pointplot",
        "regplot",
        "relplot",
        "residplot",
        "scatterplot",
        "stripplot",
        "swarmplot",
        "violinplot"
       ],
       "description": "Plot type",
       "index": 2,
       "layout": "IPY_MODEL_1a8654da73e9455a8618d655082c17e8",
       "style": "IPY_MODEL_d2b9d1ebdd094a3d8d2d5c974660b916"
      }
     },
     "8aa32a4d6dfe47cf82e280b4a7edb992": {
      "model_module": "@jupyter-widgets/controls",
      "model_module_version": "1.4.0",
      "model_name": "CheckboxModel",
      "state": {
       "description": "shade_lowest",
       "disabled": false,
       "layout": "IPY_MODEL_1862c4c89cf24ba8af0318fa0e28dd35",
       "style": "IPY_MODEL_88aecd2c8bf547eb912d3dcf5e030825",
       "value": false
      }
     },
     "8b126dad4ae643688215bb9d5b71fbe2": {
      "model_module": "@jupyter-widgets/controls",
      "model_module_version": "1.4.0",
      "model_name": "IntSliderModel",
      "state": {
       "description": "x_ci",
       "layout": "IPY_MODEL_f326a11d2d454c85901b97464e0ad0d7",
       "style": "IPY_MODEL_1be9c6c183e3407cafbf367a9a492a88",
       "value": 95
      }
     },
     "8b1c7e7c165449199659254610af2230": {
      "model_module": "@jupyter-widgets/controls",
      "model_module_version": "1.4.0",
      "model_name": "DescriptionStyleModel",
      "state": {
       "description_width": ""
      }
     },
     "8b71072f9d32497cb3b24cc97f4e4002": {
      "model_module": "@jupyter-widgets/base",
      "model_module_version": "1.1.0",
      "model_name": "LayoutModel",
      "state": {}
     },
     "8b9eb88557844cbe9f57f6cdc70d51d4": {
      "model_module": "@jupyter-widgets/base",
      "model_module_version": "1.1.0",
      "model_name": "LayoutModel",
      "state": {}
     },
     "8bae00043ba541909eab8205456dc239": {
      "model_module": "@jupyter-widgets/base",
      "model_module_version": "1.1.0",
      "model_name": "LayoutModel",
      "state": {}
     },
     "8bb7bd03897d437ca93ac681e29c4e6f": {
      "model_module": "@jupyter-widgets/base",
      "model_module_version": "1.1.0",
      "model_name": "LayoutModel",
      "state": {}
     },
     "8bbefe2b120a486ea949fa0672d250e7": {
      "model_module": "@jupyter-widgets/base",
      "model_module_version": "1.1.0",
      "model_name": "LayoutModel",
      "state": {}
     },
     "8bfbfc8a307249cc805764a9f9023609": {
      "model_module": "@jupyter-widgets/controls",
      "model_module_version": "1.4.0",
      "model_name": "DropdownModel",
      "state": {
       "_options_labels": [
        "Acceleration",
        "Cylinders",
        "Displacement",
        "Horsepower",
        "Miles_per_Gallon",
        "Name",
        "Origin",
        "Weight_in_lbs",
        "Year"
       ],
       "description": "x_partial",
       "index": 0,
       "layout": "IPY_MODEL_d7f266aabf984c2a92451e028b78167f",
       "style": "IPY_MODEL_184b6294d8cd42fba37e2851a6868748"
      }
     },
     "8c5728192dad468ba7be8ec97b25785f": {
      "model_module": "@jupyter-widgets/controls",
      "model_module_version": "1.4.0",
      "model_name": "HBoxModel",
      "state": {
       "children": [
        "IPY_MODEL_a9690d503c29458eb5fa99ed97ecb43c",
        "IPY_MODEL_4a693834d5e146de927af6412a422691"
       ],
       "layout": "IPY_MODEL_68a0e785e63d4842aef0a871c10eb653"
      }
     },
     "8d344ce46d5c49e3988015104858e4c9": {
      "model_module": "@jupyter-widgets/base",
      "model_module_version": "1.1.0",
      "model_name": "LayoutModel",
      "state": {}
     },
     "8d39f34ca3da41ac99c2b0a8bba99628": {
      "model_module": "@jupyter-widgets/base",
      "model_module_version": "1.1.0",
      "model_name": "LayoutModel",
      "state": {}
     },
     "8d3c49dca192418f8915774bd5b1d4df": {
      "model_module": "@jupyter-widgets/controls",
      "model_module_version": "1.4.0",
      "model_name": "ButtonModel",
      "state": {
       "description": "remove",
       "layout": "IPY_MODEL_56fec25da34a4c60b69e6c74c37af115",
       "style": "IPY_MODEL_dfb30ead496246fcb443d9ce3c707c20"
      }
     },
     "8d6b41b837a74dafa3760944fd91c873": {
      "model_module": "@jupyter-widgets/controls",
      "model_module_version": "1.4.0",
      "model_name": "DescriptionStyleModel",
      "state": {
       "description_width": ""
      }
     },
     "8d7b6dd4e0c84c789add7a26d8ebeb2d": {
      "model_module": "@jupyter-widgets/controls",
      "model_module_version": "1.4.0",
      "model_name": "DescriptionStyleModel",
      "state": {
       "description_width": ""
      }
     },
     "8de1ea11739840efa9ffaf98d0d8ae9a": {
      "model_module": "@jupyter-widgets/controls",
      "model_module_version": "1.4.0",
      "model_name": "TextModel",
      "state": {
       "description": "fmt",
       "layout": "IPY_MODEL_cbd7be723a5c48b38148210d4d524800",
       "style": "IPY_MODEL_35a864139ddc410cb8d270a4f703f276"
      }
     },
     "8de658d5ca3f47a299ebbb27da980cc7": {
      "model_module": "@jupyter-widgets/controls",
      "model_module_version": "1.4.0",
      "model_name": "TextModel",
      "state": {
       "description": "palette",
       "layout": "IPY_MODEL_06daee1345dd43958b8c65b604eb653f",
       "style": "IPY_MODEL_dfa0adb26c4c4b48ac75e06fc3236f0c"
      }
     },
     "8de6f5e9e5ea43fa84f4331294e8df9e": {
      "model_module": "@jupyter-widgets/base",
      "model_module_version": "1.1.0",
      "model_name": "LayoutModel",
      "state": {}
     },
     "8e051ef9fa14434886a4f2eaccc14004": {
      "model_module": "@jupyter-widgets/controls",
      "model_module_version": "1.4.0",
      "model_name": "FloatTextModel",
      "state": {
       "description": "saturation",
       "layout": "IPY_MODEL_822da89f4ca244fdba344462a0af9914",
       "step": null,
       "style": "IPY_MODEL_ca2f315117854559a2c20a10ae1f9610",
       "value": 1
      }
     },
     "8e826d1b481a49bba13ed3a95fb3feef": {
      "model_module": "@jupyter-widgets/controls",
      "model_module_version": "1.4.0",
      "model_name": "DropdownModel",
      "state": {
       "_options_labels": [
        "full",
        "brief",
        "False"
       ],
       "description": "legend",
       "index": 0,
       "layout": "IPY_MODEL_97cdaffd8fa14a799272224809567942",
       "style": "IPY_MODEL_e354f7e9ede14e02b9b4c3dee80b3095"
      }
     },
     "8e906d7b62e04458a2cce695e7931b84": {
      "model_module": "@jupyter-widgets/controls",
      "model_module_version": "1.4.0",
      "model_name": "LabelModel",
      "state": {
       "layout": "IPY_MODEL_fa05b9ef87cc4d2ebd7e7bf0408bd75a",
       "style": "IPY_MODEL_6c9f34ea921447e3a1fa1590645001ca",
       "value": "---"
      }
     },
     "8ef30ce044174083b340d1f612dc8ca8": {
      "model_module": "@jupyter-widgets/controls",
      "model_module_version": "1.4.0",
      "model_name": "DropdownModel",
      "state": {
       "_options_labels": [
        "auto",
        "hist",
        "kde"
       ],
       "description": "diag_kind",
       "index": 0,
       "layout": "IPY_MODEL_4dada54beefa4bc4ae0da4e9dfff71f4",
       "style": "IPY_MODEL_9ca1ca9a3b0c4f89a30f302af26847ae"
      }
     },
     "8f2e9afe57624baf9e01f9fcc9432f9c": {
      "model_module": "@jupyter-widgets/controls",
      "model_module_version": "1.4.0",
      "model_name": "IntTextModel",
      "state": {
       "description": "gridsize",
       "layout": "IPY_MODEL_32ebf4b4c3ae4a3c87cf33f95fb2860b",
       "step": 1,
       "style": "IPY_MODEL_4a21aa6d6be845878a10583f468b0571",
       "value": 100
      }
     },
     "8f41f84d50024fc7ab1f845bf9e1d477": {
      "model_module": "@jupyter-widgets/controls",
      "model_module_version": "1.4.0",
      "model_name": "CheckboxModel",
      "state": {
       "description": "legend_out",
       "disabled": false,
       "layout": "IPY_MODEL_2e5e8270c5854af89881668a5952533f",
       "style": "IPY_MODEL_5a43a15713484edfa9eb88099a47c381",
       "value": false
      }
     },
     "8f4229639157468282662d04b22d617f": {
      "model_module": "@jupyter-widgets/base",
      "model_module_version": "1.1.0",
      "model_name": "LayoutModel",
      "state": {}
     },
     "8f4f77616fbc4bfba54ccf4297a0c79c": {
      "model_module": "@jupyter-widgets/controls",
      "model_module_version": "1.4.0",
      "model_name": "DescriptionStyleModel",
      "state": {
       "description_width": ""
      }
     },
     "8f505b700698461ab07e624729395dd9": {
      "model_module": "@jupyter-widgets/controls",
      "model_module_version": "1.4.0",
      "model_name": "HBoxModel",
      "state": {
       "children": [
        "IPY_MODEL_828f819b33764216b7a76df030be6752",
        "IPY_MODEL_25ed827528a8437b94f571c63ec422ec"
       ],
       "layout": "IPY_MODEL_f1b6d1535c6a480fbc8b99dec3e30e1b"
      }
     },
     "8f7bef6b50ff47d8ac212ef2dce8d625": {
      "model_module": "@jupyter-widgets/base",
      "model_module_version": "1.1.0",
      "model_name": "LayoutModel",
      "state": {}
     },
     "8fb50809bd43468095d258e355a85e06": {
      "model_module": "@jupyter-widgets/controls",
      "model_module_version": "1.4.0",
      "model_name": "DropdownModel",
      "state": {
       "_options_labels": [
        "Acceleration",
        "Cylinders",
        "Displacement",
        "Horsepower",
        "Miles_per_Gallon",
        "Name",
        "Origin",
        "Weight_in_lbs",
        "Year"
       ],
       "description": "a",
       "index": 0,
       "layout": "IPY_MODEL_d599582dab314227b0a333352729b984",
       "style": "IPY_MODEL_835adc9096ab4e86b139f12966d71e6e"
      }
     },
     "8fc488dce56141d3a447cab00c19177b": {
      "model_module": "@jupyter-widgets/controls",
      "model_module_version": "1.4.0",
      "model_name": "HBoxModel",
      "state": {
       "children": [
        "IPY_MODEL_1e7d8e6cd0c1451b8f36b64a4a15226d"
       ],
       "layout": "IPY_MODEL_fceb145db88d464da9e25453fe39f8eb"
      }
     },
     "8fc71a9eb14e47b193647645a3d8bfd9": {
      "model_module": "@jupyter-widgets/controls",
      "model_module_version": "1.4.0",
      "model_name": "DescriptionStyleModel",
      "state": {
       "description_width": ""
      }
     },
     "8fd80dea15c64c33b88099199464aae1": {
      "model_module": "@jupyter-widgets/controls",
      "model_module_version": "1.4.0",
      "model_name": "FloatTextModel",
      "state": {
       "description": "size",
       "layout": "IPY_MODEL_00fb440a588a4171bd6799abae7e63cd",
       "step": null,
       "style": "IPY_MODEL_dfde836ad42047f7a3c632183c9c9965",
       "value": 1
      }
     },
     "8ff097bc7b4444539872b7af63046977": {
      "model_module": "@jupyter-widgets/controls",
      "model_module_version": "1.4.0",
      "model_name": "ButtonModel",
      "state": {
       "description": "remove",
       "layout": "IPY_MODEL_492a5c5a86a041ad903a40b65003bb3d",
       "style": "IPY_MODEL_b1b8a354d0fb408e89264da82f8016e2"
      }
     },
     "8ff5d4398bf64c558952c4eb9893538c": {
      "model_module": "@jupyter-widgets/controls",
      "model_module_version": "1.4.0",
      "model_name": "DropdownModel",
      "state": {
       "_options_labels": [
        "point",
        "bar",
        "strip",
        "swarm",
        "box",
        "violin",
        "boxen"
       ],
       "description": "kind",
       "index": 0,
       "layout": "IPY_MODEL_025bd8d349df4b7f94a557352ab9fae4",
       "style": "IPY_MODEL_36714185bccb4879b2483de55bd3fe5d"
      }
     },
     "9005882e88bb42ebaa5ae693c093fe58": {
      "model_module": "@jupyter-widgets/controls",
      "model_module_version": "1.4.0",
      "model_name": "FloatTextModel",
      "state": {
       "description": "scale",
       "layout": "IPY_MODEL_9c8551e88d5a4471aa53248880337c3e",
       "step": null,
       "style": "IPY_MODEL_0dafe08684554faa9110c0964310ba51",
       "value": 1
      }
     },
     "90660925dc4a4dacabeb7503bb9a4c0f": {
      "model_module": "@jupyter-widgets/controls",
      "model_module_version": "1.4.0",
      "model_name": "CheckboxModel",
      "state": {
       "description": "notch",
       "disabled": false,
       "layout": "IPY_MODEL_a830997b1bd24c5d9adb7f5a8b39d90b",
       "style": "IPY_MODEL_a8b6dce10fd149d6968e479e16ae860f",
       "value": true
      }
     },
     "90e82335f02e4f08ba098f5c0e0c12c9": {
      "model_module": "@jupyter-widgets/controls",
      "model_module_version": "1.4.0",
      "model_name": "DescriptionStyleModel",
      "state": {
       "description_width": ""
      }
     },
     "90e89395a8c7403eb74e3f8c077d0ea3": {
      "model_module": "@jupyter-widgets/controls",
      "model_module_version": "1.4.0",
      "model_name": "CheckboxModel",
      "state": {
       "description": "jitter",
       "disabled": false,
       "layout": "IPY_MODEL_c82febef12aa42b09dfa99fd590b9457",
       "style": "IPY_MODEL_114448e3191443308f1eb0ff65708ffc",
       "value": false
      }
     },
     "90fd168983fa4fd496307bb97426b9c3": {
      "model_module": "@jupyter-widgets/controls",
      "model_module_version": "1.4.0",
      "model_name": "DescriptionStyleModel",
      "state": {
       "description_width": ""
      }
     },
     "91479d4b42e04a158ab2ba3dc521e215": {
      "model_module": "@jupyter-widgets/base",
      "model_module_version": "1.1.0",
      "model_name": "LayoutModel",
      "state": {}
     },
     "916c6aef6fa54a308145abc56fd2cfc9": {
      "model_module": "@jupyter-widgets/controls",
      "model_module_version": "1.4.0",
      "model_name": "CheckboxModel",
      "state": {
       "description": "shade",
       "disabled": false,
       "layout": "IPY_MODEL_48728fb87985434f8d5e5fb345b76360",
       "style": "IPY_MODEL_2fb588c2945644afb733c3986ad267ee",
       "value": false
      }
     },
     "918f675a169a4fd79dd9eee1c2e776a3": {
      "model_module": "@jupyter-widgets/base",
      "model_module_version": "1.1.0",
      "model_name": "LayoutModel",
      "state": {}
     },
     "91cbb68fdace4264977991cacadb371c": {
      "model_module": "@jupyter-widgets/base",
      "model_module_version": "1.1.0",
      "model_name": "LayoutModel",
      "state": {}
     },
     "9224d0a8bc7141e688554dd0d1ed56ff": {
      "model_module": "@jupyter-widgets/base",
      "model_module_version": "1.1.0",
      "model_name": "LayoutModel",
      "state": {}
     },
     "922b6d82e4e24a379111a96d082285e5": {
      "model_module": "@jupyter-widgets/base",
      "model_module_version": "1.1.0",
      "model_name": "LayoutModel",
      "state": {}
     },
     "922eba18cbae4416923aee8601b904b8": {
      "model_module": "@jupyter-widgets/base",
      "model_module_version": "1.1.0",
      "model_name": "LayoutModel",
      "state": {}
     },
     "923ac45b0a024486bb5960264555b476": {
      "model_module": "@jupyter-widgets/controls",
      "model_module_version": "1.4.0",
      "model_name": "DescriptionStyleModel",
      "state": {
       "description_width": ""
      }
     },
     "9251f1807627406db96dabf22f2c5cfd": {
      "model_module": "@jupyter-widgets/base",
      "model_module_version": "1.1.0",
      "model_name": "LayoutModel",
      "state": {}
     },
     "92898e68ee09403394ca100849f21090": {
      "model_module": "@jupyter-widgets/base",
      "model_module_version": "1.1.0",
      "model_name": "LayoutModel",
      "state": {}
     },
     "930ca841f2ac4453a46ce6238b8968ac": {
      "model_module": "@jupyter-widgets/controls",
      "model_module_version": "1.4.0",
      "model_name": "DescriptionStyleModel",
      "state": {
       "description_width": ""
      }
     },
     "932fb6377d3545f19bb417e25bedfd55": {
      "model_module": "@jupyter-widgets/controls",
      "model_module_version": "1.4.0",
      "model_name": "SliderStyleModel",
      "state": {
       "description_width": ""
      }
     },
     "9345c2cba53948bfa0df4db593265235": {
      "model_module": "@jupyter-widgets/controls",
      "model_module_version": "1.4.0",
      "model_name": "ButtonStyleModel",
      "state": {}
     },
     "935086668e5840f396e7a9b2436baa6e": {
      "model_module": "@jupyter-widgets/controls",
      "model_module_version": "1.4.0",
      "model_name": "DescriptionStyleModel",
      "state": {
       "description_width": ""
      }
     },
     "93a17486397340d1adad0e02178aa39e": {
      "model_module": "@jupyter-widgets/base",
      "model_module_version": "1.1.0",
      "model_name": "LayoutModel",
      "state": {}
     },
     "93aa80e2bc7943df973cc13ffea9479f": {
      "model_module": "@jupyter-widgets/controls",
      "model_module_version": "1.4.0",
      "model_name": "ButtonModel",
      "state": {
       "description": "remove",
       "layout": "IPY_MODEL_a06b780f2ba94353b7f738bed614b77b",
       "style": "IPY_MODEL_ee826ee77a364c83966e46ca84086275"
      }
     },
     "93aca345099046338e717d447b37bc0a": {
      "model_module": "@jupyter-widgets/controls",
      "model_module_version": "1.4.0",
      "model_name": "DescriptionStyleModel",
      "state": {
       "description_width": ""
      }
     },
     "93b1bb86a0e24472beca6b343183cf3d": {
      "model_module": "@jupyter-widgets/controls",
      "model_module_version": "1.4.0",
      "model_name": "DescriptionStyleModel",
      "state": {
       "description_width": ""
      }
     },
     "9416e694235d4fd4aa68c81bb4e548df": {
      "model_module": "@jupyter-widgets/base",
      "model_module_version": "1.1.0",
      "model_name": "LayoutModel",
      "state": {}
     },
     "94440de2eaea4553b338e79f3b65c403": {
      "model_module": "@jupyter-widgets/controls",
      "model_module_version": "1.4.0",
      "model_name": "ButtonModel",
      "state": {
       "description": "remove",
       "layout": "IPY_MODEL_ffcb2086c772405fb67797814bf92578",
       "style": "IPY_MODEL_1c1dfd7666f54e749f539c335e58f60c"
      }
     },
     "945a8c916b9849a6851fda231132310f": {
      "model_module": "@jupyter-widgets/base",
      "model_module_version": "1.1.0",
      "model_name": "LayoutModel",
      "state": {}
     },
     "947753e7b94346e9b12c841b257e9154": {
      "model_module": "@jupyter-widgets/base",
      "model_module_version": "1.1.0",
      "model_name": "LayoutModel",
      "state": {}
     },
     "9479697ef4704fc7b793a9a1f94cb16c": {
      "model_module": "@jupyter-widgets/controls",
      "model_module_version": "1.4.0",
      "model_name": "TextModel",
      "state": {
       "description": "axlabel",
       "layout": "IPY_MODEL_2e0979408d914f749f763bc2306431d2",
       "style": "IPY_MODEL_f92afe45a15e413da289e0c7fbc4d829"
      }
     },
     "94c77cb32c254f778489aebd8a820d2d": {
      "model_module": "@jupyter-widgets/base",
      "model_module_version": "1.1.0",
      "model_name": "LayoutModel",
      "state": {}
     },
     "94e5ca67b0d44d62afeaf2937274b118": {
      "model_module": "@jupyter-widgets/controls",
      "model_module_version": "1.4.0",
      "model_name": "DescriptionStyleModel",
      "state": {
       "description_width": ""
      }
     },
     "951eaae4af1d4a8ca9eaf49d5790556c": {
      "model_module": "@jupyter-widgets/base",
      "model_module_version": "1.1.0",
      "model_name": "LayoutModel",
      "state": {}
     },
     "954c84974e45400b84db9dae8e461387": {
      "model_module": "@jupyter-widgets/controls",
      "model_module_version": "1.4.0",
      "model_name": "CheckboxModel",
      "state": {
       "description": "jitter",
       "disabled": false,
       "layout": "IPY_MODEL_bc8fc7c5c087423dab0c528415711a4c",
       "style": "IPY_MODEL_5b0ce8847498452ca332ad6ea042ca1a",
       "value": false
      }
     },
     "956d41fff3f143f993ea0f95376ad2d6": {
      "model_module": "@jupyter-widgets/controls",
      "model_module_version": "1.4.0",
      "model_name": "DescriptionStyleModel",
      "state": {
       "description_width": ""
      }
     },
     "95cf487f382e41e3bbfca789a5d153ee": {
      "model_module": "@jupyter-widgets/controls",
      "model_module_version": "1.4.0",
      "model_name": "DescriptionStyleModel",
      "state": {
       "description_width": ""
      }
     },
     "95daa4e3f69a49beb6bd33c0422a2431": {
      "model_module": "@jupyter-widgets/controls",
      "model_module_version": "1.4.0",
      "model_name": "DropdownModel",
      "state": {
       "_options_labels": [
        "Acceleration",
        "Cylinders",
        "Displacement",
        "Horsepower",
        "Miles_per_Gallon",
        "Name",
        "Origin",
        "Weight_in_lbs",
        "Year"
       ],
       "description": "x",
       "index": 6,
       "layout": "IPY_MODEL_445acff615a2493594559ea0d053d14e",
       "style": "IPY_MODEL_50f87aba358b46fdb22389e8abba71b4"
      }
     },
     "95e0226b982847b4a2f887a37e7cd3ff": {
      "model_module": "@jupyter-widgets/controls",
      "model_module_version": "1.4.0",
      "model_name": "HBoxModel",
      "state": {
       "children": [
        "IPY_MODEL_acdcad4fd36e4764864c7f324c1e30ba",
        "IPY_MODEL_327ca51268ff48718dd271377dedcffe"
       ],
       "layout": "IPY_MODEL_f31f5d7dfa874782a4a879f706b27519"
      }
     },
     "96141c9ad29343eeaf629ea421995ebd": {
      "model_module": "@jupyter-widgets/base",
      "model_module_version": "1.1.0",
      "model_name": "LayoutModel",
      "state": {}
     },
     "9638951ce51a4754b2f5edf4e3257c0e": {
      "model_module": "@jupyter-widgets/controls",
      "model_module_version": "1.4.0",
      "model_name": "DescriptionStyleModel",
      "state": {
       "description_width": ""
      }
     },
     "9653ff030c68478fac5c9fe0a898081b": {
      "model_module": "@jupyter-widgets/controls",
      "model_module_version": "1.4.0",
      "model_name": "HBoxModel",
      "state": {
       "children": [
        "IPY_MODEL_a9690d503c29458eb5fa99ed97ecb43c",
        "IPY_MODEL_5832f99562484e51a2651e0c686786fd"
       ],
       "layout": "IPY_MODEL_c2ec3be130454a529987951802d33f5b"
      }
     },
     "967816b84c9940c4ad1e993b66d68a70": {
      "model_module": "@jupyter-widgets/controls",
      "model_module_version": "1.4.0",
      "model_name": "DescriptionStyleModel",
      "state": {
       "description_width": ""
      }
     },
     "96af3975129347c2baf60d00e6964485": {
      "model_module": "@jupyter-widgets/base",
      "model_module_version": "1.1.0",
      "model_name": "LayoutModel",
      "state": {}
     },
     "96b22138c90744dd9ab9f32ac5aaea97": {
      "model_module": "@jupyter-widgets/controls",
      "model_module_version": "1.4.0",
      "model_name": "IntTextModel",
      "state": {
       "description": "space",
       "layout": "IPY_MODEL_e7988f336af64becb814c2f22b194868",
       "step": 1,
       "style": "IPY_MODEL_f7f7a7a14a7f4b18a7f74cfa2007a605",
       "value": 1
      }
     },
     "96e5a9951b3b426692692676e1819e19": {
      "model_module": "@jupyter-widgets/base",
      "model_module_version": "1.1.0",
      "model_name": "LayoutModel",
      "state": {}
     },
     "96f608bfb4a9440e8ce45bd5aef97700": {
      "model_module": "@jupyter-widgets/base",
      "model_module_version": "1.1.0",
      "model_name": "LayoutModel",
      "state": {}
     },
     "96fb60ea830645e0ba78f843e97d73b5": {
      "model_module": "@jupyter-widgets/controls",
      "model_module_version": "1.4.0",
      "model_name": "ButtonModel",
      "state": {
       "description": "remove",
       "layout": "IPY_MODEL_88d4c8ba56c14f5db867738a3511fa72",
       "style": "IPY_MODEL_768b1376901e439dbc51ec743e525d4d"
      }
     },
     "970584b1849a4d59807160ff86666b7b": {
      "model_module": "@jupyter-widgets/base",
      "model_module_version": "1.1.0",
      "model_name": "LayoutModel",
      "state": {}
     },
     "9707924a7dfe47a3a06ee7d03237f488": {
      "model_module": "@jupyter-widgets/base",
      "model_module_version": "1.1.0",
      "model_name": "LayoutModel",
      "state": {}
     },
     "971577ffaf2a40d094fa65745d05ebd4": {
      "model_module": "@jupyter-widgets/controls",
      "model_module_version": "1.4.0",
      "model_name": "DescriptionStyleModel",
      "state": {
       "description_width": ""
      }
     },
     "974b95a7803841ef8367a896e897a588": {
      "model_module": "@jupyter-widgets/controls",
      "model_module_version": "1.4.0",
      "model_name": "CheckboxModel",
      "state": {
       "description": "truncate",
       "disabled": false,
       "layout": "IPY_MODEL_d6ba3e166b4d4565a99a5302b13d8072",
       "style": "IPY_MODEL_aec1bb9edc274415be577d12c6c46e47",
       "value": false
      }
     },
     "9754eec72fad4aec9b4af5069b93c961": {
      "model_module": "@jupyter-widgets/base",
      "model_module_version": "1.1.0",
      "model_name": "LayoutModel",
      "state": {}
     },
     "9766d64507ee4f5abd4f2559b917ad49": {
      "model_module": "@jupyter-widgets/controls",
      "model_module_version": "1.4.0",
      "model_name": "HBoxModel",
      "state": {
       "children": [
        "IPY_MODEL_f6879d9d6e4c41b6b8407fabf9642ff0",
        "IPY_MODEL_4c44d06f32ca40a3aaf35150ed959324"
       ],
       "layout": "IPY_MODEL_e5e3f8076b954917b50961e87ee2510f"
      }
     },
     "97897f6b71a9433f9feff489616a11a1": {
      "model_module": "@jupyter-widgets/controls",
      "model_module_version": "1.4.0",
      "model_name": "LabelModel",
      "state": {
       "layout": "IPY_MODEL_a4be6d54b4374eafbf1b970764e2a5f9",
       "style": "IPY_MODEL_68a92acf5dc54600a88a130098e5d159",
       "value": "---"
      }
     },
     "978c4bf9ad41478bb568b87d1cb98d84": {
      "model_module": "@jupyter-widgets/base",
      "model_module_version": "1.1.0",
      "model_name": "LayoutModel",
      "state": {}
     },
     "979ef90f4b90402fa5754e8eefdde66f": {
      "model_module": "@jupyter-widgets/controls",
      "model_module_version": "1.4.0",
      "model_name": "CheckboxModel",
      "state": {
       "description": "cumulative",
       "disabled": false,
       "layout": "IPY_MODEL_e0da2bf23dfd4f0bb3d9e8888344161f",
       "style": "IPY_MODEL_ac00e92ed8c1408682aa1e96fe79f2f5",
       "value": false
      }
     },
     "97bb40efc1f84f52a7fa150ee5311e42": {
      "model_module": "@jupyter-widgets/base",
      "model_module_version": "1.1.0",
      "model_name": "LayoutModel",
      "state": {}
     },
     "97c128ef8ad64bcba520686e750006c2": {
      "model_module": "@jupyter-widgets/controls",
      "model_module_version": "1.4.0",
      "model_name": "DropdownModel",
      "state": {
       "_options_labels": [
        "scatter",
        "reg"
       ],
       "description": "kind",
       "index": 0,
       "layout": "IPY_MODEL_65dc3ec5e00f40b89fc76d6c555e3680",
       "style": "IPY_MODEL_efefd816811443ccb5517679715f42a3"
      }
     },
     "97cdaffd8fa14a799272224809567942": {
      "model_module": "@jupyter-widgets/base",
      "model_module_version": "1.1.0",
      "model_name": "LayoutModel",
      "state": {}
     },
     "9805bc920077456c8775a21f2e228108": {
      "model_module": "@jupyter-widgets/controls",
      "model_module_version": "1.4.0",
      "model_name": "DescriptionStyleModel",
      "state": {
       "description_width": ""
      }
     },
     "981f8859c7224d2d870cc48c5317ffd6": {
      "model_module": "@jupyter-widgets/base",
      "model_module_version": "1.1.0",
      "model_name": "LayoutModel",
      "state": {}
     },
     "98270d9b40b046ac9f8824d0147f1f34": {
      "model_module": "@jupyter-widgets/base",
      "model_module_version": "1.1.0",
      "model_name": "LayoutModel",
      "state": {}
     },
     "9835e4ed5abd4f0ca92c9cf0b0a96431": {
      "model_module": "@jupyter-widgets/controls",
      "model_module_version": "1.4.0",
      "model_name": "DescriptionStyleModel",
      "state": {
       "description_width": ""
      }
     },
     "983d789d4da94da2bfabd840d919e7cc": {
      "model_module": "@jupyter-widgets/controls",
      "model_module_version": "1.4.0",
      "model_name": "DescriptionStyleModel",
      "state": {
       "description_width": ""
      }
     },
     "985da56e6abe4fefbe585761d6586808": {
      "model_module": "@jupyter-widgets/controls",
      "model_module_version": "1.4.0",
      "model_name": "ButtonModel",
      "state": {
       "description": "remove",
       "layout": "IPY_MODEL_523633ba5d564224a5e4b101e13df5b0",
       "style": "IPY_MODEL_9999ebc0a9a8473e8fcb523f602b29ee"
      }
     },
     "988dbfc940394af991bb8aa1a119e5dd": {
      "model_module": "@jupyter-widgets/controls",
      "model_module_version": "1.4.0",
      "model_name": "FloatTextModel",
      "state": {
       "description": "vmax",
       "layout": "IPY_MODEL_e70aab9012f441c1976d52a2b6245712",
       "step": null,
       "style": "IPY_MODEL_94e5ca67b0d44d62afeaf2937274b118",
       "value": 1
      }
     },
     "989acb7747944851b8d061b84f08b853": {
      "model_module": "@jupyter-widgets/base",
      "model_module_version": "1.1.0",
      "model_name": "LayoutModel",
      "state": {}
     },
     "98d9893f09704c1abac5b2c55b4dbf71": {
      "model_module": "@jupyter-widgets/base",
      "model_module_version": "1.1.0",
      "model_name": "LayoutModel",
      "state": {}
     },
     "98df89b094fa46ff86efea89d62edb3e": {
      "model_module": "@jupyter-widgets/controls",
      "model_module_version": "1.4.0",
      "model_name": "DescriptionStyleModel",
      "state": {
       "description_width": ""
      }
     },
     "98e84ae7f7354b99a9839431f3da0c26": {
      "model_module": "@jupyter-widgets/base",
      "model_module_version": "1.1.0",
      "model_name": "LayoutModel",
      "state": {}
     },
     "9914649392754b318cb798d55885320f": {
      "model_module": "@jupyter-widgets/controls",
      "model_module_version": "1.4.0",
      "model_name": "VBoxModel",
      "state": {
       "children": [
        "IPY_MODEL_6ee47d3a2cf2481bb8ac9adfc9c2d42d",
        "IPY_MODEL_9a10e5a38dd2424aac18990b98ad9ad5",
        "IPY_MODEL_44b62d6629344e99b32f0d3799809d8d",
        "IPY_MODEL_9766d64507ee4f5abd4f2559b917ad49",
        "IPY_MODEL_6a2c8d2c21644937bade4b3e4999e449",
        "IPY_MODEL_130b74c5635042a9bec5834454809429",
        "IPY_MODEL_5e978ea06d0949539ef6822fba19605b",
        "IPY_MODEL_a820dfb87b57400baf9c6216e358fad9"
       ],
       "layout": "IPY_MODEL_49310cd480944e2bbbfc7c1020ae70a4"
      }
     },
     "99639d9550ef49c5a1bc61504eff3eff": {
      "model_module": "@jupyter-widgets/base",
      "model_module_version": "1.1.0",
      "model_name": "LayoutModel",
      "state": {}
     },
     "9965cc084b114a61a2a9d5411d1d7c08": {
      "model_module": "@jupyter-widgets/base",
      "model_module_version": "1.1.0",
      "model_name": "LayoutModel",
      "state": {}
     },
     "9999ebc0a9a8473e8fcb523f602b29ee": {
      "model_module": "@jupyter-widgets/controls",
      "model_module_version": "1.4.0",
      "model_name": "ButtonStyleModel",
      "state": {}
     },
     "99e1da33cf5147fbbaf9b8bb3f993b57": {
      "model_module": "@jupyter-widgets/base",
      "model_module_version": "1.1.0",
      "model_name": "LayoutModel",
      "state": {}
     },
     "99e728f2bc394800a3e0ce1f70a7466c": {
      "model_module": "@jupyter-widgets/controls",
      "model_module_version": "1.4.0",
      "model_name": "CheckboxModel",
      "state": {
       "description": "scale_hue",
       "disabled": false,
       "layout": "IPY_MODEL_73223d6b3f2c487fab266eaa36615664",
       "style": "IPY_MODEL_1f9316d8944049319cfd13fa003bf5bd",
       "value": false
      }
     },
     "9a07c522f7814a3ba8bedffc10a200ac": {
      "model_module": "@jupyter-widgets/base",
      "model_module_version": "1.1.0",
      "model_name": "LayoutModel",
      "state": {}
     },
     "9a10e5a38dd2424aac18990b98ad9ad5": {
      "model_module": "@jupyter-widgets/controls",
      "model_module_version": "1.4.0",
      "model_name": "HBoxModel",
      "state": {
       "children": [
        "IPY_MODEL_a9690d503c29458eb5fa99ed97ecb43c",
        "IPY_MODEL_9af95bff6c9e4fbf807dc16c3314b342"
       ],
       "layout": "IPY_MODEL_b3caafb641164a21832edd0a31a70357"
      }
     },
     "9a47143d1eb647e68bf110a0c910639f": {
      "model_module": "@jupyter-widgets/controls",
      "model_module_version": "1.4.0",
      "model_name": "DescriptionStyleModel",
      "state": {
       "description_width": ""
      }
     },
     "9a698ecaf3f84292990e7ef7ff158435": {
      "model_module": "@jupyter-widgets/controls",
      "model_module_version": "1.4.0",
      "model_name": "HBoxModel",
      "state": {
       "children": [
        "IPY_MODEL_ba016d89d09a4df18a6664bacdc4e78b"
       ],
       "layout": "IPY_MODEL_8196412921884ba9ad021e235df0a387"
      }
     },
     "9a6ae8ba218c4f19a4221676e494ad2a": {
      "model_module": "@jupyter-widgets/base",
      "model_module_version": "1.1.0",
      "model_name": "LayoutModel",
      "state": {}
     },
     "9a6e06baec2644409098de4ad32777e7": {
      "model_module": "@jupyter-widgets/base",
      "model_module_version": "1.1.0",
      "model_name": "LayoutModel",
      "state": {}
     },
     "9a92f4a61ddc4ae5a988b2bb7f4f68c2": {
      "model_module": "@jupyter-widgets/controls",
      "model_module_version": "1.4.0",
      "model_name": "CheckboxModel",
      "state": {
       "description": "notch",
       "disabled": false,
       "layout": "IPY_MODEL_7d33841bd27a45158f8b0a589f9cfc2d",
       "style": "IPY_MODEL_484142181b2a41dd9ce1de12c8daf84a",
       "value": false
      }
     },
     "9a98561ee9af41dcbf887376a0bbef0f": {
      "model_module": "@jupyter-widgets/controls",
      "model_module_version": "1.4.0",
      "model_name": "FloatTextModel",
      "state": {
       "description": "width",
       "layout": "IPY_MODEL_c885399a4a764837af5a8ec5d39ce6d7",
       "step": null,
       "style": "IPY_MODEL_d1f7d81378f4404695cb72da6022e126",
       "value": 1
      }
     },
     "9ab9fec2ecc746859df3970d3ebad3eb": {
      "model_module": "@jupyter-widgets/controls",
      "model_module_version": "1.4.0",
      "model_name": "ButtonStyleModel",
      "state": {}
     },
     "9ae6450260cb4b479e0b5da8eed92b32": {
      "model_module": "@jupyter-widgets/base",
      "model_module_version": "1.1.0",
      "model_name": "LayoutModel",
      "state": {}
     },
     "9ae90491ccd44224b4286db2b17eca37": {
      "model_module": "@jupyter-widgets/controls",
      "model_module_version": "1.4.0",
      "model_name": "FloatSliderModel",
      "state": {
       "description": "outlier_prop",
       "layout": "IPY_MODEL_76af466cba3f4f65bf48921aa4c41311",
       "max": 1,
       "step": 0.001,
       "style": "IPY_MODEL_3e24fde6d0e748098e7eb7f118cacf58",
       "value": 0.007
      }
     },
     "9aeb5a79300a464f892fab25a9230790": {
      "model_module": "@jupyter-widgets/base",
      "model_module_version": "1.1.0",
      "model_name": "LayoutModel",
      "state": {}
     },
     "9aeda6a8dcf943f9aad9696276f82f69": {
      "model_module": "@jupyter-widgets/controls",
      "model_module_version": "1.4.0",
      "model_name": "DropdownModel",
      "state": {
       "_options_labels": [
        "scatter",
        "line"
       ],
       "description": "kind",
       "index": 0,
       "layout": "IPY_MODEL_13421c523b4640f19bde2247725dba97",
       "style": "IPY_MODEL_e58f51de3f5d4ab28843949c2c8ef3cb"
      }
     },
     "9af95bff6c9e4fbf807dc16c3314b342": {
      "model_module": "@jupyter-widgets/controls",
      "model_module_version": "1.4.0",
      "model_name": "ButtonModel",
      "state": {
       "description": "remove",
       "layout": "IPY_MODEL_ec1c2988bc79448b9f424c070bc31004",
       "style": "IPY_MODEL_33bc23ea161e44fb8ce0d1ec12ce7845"
      }
     },
     "9b95ebfa80264d62abc192c9583e9f27": {
      "model_module": "@jupyter-widgets/base",
      "model_module_version": "1.1.0",
      "model_name": "LayoutModel",
      "state": {}
     },
     "9b9e7649328441d8bff75c864c253890": {
      "model_module": "@jupyter-widgets/controls",
      "model_module_version": "1.4.0",
      "model_name": "CheckboxModel",
      "state": {
       "description": "robust",
       "disabled": false,
       "layout": "IPY_MODEL_55ab39dc3ea9472784ebde41ec63e31c",
       "style": "IPY_MODEL_45441ac9895a4f5197ea5c6362bae66e",
       "value": false
      }
     },
     "9bb4414dfb724cab8475511f34c2ec9e": {
      "model_module": "@jupyter-widgets/controls",
      "model_module_version": "1.4.0",
      "model_name": "DescriptionStyleModel",
      "state": {
       "description_width": ""
      }
     },
     "9bd90d4c9e3d406a89cdf4a26646990a": {
      "model_module": "@jupyter-widgets/controls",
      "model_module_version": "1.4.0",
      "model_name": "CheckboxModel",
      "state": {
       "description": "hist",
       "disabled": false,
       "layout": "IPY_MODEL_6c1c9affdd5b4a7cba54c1f3de95ea2a",
       "style": "IPY_MODEL_faf990e06eff40a3b47216e61aae7eaf",
       "value": false
      }
     },
     "9bdb67c632914a5ab28ad00eb218f152": {
      "model_module": "@jupyter-widgets/controls",
      "model_module_version": "1.4.0",
      "model_name": "CheckboxModel",
      "state": {
       "description": "square",
       "disabled": false,
       "layout": "IPY_MODEL_474001906ae64459a169857d2b8ebb1a",
       "style": "IPY_MODEL_e06c2f3d56544a72be17a8675bcbc460",
       "value": false
      }
     },
     "9c35c3d6e422489a8a5f2be663328e04": {
      "model_module": "@jupyter-widgets/controls",
      "model_module_version": "1.4.0",
      "model_name": "FloatTextModel",
      "state": {
       "description": "errwidth",
       "layout": "IPY_MODEL_01752d74b531452391f0cbc393410d73",
       "step": null,
       "style": "IPY_MODEL_9a47143d1eb647e68bf110a0c910639f",
       "value": 1
      }
     },
     "9c3907835ef2476d936004ca01060398": {
      "model_module": "@jupyter-widgets/base",
      "model_module_version": "1.1.0",
      "model_name": "LayoutModel",
      "state": {}
     },
     "9c6b444689694224b1c4ba4b22df9d59": {
      "model_module": "@jupyter-widgets/base",
      "model_module_version": "1.1.0",
      "model_name": "LayoutModel",
      "state": {}
     },
     "9c8551e88d5a4471aa53248880337c3e": {
      "model_module": "@jupyter-widgets/base",
      "model_module_version": "1.1.0",
      "model_name": "LayoutModel",
      "state": {}
     },
     "9ca1ca9a3b0c4f89a30f302af26847ae": {
      "model_module": "@jupyter-widgets/controls",
      "model_module_version": "1.4.0",
      "model_name": "DescriptionStyleModel",
      "state": {
       "description_width": ""
      }
     },
     "9cf540810c63420fa0437b59264f24a5": {
      "model_module": "@jupyter-widgets/controls",
      "model_module_version": "1.4.0",
      "model_name": "CheckboxModel",
      "state": {
       "description": "cbar",
       "disabled": false,
       "layout": "IPY_MODEL_947753e7b94346e9b12c841b257e9154",
       "style": "IPY_MODEL_2261016a48a84d3ea7afbfd1b1f209a7",
       "value": false
      }
     },
     "9cfc1e6333dc4322925e6b8daa0ba5db": {
      "model_module": "@jupyter-widgets/controls",
      "model_module_version": "1.4.0",
      "model_name": "TextModel",
      "state": {
       "description": "label",
       "layout": "IPY_MODEL_bb633f36fbb544e29d62c5f2cea6b1b0",
       "style": "IPY_MODEL_64589fd0bde842f597e57c9973fcae05"
      }
     },
     "9d814fa2d20a4317a4e14153a72d66eb": {
      "model_module": "@jupyter-widgets/controls",
      "model_module_version": "1.4.0",
      "model_name": "HBoxModel",
      "state": {
       "children": [
        "IPY_MODEL_828f819b33764216b7a76df030be6752",
        "IPY_MODEL_5a074377398c49b383032467286d73fa"
       ],
       "layout": "IPY_MODEL_60b6add70c9e4e84b46b673dcc05d645"
      }
     },
     "9de0d33e7b73400da6a7a2f670ed4385": {
      "model_module": "@jupyter-widgets/controls",
      "model_module_version": "1.4.0",
      "model_name": "DropdownModel",
      "state": {
       "_options_labels": [
        "point",
        "bar",
        "strip",
        "swarm",
        "box",
        "violin",
        "boxen"
       ],
       "description": "kind",
       "index": 0,
       "layout": "IPY_MODEL_e6c67d05b42c478eb5f90550e7aa99eb",
       "style": "IPY_MODEL_e72b0909af8d4916963e0b09d282b81a"
      }
     },
     "9e3486f3402e45e6a99d3fa2cd3d73e2": {
      "model_module": "@jupyter-widgets/controls",
      "model_module_version": "1.4.0",
      "model_name": "DescriptionStyleModel",
      "state": {
       "description_width": ""
      }
     },
     "9e46b4fd176543c79695885f83d6cc9d": {
      "model_module": "@jupyter-widgets/base",
      "model_module_version": "1.1.0",
      "model_name": "LayoutModel",
      "state": {}
     },
     "9e63f379757840a99313958858ec9e75": {
      "model_module": "@jupyter-widgets/base",
      "model_module_version": "1.1.0",
      "model_name": "LayoutModel",
      "state": {}
     },
     "9e730694a4bd4dbdb7c96e606593d011": {
      "model_module": "@jupyter-widgets/controls",
      "model_module_version": "1.4.0",
      "model_name": "LabelModel",
      "state": {
       "layout": "IPY_MODEL_d5d24318d85d43b3b696ed32c588e467",
       "style": "IPY_MODEL_cc9ab67771354195a8158c25f7099a02",
       "value": "---"
      }
     },
     "9e93a052054141a09aa125ee78390575": {
      "model_module": "@jupyter-widgets/controls",
      "model_module_version": "1.4.0",
      "model_name": "ButtonStyleModel",
      "state": {}
     },
     "9ec5988a1ed64fc793d93b902dbb6942": {
      "model_module": "@jupyter-widgets/base",
      "model_module_version": "1.1.0",
      "model_name": "LayoutModel",
      "state": {}
     },
     "9f1a5ddd72b2431aa1669d39bd1fbc27": {
      "model_module": "@jupyter-widgets/controls",
      "model_module_version": "1.4.0",
      "model_name": "FloatTextModel",
      "state": {
       "description": "fliersize",
       "layout": "IPY_MODEL_3ec513e7b39f41a79a86e4600e91f33a",
       "step": null,
       "style": "IPY_MODEL_c874577bb2c841da9d0a0a585eb73827",
       "value": 1
      }
     },
     "9f322866e72b426284548c512d8cb353": {
      "model_module": "@jupyter-widgets/controls",
      "model_module_version": "1.4.0",
      "model_name": "HBoxModel",
      "state": {
       "children": [
        "IPY_MODEL_b60dfe9b919746c1a55d3260757101a0",
        "IPY_MODEL_726a9d76e3544209b98a2ba4abbee024"
       ],
       "layout": "IPY_MODEL_dd983c68c2644b6f9da26a3a6b4f1e7a"
      }
     },
     "9f4a3ef91624410d8e8a8b3f4382e99d": {
      "model_module": "@jupyter-widgets/controls",
      "model_module_version": "1.4.0",
      "model_name": "ButtonModel",
      "state": {
       "description": "remove",
       "layout": "IPY_MODEL_99639d9550ef49c5a1bc61504eff3eff",
       "style": "IPY_MODEL_a1c2dd9b91764cb2b05a153ec063ddb3"
      }
     },
     "9f626880a0f84bf9acefbb37e6bb7b4f": {
      "model_module": "@jupyter-widgets/controls",
      "model_module_version": "1.4.0",
      "model_name": "CheckboxModel",
      "state": {
       "description": "split",
       "disabled": false,
       "layout": "IPY_MODEL_ea4d18d2bdf34a33a2a35ee3e56ece19",
       "style": "IPY_MODEL_e498f75938224506826a8fc0321fe9ba",
       "value": false
      }
     },
     "9f7fd079e2174645a9fa8b8e2e81d995": {
      "model_module": "@jupyter-widgets/base",
      "model_module_version": "1.1.0",
      "model_name": "LayoutModel",
      "state": {}
     },
     "9f8e5fd5604847a09998bcdd612e5c2d": {
      "model_module": "@jupyter-widgets/base",
      "model_module_version": "1.1.0",
      "model_name": "LayoutModel",
      "state": {}
     },
     "9f9596a072c1485b841963d602f94327": {
      "model_module": "@jupyter-widgets/base",
      "model_module_version": "1.1.0",
      "model_name": "LayoutModel",
      "state": {}
     },
     "9faf2efe0d94439e97332a3b3b4dfac7": {
      "model_module": "@jupyter-widgets/output",
      "model_module_version": "1.0.0",
      "model_name": "OutputModel",
      "state": {
       "layout": "IPY_MODEL_f39994ea8e304bb9b773a7c746e608b9",
       "outputs": [
        {
         "data": {
          "image/png": "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\n",
          "text/plain": "<Figure size 432x288 with 1 Axes>"
         },
         "metadata": {},
         "output_type": "display_data"
        }
       ]
      }
     },
     "9fc677ef12cc4c6386187abd8658bb77": {
      "model_module": "@jupyter-widgets/base",
      "model_module_version": "1.1.0",
      "model_name": "LayoutModel",
      "state": {}
     },
     "9fc72c676a2c4f6eb61041c48558a792": {
      "model_module": "@jupyter-widgets/controls",
      "model_module_version": "1.4.0",
      "model_name": "FloatTextModel",
      "state": {
       "description": "scale",
       "layout": "IPY_MODEL_364fcb17b3cc43fe873bfd11540e795c",
       "step": null,
       "style": "IPY_MODEL_95cf487f382e41e3bbfca789a5d153ee",
       "value": 1
      }
     },
     "a0506f86960745a293087e25e10de72e": {
      "model_module": "@jupyter-widgets/controls",
      "model_module_version": "1.4.0",
      "model_name": "FloatTextModel",
      "state": {
       "description": "y_jitter",
       "layout": "IPY_MODEL_b9a8a406daa144f2bdaef63994e3a138",
       "step": null,
       "style": "IPY_MODEL_8b1c7e7c165449199659254610af2230",
       "value": 1
      }
     },
     "a052b5a73aee4a7686f9168abc32f4db": {
      "model_module": "@jupyter-widgets/base",
      "model_module_version": "1.1.0",
      "model_name": "LayoutModel",
      "state": {}
     },
     "a06b780f2ba94353b7f738bed614b77b": {
      "model_module": "@jupyter-widgets/base",
      "model_module_version": "1.1.0",
      "model_name": "LayoutModel",
      "state": {}
     },
     "a0a7115b3c7144148a156fa3aebce0b9": {
      "model_module": "@jupyter-widgets/controls",
      "model_module_version": "1.4.0",
      "model_name": "TextModel",
      "state": {
       "description": "label",
       "layout": "IPY_MODEL_b287bfaf9668412ba7689fc79f27d508",
       "style": "IPY_MODEL_46a758ea1d99405f9f9a9545fc2aa4df"
      }
     },
     "a0a8bce5077841bba41fdfc7c46783ff": {
      "model_module": "@jupyter-widgets/controls",
      "model_module_version": "1.4.0",
      "model_name": "DescriptionStyleModel",
      "state": {
       "description_width": ""
      }
     },
     "a0ac1cc55e9343e2ac9d5a37877800c9": {
      "model_module": "@jupyter-widgets/base",
      "model_module_version": "1.1.0",
      "model_name": "LayoutModel",
      "state": {}
     },
     "a0b3ffa43aed4044b170c60d794e9847": {
      "model_module": "@jupyter-widgets/controls",
      "model_module_version": "1.4.0",
      "model_name": "DescriptionStyleModel",
      "state": {
       "description_width": ""
      }
     },
     "a15dac5b0f784207a4d138f422c4e244": {
      "model_module": "@jupyter-widgets/controls",
      "model_module_version": "1.4.0",
      "model_name": "DescriptionStyleModel",
      "state": {
       "description_width": ""
      }
     },
     "a1835f9d9f2243a29f6cd8f6889aaf1b": {
      "model_module": "@jupyter-widgets/base",
      "model_module_version": "1.1.0",
      "model_name": "LayoutModel",
      "state": {}
     },
     "a1977c2bc5694ca78628a5e7d8b86fe7": {
      "model_module": "@jupyter-widgets/base",
      "model_module_version": "1.1.0",
      "model_name": "LayoutModel",
      "state": {}
     },
     "a1a58010594f4189836442f1c8c1777c": {
      "model_module": "@jupyter-widgets/controls",
      "model_module_version": "1.4.0",
      "model_name": "DescriptionStyleModel",
      "state": {
       "description_width": ""
      }
     },
     "a1a7bdfba3dd4c2686427383f7bce940": {
      "model_module": "@jupyter-widgets/controls",
      "model_module_version": "1.4.0",
      "model_name": "DescriptionStyleModel",
      "state": {
       "description_width": ""
      }
     },
     "a1ab5d9247ae4274be784fa02844f145": {
      "model_module": "@jupyter-widgets/base",
      "model_module_version": "1.1.0",
      "model_name": "LayoutModel",
      "state": {}
     },
     "a1c2dd9b91764cb2b05a153ec063ddb3": {
      "model_module": "@jupyter-widgets/controls",
      "model_module_version": "1.4.0",
      "model_name": "ButtonStyleModel",
      "state": {}
     },
     "a1c7993df8ed41178c7bd0419c0bff46": {
      "model_module": "@jupyter-widgets/controls",
      "model_module_version": "1.4.0",
      "model_name": "DropdownModel",
      "state": {
       "_options_labels": [
        "o",
        "v",
        "^",
        "<",
        ">",
        "8",
        "s",
        "p",
        "*",
        "h",
        "H",
        "D",
        "d",
        "P",
        "X"
       ],
       "description": "marker",
       "index": 0,
       "layout": "IPY_MODEL_fe5750590c6344ef99cbcb4d5e43619c",
       "style": "IPY_MODEL_c3433167287340ceb13bf0a47a5d6af2"
      }
     },
     "a1e9b7df2c8f4361836a3b07288bd6d4": {
      "model_module": "@jupyter-widgets/base",
      "model_module_version": "1.1.0",
      "model_name": "LayoutModel",
      "state": {}
     },
     "a20b76fe1b614f12b030c7ea2f42fdd2": {
      "model_module": "@jupyter-widgets/controls",
      "model_module_version": "1.4.0",
      "model_name": "DescriptionStyleModel",
      "state": {
       "description_width": ""
      }
     },
     "a22fc1955cbb4d0c9c6bde25a0289604": {
      "model_module": "@jupyter-widgets/controls",
      "model_module_version": "1.4.0",
      "model_name": "DescriptionStyleModel",
      "state": {
       "description_width": ""
      }
     },
     "a259afd41cbe48dbabd3f2d86cc3de40": {
      "model_module": "@jupyter-widgets/controls",
      "model_module_version": "1.4.0",
      "model_name": "DescriptionStyleModel",
      "state": {
       "description_width": ""
      }
     },
     "a270c1cfbf694abe95e5793ce58f5695": {
      "model_module": "@jupyter-widgets/base",
      "model_module_version": "1.1.0",
      "model_name": "LayoutModel",
      "state": {}
     },
     "a29089afd20d481fa3d1f5af72f9915d": {
      "model_module": "@jupyter-widgets/base",
      "model_module_version": "1.1.0",
      "model_name": "LayoutModel",
      "state": {}
     },
     "a2fb590512164e1abbf3e569b07ad80b": {
      "model_module": "@jupyter-widgets/base",
      "model_module_version": "1.1.0",
      "model_name": "LayoutModel",
      "state": {}
     },
     "a3119459011945f4bf7fe6ae4a22d7dc": {
      "model_module": "@jupyter-widgets/base",
      "model_module_version": "1.1.0",
      "model_name": "LayoutModel",
      "state": {}
     },
     "a32f6d2dfe4a48bb9d15efef7a7a0ed5": {
      "model_module": "@jupyter-widgets/controls",
      "model_module_version": "1.4.0",
      "model_name": "ButtonStyleModel",
      "state": {}
     },
     "a36b28d6d9e94a7592a8967c97e9bd07": {
      "model_module": "@jupyter-widgets/controls",
      "model_module_version": "1.4.0",
      "model_name": "HBoxModel",
      "state": {
       "children": [
        "IPY_MODEL_040b0b431fbc4bd8bfc2d943b5692565",
        "IPY_MODEL_96fb60ea830645e0ba78f843e97d73b5"
       ],
       "layout": "IPY_MODEL_5119c56814534572b51f8f4c6469bbb0"
      }
     },
     "a3ac46b07f604dd6a964113ee6ffbe2d": {
      "model_module": "@jupyter-widgets/base",
      "model_module_version": "1.1.0",
      "model_name": "LayoutModel",
      "state": {}
     },
     "a3ccb326301c41b58bf698510af294a0": {
      "model_module": "@jupyter-widgets/base",
      "model_module_version": "1.1.0",
      "model_name": "LayoutModel",
      "state": {}
     },
     "a3d90521f38e405ca5d9582f6e78e3f1": {
      "model_module": "@jupyter-widgets/controls",
      "model_module_version": "1.4.0",
      "model_name": "IntTextModel",
      "state": {
       "description": "x_bins",
       "layout": "IPY_MODEL_ea50c305e2fb4f85aa09690b249faa40",
       "step": 1,
       "style": "IPY_MODEL_1abdf13b69a04819be40040bcc173982",
       "value": 10
      }
     },
     "a3e3c9e8de4b43c5b155aba77d5e610b": {
      "model_module": "@jupyter-widgets/controls",
      "model_module_version": "1.4.0",
      "model_name": "DescriptionStyleModel",
      "state": {
       "description_width": ""
      }
     },
     "a3f6fbfe1d95473fb4d4113078fb6127": {
      "model_module": "@jupyter-widgets/controls",
      "model_module_version": "1.4.0",
      "model_name": "ButtonStyleModel",
      "state": {}
     },
     "a416bcaff5644ad6af6ea658646bb3ff": {
      "model_module": "@jupyter-widgets/controls",
      "model_module_version": "1.4.0",
      "model_name": "DescriptionStyleModel",
      "state": {
       "description_width": ""
      }
     },
     "a42291b1f3e14300b648b69d29c73f46": {
      "model_module": "@jupyter-widgets/controls",
      "model_module_version": "1.4.0",
      "model_name": "DescriptionStyleModel",
      "state": {
       "description_width": ""
      }
     },
     "a432c923a36d4950b47f1abe1ee19ae7": {
      "model_module": "@jupyter-widgets/controls",
      "model_module_version": "1.4.0",
      "model_name": "TextModel",
      "state": {
       "description": "linecolor",
       "layout": "IPY_MODEL_8bb7bd03897d437ca93ac681e29c4e6f",
       "style": "IPY_MODEL_32568a2e1d2f4cbfa1dd2ce0da97995a"
      }
     },
     "a4af9e7efaf64018bc3715c7438b210a": {
      "model_module": "@jupyter-widgets/base",
      "model_module_version": "1.1.0",
      "model_name": "LayoutModel",
      "state": {}
     },
     "a4b3ee80acae4cf8b66058690516d390": {
      "model_module": "@jupyter-widgets/base",
      "model_module_version": "1.1.0",
      "model_name": "LayoutModel",
      "state": {}
     },
     "a4be6d54b4374eafbf1b970764e2a5f9": {
      "model_module": "@jupyter-widgets/base",
      "model_module_version": "1.1.0",
      "model_name": "LayoutModel",
      "state": {}
     },
     "a531f82ec7a343ffa8b474cbba42755f": {
      "model_module": "@jupyter-widgets/base",
      "model_module_version": "1.1.0",
      "model_name": "LayoutModel",
      "state": {}
     },
     "a5c9f485a8c84a04973dd90c5c31c4d2": {
      "model_module": "@jupyter-widgets/controls",
      "model_module_version": "1.4.0",
      "model_name": "ButtonStyleModel",
      "state": {}
     },
     "a66078735b07417ba92ec093f9bcf89c": {
      "model_module": "@jupyter-widgets/controls",
      "model_module_version": "1.4.0",
      "model_name": "DescriptionStyleModel",
      "state": {
       "description_width": ""
      }
     },
     "a6664f85d9c443ed8f9f57b17300360b": {
      "model_module": "@jupyter-widgets/controls",
      "model_module_version": "1.4.0",
      "model_name": "IntTextModel",
      "state": {
       "description": "gridsize",
       "layout": "IPY_MODEL_9b95ebfa80264d62abc192c9583e9f27",
       "step": 1,
       "style": "IPY_MODEL_967816b84c9940c4ad1e993b66d68a70",
       "value": 100
      }
     },
     "a68898b1236e42acb450bf80ea435d74": {
      "model_module": "@jupyter-widgets/controls",
      "model_module_version": "1.4.0",
      "model_name": "DescriptionStyleModel",
      "state": {
       "description_width": ""
      }
     },
     "a6923f7135d44dee9b76ed4a092a6b67": {
      "model_module": "@jupyter-widgets/controls",
      "model_module_version": "1.4.0",
      "model_name": "DescriptionStyleModel",
      "state": {
       "description_width": ""
      }
     },
     "a6a2c7addaa744b8bf8d0c9ca522f60e": {
      "model_module": "@jupyter-widgets/base",
      "model_module_version": "1.1.0",
      "model_name": "LayoutModel",
      "state": {}
     },
     "a6d25cbfbbc847aaa66454c448d48a7b": {
      "model_module": "@jupyter-widgets/controls",
      "model_module_version": "1.4.0",
      "model_name": "ButtonStyleModel",
      "state": {}
     },
     "a6dcd2625f7540ebbe681040c83822b4": {
      "model_module": "@jupyter-widgets/controls",
      "model_module_version": "1.4.0",
      "model_name": "CheckboxModel",
      "state": {
       "description": "sort",
       "disabled": false,
       "layout": "IPY_MODEL_89219e69aeba4e4ea05f97449c0633ff",
       "style": "IPY_MODEL_867d9fddd82c4cd299822e0922685d0f",
       "value": false
      }
     },
     "a70a6440e9e043359a6a1b8fe7c1c5a3": {
      "model_module": "@jupyter-widgets/controls",
      "model_module_version": "1.4.0",
      "model_name": "CheckboxModel",
      "state": {
       "description": "legend_out",
       "disabled": false,
       "layout": "IPY_MODEL_202d6a64763c408f84d8f632a7dcf789",
       "style": "IPY_MODEL_c9992da588de4bf8a0a83d01bd156d94",
       "value": false
      }
     },
     "a758b57c94fa49b4bc538c6c2b6df932": {
      "model_module": "@jupyter-widgets/controls",
      "model_module_version": "1.4.0",
      "model_name": "ButtonStyleModel",
      "state": {}
     },
     "a75bfeaf16a1432685618db5e764fc72": {
      "model_module": "@jupyter-widgets/controls",
      "model_module_version": "1.4.0",
      "model_name": "DescriptionStyleModel",
      "state": {
       "description_width": ""
      }
     },
     "a75d5fbd376a4005b6bc989160e0ff6d": {
      "model_module": "@jupyter-widgets/base",
      "model_module_version": "1.1.0",
      "model_name": "LayoutModel",
      "state": {}
     },
     "a768b6c587b341b18c98c8013162a09e": {
      "model_module": "@jupyter-widgets/controls",
      "model_module_version": "1.4.0",
      "model_name": "CheckboxModel",
      "state": {
       "description": "split",
       "disabled": false,
       "layout": "IPY_MODEL_0b5fac87da6946aab91db34bfbfc85e1",
       "style": "IPY_MODEL_b699367af3a4423083bf64c3fa007aa0",
       "value": false
      }
     },
     "a7802374ba9a496db5e127cd6700694c": {
      "model_module": "@jupyter-widgets/controls",
      "model_module_version": "1.4.0",
      "model_name": "DescriptionStyleModel",
      "state": {
       "description_width": ""
      }
     },
     "a7b1d7dad1d24964868b4875ffa3f728": {
      "model_module": "@jupyter-widgets/controls",
      "model_module_version": "1.4.0",
      "model_name": "ButtonModel",
      "state": {
       "description": "remove",
       "layout": "IPY_MODEL_7ccecc03c4d34fd4bb4a392c2ead349f",
       "style": "IPY_MODEL_2f56c97da579404b8a7e266c80d04513"
      }
     },
     "a7d55a109c0e4c128bfa26eabe0217c4": {
      "model_module": "@jupyter-widgets/controls",
      "model_module_version": "1.4.0",
      "model_name": "DescriptionStyleModel",
      "state": {
       "description_width": ""
      }
     },
     "a7fc4f77b61b4b49bd34458ffdeafafa": {
      "model_module": "@jupyter-widgets/controls",
      "model_module_version": "1.4.0",
      "model_name": "FloatTextModel",
      "state": {
       "description": "cut",
       "layout": "IPY_MODEL_4f4cfd0cd12d41f2b6d134f95415ab41",
       "step": null,
       "style": "IPY_MODEL_7b09315a15104bb5a0d860886b6f0039",
       "value": 1
      }
     },
     "a8073b4f37694106b5cf04ea34a5ccdd": {
      "model_module": "@jupyter-widgets/base",
      "model_module_version": "1.1.0",
      "model_name": "LayoutModel",
      "state": {}
     },
     "a8094e2dafed4066b5ba865a63e35628": {
      "model_module": "@jupyter-widgets/controls",
      "model_module_version": "1.4.0",
      "model_name": "DropdownModel",
      "state": {
       "_options_labels": [
        "Acceleration",
        "Cylinders",
        "Displacement",
        "Horsepower",
        "Miles_per_Gallon",
        "Name",
        "Origin",
        "Weight_in_lbs",
        "Year"
       ],
       "description": "data",
       "index": 0,
       "layout": "IPY_MODEL_922b6d82e4e24a379111a96d082285e5",
       "style": "IPY_MODEL_26b2c3e48c0b4f618376fd258eb71cee"
      }
     },
     "a813b0142d8c4214b40e3efef3f3369e": {
      "model_module": "@jupyter-widgets/base",
      "model_module_version": "1.1.0",
      "model_name": "LayoutModel",
      "state": {}
     },
     "a820dfb87b57400baf9c6216e358fad9": {
      "model_module": "@jupyter-widgets/controls",
      "model_module_version": "1.4.0",
      "model_name": "HBoxModel",
      "state": {
       "children": [
        "IPY_MODEL_1a9b80eea7284ebaba74cfc8d0c59832"
       ],
       "layout": "IPY_MODEL_40ecb490e42041c2af44f3e11b9b1eaa"
      }
     },
     "a830997b1bd24c5d9adb7f5a8b39d90b": {
      "model_module": "@jupyter-widgets/base",
      "model_module_version": "1.1.0",
      "model_name": "LayoutModel",
      "state": {}
     },
     "a87f95c10f2e47d8824e7df35f07a7f0": {
      "model_module": "@jupyter-widgets/controls",
      "model_module_version": "1.4.0",
      "model_name": "DropdownModel",
      "state": {
       "_options_labels": [
        "band",
        "bars"
       ],
       "description": "err_style",
       "index": 0,
       "layout": "IPY_MODEL_40662bf54a054464a41bb1b047c2c52c",
       "style": "IPY_MODEL_935086668e5840f396e7a9b2436baa6e"
      }
     },
     "a8a6343e75964519b9224ce099cfe131": {
      "model_module": "@jupyter-widgets/base",
      "model_module_version": "1.1.0",
      "model_name": "LayoutModel",
      "state": {}
     },
     "a8b6234b8aaf48989fc20e9fcb6deb4a": {
      "model_module": "@jupyter-widgets/base",
      "model_module_version": "1.1.0",
      "model_name": "LayoutModel",
      "state": {}
     },
     "a8b6dce10fd149d6968e479e16ae860f": {
      "model_module": "@jupyter-widgets/controls",
      "model_module_version": "1.4.0",
      "model_name": "DescriptionStyleModel",
      "state": {
       "description_width": ""
      }
     },
     "a8d3809e5f834462a164cc82037436dd": {
      "model_module": "@jupyter-widgets/controls",
      "model_module_version": "1.4.0",
      "model_name": "DescriptionStyleModel",
      "state": {
       "description_width": ""
      }
     },
     "a8e228702114424cb30cf277e2bd30c1": {
      "model_module": "@jupyter-widgets/controls",
      "model_module_version": "1.4.0",
      "model_name": "DropdownModel",
      "state": {
       "_options_labels": [
        "Name",
        "Year",
        "Miles_per_Gallon",
        "Origin",
        "Cylinders",
        "Displacement",
        "Acceleration",
        "Horsepower",
        "Weight_in_lbs"
       ],
       "description": "dashes",
       "index": 0,
       "layout": "IPY_MODEL_1c6aa2a1218141f2b500145617055dfd",
       "style": "IPY_MODEL_e4364be780524af9934b19b8ddb35f7b"
      }
     },
     "a8f692a45cbf43cfb352aea0aa4c591e": {
      "model_module": "@jupyter-widgets/controls",
      "model_module_version": "1.4.0",
      "model_name": "DescriptionStyleModel",
      "state": {
       "description_width": ""
      }
     },
     "a91bb399fb4b4fd09d554fbc32cdfe27": {
      "model_module": "@jupyter-widgets/controls",
      "model_module_version": "1.4.0",
      "model_name": "DescriptionStyleModel",
      "state": {
       "description_width": ""
      }
     },
     "a93a19682bb94fff89d3e9e954ccccf0": {
      "model_module": "@jupyter-widgets/controls",
      "model_module_version": "1.4.0",
      "model_name": "FloatTextModel",
      "state": {
       "description": "y_jitter",
       "layout": "IPY_MODEL_f6952de5113d46b7886bbd912a95efcd",
       "step": null,
       "style": "IPY_MODEL_b58d187494d042f3af314dc620b221e3",
       "value": 1
      }
     },
     "a95206b212c4459c873ca7e63edef5d6": {
      "model_module": "@jupyter-widgets/controls",
      "model_module_version": "1.4.0",
      "model_name": "VBoxModel",
      "state": {
       "children": [
        "IPY_MODEL_651daba981f24c2db56c4ec3e0298a59",
        "IPY_MODEL_c33c6015a67a45f397b7a00519ac07d2",
        "IPY_MODEL_3cec8017de68406b8382461bf9192bc1",
        "IPY_MODEL_4900e7fcc31f4528b6649fa4332a3d90",
        "IPY_MODEL_204797452dda4063a5075267326a0f94"
       ],
       "layout": "IPY_MODEL_3ff559a756ed4536b4fd5d8f96863d1c"
      }
     },
     "a9690d503c29458eb5fa99ed97ecb43c": {
      "model_module": "@jupyter-widgets/controls",
      "model_module_version": "1.4.0",
      "model_name": "DropdownModel",
      "state": {
       "_options_labels": [
        "Acceleration",
        "Cylinders",
        "Displacement",
        "Horsepower",
        "Miles_per_Gallon",
        "Name",
        "Origin",
        "Weight_in_lbs",
        "Year"
       ],
       "description": "x",
       "index": 6,
       "layout": "IPY_MODEL_9c6b444689694224b1c4ba4b22df9d59",
       "style": "IPY_MODEL_bca368c182ce4c518725e0c9bf57f7bd"
      }
     },
     "a97c58b011e0445685c70c984244704c": {
      "model_module": "@jupyter-widgets/base",
      "model_module_version": "1.1.0",
      "model_name": "LayoutModel",
      "state": {}
     },
     "a98048fdc4b94e89a347f12e25ce8cb3": {
      "model_module": "@jupyter-widgets/controls",
      "model_module_version": "1.4.0",
      "model_name": "DescriptionStyleModel",
      "state": {
       "description_width": ""
      }
     },
     "a9bb726d259640668833e6bac3db1155": {
      "model_module": "@jupyter-widgets/controls",
      "model_module_version": "1.4.0",
      "model_name": "CheckboxModel",
      "state": {
       "description": "cumulative",
       "disabled": false,
       "layout": "IPY_MODEL_0ae682fa30a6450b989ffeff72d4e96b",
       "style": "IPY_MODEL_4d774e7629d945b4826c13819cc862d1",
       "value": false
      }
     },
     "a9cb956815f1434e99ee96d6e1bffff3": {
      "model_module": "@jupyter-widgets/controls",
      "model_module_version": "1.4.0",
      "model_name": "CheckboxModel",
      "state": {
       "description": "square",
       "disabled": false,
       "layout": "IPY_MODEL_e4154a737bd54c22b276522169994561",
       "style": "IPY_MODEL_5a88e555aa0c4c0ca5cbc6d1179eccd1",
       "value": false
      }
     },
     "a9df3cf3100142f8aca0d3333edd2c58": {
      "model_module": "@jupyter-widgets/controls",
      "model_module_version": "1.4.0",
      "model_name": "DescriptionStyleModel",
      "state": {
       "description_width": ""
      }
     },
     "aa15861e0c3e4c47b15e2eb4247d917e": {
      "model_module": "@jupyter-widgets/controls",
      "model_module_version": "1.4.0",
      "model_name": "DescriptionStyleModel",
      "state": {
       "description_width": ""
      }
     },
     "aa29401999894367bf4fafa79bd1b873": {
      "model_module": "@jupyter-widgets/controls",
      "model_module_version": "1.4.0",
      "model_name": "LabelModel",
      "state": {
       "layout": "IPY_MODEL_d78d7573f3c04d16b7bb419705b4c95c",
       "style": "IPY_MODEL_ddde8715ef9a4f8eb9a1e62e2dd38f8f",
       "value": "---"
      }
     },
     "aa4409cfdcd345c9b567f1f761b5dad5": {
      "model_module": "@jupyter-widgets/base",
      "model_module_version": "1.1.0",
      "model_name": "LayoutModel",
      "state": {}
     },
     "aa56c86e234b49bda7e7f28b507b4125": {
      "model_module": "@jupyter-widgets/base",
      "model_module_version": "1.1.0",
      "model_name": "LayoutModel",
      "state": {}
     },
     "aadd07a76cdb4baf9d0d27293fa2c213": {
      "model_module": "@jupyter-widgets/controls",
      "model_module_version": "1.4.0",
      "model_name": "DescriptionStyleModel",
      "state": {
       "description_width": ""
      }
     },
     "aafd7634afe44ff2beecb00f45670cb0": {
      "model_module": "@jupyter-widgets/base",
      "model_module_version": "1.1.0",
      "model_name": "LayoutModel",
      "state": {}
     },
     "ab29a4e5b06546f6a49431c98addc967": {
      "model_module": "@jupyter-widgets/controls",
      "model_module_version": "1.4.0",
      "model_name": "DescriptionStyleModel",
      "state": {
       "description_width": ""
      }
     },
     "ab849f73f2da4f94a4443dbf708aac85": {
      "model_module": "@jupyter-widgets/base",
      "model_module_version": "1.1.0",
      "model_name": "LayoutModel",
      "state": {}
     },
     "abafd20fcb5744f0bff4e596a967f0a0": {
      "model_module": "@jupyter-widgets/controls",
      "model_module_version": "1.4.0",
      "model_name": "DropdownModel",
      "state": {
       "_options_labels": [
        "full",
        "brief",
        "False"
       ],
       "description": "legend",
       "index": 0,
       "layout": "IPY_MODEL_4212e8c8f5cb4e4eb8bc0ee358a7b325",
       "style": "IPY_MODEL_24cba8ba282548fb995e3ff8012bc7c1"
      }
     },
     "abd0e9e258024ac38784b5fca78f7ad1": {
      "model_module": "@jupyter-widgets/controls",
      "model_module_version": "1.4.0",
      "model_name": "FloatTextModel",
      "state": {
       "description": "height",
       "layout": "IPY_MODEL_e683656a492e45a98150d3a60c83588f",
       "step": null,
       "style": "IPY_MODEL_d769007339cd40209a43b176309c0cde",
       "value": 1
      }
     },
     "abe222534e5347ae8d5aa6debd597b86": {
      "model_module": "@jupyter-widgets/controls",
      "model_module_version": "1.4.0",
      "model_name": "DescriptionStyleModel",
      "state": {
       "description_width": ""
      }
     },
     "ac00e92ed8c1408682aa1e96fe79f2f5": {
      "model_module": "@jupyter-widgets/controls",
      "model_module_version": "1.4.0",
      "model_name": "DescriptionStyleModel",
      "state": {
       "description_width": ""
      }
     },
     "ac00fb60e81348e59ee04f84fb7f6259": {
      "model_module": "@jupyter-widgets/controls",
      "model_module_version": "1.4.0",
      "model_name": "FloatTextModel",
      "state": {
       "description": "aspect",
       "layout": "IPY_MODEL_e0d5fe927d41481a97dd07556ba1b9dd",
       "step": null,
       "style": "IPY_MODEL_ebe4e20c01fa4603ba557fca63089692",
       "value": 1
      }
     },
     "ac0a0eb3b2d4442ab3d872bda3393700": {
      "model_module": "@jupyter-widgets/controls",
      "model_module_version": "1.4.0",
      "model_name": "ButtonStyleModel",
      "state": {}
     },
     "ac3cbc1862fa4a17b6681096fe121fb3": {
      "model_module": "@jupyter-widgets/controls",
      "model_module_version": "1.4.0",
      "model_name": "CheckboxModel",
      "state": {
       "description": "scatter",
       "disabled": false,
       "layout": "IPY_MODEL_8895f71b8ac84427806861bbee5b2b81",
       "style": "IPY_MODEL_4d9cabc0b7e441e0adc0d9e141b38929",
       "value": false
      }
     },
     "ac3ef534e06941688d06e204be5070ba": {
      "model_module": "@jupyter-widgets/controls",
      "model_module_version": "1.4.0",
      "model_name": "CheckboxModel",
      "state": {
       "description": "square",
       "disabled": false,
       "layout": "IPY_MODEL_bb6ba21463994d88894458b3c7c5b4e3",
       "style": "IPY_MODEL_893a8fa476b7415db90ba553630ecf24",
       "value": false
      }
     },
     "ac62394d4f7b45588cc5239792a52693": {
      "model_module": "@jupyter-widgets/base",
      "model_module_version": "1.1.0",
      "model_name": "LayoutModel",
      "state": {}
     },
     "ac78c114567f49319a662c8371c3a8d1": {
      "model_module": "@jupyter-widgets/controls",
      "model_module_version": "1.4.0",
      "model_name": "ButtonModel",
      "state": {
       "description": "remove",
       "layout": "IPY_MODEL_47fdf813caf7413099e57052ffe386f6",
       "style": "IPY_MODEL_a6d25cbfbbc847aaa66454c448d48a7b"
      }
     },
     "ac9238ead724474e80468ae92c209464": {
      "model_module": "@jupyter-widgets/controls",
      "model_module_version": "1.4.0",
      "model_name": "IntTextModel",
      "state": {
       "description": "gridsize",
       "layout": "IPY_MODEL_56b42bd5ac28486fba1953810fb0c217",
       "step": 1,
       "style": "IPY_MODEL_c5c8ac647df848d9ade8555b49097a92",
       "value": 100
      }
     },
     "ac995ebcd01e4600b76a8645180752fb": {
      "model_module": "@jupyter-widgets/base",
      "model_module_version": "1.1.0",
      "model_name": "LayoutModel",
      "state": {}
     },
     "aca9ce8fdea249a783d818c328c5008f": {
      "model_module": "@jupyter-widgets/base",
      "model_module_version": "1.1.0",
      "model_name": "LayoutModel",
      "state": {}
     },
     "acda6a357dba4130a3a6390274675242": {
      "model_module": "@jupyter-widgets/controls",
      "model_module_version": "1.4.0",
      "model_name": "DescriptionStyleModel",
      "state": {
       "description_width": ""
      }
     },
     "acdcad4fd36e4764864c7f324c1e30ba": {
      "model_module": "@jupyter-widgets/controls",
      "model_module_version": "1.4.0",
      "model_name": "DropdownModel",
      "state": {
       "_options_labels": [
        "Acceleration",
        "Cylinders",
        "Displacement",
        "Horsepower",
        "Miles_per_Gallon",
        "Name",
        "Origin",
        "Weight_in_lbs",
        "Year"
       ],
       "description": "y",
       "index": 4,
       "layout": "IPY_MODEL_38c7ecfab2b34d9e8537b6004c99b4c4",
       "style": "IPY_MODEL_c665e59c9a444083847ba12f9c83c605"
      }
     },
     "acf0789f2a404b4c81432b80e8705e1f": {
      "model_module": "@jupyter-widgets/controls",
      "model_module_version": "1.4.0",
      "model_name": "CheckboxModel",
      "state": {
       "description": "robust",
       "disabled": false,
       "layout": "IPY_MODEL_adc76084904842439664dc13918114a1",
       "style": "IPY_MODEL_6dae1b3ac04e4c3fb36dc6dcce1bb2bc",
       "value": false
      }
     },
     "ad0ebc2e167342fc83d7906865fa00f9": {
      "model_module": "@jupyter-widgets/controls",
      "model_module_version": "1.4.0",
      "model_name": "ButtonModel",
      "state": {
       "description": "remove",
       "layout": "IPY_MODEL_b56a841acd604270aabb76d3deed6c7c",
       "style": "IPY_MODEL_6985471d26974961a397af89377f4f68"
      }
     },
     "ad104f2f76c7460ea44a42aef31d7b54": {
      "model_module": "@jupyter-widgets/controls",
      "model_module_version": "1.4.0",
      "model_name": "LabelModel",
      "state": {
       "layout": "IPY_MODEL_e4dd4f0e263647d7a9bccc7c78702d99",
       "style": "IPY_MODEL_ff4f22c272ec4e0eb18bb8ad15fc1dd7",
       "value": "---"
      }
     },
     "ad231239f97044bb8f34940513325204": {
      "model_module": "@jupyter-widgets/base",
      "model_module_version": "1.1.0",
      "model_name": "LayoutModel",
      "state": {}
     },
     "ad77121a5c69460ca311c5b361b5adaf": {
      "model_module": "@jupyter-widgets/controls",
      "model_module_version": "1.4.0",
      "model_name": "DescriptionStyleModel",
      "state": {
       "description_width": ""
      }
     },
     "adaad3da56fe4f428b8ad73b7e26aaea": {
      "model_module": "@jupyter-widgets/base",
      "model_module_version": "1.1.0",
      "model_name": "LayoutModel",
      "state": {}
     },
     "adc26c34c71e4c82a1f9fed7eb209688": {
      "model_module": "@jupyter-widgets/controls",
      "model_module_version": "1.4.0",
      "model_name": "CheckboxModel",
      "state": {
       "description": "rug",
       "disabled": false,
       "layout": "IPY_MODEL_9e63f379757840a99313958858ec9e75",
       "style": "IPY_MODEL_bb8c9051faa144d3b98cf6a93add4347",
       "value": false
      }
     },
     "adc76084904842439664dc13918114a1": {
      "model_module": "@jupyter-widgets/base",
      "model_module_version": "1.1.0",
      "model_name": "LayoutModel",
      "state": {}
     },
     "ae82b74b873f48108a3b97cb4d37162b": {
      "model_module": "@jupyter-widgets/base",
      "model_module_version": "1.1.0",
      "model_name": "LayoutModel",
      "state": {}
     },
     "aeb179d145d94379be3e61cfab9b9adf": {
      "model_module": "@jupyter-widgets/base",
      "model_module_version": "1.1.0",
      "model_name": "LayoutModel",
      "state": {}
     },
     "aec1bb9edc274415be577d12c6c46e47": {
      "model_module": "@jupyter-widgets/controls",
      "model_module_version": "1.4.0",
      "model_name": "DescriptionStyleModel",
      "state": {
       "description_width": ""
      }
     },
     "aeceeb83173f4d268f580620b8649eba": {
      "model_module": "@jupyter-widgets/controls",
      "model_module_version": "1.4.0",
      "model_name": "LabelModel",
      "state": {
       "layout": "IPY_MODEL_fc2ba4475599411fbd925f87523ae5e8",
       "style": "IPY_MODEL_bb676c7d8c1f439f91d9ff8aabf6151a",
       "value": "---"
      }
     },
     "af0802d336ef43e399f2764ea506a8a5": {
      "model_module": "@jupyter-widgets/controls",
      "model_module_version": "1.4.0",
      "model_name": "DescriptionStyleModel",
      "state": {
       "description_width": ""
      }
     },
     "af13ac37928a44e49a887fadf17c6d43": {
      "model_module": "@jupyter-widgets/base",
      "model_module_version": "1.1.0",
      "model_name": "LayoutModel",
      "state": {}
     },
     "af1b3d01586247c6805ef6d7560b3246": {
      "model_module": "@jupyter-widgets/base",
      "model_module_version": "1.1.0",
      "model_name": "LayoutModel",
      "state": {}
     },
     "af25e3daec764f41bb3e9fb0b291702f": {
      "model_module": "@jupyter-widgets/controls",
      "model_module_version": "1.4.0",
      "model_name": "SliderStyleModel",
      "state": {
       "description_width": ""
      }
     },
     "af539a57554b41478b187eaf3afd2643": {
      "model_module": "@jupyter-widgets/controls",
      "model_module_version": "1.4.0",
      "model_name": "DescriptionStyleModel",
      "state": {
       "description_width": ""
      }
     },
     "afcd4e2e56d847fb988cb4488c0d25b4": {
      "model_module": "@jupyter-widgets/controls",
      "model_module_version": "1.4.0",
      "model_name": "ButtonModel",
      "state": {
       "description": "remove",
       "layout": "IPY_MODEL_0465eff5b7a74df693b05c3bfece5924",
       "style": "IPY_MODEL_63d258e546904b7cb12999fbecfe0f35"
      }
     },
     "b02f9ba6c54f44fda0207b34eb919e6c": {
      "model_module": "@jupyter-widgets/controls",
      "model_module_version": "1.4.0",
      "model_name": "DescriptionStyleModel",
      "state": {
       "description_width": ""
      }
     },
     "b03d88152cd04534be1781bc175d53ef": {
      "model_module": "@jupyter-widgets/base",
      "model_module_version": "1.1.0",
      "model_name": "LayoutModel",
      "state": {}
     },
     "b08d64d0420746a38ad2c016f722d345": {
      "model_module": "@jupyter-widgets/controls",
      "model_module_version": "1.4.0",
      "model_name": "ButtonModel",
      "state": {
       "description": "remove",
       "layout": "IPY_MODEL_7d02d2cec3d8440ba654eed6e5f65c9d",
       "style": "IPY_MODEL_82df864917b543d0aba3c2096e956c7a"
      }
     },
     "b094ac8f7a354296af22a7e18cc00425": {
      "model_module": "@jupyter-widgets/controls",
      "model_module_version": "1.4.0",
      "model_name": "DescriptionStyleModel",
      "state": {
       "description_width": ""
      }
     },
     "b0d1035391a143299505b047eb390d63": {
      "model_module": "@jupyter-widgets/controls",
      "model_module_version": "1.4.0",
      "model_name": "DescriptionStyleModel",
      "state": {
       "description_width": ""
      }
     },
     "b10ae95ae41b43e1929ca2fbaec46019": {
      "model_module": "@jupyter-widgets/controls",
      "model_module_version": "1.4.0",
      "model_name": "HBoxModel",
      "state": {
       "children": [
        "IPY_MODEL_d3df76e2eec04816ab3d0a73bb91b88b"
       ],
       "layout": "IPY_MODEL_cd2d36bbdde046e5a0121a1bda93f6ad"
      }
     },
     "b172d816150f4a1cb7b52877238f0d41": {
      "model_module": "@jupyter-widgets/controls",
      "model_module_version": "1.4.0",
      "model_name": "FloatTextModel",
      "state": {
       "description": "whis",
       "layout": "IPY_MODEL_3bda312462b940b8b6bd2426ec291eeb",
       "step": null,
       "style": "IPY_MODEL_0c7f8a5d528740f885bfe39363cd2f32",
       "value": 1
      }
     },
     "b189b1a098a54c03af1a279956c230e9": {
      "model_module": "@jupyter-widgets/controls",
      "model_module_version": "1.4.0",
      "model_name": "DescriptionStyleModel",
      "state": {
       "description_width": ""
      }
     },
     "b1a2bac9a07240f58236f80ac72f624e": {
      "model_module": "@jupyter-widgets/controls",
      "model_module_version": "1.4.0",
      "model_name": "HBoxModel",
      "state": {
       "children": [
        "IPY_MODEL_618d0febbb854508b1370f2e2aa9e555"
       ],
       "layout": "IPY_MODEL_ac995ebcd01e4600b76a8645180752fb"
      }
     },
     "b1b8a354d0fb408e89264da82f8016e2": {
      "model_module": "@jupyter-widgets/controls",
      "model_module_version": "1.4.0",
      "model_name": "ButtonStyleModel",
      "state": {}
     },
     "b1f237fab2d5429e9bc9cce3e24ef404": {
      "model_module": "@jupyter-widgets/base",
      "model_module_version": "1.1.0",
      "model_name": "LayoutModel",
      "state": {}
     },
     "b20e910956154cb59839b54a4a2bbc46": {
      "model_module": "@jupyter-widgets/controls",
      "model_module_version": "1.4.0",
      "model_name": "DescriptionStyleModel",
      "state": {
       "description_width": ""
      }
     },
     "b2404d4b72784c0e97051b749da978fd": {
      "model_module": "@jupyter-widgets/base",
      "model_module_version": "1.1.0",
      "model_name": "LayoutModel",
      "state": {}
     },
     "b253de9ac5e3434689c7758c9f1d614a": {
      "model_module": "@jupyter-widgets/base",
      "model_module_version": "1.1.0",
      "model_name": "LayoutModel",
      "state": {}
     },
     "b254246af40240d699a627dad5ced806": {
      "model_module": "@jupyter-widgets/controls",
      "model_module_version": "1.4.0",
      "model_name": "DescriptionStyleModel",
      "state": {
       "description_width": ""
      }
     },
     "b262d749e22748a1b91945c30dc2ac45": {
      "model_module": "@jupyter-widgets/controls",
      "model_module_version": "1.4.0",
      "model_name": "ButtonStyleModel",
      "state": {}
     },
     "b267a458b3464fbf8a87dd58b9e01b95": {
      "model_module": "@jupyter-widgets/base",
      "model_module_version": "1.1.0",
      "model_name": "LayoutModel",
      "state": {}
     },
     "b284831302fc4cfda5c3262b8e9bfe1e": {
      "model_module": "@jupyter-widgets/controls",
      "model_module_version": "1.4.0",
      "model_name": "DescriptionStyleModel",
      "state": {
       "description_width": ""
      }
     },
     "b287bfaf9668412ba7689fc79f27d508": {
      "model_module": "@jupyter-widgets/base",
      "model_module_version": "1.1.0",
      "model_name": "LayoutModel",
      "state": {}
     },
     "b2a90c39217044b68cc8121d9f25807d": {
      "model_module": "@jupyter-widgets/controls",
      "model_module_version": "1.4.0",
      "model_name": "ButtonModel",
      "state": {
       "description": "remove",
       "layout": "IPY_MODEL_970584b1849a4d59807160ff86666b7b",
       "style": "IPY_MODEL_f833e2d7ca8643ae91b2aea423d55e1d"
      }
     },
     "b2d03200f0cd45728db0fec1aacc7045": {
      "model_module": "@jupyter-widgets/base",
      "model_module_version": "1.1.0",
      "model_name": "LayoutModel",
      "state": {}
     },
     "b30a5cd02a6646648833a30f23dce3df": {
      "model_module": "@jupyter-widgets/controls",
      "model_module_version": "1.4.0",
      "model_name": "DropdownModel",
      "state": {
       "_options_labels": [
        "o",
        "v",
        "^",
        "<",
        ">",
        "8",
        "s",
        "p",
        "*",
        "h",
        "H",
        "D",
        "d",
        "P",
        "X"
       ],
       "description": "marker",
       "index": 0,
       "layout": "IPY_MODEL_8bae00043ba541909eab8205456dc239",
       "style": "IPY_MODEL_abe222534e5347ae8d5aa6debd597b86"
      }
     },
     "b31994e9002048ef81634975130bb063": {
      "model_module": "@jupyter-widgets/controls",
      "model_module_version": "1.4.0",
      "model_name": "DescriptionStyleModel",
      "state": {
       "description_width": ""
      }
     },
     "b3201c4f3b3e463ebfddf76bb5f3c697": {
      "model_module": "@jupyter-widgets/controls",
      "model_module_version": "1.4.0",
      "model_name": "DescriptionStyleModel",
      "state": {
       "description_width": ""
      }
     },
     "b329175fc0164875a2fea89997c6776a": {
      "model_module": "@jupyter-widgets/controls",
      "model_module_version": "1.4.0",
      "model_name": "CheckboxModel",
      "state": {
       "description": "kde",
       "disabled": false,
       "layout": "IPY_MODEL_17145dddab5348c5abda8ad9af29064e",
       "style": "IPY_MODEL_360321a6c4c54343bc614aa7ca6ef744",
       "value": false
      }
     },
     "b3599f3930c14c81baf14f723d7c52d3": {
      "model_module": "@jupyter-widgets/controls",
      "model_module_version": "1.4.0",
      "model_name": "HBoxModel",
      "state": {
       "children": [
        "IPY_MODEL_b60dfe9b919746c1a55d3260757101a0",
        "IPY_MODEL_4e99012960c845b084e621c95f2c8ed4"
       ],
       "layout": "IPY_MODEL_a270c1cfbf694abe95e5793ce58f5695"
      }
     },
     "b35c7ae33f4f4050ab06254bcad02736": {
      "model_module": "@jupyter-widgets/controls",
      "model_module_version": "1.4.0",
      "model_name": "DescriptionStyleModel",
      "state": {
       "description_width": ""
      }
     },
     "b3670c9a4d344d8c90e2ec83da67e94a": {
      "model_module": "@jupyter-widgets/controls",
      "model_module_version": "1.4.0",
      "model_name": "DescriptionStyleModel",
      "state": {
       "description_width": ""
      }
     },
     "b3894c35366043658e37e3ce7c9e78ea": {
      "model_module": "@jupyter-widgets/controls",
      "model_module_version": "1.4.0",
      "model_name": "DescriptionStyleModel",
      "state": {
       "description_width": ""
      }
     },
     "b3c26c73c3a549f680ac6a9fea2c2a5c": {
      "model_module": "@jupyter-widgets/controls",
      "model_module_version": "1.4.0",
      "model_name": "DescriptionStyleModel",
      "state": {
       "description_width": ""
      }
     },
     "b3caafb641164a21832edd0a31a70357": {
      "model_module": "@jupyter-widgets/base",
      "model_module_version": "1.1.0",
      "model_name": "LayoutModel",
      "state": {}
     },
     "b3fc57c394c942ee8cd01cdaa043b09b": {
      "model_module": "@jupyter-widgets/controls",
      "model_module_version": "1.4.0",
      "model_name": "DropdownModel",
      "state": {
       "_options_labels": [
        "linear",
        "exponential",
        "area"
       ],
       "description": "scale",
       "index": 0,
       "layout": "IPY_MODEL_4c141de4ffc643df804f717323b6aa9e",
       "style": "IPY_MODEL_4b02cf7786d04d63aa1abec0e24f5c6b"
      }
     },
     "b41e91e44c0f4d03b0a5be205be2ccc6": {
      "model_module": "@jupyter-widgets/base",
      "model_module_version": "1.1.0",
      "model_name": "LayoutModel",
      "state": {}
     },
     "b4278f4703334bdbb98fa8a7c22da5b9": {
      "model_module": "@jupyter-widgets/base",
      "model_module_version": "1.1.0",
      "model_name": "LayoutModel",
      "state": {}
     },
     "b46e7c50f5de481d9b9f7ae824691564": {
      "model_module": "@jupyter-widgets/base",
      "model_module_version": "1.1.0",
      "model_name": "LayoutModel",
      "state": {}
     },
     "b484d4d4722c47e18734f06a3dc51685": {
      "model_module": "@jupyter-widgets/base",
      "model_module_version": "1.1.0",
      "model_name": "LayoutModel",
      "state": {}
     },
     "b48c99fb932e4af38bff7582d7a2e699": {
      "model_module": "@jupyter-widgets/controls",
      "model_module_version": "1.4.0",
      "model_name": "DescriptionStyleModel",
      "state": {
       "description_width": ""
      }
     },
     "b4ca2e84f9774162a8e514f81fb23e67": {
      "model_module": "@jupyter-widgets/controls",
      "model_module_version": "1.4.0",
      "model_name": "HBoxModel",
      "state": {
       "children": [
        "IPY_MODEL_ad104f2f76c7460ea44a42aef31d7b54"
       ],
       "layout": "IPY_MODEL_10d3a01165644be4bc2dfedf0bc8810c"
      }
     },
     "b4df5708e6e7495b9ae7ce065259b3d8": {
      "model_module": "@jupyter-widgets/base",
      "model_module_version": "1.1.0",
      "model_name": "LayoutModel",
      "state": {}
     },
     "b501e8a2be9644ce91be6080a3eba05c": {
      "model_module": "@jupyter-widgets/controls",
      "model_module_version": "1.4.0",
      "model_name": "DescriptionStyleModel",
      "state": {
       "description_width": ""
      }
     },
     "b50ac605068645bab3332844bc70e23c": {
      "model_module": "@jupyter-widgets/base",
      "model_module_version": "1.1.0",
      "model_name": "LayoutModel",
      "state": {}
     },
     "b54e6bde8d794b77a5a12b9c583f8423": {
      "model_module": "@jupyter-widgets/base",
      "model_module_version": "1.1.0",
      "model_name": "LayoutModel",
      "state": {}
     },
     "b56a841acd604270aabb76d3deed6c7c": {
      "model_module": "@jupyter-widgets/base",
      "model_module_version": "1.1.0",
      "model_name": "LayoutModel",
      "state": {}
     },
     "b58d187494d042f3af314dc620b221e3": {
      "model_module": "@jupyter-widgets/controls",
      "model_module_version": "1.4.0",
      "model_name": "DescriptionStyleModel",
      "state": {
       "description_width": ""
      }
     },
     "b592e95590dd40b39bb8859c3bc6688c": {
      "model_module": "@jupyter-widgets/controls",
      "model_module_version": "1.4.0",
      "model_name": "HBoxModel",
      "state": {
       "children": [
        "IPY_MODEL_aeceeb83173f4d268f580620b8649eba"
       ],
       "layout": "IPY_MODEL_577d0ab892c5410a86932e720e8db96a"
      }
     },
     "b5a76892f43e4ce7bd306bee0f73514f": {
      "model_module": "@jupyter-widgets/controls",
      "model_module_version": "1.4.0",
      "model_name": "ButtonStyleModel",
      "state": {}
     },
     "b5d3a8efe5bc41a2a656386df7d5d4a2": {
      "model_module": "@jupyter-widgets/controls",
      "model_module_version": "1.4.0",
      "model_name": "CheckboxModel",
      "state": {
       "description": "legend_out",
       "disabled": false,
       "layout": "IPY_MODEL_fbd66c21e06d44d6a043fc029f4b422a",
       "style": "IPY_MODEL_4ed79f3677434d25b4dcbcb51db9d00f",
       "value": false
      }
     },
     "b5d63624e9984603afd62217712092c3": {
      "model_module": "@jupyter-widgets/base",
      "model_module_version": "1.1.0",
      "model_name": "LayoutModel",
      "state": {}
     },
     "b603beac5e344919bbf920fb5a45c396": {
      "model_module": "@jupyter-widgets/controls",
      "model_module_version": "1.4.0",
      "model_name": "DropdownModel",
      "state": {
       "_options_labels": [
        "gau",
        "cos",
        "biw",
        "epa",
        "tri",
        "triw"
       ],
       "description": "kernel",
       "index": 0,
       "layout": "IPY_MODEL_64b139b9105e4982979efd7660288541",
       "style": "IPY_MODEL_ee583968d9594889bb50d85e42a3a814"
      }
     },
     "b60dfe9b919746c1a55d3260757101a0": {
      "model_module": "@jupyter-widgets/controls",
      "model_module_version": "1.4.0",
      "model_name": "DropdownModel",
      "state": {
       "_options_labels": [
        "Acceleration",
        "Cylinders",
        "Displacement",
        "Horsepower",
        "Miles_per_Gallon",
        "Name",
        "Origin",
        "Weight_in_lbs",
        "Year"
       ],
       "description": "x",
       "index": 6,
       "layout": "IPY_MODEL_87cb96d6bee94b5db499a10a7bac66b9",
       "style": "IPY_MODEL_f967f03b2b7345eda4a6cadfa8889cb2"
      }
     },
     "b61c1b49941747d198da33661f0a3392": {
      "model_module": "@jupyter-widgets/base",
      "model_module_version": "1.1.0",
      "model_name": "LayoutModel",
      "state": {}
     },
     "b651665631fd47f4a3ab502540659d22": {
      "model_module": "@jupyter-widgets/controls",
      "model_module_version": "1.4.0",
      "model_name": "HBoxModel",
      "state": {
       "children": [
        "IPY_MODEL_828f819b33764216b7a76df030be6752",
        "IPY_MODEL_ce499700a0b44c3b8d95f67de25b0203"
       ],
       "layout": "IPY_MODEL_6757cc49299a455d8bf43ff74cac97ba"
      }
     },
     "b65e12375b2c4b4491eae1532e983552": {
      "model_module": "@jupyter-widgets/controls",
      "model_module_version": "1.4.0",
      "model_name": "DropdownModel",
      "state": {
       "_options_labels": [
        "scott",
        "silverman"
       ],
       "description": "bw",
       "index": 0,
       "layout": "IPY_MODEL_24c6c502e45b49aca5b751ec5f5dae97",
       "style": "IPY_MODEL_5df1a6f7314b4a40bc73841a2bfb487a"
      }
     },
     "b699367af3a4423083bf64c3fa007aa0": {
      "model_module": "@jupyter-widgets/controls",
      "model_module_version": "1.4.0",
      "model_name": "DescriptionStyleModel",
      "state": {
       "description_width": ""
      }
     },
     "b6a057e37c5f4439aade06777a3f9e54": {
      "model_module": "@jupyter-widgets/controls",
      "model_module_version": "1.4.0",
      "model_name": "DescriptionStyleModel",
      "state": {
       "description_width": ""
      }
     },
     "b6bc8149119b48528f509b32fd376a93": {
      "model_module": "@jupyter-widgets/controls",
      "model_module_version": "1.4.0",
      "model_name": "DescriptionStyleModel",
      "state": {
       "description_width": ""
      }
     },
     "b6c885e8dddf49eaa148f38a4c9f9608": {
      "model_module": "@jupyter-widgets/controls",
      "model_module_version": "1.4.0",
      "model_name": "DescriptionStyleModel",
      "state": {
       "description_width": ""
      }
     },
     "b70fd304ae3e4784a183cd71574b6fe4": {
      "model_module": "@jupyter-widgets/controls",
      "model_module_version": "1.4.0",
      "model_name": "FloatTextModel",
      "state": {
       "description": "saturation",
       "layout": "IPY_MODEL_047d53eb370c4f9b9a3421bebcaea348",
       "step": null,
       "style": "IPY_MODEL_7f0cd4d0bcab4c7ea8f4d42cec48c464",
       "value": 1
      }
     },
     "b7175ffb47574f739923adfdadf8d916": {
      "model_module": "@jupyter-widgets/controls",
      "model_module_version": "1.4.0",
      "model_name": "IntTextModel",
      "state": {
       "description": "gridsize",
       "layout": "IPY_MODEL_b46e7c50f5de481d9b9f7ae824691564",
       "step": 1,
       "style": "IPY_MODEL_a8f692a45cbf43cfb352aea0aa4c591e",
       "value": 100
      }
     },
     "b751546cf46b4984aa4de755875b2d38": {
      "model_module": "@jupyter-widgets/controls",
      "model_module_version": "1.4.0",
      "model_name": "DescriptionStyleModel",
      "state": {
       "description_width": ""
      }
     },
     "b76f1f52e08e493b865553250a8ffc6e": {
      "model_module": "@jupyter-widgets/controls",
      "model_module_version": "1.4.0",
      "model_name": "DescriptionStyleModel",
      "state": {
       "description_width": ""
      }
     },
     "b77681bb068c4da88e905e456a8bfd1e": {
      "model_module": "@jupyter-widgets/base",
      "model_module_version": "1.1.0",
      "model_name": "LayoutModel",
      "state": {}
     },
     "b7801a814c154e8fb0ea38dba3e5d0b8": {
      "model_module": "@jupyter-widgets/base",
      "model_module_version": "1.1.0",
      "model_name": "LayoutModel",
      "state": {}
     },
     "b79cecd62e634fe9882ae4bdd7f48678": {
      "model_module": "@jupyter-widgets/controls",
      "model_module_version": "1.4.0",
      "model_name": "DropdownModel",
      "state": {
       "_options_labels": [
        "Name",
        "Year",
        "Miles_per_Gallon",
        "Origin",
        "Cylinders",
        "Displacement",
        "Acceleration",
        "Horsepower",
        "Weight_in_lbs"
       ],
       "description": "dashes",
       "index": 0,
       "layout": "IPY_MODEL_da5a4961ed0d4e06ba4ccb906781ea35",
       "style": "IPY_MODEL_f7910227955442f980a3f2012bad5528"
      }
     },
     "b7a55f00139c4a4cb35bb7232bd4f54e": {
      "model_module": "@jupyter-widgets/base",
      "model_module_version": "1.1.0",
      "model_name": "LayoutModel",
      "state": {}
     },
     "b7ca4221b9dc4edda836abe7b6fd442f": {
      "model_module": "@jupyter-widgets/base",
      "model_module_version": "1.1.0",
      "model_name": "LayoutModel",
      "state": {}
     },
     "b7ee454e94104938b1cec72764a8b3a6": {
      "model_module": "@jupyter-widgets/controls",
      "model_module_version": "1.4.0",
      "model_name": "HBoxModel",
      "state": {
       "children": [
        "IPY_MODEL_040b0b431fbc4bd8bfc2d943b5692565",
        "IPY_MODEL_b2a90c39217044b68cc8121d9f25807d"
       ],
       "layout": "IPY_MODEL_e3aa0115c19546a084eb803d64353fef"
      }
     },
     "b81e105d3b854e02bc8ecd45b5009a34": {
      "model_module": "@jupyter-widgets/controls",
      "model_module_version": "1.4.0",
      "model_name": "ButtonModel",
      "state": {
       "description": "remove",
       "layout": "IPY_MODEL_f68c25e2806948bd841553daf208cf51",
       "style": "IPY_MODEL_e36931d834cb4061aacc9c870feca53f"
      }
     },
     "b87c095b8531423a9d5c6776d860e6ed": {
      "model_module": "@jupyter-widgets/base",
      "model_module_version": "1.1.0",
      "model_name": "LayoutModel",
      "state": {}
     },
     "b889937b6d0a4156a235f0f913c76817": {
      "model_module": "@jupyter-widgets/controls",
      "model_module_version": "1.4.0",
      "model_name": "DescriptionStyleModel",
      "state": {
       "description_width": ""
      }
     },
     "b8906bad9d464ff3a460a91ceb034fc4": {
      "model_module": "@jupyter-widgets/controls",
      "model_module_version": "1.4.0",
      "model_name": "DescriptionStyleModel",
      "state": {
       "description_width": ""
      }
     },
     "b8985a28acc3465291a355309eab5dae": {
      "model_module": "@jupyter-widgets/controls",
      "model_module_version": "1.4.0",
      "model_name": "ButtonModel",
      "state": {
       "description": "remove",
       "layout": "IPY_MODEL_d4a75229aba14f7a94467fb880e9d01a",
       "style": "IPY_MODEL_b5a76892f43e4ce7bd306bee0f73514f"
      }
     },
     "b92040c871604a5e8822893a32fd90ea": {
      "model_module": "@jupyter-widgets/controls",
      "model_module_version": "1.4.0",
      "model_name": "FloatTextModel",
      "state": {
       "description": "size",
       "layout": "IPY_MODEL_0e48382438cc4d5e9a1a1696dc3a0a6a",
       "step": null,
       "style": "IPY_MODEL_9bb4414dfb724cab8475511f34c2ec9e",
       "value": 1
      }
     },
     "b92b23a50a83437d8b69b27cef0661d6": {
      "model_module": "@jupyter-widgets/controls",
      "model_module_version": "1.4.0",
      "model_name": "DescriptionStyleModel",
      "state": {
       "description_width": ""
      }
     },
     "b953872779034d26acb0a47734ec5d1b": {
      "model_module": "@jupyter-widgets/controls",
      "model_module_version": "1.4.0",
      "model_name": "DescriptionStyleModel",
      "state": {
       "description_width": ""
      }
     },
     "b97db4b38c284afea29a25a5d163a91b": {
      "model_module": "@jupyter-widgets/controls",
      "model_module_version": "1.4.0",
      "model_name": "DescriptionStyleModel",
      "state": {
       "description_width": ""
      }
     },
     "b9a67fe8b8904f5780a355667dd9317a": {
      "model_module": "@jupyter-widgets/controls",
      "model_module_version": "1.4.0",
      "model_name": "CheckboxModel",
      "state": {
       "description": "vertical",
       "disabled": false,
       "layout": "IPY_MODEL_3659768097db467493f72aeb8cc635ab",
       "style": "IPY_MODEL_5b82f4e92b4943cca9fedf1d7607e737",
       "value": false
      }
     },
     "b9a8a406daa144f2bdaef63994e3a138": {
      "model_module": "@jupyter-widgets/base",
      "model_module_version": "1.1.0",
      "model_name": "LayoutModel",
      "state": {}
     },
     "b9f5063a5237421aa52147a178a65328": {
      "model_module": "@jupyter-widgets/controls",
      "model_module_version": "1.4.0",
      "model_name": "IntTextModel",
      "state": {
       "description": "x_bins",
       "layout": "IPY_MODEL_f3db147f496d4e26a6c875b520b849c8",
       "step": 1,
       "style": "IPY_MODEL_0708eaaefbb54bc18a11dcd9a494eec2",
       "value": 10
      }
     },
     "b9f9ed366d134b82a4a500fdf2a4504c": {
      "model_module": "@jupyter-widgets/controls",
      "model_module_version": "1.4.0",
      "model_name": "DescriptionStyleModel",
      "state": {
       "description_width": ""
      }
     },
     "ba016d89d09a4df18a6664bacdc4e78b": {
      "model_module": "@jupyter-widgets/controls",
      "model_module_version": "1.4.0",
      "model_name": "LabelModel",
      "state": {
       "layout": "IPY_MODEL_30723643f26b4a23b52c1da3ece2b61d",
       "style": "IPY_MODEL_46d411f5a3ea4e87914930aa206870d3",
       "value": "---"
      }
     },
     "ba0d3a2c9d4f4bf1abd7446a9dff5139": {
      "model_module": "@jupyter-widgets/controls",
      "model_module_version": "1.4.0",
      "model_name": "DescriptionStyleModel",
      "state": {
       "description_width": ""
      }
     },
     "ba2e3fec4ef644528f203119da339ab6": {
      "model_module": "@jupyter-widgets/controls",
      "model_module_version": "1.4.0",
      "model_name": "DescriptionStyleModel",
      "state": {
       "description_width": ""
      }
     },
     "ba8e9bad62d645d88704255255c6a18e": {
      "model_module": "@jupyter-widgets/controls",
      "model_module_version": "1.4.0",
      "model_name": "DescriptionStyleModel",
      "state": {
       "description_width": ""
      }
     },
     "bad447d47dc94e189afccbbb3b4d08ee": {
      "model_module": "@jupyter-widgets/controls",
      "model_module_version": "1.4.0",
      "model_name": "FloatTextModel",
      "state": {
       "description": "scale",
       "layout": "IPY_MODEL_9f7fd079e2174645a9fa8b8e2e81d995",
       "step": null,
       "style": "IPY_MODEL_a75bfeaf16a1432685618db5e764fc72",
       "value": 1
      }
     },
     "bb0ee9f7083444b1800c516454283db4": {
      "model_module": "@jupyter-widgets/controls",
      "model_module_version": "1.4.0",
      "model_name": "IntTextModel",
      "state": {
       "description": "col_wrap",
       "layout": "IPY_MODEL_d7564360f0b3481791c1bf878bdcd253",
       "step": 1,
       "style": "IPY_MODEL_d1aa85e7d6fb473bb5fc4eb763d570da",
       "value": 10
      }
     },
     "bb2a9293cdd7433a9794d788e7c8bdbc": {
      "model_module": "@jupyter-widgets/base",
      "model_module_version": "1.1.0",
      "model_name": "LayoutModel",
      "state": {}
     },
     "bb60fe8140b4463ea3ba1a03eab67892": {
      "model_module": "@jupyter-widgets/base",
      "model_module_version": "1.1.0",
      "model_name": "LayoutModel",
      "state": {}
     },
     "bb633f36fbb544e29d62c5f2cea6b1b0": {
      "model_module": "@jupyter-widgets/base",
      "model_module_version": "1.1.0",
      "model_name": "LayoutModel",
      "state": {}
     },
     "bb676c7d8c1f439f91d9ff8aabf6151a": {
      "model_module": "@jupyter-widgets/controls",
      "model_module_version": "1.4.0",
      "model_name": "DescriptionStyleModel",
      "state": {
       "description_width": ""
      }
     },
     "bb6ba21463994d88894458b3c7c5b4e3": {
      "model_module": "@jupyter-widgets/base",
      "model_module_version": "1.1.0",
      "model_name": "LayoutModel",
      "state": {}
     },
     "bb8c9051faa144d3b98cf6a93add4347": {
      "model_module": "@jupyter-widgets/controls",
      "model_module_version": "1.4.0",
      "model_name": "DescriptionStyleModel",
      "state": {
       "description_width": ""
      }
     },
     "bbb37e8f5d6d412cbcfa7e9344449526": {
      "model_module": "@jupyter-widgets/controls",
      "model_module_version": "1.4.0",
      "model_name": "TextModel",
      "state": {
       "description": "label",
       "layout": "IPY_MODEL_f11756978374449d8d6147e55ce0b88b",
       "style": "IPY_MODEL_93b1bb86a0e24472beca6b343183cf3d"
      }
     },
     "bbd9bd56474e45438fa34269b5fb4452": {
      "model_module": "@jupyter-widgets/controls",
      "model_module_version": "1.4.0",
      "model_name": "DescriptionStyleModel",
      "state": {
       "description_width": ""
      }
     },
     "bbe3f5d7dc6a4482bad519f276b1a210": {
      "model_module": "@jupyter-widgets/controls",
      "model_module_version": "1.4.0",
      "model_name": "DescriptionStyleModel",
      "state": {
       "description_width": ""
      }
     },
     "bc0308145e38450fb88cb8b02ec7d27b": {
      "model_module": "@jupyter-widgets/base",
      "model_module_version": "1.1.0",
      "model_name": "LayoutModel",
      "state": {}
     },
     "bc3015536c38429c8e37aad4de91095c": {
      "model_module": "@jupyter-widgets/controls",
      "model_module_version": "1.4.0",
      "model_name": "TextModel",
      "state": {
       "description": "cmap",
       "layout": "IPY_MODEL_79678e45fe314c0f8aa21e2b58cabe42",
       "style": "IPY_MODEL_6203db5b1518437c864c61ae04b184c5",
       "value": "viridis"
      }
     },
     "bc8b7323322e47eb93adc646c91463df": {
      "model_module": "@jupyter-widgets/base",
      "model_module_version": "1.1.0",
      "model_name": "LayoutModel",
      "state": {}
     },
     "bc8fc7c5c087423dab0c528415711a4c": {
      "model_module": "@jupyter-widgets/base",
      "model_module_version": "1.1.0",
      "model_name": "LayoutModel",
      "state": {}
     },
     "bca368c182ce4c518725e0c9bf57f7bd": {
      "model_module": "@jupyter-widgets/controls",
      "model_module_version": "1.4.0",
      "model_name": "DescriptionStyleModel",
      "state": {
       "description_width": ""
      }
     },
     "bcb748a6ec464be9bb0ac0cef9d15712": {
      "model_module": "@jupyter-widgets/controls",
      "model_module_version": "1.4.0",
      "model_name": "FloatTextModel",
      "state": {
       "description": "errwidth",
       "layout": "IPY_MODEL_c7c37479d97648f4b59d39304d552d0e",
       "step": null,
       "style": "IPY_MODEL_70a92f087b1f47358da6c013a80bed26",
       "value": 1
      }
     },
     "bcc67d07968242e39394ea150c06422f": {
      "model_module": "@jupyter-widgets/base",
      "model_module_version": "1.1.0",
      "model_name": "LayoutModel",
      "state": {}
     },
     "bcdeaf67dcea491da2439d50e4efd5b6": {
      "model_module": "@jupyter-widgets/base",
      "model_module_version": "1.1.0",
      "model_name": "LayoutModel",
      "state": {}
     },
     "bd1bbd83088942d9a0c073abb84bff07": {
      "model_module": "@jupyter-widgets/base",
      "model_module_version": "1.1.0",
      "model_name": "LayoutModel",
      "state": {}
     },
     "bd6ee12dc1cd40a08ff75e55f6ad8e11": {
      "model_module": "@jupyter-widgets/base",
      "model_module_version": "1.1.0",
      "model_name": "LayoutModel",
      "state": {}
     },
     "bdc8e2ea8ce94c25a10a692d99e5c756": {
      "model_module": "@jupyter-widgets/controls",
      "model_module_version": "1.4.0",
      "model_name": "DescriptionStyleModel",
      "state": {
       "description_width": ""
      }
     },
     "bdf71544fcea431dae7bbc254c24e4fb": {
      "model_module": "@jupyter-widgets/controls",
      "model_module_version": "1.4.0",
      "model_name": "DescriptionStyleModel",
      "state": {
       "description_width": ""
      }
     },
     "bdf7e97d36444d9c839a39115b6a299f": {
      "model_module": "@jupyter-widgets/controls",
      "model_module_version": "1.4.0",
      "model_name": "DropdownModel",
      "state": {
       "_options_labels": [
        "Acceleration",
        "Cylinders",
        "Displacement",
        "Horsepower",
        "Miles_per_Gallon",
        "Name",
        "Origin",
        "Weight_in_lbs",
        "Year"
       ],
       "description": "row",
       "index": 0,
       "layout": "IPY_MODEL_bd6ee12dc1cd40a08ff75e55f6ad8e11",
       "style": "IPY_MODEL_f502acac6ebb44b0be257ee49d979b80"
      }
     },
     "be34b3aef9db411f947f8cc6a79001f0": {
      "model_module": "@jupyter-widgets/controls",
      "model_module_version": "1.4.0",
      "model_name": "FloatTextModel",
      "state": {
       "description": "height",
       "layout": "IPY_MODEL_a3ac46b07f604dd6a964113ee6ffbe2d",
       "step": null,
       "style": "IPY_MODEL_68fe70ee25f041129fefd1724c311e9e",
       "value": 1
      }
     },
     "be616c0019ec40549a494e9755a8166b": {
      "model_module": "@jupyter-widgets/base",
      "model_module_version": "1.1.0",
      "model_name": "LayoutModel",
      "state": {}
     },
     "be72d803df2f4f5e9fe1b96ca824d42c": {
      "model_module": "@jupyter-widgets/controls",
      "model_module_version": "1.4.0",
      "model_name": "IntTextModel",
      "state": {
       "description": "x_bins",
       "layout": "IPY_MODEL_46089bbe113b40ad8d11d7727f7cb203",
       "step": 1,
       "style": "IPY_MODEL_f4f4a70305d24c15b3c4ea76ec7f9481",
       "value": 10
      }
     },
     "be74ea1424e94f99ac23a76307b4fd87": {
      "model_module": "@jupyter-widgets/controls",
      "model_module_version": "1.4.0",
      "model_name": "FloatTextModel",
      "state": {
       "description": "x_jitter",
       "layout": "IPY_MODEL_0a5107ef9dff4dc3a27026fcc06f282e",
       "step": null,
       "style": "IPY_MODEL_cf820cabb1d04452851ab9b1b41e8a6c",
       "value": 1
      }
     },
     "be8e6586e8d3457daa9815db0d257f88": {
      "model_module": "@jupyter-widgets/controls",
      "model_module_version": "1.4.0",
      "model_name": "CheckboxModel",
      "state": {
       "description": "square",
       "disabled": false,
       "layout": "IPY_MODEL_10a40853da2342449d591105e1d58164",
       "style": "IPY_MODEL_698315f106cf47a6ae96532bfecc738a",
       "value": false
      }
     },
     "bec2fd01760a43128373488bee728100": {
      "model_module": "@jupyter-widgets/base",
      "model_module_version": "1.1.0",
      "model_name": "LayoutModel",
      "state": {}
     },
     "bed7bfd669b54f5689669c181e1eff48": {
      "model_module": "@jupyter-widgets/controls",
      "model_module_version": "1.4.0",
      "model_name": "DescriptionStyleModel",
      "state": {
       "description_width": ""
      }
     },
     "bf09b69b121c42879296b4ae5bc48065": {
      "model_module": "@jupyter-widgets/base",
      "model_module_version": "1.1.0",
      "model_name": "LayoutModel",
      "state": {}
     },
     "bf28d11e672d4803a035898a85355a8d": {
      "model_module": "@jupyter-widgets/controls",
      "model_module_version": "1.4.0",
      "model_name": "HBoxModel",
      "state": {
       "children": [
        "IPY_MODEL_a9690d503c29458eb5fa99ed97ecb43c",
        "IPY_MODEL_c7a81307f2a24dce9fdf86d226f09326"
       ],
       "layout": "IPY_MODEL_31ed758953aa401abdf5af63d69f939b"
      }
     },
     "bf37eb46c59a4d85b276039e0f5f32e6": {
      "model_module": "@jupyter-widgets/controls",
      "model_module_version": "1.4.0",
      "model_name": "DescriptionStyleModel",
      "state": {
       "description_width": ""
      }
     },
     "bf4c93219cbf40179f4e636167371f4e": {
      "model_module": "@jupyter-widgets/controls",
      "model_module_version": "1.4.0",
      "model_name": "HBoxModel",
      "state": {
       "children": [
        "IPY_MODEL_e832b2c990a041aa86bef8cdded0dab7",
        "IPY_MODEL_71f6dd873f914176994e5fe9eb0a0980"
       ],
       "layout": "IPY_MODEL_f439f69c80b64c5cb755ceecf71f73a3"
      }
     },
     "bf6e96fb58b74f728fe13c133006fae7": {
      "model_module": "@jupyter-widgets/controls",
      "model_module_version": "1.4.0",
      "model_name": "SliderStyleModel",
      "state": {
       "description_width": ""
      }
     },
     "bf879b011bd946fba3bd248769c4550e": {
      "model_module": "@jupyter-widgets/controls",
      "model_module_version": "1.4.0",
      "model_name": "CheckboxModel",
      "state": {
       "description": "kde",
       "disabled": false,
       "layout": "IPY_MODEL_d3e5472d1301439ba217d9fc14c7a826",
       "style": "IPY_MODEL_fb57037abcd445e6802b7662c7d02c12",
       "value": false
      }
     },
     "bf8926fe80df4814967ad4a323edd5a8": {
      "model_module": "@jupyter-widgets/base",
      "model_module_version": "1.1.0",
      "model_name": "LayoutModel",
      "state": {}
     },
     "bf9c8e0735534e3380db8ba39db7f4ac": {
      "model_module": "@jupyter-widgets/controls",
      "model_module_version": "1.4.0",
      "model_name": "HBoxModel",
      "state": {
       "children": [
        "IPY_MODEL_acdcad4fd36e4764864c7f324c1e30ba",
        "IPY_MODEL_4e3d88a260c64bb1b01d2ee12d941a18"
       ],
       "layout": "IPY_MODEL_157984f28a9649589bb09a44a053cb92"
      }
     },
     "bfc4858cf10b441ba15b2d41894d9278": {
      "model_module": "@jupyter-widgets/base",
      "model_module_version": "1.1.0",
      "model_name": "LayoutModel",
      "state": {}
     },
     "c027826ed9c34998a37a22206f8b7944": {
      "model_module": "@jupyter-widgets/base",
      "model_module_version": "1.1.0",
      "model_name": "LayoutModel",
      "state": {}
     },
     "c033b439c60e4260a953f77d867f978c": {
      "model_module": "@jupyter-widgets/controls",
      "model_module_version": "1.4.0",
      "model_name": "DescriptionStyleModel",
      "state": {
       "description_width": ""
      }
     },
     "c0616501f3e946c9bb04130ac5180421": {
      "model_module": "@jupyter-widgets/controls",
      "model_module_version": "1.4.0",
      "model_name": "DescriptionStyleModel",
      "state": {
       "description_width": ""
      }
     },
     "c07b2feb0f7940e0aa52e80a647f75ac": {
      "model_module": "@jupyter-widgets/base",
      "model_module_version": "1.1.0",
      "model_name": "LayoutModel",
      "state": {}
     },
     "c0afbcc923834e2381c854d728c99b97": {
      "model_module": "@jupyter-widgets/base",
      "model_module_version": "1.1.0",
      "model_name": "LayoutModel",
      "state": {}
     },
     "c0b842ad5a694b72a9c8a80e2475f1d0": {
      "model_module": "@jupyter-widgets/controls",
      "model_module_version": "1.4.0",
      "model_name": "ButtonModel",
      "state": {
       "description": "remove",
       "layout": "IPY_MODEL_8bbefe2b120a486ea949fa0672d250e7",
       "style": "IPY_MODEL_4356d8604aab4a90be4ab1f6070b1329"
      }
     },
     "c0e794e67a2041d8b9151dde05044db5": {
      "model_module": "@jupyter-widgets/base",
      "model_module_version": "1.1.0",
      "model_name": "LayoutModel",
      "state": {}
     },
     "c0f52c3a5d6c4ca8a48635759a952de9": {
      "model_module": "@jupyter-widgets/controls",
      "model_module_version": "1.4.0",
      "model_name": "LabelModel",
      "state": {
       "layout": "IPY_MODEL_0631464f02a44320b8500a8fc5ca2664",
       "style": "IPY_MODEL_c83e332a4be94273bc747835b4e644c8",
       "value": "---"
      }
     },
     "c0feccdda2134408bbc431ab534610a6": {
      "model_module": "@jupyter-widgets/base",
      "model_module_version": "1.1.0",
      "model_name": "LayoutModel",
      "state": {}
     },
     "c13e5de211504332bbf434b80265970f": {
      "model_module": "@jupyter-widgets/controls",
      "model_module_version": "1.4.0",
      "model_name": "TextModel",
      "state": {
       "description": "palette",
       "layout": "IPY_MODEL_16f00454ca9f4db095a145ff4fcb1072",
       "style": "IPY_MODEL_a22fc1955cbb4d0c9c6bde25a0289604"
      }
     },
     "c151f94468b14a65aeb7ff79388c5d5e": {
      "model_module": "@jupyter-widgets/base",
      "model_module_version": "1.1.0",
      "model_name": "LayoutModel",
      "state": {}
     },
     "c187116b36f4494e8ed01ecf3fbbe215": {
      "model_module": "@jupyter-widgets/controls",
      "model_module_version": "1.4.0",
      "model_name": "CheckboxModel",
      "state": {
       "description": "vertical",
       "disabled": false,
       "layout": "IPY_MODEL_c1b481c9e67041909cc3a9fca4eba078",
       "style": "IPY_MODEL_d0bb7c5dfec14d51a779b4984a212b09",
       "value": false
      }
     },
     "c1b481c9e67041909cc3a9fca4eba078": {
      "model_module": "@jupyter-widgets/base",
      "model_module_version": "1.1.0",
      "model_name": "LayoutModel",
      "state": {}
     },
     "c1bb0343d4314bdbb3d2ace90ee43ec3": {
      "model_module": "@jupyter-widgets/controls",
      "model_module_version": "1.4.0",
      "model_name": "DescriptionStyleModel",
      "state": {
       "description_width": ""
      }
     },
     "c1d024aaa3244a44937e80d1ae1b1d02": {
      "model_module": "@jupyter-widgets/controls",
      "model_module_version": "1.4.0",
      "model_name": "ButtonModel",
      "state": {
       "description": "remove",
       "layout": "IPY_MODEL_7f7b9415fb114aebb5610a46605e593e",
       "style": "IPY_MODEL_708d63e49809448dbcc8bd8e8b3b5cee"
      }
     },
     "c26f000719ea40ee8512205011150ea9": {
      "model_module": "@jupyter-widgets/base",
      "model_module_version": "1.1.0",
      "model_name": "LayoutModel",
      "state": {}
     },
     "c2740ada281a4f83997548e26946099d": {
      "model_module": "@jupyter-widgets/controls",
      "model_module_version": "1.4.0",
      "model_name": "DescriptionStyleModel",
      "state": {
       "description_width": ""
      }
     },
     "c27cf0fa75214a77a811f84f9c0ba3ee": {
      "model_module": "@jupyter-widgets/base",
      "model_module_version": "1.1.0",
      "model_name": "LayoutModel",
      "state": {}
     },
     "c2ec3be130454a529987951802d33f5b": {
      "model_module": "@jupyter-widgets/base",
      "model_module_version": "1.1.0",
      "model_name": "LayoutModel",
      "state": {}
     },
     "c2f4f9ab4fbe489096b64528c084336b": {
      "model_module": "@jupyter-widgets/base",
      "model_module_version": "1.1.0",
      "model_name": "LayoutModel",
      "state": {}
     },
     "c32e95a563c64b97af68fbca4d090124": {
      "model_module": "@jupyter-widgets/base",
      "model_module_version": "1.1.0",
      "model_name": "LayoutModel",
      "state": {}
     },
     "c33c6015a67a45f397b7a00519ac07d2": {
      "model_module": "@jupyter-widgets/controls",
      "model_module_version": "1.4.0",
      "model_name": "HBoxModel",
      "state": {
       "children": [
        "IPY_MODEL_b60dfe9b919746c1a55d3260757101a0",
        "IPY_MODEL_8ff097bc7b4444539872b7af63046977"
       ],
       "layout": "IPY_MODEL_81c5674f74ce422ba59951b6595a2548"
      }
     },
     "c3433167287340ceb13bf0a47a5d6af2": {
      "model_module": "@jupyter-widgets/controls",
      "model_module_version": "1.4.0",
      "model_name": "DescriptionStyleModel",
      "state": {
       "description_width": ""
      }
     },
     "c3617dac6334450dbf660f389c7d8323": {
      "model_module": "@jupyter-widgets/controls",
      "model_module_version": "1.4.0",
      "model_name": "ButtonModel",
      "state": {
       "description": "remove",
       "layout": "IPY_MODEL_0b96cda44d034a98be0236ed93833eec",
       "style": "IPY_MODEL_c72d19b09c8e4c74913338cc68f92825"
      }
     },
     "c377320f701940409bdfb922d3ef8bcf": {
      "model_module": "@jupyter-widgets/controls",
      "model_module_version": "1.4.0",
      "model_name": "DescriptionStyleModel",
      "state": {
       "description_width": ""
      }
     },
     "c3c61d4b2d47481c9e801bdd580ee1d1": {
      "model_module": "@jupyter-widgets/base",
      "model_module_version": "1.1.0",
      "model_name": "LayoutModel",
      "state": {}
     },
     "c3cffe8827f24ab0a317b93d56140a70": {
      "model_module": "@jupyter-widgets/controls",
      "model_module_version": "1.4.0",
      "model_name": "HBoxModel",
      "state": {
       "children": [
        "IPY_MODEL_a9690d503c29458eb5fa99ed97ecb43c",
        "IPY_MODEL_587dc0a389a347af92b412fc5cfe5ffa"
       ],
       "layout": "IPY_MODEL_0e36ef1816a94c6baf688e8b44bd7f7e"
      }
     },
     "c3ddc631f9ca40e58dd1bd9fd102f6b3": {
      "model_module": "@jupyter-widgets/controls",
      "model_module_version": "1.4.0",
      "model_name": "ButtonModel",
      "state": {
       "description": "remove",
       "layout": "IPY_MODEL_7cbb023061374fefbb63d202e9b728c9",
       "style": "IPY_MODEL_65961acd4cd94186beb9b000a7b3f59c"
      }
     },
     "c42c5a64eb174fdeaa4bac5913c10c20": {
      "model_module": "@jupyter-widgets/controls",
      "model_module_version": "1.4.0",
      "model_name": "ButtonStyleModel",
      "state": {}
     },
     "c4538328ee16432bb1ae3815aeff212b": {
      "model_module": "@jupyter-widgets/base",
      "model_module_version": "1.1.0",
      "model_name": "LayoutModel",
      "state": {}
     },
     "c45ff2ee85f04ceea1306f603e8e2fa6": {
      "model_module": "@jupyter-widgets/controls",
      "model_module_version": "1.4.0",
      "model_name": "DescriptionStyleModel",
      "state": {
       "description_width": ""
      }
     },
     "c486f51d4df0477a90156bc4dffa1d71": {
      "model_module": "@jupyter-widgets/base",
      "model_module_version": "1.1.0",
      "model_name": "LayoutModel",
      "state": {}
     },
     "c499a2bbbd844a66b46160edcf06d14c": {
      "model_module": "@jupyter-widgets/base",
      "model_module_version": "1.1.0",
      "model_name": "LayoutModel",
      "state": {}
     },
     "c4a3aac8e34a44ff852dcac99038293f": {
      "model_module": "@jupyter-widgets/controls",
      "model_module_version": "1.4.0",
      "model_name": "DescriptionStyleModel",
      "state": {
       "description_width": ""
      }
     },
     "c4d67eb80ef74370816ba583bde222c2": {
      "model_module": "@jupyter-widgets/base",
      "model_module_version": "1.1.0",
      "model_name": "LayoutModel",
      "state": {}
     },
     "c4e2b60eb907424cb455dd17089e298c": {
      "model_module": "@jupyter-widgets/controls",
      "model_module_version": "1.4.0",
      "model_name": "DescriptionStyleModel",
      "state": {
       "description_width": ""
      }
     },
     "c5150ab8a47e4fe4ab682d3f4631e606": {
      "model_module": "@jupyter-widgets/controls",
      "model_module_version": "1.4.0",
      "model_name": "DescriptionStyleModel",
      "state": {
       "description_width": ""
      }
     },
     "c54d1b378f0445a1b5973078905785c0": {
      "model_module": "@jupyter-widgets/base",
      "model_module_version": "1.1.0",
      "model_name": "LayoutModel",
      "state": {}
     },
     "c54ea9e71c5341a8b13a1f059a7f690a": {
      "model_module": "@jupyter-widgets/base",
      "model_module_version": "1.1.0",
      "model_name": "LayoutModel",
      "state": {}
     },
     "c553b9be479a4736a998325f3260ab0c": {
      "model_module": "@jupyter-widgets/controls",
      "model_module_version": "1.4.0",
      "model_name": "DropdownModel",
      "state": {
       "_options_labels": [
        "proportion",
        "tukey",
        "trustworthy"
       ],
       "description": "k_depth",
       "index": 0,
       "layout": "IPY_MODEL_479304137c6c4e438b8e921749ecfeec",
       "style": "IPY_MODEL_ef6f828d8477432d85e14e3a1f97845a"
      }
     },
     "c5802d326bc34e34b3dd111885163393": {
      "model_module": "@jupyter-widgets/base",
      "model_module_version": "1.1.0",
      "model_name": "LayoutModel",
      "state": {}
     },
     "c59d21719a0e4797ad1d4c6538a0284b": {
      "model_module": "@jupyter-widgets/controls",
      "model_module_version": "1.4.0",
      "model_name": "HBoxModel",
      "state": {
       "children": [
        "IPY_MODEL_95daa4e3f69a49beb6bd33c0422a2431",
        "IPY_MODEL_684524f3ad0a49069f6c41c7b110b837"
       ],
       "layout": "IPY_MODEL_b484d4d4722c47e18734f06a3dc51685"
      }
     },
     "c5c8ac647df848d9ade8555b49097a92": {
      "model_module": "@jupyter-widgets/controls",
      "model_module_version": "1.4.0",
      "model_name": "DescriptionStyleModel",
      "state": {
       "description_width": ""
      }
     },
     "c5d99ec97c254d45b5d9569168028853": {
      "model_module": "@jupyter-widgets/controls",
      "model_module_version": "1.4.0",
      "model_name": "IntTextModel",
      "state": {
       "description": "ratio",
       "layout": "IPY_MODEL_0549d7222ed64eaba9ba6b3fb7eaaac7",
       "step": 1,
       "style": "IPY_MODEL_b97db4b38c284afea29a25a5d163a91b",
       "value": 1
      }
     },
     "c6288855058d416d96d185bba99b303d": {
      "model_module": "@jupyter-widgets/base",
      "model_module_version": "1.1.0",
      "model_name": "LayoutModel",
      "state": {}
     },
     "c665e59c9a444083847ba12f9c83c605": {
      "model_module": "@jupyter-widgets/controls",
      "model_module_version": "1.4.0",
      "model_name": "DescriptionStyleModel",
      "state": {
       "description_width": ""
      }
     },
     "c66d9c4b940b4bb7bdbc384a57f0acd6": {
      "model_module": "@jupyter-widgets/base",
      "model_module_version": "1.1.0",
      "model_name": "LayoutModel",
      "state": {}
     },
     "c68bffd350474f499d7b0a93cea47bbe": {
      "model_module": "@jupyter-widgets/controls",
      "model_module_version": "1.4.0",
      "model_name": "CheckboxModel",
      "state": {
       "description": "robust",
       "disabled": false,
       "layout": "IPY_MODEL_c0feccdda2134408bbc431ab534610a6",
       "style": "IPY_MODEL_a66078735b07417ba92ec093f9bcf89c",
       "value": false
      }
     },
     "c69748c1472f4b4cb4f0c96b5860a6b6": {
      "model_module": "@jupyter-widgets/base",
      "model_module_version": "1.1.0",
      "model_name": "LayoutModel",
      "state": {}
     },
     "c6b945e869c04ab2835bc50a7ed2ec6b": {
      "model_module": "@jupyter-widgets/controls",
      "model_module_version": "1.4.0",
      "model_name": "FloatTextModel",
      "state": {
       "description": "capsize",
       "layout": "IPY_MODEL_b7ca4221b9dc4edda836abe7b6fd442f",
       "step": null,
       "style": "IPY_MODEL_8813c1477e1f4ec6985c6ab05d421887",
       "value": 1
      }
     },
     "c6daf844f5644cb68e325206d85e0e82": {
      "model_module": "@jupyter-widgets/controls",
      "model_module_version": "1.4.0",
      "model_name": "DescriptionStyleModel",
      "state": {
       "description_width": ""
      }
     },
     "c70487426def4292ac916faf467c368f": {
      "model_module": "@jupyter-widgets/controls",
      "model_module_version": "1.4.0",
      "model_name": "DescriptionStyleModel",
      "state": {
       "description_width": ""
      }
     },
     "c7089e507cc24aa89d70620a96b07532": {
      "model_module": "@jupyter-widgets/controls",
      "model_module_version": "1.4.0",
      "model_name": "FloatTextModel",
      "state": {
       "description": "cut",
       "layout": "IPY_MODEL_918f675a169a4fd79dd9eee1c2e776a3",
       "step": null,
       "style": "IPY_MODEL_a9df3cf3100142f8aca0d3333edd2c58",
       "value": 1
      }
     },
     "c723277b0bd74566bed1432e595cd192": {
      "model_module": "@jupyter-widgets/base",
      "model_module_version": "1.1.0",
      "model_name": "LayoutModel",
      "state": {}
     },
     "c72d19b09c8e4c74913338cc68f92825": {
      "model_module": "@jupyter-widgets/controls",
      "model_module_version": "1.4.0",
      "model_name": "ButtonStyleModel",
      "state": {}
     },
     "c798b4d4455a4b23963bec0409472c2a": {
      "model_module": "@jupyter-widgets/base",
      "model_module_version": "1.1.0",
      "model_name": "LayoutModel",
      "state": {}
     },
     "c7a81307f2a24dce9fdf86d226f09326": {
      "model_module": "@jupyter-widgets/controls",
      "model_module_version": "1.4.0",
      "model_name": "ButtonModel",
      "state": {
       "description": "remove",
       "layout": "IPY_MODEL_07ca82756e964db5b60f0781e5f76a7a",
       "style": "IPY_MODEL_2604bb46cf1e4da69bcf4c404556c614"
      }
     },
     "c7c37479d97648f4b59d39304d552d0e": {
      "model_module": "@jupyter-widgets/base",
      "model_module_version": "1.1.0",
      "model_name": "LayoutModel",
      "state": {}
     },
     "c7c97366110d49dab2049684421fc792": {
      "model_module": "@jupyter-widgets/controls",
      "model_module_version": "1.4.0",
      "model_name": "SliderStyleModel",
      "state": {
       "description_width": ""
      }
     },
     "c7fec7ade73a4f4880b94131af71ccb1": {
      "model_module": "@jupyter-widgets/base",
      "model_module_version": "1.1.0",
      "model_name": "LayoutModel",
      "state": {}
     },
     "c815e4152e254cb6ae9e1a87d68a0bfc": {
      "model_module": "@jupyter-widgets/base",
      "model_module_version": "1.1.0",
      "model_name": "LayoutModel",
      "state": {}
     },
     "c82febef12aa42b09dfa99fd590b9457": {
      "model_module": "@jupyter-widgets/base",
      "model_module_version": "1.1.0",
      "model_name": "LayoutModel",
      "state": {}
     },
     "c833e225e94c48cbb4254359aa747cef": {
      "model_module": "@jupyter-widgets/controls",
      "model_module_version": "1.4.0",
      "model_name": "TextModel",
      "state": {
       "description": "linecolor",
       "layout": "IPY_MODEL_68f4af87efa4439a8bc0e709d40a1558",
       "style": "IPY_MODEL_2ac5da1122d04c89beafa51b1ca24b10"
      }
     },
     "c83e332a4be94273bc747835b4e644c8": {
      "model_module": "@jupyter-widgets/controls",
      "model_module_version": "1.4.0",
      "model_name": "DescriptionStyleModel",
      "state": {
       "description_width": ""
      }
     },
     "c874577bb2c841da9d0a0a585eb73827": {
      "model_module": "@jupyter-widgets/controls",
      "model_module_version": "1.4.0",
      "model_name": "DescriptionStyleModel",
      "state": {
       "description_width": ""
      }
     },
     "c885399a4a764837af5a8ec5d39ce6d7": {
      "model_module": "@jupyter-widgets/base",
      "model_module_version": "1.1.0",
      "model_name": "LayoutModel",
      "state": {}
     },
     "c885562ae71c4bd08a69b6293295ed46": {
      "model_module": "@jupyter-widgets/base",
      "model_module_version": "1.1.0",
      "model_name": "LayoutModel",
      "state": {}
     },
     "c8b6efae0e1a430e9f34b21d793ee79e": {
      "model_module": "@jupyter-widgets/controls",
      "model_module_version": "1.4.0",
      "model_name": "CheckboxModel",
      "state": {
       "description": "cumulative",
       "disabled": false,
       "layout": "IPY_MODEL_97bb40efc1f84f52a7fa150ee5311e42",
       "style": "IPY_MODEL_47937fb160e54d37972e6e2da0ace75b",
       "value": false
      }
     },
     "c8cef68cc09b4b5389db4d5bbfa0a25e": {
      "model_module": "@jupyter-widgets/controls",
      "model_module_version": "1.4.0",
      "model_name": "ButtonModel",
      "state": {
       "description": "remove",
       "layout": "IPY_MODEL_305bec75c3dc4c0a98b6066a2e89d644",
       "style": "IPY_MODEL_ddf5ab5a241f4957a82fd3b33f653019"
      }
     },
     "c8d15b78f292460c9b9ee0f9eca3279e": {
      "model_module": "@jupyter-widgets/base",
      "model_module_version": "1.1.0",
      "model_name": "LayoutModel",
      "state": {}
     },
     "c8dca62bb13a4ebcb89171eb16b77c79": {
      "model_module": "@jupyter-widgets/controls",
      "model_module_version": "1.4.0",
      "model_name": "SliderStyleModel",
      "state": {
       "description_width": ""
      }
     },
     "c8f58c1016544d1ba0884261b3ac6c01": {
      "model_module": "@jupyter-widgets/controls",
      "model_module_version": "1.4.0",
      "model_name": "HBoxModel",
      "state": {
       "children": [
        "IPY_MODEL_249afd1234b0431fadcccb4d89510b63",
        "IPY_MODEL_861c22506f71494190fb0234f33ea18f"
       ],
       "layout": "IPY_MODEL_d5a30f0b75974a00a61c425eb4d243c5"
      }
     },
     "c8f74cd5147d4c3b8ef3fe6066508ea5": {
      "model_module": "@jupyter-widgets/controls",
      "model_module_version": "1.4.0",
      "model_name": "DescriptionStyleModel",
      "state": {
       "description_width": ""
      }
     },
     "c9086c9a1f92448aa7c0ec4fad2ef4b2": {
      "model_module": "@jupyter-widgets/controls",
      "model_module_version": "1.4.0",
      "model_name": "CheckboxModel",
      "state": {
       "description": "lowess",
       "disabled": false,
       "layout": "IPY_MODEL_b41e91e44c0f4d03b0a5be205be2ccc6",
       "style": "IPY_MODEL_b48c99fb932e4af38bff7582d7a2e699",
       "value": false
      }
     },
     "c965d8ed64104da997606d29658e2875": {
      "model_module": "@jupyter-widgets/controls",
      "model_module_version": "1.4.0",
      "model_name": "DescriptionStyleModel",
      "state": {
       "description_width": ""
      }
     },
     "c9992da588de4bf8a0a83d01bd156d94": {
      "model_module": "@jupyter-widgets/controls",
      "model_module_version": "1.4.0",
      "model_name": "DescriptionStyleModel",
      "state": {
       "description_width": ""
      }
     },
     "c9bc02978b6e492c9d4b73e5d5220d34": {
      "model_module": "@jupyter-widgets/controls",
      "model_module_version": "1.4.0",
      "model_name": "SliderStyleModel",
      "state": {
       "description_width": ""
      }
     },
     "c9e654e9cfba490fae4604141b008222": {
      "model_module": "@jupyter-widgets/controls",
      "model_module_version": "1.4.0",
      "model_name": "HBoxModel",
      "state": {
       "children": [
        "IPY_MODEL_c0f52c3a5d6c4ca8a48635759a952de9"
       ],
       "layout": "IPY_MODEL_a8073b4f37694106b5cf04ea34a5ccdd"
      }
     },
     "ca08520c9eec459db6007cef9ead025a": {
      "model_module": "@jupyter-widgets/controls",
      "model_module_version": "1.4.0",
      "model_name": "ButtonModel",
      "state": {
       "description": "remove",
       "layout": "IPY_MODEL_70d3aa017d714de6be0ba6f17ac5eb67",
       "style": "IPY_MODEL_a5c9f485a8c84a04973dd90c5c31c4d2"
      }
     },
     "ca2f315117854559a2c20a10ae1f9610": {
      "model_module": "@jupyter-widgets/controls",
      "model_module_version": "1.4.0",
      "model_name": "DescriptionStyleModel",
      "state": {
       "description_width": ""
      }
     },
     "ca65cd41ceed49d9ad4b6cf7cbab4846": {
      "model_module": "@jupyter-widgets/controls",
      "model_module_version": "1.4.0",
      "model_name": "SliderStyleModel",
      "state": {
       "description_width": ""
      }
     },
     "ca73dd104c52453aa082b27721f86f33": {
      "model_module": "@jupyter-widgets/base",
      "model_module_version": "1.1.0",
      "model_name": "LayoutModel",
      "state": {}
     },
     "ca8acfc9cd6141cd8c5379ab2822c20b": {
      "model_module": "@jupyter-widgets/base",
      "model_module_version": "1.1.0",
      "model_name": "LayoutModel",
      "state": {}
     },
     "cab4321080704c2c83765fa4d7ec0080": {
      "model_module": "@jupyter-widgets/base",
      "model_module_version": "1.1.0",
      "model_name": "LayoutModel",
      "state": {}
     },
     "cac4f4939fd444e1bf6b4e35a71ab4c7": {
      "model_module": "@jupyter-widgets/controls",
      "model_module_version": "1.4.0",
      "model_name": "VBoxModel",
      "state": {
       "children": [
        "IPY_MODEL_f1b460953852427f872ef37c6f58343e",
        "IPY_MODEL_b651665631fd47f4a3ab502540659d22",
        "IPY_MODEL_797056a23b894ceab92a184df7f61570",
        "IPY_MODEL_dab9c9ecbd1e4313bfc05a3bacaac104",
        "IPY_MODEL_41613ca3fc14433a8c2eb71170ea6a6c",
        "IPY_MODEL_f6a0cae4c49646ddb67a82e8e2aee16b",
        "IPY_MODEL_7e898372f4b043cea551df21ae7c9a65"
       ],
       "layout": "IPY_MODEL_7402d0457c574b259512baeb65aae178"
      }
     },
     "caed9d5b6abd4a91b949bbc94bf6807e": {
      "model_module": "@jupyter-widgets/base",
      "model_module_version": "1.1.0",
      "model_name": "LayoutModel",
      "state": {}
     },
     "cb0e57dc81a0477a86179765e1f33f6d": {
      "model_module": "@jupyter-widgets/base",
      "model_module_version": "1.1.0",
      "model_name": "LayoutModel",
      "state": {}
     },
     "cb14e54d30984a9494db57c2cdd092be": {
      "model_module": "@jupyter-widgets/controls",
      "model_module_version": "1.4.0",
      "model_name": "DescriptionStyleModel",
      "state": {
       "description_width": ""
      }
     },
     "cb7350f31197446595f428595af587e5": {
      "model_module": "@jupyter-widgets/controls",
      "model_module_version": "1.4.0",
      "model_name": "DescriptionStyleModel",
      "state": {
       "description_width": ""
      }
     },
     "cb92cb8b727c49e492475065f5c2046b": {
      "model_module": "@jupyter-widgets/output",
      "model_module_version": "1.0.0",
      "model_name": "OutputModel",
      "state": {
       "layout": "IPY_MODEL_4dcc38178a4d45528df71eb50c893bc9",
       "outputs": [
        {
         "data": {
          "image/png": "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\n",
          "text/plain": "<Figure size 432x288 with 1 Axes>"
         },
         "metadata": {},
         "output_type": "display_data"
        }
       ]
      }
     },
     "cba18b0367454463aee0a9b08751d777": {
      "model_module": "@jupyter-widgets/controls",
      "model_module_version": "1.4.0",
      "model_name": "DescriptionStyleModel",
      "state": {
       "description_width": ""
      }
     },
     "cbb48d9d6a434708b4c8a3a3472638ef": {
      "model_module": "@jupyter-widgets/controls",
      "model_module_version": "1.4.0",
      "model_name": "DescriptionStyleModel",
      "state": {
       "description_width": ""
      }
     },
     "cbd7be723a5c48b38148210d4d524800": {
      "model_module": "@jupyter-widgets/base",
      "model_module_version": "1.1.0",
      "model_name": "LayoutModel",
      "state": {}
     },
     "cbe77a068f3b402a950461958c40b670": {
      "model_module": "@jupyter-widgets/controls",
      "model_module_version": "1.4.0",
      "model_name": "DescriptionStyleModel",
      "state": {
       "description_width": ""
      }
     },
     "cc176af91bd044eb8226559b276725a0": {
      "model_module": "@jupyter-widgets/controls",
      "model_module_version": "1.4.0",
      "model_name": "HBoxModel",
      "state": {
       "children": [
        "IPY_MODEL_249afd1234b0431fadcccb4d89510b63",
        "IPY_MODEL_3db51edbfd564530b70bbbd8dceed6b5"
       ],
       "layout": "IPY_MODEL_6c8104beaa2349139493e3cd174ad9d5"
      }
     },
     "cc2f970dd4a543abac3032db3f03a033": {
      "model_module": "@jupyter-widgets/base",
      "model_module_version": "1.1.0",
      "model_name": "LayoutModel",
      "state": {}
     },
     "cc3e4e6b91564c34835e2d0fd44cb10c": {
      "model_module": "@jupyter-widgets/controls",
      "model_module_version": "1.4.0",
      "model_name": "CheckboxModel",
      "state": {
       "description": "fit_reg",
       "disabled": false,
       "layout": "IPY_MODEL_4366067f666c4cc8961da2536ed45911",
       "style": "IPY_MODEL_ba0d3a2c9d4f4bf1abd7446a9dff5139",
       "value": false
      }
     },
     "cc40b11cf82e46568fcb33c010a8de1b": {
      "model_module": "@jupyter-widgets/controls",
      "model_module_version": "1.4.0",
      "model_name": "FloatSliderModel",
      "state": {
       "description": "outlier_prop",
       "layout": "IPY_MODEL_127907d690e1454b8eb5bc8c2e0718e9",
       "max": 1,
       "step": 0.001,
       "style": "IPY_MODEL_af25e3daec764f41bb3e9fb0b291702f",
       "value": 0.007
      }
     },
     "cc9ab67771354195a8158c25f7099a02": {
      "model_module": "@jupyter-widgets/controls",
      "model_module_version": "1.4.0",
      "model_name": "DescriptionStyleModel",
      "state": {
       "description_width": ""
      }
     },
     "cd2d36bbdde046e5a0121a1bda93f6ad": {
      "model_module": "@jupyter-widgets/base",
      "model_module_version": "1.1.0",
      "model_name": "LayoutModel",
      "state": {}
     },
     "cd58ec4c96d74c2b8e12a5b5db6d3e95": {
      "model_module": "@jupyter-widgets/controls",
      "model_module_version": "1.4.0",
      "model_name": "CheckboxModel",
      "state": {
       "description": "scale_hue",
       "disabled": false,
       "layout": "IPY_MODEL_f6d9f9b5bd3645d0bdf73b29981b6e79",
       "style": "IPY_MODEL_dac71b4750e547a780aa6a35023487f9",
       "value": false
      }
     },
     "cd6f451b71cd4e038a9dcb913ab465fa": {
      "model_module": "@jupyter-widgets/controls",
      "model_module_version": "1.4.0",
      "model_name": "DropdownModel",
      "state": {
       "_options_labels": [
        "point",
        "bar",
        "strip",
        "swarm",
        "box",
        "violin",
        "boxen"
       ],
       "description": "kind",
       "index": 0,
       "layout": "IPY_MODEL_0d636c0c0ca349ec9da36b8d193b919f",
       "style": "IPY_MODEL_71328dc164ca43e1a3213b6a8c06fb23"
      }
     },
     "ce0530a209e34be1bae7425880e81018": {
      "model_module": "@jupyter-widgets/base",
      "model_module_version": "1.1.0",
      "model_name": "LayoutModel",
      "state": {}
     },
     "ce0c246a81eb4b30a4fd839aee0812a1": {
      "model_module": "@jupyter-widgets/controls",
      "model_module_version": "1.4.0",
      "model_name": "DescriptionStyleModel",
      "state": {
       "description_width": ""
      }
     },
     "ce33c34160f9404eabc156881d078cbc": {
      "model_module": "@jupyter-widgets/controls",
      "model_module_version": "1.4.0",
      "model_name": "DescriptionStyleModel",
      "state": {
       "description_width": ""
      }
     },
     "ce3ac842cfe94015a6611453c76265f0": {
      "model_module": "@jupyter-widgets/base",
      "model_module_version": "1.1.0",
      "model_name": "LayoutModel",
      "state": {}
     },
     "ce499700a0b44c3b8d95f67de25b0203": {
      "model_module": "@jupyter-widgets/controls",
      "model_module_version": "1.4.0",
      "model_name": "ButtonModel",
      "state": {
       "description": "remove",
       "layout": "IPY_MODEL_aafd7634afe44ff2beecb00f45670cb0",
       "style": "IPY_MODEL_1729b554f9de4621a38ef2b06cf9795f"
      }
     },
     "ce9c947d18b84e139ccd75174165ac33": {
      "model_module": "@jupyter-widgets/base",
      "model_module_version": "1.1.0",
      "model_name": "LayoutModel",
      "state": {}
     },
     "ceee48f991c44cbcbd2b281338b6b444": {
      "model_module": "@jupyter-widgets/controls",
      "model_module_version": "1.4.0",
      "model_name": "DescriptionStyleModel",
      "state": {
       "description_width": ""
      }
     },
     "cefd8073f7254c7ba25208738043f0f3": {
      "model_module": "@jupyter-widgets/controls",
      "model_module_version": "1.4.0",
      "model_name": "ButtonStyleModel",
      "state": {}
     },
     "cf435d059f6541c68052558b8cc1d46c": {
      "model_module": "@jupyter-widgets/controls",
      "model_module_version": "1.4.0",
      "model_name": "HBoxModel",
      "state": {
       "children": [
        "IPY_MODEL_0027c47413ee402595c0a0caf4567175",
        "IPY_MODEL_8876f3832285442e956d92910dc99376"
       ],
       "layout": "IPY_MODEL_63b761726fc6432e90f0d7353ef674b3"
      }
     },
     "cf44b189fbf64bfc92094ed8b6e751c2": {
      "model_module": "@jupyter-widgets/base",
      "model_module_version": "1.1.0",
      "model_name": "LayoutModel",
      "state": {}
     },
     "cf820cabb1d04452851ab9b1b41e8a6c": {
      "model_module": "@jupyter-widgets/controls",
      "model_module_version": "1.4.0",
      "model_name": "DescriptionStyleModel",
      "state": {
       "description_width": ""
      }
     },
     "cf8505e72ac4421a93561186debdbbf4": {
      "model_module": "@jupyter-widgets/controls",
      "model_module_version": "1.4.0",
      "model_name": "DropdownModel",
      "state": {
       "_options_labels": [
        "scatter",
        "line"
       ],
       "description": "kind",
       "index": 0,
       "layout": "IPY_MODEL_d323f91802d24c49aec8fb9e67dee320",
       "style": "IPY_MODEL_019e67583df349d290578590a77e1371"
      }
     },
     "cf9fc349ff8c4bad8cda7c8a41869e64": {
      "model_module": "@jupyter-widgets/controls",
      "model_module_version": "1.4.0",
      "model_name": "TextModel",
      "state": {
       "description": "color",
       "layout": "IPY_MODEL_ec46c0357dad417c8058e0166af1dc62",
       "style": "IPY_MODEL_23df9516470d42ba83b6a3e031b62ff3",
       "value": "g"
      }
     },
     "cfaa3fa8dc054f32bd0ac4caa10b30d7": {
      "model_module": "@jupyter-widgets/base",
      "model_module_version": "1.1.0",
      "model_name": "LayoutModel",
      "state": {}
     },
     "cfcca15bfc234ed1b0a7ce99390c8819": {
      "model_module": "@jupyter-widgets/controls",
      "model_module_version": "1.4.0",
      "model_name": "SliderStyleModel",
      "state": {
       "description_width": ""
      }
     },
     "cff0b75a6b3b44bd8a7f8ff8013a2bb9": {
      "model_module": "@jupyter-widgets/controls",
      "model_module_version": "1.4.0",
      "model_name": "DescriptionStyleModel",
      "state": {
       "description_width": ""
      }
     },
     "d015f8cc6a234f0a9381940fd6a7bddd": {
      "model_module": "@jupyter-widgets/controls",
      "model_module_version": "1.4.0",
      "model_name": "DescriptionStyleModel",
      "state": {
       "description_width": ""
      }
     },
     "d05bdd7daf0a48d3806c65ebc0f5b18e": {
      "model_module": "@jupyter-widgets/controls",
      "model_module_version": "1.4.0",
      "model_name": "FloatTextModel",
      "state": {
       "description": "linewidths",
       "layout": "IPY_MODEL_0b264b02bada4853854fb93e45649c6f",
       "step": null,
       "style": "IPY_MODEL_df4bdaea6db841ba98e896a97fb30713",
       "value": 1
      }
     },
     "d05cda21842548eeb1149cebee9f547d": {
      "model_module": "@jupyter-widgets/controls",
      "model_module_version": "1.4.0",
      "model_name": "DescriptionStyleModel",
      "state": {
       "description_width": ""
      }
     },
     "d075f2afbe3d47b2a44c3f0b04644279": {
      "model_module": "@jupyter-widgets/base",
      "model_module_version": "1.1.0",
      "model_name": "LayoutModel",
      "state": {}
     },
     "d0928e4a34e9473d986d5caa913f51fc": {
      "model_module": "@jupyter-widgets/controls",
      "model_module_version": "1.4.0",
      "model_name": "DescriptionStyleModel",
      "state": {
       "description_width": ""
      }
     },
     "d09cfcea9c7542babb23516748a6f12c": {
      "model_module": "@jupyter-widgets/controls",
      "model_module_version": "1.4.0",
      "model_name": "HBoxModel",
      "state": {
       "children": [
        "IPY_MODEL_0027c47413ee402595c0a0caf4567175",
        "IPY_MODEL_ad0ebc2e167342fc83d7906865fa00f9"
       ],
       "layout": "IPY_MODEL_8031a9dee036446fab3b683cbd416760"
      }
     },
     "d0bb7c5dfec14d51a779b4984a212b09": {
      "model_module": "@jupyter-widgets/controls",
      "model_module_version": "1.4.0",
      "model_name": "DescriptionStyleModel",
      "state": {
       "description_width": ""
      }
     },
     "d0df889ab5a74aebaf500bd64ac53284": {
      "model_module": "@jupyter-widgets/controls",
      "model_module_version": "1.4.0",
      "model_name": "CheckboxModel",
      "state": {
       "description": "kde",
       "disabled": false,
       "layout": "IPY_MODEL_9224d0a8bc7141e688554dd0d1ed56ff",
       "style": "IPY_MODEL_5899ac6c5004465c97c1b6e7dbd7e0a3",
       "value": false
      }
     },
     "d1022b7acf2b4c0ba2a38413a812e958": {
      "model_module": "@jupyter-widgets/controls",
      "model_module_version": "1.4.0",
      "model_name": "FloatTextModel",
      "state": {
       "description": "x_jitter",
       "layout": "IPY_MODEL_5201b1de52924fc5b40e3c52a32e76ff",
       "step": null,
       "style": "IPY_MODEL_ba2e3fec4ef644528f203119da339ab6",
       "value": 1
      }
     },
     "d18083925d8447f5a177e3c34d598131": {
      "model_module": "@jupyter-widgets/controls",
      "model_module_version": "1.4.0",
      "model_name": "DescriptionStyleModel",
      "state": {
       "description_width": ""
      }
     },
     "d19a324f7f5a4a8d99dcfc19daa9602c": {
      "model_module": "@jupyter-widgets/base",
      "model_module_version": "1.1.0",
      "model_name": "LayoutModel",
      "state": {}
     },
     "d1aa85e7d6fb473bb5fc4eb763d570da": {
      "model_module": "@jupyter-widgets/controls",
      "model_module_version": "1.4.0",
      "model_name": "DescriptionStyleModel",
      "state": {
       "description_width": ""
      }
     },
     "d1be9bdbce984599ae496b17f4c3f994": {
      "model_module": "@jupyter-widgets/base",
      "model_module_version": "1.1.0",
      "model_name": "LayoutModel",
      "state": {}
     },
     "d1c9c24374eb421f9fb1a2e41079d2e5": {
      "model_module": "@jupyter-widgets/controls",
      "model_module_version": "1.4.0",
      "model_name": "DropdownModel",
      "state": {
       "_options_labels": [
        "Acceleration",
        "Cylinders",
        "Displacement",
        "Horsepower",
        "Miles_per_Gallon",
        "Name",
        "Origin",
        "Weight_in_lbs",
        "Year"
       ],
       "description": "y_partial",
       "index": 0,
       "layout": "IPY_MODEL_b2d03200f0cd45728db0fec1aacc7045",
       "style": "IPY_MODEL_82f6d07889ed47d0bf9bc7de7c2ea656"
      }
     },
     "d1f7d81378f4404695cb72da6022e126": {
      "model_module": "@jupyter-widgets/controls",
      "model_module_version": "1.4.0",
      "model_name": "DescriptionStyleModel",
      "state": {
       "description_width": ""
      }
     },
     "d205cb93c9834a688fc4ff8c5a8eff0b": {
      "model_module": "@jupyter-widgets/controls",
      "model_module_version": "1.4.0",
      "model_name": "DescriptionStyleModel",
      "state": {
       "description_width": ""
      }
     },
     "d20838ac534f4db285522838c3625506": {
      "model_module": "@jupyter-widgets/controls",
      "model_module_version": "1.4.0",
      "model_name": "IntTextModel",
      "state": {
       "description": "n_boot",
       "layout": "IPY_MODEL_1a547ba014f94a90866952ed1b636ba9",
       "step": 1,
       "style": "IPY_MODEL_90fd168983fa4fd496307bb97426b9c3",
       "value": 10000
      }
     },
     "d230ea6a943c40a38a573fbda8a2e90a": {
      "model_module": "@jupyter-widgets/controls",
      "model_module_version": "1.4.0",
      "model_name": "DescriptionStyleModel",
      "state": {
       "description_width": ""
      }
     },
     "d2ad6ab160e5469c8a019976a279fa51": {
      "model_module": "@jupyter-widgets/controls",
      "model_module_version": "1.4.0",
      "model_name": "FloatTextModel",
      "state": {
       "description": "center",
       "layout": "IPY_MODEL_c798b4d4455a4b23963bec0409472c2a",
       "step": null,
       "style": "IPY_MODEL_28c7419c4a774681a2a5844e24b4d42b",
       "value": 1
      }
     },
     "d2b9d1ebdd094a3d8d2d5c974660b916": {
      "model_module": "@jupyter-widgets/controls",
      "model_module_version": "1.4.0",
      "model_name": "DescriptionStyleModel",
      "state": {
       "description_width": ""
      }
     },
     "d323f91802d24c49aec8fb9e67dee320": {
      "model_module": "@jupyter-widgets/base",
      "model_module_version": "1.1.0",
      "model_name": "LayoutModel",
      "state": {}
     },
     "d32edc9e7bfb4809bb25ecf258c0867b": {
      "model_module": "@jupyter-widgets/controls",
      "model_module_version": "1.4.0",
      "model_name": "FloatTextModel",
      "state": {
       "description": "x_jitter",
       "layout": "IPY_MODEL_6ca9a046ad17408c8bc8ddb0a1dca879",
       "step": null,
       "style": "IPY_MODEL_ab29a4e5b06546f6a49431c98addc967",
       "value": 1
      }
     },
     "d3df76e2eec04816ab3d0a73bb91b88b": {
      "model_module": "@jupyter-widgets/controls",
      "model_module_version": "1.4.0",
      "model_name": "LabelModel",
      "state": {
       "layout": "IPY_MODEL_a531f82ec7a343ffa8b474cbba42755f",
       "style": "IPY_MODEL_b3201c4f3b3e463ebfddf76bb5f3c697",
       "value": "---"
      }
     },
     "d3e23a95744b43569433c04b06f88ffe": {
      "model_module": "@jupyter-widgets/base",
      "model_module_version": "1.1.0",
      "model_name": "LayoutModel",
      "state": {}
     },
     "d3e5472d1301439ba217d9fc14c7a826": {
      "model_module": "@jupyter-widgets/base",
      "model_module_version": "1.1.0",
      "model_name": "LayoutModel",
      "state": {}
     },
     "d3e699558e4c46fd91a9f78da74cef28": {
      "model_module": "@jupyter-widgets/base",
      "model_module_version": "1.1.0",
      "model_name": "LayoutModel",
      "state": {}
     },
     "d419a1227a6b4d58bf5712bb90b82514": {
      "model_module": "@jupyter-widgets/controls",
      "model_module_version": "1.4.0",
      "model_name": "DescriptionStyleModel",
      "state": {
       "description_width": ""
      }
     },
     "d477e743db8d45ff89e286d77eb9af52": {
      "model_module": "@jupyter-widgets/base",
      "model_module_version": "1.1.0",
      "model_name": "LayoutModel",
      "state": {}
     },
     "d4a75229aba14f7a94467fb880e9d01a": {
      "model_module": "@jupyter-widgets/base",
      "model_module_version": "1.1.0",
      "model_name": "LayoutModel",
      "state": {}
     },
     "d4b10f15f91c4fb887268385bad356bd": {
      "model_module": "@jupyter-widgets/controls",
      "model_module_version": "1.4.0",
      "model_name": "LabelModel",
      "state": {
       "layout": "IPY_MODEL_5ce724bd24a54bcf836f6bbd228964ae",
       "style": "IPY_MODEL_24ec405e26ac498c957966818d89d8dc",
       "value": "---"
      }
     },
     "d4d9b5e0aa174eaca5c7b1498584e909": {
      "model_module": "@jupyter-widgets/controls",
      "model_module_version": "1.4.0",
      "model_name": "CheckboxModel",
      "state": {
       "description": "shade",
       "disabled": false,
       "layout": "IPY_MODEL_0cf2faa8f61649249e1f3951482188c1",
       "style": "IPY_MODEL_15558e3a6d394d2a99875999c4b85bc4",
       "value": false
      }
     },
     "d553b0bf809d449086cec7a4631610f1": {
      "model_module": "@jupyter-widgets/controls",
      "model_module_version": "1.4.0",
      "model_name": "DescriptionStyleModel",
      "state": {
       "description_width": ""
      }
     },
     "d580c94d69b04912a842b10389872d4c": {
      "model_module": "@jupyter-widgets/base",
      "model_module_version": "1.1.0",
      "model_name": "LayoutModel",
      "state": {}
     },
     "d599582dab314227b0a333352729b984": {
      "model_module": "@jupyter-widgets/base",
      "model_module_version": "1.1.0",
      "model_name": "LayoutModel",
      "state": {}
     },
     "d59effea047949c4b555e682bc9090f9": {
      "model_module": "@jupyter-widgets/base",
      "model_module_version": "1.1.0",
      "model_name": "LayoutModel",
      "state": {}
     },
     "d5a30f0b75974a00a61c425eb4d243c5": {
      "model_module": "@jupyter-widgets/base",
      "model_module_version": "1.1.0",
      "model_name": "LayoutModel",
      "state": {}
     },
     "d5d24318d85d43b3b696ed32c588e467": {
      "model_module": "@jupyter-widgets/base",
      "model_module_version": "1.1.0",
      "model_name": "LayoutModel",
      "state": {}
     },
     "d5f20d72de8842a284003a20eb80ca08": {
      "model_module": "@jupyter-widgets/base",
      "model_module_version": "1.1.0",
      "model_name": "LayoutModel",
      "state": {}
     },
     "d60a30826cef42d7b46caa184945b5dc": {
      "model_module": "@jupyter-widgets/base",
      "model_module_version": "1.1.0",
      "model_name": "LayoutModel",
      "state": {}
     },
     "d62b47b2a2444ee8946daefaf9b792b1": {
      "model_module": "@jupyter-widgets/controls",
      "model_module_version": "1.4.0",
      "model_name": "DropdownModel",
      "state": {
       "_options_labels": [
        "band",
        "bars"
       ],
       "description": "err_style",
       "index": 0,
       "layout": "IPY_MODEL_f88e83b54703465abc3107522cfe6e36",
       "style": "IPY_MODEL_a7d55a109c0e4c128bfa26eabe0217c4"
      }
     },
     "d6b72451d34c42b4bd9ad32c3f1f94aa": {
      "model_module": "@jupyter-widgets/controls",
      "model_module_version": "1.4.0",
      "model_name": "HBoxModel",
      "state": {
       "children": [
        "IPY_MODEL_828f819b33764216b7a76df030be6752",
        "IPY_MODEL_e291926b1cdd4f7493e80a936c96610b"
       ],
       "layout": "IPY_MODEL_7f66414d70cf4f56a297f6e7a52501ff"
      }
     },
     "d6ba3e166b4d4565a99a5302b13d8072": {
      "model_module": "@jupyter-widgets/base",
      "model_module_version": "1.1.0",
      "model_name": "LayoutModel",
      "state": {}
     },
     "d7564360f0b3481791c1bf878bdcd253": {
      "model_module": "@jupyter-widgets/base",
      "model_module_version": "1.1.0",
      "model_name": "LayoutModel",
      "state": {}
     },
     "d769007339cd40209a43b176309c0cde": {
      "model_module": "@jupyter-widgets/controls",
      "model_module_version": "1.4.0",
      "model_name": "DescriptionStyleModel",
      "state": {
       "description_width": ""
      }
     },
     "d78d7573f3c04d16b7bb419705b4c95c": {
      "model_module": "@jupyter-widgets/base",
      "model_module_version": "1.1.0",
      "model_name": "LayoutModel",
      "state": {}
     },
     "d7b1328ad2ce4d43b8a84cab0ecff80f": {
      "model_module": "@jupyter-widgets/base",
      "model_module_version": "1.1.0",
      "model_name": "LayoutModel",
      "state": {}
     },
     "d7f266aabf984c2a92451e028b78167f": {
      "model_module": "@jupyter-widgets/base",
      "model_module_version": "1.1.0",
      "model_name": "LayoutModel",
      "state": {}
     },
     "d820e9c14b5a4bf79882eaa02b8d63c8": {
      "model_module": "@jupyter-widgets/controls",
      "model_module_version": "1.4.0",
      "model_name": "DescriptionStyleModel",
      "state": {
       "description_width": ""
      }
     },
     "d8219895a4944800a61cc0beba87c93f": {
      "model_module": "@jupyter-widgets/controls",
      "model_module_version": "1.4.0",
      "model_name": "DropdownModel",
      "state": {
       "_options_labels": [
        "Acceleration",
        "Cylinders",
        "Displacement",
        "Horsepower",
        "Miles_per_Gallon",
        "Name",
        "Origin",
        "Weight_in_lbs",
        "Year"
       ],
       "description": "size",
       "index": 0,
       "layout": "IPY_MODEL_c32e95a563c64b97af68fbca4d090124",
       "style": "IPY_MODEL_b31994e9002048ef81634975130bb063"
      }
     },
     "d83abf64593c451193cba3c5322d4ba7": {
      "model_module": "@jupyter-widgets/controls",
      "model_module_version": "1.4.0",
      "model_name": "DropdownModel",
      "state": {
       "_options_labels": [
        "auto",
        "hist",
        "kde"
       ],
       "description": "diag_kind",
       "index": 0,
       "layout": "IPY_MODEL_01e5427ff50848a985998980218af51c",
       "style": "IPY_MODEL_a1a7bdfba3dd4c2686427383f7bce940"
      }
     },
     "d890acdb9f0147c98bd2a80c9c6561b4": {
      "model_module": "@jupyter-widgets/base",
      "model_module_version": "1.1.0",
      "model_name": "LayoutModel",
      "state": {}
     },
     "d89c5c655d1b4dfdb238a4b982e1df37": {
      "model_module": "@jupyter-widgets/controls",
      "model_module_version": "1.4.0",
      "model_name": "DropdownModel",
      "state": {
       "_options_labels": [
        "Acceleration",
        "Name",
        "Displacement",
        "Year",
        "Miles_per_Gallon",
        "Weight_in_lbs",
        "Cylinders",
        "Horsepower",
        "Origin"
       ],
       "description": "dashes",
       "index": 0,
       "layout": "IPY_MODEL_9a07c522f7814a3ba8bedffc10a200ac",
       "style": "IPY_MODEL_556c64086b5641769fdaac2911c006fd"
      }
     },
     "d8ade617881e40cfa6b9d36577267554": {
      "model_module": "@jupyter-widgets/controls",
      "model_module_version": "1.4.0",
      "model_name": "DropdownModel",
      "state": {
       "_options_labels": [
        "area",
        "count",
        "width"
       ],
       "description": "scale",
       "index": 0,
       "layout": "IPY_MODEL_6ae170fcb8cf4dba83b5014284d50b5a",
       "style": "IPY_MODEL_d8e2137f85c2467e961c162f031dc87d"
      }
     },
     "d8e2137f85c2467e961c162f031dc87d": {
      "model_module": "@jupyter-widgets/controls",
      "model_module_version": "1.4.0",
      "model_name": "DescriptionStyleModel",
      "state": {
       "description_width": ""
      }
     },
     "d8ed3173a2d44033a20c6f72b4ec1b01": {
      "model_module": "@jupyter-widgets/controls",
      "model_module_version": "1.4.0",
      "model_name": "CheckboxModel",
      "state": {
       "description": "margin_titles",
       "disabled": false,
       "layout": "IPY_MODEL_ff779cdfd5a24f138094257d4533fe17",
       "style": "IPY_MODEL_2bc61c7c21f8475999cf6cb118bc3057",
       "value": false
      }
     },
     "d9098e53be02455896b1d6bfcb4bd292": {
      "model_module": "@jupyter-widgets/controls",
      "model_module_version": "1.4.0",
      "model_name": "DescriptionStyleModel",
      "state": {
       "description_width": ""
      }
     },
     "d97ec8c51cf048cbb91bc7d4b601573e": {
      "model_module": "@jupyter-widgets/controls",
      "model_module_version": "1.4.0",
      "model_name": "DropdownModel",
      "state": {
       "_options_labels": [
        "scatter",
        "line"
       ],
       "description": "kind",
       "index": 0,
       "layout": "IPY_MODEL_8116796706314e4d9ce67ca01ba5e01a",
       "style": "IPY_MODEL_b3894c35366043658e37e3ce7c9e78ea"
      }
     },
     "d97f37bce8ae49a686f990a37b1f1aa0": {
      "model_module": "@jupyter-widgets/base",
      "model_module_version": "1.1.0",
      "model_name": "LayoutModel",
      "state": {}
     },
     "d99a038456fe4c848661832b07ef60d4": {
      "model_module": "@jupyter-widgets/controls",
      "model_module_version": "1.4.0",
      "model_name": "TextModel",
      "state": {
       "description": "label",
       "layout": "IPY_MODEL_584b15f468e44854808c1e0a24f40c39",
       "style": "IPY_MODEL_058e0ee144a440ec959c24718883d4f0"
      }
     },
     "d9c96c88c625495cb2af9a5481bb4940": {
      "model_module": "@jupyter-widgets/controls",
      "model_module_version": "1.4.0",
      "model_name": "HBoxModel",
      "state": {
       "children": [
        "IPY_MODEL_f0fbc494b40b4da8b29fc610a1204798"
       ],
       "layout": "IPY_MODEL_61062acd725741478f061df07bb755c3"
      }
     },
     "d9db420e9d2d4dfb8eced28d1ca26adf": {
      "model_module": "@jupyter-widgets/controls",
      "model_module_version": "1.4.0",
      "model_name": "DescriptionStyleModel",
      "state": {
       "description_width": ""
      }
     },
     "d9fdbf921dc64138912f64bf41fd1f44": {
      "model_module": "@jupyter-widgets/controls",
      "model_module_version": "1.4.0",
      "model_name": "CheckboxModel",
      "state": {
       "description": "split",
       "disabled": false,
       "layout": "IPY_MODEL_945a8c916b9849a6851fda231132310f",
       "style": "IPY_MODEL_0b305b4894364136bc1f16afd788595e",
       "value": false
      }
     },
     "da0c09cfb4dd40f98176c17fa5c61890": {
      "model_module": "@jupyter-widgets/base",
      "model_module_version": "1.1.0",
      "model_name": "LayoutModel",
      "state": {}
     },
     "da3d2afefa694831b9a339ecea4efb08": {
      "model_module": "@jupyter-widgets/controls",
      "model_module_version": "1.4.0",
      "model_name": "DropdownModel",
      "state": {
       "_options_labels": [
        "Acceleration",
        "Cylinders",
        "Displacement",
        "Horsepower",
        "Miles_per_Gallon",
        "Name",
        "Origin",
        "Weight_in_lbs",
        "Year"
       ],
       "description": "hue",
       "index": 0,
       "layout": "IPY_MODEL_4af0421ed0f94d08bff61e5f20f2299a",
       "style": "IPY_MODEL_3b9e3cc62a4a4b3ea473e3dde45786d0"
      }
     },
     "da5a4961ed0d4e06ba4ccb906781ea35": {
      "model_module": "@jupyter-widgets/base",
      "model_module_version": "1.1.0",
      "model_name": "LayoutModel",
      "state": {}
     },
     "da7aa6378dd34bce90e6fb511e27b1d9": {
      "model_module": "@jupyter-widgets/controls",
      "model_module_version": "1.4.0",
      "model_name": "DescriptionStyleModel",
      "state": {
       "description_width": ""
      }
     },
     "dab9c9ecbd1e4313bfc05a3bacaac104": {
      "model_module": "@jupyter-widgets/controls",
      "model_module_version": "1.4.0",
      "model_name": "HBoxModel",
      "state": {
       "children": [
        "IPY_MODEL_90660925dc4a4dacabeb7503bb9a4c0f",
        "IPY_MODEL_401bae7bc9b74bf2a3c99402a7dfae60"
       ],
       "layout": "IPY_MODEL_87bda398155b4e3596cdba68bc8d46a3"
      }
     },
     "dac71b4750e547a780aa6a35023487f9": {
      "model_module": "@jupyter-widgets/controls",
      "model_module_version": "1.4.0",
      "model_name": "DescriptionStyleModel",
      "state": {
       "description_width": ""
      }
     },
     "dad3ba38394d4fd1bd8d0b66d11140f8": {
      "model_module": "@jupyter-widgets/controls",
      "model_module_version": "1.4.0",
      "model_name": "DescriptionStyleModel",
      "state": {
       "description_width": ""
      }
     },
     "dad6c1b2a55142dd8396ad283ba646a6": {
      "model_module": "@jupyter-widgets/base",
      "model_module_version": "1.1.0",
      "model_name": "LayoutModel",
      "state": {}
     },
     "daf56aef53dc4f5a8b90185b53f05e3b": {
      "model_module": "@jupyter-widgets/base",
      "model_module_version": "1.1.0",
      "model_name": "LayoutModel",
      "state": {}
     },
     "db066c8da6154d3a9546341f556ea1b8": {
      "model_module": "@jupyter-widgets/controls",
      "model_module_version": "1.4.0",
      "model_name": "ButtonStyleModel",
      "state": {}
     },
     "db1638f91f1742cea36e3d95297626a8": {
      "model_module": "@jupyter-widgets/controls",
      "model_module_version": "1.4.0",
      "model_name": "DescriptionStyleModel",
      "state": {
       "description_width": ""
      }
     },
     "db75565ebb9e4e0e8507d27d658e3feb": {
      "model_module": "@jupyter-widgets/base",
      "model_module_version": "1.1.0",
      "model_name": "LayoutModel",
      "state": {}
     },
     "dc3e2956a4bf4dfdb3b0c44c5e57ddbd": {
      "model_module": "@jupyter-widgets/controls",
      "model_module_version": "1.4.0",
      "model_name": "ButtonStyleModel",
      "state": {}
     },
     "dc5e365938f240d39c41bcd201c884b9": {
      "model_module": "@jupyter-widgets/controls",
      "model_module_version": "1.4.0",
      "model_name": "FloatTextModel",
      "state": {
       "description": "x_jitter",
       "layout": "IPY_MODEL_4dfab4cd747f42bbb2da6c29ee31e9c7",
       "step": null,
       "style": "IPY_MODEL_34232917e3834a2dacd34e661586fc46",
       "value": 1
      }
     },
     "dc751f2a534c4460ba6e1d3b111aa6c4": {
      "model_module": "@jupyter-widgets/controls",
      "model_module_version": "1.4.0",
      "model_name": "DescriptionStyleModel",
      "state": {
       "description_width": ""
      }
     },
     "dcf3e277c80d47aeb82572c14450ce7a": {
      "model_module": "@jupyter-widgets/controls",
      "model_module_version": "1.4.0",
      "model_name": "TextModel",
      "state": {
       "description": "cmap",
       "layout": "IPY_MODEL_bc0308145e38450fb88cb8b02ec7d27b",
       "style": "IPY_MODEL_2a2bb34007554f2d88a1119572fe9ae9",
       "value": "viridis"
      }
     },
     "dd0a8273233241ad89ae73702d6734d6": {
      "model_module": "@jupyter-widgets/base",
      "model_module_version": "1.1.0",
      "model_name": "LayoutModel",
      "state": {}
     },
     "dd8c922a11684a6eb0a7730e46c9684e": {
      "model_module": "@jupyter-widgets/controls",
      "model_module_version": "1.4.0",
      "model_name": "DescriptionStyleModel",
      "state": {
       "description_width": ""
      }
     },
     "dd983c68c2644b6f9da26a3a6b4f1e7a": {
      "model_module": "@jupyter-widgets/base",
      "model_module_version": "1.1.0",
      "model_name": "LayoutModel",
      "state": {}
     },
     "ddde8715ef9a4f8eb9a1e62e2dd38f8f": {
      "model_module": "@jupyter-widgets/controls",
      "model_module_version": "1.4.0",
      "model_name": "DescriptionStyleModel",
      "state": {
       "description_width": ""
      }
     },
     "ddf5ab5a241f4957a82fd3b33f653019": {
      "model_module": "@jupyter-widgets/controls",
      "model_module_version": "1.4.0",
      "model_name": "ButtonStyleModel",
      "state": {}
     },
     "de2c7743c01e433e872cb2545f4d240e": {
      "model_module": "@jupyter-widgets/controls",
      "model_module_version": "1.4.0",
      "model_name": "LabelModel",
      "state": {
       "layout": "IPY_MODEL_fdf12e85099a4fb2b3aa34b6ec1ecc13",
       "style": "IPY_MODEL_f182250c33bf4c0e8c49add73ac907c9",
       "value": "---"
      }
     },
     "de7a06cf1e964da2ab756338f835d17d": {
      "model_module": "@jupyter-widgets/controls",
      "model_module_version": "1.4.0",
      "model_name": "DescriptionStyleModel",
      "state": {
       "description_width": ""
      }
     },
     "de80a7063b5541df8d72b69dbadd3d38": {
      "model_module": "@jupyter-widgets/controls",
      "model_module_version": "1.4.0",
      "model_name": "CheckboxModel",
      "state": {
       "description": "hist",
       "disabled": false,
       "layout": "IPY_MODEL_8145fe01d07c4b5ea60859bbb0158feb",
       "style": "IPY_MODEL_ff62851ae59b474696e981763b7222a9",
       "value": false
      }
     },
     "df4bdaea6db841ba98e896a97fb30713": {
      "model_module": "@jupyter-widgets/controls",
      "model_module_version": "1.4.0",
      "model_name": "DescriptionStyleModel",
      "state": {
       "description_width": ""
      }
     },
     "df59a28141fe44f9bf58141ebe5656a8": {
      "model_module": "@jupyter-widgets/controls",
      "model_module_version": "1.4.0",
      "model_name": "DescriptionStyleModel",
      "state": {
       "description_width": ""
      }
     },
     "df6d54a7b1424da9bf3a685a3cf47198": {
      "model_module": "@jupyter-widgets/controls",
      "model_module_version": "1.4.0",
      "model_name": "FloatTextModel",
      "state": {
       "description": "whis",
       "layout": "IPY_MODEL_b87c095b8531423a9d5c6776d860e6ed",
       "step": null,
       "style": "IPY_MODEL_b094ac8f7a354296af22a7e18cc00425",
       "value": 1
      }
     },
     "dfa0adb26c4c4b48ac75e06fc3236f0c": {
      "model_module": "@jupyter-widgets/controls",
      "model_module_version": "1.4.0",
      "model_name": "DescriptionStyleModel",
      "state": {
       "description_width": ""
      }
     },
     "dfb30ead496246fcb443d9ce3c707c20": {
      "model_module": "@jupyter-widgets/controls",
      "model_module_version": "1.4.0",
      "model_name": "ButtonStyleModel",
      "state": {}
     },
     "dfbc669023754398b819bb227899451e": {
      "model_module": "@jupyter-widgets/controls",
      "model_module_version": "1.4.0",
      "model_name": "FloatTextModel",
      "state": {
       "description": "y_jitter",
       "layout": "IPY_MODEL_1a570cca23b0467b92751cd6cf202ef0",
       "step": null,
       "style": "IPY_MODEL_b751546cf46b4984aa4de755875b2d38",
       "value": 1
      }
     },
     "dfc447a145a1446e94db57f26859367b": {
      "model_module": "@jupyter-widgets/controls",
      "model_module_version": "1.4.0",
      "model_name": "ButtonStyleModel",
      "state": {}
     },
     "dfde836ad42047f7a3c632183c9c9965": {
      "model_module": "@jupyter-widgets/controls",
      "model_module_version": "1.4.0",
      "model_name": "DescriptionStyleModel",
      "state": {
       "description_width": ""
      }
     },
     "e00e93d675224fb8999272738f0da65f": {
      "model_module": "@jupyter-widgets/base",
      "model_module_version": "1.1.0",
      "model_name": "LayoutModel",
      "state": {}
     },
     "e033cee46780413aaea9b85c47e115cc": {
      "model_module": "@jupyter-widgets/controls",
      "model_module_version": "1.4.0",
      "model_name": "CheckboxModel",
      "state": {
       "description": "legend_out",
       "disabled": false,
       "layout": "IPY_MODEL_e255a6f438644a9598ef8ecf15a12ffa",
       "style": "IPY_MODEL_15d9875d9b444be085c04d1f00106f90",
       "value": false
      }
     },
     "e06c2f3d56544a72be17a8675bcbc460": {
      "model_module": "@jupyter-widgets/controls",
      "model_module_version": "1.4.0",
      "model_name": "DescriptionStyleModel",
      "state": {
       "description_width": ""
      }
     },
     "e06ddedd6f114906b5d1e5878263672e": {
      "model_module": "@jupyter-widgets/controls",
      "model_module_version": "1.4.0",
      "model_name": "DescriptionStyleModel",
      "state": {
       "description_width": ""
      }
     },
     "e09ca5668472444daaf88532702405a9": {
      "model_module": "@jupyter-widgets/base",
      "model_module_version": "1.1.0",
      "model_name": "LayoutModel",
      "state": {}
     },
     "e0d5fe927d41481a97dd07556ba1b9dd": {
      "model_module": "@jupyter-widgets/base",
      "model_module_version": "1.1.0",
      "model_name": "LayoutModel",
      "state": {}
     },
     "e0da2bf23dfd4f0bb3d9e8888344161f": {
      "model_module": "@jupyter-widgets/base",
      "model_module_version": "1.1.0",
      "model_name": "LayoutModel",
      "state": {}
     },
     "e0f9f8ed74944beea8e2ec346a5c7b76": {
      "model_module": "@jupyter-widgets/controls",
      "model_module_version": "1.4.0",
      "model_name": "DescriptionStyleModel",
      "state": {
       "description_width": ""
      }
     },
     "e1146b24849d4d29b45869f82c5c99e2": {
      "model_module": "@jupyter-widgets/base",
      "model_module_version": "1.1.0",
      "model_name": "LayoutModel",
      "state": {}
     },
     "e1a9f0a25c014e38ac29160ef4486236": {
      "model_module": "@jupyter-widgets/controls",
      "model_module_version": "1.4.0",
      "model_name": "DescriptionStyleModel",
      "state": {
       "description_width": ""
      }
     },
     "e1b1b77f81d74248903c9d8b189686af": {
      "model_module": "@jupyter-widgets/base",
      "model_module_version": "1.1.0",
      "model_name": "LayoutModel",
      "state": {}
     },
     "e1c34d23ba4f4c8ea546c497c4a74ac4": {
      "model_module": "@jupyter-widgets/base",
      "model_module_version": "1.1.0",
      "model_name": "LayoutModel",
      "state": {}
     },
     "e1ee2c634858408498e56cd4be772b89": {
      "model_module": "@jupyter-widgets/base",
      "model_module_version": "1.1.0",
      "model_name": "LayoutModel",
      "state": {}
     },
     "e223b7b049a94cfa90258a59ddcff029": {
      "model_module": "@jupyter-widgets/controls",
      "model_module_version": "1.4.0",
      "model_name": "DropdownModel",
      "state": {
       "_options_labels": [
        "Acceleration",
        "Cylinders",
        "Displacement",
        "Horsepower",
        "Miles_per_Gallon",
        "Name",
        "Origin",
        "Weight_in_lbs",
        "Year"
       ],
       "description": "size",
       "index": 0,
       "layout": "IPY_MODEL_d5f20d72de8842a284003a20eb80ca08",
       "style": "IPY_MODEL_6b8d7b4af2cb4fe2a8c80f7dad0a8370"
      }
     },
     "e255a6f438644a9598ef8ecf15a12ffa": {
      "model_module": "@jupyter-widgets/base",
      "model_module_version": "1.1.0",
      "model_name": "LayoutModel",
      "state": {}
     },
     "e27518deb63541619083af1518e33841": {
      "model_module": "@jupyter-widgets/base",
      "model_module_version": "1.1.0",
      "model_name": "LayoutModel",
      "state": {}
     },
     "e27cf4e7c98d4a2db61558d6f67b78ba": {
      "model_module": "@jupyter-widgets/base",
      "model_module_version": "1.1.0",
      "model_name": "LayoutModel",
      "state": {}
     },
     "e28207253c0e4f7f981ff5bb58af60c6": {
      "model_module": "@jupyter-widgets/base",
      "model_module_version": "1.1.0",
      "model_name": "LayoutModel",
      "state": {}
     },
     "e291926b1cdd4f7493e80a936c96610b": {
      "model_module": "@jupyter-widgets/controls",
      "model_module_version": "1.4.0",
      "model_name": "ButtonModel",
      "state": {
       "description": "remove",
       "layout": "IPY_MODEL_eb252e275cfa4bb9b0d8ec2f61b9c7bb",
       "style": "IPY_MODEL_dfc447a145a1446e94db57f26859367b"
      }
     },
     "e354f7e9ede14e02b9b4c3dee80b3095": {
      "model_module": "@jupyter-widgets/controls",
      "model_module_version": "1.4.0",
      "model_name": "DescriptionStyleModel",
      "state": {
       "description_width": ""
      }
     },
     "e36931d834cb4061aacc9c870feca53f": {
      "model_module": "@jupyter-widgets/controls",
      "model_module_version": "1.4.0",
      "model_name": "ButtonStyleModel",
      "state": {}
     },
     "e389dc34365e4468883fff480ab4acbd": {
      "model_module": "@jupyter-widgets/controls",
      "model_module_version": "1.4.0",
      "model_name": "TextModel",
      "state": {
       "description": "linecolor",
       "layout": "IPY_MODEL_9c3907835ef2476d936004ca01060398",
       "style": "IPY_MODEL_b6c885e8dddf49eaa148f38a4c9f9608"
      }
     },
     "e3aa0115c19546a084eb803d64353fef": {
      "model_module": "@jupyter-widgets/base",
      "model_module_version": "1.1.0",
      "model_name": "LayoutModel",
      "state": {}
     },
     "e3b05f03358440dc817070da22131a01": {
      "model_module": "@jupyter-widgets/base",
      "model_module_version": "1.1.0",
      "model_name": "LayoutModel",
      "state": {}
     },
     "e4154a737bd54c22b276522169994561": {
      "model_module": "@jupyter-widgets/base",
      "model_module_version": "1.1.0",
      "model_name": "LayoutModel",
      "state": {}
     },
     "e4364be780524af9934b19b8ddb35f7b": {
      "model_module": "@jupyter-widgets/controls",
      "model_module_version": "1.4.0",
      "model_name": "DescriptionStyleModel",
      "state": {
       "description_width": ""
      }
     },
     "e47096d8808646779b296d2b1f72516a": {
      "model_module": "@jupyter-widgets/base",
      "model_module_version": "1.1.0",
      "model_name": "LayoutModel",
      "state": {}
     },
     "e4868b66abc74f3daf02e073c827908f": {
      "model_module": "@jupyter-widgets/base",
      "model_module_version": "1.1.0",
      "model_name": "LayoutModel",
      "state": {}
     },
     "e498f75938224506826a8fc0321fe9ba": {
      "model_module": "@jupyter-widgets/controls",
      "model_module_version": "1.4.0",
      "model_name": "DescriptionStyleModel",
      "state": {
       "description_width": ""
      }
     },
     "e4a7bfbb65c54614bebe721c190a21ea": {
      "model_module": "@jupyter-widgets/controls",
      "model_module_version": "1.4.0",
      "model_name": "TextModel",
      "state": {
       "description": "linecolor",
       "layout": "IPY_MODEL_8f4229639157468282662d04b22d617f",
       "style": "IPY_MODEL_19ce675fa19c4cada131ea7ca28ded3c"
      }
     },
     "e4dd4f0e263647d7a9bccc7c78702d99": {
      "model_module": "@jupyter-widgets/base",
      "model_module_version": "1.1.0",
      "model_name": "LayoutModel",
      "state": {}
     },
     "e582d56595bf47739da8b40106940e6b": {
      "model_module": "@jupyter-widgets/controls",
      "model_module_version": "1.4.0",
      "model_name": "DropdownModel",
      "state": {
       "_options_labels": [
        "scatter",
        "reg",
        "resid",
        "kde",
        "hex"
       ],
       "description": "kind",
       "index": 0,
       "layout": "IPY_MODEL_837a71b4b4654054b1db32de1e6e5882",
       "style": "IPY_MODEL_162d53e743a84b618efb7006eacaef9f"
      }
     },
     "e589cd3cc387441ebc187a8a8270bd50": {
      "model_module": "@jupyter-widgets/controls",
      "model_module_version": "1.4.0",
      "model_name": "HBoxModel",
      "state": {
       "children": [
        "IPY_MODEL_95daa4e3f69a49beb6bd33c0422a2431",
        "IPY_MODEL_8d3c49dca192418f8915774bd5b1d4df"
       ],
       "layout": "IPY_MODEL_c66d9c4b940b4bb7bdbc384a57f0acd6"
      }
     },
     "e58f51de3f5d4ab28843949c2c8ef3cb": {
      "model_module": "@jupyter-widgets/controls",
      "model_module_version": "1.4.0",
      "model_name": "DescriptionStyleModel",
      "state": {
       "description_width": ""
      }
     },
     "e58f90e6935d4aa1aa1098e56cda1e98": {
      "model_module": "@jupyter-widgets/base",
      "model_module_version": "1.1.0",
      "model_name": "LayoutModel",
      "state": {}
     },
     "e5b7a7087b264b00bb85c62c5ee2c59d": {
      "model_module": "@jupyter-widgets/base",
      "model_module_version": "1.1.0",
      "model_name": "LayoutModel",
      "state": {}
     },
     "e5d2b0cc4318400593f837ee15405135": {
      "model_module": "@jupyter-widgets/controls",
      "model_module_version": "1.4.0",
      "model_name": "DescriptionStyleModel",
      "state": {
       "description_width": ""
      }
     },
     "e5e2760efef84f06803d552accacead4": {
      "model_module": "@jupyter-widgets/base",
      "model_module_version": "1.1.0",
      "model_name": "LayoutModel",
      "state": {}
     },
     "e5e3f8076b954917b50961e87ee2510f": {
      "model_module": "@jupyter-widgets/base",
      "model_module_version": "1.1.0",
      "model_name": "LayoutModel",
      "state": {}
     },
     "e602aff6faa542e0adb56ad66f7fc829": {
      "model_module": "@jupyter-widgets/controls",
      "model_module_version": "1.4.0",
      "model_name": "DropdownModel",
      "state": {
       "_options_labels": [
        "scatter",
        "reg",
        "resid",
        "kde",
        "hex"
       ],
       "description": "kind",
       "index": 0,
       "layout": "IPY_MODEL_1c42edda5536495daad67bf17e59202d",
       "style": "IPY_MODEL_f7ea7cd98e5b467f9b3fd5a8bf7a4deb"
      }
     },
     "e64eb193ff6141e9a8d0a71b6b5e6178": {
      "model_module": "@jupyter-widgets/controls",
      "model_module_version": "1.4.0",
      "model_name": "ButtonStyleModel",
      "state": {}
     },
     "e66dce50cda94fc29b7ca1a4130f7e47": {
      "model_module": "@jupyter-widgets/controls",
      "model_module_version": "1.4.0",
      "model_name": "DescriptionStyleModel",
      "state": {
       "description_width": ""
      }
     },
     "e683656a492e45a98150d3a60c83588f": {
      "model_module": "@jupyter-widgets/base",
      "model_module_version": "1.1.0",
      "model_name": "LayoutModel",
      "state": {}
     },
     "e6956c8824274c8ea9aad11908c8404e": {
      "model_module": "@jupyter-widgets/controls",
      "model_module_version": "1.4.0",
      "model_name": "IntTextModel",
      "state": {
       "description": "col_wrap",
       "layout": "IPY_MODEL_cfaa3fa8dc054f32bd0ac4caa10b30d7",
       "step": 1,
       "style": "IPY_MODEL_b889937b6d0a4156a235f0f913c76817",
       "value": 10
      }
     },
     "e6a64fcf64a348bcacff0a9d217cc5ce": {
      "model_module": "@jupyter-widgets/base",
      "model_module_version": "1.1.0",
      "model_name": "LayoutModel",
      "state": {}
     },
     "e6c67d05b42c478eb5f90550e7aa99eb": {
      "model_module": "@jupyter-widgets/base",
      "model_module_version": "1.1.0",
      "model_name": "LayoutModel",
      "state": {}
     },
     "e70aab9012f441c1976d52a2b6245712": {
      "model_module": "@jupyter-widgets/base",
      "model_module_version": "1.1.0",
      "model_name": "LayoutModel",
      "state": {}
     },
     "e721702421a34039a18ffe97fb6e8161": {
      "model_module": "@jupyter-widgets/controls",
      "model_module_version": "1.4.0",
      "model_name": "FloatTextModel",
      "state": {
       "description": "aspect",
       "layout": "IPY_MODEL_a97c58b011e0445685c70c984244704c",
       "step": null,
       "style": "IPY_MODEL_0f882b2d4a3f4fd49697d1a73ef283d4",
       "value": 1
      }
     },
     "e72b0909af8d4916963e0b09d282b81a": {
      "model_module": "@jupyter-widgets/controls",
      "model_module_version": "1.4.0",
      "model_name": "DescriptionStyleModel",
      "state": {
       "description_width": ""
      }
     },
     "e78daf83997848aa854a159def59aa80": {
      "model_module": "@jupyter-widgets/base",
      "model_module_version": "1.1.0",
      "model_name": "LayoutModel",
      "state": {}
     },
     "e7988f336af64becb814c2f22b194868": {
      "model_module": "@jupyter-widgets/base",
      "model_module_version": "1.1.0",
      "model_name": "LayoutModel",
      "state": {}
     },
     "e8020f522a2449a6addbd9ac2f80df1b": {
      "model_module": "@jupyter-widgets/base",
      "model_module_version": "1.1.0",
      "model_name": "LayoutModel",
      "state": {}
     },
     "e806d6b8459c433e96ed1f61947d5ba2": {
      "model_module": "@jupyter-widgets/controls",
      "model_module_version": "1.4.0",
      "model_name": "ButtonStyleModel",
      "state": {}
     },
     "e8174d59cca84eeda3f6b8c1e1b3c238": {
      "model_module": "@jupyter-widgets/controls",
      "model_module_version": "1.4.0",
      "model_name": "DropdownModel",
      "state": {
       "_options_labels": [
        "linear",
        "exponential",
        "area"
       ],
       "description": "scale",
       "index": 0,
       "layout": "IPY_MODEL_cab4321080704c2c83765fa4d7ec0080",
       "style": "IPY_MODEL_2d5d6ae436b541658959ce4f6087f1b9"
      }
     },
     "e819d8527c3941e9ac1d584c7454e978": {
      "model_module": "@jupyter-widgets/controls",
      "model_module_version": "1.4.0",
      "model_name": "IntSliderModel",
      "state": {
       "description": "ci",
       "layout": "IPY_MODEL_6e9a3e556be241d0ae0f246401867ba6",
       "style": "IPY_MODEL_c9bc02978b6e492c9d4b73e5d5220d34",
       "value": 95
      }
     },
     "e8208cfe11394fce940fbf17358b8494": {
      "model_module": "@jupyter-widgets/controls",
      "model_module_version": "1.4.0",
      "model_name": "CheckboxModel",
      "state": {
       "description": "cbar",
       "disabled": false,
       "layout": "IPY_MODEL_e1b1b77f81d74248903c9d8b189686af",
       "style": "IPY_MODEL_018762811e1a49acbd46678ee067d4a1",
       "value": false
      }
     },
     "e832b2c990a041aa86bef8cdded0dab7": {
      "model_module": "@jupyter-widgets/controls",
      "model_module_version": "1.4.0",
      "model_name": "DropdownModel",
      "state": {
       "_options_labels": [
        "barplot",
        "boxenplot",
        "boxplot",
        "catplot",
        "countplot",
        "distplot",
        "heatmap",
        "jointplot",
        "kdeplot",
        "lineplot",
        "lmplot",
        "pairplot",
        "pointplot",
        "regplot",
        "relplot",
        "residplot",
        "scatterplot",
        "stripplot",
        "swarmplot",
        "violinplot"
       ],
       "description": "Plot type",
       "index": 1,
       "layout": "IPY_MODEL_9aeb5a79300a464f892fab25a9230790",
       "style": "IPY_MODEL_a42291b1f3e14300b648b69d29c73f46"
      }
     },
     "e8eb5e222f604321af213550e9f590a5": {
      "model_module": "@jupyter-widgets/base",
      "model_module_version": "1.1.0",
      "model_name": "LayoutModel",
      "state": {}
     },
     "e8f742b8ed6f476e83f04203305fa432": {
      "model_module": "@jupyter-widgets/controls",
      "model_module_version": "1.4.0",
      "model_name": "FloatTextModel",
      "state": {
       "description": "width",
       "layout": "IPY_MODEL_2377b0d6ee034bfe83b8aa9937691887",
       "step": null,
       "style": "IPY_MODEL_6e7e5fe6db3040aca0e959f706bbd177",
       "value": 1
      }
     },
     "e9538930be4044a9bd9f9c201f9ed03a": {
      "model_module": "@jupyter-widgets/base",
      "model_module_version": "1.1.0",
      "model_name": "LayoutModel",
      "state": {}
     },
     "e9652f16870542c5b6d080a67f622f7c": {
      "model_module": "@jupyter-widgets/controls",
      "model_module_version": "1.4.0",
      "model_name": "DropdownModel",
      "state": {
       "_options_labels": [
        "Acceleration",
        "Cylinders",
        "Displacement",
        "Horsepower",
        "Miles_per_Gallon",
        "Name",
        "Origin",
        "Weight_in_lbs",
        "Year"
       ],
       "description": "hue",
       "index": 0,
       "layout": "IPY_MODEL_85e20c92bb1b4116acb7e148560d3ba5",
       "style": "IPY_MODEL_75aac7305f0e437081e828435a0ca87e"
      }
     },
     "e98693a894ca4a62bc5a140184552ff9": {
      "model_module": "@jupyter-widgets/controls",
      "model_module_version": "1.4.0",
      "model_name": "DescriptionStyleModel",
      "state": {
       "description_width": ""
      }
     },
     "e9a8f8b2ed9840bd95c978b4d9c4d825": {
      "model_module": "@jupyter-widgets/controls",
      "model_module_version": "1.4.0",
      "model_name": "DescriptionStyleModel",
      "state": {
       "description_width": ""
      }
     },
     "e9c2a8cc6e7f47f88f80626981502ee4": {
      "model_module": "@jupyter-widgets/base",
      "model_module_version": "1.1.0",
      "model_name": "LayoutModel",
      "state": {}
     },
     "e9e3920c8626477db64cd6e6db56693a": {
      "model_module": "@jupyter-widgets/controls",
      "model_module_version": "1.4.0",
      "model_name": "DropdownModel",
      "state": {
       "_options_labels": [
        "row",
        "col",
        "True"
       ],
       "description": "sharey",
       "index": 0,
       "layout": "IPY_MODEL_b54e6bde8d794b77a5a12b9c583f8423",
       "style": "IPY_MODEL_6ad21e6eb2ff4d82b5dc7088dacf472b"
      }
     },
     "ea1d417607404a44a8aed15577e28240": {
      "model_module": "@jupyter-widgets/controls",
      "model_module_version": "1.4.0",
      "model_name": "DescriptionStyleModel",
      "state": {
       "description_width": ""
      }
     },
     "ea2c696a27d242f9a7ce22dcc71f2118": {
      "model_module": "@jupyter-widgets/controls",
      "model_module_version": "1.4.0",
      "model_name": "DescriptionStyleModel",
      "state": {
       "description_width": ""
      }
     },
     "ea459fe6f4404f508bf5ac6a0948f2c1": {
      "model_module": "@jupyter-widgets/controls",
      "model_module_version": "1.4.0",
      "model_name": "CheckboxModel",
      "state": {
       "description": "cbar_ax",
       "disabled": false,
       "layout": "IPY_MODEL_bcdeaf67dcea491da2439d50e4efd5b6",
       "style": "IPY_MODEL_b92b23a50a83437d8b69b27cef0661d6",
       "value": false
      }
     },
     "ea4d18d2bdf34a33a2a35ee3e56ece19": {
      "model_module": "@jupyter-widgets/base",
      "model_module_version": "1.1.0",
      "model_name": "LayoutModel",
      "state": {}
     },
     "ea50c305e2fb4f85aa09690b249faa40": {
      "model_module": "@jupyter-widgets/base",
      "model_module_version": "1.1.0",
      "model_name": "LayoutModel",
      "state": {}
     },
     "ea6603485daa424aa90b0ecb0073eac9": {
      "model_module": "@jupyter-widgets/controls",
      "model_module_version": "1.4.0",
      "model_name": "DescriptionStyleModel",
      "state": {
       "description_width": ""
      }
     },
     "ea93982d1e2a4526afa23b32a5a398b4": {
      "model_module": "@jupyter-widgets/controls",
      "model_module_version": "1.4.0",
      "model_name": "DropdownModel",
      "state": {
       "_options_labels": [
        "Name",
        "Year",
        "Miles_per_Gallon",
        "Origin",
        "Cylinders",
        "Displacement",
        "Acceleration",
        "Horsepower",
        "Weight_in_lbs"
       ],
       "description": "sizes",
       "index": 0,
       "layout": "IPY_MODEL_978c4bf9ad41478bb568b87d1cb98d84",
       "style": "IPY_MODEL_42b55f1301904ccea3597f7d76bc399c"
      }
     },
     "eb252e275cfa4bb9b0d8ec2f61b9c7bb": {
      "model_module": "@jupyter-widgets/base",
      "model_module_version": "1.1.0",
      "model_name": "LayoutModel",
      "state": {}
     },
     "eb8df3117e68491fa400c36eef8912d9": {
      "model_module": "@jupyter-widgets/controls",
      "model_module_version": "1.4.0",
      "model_name": "IntTextModel",
      "state": {
       "description": "order",
       "layout": "IPY_MODEL_d890acdb9f0147c98bd2a80c9c6561b4",
       "step": 1,
       "style": "IPY_MODEL_f8b9a20d26c74b069a2f00878fca8d68",
       "value": 1
      }
     },
     "eb950b1b818146c08c6a2a92d10d2598": {
      "model_module": "@jupyter-widgets/controls",
      "model_module_version": "1.4.0",
      "model_name": "CheckboxModel",
      "state": {
       "description": "shade",
       "disabled": false,
       "layout": "IPY_MODEL_ec7a08956c9c434caa36924c19ea4faa",
       "style": "IPY_MODEL_acda6a357dba4130a3a6390274675242",
       "value": false
      }
     },
     "ebc6a6b8f106484ba53bd7ec4bc57de0": {
      "model_module": "@jupyter-widgets/controls",
      "model_module_version": "1.4.0",
      "model_name": "DescriptionStyleModel",
      "state": {
       "description_width": ""
      }
     },
     "ebe4e20c01fa4603ba557fca63089692": {
      "model_module": "@jupyter-widgets/controls",
      "model_module_version": "1.4.0",
      "model_name": "DescriptionStyleModel",
      "state": {
       "description_width": ""
      }
     },
     "ebfde110b5af4b019e24de4a8f14cc10": {
      "model_module": "@jupyter-widgets/controls",
      "model_module_version": "1.4.0",
      "model_name": "CheckboxModel",
      "state": {
       "description": "truncate",
       "disabled": false,
       "layout": "IPY_MODEL_ef3cc14cea144fdca85ccc75aa6fe9d2",
       "style": "IPY_MODEL_d419a1227a6b4d58bf5712bb90b82514",
       "value": false
      }
     },
     "ec07b02b8ab448b593251e48c330ae23": {
      "model_module": "@jupyter-widgets/controls",
      "model_module_version": "1.4.0",
      "model_name": "DropdownModel",
      "state": {
       "_options_labels": [
        "scatter",
        "reg"
       ],
       "description": "kind",
       "index": 0,
       "layout": "IPY_MODEL_783858c59a754950abfd650d6429f574",
       "style": "IPY_MODEL_cbb48d9d6a434708b4c8a3a3472638ef"
      }
     },
     "ec1c2988bc79448b9f424c070bc31004": {
      "model_module": "@jupyter-widgets/base",
      "model_module_version": "1.1.0",
      "model_name": "LayoutModel",
      "state": {}
     },
     "ec46c0357dad417c8058e0166af1dc62": {
      "model_module": "@jupyter-widgets/base",
      "model_module_version": "1.1.0",
      "model_name": "LayoutModel",
      "state": {}
     },
     "ec471a429c394cb09ea4364b8e5f70c8": {
      "model_module": "@jupyter-widgets/controls",
      "model_module_version": "1.4.0",
      "model_name": "DescriptionStyleModel",
      "state": {
       "description_width": ""
      }
     },
     "ec5edcea49fc4db6bc7d6444e102c26a": {
      "model_module": "@jupyter-widgets/controls",
      "model_module_version": "1.4.0",
      "model_name": "FloatTextModel",
      "state": {
       "description": "vmax",
       "layout": "IPY_MODEL_fe42c58471424845be1d7a57aa5fff0d",
       "step": null,
       "style": "IPY_MODEL_c8f74cd5147d4c3b8ef3fe6066508ea5",
       "value": 1
      }
     },
     "ec7a08956c9c434caa36924c19ea4faa": {
      "model_module": "@jupyter-widgets/base",
      "model_module_version": "1.1.0",
      "model_name": "LayoutModel",
      "state": {}
     },
     "ec82eda3d0294435897162b4ea59b7b4": {
      "model_module": "@jupyter-widgets/base",
      "model_module_version": "1.1.0",
      "model_name": "LayoutModel",
      "state": {}
     },
     "ec984f9ebb4e4c48883bb827dbe98790": {
      "model_module": "@jupyter-widgets/controls",
      "model_module_version": "1.4.0",
      "model_name": "SliderStyleModel",
      "state": {
       "description_width": ""
      }
     },
     "eca0ca02955f44fcb0c32f9d8cf74163": {
      "model_module": "@jupyter-widgets/base",
      "model_module_version": "1.1.0",
      "model_name": "LayoutModel",
      "state": {}
     },
     "ecdd35e6296a4b4e83669536d4649fb0": {
      "model_module": "@jupyter-widgets/base",
      "model_module_version": "1.1.0",
      "model_name": "LayoutModel",
      "state": {}
     },
     "eda26bdbc07941548cb3e621ef2479f4": {
      "model_module": "@jupyter-widgets/controls",
      "model_module_version": "1.4.0",
      "model_name": "DescriptionStyleModel",
      "state": {
       "description_width": ""
      }
     },
     "edeb6d7942e34d33b2cac005bb1d8996": {
      "model_module": "@jupyter-widgets/controls",
      "model_module_version": "1.4.0",
      "model_name": "CheckboxModel",
      "state": {
       "description": "join",
       "disabled": false,
       "layout": "IPY_MODEL_d3e23a95744b43569433c04b06f88ffe",
       "style": "IPY_MODEL_e66dce50cda94fc29b7ca1a4130f7e47",
       "value": false
      }
     },
     "ee000dcccb1b49d8af70011cf735574b": {
      "model_module": "@jupyter-widgets/controls",
      "model_module_version": "1.4.0",
      "model_name": "DescriptionStyleModel",
      "state": {
       "description_width": ""
      }
     },
     "ee002b71944441b18ed3e550241241b7": {
      "model_module": "@jupyter-widgets/controls",
      "model_module_version": "1.4.0",
      "model_name": "IntTextModel",
      "state": {
       "description": "n_boot",
       "layout": "IPY_MODEL_7d96b7a008e4420e898490396d0cb564",
       "step": 1,
       "style": "IPY_MODEL_83e15bcdcdde42378d32eee17f48fabc",
       "value": 10000
      }
     },
     "ee173d87176c441c9fddf65a7ee7678d": {
      "model_module": "@jupyter-widgets/controls",
      "model_module_version": "1.4.0",
      "model_name": "DescriptionStyleModel",
      "state": {
       "description_width": ""
      }
     },
     "ee1f3d8e9191438c81d858ed1f028a0b": {
      "model_module": "@jupyter-widgets/controls",
      "model_module_version": "1.4.0",
      "model_name": "ButtonModel",
      "state": {
       "description": "remove",
       "layout": "IPY_MODEL_6e9bc66f17064008a4da73ac8e294521",
       "style": "IPY_MODEL_f0b3b62458924ff8bd68ba48bbcc42a4"
      }
     },
     "ee583968d9594889bb50d85e42a3a814": {
      "model_module": "@jupyter-widgets/controls",
      "model_module_version": "1.4.0",
      "model_name": "DescriptionStyleModel",
      "state": {
       "description_width": ""
      }
     },
     "ee826ee77a364c83966e46ca84086275": {
      "model_module": "@jupyter-widgets/controls",
      "model_module_version": "1.4.0",
      "model_name": "ButtonStyleModel",
      "state": {}
     },
     "eea15025ef5f48beafaf824f02559584": {
      "model_module": "@jupyter-widgets/base",
      "model_module_version": "1.1.0",
      "model_name": "LayoutModel",
      "state": {}
     },
     "ef3cc14cea144fdca85ccc75aa6fe9d2": {
      "model_module": "@jupyter-widgets/base",
      "model_module_version": "1.1.0",
      "model_name": "LayoutModel",
      "state": {}
     },
     "ef5c01a0369a4ba8af0adb3303fd2c42": {
      "model_module": "@jupyter-widgets/controls",
      "model_module_version": "1.4.0",
      "model_name": "DropdownModel",
      "state": {
       "_options_labels": [
        "auto",
        "hist",
        "kde"
       ],
       "description": "diag_kind",
       "index": 0,
       "layout": "IPY_MODEL_96e5a9951b3b426692692676e1819e19",
       "style": "IPY_MODEL_104c91f7d9d34ba5b022868e3bd9a457"
      }
     },
     "ef6f828d8477432d85e14e3a1f97845a": {
      "model_module": "@jupyter-widgets/controls",
      "model_module_version": "1.4.0",
      "model_name": "DescriptionStyleModel",
      "state": {
       "description_width": ""
      }
     },
     "efefd816811443ccb5517679715f42a3": {
      "model_module": "@jupyter-widgets/controls",
      "model_module_version": "1.4.0",
      "model_name": "DescriptionStyleModel",
      "state": {
       "description_width": ""
      }
     },
     "effa562d631b47abaa710f97ce122ac6": {
      "model_module": "@jupyter-widgets/controls",
      "model_module_version": "1.4.0",
      "model_name": "CheckboxModel",
      "state": {
       "description": "auto-update",
       "disabled": false,
       "layout": "IPY_MODEL_55fe3f2f79944582b6457492cea3d76d",
       "style": "IPY_MODEL_753e8845ce2a498298966aa1b8126a32",
       "value": true
      }
     },
     "f071219ea8194fc28e384d5da4e4eec0": {
      "model_module": "@jupyter-widgets/controls",
      "model_module_version": "1.4.0",
      "model_name": "FloatTextModel",
      "state": {
       "description": "scale",
       "layout": "IPY_MODEL_be616c0019ec40549a494e9755a8166b",
       "step": null,
       "style": "IPY_MODEL_c377320f701940409bdfb922d3ef8bcf",
       "value": 1
      }
     },
     "f0abf883770644dca196fbdd7f6ab2d1": {
      "model_module": "@jupyter-widgets/base",
      "model_module_version": "1.1.0",
      "model_name": "LayoutModel",
      "state": {}
     },
     "f0b3b62458924ff8bd68ba48bbcc42a4": {
      "model_module": "@jupyter-widgets/controls",
      "model_module_version": "1.4.0",
      "model_name": "ButtonStyleModel",
      "state": {}
     },
     "f0df0f93ebd3498fa3ba36e3cec85f4e": {
      "model_module": "@jupyter-widgets/controls",
      "model_module_version": "1.4.0",
      "model_name": "FloatTextModel",
      "state": {
       "description": "vmin",
       "layout": "IPY_MODEL_d97f37bce8ae49a686f990a37b1f1aa0",
       "step": null,
       "style": "IPY_MODEL_9638951ce51a4754b2f5edf4e3257c0e",
       "value": 1
      }
     },
     "f0dfb55273f44673b94a7834361649c1": {
      "model_module": "@jupyter-widgets/base",
      "model_module_version": "1.1.0",
      "model_name": "LayoutModel",
      "state": {}
     },
     "f0fbc494b40b4da8b29fc610a1204798": {
      "model_module": "@jupyter-widgets/controls",
      "model_module_version": "1.4.0",
      "model_name": "LabelModel",
      "state": {
       "layout": "IPY_MODEL_894e91672c984fbeb93e2a68e87c191e",
       "style": "IPY_MODEL_74eb1c6b662f48fb870916322becad7a",
       "value": "---"
      }
     },
     "f11756978374449d8d6147e55ce0b88b": {
      "model_module": "@jupyter-widgets/base",
      "model_module_version": "1.1.0",
      "model_name": "LayoutModel",
      "state": {}
     },
     "f182250c33bf4c0e8c49add73ac907c9": {
      "model_module": "@jupyter-widgets/controls",
      "model_module_version": "1.4.0",
      "model_name": "DescriptionStyleModel",
      "state": {
       "description_width": ""
      }
     },
     "f19c9b2bb206421e835adbc9fa3abdd1": {
      "model_module": "@jupyter-widgets/controls",
      "model_module_version": "1.4.0",
      "model_name": "DescriptionStyleModel",
      "state": {
       "description_width": ""
      }
     },
     "f1b460953852427f872ef37c6f58343e": {
      "model_module": "@jupyter-widgets/controls",
      "model_module_version": "1.4.0",
      "model_name": "HBoxModel",
      "state": {
       "children": [
        "IPY_MODEL_8a8e2f362285497898175e9b6b9395f7",
        "IPY_MODEL_582a5c1b2e5a411a90ddd2be9b2365a8"
       ],
       "layout": "IPY_MODEL_98270d9b40b046ac9f8824d0147f1f34"
      }
     },
     "f1b6d1535c6a480fbc8b99dec3e30e1b": {
      "model_module": "@jupyter-widgets/base",
      "model_module_version": "1.1.0",
      "model_name": "LayoutModel",
      "state": {}
     },
     "f1be44a397c0435cbb4f96423da13b67": {
      "model_module": "@jupyter-widgets/controls",
      "model_module_version": "1.4.0",
      "model_name": "FloatTextModel",
      "state": {
       "description": "errwidth",
       "layout": "IPY_MODEL_c3c61d4b2d47481c9e801bdd580ee1d1",
       "step": null,
       "style": "IPY_MODEL_bdc8e2ea8ce94c25a10a692d99e5c756",
       "value": 1
      }
     },
     "f1c2ee9687f94eccb77726ae063816e0": {
      "model_module": "@jupyter-widgets/controls",
      "model_module_version": "1.4.0",
      "model_name": "DescriptionStyleModel",
      "state": {
       "description_width": ""
      }
     },
     "f1cbbfec944a4a3e8f6fa50238db0e04": {
      "model_module": "@jupyter-widgets/controls",
      "model_module_version": "1.4.0",
      "model_name": "FloatTextModel",
      "state": {
       "description": "aspect",
       "layout": "IPY_MODEL_8b71072f9d32497cb3b24cc97f4e4002",
       "step": null,
       "style": "IPY_MODEL_8f4f77616fbc4bfba54ccf4297a0c79c",
       "value": 1
      }
     },
     "f1f45c078dd14f819ece83fa1aec1548": {
      "model_module": "@jupyter-widgets/controls",
      "model_module_version": "1.4.0",
      "model_name": "DescriptionStyleModel",
      "state": {
       "description_width": ""
      }
     },
     "f262a43ca1af42b98e9239c4be03debf": {
      "model_module": "@jupyter-widgets/controls",
      "model_module_version": "1.4.0",
      "model_name": "LabelModel",
      "state": {
       "layout": "IPY_MODEL_82a4e5081f144cf6925de9fc5f3d6281",
       "style": "IPY_MODEL_eda26bdbc07941548cb3e621ef2479f4",
       "value": "---"
      }
     },
     "f27db6aa3dc24121993925c0a04b574a": {
      "model_module": "@jupyter-widgets/controls",
      "model_module_version": "1.4.0",
      "model_name": "CheckboxModel",
      "state": {
       "description": "norm_hist",
       "disabled": false,
       "layout": "IPY_MODEL_c885562ae71c4bd08a69b6293295ed46",
       "style": "IPY_MODEL_847257eb144641989b32c5334492e9d5",
       "value": false
      }
     },
     "f28973805ad6453fb7bbd236ae43499b": {
      "model_module": "@jupyter-widgets/controls",
      "model_module_version": "1.4.0",
      "model_name": "ButtonStyleModel",
      "state": {}
     },
     "f2d84912bbd0496da1cd3589c288367a": {
      "model_module": "@jupyter-widgets/controls",
      "model_module_version": "1.4.0",
      "model_name": "DescriptionStyleModel",
      "state": {
       "description_width": ""
      }
     },
     "f2dc1e794ec442f0a872ffcf76585541": {
      "model_module": "@jupyter-widgets/base",
      "model_module_version": "1.1.0",
      "model_name": "LayoutModel",
      "state": {}
     },
     "f31f5d7dfa874782a4a879f706b27519": {
      "model_module": "@jupyter-widgets/base",
      "model_module_version": "1.1.0",
      "model_name": "LayoutModel",
      "state": {}
     },
     "f326a11d2d454c85901b97464e0ad0d7": {
      "model_module": "@jupyter-widgets/base",
      "model_module_version": "1.1.0",
      "model_name": "LayoutModel",
      "state": {}
     },
     "f32ab3a0036446ce9345b32d25810730": {
      "model_module": "@jupyter-widgets/base",
      "model_module_version": "1.1.0",
      "model_name": "LayoutModel",
      "state": {}
     },
     "f3551077bc3e4ed0a78f4b7c1a22c8f6": {
      "model_module": "@jupyter-widgets/controls",
      "model_module_version": "1.4.0",
      "model_name": "HBoxModel",
      "state": {
       "children": [
        "IPY_MODEL_a9690d503c29458eb5fa99ed97ecb43c",
        "IPY_MODEL_c3ddc631f9ca40e58dd1bd9fd102f6b3"
       ],
       "layout": "IPY_MODEL_1ef3b1b59282420ea6166d0d9fb9a92a"
      }
     },
     "f39994ea8e304bb9b773a7c746e608b9": {
      "model_module": "@jupyter-widgets/base",
      "model_module_version": "1.1.0",
      "model_name": "LayoutModel",
      "state": {}
     },
     "f39bd55e976249eeb8cabc3268cdaa4f": {
      "model_module": "@jupyter-widgets/base",
      "model_module_version": "1.1.0",
      "model_name": "LayoutModel",
      "state": {}
     },
     "f3db147f496d4e26a6c875b520b849c8": {
      "model_module": "@jupyter-widgets/base",
      "model_module_version": "1.1.0",
      "model_name": "LayoutModel",
      "state": {}
     },
     "f3f0f669cc5a44fcbde308aa1779f00c": {
      "model_module": "@jupyter-widgets/controls",
      "model_module_version": "1.4.0",
      "model_name": "IntSliderModel",
      "state": {
       "description": "x_ci",
       "layout": "IPY_MODEL_15e2f0a060bc4eb084077f8fd3291e29",
       "style": "IPY_MODEL_c7c97366110d49dab2049684421fc792",
       "value": 95
      }
     },
     "f439f69c80b64c5cb755ceecf71f73a3": {
      "model_module": "@jupyter-widgets/base",
      "model_module_version": "1.1.0",
      "model_name": "LayoutModel",
      "state": {}
     },
     "f47ffab624864e3bba38de290b807a03": {
      "model_module": "@jupyter-widgets/controls",
      "model_module_version": "1.4.0",
      "model_name": "CheckboxModel",
      "state": {
       "description": "logx",
       "disabled": false,
       "layout": "IPY_MODEL_daf56aef53dc4f5a8b90185b53f05e3b",
       "style": "IPY_MODEL_360120cbd511486987535f1ce84a1421",
       "value": false
      }
     },
     "f491cebf9320482eb32ad601b186008e": {
      "model_module": "@jupyter-widgets/controls",
      "model_module_version": "1.4.0",
      "model_name": "DropdownModel",
      "state": {
       "_options_labels": [
        "row",
        "col",
        "True"
       ],
       "description": "sharey",
       "index": 0,
       "layout": "IPY_MODEL_17a5dc0e695841d5aa7bbd5951fe1c27",
       "style": "IPY_MODEL_5945ccc1fb60498396a0b0a7b887410e"
      }
     },
     "f4ce2b4c20254a3aa0f61030a1974901": {
      "model_module": "@jupyter-widgets/controls",
      "model_module_version": "1.4.0",
      "model_name": "DescriptionStyleModel",
      "state": {
       "description_width": ""
      }
     },
     "f4f4a70305d24c15b3c4ea76ec7f9481": {
      "model_module": "@jupyter-widgets/controls",
      "model_module_version": "1.4.0",
      "model_name": "DescriptionStyleModel",
      "state": {
       "description_width": ""
      }
     },
     "f502acac6ebb44b0be257ee49d979b80": {
      "model_module": "@jupyter-widgets/controls",
      "model_module_version": "1.4.0",
      "model_name": "DescriptionStyleModel",
      "state": {
       "description_width": ""
      }
     },
     "f51c1f738e6d447983e74a02a92e2d2c": {
      "model_module": "@jupyter-widgets/controls",
      "model_module_version": "1.4.0",
      "model_name": "FloatSliderModel",
      "state": {
       "description": "outlier_prop",
       "layout": "IPY_MODEL_bc8b7323322e47eb93adc646c91463df",
       "max": 1,
       "step": 0.001,
       "style": "IPY_MODEL_cfcca15bfc234ed1b0a7ce99390c8819",
       "value": 0.007
      }
     },
     "f586012a3a3b4cc0975c68a7b56feffb": {
      "model_module": "@jupyter-widgets/controls",
      "model_module_version": "1.4.0",
      "model_name": "DescriptionStyleModel",
      "state": {
       "description_width": ""
      }
     },
     "f596a8a495d6453295f33913f9bef814": {
      "model_module": "@jupyter-widgets/controls",
      "model_module_version": "1.4.0",
      "model_name": "IntTextModel",
      "state": {
       "description": "ratio",
       "layout": "IPY_MODEL_611cc58865dc49f1a950499963020bd5",
       "step": 1,
       "style": "IPY_MODEL_b6bc8149119b48528f509b32fd376a93",
       "value": 1
      }
     },
     "f5b9b9b70f51428ca08c64b109edcc96": {
      "model_module": "@jupyter-widgets/controls",
      "model_module_version": "1.4.0",
      "model_name": "HBoxModel",
      "state": {
       "children": [
        "IPY_MODEL_116892512c4b448dac8cf798b02ed5a0"
       ],
       "layout": "IPY_MODEL_7841ba0e98564c3ca8de295d9029f269"
      }
     },
     "f5d1b54bd1b347fdb5a68effa8c40ab8": {
      "model_module": "@jupyter-widgets/base",
      "model_module_version": "1.1.0",
      "model_name": "LayoutModel",
      "state": {}
     },
     "f5da15fc665f4cb58fbcd6e1fe512ac5": {
      "model_module": "@jupyter-widgets/controls",
      "model_module_version": "1.4.0",
      "model_name": "CheckboxModel",
      "state": {
       "description": "legend_out",
       "disabled": false,
       "layout": "IPY_MODEL_87c3baa5e97a4637a52f988c25ae010d",
       "style": "IPY_MODEL_44cec0e90c1546a4964d85a2f5589171",
       "value": false
      }
     },
     "f5dfa5aea2f14deca4d3e06a075a6297": {
      "model_module": "@jupyter-widgets/controls",
      "model_module_version": "1.4.0",
      "model_name": "DescriptionStyleModel",
      "state": {
       "description_width": ""
      }
     },
     "f601dab2990840baacbb665cc96782d0": {
      "model_module": "@jupyter-widgets/base",
      "model_module_version": "1.1.0",
      "model_name": "LayoutModel",
      "state": {}
     },
     "f62d91a7e2af4f6f9c02edc8f263a6ae": {
      "model_module": "@jupyter-widgets/base",
      "model_module_version": "1.1.0",
      "model_name": "LayoutModel",
      "state": {}
     },
     "f6879d9d6e4c41b6b8407fabf9642ff0": {
      "model_module": "@jupyter-widgets/controls",
      "model_module_version": "1.4.0",
      "model_name": "FloatTextModel",
      "state": {
       "description": "linewidth",
       "layout": "IPY_MODEL_74fb390a807b415786da0a61d4adfc9b",
       "step": null,
       "style": "IPY_MODEL_5468f47b7e114d6297de1a0516ee2c0f",
       "value": 2
      }
     },
     "f68c25e2806948bd841553daf208cf51": {
      "model_module": "@jupyter-widgets/base",
      "model_module_version": "1.1.0",
      "model_name": "LayoutModel",
      "state": {}
     },
     "f6952de5113d46b7886bbd912a95efcd": {
      "model_module": "@jupyter-widgets/base",
      "model_module_version": "1.1.0",
      "model_name": "LayoutModel",
      "state": {}
     },
     "f6a0cae4c49646ddb67a82e8e2aee16b": {
      "model_module": "@jupyter-widgets/controls",
      "model_module_version": "1.4.0",
      "model_name": "HBoxModel",
      "state": {
       "children": [
        "IPY_MODEL_8537da884d5b46fa87a3a89bbb84ae95"
       ],
       "layout": "IPY_MODEL_cf44b189fbf64bfc92094ed8b6e751c2"
      }
     },
     "f6a0d8be4a7443c59af8d96f279c923e": {
      "model_module": "@jupyter-widgets/controls",
      "model_module_version": "1.4.0",
      "model_name": "CheckboxModel",
      "state": {
       "description": "legend_out",
       "disabled": false,
       "layout": "IPY_MODEL_361dff80cec94118befbf29f72d104d4",
       "style": "IPY_MODEL_11adb0b71bb1414dbd69d7169cee9b0a",
       "value": false
      }
     },
     "f6d8a4a8293342f09416bbf6e82a1c6d": {
      "model_module": "@jupyter-widgets/base",
      "model_module_version": "1.1.0",
      "model_name": "LayoutModel",
      "state": {}
     },
     "f6d9f9b5bd3645d0bdf73b29981b6e79": {
      "model_module": "@jupyter-widgets/base",
      "model_module_version": "1.1.0",
      "model_name": "LayoutModel",
      "state": {}
     },
     "f7577b7df6674f748fc93617205c6b1d": {
      "model_module": "@jupyter-widgets/controls",
      "model_module_version": "1.4.0",
      "model_name": "DropdownModel",
      "state": {
       "_options_labels": [
        "Name",
        "Year",
        "Miles_per_Gallon",
        "Origin",
        "Cylinders",
        "Displacement",
        "Acceleration",
        "Horsepower",
        "Weight_in_lbs"
       ],
       "description": "sizes",
       "index": 0,
       "layout": "IPY_MODEL_c26f000719ea40ee8512205011150ea9",
       "style": "IPY_MODEL_d18083925d8447f5a177e3c34d598131"
      }
     },
     "f75cd3a441274494a46005af770543dd": {
      "model_module": "@jupyter-widgets/controls",
      "model_module_version": "1.4.0",
      "model_name": "HBoxModel",
      "state": {
       "children": [
        "IPY_MODEL_95daa4e3f69a49beb6bd33c0422a2431",
        "IPY_MODEL_1041b9146a2b464a940cb86dd06d7a1e"
       ],
       "layout": "IPY_MODEL_15a6f35b70274e2d8964993ad1829024"
      }
     },
     "f75dacc4f21443f9841169dead73f63d": {
      "model_module": "@jupyter-widgets/controls",
      "model_module_version": "1.4.0",
      "model_name": "CheckboxModel",
      "state": {
       "description": "margin_titles",
       "disabled": false,
       "layout": "IPY_MODEL_075122ca322446bab226633b53303a3d",
       "style": "IPY_MODEL_86da5feb4f32425aa7c122ab5d894a3d",
       "value": false
      }
     },
     "f7910227955442f980a3f2012bad5528": {
      "model_module": "@jupyter-widgets/controls",
      "model_module_version": "1.4.0",
      "model_name": "DescriptionStyleModel",
      "state": {
       "description_width": ""
      }
     },
     "f7bcb5a37ce74bf883e9d0a07ecd0c42": {
      "model_module": "@jupyter-widgets/base",
      "model_module_version": "1.1.0",
      "model_name": "LayoutModel",
      "state": {}
     },
     "f7ea7cd98e5b467f9b3fd5a8bf7a4deb": {
      "model_module": "@jupyter-widgets/controls",
      "model_module_version": "1.4.0",
      "model_name": "DescriptionStyleModel",
      "state": {
       "description_width": ""
      }
     },
     "f7f7a7a14a7f4b18a7f74cfa2007a605": {
      "model_module": "@jupyter-widgets/controls",
      "model_module_version": "1.4.0",
      "model_name": "DescriptionStyleModel",
      "state": {
       "description_width": ""
      }
     },
     "f833e2d7ca8643ae91b2aea423d55e1d": {
      "model_module": "@jupyter-widgets/controls",
      "model_module_version": "1.4.0",
      "model_name": "ButtonStyleModel",
      "state": {}
     },
     "f837caa27e9c4817bebad0361c7ac750": {
      "model_module": "@jupyter-widgets/base",
      "model_module_version": "1.1.0",
      "model_name": "LayoutModel",
      "state": {}
     },
     "f8541654ac26441d96e2d6662a32499f": {
      "model_module": "@jupyter-widgets/controls",
      "model_module_version": "1.4.0",
      "model_name": "ButtonModel",
      "state": {
       "description": "remove",
       "layout": "IPY_MODEL_6b01f05867f84837b2ce80ad93140c23",
       "style": "IPY_MODEL_cefd8073f7254c7ba25208738043f0f3"
      }
     },
     "f88e83b54703465abc3107522cfe6e36": {
      "model_module": "@jupyter-widgets/base",
      "model_module_version": "1.1.0",
      "model_name": "LayoutModel",
      "state": {}
     },
     "f8b9a20d26c74b069a2f00878fca8d68": {
      "model_module": "@jupyter-widgets/controls",
      "model_module_version": "1.4.0",
      "model_name": "DescriptionStyleModel",
      "state": {
       "description_width": ""
      }
     },
     "f8c1a5b9dbfa4840b442c6dfdc65264d": {
      "model_module": "@jupyter-widgets/base",
      "model_module_version": "1.1.0",
      "model_name": "LayoutModel",
      "state": {}
     },
     "f92afe45a15e413da289e0c7fbc4d829": {
      "model_module": "@jupyter-widgets/controls",
      "model_module_version": "1.4.0",
      "model_name": "DescriptionStyleModel",
      "state": {
       "description_width": ""
      }
     },
     "f93959a72f514d41a614dd4c07b793af": {
      "model_module": "@jupyter-widgets/controls",
      "model_module_version": "1.4.0",
      "model_name": "CheckboxModel",
      "state": {
       "description": "scale_hue",
       "disabled": false,
       "layout": "IPY_MODEL_f7bcb5a37ce74bf883e9d0a07ecd0c42",
       "style": "IPY_MODEL_a1a58010594f4189836442f1c8c1777c",
       "value": false
      }
     },
     "f964cf4dd4b7478d886ebb9771add571": {
      "model_module": "@jupyter-widgets/base",
      "model_module_version": "1.1.0",
      "model_name": "LayoutModel",
      "state": {}
     },
     "f967f03b2b7345eda4a6cadfa8889cb2": {
      "model_module": "@jupyter-widgets/controls",
      "model_module_version": "1.4.0",
      "model_name": "DescriptionStyleModel",
      "state": {
       "description_width": ""
      }
     },
     "f9d81e48675448449061163084d5f7e4": {
      "model_module": "@jupyter-widgets/controls",
      "model_module_version": "1.4.0",
      "model_name": "FloatTextModel",
      "state": {
       "description": "whis",
       "layout": "IPY_MODEL_4028c23b2f58480fa5066fa5135b9270",
       "step": null,
       "style": "IPY_MODEL_1537a48e60064c2fba1d3fd1158dc41e",
       "value": 1
      }
     },
     "f9f8671133db4e3f9e68ecc47f6c543f": {
      "model_module": "@jupyter-widgets/base",
      "model_module_version": "1.1.0",
      "model_name": "LayoutModel",
      "state": {}
     },
     "fa05b9ef87cc4d2ebd7e7bf0408bd75a": {
      "model_module": "@jupyter-widgets/base",
      "model_module_version": "1.1.0",
      "model_name": "LayoutModel",
      "state": {}
     },
     "fa3d68de1709417da4772003f621ed54": {
      "model_module": "@jupyter-widgets/base",
      "model_module_version": "1.1.0",
      "model_name": "LayoutModel",
      "state": {}
     },
     "fa4c4ba28a534c489b26653fe99ed23e": {
      "model_module": "@jupyter-widgets/controls",
      "model_module_version": "1.4.0",
      "model_name": "FloatTextModel",
      "state": {
       "description": "width",
       "layout": "IPY_MODEL_e4868b66abc74f3daf02e073c827908f",
       "step": null,
       "style": "IPY_MODEL_ec471a429c394cb09ea4364b8e5f70c8",
       "value": 1
      }
     },
     "faa6fdeed9c44a4c9ffdff5775ae39cc": {
      "model_module": "@jupyter-widgets/controls",
      "model_module_version": "1.4.0",
      "model_name": "HBoxModel",
      "state": {
       "children": [
        "IPY_MODEL_4c26c8f2a8484694aa210e42c391b695"
       ],
       "layout": "IPY_MODEL_6bb70ff8b54544f899c6fbd82e9b439b"
      }
     },
     "faf52e5d0d864235b8a0fa3773d08133": {
      "model_module": "@jupyter-widgets/controls",
      "model_module_version": "1.4.0",
      "model_name": "DropdownModel",
      "state": {
       "_options_labels": [
        "col",
        "row",
        "True"
       ],
       "description": "sharex",
       "index": 0,
       "layout": "IPY_MODEL_78aca0a77c7149299920714a8aef6344",
       "style": "IPY_MODEL_cb7350f31197446595f428595af587e5"
      }
     },
     "faf990e06eff40a3b47216e61aae7eaf": {
      "model_module": "@jupyter-widgets/controls",
      "model_module_version": "1.4.0",
      "model_name": "DescriptionStyleModel",
      "state": {
       "description_width": ""
      }
     },
     "faff3e1ac949492f837afdc5dcf95dbb": {
      "model_module": "@jupyter-widgets/controls",
      "model_module_version": "1.4.0",
      "model_name": "DropdownModel",
      "state": {
       "_options_labels": [
        "Acceleration",
        "Cylinders",
        "Displacement",
        "Horsepower",
        "Miles_per_Gallon",
        "Name",
        "Origin",
        "Weight_in_lbs",
        "Year"
       ],
       "description": "size",
       "index": 0,
       "layout": "IPY_MODEL_11a2afc415a041c39fcd89381fab56b3",
       "style": "IPY_MODEL_1a7c9a0ad321456eb179b888da9a37ab"
      }
     },
     "fb18d2f7c50e458799ea7d42c4c0bddd": {
      "model_module": "@jupyter-widgets/base",
      "model_module_version": "1.1.0",
      "model_name": "LayoutModel",
      "state": {}
     },
     "fb4553ac8eae4c248d689f32ed5133a9": {
      "model_module": "@jupyter-widgets/base",
      "model_module_version": "1.1.0",
      "model_name": "LayoutModel",
      "state": {}
     },
     "fb47bfc845cc456cb1fe537e580c84a6": {
      "model_module": "@jupyter-widgets/controls",
      "model_module_version": "1.4.0",
      "model_name": "HBoxModel",
      "state": {
       "children": [
        "IPY_MODEL_acdcad4fd36e4764864c7f324c1e30ba",
        "IPY_MODEL_b08d64d0420746a38ad2c016f722d345"
       ],
       "layout": "IPY_MODEL_42be008a365b475bb14461ef969b3494"
      }
     },
     "fb57037abcd445e6802b7662c7d02c12": {
      "model_module": "@jupyter-widgets/controls",
      "model_module_version": "1.4.0",
      "model_name": "DescriptionStyleModel",
      "state": {
       "description_width": ""
      }
     },
     "fb792155919a43b190b840b4ffabfe44": {
      "model_module": "@jupyter-widgets/base",
      "model_module_version": "1.1.0",
      "model_name": "LayoutModel",
      "state": {}
     },
     "fb8a0da0da6043f698b316c300b9829f": {
      "model_module": "@jupyter-widgets/controls",
      "model_module_version": "1.4.0",
      "model_name": "DescriptionStyleModel",
      "state": {
       "description_width": ""
      }
     },
     "fbb71218a3f047589ce56ec5c5e22c8a": {
      "model_module": "@jupyter-widgets/base",
      "model_module_version": "1.1.0",
      "model_name": "LayoutModel",
      "state": {}
     },
     "fbd00d992f964c86b456fa3138b2baaf": {
      "model_module": "@jupyter-widgets/controls",
      "model_module_version": "1.4.0",
      "model_name": "SliderStyleModel",
      "state": {
       "description_width": ""
      }
     },
     "fbd66c21e06d44d6a043fc029f4b422a": {
      "model_module": "@jupyter-widgets/base",
      "model_module_version": "1.1.0",
      "model_name": "LayoutModel",
      "state": {}
     },
     "fc2ba4475599411fbd925f87523ae5e8": {
      "model_module": "@jupyter-widgets/base",
      "model_module_version": "1.1.0",
      "model_name": "LayoutModel",
      "state": {}
     },
     "fc31d5cf55fb41c0abc6b6967ca302ae": {
      "model_module": "@jupyter-widgets/base",
      "model_module_version": "1.1.0",
      "model_name": "LayoutModel",
      "state": {}
     },
     "fc3f0c5844e446c9a73214b5664d2c6d": {
      "model_module": "@jupyter-widgets/controls",
      "model_module_version": "1.4.0",
      "model_name": "DescriptionStyleModel",
      "state": {
       "description_width": ""
      }
     },
     "fc462efd3d7547dbba8b1cca1fea52e3": {
      "model_module": "@jupyter-widgets/controls",
      "model_module_version": "1.4.0",
      "model_name": "DescriptionStyleModel",
      "state": {
       "description_width": ""
      }
     },
     "fc5af68d232e40b490ff18e0ca1d5383": {
      "model_module": "@jupyter-widgets/base",
      "model_module_version": "1.1.0",
      "model_name": "LayoutModel",
      "state": {}
     },
     "fceb145db88d464da9e25453fe39f8eb": {
      "model_module": "@jupyter-widgets/base",
      "model_module_version": "1.1.0",
      "model_name": "LayoutModel",
      "state": {}
     },
     "fd0e2ccffdac4b7f97f1a589ae90617e": {
      "model_module": "@jupyter-widgets/controls",
      "model_module_version": "1.4.0",
      "model_name": "DropdownModel",
      "state": {
       "_options_labels": [
        "row",
        "col",
        "True"
       ],
       "description": "sharey",
       "index": 0,
       "layout": "IPY_MODEL_40366c6a043e441d9a04a7bdbd9b172c",
       "style": "IPY_MODEL_7e74f665455d42c0b8633aee12e58aae"
      }
     },
     "fda3b5dc48024140889f4a4a0d9af313": {
      "model_module": "@jupyter-widgets/controls",
      "model_module_version": "1.4.0",
      "model_name": "CheckboxModel",
      "state": {
       "description": "cbar",
       "disabled": false,
       "layout": "IPY_MODEL_77ef72e07b5147469fdef68b97421451",
       "style": "IPY_MODEL_fe199d5d614147a4992616785a5bb3ab",
       "value": false
      }
     },
     "fdf12e85099a4fb2b3aa34b6ec1ecc13": {
      "model_module": "@jupyter-widgets/base",
      "model_module_version": "1.1.0",
      "model_name": "LayoutModel",
      "state": {}
     },
     "fe199d5d614147a4992616785a5bb3ab": {
      "model_module": "@jupyter-widgets/controls",
      "model_module_version": "1.4.0",
      "model_name": "DescriptionStyleModel",
      "state": {
       "description_width": ""
      }
     },
     "fe42c58471424845be1d7a57aa5fff0d": {
      "model_module": "@jupyter-widgets/base",
      "model_module_version": "1.1.0",
      "model_name": "LayoutModel",
      "state": {}
     },
     "fe5750590c6344ef99cbcb4d5e43619c": {
      "model_module": "@jupyter-widgets/base",
      "model_module_version": "1.1.0",
      "model_name": "LayoutModel",
      "state": {}
     },
     "fea389cbe2f248df8dc71f1bb9581543": {
      "model_module": "@jupyter-widgets/controls",
      "model_module_version": "1.4.0",
      "model_name": "CheckboxModel",
      "state": {
       "description": "annot",
       "disabled": false,
       "layout": "IPY_MODEL_b7801a814c154e8fb0ea38dba3e5d0b8",
       "style": "IPY_MODEL_df59a28141fe44f9bf58141ebe5656a8",
       "value": false
      }
     },
     "feaa53701b8c4c5791ee500e69e85fff": {
      "model_module": "@jupyter-widgets/controls",
      "model_module_version": "1.4.0",
      "model_name": "DescriptionStyleModel",
      "state": {
       "description_width": ""
      }
     },
     "fec9e981517147afbff4d49b5078431e": {
      "model_module": "@jupyter-widgets/controls",
      "model_module_version": "1.4.0",
      "model_name": "TextModel",
      "state": {
       "description": "cmap",
       "layout": "IPY_MODEL_4c59ab5fdc024e019fe6142f76d379cc",
       "style": "IPY_MODEL_feaa53701b8c4c5791ee500e69e85fff",
       "value": "viridis"
      }
     },
     "ff13b5ef556c4f82ab3f0f0e25b6892c": {
      "model_module": "@jupyter-widgets/base",
      "model_module_version": "1.1.0",
      "model_name": "LayoutModel",
      "state": {}
     },
     "ff25ce141d2e4b78be65dd242378ad80": {
      "model_module": "@jupyter-widgets/controls",
      "model_module_version": "1.4.0",
      "model_name": "FloatSliderModel",
      "state": {
       "description": "alpha",
       "layout": "IPY_MODEL_c0e794e67a2041d8b9151dde05044db5",
       "max": 1,
       "step": 0.05,
       "style": "IPY_MODEL_018e1eff7bb04e0aa4c6f0111b624630"
      }
     },
     "ff356c6748704314a436fd968008d40c": {
      "model_module": "@jupyter-widgets/base",
      "model_module_version": "1.1.0",
      "model_name": "LayoutModel",
      "state": {}
     },
     "ff47cf4133664d528091db1871243652": {
      "model_module": "@jupyter-widgets/controls",
      "model_module_version": "1.4.0",
      "model_name": "DescriptionStyleModel",
      "state": {
       "description_width": ""
      }
     },
     "ff4ba7ab70dc4d8f8a8a9b10e32e4bac": {
      "model_module": "@jupyter-widgets/controls",
      "model_module_version": "1.4.0",
      "model_name": "DescriptionStyleModel",
      "state": {
       "description_width": ""
      }
     },
     "ff4f22c272ec4e0eb18bb8ad15fc1dd7": {
      "model_module": "@jupyter-widgets/controls",
      "model_module_version": "1.4.0",
      "model_name": "DescriptionStyleModel",
      "state": {
       "description_width": ""
      }
     },
     "ff62851ae59b474696e981763b7222a9": {
      "model_module": "@jupyter-widgets/controls",
      "model_module_version": "1.4.0",
      "model_name": "DescriptionStyleModel",
      "state": {
       "description_width": ""
      }
     },
     "ff73bb6fdbe34a73bdfeacb6c76bd87e": {
      "model_module": "@jupyter-widgets/controls",
      "model_module_version": "1.4.0",
      "model_name": "DescriptionStyleModel",
      "state": {
       "description_width": ""
      }
     },
     "ff779cdfd5a24f138094257d4533fe17": {
      "model_module": "@jupyter-widgets/base",
      "model_module_version": "1.1.0",
      "model_name": "LayoutModel",
      "state": {}
     },
     "ffcb2086c772405fb67797814bf92578": {
      "model_module": "@jupyter-widgets/base",
      "model_module_version": "1.1.0",
      "model_name": "LayoutModel",
      "state": {}
     }
    },
    "version_major": 2,
    "version_minor": 0
   }
  }
 },
 "nbformat": 4,
 "nbformat_minor": 2
}
