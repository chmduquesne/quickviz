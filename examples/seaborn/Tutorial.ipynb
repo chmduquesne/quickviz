{
 "cells": [
  {
   "cell_type": "markdown",
   "metadata": {},
   "source": [
    "The seaborn tutorial, but with quickviz\n",
    "===============================\n",
    "\n",
    "Let's see if we can use quickviz to reproduce the graphs of the [seaborn tutorial](https://seaborn.pydata.org/tutorial.html). This tutorial is made of 4 parts:\n",
    "\n",
    "* [Visualizing statistical relationships](rel.ipynb)\n",
    "* [Plotting with categorical data](cat.ipynb)\n",
    "* [Visualizing the distribution of a dataset](dist.ipynb)\n",
    "* [Visualizing linear relationships](lin.ipynb)"
   ]
  }
 ],
 "metadata": {
  "kernelspec": {
   "display_name": "Python 3",
   "language": "python",
   "name": "python3"
  },
  "language_info": {
   "codemirror_mode": {
    "name": "ipython",
    "version": 3
   },
   "file_extension": ".py",
   "mimetype": "text/x-python",
   "name": "python",
   "nbconvert_exporter": "python",
   "pygments_lexer": "ipython3",
   "version": "3.7.0"
  }
 },
 "nbformat": 4,
 "nbformat_minor": 2
}
