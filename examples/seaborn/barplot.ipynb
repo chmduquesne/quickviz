{
 "cells": [
  {
   "cell_type": "code",
   "execution_count": 1,
   "metadata": {},
   "outputs": [
    {
     "data": {
      "application/vnd.jupyter.widget-view+json": {
       "model_id": "0e14ee37a1254586a10a37fd865b8a3e",
       "version_major": 2,
       "version_minor": 0
      },
      "text/plain": [
       "VBox()"
      ]
     },
     "metadata": {},
     "output_type": "display_data"
    },
    {
     "data": {
      "application/vnd.jupyter.widget-view+json": {
       "model_id": "338a32c39813432c96c0def9933253eb",
       "version_major": 2,
       "version_minor": 0
      },
      "text/plain": [
       "Output()"
      ]
     },
     "metadata": {},
     "output_type": "display_data"
    },
    {
     "data": {
      "text/plain": [
       "<quickviz.quickviz.UI at 0x7f63a46dff98>"
      ]
     },
     "execution_count": 1,
     "metadata": {},
     "output_type": "execute_result"
    }
   ],
   "source": [
    "%matplotlib inline\n",
    "\n",
    "from quickviz import visualize as v\n",
    "from vega_datasets import data\n",
    "\n",
    "df = data.cars()\n",
    "v(df)"
   ]
  },
  {
   "cell_type": "code",
   "execution_count": null,
   "metadata": {},
   "outputs": [],
   "source": []
  }
 ],
 "metadata": {
  "kernelspec": {
   "display_name": "Python 3",
   "language": "python",
   "name": "python3"
  },
  "language_info": {
   "codemirror_mode": {
    "name": "ipython",
    "version": 3
   },
   "file_extension": ".py",
   "mimetype": "text/x-python",
   "name": "python",
   "nbconvert_exporter": "python",
   "pygments_lexer": "ipython3",
   "version": "3.5.2"
  },
  "widgets": {
   "application/vnd.jupyter.widget-state+json": {
    "state": {
     "00100996e0a64f8c83e5c9ce8c40f327": {
      "model_module": "@jupyter-widgets/controls",
      "model_module_version": "1.4.0",
      "model_name": "DescriptionStyleModel",
      "state": {
       "description_width": ""
      }
     },
     "003ec1247ec0494b9585ecb288707e52": {
      "model_module": "@jupyter-widgets/base",
      "model_module_version": "1.1.0",
      "model_name": "LayoutModel",
      "state": {}
     },
     "0041e91f702f40cfbb677ba89cdae514": {
      "model_module": "@jupyter-widgets/controls",
      "model_module_version": "1.4.0",
      "model_name": "FloatTextModel",
      "state": {
       "description": "cut",
       "layout": "IPY_MODEL_26df628cd8804b53909a0f60453a9983",
       "step": null,
       "style": "IPY_MODEL_380e6350b21142b7b8a6dfe0c7d47b44",
       "value": 1
      }
     },
     "00527df3074247558b76e28133ace2d1": {
      "model_module": "@jupyter-widgets/controls",
      "model_module_version": "1.4.0",
      "model_name": "FloatTextModel",
      "state": {
       "description": "capsize",
       "layout": "IPY_MODEL_499db478b843481f985d0b16e56202f6",
       "step": null,
       "style": "IPY_MODEL_3f3c4e8760ad481da8c25cc004be1eea",
       "value": 1
      }
     },
     "0060a668683b493186d324e827ce9ddc": {
      "model_module": "@jupyter-widgets/controls",
      "model_module_version": "1.4.0",
      "model_name": "DescriptionStyleModel",
      "state": {
       "description_width": ""
      }
     },
     "006ab88465ce4e0aa5d613fd6bd2891c": {
      "model_module": "@jupyter-widgets/controls",
      "model_module_version": "1.4.0",
      "model_name": "CheckboxModel",
      "state": {
       "description": "legend_out",
       "disabled": false,
       "layout": "IPY_MODEL_e4f80bb3f8bf41a68c47837848a639ce",
       "style": "IPY_MODEL_a1dd4a8c69414947bcd1359e49486a35",
       "value": false
      }
     },
     "00912c76cf9241eb814d0987b08f0877": {
      "model_module": "@jupyter-widgets/base",
      "model_module_version": "1.1.0",
      "model_name": "LayoutModel",
      "state": {}
     },
     "0099a2b774344733b064660304e42dc9": {
      "model_module": "@jupyter-widgets/base",
      "model_module_version": "1.1.0",
      "model_name": "LayoutModel",
      "state": {}
     },
     "00b36e002c4a4fb78bd2b266a51b199e": {
      "model_module": "@jupyter-widgets/controls",
      "model_module_version": "1.4.0",
      "model_name": "DropdownModel",
      "state": {
       "_options_labels": [
        "1",
        "2",
        "3",
        "4",
        "5",
        "6",
        "7",
        "8",
        "9",
        "10",
        "11",
        "12",
        "13",
        "14",
        "15",
        "16",
        "17",
        "18",
        "19",
        "20",
        "21",
        "22",
        "23",
        "24",
        "25",
        "26",
        "27",
        "28",
        "29",
        "30",
        "31"
       ],
       "description": "x_partial",
       "index": 0,
       "layout": "IPY_MODEL_7b176fc132274e3aa288f504f51fcdf1",
       "style": "IPY_MODEL_806f104df754494e88ffea872e10f878"
      }
     },
     "00b5b5e01e724d0eb22eb2fc4d7aca0c": {
      "model_module": "@jupyter-widgets/controls",
      "model_module_version": "1.4.0",
      "model_name": "DescriptionStyleModel",
      "state": {
       "description_width": ""
      }
     },
     "00d1bfaef3684401aa467ce9a146b071": {
      "model_module": "@jupyter-widgets/controls",
      "model_module_version": "1.4.0",
      "model_name": "DescriptionStyleModel",
      "state": {
       "description_width": ""
      }
     },
     "00d447dd85d640209b0479a555d5f5b2": {
      "model_module": "@jupyter-widgets/base",
      "model_module_version": "1.1.0",
      "model_name": "LayoutModel",
      "state": {}
     },
     "00ea148050bd4fc6b1504cb3204ad18e": {
      "model_module": "@jupyter-widgets/controls",
      "model_module_version": "1.4.0",
      "model_name": "DescriptionStyleModel",
      "state": {
       "description_width": ""
      }
     },
     "00f86b1ec3f04b3980f567d1a44e0e4f": {
      "model_module": "@jupyter-widgets/controls",
      "model_module_version": "1.4.0",
      "model_name": "DropdownModel",
      "state": {
       "_options_labels": [
        "True",
        "col",
        "row"
       ],
       "description": "sharex",
       "index": 0,
       "layout": "IPY_MODEL_c0807663331c44edbb399074d9a9eac3",
       "style": "IPY_MODEL_6405b1bf35fb49449da5b50d0d667462"
      }
     },
     "010a1e11c91b447285638484266012e8": {
      "model_module": "@jupyter-widgets/controls",
      "model_module_version": "1.4.0",
      "model_name": "CheckboxModel",
      "state": {
       "description": "margin_titles",
       "disabled": false,
       "layout": "IPY_MODEL_10d8b22f1a50447d9851f92be14d0fe7",
       "style": "IPY_MODEL_ffa160f4e939424c8d161615d3689cbb",
       "value": false
      }
     },
     "010c467de8fb46848af02f4c717456aa": {
      "model_module": "@jupyter-widgets/controls",
      "model_module_version": "1.4.0",
      "model_name": "SliderStyleModel",
      "state": {
       "description_width": ""
      }
     },
     "010d55f56f044d2f8a1c8a7abb50bf93": {
      "model_module": "@jupyter-widgets/base",
      "model_module_version": "1.1.0",
      "model_name": "LayoutModel",
      "state": {}
     },
     "01133dd8a63e4e31b7e789895626f07d": {
      "model_module": "@jupyter-widgets/controls",
      "model_module_version": "1.4.0",
      "model_name": "DescriptionStyleModel",
      "state": {
       "description_width": ""
      }
     },
     "01216a7f24d94c8286b67e69e64ff8f6": {
      "model_module": "@jupyter-widgets/controls",
      "model_module_version": "1.4.0",
      "model_name": "DescriptionStyleModel",
      "state": {
       "description_width": ""
      }
     },
     "013b8c0cf2d6437485d65fff8e32a2d8": {
      "model_module": "@jupyter-widgets/controls",
      "model_module_version": "1.4.0",
      "model_name": "IntTextModel",
      "state": {
       "description": "space",
       "layout": "IPY_MODEL_34fc9ec11e40439aa455a73cc927adce",
       "step": 1,
       "style": "IPY_MODEL_bc7fb0327c114424ad4b15aac00635aa",
       "value": 1
      }
     },
     "01accb98db3a42fbb2e930b1b7d92eab": {
      "model_module": "@jupyter-widgets/controls",
      "model_module_version": "1.4.0",
      "model_name": "DescriptionStyleModel",
      "state": {
       "description_width": ""
      }
     },
     "01b0f6ac84dc4d46897cc7d939a2118d": {
      "model_module": "@jupyter-widgets/base",
      "model_module_version": "1.1.0",
      "model_name": "LayoutModel",
      "state": {}
     },
     "01b2572b798d43d18c1091dbcc94ad8a": {
      "model_module": "@jupyter-widgets/controls",
      "model_module_version": "1.4.0",
      "model_name": "CheckboxModel",
      "state": {
       "description": "margin_titles",
       "disabled": false,
       "layout": "IPY_MODEL_ab6dacdc201640d09d43ab841b985e35",
       "style": "IPY_MODEL_b726a7a087b94811aea31d793f10ec4d",
       "value": false
      }
     },
     "01c26fe34da04980917766c30824f744": {
      "model_module": "@jupyter-widgets/base",
      "model_module_version": "1.1.0",
      "model_name": "LayoutModel",
      "state": {}
     },
     "01cb63d09d14453ab2e70bced37acf09": {
      "model_module": "@jupyter-widgets/controls",
      "model_module_version": "1.4.0",
      "model_name": "DropdownModel",
      "state": {
       "_options_labels": [
        "1",
        "2",
        "3",
        "4",
        "5",
        "6",
        "7",
        "8",
        "9",
        "10",
        "11",
        "12",
        "13",
        "14",
        "15",
        "16",
        "17",
        "18",
        "19",
        "20",
        "21",
        "22",
        "23",
        "24",
        "25",
        "26",
        "27",
        "28",
        "29",
        "30",
        "31"
       ],
       "description": "hue",
       "index": 0,
       "layout": "IPY_MODEL_9ee7621c513240dbbe7832908552288f",
       "style": "IPY_MODEL_1961814ce1c74d338280ecf0a30b622c"
      }
     },
     "01cf1aa8ed6f4f18ade6407fb2b34d19": {
      "model_module": "@jupyter-widgets/controls",
      "model_module_version": "1.4.0",
      "model_name": "CheckboxModel",
      "state": {
       "description": "sort",
       "disabled": false,
       "layout": "IPY_MODEL_203bab78c8af4c178a9f357e4abf7931",
       "style": "IPY_MODEL_8e53e3259d7f4d3e9a7f7f7378ebc8d6",
       "value": false
      }
     },
     "021deef17c814e6eb2dc5646cb94c675": {
      "model_module": "@jupyter-widgets/base",
      "model_module_version": "1.1.0",
      "model_name": "LayoutModel",
      "state": {}
     },
     "0226157520514d9e9e984277bf106240": {
      "model_module": "@jupyter-widgets/base",
      "model_module_version": "1.1.0",
      "model_name": "LayoutModel",
      "state": {}
     },
     "0295d8fcc9e1402fa719cda7c7fe99cd": {
      "model_module": "@jupyter-widgets/controls",
      "model_module_version": "1.4.0",
      "model_name": "DescriptionStyleModel",
      "state": {
       "description_width": ""
      }
     },
     "0298f917f77a4ba698929c7433efc12f": {
      "model_module": "@jupyter-widgets/base",
      "model_module_version": "1.1.0",
      "model_name": "LayoutModel",
      "state": {}
     },
     "02bfe14c9e02452fbe299e6deae1569f": {
      "model_module": "@jupyter-widgets/base",
      "model_module_version": "1.1.0",
      "model_name": "LayoutModel",
      "state": {}
     },
     "03118db41cb54eef9589db048a9f961e": {
      "model_module": "@jupyter-widgets/controls",
      "model_module_version": "1.4.0",
      "model_name": "FloatTextModel",
      "state": {
       "description": "aspect",
       "layout": "IPY_MODEL_c76cb7df644d489394decf55ef663311",
       "step": null,
       "style": "IPY_MODEL_5f52f448abee4b7f8979c92ad5bf5f3c",
       "value": 1
      }
     },
     "03291a3a6c194d719dd26d2d958da0d4": {
      "model_module": "@jupyter-widgets/base",
      "model_module_version": "1.1.0",
      "model_name": "LayoutModel",
      "state": {}
     },
     "03d054588f34493cbc71aec3d8a8252c": {
      "model_module": "@jupyter-widgets/base",
      "model_module_version": "1.1.0",
      "model_name": "LayoutModel",
      "state": {}
     },
     "03fba6bb88444c9a80dab4c8eacc6a1a": {
      "model_module": "@jupyter-widgets/base",
      "model_module_version": "1.1.0",
      "model_name": "LayoutModel",
      "state": {}
     },
     "04423461725147a18266dac725f6e832": {
      "model_module": "@jupyter-widgets/controls",
      "model_module_version": "1.4.0",
      "model_name": "DescriptionStyleModel",
      "state": {
       "description_width": ""
      }
     },
     "0472f0697ed1444eacc60dbf45334e8a": {
      "model_module": "@jupyter-widgets/controls",
      "model_module_version": "1.4.0",
      "model_name": "DescriptionStyleModel",
      "state": {
       "description_width": ""
      }
     },
     "047684d3718e4b56bc7c55c7facdfbcc": {
      "model_module": "@jupyter-widgets/controls",
      "model_module_version": "1.4.0",
      "model_name": "DescriptionStyleModel",
      "state": {
       "description_width": ""
      }
     },
     "04934bf25aec4081bdbd20ab17119255": {
      "model_module": "@jupyter-widgets/base",
      "model_module_version": "1.1.0",
      "model_name": "LayoutModel",
      "state": {}
     },
     "04a0b4b5b3b5490cbc6f95393504667e": {
      "model_module": "@jupyter-widgets/controls",
      "model_module_version": "1.4.0",
      "model_name": "FloatTextModel",
      "state": {
       "description": "saturation",
       "layout": "IPY_MODEL_0298f917f77a4ba698929c7433efc12f",
       "step": null,
       "style": "IPY_MODEL_c021656ec2cf4f14a35ee3f19a399c38",
       "value": 1
      }
     },
     "04c2b3523d7b4bc1962026049e78edf5": {
      "model_module": "@jupyter-widgets/base",
      "model_module_version": "1.1.0",
      "model_name": "LayoutModel",
      "state": {}
     },
     "04ef746d42ba42f1a0f52d5fc55d3821": {
      "model_module": "@jupyter-widgets/controls",
      "model_module_version": "1.4.0",
      "model_name": "ButtonStyleModel",
      "state": {}
     },
     "05013f11beca4371845d445a565e8b53": {
      "model_module": "@jupyter-widgets/controls",
      "model_module_version": "1.4.0",
      "model_name": "CheckboxModel",
      "state": {
       "description": "annot",
       "disabled": false,
       "layout": "IPY_MODEL_1739abeee2e445a68e0144bd21bcde61",
       "style": "IPY_MODEL_f50c6f85926744c284dae98387050ec4",
       "value": false
      }
     },
     "055ddd86b4ce4bfbb80088ac984e37d9": {
      "model_module": "@jupyter-widgets/controls",
      "model_module_version": "1.4.0",
      "model_name": "DescriptionStyleModel",
      "state": {
       "description_width": ""
      }
     },
     "0566ef27201a4f68a36f06bd3a057863": {
      "model_module": "@jupyter-widgets/base",
      "model_module_version": "1.1.0",
      "model_name": "LayoutModel",
      "state": {}
     },
     "05b6d728adec4689b8d2a6df15d6da08": {
      "model_module": "@jupyter-widgets/base",
      "model_module_version": "1.1.0",
      "model_name": "LayoutModel",
      "state": {}
     },
     "05cb5cb33170456ebf24eedd706f036a": {
      "model_module": "@jupyter-widgets/base",
      "model_module_version": "1.1.0",
      "model_name": "LayoutModel",
      "state": {}
     },
     "05cd9fa486604380b2fcc9310f912f1a": {
      "model_module": "@jupyter-widgets/controls",
      "model_module_version": "1.4.0",
      "model_name": "HBoxModel",
      "state": {
       "children": [
        "IPY_MODEL_a2213b5975c64ed4b5dd725d99dcaf05",
        "IPY_MODEL_29d69d0981804973a6717b4dc95ed44e"
       ],
       "layout": "IPY_MODEL_3ecad87d99a6419d93cb946f1b36eef1"
      }
     },
     "05e2643de05c45d09d9bd9ce714a917e": {
      "model_module": "@jupyter-widgets/base",
      "model_module_version": "1.1.0",
      "model_name": "LayoutModel",
      "state": {}
     },
     "05e8499346d5410c876a483e4d78f925": {
      "model_module": "@jupyter-widgets/controls",
      "model_module_version": "1.4.0",
      "model_name": "CheckboxModel",
      "state": {
       "description": "auto-update",
       "disabled": false,
       "layout": "IPY_MODEL_60093f8b58e145a1aec1abaf22a11895",
       "style": "IPY_MODEL_0b2133fcce774689a3d446f1c166329c",
       "value": true
      }
     },
     "05eaf0b265b840f5a446ed41d66f86f6": {
      "model_module": "@jupyter-widgets/controls",
      "model_module_version": "1.4.0",
      "model_name": "IntSliderModel",
      "state": {
       "description": "x_ci",
       "layout": "IPY_MODEL_1a5f7aa6b8134f67a211c944daae75ef",
       "style": "IPY_MODEL_c2aa816a5faf446da628520fd1261966",
       "value": 95
      }
     },
     "05efd5f7a1bf483b8f5c84b87a6358f6": {
      "model_module": "@jupyter-widgets/base",
      "model_module_version": "1.1.0",
      "model_name": "LayoutModel",
      "state": {}
     },
     "060bb25d20c14ca0be83b35438113d64": {
      "model_module": "@jupyter-widgets/base",
      "model_module_version": "1.1.0",
      "model_name": "LayoutModel",
      "state": {}
     },
     "060c439d7ada4eb0aaba0f4818fef151": {
      "model_module": "@jupyter-widgets/controls",
      "model_module_version": "1.4.0",
      "model_name": "DropdownModel",
      "state": {
       "_options_labels": [
        "Acceleration",
        "Cylinders",
        "Displacement",
        "Horsepower",
        "Miles_per_Gallon",
        "Name",
        "Origin",
        "Weight_in_lbs",
        "Year"
       ],
       "description": "style",
       "index": 0,
       "layout": "IPY_MODEL_62de3d38ddee41d18fd5a0e57453e5b5",
       "style": "IPY_MODEL_5edcc3a615114aea9032317ed886be1f"
      }
     },
     "0618cdbdcc5441619512c45bfa73413a": {
      "model_module": "@jupyter-widgets/controls",
      "model_module_version": "1.4.0",
      "model_name": "DescriptionStyleModel",
      "state": {
       "description_width": ""
      }
     },
     "06211544a55641509ca06954faa21e12": {
      "model_module": "@jupyter-widgets/base",
      "model_module_version": "1.1.0",
      "model_name": "LayoutModel",
      "state": {}
     },
     "065f1a8a62cc4090b9cd5efe98ac0ab9": {
      "model_module": "@jupyter-widgets/base",
      "model_module_version": "1.1.0",
      "model_name": "LayoutModel",
      "state": {}
     },
     "06cd35ae6a0540e490d835e676482756": {
      "model_module": "@jupyter-widgets/controls",
      "model_module_version": "1.4.0",
      "model_name": "FloatTextModel",
      "state": {
       "description": "aspect",
       "layout": "IPY_MODEL_31b9cd12b58f46049246b4436c47e137",
       "step": null,
       "style": "IPY_MODEL_48b7bcbb387f48aebf870b41cfa71f26",
       "value": 1
      }
     },
     "0742c2b7826248d2bc08066e9864755f": {
      "model_module": "@jupyter-widgets/base",
      "model_module_version": "1.1.0",
      "model_name": "LayoutModel",
      "state": {}
     },
     "07571e5c7cb34a73ad94054230e11e13": {
      "model_module": "@jupyter-widgets/base",
      "model_module_version": "1.1.0",
      "model_name": "LayoutModel",
      "state": {}
     },
     "0759065b697c493cb09305be41001fa5": {
      "model_module": "@jupyter-widgets/base",
      "model_module_version": "1.1.0",
      "model_name": "LayoutModel",
      "state": {}
     },
     "077256e133c44d17b2f207768ba592f0": {
      "model_module": "@jupyter-widgets/controls",
      "model_module_version": "1.4.0",
      "model_name": "DescriptionStyleModel",
      "state": {
       "description_width": ""
      }
     },
     "07b4c38d2d0942d89ba25a2840581821": {
      "model_module": "@jupyter-widgets/base",
      "model_module_version": "1.1.0",
      "model_name": "LayoutModel",
      "state": {}
     },
     "07b8c78cf06442a283bf67d5e8c8af25": {
      "model_module": "@jupyter-widgets/controls",
      "model_module_version": "1.4.0",
      "model_name": "DescriptionStyleModel",
      "state": {
       "description_width": ""
      }
     },
     "0845df79491046e2bf1564f78a4f5657": {
      "model_module": "@jupyter-widgets/base",
      "model_module_version": "1.1.0",
      "model_name": "LayoutModel",
      "state": {}
     },
     "08d8383d832c47e0970572611b94447d": {
      "model_module": "@jupyter-widgets/controls",
      "model_module_version": "1.4.0",
      "model_name": "DescriptionStyleModel",
      "state": {
       "description_width": ""
      }
     },
     "08f234bed1c145dcaa571ff5e89482ab": {
      "model_module": "@jupyter-widgets/controls",
      "model_module_version": "1.4.0",
      "model_name": "IntTextModel",
      "state": {
       "description": "order",
       "layout": "IPY_MODEL_cfdb4830678349f090f104384996e77d",
       "step": 1,
       "style": "IPY_MODEL_b4f16f4fa96b4497a89fa8c5e3e3d5de",
       "value": 1
      }
     },
     "095e33d542884b63bac3c50c2174510d": {
      "model_module": "@jupyter-widgets/controls",
      "model_module_version": "1.4.0",
      "model_name": "FloatTextModel",
      "state": {
       "description": "vmin",
       "layout": "IPY_MODEL_0a4befd528534f77aa70a253acb7a304",
       "step": null,
       "style": "IPY_MODEL_0a0f114caf4543dc8ea8027f88a74df1",
       "value": 1
      }
     },
     "0991a424c0674e9284b4e445f64b118e": {
      "model_module": "@jupyter-widgets/base",
      "model_module_version": "1.1.0",
      "model_name": "LayoutModel",
      "state": {}
     },
     "09a517b8f04c4d13a44dfc2dd82e930a": {
      "model_module": "@jupyter-widgets/base",
      "model_module_version": "1.1.0",
      "model_name": "LayoutModel",
      "state": {}
     },
     "09c3f65e7f964386a054abf89e493ca6": {
      "model_module": "@jupyter-widgets/controls",
      "model_module_version": "1.4.0",
      "model_name": "DescriptionStyleModel",
      "state": {
       "description_width": ""
      }
     },
     "09ceb16cf3394ebfa4ae3d243e489eab": {
      "model_module": "@jupyter-widgets/base",
      "model_module_version": "1.1.0",
      "model_name": "LayoutModel",
      "state": {}
     },
     "09d188cf8c6d4c1386abd74acc310726": {
      "model_module": "@jupyter-widgets/base",
      "model_module_version": "1.1.0",
      "model_name": "LayoutModel",
      "state": {}
     },
     "09d47020d272458aa247fb68ff1d9797": {
      "model_module": "@jupyter-widgets/controls",
      "model_module_version": "1.4.0",
      "model_name": "DescriptionStyleModel",
      "state": {
       "description_width": ""
      }
     },
     "09ef6405acfe462ba8aada64bdec6eef": {
      "model_module": "@jupyter-widgets/base",
      "model_module_version": "1.1.0",
      "model_name": "LayoutModel",
      "state": {}
     },
     "0a0f114caf4543dc8ea8027f88a74df1": {
      "model_module": "@jupyter-widgets/controls",
      "model_module_version": "1.4.0",
      "model_name": "DescriptionStyleModel",
      "state": {
       "description_width": ""
      }
     },
     "0a378efd2c4742e2acf7a947fdad07e5": {
      "model_module": "@jupyter-widgets/base",
      "model_module_version": "1.1.0",
      "model_name": "LayoutModel",
      "state": {}
     },
     "0a3d073bc2274254a281af33689003ae": {
      "model_module": "@jupyter-widgets/base",
      "model_module_version": "1.1.0",
      "model_name": "LayoutModel",
      "state": {}
     },
     "0a4befd528534f77aa70a253acb7a304": {
      "model_module": "@jupyter-widgets/base",
      "model_module_version": "1.1.0",
      "model_name": "LayoutModel",
      "state": {}
     },
     "0a86bb9887244031bad6f3d58fd3bcdf": {
      "model_module": "@jupyter-widgets/base",
      "model_module_version": "1.1.0",
      "model_name": "LayoutModel",
      "state": {}
     },
     "0b02493be48645169ba79ee7a1a4ee75": {
      "model_module": "@jupyter-widgets/controls",
      "model_module_version": "1.4.0",
      "model_name": "DescriptionStyleModel",
      "state": {
       "description_width": ""
      }
     },
     "0b2133fcce774689a3d446f1c166329c": {
      "model_module": "@jupyter-widgets/controls",
      "model_module_version": "1.4.0",
      "model_name": "DescriptionStyleModel",
      "state": {
       "description_width": ""
      }
     },
     "0b2a811a7dcc497c964be7e605074062": {
      "model_module": "@jupyter-widgets/controls",
      "model_module_version": "1.4.0",
      "model_name": "DescriptionStyleModel",
      "state": {
       "description_width": ""
      }
     },
     "0b392c47b0f44a8f82c60992e9914ccb": {
      "model_module": "@jupyter-widgets/base",
      "model_module_version": "1.1.0",
      "model_name": "LayoutModel",
      "state": {}
     },
     "0b86542b4bb14646a05d37af0a03dc39": {
      "model_module": "@jupyter-widgets/controls",
      "model_module_version": "1.4.0",
      "model_name": "ButtonStyleModel",
      "state": {}
     },
     "0b89843554734b2f9925bbffe01877d8": {
      "model_module": "@jupyter-widgets/controls",
      "model_module_version": "1.4.0",
      "model_name": "CheckboxModel",
      "state": {
       "description": "robust",
       "disabled": false,
       "layout": "IPY_MODEL_ab02b283a6494a709d1041966f7b1793",
       "style": "IPY_MODEL_8d3fff8849994e95b3acd0242d290334",
       "value": false
      }
     },
     "0b8e68650f4e48489ec525d5f126594e": {
      "model_module": "@jupyter-widgets/controls",
      "model_module_version": "1.4.0",
      "model_name": "DescriptionStyleModel",
      "state": {
       "description_width": ""
      }
     },
     "0bce7b86475843cd951b243f078f29d2": {
      "model_module": "@jupyter-widgets/controls",
      "model_module_version": "1.4.0",
      "model_name": "TextModel",
      "state": {
       "description": "label",
       "layout": "IPY_MODEL_c36b8452c5594c53acb584ef2c1373f6",
       "style": "IPY_MODEL_26d994ea5a554fee9c60c4772e909c2f"
      }
     },
     "0bed51a34f9e4ac4b0ead9b59ea7c088": {
      "model_module": "@jupyter-widgets/base",
      "model_module_version": "1.1.0",
      "model_name": "LayoutModel",
      "state": {}
     },
     "0c2b4ad451cb43ea8083f3518f7a3f10": {
      "model_module": "@jupyter-widgets/controls",
      "model_module_version": "1.4.0",
      "model_name": "IntSliderModel",
      "state": {
       "description": "ci",
       "layout": "IPY_MODEL_c2b8a84221074cb7a66bb7ec470ef769",
       "style": "IPY_MODEL_dd7f3b9c72314408b19837ec5404d897",
       "value": 95
      }
     },
     "0c41247ea28c484f91df9bbf8ebc699f": {
      "model_module": "@jupyter-widgets/controls",
      "model_module_version": "1.4.0",
      "model_name": "DescriptionStyleModel",
      "state": {
       "description_width": ""
      }
     },
     "0c907450feed49ffa44c836ac5f44463": {
      "model_module": "@jupyter-widgets/controls",
      "model_module_version": "1.4.0",
      "model_name": "DescriptionStyleModel",
      "state": {
       "description_width": ""
      }
     },
     "0c9fb3c0f8e34ab9b69507e35039c0e9": {
      "model_module": "@jupyter-widgets/controls",
      "model_module_version": "1.4.0",
      "model_name": "DropdownModel",
      "state": {
       "_options_labels": [
        "scatter",
        "line"
       ],
       "description": "kind",
       "index": 0,
       "layout": "IPY_MODEL_e791d33cb8a141a593e3e86d15e48336",
       "style": "IPY_MODEL_8e80399a59364e83bb06cdcebb59ea04"
      }
     },
     "0ca8051d6fe44e6082aec81a1007ee38": {
      "model_module": "@jupyter-widgets/controls",
      "model_module_version": "1.4.0",
      "model_name": "DescriptionStyleModel",
      "state": {
       "description_width": ""
      }
     },
     "0cbd88377ea748bb9f3322704778f702": {
      "model_module": "@jupyter-widgets/base",
      "model_module_version": "1.1.0",
      "model_name": "LayoutModel",
      "state": {}
     },
     "0cf581459f73418386b4277aa54463a8": {
      "model_module": "@jupyter-widgets/base",
      "model_module_version": "1.1.0",
      "model_name": "LayoutModel",
      "state": {}
     },
     "0cfdbadfb0ac45afae31a6b7783db623": {
      "model_module": "@jupyter-widgets/controls",
      "model_module_version": "1.4.0",
      "model_name": "DescriptionStyleModel",
      "state": {
       "description_width": ""
      }
     },
     "0d52d37c2bc04bc3b4ebbd93d97f5d14": {
      "model_module": "@jupyter-widgets/base",
      "model_module_version": "1.1.0",
      "model_name": "LayoutModel",
      "state": {}
     },
     "0d8cf493e7474a51bf518cfe3dd570de": {
      "model_module": "@jupyter-widgets/base",
      "model_module_version": "1.1.0",
      "model_name": "LayoutModel",
      "state": {}
     },
     "0d9617f57d0845e197e594af3e9afafd": {
      "model_module": "@jupyter-widgets/controls",
      "model_module_version": "1.4.0",
      "model_name": "DropdownModel",
      "state": {
       "_options_labels": [
        "auto",
        "hist",
        "kde"
       ],
       "description": "diag_kind",
       "index": 0,
       "layout": "IPY_MODEL_166e698db4ec46a284ff13a7f5b22d4c",
       "style": "IPY_MODEL_825b50c45b0047a5b5eff3ad36779712"
      }
     },
     "0df1efd4c3dd40d0a149c14dfb046f56": {
      "model_module": "@jupyter-widgets/base",
      "model_module_version": "1.1.0",
      "model_name": "LayoutModel",
      "state": {}
     },
     "0dfa9d16798d43e8aec2be367c6ba4ea": {
      "model_module": "@jupyter-widgets/controls",
      "model_module_version": "1.4.0",
      "model_name": "DescriptionStyleModel",
      "state": {
       "description_width": ""
      }
     },
     "0e14ee37a1254586a10a37fd865b8a3e": {
      "model_module": "@jupyter-widgets/controls",
      "model_module_version": "1.4.0",
      "model_name": "VBoxModel",
      "state": {
       "children": [
        "IPY_MODEL_f61a1391a01c488482fcf588275c79da",
        "IPY_MODEL_c53cf1b6394b47c588e95962be8e35a6",
        "IPY_MODEL_f27ec6dbe7dc4b58bb024712b966bcc3",
        "IPY_MODEL_e85f5b3c1c284aebb7e94a7bb1fbca09",
        "IPY_MODEL_b5549a0c4b0d435db7ade4f875ceb03d"
       ],
       "layout": "IPY_MODEL_c81edb86ad364c5787ab086c07a1466d"
      }
     },
     "0e404aee84ae4152b278282ff9103d79": {
      "model_module": "@jupyter-widgets/base",
      "model_module_version": "1.1.0",
      "model_name": "LayoutModel",
      "state": {}
     },
     "0e78d9654706481d90544bc3e995e01d": {
      "model_module": "@jupyter-widgets/controls",
      "model_module_version": "1.4.0",
      "model_name": "DescriptionStyleModel",
      "state": {
       "description_width": ""
      }
     },
     "0eaf7bb4d66647529df129db34faf310": {
      "model_module": "@jupyter-widgets/base",
      "model_module_version": "1.1.0",
      "model_name": "LayoutModel",
      "state": {}
     },
     "0ec2fbda75b4418f9682305252bc3236": {
      "model_module": "@jupyter-widgets/controls",
      "model_module_version": "1.4.0",
      "model_name": "DescriptionStyleModel",
      "state": {
       "description_width": ""
      }
     },
     "0ee558d4cf1a4488ac7d652cfb5851d5": {
      "model_module": "@jupyter-widgets/controls",
      "model_module_version": "1.4.0",
      "model_name": "DescriptionStyleModel",
      "state": {
       "description_width": ""
      }
     },
     "0eed32cdf7e34d70a438e037b08104a3": {
      "model_module": "@jupyter-widgets/controls",
      "model_module_version": "1.4.0",
      "model_name": "FloatTextModel",
      "state": {
       "description": "height",
       "layout": "IPY_MODEL_2ac42285837c4a19a73758f0539905c4",
       "step": null,
       "style": "IPY_MODEL_3999f6e16f574a1c9cbedecbeb8f1987",
       "value": 1
      }
     },
     "0f1598c2e374496285d287bc19bebcf2": {
      "model_module": "@jupyter-widgets/base",
      "model_module_version": "1.1.0",
      "model_name": "LayoutModel",
      "state": {}
     },
     "0f1d86775e4f49c291b4b7c6e58a4155": {
      "model_module": "@jupyter-widgets/controls",
      "model_module_version": "1.4.0",
      "model_name": "HBoxModel",
      "state": {
       "children": [
        "IPY_MODEL_3373c9aa844a4f51ac0d1d1de1b30f5a",
        "IPY_MODEL_810ac05519ff41d3bbdd3d55b63edda9"
       ],
       "layout": "IPY_MODEL_2b2ca69b1e2a4484beb150c724a3a8b3"
      }
     },
     "0f4fec43b651462ab360707c220c8e0e": {
      "model_module": "@jupyter-widgets/controls",
      "model_module_version": "1.4.0",
      "model_name": "DescriptionStyleModel",
      "state": {
       "description_width": ""
      }
     },
     "0fa6320c40a5443d9ff5fa0951569708": {
      "model_module": "@jupyter-widgets/base",
      "model_module_version": "1.1.0",
      "model_name": "LayoutModel",
      "state": {}
     },
     "0ff3ad350468430d9541b89e58d60ce1": {
      "model_module": "@jupyter-widgets/controls",
      "model_module_version": "1.4.0",
      "model_name": "DescriptionStyleModel",
      "state": {
       "description_width": ""
      }
     },
     "103a0162747147c68af0c501468b3ee1": {
      "model_module": "@jupyter-widgets/base",
      "model_module_version": "1.1.0",
      "model_name": "LayoutModel",
      "state": {}
     },
     "10bbe46f6ae44ed28470bd193ac12775": {
      "model_module": "@jupyter-widgets/controls",
      "model_module_version": "1.4.0",
      "model_name": "DescriptionStyleModel",
      "state": {
       "description_width": ""
      }
     },
     "10d0f961346841fa8d72e1ddf373915a": {
      "model_module": "@jupyter-widgets/controls",
      "model_module_version": "1.4.0",
      "model_name": "FloatTextModel",
      "state": {
       "description": "x_jitter",
       "layout": "IPY_MODEL_dd6ebd5ff4f54b8bad42d6db0c0529fa",
       "step": null,
       "style": "IPY_MODEL_86623e45d7a14ba2ab48dbd8a37951d5",
       "value": 1
      }
     },
     "10d8b22f1a50447d9851f92be14d0fe7": {
      "model_module": "@jupyter-widgets/base",
      "model_module_version": "1.1.0",
      "model_name": "LayoutModel",
      "state": {}
     },
     "10e54e7bd26d424284cce26cd92545ea": {
      "model_module": "@jupyter-widgets/base",
      "model_module_version": "1.1.0",
      "model_name": "LayoutModel",
      "state": {}
     },
     "110d7e3437714880ae117dd27e9f7529": {
      "model_module": "@jupyter-widgets/controls",
      "model_module_version": "1.4.0",
      "model_name": "DescriptionStyleModel",
      "state": {
       "description_width": ""
      }
     },
     "1119c220476f40e9b69d13fbe4d32b82": {
      "model_module": "@jupyter-widgets/controls",
      "model_module_version": "1.4.0",
      "model_name": "DescriptionStyleModel",
      "state": {
       "description_width": ""
      }
     },
     "1124e6581c4b49df9ed917b85c3bcd24": {
      "model_module": "@jupyter-widgets/base",
      "model_module_version": "1.1.0",
      "model_name": "LayoutModel",
      "state": {}
     },
     "112dd3bd0b4b405e96a9b1d31d2ec749": {
      "model_module": "@jupyter-widgets/controls",
      "model_module_version": "1.4.0",
      "model_name": "ButtonModel",
      "state": {
       "description": "remove",
       "layout": "IPY_MODEL_09ceb16cf3394ebfa4ae3d243e489eab",
       "style": "IPY_MODEL_923b68055b094a1db516f413bba1ae39"
      }
     },
     "1154e4042b374ebf8ef6bd22c7a9754d": {
      "model_module": "@jupyter-widgets/controls",
      "model_module_version": "1.4.0",
      "model_name": "DropdownModel",
      "state": {
       "_options_labels": [
        "barplot",
        "boxenplot",
        "boxplot",
        "catplot",
        "countplot",
        "distplot",
        "heatmap",
        "jointplot",
        "kdeplot",
        "lineplot",
        "lmplot",
        "pairplot",
        "pointplot",
        "regplot",
        "relplot",
        "residplot",
        "scatterplot",
        "stripplot",
        "swarmplot",
        "violinplot"
       ],
       "description": "Plot",
       "index": 6,
       "layout": "IPY_MODEL_b5cd4dc2dd6b4f56a6cfae1fffeac5e4",
       "style": "IPY_MODEL_b1a8723ea8f24ceba717f6273d1ee268"
      }
     },
     "115c220ae99a445ba791cb7ed41909f7": {
      "model_module": "@jupyter-widgets/controls",
      "model_module_version": "1.4.0",
      "model_name": "FloatTextModel",
      "state": {
       "description": "width",
       "layout": "IPY_MODEL_de6fc1bbe5bd40e8be9c5393034a7902",
       "step": null,
       "style": "IPY_MODEL_a3ea148ccd044479bfab789b8fe99421",
       "value": 1
      }
     },
     "11659534298548afb9283ba76128690a": {
      "model_module": "@jupyter-widgets/base",
      "model_module_version": "1.1.0",
      "model_name": "LayoutModel",
      "state": {}
     },
     "116947708ee64064aa0f87c3410fdb8f": {
      "model_module": "@jupyter-widgets/controls",
      "model_module_version": "1.4.0",
      "model_name": "CheckboxModel",
      "state": {
       "description": "join",
       "disabled": false,
       "layout": "IPY_MODEL_cdccfa834c404a5cba5d1e0316c81ee7",
       "style": "IPY_MODEL_915fb755b153429798da76eb8dc41608",
       "value": false
      }
     },
     "116b3b7e7511460597247d610726f2b9": {
      "model_module": "@jupyter-widgets/controls",
      "model_module_version": "1.4.0",
      "model_name": "ButtonModel",
      "state": {
       "description": "remove",
       "layout": "IPY_MODEL_a20a0fff52364894abaf38a01f49e5b3",
       "style": "IPY_MODEL_0b86542b4bb14646a05d37af0a03dc39"
      }
     },
     "118acfc35af84473bdc5a4bd800e0579": {
      "model_module": "@jupyter-widgets/controls",
      "model_module_version": "1.4.0",
      "model_name": "DropdownModel",
      "state": {
       "_options_labels": [
        "area",
        "count",
        "width"
       ],
       "description": "scale",
       "index": 0,
       "layout": "IPY_MODEL_4a62cf25a734438385841340b5bcedee",
       "style": "IPY_MODEL_9f26161d668d4e129806e67a5ea68b6c"
      }
     },
     "1194382aec4e468ab0e6d1876ef625a8": {
      "model_module": "@jupyter-widgets/controls",
      "model_module_version": "1.4.0",
      "model_name": "DescriptionStyleModel",
      "state": {
       "description_width": ""
      }
     },
     "1196dd97f2a048e3b2bcacc543a8cd0a": {
      "model_module": "@jupyter-widgets/controls",
      "model_module_version": "1.4.0",
      "model_name": "CheckboxModel",
      "state": {
       "description": "square",
       "disabled": false,
       "layout": "IPY_MODEL_ad29a9532ade46cd9c5ea632fb48e4b2",
       "style": "IPY_MODEL_11e21635249047478172881a11120e38",
       "value": false
      }
     },
     "119a0a76535c4e228de6236ea2ce7512": {
      "model_module": "@jupyter-widgets/controls",
      "model_module_version": "1.4.0",
      "model_name": "DescriptionStyleModel",
      "state": {
       "description_width": ""
      }
     },
     "11b6f64108504a37a281e4e272b6661c": {
      "model_module": "@jupyter-widgets/controls",
      "model_module_version": "1.4.0",
      "model_name": "DescriptionStyleModel",
      "state": {
       "description_width": ""
      }
     },
     "11c58c75563143c69ede329968e2d4c9": {
      "model_module": "@jupyter-widgets/base",
      "model_module_version": "1.1.0",
      "model_name": "LayoutModel",
      "state": {}
     },
     "11e21635249047478172881a11120e38": {
      "model_module": "@jupyter-widgets/controls",
      "model_module_version": "1.4.0",
      "model_name": "DescriptionStyleModel",
      "state": {
       "description_width": ""
      }
     },
     "11e9d50894664f2fb04860f9abc1457a": {
      "model_module": "@jupyter-widgets/controls",
      "model_module_version": "1.4.0",
      "model_name": "CheckboxModel",
      "state": {
       "description": "dropna",
       "disabled": false,
       "layout": "IPY_MODEL_b960133acff5405da9eb1e4d1b54f63b",
       "style": "IPY_MODEL_30fb25f7300e45089864ba59d2e27a49",
       "value": false
      }
     },
     "1248d3abeab044a293083821099d7f3f": {
      "model_module": "@jupyter-widgets/controls",
      "model_module_version": "1.4.0",
      "model_name": "IntSliderModel",
      "state": {
       "description": "x_ci",
       "layout": "IPY_MODEL_dee636654827410ea573c42d39fed3ff",
       "style": "IPY_MODEL_1a2e64e29c1c4fe1abee96c2d3dd87bf",
       "value": 95
      }
     },
     "124c7d61006d43e896ce177693cdc034": {
      "model_module": "@jupyter-widgets/controls",
      "model_module_version": "1.4.0",
      "model_name": "DropdownModel",
      "state": {
       "_options_labels": [
        "1",
        "2",
        "3",
        "4",
        "5",
        "6",
        "7",
        "8",
        "9",
        "10",
        "11",
        "12",
        "13",
        "14",
        "15",
        "16",
        "17",
        "18",
        "19",
        "20",
        "21",
        "22",
        "23",
        "24",
        "25",
        "26",
        "27",
        "28",
        "29",
        "30",
        "31"
       ],
       "description": "y",
       "index": 0,
       "layout": "IPY_MODEL_26448c806c24401cb15d856ddf5896fe",
       "style": "IPY_MODEL_8e4ed59013f641ac84ea8dfb426308cc"
      }
     },
     "1262e5b6c5c5452292330922009876e0": {
      "model_module": "@jupyter-widgets/controls",
      "model_module_version": "1.4.0",
      "model_name": "HBoxModel",
      "state": {
       "children": [
        "IPY_MODEL_a2213b5975c64ed4b5dd725d99dcaf05",
        "IPY_MODEL_39b7dad1d25e4f0aae0f8068634fb299"
       ],
       "layout": "IPY_MODEL_535d90e5ae644761a12908ae8a0abb28"
      }
     },
     "12a787eaf395409dae26e968fd3a8665": {
      "model_module": "@jupyter-widgets/controls",
      "model_module_version": "1.4.0",
      "model_name": "DescriptionStyleModel",
      "state": {
       "description_width": ""
      }
     },
     "12c5be06353340e98ce1fcb349b056c7": {
      "model_module": "@jupyter-widgets/controls",
      "model_module_version": "1.4.0",
      "model_name": "HBoxModel",
      "state": {
       "children": [
        "IPY_MODEL_b3765923979c4cd5b9d3a59470645ea3",
        "IPY_MODEL_c4895ae558674a20b2c61589e13cfa4e"
       ],
       "layout": "IPY_MODEL_b149ea064c3c45dbad4c4c4df7c140d5"
      }
     },
     "12c7d6faf7d64fc2bf1cfb18578acc14": {
      "model_module": "@jupyter-widgets/controls",
      "model_module_version": "1.4.0",
      "model_name": "HBoxModel",
      "state": {
       "children": [
        "IPY_MODEL_ca1d8900714c49e7badf7d5d175609eb",
        "IPY_MODEL_1564df1178a740d1953297dc875dec8b"
       ],
       "layout": "IPY_MODEL_dfba0fc559754bec82990d981d00f314"
      }
     },
     "12cf80cb69914892805ad7ce0cf7f178": {
      "model_module": "@jupyter-widgets/controls",
      "model_module_version": "1.4.0",
      "model_name": "DescriptionStyleModel",
      "state": {
       "description_width": ""
      }
     },
     "1390961ccfd748aebf2777b98b7d18b8": {
      "model_module": "@jupyter-widgets/base",
      "model_module_version": "1.1.0",
      "model_name": "LayoutModel",
      "state": {}
     },
     "139848b3619445e297058b7122679fdd": {
      "model_module": "@jupyter-widgets/controls",
      "model_module_version": "1.4.0",
      "model_name": "CheckboxModel",
      "state": {
       "description": "notch",
       "disabled": false,
       "layout": "IPY_MODEL_164103d9573d4ffb855b253bb1606b59",
       "style": "IPY_MODEL_d74bcf30175e4ebdb5c2f054ed16d26f",
       "value": false
      }
     },
     "13be52ff58ac43da99cac8d22b4be76b": {
      "model_module": "@jupyter-widgets/base",
      "model_module_version": "1.1.0",
      "model_name": "LayoutModel",
      "state": {}
     },
     "13c7f34fb9f54265b5cc21c142e5c757": {
      "model_module": "@jupyter-widgets/controls",
      "model_module_version": "1.4.0",
      "model_name": "DescriptionStyleModel",
      "state": {
       "description_width": ""
      }
     },
     "13d8d52ebdad496cb1de0a6ea9db706a": {
      "model_module": "@jupyter-widgets/controls",
      "model_module_version": "1.4.0",
      "model_name": "DropdownModel",
      "state": {
       "_options_labels": [
        "barplot",
        "boxenplot",
        "boxplot",
        "catplot",
        "countplot",
        "distplot",
        "heatmap",
        "jointplot",
        "kdeplot",
        "lineplot",
        "lmplot",
        "pairplot",
        "pointplot",
        "regplot",
        "relplot",
        "residplot",
        "scatterplot",
        "stripplot",
        "swarmplot",
        "violinplot"
       ],
       "description": "Plot",
       "index": 0,
       "layout": "IPY_MODEL_05cb5cb33170456ebf24eedd706f036a",
       "style": "IPY_MODEL_414eb71b3aee4116847e022b5c346ddb"
      }
     },
     "13da6fbb78a34dd8af624eafe82b863d": {
      "model_module": "@jupyter-widgets/controls",
      "model_module_version": "1.4.0",
      "model_name": "CheckboxModel",
      "state": {
       "description": "shade_lowest",
       "disabled": false,
       "layout": "IPY_MODEL_1e7f4d0826874aa78829044173a22dfa",
       "style": "IPY_MODEL_b26761d85f47457d9b46e23c2556c91b",
       "value": false
      }
     },
     "141def824bad4beebc3fced57a8a0948": {
      "model_module": "@jupyter-widgets/base",
      "model_module_version": "1.1.0",
      "model_name": "LayoutModel",
      "state": {}
     },
     "14336a09d06f4d27a7358f26cf3a854f": {
      "model_module": "@jupyter-widgets/controls",
      "model_module_version": "1.4.0",
      "model_name": "HBoxModel",
      "state": {
       "children": [
        "IPY_MODEL_fcbfd57b25c240b2ada847cd0785c0ca",
        "IPY_MODEL_e9e3e3e7c85e471daa1dc15df5b4c78c"
       ],
       "layout": "IPY_MODEL_05efd5f7a1bf483b8f5c84b87a6358f6"
      }
     },
     "143c620bf93b4b07b872cef85c3309e0": {
      "model_module": "@jupyter-widgets/base",
      "model_module_version": "1.1.0",
      "model_name": "LayoutModel",
      "state": {}
     },
     "1452625acb4d4e9f9e532c3adb9b39b1": {
      "model_module": "@jupyter-widgets/controls",
      "model_module_version": "1.4.0",
      "model_name": "DescriptionStyleModel",
      "state": {
       "description_width": ""
      }
     },
     "145fcfa88da64ffaa778845e515ae18b": {
      "model_module": "@jupyter-widgets/controls",
      "model_module_version": "1.4.0",
      "model_name": "DescriptionStyleModel",
      "state": {
       "description_width": ""
      }
     },
     "146367f2d88644e39157f42fb5c379cc": {
      "model_module": "@jupyter-widgets/controls",
      "model_module_version": "1.4.0",
      "model_name": "DescriptionStyleModel",
      "state": {
       "description_width": ""
      }
     },
     "146b4a7014dd433ea8a0274f8bc396a4": {
      "model_module": "@jupyter-widgets/controls",
      "model_module_version": "1.4.0",
      "model_name": "DescriptionStyleModel",
      "state": {
       "description_width": ""
      }
     },
     "149283245b1e4aa189fbb7315cd1e3b0": {
      "model_module": "@jupyter-widgets/base",
      "model_module_version": "1.1.0",
      "model_name": "LayoutModel",
      "state": {}
     },
     "14a561233fe147b9b46161cc92edd684": {
      "model_module": "@jupyter-widgets/controls",
      "model_module_version": "1.4.0",
      "model_name": "DescriptionStyleModel",
      "state": {
       "description_width": ""
      }
     },
     "14d4fad0dafd44a587646e860a7bd48e": {
      "model_module": "@jupyter-widgets/base",
      "model_module_version": "1.1.0",
      "model_name": "LayoutModel",
      "state": {}
     },
     "14eb1098fad849049a8e9bb67254a8f8": {
      "model_module": "@jupyter-widgets/base",
      "model_module_version": "1.1.0",
      "model_name": "LayoutModel",
      "state": {}
     },
     "14fbd4c6ae1347ee9e211bc2e3b1848b": {
      "model_module": "@jupyter-widgets/base",
      "model_module_version": "1.1.0",
      "model_name": "LayoutModel",
      "state": {}
     },
     "15086f6abe97436aa1c4d4f7604ae038": {
      "model_module": "@jupyter-widgets/controls",
      "model_module_version": "1.4.0",
      "model_name": "DescriptionStyleModel",
      "state": {
       "description_width": ""
      }
     },
     "1564df1178a740d1953297dc875dec8b": {
      "model_module": "@jupyter-widgets/controls",
      "model_module_version": "1.4.0",
      "model_name": "ButtonModel",
      "state": {
       "description": "remove",
       "layout": "IPY_MODEL_e710ac4591524771b4ff5abf38ff4988",
       "style": "IPY_MODEL_22f0e130946f4477aade6902deb62e96"
      }
     },
     "1570d02eed20470bbf23a30d8284dadf": {
      "model_module": "@jupyter-widgets/base",
      "model_module_version": "1.1.0",
      "model_name": "LayoutModel",
      "state": {}
     },
     "1594d752f7b3423792b0b99e30039ad3": {
      "model_module": "@jupyter-widgets/base",
      "model_module_version": "1.1.0",
      "model_name": "LayoutModel",
      "state": {}
     },
     "15c4a5c68d4748649e5c634348f34405": {
      "model_module": "@jupyter-widgets/controls",
      "model_module_version": "1.4.0",
      "model_name": "IntTextModel",
      "state": {
       "description": "x_bins",
       "layout": "IPY_MODEL_ae4ae206ed224ce8a5cf318eff584217",
       "step": 1,
       "style": "IPY_MODEL_4bb35104f12146a2b45d5661744a92d9",
       "value": 10
      }
     },
     "160dbe7734994ac198edc1d0f855691a": {
      "model_module": "@jupyter-widgets/controls",
      "model_module_version": "1.4.0",
      "model_name": "DescriptionStyleModel",
      "state": {
       "description_width": ""
      }
     },
     "164103d9573d4ffb855b253bb1606b59": {
      "model_module": "@jupyter-widgets/base",
      "model_module_version": "1.1.0",
      "model_name": "LayoutModel",
      "state": {}
     },
     "1653b6f2df064ae19d6f2cc10c473253": {
      "model_module": "@jupyter-widgets/base",
      "model_module_version": "1.1.0",
      "model_name": "LayoutModel",
      "state": {}
     },
     "165e3f5998fe490ca59b6ee55be6369e": {
      "model_module": "@jupyter-widgets/base",
      "model_module_version": "1.1.0",
      "model_name": "LayoutModel",
      "state": {}
     },
     "166e698db4ec46a284ff13a7f5b22d4c": {
      "model_module": "@jupyter-widgets/base",
      "model_module_version": "1.1.0",
      "model_name": "LayoutModel",
      "state": {}
     },
     "16778f4b68ef431b80c6786636b3aaab": {
      "model_module": "@jupyter-widgets/controls",
      "model_module_version": "1.4.0",
      "model_name": "DropdownModel",
      "state": {
       "_options_labels": [
        "scott",
        "silverman"
       ],
       "description": "bw",
       "index": 0,
       "layout": "IPY_MODEL_f40e3796f319474597865c0a846d1960",
       "style": "IPY_MODEL_ad04f3debbce421c841a9eb84d20be98"
      }
     },
     "16794d86debf4ce8b0ecd0f0e53e3710": {
      "model_module": "@jupyter-widgets/controls",
      "model_module_version": "1.4.0",
      "model_name": "HBoxModel",
      "state": {
       "children": [
        "IPY_MODEL_b3765923979c4cd5b9d3a59470645ea3",
        "IPY_MODEL_112dd3bd0b4b405e96a9b1d31d2ec749"
       ],
       "layout": "IPY_MODEL_b56d7f867a224ddf9880ee8655d91816"
      }
     },
     "1689ea2439b14202ac946fd2caa31ed6": {
      "model_module": "@jupyter-widgets/controls",
      "model_module_version": "1.4.0",
      "model_name": "IntTextModel",
      "state": {
       "description": "space",
       "layout": "IPY_MODEL_537c53b1c216444da13531d929d447ab",
       "step": 1,
       "style": "IPY_MODEL_3cb4b24dd27e49afa79bcf83f6a0b1c3",
       "value": 1
      }
     },
     "1689fc574d854fcf87aef6d7f780ea09": {
      "model_module": "@jupyter-widgets/controls",
      "model_module_version": "1.4.0",
      "model_name": "CheckboxModel",
      "state": {
       "description": "cbar",
       "disabled": false,
       "layout": "IPY_MODEL_1390961ccfd748aebf2777b98b7d18b8",
       "style": "IPY_MODEL_5e672d7e987c48cbb729bd1fd4b1a023",
       "value": false
      }
     },
     "1719c24bbf064d0f8b71467f2eea3ecc": {
      "model_module": "@jupyter-widgets/base",
      "model_module_version": "1.1.0",
      "model_name": "LayoutModel",
      "state": {}
     },
     "171b3b2f505e4ca39e254d97482277ec": {
      "model_module": "@jupyter-widgets/controls",
      "model_module_version": "1.4.0",
      "model_name": "DescriptionStyleModel",
      "state": {
       "description_width": ""
      }
     },
     "17278c3844064866a0c021eb8b72a220": {
      "model_module": "@jupyter-widgets/controls",
      "model_module_version": "1.4.0",
      "model_name": "DescriptionStyleModel",
      "state": {
       "description_width": ""
      }
     },
     "1739abeee2e445a68e0144bd21bcde61": {
      "model_module": "@jupyter-widgets/base",
      "model_module_version": "1.1.0",
      "model_name": "LayoutModel",
      "state": {}
     },
     "17453afdab574edbbd5ece713a8688f4": {
      "model_module": "@jupyter-widgets/base",
      "model_module_version": "1.1.0",
      "model_name": "LayoutModel",
      "state": {}
     },
     "1764ef11b2234552aef69c18afe06b6f": {
      "model_module": "@jupyter-widgets/base",
      "model_module_version": "1.1.0",
      "model_name": "LayoutModel",
      "state": {}
     },
     "17afa6b8598f467ba2416ab1ba8f3244": {
      "model_module": "@jupyter-widgets/base",
      "model_module_version": "1.1.0",
      "model_name": "LayoutModel",
      "state": {}
     },
     "17d0ec2932d147d49862be61205f55f0": {
      "model_module": "@jupyter-widgets/controls",
      "model_module_version": "1.4.0",
      "model_name": "VBoxModel",
      "state": {
       "children": [
        "IPY_MODEL_7d515a7989374b338add1709256d82a7",
        "IPY_MODEL_5f67ef8ccf834f39939047c2b75d7419",
        "IPY_MODEL_91bd3a9efee742de83f58da86f2cb033",
        "IPY_MODEL_1154e4042b374ebf8ef6bd22c7a9754d"
       ],
       "layout": "IPY_MODEL_93e3715f573e48b6abd75ed19d65d601"
      }
     },
     "17e3e8992e764167a4dd01ac8c6ac65e": {
      "model_module": "@jupyter-widgets/controls",
      "model_module_version": "1.4.0",
      "model_name": "TextModel",
      "state": {
       "description": "fmt",
       "layout": "IPY_MODEL_7de1402ccc46441a9e98abeff73fbfac",
       "style": "IPY_MODEL_6c1ced30e5e9451b9edb6ce7314d2dc9"
      }
     },
     "17fa000677524f2fbee59f2ea0cb373e": {
      "model_module": "@jupyter-widgets/base",
      "model_module_version": "1.1.0",
      "model_name": "LayoutModel",
      "state": {}
     },
     "18001ac1116d4a5da534cf6ac562989e": {
      "model_module": "@jupyter-widgets/controls",
      "model_module_version": "1.4.0",
      "model_name": "DescriptionStyleModel",
      "state": {
       "description_width": ""
      }
     },
     "188658b8ae4f422c9eb68044b38899ea": {
      "model_module": "@jupyter-widgets/controls",
      "model_module_version": "1.4.0",
      "model_name": "DescriptionStyleModel",
      "state": {
       "description_width": ""
      }
     },
     "18dd6b890bcc48cd980936dff2fc9d5f": {
      "model_module": "@jupyter-widgets/base",
      "model_module_version": "1.1.0",
      "model_name": "LayoutModel",
      "state": {}
     },
     "1905d18fa1904c048ac7b157965ebfbc": {
      "model_module": "@jupyter-widgets/controls",
      "model_module_version": "1.4.0",
      "model_name": "FloatTextModel",
      "state": {
       "description": "aspect",
       "layout": "IPY_MODEL_91a8ef91c4fa4270a71fefbe98df9710",
       "step": null,
       "style": "IPY_MODEL_baa09bc9a52243fa94707ca6477c8b6e",
       "value": 1
      }
     },
     "1957662260d24193bbbc9326c73d6ec1": {
      "model_module": "@jupyter-widgets/controls",
      "model_module_version": "1.4.0",
      "model_name": "LabelModel",
      "state": {
       "layout": "IPY_MODEL_38e35ffa4a5a4de1a4bfe5bfb23ce6de",
       "style": "IPY_MODEL_33be7ddd7b5a47ac8494a9ccb10f3baf",
       "value": "---"
      }
     },
     "195cb5fbf57442b189e3f7ec46c2a53e": {
      "model_module": "@jupyter-widgets/controls",
      "model_module_version": "1.4.0",
      "model_name": "DropdownModel",
      "state": {
       "_options_labels": [
        "1",
        "2",
        "3",
        "4",
        "5",
        "6",
        "7",
        "8",
        "9",
        "10",
        "11",
        "12",
        "13",
        "14",
        "15",
        "16",
        "17",
        "18",
        "19",
        "20",
        "21",
        "22",
        "23",
        "24",
        "25",
        "26",
        "27",
        "28",
        "29",
        "30",
        "31"
       ],
       "description": "hue",
       "index": 0,
       "layout": "IPY_MODEL_af5b688f526c4e20882dd50bea9355b8",
       "style": "IPY_MODEL_3dd7ea3001874d42b48e3f5b9de32f65"
      }
     },
     "1961814ce1c74d338280ecf0a30b622c": {
      "model_module": "@jupyter-widgets/controls",
      "model_module_version": "1.4.0",
      "model_name": "DescriptionStyleModel",
      "state": {
       "description_width": ""
      }
     },
     "196e3e59c12c4708a972a4ee78e8fbe3": {
      "model_module": "@jupyter-widgets/controls",
      "model_module_version": "1.4.0",
      "model_name": "DescriptionStyleModel",
      "state": {
       "description_width": ""
      }
     },
     "19758a04ba304832b142ce70f75055c3": {
      "model_module": "@jupyter-widgets/controls",
      "model_module_version": "1.4.0",
      "model_name": "DescriptionStyleModel",
      "state": {
       "description_width": ""
      }
     },
     "1978962018294e21a68dca3bf1cfb9a7": {
      "model_module": "@jupyter-widgets/base",
      "model_module_version": "1.1.0",
      "model_name": "LayoutModel",
      "state": {}
     },
     "19847492bb2140d4bcd0ccf86e3dbd14": {
      "model_module": "@jupyter-widgets/base",
      "model_module_version": "1.1.0",
      "model_name": "LayoutModel",
      "state": {}
     },
     "19b4276314c14e5f8a2e4c03d2eb8134": {
      "model_module": "@jupyter-widgets/controls",
      "model_module_version": "1.4.0",
      "model_name": "DescriptionStyleModel",
      "state": {
       "description_width": ""
      }
     },
     "19bec5744a854610ba5f658bc03c2b43": {
      "model_module": "@jupyter-widgets/controls",
      "model_module_version": "1.4.0",
      "model_name": "DropdownModel",
      "state": {
       "_options_labels": [
        "auto",
        "hist",
        "kde"
       ],
       "description": "diag_kind",
       "index": 0,
       "layout": "IPY_MODEL_7bfb9b84ee75461b9539fa7ee132730f",
       "style": "IPY_MODEL_14a561233fe147b9b46161cc92edd684"
      }
     },
     "19cbf1d138994dceae1b45864e73f991": {
      "model_module": "@jupyter-widgets/controls",
      "model_module_version": "1.4.0",
      "model_name": "DropdownModel",
      "state": {
       "_options_labels": [
        "True",
        "row",
        "col"
       ],
       "description": "sharex",
       "index": 0,
       "layout": "IPY_MODEL_bee0e0b867464389badb7438ad025424",
       "style": "IPY_MODEL_2dad622fba0b433ca98bd846fb4d972c"
      }
     },
     "19cf95b3552c485ba64a8b811e6edc5e": {
      "model_module": "@jupyter-widgets/controls",
      "model_module_version": "1.4.0",
      "model_name": "DescriptionStyleModel",
      "state": {
       "description_width": ""
      }
     },
     "19f956d5747f4855bb7016795ee7238d": {
      "model_module": "@jupyter-widgets/base",
      "model_module_version": "1.1.0",
      "model_name": "LayoutModel",
      "state": {}
     },
     "1a2e02c7773f4e188d94f87799001100": {
      "model_module": "@jupyter-widgets/controls",
      "model_module_version": "1.4.0",
      "model_name": "DropdownModel",
      "state": {
       "_options_labels": [
        "box",
        "quartile",
        "point",
        "stick"
       ],
       "description": "inner",
       "index": 0,
       "layout": "IPY_MODEL_ead42430d463458899d3ff00e55709ed",
       "style": "IPY_MODEL_f3c62296cfd74cc883dc810dac674758"
      }
     },
     "1a2e64e29c1c4fe1abee96c2d3dd87bf": {
      "model_module": "@jupyter-widgets/controls",
      "model_module_version": "1.4.0",
      "model_name": "SliderStyleModel",
      "state": {
       "description_width": ""
      }
     },
     "1a5f7aa6b8134f67a211c944daae75ef": {
      "model_module": "@jupyter-widgets/base",
      "model_module_version": "1.1.0",
      "model_name": "LayoutModel",
      "state": {}
     },
     "1a6b4d2487e945faad20006ad5ecb0d8": {
      "model_module": "@jupyter-widgets/base",
      "model_module_version": "1.1.0",
      "model_name": "LayoutModel",
      "state": {}
     },
     "1a89d7addc5b434bbf8fa2f3820bf3d3": {
      "model_module": "@jupyter-widgets/controls",
      "model_module_version": "1.4.0",
      "model_name": "ButtonStyleModel",
      "state": {}
     },
     "1acc29ce897741b9b61731e3cbb2dd29": {
      "model_module": "@jupyter-widgets/controls",
      "model_module_version": "1.4.0",
      "model_name": "DescriptionStyleModel",
      "state": {
       "description_width": ""
      }
     },
     "1ad6a73bd843485a9887f9d49ce049c9": {
      "model_module": "@jupyter-widgets/controls",
      "model_module_version": "1.4.0",
      "model_name": "DescriptionStyleModel",
      "state": {
       "description_width": ""
      }
     },
     "1b39e7c8bfec4b2484bfae03e5091e89": {
      "model_module": "@jupyter-widgets/base",
      "model_module_version": "1.1.0",
      "model_name": "LayoutModel",
      "state": {}
     },
     "1b536408a9b04ed5bf96ecc2782d7f5a": {
      "model_module": "@jupyter-widgets/controls",
      "model_module_version": "1.4.0",
      "model_name": "CheckboxModel",
      "state": {
       "description": "square",
       "disabled": false,
       "layout": "IPY_MODEL_6b0cdbaa3b0f4ec08376fcb1601d6009",
       "style": "IPY_MODEL_1c6769be94fb4cb6aec98b7d8dc5efd1",
       "value": false
      }
     },
     "1b6aba047a8d420ebe8ce67714d97801": {
      "model_module": "@jupyter-widgets/base",
      "model_module_version": "1.1.0",
      "model_name": "LayoutModel",
      "state": {}
     },
     "1b8181b7dc6844859deddec11c96a4c7": {
      "model_module": "@jupyter-widgets/base",
      "model_module_version": "1.1.0",
      "model_name": "LayoutModel",
      "state": {}
     },
     "1c07b7381bd14e06a18467aaf956b50c": {
      "model_module": "@jupyter-widgets/base",
      "model_module_version": "1.1.0",
      "model_name": "LayoutModel",
      "state": {}
     },
     "1c1afde449374c18b00fe6f750de0b9e": {
      "model_module": "@jupyter-widgets/controls",
      "model_module_version": "1.4.0",
      "model_name": "IntTextModel",
      "state": {
       "description": "x_bins",
       "layout": "IPY_MODEL_bc8636665c4d44a5b94edcf113ace447",
       "step": 1,
       "style": "IPY_MODEL_88e7426b0e0a46998f2402cde02a732e",
       "value": 10
      }
     },
     "1c38764a90b740ee8e947406c8ed7fdf": {
      "model_module": "@jupyter-widgets/base",
      "model_module_version": "1.1.0",
      "model_name": "LayoutModel",
      "state": {}
     },
     "1c3f3daa23594041b821bdee2c6385ec": {
      "model_module": "@jupyter-widgets/controls",
      "model_module_version": "1.4.0",
      "model_name": "DescriptionStyleModel",
      "state": {
       "description_width": ""
      }
     },
     "1c4d9d5199044480a3771051c033d336": {
      "model_module": "@jupyter-widgets/controls",
      "model_module_version": "1.4.0",
      "model_name": "CheckboxModel",
      "state": {
       "description": "shade",
       "disabled": false,
       "layout": "IPY_MODEL_b04f0debfcc045be81a3ccd90eb1a0b7",
       "style": "IPY_MODEL_eab9c80c6de2473ca8fd7e443a63d38e",
       "value": false
      }
     },
     "1c6769be94fb4cb6aec98b7d8dc5efd1": {
      "model_module": "@jupyter-widgets/controls",
      "model_module_version": "1.4.0",
      "model_name": "DescriptionStyleModel",
      "state": {
       "description_width": ""
      }
     },
     "1c9046593c914234ba88060aad31bbac": {
      "model_module": "@jupyter-widgets/base",
      "model_module_version": "1.1.0",
      "model_name": "LayoutModel",
      "state": {}
     },
     "1cbe2062e9c048569e6c686e268a0368": {
      "model_module": "@jupyter-widgets/base",
      "model_module_version": "1.1.0",
      "model_name": "LayoutModel",
      "state": {}
     },
     "1cf94bb200ef4814ae5b1bb749b3a6f1": {
      "model_module": "@jupyter-widgets/controls",
      "model_module_version": "1.4.0",
      "model_name": "FloatTextModel",
      "state": {
       "description": "vmin",
       "layout": "IPY_MODEL_8f90b91fe6424c2eb414499a836aae4c",
       "step": null,
       "style": "IPY_MODEL_fbb0d069991b4225bda6fb0094f4b92d",
       "value": 1
      }
     },
     "1d2a568d2be04ff08f5c5ab2307eb8d2": {
      "model_module": "@jupyter-widgets/base",
      "model_module_version": "1.1.0",
      "model_name": "LayoutModel",
      "state": {}
     },
     "1d3f139cafdb4974a7e2fe7a06be14ec": {
      "model_module": "@jupyter-widgets/controls",
      "model_module_version": "1.4.0",
      "model_name": "VBoxModel",
      "state": {
       "children": [
        "IPY_MODEL_a00b9501cce24f91986e030648c19b88",
        "IPY_MODEL_6831b273feab4f6d931cee34d407a359",
        "IPY_MODEL_fac7dcef866e4685a2e6b440ecc2ea06",
        "IPY_MODEL_12c5be06353340e98ce1fcb349b056c7",
        "IPY_MODEL_35f4a4e418ee4d5f8368e230cceeba33"
       ],
       "layout": "IPY_MODEL_97c2ddf7d223493b9dab45f77e6ae101"
      }
     },
     "1d614d7fde2845418e268dc5a6f3f2da": {
      "model_module": "@jupyter-widgets/controls",
      "model_module_version": "1.4.0",
      "model_name": "DescriptionStyleModel",
      "state": {
       "description_width": ""
      }
     },
     "1d7af1f584ac4b538fc8692ed8481c26": {
      "model_module": "@jupyter-widgets/base",
      "model_module_version": "1.1.0",
      "model_name": "LayoutModel",
      "state": {}
     },
     "1d868c08233448f28ee92908d13b266d": {
      "model_module": "@jupyter-widgets/base",
      "model_module_version": "1.1.0",
      "model_name": "LayoutModel",
      "state": {}
     },
     "1da3e0400fb6409f8a9928fffe32284f": {
      "model_module": "@jupyter-widgets/base",
      "model_module_version": "1.1.0",
      "model_name": "LayoutModel",
      "state": {}
     },
     "1e40c0cb69f449ffb52225912333c647": {
      "model_module": "@jupyter-widgets/controls",
      "model_module_version": "1.4.0",
      "model_name": "CheckboxModel",
      "state": {
       "description": "cbar",
       "disabled": false,
       "layout": "IPY_MODEL_3e528c828cc24b03be2296fc7051e7e8",
       "style": "IPY_MODEL_9cc9d177a1344aa8aa4d308707f9712e",
       "value": false
      }
     },
     "1e572a03ab0646e99b01b7e7f0e8c859": {
      "model_module": "@jupyter-widgets/controls",
      "model_module_version": "1.4.0",
      "model_name": "CheckboxModel",
      "state": {
       "description": "legend_out",
       "disabled": false,
       "layout": "IPY_MODEL_661b05d3911f4947b0a59bd96e3a5d8b",
       "style": "IPY_MODEL_e9631db3e07d4ce3b2dde01138db517b",
       "value": false
      }
     },
     "1e78314550284c14be44b7562faf1232": {
      "model_module": "@jupyter-widgets/base",
      "model_module_version": "1.1.0",
      "model_name": "LayoutModel",
      "state": {}
     },
     "1e7c75322d2041b3a9d6e5b7f142a745": {
      "model_module": "@jupyter-widgets/controls",
      "model_module_version": "1.4.0",
      "model_name": "HBoxModel",
      "state": {
       "children": [
        "IPY_MODEL_34fb785938634b98a8bed9b886f640e8",
        "IPY_MODEL_e26a0525104d4a87a1dd09a06ec62718"
       ],
       "layout": "IPY_MODEL_eed14040be7f419082add6a06215a18f"
      }
     },
     "1e7f4d0826874aa78829044173a22dfa": {
      "model_module": "@jupyter-widgets/base",
      "model_module_version": "1.1.0",
      "model_name": "LayoutModel",
      "state": {}
     },
     "1e9373fd580d4db4a7c73bdac1b17ccd": {
      "model_module": "@jupyter-widgets/base",
      "model_module_version": "1.1.0",
      "model_name": "LayoutModel",
      "state": {}
     },
     "1efc6c6b6f834e09b7bbcdc82c7eb6ed": {
      "model_module": "@jupyter-widgets/controls",
      "model_module_version": "1.4.0",
      "model_name": "LabelModel",
      "state": {
       "layout": "IPY_MODEL_b2ddbe14fbe84153beb3f2b87ac350cf",
       "style": "IPY_MODEL_6e068b48438f442ebb4e94eb2bc53530",
       "value": "---"
      }
     },
     "1f54841e490c49419c969072d104aa29": {
      "model_module": "@jupyter-widgets/controls",
      "model_module_version": "1.4.0",
      "model_name": "DropdownModel",
      "state": {
       "_options_labels": [
        "v",
        "h"
       ],
       "description": "orient",
       "index": 0,
       "layout": "IPY_MODEL_ce9d5f96a64c4aa392d04ea09fb89d7d",
       "style": "IPY_MODEL_88894f9e328a41d395a6324f531c1123"
      }
     },
     "1f5deade2b5f43b8b762487ad6662f1b": {
      "model_module": "@jupyter-widgets/controls",
      "model_module_version": "1.4.0",
      "model_name": "DescriptionStyleModel",
      "state": {
       "description_width": ""
      }
     },
     "1f79589ec54141c8aaf8a451ecdd9149": {
      "model_module": "@jupyter-widgets/base",
      "model_module_version": "1.1.0",
      "model_name": "LayoutModel",
      "state": {}
     },
     "1f943ada06994e75a63a1bf86a3176ef": {
      "model_module": "@jupyter-widgets/base",
      "model_module_version": "1.1.0",
      "model_name": "LayoutModel",
      "state": {}
     },
     "1fc3e7f6ef794e2bad7de73810eb5c31": {
      "model_module": "@jupyter-widgets/controls",
      "model_module_version": "1.4.0",
      "model_name": "DescriptionStyleModel",
      "state": {
       "description_width": ""
      }
     },
     "1fd9f2fa61604244bfffac5c69e73943": {
      "model_module": "@jupyter-widgets/base",
      "model_module_version": "1.1.0",
      "model_name": "LayoutModel",
      "state": {}
     },
     "20084e3c736a4378a2683c1c8d908639": {
      "model_module": "@jupyter-widgets/base",
      "model_module_version": "1.1.0",
      "model_name": "LayoutModel",
      "state": {}
     },
     "203bab78c8af4c178a9f357e4abf7931": {
      "model_module": "@jupyter-widgets/base",
      "model_module_version": "1.1.0",
      "model_name": "LayoutModel",
      "state": {}
     },
     "2042628234124622973aaf7d7570538f": {
      "model_module": "@jupyter-widgets/base",
      "model_module_version": "1.1.0",
      "model_name": "LayoutModel",
      "state": {}
     },
     "205103ab15474d71b07e98702a9a9cca": {
      "model_module": "@jupyter-widgets/controls",
      "model_module_version": "1.4.0",
      "model_name": "DropdownModel",
      "state": {
       "_options_labels": [
        "o",
        "v",
        "^",
        "<",
        ">",
        "8",
        "s",
        "p",
        "*",
        "h",
        "H",
        "D",
        "d",
        "P",
        "X"
       ],
       "description": "marker",
       "index": 0,
       "layout": "IPY_MODEL_999b1e7c6e4042fab26adc1d43bee51c",
       "style": "IPY_MODEL_fbf166a49f4c417b8b603a75b94bbd4e"
      }
     },
     "2056e9b0a9704cea82c97e4814d14b4f": {
      "model_module": "@jupyter-widgets/controls",
      "model_module_version": "1.4.0",
      "model_name": "HBoxModel",
      "state": {
       "children": [
        "IPY_MODEL_a2213b5975c64ed4b5dd725d99dcaf05",
        "IPY_MODEL_7cec965a6e974837ac1d4f2caa4c6a96"
       ],
       "layout": "IPY_MODEL_d11aebcd0e4f4b8abeaddb2c56a423e6"
      }
     },
     "20849334a7a84e928e6afaa566ad28ed": {
      "model_module": "@jupyter-widgets/controls",
      "model_module_version": "1.4.0",
      "model_name": "DescriptionStyleModel",
      "state": {
       "description_width": ""
      }
     },
     "2098547fa2f2476b8b1f3dab25d83a01": {
      "model_module": "@jupyter-widgets/base",
      "model_module_version": "1.1.0",
      "model_name": "LayoutModel",
      "state": {}
     },
     "20b6a509cc36499184a0ea33b95ab167": {
      "model_module": "@jupyter-widgets/controls",
      "model_module_version": "1.4.0",
      "model_name": "DescriptionStyleModel",
      "state": {
       "description_width": ""
      }
     },
     "20cd7eedf9c8486bb513c6f7adbb1adc": {
      "model_module": "@jupyter-widgets/controls",
      "model_module_version": "1.4.0",
      "model_name": "DescriptionStyleModel",
      "state": {
       "description_width": ""
      }
     },
     "2106b1a5d48d4e52a266e8558038b2dd": {
      "model_module": "@jupyter-widgets/controls",
      "model_module_version": "1.4.0",
      "model_name": "DescriptionStyleModel",
      "state": {
       "description_width": ""
      }
     },
     "211146f7be3e42949a981b18aabc513c": {
      "model_module": "@jupyter-widgets/controls",
      "model_module_version": "1.4.0",
      "model_name": "DropdownModel",
      "state": {
       "_options_labels": [
        "True",
        "col",
        "row"
       ],
       "description": "sharex",
       "index": 0,
       "layout": "IPY_MODEL_a08417994a4c44b5b67370c824a0edcc",
       "style": "IPY_MODEL_8f06f7765e0e4d48a5de81175a6b378f"
      }
     },
     "2125197f19ed4a6b8d90332c11aa4495": {
      "model_module": "@jupyter-widgets/controls",
      "model_module_version": "1.4.0",
      "model_name": "CheckboxModel",
      "state": {
       "description": "robust",
       "disabled": false,
       "layout": "IPY_MODEL_5cf235c41916431b892ac307a5f71fda",
       "style": "IPY_MODEL_e683d7651a8340a9a606499e3d8be58b",
       "value": false
      }
     },
     "2148248df63f4cccab5d70026754bbf5": {
      "model_module": "@jupyter-widgets/base",
      "model_module_version": "1.1.0",
      "model_name": "LayoutModel",
      "state": {}
     },
     "2184ce2ed12e465ea7fb8e3304ab903e": {
      "model_module": "@jupyter-widgets/controls",
      "model_module_version": "1.4.0",
      "model_name": "IntTextModel",
      "state": {
       "description": "order",
       "layout": "IPY_MODEL_70cebfe9f7ac4997ab55595b1ad01025",
       "step": 1,
       "style": "IPY_MODEL_6c40c83664c3499ca1b56b539753512b",
       "value": 1
      }
     },
     "2234ab36ece64ef89b3ee362e53d0771": {
      "model_module": "@jupyter-widgets/controls",
      "model_module_version": "1.4.0",
      "model_name": "FloatTextModel",
      "state": {
       "description": "whis",
       "layout": "IPY_MODEL_1594d752f7b3423792b0b99e30039ad3",
       "step": null,
       "style": "IPY_MODEL_5589dc5466f04943af62f1c1ea200496",
       "value": 1
      }
     },
     "223bd1de228f4cdab4a678b74fe6e1e6": {
      "model_module": "@jupyter-widgets/controls",
      "model_module_version": "1.4.0",
      "model_name": "ButtonStyleModel",
      "state": {}
     },
     "226e4ec335ec4acc95e768a8f2cad130": {
      "model_module": "@jupyter-widgets/controls",
      "model_module_version": "1.4.0",
      "model_name": "DropdownModel",
      "state": {
       "_options_labels": [
        "o",
        "v",
        "^",
        "<",
        ">",
        "8",
        "s",
        "p",
        "*",
        "h",
        "H",
        "D",
        "d",
        "P",
        "X"
       ],
       "description": "marker",
       "index": 0,
       "layout": "IPY_MODEL_1b6aba047a8d420ebe8ce67714d97801",
       "style": "IPY_MODEL_e347c683411a4081bfa2f3571d9533c9"
      }
     },
     "2272b2ae1b32493595e4bb4bc15620f4": {
      "model_module": "@jupyter-widgets/controls",
      "model_module_version": "1.4.0",
      "model_name": "FloatSliderModel",
      "state": {
       "description": "alpha",
       "layout": "IPY_MODEL_3904b78a8bf74f6886a736d9ce650605",
       "max": 1,
       "step": 0.05,
       "style": "IPY_MODEL_7203afece05046e7952f477dc346114e"
      }
     },
     "228be1a17e984a7d9f5a8c7a7fff9e10": {
      "model_module": "@jupyter-widgets/base",
      "model_module_version": "1.1.0",
      "model_name": "LayoutModel",
      "state": {}
     },
     "22a7263f472c44c3a3bad21b21570c1b": {
      "model_module": "@jupyter-widgets/base",
      "model_module_version": "1.1.0",
      "model_name": "LayoutModel",
      "state": {}
     },
     "22b16c2d4dd545cc9ef11cfaf4f98500": {
      "model_module": "@jupyter-widgets/controls",
      "model_module_version": "1.4.0",
      "model_name": "DescriptionStyleModel",
      "state": {
       "description_width": ""
      }
     },
     "22bdb420b58c49ab837299189fab6abb": {
      "model_module": "@jupyter-widgets/base",
      "model_module_version": "1.1.0",
      "model_name": "LayoutModel",
      "state": {}
     },
     "22c070fc1d7c4ae2ac90c441c509871e": {
      "model_module": "@jupyter-widgets/controls",
      "model_module_version": "1.4.0",
      "model_name": "DescriptionStyleModel",
      "state": {
       "description_width": ""
      }
     },
     "22edf08a61c6494780a994115748f157": {
      "model_module": "@jupyter-widgets/base",
      "model_module_version": "1.1.0",
      "model_name": "LayoutModel",
      "state": {}
     },
     "22f0e130946f4477aade6902deb62e96": {
      "model_module": "@jupyter-widgets/controls",
      "model_module_version": "1.4.0",
      "model_name": "ButtonStyleModel",
      "state": {}
     },
     "232ddb3047d14ec094bb2eea31eaa4aa": {
      "model_module": "@jupyter-widgets/controls",
      "model_module_version": "1.4.0",
      "model_name": "DescriptionStyleModel",
      "state": {
       "description_width": ""
      }
     },
     "238549afb19f4468b76c04e8e4e34309": {
      "model_module": "@jupyter-widgets/controls",
      "model_module_version": "1.4.0",
      "model_name": "FloatTextModel",
      "state": {
       "description": "saturation",
       "layout": "IPY_MODEL_eeac803bdede4eba812507f72335fa7c",
       "step": null,
       "style": "IPY_MODEL_00d1bfaef3684401aa467ce9a146b071",
       "value": 1
      }
     },
     "23a3a98e856e4f1a8cd977212aba2b02": {
      "model_module": "@jupyter-widgets/controls",
      "model_module_version": "1.4.0",
      "model_name": "DropdownModel",
      "state": {
       "_options_labels": [
        "linear",
        "exponential",
        "area"
       ],
       "description": "scale",
       "index": 0,
       "layout": "IPY_MODEL_ff53f7446e834bd38e6e0a60d34b5628",
       "style": "IPY_MODEL_10bbe46f6ae44ed28470bd193ac12775"
      }
     },
     "23a7756ea14446b1a8b30a93a0c37b5e": {
      "model_module": "@jupyter-widgets/controls",
      "model_module_version": "1.4.0",
      "model_name": "DescriptionStyleModel",
      "state": {
       "description_width": ""
      }
     },
     "23cce3abb67c4256ad4c9abcf5e3637f": {
      "model_module": "@jupyter-widgets/base",
      "model_module_version": "1.1.0",
      "model_name": "LayoutModel",
      "state": {}
     },
     "23f16d71261544358a31c72dc4c52858": {
      "model_module": "@jupyter-widgets/controls",
      "model_module_version": "1.4.0",
      "model_name": "DropdownModel",
      "state": {
       "_options_labels": [
        "Displacement",
        "Miles_per_Gallon",
        "Acceleration",
        "Origin",
        "Horsepower",
        "Cylinders",
        "Name",
        "Year",
        "Weight_in_lbs"
       ],
       "description": "sizes",
       "index": 0,
       "layout": "IPY_MODEL_6ee694c7209e408fb47635acccde4c3c",
       "style": "IPY_MODEL_c9dcd9fdd08949989b681d8ca2300baf"
      }
     },
     "23f923f2571b46f59be012d7c1ddce79": {
      "model_module": "@jupyter-widgets/controls",
      "model_module_version": "1.4.0",
      "model_name": "CheckboxModel",
      "state": {
       "description": "lowess",
       "disabled": false,
       "layout": "IPY_MODEL_bb06c7a38ecc458dba28a6f20aab62db",
       "style": "IPY_MODEL_1fc3e7f6ef794e2bad7de73810eb5c31",
       "value": false
      }
     },
     "24232f04f5294e13939ed1897ab0809a": {
      "model_module": "@jupyter-widgets/controls",
      "model_module_version": "1.4.0",
      "model_name": "IntTextModel",
      "state": {
       "description": "space",
       "layout": "IPY_MODEL_9f8f4d77bab8491494c68fc4e42361ca",
       "step": 1,
       "style": "IPY_MODEL_b6b14666cffc484ab9cc1dcb839df8f6",
       "value": 1
      }
     },
     "24596155808b42829f18ddb9a6708f88": {
      "model_module": "@jupyter-widgets/controls",
      "model_module_version": "1.4.0",
      "model_name": "DropdownModel",
      "state": {
       "_options_labels": [
        "1",
        "2",
        "3",
        "4",
        "5",
        "6",
        "7",
        "8",
        "9",
        "10",
        "11",
        "12",
        "13",
        "14",
        "15",
        "16",
        "17",
        "18",
        "19",
        "20",
        "21",
        "22",
        "23",
        "24",
        "25",
        "26",
        "27",
        "28",
        "29",
        "30",
        "31"
       ],
       "description": "row",
       "index": 0,
       "layout": "IPY_MODEL_f3554df7b41f406ab1ed32a2642ec336",
       "style": "IPY_MODEL_01133dd8a63e4e31b7e789895626f07d"
      }
     },
     "24cbf1f825444e29a52ac368f9308eab": {
      "model_module": "@jupyter-widgets/base",
      "model_module_version": "1.1.0",
      "model_name": "LayoutModel",
      "state": {}
     },
     "24ccfb7f037a4122b5d0ad74ad0b1d88": {
      "model_module": "@jupyter-widgets/controls",
      "model_module_version": "1.4.0",
      "model_name": "DropdownModel",
      "state": {
       "_options_labels": [
        "Acceleration",
        "Cylinders",
        "Displacement",
        "Horsepower",
        "Miles_per_Gallon",
        "Name",
        "Origin",
        "Weight_in_lbs",
        "Year"
       ],
       "description": "y_partial",
       "index": 0,
       "layout": "IPY_MODEL_6d146ba13a8e40c48a566092af49462f",
       "style": "IPY_MODEL_499f6b686ebf488d9fad5e7f9e10feb4"
      }
     },
     "25345724a9574a5aa0280ee8964fa443": {
      "model_module": "@jupyter-widgets/base",
      "model_module_version": "1.1.0",
      "model_name": "LayoutModel",
      "state": {}
     },
     "25498ff9358240f7913ef935755fdf1a": {
      "model_module": "@jupyter-widgets/controls",
      "model_module_version": "1.4.0",
      "model_name": "LabelModel",
      "state": {
       "layout": "IPY_MODEL_b716f2fcdc714d91bedd67a9e6f76205",
       "style": "IPY_MODEL_98b6689aaa9c495dbb7e4c6816596008",
       "value": "---"
      }
     },
     "256cfde4ebc94d0faf12f57b29a3c5ad": {
      "model_module": "@jupyter-widgets/controls",
      "model_module_version": "1.4.0",
      "model_name": "DescriptionStyleModel",
      "state": {
       "description_width": ""
      }
     },
     "257c8c5486c14b14ad31788bf5897fdd": {
      "model_module": "@jupyter-widgets/base",
      "model_module_version": "1.1.0",
      "model_name": "LayoutModel",
      "state": {}
     },
     "257f9b8254504e388c3f88448f294429": {
      "model_module": "@jupyter-widgets/controls",
      "model_module_version": "1.4.0",
      "model_name": "CheckboxModel",
      "state": {
       "description": "margin_titles",
       "disabled": false,
       "layout": "IPY_MODEL_d4bc14c56bc8414bbd1200bac336d193",
       "style": "IPY_MODEL_50375409ffb74e08bb83eb0ac16ab645",
       "value": false
      }
     },
     "25fe534d89b84e1d83663cdc3e219f27": {
      "model_module": "@jupyter-widgets/controls",
      "model_module_version": "1.4.0",
      "model_name": "DropdownModel",
      "state": {
       "_options_labels": [
        "Acceleration",
        "Cylinders",
        "Displacement",
        "Horsepower",
        "Miles_per_Gallon",
        "Name",
        "Origin",
        "Weight_in_lbs",
        "Year"
       ],
       "description": "style",
       "index": 0,
       "layout": "IPY_MODEL_cda013d009594945bbc45b674c6c25d8",
       "style": "IPY_MODEL_5c09ab96976e494180b62abdd3813d8e"
      }
     },
     "26074768a03d4714a254dedd27236cb5": {
      "model_module": "@jupyter-widgets/controls",
      "model_module_version": "1.4.0",
      "model_name": "DescriptionStyleModel",
      "state": {
       "description_width": ""
      }
     },
     "260ebf7afa96479b9c4352c051a5fec4": {
      "model_module": "@jupyter-widgets/controls",
      "model_module_version": "1.4.0",
      "model_name": "CheckboxModel",
      "state": {
       "description": "cbar",
       "disabled": false,
       "layout": "IPY_MODEL_29b21f12dd624645ad9b383416e5a018",
       "style": "IPY_MODEL_72a609f2b9c0447c956ddbe1310983d4",
       "value": false
      }
     },
     "261c411f677345a4b7e3351fbc058e30": {
      "model_module": "@jupyter-widgets/controls",
      "model_module_version": "1.4.0",
      "model_name": "DescriptionStyleModel",
      "state": {
       "description_width": ""
      }
     },
     "26250a5cb15046e88096c9ea1020de7f": {
      "model_module": "@jupyter-widgets/controls",
      "model_module_version": "1.4.0",
      "model_name": "IntTextModel",
      "state": {
       "description": "col_wrap",
       "layout": "IPY_MODEL_3c37792451f64918bed55c1df129ccd6",
       "step": 1,
       "style": "IPY_MODEL_08d8383d832c47e0970572611b94447d",
       "value": 10
      }
     },
     "262adbf1a30443dcbd165c71ced2adba": {
      "model_module": "@jupyter-widgets/controls",
      "model_module_version": "1.4.0",
      "model_name": "CheckboxModel",
      "state": {
       "description": "sort",
       "disabled": false,
       "layout": "IPY_MODEL_19847492bb2140d4bcd0ccf86e3dbd14",
       "style": "IPY_MODEL_d7a0ab04fa2243e6a42d41105e0a225b",
       "value": false
      }
     },
     "263ea4a25c924548b0b37f5d9974a987": {
      "model_module": "@jupyter-widgets/controls",
      "model_module_version": "1.4.0",
      "model_name": "FloatTextModel",
      "state": {
       "description": "y_jitter",
       "layout": "IPY_MODEL_3582adcde4db4e458bc8d4dcac376f38",
       "step": null,
       "style": "IPY_MODEL_d9241b3d97d64340aea566f6364ebe4d",
       "value": 1
      }
     },
     "26448c806c24401cb15d856ddf5896fe": {
      "model_module": "@jupyter-widgets/base",
      "model_module_version": "1.1.0",
      "model_name": "LayoutModel",
      "state": {}
     },
     "269b9b9912fa47f28af714ee179832f6": {
      "model_module": "@jupyter-widgets/controls",
      "model_module_version": "1.4.0",
      "model_name": "DescriptionStyleModel",
      "state": {
       "description_width": ""
      }
     },
     "26a0fad09b7a419a9315ed9e68c186fd": {
      "model_module": "@jupyter-widgets/controls",
      "model_module_version": "1.4.0",
      "model_name": "SliderStyleModel",
      "state": {
       "description_width": ""
      }
     },
     "26c3a658492c42b3a421ebd3f2c4df9b": {
      "model_module": "@jupyter-widgets/controls",
      "model_module_version": "1.4.0",
      "model_name": "FloatTextModel",
      "state": {
       "description": "aspect",
       "layout": "IPY_MODEL_c6aa3834aa4941f489e60c4d0eb740a7",
       "step": null,
       "style": "IPY_MODEL_cfbe57c735824b00a78e2a204f7f69c7",
       "value": 1
      }
     },
     "26d994ea5a554fee9c60c4772e909c2f": {
      "model_module": "@jupyter-widgets/controls",
      "model_module_version": "1.4.0",
      "model_name": "DescriptionStyleModel",
      "state": {
       "description_width": ""
      }
     },
     "26df628cd8804b53909a0f60453a9983": {
      "model_module": "@jupyter-widgets/base",
      "model_module_version": "1.1.0",
      "model_name": "LayoutModel",
      "state": {}
     },
     "27275081c7e44311a42b37a3f223c8ce": {
      "model_module": "@jupyter-widgets/base",
      "model_module_version": "1.1.0",
      "model_name": "LayoutModel",
      "state": {}
     },
     "2788c180287448dc9fd419f585087c27": {
      "model_module": "@jupyter-widgets/controls",
      "model_module_version": "1.4.0",
      "model_name": "TextModel",
      "state": {
       "description": "axlabel",
       "layout": "IPY_MODEL_d7a8fb35ab8c4b4d9c2b522a5290109c",
       "style": "IPY_MODEL_7c3a882f15c44139a678e33f2ee5a015"
      }
     },
     "27c01edf49664b66aee4dfa1b2b28511": {
      "model_module": "@jupyter-widgets/controls",
      "model_module_version": "1.4.0",
      "model_name": "DescriptionStyleModel",
      "state": {
       "description_width": ""
      }
     },
     "27cd93980efe4efd9d957da47f87d01a": {
      "model_module": "@jupyter-widgets/controls",
      "model_module_version": "1.4.0",
      "model_name": "CheckboxModel",
      "state": {
       "description": "legend_out",
       "disabled": false,
       "layout": "IPY_MODEL_6b98df35b0d74d23baaac3908e4e7b36",
       "style": "IPY_MODEL_d1cd6dc4978a4d06a9eacaffcc6d0fdf",
       "value": false
      }
     },
     "27eb8e6f71054273b0723f6d1dbff6f0": {
      "model_module": "@jupyter-widgets/controls",
      "model_module_version": "1.4.0",
      "model_name": "IntTextModel",
      "state": {
       "description": "n_boot",
       "layout": "IPY_MODEL_09a517b8f04c4d13a44dfc2dd82e930a",
       "step": 1,
       "style": "IPY_MODEL_13c7f34fb9f54265b5cc21c142e5c757",
       "value": 10000
      }
     },
     "283569a7b70442abaf2dada048bbe8df": {
      "model_module": "@jupyter-widgets/controls",
      "model_module_version": "1.4.0",
      "model_name": "HBoxModel",
      "state": {
       "children": [
        "IPY_MODEL_34fb785938634b98a8bed9b886f640e8",
        "IPY_MODEL_f165ff334da94463a0bfb3975766e6bb"
       ],
       "layout": "IPY_MODEL_5044c4c68e7c4fe09fa35bbe53b26cc4"
      }
     },
     "28610ac0bfed429ab855e76f2df991e2": {
      "model_module": "@jupyter-widgets/controls",
      "model_module_version": "1.4.0",
      "model_name": "LabelModel",
      "state": {
       "layout": "IPY_MODEL_bff954d652fd4b19a571e1156c0b9974",
       "style": "IPY_MODEL_a687867042f0497ca0faa01df0e4edc5",
       "value": "---"
      }
     },
     "28645171d016473cb1f951e8d0bcf341": {
      "model_module": "@jupyter-widgets/controls",
      "model_module_version": "1.4.0",
      "model_name": "HBoxModel",
      "state": {
       "children": [
        "IPY_MODEL_b3765923979c4cd5b9d3a59470645ea3",
        "IPY_MODEL_2d00f446dc294db38fd64c447ffc3b0b"
       ],
       "layout": "IPY_MODEL_0f1598c2e374496285d287bc19bebcf2"
      }
     },
     "28a4d5274b544c1dbed2c65e193670ea": {
      "model_module": "@jupyter-widgets/base",
      "model_module_version": "1.1.0",
      "model_name": "LayoutModel",
      "state": {}
     },
     "28d7aaf8a8f3438fa5571ec39602b024": {
      "model_module": "@jupyter-widgets/controls",
      "model_module_version": "1.4.0",
      "model_name": "FloatTextModel",
      "state": {
       "description": "y_jitter",
       "layout": "IPY_MODEL_8328820e1dfa43658b873d807f3f52d2",
       "step": null,
       "style": "IPY_MODEL_eb60abab3335451f889d9758a9c6e714",
       "value": 1
      }
     },
     "28e6b38b21d04a05be39c36293e705b7": {
      "model_module": "@jupyter-widgets/controls",
      "model_module_version": "1.4.0",
      "model_name": "DropdownModel",
      "state": {
       "_options_labels": [
        "1",
        "2",
        "3",
        "4",
        "5",
        "6",
        "7",
        "8",
        "9",
        "10",
        "11",
        "12",
        "13",
        "14",
        "15",
        "16",
        "17",
        "18",
        "19",
        "20",
        "21",
        "22",
        "23",
        "24",
        "25",
        "26",
        "27",
        "28",
        "29",
        "30",
        "31"
       ],
       "description": "a",
       "index": 0,
       "layout": "IPY_MODEL_59ac9b62f6704aa8b3f110223df5785a",
       "style": "IPY_MODEL_8d07018791d64e7ba0228fb11864ba13"
      }
     },
     "290c06ba9a144694ad5255847f5d1f7e": {
      "model_module": "@jupyter-widgets/controls",
      "model_module_version": "1.4.0",
      "model_name": "IntTextModel",
      "state": {
       "description": "ratio",
       "layout": "IPY_MODEL_e9b8442beeca4b27bb48262234edb50d",
       "step": 1,
       "style": "IPY_MODEL_2c2665e776934bbf82791a39906f4fc6",
       "value": 1
      }
     },
     "291d0d4266974737bfb093e4a7bb6e5e": {
      "model_module": "@jupyter-widgets/controls",
      "model_module_version": "1.4.0",
      "model_name": "DescriptionStyleModel",
      "state": {
       "description_width": ""
      }
     },
     "29453f9cb4db44caab66be5fef29ed87": {
      "model_module": "@jupyter-widgets/base",
      "model_module_version": "1.1.0",
      "model_name": "LayoutModel",
      "state": {}
     },
     "2969c9763a2b462e8f71a04b572727e8": {
      "model_module": "@jupyter-widgets/controls",
      "model_module_version": "1.4.0",
      "model_name": "VBoxModel",
      "state": {
       "children": [
        "IPY_MODEL_93f6646fe4e144ec8ef6e846a6305f77",
        "IPY_MODEL_7ba9794c74aa493f842b15e88a2b063f",
        "IPY_MODEL_349e7f1d5a914ae1adbc2a855fae52f0"
       ],
       "layout": "IPY_MODEL_fa9c5c41bb4b468ea4edff45486c18ff"
      }
     },
     "29b21f12dd624645ad9b383416e5a018": {
      "model_module": "@jupyter-widgets/base",
      "model_module_version": "1.1.0",
      "model_name": "LayoutModel",
      "state": {}
     },
     "29ce187a598c4cc6a259beee94ed689c": {
      "model_module": "@jupyter-widgets/base",
      "model_module_version": "1.1.0",
      "model_name": "LayoutModel",
      "state": {}
     },
     "29d69d0981804973a6717b4dc95ed44e": {
      "model_module": "@jupyter-widgets/controls",
      "model_module_version": "1.4.0",
      "model_name": "ButtonModel",
      "state": {
       "description": "remove",
       "layout": "IPY_MODEL_b627b99b7ce44f5492552d2deb37ef51",
       "style": "IPY_MODEL_bbd061fdb25d42a5a1dae45df0895d4e"
      }
     },
     "29d8822c171247a8b5a8668b98dd7e4c": {
      "model_module": "@jupyter-widgets/controls",
      "model_module_version": "1.4.0",
      "model_name": "DescriptionStyleModel",
      "state": {
       "description_width": ""
      }
     },
     "2a2b1dee94c044fe8867a674f6a97146": {
      "model_module": "@jupyter-widgets/controls",
      "model_module_version": "1.4.0",
      "model_name": "DescriptionStyleModel",
      "state": {
       "description_width": ""
      }
     },
     "2aad7b7ae07d44bea8e9e7b7da00ade4": {
      "model_module": "@jupyter-widgets/controls",
      "model_module_version": "1.4.0",
      "model_name": "DropdownModel",
      "state": {
       "_options_labels": [
        "scatter",
        "reg"
       ],
       "description": "kind",
       "index": 0,
       "layout": "IPY_MODEL_b3250422efa540b5ae17fc2334f68d8f",
       "style": "IPY_MODEL_dcbaab6506e5404288070dea71571d68"
      }
     },
     "2ab6b4598005416a97a5fcdf11284841": {
      "model_module": "@jupyter-widgets/controls",
      "model_module_version": "1.4.0",
      "model_name": "DescriptionStyleModel",
      "state": {
       "description_width": ""
      }
     },
     "2ac42285837c4a19a73758f0539905c4": {
      "model_module": "@jupyter-widgets/base",
      "model_module_version": "1.1.0",
      "model_name": "LayoutModel",
      "state": {}
     },
     "2acfc58a1a3347e7b1bc3ff40f2965d4": {
      "model_module": "@jupyter-widgets/controls",
      "model_module_version": "1.4.0",
      "model_name": "DropdownModel",
      "state": {
       "_options_labels": [
        "True",
        "col",
        "row"
       ],
       "description": "sharey",
       "index": 0,
       "layout": "IPY_MODEL_4128d132da1e4dda967de6374732b8dd",
       "style": "IPY_MODEL_3152748aa55142158c12a61f28a73dd1"
      }
     },
     "2ad247dd08f34899b67b5faf5f7c13ce": {
      "model_module": "@jupyter-widgets/base",
      "model_module_version": "1.1.0",
      "model_name": "LayoutModel",
      "state": {}
     },
     "2aec96f2683b4fd187c6c318c12566ea": {
      "model_module": "@jupyter-widgets/controls",
      "model_module_version": "1.4.0",
      "model_name": "CheckboxModel",
      "state": {
       "description": "scatter",
       "disabled": false,
       "layout": "IPY_MODEL_8142d5dbfed6439691de667c6919276e",
       "style": "IPY_MODEL_f0950b2b869748d194697b7ab91a7cb3",
       "value": false
      }
     },
     "2b26948d8d79460d9e20737e7428c594": {
      "model_module": "@jupyter-widgets/controls",
      "model_module_version": "1.4.0",
      "model_name": "DescriptionStyleModel",
      "state": {
       "description_width": ""
      }
     },
     "2b2ca69b1e2a4484beb150c724a3a8b3": {
      "model_module": "@jupyter-widgets/base",
      "model_module_version": "1.1.0",
      "model_name": "LayoutModel",
      "state": {}
     },
     "2b95d19af4a244baa4f011fe60d86cba": {
      "model_module": "@jupyter-widgets/controls",
      "model_module_version": "1.4.0",
      "model_name": "DescriptionStyleModel",
      "state": {
       "description_width": ""
      }
     },
     "2bc288b9a98f4022b45c8f9fb99f9745": {
      "model_module": "@jupyter-widgets/controls",
      "model_module_version": "1.4.0",
      "model_name": "DescriptionStyleModel",
      "state": {
       "description_width": ""
      }
     },
     "2bc8a6a185cc4a0397eceb30b228851c": {
      "model_module": "@jupyter-widgets/controls",
      "model_module_version": "1.4.0",
      "model_name": "HBoxModel",
      "state": {
       "children": [
        "IPY_MODEL_8df5192455714ebbaf960cea507ca8bc"
       ],
       "layout": "IPY_MODEL_17afa6b8598f467ba2416ab1ba8f3244"
      }
     },
     "2c2665e776934bbf82791a39906f4fc6": {
      "model_module": "@jupyter-widgets/controls",
      "model_module_version": "1.4.0",
      "model_name": "DescriptionStyleModel",
      "state": {
       "description_width": ""
      }
     },
     "2c4649f29b17484ea9bb5285ae7f7d72": {
      "model_module": "@jupyter-widgets/controls",
      "model_module_version": "1.4.0",
      "model_name": "TextModel",
      "state": {
       "description": "color",
       "layout": "IPY_MODEL_f39e6115fb544249ae2a777850b10879",
       "style": "IPY_MODEL_dd356c0cbf8447989b6ca3fdb5a4deeb",
       "value": "g"
      }
     },
     "2c6e851748454b1ea0bc487c7b6628bd": {
      "model_module": "@jupyter-widgets/base",
      "model_module_version": "1.1.0",
      "model_name": "LayoutModel",
      "state": {}
     },
     "2c79e520a8814913b3fcd344aad3dae3": {
      "model_module": "@jupyter-widgets/base",
      "model_module_version": "1.1.0",
      "model_name": "LayoutModel",
      "state": {}
     },
     "2c9d1571910f4666a2f302f39adc5b75": {
      "model_module": "@jupyter-widgets/controls",
      "model_module_version": "1.4.0",
      "model_name": "ButtonStyleModel",
      "state": {}
     },
     "2cfdfc5c8fd54c688f58b6d7c8d6ef54": {
      "model_module": "@jupyter-widgets/base",
      "model_module_version": "1.1.0",
      "model_name": "LayoutModel",
      "state": {}
     },
     "2d00f446dc294db38fd64c447ffc3b0b": {
      "model_module": "@jupyter-widgets/controls",
      "model_module_version": "1.4.0",
      "model_name": "ButtonModel",
      "state": {
       "description": "remove",
       "layout": "IPY_MODEL_3c67501156be46b991c48da31124c0bb",
       "style": "IPY_MODEL_e2c9203ec55146be893432bbf3287dbe"
      }
     },
     "2d227bc63665411786507b069b30c80c": {
      "model_module": "@jupyter-widgets/controls",
      "model_module_version": "1.4.0",
      "model_name": "FloatTextModel",
      "state": {
       "description": "center",
       "layout": "IPY_MODEL_a54ca4fcf5b74fcea586246dd69a80e8",
       "step": null,
       "style": "IPY_MODEL_0472f0697ed1444eacc60dbf45334e8a",
       "value": 1
      }
     },
     "2d2ad4f303934563955bc2e200fadde4": {
      "model_module": "@jupyter-widgets/controls",
      "model_module_version": "1.4.0",
      "model_name": "ButtonStyleModel",
      "state": {}
     },
     "2d2de4027fae4c09857a1d108f0fe556": {
      "model_module": "@jupyter-widgets/base",
      "model_module_version": "1.1.0",
      "model_name": "LayoutModel",
      "state": {}
     },
     "2d2e2debc2e94ff09e2da61774f09c50": {
      "model_module": "@jupyter-widgets/base",
      "model_module_version": "1.1.0",
      "model_name": "LayoutModel",
      "state": {}
     },
     "2d65e89116aa456aa3b6714f7e53a1a7": {
      "model_module": "@jupyter-widgets/base",
      "model_module_version": "1.1.0",
      "model_name": "LayoutModel",
      "state": {}
     },
     "2d78ecc90cae4887bf9a8ba7352aedd0": {
      "model_module": "@jupyter-widgets/controls",
      "model_module_version": "1.4.0",
      "model_name": "DescriptionStyleModel",
      "state": {
       "description_width": ""
      }
     },
     "2d9865c1dd704c3284afc700655a6a5f": {
      "model_module": "@jupyter-widgets/controls",
      "model_module_version": "1.4.0",
      "model_name": "DropdownModel",
      "state": {
       "_options_labels": [
        "scatter",
        "line"
       ],
       "description": "kind",
       "index": 0,
       "layout": "IPY_MODEL_02bfe14c9e02452fbe299e6deae1569f",
       "style": "IPY_MODEL_437489f9ea6047b28fe2f64ee1adf725"
      }
     },
     "2dad622fba0b433ca98bd846fb4d972c": {
      "model_module": "@jupyter-widgets/controls",
      "model_module_version": "1.4.0",
      "model_name": "DescriptionStyleModel",
      "state": {
       "description_width": ""
      }
     },
     "2daec31a51c64786bb217abb9c8256a3": {
      "model_module": "@jupyter-widgets/controls",
      "model_module_version": "1.4.0",
      "model_name": "FloatTextModel",
      "state": {
       "description": "linewidths",
       "layout": "IPY_MODEL_09d188cf8c6d4c1386abd74acc310726",
       "step": null,
       "style": "IPY_MODEL_ac61f2f3b7a9400f9a758ecf9208e987",
       "value": 1
      }
     },
     "2db2fa159ac2467ea8446d3189d20b87": {
      "model_module": "@jupyter-widgets/controls",
      "model_module_version": "1.4.0",
      "model_name": "DescriptionStyleModel",
      "state": {
       "description_width": ""
      }
     },
     "2dbc6b98401744fc92c7cc5c7ef8652f": {
      "model_module": "@jupyter-widgets/controls",
      "model_module_version": "1.4.0",
      "model_name": "DescriptionStyleModel",
      "state": {
       "description_width": ""
      }
     },
     "2ddfe02c7db84ca3bd8648ea55cb912d": {
      "model_module": "@jupyter-widgets/controls",
      "model_module_version": "1.4.0",
      "model_name": "DescriptionStyleModel",
      "state": {
       "description_width": ""
      }
     },
     "2e391a44ad8d49ef948edb3930384461": {
      "model_module": "@jupyter-widgets/controls",
      "model_module_version": "1.4.0",
      "model_name": "IntTextModel",
      "state": {
       "description": "height",
       "layout": "IPY_MODEL_a59a78f4e3824c6fb636af71ca492190",
       "step": 1,
       "style": "IPY_MODEL_aa860178319f425999fcd4188019c1cc",
       "value": 5
      }
     },
     "2e56a14ce7f34ec39e4291503d0c3315": {
      "model_module": "@jupyter-widgets/base",
      "model_module_version": "1.1.0",
      "model_name": "LayoutModel",
      "state": {}
     },
     "2e84c5ce67f14984b44893c00c9f83df": {
      "model_module": "@jupyter-widgets/base",
      "model_module_version": "1.1.0",
      "model_name": "LayoutModel",
      "state": {}
     },
     "2e87badc57d44fe78a087397b351bbb0": {
      "model_module": "@jupyter-widgets/controls",
      "model_module_version": "1.4.0",
      "model_name": "ButtonModel",
      "state": {
       "description": "remove",
       "layout": "IPY_MODEL_9c023e0235b742b9adb5a2642e4bd48d",
       "style": "IPY_MODEL_b721eb47d33c4b73ba0f76d82b09b1fd"
      }
     },
     "2e8d72d18c8940eb862c361589da1810": {
      "model_module": "@jupyter-widgets/controls",
      "model_module_version": "1.4.0",
      "model_name": "HBoxModel",
      "state": {
       "children": [
        "IPY_MODEL_28610ac0bfed429ab855e76f2df991e2"
       ],
       "layout": "IPY_MODEL_a6aec0924e534215b58e5a63a5c4ab49"
      }
     },
     "2edc927d84924b0ebc2c81b42c63d8c1": {
      "model_module": "@jupyter-widgets/base",
      "model_module_version": "1.1.0",
      "model_name": "LayoutModel",
      "state": {}
     },
     "2f8e390dc30740289512d389ad088d59": {
      "model_module": "@jupyter-widgets/base",
      "model_module_version": "1.1.0",
      "model_name": "LayoutModel",
      "state": {}
     },
     "303a13293de540a68122f6e3685b7632": {
      "model_module": "@jupyter-widgets/controls",
      "model_module_version": "1.4.0",
      "model_name": "FloatTextModel",
      "state": {
       "description": "vmax",
       "layout": "IPY_MODEL_b70e2229af8e47af8979722b8b14a24d",
       "step": null,
       "style": "IPY_MODEL_51bf7c442c854e28a9a73f4988f11c62",
       "value": 1
      }
     },
     "305720cf991a422ea31bdc3140ec4519": {
      "model_module": "@jupyter-widgets/controls",
      "model_module_version": "1.4.0",
      "model_name": "FloatTextModel",
      "state": {
       "description": "y_jitter",
       "layout": "IPY_MODEL_61ae78ea55344afd88cecc5dadf3c80a",
       "step": null,
       "style": "IPY_MODEL_a58d4b114bd446c08bccae7c72647142",
       "value": 1
      }
     },
     "30653cbfa419424da8184331589b8ece": {
      "model_module": "@jupyter-widgets/controls",
      "model_module_version": "1.4.0",
      "model_name": "DescriptionStyleModel",
      "state": {
       "description_width": ""
      }
     },
     "30a75be54c04407d96f8e52315db044e": {
      "model_module": "@jupyter-widgets/controls",
      "model_module_version": "1.4.0",
      "model_name": "DescriptionStyleModel",
      "state": {
       "description_width": ""
      }
     },
     "30b1209503a0460382077ccaf5cf5b48": {
      "model_module": "@jupyter-widgets/controls",
      "model_module_version": "1.4.0",
      "model_name": "DropdownModel",
      "state": {
       "_options_labels": [
        "Acceleration",
        "Cylinders",
        "Displacement",
        "Horsepower",
        "Miles_per_Gallon",
        "Name",
        "Origin",
        "Weight_in_lbs",
        "Year"
       ],
       "description": "y_partial",
       "index": 0,
       "layout": "IPY_MODEL_2edc927d84924b0ebc2c81b42c63d8c1",
       "style": "IPY_MODEL_88899979de4442978a22f13e077adbc5"
      }
     },
     "30b74ce5d2d8441f8f9202ce8b6b5010": {
      "model_module": "@jupyter-widgets/base",
      "model_module_version": "1.1.0",
      "model_name": "LayoutModel",
      "state": {}
     },
     "30fb25f7300e45089864ba59d2e27a49": {
      "model_module": "@jupyter-widgets/controls",
      "model_module_version": "1.4.0",
      "model_name": "DescriptionStyleModel",
      "state": {
       "description_width": ""
      }
     },
     "3152748aa55142158c12a61f28a73dd1": {
      "model_module": "@jupyter-widgets/controls",
      "model_module_version": "1.4.0",
      "model_name": "DescriptionStyleModel",
      "state": {
       "description_width": ""
      }
     },
     "31865157d14342a88622f8a667623869": {
      "model_module": "@jupyter-widgets/controls",
      "model_module_version": "1.4.0",
      "model_name": "FloatSliderModel",
      "state": {
       "description": "alpha",
       "layout": "IPY_MODEL_0a3d073bc2274254a281af33689003ae",
       "max": 1,
       "step": 0.05,
       "style": "IPY_MODEL_39f67ccd10904419a72ff571b3e80b75"
      }
     },
     "31ac1f8bf77f4ff188a47a1dff1895e6": {
      "model_module": "@jupyter-widgets/base",
      "model_module_version": "1.1.0",
      "model_name": "LayoutModel",
      "state": {}
     },
     "31b9cd12b58f46049246b4436c47e137": {
      "model_module": "@jupyter-widgets/base",
      "model_module_version": "1.1.0",
      "model_name": "LayoutModel",
      "state": {}
     },
     "31c93660d50f4d18addd4b212c4ab355": {
      "model_module": "@jupyter-widgets/controls",
      "model_module_version": "1.4.0",
      "model_name": "FloatSliderModel",
      "state": {
       "description": "alpha",
       "layout": "IPY_MODEL_f83d3959afdb43e397bfffb861e7602d",
       "max": 1,
       "step": 0.05,
       "style": "IPY_MODEL_db4d25de3cc24f9b93f60fd4a58ef92d"
      }
     },
     "31c9e45d90c74a93b319b127dfc5e82e": {
      "model_module": "@jupyter-widgets/base",
      "model_module_version": "1.1.0",
      "model_name": "LayoutModel",
      "state": {}
     },
     "31e8d6e972e04b73bdd675d94cd083ed": {
      "model_module": "@jupyter-widgets/base",
      "model_module_version": "1.1.0",
      "model_name": "LayoutModel",
      "state": {}
     },
     "31ee0543f732489b9839dce5b399ae47": {
      "model_module": "@jupyter-widgets/base",
      "model_module_version": "1.1.0",
      "model_name": "LayoutModel",
      "state": {}
     },
     "32134033b15e41e39c0b80e2ff518b9c": {
      "model_module": "@jupyter-widgets/controls",
      "model_module_version": "1.4.0",
      "model_name": "DescriptionStyleModel",
      "state": {
       "description_width": ""
      }
     },
     "32534f5813a249709f69b9158d911404": {
      "model_module": "@jupyter-widgets/base",
      "model_module_version": "1.1.0",
      "model_name": "LayoutModel",
      "state": {}
     },
     "3259b2a3c158481588bd76d767ffd93a": {
      "model_module": "@jupyter-widgets/controls",
      "model_module_version": "1.4.0",
      "model_name": "CheckboxModel",
      "state": {
       "description": "join",
       "disabled": false,
       "layout": "IPY_MODEL_f08d0743dc0f4698b1c5a7e329278e65",
       "style": "IPY_MODEL_2bc288b9a98f4022b45c8f9fb99f9745",
       "value": false
      }
     },
     "326cbcf3b4c346fb944d8484ed054ac7": {
      "model_module": "@jupyter-widgets/base",
      "model_module_version": "1.1.0",
      "model_name": "LayoutModel",
      "state": {}
     },
     "32bafc1bfc3841008308bd1cf8c189e4": {
      "model_module": "@jupyter-widgets/controls",
      "model_module_version": "1.4.0",
      "model_name": "DescriptionStyleModel",
      "state": {
       "description_width": ""
      }
     },
     "32dbef28537a4e5698b5ab5e7161d2b8": {
      "model_module": "@jupyter-widgets/base",
      "model_module_version": "1.1.0",
      "model_name": "LayoutModel",
      "state": {}
     },
     "32e2c275396e4b5694ae8894aafc1938": {
      "model_module": "@jupyter-widgets/controls",
      "model_module_version": "1.4.0",
      "model_name": "FloatTextModel",
      "state": {
       "description": "saturation",
       "layout": "IPY_MODEL_8bd9b139ef2f463f9a942c5a85e854f5",
       "step": null,
       "style": "IPY_MODEL_8784fa73144346c9b609a439e87315e0",
       "value": 1
      }
     },
     "331361ccad9a4f4aa13e49e71359978c": {
      "model_module": "@jupyter-widgets/base",
      "model_module_version": "1.1.0",
      "model_name": "LayoutModel",
      "state": {}
     },
     "3373c9aa844a4f51ac0d1d1de1b30f5a": {
      "model_module": "@jupyter-widgets/controls",
      "model_module_version": "1.4.0",
      "model_name": "DropdownModel",
      "state": {
       "_options_labels": [
        "Acceleration",
        "Cylinders",
        "Displacement",
        "Horsepower",
        "Miles_per_Gallon",
        "Name",
        "Origin",
        "Weight_in_lbs",
        "Year"
       ],
       "description": "y",
       "index": 7,
       "layout": "IPY_MODEL_39c6914af5454d65b2821bac72f90f2e",
       "style": "IPY_MODEL_9ee2ccc908c344748b3dfcf76dad02ea"
      }
     },
     "33839a5ca40c4fbc83f028d5b796f585": {
      "model_module": "@jupyter-widgets/controls",
      "model_module_version": "1.4.0",
      "model_name": "DescriptionStyleModel",
      "state": {
       "description_width": ""
      }
     },
     "338a32c39813432c96c0def9933253eb": {
      "model_module": "@jupyter-widgets/output",
      "model_module_version": "1.0.0",
      "model_name": "OutputModel",
      "state": {
       "layout": "IPY_MODEL_892aa9681cfc44cfa607736bb59b989f",
       "outputs": [
        {
         "data": {
          "image/png": "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\n",
          "text/plain": "<Figure size 432x288 with 1 Axes>"
         },
         "metadata": {},
         "output_type": "display_data"
        }
       ]
      }
     },
     "33be7ddd7b5a47ac8494a9ccb10f3baf": {
      "model_module": "@jupyter-widgets/controls",
      "model_module_version": "1.4.0",
      "model_name": "DescriptionStyleModel",
      "state": {
       "description_width": ""
      }
     },
     "33d26b2a3f4743fe9c547c6e3df22007": {
      "model_module": "@jupyter-widgets/controls",
      "model_module_version": "1.4.0",
      "model_name": "FloatTextModel",
      "state": {
       "description": "linewidths",
       "layout": "IPY_MODEL_90aa394591984e5d818e41f8a99a30c7",
       "step": null,
       "style": "IPY_MODEL_0060a668683b493186d324e827ce9ddc",
       "value": 1
      }
     },
     "33dbd3defda84440b33659d3a985ac94": {
      "model_module": "@jupyter-widgets/controls",
      "model_module_version": "1.4.0",
      "model_name": "DropdownModel",
      "state": {
       "_options_labels": [
        "[heatmap] annot",
        "[heatmap] cbar",
        "[heatmap] center",
        "[heatmap] cmap",
        "[heatmap] fmt",
        "[heatmap] linecolor",
        "[heatmap] linewidths",
        "[heatmap] robust",
        "[heatmap] square",
        "[heatmap] vmax",
        "[heatmap] vmin"
       ],
       "description": "Controls",
       "index": 0,
       "layout": "IPY_MODEL_18dd6b890bcc48cd980936dff2fc9d5f",
       "style": "IPY_MODEL_a638d728f2a14e90bef365eadb7b58bb"
      }
     },
     "34222a7a4eab400da3c5fb9c582e9aef": {
      "model_module": "@jupyter-widgets/base",
      "model_module_version": "1.1.0",
      "model_name": "LayoutModel",
      "state": {}
     },
     "3437cbd119904bf88b78d853fdf2b9b7": {
      "model_module": "@jupyter-widgets/controls",
      "model_module_version": "1.4.0",
      "model_name": "IntTextModel",
      "state": {
       "description": "gridsize",
       "layout": "IPY_MODEL_257c8c5486c14b14ad31788bf5897fdd",
       "step": 1,
       "style": "IPY_MODEL_d0afea2d8f974642b56f71071fb8b590",
       "value": 100
      }
     },
     "3462cdd4f6ee469eb4d2681034e5fb7e": {
      "model_module": "@jupyter-widgets/controls",
      "model_module_version": "1.4.0",
      "model_name": "DropdownModel",
      "state": {
       "_options_labels": [
        "Acceleration",
        "Cylinders",
        "Displacement",
        "Horsepower",
        "Miles_per_Gallon",
        "Name",
        "Origin",
        "Weight_in_lbs",
        "Year"
       ],
       "description": "data",
       "index": 0,
       "layout": "IPY_MODEL_b78cc167df6f4b6b886ae797fd6c2d91",
       "style": "IPY_MODEL_4e6d9ac3d40349a39d01fc384a21b9ab"
      }
     },
     "3474ffd20d59440a8279c3b9672ff8c2": {
      "model_module": "@jupyter-widgets/controls",
      "model_module_version": "1.4.0",
      "model_name": "IntTextModel",
      "state": {
       "description": "gridsize",
       "layout": "IPY_MODEL_7007c023cc1c4080b2f87b5eaa4dafd4",
       "step": 1,
       "style": "IPY_MODEL_0c907450feed49ffa44c836ac5f44463",
       "value": 100
      }
     },
     "3497d8dd397d437298e72d30f00e9fd7": {
      "model_module": "@jupyter-widgets/base",
      "model_module_version": "1.1.0",
      "model_name": "LayoutModel",
      "state": {}
     },
     "349e7f1d5a914ae1adbc2a855fae52f0": {
      "model_module": "@jupyter-widgets/controls",
      "model_module_version": "1.4.0",
      "model_name": "DropdownModel",
      "state": {
       "_options_labels": [
        "barplot",
        "boxenplot",
        "boxplot",
        "catplot",
        "countplot",
        "distplot",
        "heatmap",
        "jointplot",
        "kdeplot",
        "lineplot",
        "lmplot",
        "pairplot",
        "pointplot",
        "regplot",
        "relplot",
        "residplot",
        "scatterplot",
        "stripplot",
        "swarmplot",
        "violinplot"
       ],
       "description": "Plot",
       "index": 0,
       "layout": "IPY_MODEL_f9fb57cd845145c3819f414718476a65",
       "style": "IPY_MODEL_d6b78b398f0d48718ee77f6d999f3c17"
      }
     },
     "34a48f7231f347fc9377ea7ab7eff1b5": {
      "model_module": "@jupyter-widgets/base",
      "model_module_version": "1.1.0",
      "model_name": "LayoutModel",
      "state": {}
     },
     "34fb785938634b98a8bed9b886f640e8": {
      "model_module": "@jupyter-widgets/controls",
      "model_module_version": "1.4.0",
      "model_name": "TextModel",
      "state": {
       "description": "cmap",
       "layout": "IPY_MODEL_0742c2b7826248d2bc08066e9864755f",
       "style": "IPY_MODEL_6159ea184003456c919043d2f86328de",
       "value": "viridis"
      }
     },
     "34fc6998622e479885f568f548391ecb": {
      "model_module": "@jupyter-widgets/base",
      "model_module_version": "1.1.0",
      "model_name": "LayoutModel",
      "state": {}
     },
     "34fc9ec11e40439aa455a73cc927adce": {
      "model_module": "@jupyter-widgets/base",
      "model_module_version": "1.1.0",
      "model_name": "LayoutModel",
      "state": {}
     },
     "35487eb39bad4d98b42ca7f956917164": {
      "model_module": "@jupyter-widgets/base",
      "model_module_version": "1.1.0",
      "model_name": "LayoutModel",
      "state": {}
     },
     "3553852c4d7247d9a12c48b9bf52a722": {
      "model_module": "@jupyter-widgets/controls",
      "model_module_version": "1.4.0",
      "model_name": "TextModel",
      "state": {
       "description": "linecolor",
       "layout": "IPY_MODEL_bd1860f5c30c46978a6f4b7804b9e9cc",
       "style": "IPY_MODEL_9d79686b2edd44fb991de052a96027a9"
      }
     },
     "3582adcde4db4e458bc8d4dcac376f38": {
      "model_module": "@jupyter-widgets/base",
      "model_module_version": "1.1.0",
      "model_name": "LayoutModel",
      "state": {}
     },
     "359af8612d434fae98be56975fcc80f0": {
      "model_module": "@jupyter-widgets/controls",
      "model_module_version": "1.4.0",
      "model_name": "CheckboxModel",
      "state": {
       "description": "split",
       "disabled": false,
       "layout": "IPY_MODEL_13be52ff58ac43da99cac8d22b4be76b",
       "style": "IPY_MODEL_a893b1d33de141458c9286bfdce3a1fd",
       "value": false
      }
     },
     "35f4a4e418ee4d5f8368e230cceeba33": {
      "model_module": "@jupyter-widgets/controls",
      "model_module_version": "1.4.0",
      "model_name": "DropdownModel",
      "state": {
       "_options_labels": [
        "barplot",
        "boxenplot",
        "boxplot",
        "catplot",
        "countplot",
        "distplot",
        "heatmap",
        "jointplot",
        "kdeplot",
        "lineplot",
        "lmplot",
        "pairplot",
        "pointplot",
        "regplot",
        "relplot",
        "residplot",
        "scatterplot",
        "stripplot",
        "swarmplot",
        "violinplot"
       ],
       "description": "Plot",
       "index": 0,
       "layout": "IPY_MODEL_681344678c9248db9dc9141d5831feca",
       "style": "IPY_MODEL_04423461725147a18266dac725f6e832"
      }
     },
     "36853f4ff4a047b594af6c8869f873c7": {
      "model_module": "@jupyter-widgets/controls",
      "model_module_version": "1.4.0",
      "model_name": "LabelModel",
      "state": {
       "layout": "IPY_MODEL_2f8e390dc30740289512d389ad088d59",
       "style": "IPY_MODEL_0cfdbadfb0ac45afae31a6b7783db623",
       "value": "---"
      }
     },
     "369baaf6e1ae4cbaa2523f2545394892": {
      "model_module": "@jupyter-widgets/base",
      "model_module_version": "1.1.0",
      "model_name": "LayoutModel",
      "state": {}
     },
     "36d89c65285c45f1ade5f4db6db95fb2": {
      "model_module": "@jupyter-widgets/controls",
      "model_module_version": "1.4.0",
      "model_name": "ButtonModel",
      "state": {
       "description": "remove",
       "layout": "IPY_MODEL_652810796af14b26b5902d0f0931025e",
       "style": "IPY_MODEL_223bd1de228f4cdab4a678b74fe6e1e6"
      }
     },
     "370057d1f5c047b99a2da151a753f654": {
      "model_module": "@jupyter-widgets/controls",
      "model_module_version": "1.4.0",
      "model_name": "HBoxModel",
      "state": {
       "children": [
        "IPY_MODEL_a2213b5975c64ed4b5dd725d99dcaf05",
        "IPY_MODEL_92afb7c25fab4e1c99449072bf41bebb"
       ],
       "layout": "IPY_MODEL_573c37f6f0f34ba68792814a2aca9b83"
      }
     },
     "372e9de58ee14538a03ba3b1e7ac40e3": {
      "model_module": "@jupyter-widgets/base",
      "model_module_version": "1.1.0",
      "model_name": "LayoutModel",
      "state": {}
     },
     "3742920ef79640fa94eb3b2d8d681993": {
      "model_module": "@jupyter-widgets/base",
      "model_module_version": "1.1.0",
      "model_name": "LayoutModel",
      "state": {}
     },
     "375e9c9dd08c4829a91e1bd5fc7c8227": {
      "model_module": "@jupyter-widgets/controls",
      "model_module_version": "1.4.0",
      "model_name": "DescriptionStyleModel",
      "state": {
       "description_width": ""
      }
     },
     "37a0d9061b00493893098f722210b293": {
      "model_module": "@jupyter-widgets/controls",
      "model_module_version": "1.4.0",
      "model_name": "HBoxModel",
      "state": {
       "children": [
        "IPY_MODEL_caeea9e3ebee4efca2cd70894acd4a66"
       ],
       "layout": "IPY_MODEL_0bed51a34f9e4ac4b0ead9b59ea7c088"
      }
     },
     "37a75640879b491abbada2a976e9390f": {
      "model_module": "@jupyter-widgets/controls",
      "model_module_version": "1.4.0",
      "model_name": "DescriptionStyleModel",
      "state": {
       "description_width": ""
      }
     },
     "37af6aa1c1bf482ba34a3ae5c0117b7b": {
      "model_module": "@jupyter-widgets/controls",
      "model_module_version": "1.4.0",
      "model_name": "HBoxModel",
      "state": {
       "children": [
        "IPY_MODEL_e551d61256154da8ba5350f85c234cee"
       ],
       "layout": "IPY_MODEL_3a41f5d56939418095ba1099e9efb20b"
      }
     },
     "37b40c36a6c4456daa1e9e79947db9d4": {
      "model_module": "@jupyter-widgets/controls",
      "model_module_version": "1.4.0",
      "model_name": "DescriptionStyleModel",
      "state": {
       "description_width": ""
      }
     },
     "380021ce703243c29148fb1978cf9101": {
      "model_module": "@jupyter-widgets/base",
      "model_module_version": "1.1.0",
      "model_name": "LayoutModel",
      "state": {}
     },
     "380e6350b21142b7b8a6dfe0c7d47b44": {
      "model_module": "@jupyter-widgets/controls",
      "model_module_version": "1.4.0",
      "model_name": "DescriptionStyleModel",
      "state": {
       "description_width": ""
      }
     },
     "386f1f611b4b40b58703ed3fe0958704": {
      "model_module": "@jupyter-widgets/controls",
      "model_module_version": "1.4.0",
      "model_name": "CheckboxModel",
      "state": {
       "description": "split",
       "disabled": false,
       "layout": "IPY_MODEL_acf7e582a48a4cf8a004aa5fbfac078e",
       "style": "IPY_MODEL_69e9014a3e4e45e18b360ac83d45f156",
       "value": false
      }
     },
     "3893c319c5d14ae190d4def1172f7858": {
      "model_module": "@jupyter-widgets/controls",
      "model_module_version": "1.4.0",
      "model_name": "DropdownModel",
      "state": {
       "_options_labels": [
        "1",
        "2",
        "3",
        "4",
        "5",
        "6",
        "7",
        "8",
        "9",
        "10",
        "11",
        "12",
        "13",
        "14",
        "15",
        "16",
        "17",
        "18",
        "19",
        "20",
        "21",
        "22",
        "23",
        "24",
        "25",
        "26",
        "27",
        "28",
        "29",
        "30",
        "31"
       ],
       "description": "x",
       "index": 0,
       "layout": "IPY_MODEL_3a31a739fc7e4a3ead16ccd46dc9f711",
       "style": "IPY_MODEL_32bafc1bfc3841008308bd1cf8c189e4"
      }
     },
     "38ce8c9472464553a090984d8bec207b": {
      "model_module": "@jupyter-widgets/controls",
      "model_module_version": "1.4.0",
      "model_name": "DescriptionStyleModel",
      "state": {
       "description_width": ""
      }
     },
     "38e35ffa4a5a4de1a4bfe5bfb23ce6de": {
      "model_module": "@jupyter-widgets/base",
      "model_module_version": "1.1.0",
      "model_name": "LayoutModel",
      "state": {}
     },
     "3904b78a8bf74f6886a736d9ce650605": {
      "model_module": "@jupyter-widgets/base",
      "model_module_version": "1.1.0",
      "model_name": "LayoutModel",
      "state": {}
     },
     "3951d6d4820c4eb7a96b13e284c06a4c": {
      "model_module": "@jupyter-widgets/controls",
      "model_module_version": "1.4.0",
      "model_name": "DropdownModel",
      "state": {
       "_options_labels": [
        "True",
        "col",
        "row"
       ],
       "description": "sharey",
       "index": 0,
       "layout": "IPY_MODEL_0df1efd4c3dd40d0a149c14dfb046f56",
       "style": "IPY_MODEL_19b4276314c14e5f8a2e4c03d2eb8134"
      }
     },
     "395f28ba2d264e15ae9c67c03d3a4d28": {
      "model_module": "@jupyter-widgets/controls",
      "model_module_version": "1.4.0",
      "model_name": "CheckboxModel",
      "state": {
       "description": "notch",
       "disabled": false,
       "layout": "IPY_MODEL_fd21720780874505a0677a374f37bbcc",
       "style": "IPY_MODEL_0295d8fcc9e1402fa719cda7c7fe99cd",
       "value": false
      }
     },
     "3961af75f223497db9bed5356d909985": {
      "model_module": "@jupyter-widgets/base",
      "model_module_version": "1.1.0",
      "model_name": "LayoutModel",
      "state": {}
     },
     "3999f6e16f574a1c9cbedecbeb8f1987": {
      "model_module": "@jupyter-widgets/controls",
      "model_module_version": "1.4.0",
      "model_name": "DescriptionStyleModel",
      "state": {
       "description_width": ""
      }
     },
     "39b7dad1d25e4f0aae0f8068634fb299": {
      "model_module": "@jupyter-widgets/controls",
      "model_module_version": "1.4.0",
      "model_name": "ButtonModel",
      "state": {
       "description": "remove",
       "layout": "IPY_MODEL_a0fa864d0aa3428da741105c586ba166",
       "style": "IPY_MODEL_04ef746d42ba42f1a0f52d5fc55d3821"
      }
     },
     "39c24d2cd8e24d47a376a210adcbdb83": {
      "model_module": "@jupyter-widgets/controls",
      "model_module_version": "1.4.0",
      "model_name": "DescriptionStyleModel",
      "state": {
       "description_width": ""
      }
     },
     "39c6914af5454d65b2821bac72f90f2e": {
      "model_module": "@jupyter-widgets/base",
      "model_module_version": "1.1.0",
      "model_name": "LayoutModel",
      "state": {}
     },
     "39c9be33c1af4a88a458cfefb5da2a25": {
      "model_module": "@jupyter-widgets/controls",
      "model_module_version": "1.4.0",
      "model_name": "DropdownModel",
      "state": {
       "_options_labels": [
        "band",
        "bars"
       ],
       "description": "err_style",
       "index": 0,
       "layout": "IPY_MODEL_cc87e6b6265d4963a2853467a430a1f5",
       "style": "IPY_MODEL_3bfb10734d614a748e4a3a179c31b6bd"
      }
     },
     "39de947d83fc48b19e37b0d1213f1359": {
      "model_module": "@jupyter-widgets/base",
      "model_module_version": "1.1.0",
      "model_name": "LayoutModel",
      "state": {}
     },
     "39f67ccd10904419a72ff571b3e80b75": {
      "model_module": "@jupyter-widgets/controls",
      "model_module_version": "1.4.0",
      "model_name": "SliderStyleModel",
      "state": {
       "description_width": ""
      }
     },
     "3a31a739fc7e4a3ead16ccd46dc9f711": {
      "model_module": "@jupyter-widgets/base",
      "model_module_version": "1.1.0",
      "model_name": "LayoutModel",
      "state": {}
     },
     "3a41f5d56939418095ba1099e9efb20b": {
      "model_module": "@jupyter-widgets/base",
      "model_module_version": "1.1.0",
      "model_name": "LayoutModel",
      "state": {}
     },
     "3a7ed910696948c6ac06da8036f1984a": {
      "model_module": "@jupyter-widgets/controls",
      "model_module_version": "1.4.0",
      "model_name": "IntTextModel",
      "state": {
       "description": "col_wrap",
       "layout": "IPY_MODEL_03d054588f34493cbc71aec3d8a8252c",
       "step": 1,
       "style": "IPY_MODEL_3c50be6cd2e34cd595d0aa94a96ff306",
       "value": 10
      }
     },
     "3a8c72ab2567440fa3143000ee38fa62": {
      "model_module": "@jupyter-widgets/controls",
      "model_module_version": "1.4.0",
      "model_name": "ButtonStyleModel",
      "state": {}
     },
     "3a963d6ac1f34623b217709790061812": {
      "model_module": "@jupyter-widgets/controls",
      "model_module_version": "1.4.0",
      "model_name": "FloatTextModel",
      "state": {
       "description": "aspect",
       "layout": "IPY_MODEL_1653b6f2df064ae19d6f2cc10c473253",
       "step": null,
       "style": "IPY_MODEL_d299ff54444840c68f16b00d67cced57",
       "value": 1
      }
     },
     "3b043a50c55340ccaaf37739ea75aeae": {
      "model_module": "@jupyter-widgets/controls",
      "model_module_version": "1.4.0",
      "model_name": "LabelModel",
      "state": {
       "layout": "IPY_MODEL_b15309d960a14e1eafa6d01040e9d8ca",
       "style": "IPY_MODEL_8f95b3e97e654deabf4247c0bf2011ad",
       "value": "---"
      }
     },
     "3b85b14f164040f4b74187f2991ec0e5": {
      "model_module": "@jupyter-widgets/base",
      "model_module_version": "1.1.0",
      "model_name": "LayoutModel",
      "state": {}
     },
     "3ba9351b41274e8e9617a4e31993a9f6": {
      "model_module": "@jupyter-widgets/controls",
      "model_module_version": "1.4.0",
      "model_name": "FloatTextModel",
      "state": {
       "description": "capsize",
       "layout": "IPY_MODEL_e8303d37d52443918d5b84cccb421b48",
       "step": null,
       "style": "IPY_MODEL_af3601addc2e4cb482ab8d804b9537d6",
       "value": 1
      }
     },
     "3bdb44b561694f45b89c4301e41c9304": {
      "model_module": "@jupyter-widgets/base",
      "model_module_version": "1.1.0",
      "model_name": "LayoutModel",
      "state": {}
     },
     "3bf5bdad30b14adfb3b5eb9a928a37e9": {
      "model_module": "@jupyter-widgets/controls",
      "model_module_version": "1.4.0",
      "model_name": "DescriptionStyleModel",
      "state": {
       "description_width": ""
      }
     },
     "3bfb10734d614a748e4a3a179c31b6bd": {
      "model_module": "@jupyter-widgets/controls",
      "model_module_version": "1.4.0",
      "model_name": "DescriptionStyleModel",
      "state": {
       "description_width": ""
      }
     },
     "3c11424782774f22a7ae3b031d488460": {
      "model_module": "@jupyter-widgets/controls",
      "model_module_version": "1.4.0",
      "model_name": "CheckboxModel",
      "state": {
       "description": "lowess",
       "disabled": false,
       "layout": "IPY_MODEL_af0678cf490649cd83cc16e0b29f0254",
       "style": "IPY_MODEL_8cb7eb9096ee4089838cd1d1b70b9dd5",
       "value": false
      }
     },
     "3c37792451f64918bed55c1df129ccd6": {
      "model_module": "@jupyter-widgets/base",
      "model_module_version": "1.1.0",
      "model_name": "LayoutModel",
      "state": {}
     },
     "3c50be6cd2e34cd595d0aa94a96ff306": {
      "model_module": "@jupyter-widgets/controls",
      "model_module_version": "1.4.0",
      "model_name": "DescriptionStyleModel",
      "state": {
       "description_width": ""
      }
     },
     "3c67501156be46b991c48da31124c0bb": {
      "model_module": "@jupyter-widgets/base",
      "model_module_version": "1.1.0",
      "model_name": "LayoutModel",
      "state": {}
     },
     "3c76911f77bc4b379ed336eb7f9fc7bf": {
      "model_module": "@jupyter-widgets/controls",
      "model_module_version": "1.4.0",
      "model_name": "DescriptionStyleModel",
      "state": {
       "description_width": ""
      }
     },
     "3c88d16922fb41eebf69303a6fe0e4c2": {
      "model_module": "@jupyter-widgets/controls",
      "model_module_version": "1.4.0",
      "model_name": "DropdownModel",
      "state": {
       "_options_labels": [
        "Acceleration",
        "Cylinders",
        "Displacement",
        "Horsepower",
        "Miles_per_Gallon",
        "Name",
        "Origin",
        "Weight_in_lbs",
        "Year"
       ],
       "description": "size",
       "index": 0,
       "layout": "IPY_MODEL_331361ccad9a4f4aa13e49e71359978c",
       "style": "IPY_MODEL_047684d3718e4b56bc7c55c7facdfbcc"
      }
     },
     "3cb4b24dd27e49afa79bcf83f6a0b1c3": {
      "model_module": "@jupyter-widgets/controls",
      "model_module_version": "1.4.0",
      "model_name": "DescriptionStyleModel",
      "state": {
       "description_width": ""
      }
     },
     "3cced08004844166badacf6f8fe2a83c": {
      "model_module": "@jupyter-widgets/controls",
      "model_module_version": "1.4.0",
      "model_name": "DescriptionStyleModel",
      "state": {
       "description_width": ""
      }
     },
     "3cdba894aa154142a4d2c70de720b7f7": {
      "model_module": "@jupyter-widgets/controls",
      "model_module_version": "1.4.0",
      "model_name": "DescriptionStyleModel",
      "state": {
       "description_width": ""
      }
     },
     "3d31b582ae1c4506befa757917d37d78": {
      "model_module": "@jupyter-widgets/base",
      "model_module_version": "1.1.0",
      "model_name": "LayoutModel",
      "state": {}
     },
     "3d4706977e3c445e98db6ef81c3983d9": {
      "model_module": "@jupyter-widgets/controls",
      "model_module_version": "1.4.0",
      "model_name": "DescriptionStyleModel",
      "state": {
       "description_width": ""
      }
     },
     "3d965047727a4f528401fdcfa51bde86": {
      "model_module": "@jupyter-widgets/controls",
      "model_module_version": "1.4.0",
      "model_name": "CheckboxModel",
      "state": {
       "description": "notch",
       "disabled": false,
       "layout": "IPY_MODEL_11c58c75563143c69ede329968e2d4c9",
       "style": "IPY_MODEL_ffa555e0b28c4f22b7332fbb798b6bca",
       "value": false
      }
     },
     "3dd7ea3001874d42b48e3f5b9de32f65": {
      "model_module": "@jupyter-widgets/controls",
      "model_module_version": "1.4.0",
      "model_name": "DescriptionStyleModel",
      "state": {
       "description_width": ""
      }
     },
     "3de49f76acc94cc893d112553bf0cfd2": {
      "model_module": "@jupyter-widgets/controls",
      "model_module_version": "1.4.0",
      "model_name": "DescriptionStyleModel",
      "state": {
       "description_width": ""
      }
     },
     "3e1bf80a98d64628badbb5a7066d71de": {
      "model_module": "@jupyter-widgets/controls",
      "model_module_version": "1.4.0",
      "model_name": "CheckboxModel",
      "state": {
       "description": "legend_out",
       "disabled": false,
       "layout": "IPY_MODEL_ba88b94382014a8f8ae27a0e711c3ee0",
       "style": "IPY_MODEL_18001ac1116d4a5da534cf6ac562989e",
       "value": false
      }
     },
     "3e1cd64ddb22493da3e544b256323ef9": {
      "model_module": "@jupyter-widgets/controls",
      "model_module_version": "1.4.0",
      "model_name": "CheckboxModel",
      "state": {
       "description": "scatter",
       "disabled": false,
       "layout": "IPY_MODEL_a4c37c03ab8a44758228d02a35300040",
       "style": "IPY_MODEL_188658b8ae4f422c9eb68044b38899ea",
       "value": false
      }
     },
     "3e3d03ab3a474e7284f0ce6a1115068d": {
      "model_module": "@jupyter-widgets/controls",
      "model_module_version": "1.4.0",
      "model_name": "FloatTextModel",
      "state": {
       "description": "linewidth",
       "layout": "IPY_MODEL_2ad247dd08f34899b67b5faf5f7c13ce",
       "step": null,
       "style": "IPY_MODEL_e62aceabd8d94c64b251bfe7ceb0a60e",
       "value": 1
      }
     },
     "3e528c828cc24b03be2296fc7051e7e8": {
      "model_module": "@jupyter-widgets/base",
      "model_module_version": "1.1.0",
      "model_name": "LayoutModel",
      "state": {}
     },
     "3e8d0e98656d40cb98986736ada5426e": {
      "model_module": "@jupyter-widgets/base",
      "model_module_version": "1.1.0",
      "model_name": "LayoutModel",
      "state": {}
     },
     "3eb8e5a6ecaa485781c77974c49d5d89": {
      "model_module": "@jupyter-widgets/base",
      "model_module_version": "1.1.0",
      "model_name": "LayoutModel",
      "state": {}
     },
     "3ecad87d99a6419d93cb946f1b36eef1": {
      "model_module": "@jupyter-widgets/base",
      "model_module_version": "1.1.0",
      "model_name": "LayoutModel",
      "state": {}
     },
     "3ed08ea47e5a4bf2944b010142a6c71c": {
      "model_module": "@jupyter-widgets/base",
      "model_module_version": "1.1.0",
      "model_name": "LayoutModel",
      "state": {}
     },
     "3ee1df4ecf94489cb071f17853a78e0f": {
      "model_module": "@jupyter-widgets/controls",
      "model_module_version": "1.4.0",
      "model_name": "DescriptionStyleModel",
      "state": {
       "description_width": ""
      }
     },
     "3f2011994ecb4b5bbccd057d1477bcee": {
      "model_module": "@jupyter-widgets/base",
      "model_module_version": "1.1.0",
      "model_name": "LayoutModel",
      "state": {}
     },
     "3f3c4e8760ad481da8c25cc004be1eea": {
      "model_module": "@jupyter-widgets/controls",
      "model_module_version": "1.4.0",
      "model_name": "DescriptionStyleModel",
      "state": {
       "description_width": ""
      }
     },
     "3f76a5addbaf4f97a2db3760f6135bb5": {
      "model_module": "@jupyter-widgets/controls",
      "model_module_version": "1.4.0",
      "model_name": "DropdownModel",
      "state": {
       "_options_labels": [
        "1",
        "2",
        "3",
        "4",
        "5",
        "6",
        "7",
        "8",
        "9",
        "10",
        "11",
        "12",
        "13",
        "14",
        "15",
        "16",
        "17",
        "18",
        "19",
        "20",
        "21",
        "22",
        "23",
        "24",
        "25",
        "26",
        "27",
        "28",
        "29",
        "30",
        "31"
       ],
       "description": "size",
       "index": 0,
       "layout": "IPY_MODEL_b5919b94a8674e588cf659a03c0b5e92",
       "style": "IPY_MODEL_c2d6b70c98d14e848f5c89245a12e6a1"
      }
     },
     "3ff9cc55612d4497834738b48b263b96": {
      "model_module": "@jupyter-widgets/base",
      "model_module_version": "1.1.0",
      "model_name": "LayoutModel",
      "state": {}
     },
     "40062cb9996c43788702172e6de3f4b6": {
      "model_module": "@jupyter-widgets/controls",
      "model_module_version": "1.4.0",
      "model_name": "DescriptionStyleModel",
      "state": {
       "description_width": ""
      }
     },
     "40743cfb5e38405894fe36c05dca63a9": {
      "model_module": "@jupyter-widgets/controls",
      "model_module_version": "1.4.0",
      "model_name": "DropdownModel",
      "state": {
       "_options_labels": [
        "scatter",
        "reg"
       ],
       "description": "kind",
       "index": 0,
       "layout": "IPY_MODEL_d4ba169c57474be9bfb73c5b1dee4558",
       "style": "IPY_MODEL_a6e3c926b8e44d7b9e3dbe3e33752da7"
      }
     },
     "408080a76ba64178ab6392e12a19a726": {
      "model_module": "@jupyter-widgets/controls",
      "model_module_version": "1.4.0",
      "model_name": "TextModel",
      "state": {
       "description": "fmt",
       "layout": "IPY_MODEL_a960f492d2cc49ac9d173282d5b98d3e",
       "style": "IPY_MODEL_cdf59a7946264871af43bf2cdc979e68"
      }
     },
     "408ce49d03e648f4bac2c28608b7ded4": {
      "model_module": "@jupyter-widgets/controls",
      "model_module_version": "1.4.0",
      "model_name": "DescriptionStyleModel",
      "state": {
       "description_width": ""
      }
     },
     "40eceaef4f194567828173eec233020c": {
      "model_module": "@jupyter-widgets/base",
      "model_module_version": "1.1.0",
      "model_name": "LayoutModel",
      "state": {}
     },
     "40f6b9245fd44612a5771537cef7da2e": {
      "model_module": "@jupyter-widgets/base",
      "model_module_version": "1.1.0",
      "model_name": "LayoutModel",
      "state": {}
     },
     "410a1fc16837460692baf5c8e04d8f33": {
      "model_module": "@jupyter-widgets/controls",
      "model_module_version": "1.4.0",
      "model_name": "DropdownModel",
      "state": {
       "_options_labels": [
        "v",
        "h"
       ],
       "description": "orient",
       "index": 1,
       "layout": "IPY_MODEL_e92dbcb5bc3c4e919f115ce45b33e882",
       "style": "IPY_MODEL_055ddd86b4ce4bfbb80088ac984e37d9"
      }
     },
     "411f80cd78ad4d4e9e11ba4da3f6eb83": {
      "model_module": "@jupyter-widgets/controls",
      "model_module_version": "1.4.0",
      "model_name": "HBoxModel",
      "state": {
       "children": [
        "IPY_MODEL_d38431606ab24662a8b91a09547668c6"
       ],
       "layout": "IPY_MODEL_f531c73f1ffb4b7b808c5e4880c92460"
      }
     },
     "4128d132da1e4dda967de6374732b8dd": {
      "model_module": "@jupyter-widgets/base",
      "model_module_version": "1.1.0",
      "model_name": "LayoutModel",
      "state": {}
     },
     "413f7d7a12a54841ae46df7e41f351dd": {
      "model_module": "@jupyter-widgets/controls",
      "model_module_version": "1.4.0",
      "model_name": "DescriptionStyleModel",
      "state": {
       "description_width": ""
      }
     },
     "414eb71b3aee4116847e022b5c346ddb": {
      "model_module": "@jupyter-widgets/controls",
      "model_module_version": "1.4.0",
      "model_name": "DescriptionStyleModel",
      "state": {
       "description_width": ""
      }
     },
     "4168f267853243a7a5b4296290dc25fc": {
      "model_module": "@jupyter-widgets/controls",
      "model_module_version": "1.4.0",
      "model_name": "CheckboxModel",
      "state": {
       "description": "annot",
       "disabled": false,
       "layout": "IPY_MODEL_daca875837444fe0b002577c19ea1a18",
       "style": "IPY_MODEL_dd5aed61ef8b4aa9b95e35e0ccbc71aa",
       "value": false
      }
     },
     "418bd6c904b44bb5a5e622d1efd831f2": {
      "model_module": "@jupyter-widgets/base",
      "model_module_version": "1.1.0",
      "model_name": "LayoutModel",
      "state": {}
     },
     "419ad48b103e4584aa21326382561f9a": {
      "model_module": "@jupyter-widgets/controls",
      "model_module_version": "1.4.0",
      "model_name": "DescriptionStyleModel",
      "state": {
       "description_width": ""
      }
     },
     "41a83f0b48d6497aa695fe5c8d0a125e": {
      "model_module": "@jupyter-widgets/controls",
      "model_module_version": "1.4.0",
      "model_name": "DropdownModel",
      "state": {
       "_options_labels": [
        "band",
        "bars"
       ],
       "description": "err_style",
       "index": 0,
       "layout": "IPY_MODEL_bd8da0aa1bea496cb5637e584cd9481d",
       "style": "IPY_MODEL_8197553886164416848ef0a4a6f92d22"
      }
     },
     "41de82283b70440e99fbb326da52667f": {
      "model_module": "@jupyter-widgets/controls",
      "model_module_version": "1.4.0",
      "model_name": "DescriptionStyleModel",
      "state": {
       "description_width": ""
      }
     },
     "421c9fd6d1884a98b45a434ac031ad2c": {
      "model_module": "@jupyter-widgets/controls",
      "model_module_version": "1.4.0",
      "model_name": "DropdownModel",
      "state": {
       "_options_labels": [
        "point",
        "bar",
        "strip",
        "swarm",
        "box",
        "violin",
        "boxen"
       ],
       "description": "kind",
       "index": 0,
       "layout": "IPY_MODEL_35487eb39bad4d98b42ca7f956917164",
       "style": "IPY_MODEL_37b40c36a6c4456daa1e9e79947db9d4"
      }
     },
     "42270b5aebd64595821c74ace331407b": {
      "model_module": "@jupyter-widgets/controls",
      "model_module_version": "1.4.0",
      "model_name": "DropdownModel",
      "state": {
       "_options_labels": [
        "1",
        "2",
        "3",
        "4",
        "5",
        "6",
        "7",
        "8",
        "9",
        "10",
        "11",
        "12",
        "13",
        "14",
        "15",
        "16",
        "17",
        "18",
        "19",
        "20",
        "21",
        "22",
        "23",
        "24",
        "25",
        "26",
        "27",
        "28",
        "29",
        "30",
        "31"
       ],
       "description": "dashes",
       "index": 0,
       "layout": "IPY_MODEL_943ce957a5ba41f0a1fb6d9f252c45aa",
       "style": "IPY_MODEL_79d584ba7ee4467892dfe5656734738b"
      }
     },
     "423d5a903ba24518857a31baf50e9f60": {
      "model_module": "@jupyter-widgets/controls",
      "model_module_version": "1.4.0",
      "model_name": "CheckboxModel",
      "state": {
       "description": "shade",
       "disabled": false,
       "layout": "IPY_MODEL_7a5a22f5aa9c4945acd11b8a22e82ec0",
       "style": "IPY_MODEL_5d3cdcacca1443fd95a30eb9aeb41b99",
       "value": false
      }
     },
     "423e38cc60a442f28fa6a95c546108eb": {
      "model_module": "@jupyter-widgets/controls",
      "model_module_version": "1.4.0",
      "model_name": "DropdownModel",
      "state": {
       "_options_labels": [
        "gau",
        "cos",
        "biw",
        "epa",
        "tri",
        "triw"
       ],
       "description": "kernel",
       "index": 0,
       "layout": "IPY_MODEL_b550fb46c18e49fe8f1608f074af6f7f",
       "style": "IPY_MODEL_e2401e9dcf10479f8a1bc08cb6ff0aec"
      }
     },
     "427a2ee3fb1a400886dd5a97c5d19354": {
      "model_module": "@jupyter-widgets/controls",
      "model_module_version": "1.4.0",
      "model_name": "DescriptionStyleModel",
      "state": {
       "description_width": ""
      }
     },
     "42d684a650ba406fb2b35ce1ea67381b": {
      "model_module": "@jupyter-widgets/base",
      "model_module_version": "1.1.0",
      "model_name": "LayoutModel",
      "state": {}
     },
     "42de1cce8d0e41799065f31ba8c280b5": {
      "model_module": "@jupyter-widgets/controls",
      "model_module_version": "1.4.0",
      "model_name": "FloatTextModel",
      "state": {
       "description": "fliersize",
       "layout": "IPY_MODEL_8e77b3668c0d4aa680b29c53503db813",
       "step": null,
       "style": "IPY_MODEL_00ea148050bd4fc6b1504cb3204ad18e",
       "value": 1
      }
     },
     "43024e33c8a74f4a8675f4c818e4f52b": {
      "model_module": "@jupyter-widgets/output",
      "model_module_version": "1.0.0",
      "model_name": "OutputModel",
      "state": {
       "layout": "IPY_MODEL_e6a57faee16b405e9c5ebc7d97743dbc",
       "outputs": [
        {
         "data": {
          "image/png": "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\n",
          "text/plain": "<Figure size 432x288 with 2 Axes>"
         },
         "metadata": {},
         "output_type": "display_data"
        }
       ]
      }
     },
     "43071688691b4883a7a6de9d0e59ce86": {
      "model_module": "@jupyter-widgets/controls",
      "model_module_version": "1.4.0",
      "model_name": "DescriptionStyleModel",
      "state": {
       "description_width": ""
      }
     },
     "431e890a15164c43ac1a37a712d60f25": {
      "model_module": "@jupyter-widgets/controls",
      "model_module_version": "1.4.0",
      "model_name": "FloatTextModel",
      "state": {
       "description": "linewidth",
       "layout": "IPY_MODEL_c322b48dee8048db813d10235c9bfd65",
       "step": null,
       "style": "IPY_MODEL_ccd0fafec1174131ab344302f7a0e5bc",
       "value": 1
      }
     },
     "435ea3c08d5b42ca827fae65624881dc": {
      "model_module": "@jupyter-widgets/controls",
      "model_module_version": "1.4.0",
      "model_name": "CheckboxModel",
      "state": {
       "description": "cbar_ax",
       "disabled": false,
       "layout": "IPY_MODEL_aeaa0c5d1f7b4fad938317dd16deba13",
       "style": "IPY_MODEL_90a391bc20d7463fa4d6d77f4c38d143",
       "value": false
      }
     },
     "4368f0bce7da4ee8bbddf2d666dea61d": {
      "model_module": "@jupyter-widgets/base",
      "model_module_version": "1.1.0",
      "model_name": "LayoutModel",
      "state": {}
     },
     "4369e86e3d2a4819b208f775921b28ff": {
      "model_module": "@jupyter-widgets/base",
      "model_module_version": "1.1.0",
      "model_name": "LayoutModel",
      "state": {}
     },
     "436efeecc4084b4c9c9197a3ddf62abd": {
      "model_module": "@jupyter-widgets/base",
      "model_module_version": "1.1.0",
      "model_name": "LayoutModel",
      "state": {}
     },
     "437489f9ea6047b28fe2f64ee1adf725": {
      "model_module": "@jupyter-widgets/controls",
      "model_module_version": "1.4.0",
      "model_name": "DescriptionStyleModel",
      "state": {
       "description_width": ""
      }
     },
     "440cfe21e2874c7d919d536468cdbe2f": {
      "model_module": "@jupyter-widgets/controls",
      "model_module_version": "1.4.0",
      "model_name": "DescriptionStyleModel",
      "state": {
       "description_width": ""
      }
     },
     "443d7fb2fee446c990f10efd77e9f121": {
      "model_module": "@jupyter-widgets/controls",
      "model_module_version": "1.4.0",
      "model_name": "DescriptionStyleModel",
      "state": {
       "description_width": ""
      }
     },
     "44427ec6ced94f819632616dbf7ae2f2": {
      "model_module": "@jupyter-widgets/base",
      "model_module_version": "1.1.0",
      "model_name": "LayoutModel",
      "state": {}
     },
     "4462ab7698054999beb1e3271e44c7f2": {
      "model_module": "@jupyter-widgets/controls",
      "model_module_version": "1.4.0",
      "model_name": "DropdownModel",
      "state": {
       "_options_labels": [
        "brief",
        "full",
        "False"
       ],
       "description": "legend",
       "index": 0,
       "layout": "IPY_MODEL_495a499e031941f1977e184623a2a5db",
       "style": "IPY_MODEL_a0a7823ce59d46ee8dbf1f9f79382cb9"
      }
     },
     "446e50a8a20348ad8054612a5b0a7093": {
      "model_module": "@jupyter-widgets/controls",
      "model_module_version": "1.4.0",
      "model_name": "IntTextModel",
      "state": {
       "description": "col_wrap",
       "layout": "IPY_MODEL_1cbe2062e9c048569e6c686e268a0368",
       "step": 1,
       "style": "IPY_MODEL_2d78ecc90cae4887bf9a8ba7352aedd0",
       "value": 10
      }
     },
     "4477e2b2e6b24049bdd32e1b33044177": {
      "model_module": "@jupyter-widgets/base",
      "model_module_version": "1.1.0",
      "model_name": "LayoutModel",
      "state": {}
     },
     "44913f950f374c888dde8ce3ba029e5c": {
      "model_module": "@jupyter-widgets/base",
      "model_module_version": "1.1.0",
      "model_name": "LayoutModel",
      "state": {}
     },
     "449e46ca66804f4e9bd324b8fccee8c1": {
      "model_module": "@jupyter-widgets/controls",
      "model_module_version": "1.4.0",
      "model_name": "CheckboxModel",
      "state": {
       "description": "norm_hist",
       "disabled": false,
       "layout": "IPY_MODEL_1c9046593c914234ba88060aad31bbac",
       "style": "IPY_MODEL_d980eef8ab1647c8b8e70f14aab73408",
       "value": false
      }
     },
     "44a3ef4944fb45ccaaf1b7fb183d8e8b": {
      "model_module": "@jupyter-widgets/base",
      "model_module_version": "1.1.0",
      "model_name": "LayoutModel",
      "state": {}
     },
     "44e5655f71ce457da7fbc38406ece697": {
      "model_module": "@jupyter-widgets/controls",
      "model_module_version": "1.4.0",
      "model_name": "FloatTextModel",
      "state": {
       "description": "aspect",
       "layout": "IPY_MODEL_84a21839c0b342c586a04cd935d2ff9f",
       "step": null,
       "style": "IPY_MODEL_7b3424bbab504ab4b7a347dfb99319a1",
       "value": 1
      }
     },
     "45260e0202c547bb98ca653784d119e2": {
      "model_module": "@jupyter-widgets/controls",
      "model_module_version": "1.4.0",
      "model_name": "ButtonStyleModel",
      "state": {}
     },
     "455dc5e0a7da4cdf8ff5a71440289ec7": {
      "model_module": "@jupyter-widgets/controls",
      "model_module_version": "1.4.0",
      "model_name": "FloatTextModel",
      "state": {
       "description": "center",
       "layout": "IPY_MODEL_14fbd4c6ae1347ee9e211bc2e3b1848b",
       "step": null,
       "style": "IPY_MODEL_95d25900314e49e79095f3f004722ae8",
       "value": 1
      }
     },
     "4564bf1b79334ff99bc08f6e8dcfcf7b": {
      "model_module": "@jupyter-widgets/controls",
      "model_module_version": "1.4.0",
      "model_name": "DescriptionStyleModel",
      "state": {
       "description_width": ""
      }
     },
     "456a73e808c34a1087365b3e2e98d948": {
      "model_module": "@jupyter-widgets/controls",
      "model_module_version": "1.4.0",
      "model_name": "DescriptionStyleModel",
      "state": {
       "description_width": ""
      }
     },
     "457b3599cedc41d6a530a7bf5f935657": {
      "model_module": "@jupyter-widgets/base",
      "model_module_version": "1.1.0",
      "model_name": "LayoutModel",
      "state": {}
     },
     "457fbadc2a224ffe8f26654d30942f7d": {
      "model_module": "@jupyter-widgets/controls",
      "model_module_version": "1.4.0",
      "model_name": "DescriptionStyleModel",
      "state": {
       "description_width": ""
      }
     },
     "4582af92b5194aa395d7fadde12fd3ff": {
      "model_module": "@jupyter-widgets/controls",
      "model_module_version": "1.4.0",
      "model_name": "CheckboxModel",
      "state": {
       "description": "lowess",
       "disabled": false,
       "layout": "IPY_MODEL_78f2f2f11319472a85c6d10e418bce46",
       "style": "IPY_MODEL_83872f618ae3479398bc6adaf90450c7",
       "value": false
      }
     },
     "45a59bb9848c4e529d1b8578b1ef1aaa": {
      "model_module": "@jupyter-widgets/controls",
      "model_module_version": "1.4.0",
      "model_name": "ButtonStyleModel",
      "state": {}
     },
     "45befa61be78408d8cb0892ab2cd308d": {
      "model_module": "@jupyter-widgets/controls",
      "model_module_version": "1.4.0",
      "model_name": "DropdownModel",
      "state": {
       "_options_labels": [
        "True",
        "col",
        "row"
       ],
       "description": "sharey",
       "index": 0,
       "layout": "IPY_MODEL_847eb6f7b329457ea7249076b60869fa",
       "style": "IPY_MODEL_00b5b5e01e724d0eb22eb2fc4d7aca0c"
      }
     },
     "45e36ed79fb74149952498032a771c2f": {
      "model_module": "@jupyter-widgets/controls",
      "model_module_version": "1.4.0",
      "model_name": "LabelModel",
      "state": {
       "layout": "IPY_MODEL_8457899a7dca4e44a2c8130ed6b3e3ba",
       "style": "IPY_MODEL_db24efd7bcc94b9ca4d189ef29a9d134",
       "value": "---"
      }
     },
     "465c390b25514d5eb8300a8c060d89b6": {
      "model_module": "@jupyter-widgets/controls",
      "model_module_version": "1.4.0",
      "model_name": "TextModel",
      "state": {
       "description": "cmap",
       "layout": "IPY_MODEL_ffab993c343742b0bf79db85a77f77b2",
       "style": "IPY_MODEL_43071688691b4883a7a6de9d0e59ce86",
       "value": "viridis"
      }
     },
     "4660da9ad80c4bc7a7a08a18c7fb4e56": {
      "model_module": "@jupyter-widgets/base",
      "model_module_version": "1.1.0",
      "model_name": "LayoutModel",
      "state": {}
     },
     "467f2c0bea214c9ba3c59e58a8a92b2a": {
      "model_module": "@jupyter-widgets/controls",
      "model_module_version": "1.4.0",
      "model_name": "CheckboxModel",
      "state": {
       "description": "join",
       "disabled": false,
       "layout": "IPY_MODEL_17fa000677524f2fbee59f2ea0cb373e",
       "style": "IPY_MODEL_07b8c78cf06442a283bf67d5e8c8af25",
       "value": false
      }
     },
     "468d44aa751b4fd9b195b818297c5d39": {
      "model_module": "@jupyter-widgets/controls",
      "model_module_version": "1.4.0",
      "model_name": "DropdownModel",
      "state": {
       "_options_labels": [
        "True",
        "col",
        "row"
       ],
       "description": "sharex",
       "index": 0,
       "layout": "IPY_MODEL_2042628234124622973aaf7d7570538f",
       "style": "IPY_MODEL_9ac2e810854545e0a8c5636beab7ef70"
      }
     },
     "46d2fe8898c947f4889ddd205aa294f2": {
      "model_module": "@jupyter-widgets/controls",
      "model_module_version": "1.4.0",
      "model_name": "LabelModel",
      "state": {
       "layout": "IPY_MODEL_bcce030fb15648b98899a52641f3ae46",
       "style": "IPY_MODEL_232ddb3047d14ec094bb2eea31eaa4aa",
       "value": "---"
      }
     },
     "46f8c6d3be9f47e2a6da0494b6970db7": {
      "model_module": "@jupyter-widgets/controls",
      "model_module_version": "1.4.0",
      "model_name": "IntTextModel",
      "state": {
       "description": "height",
       "layout": "IPY_MODEL_47eaff4284d04c01b9f0a75918df0b29",
       "step": 1,
       "style": "IPY_MODEL_4c6561d740be4d2797534fa27aff14a5",
       "value": 5
      }
     },
     "472a33db9a234e7d89be1dec3cf8a54e": {
      "model_module": "@jupyter-widgets/base",
      "model_module_version": "1.1.0",
      "model_name": "LayoutModel",
      "state": {}
     },
     "472ad94ec624430bad14e58ec427cf10": {
      "model_module": "@jupyter-widgets/base",
      "model_module_version": "1.1.0",
      "model_name": "LayoutModel",
      "state": {}
     },
     "47345e3622ee48e3961294afcde04cc1": {
      "model_module": "@jupyter-widgets/controls",
      "model_module_version": "1.4.0",
      "model_name": "CheckboxModel",
      "state": {
       "description": "logistic",
       "disabled": false,
       "layout": "IPY_MODEL_b61ae2c9349744859f1f3b5eb565f261",
       "style": "IPY_MODEL_661c39c3d32d4667a400222bd915f243",
       "value": false
      }
     },
     "4744053619cf43019af6e14fad30d7dd": {
      "model_module": "@jupyter-widgets/controls",
      "model_module_version": "1.4.0",
      "model_name": "DropdownModel",
      "state": {
       "_options_labels": [
        "Acceleration",
        "Cylinders",
        "Displacement",
        "Horsepower",
        "Miles_per_Gallon",
        "Name",
        "Origin",
        "Weight_in_lbs",
        "Year"
       ],
       "description": "hue",
       "index": 0,
       "layout": "IPY_MODEL_d89b661bd0db43f78a7c5b9cf689b02e",
       "style": "IPY_MODEL_75f5b238ad7d4bf5aabab0cac269fff0"
      }
     },
     "474573edde064c31aefee7ba852a965f": {
      "model_module": "@jupyter-widgets/controls",
      "model_module_version": "1.4.0",
      "model_name": "DropdownModel",
      "state": {
       "_options_labels": [
        "point",
        "bar",
        "strip",
        "swarm",
        "box",
        "violin",
        "boxen"
       ],
       "description": "kind",
       "index": 0,
       "layout": "IPY_MODEL_b781b4c242f74df2bff40e58dd541e3e",
       "style": "IPY_MODEL_be94e871ddf2460cbe00b4e5a0d15b11"
      }
     },
     "47481716bcb941fc8bc2e1acb06af302": {
      "model_module": "@jupyter-widgets/controls",
      "model_module_version": "1.4.0",
      "model_name": "DescriptionStyleModel",
      "state": {
       "description_width": ""
      }
     },
     "47715d612dcc436abce30c9fb0d64414": {
      "model_module": "@jupyter-widgets/controls",
      "model_module_version": "1.4.0",
      "model_name": "ButtonStyleModel",
      "state": {}
     },
     "4798d4fd09ec49a4878dfd8f03c3c202": {
      "model_module": "@jupyter-widgets/controls",
      "model_module_version": "1.4.0",
      "model_name": "TextModel",
      "state": {
       "description": "color",
       "layout": "IPY_MODEL_fb197725d6e9432b9d847e0caf3786a5",
       "style": "IPY_MODEL_d5f7b4eee3d9487fabad06b1c64fe522",
       "value": "g"
      }
     },
     "479e17def84447a18d993914ba31429b": {
      "model_module": "@jupyter-widgets/base",
      "model_module_version": "1.1.0",
      "model_name": "LayoutModel",
      "state": {}
     },
     "47eaff4284d04c01b9f0a75918df0b29": {
      "model_module": "@jupyter-widgets/base",
      "model_module_version": "1.1.0",
      "model_name": "LayoutModel",
      "state": {}
     },
     "481e1f757d8c424286bcf86fc3aa9390": {
      "model_module": "@jupyter-widgets/controls",
      "model_module_version": "1.4.0",
      "model_name": "DescriptionStyleModel",
      "state": {
       "description_width": ""
      }
     },
     "481f23de6d254330b94851470b3591d9": {
      "model_module": "@jupyter-widgets/controls",
      "model_module_version": "1.4.0",
      "model_name": "DescriptionStyleModel",
      "state": {
       "description_width": ""
      }
     },
     "489865602f87406c8cc593540e12556b": {
      "model_module": "@jupyter-widgets/controls",
      "model_module_version": "1.4.0",
      "model_name": "DescriptionStyleModel",
      "state": {
       "description_width": ""
      }
     },
     "48b7bcbb387f48aebf870b41cfa71f26": {
      "model_module": "@jupyter-widgets/controls",
      "model_module_version": "1.4.0",
      "model_name": "DescriptionStyleModel",
      "state": {
       "description_width": ""
      }
     },
     "49023c5cb1394a41b818fdd7e749bf6b": {
      "model_module": "@jupyter-widgets/controls",
      "model_module_version": "1.4.0",
      "model_name": "DescriptionStyleModel",
      "state": {
       "description_width": ""
      }
     },
     "490c137a9ea244ae9f4c899bcc73583e": {
      "model_module": "@jupyter-widgets/base",
      "model_module_version": "1.1.0",
      "model_name": "LayoutModel",
      "state": {}
     },
     "49128579f3394132a199470bc1fea28b": {
      "model_module": "@jupyter-widgets/base",
      "model_module_version": "1.1.0",
      "model_name": "LayoutModel",
      "state": {}
     },
     "493546312c854882863169f76483b950": {
      "model_module": "@jupyter-widgets/controls",
      "model_module_version": "1.4.0",
      "model_name": "DescriptionStyleModel",
      "state": {
       "description_width": ""
      }
     },
     "495a499e031941f1977e184623a2a5db": {
      "model_module": "@jupyter-widgets/base",
      "model_module_version": "1.1.0",
      "model_name": "LayoutModel",
      "state": {}
     },
     "499db478b843481f985d0b16e56202f6": {
      "model_module": "@jupyter-widgets/base",
      "model_module_version": "1.1.0",
      "model_name": "LayoutModel",
      "state": {}
     },
     "499f6b686ebf488d9fad5e7f9e10feb4": {
      "model_module": "@jupyter-widgets/controls",
      "model_module_version": "1.4.0",
      "model_name": "DescriptionStyleModel",
      "state": {
       "description_width": ""
      }
     },
     "4a16537e468d4281ad9fd8c05f691e58": {
      "model_module": "@jupyter-widgets/base",
      "model_module_version": "1.1.0",
      "model_name": "LayoutModel",
      "state": {}
     },
     "4a3234e1ff13480da3ef9f3787301c72": {
      "model_module": "@jupyter-widgets/controls",
      "model_module_version": "1.4.0",
      "model_name": "DropdownModel",
      "state": {
       "_options_labels": [
        "Acceleration",
        "Cylinders",
        "Displacement",
        "Horsepower",
        "Miles_per_Gallon",
        "Name",
        "Origin",
        "Weight_in_lbs",
        "Year"
       ],
       "description": "dashes",
       "index": 0,
       "layout": "IPY_MODEL_44a3ef4944fb45ccaaf1b7fb183d8e8b",
       "style": "IPY_MODEL_3ee1df4ecf94489cb071f17853a78e0f"
      }
     },
     "4a5dc115b3c64633a5a5945c4752259c": {
      "model_module": "@jupyter-widgets/controls",
      "model_module_version": "1.4.0",
      "model_name": "CheckboxModel",
      "state": {
       "description": "notch",
       "disabled": false,
       "layout": "IPY_MODEL_f55cbf09434d45dc9ba0e5ab54b29dc5",
       "style": "IPY_MODEL_60637d255b564a969deeaaa5fd16fec6",
       "value": false
      }
     },
     "4a62cf25a734438385841340b5bcedee": {
      "model_module": "@jupyter-widgets/base",
      "model_module_version": "1.1.0",
      "model_name": "LayoutModel",
      "state": {}
     },
     "4a7405690eda4216a5d9b4286caa4abd": {
      "model_module": "@jupyter-widgets/controls",
      "model_module_version": "1.4.0",
      "model_name": "DropdownModel",
      "state": {
       "_options_labels": [
        "1",
        "2",
        "3",
        "4",
        "5",
        "6",
        "7",
        "8",
        "9",
        "10",
        "11",
        "12",
        "13",
        "14",
        "15",
        "16",
        "17",
        "18",
        "19",
        "20",
        "21",
        "22",
        "23",
        "24",
        "25",
        "26",
        "27",
        "28",
        "29",
        "30",
        "31"
       ],
       "description": "style",
       "index": 0,
       "layout": "IPY_MODEL_44427ec6ced94f819632616dbf7ae2f2",
       "style": "IPY_MODEL_64aae24e23e847dfab5fecd5b48cd699"
      }
     },
     "4aa122ad854646d388deff74b8745f4c": {
      "model_module": "@jupyter-widgets/base",
      "model_module_version": "1.1.0",
      "model_name": "LayoutModel",
      "state": {}
     },
     "4b45e87c8f4444798e2006cc31647680": {
      "model_module": "@jupyter-widgets/controls",
      "model_module_version": "1.4.0",
      "model_name": "DescriptionStyleModel",
      "state": {
       "description_width": ""
      }
     },
     "4b6ffdc0855449ebb03576738da0432e": {
      "model_module": "@jupyter-widgets/base",
      "model_module_version": "1.1.0",
      "model_name": "LayoutModel",
      "state": {}
     },
     "4b81ac5260c947d9b32a41c805e12517": {
      "model_module": "@jupyter-widgets/controls",
      "model_module_version": "1.4.0",
      "model_name": "DescriptionStyleModel",
      "state": {
       "description_width": ""
      }
     },
     "4bb35104f12146a2b45d5661744a92d9": {
      "model_module": "@jupyter-widgets/controls",
      "model_module_version": "1.4.0",
      "model_name": "DescriptionStyleModel",
      "state": {
       "description_width": ""
      }
     },
     "4bb8f6e9d123448a99bd57523eae732a": {
      "model_module": "@jupyter-widgets/controls",
      "model_module_version": "1.4.0",
      "model_name": "DescriptionStyleModel",
      "state": {
       "description_width": ""
      }
     },
     "4bc9b5cc150349d7ae51f5b1586131b6": {
      "model_module": "@jupyter-widgets/controls",
      "model_module_version": "1.4.0",
      "model_name": "SliderStyleModel",
      "state": {
       "description_width": ""
      }
     },
     "4bccc70c9949446a8fe99fb4ea55ddbc": {
      "model_module": "@jupyter-widgets/controls",
      "model_module_version": "1.4.0",
      "model_name": "DropdownModel",
      "state": {
       "_options_labels": [
        "[barplot] capsize",
        "[barplot] color",
        "[barplot] errwidth",
        "[barplot] hue",
        "[barplot] n_boot",
        "[barplot] orient",
        "[barplot] palette",
        "[barplot] saturation",
        "[barplot] x",
        "[barplot] y"
       ],
       "description": "Controls",
       "index": 9,
       "layout": "IPY_MODEL_3d31b582ae1c4506befa757917d37d78",
       "style": "IPY_MODEL_808f91c2924946b8a249bc83ec08c552"
      }
     },
     "4c072594ecfe47ba8c837c91990fca70": {
      "model_module": "@jupyter-widgets/controls",
      "model_module_version": "1.4.0",
      "model_name": "DescriptionStyleModel",
      "state": {
       "description_width": ""
      }
     },
     "4c277aee9f534c17b9973f81bc00c15c": {
      "model_module": "@jupyter-widgets/controls",
      "model_module_version": "1.4.0",
      "model_name": "FloatSliderModel",
      "state": {
       "description": "alpha",
       "layout": "IPY_MODEL_ba7e782473ac4c74b0a5b85988f60b18",
       "max": 1,
       "step": 0.05,
       "style": "IPY_MODEL_26a0fad09b7a419a9315ed9e68c186fd"
      }
     },
     "4c32365c2c4e49e09c513526e9cb4e39": {
      "model_module": "@jupyter-widgets/base",
      "model_module_version": "1.1.0",
      "model_name": "LayoutModel",
      "state": {}
     },
     "4c4110c8abe440fc8c50088001914985": {
      "model_module": "@jupyter-widgets/controls",
      "model_module_version": "1.4.0",
      "model_name": "DescriptionStyleModel",
      "state": {
       "description_width": ""
      }
     },
     "4c4b357342534afe9de118334450281c": {
      "model_module": "@jupyter-widgets/base",
      "model_module_version": "1.1.0",
      "model_name": "LayoutModel",
      "state": {}
     },
     "4c61d5aef05c48a98c5e519a49846b94": {
      "model_module": "@jupyter-widgets/controls",
      "model_module_version": "1.4.0",
      "model_name": "DescriptionStyleModel",
      "state": {
       "description_width": ""
      }
     },
     "4c6561d740be4d2797534fa27aff14a5": {
      "model_module": "@jupyter-widgets/controls",
      "model_module_version": "1.4.0",
      "model_name": "DescriptionStyleModel",
      "state": {
       "description_width": ""
      }
     },
     "4c65d711799049cfbea470cefd73229e": {
      "model_module": "@jupyter-widgets/controls",
      "model_module_version": "1.4.0",
      "model_name": "DescriptionStyleModel",
      "state": {
       "description_width": ""
      }
     },
     "4cf80d694e7e46cd80cf0250afab329c": {
      "model_module": "@jupyter-widgets/controls",
      "model_module_version": "1.4.0",
      "model_name": "VBoxModel",
      "state": {
       "children": [
        "IPY_MODEL_9ada7bb2f3f6433ab072cede86d71025",
        "IPY_MODEL_67d76abd777f407a877c61c159b89bad",
        "IPY_MODEL_e372724f942a4dd0b541239dffd8514b",
        "IPY_MODEL_0f1d86775e4f49c291b4b7c6e58a4155",
        "IPY_MODEL_70af840d14984966a40fb8fc289b716a"
       ],
       "layout": "IPY_MODEL_7d6d36a130b04552b51fb666fb8eb994"
      }
     },
     "4d399185d88945ada35e4527d81f13fb": {
      "model_module": "@jupyter-widgets/controls",
      "model_module_version": "1.4.0",
      "model_name": "DescriptionStyleModel",
      "state": {
       "description_width": ""
      }
     },
     "4d3eb07b97674492a16ca48e08e9641f": {
      "model_module": "@jupyter-widgets/controls",
      "model_module_version": "1.4.0",
      "model_name": "FloatTextModel",
      "state": {
       "description": "height",
       "layout": "IPY_MODEL_776657da1b984f3da8ac1192a75113da",
       "step": null,
       "style": "IPY_MODEL_ef9ec5d402434f7ea1a8fa0ebad2b1ac",
       "value": 1
      }
     },
     "4d5d851685e3447ca466f1489dd853e6": {
      "model_module": "@jupyter-widgets/controls",
      "model_module_version": "1.4.0",
      "model_name": "CheckboxModel",
      "state": {
       "description": "margin_titles",
       "disabled": false,
       "layout": "IPY_MODEL_01c26fe34da04980917766c30824f744",
       "style": "IPY_MODEL_8e5f21411b2244f595001e4f0f32d8a8",
       "value": false
      }
     },
     "4d82a54444f64a83b87814de8a025bfc": {
      "model_module": "@jupyter-widgets/controls",
      "model_module_version": "1.4.0",
      "model_name": "DescriptionStyleModel",
      "state": {
       "description_width": ""
      }
     },
     "4d8332fb038a4ec2813d6723397e2704": {
      "model_module": "@jupyter-widgets/output",
      "model_module_version": "1.0.0",
      "model_name": "OutputModel",
      "state": {
       "layout": "IPY_MODEL_ee03d910eefa4176922f25b586f79daa",
       "outputs": [
        {
         "name": "stderr",
         "output_type": "stream",
         "text": "/home/me/code/perso/notebooks/data-science-exercises/venv/lib/python3.7/site-packages/scipy/stats/stats.py:1713: FutureWarning: Using a non-tuple sequence for multidimensional indexing is deprecated; use `arr[tuple(seq)]` instead of `arr[seq]`. In the future this will be interpreted as an array index, `arr[np.array(seq)]`, which will result either in an error or a different result.\n  return np.add.reduce(sorted[indexer] * weights, axis=axis) / sumval\n"
        },
        {
         "data": {
          "image/png": "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\n",
          "text/plain": "<Figure size 432x288 with 1 Axes>"
         },
         "metadata": {},
         "output_type": "display_data"
        }
       ]
      }
     },
     "4d95fd856b1e46ef8079e278683719fa": {
      "model_module": "@jupyter-widgets/controls",
      "model_module_version": "1.4.0",
      "model_name": "DropdownModel",
      "state": {
       "_options_labels": [
        "1",
        "2",
        "3",
        "4",
        "5",
        "6",
        "7",
        "8",
        "9",
        "10",
        "11",
        "12",
        "13",
        "14",
        "15",
        "16",
        "17",
        "18",
        "19",
        "20",
        "21",
        "22",
        "23",
        "24",
        "25",
        "26",
        "27",
        "28",
        "29",
        "30",
        "31"
       ],
       "description": "x_partial",
       "index": 0,
       "layout": "IPY_MODEL_c80687f046bc419891cd36cd6bea815a",
       "style": "IPY_MODEL_a02cc4e8ca3348568eca98da23eabf95"
      }
     },
     "4d9ae7f0574b4b93ba99ebff753a147e": {
      "model_module": "@jupyter-widgets/controls",
      "model_module_version": "1.4.0",
      "model_name": "DescriptionStyleModel",
      "state": {
       "description_width": ""
      }
     },
     "4dc06dac3a8743638f1d13e153bfd5d7": {
      "model_module": "@jupyter-widgets/controls",
      "model_module_version": "1.4.0",
      "model_name": "CheckboxModel",
      "state": {
       "description": "logx",
       "disabled": false,
       "layout": "IPY_MODEL_31c9e45d90c74a93b319b127dfc5e82e",
       "style": "IPY_MODEL_47481716bcb941fc8bc2e1acb06af302",
       "value": false
      }
     },
     "4df3b9677d5142a6a6360d59c66e461f": {
      "model_module": "@jupyter-widgets/base",
      "model_module_version": "1.1.0",
      "model_name": "LayoutModel",
      "state": {}
     },
     "4e6d9ac3d40349a39d01fc384a21b9ab": {
      "model_module": "@jupyter-widgets/controls",
      "model_module_version": "1.4.0",
      "model_name": "DescriptionStyleModel",
      "state": {
       "description_width": ""
      }
     },
     "4e705df79b0145659398eba835c6c714": {
      "model_module": "@jupyter-widgets/controls",
      "model_module_version": "1.4.0",
      "model_name": "DescriptionStyleModel",
      "state": {
       "description_width": ""
      }
     },
     "4eca94ea38d04f68ab6926bf4b5ecc4a": {
      "model_module": "@jupyter-widgets/controls",
      "model_module_version": "1.4.0",
      "model_name": "DescriptionStyleModel",
      "state": {
       "description_width": ""
      }
     },
     "4ed7debdb0b94098a03d8d16ab05ee0e": {
      "model_module": "@jupyter-widgets/base",
      "model_module_version": "1.1.0",
      "model_name": "LayoutModel",
      "state": {}
     },
     "4ef305bcf2ca454a8a65c620a63cf54f": {
      "model_module": "@jupyter-widgets/controls",
      "model_module_version": "1.4.0",
      "model_name": "FloatTextModel",
      "state": {
       "description": "size",
       "layout": "IPY_MODEL_d712e09088ed46019298e5f66105911a",
       "step": null,
       "style": "IPY_MODEL_ec4edf0c167147be9c606372feebe805",
       "value": 1
      }
     },
     "4f12f05dda444228bbf434dc8eabea4d": {
      "model_module": "@jupyter-widgets/controls",
      "model_module_version": "1.4.0",
      "model_name": "DescriptionStyleModel",
      "state": {
       "description_width": ""
      }
     },
     "4f1fbc336a454d6b8c9ea6f4fb5c5f52": {
      "model_module": "@jupyter-widgets/controls",
      "model_module_version": "1.4.0",
      "model_name": "TextModel",
      "state": {
       "description": "linecolor",
       "layout": "IPY_MODEL_5847d0b02fd64d58aee79ae797e06d45",
       "style": "IPY_MODEL_ed2907bdd9f34fbc92fa5bc34c76452a"
      }
     },
     "4f36068e344145e9a52cb4cea29abea2": {
      "model_module": "@jupyter-widgets/controls",
      "model_module_version": "1.4.0",
      "model_name": "DropdownModel",
      "state": {
       "_options_labels": [
        "gau",
        "cos",
        "biw",
        "epa",
        "tri",
        "triw"
       ],
       "description": "kernel",
       "index": 0,
       "layout": "IPY_MODEL_4ed7debdb0b94098a03d8d16ab05ee0e",
       "style": "IPY_MODEL_2dbc6b98401744fc92c7cc5c7ef8652f"
      }
     },
     "4f92c2cefd5e49b18d8b76bc4c590174": {
      "model_module": "@jupyter-widgets/controls",
      "model_module_version": "1.4.0",
      "model_name": "CheckboxModel",
      "state": {
       "description": "cbar",
       "disabled": false,
       "layout": "IPY_MODEL_34fc6998622e479885f568f548391ecb",
       "style": "IPY_MODEL_bcde7a6829444993ac9577b7ec814803",
       "value": false
      }
     },
     "4fa8cdab115e4c4c83e31466bc01b26d": {
      "model_module": "@jupyter-widgets/controls",
      "model_module_version": "1.4.0",
      "model_name": "HBoxModel",
      "state": {
       "children": [
        "IPY_MODEL_a2213b5975c64ed4b5dd725d99dcaf05",
        "IPY_MODEL_73df3af382d74fccbd2b76b74a833f4f"
       ],
       "layout": "IPY_MODEL_86caf61615424f4e9b68f4f0f35daf77"
      }
     },
     "4fd10c8c9a964dc7ab1c1a8c34d93ec1": {
      "model_module": "@jupyter-widgets/controls",
      "model_module_version": "1.4.0",
      "model_name": "ButtonStyleModel",
      "state": {}
     },
     "4fd1502f88df45b392b2c47e513a4126": {
      "model_module": "@jupyter-widgets/controls",
      "model_module_version": "1.4.0",
      "model_name": "DescriptionStyleModel",
      "state": {
       "description_width": ""
      }
     },
     "4fd20ff5d63d4d3e98190deded4a3c83": {
      "model_module": "@jupyter-widgets/base",
      "model_module_version": "1.1.0",
      "model_name": "LayoutModel",
      "state": {}
     },
     "50375409ffb74e08bb83eb0ac16ab645": {
      "model_module": "@jupyter-widgets/controls",
      "model_module_version": "1.4.0",
      "model_name": "DescriptionStyleModel",
      "state": {
       "description_width": ""
      }
     },
     "5044c4c68e7c4fe09fa35bbe53b26cc4": {
      "model_module": "@jupyter-widgets/base",
      "model_module_version": "1.1.0",
      "model_name": "LayoutModel",
      "state": {}
     },
     "50875043677c4a6ebba3354f205159aa": {
      "model_module": "@jupyter-widgets/base",
      "model_module_version": "1.1.0",
      "model_name": "LayoutModel",
      "state": {}
     },
     "51bf7c442c854e28a9a73f4988f11c62": {
      "model_module": "@jupyter-widgets/controls",
      "model_module_version": "1.4.0",
      "model_name": "DescriptionStyleModel",
      "state": {
       "description_width": ""
      }
     },
     "51ef624196284beea12c9f423e4c539b": {
      "model_module": "@jupyter-widgets/controls",
      "model_module_version": "1.4.0",
      "model_name": "DropdownModel",
      "state": {
       "_options_labels": [
        "Acceleration",
        "Cylinders",
        "Displacement",
        "Horsepower",
        "Miles_per_Gallon",
        "Name",
        "Origin",
        "Weight_in_lbs",
        "Year"
       ],
       "description": "a",
       "index": 0,
       "layout": "IPY_MODEL_03fba6bb88444c9a80dab4c8eacc6a1a",
       "style": "IPY_MODEL_1c3f3daa23594041b821bdee2c6385ec"
      }
     },
     "522988da07ac40d8936a9917b57383ff": {
      "model_module": "@jupyter-widgets/controls",
      "model_module_version": "1.4.0",
      "model_name": "DescriptionStyleModel",
      "state": {
       "description_width": ""
      }
     },
     "52653528880c46d8a7b86323934da1ef": {
      "model_module": "@jupyter-widgets/controls",
      "model_module_version": "1.4.0",
      "model_name": "DescriptionStyleModel",
      "state": {
       "description_width": ""
      }
     },
     "52ae487b05cd48dd9b3f273367d91ce7": {
      "model_module": "@jupyter-widgets/base",
      "model_module_version": "1.1.0",
      "model_name": "LayoutModel",
      "state": {}
     },
     "52bacba3e53443d69c33f7bf90232b03": {
      "model_module": "@jupyter-widgets/controls",
      "model_module_version": "1.4.0",
      "model_name": "DescriptionStyleModel",
      "state": {
       "description_width": ""
      }
     },
     "52d603955dd24614850a1e196fca8962": {
      "model_module": "@jupyter-widgets/controls",
      "model_module_version": "1.4.0",
      "model_name": "FloatTextModel",
      "state": {
       "description": "y_jitter",
       "layout": "IPY_MODEL_ec17b50a64684dc7aae3cb29244bd67d",
       "step": null,
       "style": "IPY_MODEL_9ee24ad9dad5463d9ded068de6b33e2d",
       "value": 1
      }
     },
     "530fd86166c34701bf30874e38522acf": {
      "model_module": "@jupyter-widgets/controls",
      "model_module_version": "1.4.0",
      "model_name": "DropdownModel",
      "state": {
       "_options_labels": [
        "scatter",
        "reg",
        "resid",
        "kde",
        "hex"
       ],
       "description": "kind",
       "index": 0,
       "layout": "IPY_MODEL_f06573769b73464f8056e2330c213c60",
       "style": "IPY_MODEL_6e72ddd0f3b44d729ad14df8a5c43c58"
      }
     },
     "533e21c36996456384d7856a10da0a60": {
      "model_module": "@jupyter-widgets/controls",
      "model_module_version": "1.4.0",
      "model_name": "ButtonStyleModel",
      "state": {}
     },
     "535d90e5ae644761a12908ae8a0abb28": {
      "model_module": "@jupyter-widgets/base",
      "model_module_version": "1.1.0",
      "model_name": "LayoutModel",
      "state": {}
     },
     "535ecf7c4f354cbdbb80bc28054f1c69": {
      "model_module": "@jupyter-widgets/controls",
      "model_module_version": "1.4.0",
      "model_name": "CheckboxModel",
      "state": {
       "description": "scale_hue",
       "disabled": false,
       "layout": "IPY_MODEL_8aa339e69a4a462380ce02db4f7a46ac",
       "style": "IPY_MODEL_79613b3bba314cc4a083810da28d5e7b",
       "value": false
      }
     },
     "53630914d01e4a91ada579e87f3b3ec0": {
      "model_module": "@jupyter-widgets/controls",
      "model_module_version": "1.4.0",
      "model_name": "CheckboxModel",
      "state": {
       "description": "jitter",
       "disabled": false,
       "layout": "IPY_MODEL_8f1974992e6b47e0b40fa65722524f66",
       "style": "IPY_MODEL_9b759b11e9ef4115b8d5ce693293eadf",
       "value": false
      }
     },
     "537c53b1c216444da13531d929d447ab": {
      "model_module": "@jupyter-widgets/base",
      "model_module_version": "1.1.0",
      "model_name": "LayoutModel",
      "state": {}
     },
     "538ba2e0995346e685a9d76bf915cd50": {
      "model_module": "@jupyter-widgets/controls",
      "model_module_version": "1.4.0",
      "model_name": "HBoxModel",
      "state": {
       "children": [
        "IPY_MODEL_b3765923979c4cd5b9d3a59470645ea3",
        "IPY_MODEL_c0acd341d6964185ab7f4552409be018"
       ],
       "layout": "IPY_MODEL_0fa6320c40a5443d9ff5fa0951569708"
      }
     },
     "53ac766f10254218ac5795726058d742": {
      "model_module": "@jupyter-widgets/controls",
      "model_module_version": "1.4.0",
      "model_name": "CheckboxModel",
      "state": {
       "description": "hist",
       "disabled": false,
       "layout": "IPY_MODEL_22edf08a61c6494780a994115748f157",
       "style": "IPY_MODEL_261c411f677345a4b7e3351fbc058e30",
       "value": false
      }
     },
     "53b0a042a18f4ada94b49b741df9744f": {
      "model_module": "@jupyter-widgets/controls",
      "model_module_version": "1.4.0",
      "model_name": "DropdownModel",
      "state": {
       "_options_labels": [
        "scott",
        "silverman"
       ],
       "description": "bw",
       "index": 0,
       "layout": "IPY_MODEL_e567d6191a434a179e229d0ffecba16c",
       "style": "IPY_MODEL_d66f7fdb9ead49f19987c2210e95d789"
      }
     },
     "5407355a3e074858957b40c4509569dc": {
      "model_module": "@jupyter-widgets/base",
      "model_module_version": "1.1.0",
      "model_name": "LayoutModel",
      "state": {}
     },
     "540ec4667c9e487283236376a0293fcf": {
      "model_module": "@jupyter-widgets/controls",
      "model_module_version": "1.4.0",
      "model_name": "IntTextModel",
      "state": {
       "description": "ratio",
       "layout": "IPY_MODEL_f71a4fe84e594113a357a8fa99830d1d",
       "step": 1,
       "style": "IPY_MODEL_88075e13383c4e9db09bd332ba6b9891",
       "value": 1
      }
     },
     "543dc8b58bee430496840d55844a57a0": {
      "model_module": "@jupyter-widgets/base",
      "model_module_version": "1.1.0",
      "model_name": "LayoutModel",
      "state": {}
     },
     "543e14afd0424d98a5010eefede4fbd7": {
      "model_module": "@jupyter-widgets/base",
      "model_module_version": "1.1.0",
      "model_name": "LayoutModel",
      "state": {}
     },
     "547032ba5a134958b0daa29d27cf68cf": {
      "model_module": "@jupyter-widgets/controls",
      "model_module_version": "1.4.0",
      "model_name": "DescriptionStyleModel",
      "state": {
       "description_width": ""
      }
     },
     "54716b98a2fe41a29a9f16006bdd8a2e": {
      "model_module": "@jupyter-widgets/controls",
      "model_module_version": "1.4.0",
      "model_name": "DescriptionStyleModel",
      "state": {
       "description_width": ""
      }
     },
     "54e8993669854757bc13cf6f07c994e2": {
      "model_module": "@jupyter-widgets/controls",
      "model_module_version": "1.4.0",
      "model_name": "TextModel",
      "state": {
       "description": "label",
       "layout": "IPY_MODEL_f25e4614a6c045ba978ee4d79515e52a",
       "style": "IPY_MODEL_171b3b2f505e4ca39e254d97482277ec"
      }
     },
     "550e98aa0f4f47699cb3debb9731d12d": {
      "model_module": "@jupyter-widgets/controls",
      "model_module_version": "1.4.0",
      "model_name": "FloatTextModel",
      "state": {
       "description": "center",
       "layout": "IPY_MODEL_b060f32aab2d430da175bda78e74f531",
       "step": null,
       "style": "IPY_MODEL_94827f0c89d34a869b383e684a04a644",
       "value": 1
      }
     },
     "55357ba8cc2c40c7b56f65ffa8d0d8bb": {
      "model_module": "@jupyter-widgets/controls",
      "model_module_version": "1.4.0",
      "model_name": "CheckboxModel",
      "state": {
       "description": "cbar",
       "disabled": false,
       "layout": "IPY_MODEL_818ff825ed4149c7818effd6bc70168c",
       "style": "IPY_MODEL_9f36467b6e7a4d07a88acfc1680b514a",
       "value": false
      }
     },
     "556475d5110e4870936affe38c9999fc": {
      "model_module": "@jupyter-widgets/controls",
      "model_module_version": "1.4.0",
      "model_name": "FloatTextModel",
      "state": {
       "description": "aspect",
       "layout": "IPY_MODEL_772ad1050e3143b383f8d1e38fe6e079",
       "step": null,
       "style": "IPY_MODEL_90af6906e64c4b85a4de184e08350f5a",
       "value": 1
      }
     },
     "5573051754ca4e17ae228b916f4616c0": {
      "model_module": "@jupyter-widgets/controls",
      "model_module_version": "1.4.0",
      "model_name": "DropdownModel",
      "state": {
       "_options_labels": [
        "brief",
        "full",
        "False"
       ],
       "description": "legend",
       "index": 0,
       "layout": "IPY_MODEL_143c620bf93b4b07b872cef85c3309e0",
       "style": "IPY_MODEL_7ec3e186d88f455da23371214ef5d1a5"
      }
     },
     "5589dc5466f04943af62f1c1ea200496": {
      "model_module": "@jupyter-widgets/controls",
      "model_module_version": "1.4.0",
      "model_name": "DescriptionStyleModel",
      "state": {
       "description_width": ""
      }
     },
     "5596b86b885140e89e5729fc45294afa": {
      "model_module": "@jupyter-widgets/controls",
      "model_module_version": "1.4.0",
      "model_name": "DropdownModel",
      "state": {
       "_options_labels": [
        "True",
        "row",
        "col"
       ],
       "description": "sharey",
       "index": 0,
       "layout": "IPY_MODEL_c8cbe54575f743e5b7f7c0dae47a95f3",
       "style": "IPY_MODEL_6ebadd7e31d2485ba8810a6c78d3b837"
      }
     },
     "55bb75d6539b4969b08b7e0e852de74f": {
      "model_module": "@jupyter-widgets/controls",
      "model_module_version": "1.4.0",
      "model_name": "CheckboxModel",
      "state": {
       "description": "cbar",
       "disabled": false,
       "layout": "IPY_MODEL_27275081c7e44311a42b37a3f223c8ce",
       "style": "IPY_MODEL_8856ecbada7b48feb5f5732d8fad05e3",
       "value": false
      }
     },
     "55c505f82c5948bdb3d5be23715331c2": {
      "model_module": "@jupyter-widgets/controls",
      "model_module_version": "1.4.0",
      "model_name": "SliderStyleModel",
      "state": {
       "description_width": ""
      }
     },
     "55db4d3ac8c34199a3e63ce14701c0b4": {
      "model_module": "@jupyter-widgets/base",
      "model_module_version": "1.1.0",
      "model_name": "LayoutModel",
      "state": {}
     },
     "55de35e96b13433eb2a523b5bf62c512": {
      "model_module": "@jupyter-widgets/controls",
      "model_module_version": "1.4.0",
      "model_name": "ButtonStyleModel",
      "state": {}
     },
     "560101ef4f3047fd85088511573caa45": {
      "model_module": "@jupyter-widgets/controls",
      "model_module_version": "1.4.0",
      "model_name": "DescriptionStyleModel",
      "state": {
       "description_width": ""
      }
     },
     "56025017b84e48f3b89712f8033d2d15": {
      "model_module": "@jupyter-widgets/controls",
      "model_module_version": "1.4.0",
      "model_name": "DropdownModel",
      "state": {
       "_options_labels": [
        "Displacement",
        "Miles_per_Gallon",
        "Acceleration",
        "Origin",
        "Horsepower",
        "Cylinders",
        "Name",
        "Year",
        "Weight_in_lbs"
       ],
       "description": "dashes",
       "index": 0,
       "layout": "IPY_MODEL_9568acca0c2a4987b548eb35cc53868c",
       "style": "IPY_MODEL_6d062dc17b7e46b598eea0533853de5a"
      }
     },
     "561bd02160d44f36b8ed4fdba3c5e0ee": {
      "model_module": "@jupyter-widgets/base",
      "model_module_version": "1.1.0",
      "model_name": "LayoutModel",
      "state": {}
     },
     "5623144d579949c7bf82fee8ed7ba773": {
      "model_module": "@jupyter-widgets/base",
      "model_module_version": "1.1.0",
      "model_name": "LayoutModel",
      "state": {}
     },
     "563b6820b2ce442291466fa062edd6eb": {
      "model_module": "@jupyter-widgets/controls",
      "model_module_version": "1.4.0",
      "model_name": "CheckboxModel",
      "state": {
       "description": "hist",
       "disabled": false,
       "layout": "IPY_MODEL_9b6649d9aaf54715907597eeb8a369fa",
       "style": "IPY_MODEL_8bd5de49821c449da2e2b72f4b1c5f3c",
       "value": false
      }
     },
     "563b8fcfb9854507a5bf35a7c948a551": {
      "model_module": "@jupyter-widgets/base",
      "model_module_version": "1.1.0",
      "model_name": "LayoutModel",
      "state": {}
     },
     "565885a9ab754aa1b4dabb8e3ffa7404": {
      "model_module": "@jupyter-widgets/controls",
      "model_module_version": "1.4.0",
      "model_name": "DescriptionStyleModel",
      "state": {
       "description_width": ""
      }
     },
     "56c260899411452b853ec6f6f0b7c691": {
      "model_module": "@jupyter-widgets/base",
      "model_module_version": "1.1.0",
      "model_name": "LayoutModel",
      "state": {}
     },
     "56d8b7e0df784db9a8070c46b901b430": {
      "model_module": "@jupyter-widgets/controls",
      "model_module_version": "1.4.0",
      "model_name": "DescriptionStyleModel",
      "state": {
       "description_width": ""
      }
     },
     "56f420831c044f22a7a3ddeea9a5d621": {
      "model_module": "@jupyter-widgets/controls",
      "model_module_version": "1.4.0",
      "model_name": "DescriptionStyleModel",
      "state": {
       "description_width": ""
      }
     },
     "56f76fe1a48e43c4accf0b340f2c94b9": {
      "model_module": "@jupyter-widgets/base",
      "model_module_version": "1.1.0",
      "model_name": "LayoutModel",
      "state": {}
     },
     "57111035d4104f479f1c70b4b822ebf3": {
      "model_module": "@jupyter-widgets/base",
      "model_module_version": "1.1.0",
      "model_name": "LayoutModel",
      "state": {}
     },
     "572ae5de2c734e1e93717919769e723e": {
      "model_module": "@jupyter-widgets/controls",
      "model_module_version": "1.4.0",
      "model_name": "DescriptionStyleModel",
      "state": {
       "description_width": ""
      }
     },
     "573c37f6f0f34ba68792814a2aca9b83": {
      "model_module": "@jupyter-widgets/base",
      "model_module_version": "1.1.0",
      "model_name": "LayoutModel",
      "state": {}
     },
     "579c9ce34c2b4dbb87bf94579775682f": {
      "model_module": "@jupyter-widgets/base",
      "model_module_version": "1.1.0",
      "model_name": "LayoutModel",
      "state": {}
     },
     "57e050abfa074a7fae348f67a6d4f2a2": {
      "model_module": "@jupyter-widgets/base",
      "model_module_version": "1.1.0",
      "model_name": "LayoutModel",
      "state": {}
     },
     "5801b5cf7441411d8f9b07284177eeac": {
      "model_module": "@jupyter-widgets/controls",
      "model_module_version": "1.4.0",
      "model_name": "DropdownModel",
      "state": {
       "_options_labels": [
        "True",
        "col",
        "row"
       ],
       "description": "sharey",
       "index": 0,
       "layout": "IPY_MODEL_c6c5b6e3beaa4c649a9809b7584a3c32",
       "style": "IPY_MODEL_160dbe7734994ac198edc1d0f855691a"
      }
     },
     "5833b02ac5eb431f868658cfad9c6a9e": {
      "model_module": "@jupyter-widgets/controls",
      "model_module_version": "1.4.0",
      "model_name": "DescriptionStyleModel",
      "state": {
       "description_width": ""
      }
     },
     "583f2079698b4d0fa6402f016deddf29": {
      "model_module": "@jupyter-widgets/controls",
      "model_module_version": "1.4.0",
      "model_name": "CheckboxModel",
      "state": {
       "description": "cbar",
       "disabled": false,
       "layout": "IPY_MODEL_860d5f47aa434278888d0e54f0b64f03",
       "style": "IPY_MODEL_8e8e632917244d169e48a25fc1fc0c51",
       "value": false
      }
     },
     "5847d0b02fd64d58aee79ae797e06d45": {
      "model_module": "@jupyter-widgets/base",
      "model_module_version": "1.1.0",
      "model_name": "LayoutModel",
      "state": {}
     },
     "586d2be4bf584a5b88b86052e35f14c7": {
      "model_module": "@jupyter-widgets/controls",
      "model_module_version": "1.4.0",
      "model_name": "CheckboxModel",
      "state": {
       "description": "fit_reg",
       "disabled": false,
       "layout": "IPY_MODEL_c62fe34b60f5410ab4e893747fc6c9b8",
       "style": "IPY_MODEL_eca572e7e7514e23b8be31e602d7471a",
       "value": false
      }
     },
     "5874e4c431b3467f976693a346c92149": {
      "model_module": "@jupyter-widgets/controls",
      "model_module_version": "1.4.0",
      "model_name": "FloatTextModel",
      "state": {
       "description": "height",
       "layout": "IPY_MODEL_f1048098e2954450aa58a7a0f796539c",
       "step": null,
       "style": "IPY_MODEL_bc5c409386d240a4ac7015de7cb43691",
       "value": 1
      }
     },
     "588cdd620611475a93ac220d7ddfdc49": {
      "model_module": "@jupyter-widgets/controls",
      "model_module_version": "1.4.0",
      "model_name": "LabelModel",
      "state": {
       "layout": "IPY_MODEL_dddbf51476eb459ca0e947529691d89d",
       "style": "IPY_MODEL_f2f91d26715242c59c37d157a26185ac",
       "value": "---"
      }
     },
     "58c4ce7b0076491395bcf457363682d5": {
      "model_module": "@jupyter-widgets/controls",
      "model_module_version": "1.4.0",
      "model_name": "FloatTextModel",
      "state": {
       "description": "aspect",
       "layout": "IPY_MODEL_9183d00775e84202aff4b682dd37c780",
       "step": null,
       "style": "IPY_MODEL_8f7b0d443066491f902a73b2e61adb57",
       "value": 1
      }
     },
     "5901edb28e0a404aa39364ff97837288": {
      "model_module": "@jupyter-widgets/controls",
      "model_module_version": "1.4.0",
      "model_name": "DropdownModel",
      "state": {
       "_options_labels": [
        "box",
        "quartile",
        "point",
        "stick"
       ],
       "description": "inner",
       "index": 0,
       "layout": "IPY_MODEL_7a54ba7679f44332bc5909cfcbf4e50a",
       "style": "IPY_MODEL_ea1e9e1138004ae681fcfd758eca682b"
      }
     },
     "5903756d37d84e54852450aa393aac9f": {
      "model_module": "@jupyter-widgets/base",
      "model_module_version": "1.1.0",
      "model_name": "LayoutModel",
      "state": {}
     },
     "59333fea895d454da489c245c4ef0afa": {
      "model_module": "@jupyter-widgets/controls",
      "model_module_version": "1.4.0",
      "model_name": "FloatTextModel",
      "state": {
       "description": "saturation",
       "layout": "IPY_MODEL_cce6bc0d4902475697346271ba500159",
       "step": null,
       "style": "IPY_MODEL_b25e574e6a394d8b93d00210195c70fc",
       "value": 0.5
      }
     },
     "5957e1858bbd462d996fdf2e2a2ae8d7": {
      "model_module": "@jupyter-widgets/controls",
      "model_module_version": "1.4.0",
      "model_name": "DescriptionStyleModel",
      "state": {
       "description_width": ""
      }
     },
     "599606c4fb0544cb84f5ef0f3b8b55b5": {
      "model_module": "@jupyter-widgets/base",
      "model_module_version": "1.1.0",
      "model_name": "LayoutModel",
      "state": {}
     },
     "59ac9b62f6704aa8b3f110223df5785a": {
      "model_module": "@jupyter-widgets/base",
      "model_module_version": "1.1.0",
      "model_name": "LayoutModel",
      "state": {}
     },
     "59bb60db187c4be6bbe280b2b6f79dad": {
      "model_module": "@jupyter-widgets/controls",
      "model_module_version": "1.4.0",
      "model_name": "SliderStyleModel",
      "state": {
       "description_width": ""
      }
     },
     "59bbb798c8f34814a54ee1cc080f9b43": {
      "model_module": "@jupyter-widgets/controls",
      "model_module_version": "1.4.0",
      "model_name": "DescriptionStyleModel",
      "state": {
       "description_width": ""
      }
     },
     "59e222230d9c4f19934dd0faa3260596": {
      "model_module": "@jupyter-widgets/controls",
      "model_module_version": "1.4.0",
      "model_name": "DescriptionStyleModel",
      "state": {
       "description_width": ""
      }
     },
     "59e75782ee96458889b469bb1665605c": {
      "model_module": "@jupyter-widgets/controls",
      "model_module_version": "1.4.0",
      "model_name": "DescriptionStyleModel",
      "state": {
       "description_width": ""
      }
     },
     "59ea4a68de804dacbc54afcd146793e4": {
      "model_module": "@jupyter-widgets/controls",
      "model_module_version": "1.4.0",
      "model_name": "CheckboxModel",
      "state": {
       "description": "cbar_ax",
       "disabled": false,
       "layout": "IPY_MODEL_8f00f199eec842e59b1f8f78d575a160",
       "style": "IPY_MODEL_f921b9dcb97e4b09bc84bfa831214801",
       "value": false
      }
     },
     "5a0712c68e214507acea0e8e0aa42b54": {
      "model_module": "@jupyter-widgets/base",
      "model_module_version": "1.1.0",
      "model_name": "LayoutModel",
      "state": {}
     },
     "5a3391488d064356a902130a21c93d0c": {
      "model_module": "@jupyter-widgets/controls",
      "model_module_version": "1.4.0",
      "model_name": "FloatTextModel",
      "state": {
       "description": "x_jitter",
       "layout": "IPY_MODEL_d58b6fe6d3b94a3ea431796b019a1a65",
       "step": null,
       "style": "IPY_MODEL_52bacba3e53443d69c33f7bf90232b03",
       "value": 1
      }
     },
     "5a5bf49c389d44449fbbd50781dfe5e0": {
      "model_module": "@jupyter-widgets/base",
      "model_module_version": "1.1.0",
      "model_name": "LayoutModel",
      "state": {}
     },
     "5a93f71d4fff4ed4aff26c6eb2d16c78": {
      "model_module": "@jupyter-widgets/controls",
      "model_module_version": "1.4.0",
      "model_name": "FloatTextModel",
      "state": {
       "description": "scale",
       "layout": "IPY_MODEL_a7466274ff62441783037671d4c639b1",
       "step": null,
       "style": "IPY_MODEL_2ab6b4598005416a97a5fcdf11284841",
       "value": 1
      }
     },
     "5aa7b1fc81474532b49ae1de21eb220a": {
      "model_module": "@jupyter-widgets/base",
      "model_module_version": "1.1.0",
      "model_name": "LayoutModel",
      "state": {}
     },
     "5ad3d71d17794897a139110e5c2ec513": {
      "model_module": "@jupyter-widgets/controls",
      "model_module_version": "1.4.0",
      "model_name": "DescriptionStyleModel",
      "state": {
       "description_width": ""
      }
     },
     "5adb40c127e6476393b4beef22730210": {
      "model_module": "@jupyter-widgets/base",
      "model_module_version": "1.1.0",
      "model_name": "LayoutModel",
      "state": {}
     },
     "5afc04bdec0148deaef115a99e60be41": {
      "model_module": "@jupyter-widgets/controls",
      "model_module_version": "1.4.0",
      "model_name": "CheckboxModel",
      "state": {
       "description": "annot",
       "disabled": false,
       "layout": "IPY_MODEL_aeb5aee51b2946d9a3715be2ab508368",
       "style": "IPY_MODEL_1acc29ce897741b9b61731e3cbb2dd29",
       "value": false
      }
     },
     "5b13be8b745a449c987eb68daa15a682": {
      "model_module": "@jupyter-widgets/controls",
      "model_module_version": "1.4.0",
      "model_name": "FloatTextModel",
      "state": {
       "description": "fliersize",
       "layout": "IPY_MODEL_32dbef28537a4e5698b5ab5e7161d2b8",
       "step": null,
       "style": "IPY_MODEL_af19717bd2654040b7afe9ba4d7b9cf0",
       "value": 1
      }
     },
     "5b3fead9a5f242ed98da45a41d825ca8": {
      "model_module": "@jupyter-widgets/base",
      "model_module_version": "1.1.0",
      "model_name": "LayoutModel",
      "state": {}
     },
     "5b490a9db16640f0b039dd82a3f6c4f2": {
      "model_module": "@jupyter-widgets/base",
      "model_module_version": "1.1.0",
      "model_name": "LayoutModel",
      "state": {}
     },
     "5b53c8cd41a14931805f9a0cb61e2bad": {
      "model_module": "@jupyter-widgets/controls",
      "model_module_version": "1.4.0",
      "model_name": "DescriptionStyleModel",
      "state": {
       "description_width": ""
      }
     },
     "5bace7636ae9448f9b3a8f23bd1aa368": {
      "model_module": "@jupyter-widgets/base",
      "model_module_version": "1.1.0",
      "model_name": "LayoutModel",
      "state": {}
     },
     "5baf20d26b994c6c87ca4ac1c83eadc0": {
      "model_module": "@jupyter-widgets/controls",
      "model_module_version": "1.4.0",
      "model_name": "HBoxModel",
      "state": {
       "children": [
        "IPY_MODEL_d6cd8d20305749c5aa746754a52654ad"
       ],
       "layout": "IPY_MODEL_7eddc889a05646019bd287b72d6aabbc"
      }
     },
     "5c09ab96976e494180b62abdd3813d8e": {
      "model_module": "@jupyter-widgets/controls",
      "model_module_version": "1.4.0",
      "model_name": "DescriptionStyleModel",
      "state": {
       "description_width": ""
      }
     },
     "5c24bfd4a29b453ab45cf1579f2040e9": {
      "model_module": "@jupyter-widgets/controls",
      "model_module_version": "1.4.0",
      "model_name": "ButtonStyleModel",
      "state": {}
     },
     "5c49a165ab3c4ce7a05270c10a25dcc9": {
      "model_module": "@jupyter-widgets/base",
      "model_module_version": "1.1.0",
      "model_name": "LayoutModel",
      "state": {}
     },
     "5c4baebef2ed4ffeaf7daea97b530b76": {
      "model_module": "@jupyter-widgets/controls",
      "model_module_version": "1.4.0",
      "model_name": "FloatTextModel",
      "state": {
       "description": "height",
       "layout": "IPY_MODEL_8d9e0e184e424849beb38fabfc75bc61",
       "step": null,
       "style": "IPY_MODEL_a8767f02cc4e46b7bdc2d4970764541e",
       "value": 1
      }
     },
     "5cac4d946c2c4994b651c535fcba0136": {
      "model_module": "@jupyter-widgets/controls",
      "model_module_version": "1.4.0",
      "model_name": "DescriptionStyleModel",
      "state": {
       "description_width": ""
      }
     },
     "5cf235c41916431b892ac307a5f71fda": {
      "model_module": "@jupyter-widgets/base",
      "model_module_version": "1.1.0",
      "model_name": "LayoutModel",
      "state": {}
     },
     "5cfc08670bf24cddbccfd6004381366d": {
      "model_module": "@jupyter-widgets/controls",
      "model_module_version": "1.4.0",
      "model_name": "DropdownModel",
      "state": {
       "_options_labels": [
        "scott",
        "silverman"
       ],
       "description": "bw",
       "index": 0,
       "layout": "IPY_MODEL_05b6d728adec4689b8d2a6df15d6da08",
       "style": "IPY_MODEL_bf22e0d3d2de4f14aa2957aa24f03ccb"
      }
     },
     "5d149c1dc23f44e0848aaeaa4fe04afb": {
      "model_module": "@jupyter-widgets/controls",
      "model_module_version": "1.4.0",
      "model_name": "ButtonStyleModel",
      "state": {}
     },
     "5d3cdcacca1443fd95a30eb9aeb41b99": {
      "model_module": "@jupyter-widgets/controls",
      "model_module_version": "1.4.0",
      "model_name": "DescriptionStyleModel",
      "state": {
       "description_width": ""
      }
     },
     "5d72b9de9d814ca3935c064a78c2050e": {
      "model_module": "@jupyter-widgets/base",
      "model_module_version": "1.1.0",
      "model_name": "LayoutModel",
      "state": {}
     },
     "5d804e95f5424d81b948441a64eb8eed": {
      "model_module": "@jupyter-widgets/controls",
      "model_module_version": "1.4.0",
      "model_name": "CheckboxModel",
      "state": {
       "description": "hist",
       "disabled": false,
       "layout": "IPY_MODEL_adbeec4e44964e909e35e91d0045dc5b",
       "style": "IPY_MODEL_632ec114015e485ab786c46fbea93162",
       "value": false
      }
     },
     "5dc9396f0f7043cc86c7582e309f130d": {
      "model_module": "@jupyter-widgets/base",
      "model_module_version": "1.1.0",
      "model_name": "LayoutModel",
      "state": {}
     },
     "5df7299db6bb41f9b95756fbcfe0841d": {
      "model_module": "@jupyter-widgets/controls",
      "model_module_version": "1.4.0",
      "model_name": "DropdownModel",
      "state": {
       "_options_labels": [
        "1",
        "2",
        "3",
        "4",
        "5",
        "6",
        "7",
        "8",
        "9",
        "10",
        "11",
        "12",
        "13",
        "14",
        "15",
        "16",
        "17",
        "18",
        "19",
        "20",
        "21",
        "22",
        "23",
        "24",
        "25",
        "26",
        "27",
        "28",
        "29",
        "30",
        "31"
       ],
       "description": "y_partial",
       "index": 0,
       "layout": "IPY_MODEL_c418105ef7fe4421ba7c93c09aed9aed",
       "style": "IPY_MODEL_d16fc984f56340d99b9cb4b3187a1f94"
      }
     },
     "5e2bf77801e1418cb154c060affafde8": {
      "model_module": "@jupyter-widgets/base",
      "model_module_version": "1.1.0",
      "model_name": "LayoutModel",
      "state": {}
     },
     "5e45cc5d804f4798a482820dc667fd48": {
      "model_module": "@jupyter-widgets/controls",
      "model_module_version": "1.4.0",
      "model_name": "DescriptionStyleModel",
      "state": {
       "description_width": ""
      }
     },
     "5e672d7e987c48cbb729bd1fd4b1a023": {
      "model_module": "@jupyter-widgets/controls",
      "model_module_version": "1.4.0",
      "model_name": "DescriptionStyleModel",
      "state": {
       "description_width": ""
      }
     },
     "5e87007039a64076b64997037871b08f": {
      "model_module": "@jupyter-widgets/controls",
      "model_module_version": "1.4.0",
      "model_name": "FloatTextModel",
      "state": {
       "description": "aspect",
       "layout": "IPY_MODEL_7ceedff79cfc4204a2375d42a21f0a13",
       "step": null,
       "style": "IPY_MODEL_e040acf043ec44a799a20802ca22870e",
       "value": 1
      }
     },
     "5eade71d56404327afd8a93633ec73d4": {
      "model_module": "@jupyter-widgets/controls",
      "model_module_version": "1.4.0",
      "model_name": "DescriptionStyleModel",
      "state": {
       "description_width": ""
      }
     },
     "5eaf53e1c236457c85c4f2564f1ad23b": {
      "model_module": "@jupyter-widgets/controls",
      "model_module_version": "1.4.0",
      "model_name": "IntSliderModel",
      "state": {
       "description": "ci",
       "layout": "IPY_MODEL_5dc9396f0f7043cc86c7582e309f130d",
       "style": "IPY_MODEL_e3c38f58ac6b4d279f7b0944a13e1e41",
       "value": 95
      }
     },
     "5eb3c363ae7141c4bc74628580c10259": {
      "model_module": "@jupyter-widgets/controls",
      "model_module_version": "1.4.0",
      "model_name": "DescriptionStyleModel",
      "state": {
       "description_width": ""
      }
     },
     "5ebe20df5f9b4f26a163b4a4f1fd02da": {
      "model_module": "@jupyter-widgets/controls",
      "model_module_version": "1.4.0",
      "model_name": "IntSliderModel",
      "state": {
       "description": "x_ci",
       "layout": "IPY_MODEL_aaeb9211de424bd8842c3d3cdba773c1",
       "style": "IPY_MODEL_e0d96c96ad1849b59bdfffd5c53814a4",
       "value": 95
      }
     },
     "5edcc3a615114aea9032317ed886be1f": {
      "model_module": "@jupyter-widgets/controls",
      "model_module_version": "1.4.0",
      "model_name": "DescriptionStyleModel",
      "state": {
       "description_width": ""
      }
     },
     "5f10675994c84567aa8c46fbb56a7756": {
      "model_module": "@jupyter-widgets/controls",
      "model_module_version": "1.4.0",
      "model_name": "DescriptionStyleModel",
      "state": {
       "description_width": ""
      }
     },
     "5f30bd7a44db4fe782cd71633b0aebc4": {
      "model_module": "@jupyter-widgets/controls",
      "model_module_version": "1.4.0",
      "model_name": "IntTextModel",
      "state": {
       "description": "x_bins",
       "layout": "IPY_MODEL_b9ce3206290d4ee0841d74b4a751861c",
       "step": 1,
       "style": "IPY_MODEL_2a2b1dee94c044fe8867a674f6a97146",
       "value": 10
      }
     },
     "5f52f448abee4b7f8979c92ad5bf5f3c": {
      "model_module": "@jupyter-widgets/controls",
      "model_module_version": "1.4.0",
      "model_name": "DescriptionStyleModel",
      "state": {
       "description_width": ""
      }
     },
     "5f67ef8ccf834f39939047c2b75d7419": {
      "model_module": "@jupyter-widgets/controls",
      "model_module_version": "1.4.0",
      "model_name": "HBoxModel",
      "state": {
       "children": [
        "IPY_MODEL_36853f4ff4a047b594af6c8869f873c7"
       ],
       "layout": "IPY_MODEL_03291a3a6c194d719dd26d2d958da0d4"
      }
     },
     "5f7602c7919340898561c470a45b136a": {
      "model_module": "@jupyter-widgets/controls",
      "model_module_version": "1.4.0",
      "model_name": "DescriptionStyleModel",
      "state": {
       "description_width": ""
      }
     },
     "5f8ab16ae3114e6f91987d9d1b66173b": {
      "model_module": "@jupyter-widgets/controls",
      "model_module_version": "1.4.0",
      "model_name": "DescriptionStyleModel",
      "state": {
       "description_width": ""
      }
     },
     "5fa58884d2de44838c94d9624eca4d38": {
      "model_module": "@jupyter-widgets/controls",
      "model_module_version": "1.4.0",
      "model_name": "CheckboxModel",
      "state": {
       "description": "shade",
       "disabled": false,
       "layout": "IPY_MODEL_a329ec5288c94b5097b6634f08e98239",
       "style": "IPY_MODEL_951cdc47859a47caa3cde8ff0d3946a9",
       "value": false
      }
     },
     "5fdcb39a0ed94bbbb24bc064206095d8": {
      "model_module": "@jupyter-widgets/controls",
      "model_module_version": "1.4.0",
      "model_name": "DescriptionStyleModel",
      "state": {
       "description_width": ""
      }
     },
     "60093f8b58e145a1aec1abaf22a11895": {
      "model_module": "@jupyter-widgets/base",
      "model_module_version": "1.1.0",
      "model_name": "LayoutModel",
      "state": {}
     },
     "601dfeba90ea4f169603dea72970860e": {
      "model_module": "@jupyter-widgets/controls",
      "model_module_version": "1.4.0",
      "model_name": "DescriptionStyleModel",
      "state": {
       "description_width": ""
      }
     },
     "6035ba7ca47b450698e782485d157cc0": {
      "model_module": "@jupyter-widgets/base",
      "model_module_version": "1.1.0",
      "model_name": "LayoutModel",
      "state": {}
     },
     "603d33d7770d41eabeab6c13e917e76c": {
      "model_module": "@jupyter-widgets/controls",
      "model_module_version": "1.4.0",
      "model_name": "DropdownModel",
      "state": {
       "_options_labels": [
        "1",
        "2",
        "3",
        "4",
        "5",
        "6",
        "7",
        "8",
        "9",
        "10",
        "11",
        "12",
        "13",
        "14",
        "15",
        "16",
        "17",
        "18",
        "19",
        "20",
        "21",
        "22",
        "23",
        "24",
        "25",
        "26",
        "27",
        "28",
        "29",
        "30",
        "31"
       ],
       "description": "data2",
       "index": 0,
       "layout": "IPY_MODEL_69b9c0e1530c4f7785867c60d41024c2",
       "style": "IPY_MODEL_a5a17aa29d6640428251f117ed8c508a"
      }
     },
     "60637d255b564a969deeaaa5fd16fec6": {
      "model_module": "@jupyter-widgets/controls",
      "model_module_version": "1.4.0",
      "model_name": "DescriptionStyleModel",
      "state": {
       "description_width": ""
      }
     },
     "607dd2bb4625479e9fd2e1dc8be2b819": {
      "model_module": "@jupyter-widgets/controls",
      "model_module_version": "1.4.0",
      "model_name": "DescriptionStyleModel",
      "state": {
       "description_width": ""
      }
     },
     "608729b99acd4c4f8094b853d060453c": {
      "model_module": "@jupyter-widgets/controls",
      "model_module_version": "1.4.0",
      "model_name": "DropdownModel",
      "state": {
       "_options_labels": [
        "Acceleration",
        "Cylinders",
        "Displacement",
        "Horsepower",
        "Miles_per_Gallon",
        "Name",
        "Origin",
        "Weight_in_lbs",
        "Year"
       ],
       "description": "sizes",
       "index": 0,
       "layout": "IPY_MODEL_9451c9e157f74473918ad21dc7636e28",
       "style": "IPY_MODEL_f589e4c8c6a44639a3ed91ada236092b"
      }
     },
     "60bdb9d4306b47608138bf62ce7d99aa": {
      "model_module": "@jupyter-widgets/controls",
      "model_module_version": "1.4.0",
      "model_name": "DescriptionStyleModel",
      "state": {
       "description_width": ""
      }
     },
     "60fb1a93331b4f7a8fc21c8ec2fff845": {
      "model_module": "@jupyter-widgets/controls",
      "model_module_version": "1.4.0",
      "model_name": "DescriptionStyleModel",
      "state": {
       "description_width": ""
      }
     },
     "60fd1bfbb746484ca4cbbc2db33ef08c": {
      "model_module": "@jupyter-widgets/controls",
      "model_module_version": "1.4.0",
      "model_name": "DropdownModel",
      "state": {
       "_options_labels": [
        "[barplot] capsize",
        "[barplot] color",
        "[barplot] errwidth",
        "[barplot] hue",
        "[barplot] n_boot",
        "[barplot] orient",
        "[barplot] palette",
        "[barplot] saturation",
        "[barplot] x",
        "[barplot] y"
       ],
       "description": "Controls",
       "index": 5,
       "layout": "IPY_MODEL_4df3b9677d5142a6a6360d59c66e461f",
       "style": "IPY_MODEL_19758a04ba304832b142ce70f75055c3"
      }
     },
     "610236d485fe4a3394ee86522aa345eb": {
      "model_module": "@jupyter-widgets/base",
      "model_module_version": "1.1.0",
      "model_name": "LayoutModel",
      "state": {}
     },
     "6113c48a46e44ceaa96dc824d05dda6f": {
      "model_module": "@jupyter-widgets/controls",
      "model_module_version": "1.4.0",
      "model_name": "DescriptionStyleModel",
      "state": {
       "description_width": ""
      }
     },
     "61224602dfac4b96a501da08ce479b73": {
      "model_module": "@jupyter-widgets/base",
      "model_module_version": "1.1.0",
      "model_name": "LayoutModel",
      "state": {}
     },
     "6159ea184003456c919043d2f86328de": {
      "model_module": "@jupyter-widgets/controls",
      "model_module_version": "1.4.0",
      "model_name": "DescriptionStyleModel",
      "state": {
       "description_width": ""
      }
     },
     "618676c348e04efca42843428a326630": {
      "model_module": "@jupyter-widgets/controls",
      "model_module_version": "1.4.0",
      "model_name": "DropdownModel",
      "state": {
       "_options_labels": [
        "True",
        "col",
        "row"
       ],
       "description": "sharex",
       "index": 0,
       "layout": "IPY_MODEL_999b7cb52e3d4c4ea50812616b751261",
       "style": "IPY_MODEL_eb6aaf1ccb644aa687793a73275941d7"
      }
     },
     "619aeb2bd6f4493ba581ddf1fd0a55a9": {
      "model_module": "@jupyter-widgets/controls",
      "model_module_version": "1.4.0",
      "model_name": "DropdownModel",
      "state": {
       "_options_labels": [
        "Acceleration",
        "Cylinders",
        "Displacement",
        "Horsepower",
        "Miles_per_Gallon",
        "Name",
        "Origin",
        "Weight_in_lbs",
        "Year"
       ],
       "description": "data",
       "index": 0,
       "layout": "IPY_MODEL_9a84a00714fa482d88a464681b1e7044",
       "style": "IPY_MODEL_01accb98db3a42fbb2e930b1b7d92eab"
      }
     },
     "61a3848c1b584cd49dc6856d31eccbdf": {
      "model_module": "@jupyter-widgets/controls",
      "model_module_version": "1.4.0",
      "model_name": "DescriptionStyleModel",
      "state": {
       "description_width": ""
      }
     },
     "61ae78ea55344afd88cecc5dadf3c80a": {
      "model_module": "@jupyter-widgets/base",
      "model_module_version": "1.1.0",
      "model_name": "LayoutModel",
      "state": {}
     },
     "61b2492577ab42bcbff5ed6af52852d0": {
      "model_module": "@jupyter-widgets/base",
      "model_module_version": "1.1.0",
      "model_name": "LayoutModel",
      "state": {}
     },
     "61b5a1da3fc14ad8af448aa0cc004c49": {
      "model_module": "@jupyter-widgets/controls",
      "model_module_version": "1.4.0",
      "model_name": "DescriptionStyleModel",
      "state": {
       "description_width": ""
      }
     },
     "61b5ece2d34c4ad6a8cb1aec8dd8363e": {
      "model_module": "@jupyter-widgets/controls",
      "model_module_version": "1.4.0",
      "model_name": "DropdownModel",
      "state": {
       "_options_labels": [
        "Acceleration",
        "Cylinders",
        "Displacement",
        "Horsepower",
        "Miles_per_Gallon",
        "Name",
        "Origin",
        "Weight_in_lbs",
        "Year"
       ],
       "description": "hue",
       "index": 0,
       "layout": "IPY_MODEL_95f4d63fe825414a9a7f490a68d485e3",
       "style": "IPY_MODEL_7abfc20b36ca4f70b4446ad0b4daa2b7"
      }
     },
     "61f673860e6948a3a7e5ef1155a40771": {
      "model_module": "@jupyter-widgets/controls",
      "model_module_version": "1.4.0",
      "model_name": "DescriptionStyleModel",
      "state": {
       "description_width": ""
      }
     },
     "62845047e0214921946abe113bd49f95": {
      "model_module": "@jupyter-widgets/controls",
      "model_module_version": "1.4.0",
      "model_name": "DescriptionStyleModel",
      "state": {
       "description_width": ""
      }
     },
     "6299f147e7b947ed9d0e7482b9c3177c": {
      "model_module": "@jupyter-widgets/base",
      "model_module_version": "1.1.0",
      "model_name": "LayoutModel",
      "state": {}
     },
     "62de3d38ddee41d18fd5a0e57453e5b5": {
      "model_module": "@jupyter-widgets/base",
      "model_module_version": "1.1.0",
      "model_name": "LayoutModel",
      "state": {}
     },
     "632ec114015e485ab786c46fbea93162": {
      "model_module": "@jupyter-widgets/controls",
      "model_module_version": "1.4.0",
      "model_name": "DescriptionStyleModel",
      "state": {
       "description_width": ""
      }
     },
     "63542a2d31474c0ab462e1d9a38ab18e": {
      "model_module": "@jupyter-widgets/base",
      "model_module_version": "1.1.0",
      "model_name": "LayoutModel",
      "state": {}
     },
     "639a736cd1634521b183f1d76837d2e0": {
      "model_module": "@jupyter-widgets/controls",
      "model_module_version": "1.4.0",
      "model_name": "CheckboxModel",
      "state": {
       "description": "rug",
       "disabled": false,
       "layout": "IPY_MODEL_19f956d5747f4855bb7016795ee7238d",
       "style": "IPY_MODEL_54716b98a2fe41a29a9f16006bdd8a2e",
       "value": false
      }
     },
     "63f1271f70ac4bffa574b9e886f90e95": {
      "model_module": "@jupyter-widgets/controls",
      "model_module_version": "1.4.0",
      "model_name": "CheckboxModel",
      "state": {
       "description": "scatter",
       "disabled": false,
       "layout": "IPY_MODEL_49128579f3394132a199470bc1fea28b",
       "style": "IPY_MODEL_a84780dd00ca49f5bf9dd81df14d0f0e",
       "value": false
      }
     },
     "6405b1bf35fb49449da5b50d0d667462": {
      "model_module": "@jupyter-widgets/controls",
      "model_module_version": "1.4.0",
      "model_name": "DescriptionStyleModel",
      "state": {
       "description_width": ""
      }
     },
     "6433b3c7f41340688c84925a617b99fd": {
      "model_module": "@jupyter-widgets/controls",
      "model_module_version": "1.4.0",
      "model_name": "CheckboxModel",
      "state": {
       "description": "join",
       "disabled": false,
       "layout": "IPY_MODEL_1a6b4d2487e945faad20006ad5ecb0d8",
       "style": "IPY_MODEL_ead11d8116944dedb3ee2e4e7f776af0",
       "value": false
      }
     },
     "6463950fd7554fa6812025c4eaac4fae": {
      "model_module": "@jupyter-widgets/base",
      "model_module_version": "1.1.0",
      "model_name": "LayoutModel",
      "state": {}
     },
     "64aae24e23e847dfab5fecd5b48cd699": {
      "model_module": "@jupyter-widgets/controls",
      "model_module_version": "1.4.0",
      "model_name": "DescriptionStyleModel",
      "state": {
       "description_width": ""
      }
     },
     "64d7c0dd85e64a38a8d4da0834b7e2e7": {
      "model_module": "@jupyter-widgets/controls",
      "model_module_version": "1.4.0",
      "model_name": "DescriptionStyleModel",
      "state": {
       "description_width": ""
      }
     },
     "64f3f92b136443a3b53d52f3405ca539": {
      "model_module": "@jupyter-widgets/controls",
      "model_module_version": "1.4.0",
      "model_name": "DropdownModel",
      "state": {
       "_options_labels": [
        "linear",
        "exponential",
        "area"
       ],
       "description": "scale",
       "index": 0,
       "layout": "IPY_MODEL_67632a40878e455885c81961a074f264",
       "style": "IPY_MODEL_fc5489183f5040b99e4e9a3156e091cd"
      }
     },
     "650ee8fa97654baebab287a7ad7ca454": {
      "model_module": "@jupyter-widgets/controls",
      "model_module_version": "1.4.0",
      "model_name": "DropdownModel",
      "state": {
       "_options_labels": [
        "band",
        "bars"
       ],
       "description": "err_style",
       "index": 0,
       "layout": "IPY_MODEL_f927f43b76ed468b84d52f592817664e",
       "style": "IPY_MODEL_af5be92fcbea4f2bb9b3c0b078bdcd37"
      }
     },
     "652810796af14b26b5902d0f0931025e": {
      "model_module": "@jupyter-widgets/base",
      "model_module_version": "1.1.0",
      "model_name": "LayoutModel",
      "state": {}
     },
     "661b05d3911f4947b0a59bd96e3a5d8b": {
      "model_module": "@jupyter-widgets/base",
      "model_module_version": "1.1.0",
      "model_name": "LayoutModel",
      "state": {}
     },
     "661c39c3d32d4667a400222bd915f243": {
      "model_module": "@jupyter-widgets/controls",
      "model_module_version": "1.4.0",
      "model_name": "DescriptionStyleModel",
      "state": {
       "description_width": ""
      }
     },
     "663d697a5c434f1db5a0b7a00408b5c3": {
      "model_module": "@jupyter-widgets/controls",
      "model_module_version": "1.4.0",
      "model_name": "DescriptionStyleModel",
      "state": {
       "description_width": ""
      }
     },
     "667f91ddbe53402d84766148c5e6076d": {
      "model_module": "@jupyter-widgets/base",
      "model_module_version": "1.1.0",
      "model_name": "LayoutModel",
      "state": {}
     },
     "66a9323123254789b0effa5c5797db7a": {
      "model_module": "@jupyter-widgets/base",
      "model_module_version": "1.1.0",
      "model_name": "LayoutModel",
      "state": {}
     },
     "66e19426a98a4d8fb3e58cbf0a3a3b93": {
      "model_module": "@jupyter-widgets/controls",
      "model_module_version": "1.4.0",
      "model_name": "DescriptionStyleModel",
      "state": {
       "description_width": ""
      }
     },
     "6705d00767d34896b8a2769064e0b3a2": {
      "model_module": "@jupyter-widgets/base",
      "model_module_version": "1.1.0",
      "model_name": "LayoutModel",
      "state": {}
     },
     "674130fcca304e3fb60ad1129730bed8": {
      "model_module": "@jupyter-widgets/controls",
      "model_module_version": "1.4.0",
      "model_name": "FloatTextModel",
      "state": {
       "description": "capsize",
       "layout": "IPY_MODEL_ded4cf31d84c40dfbe8b55331d2acd9c",
       "step": null,
       "style": "IPY_MODEL_572ae5de2c734e1e93717919769e723e",
       "value": 1
      }
     },
     "675a47a60f534776af3d3d7a8bc3b6d6": {
      "model_module": "@jupyter-widgets/controls",
      "model_module_version": "1.4.0",
      "model_name": "HBoxModel",
      "state": {
       "children": [
        "IPY_MODEL_588cdd620611475a93ac220d7ddfdc49"
       ],
       "layout": "IPY_MODEL_d216dbc774314d2ea90220710b82b958"
      }
     },
     "67632a40878e455885c81961a074f264": {
      "model_module": "@jupyter-widgets/base",
      "model_module_version": "1.1.0",
      "model_name": "LayoutModel",
      "state": {}
     },
     "67b8d5e38fd747b6869eb09466fa354f": {
      "model_module": "@jupyter-widgets/controls",
      "model_module_version": "1.4.0",
      "model_name": "DropdownModel",
      "state": {
       "_options_labels": [
        "Acceleration",
        "Cylinders",
        "Displacement",
        "Horsepower",
        "Miles_per_Gallon",
        "Name",
        "Origin",
        "Weight_in_lbs",
        "Year"
       ],
       "description": "row",
       "index": 0,
       "layout": "IPY_MODEL_904c1910a19549c19492d2e828a8a920",
       "style": "IPY_MODEL_acbbcdb1141147caabb3b5a957a09af7"
      }
     },
     "67d76abd777f407a877c61c159b89bad": {
      "model_module": "@jupyter-widgets/controls",
      "model_module_version": "1.4.0",
      "model_name": "HBoxModel",
      "state": {
       "children": [
        "IPY_MODEL_d8a007c6654c4feda7b28ddea63f0db4"
       ],
       "layout": "IPY_MODEL_3b85b14f164040f4b74187f2991ec0e5"
      }
     },
     "681344678c9248db9dc9141d5831feca": {
      "model_module": "@jupyter-widgets/base",
      "model_module_version": "1.1.0",
      "model_name": "LayoutModel",
      "state": {}
     },
     "6822b4c00232434791e73e900170e63e": {
      "model_module": "@jupyter-widgets/controls",
      "model_module_version": "1.4.0",
      "model_name": "CheckboxModel",
      "state": {
       "description": "split",
       "disabled": false,
       "layout": "IPY_MODEL_34222a7a4eab400da3c5fb9c582e9aef",
       "style": "IPY_MODEL_a7394b004c5e4e96882674c2f7640f6d",
       "value": false
      }
     },
     "6831b273feab4f6d931cee34d407a359": {
      "model_module": "@jupyter-widgets/controls",
      "model_module_version": "1.4.0",
      "model_name": "HBoxModel",
      "state": {
       "children": [
        "IPY_MODEL_e4b81295408840158cab0708d4cde8d6"
       ],
       "layout": "IPY_MODEL_9fdcb91b69b94f0a9ad6b66eb9583279"
      }
     },
     "6843c5319bdd4d7c91c2be4fc2c11e1e": {
      "model_module": "@jupyter-widgets/base",
      "model_module_version": "1.1.0",
      "model_name": "LayoutModel",
      "state": {}
     },
     "689211159d6b4557bb684b099d633a4b": {
      "model_module": "@jupyter-widgets/controls",
      "model_module_version": "1.4.0",
      "model_name": "CheckboxModel",
      "state": {
       "description": "square",
       "disabled": false,
       "layout": "IPY_MODEL_63542a2d31474c0ab462e1d9a38ab18e",
       "style": "IPY_MODEL_0b2a811a7dcc497c964be7e605074062",
       "value": false
      }
     },
     "6898a2c76f1e459cb2e1ee2538654ace": {
      "model_module": "@jupyter-widgets/base",
      "model_module_version": "1.1.0",
      "model_name": "LayoutModel",
      "state": {}
     },
     "690a1981a33e41e4a472af2e58d0c4ae": {
      "model_module": "@jupyter-widgets/base",
      "model_module_version": "1.1.0",
      "model_name": "LayoutModel",
      "state": {}
     },
     "6955289eb4b245f792dc6bd9000e103a": {
      "model_module": "@jupyter-widgets/base",
      "model_module_version": "1.1.0",
      "model_name": "LayoutModel",
      "state": {}
     },
     "696c9e17acfc4e0d9edd18e870cc951c": {
      "model_module": "@jupyter-widgets/controls",
      "model_module_version": "1.4.0",
      "model_name": "FloatTextModel",
      "state": {
       "description": "width",
       "layout": "IPY_MODEL_369baaf6e1ae4cbaa2523f2545394892",
       "step": null,
       "style": "IPY_MODEL_5f10675994c84567aa8c46fbb56a7756",
       "value": 1
      }
     },
     "698980f74cb345129e78381172cd02c3": {
      "model_module": "@jupyter-widgets/base",
      "model_module_version": "1.1.0",
      "model_name": "LayoutModel",
      "state": {}
     },
     "69992797ac8a4759b21b9d65aa13bb86": {
      "model_module": "@jupyter-widgets/controls",
      "model_module_version": "1.4.0",
      "model_name": "DescriptionStyleModel",
      "state": {
       "description_width": ""
      }
     },
     "69a2d6a4dc4949c9895ca52e80e49ac3": {
      "model_module": "@jupyter-widgets/controls",
      "model_module_version": "1.4.0",
      "model_name": "DescriptionStyleModel",
      "state": {
       "description_width": ""
      }
     },
     "69adaa449665413f897a40a55fb51cb0": {
      "model_module": "@jupyter-widgets/base",
      "model_module_version": "1.1.0",
      "model_name": "LayoutModel",
      "state": {}
     },
     "69b9c0e1530c4f7785867c60d41024c2": {
      "model_module": "@jupyter-widgets/base",
      "model_module_version": "1.1.0",
      "model_name": "LayoutModel",
      "state": {}
     },
     "69e9014a3e4e45e18b360ac83d45f156": {
      "model_module": "@jupyter-widgets/controls",
      "model_module_version": "1.4.0",
      "model_name": "DescriptionStyleModel",
      "state": {
       "description_width": ""
      }
     },
     "69f864d078de40b9b92b82bfcac0a843": {
      "model_module": "@jupyter-widgets/base",
      "model_module_version": "1.1.0",
      "model_name": "LayoutModel",
      "state": {}
     },
     "6a14e4af603f4d8c90a51288a2180723": {
      "model_module": "@jupyter-widgets/controls",
      "model_module_version": "1.4.0",
      "model_name": "CheckboxModel",
      "state": {
       "description": "cbar_ax",
       "disabled": false,
       "layout": "IPY_MODEL_6299f147e7b947ed9d0e7482b9c3177c",
       "style": "IPY_MODEL_09d47020d272458aa247fb68ff1d9797",
       "value": false
      }
     },
     "6a1aefade05b4ab3b7c045e72dfe62d8": {
      "model_module": "@jupyter-widgets/controls",
      "model_module_version": "1.4.0",
      "model_name": "HBoxModel",
      "state": {
       "children": [
        "IPY_MODEL_1957662260d24193bbbc9326c73d6ec1"
       ],
       "layout": "IPY_MODEL_d14a5d436ba54f3da2f3a13f56e66f6c"
      }
     },
     "6a612b5b866e4cbfa4e46025fd7d2f38": {
      "model_module": "@jupyter-widgets/controls",
      "model_module_version": "1.4.0",
      "model_name": "DropdownModel",
      "state": {
       "_options_labels": [
        "True",
        "col",
        "row"
       ],
       "description": "sharey",
       "index": 0,
       "layout": "IPY_MODEL_fdbb6dcf1ee64a7caefe70af53852ce3",
       "style": "IPY_MODEL_e17835a06a514f20af661b1d8fe634a3"
      }
     },
     "6a8fc18e51ef433a9f749aba71e01688": {
      "model_module": "@jupyter-widgets/controls",
      "model_module_version": "1.4.0",
      "model_name": "DropdownModel",
      "state": {
       "_options_labels": [
        "1",
        "2",
        "3",
        "4",
        "5",
        "6",
        "7",
        "8",
        "9",
        "10",
        "11",
        "12",
        "13",
        "14",
        "15",
        "16",
        "17",
        "18",
        "19",
        "20",
        "21",
        "22",
        "23",
        "24",
        "25",
        "26",
        "27",
        "28",
        "29",
        "30",
        "31"
       ],
       "description": "col",
       "index": 0,
       "layout": "IPY_MODEL_cf90efcaf46d472fa14b2581c0de44d7",
       "style": "IPY_MODEL_256cfde4ebc94d0faf12f57b29a3c5ad"
      }
     },
     "6a961249b6a04e9484104d91fb3f5ea3": {
      "model_module": "@jupyter-widgets/base",
      "model_module_version": "1.1.0",
      "model_name": "LayoutModel",
      "state": {}
     },
     "6b0cdbaa3b0f4ec08376fcb1601d6009": {
      "model_module": "@jupyter-widgets/base",
      "model_module_version": "1.1.0",
      "model_name": "LayoutModel",
      "state": {}
     },
     "6b1b4ef03bc54382bee5ebdec327a0d8": {
      "model_module": "@jupyter-widgets/controls",
      "model_module_version": "1.4.0",
      "model_name": "CheckboxModel",
      "state": {
       "description": "kde",
       "disabled": false,
       "layout": "IPY_MODEL_30b74ce5d2d8441f8f9202ce8b6b5010",
       "style": "IPY_MODEL_db04635703214d88b0d259b38fc43a83",
       "value": false
      }
     },
     "6b2adb5751064efb8c9b3329e7aeb506": {
      "model_module": "@jupyter-widgets/base",
      "model_module_version": "1.1.0",
      "model_name": "LayoutModel",
      "state": {}
     },
     "6b403911c6d0455c96164b3541a82292": {
      "model_module": "@jupyter-widgets/controls",
      "model_module_version": "1.4.0",
      "model_name": "DescriptionStyleModel",
      "state": {
       "description_width": ""
      }
     },
     "6b4ba11af1ce4561931305382b6fad69": {
      "model_module": "@jupyter-widgets/controls",
      "model_module_version": "1.4.0",
      "model_name": "DropdownModel",
      "state": {
       "_options_labels": [
        "point",
        "bar",
        "strip",
        "swarm",
        "box",
        "violin",
        "boxen"
       ],
       "description": "kind",
       "index": 0,
       "layout": "IPY_MODEL_e96a23db79b64f118e466105c2e28aa9",
       "style": "IPY_MODEL_fae657af77344bcebdf131f490e026d7"
      }
     },
     "6b58cd6afd4247edbddbe191067c6614": {
      "model_module": "@jupyter-widgets/base",
      "model_module_version": "1.1.0",
      "model_name": "LayoutModel",
      "state": {}
     },
     "6b6562923823413aba865d6534ccd9b1": {
      "model_module": "@jupyter-widgets/base",
      "model_module_version": "1.1.0",
      "model_name": "LayoutModel",
      "state": {}
     },
     "6b98df35b0d74d23baaac3908e4e7b36": {
      "model_module": "@jupyter-widgets/base",
      "model_module_version": "1.1.0",
      "model_name": "LayoutModel",
      "state": {}
     },
     "6ba38148dc0b4cac9e4d7cc005721459": {
      "model_module": "@jupyter-widgets/controls",
      "model_module_version": "1.4.0",
      "model_name": "DescriptionStyleModel",
      "state": {
       "description_width": ""
      }
     },
     "6bc2042c4c8041fe85274d976b67baae": {
      "model_module": "@jupyter-widgets/controls",
      "model_module_version": "1.4.0",
      "model_name": "DropdownModel",
      "state": {
       "_options_labels": [
        "Acceleration",
        "Cylinders",
        "Displacement",
        "Horsepower",
        "Miles_per_Gallon",
        "Name",
        "Origin",
        "Weight_in_lbs",
        "Year"
       ],
       "description": "size",
       "index": 0,
       "layout": "IPY_MODEL_77b8972d79c643bf93f694003752fb05",
       "style": "IPY_MODEL_4d82a54444f64a83b87814de8a025bfc"
      }
     },
     "6c1ced30e5e9451b9edb6ce7314d2dc9": {
      "model_module": "@jupyter-widgets/controls",
      "model_module_version": "1.4.0",
      "model_name": "DescriptionStyleModel",
      "state": {
       "description_width": ""
      }
     },
     "6c40c83664c3499ca1b56b539753512b": {
      "model_module": "@jupyter-widgets/controls",
      "model_module_version": "1.4.0",
      "model_name": "DescriptionStyleModel",
      "state": {
       "description_width": ""
      }
     },
     "6c8bf7aced9e4c2598d8f433f2a5fac5": {
      "model_module": "@jupyter-widgets/base",
      "model_module_version": "1.1.0",
      "model_name": "LayoutModel",
      "state": {}
     },
     "6c9fff2abd01499bb3dda70c9f0ce23a": {
      "model_module": "@jupyter-widgets/base",
      "model_module_version": "1.1.0",
      "model_name": "LayoutModel",
      "state": {}
     },
     "6cc958ef275c48b8ad9f461a1b682068": {
      "model_module": "@jupyter-widgets/controls",
      "model_module_version": "1.4.0",
      "model_name": "CheckboxModel",
      "state": {
       "description": "cumulative",
       "disabled": false,
       "layout": "IPY_MODEL_2e56a14ce7f34ec39e4291503d0c3315",
       "style": "IPY_MODEL_f5ab963e86a045dbb947ab95269d816c",
       "value": false
      }
     },
     "6d062dc17b7e46b598eea0533853de5a": {
      "model_module": "@jupyter-widgets/controls",
      "model_module_version": "1.4.0",
      "model_name": "DescriptionStyleModel",
      "state": {
       "description_width": ""
      }
     },
     "6d146ba13a8e40c48a566092af49462f": {
      "model_module": "@jupyter-widgets/base",
      "model_module_version": "1.1.0",
      "model_name": "LayoutModel",
      "state": {}
     },
     "6d406ac869094748ae557f6fbf20b5ad": {
      "model_module": "@jupyter-widgets/base",
      "model_module_version": "1.1.0",
      "model_name": "LayoutModel",
      "state": {}
     },
     "6da035c0f6214712bcad494895be377d": {
      "model_module": "@jupyter-widgets/controls",
      "model_module_version": "1.4.0",
      "model_name": "CheckboxModel",
      "state": {
       "description": "split",
       "disabled": false,
       "layout": "IPY_MODEL_490c137a9ea244ae9f4c899bcc73583e",
       "style": "IPY_MODEL_22b16c2d4dd545cc9ef11cfaf4f98500",
       "value": false
      }
     },
     "6db66aef44c4451fb35e06a33f77b71a": {
      "model_module": "@jupyter-widgets/base",
      "model_module_version": "1.1.0",
      "model_name": "LayoutModel",
      "state": {}
     },
     "6dc0e3e679da40278033d0e9a1b674e0": {
      "model_module": "@jupyter-widgets/base",
      "model_module_version": "1.1.0",
      "model_name": "LayoutModel",
      "state": {}
     },
     "6dd360f0513546f0a3088f9a1420a4b0": {
      "model_module": "@jupyter-widgets/controls",
      "model_module_version": "1.4.0",
      "model_name": "CheckboxModel",
      "state": {
       "description": "robust",
       "disabled": false,
       "layout": "IPY_MODEL_228be1a17e984a7d9f5a8c7a7fff9e10",
       "style": "IPY_MODEL_b1c46fe48a99481089a06e20275f2aad",
       "value": false
      }
     },
     "6e068b48438f442ebb4e94eb2bc53530": {
      "model_module": "@jupyter-widgets/controls",
      "model_module_version": "1.4.0",
      "model_name": "DescriptionStyleModel",
      "state": {
       "description_width": ""
      }
     },
     "6e09efc5fb7a49599b2d2512601815d4": {
      "model_module": "@jupyter-widgets/controls",
      "model_module_version": "1.4.0",
      "model_name": "DescriptionStyleModel",
      "state": {
       "description_width": ""
      }
     },
     "6e267bd805a448958ca761ade488f6c5": {
      "model_module": "@jupyter-widgets/base",
      "model_module_version": "1.1.0",
      "model_name": "LayoutModel",
      "state": {}
     },
     "6e72ddd0f3b44d729ad14df8a5c43c58": {
      "model_module": "@jupyter-widgets/controls",
      "model_module_version": "1.4.0",
      "model_name": "DescriptionStyleModel",
      "state": {
       "description_width": ""
      }
     },
     "6ebadd7e31d2485ba8810a6c78d3b837": {
      "model_module": "@jupyter-widgets/controls",
      "model_module_version": "1.4.0",
      "model_name": "DescriptionStyleModel",
      "state": {
       "description_width": ""
      }
     },
     "6ee694c7209e408fb47635acccde4c3c": {
      "model_module": "@jupyter-widgets/base",
      "model_module_version": "1.1.0",
      "model_name": "LayoutModel",
      "state": {}
     },
     "6ee91899d02d4bbf8e794a5d9e9b5a36": {
      "model_module": "@jupyter-widgets/controls",
      "model_module_version": "1.4.0",
      "model_name": "SliderStyleModel",
      "state": {
       "description_width": ""
      }
     },
     "6f1defa61982423ba1c511e6f1da085f": {
      "model_module": "@jupyter-widgets/controls",
      "model_module_version": "1.4.0",
      "model_name": "DescriptionStyleModel",
      "state": {
       "description_width": ""
      }
     },
     "6f3cac08e4d04c24aa1121e586416cc1": {
      "model_module": "@jupyter-widgets/controls",
      "model_module_version": "1.4.0",
      "model_name": "FloatTextModel",
      "state": {
       "description": "scale",
       "layout": "IPY_MODEL_9675b42c7a8249b0ba6282339f7a2056",
       "step": null,
       "style": "IPY_MODEL_a55275b590424553a78110a0b727d28a",
       "value": 1
      }
     },
     "6f542e33d45d4d63b8ebb5db5a4b4b02": {
      "model_module": "@jupyter-widgets/controls",
      "model_module_version": "1.4.0",
      "model_name": "HBoxModel",
      "state": {
       "children": [
        "IPY_MODEL_9634e5b807cb41099b3e9c3ed7919503"
       ],
       "layout": "IPY_MODEL_1d868c08233448f28ee92908d13b266d"
      }
     },
     "6f6ed931ddc5451f90d5b1df8481b630": {
      "model_module": "@jupyter-widgets/controls",
      "model_module_version": "1.4.0",
      "model_name": "HBoxModel",
      "state": {
       "children": [
        "IPY_MODEL_a2213b5975c64ed4b5dd725d99dcaf05",
        "IPY_MODEL_85fabb53f7dd4d589e5e2d99c1009528"
       ],
       "layout": "IPY_MODEL_c830dad6f0024921a8746ca09f050f90"
      }
     },
     "6f7625d3f5064d95b49907e1b65d5df7": {
      "model_module": "@jupyter-widgets/controls",
      "model_module_version": "1.4.0",
      "model_name": "DescriptionStyleModel",
      "state": {
       "description_width": ""
      }
     },
     "6f84148bb33049129f056d7f674ef45b": {
      "model_module": "@jupyter-widgets/controls",
      "model_module_version": "1.4.0",
      "model_name": "CheckboxModel",
      "state": {
       "description": "legend_out",
       "disabled": false,
       "layout": "IPY_MODEL_79b78b51a1c34fa2ac0a5f080ae8d926",
       "style": "IPY_MODEL_408ce49d03e648f4bac2c28608b7ded4",
       "value": false
      }
     },
     "6f93cc66f9a54d76b9780f789bcdf580": {
      "model_module": "@jupyter-widgets/base",
      "model_module_version": "1.1.0",
      "model_name": "LayoutModel",
      "state": {}
     },
     "6fd115b1e53647ceaeb1a2ff39b50f26": {
      "model_module": "@jupyter-widgets/base",
      "model_module_version": "1.1.0",
      "model_name": "LayoutModel",
      "state": {}
     },
     "7007c023cc1c4080b2f87b5eaa4dafd4": {
      "model_module": "@jupyter-widgets/base",
      "model_module_version": "1.1.0",
      "model_name": "LayoutModel",
      "state": {}
     },
     "7008543bf6c945e496ffdef0fc77ce7a": {
      "model_module": "@jupyter-widgets/controls",
      "model_module_version": "1.4.0",
      "model_name": "CheckboxModel",
      "state": {
       "description": "kde",
       "disabled": false,
       "layout": "IPY_MODEL_eb6c099f0143419da0e6c0ec8405d955",
       "style": "IPY_MODEL_c5c966dbd5ee4867ab8090b62b630ee6",
       "value": false
      }
     },
     "703f9d312c2c49d689ed22d06d1d4788": {
      "model_module": "@jupyter-widgets/controls",
      "model_module_version": "1.4.0",
      "model_name": "FloatTextModel",
      "state": {
       "description": "linewidths",
       "layout": "IPY_MODEL_141def824bad4beebc3fced57a8a0948",
       "step": null,
       "style": "IPY_MODEL_c645dce9d4a9433599554b1a1d4cbea6",
       "value": 1
      }
     },
     "7064702a71004495ada638f683863c9d": {
      "model_module": "@jupyter-widgets/controls",
      "model_module_version": "1.4.0",
      "model_name": "TextModel",
      "state": {
       "description": "label",
       "layout": "IPY_MODEL_23cce3abb67c4256ad4c9abcf5e3637f",
       "style": "IPY_MODEL_2b95d19af4a244baa4f011fe60d86cba"
      }
     },
     "709ae0c33312465ba1b129c8695f69be": {
      "model_module": "@jupyter-widgets/controls",
      "model_module_version": "1.4.0",
      "model_name": "DescriptionStyleModel",
      "state": {
       "description_width": ""
      }
     },
     "70af840d14984966a40fb8fc289b716a": {
      "model_module": "@jupyter-widgets/controls",
      "model_module_version": "1.4.0",
      "model_name": "DropdownModel",
      "state": {
       "_options_labels": [
        "barplot",
        "boxenplot",
        "boxplot",
        "catplot",
        "countplot",
        "distplot",
        "heatmap",
        "jointplot",
        "kdeplot",
        "lineplot",
        "lmplot",
        "pairplot",
        "pointplot",
        "regplot",
        "relplot",
        "residplot",
        "scatterplot",
        "stripplot",
        "swarmplot",
        "violinplot"
       ],
       "description": "Plot",
       "index": 0,
       "layout": "IPY_MODEL_0a378efd2c4742e2acf7a947fdad07e5",
       "style": "IPY_MODEL_0c41247ea28c484f91df9bbf8ebc699f"
      }
     },
     "70cebfe9f7ac4997ab55595b1ad01025": {
      "model_module": "@jupyter-widgets/base",
      "model_module_version": "1.1.0",
      "model_name": "LayoutModel",
      "state": {}
     },
     "7146d84b0573481fa1f536423a881d6b": {
      "model_module": "@jupyter-widgets/controls",
      "model_module_version": "1.4.0",
      "model_name": "DescriptionStyleModel",
      "state": {
       "description_width": ""
      }
     },
     "716c3f09398f4eb2a8000d297c85662e": {
      "model_module": "@jupyter-widgets/controls",
      "model_module_version": "1.4.0",
      "model_name": "DropdownModel",
      "state": {
       "_options_labels": [
        "scatter",
        "reg"
       ],
       "description": "kind",
       "index": 0,
       "layout": "IPY_MODEL_1f79589ec54141c8aaf8a451ecdd9149",
       "style": "IPY_MODEL_e056d053bfb24339b0fc982e394ada7f"
      }
     },
     "7186264a174b492f95275a52d222e3d8": {
      "model_module": "@jupyter-widgets/base",
      "model_module_version": "1.1.0",
      "model_name": "LayoutModel",
      "state": {}
     },
     "71b317fdfdcc4de091bb112653b7a630": {
      "model_module": "@jupyter-widgets/controls",
      "model_module_version": "1.4.0",
      "model_name": "CheckboxModel",
      "state": {
       "description": "shade",
       "disabled": false,
       "layout": "IPY_MODEL_42d684a650ba406fb2b35ce1ea67381b",
       "style": "IPY_MODEL_c30056d685c84500bf233f6c476ac56a",
       "value": false
      }
     },
     "71c1ef8fa08d4aa3997b6acbb2f9c20e": {
      "model_module": "@jupyter-widgets/base",
      "model_module_version": "1.1.0",
      "model_name": "LayoutModel",
      "state": {}
     },
     "71c6cd5077df40148afadeec9aff8545": {
      "model_module": "@jupyter-widgets/controls",
      "model_module_version": "1.4.0",
      "model_name": "ButtonStyleModel",
      "state": {}
     },
     "7203afece05046e7952f477dc346114e": {
      "model_module": "@jupyter-widgets/controls",
      "model_module_version": "1.4.0",
      "model_name": "SliderStyleModel",
      "state": {
       "description_width": ""
      }
     },
     "723801af28644e3ca449449e3558f804": {
      "model_module": "@jupyter-widgets/controls",
      "model_module_version": "1.4.0",
      "model_name": "FloatTextModel",
      "state": {
       "description": "whis",
       "layout": "IPY_MODEL_2d2e2debc2e94ff09e2da61774f09c50",
       "step": null,
       "style": "IPY_MODEL_cafb2a5ad60e49f5af3499166f8f90c0",
       "value": 1
      }
     },
     "72a609f2b9c0447c956ddbe1310983d4": {
      "model_module": "@jupyter-widgets/controls",
      "model_module_version": "1.4.0",
      "model_name": "DescriptionStyleModel",
      "state": {
       "description_width": ""
      }
     },
     "72b0c27a1bcf4059a716229d75d95b63": {
      "model_module": "@jupyter-widgets/base",
      "model_module_version": "1.1.0",
      "model_name": "LayoutModel",
      "state": {}
     },
     "72f6f71dd20149dbaadc538346e16094": {
      "model_module": "@jupyter-widgets/base",
      "model_module_version": "1.1.0",
      "model_name": "LayoutModel",
      "state": {}
     },
     "72f7d60c5e474ce19657c69e7b962e0f": {
      "model_module": "@jupyter-widgets/controls",
      "model_module_version": "1.4.0",
      "model_name": "DescriptionStyleModel",
      "state": {
       "description_width": ""
      }
     },
     "731e7a19c9b2480180fb2aa68d06b775": {
      "model_module": "@jupyter-widgets/controls",
      "model_module_version": "1.4.0",
      "model_name": "DropdownModel",
      "state": {
       "_options_labels": [
        "Acceleration",
        "Cylinders",
        "Displacement",
        "Horsepower",
        "Miles_per_Gallon",
        "Name",
        "Origin",
        "Weight_in_lbs",
        "Year"
       ],
       "description": "row",
       "index": 0,
       "layout": "IPY_MODEL_b35a7d3c93614b07925f116513b84b4c",
       "style": "IPY_MODEL_adff781172664840a3fa40441c107970"
      }
     },
     "73d7e19260ba4669bdb70d44a70dba98": {
      "model_module": "@jupyter-widgets/controls",
      "model_module_version": "1.4.0",
      "model_name": "DropdownModel",
      "state": {
       "_options_labels": [
        "area",
        "count",
        "width"
       ],
       "description": "scale",
       "index": 0,
       "layout": "IPY_MODEL_7874e1e54e164cb0828b9a7bcc7e1ea9",
       "style": "IPY_MODEL_f2422af96bfd4d7c8d8ab5bf63e35002"
      }
     },
     "73df3af382d74fccbd2b76b74a833f4f": {
      "model_module": "@jupyter-widgets/controls",
      "model_module_version": "1.4.0",
      "model_name": "ButtonModel",
      "state": {
       "description": "remove",
       "layout": "IPY_MODEL_e81935aff8c14dcea0596994c697d0de",
       "style": "IPY_MODEL_96c98d2aed10414ead80aad837738893"
      }
     },
     "73e6c55658094c51b809103418882ec1": {
      "model_module": "@jupyter-widgets/controls",
      "model_module_version": "1.4.0",
      "model_name": "DropdownModel",
      "state": {
       "_options_labels": [
        "proportion",
        "tukey",
        "trustworthy"
       ],
       "description": "k_depth",
       "index": 0,
       "layout": "IPY_MODEL_7db44b6e53d845cfabb1013fd4e6316d",
       "style": "IPY_MODEL_dfaba91336c04b9392f3f324f39a5175"
      }
     },
     "73ea04aa2e2041a385d5ff6635a1d5cf": {
      "model_module": "@jupyter-widgets/controls",
      "model_module_version": "1.4.0",
      "model_name": "DescriptionStyleModel",
      "state": {
       "description_width": ""
      }
     },
     "740f3e98aeb043309ef2227919b75288": {
      "model_module": "@jupyter-widgets/base",
      "model_module_version": "1.1.0",
      "model_name": "LayoutModel",
      "state": {}
     },
     "7433ef48804244c1b1abd6e9269253d4": {
      "model_module": "@jupyter-widgets/controls",
      "model_module_version": "1.4.0",
      "model_name": "DropdownModel",
      "state": {
       "_options_labels": [
        "o",
        "v",
        "^",
        "<",
        ">",
        "8",
        "s",
        "p",
        "*",
        "h",
        "H",
        "D",
        "d",
        "P",
        "X"
       ],
       "description": "marker",
       "index": 0,
       "layout": "IPY_MODEL_472ad94ec624430bad14e58ec427cf10",
       "style": "IPY_MODEL_11b6f64108504a37a281e4e272b6661c"
      }
     },
     "743b2e35a44e48f6ab1d608869636b84": {
      "model_module": "@jupyter-widgets/controls",
      "model_module_version": "1.4.0",
      "model_name": "DescriptionStyleModel",
      "state": {
       "description_width": ""
      }
     },
     "743c787c04a74236ac02b4efd6a902d6": {
      "model_module": "@jupyter-widgets/controls",
      "model_module_version": "1.4.0",
      "model_name": "DescriptionStyleModel",
      "state": {
       "description_width": ""
      }
     },
     "7453c1ef478741db907b4d5a17639423": {
      "model_module": "@jupyter-widgets/controls",
      "model_module_version": "1.4.0",
      "model_name": "IntTextModel",
      "state": {
       "description": "x_bins",
       "layout": "IPY_MODEL_b36c1c1f2c394a4ab41c87ae47fec525",
       "step": 1,
       "style": "IPY_MODEL_faec107d3d304a23bed3e4c1801b5d66",
       "value": 10
      }
     },
     "74615e6b37f24beb9f1e958633c2b9db": {
      "model_module": "@jupyter-widgets/controls",
      "model_module_version": "1.4.0",
      "model_name": "DescriptionStyleModel",
      "state": {
       "description_width": ""
      }
     },
     "747ca08b59924d3f91e989f6ca2d1d97": {
      "model_module": "@jupyter-widgets/base",
      "model_module_version": "1.1.0",
      "model_name": "LayoutModel",
      "state": {}
     },
     "74819af27d63451a8478bc8b035f42fb": {
      "model_module": "@jupyter-widgets/controls",
      "model_module_version": "1.4.0",
      "model_name": "FloatTextModel",
      "state": {
       "description": "vmax",
       "layout": "IPY_MODEL_4b6ffdc0855449ebb03576738da0432e",
       "step": null,
       "style": "IPY_MODEL_119a0a76535c4e228de6236ea2ce7512",
       "value": 1
      }
     },
     "74962a4c372a4daa8972534500376e1e": {
      "model_module": "@jupyter-widgets/base",
      "model_module_version": "1.1.0",
      "model_name": "LayoutModel",
      "state": {}
     },
     "752f4bbef5e14c51a6a376566ba4ef60": {
      "model_module": "@jupyter-widgets/controls",
      "model_module_version": "1.4.0",
      "model_name": "DescriptionStyleModel",
      "state": {
       "description_width": ""
      }
     },
     "753cf688b44c4748a6a09b542e82a52c": {
      "model_module": "@jupyter-widgets/controls",
      "model_module_version": "1.4.0",
      "model_name": "CheckboxModel",
      "state": {
       "description": "cbar_ax",
       "disabled": false,
       "layout": "IPY_MODEL_457b3599cedc41d6a530a7bf5f935657",
       "style": "IPY_MODEL_61f673860e6948a3a7e5ef1155a40771",
       "value": false
      }
     },
     "75521cc9d35b447faf2afdcd5bcc8955": {
      "model_module": "@jupyter-widgets/controls",
      "model_module_version": "1.4.0",
      "model_name": "IntTextModel",
      "state": {
       "description": "x_bins",
       "layout": "IPY_MODEL_bba61985bb74462b8303e761ee87b5e4",
       "step": 1,
       "style": "IPY_MODEL_c629e50fcc194df1a08e8fb5e8706ef5",
       "value": 10
      }
     },
     "757e4aa655a749bf98d4dea2642aec03": {
      "model_module": "@jupyter-widgets/base",
      "model_module_version": "1.1.0",
      "model_name": "LayoutModel",
      "state": {}
     },
     "75a21399c4d248009d1fffb9c6a208c4": {
      "model_module": "@jupyter-widgets/base",
      "model_module_version": "1.1.0",
      "model_name": "LayoutModel",
      "state": {}
     },
     "75a24e7a962b4046ab591f6f7a461b21": {
      "model_module": "@jupyter-widgets/base",
      "model_module_version": "1.1.0",
      "model_name": "LayoutModel",
      "state": {}
     },
     "75b506304ed643dea1d8c3ee1ec156dc": {
      "model_module": "@jupyter-widgets/base",
      "model_module_version": "1.1.0",
      "model_name": "LayoutModel",
      "state": {}
     },
     "75c93c12a2b047259f43bbb079f7fcc5": {
      "model_module": "@jupyter-widgets/controls",
      "model_module_version": "1.4.0",
      "model_name": "DescriptionStyleModel",
      "state": {
       "description_width": ""
      }
     },
     "75d46ebc9e7b4e02b1d1da9026173272": {
      "model_module": "@jupyter-widgets/controls",
      "model_module_version": "1.4.0",
      "model_name": "FloatTextModel",
      "state": {
       "description": "vmax",
       "layout": "IPY_MODEL_667f91ddbe53402d84766148c5e6076d",
       "step": null,
       "style": "IPY_MODEL_481e1f757d8c424286bcf86fc3aa9390",
       "value": 1
      }
     },
     "75eb998450614e83b17ecb5ecdfab895": {
      "model_module": "@jupyter-widgets/base",
      "model_module_version": "1.1.0",
      "model_name": "LayoutModel",
      "state": {}
     },
     "75f5b238ad7d4bf5aabab0cac269fff0": {
      "model_module": "@jupyter-widgets/controls",
      "model_module_version": "1.4.0",
      "model_name": "DescriptionStyleModel",
      "state": {
       "description_width": ""
      }
     },
     "75fcc9d64afd44cc821d8a3be14e09fe": {
      "model_module": "@jupyter-widgets/controls",
      "model_module_version": "1.4.0",
      "model_name": "DescriptionStyleModel",
      "state": {
       "description_width": ""
      }
     },
     "761e5ff89b7248fcb376b726fa1678a5": {
      "model_module": "@jupyter-widgets/controls",
      "model_module_version": "1.4.0",
      "model_name": "DropdownModel",
      "state": {
       "_options_labels": [
        "v",
        "h"
       ],
       "description": "orient",
       "index": 0,
       "layout": "IPY_MODEL_0eaf7bb4d66647529df129db34faf310",
       "style": "IPY_MODEL_12cf80cb69914892805ad7ce0cf7f178"
      }
     },
     "7633e5fe15bd40d980ed32bb61e1c546": {
      "model_module": "@jupyter-widgets/controls",
      "model_module_version": "1.4.0",
      "model_name": "TextModel",
      "state": {
       "description": "palette",
       "layout": "IPY_MODEL_31ee0543f732489b9839dce5b399ae47",
       "style": "IPY_MODEL_7fd613c87f5b41889d933a82749e5fce"
      }
     },
     "7670bd9c0a694209bceb23075f487709": {
      "model_module": "@jupyter-widgets/controls",
      "model_module_version": "1.4.0",
      "model_name": "DescriptionStyleModel",
      "state": {
       "description_width": ""
      }
     },
     "768c2d27464d46d780d46cecdd3023c4": {
      "model_module": "@jupyter-widgets/base",
      "model_module_version": "1.1.0",
      "model_name": "LayoutModel",
      "state": {}
     },
     "76ac9401de224618990fcbcf2c3895e5": {
      "model_module": "@jupyter-widgets/base",
      "model_module_version": "1.1.0",
      "model_name": "LayoutModel",
      "state": {}
     },
     "76b5ec59c67649a7a7848e4b9a20823e": {
      "model_module": "@jupyter-widgets/controls",
      "model_module_version": "1.4.0",
      "model_name": "ButtonStyleModel",
      "state": {}
     },
     "76c8d0b1df7843e88ecec6462a58fba4": {
      "model_module": "@jupyter-widgets/controls",
      "model_module_version": "1.4.0",
      "model_name": "DropdownModel",
      "state": {
       "_options_labels": [
        "gau",
        "cos",
        "biw",
        "epa",
        "tri",
        "triw"
       ],
       "description": "kernel",
       "index": 0,
       "layout": "IPY_MODEL_5a5bf49c389d44449fbbd50781dfe5e0",
       "style": "IPY_MODEL_c3515aa920a84549a345b9032aba93c5"
      }
     },
     "76cb19b7876746f099713d950cc41d37": {
      "model_module": "@jupyter-widgets/controls",
      "model_module_version": "1.4.0",
      "model_name": "DropdownModel",
      "state": {
       "_options_labels": [
        "1",
        "2",
        "3",
        "4",
        "5",
        "6",
        "7",
        "8",
        "9",
        "10",
        "11",
        "12",
        "13",
        "14",
        "15",
        "16",
        "17",
        "18",
        "19",
        "20",
        "21",
        "22",
        "23",
        "24",
        "25",
        "26",
        "27",
        "28",
        "29",
        "30",
        "31"
       ],
       "description": "x",
       "index": 0,
       "layout": "IPY_MODEL_8252b0ac571d466b8adc1fe44ae21f93",
       "style": "IPY_MODEL_59bbb798c8f34814a54ee1cc080f9b43"
      }
     },
     "76dda10e7ff74eeca8086736d22eb1ab": {
      "model_module": "@jupyter-widgets/controls",
      "model_module_version": "1.4.0",
      "model_name": "DropdownModel",
      "state": {
       "_options_labels": [
        "scatter",
        "reg",
        "resid",
        "kde",
        "hex"
       ],
       "description": "kind",
       "index": 0,
       "layout": "IPY_MODEL_e00f0e5700a84c2abd8137239dc1f437",
       "style": "IPY_MODEL_22c070fc1d7c4ae2ac90c441c509871e"
      }
     },
     "76e09912713c4f7ea3d92fdb3c72d675": {
      "model_module": "@jupyter-widgets/controls",
      "model_module_version": "1.4.0",
      "model_name": "CheckboxModel",
      "state": {
       "description": "kde",
       "disabled": false,
       "layout": "IPY_MODEL_c7f0fd3b8ddb4dd59282ba7a2f24f2dd",
       "style": "IPY_MODEL_d163c83bace64d808117fb79a96e7760",
       "value": false
      }
     },
     "76e2c1aaf021475bb962b33b8a518bf1": {
      "model_module": "@jupyter-widgets/base",
      "model_module_version": "1.1.0",
      "model_name": "LayoutModel",
      "state": {}
     },
     "772ad1050e3143b383f8d1e38fe6e079": {
      "model_module": "@jupyter-widgets/base",
      "model_module_version": "1.1.0",
      "model_name": "LayoutModel",
      "state": {}
     },
     "77416be3deb24224943e2b3b883ed0c7": {
      "model_module": "@jupyter-widgets/controls",
      "model_module_version": "1.4.0",
      "model_name": "ButtonModel",
      "state": {
       "description": "remove",
       "layout": "IPY_MODEL_eb0a3d348e1e4bf4a388878744d2bd57",
       "style": "IPY_MODEL_5c24bfd4a29b453ab45cf1579f2040e9"
      }
     },
     "77459fd95d904f258746cf8455c34a05": {
      "model_module": "@jupyter-widgets/controls",
      "model_module_version": "1.4.0",
      "model_name": "DropdownModel",
      "state": {
       "_options_labels": [
        "True",
        "row",
        "col"
       ],
       "description": "sharex",
       "index": 0,
       "layout": "IPY_MODEL_9cd1f30dfa9d4301b904a44d183a393d",
       "style": "IPY_MODEL_caca1e4c2ff34f1ea65d55ec807e6057"
      }
     },
     "776657da1b984f3da8ac1192a75113da": {
      "model_module": "@jupyter-widgets/base",
      "model_module_version": "1.1.0",
      "model_name": "LayoutModel",
      "state": {}
     },
     "77667254c854403282c7ac7b66c69269": {
      "model_module": "@jupyter-widgets/base",
      "model_module_version": "1.1.0",
      "model_name": "LayoutModel",
      "state": {}
     },
     "77a00760580f47729909ce631e483f64": {
      "model_module": "@jupyter-widgets/controls",
      "model_module_version": "1.4.0",
      "model_name": "CheckboxModel",
      "state": {
       "description": "jitter",
       "disabled": false,
       "layout": "IPY_MODEL_8b374bc9ea804db0bd906794381c3711",
       "style": "IPY_MODEL_a1523af842034c609bea542cbc894a66",
       "value": false
      }
     },
     "77b8972d79c643bf93f694003752fb05": {
      "model_module": "@jupyter-widgets/base",
      "model_module_version": "1.1.0",
      "model_name": "LayoutModel",
      "state": {}
     },
     "77ddfeb234224a15a454085e4d58ad06": {
      "model_module": "@jupyter-widgets/controls",
      "model_module_version": "1.4.0",
      "model_name": "DropdownModel",
      "state": {
       "_options_labels": [
        "True",
        "col",
        "row"
       ],
       "description": "sharex",
       "index": 0,
       "layout": "IPY_MODEL_e4cf3a5b82f94b64b1f954621e7f463e",
       "style": "IPY_MODEL_743b2e35a44e48f6ab1d608869636b84"
      }
     },
     "7874e1e54e164cb0828b9a7bcc7e1ea9": {
      "model_module": "@jupyter-widgets/base",
      "model_module_version": "1.1.0",
      "model_name": "LayoutModel",
      "state": {}
     },
     "787b5d2eca0948558b750b50a99807ce": {
      "model_module": "@jupyter-widgets/controls",
      "model_module_version": "1.4.0",
      "model_name": "DescriptionStyleModel",
      "state": {
       "description_width": ""
      }
     },
     "78d5badb0b2b4dea97bd839d7f1bb690": {
      "model_module": "@jupyter-widgets/controls",
      "model_module_version": "1.4.0",
      "model_name": "DescriptionStyleModel",
      "state": {
       "description_width": ""
      }
     },
     "78f2f2f11319472a85c6d10e418bce46": {
      "model_module": "@jupyter-widgets/base",
      "model_module_version": "1.1.0",
      "model_name": "LayoutModel",
      "state": {}
     },
     "78faf5f3812b4897b1eba1272aff0248": {
      "model_module": "@jupyter-widgets/controls",
      "model_module_version": "1.4.0",
      "model_name": "DescriptionStyleModel",
      "state": {
       "description_width": ""
      }
     },
     "7908675177df4aac9188cdfd1fc343e2": {
      "model_module": "@jupyter-widgets/controls",
      "model_module_version": "1.4.0",
      "model_name": "FloatTextModel",
      "state": {
       "description": "errwidth",
       "layout": "IPY_MODEL_6fd115b1e53647ceaeb1a2ff39b50f26",
       "step": null,
       "style": "IPY_MODEL_fcde5115ff084884b36b0e0c96f2c234",
       "value": 1
      }
     },
     "79359614e4454ad199b2ab7bc9ef26be": {
      "model_module": "@jupyter-widgets/base",
      "model_module_version": "1.1.0",
      "model_name": "LayoutModel",
      "state": {}
     },
     "79613b3bba314cc4a083810da28d5e7b": {
      "model_module": "@jupyter-widgets/controls",
      "model_module_version": "1.4.0",
      "model_name": "DescriptionStyleModel",
      "state": {
       "description_width": ""
      }
     },
     "79962e97c2ae4c5e8e65f3107cfbf07f": {
      "model_module": "@jupyter-widgets/controls",
      "model_module_version": "1.4.0",
      "model_name": "TextModel",
      "state": {
       "description": "axlabel",
       "layout": "IPY_MODEL_afebe14a632844c1b551b5366e72ae15",
       "style": "IPY_MODEL_8e688e9870e14325b6fb41bc0b277812"
      }
     },
     "79a41304f4cc45fbab1d59ec5313f002": {
      "model_module": "@jupyter-widgets/controls",
      "model_module_version": "1.4.0",
      "model_name": "DescriptionStyleModel",
      "state": {
       "description_width": ""
      }
     },
     "79b78b51a1c34fa2ac0a5f080ae8d926": {
      "model_module": "@jupyter-widgets/base",
      "model_module_version": "1.1.0",
      "model_name": "LayoutModel",
      "state": {}
     },
     "79d4ff3516a14266bf0557510c5c6b6d": {
      "model_module": "@jupyter-widgets/base",
      "model_module_version": "1.1.0",
      "model_name": "LayoutModel",
      "state": {}
     },
     "79d584ba7ee4467892dfe5656734738b": {
      "model_module": "@jupyter-widgets/controls",
      "model_module_version": "1.4.0",
      "model_name": "DescriptionStyleModel",
      "state": {
       "description_width": ""
      }
     },
     "7a042c5c01d04163846602e36f5c2954": {
      "model_module": "@jupyter-widgets/base",
      "model_module_version": "1.1.0",
      "model_name": "LayoutModel",
      "state": {}
     },
     "7a3a0a87a89b44ac97f84bb9a75bada2": {
      "model_module": "@jupyter-widgets/base",
      "model_module_version": "1.1.0",
      "model_name": "LayoutModel",
      "state": {}
     },
     "7a425255fc304005a98bb09197bce709": {
      "model_module": "@jupyter-widgets/controls",
      "model_module_version": "1.4.0",
      "model_name": "DescriptionStyleModel",
      "state": {
       "description_width": ""
      }
     },
     "7a54ba7679f44332bc5909cfcbf4e50a": {
      "model_module": "@jupyter-widgets/base",
      "model_module_version": "1.1.0",
      "model_name": "LayoutModel",
      "state": {}
     },
     "7a5a22f5aa9c4945acd11b8a22e82ec0": {
      "model_module": "@jupyter-widgets/base",
      "model_module_version": "1.1.0",
      "model_name": "LayoutModel",
      "state": {}
     },
     "7a76f23cf8f846b8a3860c3347f4c857": {
      "model_module": "@jupyter-widgets/base",
      "model_module_version": "1.1.0",
      "model_name": "LayoutModel",
      "state": {}
     },
     "7a9435d87b3e40939b1d2f2f43fe28de": {
      "model_module": "@jupyter-widgets/controls",
      "model_module_version": "1.4.0",
      "model_name": "CheckboxModel",
      "state": {
       "description": "square",
       "disabled": false,
       "layout": "IPY_MODEL_7cda74c81ebf462e85fe1ac0108c4e63",
       "style": "IPY_MODEL_c5f855842a62455680db3832be9393ad",
       "value": false
      }
     },
     "7ab77b0086184e208ad0af1ea8e42a08": {
      "model_module": "@jupyter-widgets/controls",
      "model_module_version": "1.4.0",
      "model_name": "DescriptionStyleModel",
      "state": {
       "description_width": ""
      }
     },
     "7abfc20b36ca4f70b4446ad0b4daa2b7": {
      "model_module": "@jupyter-widgets/controls",
      "model_module_version": "1.4.0",
      "model_name": "DescriptionStyleModel",
      "state": {
       "description_width": ""
      }
     },
     "7ad07105dab44cc39afa65603b5034a0": {
      "model_module": "@jupyter-widgets/controls",
      "model_module_version": "1.4.0",
      "model_name": "DescriptionStyleModel",
      "state": {
       "description_width": ""
      }
     },
     "7aeb51cd81294252ab952a318cd65f77": {
      "model_module": "@jupyter-widgets/controls",
      "model_module_version": "1.4.0",
      "model_name": "CheckboxModel",
      "state": {
       "description": "dropna",
       "disabled": false,
       "layout": "IPY_MODEL_beb83f93628d4737a8df73f62e373262",
       "style": "IPY_MODEL_0ff3ad350468430d9541b89e58d60ce1",
       "value": false
      }
     },
     "7b176fc132274e3aa288f504f51fcdf1": {
      "model_module": "@jupyter-widgets/base",
      "model_module_version": "1.1.0",
      "model_name": "LayoutModel",
      "state": {}
     },
     "7b3424bbab504ab4b7a347dfb99319a1": {
      "model_module": "@jupyter-widgets/controls",
      "model_module_version": "1.4.0",
      "model_name": "DescriptionStyleModel",
      "state": {
       "description_width": ""
      }
     },
     "7b7c93433e0949c484677a2f6ec85ec3": {
      "model_module": "@jupyter-widgets/controls",
      "model_module_version": "1.4.0",
      "model_name": "CheckboxModel",
      "state": {
       "description": "cumulative",
       "disabled": false,
       "layout": "IPY_MODEL_b094446dd7454772add1b8f0752a606d",
       "style": "IPY_MODEL_4564bf1b79334ff99bc08f6e8dcfcf7b",
       "value": false
      }
     },
     "7ba9794c74aa493f842b15e88a2b063f": {
      "model_module": "@jupyter-widgets/controls",
      "model_module_version": "1.4.0",
      "model_name": "HBoxModel",
      "state": {
       "children": [
        "IPY_MODEL_fac952e7f1eb4043be872bba06984b17"
       ],
       "layout": "IPY_MODEL_eabf43770c2f4122beee9a183f7f4af6"
      }
     },
     "7bc8a1cde376434fb7201acbf8029217": {
      "model_module": "@jupyter-widgets/controls",
      "model_module_version": "1.4.0",
      "model_name": "DropdownModel",
      "state": {
       "_options_labels": [
        "area",
        "count",
        "width"
       ],
       "description": "scale",
       "index": 0,
       "layout": "IPY_MODEL_8914832c5180444babdb6d292643c631",
       "style": "IPY_MODEL_79a41304f4cc45fbab1d59ec5313f002"
      }
     },
     "7bfb9b84ee75461b9539fa7ee132730f": {
      "model_module": "@jupyter-widgets/base",
      "model_module_version": "1.1.0",
      "model_name": "LayoutModel",
      "state": {}
     },
     "7c22ad42e48d4ab0993c231f97c6365f": {
      "model_module": "@jupyter-widgets/controls",
      "model_module_version": "1.4.0",
      "model_name": "CheckboxModel",
      "state": {
       "description": "logx",
       "disabled": false,
       "layout": "IPY_MODEL_55db4d3ac8c34199a3e63ce14701c0b4",
       "style": "IPY_MODEL_3c76911f77bc4b379ed336eb7f9fc7bf",
       "value": false
      }
     },
     "7c3a882f15c44139a678e33f2ee5a015": {
      "model_module": "@jupyter-widgets/controls",
      "model_module_version": "1.4.0",
      "model_name": "DescriptionStyleModel",
      "state": {
       "description_width": ""
      }
     },
     "7c51ff0bc97a424e80f285d503d83fb1": {
      "model_module": "@jupyter-widgets/controls",
      "model_module_version": "1.4.0",
      "model_name": "DescriptionStyleModel",
      "state": {
       "description_width": ""
      }
     },
     "7c554817683c47e29052039afa9fb961": {
      "model_module": "@jupyter-widgets/controls",
      "model_module_version": "1.4.0",
      "model_name": "CheckboxModel",
      "state": {
       "description": "lowess",
       "disabled": false,
       "layout": "IPY_MODEL_4369e86e3d2a4819b208f775921b28ff",
       "style": "IPY_MODEL_e36bae98e9184c8a930462965e91cdb6",
       "value": false
      }
     },
     "7c5d1bc0a90f4602bf7075a5f538a044": {
      "model_module": "@jupyter-widgets/base",
      "model_module_version": "1.1.0",
      "model_name": "LayoutModel",
      "state": {}
     },
     "7cda74c81ebf462e85fe1ac0108c4e63": {
      "model_module": "@jupyter-widgets/base",
      "model_module_version": "1.1.0",
      "model_name": "LayoutModel",
      "state": {}
     },
     "7ce52b359fa24d628829e96750d57874": {
      "model_module": "@jupyter-widgets/controls",
      "model_module_version": "1.4.0",
      "model_name": "DropdownModel",
      "state": {
       "_options_labels": [
        "Acceleration",
        "Cylinders",
        "Displacement",
        "Horsepower",
        "Miles_per_Gallon",
        "Name",
        "Origin",
        "Weight_in_lbs",
        "Year"
       ],
       "description": "data2",
       "index": 0,
       "layout": "IPY_MODEL_6035ba7ca47b450698e782485d157cc0",
       "style": "IPY_MODEL_560101ef4f3047fd85088511573caa45"
      }
     },
     "7cec965a6e974837ac1d4f2caa4c6a96": {
      "model_module": "@jupyter-widgets/controls",
      "model_module_version": "1.4.0",
      "model_name": "ButtonModel",
      "state": {
       "description": "remove",
       "layout": "IPY_MODEL_ba29c908d4d643069fcbcc2970f00f44",
       "style": "IPY_MODEL_d7fa50d8438e4268b31352dfbaa32a36"
      }
     },
     "7ceedff79cfc4204a2375d42a21f0a13": {
      "model_module": "@jupyter-widgets/base",
      "model_module_version": "1.1.0",
      "model_name": "LayoutModel",
      "state": {}
     },
     "7d21d537ce2b46eda9335f81aab9c925": {
      "model_module": "@jupyter-widgets/base",
      "model_module_version": "1.1.0",
      "model_name": "LayoutModel",
      "state": {}
     },
     "7d38a0caad3a4b19b3c950c06eced09d": {
      "model_module": "@jupyter-widgets/controls",
      "model_module_version": "1.4.0",
      "model_name": "DropdownModel",
      "state": {
       "_options_labels": [
        "Acceleration",
        "Cylinders",
        "Displacement",
        "Horsepower",
        "Miles_per_Gallon",
        "Name",
        "Origin",
        "Weight_in_lbs",
        "Year"
       ],
       "description": "col",
       "index": 0,
       "layout": "IPY_MODEL_77667254c854403282c7ac7b66c69269",
       "style": "IPY_MODEL_e2a8c48b137247dd8e08da4a9dcbc112"
      }
     },
     "7d4f841c9a374d46b077c4e72735f497": {
      "model_module": "@jupyter-widgets/controls",
      "model_module_version": "1.4.0",
      "model_name": "DescriptionStyleModel",
      "state": {
       "description_width": ""
      }
     },
     "7d515a7989374b338add1709256d82a7": {
      "model_module": "@jupyter-widgets/controls",
      "model_module_version": "1.4.0",
      "model_name": "HBoxModel",
      "state": {
       "children": [
        "IPY_MODEL_33dbd3defda84440b33659d3a985ac94"
       ],
       "layout": "IPY_MODEL_2148248df63f4cccab5d70026754bbf5"
      }
     },
     "7d5cd72aeaa54cb896720e4e66bcae1d": {
      "model_module": "@jupyter-widgets/controls",
      "model_module_version": "1.4.0",
      "model_name": "FloatTextModel",
      "state": {
       "description": "linewidths",
       "layout": "IPY_MODEL_d77e8eda50a741c3a6449313bdfe0cf5",
       "step": null,
       "style": "IPY_MODEL_cdc5b25e16934e16a6f643fc87c6d4cb",
       "value": 1
      }
     },
     "7d6d36a130b04552b51fb666fb8eb994": {
      "model_module": "@jupyter-widgets/base",
      "model_module_version": "1.1.0",
      "model_name": "LayoutModel",
      "state": {}
     },
     "7db44b6e53d845cfabb1013fd4e6316d": {
      "model_module": "@jupyter-widgets/base",
      "model_module_version": "1.1.0",
      "model_name": "LayoutModel",
      "state": {}
     },
     "7ddda1e5f7954e53bbc6793b863169d7": {
      "model_module": "@jupyter-widgets/controls",
      "model_module_version": "1.4.0",
      "model_name": "DescriptionStyleModel",
      "state": {
       "description_width": ""
      }
     },
     "7de1402ccc46441a9e98abeff73fbfac": {
      "model_module": "@jupyter-widgets/base",
      "model_module_version": "1.1.0",
      "model_name": "LayoutModel",
      "state": {}
     },
     "7e03c0069c3b47a5945da7aac5169150": {
      "model_module": "@jupyter-widgets/controls",
      "model_module_version": "1.4.0",
      "model_name": "IntTextModel",
      "state": {
       "description": "ratio",
       "layout": "IPY_MODEL_cf6accffd5ea44b18a2e903b19fc45d6",
       "step": 1,
       "style": "IPY_MODEL_fc4d7424e68d428f93e14e59fd795d33",
       "value": 1
      }
     },
     "7e375bed196949ac8884783ba69c6d2d": {
      "model_module": "@jupyter-widgets/base",
      "model_module_version": "1.1.0",
      "model_name": "LayoutModel",
      "state": {}
     },
     "7e82c7ff40664478b14256306240e2d9": {
      "model_module": "@jupyter-widgets/controls",
      "model_module_version": "1.4.0",
      "model_name": "DropdownModel",
      "state": {
       "_options_labels": [
        "Acceleration",
        "Cylinders",
        "Displacement",
        "Horsepower",
        "Miles_per_Gallon",
        "Name",
        "Origin",
        "Weight_in_lbs",
        "Year"
       ],
       "description": "x_partial",
       "index": 0,
       "layout": "IPY_MODEL_472a33db9a234e7d89be1dec3cf8a54e",
       "style": "IPY_MODEL_6ba38148dc0b4cac9e4d7cc005721459"
      }
     },
     "7ea57b9528e64ad68f17aa458d883e10": {
      "model_module": "@jupyter-widgets/base",
      "model_module_version": "1.1.0",
      "model_name": "LayoutModel",
      "state": {}
     },
     "7ec3e186d88f455da23371214ef5d1a5": {
      "model_module": "@jupyter-widgets/controls",
      "model_module_version": "1.4.0",
      "model_name": "DescriptionStyleModel",
      "state": {
       "description_width": ""
      }
     },
     "7eca1b94d3bb4252b141831eb8b39ac5": {
      "model_module": "@jupyter-widgets/controls",
      "model_module_version": "1.4.0",
      "model_name": "DescriptionStyleModel",
      "state": {
       "description_width": ""
      }
     },
     "7eddc889a05646019bd287b72d6aabbc": {
      "model_module": "@jupyter-widgets/base",
      "model_module_version": "1.1.0",
      "model_name": "LayoutModel",
      "state": {}
     },
     "7ef17405d4e94d01a12cc1927c9d8ddc": {
      "model_module": "@jupyter-widgets/controls",
      "model_module_version": "1.4.0",
      "model_name": "CheckboxModel",
      "state": {
       "description": "fit_reg",
       "disabled": false,
       "layout": "IPY_MODEL_cfc4a5908edb4c4a93d0667a48b257bf",
       "style": "IPY_MODEL_5f7602c7919340898561c470a45b136a",
       "value": false
      }
     },
     "7f12727ee20c43b09422e508c3a0dd26": {
      "model_module": "@jupyter-widgets/controls",
      "model_module_version": "1.4.0",
      "model_name": "DropdownModel",
      "state": {
       "_options_labels": [
        "1",
        "2",
        "3",
        "4",
        "5",
        "6",
        "7",
        "8",
        "9",
        "10",
        "11",
        "12",
        "13",
        "14",
        "15",
        "16",
        "17",
        "18",
        "19",
        "20",
        "21",
        "22",
        "23",
        "24",
        "25",
        "26",
        "27",
        "28",
        "29",
        "30",
        "31"
       ],
       "description": "sizes",
       "index": 0,
       "layout": "IPY_MODEL_740f3e98aeb043309ef2227919b75288",
       "style": "IPY_MODEL_d82ae5ec07c3491089ae670ebd32fad0"
      }
     },
     "7f6d60aad8b94000b74374c27ce69994": {
      "model_module": "@jupyter-widgets/controls",
      "model_module_version": "1.4.0",
      "model_name": "IntTextModel",
      "state": {
       "description": "height",
       "layout": "IPY_MODEL_690a1981a33e41e4a472af2e58d0c4ae",
       "step": 1,
       "style": "IPY_MODEL_60bdb9d4306b47608138bf62ce7d99aa",
       "value": 5
      }
     },
     "7f7b31683b2f4e7c98797f359ad6baa2": {
      "model_module": "@jupyter-widgets/controls",
      "model_module_version": "1.4.0",
      "model_name": "DescriptionStyleModel",
      "state": {
       "description_width": ""
      }
     },
     "7fd613c87f5b41889d933a82749e5fce": {
      "model_module": "@jupyter-widgets/controls",
      "model_module_version": "1.4.0",
      "model_name": "DescriptionStyleModel",
      "state": {
       "description_width": ""
      }
     },
     "7fe56adef46d45f48350950e67ee41ca": {
      "model_module": "@jupyter-widgets/controls",
      "model_module_version": "1.4.0",
      "model_name": "DropdownModel",
      "state": {
       "_options_labels": [
        "True",
        "col",
        "row"
       ],
       "description": "sharex",
       "index": 0,
       "layout": "IPY_MODEL_22bdb420b58c49ab837299189fab6abb",
       "style": "IPY_MODEL_f85135716b4c41629d874c580891ace6"
      }
     },
     "80349f145f46449fbe0d97f6939c9807": {
      "model_module": "@jupyter-widgets/controls",
      "model_module_version": "1.4.0",
      "model_name": "DropdownModel",
      "state": {
       "_options_labels": [
        "[barplot] capsize",
        "[barplot] color",
        "[barplot] errwidth",
        "[barplot] hue",
        "[barplot] n_boot",
        "[barplot] orient",
        "[barplot] palette",
        "[barplot] saturation",
        "[barplot] x",
        "[barplot] y"
       ],
       "description": "Controls",
       "index": 9,
       "layout": "IPY_MODEL_a165ba75dc7a4127ae5b10cba117375c",
       "style": "IPY_MODEL_5b53c8cd41a14931805f9a0cb61e2bad"
      }
     },
     "8037de74adb44658adc14ab1fe9de851": {
      "model_module": "@jupyter-widgets/controls",
      "model_module_version": "1.4.0",
      "model_name": "TextModel",
      "state": {
       "description": "axlabel",
       "layout": "IPY_MODEL_01b0f6ac84dc4d46897cc7d939a2118d",
       "style": "IPY_MODEL_601dfeba90ea4f169603dea72970860e"
      }
     },
     "805133d478be404799024a30ce2eebe6": {
      "model_module": "@jupyter-widgets/base",
      "model_module_version": "1.1.0",
      "model_name": "LayoutModel",
      "state": {}
     },
     "805ecd7e04024420bd56f230bd943a48": {
      "model_module": "@jupyter-widgets/controls",
      "model_module_version": "1.4.0",
      "model_name": "FloatTextModel",
      "state": {
       "description": "fliersize",
       "layout": "IPY_MODEL_3742920ef79640fa94eb3b2d8d681993",
       "step": null,
       "style": "IPY_MODEL_4fd1502f88df45b392b2c47e513a4126",
       "value": 1
      }
     },
     "806f104df754494e88ffea872e10f878": {
      "model_module": "@jupyter-widgets/controls",
      "model_module_version": "1.4.0",
      "model_name": "DescriptionStyleModel",
      "state": {
       "description_width": ""
      }
     },
     "808f91c2924946b8a249bc83ec08c552": {
      "model_module": "@jupyter-widgets/controls",
      "model_module_version": "1.4.0",
      "model_name": "DescriptionStyleModel",
      "state": {
       "description_width": ""
      }
     },
     "80909865d0cc457d8022a84b6d25d97e": {
      "model_module": "@jupyter-widgets/controls",
      "model_module_version": "1.4.0",
      "model_name": "DropdownModel",
      "state": {
       "_options_labels": [
        "box",
        "quartile",
        "point",
        "stick"
       ],
       "description": "inner",
       "index": 0,
       "layout": "IPY_MODEL_418bd6c904b44bb5a5e622d1efd831f2",
       "style": "IPY_MODEL_9d6498249e7d44a39ff134ac238091ec"
      }
     },
     "80fb972cbbbd4a0a9e101f496827587b": {
      "model_module": "@jupyter-widgets/base",
      "model_module_version": "1.1.0",
      "model_name": "LayoutModel",
      "state": {}
     },
     "80ff43059ed542f7aecfafa1dd40670f": {
      "model_module": "@jupyter-widgets/controls",
      "model_module_version": "1.4.0",
      "model_name": "DescriptionStyleModel",
      "state": {
       "description_width": ""
      }
     },
     "810ac05519ff41d3bbdd3d55b63edda9": {
      "model_module": "@jupyter-widgets/controls",
      "model_module_version": "1.4.0",
      "model_name": "ButtonModel",
      "state": {
       "description": "remove",
       "layout": "IPY_MODEL_a146f40d73ce4078bb2a2447ea0c23dd",
       "style": "IPY_MODEL_47715d612dcc436abce30c9fb0d64414"
      }
     },
     "8119eee13b1740078af49133caacbbe2": {
      "model_module": "@jupyter-widgets/controls",
      "model_module_version": "1.4.0",
      "model_name": "CheckboxModel",
      "state": {
       "description": "truncate",
       "disabled": false,
       "layout": "IPY_MODEL_bdf70b89a2f14464b62ce35cdbb29f1c",
       "style": "IPY_MODEL_709ae0c33312465ba1b129c8695f69be",
       "value": false
      }
     },
     "812dbabe70c641cca7ede9b920d2a338": {
      "model_module": "@jupyter-widgets/base",
      "model_module_version": "1.1.0",
      "model_name": "LayoutModel",
      "state": {}
     },
     "8142d5dbfed6439691de667c6919276e": {
      "model_module": "@jupyter-widgets/base",
      "model_module_version": "1.1.0",
      "model_name": "LayoutModel",
      "state": {}
     },
     "815ec020e3364910870798b4e740eee9": {
      "model_module": "@jupyter-widgets/controls",
      "model_module_version": "1.4.0",
      "model_name": "IntSliderModel",
      "state": {
       "description": "x_ci",
       "layout": "IPY_MODEL_a242c3ac7d23407aa1aaf3d5966616a0",
       "style": "IPY_MODEL_cb71c104e84c420cb9cc74ecf01827bc",
       "value": 95
      }
     },
     "818ff825ed4149c7818effd6bc70168c": {
      "model_module": "@jupyter-widgets/base",
      "model_module_version": "1.1.0",
      "model_name": "LayoutModel",
      "state": {}
     },
     "8197553886164416848ef0a4a6f92d22": {
      "model_module": "@jupyter-widgets/controls",
      "model_module_version": "1.4.0",
      "model_name": "DescriptionStyleModel",
      "state": {
       "description_width": ""
      }
     },
     "81b4d1dbb3b347548db6d37df6083814": {
      "model_module": "@jupyter-widgets/controls",
      "model_module_version": "1.4.0",
      "model_name": "ButtonModel",
      "state": {
       "description": "remove",
       "layout": "IPY_MODEL_aca56474a7944300817ff9802f7bde94",
       "style": "IPY_MODEL_76b5ec59c67649a7a7848e4b9a20823e"
      }
     },
     "81e57412a78c4f23add625f4438e3294": {
      "model_module": "@jupyter-widgets/controls",
      "model_module_version": "1.4.0",
      "model_name": "DescriptionStyleModel",
      "state": {
       "description_width": ""
      }
     },
     "81f6badf78d443c1bc25146393c61c89": {
      "model_module": "@jupyter-widgets/base",
      "model_module_version": "1.1.0",
      "model_name": "LayoutModel",
      "state": {}
     },
     "8252b0ac571d466b8adc1fe44ae21f93": {
      "model_module": "@jupyter-widgets/base",
      "model_module_version": "1.1.0",
      "model_name": "LayoutModel",
      "state": {}
     },
     "825b50c45b0047a5b5eff3ad36779712": {
      "model_module": "@jupyter-widgets/controls",
      "model_module_version": "1.4.0",
      "model_name": "DescriptionStyleModel",
      "state": {
       "description_width": ""
      }
     },
     "82766c21e5d241a9bde2520028cc8fae": {
      "model_module": "@jupyter-widgets/base",
      "model_module_version": "1.1.0",
      "model_name": "LayoutModel",
      "state": {}
     },
     "829c304608a04722a0176d01690f75d0": {
      "model_module": "@jupyter-widgets/controls",
      "model_module_version": "1.4.0",
      "model_name": "FloatTextModel",
      "state": {
       "description": "linewidth",
       "layout": "IPY_MODEL_40eceaef4f194567828173eec233020c",
       "step": null,
       "style": "IPY_MODEL_d953a4a6724a4a83ac2bc9f0ce0a43e3",
       "value": 1
      }
     },
     "82c791e386624a909973417310b0fb26": {
      "model_module": "@jupyter-widgets/base",
      "model_module_version": "1.1.0",
      "model_name": "LayoutModel",
      "state": {}
     },
     "8328820e1dfa43658b873d807f3f52d2": {
      "model_module": "@jupyter-widgets/base",
      "model_module_version": "1.1.0",
      "model_name": "LayoutModel",
      "state": {}
     },
     "8333723793174efeb3c7b97a5ab14128": {
      "model_module": "@jupyter-widgets/controls",
      "model_module_version": "1.4.0",
      "model_name": "TextModel",
      "state": {
       "description": "color",
       "layout": "IPY_MODEL_e80ce8132940479298c56cfb9db4f580",
       "style": "IPY_MODEL_29d8822c171247a8b5a8668b98dd7e4c",
       "value": "g"
      }
     },
     "83872f618ae3479398bc6adaf90450c7": {
      "model_module": "@jupyter-widgets/controls",
      "model_module_version": "1.4.0",
      "model_name": "DescriptionStyleModel",
      "state": {
       "description_width": ""
      }
     },
     "844d5277f0a54fc6962c63e750ddb0f9": {
      "model_module": "@jupyter-widgets/base",
      "model_module_version": "1.1.0",
      "model_name": "LayoutModel",
      "state": {}
     },
     "8457899a7dca4e44a2c8130ed6b3e3ba": {
      "model_module": "@jupyter-widgets/base",
      "model_module_version": "1.1.0",
      "model_name": "LayoutModel",
      "state": {}
     },
     "847eb6f7b329457ea7249076b60869fa": {
      "model_module": "@jupyter-widgets/base",
      "model_module_version": "1.1.0",
      "model_name": "LayoutModel",
      "state": {}
     },
     "84a21839c0b342c586a04cd935d2ff9f": {
      "model_module": "@jupyter-widgets/base",
      "model_module_version": "1.1.0",
      "model_name": "LayoutModel",
      "state": {}
     },
     "85134810d30d44ccbfc9262c98c26df7": {
      "model_module": "@jupyter-widgets/controls",
      "model_module_version": "1.4.0",
      "model_name": "CheckboxModel",
      "state": {
       "description": "shade_lowest",
       "disabled": false,
       "layout": "IPY_MODEL_6463950fd7554fa6812025c4eaac4fae",
       "style": "IPY_MODEL_481f23de6d254330b94851470b3591d9",
       "value": false
      }
     },
     "8578a929cc8447bf91d36635362d2663": {
      "model_module": "@jupyter-widgets/controls",
      "model_module_version": "1.4.0",
      "model_name": "SliderStyleModel",
      "state": {
       "description_width": ""
      }
     },
     "85b1b215a99c493494ff93f7d1c440d5": {
      "model_module": "@jupyter-widgets/controls",
      "model_module_version": "1.4.0",
      "model_name": "CheckboxModel",
      "state": {
       "description": "shade",
       "disabled": false,
       "layout": "IPY_MODEL_25345724a9574a5aa0280ee8964fa443",
       "style": "IPY_MODEL_0ec2fbda75b4418f9682305252bc3236",
       "value": false
      }
     },
     "85fabb53f7dd4d589e5e2d99c1009528": {
      "model_module": "@jupyter-widgets/controls",
      "model_module_version": "1.4.0",
      "model_name": "ButtonModel",
      "state": {
       "description": "remove",
       "layout": "IPY_MODEL_1124e6581c4b49df9ed917b85c3bcd24",
       "style": "IPY_MODEL_3a8c72ab2567440fa3143000ee38fa62"
      }
     },
     "860d5f47aa434278888d0e54f0b64f03": {
      "model_module": "@jupyter-widgets/base",
      "model_module_version": "1.1.0",
      "model_name": "LayoutModel",
      "state": {}
     },
     "864531b1ef994cb9a3e7d158f8f1c5c5": {
      "model_module": "@jupyter-widgets/controls",
      "model_module_version": "1.4.0",
      "model_name": "CheckboxModel",
      "state": {
       "description": "norm_hist",
       "disabled": false,
       "layout": "IPY_MODEL_5623144d579949c7bf82fee8ed7ba773",
       "style": "IPY_MODEL_62845047e0214921946abe113bd49f95",
       "value": false
      }
     },
     "86623e45d7a14ba2ab48dbd8a37951d5": {
      "model_module": "@jupyter-widgets/controls",
      "model_module_version": "1.4.0",
      "model_name": "DescriptionStyleModel",
      "state": {
       "description_width": ""
      }
     },
     "867a7a9dd4ad48a4b7a2e2cd40e47490": {
      "model_module": "@jupyter-widgets/controls",
      "model_module_version": "1.4.0",
      "model_name": "DropdownModel",
      "state": {
       "_options_labels": [
        "1",
        "2",
        "3",
        "4",
        "5",
        "6",
        "7",
        "8",
        "9",
        "10",
        "11",
        "12",
        "13",
        "14",
        "15",
        "16",
        "17",
        "18",
        "19",
        "20",
        "21",
        "22",
        "23",
        "24",
        "25",
        "26",
        "27",
        "28",
        "29",
        "30",
        "31"
       ],
       "description": "data",
       "index": 0,
       "layout": "IPY_MODEL_f2dff2445d7c48a287f8450540f29489",
       "style": "IPY_MODEL_4bb8f6e9d123448a99bd57523eae732a"
      }
     },
     "86951d04a2ae41fd8678feba910da434": {
      "model_module": "@jupyter-widgets/base",
      "model_module_version": "1.1.0",
      "model_name": "LayoutModel",
      "state": {}
     },
     "86a74f4a0eaf4728a513d2a1b884cfe6": {
      "model_module": "@jupyter-widgets/controls",
      "model_module_version": "1.4.0",
      "model_name": "DropdownModel",
      "state": {
       "_options_labels": [
        "Acceleration",
        "Cylinders",
        "Displacement",
        "Horsepower",
        "Miles_per_Gallon",
        "Name",
        "Origin",
        "Weight_in_lbs",
        "Year"
       ],
       "description": "col",
       "index": 0,
       "layout": "IPY_MODEL_6dc0e3e679da40278033d0e9a1b674e0",
       "style": "IPY_MODEL_885743da67bd494f8975a1bf48c8084f"
      }
     },
     "86a9a920b8ad4f26b0615b50b3e7c3db": {
      "model_module": "@jupyter-widgets/controls",
      "model_module_version": "1.4.0",
      "model_name": "DropdownModel",
      "state": {
       "_options_labels": [
        "1",
        "2",
        "3",
        "4",
        "5",
        "6",
        "7",
        "8",
        "9",
        "10",
        "11",
        "12",
        "13",
        "14",
        "15",
        "16",
        "17",
        "18",
        "19",
        "20",
        "21",
        "22",
        "23",
        "24",
        "25",
        "26",
        "27",
        "28",
        "29",
        "30",
        "31"
       ],
       "description": "size",
       "index": 0,
       "layout": "IPY_MODEL_edb098815bf64da68ad28e4a8368b6ee",
       "style": "IPY_MODEL_565885a9ab754aa1b4dabb8e3ffa7404"
      }
     },
     "86caf61615424f4e9b68f4f0f35daf77": {
      "model_module": "@jupyter-widgets/base",
      "model_module_version": "1.1.0",
      "model_name": "LayoutModel",
      "state": {}
     },
     "8715758456234ec1addf39fa55ae913e": {
      "model_module": "@jupyter-widgets/controls",
      "model_module_version": "1.4.0",
      "model_name": "DropdownModel",
      "state": {
       "_options_labels": [
        "gau",
        "cos",
        "biw",
        "epa",
        "tri",
        "triw"
       ],
       "description": "kernel",
       "index": 0,
       "layout": "IPY_MODEL_8d96fc5676e74a90968a609f0a1938a6",
       "style": "IPY_MODEL_59e75782ee96458889b469bb1665605c"
      }
     },
     "87729122e69c48c6a44b7b6699e119c1": {
      "model_module": "@jupyter-widgets/controls",
      "model_module_version": "1.4.0",
      "model_name": "FloatTextModel",
      "state": {
       "description": "size",
       "layout": "IPY_MODEL_56c260899411452b853ec6f6f0b7c691",
       "step": null,
       "style": "IPY_MODEL_8a63ea13902e4487b3786f270324b9cb",
       "value": 1
      }
     },
     "8784fa73144346c9b609a439e87315e0": {
      "model_module": "@jupyter-widgets/controls",
      "model_module_version": "1.4.0",
      "model_name": "DescriptionStyleModel",
      "state": {
       "description_width": ""
      }
     },
     "87998bcb70564342ba56aca05f550b8a": {
      "model_module": "@jupyter-widgets/controls",
      "model_module_version": "1.4.0",
      "model_name": "SliderStyleModel",
      "state": {
       "description_width": ""
      }
     },
     "87a0b1dd2d234df9b8c070387c921687": {
      "model_module": "@jupyter-widgets/controls",
      "model_module_version": "1.4.0",
      "model_name": "DescriptionStyleModel",
      "state": {
       "description_width": ""
      }
     },
     "87abe9b686564b198d56f58737b5b9ed": {
      "model_module": "@jupyter-widgets/controls",
      "model_module_version": "1.4.0",
      "model_name": "DropdownModel",
      "state": {
       "_options_labels": [
        "Acceleration",
        "Cylinders",
        "Displacement",
        "Horsepower",
        "Miles_per_Gallon",
        "Name",
        "Origin",
        "Weight_in_lbs",
        "Year"
       ],
       "description": "hue",
       "index": 0,
       "layout": "IPY_MODEL_962e0eefb8514c8e951f3efe8f5d086a",
       "style": "IPY_MODEL_75fcc9d64afd44cc821d8a3be14e09fe"
      }
     },
     "87eb2be8a4bb40b09ddf2b8b2a7b6416": {
      "model_module": "@jupyter-widgets/controls",
      "model_module_version": "1.4.0",
      "model_name": "DescriptionStyleModel",
      "state": {
       "description_width": ""
      }
     },
     "88075e13383c4e9db09bd332ba6b9891": {
      "model_module": "@jupyter-widgets/controls",
      "model_module_version": "1.4.0",
      "model_name": "DescriptionStyleModel",
      "state": {
       "description_width": ""
      }
     },
     "8811afc8bc8e4531957e7747f8e05110": {
      "model_module": "@jupyter-widgets/controls",
      "model_module_version": "1.4.0",
      "model_name": "DropdownModel",
      "state": {
       "_options_labels": [
        "scatter",
        "reg",
        "resid",
        "kde",
        "hex"
       ],
       "description": "kind",
       "index": 0,
       "layout": "IPY_MODEL_1c07b7381bd14e06a18467aaf956b50c",
       "style": "IPY_MODEL_e80ded6a24d4476fbb9eaf99ea893fe7"
      }
     },
     "8844f348b355422f8bf86d20c85b4185": {
      "model_module": "@jupyter-widgets/controls",
      "model_module_version": "1.4.0",
      "model_name": "DropdownModel",
      "state": {
       "_options_labels": [
        "scatter",
        "reg",
        "resid",
        "kde",
        "hex"
       ],
       "description": "kind",
       "index": 0,
       "layout": "IPY_MODEL_c95c10dd0e184c2db60e33994b78d9c8",
       "style": "IPY_MODEL_b69d68f0b9444b0d833df5a8438aede4"
      }
     },
     "8856ecbada7b48feb5f5732d8fad05e3": {
      "model_module": "@jupyter-widgets/controls",
      "model_module_version": "1.4.0",
      "model_name": "DescriptionStyleModel",
      "state": {
       "description_width": ""
      }
     },
     "885743da67bd494f8975a1bf48c8084f": {
      "model_module": "@jupyter-widgets/controls",
      "model_module_version": "1.4.0",
      "model_name": "DescriptionStyleModel",
      "state": {
       "description_width": ""
      }
     },
     "88894f9e328a41d395a6324f531c1123": {
      "model_module": "@jupyter-widgets/controls",
      "model_module_version": "1.4.0",
      "model_name": "DescriptionStyleModel",
      "state": {
       "description_width": ""
      }
     },
     "88899979de4442978a22f13e077adbc5": {
      "model_module": "@jupyter-widgets/controls",
      "model_module_version": "1.4.0",
      "model_name": "DescriptionStyleModel",
      "state": {
       "description_width": ""
      }
     },
     "88d22d034a0a494696860d3624448a3a": {
      "model_module": "@jupyter-widgets/controls",
      "model_module_version": "1.4.0",
      "model_name": "DropdownModel",
      "state": {
       "_options_labels": [
        "Acceleration",
        "Cylinders",
        "Displacement",
        "Horsepower",
        "Miles_per_Gallon",
        "Name",
        "Origin",
        "Weight_in_lbs",
        "Year"
       ],
       "description": "data2",
       "index": 0,
       "layout": "IPY_MODEL_0d8cf493e7474a51bf518cfe3dd570de",
       "style": "IPY_MODEL_cf191d9b89e443cfaf7a1e91fa8aaca9"
      }
     },
     "88e7426b0e0a46998f2402cde02a732e": {
      "model_module": "@jupyter-widgets/controls",
      "model_module_version": "1.4.0",
      "model_name": "DescriptionStyleModel",
      "state": {
       "description_width": ""
      }
     },
     "88e86160d8d649faafbd006bd912beb2": {
      "model_module": "@jupyter-widgets/controls",
      "model_module_version": "1.4.0",
      "model_name": "DescriptionStyleModel",
      "state": {
       "description_width": ""
      }
     },
     "88eb6ac03b3a4520a043339c6ff26573": {
      "model_module": "@jupyter-widgets/controls",
      "model_module_version": "1.4.0",
      "model_name": "DropdownModel",
      "state": {
       "_options_labels": [
        "Acceleration",
        "Cylinders",
        "Displacement",
        "Horsepower",
        "Miles_per_Gallon",
        "Name",
        "Origin",
        "Weight_in_lbs",
        "Year"
       ],
       "description": "y_partial",
       "index": 0,
       "layout": "IPY_MODEL_7a3a0a87a89b44ac97f84bb9a75bada2",
       "style": "IPY_MODEL_27c01edf49664b66aee4dfa1b2b28511"
      }
     },
     "8904b00ca4f34908a569162f371859ad": {
      "model_module": "@jupyter-widgets/controls",
      "model_module_version": "1.4.0",
      "model_name": "HBoxModel",
      "state": {
       "children": [
        "IPY_MODEL_45e36ed79fb74149952498032a771c2f"
       ],
       "layout": "IPY_MODEL_9aaf921e521642189049710834b0b99f"
      }
     },
     "890f5d4311904a40b87d39be23bd7e2c": {
      "model_module": "@jupyter-widgets/controls",
      "model_module_version": "1.4.0",
      "model_name": "DescriptionStyleModel",
      "state": {
       "description_width": ""
      }
     },
     "8910346445514d6a8d100ddec65ff6a4": {
      "model_module": "@jupyter-widgets/controls",
      "model_module_version": "1.4.0",
      "model_name": "CheckboxModel",
      "state": {
       "description": "robust",
       "disabled": false,
       "layout": "IPY_MODEL_3497d8dd397d437298e72d30f00e9fd7",
       "style": "IPY_MODEL_944b59967ed4437ea4d3bdffb86dc8d0",
       "value": false
      }
     },
     "8914832c5180444babdb6d292643c631": {
      "model_module": "@jupyter-widgets/base",
      "model_module_version": "1.1.0",
      "model_name": "LayoutModel",
      "state": {}
     },
     "892aa9681cfc44cfa607736bb59b989f": {
      "model_module": "@jupyter-widgets/base",
      "model_module_version": "1.1.0",
      "model_name": "LayoutModel",
      "state": {}
     },
     "8965793809464805854c2addfb3a4934": {
      "model_module": "@jupyter-widgets/controls",
      "model_module_version": "1.4.0",
      "model_name": "DescriptionStyleModel",
      "state": {
       "description_width": ""
      }
     },
     "896a172ed4e54193a9c8b98b44610ce8": {
      "model_module": "@jupyter-widgets/controls",
      "model_module_version": "1.4.0",
      "model_name": "DescriptionStyleModel",
      "state": {
       "description_width": ""
      }
     },
     "898b19b78028407ba6b0411dcb6497bf": {
      "model_module": "@jupyter-widgets/controls",
      "model_module_version": "1.4.0",
      "model_name": "DescriptionStyleModel",
      "state": {
       "description_width": ""
      }
     },
     "8993fd3002104a369df3aa0a6ed9afc2": {
      "model_module": "@jupyter-widgets/controls",
      "model_module_version": "1.4.0",
      "model_name": "FloatTextModel",
      "state": {
       "description": "fliersize",
       "layout": "IPY_MODEL_5903756d37d84e54852450aa393aac9f",
       "step": null,
       "style": "IPY_MODEL_c2e5d8c8d01549b384f69d6279763125",
       "value": 1
      }
     },
     "89b3860623ad4c78ad85d08cd23baf36": {
      "model_module": "@jupyter-widgets/controls",
      "model_module_version": "1.4.0",
      "model_name": "DescriptionStyleModel",
      "state": {
       "description_width": ""
      }
     },
     "8a08aed1e1c54035bf0e71377c808c26": {
      "model_module": "@jupyter-widgets/controls",
      "model_module_version": "1.4.0",
      "model_name": "DescriptionStyleModel",
      "state": {
       "description_width": ""
      }
     },
     "8a63ea13902e4487b3786f270324b9cb": {
      "model_module": "@jupyter-widgets/controls",
      "model_module_version": "1.4.0",
      "model_name": "DescriptionStyleModel",
      "state": {
       "description_width": ""
      }
     },
     "8a90b5d0f95a4054af7595a8c0f8b0f1": {
      "model_module": "@jupyter-widgets/base",
      "model_module_version": "1.1.0",
      "model_name": "LayoutModel",
      "state": {}
     },
     "8aa339e69a4a462380ce02db4f7a46ac": {
      "model_module": "@jupyter-widgets/base",
      "model_module_version": "1.1.0",
      "model_name": "LayoutModel",
      "state": {}
     },
     "8ab49021c94947f99c4fff8ef4177eef": {
      "model_module": "@jupyter-widgets/controls",
      "model_module_version": "1.4.0",
      "model_name": "DropdownModel",
      "state": {
       "_options_labels": [
        "Acceleration",
        "Cylinders",
        "Displacement",
        "Horsepower",
        "Miles_per_Gallon",
        "Name",
        "Origin",
        "Weight_in_lbs",
        "Year"
       ],
       "description": "size",
       "index": 0,
       "layout": "IPY_MODEL_f35e72c6b608427f98710b767d12da6f",
       "style": "IPY_MODEL_0f4fec43b651462ab360707c220c8e0e"
      }
     },
     "8ab744c053c14fd2b7625bed1815b8fa": {
      "model_module": "@jupyter-widgets/base",
      "model_module_version": "1.1.0",
      "model_name": "LayoutModel",
      "state": {}
     },
     "8ac9800457c5492a8a19cd6ab1b859c5": {
      "model_module": "@jupyter-widgets/controls",
      "model_module_version": "1.4.0",
      "model_name": "CheckboxModel",
      "state": {
       "description": "legend_out",
       "disabled": false,
       "layout": "IPY_MODEL_6d406ac869094748ae557f6fbf20b5ad",
       "style": "IPY_MODEL_cb3fca2906094569a063b4a784e85636",
       "value": false
      }
     },
     "8ad82af3d0ab40abaaab0c58b4b8980c": {
      "model_module": "@jupyter-widgets/controls",
      "model_module_version": "1.4.0",
      "model_name": "IntTextModel",
      "state": {
       "description": "space",
       "layout": "IPY_MODEL_5bace7636ae9448f9b3a8f23bd1aa368",
       "step": 1,
       "style": "IPY_MODEL_8965793809464805854c2addfb3a4934",
       "value": 1
      }
     },
     "8af56da6e0b446fe93b6d38c5b0d864f": {
      "model_module": "@jupyter-widgets/controls",
      "model_module_version": "1.4.0",
      "model_name": "FloatTextModel",
      "state": {
       "description": "capsize",
       "layout": "IPY_MODEL_a7ee7bee631a43ada3558f93e279e954",
       "step": null,
       "style": "IPY_MODEL_dc5fbf88dd0e4ed7bb27f2247bbdd197",
       "value": 1
      }
     },
     "8b03e0f8bdc349b9bbd1a8408d5523df": {
      "model_module": "@jupyter-widgets/controls",
      "model_module_version": "1.4.0",
      "model_name": "FloatTextModel",
      "state": {
       "description": "cut",
       "layout": "IPY_MODEL_103a0162747147c68af0c501468b3ee1",
       "step": null,
       "style": "IPY_MODEL_5f8ab16ae3114e6f91987d9d1b66173b",
       "value": 1
      }
     },
     "8b072a42166e4d7aaa29dd55870ddf66": {
      "model_module": "@jupyter-widgets/controls",
      "model_module_version": "1.4.0",
      "model_name": "DescriptionStyleModel",
      "state": {
       "description_width": ""
      }
     },
     "8b374bc9ea804db0bd906794381c3711": {
      "model_module": "@jupyter-widgets/base",
      "model_module_version": "1.1.0",
      "model_name": "LayoutModel",
      "state": {}
     },
     "8bc5284b850840e298fb84365b66156d": {
      "model_module": "@jupyter-widgets/controls",
      "model_module_version": "1.4.0",
      "model_name": "DescriptionStyleModel",
      "state": {
       "description_width": ""
      }
     },
     "8bd0367e57fb41eb914389033ce43d52": {
      "model_module": "@jupyter-widgets/controls",
      "model_module_version": "1.4.0",
      "model_name": "DropdownModel",
      "state": {
       "_options_labels": [
        "linear",
        "exponential",
        "area"
       ],
       "description": "scale",
       "index": 0,
       "layout": "IPY_MODEL_df11025ae33f4746bbbad120157946c6",
       "style": "IPY_MODEL_146367f2d88644e39157f42fb5c379cc"
      }
     },
     "8bd5de49821c449da2e2b72f4b1c5f3c": {
      "model_module": "@jupyter-widgets/controls",
      "model_module_version": "1.4.0",
      "model_name": "DescriptionStyleModel",
      "state": {
       "description_width": ""
      }
     },
     "8bd9b139ef2f463f9a942c5a85e854f5": {
      "model_module": "@jupyter-widgets/base",
      "model_module_version": "1.1.0",
      "model_name": "LayoutModel",
      "state": {}
     },
     "8c094a89b33543f9a204d17af57dcd54": {
      "model_module": "@jupyter-widgets/controls",
      "model_module_version": "1.4.0",
      "model_name": "CheckboxModel",
      "state": {
       "description": "annot",
       "disabled": false,
       "layout": "IPY_MODEL_f7fc9a16188c480082043bb6dbc7df04",
       "style": "IPY_MODEL_49023c5cb1394a41b818fdd7e749bf6b",
       "value": false
      }
     },
     "8c7a5a711053424385e6fec2812690d9": {
      "model_module": "@jupyter-widgets/controls",
      "model_module_version": "1.4.0",
      "model_name": "DropdownModel",
      "state": {
       "_options_labels": [
        "scott",
        "silverman"
       ],
       "description": "bw",
       "index": 0,
       "layout": "IPY_MODEL_757e4aa655a749bf98d4dea2642aec03",
       "style": "IPY_MODEL_890f5d4311904a40b87d39be23bd7e2c"
      }
     },
     "8c981919d9a94af6810b3f5b2e72b812": {
      "model_module": "@jupyter-widgets/controls",
      "model_module_version": "1.4.0",
      "model_name": "DropdownModel",
      "state": {
       "_options_labels": [
        "Acceleration",
        "Cylinders",
        "Displacement",
        "Horsepower",
        "Miles_per_Gallon",
        "Name",
        "Origin",
        "Weight_in_lbs",
        "Year"
       ],
       "description": "row",
       "index": 0,
       "layout": "IPY_MODEL_5b490a9db16640f0b039dd82a3f6c4f2",
       "style": "IPY_MODEL_78d5badb0b2b4dea97bd839d7f1bb690"
      }
     },
     "8ca2a6e46b434f2fbd1d33ced66eedee": {
      "model_module": "@jupyter-widgets/controls",
      "model_module_version": "1.4.0",
      "model_name": "DescriptionStyleModel",
      "state": {
       "description_width": ""
      }
     },
     "8cb7eb9096ee4089838cd1d1b70b9dd5": {
      "model_module": "@jupyter-widgets/controls",
      "model_module_version": "1.4.0",
      "model_name": "DescriptionStyleModel",
      "state": {
       "description_width": ""
      }
     },
     "8d07018791d64e7ba0228fb11864ba13": {
      "model_module": "@jupyter-widgets/controls",
      "model_module_version": "1.4.0",
      "model_name": "DescriptionStyleModel",
      "state": {
       "description_width": ""
      }
     },
     "8d3b5a314f344a86be3e3a6b5d5d0ee8": {
      "model_module": "@jupyter-widgets/base",
      "model_module_version": "1.1.0",
      "model_name": "LayoutModel",
      "state": {}
     },
     "8d3fff8849994e95b3acd0242d290334": {
      "model_module": "@jupyter-widgets/controls",
      "model_module_version": "1.4.0",
      "model_name": "DescriptionStyleModel",
      "state": {
       "description_width": ""
      }
     },
     "8d45fe4f730c4ce7828ae6ed6d901f76": {
      "model_module": "@jupyter-widgets/controls",
      "model_module_version": "1.4.0",
      "model_name": "FloatSliderModel",
      "state": {
       "description": "outlier_prop",
       "layout": "IPY_MODEL_1978962018294e21a68dca3bf1cfb9a7",
       "max": 1,
       "step": 0.001,
       "style": "IPY_MODEL_6ee91899d02d4bbf8e794a5d9e9b5a36",
       "value": 0.007
      }
     },
     "8d75c16142ba4923877967dd14a44c86": {
      "model_module": "@jupyter-widgets/controls",
      "model_module_version": "1.4.0",
      "model_name": "CheckboxModel",
      "state": {
       "description": "robust",
       "disabled": false,
       "layout": "IPY_MODEL_a9fc24c3073a41a08b3d16fcf318a8fa",
       "style": "IPY_MODEL_74615e6b37f24beb9f1e958633c2b9db",
       "value": false
      }
     },
     "8d96fc5676e74a90968a609f0a1938a6": {
      "model_module": "@jupyter-widgets/base",
      "model_module_version": "1.1.0",
      "model_name": "LayoutModel",
      "state": {}
     },
     "8d9e0e184e424849beb38fabfc75bc61": {
      "model_module": "@jupyter-widgets/base",
      "model_module_version": "1.1.0",
      "model_name": "LayoutModel",
      "state": {}
     },
     "8db73a8ec0fb49999f5a9c67615308de": {
      "model_module": "@jupyter-widgets/controls",
      "model_module_version": "1.4.0",
      "model_name": "DropdownModel",
      "state": {
       "_options_labels": [
        "linear",
        "exponential",
        "area"
       ],
       "description": "scale",
       "index": 0,
       "layout": "IPY_MODEL_0566ef27201a4f68a36f06bd3a057863",
       "style": "IPY_MODEL_40062cb9996c43788702172e6de3f4b6"
      }
     },
     "8de1a35c155e46049f9030e0d0acfe32": {
      "model_module": "@jupyter-widgets/controls",
      "model_module_version": "1.4.0",
      "model_name": "DescriptionStyleModel",
      "state": {
       "description_width": ""
      }
     },
     "8df5192455714ebbaf960cea507ca8bc": {
      "model_module": "@jupyter-widgets/controls",
      "model_module_version": "1.4.0",
      "model_name": "LabelModel",
      "state": {
       "layout": "IPY_MODEL_14eb1098fad849049a8e9bb67254a8f8",
       "style": "IPY_MODEL_a1108ab7f7be4eb987a1149bb73edb97",
       "value": "---"
      }
     },
     "8e4ed59013f641ac84ea8dfb426308cc": {
      "model_module": "@jupyter-widgets/controls",
      "model_module_version": "1.4.0",
      "model_name": "DescriptionStyleModel",
      "state": {
       "description_width": ""
      }
     },
     "8e53e3259d7f4d3e9a7f7f7378ebc8d6": {
      "model_module": "@jupyter-widgets/controls",
      "model_module_version": "1.4.0",
      "model_name": "DescriptionStyleModel",
      "state": {
       "description_width": ""
      }
     },
     "8e5f21411b2244f595001e4f0f32d8a8": {
      "model_module": "@jupyter-widgets/controls",
      "model_module_version": "1.4.0",
      "model_name": "DescriptionStyleModel",
      "state": {
       "description_width": ""
      }
     },
     "8e688e9870e14325b6fb41bc0b277812": {
      "model_module": "@jupyter-widgets/controls",
      "model_module_version": "1.4.0",
      "model_name": "DescriptionStyleModel",
      "state": {
       "description_width": ""
      }
     },
     "8e77b3668c0d4aa680b29c53503db813": {
      "model_module": "@jupyter-widgets/base",
      "model_module_version": "1.1.0",
      "model_name": "LayoutModel",
      "state": {}
     },
     "8e80399a59364e83bb06cdcebb59ea04": {
      "model_module": "@jupyter-widgets/controls",
      "model_module_version": "1.4.0",
      "model_name": "DescriptionStyleModel",
      "state": {
       "description_width": ""
      }
     },
     "8e8e632917244d169e48a25fc1fc0c51": {
      "model_module": "@jupyter-widgets/controls",
      "model_module_version": "1.4.0",
      "model_name": "DescriptionStyleModel",
      "state": {
       "description_width": ""
      }
     },
     "8ec3aa5984064932816e35caf59cda0d": {
      "model_module": "@jupyter-widgets/base",
      "model_module_version": "1.1.0",
      "model_name": "LayoutModel",
      "state": {}
     },
     "8ed82d6631594d2e8dac9b83443db175": {
      "model_module": "@jupyter-widgets/controls",
      "model_module_version": "1.4.0",
      "model_name": "ButtonStyleModel",
      "state": {}
     },
     "8ee6ba7ed9e34080a07ff9a4236b24fd": {
      "model_module": "@jupyter-widgets/base",
      "model_module_version": "1.1.0",
      "model_name": "LayoutModel",
      "state": {}
     },
     "8f00f199eec842e59b1f8f78d575a160": {
      "model_module": "@jupyter-widgets/base",
      "model_module_version": "1.1.0",
      "model_name": "LayoutModel",
      "state": {}
     },
     "8f06f7765e0e4d48a5de81175a6b378f": {
      "model_module": "@jupyter-widgets/controls",
      "model_module_version": "1.4.0",
      "model_name": "DescriptionStyleModel",
      "state": {
       "description_width": ""
      }
     },
     "8f1974992e6b47e0b40fa65722524f66": {
      "model_module": "@jupyter-widgets/base",
      "model_module_version": "1.1.0",
      "model_name": "LayoutModel",
      "state": {}
     },
     "8f7b0d443066491f902a73b2e61adb57": {
      "model_module": "@jupyter-widgets/controls",
      "model_module_version": "1.4.0",
      "model_name": "DescriptionStyleModel",
      "state": {
       "description_width": ""
      }
     },
     "8f90b91fe6424c2eb414499a836aae4c": {
      "model_module": "@jupyter-widgets/base",
      "model_module_version": "1.1.0",
      "model_name": "LayoutModel",
      "state": {}
     },
     "8f95b3e97e654deabf4247c0bf2011ad": {
      "model_module": "@jupyter-widgets/controls",
      "model_module_version": "1.4.0",
      "model_name": "DescriptionStyleModel",
      "state": {
       "description_width": ""
      }
     },
     "8fa8e42cc26c4007bd77b0b824add614": {
      "model_module": "@jupyter-widgets/controls",
      "model_module_version": "1.4.0",
      "model_name": "CheckboxModel",
      "state": {
       "description": "hist",
       "disabled": false,
       "layout": "IPY_MODEL_79d4ff3516a14266bf0557510c5c6b6d",
       "style": "IPY_MODEL_ef4074ab7cb24edd81715036ba1bd3db",
       "value": false
      }
     },
     "904c1910a19549c19492d2e828a8a920": {
      "model_module": "@jupyter-widgets/base",
      "model_module_version": "1.1.0",
      "model_name": "LayoutModel",
      "state": {}
     },
     "9051592a96a7454b93e0085179609878": {
      "model_module": "@jupyter-widgets/base",
      "model_module_version": "1.1.0",
      "model_name": "LayoutModel",
      "state": {}
     },
     "90811c6fc94f4afba00eb5ff6742e2fe": {
      "model_module": "@jupyter-widgets/base",
      "model_module_version": "1.1.0",
      "model_name": "LayoutModel",
      "state": {}
     },
     "90a391bc20d7463fa4d6d77f4c38d143": {
      "model_module": "@jupyter-widgets/controls",
      "model_module_version": "1.4.0",
      "model_name": "DescriptionStyleModel",
      "state": {
       "description_width": ""
      }
     },
     "90a4da96b8fa482db809b728ff56eb7b": {
      "model_module": "@jupyter-widgets/base",
      "model_module_version": "1.1.0",
      "model_name": "LayoutModel",
      "state": {}
     },
     "90aa394591984e5d818e41f8a99a30c7": {
      "model_module": "@jupyter-widgets/base",
      "model_module_version": "1.1.0",
      "model_name": "LayoutModel",
      "state": {}
     },
     "90af6906e64c4b85a4de184e08350f5a": {
      "model_module": "@jupyter-widgets/controls",
      "model_module_version": "1.4.0",
      "model_name": "DescriptionStyleModel",
      "state": {
       "description_width": ""
      }
     },
     "90b55fabb2fd4ca4a0fc42658b929e10": {
      "model_module": "@jupyter-widgets/controls",
      "model_module_version": "1.4.0",
      "model_name": "DescriptionStyleModel",
      "state": {
       "description_width": ""
      }
     },
     "90bd5f2351644a1ba7e2308918110bc4": {
      "model_module": "@jupyter-widgets/controls",
      "model_module_version": "1.4.0",
      "model_name": "ButtonModel",
      "state": {
       "description": "remove",
       "layout": "IPY_MODEL_4368f0bce7da4ee8bbddf2d666dea61d",
       "style": "IPY_MODEL_71c6cd5077df40148afadeec9aff8545"
      }
     },
     "910dc3a26e674f0aaa88cd941d0ce45f": {
      "model_module": "@jupyter-widgets/base",
      "model_module_version": "1.1.0",
      "model_name": "LayoutModel",
      "state": {}
     },
     "915fb755b153429798da76eb8dc41608": {
      "model_module": "@jupyter-widgets/controls",
      "model_module_version": "1.4.0",
      "model_name": "DescriptionStyleModel",
      "state": {
       "description_width": ""
      }
     },
     "91736b0f12934509ae78d68b81de534d": {
      "model_module": "@jupyter-widgets/base",
      "model_module_version": "1.1.0",
      "model_name": "LayoutModel",
      "state": {}
     },
     "9183d00775e84202aff4b682dd37c780": {
      "model_module": "@jupyter-widgets/base",
      "model_module_version": "1.1.0",
      "model_name": "LayoutModel",
      "state": {}
     },
     "91a8ef91c4fa4270a71fefbe98df9710": {
      "model_module": "@jupyter-widgets/base",
      "model_module_version": "1.1.0",
      "model_name": "LayoutModel",
      "state": {}
     },
     "91bd3a9efee742de83f58da86f2cb033": {
      "model_module": "@jupyter-widgets/controls",
      "model_module_version": "1.4.0",
      "model_name": "HBoxModel",
      "state": {
       "children": [
        "IPY_MODEL_34fb785938634b98a8bed9b886f640e8",
        "IPY_MODEL_90bd5f2351644a1ba7e2308918110bc4"
       ],
       "layout": "IPY_MODEL_f00c41639181411ea2f58e317923220b"
      }
     },
     "91d8c12ecb9f4dc7a473aee99f5fd753": {
      "model_module": "@jupyter-widgets/base",
      "model_module_version": "1.1.0",
      "model_name": "LayoutModel",
      "state": {}
     },
     "923b68055b094a1db516f413bba1ae39": {
      "model_module": "@jupyter-widgets/controls",
      "model_module_version": "1.4.0",
      "model_name": "ButtonStyleModel",
      "state": {}
     },
     "926fad5138994b6aa328692da27d50fa": {
      "model_module": "@jupyter-widgets/controls",
      "model_module_version": "1.4.0",
      "model_name": "FloatTextModel",
      "state": {
       "description": "errwidth",
       "layout": "IPY_MODEL_ef67ca7a8e4340fdb5d72cc438c96253",
       "step": null,
       "style": "IPY_MODEL_a9a66b0320cd4aeeaea3e7fcb34e7737",
       "value": 1
      }
     },
     "92afb7c25fab4e1c99449072bf41bebb": {
      "model_module": "@jupyter-widgets/controls",
      "model_module_version": "1.4.0",
      "model_name": "ButtonModel",
      "state": {
       "description": "remove",
       "layout": "IPY_MODEL_933929d345b14f5fbbe1642b32337dda",
       "style": "IPY_MODEL_8ed82d6631594d2e8dac9b83443db175"
      }
     },
     "92e092adb3ae4081b90da4210df359cc": {
      "model_module": "@jupyter-widgets/base",
      "model_module_version": "1.1.0",
      "model_name": "LayoutModel",
      "state": {}
     },
     "92f4d9ac366f42f6b68160b74e10642a": {
      "model_module": "@jupyter-widgets/base",
      "model_module_version": "1.1.0",
      "model_name": "LayoutModel",
      "state": {}
     },
     "92fe0e7f807241029007297c4cde8a5a": {
      "model_module": "@jupyter-widgets/controls",
      "model_module_version": "1.4.0",
      "model_name": "DescriptionStyleModel",
      "state": {
       "description_width": ""
      }
     },
     "933929d345b14f5fbbe1642b32337dda": {
      "model_module": "@jupyter-widgets/base",
      "model_module_version": "1.1.0",
      "model_name": "LayoutModel",
      "state": {}
     },
     "93a960c3e84944c1aaa894521cb4badf": {
      "model_module": "@jupyter-widgets/controls",
      "model_module_version": "1.4.0",
      "model_name": "CheckboxModel",
      "state": {
       "description": "jitter",
       "disabled": false,
       "layout": "IPY_MODEL_4660da9ad80c4bc7a7a08a18c7fb4e56",
       "style": "IPY_MODEL_4d9ae7f0574b4b93ba99ebff753a147e",
       "value": false
      }
     },
     "93d94854e4ca4726b54bf0999925edb5": {
      "model_module": "@jupyter-widgets/controls",
      "model_module_version": "1.4.0",
      "model_name": "ButtonModel",
      "state": {
       "description": "remove",
       "layout": "IPY_MODEL_f5a64899bc09432f88a7d67dd8794d78",
       "style": "IPY_MODEL_55de35e96b13433eb2a523b5bf62c512"
      }
     },
     "93e3715f573e48b6abd75ed19d65d601": {
      "model_module": "@jupyter-widgets/base",
      "model_module_version": "1.1.0",
      "model_name": "LayoutModel",
      "state": {}
     },
     "93f6646fe4e144ec8ef6e846a6305f77": {
      "model_module": "@jupyter-widgets/controls",
      "model_module_version": "1.4.0",
      "model_name": "HBoxModel",
      "state": {
       "children": [
        "IPY_MODEL_cfc2d97257244f37ae7d739927b680b1"
       ],
       "layout": "IPY_MODEL_09ef6405acfe462ba8aada64bdec6eef"
      }
     },
     "940479720f8148648a90c1c0e8cf3c5b": {
      "model_module": "@jupyter-widgets/base",
      "model_module_version": "1.1.0",
      "model_name": "LayoutModel",
      "state": {}
     },
     "940e9c7053854a6d82f0106bd504a2bf": {
      "model_module": "@jupyter-widgets/controls",
      "model_module_version": "1.4.0",
      "model_name": "DescriptionStyleModel",
      "state": {
       "description_width": ""
      }
     },
     "943ce957a5ba41f0a1fb6d9f252c45aa": {
      "model_module": "@jupyter-widgets/base",
      "model_module_version": "1.1.0",
      "model_name": "LayoutModel",
      "state": {}
     },
     "944b59967ed4437ea4d3bdffb86dc8d0": {
      "model_module": "@jupyter-widgets/controls",
      "model_module_version": "1.4.0",
      "model_name": "DescriptionStyleModel",
      "state": {
       "description_width": ""
      }
     },
     "9451c9e157f74473918ad21dc7636e28": {
      "model_module": "@jupyter-widgets/base",
      "model_module_version": "1.1.0",
      "model_name": "LayoutModel",
      "state": {}
     },
     "947902e1bb1d4946afe06cb7fb59c81f": {
      "model_module": "@jupyter-widgets/base",
      "model_module_version": "1.1.0",
      "model_name": "LayoutModel",
      "state": {}
     },
     "94827f0c89d34a869b383e684a04a644": {
      "model_module": "@jupyter-widgets/controls",
      "model_module_version": "1.4.0",
      "model_name": "DescriptionStyleModel",
      "state": {
       "description_width": ""
      }
     },
     "951cdc47859a47caa3cde8ff0d3946a9": {
      "model_module": "@jupyter-widgets/controls",
      "model_module_version": "1.4.0",
      "model_name": "DescriptionStyleModel",
      "state": {
       "description_width": ""
      }
     },
     "95373f7ab3324fa6bd4d08c4356b5561": {
      "model_module": "@jupyter-widgets/base",
      "model_module_version": "1.1.0",
      "model_name": "LayoutModel",
      "state": {}
     },
     "953c393515f043159a80f0217bc3e262": {
      "model_module": "@jupyter-widgets/controls",
      "model_module_version": "1.4.0",
      "model_name": "DescriptionStyleModel",
      "state": {
       "description_width": ""
      }
     },
     "9548b7cddb7543648b911fa0da5793aa": {
      "model_module": "@jupyter-widgets/controls",
      "model_module_version": "1.4.0",
      "model_name": "DropdownModel",
      "state": {
       "_options_labels": [
        "o",
        "v",
        "^",
        "<",
        ">",
        "8",
        "s",
        "p",
        "*",
        "h",
        "H",
        "D",
        "d",
        "P",
        "X"
       ],
       "description": "marker",
       "index": 0,
       "layout": "IPY_MODEL_9a14ba376a00416e98c83a0751e30dcc",
       "style": "IPY_MODEL_7ab77b0086184e208ad0af1ea8e42a08"
      }
     },
     "9552294d936c40929dfa982cddb2631d": {
      "model_module": "@jupyter-widgets/base",
      "model_module_version": "1.1.0",
      "model_name": "LayoutModel",
      "state": {}
     },
     "9568acca0c2a4987b548eb35cc53868c": {
      "model_module": "@jupyter-widgets/base",
      "model_module_version": "1.1.0",
      "model_name": "LayoutModel",
      "state": {}
     },
     "956d35e4ffa14e1ba369e22a39ea64bc": {
      "model_module": "@jupyter-widgets/controls",
      "model_module_version": "1.4.0",
      "model_name": "CheckboxModel",
      "state": {
       "description": "kde",
       "disabled": false,
       "layout": "IPY_MODEL_22a7263f472c44c3a3bad21b21570c1b",
       "style": "IPY_MODEL_4b45e87c8f4444798e2006cc31647680",
       "value": false
      }
     },
     "95992e18938e4151bcc7bd293aedbb07": {
      "model_module": "@jupyter-widgets/controls",
      "model_module_version": "1.4.0",
      "model_name": "DropdownModel",
      "state": {
       "_options_labels": [
        "scatter",
        "reg",
        "resid",
        "kde",
        "hex"
       ],
       "description": "kind",
       "index": 0,
       "layout": "IPY_MODEL_e7310c3ec9be44c2b2238cbb565b74fe",
       "style": "IPY_MODEL_69a2d6a4dc4949c9895ca52e80e49ac3"
      }
     },
     "95d25900314e49e79095f3f004722ae8": {
      "model_module": "@jupyter-widgets/controls",
      "model_module_version": "1.4.0",
      "model_name": "DescriptionStyleModel",
      "state": {
       "description_width": ""
      }
     },
     "95f4d63fe825414a9a7f490a68d485e3": {
      "model_module": "@jupyter-widgets/base",
      "model_module_version": "1.1.0",
      "model_name": "LayoutModel",
      "state": {}
     },
     "95f8fb2baeef4cfdb5b208cc7415e9c6": {
      "model_module": "@jupyter-widgets/controls",
      "model_module_version": "1.4.0",
      "model_name": "HBoxModel",
      "state": {
       "children": [
        "IPY_MODEL_a2213b5975c64ed4b5dd725d99dcaf05",
        "IPY_MODEL_116b3b7e7511460597247d610726f2b9"
       ],
       "layout": "IPY_MODEL_40f6b9245fd44612a5771537cef7da2e"
      }
     },
     "9604f2e4d7114eab9e9d69b6638c05ad": {
      "model_module": "@jupyter-widgets/controls",
      "model_module_version": "1.4.0",
      "model_name": "CheckboxModel",
      "state": {
       "description": "truncate",
       "disabled": false,
       "layout": "IPY_MODEL_fbf02a4945564b7fbfae8f34dedd653e",
       "style": "IPY_MODEL_92fe0e7f807241029007297c4cde8a5a",
       "value": false
      }
     },
     "962e0eefb8514c8e951f3efe8f5d086a": {
      "model_module": "@jupyter-widgets/base",
      "model_module_version": "1.1.0",
      "model_name": "LayoutModel",
      "state": {}
     },
     "9634e5b807cb41099b3e9c3ed7919503": {
      "model_module": "@jupyter-widgets/controls",
      "model_module_version": "1.4.0",
      "model_name": "LabelModel",
      "state": {
       "layout": "IPY_MODEL_561bd02160d44f36b8ed4fdba3c5e0ee",
       "style": "IPY_MODEL_752f4bbef5e14c51a6a376566ba4ef60",
       "value": "---"
      }
     },
     "9675b42c7a8249b0ba6282339f7a2056": {
      "model_module": "@jupyter-widgets/base",
      "model_module_version": "1.1.0",
      "model_name": "LayoutModel",
      "state": {}
     },
     "96870fa3ab8a4f35b97ddd0920cbfe00": {
      "model_module": "@jupyter-widgets/base",
      "model_module_version": "1.1.0",
      "model_name": "LayoutModel",
      "state": {}
     },
     "96a8304358944b1a928205da1d0e56b1": {
      "model_module": "@jupyter-widgets/controls",
      "model_module_version": "1.4.0",
      "model_name": "DescriptionStyleModel",
      "state": {
       "description_width": ""
      }
     },
     "96c98d2aed10414ead80aad837738893": {
      "model_module": "@jupyter-widgets/controls",
      "model_module_version": "1.4.0",
      "model_name": "ButtonStyleModel",
      "state": {}
     },
     "974cc665e126434abff01a2dc719c2f7": {
      "model_module": "@jupyter-widgets/controls",
      "model_module_version": "1.4.0",
      "model_name": "CheckboxModel",
      "state": {
       "description": "cumulative",
       "disabled": false,
       "layout": "IPY_MODEL_f457e83e1e5d4361b69dc832f1645564",
       "style": "IPY_MODEL_ea414071f086462590af824311906ddd",
       "value": false
      }
     },
     "9769f50183aa4cd3a7f25d708812d8ab": {
      "model_module": "@jupyter-widgets/controls",
      "model_module_version": "1.4.0",
      "model_name": "DropdownModel",
      "state": {
       "_options_labels": [
        "True",
        "col",
        "row"
       ],
       "description": "sharex",
       "index": 0,
       "layout": "IPY_MODEL_e9de2dcf9ac34e61b4885ff71ade5f90",
       "style": "IPY_MODEL_8de1a35c155e46049f9030e0d0acfe32"
      }
     },
     "977182c777e5493e8905c34a00ae2d37": {
      "model_module": "@jupyter-widgets/controls",
      "model_module_version": "1.4.0",
      "model_name": "LabelModel",
      "state": {
       "layout": "IPY_MODEL_d8ed4c59e19441f39e246bfbd16bc8cd",
       "style": "IPY_MODEL_7ad07105dab44cc39afa65603b5034a0",
       "value": "---"
      }
     },
     "979d68444d4c49d09ec6f4037ec9c5ec": {
      "model_module": "@jupyter-widgets/controls",
      "model_module_version": "1.4.0",
      "model_name": "IntTextModel",
      "state": {
       "description": "gridsize",
       "layout": "IPY_MODEL_065f1a8a62cc4090b9cd5efe98ac0ab9",
       "step": 1,
       "style": "IPY_MODEL_b7a02c1eb8484eeca6d61c441e9c71ad",
       "value": 100
      }
     },
     "97c2ddf7d223493b9dab45f77e6ae101": {
      "model_module": "@jupyter-widgets/base",
      "model_module_version": "1.1.0",
      "model_name": "LayoutModel",
      "state": {}
     },
     "98b6689aaa9c495dbb7e4c6816596008": {
      "model_module": "@jupyter-widgets/controls",
      "model_module_version": "1.4.0",
      "model_name": "DescriptionStyleModel",
      "state": {
       "description_width": ""
      }
     },
     "98e6153e661d4396a212045b686df49a": {
      "model_module": "@jupyter-widgets/controls",
      "model_module_version": "1.4.0",
      "model_name": "DropdownModel",
      "state": {
       "_options_labels": [
        "proportion",
        "tukey",
        "trustworthy"
       ],
       "description": "k_depth",
       "index": 0,
       "layout": "IPY_MODEL_f2f26125a596483bb465ba8903e5b38f",
       "style": "IPY_MODEL_7146d84b0573481fa1f536423a881d6b"
      }
     },
     "98ff0ffff4c04d2283f91aced3a76209": {
      "model_module": "@jupyter-widgets/controls",
      "model_module_version": "1.4.0",
      "model_name": "FloatTextModel",
      "state": {
       "description": "width",
       "layout": "IPY_MODEL_24cbf1f825444e29a52ac368f9308eab",
       "step": null,
       "style": "IPY_MODEL_607dd2bb4625479e9fd2e1dc8be2b819",
       "value": 1
      }
     },
     "991aa1df3eb44c588c3412221de104b2": {
      "model_module": "@jupyter-widgets/controls",
      "model_module_version": "1.4.0",
      "model_name": "TextModel",
      "state": {
       "description": "palette",
       "layout": "IPY_MODEL_ae937037b3f34c56b05c49f4887b0d61",
       "style": "IPY_MODEL_145fcfa88da64ffaa778845e515ae18b"
      }
     },
     "99914bd7660947eda6c6403a25162ee7": {
      "model_module": "@jupyter-widgets/base",
      "model_module_version": "1.1.0",
      "model_name": "LayoutModel",
      "state": {}
     },
     "999b1e7c6e4042fab26adc1d43bee51c": {
      "model_module": "@jupyter-widgets/base",
      "model_module_version": "1.1.0",
      "model_name": "LayoutModel",
      "state": {}
     },
     "999b7cb52e3d4c4ea50812616b751261": {
      "model_module": "@jupyter-widgets/base",
      "model_module_version": "1.1.0",
      "model_name": "LayoutModel",
      "state": {}
     },
     "99df795390be4fc1baf79e659eed47c9": {
      "model_module": "@jupyter-widgets/controls",
      "model_module_version": "1.4.0",
      "model_name": "DropdownModel",
      "state": {
       "_options_labels": [
        "box",
        "quartile",
        "point",
        "stick"
       ],
       "description": "inner",
       "index": 0,
       "layout": "IPY_MODEL_0cbd88377ea748bb9f3322704778f702",
       "style": "IPY_MODEL_c53e3519ba1243aaabef27add46689c9"
      }
     },
     "9a14ba376a00416e98c83a0751e30dcc": {
      "model_module": "@jupyter-widgets/base",
      "model_module_version": "1.1.0",
      "model_name": "LayoutModel",
      "state": {}
     },
     "9a3163e369d1443d8a98fc0c0df876dd": {
      "model_module": "@jupyter-widgets/controls",
      "model_module_version": "1.4.0",
      "model_name": "TextModel",
      "state": {
       "description": "fmt",
       "layout": "IPY_MODEL_6705d00767d34896b8a2769064e0b3a2",
       "style": "IPY_MODEL_87a0b1dd2d234df9b8c070387c921687"
      }
     },
     "9a3c8d3a888b46c5a66eb2231a64cce0": {
      "model_module": "@jupyter-widgets/base",
      "model_module_version": "1.1.0",
      "model_name": "LayoutModel",
      "state": {}
     },
     "9a4e2f99ff894ced8849e77303aa442a": {
      "model_module": "@jupyter-widgets/controls",
      "model_module_version": "1.4.0",
      "model_name": "DropdownModel",
      "state": {
       "_options_labels": [
        "1",
        "2",
        "3",
        "4",
        "5",
        "6",
        "7",
        "8",
        "9",
        "10",
        "11",
        "12",
        "13",
        "14",
        "15",
        "16",
        "17",
        "18",
        "19",
        "20",
        "21",
        "22",
        "23",
        "24",
        "25",
        "26",
        "27",
        "28",
        "29",
        "30",
        "31"
       ],
       "description": "y_partial",
       "index": 0,
       "layout": "IPY_MODEL_04c2b3523d7b4bc1962026049e78edf5",
       "style": "IPY_MODEL_72f7d60c5e474ce19657c69e7b962e0f"
      }
     },
     "9a55471d39c1490babd29a4ac34e2b14": {
      "model_module": "@jupyter-widgets/controls",
      "model_module_version": "1.4.0",
      "model_name": "CheckboxModel",
      "state": {
       "description": "legend_out",
       "disabled": false,
       "layout": "IPY_MODEL_06211544a55641509ca06954faa21e12",
       "style": "IPY_MODEL_c7f7a74b4534420a999c3876a2d59fe9",
       "value": false
      }
     },
     "9a84a00714fa482d88a464681b1e7044": {
      "model_module": "@jupyter-widgets/base",
      "model_module_version": "1.1.0",
      "model_name": "LayoutModel",
      "state": {}
     },
     "9aaf921e521642189049710834b0b99f": {
      "model_module": "@jupyter-widgets/base",
      "model_module_version": "1.1.0",
      "model_name": "LayoutModel",
      "state": {}
     },
     "9ac2e810854545e0a8c5636beab7ef70": {
      "model_module": "@jupyter-widgets/controls",
      "model_module_version": "1.4.0",
      "model_name": "DescriptionStyleModel",
      "state": {
       "description_width": ""
      }
     },
     "9ada7bb2f3f6433ab072cede86d71025": {
      "model_module": "@jupyter-widgets/controls",
      "model_module_version": "1.4.0",
      "model_name": "HBoxModel",
      "state": {
       "children": [
        "IPY_MODEL_80349f145f46449fbe0d97f6939c9807"
       ],
       "layout": "IPY_MODEL_436efeecc4084b4c9c9197a3ddf62abd"
      }
     },
     "9af387f35ecf440fb20ee6139c76d0d9": {
      "model_module": "@jupyter-widgets/controls",
      "model_module_version": "1.4.0",
      "model_name": "HBoxModel",
      "state": {
       "children": [
        "IPY_MODEL_c04fb2acbabf4541b6a5613d61025925"
       ],
       "layout": "IPY_MODEL_f423db168260458789aa6c804bc0ca39"
      }
     },
     "9b656c66891d4fc0a13471cdd16da514": {
      "model_module": "@jupyter-widgets/controls",
      "model_module_version": "1.4.0",
      "model_name": "ButtonModel",
      "state": {
       "description": "remove",
       "layout": "IPY_MODEL_cb3ef0b81db24ec98979b7f71bcbbff8",
       "style": "IPY_MODEL_c5e77cc465e94c399a63cefa7ac633b5"
      }
     },
     "9b6649d9aaf54715907597eeb8a369fa": {
      "model_module": "@jupyter-widgets/base",
      "model_module_version": "1.1.0",
      "model_name": "LayoutModel",
      "state": {}
     },
     "9b759b11e9ef4115b8d5ce693293eadf": {
      "model_module": "@jupyter-widgets/controls",
      "model_module_version": "1.4.0",
      "model_name": "DescriptionStyleModel",
      "state": {
       "description_width": ""
      }
     },
     "9b7d56ad00124d1db28f1941c6cefb13": {
      "model_module": "@jupyter-widgets/controls",
      "model_module_version": "1.4.0",
      "model_name": "DescriptionStyleModel",
      "state": {
       "description_width": ""
      }
     },
     "9b91c098f9d040a38b6ae75e89981418": {
      "model_module": "@jupyter-widgets/controls",
      "model_module_version": "1.4.0",
      "model_name": "HBoxModel",
      "state": {
       "children": [
        "IPY_MODEL_1efc6c6b6f834e09b7bbcdc82c7eb6ed"
       ],
       "layout": "IPY_MODEL_543dc8b58bee430496840d55844a57a0"
      }
     },
     "9b92e667c9794908af3de8e82f6cbbac": {
      "model_module": "@jupyter-widgets/controls",
      "model_module_version": "1.4.0",
      "model_name": "CheckboxModel",
      "state": {
       "description": "logx",
       "disabled": false,
       "layout": "IPY_MODEL_8d3b5a314f344a86be3e3a6b5d5d0ee8",
       "style": "IPY_MODEL_bfe591bf12784201bc7221e4c520f3c2",
       "value": false
      }
     },
     "9bb029eceeee490986a22b2a5e3bba6d": {
      "model_module": "@jupyter-widgets/controls",
      "model_module_version": "1.4.0",
      "model_name": "CheckboxModel",
      "state": {
       "description": "dropna",
       "disabled": false,
       "layout": "IPY_MODEL_e7e7d96baf2d4120a8e804784f913771",
       "style": "IPY_MODEL_f17f91cf49c44575a70b3e6f130d399c",
       "value": false
      }
     },
     "9c023e0235b742b9adb5a2642e4bd48d": {
      "model_module": "@jupyter-widgets/base",
      "model_module_version": "1.1.0",
      "model_name": "LayoutModel",
      "state": {}
     },
     "9c73cbfc777b452380dc940843ee975d": {
      "model_module": "@jupyter-widgets/controls",
      "model_module_version": "1.4.0",
      "model_name": "IntTextModel",
      "state": {
       "description": "ratio",
       "layout": "IPY_MODEL_6f93cc66f9a54d76b9780f789bcdf580",
       "step": 1,
       "style": "IPY_MODEL_4eca94ea38d04f68ab6926bf4b5ecc4a",
       "value": 1
      }
     },
     "9c893bb35cac4eac887bdc05bd54704b": {
      "model_module": "@jupyter-widgets/controls",
      "model_module_version": "1.4.0",
      "model_name": "TextModel",
      "state": {
       "description": "fmt",
       "layout": "IPY_MODEL_4a16537e468d4281ad9fd8c05f691e58",
       "style": "IPY_MODEL_a95b9f3456df428f9a20bae1585b56ef"
      }
     },
     "9cc9d177a1344aa8aa4d308707f9712e": {
      "model_module": "@jupyter-widgets/controls",
      "model_module_version": "1.4.0",
      "model_name": "DescriptionStyleModel",
      "state": {
       "description_width": ""
      }
     },
     "9cd1f30dfa9d4301b904a44d183a393d": {
      "model_module": "@jupyter-widgets/base",
      "model_module_version": "1.1.0",
      "model_name": "LayoutModel",
      "state": {}
     },
     "9cf04a09e37a46aa886e8c3b642d096a": {
      "model_module": "@jupyter-widgets/controls",
      "model_module_version": "1.4.0",
      "model_name": "ButtonModel",
      "state": {
       "description": "remove",
       "layout": "IPY_MODEL_940479720f8148648a90c1c0e8cf3c5b",
       "style": "IPY_MODEL_fbda66cc41c84f4090c709610f1047ad"
      }
     },
     "9cf240fcf3244a1a9241155928d5c069": {
      "model_module": "@jupyter-widgets/base",
      "model_module_version": "1.1.0",
      "model_name": "LayoutModel",
      "state": {}
     },
     "9d0aab6baa0b4951bb57fcc3f6305fbc": {
      "model_module": "@jupyter-widgets/controls",
      "model_module_version": "1.4.0",
      "model_name": "IntTextModel",
      "state": {
       "description": "height",
       "layout": "IPY_MODEL_92f4d9ac366f42f6b68160b74e10642a",
       "step": 1,
       "style": "IPY_MODEL_3cced08004844166badacf6f8fe2a83c",
       "value": 5
      }
     },
     "9d2945fd92ce4ef39e677cb7b3d49b60": {
      "model_module": "@jupyter-widgets/controls",
      "model_module_version": "1.4.0",
      "model_name": "DropdownModel",
      "state": {
       "_options_labels": [
        "scatter",
        "line"
       ],
       "description": "kind",
       "index": 0,
       "layout": "IPY_MODEL_5e2bf77801e1418cb154c060affafde8",
       "style": "IPY_MODEL_ac7c7679abec4d878261f57b205028f4"
      }
     },
     "9d6498249e7d44a39ff134ac238091ec": {
      "model_module": "@jupyter-widgets/controls",
      "model_module_version": "1.4.0",
      "model_name": "DescriptionStyleModel",
      "state": {
       "description_width": ""
      }
     },
     "9d79686b2edd44fb991de052a96027a9": {
      "model_module": "@jupyter-widgets/controls",
      "model_module_version": "1.4.0",
      "model_name": "DescriptionStyleModel",
      "state": {
       "description_width": ""
      }
     },
     "9de59f1b02c14b7a97a8147044c715a0": {
      "model_module": "@jupyter-widgets/base",
      "model_module_version": "1.1.0",
      "model_name": "LayoutModel",
      "state": {}
     },
     "9e0556db98614f0a8021aad1a861e263": {
      "model_module": "@jupyter-widgets/controls",
      "model_module_version": "1.4.0",
      "model_name": "FloatTextModel",
      "state": {
       "description": "saturation",
       "layout": "IPY_MODEL_fa21c41af65a4a588abed2e0b17ae7f8",
       "step": null,
       "style": "IPY_MODEL_f8fb731a4d614e3eaa295840881bbeee",
       "value": 1
      }
     },
     "9e388f9538764af99a6350c524cd9195": {
      "model_module": "@jupyter-widgets/controls",
      "model_module_version": "1.4.0",
      "model_name": "ButtonStyleModel",
      "state": {}
     },
     "9e6a5ea4429e4e98816a1964d0791178": {
      "model_module": "@jupyter-widgets/controls",
      "model_module_version": "1.4.0",
      "model_name": "DescriptionStyleModel",
      "state": {
       "description_width": ""
      }
     },
     "9e7e201a30f34101b3f8818c2cad4f39": {
      "model_module": "@jupyter-widgets/controls",
      "model_module_version": "1.4.0",
      "model_name": "HBoxModel",
      "state": {
       "children": [
        "IPY_MODEL_46d2fe8898c947f4889ddd205aa294f2"
       ],
       "layout": "IPY_MODEL_91d8c12ecb9f4dc7a473aee99f5fd753"
      }
     },
     "9ee24ad9dad5463d9ded068de6b33e2d": {
      "model_module": "@jupyter-widgets/controls",
      "model_module_version": "1.4.0",
      "model_name": "DescriptionStyleModel",
      "state": {
       "description_width": ""
      }
     },
     "9ee2ccc908c344748b3dfcf76dad02ea": {
      "model_module": "@jupyter-widgets/controls",
      "model_module_version": "1.4.0",
      "model_name": "DescriptionStyleModel",
      "state": {
       "description_width": ""
      }
     },
     "9ee5cfc36036433299569302e090d75e": {
      "model_module": "@jupyter-widgets/base",
      "model_module_version": "1.1.0",
      "model_name": "LayoutModel",
      "state": {}
     },
     "9ee7621c513240dbbe7832908552288f": {
      "model_module": "@jupyter-widgets/base",
      "model_module_version": "1.1.0",
      "model_name": "LayoutModel",
      "state": {}
     },
     "9f02995e42724f059b43abf7bf5a37fb": {
      "model_module": "@jupyter-widgets/controls",
      "model_module_version": "1.4.0",
      "model_name": "CheckboxModel",
      "state": {
       "description": "scatter",
       "disabled": false,
       "layout": "IPY_MODEL_5c49a165ab3c4ce7a05270c10a25dcc9",
       "style": "IPY_MODEL_0e78d9654706481d90544bc3e995e01d",
       "value": false
      }
     },
     "9f26161d668d4e129806e67a5ea68b6c": {
      "model_module": "@jupyter-widgets/controls",
      "model_module_version": "1.4.0",
      "model_name": "DescriptionStyleModel",
      "state": {
       "description_width": ""
      }
     },
     "9f36467b6e7a4d07a88acfc1680b514a": {
      "model_module": "@jupyter-widgets/controls",
      "model_module_version": "1.4.0",
      "model_name": "DescriptionStyleModel",
      "state": {
       "description_width": ""
      }
     },
     "9f44159cdc7543a5b0e709e05af974a8": {
      "model_module": "@jupyter-widgets/controls",
      "model_module_version": "1.4.0",
      "model_name": "DescriptionStyleModel",
      "state": {
       "description_width": ""
      }
     },
     "9f610652450442cf95af9ad5b0b11d74": {
      "model_module": "@jupyter-widgets/controls",
      "model_module_version": "1.4.0",
      "model_name": "FloatTextModel",
      "state": {
       "description": "x_jitter",
       "layout": "IPY_MODEL_a4f309c6679e41d98fb9b098c8166a33",
       "step": null,
       "style": "IPY_MODEL_c3b0ccb6ab5c42b3a1050fb2497bc80c",
       "value": 1
      }
     },
     "9f63187f9a2148cf9c75213835c0c060": {
      "model_module": "@jupyter-widgets/controls",
      "model_module_version": "1.4.0",
      "model_name": "CheckboxModel",
      "state": {
       "description": "norm_hist",
       "disabled": false,
       "layout": "IPY_MODEL_a30a4c85d9b54a56b7998d44c0a49fb4",
       "style": "IPY_MODEL_e3cad8b08eae42cc9cf4c0cb46314d6e",
       "value": false
      }
     },
     "9f6ccc1939834f23a55f9d93f3335ad2": {
      "model_module": "@jupyter-widgets/controls",
      "model_module_version": "1.4.0",
      "model_name": "FloatTextModel",
      "state": {
       "description": "center",
       "layout": "IPY_MODEL_c9c10834262a4919b3f53be53f99ac47",
       "step": null,
       "style": "IPY_MODEL_663d697a5c434f1db5a0b7a00408b5c3",
       "value": 1
      }
     },
     "9f8f4d77bab8491494c68fc4e42361ca": {
      "model_module": "@jupyter-widgets/base",
      "model_module_version": "1.1.0",
      "model_name": "LayoutModel",
      "state": {}
     },
     "9fd29a31cf604af1b01d9954c6ec52ae": {
      "model_module": "@jupyter-widgets/base",
      "model_module_version": "1.1.0",
      "model_name": "LayoutModel",
      "state": {}
     },
     "9fdcb91b69b94f0a9ad6b66eb9583279": {
      "model_module": "@jupyter-widgets/base",
      "model_module_version": "1.1.0",
      "model_name": "LayoutModel",
      "state": {}
     },
     "a00b9501cce24f91986e030648c19b88": {
      "model_module": "@jupyter-widgets/controls",
      "model_module_version": "1.4.0",
      "model_name": "HBoxModel",
      "state": {
       "children": [
        "IPY_MODEL_60fd1bfbb746484ca4cbbc2db33ef08c"
       ],
       "layout": "IPY_MODEL_44913f950f374c888dde8ce3ba029e5c"
      }
     },
     "a0251fcbead34af6874122b17c941b48": {
      "model_module": "@jupyter-widgets/controls",
      "model_module_version": "1.4.0",
      "model_name": "FloatTextModel",
      "state": {
       "description": "cut",
       "layout": "IPY_MODEL_92e092adb3ae4081b90da4210df359cc",
       "step": null,
       "style": "IPY_MODEL_4e705df79b0145659398eba835c6c714",
       "value": 1
      }
     },
     "a02cc4e8ca3348568eca98da23eabf95": {
      "model_module": "@jupyter-widgets/controls",
      "model_module_version": "1.4.0",
      "model_name": "DescriptionStyleModel",
      "state": {
       "description_width": ""
      }
     },
     "a03a05d1831743438126a2124526271e": {
      "model_module": "@jupyter-widgets/controls",
      "model_module_version": "1.4.0",
      "model_name": "DescriptionStyleModel",
      "state": {
       "description_width": ""
      }
     },
     "a056e9b731aa479693dd0c2bf1b22168": {
      "model_module": "@jupyter-widgets/controls",
      "model_module_version": "1.4.0",
      "model_name": "DescriptionStyleModel",
      "state": {
       "description_width": ""
      }
     },
     "a05fe26267524b0b821c9d77ed315a80": {
      "model_module": "@jupyter-widgets/controls",
      "model_module_version": "1.4.0",
      "model_name": "HBoxModel",
      "state": {
       "children": [
        "IPY_MODEL_ca1d8900714c49e7badf7d5d175609eb",
        "IPY_MODEL_81b4d1dbb3b347548db6d37df6083814"
       ],
       "layout": "IPY_MODEL_69adaa449665413f897a40a55fb51cb0"
      }
     },
     "a08417994a4c44b5b67370c824a0edcc": {
      "model_module": "@jupyter-widgets/base",
      "model_module_version": "1.1.0",
      "model_name": "LayoutModel",
      "state": {}
     },
     "a0951d7b9f3748b1a0a6da654c1f0bfe": {
      "model_module": "@jupyter-widgets/controls",
      "model_module_version": "1.4.0",
      "model_name": "CheckboxModel",
      "state": {
       "description": "truncate",
       "disabled": false,
       "layout": "IPY_MODEL_d87492df143f41d884392fdbb59361a3",
       "style": "IPY_MODEL_b791edc4a8434c08a65dec39717e7113",
       "value": false
      }
     },
     "a0a7823ce59d46ee8dbf1f9f79382cb9": {
      "model_module": "@jupyter-widgets/controls",
      "model_module_version": "1.4.0",
      "model_name": "DescriptionStyleModel",
      "state": {
       "description_width": ""
      }
     },
     "a0c4d3d63c3344e4922b55ac3f8fe2a8": {
      "model_module": "@jupyter-widgets/controls",
      "model_module_version": "1.4.0",
      "model_name": "CheckboxModel",
      "state": {
       "description": "logx",
       "disabled": false,
       "layout": "IPY_MODEL_57111035d4104f479f1c70b4b822ebf3",
       "style": "IPY_MODEL_d468ebec922e4cdea7c666f1e51da22e",
       "value": false
      }
     },
     "a0fa864d0aa3428da741105c586ba166": {
      "model_module": "@jupyter-widgets/base",
      "model_module_version": "1.1.0",
      "model_name": "LayoutModel",
      "state": {}
     },
     "a1108ab7f7be4eb987a1149bb73edb97": {
      "model_module": "@jupyter-widgets/controls",
      "model_module_version": "1.4.0",
      "model_name": "DescriptionStyleModel",
      "state": {
       "description_width": ""
      }
     },
     "a146f40d73ce4078bb2a2447ea0c23dd": {
      "model_module": "@jupyter-widgets/base",
      "model_module_version": "1.1.0",
      "model_name": "LayoutModel",
      "state": {}
     },
     "a1523af842034c609bea542cbc894a66": {
      "model_module": "@jupyter-widgets/controls",
      "model_module_version": "1.4.0",
      "model_name": "DescriptionStyleModel",
      "state": {
       "description_width": ""
      }
     },
     "a165ba75dc7a4127ae5b10cba117375c": {
      "model_module": "@jupyter-widgets/base",
      "model_module_version": "1.1.0",
      "model_name": "LayoutModel",
      "state": {}
     },
     "a17292c7e72e4da68f079727d37a7431": {
      "model_module": "@jupyter-widgets/controls",
      "model_module_version": "1.4.0",
      "model_name": "IntTextModel",
      "state": {
       "description": "col_wrap",
       "layout": "IPY_MODEL_0099a2b774344733b064660304e42dc9",
       "step": 1,
       "style": "IPY_MODEL_2ddfe02c7db84ca3bd8648ea55cb912d",
       "value": 10
      }
     },
     "a1d3c840a6214e958e0947300a5b1c64": {
      "model_module": "@jupyter-widgets/controls",
      "model_module_version": "1.4.0",
      "model_name": "LabelModel",
      "state": {
       "layout": "IPY_MODEL_86951d04a2ae41fd8678feba910da434",
       "style": "IPY_MODEL_61a3848c1b584cd49dc6856d31eccbdf",
       "value": "---"
      }
     },
     "a1d882f7e9314374970281e21a6c6767": {
      "model_module": "@jupyter-widgets/controls",
      "model_module_version": "1.4.0",
      "model_name": "CheckboxModel",
      "state": {
       "description": "notch",
       "disabled": false,
       "layout": "IPY_MODEL_f83b435f5f764217a13ec28edd95869a",
       "style": "IPY_MODEL_a364caaa2c3d4fb5944e85789c83967f",
       "value": false
      }
     },
     "a1dd4a8c69414947bcd1359e49486a35": {
      "model_module": "@jupyter-widgets/controls",
      "model_module_version": "1.4.0",
      "model_name": "DescriptionStyleModel",
      "state": {
       "description_width": ""
      }
     },
     "a20a0fff52364894abaf38a01f49e5b3": {
      "model_module": "@jupyter-widgets/base",
      "model_module_version": "1.1.0",
      "model_name": "LayoutModel",
      "state": {}
     },
     "a210b33b077c4b90bc788b46edf7002a": {
      "model_module": "@jupyter-widgets/controls",
      "model_module_version": "1.4.0",
      "model_name": "CheckboxModel",
      "state": {
       "description": "vertical",
       "disabled": false,
       "layout": "IPY_MODEL_e079e84635a04dc285321358f6f53218",
       "style": "IPY_MODEL_c490d430849941e5862874e07386570f",
       "value": false
      }
     },
     "a2213b5975c64ed4b5dd725d99dcaf05": {
      "model_module": "@jupyter-widgets/controls",
      "model_module_version": "1.4.0",
      "model_name": "DropdownModel",
      "state": {
       "_options_labels": [
        "Acceleration",
        "Cylinders",
        "Displacement",
        "Horsepower",
        "Miles_per_Gallon",
        "Name",
        "Origin",
        "Weight_in_lbs",
        "Year"
       ],
       "description": "x",
       "index": 6,
       "layout": "IPY_MODEL_1764ef11b2234552aef69c18afe06b6f",
       "style": "IPY_MODEL_00100996e0a64f8c83e5c9ce8c40f327"
      }
     },
     "a22854f9daf44606a5f032066b9205af": {
      "model_module": "@jupyter-widgets/base",
      "model_module_version": "1.1.0",
      "model_name": "LayoutModel",
      "state": {}
     },
     "a22c7826425a415f8aed9c4b6a6b8cf3": {
      "model_module": "@jupyter-widgets/controls",
      "model_module_version": "1.4.0",
      "model_name": "FloatSliderModel",
      "state": {
       "description": "outlier_prop",
       "layout": "IPY_MODEL_c33dab576e774a60a23d591fb85fe2b8",
       "max": 1,
       "step": 0.001,
       "style": "IPY_MODEL_59bb60db187c4be6bbe280b2b6f79dad",
       "value": 0.007
      }
     },
     "a242c3ac7d23407aa1aaf3d5966616a0": {
      "model_module": "@jupyter-widgets/base",
      "model_module_version": "1.1.0",
      "model_name": "LayoutModel",
      "state": {}
     },
     "a26a1488e51d4fc2b5815390c97899c2": {
      "model_module": "@jupyter-widgets/controls",
      "model_module_version": "1.4.0",
      "model_name": "DescriptionStyleModel",
      "state": {
       "description_width": ""
      }
     },
     "a2c864fb34e346f49bd3122e2b0724b0": {
      "model_module": "@jupyter-widgets/controls",
      "model_module_version": "1.4.0",
      "model_name": "DescriptionStyleModel",
      "state": {
       "description_width": ""
      }
     },
     "a2d57dc8b2f442b29b451387469dedb2": {
      "model_module": "@jupyter-widgets/controls",
      "model_module_version": "1.4.0",
      "model_name": "DescriptionStyleModel",
      "state": {
       "description_width": ""
      }
     },
     "a30a4c85d9b54a56b7998d44c0a49fb4": {
      "model_module": "@jupyter-widgets/base",
      "model_module_version": "1.1.0",
      "model_name": "LayoutModel",
      "state": {}
     },
     "a329ec5288c94b5097b6634f08e98239": {
      "model_module": "@jupyter-widgets/base",
      "model_module_version": "1.1.0",
      "model_name": "LayoutModel",
      "state": {}
     },
     "a32a3d92070b48be8fbac5f5ec557a8a": {
      "model_module": "@jupyter-widgets/controls",
      "model_module_version": "1.4.0",
      "model_name": "ButtonStyleModel",
      "state": {}
     },
     "a364caaa2c3d4fb5944e85789c83967f": {
      "model_module": "@jupyter-widgets/controls",
      "model_module_version": "1.4.0",
      "model_name": "DescriptionStyleModel",
      "state": {
       "description_width": ""
      }
     },
     "a368cfa9c81f4caca2f3029ff0958a53": {
      "model_module": "@jupyter-widgets/controls",
      "model_module_version": "1.4.0",
      "model_name": "CheckboxModel",
      "state": {
       "description": "cbar_ax",
       "disabled": false,
       "layout": "IPY_MODEL_010d55f56f044d2f8a1c8a7abb50bf93",
       "style": "IPY_MODEL_60fb1a93331b4f7a8fc21c8ec2fff845",
       "value": false
      }
     },
     "a3a0f1feb301427b949e7878c9572054": {
      "model_module": "@jupyter-widgets/controls",
      "model_module_version": "1.4.0",
      "model_name": "DropdownModel",
      "state": {
       "_options_labels": [
        "1",
        "2",
        "3",
        "4",
        "5",
        "6",
        "7",
        "8",
        "9",
        "10",
        "11",
        "12",
        "13",
        "14",
        "15",
        "16",
        "17",
        "18",
        "19",
        "20",
        "21",
        "22",
        "23",
        "24",
        "25",
        "26",
        "27",
        "28",
        "29",
        "30",
        "31"
       ],
       "description": "dashes",
       "index": 0,
       "layout": "IPY_MODEL_003ec1247ec0494b9585ecb288707e52",
       "style": "IPY_MODEL_17278c3844064866a0c021eb8b72a220"
      }
     },
     "a3b50ba83b7847af9ee31f36be7de7ca": {
      "model_module": "@jupyter-widgets/base",
      "model_module_version": "1.1.0",
      "model_name": "LayoutModel",
      "state": {}
     },
     "a3ea148ccd044479bfab789b8fe99421": {
      "model_module": "@jupyter-widgets/controls",
      "model_module_version": "1.4.0",
      "model_name": "DescriptionStyleModel",
      "state": {
       "description_width": ""
      }
     },
     "a499848a84654840a03ebfdd08e8393c": {
      "model_module": "@jupyter-widgets/controls",
      "model_module_version": "1.4.0",
      "model_name": "FloatTextModel",
      "state": {
       "description": "linewidth",
       "layout": "IPY_MODEL_29ce187a598c4cc6a259beee94ed689c",
       "step": null,
       "style": "IPY_MODEL_bce6cec04002470587ae6caf7d6ff5dd",
       "value": 1
      }
     },
     "a4a07668ddf8442b945c73981b9593f2": {
      "model_module": "@jupyter-widgets/controls",
      "model_module_version": "1.4.0",
      "model_name": "DescriptionStyleModel",
      "state": {
       "description_width": ""
      }
     },
     "a4c2267cdac04e47a8a45ef26cf3c365": {
      "model_module": "@jupyter-widgets/base",
      "model_module_version": "1.1.0",
      "model_name": "LayoutModel",
      "state": {}
     },
     "a4c37c03ab8a44758228d02a35300040": {
      "model_module": "@jupyter-widgets/base",
      "model_module_version": "1.1.0",
      "model_name": "LayoutModel",
      "state": {}
     },
     "a4c4e99851ee4ceb805f43bf68413605": {
      "model_module": "@jupyter-widgets/base",
      "model_module_version": "1.1.0",
      "model_name": "LayoutModel",
      "state": {}
     },
     "a4d62227681049c4ab759112f576f783": {
      "model_module": "@jupyter-widgets/base",
      "model_module_version": "1.1.0",
      "model_name": "LayoutModel",
      "state": {}
     },
     "a4dcbc3b3911430aae96e8778c7deec0": {
      "model_module": "@jupyter-widgets/controls",
      "model_module_version": "1.4.0",
      "model_name": "CheckboxModel",
      "state": {
       "description": "norm_hist",
       "disabled": false,
       "layout": "IPY_MODEL_72f6f71dd20149dbaadc538346e16094",
       "style": "IPY_MODEL_fa52124e31ba4149983269f2fa21c998",
       "value": false
      }
     },
     "a4f309c6679e41d98fb9b098c8166a33": {
      "model_module": "@jupyter-widgets/base",
      "model_module_version": "1.1.0",
      "model_name": "LayoutModel",
      "state": {}
     },
     "a51643cfaed94ff2a05cfe93c05b250b": {
      "model_module": "@jupyter-widgets/controls",
      "model_module_version": "1.4.0",
      "model_name": "HBoxModel",
      "state": {
       "children": [
        "IPY_MODEL_db73b82335b64678b1e673d589f23f29"
       ],
       "layout": "IPY_MODEL_5b3fead9a5f242ed98da45a41d825ca8"
      }
     },
     "a54404ed809b41229f9a3abe32294dda": {
      "model_module": "@jupyter-widgets/controls",
      "model_module_version": "1.4.0",
      "model_name": "DescriptionStyleModel",
      "state": {
       "description_width": ""
      }
     },
     "a54ca4fcf5b74fcea586246dd69a80e8": {
      "model_module": "@jupyter-widgets/base",
      "model_module_version": "1.1.0",
      "model_name": "LayoutModel",
      "state": {}
     },
     "a54f40ed4d7a4df6ad58eb6554747e91": {
      "model_module": "@jupyter-widgets/controls",
      "model_module_version": "1.4.0",
      "model_name": "FloatTextModel",
      "state": {
       "description": "cut",
       "layout": "IPY_MODEL_e677c87807904004a8b785822eb3d337",
       "step": null,
       "style": "IPY_MODEL_30a75be54c04407d96f8e52315db044e",
       "value": 1
      }
     },
     "a55275b590424553a78110a0b727d28a": {
      "model_module": "@jupyter-widgets/controls",
      "model_module_version": "1.4.0",
      "model_name": "DescriptionStyleModel",
      "state": {
       "description_width": ""
      }
     },
     "a58d4b114bd446c08bccae7c72647142": {
      "model_module": "@jupyter-widgets/controls",
      "model_module_version": "1.4.0",
      "model_name": "DescriptionStyleModel",
      "state": {
       "description_width": ""
      }
     },
     "a59a78f4e3824c6fb636af71ca492190": {
      "model_module": "@jupyter-widgets/base",
      "model_module_version": "1.1.0",
      "model_name": "LayoutModel",
      "state": {}
     },
     "a5a17aa29d6640428251f117ed8c508a": {
      "model_module": "@jupyter-widgets/controls",
      "model_module_version": "1.4.0",
      "model_name": "DescriptionStyleModel",
      "state": {
       "description_width": ""
      }
     },
     "a5bc925661c64c6981d8b72ac164cdc4": {
      "model_module": "@jupyter-widgets/controls",
      "model_module_version": "1.4.0",
      "model_name": "DescriptionStyleModel",
      "state": {
       "description_width": ""
      }
     },
     "a5cf62a754ea45cfa1782d5ea13dd939": {
      "model_module": "@jupyter-widgets/base",
      "model_module_version": "1.1.0",
      "model_name": "LayoutModel",
      "state": {}
     },
     "a616933a82d342ec99b66028328af3fc": {
      "model_module": "@jupyter-widgets/controls",
      "model_module_version": "1.4.0",
      "model_name": "DescriptionStyleModel",
      "state": {
       "description_width": ""
      }
     },
     "a638d728f2a14e90bef365eadb7b58bb": {
      "model_module": "@jupyter-widgets/controls",
      "model_module_version": "1.4.0",
      "model_name": "DescriptionStyleModel",
      "state": {
       "description_width": ""
      }
     },
     "a67a3dfb82f64fca9f4c4c217d9fea10": {
      "model_module": "@jupyter-widgets/base",
      "model_module_version": "1.1.0",
      "model_name": "LayoutModel",
      "state": {}
     },
     "a680f08b80f34b768ecde752b1b9ce21": {
      "model_module": "@jupyter-widgets/controls",
      "model_module_version": "1.4.0",
      "model_name": "DescriptionStyleModel",
      "state": {
       "description_width": ""
      }
     },
     "a687867042f0497ca0faa01df0e4edc5": {
      "model_module": "@jupyter-widgets/controls",
      "model_module_version": "1.4.0",
      "model_name": "DescriptionStyleModel",
      "state": {
       "description_width": ""
      }
     },
     "a6aec0924e534215b58e5a63a5c4ab49": {
      "model_module": "@jupyter-widgets/base",
      "model_module_version": "1.1.0",
      "model_name": "LayoutModel",
      "state": {}
     },
     "a6d30c43f97a4ff6ad28d9d1162387ef": {
      "model_module": "@jupyter-widgets/base",
      "model_module_version": "1.1.0",
      "model_name": "LayoutModel",
      "state": {}
     },
     "a6e2f9b1b84047248836e8d25d4fdca7": {
      "model_module": "@jupyter-widgets/controls",
      "model_module_version": "1.4.0",
      "model_name": "FloatTextModel",
      "state": {
       "description": "size",
       "layout": "IPY_MODEL_82c791e386624a909973417310b0fb26",
       "step": null,
       "style": "IPY_MODEL_ed7087539ae6451291fbaaf87cb499f9",
       "value": 1
      }
     },
     "a6e3c926b8e44d7b9e3dbe3e33752da7": {
      "model_module": "@jupyter-widgets/controls",
      "model_module_version": "1.4.0",
      "model_name": "DescriptionStyleModel",
      "state": {
       "description_width": ""
      }
     },
     "a721e7d94c8643ef8863444a29ec6dc1": {
      "model_module": "@jupyter-widgets/controls",
      "model_module_version": "1.4.0",
      "model_name": "DropdownModel",
      "state": {
       "_options_labels": [
        "scatter",
        "line"
       ],
       "description": "kind",
       "index": 0,
       "layout": "IPY_MODEL_76ac9401de224618990fcbcf2c3895e5",
       "style": "IPY_MODEL_cd9391530747442b941735932a8706a6"
      }
     },
     "a7394b004c5e4e96882674c2f7640f6d": {
      "model_module": "@jupyter-widgets/controls",
      "model_module_version": "1.4.0",
      "model_name": "DescriptionStyleModel",
      "state": {
       "description_width": ""
      }
     },
     "a7466274ff62441783037671d4c639b1": {
      "model_module": "@jupyter-widgets/base",
      "model_module_version": "1.1.0",
      "model_name": "LayoutModel",
      "state": {}
     },
     "a7ee7bee631a43ada3558f93e279e954": {
      "model_module": "@jupyter-widgets/base",
      "model_module_version": "1.1.0",
      "model_name": "LayoutModel",
      "state": {}
     },
     "a84780dd00ca49f5bf9dd81df14d0f0e": {
      "model_module": "@jupyter-widgets/controls",
      "model_module_version": "1.4.0",
      "model_name": "DescriptionStyleModel",
      "state": {
       "description_width": ""
      }
     },
     "a8767f02cc4e46b7bdc2d4970764541e": {
      "model_module": "@jupyter-widgets/controls",
      "model_module_version": "1.4.0",
      "model_name": "DescriptionStyleModel",
      "state": {
       "description_width": ""
      }
     },
     "a87dcd3bf3aa4694a51b263670bb6e58": {
      "model_module": "@jupyter-widgets/controls",
      "model_module_version": "1.4.0",
      "model_name": "LabelModel",
      "state": {
       "layout": "IPY_MODEL_a22854f9daf44606a5f032066b9205af",
       "style": "IPY_MODEL_0ee558d4cf1a4488ac7d652cfb5851d5",
       "value": "---"
      }
     },
     "a8854709f8dd4b7d83b5b658917ff0cc": {
      "model_module": "@jupyter-widgets/base",
      "model_module_version": "1.1.0",
      "model_name": "LayoutModel",
      "state": {}
     },
     "a88e4f6e69c241619112b57acbd523a8": {
      "model_module": "@jupyter-widgets/base",
      "model_module_version": "1.1.0",
      "model_name": "LayoutModel",
      "state": {}
     },
     "a893b1d33de141458c9286bfdce3a1fd": {
      "model_module": "@jupyter-widgets/controls",
      "model_module_version": "1.4.0",
      "model_name": "DescriptionStyleModel",
      "state": {
       "description_width": ""
      }
     },
     "a8b27daa6260442fac219a7c7e1ba38c": {
      "model_module": "@jupyter-widgets/base",
      "model_module_version": "1.1.0",
      "model_name": "LayoutModel",
      "state": {}
     },
     "a8fd3573d26f4b0597ada9e1d5b6ea93": {
      "model_module": "@jupyter-widgets/controls",
      "model_module_version": "1.4.0",
      "model_name": "DescriptionStyleModel",
      "state": {
       "description_width": ""
      }
     },
     "a9036023f27747c8a82af7c050928f82": {
      "model_module": "@jupyter-widgets/controls",
      "model_module_version": "1.4.0",
      "model_name": "HBoxModel",
      "state": {
       "children": [
        "IPY_MODEL_25498ff9358240f7913ef935755fdf1a"
       ],
       "layout": "IPY_MODEL_e98d9881338c4a1aae6273dfaffca603"
      }
     },
     "a929dff5fe5b40ae9acc36af50a4b612": {
      "model_module": "@jupyter-widgets/base",
      "model_module_version": "1.1.0",
      "model_name": "LayoutModel",
      "state": {}
     },
     "a9335c51035d4f41a2445569075219f3": {
      "model_module": "@jupyter-widgets/base",
      "model_module_version": "1.1.0",
      "model_name": "LayoutModel",
      "state": {}
     },
     "a9542ae622ab4a82bd1cd40aab8c047d": {
      "model_module": "@jupyter-widgets/base",
      "model_module_version": "1.1.0",
      "model_name": "LayoutModel",
      "state": {}
     },
     "a95b9f3456df428f9a20bae1585b56ef": {
      "model_module": "@jupyter-widgets/controls",
      "model_module_version": "1.4.0",
      "model_name": "DescriptionStyleModel",
      "state": {
       "description_width": ""
      }
     },
     "a960f492d2cc49ac9d173282d5b98d3e": {
      "model_module": "@jupyter-widgets/base",
      "model_module_version": "1.1.0",
      "model_name": "LayoutModel",
      "state": {}
     },
     "a9a66b0320cd4aeeaea3e7fcb34e7737": {
      "model_module": "@jupyter-widgets/controls",
      "model_module_version": "1.4.0",
      "model_name": "DescriptionStyleModel",
      "state": {
       "description_width": ""
      }
     },
     "a9fc24c3073a41a08b3d16fcf318a8fa": {
      "model_module": "@jupyter-widgets/base",
      "model_module_version": "1.1.0",
      "model_name": "LayoutModel",
      "state": {}
     },
     "aa458efe28d644819a5d6b0f9991b892": {
      "model_module": "@jupyter-widgets/controls",
      "model_module_version": "1.4.0",
      "model_name": "DropdownModel",
      "state": {
       "_options_labels": [
        "scatter",
        "line"
       ],
       "description": "kind",
       "index": 0,
       "layout": "IPY_MODEL_90a4da96b8fa482db809b728ff56eb7b",
       "style": "IPY_MODEL_413f7d7a12a54841ae46df7e41f351dd"
      }
     },
     "aa638394533248f5b161627f5decbf3e": {
      "model_module": "@jupyter-widgets/controls",
      "model_module_version": "1.4.0",
      "model_name": "CheckboxModel",
      "state": {
       "description": "dropna",
       "disabled": false,
       "layout": "IPY_MODEL_17453afdab574edbbd5ece713a8688f4",
       "style": "IPY_MODEL_bc906e2567744f978642de931a7f29d4",
       "value": false
      }
     },
     "aa6437eab61142bd8a823da8e0fae216": {
      "model_module": "@jupyter-widgets/base",
      "model_module_version": "1.1.0",
      "model_name": "LayoutModel",
      "state": {}
     },
     "aa6c32a3e32b4ea29f90d67aca4f01ec": {
      "model_module": "@jupyter-widgets/controls",
      "model_module_version": "1.4.0",
      "model_name": "DescriptionStyleModel",
      "state": {
       "description_width": ""
      }
     },
     "aa85d18f71a04afe8f8672403bdf6b07": {
      "model_module": "@jupyter-widgets/controls",
      "model_module_version": "1.4.0",
      "model_name": "ButtonModel",
      "state": {
       "description": "remove",
       "layout": "IPY_MODEL_ad950419061e462bbac0a7e87f12b69f",
       "style": "IPY_MODEL_bc0a50dd96c84167871e3f704ed552f2"
      }
     },
     "aa860178319f425999fcd4188019c1cc": {
      "model_module": "@jupyter-widgets/controls",
      "model_module_version": "1.4.0",
      "model_name": "DescriptionStyleModel",
      "state": {
       "description_width": ""
      }
     },
     "aabf3e67086941948c967732fcdf7016": {
      "model_module": "@jupyter-widgets/controls",
      "model_module_version": "1.4.0",
      "model_name": "DropdownModel",
      "state": {
       "_options_labels": [
        "o",
        "v",
        "^",
        "<",
        ">",
        "8",
        "s",
        "p",
        "*",
        "h",
        "H",
        "D",
        "d",
        "P",
        "X"
       ],
       "description": "marker",
       "index": 0,
       "layout": "IPY_MODEL_ad1edf2c4b704849a043581dd03fc182",
       "style": "IPY_MODEL_fa6ff213a938437b8932ae482f25a4db"
      }
     },
     "aac6c136c01f41bdb52c9f5025ce0c67": {
      "model_module": "@jupyter-widgets/controls",
      "model_module_version": "1.4.0",
      "model_name": "CheckboxModel",
      "state": {
       "description": "cbar",
       "disabled": false,
       "layout": "IPY_MODEL_b2a762a921dc47d2896b98c164ca6d93",
       "style": "IPY_MODEL_2b26948d8d79460d9e20737e7428c594",
       "value": false
      }
     },
     "aaca8480b12c41d9a55c34337bc29845": {
      "model_module": "@jupyter-widgets/controls",
      "model_module_version": "1.4.0",
      "model_name": "DropdownModel",
      "state": {
       "_options_labels": [
        "linear",
        "exponential",
        "area"
       ],
       "description": "scale",
       "index": 0,
       "layout": "IPY_MODEL_04934bf25aec4081bdbd20ab17119255",
       "style": "IPY_MODEL_743c787c04a74236ac02b4efd6a902d6"
      }
     },
     "aaeb9211de424bd8842c3d3cdba773c1": {
      "model_module": "@jupyter-widgets/base",
      "model_module_version": "1.1.0",
      "model_name": "LayoutModel",
      "state": {}
     },
     "aaf314fad9064574b38d353979650167": {
      "model_module": "@jupyter-widgets/base",
      "model_module_version": "1.1.0",
      "model_name": "LayoutModel",
      "state": {}
     },
     "ab02b283a6494a709d1041966f7b1793": {
      "model_module": "@jupyter-widgets/base",
      "model_module_version": "1.1.0",
      "model_name": "LayoutModel",
      "state": {}
     },
     "ab19c9ead7bb4c129edfbde305185348": {
      "model_module": "@jupyter-widgets/controls",
      "model_module_version": "1.4.0",
      "model_name": "FloatTextModel",
      "state": {
       "description": "vmin",
       "layout": "IPY_MODEL_0226157520514d9e9e984277bf106240",
       "step": null,
       "style": "IPY_MODEL_489865602f87406c8cc593540e12556b",
       "value": 1
      }
     },
     "ab4dc9bac3984ddd9e24b727801744b0": {
      "model_module": "@jupyter-widgets/controls",
      "model_module_version": "1.4.0",
      "model_name": "TextModel",
      "state": {
       "description": "linecolor",
       "layout": "IPY_MODEL_0845df79491046e2bf1564f78a4f5657",
       "style": "IPY_MODEL_bd4a2a1351884ba3ac10ebdfe9709d95"
      }
     },
     "ab4ddeb2e3bb4d2aaeca127dff95bace": {
      "model_module": "@jupyter-widgets/base",
      "model_module_version": "1.1.0",
      "model_name": "LayoutModel",
      "state": {}
     },
     "ab6dacdc201640d09d43ab841b985e35": {
      "model_module": "@jupyter-widgets/base",
      "model_module_version": "1.1.0",
      "model_name": "LayoutModel",
      "state": {}
     },
     "abefb3eb7d904e6ca5b1b5984960cfe7": {
      "model_module": "@jupyter-widgets/controls",
      "model_module_version": "1.4.0",
      "model_name": "IntTextModel",
      "state": {
       "description": "height",
       "layout": "IPY_MODEL_66a9323123254789b0effa5c5797db7a",
       "step": 1,
       "style": "IPY_MODEL_bab2ba52a7e449e1a5081eb0f11f0864",
       "value": 5
      }
     },
     "ac41f5476d6d4d4d841ca7ccfd8a4c10": {
      "model_module": "@jupyter-widgets/controls",
      "model_module_version": "1.4.0",
      "model_name": "DescriptionStyleModel",
      "state": {
       "description_width": ""
      }
     },
     "ac4f3aad5a3c4d24a6cfe7b4702bbf6c": {
      "model_module": "@jupyter-widgets/controls",
      "model_module_version": "1.4.0",
      "model_name": "FloatTextModel",
      "state": {
       "description": "errwidth",
       "layout": "IPY_MODEL_5407355a3e074858957b40c4509569dc",
       "step": null,
       "style": "IPY_MODEL_419ad48b103e4584aa21326382561f9a",
       "value": 1
      }
     },
     "ac61f2f3b7a9400f9a758ecf9208e987": {
      "model_module": "@jupyter-widgets/controls",
      "model_module_version": "1.4.0",
      "model_name": "DescriptionStyleModel",
      "state": {
       "description_width": ""
      }
     },
     "ac7c7679abec4d878261f57b205028f4": {
      "model_module": "@jupyter-widgets/controls",
      "model_module_version": "1.4.0",
      "model_name": "DescriptionStyleModel",
      "state": {
       "description_width": ""
      }
     },
     "aca56474a7944300817ff9802f7bde94": {
      "model_module": "@jupyter-widgets/base",
      "model_module_version": "1.1.0",
      "model_name": "LayoutModel",
      "state": {}
     },
     "aca968053381465aa163300c82859f72": {
      "model_module": "@jupyter-widgets/controls",
      "model_module_version": "1.4.0",
      "model_name": "CheckboxModel",
      "state": {
       "description": "join",
       "disabled": false,
       "layout": "IPY_MODEL_f0f93f0d8ccc46e0a84c609fb1ddd3b0",
       "style": "IPY_MODEL_d42ec77c4e324f918a69b17b2528194d",
       "value": false
      }
     },
     "acbb8aee16c449989bdcd5e027a4dd0f": {
      "model_module": "@jupyter-widgets/controls",
      "model_module_version": "1.4.0",
      "model_name": "CheckboxModel",
      "state": {
       "description": "margin_titles",
       "disabled": false,
       "layout": "IPY_MODEL_7c5d1bc0a90f4602bf7075a5f538a044",
       "style": "IPY_MODEL_56f420831c044f22a7a3ddeea9a5d621",
       "value": false
      }
     },
     "acbbcdb1141147caabb3b5a957a09af7": {
      "model_module": "@jupyter-widgets/controls",
      "model_module_version": "1.4.0",
      "model_name": "DescriptionStyleModel",
      "state": {
       "description_width": ""
      }
     },
     "acd5a93ec39e43d2851047efe94b82a0": {
      "model_module": "@jupyter-widgets/controls",
      "model_module_version": "1.4.0",
      "model_name": "HBoxModel",
      "state": {
       "children": [
        "IPY_MODEL_b3765923979c4cd5b9d3a59470645ea3",
        "IPY_MODEL_e6cf2db7761c4abfbe77b5fc1d0f7c7d"
       ],
       "layout": "IPY_MODEL_1b8181b7dc6844859deddec11c96a4c7"
      }
     },
     "acf7e582a48a4cf8a004aa5fbfac078e": {
      "model_module": "@jupyter-widgets/base",
      "model_module_version": "1.1.0",
      "model_name": "LayoutModel",
      "state": {}
     },
     "ad04f3debbce421c841a9eb84d20be98": {
      "model_module": "@jupyter-widgets/controls",
      "model_module_version": "1.4.0",
      "model_name": "DescriptionStyleModel",
      "state": {
       "description_width": ""
      }
     },
     "ad0ba6e5e9674ce68ed1e7712d7fd965": {
      "model_module": "@jupyter-widgets/controls",
      "model_module_version": "1.4.0",
      "model_name": "FloatTextModel",
      "state": {
       "description": "size",
       "layout": "IPY_MODEL_2098547fa2f2476b8b1f3dab25d83a01",
       "step": null,
       "style": "IPY_MODEL_898b19b78028407ba6b0411dcb6497bf",
       "value": 1
      }
     },
     "ad1edf2c4b704849a043581dd03fc182": {
      "model_module": "@jupyter-widgets/base",
      "model_module_version": "1.1.0",
      "model_name": "LayoutModel",
      "state": {}
     },
     "ad29a9532ade46cd9c5ea632fb48e4b2": {
      "model_module": "@jupyter-widgets/base",
      "model_module_version": "1.1.0",
      "model_name": "LayoutModel",
      "state": {}
     },
     "ad3a08aed5cb45189f5726d7bebec818": {
      "model_module": "@jupyter-widgets/controls",
      "model_module_version": "1.4.0",
      "model_name": "DropdownModel",
      "state": {
       "_options_labels": [
        "1",
        "2",
        "3",
        "4",
        "5",
        "6",
        "7",
        "8",
        "9",
        "10",
        "11",
        "12",
        "13",
        "14",
        "15",
        "16",
        "17",
        "18",
        "19",
        "20",
        "21",
        "22",
        "23",
        "24",
        "25",
        "26",
        "27",
        "28",
        "29",
        "30",
        "31"
       ],
       "description": "data",
       "index": 0,
       "layout": "IPY_MODEL_4c4b357342534afe9de118334450281c",
       "style": "IPY_MODEL_87eb2be8a4bb40b09ddf2b8b2a7b6416"
      }
     },
     "ad51f28bc46d4929ba54f145ab1ab457": {
      "model_module": "@jupyter-widgets/controls",
      "model_module_version": "1.4.0",
      "model_name": "FloatTextModel",
      "state": {
       "description": "vmax",
       "layout": "IPY_MODEL_149283245b1e4aa189fbb7315cd1e3b0",
       "step": null,
       "style": "IPY_MODEL_9b7d56ad00124d1db28f1941c6cefb13",
       "value": 1
      }
     },
     "ad8c4d0c9f3c4691b7491fbac57f2ff6": {
      "model_module": "@jupyter-widgets/controls",
      "model_module_version": "1.4.0",
      "model_name": "HBoxModel",
      "state": {
       "children": [
        "IPY_MODEL_a1d3c840a6214e958e0947300a5b1c64"
       ],
       "layout": "IPY_MODEL_8ab744c053c14fd2b7625bed1815b8fa"
      }
     },
     "ad950419061e462bbac0a7e87f12b69f": {
      "model_module": "@jupyter-widgets/base",
      "model_module_version": "1.1.0",
      "model_name": "LayoutModel",
      "state": {}
     },
     "ad9eff6ee2af433bad0c85158b544232": {
      "model_module": "@jupyter-widgets/controls",
      "model_module_version": "1.4.0",
      "model_name": "CheckboxModel",
      "state": {
       "description": "scale_hue",
       "disabled": false,
       "layout": "IPY_MODEL_2d65e89116aa456aa3b6714f7e53a1a7",
       "style": "IPY_MODEL_7ddda1e5f7954e53bbc6793b863169d7",
       "value": false
      }
     },
     "adbeec4e44964e909e35e91d0045dc5b": {
      "model_module": "@jupyter-widgets/base",
      "model_module_version": "1.1.0",
      "model_name": "LayoutModel",
      "state": {}
     },
     "adc094f6bba443a783ef1d746bb21815": {
      "model_module": "@jupyter-widgets/controls",
      "model_module_version": "1.4.0",
      "model_name": "CheckboxModel",
      "state": {
       "description": "sort",
       "disabled": false,
       "layout": "IPY_MODEL_698980f74cb345129e78381172cd02c3",
       "style": "IPY_MODEL_3d4706977e3c445e98db6ef81c3983d9",
       "value": false
      }
     },
     "adff781172664840a3fa40441c107970": {
      "model_module": "@jupyter-widgets/controls",
      "model_module_version": "1.4.0",
      "model_name": "DescriptionStyleModel",
      "state": {
       "description_width": ""
      }
     },
     "ae4ae206ed224ce8a5cf318eff584217": {
      "model_module": "@jupyter-widgets/base",
      "model_module_version": "1.1.0",
      "model_name": "LayoutModel",
      "state": {}
     },
     "ae764a05551f4bd8903b31713a052957": {
      "model_module": "@jupyter-widgets/base",
      "model_module_version": "1.1.0",
      "model_name": "LayoutModel",
      "state": {}
     },
     "ae937037b3f34c56b05c49f4887b0d61": {
      "model_module": "@jupyter-widgets/base",
      "model_module_version": "1.1.0",
      "model_name": "LayoutModel",
      "state": {}
     },
     "aea3128dddc34ffc8a167f639c2105ca": {
      "model_module": "@jupyter-widgets/base",
      "model_module_version": "1.1.0",
      "model_name": "LayoutModel",
      "state": {}
     },
     "aeaa0c5d1f7b4fad938317dd16deba13": {
      "model_module": "@jupyter-widgets/base",
      "model_module_version": "1.1.0",
      "model_name": "LayoutModel",
      "state": {}
     },
     "aeb2990dfc164bacb73fc658f72f5aa1": {
      "model_module": "@jupyter-widgets/controls",
      "model_module_version": "1.4.0",
      "model_name": "DropdownModel",
      "state": {
       "_options_labels": [
        "Acceleration",
        "Cylinders",
        "Displacement",
        "Horsepower",
        "Miles_per_Gallon",
        "Name",
        "Origin",
        "Weight_in_lbs",
        "Year"
       ],
       "description": "x",
       "index": 6,
       "layout": "IPY_MODEL_ed24750d479a40c8b3332b71ce84c49e",
       "style": "IPY_MODEL_a056e9b731aa479693dd0c2bf1b22168"
      }
     },
     "aeb5aee51b2946d9a3715be2ab508368": {
      "model_module": "@jupyter-widgets/base",
      "model_module_version": "1.1.0",
      "model_name": "LayoutModel",
      "state": {}
     },
     "aee1590ae1e9407c880d42abb8c4d255": {
      "model_module": "@jupyter-widgets/controls",
      "model_module_version": "1.4.0",
      "model_name": "ButtonModel",
      "state": {
       "description": "remove",
       "layout": "IPY_MODEL_79359614e4454ad199b2ab7bc9ef26be",
       "style": "IPY_MODEL_1a89d7addc5b434bbf8fa2f3820bf3d3"
      }
     },
     "aee380961c77443e918e629cab84c416": {
      "model_module": "@jupyter-widgets/controls",
      "model_module_version": "1.4.0",
      "model_name": "DropdownModel",
      "state": {
       "_options_labels": [
        "proportion",
        "tukey",
        "trustworthy"
       ],
       "description": "k_depth",
       "index": 0,
       "layout": "IPY_MODEL_3f2011994ecb4b5bbccd057d1477bcee",
       "style": "IPY_MODEL_5eb3c363ae7141c4bc74628580c10259"
      }
     },
     "af0678cf490649cd83cc16e0b29f0254": {
      "model_module": "@jupyter-widgets/base",
      "model_module_version": "1.1.0",
      "model_name": "LayoutModel",
      "state": {}
     },
     "af19717bd2654040b7afe9ba4d7b9cf0": {
      "model_module": "@jupyter-widgets/controls",
      "model_module_version": "1.4.0",
      "model_name": "DescriptionStyleModel",
      "state": {
       "description_width": ""
      }
     },
     "af3601addc2e4cb482ab8d804b9537d6": {
      "model_module": "@jupyter-widgets/controls",
      "model_module_version": "1.4.0",
      "model_name": "DescriptionStyleModel",
      "state": {
       "description_width": ""
      }
     },
     "af40b2fa86ef46ea96e1c98225d1f001": {
      "model_module": "@jupyter-widgets/base",
      "model_module_version": "1.1.0",
      "model_name": "LayoutModel",
      "state": {}
     },
     "af5b688f526c4e20882dd50bea9355b8": {
      "model_module": "@jupyter-widgets/base",
      "model_module_version": "1.1.0",
      "model_name": "LayoutModel",
      "state": {}
     },
     "af5be92fcbea4f2bb9b3c0b078bdcd37": {
      "model_module": "@jupyter-widgets/controls",
      "model_module_version": "1.4.0",
      "model_name": "DescriptionStyleModel",
      "state": {
       "description_width": ""
      }
     },
     "af8772de993c4ffcb0a298aaf31e9bec": {
      "model_module": "@jupyter-widgets/controls",
      "model_module_version": "1.4.0",
      "model_name": "CheckboxModel",
      "state": {
       "description": "cumulative",
       "disabled": false,
       "layout": "IPY_MODEL_56f76fe1a48e43c4accf0b340f2c94b9",
       "style": "IPY_MODEL_73ea04aa2e2041a385d5ff6635a1d5cf",
       "value": false
      }
     },
     "afebe14a632844c1b551b5366e72ae15": {
      "model_module": "@jupyter-widgets/base",
      "model_module_version": "1.1.0",
      "model_name": "LayoutModel",
      "state": {}
     },
     "b04f0debfcc045be81a3ccd90eb1a0b7": {
      "model_module": "@jupyter-widgets/base",
      "model_module_version": "1.1.0",
      "model_name": "LayoutModel",
      "state": {}
     },
     "b060f32aab2d430da175bda78e74f531": {
      "model_module": "@jupyter-widgets/base",
      "model_module_version": "1.1.0",
      "model_name": "LayoutModel",
      "state": {}
     },
     "b094446dd7454772add1b8f0752a606d": {
      "model_module": "@jupyter-widgets/base",
      "model_module_version": "1.1.0",
      "model_name": "LayoutModel",
      "state": {}
     },
     "b113eab0e0ac4d99b14ead17cbc9da17": {
      "model_module": "@jupyter-widgets/controls",
      "model_module_version": "1.4.0",
      "model_name": "DescriptionStyleModel",
      "state": {
       "description_width": ""
      }
     },
     "b133873ceae74057989eb86b28ca2043": {
      "model_module": "@jupyter-widgets/controls",
      "model_module_version": "1.4.0",
      "model_name": "FloatTextModel",
      "state": {
       "description": "center",
       "layout": "IPY_MODEL_479e17def84447a18d993914ba31429b",
       "step": null,
       "style": "IPY_MODEL_09c3f65e7f964386a054abf89e493ca6",
       "value": 1
      }
     },
     "b13cfe5f1ee2463ea9d4a69c8d541564": {
      "model_module": "@jupyter-widgets/controls",
      "model_module_version": "1.4.0",
      "model_name": "CheckboxModel",
      "state": {
       "description": "shade_lowest",
       "disabled": false,
       "layout": "IPY_MODEL_2c6e851748454b1ea0bc487c7b6628bd",
       "style": "IPY_MODEL_2db2fa159ac2467ea8446d3189d20b87",
       "value": false
      }
     },
     "b149ea064c3c45dbad4c4c4df7c140d5": {
      "model_module": "@jupyter-widgets/base",
      "model_module_version": "1.1.0",
      "model_name": "LayoutModel",
      "state": {}
     },
     "b15309d960a14e1eafa6d01040e9d8ca": {
      "model_module": "@jupyter-widgets/base",
      "model_module_version": "1.1.0",
      "model_name": "LayoutModel",
      "state": {}
     },
     "b193373600484b269fdd805c7388d0d0": {
      "model_module": "@jupyter-widgets/base",
      "model_module_version": "1.1.0",
      "model_name": "LayoutModel",
      "state": {}
     },
     "b1933ae2b1f24acc8827edecc1c87d12": {
      "model_module": "@jupyter-widgets/controls",
      "model_module_version": "1.4.0",
      "model_name": "FloatTextModel",
      "state": {
       "description": "x_jitter",
       "layout": "IPY_MODEL_8ec3aa5984064932816e35caf59cda0d",
       "step": null,
       "style": "IPY_MODEL_077256e133c44d17b2f207768ba592f0",
       "value": 1
      }
     },
     "b199b07736dd456a92577d9f8dc81bde": {
      "model_module": "@jupyter-widgets/controls",
      "model_module_version": "1.4.0",
      "model_name": "HBoxModel",
      "state": {
       "children": [
        "IPY_MODEL_3b043a50c55340ccaaf37739ea75aeae"
       ],
       "layout": "IPY_MODEL_3961af75f223497db9bed5356d909985"
      }
     },
     "b1a8723ea8f24ceba717f6273d1ee268": {
      "model_module": "@jupyter-widgets/controls",
      "model_module_version": "1.4.0",
      "model_name": "DescriptionStyleModel",
      "state": {
       "description_width": ""
      }
     },
     "b1c46fe48a99481089a06e20275f2aad": {
      "model_module": "@jupyter-widgets/controls",
      "model_module_version": "1.4.0",
      "model_name": "DescriptionStyleModel",
      "state": {
       "description_width": ""
      }
     },
     "b221c820832b45d394fb1efda7c65b2a": {
      "model_module": "@jupyter-widgets/base",
      "model_module_version": "1.1.0",
      "model_name": "LayoutModel",
      "state": {}
     },
     "b23f812a6ab343f1a8910ccce144171f": {
      "model_module": "@jupyter-widgets/controls",
      "model_module_version": "1.4.0",
      "model_name": "FloatTextModel",
      "state": {
       "description": "height",
       "layout": "IPY_MODEL_a8b27daa6260442fac219a7c7e1ba38c",
       "step": null,
       "style": "IPY_MODEL_ffe3dccfdf084bd68bdfaa3cc676695b",
       "value": 1
      }
     },
     "b25e574e6a394d8b93d00210195c70fc": {
      "model_module": "@jupyter-widgets/controls",
      "model_module_version": "1.4.0",
      "model_name": "DescriptionStyleModel",
      "state": {
       "description_width": ""
      }
     },
     "b2613b4130fe4c26b8cbbbc88fbc125b": {
      "model_module": "@jupyter-widgets/controls",
      "model_module_version": "1.4.0",
      "model_name": "IntTextModel",
      "state": {
       "description": "space",
       "layout": "IPY_MODEL_de321b66532148098ca7d2ea6b9ad779",
       "step": 1,
       "style": "IPY_MODEL_b2dadf4bb58745cb8f0bb777b4b9bc6e",
       "value": 1
      }
     },
     "b26761d85f47457d9b46e23c2556c91b": {
      "model_module": "@jupyter-widgets/controls",
      "model_module_version": "1.4.0",
      "model_name": "DescriptionStyleModel",
      "state": {
       "description_width": ""
      }
     },
     "b2913af26c0d496f85cff8e3eff451db": {
      "model_module": "@jupyter-widgets/base",
      "model_module_version": "1.1.0",
      "model_name": "LayoutModel",
      "state": {}
     },
     "b2a762a921dc47d2896b98c164ca6d93": {
      "model_module": "@jupyter-widgets/base",
      "model_module_version": "1.1.0",
      "model_name": "LayoutModel",
      "state": {}
     },
     "b2dadf4bb58745cb8f0bb777b4b9bc6e": {
      "model_module": "@jupyter-widgets/controls",
      "model_module_version": "1.4.0",
      "model_name": "DescriptionStyleModel",
      "state": {
       "description_width": ""
      }
     },
     "b2ddbe14fbe84153beb3f2b87ac350cf": {
      "model_module": "@jupyter-widgets/base",
      "model_module_version": "1.1.0",
      "model_name": "LayoutModel",
      "state": {}
     },
     "b3250422efa540b5ae17fc2334f68d8f": {
      "model_module": "@jupyter-widgets/base",
      "model_module_version": "1.1.0",
      "model_name": "LayoutModel",
      "state": {}
     },
     "b35a7d3c93614b07925f116513b84b4c": {
      "model_module": "@jupyter-widgets/base",
      "model_module_version": "1.1.0",
      "model_name": "LayoutModel",
      "state": {}
     },
     "b36c1c1f2c394a4ab41c87ae47fec525": {
      "model_module": "@jupyter-widgets/base",
      "model_module_version": "1.1.0",
      "model_name": "LayoutModel",
      "state": {}
     },
     "b3765923979c4cd5b9d3a59470645ea3": {
      "model_module": "@jupyter-widgets/controls",
      "model_module_version": "1.4.0",
      "model_name": "DropdownModel",
      "state": {
       "_options_labels": [
        "Acceleration",
        "Cylinders",
        "Displacement",
        "Horsepower",
        "Miles_per_Gallon",
        "Name",
        "Origin",
        "Weight_in_lbs",
        "Year"
       ],
       "description": "y",
       "index": 7,
       "layout": "IPY_MODEL_39de947d83fc48b19e37b0d1213f1359",
       "style": "IPY_MODEL_aa6c32a3e32b4ea29f90d67aca4f01ec"
      }
     },
     "b3811788230f4f589fc8c67bc35b2890": {
      "model_module": "@jupyter-widgets/base",
      "model_module_version": "1.1.0",
      "model_name": "LayoutModel",
      "state": {}
     },
     "b42a7431c45c4480a1d9a0fcb2461900": {
      "model_module": "@jupyter-widgets/base",
      "model_module_version": "1.1.0",
      "model_name": "LayoutModel",
      "state": {}
     },
     "b4cc95d9733448d58694f6c2759025ae": {
      "model_module": "@jupyter-widgets/base",
      "model_module_version": "1.1.0",
      "model_name": "LayoutModel",
      "state": {}
     },
     "b4f16f4fa96b4497a89fa8c5e3e3d5de": {
      "model_module": "@jupyter-widgets/controls",
      "model_module_version": "1.4.0",
      "model_name": "DescriptionStyleModel",
      "state": {
       "description_width": ""
      }
     },
     "b4f7f157f99449c991c1b6572811345f": {
      "model_module": "@jupyter-widgets/controls",
      "model_module_version": "1.4.0",
      "model_name": "HBoxModel",
      "state": {
       "children": [
        "IPY_MODEL_b3765923979c4cd5b9d3a59470645ea3",
        "IPY_MODEL_77416be3deb24224943e2b3b883ed0c7"
       ],
       "layout": "IPY_MODEL_a67a3dfb82f64fca9f4c4c217d9fea10"
      }
     },
     "b4fbd4c312684bf989cda5f65bf80c53": {
      "model_module": "@jupyter-widgets/controls",
      "model_module_version": "1.4.0",
      "model_name": "DropdownModel",
      "state": {
       "_options_labels": [
        "area",
        "count",
        "width"
       ],
       "description": "scale",
       "index": 0,
       "layout": "IPY_MODEL_021deef17c814e6eb2dc5646cb94c675",
       "style": "IPY_MODEL_69992797ac8a4759b21b9d65aa13bb86"
      }
     },
     "b5473338ce6840929f400eb946a21d1f": {
      "model_module": "@jupyter-widgets/controls",
      "model_module_version": "1.4.0",
      "model_name": "DescriptionStyleModel",
      "state": {
       "description_width": ""
      }
     },
     "b550fb46c18e49fe8f1608f074af6f7f": {
      "model_module": "@jupyter-widgets/base",
      "model_module_version": "1.1.0",
      "model_name": "LayoutModel",
      "state": {}
     },
     "b5549a0c4b0d435db7ade4f875ceb03d": {
      "model_module": "@jupyter-widgets/controls",
      "model_module_version": "1.4.0",
      "model_name": "HBoxModel",
      "state": {
       "children": [
        "IPY_MODEL_13d8d52ebdad496cb1de0a6ea9db706a",
        "IPY_MODEL_05e8499346d5410c876a483e4d78f925"
       ],
       "layout": "IPY_MODEL_9552294d936c40929dfa982cddb2631d"
      }
     },
     "b564313452dd4fdead75bacc34ff81d4": {
      "model_module": "@jupyter-widgets/base",
      "model_module_version": "1.1.0",
      "model_name": "LayoutModel",
      "state": {}
     },
     "b56d7f867a224ddf9880ee8655d91816": {
      "model_module": "@jupyter-widgets/base",
      "model_module_version": "1.1.0",
      "model_name": "LayoutModel",
      "state": {}
     },
     "b5919b94a8674e588cf659a03c0b5e92": {
      "model_module": "@jupyter-widgets/base",
      "model_module_version": "1.1.0",
      "model_name": "LayoutModel",
      "state": {}
     },
     "b5c57be9777040b2a58d50bf26849841": {
      "model_module": "@jupyter-widgets/controls",
      "model_module_version": "1.4.0",
      "model_name": "DropdownModel",
      "state": {
       "_options_labels": [
        "Acceleration",
        "Cylinders",
        "Displacement",
        "Horsepower",
        "Miles_per_Gallon",
        "Name",
        "Origin",
        "Weight_in_lbs",
        "Year"
       ],
       "description": "col",
       "index": 0,
       "layout": "IPY_MODEL_6db66aef44c4451fb35e06a33f77b71a",
       "style": "IPY_MODEL_59e222230d9c4f19934dd0faa3260596"
      }
     },
     "b5cd4dc2dd6b4f56a6cfae1fffeac5e4": {
      "model_module": "@jupyter-widgets/base",
      "model_module_version": "1.1.0",
      "model_name": "LayoutModel",
      "state": {}
     },
     "b5eecb16a11f45129af6adace0cfb069": {
      "model_module": "@jupyter-widgets/base",
      "model_module_version": "1.1.0",
      "model_name": "LayoutModel",
      "state": {}
     },
     "b5f4a8fc2a4f4cc9a29b5dbc9e6d901e": {
      "model_module": "@jupyter-widgets/controls",
      "model_module_version": "1.4.0",
      "model_name": "SliderStyleModel",
      "state": {
       "description_width": ""
      }
     },
     "b61290367ae5471f8a64da626328f2ee": {
      "model_module": "@jupyter-widgets/base",
      "model_module_version": "1.1.0",
      "model_name": "LayoutModel",
      "state": {}
     },
     "b61ae2c9349744859f1f3b5eb565f261": {
      "model_module": "@jupyter-widgets/base",
      "model_module_version": "1.1.0",
      "model_name": "LayoutModel",
      "state": {}
     },
     "b627b99b7ce44f5492552d2deb37ef51": {
      "model_module": "@jupyter-widgets/base",
      "model_module_version": "1.1.0",
      "model_name": "LayoutModel",
      "state": {}
     },
     "b63f8554af30467eb1cb2605edd13bca": {
      "model_module": "@jupyter-widgets/controls",
      "model_module_version": "1.4.0",
      "model_name": "DropdownModel",
      "state": {
       "_options_labels": [
        "1",
        "2",
        "3",
        "4",
        "5",
        "6",
        "7",
        "8",
        "9",
        "10",
        "11",
        "12",
        "13",
        "14",
        "15",
        "16",
        "17",
        "18",
        "19",
        "20",
        "21",
        "22",
        "23",
        "24",
        "25",
        "26",
        "27",
        "28",
        "29",
        "30",
        "31"
       ],
       "description": "style",
       "index": 0,
       "layout": "IPY_MODEL_f51e125d8fd84959a35cb5cfc6818e14",
       "style": "IPY_MODEL_7670bd9c0a694209bceb23075f487709"
      }
     },
     "b64613701b2348f4a9a770e5e0b9935c": {
      "model_module": "@jupyter-widgets/base",
      "model_module_version": "1.1.0",
      "model_name": "LayoutModel",
      "state": {}
     },
     "b69d68f0b9444b0d833df5a8438aede4": {
      "model_module": "@jupyter-widgets/controls",
      "model_module_version": "1.4.0",
      "model_name": "DescriptionStyleModel",
      "state": {
       "description_width": ""
      }
     },
     "b6b14666cffc484ab9cc1dcb839df8f6": {
      "model_module": "@jupyter-widgets/controls",
      "model_module_version": "1.4.0",
      "model_name": "DescriptionStyleModel",
      "state": {
       "description_width": ""
      }
     },
     "b6c1dbeedf6f49148c7ad7d55a6d5169": {
      "model_module": "@jupyter-widgets/base",
      "model_module_version": "1.1.0",
      "model_name": "LayoutModel",
      "state": {}
     },
     "b6f4baf532f040af8c13f0f6a6ae6f47": {
      "model_module": "@jupyter-widgets/controls",
      "model_module_version": "1.4.0",
      "model_name": "DescriptionStyleModel",
      "state": {
       "description_width": ""
      }
     },
     "b70e2229af8e47af8979722b8b14a24d": {
      "model_module": "@jupyter-widgets/base",
      "model_module_version": "1.1.0",
      "model_name": "LayoutModel",
      "state": {}
     },
     "b716f2fcdc714d91bedd67a9e6f76205": {
      "model_module": "@jupyter-widgets/base",
      "model_module_version": "1.1.0",
      "model_name": "LayoutModel",
      "state": {}
     },
     "b721eb47d33c4b73ba0f76d82b09b1fd": {
      "model_module": "@jupyter-widgets/controls",
      "model_module_version": "1.4.0",
      "model_name": "ButtonStyleModel",
      "state": {}
     },
     "b726a7a087b94811aea31d793f10ec4d": {
      "model_module": "@jupyter-widgets/controls",
      "model_module_version": "1.4.0",
      "model_name": "DescriptionStyleModel",
      "state": {
       "description_width": ""
      }
     },
     "b781b4c242f74df2bff40e58dd541e3e": {
      "model_module": "@jupyter-widgets/base",
      "model_module_version": "1.1.0",
      "model_name": "LayoutModel",
      "state": {}
     },
     "b78cc167df6f4b6b886ae797fd6c2d91": {
      "model_module": "@jupyter-widgets/base",
      "model_module_version": "1.1.0",
      "model_name": "LayoutModel",
      "state": {}
     },
     "b791edc4a8434c08a65dec39717e7113": {
      "model_module": "@jupyter-widgets/controls",
      "model_module_version": "1.4.0",
      "model_name": "DescriptionStyleModel",
      "state": {
       "description_width": ""
      }
     },
     "b7a02c1eb8484eeca6d61c441e9c71ad": {
      "model_module": "@jupyter-widgets/controls",
      "model_module_version": "1.4.0",
      "model_name": "DescriptionStyleModel",
      "state": {
       "description_width": ""
      }
     },
     "b7a435ba18534d85bdc6daca40f992df": {
      "model_module": "@jupyter-widgets/controls",
      "model_module_version": "1.4.0",
      "model_name": "DropdownModel",
      "state": {
       "_options_labels": [
        "brief",
        "full",
        "False"
       ],
       "description": "legend",
       "index": 0,
       "layout": "IPY_MODEL_ba25fff0f643452aaf5fd02718f9f699",
       "style": "IPY_MODEL_37a75640879b491abbada2a976e9390f"
      }
     },
     "b7d9236a0ab34433b128a0fdde708c46": {
      "model_module": "@jupyter-widgets/base",
      "model_module_version": "1.1.0",
      "model_name": "LayoutModel",
      "state": {}
     },
     "b7ea3952878c4005839d4655e1d16152": {
      "model_module": "@jupyter-widgets/controls",
      "model_module_version": "1.4.0",
      "model_name": "CheckboxModel",
      "state": {
       "description": "logistic",
       "disabled": false,
       "layout": "IPY_MODEL_b4cc95d9733448d58694f6c2759025ae",
       "style": "IPY_MODEL_3cdba894aa154142a4d2c70de720b7f7",
       "value": false
      }
     },
     "b8822095c2854450bf52b324777a7255": {
      "model_module": "@jupyter-widgets/base",
      "model_module_version": "1.1.0",
      "model_name": "LayoutModel",
      "state": {}
     },
     "b89c9cd130f840abb5e200c838274e96": {
      "model_module": "@jupyter-widgets/base",
      "model_module_version": "1.1.0",
      "model_name": "LayoutModel",
      "state": {}
     },
     "b8a3766b9909422dbd8951305d7b5fad": {
      "model_module": "@jupyter-widgets/controls",
      "model_module_version": "1.4.0",
      "model_name": "HBoxModel",
      "state": {
       "children": [
        "IPY_MODEL_b3765923979c4cd5b9d3a59470645ea3",
        "IPY_MODEL_d437ca71c2ea4febb9a670d733214c46"
       ],
       "layout": "IPY_MODEL_a5cf62a754ea45cfa1782d5ea13dd939"
      }
     },
     "b8ee6d2fae2447fbb4a6998098c2de41": {
      "model_module": "@jupyter-widgets/controls",
      "model_module_version": "1.4.0",
      "model_name": "FloatTextModel",
      "state": {
       "description": "cut",
       "layout": "IPY_MODEL_a9542ae622ab4a82bd1cd40aab8c047d",
       "step": null,
       "style": "IPY_MODEL_457fbadc2a224ffe8f26654d30942f7d",
       "value": 1
      }
     },
     "b919045ec62d481b9de840d9240503ab": {
      "model_module": "@jupyter-widgets/controls",
      "model_module_version": "1.4.0",
      "model_name": "CheckboxModel",
      "state": {
       "description": "sort",
       "disabled": false,
       "layout": "IPY_MODEL_d087f488226e4c1b82622235c0556864",
       "style": "IPY_MODEL_269b9b9912fa47f28af714ee179832f6",
       "value": false
      }
     },
     "b92e5c85edd94835987bd800c20291f1": {
      "model_module": "@jupyter-widgets/controls",
      "model_module_version": "1.4.0",
      "model_name": "FloatSliderModel",
      "state": {
       "description": "outlier_prop",
       "layout": "IPY_MODEL_1fd9f2fa61604244bfffac5c69e73943",
       "max": 1,
       "step": 0.001,
       "style": "IPY_MODEL_d07502efa39741ba919b75e4e6928f48",
       "value": 0.007
      }
     },
     "b960133acff5405da9eb1e4d1b54f63b": {
      "model_module": "@jupyter-widgets/base",
      "model_module_version": "1.1.0",
      "model_name": "LayoutModel",
      "state": {}
     },
     "b9c9fc99e1fb406c96d9249fd03cb883": {
      "model_module": "@jupyter-widgets/controls",
      "model_module_version": "1.4.0",
      "model_name": "CheckboxModel",
      "state": {
       "description": "rug",
       "disabled": false,
       "layout": "IPY_MODEL_a3b50ba83b7847af9ee31f36be7de7ca",
       "style": "IPY_MODEL_19cf95b3552c485ba64a8b811e6edc5e",
       "value": false
      }
     },
     "b9ce3206290d4ee0841d74b4a751861c": {
      "model_module": "@jupyter-widgets/base",
      "model_module_version": "1.1.0",
      "model_name": "LayoutModel",
      "state": {}
     },
     "ba163af4d9924cef87cf9581fa0c15ae": {
      "model_module": "@jupyter-widgets/controls",
      "model_module_version": "1.4.0",
      "model_name": "DropdownModel",
      "state": {
       "_options_labels": [
        "1",
        "2",
        "3",
        "4",
        "5",
        "6",
        "7",
        "8",
        "9",
        "10",
        "11",
        "12",
        "13",
        "14",
        "15",
        "16",
        "17",
        "18",
        "19",
        "20",
        "21",
        "22",
        "23",
        "24",
        "25",
        "26",
        "27",
        "28",
        "29",
        "30",
        "31"
       ],
       "description": "data2",
       "index": 0,
       "layout": "IPY_MODEL_0cf581459f73418386b4277aa54463a8",
       "style": "IPY_MODEL_0dfa9d16798d43e8aec2be367c6ba4ea"
      }
     },
     "ba25fff0f643452aaf5fd02718f9f699": {
      "model_module": "@jupyter-widgets/base",
      "model_module_version": "1.1.0",
      "model_name": "LayoutModel",
      "state": {}
     },
     "ba29c908d4d643069fcbcc2970f00f44": {
      "model_module": "@jupyter-widgets/base",
      "model_module_version": "1.1.0",
      "model_name": "LayoutModel",
      "state": {}
     },
     "ba7e782473ac4c74b0a5b85988f60b18": {
      "model_module": "@jupyter-widgets/base",
      "model_module_version": "1.1.0",
      "model_name": "LayoutModel",
      "state": {}
     },
     "ba88b94382014a8f8ae27a0e711c3ee0": {
      "model_module": "@jupyter-widgets/base",
      "model_module_version": "1.1.0",
      "model_name": "LayoutModel",
      "state": {}
     },
     "baa09bc9a52243fa94707ca6477c8b6e": {
      "model_module": "@jupyter-widgets/controls",
      "model_module_version": "1.4.0",
      "model_name": "DescriptionStyleModel",
      "state": {
       "description_width": ""
      }
     },
     "bab2ba52a7e449e1a5081eb0f11f0864": {
      "model_module": "@jupyter-widgets/controls",
      "model_module_version": "1.4.0",
      "model_name": "DescriptionStyleModel",
      "state": {
       "description_width": ""
      }
     },
     "bacea27eb8f54325a78ec1dec05191f6": {
      "model_module": "@jupyter-widgets/controls",
      "model_module_version": "1.4.0",
      "model_name": "CheckboxModel",
      "state": {
       "description": "truncate",
       "disabled": false,
       "layout": "IPY_MODEL_a6d30c43f97a4ff6ad28d9d1162387ef",
       "style": "IPY_MODEL_0b8e68650f4e48489ec525d5f126594e",
       "value": false
      }
     },
     "bafaa12984724365a74e504efc1dc48d": {
      "model_module": "@jupyter-widgets/base",
      "model_module_version": "1.1.0",
      "model_name": "LayoutModel",
      "state": {}
     },
     "bb06c7a38ecc458dba28a6f20aab62db": {
      "model_module": "@jupyter-widgets/base",
      "model_module_version": "1.1.0",
      "model_name": "LayoutModel",
      "state": {}
     },
     "bb0a24a9a9544d6b97209be887cfbfb6": {
      "model_module": "@jupyter-widgets/base",
      "model_module_version": "1.1.0",
      "model_name": "LayoutModel",
      "state": {}
     },
     "bb3fafd0a51b42deb7a092f323f721d6": {
      "model_module": "@jupyter-widgets/controls",
      "model_module_version": "1.4.0",
      "model_name": "DescriptionStyleModel",
      "state": {
       "description_width": ""
      }
     },
     "bb54e8a3bd9b4d70af785a98dc727c91": {
      "model_module": "@jupyter-widgets/controls",
      "model_module_version": "1.4.0",
      "model_name": "IntTextModel",
      "state": {
       "description": "order",
       "layout": "IPY_MODEL_d656541a2a6747faa62e60dc27924e4e",
       "step": 1,
       "style": "IPY_MODEL_4c072594ecfe47ba8c837c91990fca70",
       "value": 1
      }
     },
     "bba442c3c7c347baacbca0ba28df99fe": {
      "model_module": "@jupyter-widgets/controls",
      "model_module_version": "1.4.0",
      "model_name": "CheckboxModel",
      "state": {
       "description": "logistic",
       "disabled": false,
       "layout": "IPY_MODEL_75a21399c4d248009d1fffb9c6a208c4",
       "style": "IPY_MODEL_1ad6a73bd843485a9887f9d49ce049c9",
       "value": false
      }
     },
     "bba61985bb74462b8303e761ee87b5e4": {
      "model_module": "@jupyter-widgets/base",
      "model_module_version": "1.1.0",
      "model_name": "LayoutModel",
      "state": {}
     },
     "bbb3c5cee9f4483ead7c1bfce411fd63": {
      "model_module": "@jupyter-widgets/controls",
      "model_module_version": "1.4.0",
      "model_name": "DropdownModel",
      "state": {
       "_options_labels": [
        "1",
        "2",
        "3",
        "4",
        "5",
        "6",
        "7",
        "8",
        "9",
        "10",
        "11",
        "12",
        "13",
        "14",
        "15",
        "16",
        "17",
        "18",
        "19",
        "20",
        "21",
        "22",
        "23",
        "24",
        "25",
        "26",
        "27",
        "28",
        "29",
        "30",
        "31"
       ],
       "description": "col",
       "index": 0,
       "layout": "IPY_MODEL_dbb02ab467f54243963bca623b388d93",
       "style": "IPY_MODEL_0ca8051d6fe44e6082aec81a1007ee38"
      }
     },
     "bbd061fdb25d42a5a1dae45df0895d4e": {
      "model_module": "@jupyter-widgets/controls",
      "model_module_version": "1.4.0",
      "model_name": "ButtonStyleModel",
      "state": {}
     },
     "bbd72518af3a4e9f8956756d38ea4c25": {
      "model_module": "@jupyter-widgets/controls",
      "model_module_version": "1.4.0",
      "model_name": "TextModel",
      "state": {
       "description": "cmap",
       "layout": "IPY_MODEL_6898a2c76f1e459cb2e1ee2538654ace",
       "style": "IPY_MODEL_493546312c854882863169f76483b950",
       "value": "viridis"
      }
     },
     "bbd7f073bff54b4989aea69c97c5b83e": {
      "model_module": "@jupyter-widgets/controls",
      "model_module_version": "1.4.0",
      "model_name": "CheckboxModel",
      "state": {
       "description": "lowess",
       "disabled": false,
       "layout": "IPY_MODEL_28a4d5274b544c1dbed2c65e193670ea",
       "style": "IPY_MODEL_953c393515f043159a80f0217bc3e262",
       "value": false
      }
     },
     "bc0a50dd96c84167871e3f704ed552f2": {
      "model_module": "@jupyter-widgets/controls",
      "model_module_version": "1.4.0",
      "model_name": "ButtonStyleModel",
      "state": {}
     },
     "bc58788df6454c0ab0beaafc5e1f1149": {
      "model_module": "@jupyter-widgets/controls",
      "model_module_version": "1.4.0",
      "model_name": "IntTextModel",
      "state": {
       "description": "n_boot",
       "layout": "IPY_MODEL_910dc3a26e674f0aaa88cd941d0ce45f",
       "step": 1,
       "style": "IPY_MODEL_64d7c0dd85e64a38a8d4da0834b7e2e7",
       "value": 10000
      }
     },
     "bc5c409386d240a4ac7015de7cb43691": {
      "model_module": "@jupyter-widgets/controls",
      "model_module_version": "1.4.0",
      "model_name": "DescriptionStyleModel",
      "state": {
       "description_width": ""
      }
     },
     "bc7fb0327c114424ad4b15aac00635aa": {
      "model_module": "@jupyter-widgets/controls",
      "model_module_version": "1.4.0",
      "model_name": "DescriptionStyleModel",
      "state": {
       "description_width": ""
      }
     },
     "bc8636665c4d44a5b94edcf113ace447": {
      "model_module": "@jupyter-widgets/base",
      "model_module_version": "1.1.0",
      "model_name": "LayoutModel",
      "state": {}
     },
     "bc906e2567744f978642de931a7f29d4": {
      "model_module": "@jupyter-widgets/controls",
      "model_module_version": "1.4.0",
      "model_name": "DescriptionStyleModel",
      "state": {
       "description_width": ""
      }
     },
     "bcce030fb15648b98899a52641f3ae46": {
      "model_module": "@jupyter-widgets/base",
      "model_module_version": "1.1.0",
      "model_name": "LayoutModel",
      "state": {}
     },
     "bcde7a6829444993ac9577b7ec814803": {
      "model_module": "@jupyter-widgets/controls",
      "model_module_version": "1.4.0",
      "model_name": "DescriptionStyleModel",
      "state": {
       "description_width": ""
      }
     },
     "bce6cec04002470587ae6caf7d6ff5dd": {
      "model_module": "@jupyter-widgets/controls",
      "model_module_version": "1.4.0",
      "model_name": "DescriptionStyleModel",
      "state": {
       "description_width": ""
      }
     },
     "bd1860f5c30c46978a6f4b7804b9e9cc": {
      "model_module": "@jupyter-widgets/base",
      "model_module_version": "1.1.0",
      "model_name": "LayoutModel",
      "state": {}
     },
     "bd4a2a1351884ba3ac10ebdfe9709d95": {
      "model_module": "@jupyter-widgets/controls",
      "model_module_version": "1.4.0",
      "model_name": "DescriptionStyleModel",
      "state": {
       "description_width": ""
      }
     },
     "bd8da0aa1bea496cb5637e584cd9481d": {
      "model_module": "@jupyter-widgets/base",
      "model_module_version": "1.1.0",
      "model_name": "LayoutModel",
      "state": {}
     },
     "bdf2b32c68e044f391ce4aca70af0589": {
      "model_module": "@jupyter-widgets/controls",
      "model_module_version": "1.4.0",
      "model_name": "IntTextModel",
      "state": {
       "description": "ratio",
       "layout": "IPY_MODEL_6b2adb5751064efb8c9b3329e7aeb506",
       "step": 1,
       "style": "IPY_MODEL_a5bc925661c64c6981d8b72ac164cdc4",
       "value": 1
      }
     },
     "bdf70b89a2f14464b62ce35cdbb29f1c": {
      "model_module": "@jupyter-widgets/base",
      "model_module_version": "1.1.0",
      "model_name": "LayoutModel",
      "state": {}
     },
     "be054c3adfd24a8bb923ff7419e8440e": {
      "model_module": "@jupyter-widgets/controls",
      "model_module_version": "1.4.0",
      "model_name": "CheckboxModel",
      "state": {
       "description": "square",
       "disabled": false,
       "layout": "IPY_MODEL_07b4c38d2d0942d89ba25a2840581821",
       "style": "IPY_MODEL_291d0d4266974737bfb093e4a7bb6e5e",
       "value": false
      }
     },
     "be3d9c6037ad40bd892c278d18393c50": {
      "model_module": "@jupyter-widgets/controls",
      "model_module_version": "1.4.0",
      "model_name": "DropdownModel",
      "state": {
       "_options_labels": [
        "auto",
        "hist",
        "kde"
       ],
       "description": "diag_kind",
       "index": 0,
       "layout": "IPY_MODEL_2cfdfc5c8fd54c688f58b6d7c8d6ef54",
       "style": "IPY_MODEL_a54404ed809b41229f9a3abe32294dda"
      }
     },
     "be7c41c0d7c14568a9e9d50d71f74479": {
      "model_module": "@jupyter-widgets/controls",
      "model_module_version": "1.4.0",
      "model_name": "DropdownModel",
      "state": {
       "_options_labels": [
        "1",
        "2",
        "3",
        "4",
        "5",
        "6",
        "7",
        "8",
        "9",
        "10",
        "11",
        "12",
        "13",
        "14",
        "15",
        "16",
        "17",
        "18",
        "19",
        "20",
        "21",
        "22",
        "23",
        "24",
        "25",
        "26",
        "27",
        "28",
        "29",
        "30",
        "31"
       ],
       "description": "y",
       "index": 0,
       "layout": "IPY_MODEL_380021ce703243c29148fb1978cf9101",
       "style": "IPY_MODEL_33839a5ca40c4fbc83f028d5b796f585"
      }
     },
     "be94e871ddf2460cbe00b4e5a0d15b11": {
      "model_module": "@jupyter-widgets/controls",
      "model_module_version": "1.4.0",
      "model_name": "DescriptionStyleModel",
      "state": {
       "description_width": ""
      }
     },
     "beb83f93628d4737a8df73f62e373262": {
      "model_module": "@jupyter-widgets/base",
      "model_module_version": "1.1.0",
      "model_name": "LayoutModel",
      "state": {}
     },
     "beb8be58aae74e918112abeaf79b5cba": {
      "model_module": "@jupyter-widgets/controls",
      "model_module_version": "1.4.0",
      "model_name": "DescriptionStyleModel",
      "state": {
       "description_width": ""
      }
     },
     "bee0e0b867464389badb7438ad025424": {
      "model_module": "@jupyter-widgets/base",
      "model_module_version": "1.1.0",
      "model_name": "LayoutModel",
      "state": {}
     },
     "beea565957b34d8b9f949b41c924d034": {
      "model_module": "@jupyter-widgets/controls",
      "model_module_version": "1.4.0",
      "model_name": "DescriptionStyleModel",
      "state": {
       "description_width": ""
      }
     },
     "bf22e0d3d2de4f14aa2957aa24f03ccb": {
      "model_module": "@jupyter-widgets/controls",
      "model_module_version": "1.4.0",
      "model_name": "DescriptionStyleModel",
      "state": {
       "description_width": ""
      }
     },
     "bf3212a33aa043dc8602757241e6db32": {
      "model_module": "@jupyter-widgets/controls",
      "model_module_version": "1.4.0",
      "model_name": "DescriptionStyleModel",
      "state": {
       "description_width": ""
      }
     },
     "bf4982d4c44049d4a5098efe58d2686b": {
      "model_module": "@jupyter-widgets/controls",
      "model_module_version": "1.4.0",
      "model_name": "DescriptionStyleModel",
      "state": {
       "description_width": ""
      }
     },
     "bf7db497db9749dc8566cc05cf267dc9": {
      "model_module": "@jupyter-widgets/controls",
      "model_module_version": "1.4.0",
      "model_name": "CheckboxModel",
      "state": {
       "description": "vertical",
       "disabled": false,
       "layout": "IPY_MODEL_6b58cd6afd4247edbddbe191067c6614",
       "style": "IPY_MODEL_beea565957b34d8b9f949b41c924d034",
       "value": false
      }
     },
     "bfbd090be61c4878860bc045991a1b79": {
      "model_module": "@jupyter-widgets/controls",
      "model_module_version": "1.4.0",
      "model_name": "FloatTextModel",
      "state": {
       "description": "fliersize",
       "layout": "IPY_MODEL_b8822095c2854450bf52b324777a7255",
       "step": null,
       "style": "IPY_MODEL_0618cdbdcc5441619512c45bfa73413a",
       "value": 1
      }
     },
     "bfe591bf12784201bc7221e4c520f3c2": {
      "model_module": "@jupyter-widgets/controls",
      "model_module_version": "1.4.0",
      "model_name": "DescriptionStyleModel",
      "state": {
       "description_width": ""
      }
     },
     "bff2ce2822db4648b7f9e4fe4b884a66": {
      "model_module": "@jupyter-widgets/controls",
      "model_module_version": "1.4.0",
      "model_name": "DropdownModel",
      "state": {
       "_options_labels": [
        "proportion",
        "tukey",
        "trustworthy"
       ],
       "description": "k_depth",
       "index": 0,
       "layout": "IPY_MODEL_9cf240fcf3244a1a9241155928d5c069",
       "style": "IPY_MODEL_787b5d2eca0948558b750b50a99807ce"
      }
     },
     "bff954d652fd4b19a571e1156c0b9974": {
      "model_module": "@jupyter-widgets/base",
      "model_module_version": "1.1.0",
      "model_name": "LayoutModel",
      "state": {}
     },
     "c021656ec2cf4f14a35ee3f19a399c38": {
      "model_module": "@jupyter-widgets/controls",
      "model_module_version": "1.4.0",
      "model_name": "DescriptionStyleModel",
      "state": {
       "description_width": ""
      }
     },
     "c04fb2acbabf4541b6a5613d61025925": {
      "model_module": "@jupyter-widgets/controls",
      "model_module_version": "1.4.0",
      "model_name": "LabelModel",
      "state": {
       "layout": "IPY_MODEL_7ea57b9528e64ad68f17aa458d883e10",
       "style": "IPY_MODEL_6b403911c6d0455c96164b3541a82292",
       "value": "---"
      }
     },
     "c0674678cc834d2099b660e75e0e8a4e": {
      "model_module": "@jupyter-widgets/controls",
      "model_module_version": "1.4.0",
      "model_name": "CheckboxModel",
      "state": {
       "description": "scatter",
       "disabled": false,
       "layout": "IPY_MODEL_fe4a9ec4d6254febb7a24628369cb1e1",
       "style": "IPY_MODEL_1f5deade2b5f43b8b762487ad6662f1b",
       "value": false
      }
     },
     "c0807663331c44edbb399074d9a9eac3": {
      "model_module": "@jupyter-widgets/base",
      "model_module_version": "1.1.0",
      "model_name": "LayoutModel",
      "state": {}
     },
     "c093e38e775b4bb3b2f5bcac037b6a58": {
      "model_module": "@jupyter-widgets/base",
      "model_module_version": "1.1.0",
      "model_name": "LayoutModel",
      "state": {}
     },
     "c0acd341d6964185ab7f4552409be018": {
      "model_module": "@jupyter-widgets/controls",
      "model_module_version": "1.4.0",
      "model_name": "ButtonModel",
      "state": {
       "description": "remove",
       "layout": "IPY_MODEL_0991a424c0674e9284b4e445f64b118e",
       "style": "IPY_MODEL_2c9d1571910f4666a2f302f39adc5b75"
      }
     },
     "c0fc7fda5d0740fe92944b87d7305422": {
      "model_module": "@jupyter-widgets/base",
      "model_module_version": "1.1.0",
      "model_name": "LayoutModel",
      "state": {}
     },
     "c11233085e164aa3aa5c1451815df600": {
      "model_module": "@jupyter-widgets/base",
      "model_module_version": "1.1.0",
      "model_name": "LayoutModel",
      "state": {}
     },
     "c119d37853fe4fbeafa0d64675b33d30": {
      "model_module": "@jupyter-widgets/base",
      "model_module_version": "1.1.0",
      "model_name": "LayoutModel",
      "state": {}
     },
     "c13b9073fdaf4e36b765d3abd8d04128": {
      "model_module": "@jupyter-widgets/controls",
      "model_module_version": "1.4.0",
      "model_name": "TextModel",
      "state": {
       "description": "cmap",
       "layout": "IPY_MODEL_0b392c47b0f44a8f82c60992e9914ccb",
       "style": "IPY_MODEL_b6f4baf532f040af8c13f0f6a6ae6f47",
       "value": "viridis"
      }
     },
     "c1da89469aa64117955c2d65611f4af8": {
      "model_module": "@jupyter-widgets/controls",
      "model_module_version": "1.4.0",
      "model_name": "CheckboxModel",
      "state": {
       "description": "rug",
       "disabled": false,
       "layout": "IPY_MODEL_1570d02eed20470bbf23a30d8284dadf",
       "style": "IPY_MODEL_f538f170c71b4214a8d4b20c829fb226",
       "value": false
      }
     },
     "c1f84d56956b41bba4bc7eb9ff94d031": {
      "model_module": "@jupyter-widgets/controls",
      "model_module_version": "1.4.0",
      "model_name": "FloatTextModel",
      "state": {
       "description": "width",
       "layout": "IPY_MODEL_72b0c27a1bcf4059a716229d75d95b63",
       "step": null,
       "style": "IPY_MODEL_beb8be58aae74e918112abeaf79b5cba",
       "value": 1
      }
     },
     "c29d48d5f89147daa2c227e2820703f3": {
      "model_module": "@jupyter-widgets/controls",
      "model_module_version": "1.4.0",
      "model_name": "CheckboxModel",
      "state": {
       "description": "fit_reg",
       "disabled": false,
       "layout": "IPY_MODEL_c8b8ee08f012486fa3349ca49d71e4b6",
       "style": "IPY_MODEL_66e19426a98a4d8fb3e58cbf0a3a3b93",
       "value": false
      }
     },
     "c2aa816a5faf446da628520fd1261966": {
      "model_module": "@jupyter-widgets/controls",
      "model_module_version": "1.4.0",
      "model_name": "SliderStyleModel",
      "state": {
       "description_width": ""
      }
     },
     "c2b4fad6634348dc9bdd533c7af433a6": {
      "model_module": "@jupyter-widgets/controls",
      "model_module_version": "1.4.0",
      "model_name": "DropdownModel",
      "state": {
       "_options_labels": [
        "scatter",
        "reg"
       ],
       "description": "kind",
       "index": 0,
       "layout": "IPY_MODEL_7a042c5c01d04163846602e36f5c2954",
       "style": "IPY_MODEL_30653cbfa419424da8184331589b8ece"
      }
     },
     "c2b8a84221074cb7a66bb7ec470ef769": {
      "model_module": "@jupyter-widgets/base",
      "model_module_version": "1.1.0",
      "model_name": "LayoutModel",
      "state": {}
     },
     "c2d6b70c98d14e848f5c89245a12e6a1": {
      "model_module": "@jupyter-widgets/controls",
      "model_module_version": "1.4.0",
      "model_name": "DescriptionStyleModel",
      "state": {
       "description_width": ""
      }
     },
     "c2d874a6bbb4449e99e2c1e15b37528c": {
      "model_module": "@jupyter-widgets/controls",
      "model_module_version": "1.4.0",
      "model_name": "FloatTextModel",
      "state": {
       "description": "errwidth",
       "layout": "IPY_MODEL_14d4fad0dafd44a587646e860a7bd48e",
       "step": null,
       "style": "IPY_MODEL_6113c48a46e44ceaa96dc824d05dda6f",
       "value": 13
      }
     },
     "c2e3bd9626384ecbb8b4f45eb1858b54": {
      "model_module": "@jupyter-widgets/controls",
      "model_module_version": "1.4.0",
      "model_name": "IntTextModel",
      "state": {
       "description": "col_wrap",
       "layout": "IPY_MODEL_11659534298548afb9283ba76128690a",
       "step": 1,
       "style": "IPY_MODEL_6f7625d3f5064d95b49907e1b65d5df7",
       "value": 10
      }
     },
     "c2e5d8c8d01549b384f69d6279763125": {
      "model_module": "@jupyter-widgets/controls",
      "model_module_version": "1.4.0",
      "model_name": "DescriptionStyleModel",
      "state": {
       "description_width": ""
      }
     },
     "c30056d685c84500bf233f6c476ac56a": {
      "model_module": "@jupyter-widgets/controls",
      "model_module_version": "1.4.0",
      "model_name": "DescriptionStyleModel",
      "state": {
       "description_width": ""
      }
     },
     "c322b48dee8048db813d10235c9bfd65": {
      "model_module": "@jupyter-widgets/base",
      "model_module_version": "1.1.0",
      "model_name": "LayoutModel",
      "state": {}
     },
     "c33dab576e774a60a23d591fb85fe2b8": {
      "model_module": "@jupyter-widgets/base",
      "model_module_version": "1.1.0",
      "model_name": "LayoutModel",
      "state": {}
     },
     "c3515aa920a84549a345b9032aba93c5": {
      "model_module": "@jupyter-widgets/controls",
      "model_module_version": "1.4.0",
      "model_name": "DescriptionStyleModel",
      "state": {
       "description_width": ""
      }
     },
     "c36b8452c5594c53acb584ef2c1373f6": {
      "model_module": "@jupyter-widgets/base",
      "model_module_version": "1.1.0",
      "model_name": "LayoutModel",
      "state": {}
     },
     "c381bd9687784df382f3d0b9767b7077": {
      "model_module": "@jupyter-widgets/base",
      "model_module_version": "1.1.0",
      "model_name": "LayoutModel",
      "state": {}
     },
     "c39affb9b0504fffa67614cb3a472ca9": {
      "model_module": "@jupyter-widgets/controls",
      "model_module_version": "1.4.0",
      "model_name": "DropdownModel",
      "state": {
       "_options_labels": [
        "True",
        "col",
        "row"
       ],
       "description": "sharey",
       "index": 0,
       "layout": "IPY_MODEL_768c2d27464d46d780d46cecdd3023c4",
       "style": "IPY_MODEL_1452625acb4d4e9f9e532c3adb9b39b1"
      }
     },
     "c3b0ccb6ab5c42b3a1050fb2497bc80c": {
      "model_module": "@jupyter-widgets/controls",
      "model_module_version": "1.4.0",
      "model_name": "DescriptionStyleModel",
      "state": {
       "description_width": ""
      }
     },
     "c418105ef7fe4421ba7c93c09aed9aed": {
      "model_module": "@jupyter-widgets/base",
      "model_module_version": "1.1.0",
      "model_name": "LayoutModel",
      "state": {}
     },
     "c418767afcaa4c8e9fd103640b8f4ca2": {
      "model_module": "@jupyter-widgets/controls",
      "model_module_version": "1.4.0",
      "model_name": "FloatTextModel",
      "state": {
       "description": "scale",
       "layout": "IPY_MODEL_a4c4e99851ee4ceb805f43bf68413605",
       "step": null,
       "style": "IPY_MODEL_e45cf45e6a4a4dc8907912ef66de8a60",
       "value": 1
      }
     },
     "c48856bce9e54156926bab164cf760b9": {
      "model_module": "@jupyter-widgets/controls",
      "model_module_version": "1.4.0",
      "model_name": "DropdownModel",
      "state": {
       "_options_labels": [
        "True",
        "col",
        "row"
       ],
       "description": "sharey",
       "index": 0,
       "layout": "IPY_MODEL_6e267bd805a448958ca761ade488f6c5",
       "style": "IPY_MODEL_6f1defa61982423ba1c511e6f1da085f"
      }
     },
     "c4895ae558674a20b2c61589e13cfa4e": {
      "model_module": "@jupyter-widgets/controls",
      "model_module_version": "1.4.0",
      "model_name": "ButtonModel",
      "state": {
       "description": "remove",
       "layout": "IPY_MODEL_af40b2fa86ef46ea96e1c98225d1f001",
       "style": "IPY_MODEL_45a59bb9848c4e529d1b8578b1ef1aaa"
      }
     },
     "c490d430849941e5862874e07386570f": {
      "model_module": "@jupyter-widgets/controls",
      "model_module_version": "1.4.0",
      "model_name": "DescriptionStyleModel",
      "state": {
       "description_width": ""
      }
     },
     "c4cb5f8073c14a35804a5176f7e65b03": {
      "model_module": "@jupyter-widgets/controls",
      "model_module_version": "1.4.0",
      "model_name": "DropdownModel",
      "state": {
       "_options_labels": [
        "Acceleration",
        "Cylinders",
        "Displacement",
        "Horsepower",
        "Miles_per_Gallon",
        "Name",
        "Origin",
        "Weight_in_lbs",
        "Year"
       ],
       "description": "sizes",
       "index": 0,
       "layout": "IPY_MODEL_2e84c5ce67f14984b44893c00c9f83df",
       "style": "IPY_MODEL_1119c220476f40e9b69d13fbe4d32b82"
      }
     },
     "c4d47c72fb7e4cf697c68cc38bb522fd": {
      "model_module": "@jupyter-widgets/controls",
      "model_module_version": "1.4.0",
      "model_name": "FloatTextModel",
      "state": {
       "description": "height",
       "layout": "IPY_MODEL_b564313452dd4fdead75bacc34ff81d4",
       "step": null,
       "style": "IPY_MODEL_427a2ee3fb1a400886dd5a97c5d19354",
       "value": 1
      }
     },
     "c4f4782bf6864b2e8ea42f70c15e14d1": {
      "model_module": "@jupyter-widgets/base",
      "model_module_version": "1.1.0",
      "model_name": "LayoutModel",
      "state": {}
     },
     "c53cf1b6394b47c588e95962be8e35a6": {
      "model_module": "@jupyter-widgets/controls",
      "model_module_version": "1.4.0",
      "model_name": "HBoxModel",
      "state": {
       "children": [
        "IPY_MODEL_dd52bbc6214c4dfeac0c147b85bbcfff"
       ],
       "layout": "IPY_MODEL_1719c24bbf064d0f8b71467f2eea3ecc"
      }
     },
     "c53d3be507cd4fe390662a41dc649c67": {
      "model_module": "@jupyter-widgets/controls",
      "model_module_version": "1.4.0",
      "model_name": "CheckboxModel",
      "state": {
       "description": "fit_reg",
       "disabled": false,
       "layout": "IPY_MODEL_b193373600484b269fdd805c7388d0d0",
       "style": "IPY_MODEL_41de82283b70440e99fbb326da52667f",
       "value": false
      }
     },
     "c53e3519ba1243aaabef27add46689c9": {
      "model_module": "@jupyter-widgets/controls",
      "model_module_version": "1.4.0",
      "model_name": "DescriptionStyleModel",
      "state": {
       "description_width": ""
      }
     },
     "c5520729b2a84ba689dec7b05aae0d90": {
      "model_module": "@jupyter-widgets/controls",
      "model_module_version": "1.4.0",
      "model_name": "DescriptionStyleModel",
      "state": {
       "description_width": ""
      }
     },
     "c59d09f1bbbb4955a07c4a86aa0947d4": {
      "model_module": "@jupyter-widgets/controls",
      "model_module_version": "1.4.0",
      "model_name": "DescriptionStyleModel",
      "state": {
       "description_width": ""
      }
     },
     "c5ae54171c194073a081fe12b9c9dbe1": {
      "model_module": "@jupyter-widgets/controls",
      "model_module_version": "1.4.0",
      "model_name": "IntSliderModel",
      "state": {
       "description": "x_ci",
       "layout": "IPY_MODEL_b221c820832b45d394fb1efda7c65b2a",
       "style": "IPY_MODEL_8578a929cc8447bf91d36635362d2663",
       "value": 95
      }
     },
     "c5c966dbd5ee4867ab8090b62b630ee6": {
      "model_module": "@jupyter-widgets/controls",
      "model_module_version": "1.4.0",
      "model_name": "DescriptionStyleModel",
      "state": {
       "description_width": ""
      }
     },
     "c5c9e11590f844b2b82ec4a229e9c69c": {
      "model_module": "@jupyter-widgets/controls",
      "model_module_version": "1.4.0",
      "model_name": "HBoxModel",
      "state": {
       "children": [
        "IPY_MODEL_b3765923979c4cd5b9d3a59470645ea3",
        "IPY_MODEL_fca252f4c5344c5e9db7440361a5904c"
       ],
       "layout": "IPY_MODEL_599606c4fb0544cb84f5ef0f3b8b55b5"
      }
     },
     "c5e77cc465e94c399a63cefa7ac633b5": {
      "model_module": "@jupyter-widgets/controls",
      "model_module_version": "1.4.0",
      "model_name": "ButtonStyleModel",
      "state": {}
     },
     "c5f855842a62455680db3832be9393ad": {
      "model_module": "@jupyter-widgets/controls",
      "model_module_version": "1.4.0",
      "model_name": "DescriptionStyleModel",
      "state": {
       "description_width": ""
      }
     },
     "c629e50fcc194df1a08e8fb5e8706ef5": {
      "model_module": "@jupyter-widgets/controls",
      "model_module_version": "1.4.0",
      "model_name": "DescriptionStyleModel",
      "state": {
       "description_width": ""
      }
     },
     "c62fe34b60f5410ab4e893747fc6c9b8": {
      "model_module": "@jupyter-widgets/base",
      "model_module_version": "1.1.0",
      "model_name": "LayoutModel",
      "state": {}
     },
     "c631bc215df2498f8ef3e4d1c0a576b0": {
      "model_module": "@jupyter-widgets/controls",
      "model_module_version": "1.4.0",
      "model_name": "DescriptionStyleModel",
      "state": {
       "description_width": ""
      }
     },
     "c645dce9d4a9433599554b1a1d4cbea6": {
      "model_module": "@jupyter-widgets/controls",
      "model_module_version": "1.4.0",
      "model_name": "DescriptionStyleModel",
      "state": {
       "description_width": ""
      }
     },
     "c66617c3156040ae8a14e635a6e01add": {
      "model_module": "@jupyter-widgets/controls",
      "model_module_version": "1.4.0",
      "model_name": "CheckboxModel",
      "state": {
       "description": "scale_hue",
       "disabled": false,
       "layout": "IPY_MODEL_805133d478be404799024a30ce2eebe6",
       "style": "IPY_MODEL_a03a05d1831743438126a2124526271e",
       "value": false
      }
     },
     "c6aa3834aa4941f489e60c4d0eb740a7": {
      "model_module": "@jupyter-widgets/base",
      "model_module_version": "1.1.0",
      "model_name": "LayoutModel",
      "state": {}
     },
     "c6c5b6e3beaa4c649a9809b7584a3c32": {
      "model_module": "@jupyter-widgets/base",
      "model_module_version": "1.1.0",
      "model_name": "LayoutModel",
      "state": {}
     },
     "c6f1967b1b5e4ff48be7b8a2b0b381be": {
      "model_module": "@jupyter-widgets/base",
      "model_module_version": "1.1.0",
      "model_name": "LayoutModel",
      "state": {}
     },
     "c6f4003ab9954621a1cae8e34a62e7ff": {
      "model_module": "@jupyter-widgets/controls",
      "model_module_version": "1.4.0",
      "model_name": "DropdownModel",
      "state": {
       "_options_labels": [
        "Acceleration",
        "Cylinders",
        "Displacement",
        "Horsepower",
        "Miles_per_Gallon",
        "Name",
        "Origin",
        "Weight_in_lbs",
        "Year"
       ],
       "description": "dashes",
       "index": 0,
       "layout": "IPY_MODEL_747ca08b59924d3f91e989f6ca2d1d97",
       "style": "IPY_MODEL_89b3860623ad4c78ad85d08cd23baf36"
      }
     },
     "c72f9b37133b499d9648ab7724cfe21d": {
      "model_module": "@jupyter-widgets/controls",
      "model_module_version": "1.4.0",
      "model_name": "CheckboxModel",
      "state": {
       "description": "split",
       "disabled": false,
       "layout": "IPY_MODEL_1f943ada06994e75a63a1bf86a3176ef",
       "style": "IPY_MODEL_9e6a5ea4429e4e98816a1964d0791178",
       "value": false
      }
     },
     "c76cb7df644d489394decf55ef663311": {
      "model_module": "@jupyter-widgets/base",
      "model_module_version": "1.1.0",
      "model_name": "LayoutModel",
      "state": {}
     },
     "c78ed6fde63d47c39095d361316f94fe": {
      "model_module": "@jupyter-widgets/controls",
      "model_module_version": "1.4.0",
      "model_name": "FloatTextModel",
      "state": {
       "description": "whis",
       "layout": "IPY_MODEL_cd546465fd6345e3b4e6e6eede2e77dd",
       "step": null,
       "style": "IPY_MODEL_b5473338ce6840929f400eb946a21d1f",
       "value": 1
      }
     },
     "c7f0fd3b8ddb4dd59282ba7a2f24f2dd": {
      "model_module": "@jupyter-widgets/base",
      "model_module_version": "1.1.0",
      "model_name": "LayoutModel",
      "state": {}
     },
     "c7f7a74b4534420a999c3876a2d59fe9": {
      "model_module": "@jupyter-widgets/controls",
      "model_module_version": "1.4.0",
      "model_name": "DescriptionStyleModel",
      "state": {
       "description_width": ""
      }
     },
     "c80687f046bc419891cd36cd6bea815a": {
      "model_module": "@jupyter-widgets/base",
      "model_module_version": "1.1.0",
      "model_name": "LayoutModel",
      "state": {}
     },
     "c81edb86ad364c5787ab086c07a1466d": {
      "model_module": "@jupyter-widgets/base",
      "model_module_version": "1.1.0",
      "model_name": "LayoutModel",
      "state": {}
     },
     "c830dad6f0024921a8746ca09f050f90": {
      "model_module": "@jupyter-widgets/base",
      "model_module_version": "1.1.0",
      "model_name": "LayoutModel",
      "state": {}
     },
     "c88ffce2fd1745f8834e828886fa983c": {
      "model_module": "@jupyter-widgets/controls",
      "model_module_version": "1.4.0",
      "model_name": "DescriptionStyleModel",
      "state": {
       "description_width": ""
      }
     },
     "c8b8ee08f012486fa3349ca49d71e4b6": {
      "model_module": "@jupyter-widgets/base",
      "model_module_version": "1.1.0",
      "model_name": "LayoutModel",
      "state": {}
     },
     "c8cbe54575f743e5b7f7c0dae47a95f3": {
      "model_module": "@jupyter-widgets/base",
      "model_module_version": "1.1.0",
      "model_name": "LayoutModel",
      "state": {}
     },
     "c95c10dd0e184c2db60e33994b78d9c8": {
      "model_module": "@jupyter-widgets/base",
      "model_module_version": "1.1.0",
      "model_name": "LayoutModel",
      "state": {}
     },
     "c965fc73e8c54233b7ceeed93c027447": {
      "model_module": "@jupyter-widgets/controls",
      "model_module_version": "1.4.0",
      "model_name": "CheckboxModel",
      "state": {
       "description": "vertical",
       "disabled": false,
       "layout": "IPY_MODEL_7a76f23cf8f846b8a3860c3347f4c857",
       "style": "IPY_MODEL_56d8b7e0df784db9a8070c46b901b430",
       "value": false
      }
     },
     "c9c10834262a4919b3f53be53f99ac47": {
      "model_module": "@jupyter-widgets/base",
      "model_module_version": "1.1.0",
      "model_name": "LayoutModel",
      "state": {}
     },
     "c9dcd9fdd08949989b681d8ca2300baf": {
      "model_module": "@jupyter-widgets/controls",
      "model_module_version": "1.4.0",
      "model_name": "DescriptionStyleModel",
      "state": {
       "description_width": ""
      }
     },
     "ca1d8900714c49e7badf7d5d175609eb": {
      "model_module": "@jupyter-widgets/controls",
      "model_module_version": "1.4.0",
      "model_name": "DropdownModel",
      "state": {
       "_options_labels": [
        "Acceleration",
        "Cylinders",
        "Displacement",
        "Horsepower",
        "Miles_per_Gallon",
        "Name",
        "Origin",
        "Weight_in_lbs",
        "Year"
       ],
       "description": "x",
       "index": 6,
       "layout": "IPY_MODEL_060bb25d20c14ca0be83b35438113d64",
       "style": "IPY_MODEL_7f7b31683b2f4e7c98797f359ad6baa2"
      }
     },
     "caca1e4c2ff34f1ea65d55ec807e6057": {
      "model_module": "@jupyter-widgets/controls",
      "model_module_version": "1.4.0",
      "model_name": "DescriptionStyleModel",
      "state": {
       "description_width": ""
      }
     },
     "caeea9e3ebee4efca2cd70894acd4a66": {
      "model_module": "@jupyter-widgets/controls",
      "model_module_version": "1.4.0",
      "model_name": "LabelModel",
      "state": {
       "layout": "IPY_MODEL_c093e38e775b4bb3b2f5bcac037b6a58",
       "style": "IPY_MODEL_c631bc215df2498f8ef3e4d1c0a576b0",
       "value": "---"
      }
     },
     "cafb2a5ad60e49f5af3499166f8f90c0": {
      "model_module": "@jupyter-widgets/controls",
      "model_module_version": "1.4.0",
      "model_name": "DescriptionStyleModel",
      "state": {
       "description_width": ""
      }
     },
     "cafd0e0af72649a480e20b3480e00c66": {
      "model_module": "@jupyter-widgets/controls",
      "model_module_version": "1.4.0",
      "model_name": "DescriptionStyleModel",
      "state": {
       "description_width": ""
      }
     },
     "cb230bbeb69a4014b668c199ac06ed76": {
      "model_module": "@jupyter-widgets/controls",
      "model_module_version": "1.4.0",
      "model_name": "SliderStyleModel",
      "state": {
       "description_width": ""
      }
     },
     "cb3ef0b81db24ec98979b7f71bcbbff8": {
      "model_module": "@jupyter-widgets/base",
      "model_module_version": "1.1.0",
      "model_name": "LayoutModel",
      "state": {}
     },
     "cb3fca2906094569a063b4a784e85636": {
      "model_module": "@jupyter-widgets/controls",
      "model_module_version": "1.4.0",
      "model_name": "DescriptionStyleModel",
      "state": {
       "description_width": ""
      }
     },
     "cb71c104e84c420cb9cc74ecf01827bc": {
      "model_module": "@jupyter-widgets/controls",
      "model_module_version": "1.4.0",
      "model_name": "SliderStyleModel",
      "state": {
       "description_width": ""
      }
     },
     "cb766adf79394b2691fbacb36f0283f7": {
      "model_module": "@jupyter-widgets/base",
      "model_module_version": "1.1.0",
      "model_name": "LayoutModel",
      "state": {}
     },
     "cbdfaadcc8e54999bba4a35d459da1c2": {
      "model_module": "@jupyter-widgets/base",
      "model_module_version": "1.1.0",
      "model_name": "LayoutModel",
      "state": {}
     },
     "cc1b3549face4d6e8f9b7f90d16a38d6": {
      "model_module": "@jupyter-widgets/controls",
      "model_module_version": "1.4.0",
      "model_name": "FloatSliderModel",
      "state": {
       "description": "outlier_prop",
       "layout": "IPY_MODEL_6b6562923823413aba865d6534ccd9b1",
       "max": 1,
       "step": 0.001,
       "style": "IPY_MODEL_87998bcb70564342ba56aca05f550b8a",
       "value": 0.007
      }
     },
     "cc25c677c3b242c7a58488b8114bd5e1": {
      "model_module": "@jupyter-widgets/controls",
      "model_module_version": "1.4.0",
      "model_name": "DescriptionStyleModel",
      "state": {
       "description_width": ""
      }
     },
     "cc87e6b6265d4963a2853467a430a1f5": {
      "model_module": "@jupyter-widgets/base",
      "model_module_version": "1.1.0",
      "model_name": "LayoutModel",
      "state": {}
     },
     "ccd0fafec1174131ab344302f7a0e5bc": {
      "model_module": "@jupyter-widgets/controls",
      "model_module_version": "1.4.0",
      "model_name": "DescriptionStyleModel",
      "state": {
       "description_width": ""
      }
     },
     "cce6bc0d4902475697346271ba500159": {
      "model_module": "@jupyter-widgets/base",
      "model_module_version": "1.1.0",
      "model_name": "LayoutModel",
      "state": {}
     },
     "ccf8957e250243e38e921d18626cda90": {
      "model_module": "@jupyter-widgets/base",
      "model_module_version": "1.1.0",
      "model_name": "LayoutModel",
      "state": {}
     },
     "cd4481eb53124a65ba8127edb198ab5f": {
      "model_module": "@jupyter-widgets/controls",
      "model_module_version": "1.4.0",
      "model_name": "DropdownModel",
      "state": {
       "_options_labels": [
        "v",
        "h"
       ],
       "description": "orient",
       "index": 0,
       "layout": "IPY_MODEL_844d5277f0a54fc6962c63e750ddb0f9",
       "style": "IPY_MODEL_4f12f05dda444228bbf434dc8eabea4d"
      }
     },
     "cd546465fd6345e3b4e6e6eede2e77dd": {
      "model_module": "@jupyter-widgets/base",
      "model_module_version": "1.1.0",
      "model_name": "LayoutModel",
      "state": {}
     },
     "cd67f796c13c4799b5128412a9ce254f": {
      "model_module": "@jupyter-widgets/controls",
      "model_module_version": "1.4.0",
      "model_name": "FloatTextModel",
      "state": {
       "description": "vmin",
       "layout": "IPY_MODEL_50875043677c4a6ebba3354f205159aa",
       "step": null,
       "style": "IPY_MODEL_fbce0ff1eb2f4032842f0f798b91574f",
       "value": 1
      }
     },
     "cd9391530747442b941735932a8706a6": {
      "model_module": "@jupyter-widgets/controls",
      "model_module_version": "1.4.0",
      "model_name": "DescriptionStyleModel",
      "state": {
       "description_width": ""
      }
     },
     "cda013d009594945bbc45b674c6c25d8": {
      "model_module": "@jupyter-widgets/base",
      "model_module_version": "1.1.0",
      "model_name": "LayoutModel",
      "state": {}
     },
     "cdc5b25e16934e16a6f643fc87c6d4cb": {
      "model_module": "@jupyter-widgets/controls",
      "model_module_version": "1.4.0",
      "model_name": "DescriptionStyleModel",
      "state": {
       "description_width": ""
      }
     },
     "cdccfa834c404a5cba5d1e0316c81ee7": {
      "model_module": "@jupyter-widgets/base",
      "model_module_version": "1.1.0",
      "model_name": "LayoutModel",
      "state": {}
     },
     "cdf59a7946264871af43bf2cdc979e68": {
      "model_module": "@jupyter-widgets/controls",
      "model_module_version": "1.4.0",
      "model_name": "DescriptionStyleModel",
      "state": {
       "description_width": ""
      }
     },
     "ce44a78c0be445bb8ec95353191c1e93": {
      "model_module": "@jupyter-widgets/controls",
      "model_module_version": "1.4.0",
      "model_name": "TextModel",
      "state": {
       "description": "axlabel",
       "layout": "IPY_MODEL_31ac1f8bf77f4ff188a47a1dff1895e6",
       "style": "IPY_MODEL_4c61d5aef05c48a98c5e519a49846b94"
      }
     },
     "ce8a5377c1d64b23b52bc0c360811f94": {
      "model_module": "@jupyter-widgets/controls",
      "model_module_version": "1.4.0",
      "model_name": "IntTextModel",
      "state": {
       "description": "order",
       "layout": "IPY_MODEL_a88e4f6e69c241619112b57acbd523a8",
       "step": 1,
       "style": "IPY_MODEL_5cac4d946c2c4994b651c535fcba0136",
       "value": 1
      }
     },
     "ce9d5f96a64c4aa392d04ea09fb89d7d": {
      "model_module": "@jupyter-widgets/base",
      "model_module_version": "1.1.0",
      "model_name": "LayoutModel",
      "state": {}
     },
     "cea62fb301eb4883b11acf337b8bfb6c": {
      "model_module": "@jupyter-widgets/controls",
      "model_module_version": "1.4.0",
      "model_name": "FloatTextModel",
      "state": {
       "description": "height",
       "layout": "IPY_MODEL_a929dff5fe5b40ae9acc36af50a4b612",
       "step": null,
       "style": "IPY_MODEL_26074768a03d4714a254dedd27236cb5",
       "value": 1
      }
     },
     "cf0fe43236bb48d39dcba67e3907e26f": {
      "model_module": "@jupyter-widgets/base",
      "model_module_version": "1.1.0",
      "model_name": "LayoutModel",
      "state": {}
     },
     "cf191d9b89e443cfaf7a1e91fa8aaca9": {
      "model_module": "@jupyter-widgets/controls",
      "model_module_version": "1.4.0",
      "model_name": "DescriptionStyleModel",
      "state": {
       "description_width": ""
      }
     },
     "cf6accffd5ea44b18a2e903b19fc45d6": {
      "model_module": "@jupyter-widgets/base",
      "model_module_version": "1.1.0",
      "model_name": "LayoutModel",
      "state": {}
     },
     "cf88b1e909084f08a1ee8a4d1d2d610c": {
      "model_module": "@jupyter-widgets/controls",
      "model_module_version": "1.4.0",
      "model_name": "DescriptionStyleModel",
      "state": {
       "description_width": ""
      }
     },
     "cf90efcaf46d472fa14b2581c0de44d7": {
      "model_module": "@jupyter-widgets/base",
      "model_module_version": "1.1.0",
      "model_name": "LayoutModel",
      "state": {}
     },
     "cfbe57c735824b00a78e2a204f7f69c7": {
      "model_module": "@jupyter-widgets/controls",
      "model_module_version": "1.4.0",
      "model_name": "DescriptionStyleModel",
      "state": {
       "description_width": ""
      }
     },
     "cfc2d97257244f37ae7d739927b680b1": {
      "model_module": "@jupyter-widgets/controls",
      "model_module_version": "1.4.0",
      "model_name": "DropdownModel",
      "state": {
       "_options_labels": [
        "[barplot] capsize",
        "[barplot] color",
        "[barplot] errwidth",
        "[barplot] hue",
        "[barplot] n_boot",
        "[barplot] orient",
        "[barplot] palette",
        "[barplot] saturation",
        "[barplot] x",
        "[barplot] y"
       ],
       "description": "Controls",
       "index": 0,
       "layout": "IPY_MODEL_f5938851622540c68f762c8f86c53cd0",
       "style": "IPY_MODEL_ac41f5476d6d4d4d841ca7ccfd8a4c10"
      }
     },
     "cfc4a5908edb4c4a93d0667a48b257bf": {
      "model_module": "@jupyter-widgets/base",
      "model_module_version": "1.1.0",
      "model_name": "LayoutModel",
      "state": {}
     },
     "cfdb4830678349f090f104384996e77d": {
      "model_module": "@jupyter-widgets/base",
      "model_module_version": "1.1.0",
      "model_name": "LayoutModel",
      "state": {}
     },
     "d07502efa39741ba919b75e4e6928f48": {
      "model_module": "@jupyter-widgets/controls",
      "model_module_version": "1.4.0",
      "model_name": "SliderStyleModel",
      "state": {
       "description_width": ""
      }
     },
     "d087f488226e4c1b82622235c0556864": {
      "model_module": "@jupyter-widgets/base",
      "model_module_version": "1.1.0",
      "model_name": "LayoutModel",
      "state": {}
     },
     "d094380689e143d9981ad3f330049976": {
      "model_module": "@jupyter-widgets/controls",
      "model_module_version": "1.4.0",
      "model_name": "TextModel",
      "state": {
       "description": "palette",
       "layout": "IPY_MODEL_947902e1bb1d4946afe06cb7fb59c81f",
       "style": "IPY_MODEL_d8f782473336486f928d0ea09783fc3c"
      }
     },
     "d0afea2d8f974642b56f71071fb8b590": {
      "model_module": "@jupyter-widgets/controls",
      "model_module_version": "1.4.0",
      "model_name": "DescriptionStyleModel",
      "state": {
       "description_width": ""
      }
     },
     "d0cf9828adef4b6784cc22a8a08fb9e4": {
      "model_module": "@jupyter-widgets/controls",
      "model_module_version": "1.4.0",
      "model_name": "TextModel",
      "state": {
       "description": "palette",
       "layout": "IPY_MODEL_05e2643de05c45d09d9bd9ce714a917e",
       "style": "IPY_MODEL_e1622e09eb7a4762aebe5313adf07979"
      }
     },
     "d0e404ead08b41fdaa634e54c4d12ecd": {
      "model_module": "@jupyter-widgets/controls",
      "model_module_version": "1.4.0",
      "model_name": "DropdownModel",
      "state": {
       "_options_labels": [
        "True",
        "row",
        "col"
       ],
       "description": "sharey",
       "index": 0,
       "layout": "IPY_MODEL_1e78314550284c14be44b7562faf1232",
       "style": "IPY_MODEL_81e57412a78c4f23add625f4438e3294"
      }
     },
     "d10db7e460af4084856f75362903da67": {
      "model_module": "@jupyter-widgets/controls",
      "model_module_version": "1.4.0",
      "model_name": "FloatTextModel",
      "state": {
       "description": "linewidths",
       "layout": "IPY_MODEL_ee93adf943b24f408c5d1e8515858083",
       "step": null,
       "style": "IPY_MODEL_ed390c715d5d45d2a00687d44651420d",
       "value": 1
      }
     },
     "d11aebcd0e4f4b8abeaddb2c56a423e6": {
      "model_module": "@jupyter-widgets/base",
      "model_module_version": "1.1.0",
      "model_name": "LayoutModel",
      "state": {}
     },
     "d129f1e0eb374ccfbac8494cef721c13": {
      "model_module": "@jupyter-widgets/controls",
      "model_module_version": "1.4.0",
      "model_name": "CheckboxModel",
      "state": {
       "description": "legend_out",
       "disabled": false,
       "layout": "IPY_MODEL_95373f7ab3324fa6bd4d08c4356b5561",
       "style": "IPY_MODEL_90b55fabb2fd4ca4a0fc42658b929e10",
       "value": false
      }
     },
     "d14a5d436ba54f3da2f3a13f56e66f6c": {
      "model_module": "@jupyter-widgets/base",
      "model_module_version": "1.1.0",
      "model_name": "LayoutModel",
      "state": {}
     },
     "d163c83bace64d808117fb79a96e7760": {
      "model_module": "@jupyter-widgets/controls",
      "model_module_version": "1.4.0",
      "model_name": "DescriptionStyleModel",
      "state": {
       "description_width": ""
      }
     },
     "d16fc984f56340d99b9cb4b3187a1f94": {
      "model_module": "@jupyter-widgets/controls",
      "model_module_version": "1.4.0",
      "model_name": "DescriptionStyleModel",
      "state": {
       "description_width": ""
      }
     },
     "d1cd6dc4978a4d06a9eacaffcc6d0fdf": {
      "model_module": "@jupyter-widgets/controls",
      "model_module_version": "1.4.0",
      "model_name": "DescriptionStyleModel",
      "state": {
       "description_width": ""
      }
     },
     "d20ef44122014566976caf2be0921e67": {
      "model_module": "@jupyter-widgets/controls",
      "model_module_version": "1.4.0",
      "model_name": "FloatTextModel",
      "state": {
       "description": "height",
       "layout": "IPY_MODEL_1b39e7c8bfec4b2484bfae03e5091e89",
       "step": null,
       "style": "IPY_MODEL_8a08aed1e1c54035bf0e71377c808c26",
       "value": 1
      }
     },
     "d216dbc774314d2ea90220710b82b958": {
      "model_module": "@jupyter-widgets/base",
      "model_module_version": "1.1.0",
      "model_name": "LayoutModel",
      "state": {}
     },
     "d2333f8ed827449494fd745ce4937988": {
      "model_module": "@jupyter-widgets/controls",
      "model_module_version": "1.4.0",
      "model_name": "DescriptionStyleModel",
      "state": {
       "description_width": ""
      }
     },
     "d299ff54444840c68f16b00d67cced57": {
      "model_module": "@jupyter-widgets/controls",
      "model_module_version": "1.4.0",
      "model_name": "DescriptionStyleModel",
      "state": {
       "description_width": ""
      }
     },
     "d2b4fd6aa2ee4d5f82b8fdecd414707d": {
      "model_module": "@jupyter-widgets/controls",
      "model_module_version": "1.4.0",
      "model_name": "DescriptionStyleModel",
      "state": {
       "description_width": ""
      }
     },
     "d31be58d1e3d4ad4b83490531a805aa4": {
      "model_module": "@jupyter-widgets/controls",
      "model_module_version": "1.4.0",
      "model_name": "DescriptionStyleModel",
      "state": {
       "description_width": ""
      }
     },
     "d329ca62ce4e4ee29f2938b6fb616999": {
      "model_module": "@jupyter-widgets/controls",
      "model_module_version": "1.4.0",
      "model_name": "DropdownModel",
      "state": {
       "_options_labels": [
        "gau",
        "cos",
        "biw",
        "epa",
        "tri",
        "triw"
       ],
       "description": "kernel",
       "index": 0,
       "layout": "IPY_MODEL_0e404aee84ae4152b278282ff9103d79",
       "style": "IPY_MODEL_88e86160d8d649faafbd006bd912beb2"
      }
     },
     "d38431606ab24662a8b91a09547668c6": {
      "model_module": "@jupyter-widgets/controls",
      "model_module_version": "1.4.0",
      "model_name": "LabelModel",
      "state": {
       "layout": "IPY_MODEL_c6f1967b1b5e4ff48be7b8a2b0b381be",
       "style": "IPY_MODEL_940e9c7053854a6d82f0106bd504a2bf",
       "value": "---"
      }
     },
     "d3cdf473bea246bc95d0c4489e86deae": {
      "model_module": "@jupyter-widgets/controls",
      "model_module_version": "1.4.0",
      "model_name": "DropdownModel",
      "state": {
       "_options_labels": [
        "brief",
        "full",
        "False"
       ],
       "description": "legend",
       "index": 0,
       "layout": "IPY_MODEL_b6c1dbeedf6f49148c7ad7d55a6d5169",
       "style": "IPY_MODEL_d720701ada8f447aa1067768d7bcdbd3"
      }
     },
     "d3ceac12dbdf4b40ae64cbd8ee3e056a": {
      "model_module": "@jupyter-widgets/controls",
      "model_module_version": "1.4.0",
      "model_name": "CheckboxModel",
      "state": {
       "description": "jitter",
       "disabled": false,
       "layout": "IPY_MODEL_c0fc7fda5d0740fe92944b87d7305422",
       "style": "IPY_MODEL_4c4110c8abe440fc8c50088001914985",
       "value": false
      }
     },
     "d3feb059ae3248b5920076f15caea66d": {
      "model_module": "@jupyter-widgets/controls",
      "model_module_version": "1.4.0",
      "model_name": "CheckboxModel",
      "state": {
       "description": "vertical",
       "disabled": false,
       "layout": "IPY_MODEL_61224602dfac4b96a501da08ce479b73",
       "style": "IPY_MODEL_d56ca99329e94f6598ee5858d38ccd93",
       "value": false
      }
     },
     "d41c470ca0014028a53c842db2c6471e": {
      "model_module": "@jupyter-widgets/controls",
      "model_module_version": "1.4.0",
      "model_name": "ButtonStyleModel",
      "state": {}
     },
     "d42ec77c4e324f918a69b17b2528194d": {
      "model_module": "@jupyter-widgets/controls",
      "model_module_version": "1.4.0",
      "model_name": "DescriptionStyleModel",
      "state": {
       "description_width": ""
      }
     },
     "d437ca71c2ea4febb9a670d733214c46": {
      "model_module": "@jupyter-widgets/controls",
      "model_module_version": "1.4.0",
      "model_name": "ButtonModel",
      "state": {
       "description": "remove",
       "layout": "IPY_MODEL_b5eecb16a11f45129af6adace0cfb069",
       "style": "IPY_MODEL_f07d162ea046484aba16d75f509f1f4c"
      }
     },
     "d457938e1d6a44248a90e9485722a039": {
      "model_module": "@jupyter-widgets/base",
      "model_module_version": "1.1.0",
      "model_name": "LayoutModel",
      "state": {}
     },
     "d468ebec922e4cdea7c666f1e51da22e": {
      "model_module": "@jupyter-widgets/controls",
      "model_module_version": "1.4.0",
      "model_name": "DescriptionStyleModel",
      "state": {
       "description_width": ""
      }
     },
     "d4a70f78ac9e4311b9a1438e86e7f32d": {
      "model_module": "@jupyter-widgets/controls",
      "model_module_version": "1.4.0",
      "model_name": "DropdownModel",
      "state": {
       "_options_labels": [
        "Acceleration",
        "Cylinders",
        "Displacement",
        "Horsepower",
        "Miles_per_Gallon",
        "Name",
        "Origin",
        "Weight_in_lbs",
        "Year"
       ],
       "description": "data2",
       "index": 0,
       "layout": "IPY_MODEL_7e375bed196949ac8884783ba69c6d2d",
       "style": "IPY_MODEL_e98016651fbc48b8a8e6f9b40935d7e5"
      }
     },
     "d4ba169c57474be9bfb73c5b1dee4558": {
      "model_module": "@jupyter-widgets/base",
      "model_module_version": "1.1.0",
      "model_name": "LayoutModel",
      "state": {}
     },
     "d4bc14c56bc8414bbd1200bac336d193": {
      "model_module": "@jupyter-widgets/base",
      "model_module_version": "1.1.0",
      "model_name": "LayoutModel",
      "state": {}
     },
     "d50a7637f78e429d82421653efef909e": {
      "model_module": "@jupyter-widgets/controls",
      "model_module_version": "1.4.0",
      "model_name": "DropdownModel",
      "state": {
       "_options_labels": [
        "proportion",
        "tukey",
        "trustworthy"
       ],
       "description": "k_depth",
       "index": 0,
       "layout": "IPY_MODEL_1da3e0400fb6409f8a9928fffe32284f",
       "style": "IPY_MODEL_7eca1b94d3bb4252b141831eb8b39ac5"
      }
     },
     "d56939223be04c2e80a45126120bb6fe": {
      "model_module": "@jupyter-widgets/controls",
      "model_module_version": "1.4.0",
      "model_name": "IntTextModel",
      "state": {
       "description": "order",
       "layout": "IPY_MODEL_91736b0f12934509ae78d68b81de534d",
       "step": 1,
       "style": "IPY_MODEL_a8fd3573d26f4b0597ada9e1d5b6ea93",
       "value": 1
      }
     },
     "d56ca99329e94f6598ee5858d38ccd93": {
      "model_module": "@jupyter-widgets/controls",
      "model_module_version": "1.4.0",
      "model_name": "DescriptionStyleModel",
      "state": {
       "description_width": ""
      }
     },
     "d58b6fe6d3b94a3ea431796b019a1a65": {
      "model_module": "@jupyter-widgets/base",
      "model_module_version": "1.1.0",
      "model_name": "LayoutModel",
      "state": {}
     },
     "d594273b78a345d2845806a4b49a8b83": {
      "model_module": "@jupyter-widgets/controls",
      "model_module_version": "1.4.0",
      "model_name": "DropdownModel",
      "state": {
       "_options_labels": [
        "v",
        "h"
       ],
       "description": "orient",
       "index": 0,
       "layout": "IPY_MODEL_3bdb44b561694f45b89c4301e41c9304",
       "style": "IPY_MODEL_ff4488bddbf84c83a86c9a5871819dd8"
      }
     },
     "d59d17f877bd44458aa3659bc49070e3": {
      "model_module": "@jupyter-widgets/controls",
      "model_module_version": "1.4.0",
      "model_name": "DropdownModel",
      "state": {
       "_options_labels": [
        "Acceleration",
        "Cylinders",
        "Displacement",
        "Horsepower",
        "Miles_per_Gallon",
        "Name",
        "Origin",
        "Weight_in_lbs",
        "Year"
       ],
       "description": "style",
       "index": 0,
       "layout": "IPY_MODEL_6955289eb4b245f792dc6bd9000e103a",
       "style": "IPY_MODEL_df77eb5fbf524c189080e7ab5d3a70a8"
      }
     },
     "d5a806951cba4fca99fedf170a02fe8c": {
      "model_module": "@jupyter-widgets/base",
      "model_module_version": "1.1.0",
      "model_name": "LayoutModel",
      "state": {}
     },
     "d5ecbae818d24fb4b1acb34f90ddda6e": {
      "model_module": "@jupyter-widgets/controls",
      "model_module_version": "1.4.0",
      "model_name": "HBoxModel",
      "state": {
       "children": [
        "IPY_MODEL_a2213b5975c64ed4b5dd725d99dcaf05",
        "IPY_MODEL_2e87badc57d44fe78a087397b351bbb0"
       ],
       "layout": "IPY_MODEL_dd573fefb9804052afda8b262432b3aa"
      }
     },
     "d5f68e7d8dcd421d819d55b030855487": {
      "model_module": "@jupyter-widgets/controls",
      "model_module_version": "1.4.0",
      "model_name": "DropdownModel",
      "state": {
       "_options_labels": [
        "Acceleration",
        "Cylinders",
        "Displacement",
        "Horsepower",
        "Miles_per_Gallon",
        "Name",
        "Origin",
        "Weight_in_lbs",
        "Year"
       ],
       "description": "a",
       "index": 0,
       "layout": "IPY_MODEL_ccf8957e250243e38e921d18626cda90",
       "style": "IPY_MODEL_3bf5bdad30b14adfb3b5eb9a928a37e9"
      }
     },
     "d5f7b4eee3d9487fabad06b1c64fe522": {
      "model_module": "@jupyter-widgets/controls",
      "model_module_version": "1.4.0",
      "model_name": "DescriptionStyleModel",
      "state": {
       "description_width": ""
      }
     },
     "d656541a2a6747faa62e60dc27924e4e": {
      "model_module": "@jupyter-widgets/base",
      "model_module_version": "1.1.0",
      "model_name": "LayoutModel",
      "state": {}
     },
     "d66f7fdb9ead49f19987c2210e95d789": {
      "model_module": "@jupyter-widgets/controls",
      "model_module_version": "1.4.0",
      "model_name": "DescriptionStyleModel",
      "state": {
       "description_width": ""
      }
     },
     "d6b78b398f0d48718ee77f6d999f3c17": {
      "model_module": "@jupyter-widgets/controls",
      "model_module_version": "1.4.0",
      "model_name": "DescriptionStyleModel",
      "state": {
       "description_width": ""
      }
     },
     "d6cd8d20305749c5aa746754a52654ad": {
      "model_module": "@jupyter-widgets/controls",
      "model_module_version": "1.4.0",
      "model_name": "LabelModel",
      "state": {
       "layout": "IPY_MODEL_0759065b697c493cb09305be41001fa5",
       "style": "IPY_MODEL_7d4f841c9a374d46b077c4e72735f497",
       "value": "---"
      }
     },
     "d712e09088ed46019298e5f66105911a": {
      "model_module": "@jupyter-widgets/base",
      "model_module_version": "1.1.0",
      "model_name": "LayoutModel",
      "state": {}
     },
     "d720701ada8f447aa1067768d7bcdbd3": {
      "model_module": "@jupyter-widgets/controls",
      "model_module_version": "1.4.0",
      "model_name": "DescriptionStyleModel",
      "state": {
       "description_width": ""
      }
     },
     "d73b582351f94149b49b565d96813712": {
      "model_module": "@jupyter-widgets/controls",
      "model_module_version": "1.4.0",
      "model_name": "CheckboxModel",
      "state": {
       "description": "logistic",
       "disabled": false,
       "layout": "IPY_MODEL_9de59f1b02c14b7a97a8147044c715a0",
       "style": "IPY_MODEL_20cd7eedf9c8486bb513c6f7adbb1adc",
       "value": false
      }
     },
     "d74bcf30175e4ebdb5c2f054ed16d26f": {
      "model_module": "@jupyter-widgets/controls",
      "model_module_version": "1.4.0",
      "model_name": "DescriptionStyleModel",
      "state": {
       "description_width": ""
      }
     },
     "d77e8eda50a741c3a6449313bdfe0cf5": {
      "model_module": "@jupyter-widgets/base",
      "model_module_version": "1.1.0",
      "model_name": "LayoutModel",
      "state": {}
     },
     "d796aef89d704650975454aabf8a1c68": {
      "model_module": "@jupyter-widgets/base",
      "model_module_version": "1.1.0",
      "model_name": "LayoutModel",
      "state": {}
     },
     "d7970f60b9f549dfbfd2d1ec194dc391": {
      "model_module": "@jupyter-widgets/controls",
      "model_module_version": "1.4.0",
      "model_name": "ButtonModel",
      "state": {
       "description": "remove",
       "layout": "IPY_MODEL_3ff9cc55612d4497834738b48b263b96",
       "style": "IPY_MODEL_5d149c1dc23f44e0848aaeaa4fe04afb"
      }
     },
     "d7a0ab04fa2243e6a42d41105e0a225b": {
      "model_module": "@jupyter-widgets/controls",
      "model_module_version": "1.4.0",
      "model_name": "DescriptionStyleModel",
      "state": {
       "description_width": ""
      }
     },
     "d7a8fb35ab8c4b4d9c2b522a5290109c": {
      "model_module": "@jupyter-widgets/base",
      "model_module_version": "1.1.0",
      "model_name": "LayoutModel",
      "state": {}
     },
     "d7b3682fdd1a46f4aed27af217d9c4a9": {
      "model_module": "@jupyter-widgets/controls",
      "model_module_version": "1.4.0",
      "model_name": "FloatTextModel",
      "state": {
       "description": "height",
       "layout": "IPY_MODEL_81f6badf78d443c1bc25146393c61c89",
       "step": null,
       "style": "IPY_MODEL_440cfe21e2874c7d919d536468cdbe2f",
       "value": 1
      }
     },
     "d7fa50d8438e4268b31352dfbaa32a36": {
      "model_module": "@jupyter-widgets/controls",
      "model_module_version": "1.4.0",
      "model_name": "ButtonStyleModel",
      "state": {}
     },
     "d82ae5ec07c3491089ae670ebd32fad0": {
      "model_module": "@jupyter-widgets/controls",
      "model_module_version": "1.4.0",
      "model_name": "DescriptionStyleModel",
      "state": {
       "description_width": ""
      }
     },
     "d83818321e5e4f2a9f33a79eb8cc1606": {
      "model_module": "@jupyter-widgets/controls",
      "model_module_version": "1.4.0",
      "model_name": "CheckboxModel",
      "state": {
       "description": "cbar",
       "disabled": false,
       "layout": "IPY_MODEL_165e3f5998fe490ca59b6ee55be6369e",
       "style": "IPY_MODEL_8bc5284b850840e298fb84365b66156d",
       "value": false
      }
     },
     "d87492df143f41d884392fdbb59361a3": {
      "model_module": "@jupyter-widgets/base",
      "model_module_version": "1.1.0",
      "model_name": "LayoutModel",
      "state": {}
     },
     "d88cf7cd16eb4404aa406dc1569af496": {
      "model_module": "@jupyter-widgets/controls",
      "model_module_version": "1.4.0",
      "model_name": "IntTextModel",
      "state": {
       "description": "gridsize",
       "layout": "IPY_MODEL_b61290367ae5471f8a64da626328f2ee",
       "step": 1,
       "style": "IPY_MODEL_96a8304358944b1a928205da1d0e56b1",
       "value": 100
      }
     },
     "d89b661bd0db43f78a7c5b9cf689b02e": {
      "model_module": "@jupyter-widgets/base",
      "model_module_version": "1.1.0",
      "model_name": "LayoutModel",
      "state": {}
     },
     "d8a007c6654c4feda7b28ddea63f0db4": {
      "model_module": "@jupyter-widgets/controls",
      "model_module_version": "1.4.0",
      "model_name": "LabelModel",
      "state": {
       "layout": "IPY_MODEL_80fb972cbbbd4a0a9e101f496827587b",
       "style": "IPY_MODEL_8b072a42166e4d7aaa29dd55870ddf66",
       "value": "---"
      }
     },
     "d8ed4c59e19441f39e246bfbd16bc8cd": {
      "model_module": "@jupyter-widgets/base",
      "model_module_version": "1.1.0",
      "model_name": "LayoutModel",
      "state": {}
     },
     "d8f58c0139404d51b03c062c2405341b": {
      "model_module": "@jupyter-widgets/controls",
      "model_module_version": "1.4.0",
      "model_name": "DescriptionStyleModel",
      "state": {
       "description_width": ""
      }
     },
     "d8f782473336486f928d0ea09783fc3c": {
      "model_module": "@jupyter-widgets/controls",
      "model_module_version": "1.4.0",
      "model_name": "DescriptionStyleModel",
      "state": {
       "description_width": ""
      }
     },
     "d9241b3d97d64340aea566f6364ebe4d": {
      "model_module": "@jupyter-widgets/controls",
      "model_module_version": "1.4.0",
      "model_name": "DescriptionStyleModel",
      "state": {
       "description_width": ""
      }
     },
     "d953a4a6724a4a83ac2bc9f0ce0a43e3": {
      "model_module": "@jupyter-widgets/controls",
      "model_module_version": "1.4.0",
      "model_name": "DescriptionStyleModel",
      "state": {
       "description_width": ""
      }
     },
     "d980eef8ab1647c8b8e70f14aab73408": {
      "model_module": "@jupyter-widgets/controls",
      "model_module_version": "1.4.0",
      "model_name": "DescriptionStyleModel",
      "state": {
       "description_width": ""
      }
     },
     "dac7761de42d40c1a3472427523894aa": {
      "model_module": "@jupyter-widgets/controls",
      "model_module_version": "1.4.0",
      "model_name": "TextModel",
      "state": {
       "description": "linecolor",
       "layout": "IPY_MODEL_52ae487b05cd48dd9b3f273367d91ce7",
       "style": "IPY_MODEL_e5359ca2b673416ebbe41542c432b9c5"
      }
     },
     "daca875837444fe0b002577c19ea1a18": {
      "model_module": "@jupyter-widgets/base",
      "model_module_version": "1.1.0",
      "model_name": "LayoutModel",
      "state": {}
     },
     "dae3bb4a18f94958b946172617293e17": {
      "model_module": "@jupyter-widgets/controls",
      "model_module_version": "1.4.0",
      "model_name": "CheckboxModel",
      "state": {
       "description": "jitter",
       "disabled": false,
       "layout": "IPY_MODEL_cb766adf79394b2691fbacb36f0283f7",
       "style": "IPY_MODEL_5e45cc5d804f4798a482820dc667fd48",
       "value": false
      }
     },
     "db04635703214d88b0d259b38fc43a83": {
      "model_module": "@jupyter-widgets/controls",
      "model_module_version": "1.4.0",
      "model_name": "DescriptionStyleModel",
      "state": {
       "description_width": ""
      }
     },
     "db24efd7bcc94b9ca4d189ef29a9d134": {
      "model_module": "@jupyter-widgets/controls",
      "model_module_version": "1.4.0",
      "model_name": "DescriptionStyleModel",
      "state": {
       "description_width": ""
      }
     },
     "db4d25de3cc24f9b93f60fd4a58ef92d": {
      "model_module": "@jupyter-widgets/controls",
      "model_module_version": "1.4.0",
      "model_name": "SliderStyleModel",
      "state": {
       "description_width": ""
      }
     },
     "db73b82335b64678b1e673d589f23f29": {
      "model_module": "@jupyter-widgets/controls",
      "model_module_version": "1.4.0",
      "model_name": "LabelModel",
      "state": {
       "layout": "IPY_MODEL_d5a806951cba4fca99fedf170a02fe8c",
       "style": "IPY_MODEL_1194382aec4e468ab0e6d1876ef625a8",
       "value": "---"
      }
     },
     "db952ea9aed046d1b4edef5d8a30e318": {
      "model_module": "@jupyter-widgets/controls",
      "model_module_version": "1.4.0",
      "model_name": "DropdownModel",
      "state": {
       "_options_labels": [
        "Acceleration",
        "Cylinders",
        "Displacement",
        "Horsepower",
        "Miles_per_Gallon",
        "Name",
        "Origin",
        "Weight_in_lbs",
        "Year"
       ],
       "description": "data",
       "index": 0,
       "layout": "IPY_MODEL_cbdfaadcc8e54999bba4a35d459da1c2",
       "style": "IPY_MODEL_32134033b15e41e39c0b80e2ff518b9c"
      }
     },
     "dbb02ab467f54243963bca623b388d93": {
      "model_module": "@jupyter-widgets/base",
      "model_module_version": "1.1.0",
      "model_name": "LayoutModel",
      "state": {}
     },
     "dbbd0d7d60c847c598381a9044a331fb": {
      "model_module": "@jupyter-widgets/base",
      "model_module_version": "1.1.0",
      "model_name": "LayoutModel",
      "state": {}
     },
     "dc327a46d9434a359dcb115e95aaf852": {
      "model_module": "@jupyter-widgets/base",
      "model_module_version": "1.1.0",
      "model_name": "LayoutModel",
      "state": {}
     },
     "dc5fbf88dd0e4ed7bb27f2247bbdd197": {
      "model_module": "@jupyter-widgets/controls",
      "model_module_version": "1.4.0",
      "model_name": "DescriptionStyleModel",
      "state": {
       "description_width": ""
      }
     },
     "dc79d45d038344a7b9d6caffd472cf8d": {
      "model_module": "@jupyter-widgets/output",
      "model_module_version": "1.0.0",
      "model_name": "OutputModel",
      "state": {
       "layout": "IPY_MODEL_6c9fff2abd01499bb3dda70c9f0ce23a",
       "outputs": [
        {
         "data": {
          "image/png": "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\n",
          "text/plain": "<Figure size 432x288 with 1 Axes>"
         },
         "metadata": {},
         "output_type": "display_data"
        }
       ]
      }
     },
     "dcbaab6506e5404288070dea71571d68": {
      "model_module": "@jupyter-widgets/controls",
      "model_module_version": "1.4.0",
      "model_name": "DescriptionStyleModel",
      "state": {
       "description_width": ""
      }
     },
     "dd356c0cbf8447989b6ca3fdb5a4deeb": {
      "model_module": "@jupyter-widgets/controls",
      "model_module_version": "1.4.0",
      "model_name": "DescriptionStyleModel",
      "state": {
       "description_width": ""
      }
     },
     "dd52bbc6214c4dfeac0c147b85bbcfff": {
      "model_module": "@jupyter-widgets/controls",
      "model_module_version": "1.4.0",
      "model_name": "LabelModel",
      "state": {
       "layout": "IPY_MODEL_1d2a568d2be04ff08f5c5ab2307eb8d2",
       "style": "IPY_MODEL_f217dfec4685498a871079bc9bb0fc3c",
       "value": "---"
      }
     },
     "dd573fefb9804052afda8b262432b3aa": {
      "model_module": "@jupyter-widgets/base",
      "model_module_version": "1.1.0",
      "model_name": "LayoutModel",
      "state": {}
     },
     "dd5aed61ef8b4aa9b95e35e0ccbc71aa": {
      "model_module": "@jupyter-widgets/controls",
      "model_module_version": "1.4.0",
      "model_name": "DescriptionStyleModel",
      "state": {
       "description_width": ""
      }
     },
     "dd6ebd5ff4f54b8bad42d6db0c0529fa": {
      "model_module": "@jupyter-widgets/base",
      "model_module_version": "1.1.0",
      "model_name": "LayoutModel",
      "state": {}
     },
     "dd7f3b9c72314408b19837ec5404d897": {
      "model_module": "@jupyter-widgets/controls",
      "model_module_version": "1.4.0",
      "model_name": "SliderStyleModel",
      "state": {
       "description_width": ""
      }
     },
     "ddab0a1558ab434e93a901d312b283d7": {
      "model_module": "@jupyter-widgets/controls",
      "model_module_version": "1.4.0",
      "model_name": "DescriptionStyleModel",
      "state": {
       "description_width": ""
      }
     },
     "dddbf51476eb459ca0e947529691d89d": {
      "model_module": "@jupyter-widgets/base",
      "model_module_version": "1.1.0",
      "model_name": "LayoutModel",
      "state": {}
     },
     "de321b66532148098ca7d2ea6b9ad779": {
      "model_module": "@jupyter-widgets/base",
      "model_module_version": "1.1.0",
      "model_name": "LayoutModel",
      "state": {}
     },
     "de46609a46e04954b7859f420e1afdbe": {
      "model_module": "@jupyter-widgets/base",
      "model_module_version": "1.1.0",
      "model_name": "LayoutModel",
      "state": {}
     },
     "de6fc1bbe5bd40e8be9c5393034a7902": {
      "model_module": "@jupyter-widgets/base",
      "model_module_version": "1.1.0",
      "model_name": "LayoutModel",
      "state": {}
     },
     "de7e8660b64442258b4a023183a23287": {
      "model_module": "@jupyter-widgets/controls",
      "model_module_version": "1.4.0",
      "model_name": "DescriptionStyleModel",
      "state": {
       "description_width": ""
      }
     },
     "ded4cf31d84c40dfbe8b55331d2acd9c": {
      "model_module": "@jupyter-widgets/base",
      "model_module_version": "1.1.0",
      "model_name": "LayoutModel",
      "state": {}
     },
     "dee636654827410ea573c42d39fed3ff": {
      "model_module": "@jupyter-widgets/base",
      "model_module_version": "1.1.0",
      "model_name": "LayoutModel",
      "state": {}
     },
     "df11025ae33f4746bbbad120157946c6": {
      "model_module": "@jupyter-widgets/base",
      "model_module_version": "1.1.0",
      "model_name": "LayoutModel",
      "state": {}
     },
     "df50f6a865f94f618d6e3f8b6b40bb87": {
      "model_module": "@jupyter-widgets/controls",
      "model_module_version": "1.4.0",
      "model_name": "DropdownModel",
      "state": {
       "_options_labels": [
        "point",
        "bar",
        "strip",
        "swarm",
        "box",
        "violin",
        "boxen"
       ],
       "description": "kind",
       "index": 0,
       "layout": "IPY_MODEL_e319b3a29602478894f28f1d4e6b90ca",
       "style": "IPY_MODEL_cafd0e0af72649a480e20b3480e00c66"
      }
     },
     "df77eb5fbf524c189080e7ab5d3a70a8": {
      "model_module": "@jupyter-widgets/controls",
      "model_module_version": "1.4.0",
      "model_name": "DescriptionStyleModel",
      "state": {
       "description_width": ""
      }
     },
     "dfaba91336c04b9392f3f324f39a5175": {
      "model_module": "@jupyter-widgets/controls",
      "model_module_version": "1.4.0",
      "model_name": "DescriptionStyleModel",
      "state": {
       "description_width": ""
      }
     },
     "dfb7df1aa5594ac881e81ce3c54228dc": {
      "model_module": "@jupyter-widgets/controls",
      "model_module_version": "1.4.0",
      "model_name": "FloatSliderModel",
      "state": {
       "description": "alpha",
       "layout": "IPY_MODEL_563b8fcfb9854507a5bf35a7c948a551",
       "max": 1,
       "step": 0.05,
       "style": "IPY_MODEL_cb230bbeb69a4014b668c199ac06ed76"
      }
     },
     "dfba0fc559754bec82990d981d00f314": {
      "model_module": "@jupyter-widgets/base",
      "model_module_version": "1.1.0",
      "model_name": "LayoutModel",
      "state": {}
     },
     "e00f0e5700a84c2abd8137239dc1f437": {
      "model_module": "@jupyter-widgets/base",
      "model_module_version": "1.1.0",
      "model_name": "LayoutModel",
      "state": {}
     },
     "e040acf043ec44a799a20802ca22870e": {
      "model_module": "@jupyter-widgets/controls",
      "model_module_version": "1.4.0",
      "model_name": "DescriptionStyleModel",
      "state": {
       "description_width": ""
      }
     },
     "e056d053bfb24339b0fc982e394ada7f": {
      "model_module": "@jupyter-widgets/controls",
      "model_module_version": "1.4.0",
      "model_name": "DescriptionStyleModel",
      "state": {
       "description_width": ""
      }
     },
     "e05d2a444ba745fba07819868378d56f": {
      "model_module": "@jupyter-widgets/base",
      "model_module_version": "1.1.0",
      "model_name": "LayoutModel",
      "state": {}
     },
     "e0685d7e692e464eaeb2f91eabede888": {
      "model_module": "@jupyter-widgets/base",
      "model_module_version": "1.1.0",
      "model_name": "LayoutModel",
      "state": {}
     },
     "e079e84635a04dc285321358f6f53218": {
      "model_module": "@jupyter-widgets/base",
      "model_module_version": "1.1.0",
      "model_name": "LayoutModel",
      "state": {}
     },
     "e0954bf5c3a74f83a19a7485e6b44882": {
      "model_module": "@jupyter-widgets/controls",
      "model_module_version": "1.4.0",
      "model_name": "HBoxModel",
      "state": {
       "children": [
        "IPY_MODEL_aeb2990dfc164bacb73fc658f72f5aa1",
        "IPY_MODEL_9b656c66891d4fc0a13471cdd16da514"
       ],
       "layout": "IPY_MODEL_bb0a24a9a9544d6b97209be887cfbfb6"
      }
     },
     "e0d96c96ad1849b59bdfffd5c53814a4": {
      "model_module": "@jupyter-widgets/controls",
      "model_module_version": "1.4.0",
      "model_name": "SliderStyleModel",
      "state": {
       "description_width": ""
      }
     },
     "e10e15c24bf345249bec80a98e42466f": {
      "model_module": "@jupyter-widgets/base",
      "model_module_version": "1.1.0",
      "model_name": "LayoutModel",
      "state": {}
     },
     "e14059572fca46b0a96bbe52c4e4088c": {
      "model_module": "@jupyter-widgets/controls",
      "model_module_version": "1.4.0",
      "model_name": "TextModel",
      "state": {
       "description": "label",
       "layout": "IPY_MODEL_aea3128dddc34ffc8a167f639c2105ca",
       "style": "IPY_MODEL_a680f08b80f34b768ecde752b1b9ce21"
      }
     },
     "e1622e09eb7a4762aebe5313adf07979": {
      "model_module": "@jupyter-widgets/controls",
      "model_module_version": "1.4.0",
      "model_name": "DescriptionStyleModel",
      "state": {
       "description_width": ""
      }
     },
     "e1748cd3678146849c36521d48f1742b": {
      "model_module": "@jupyter-widgets/controls",
      "model_module_version": "1.4.0",
      "model_name": "IntSliderModel",
      "state": {
       "description": "ci",
       "layout": "IPY_MODEL_00d447dd85d640209b0479a555d5f5b2",
       "style": "IPY_MODEL_b5f4a8fc2a4f4cc9a29b5dbc9e6d901e",
       "value": 95
      }
     },
     "e17835a06a514f20af661b1d8fe634a3": {
      "model_module": "@jupyter-widgets/controls",
      "model_module_version": "1.4.0",
      "model_name": "DescriptionStyleModel",
      "state": {
       "description_width": ""
      }
     },
     "e2401e9dcf10479f8a1bc08cb6ff0aec": {
      "model_module": "@jupyter-widgets/controls",
      "model_module_version": "1.4.0",
      "model_name": "DescriptionStyleModel",
      "state": {
       "description_width": ""
      }
     },
     "e26a0525104d4a87a1dd09a06ec62718": {
      "model_module": "@jupyter-widgets/controls",
      "model_module_version": "1.4.0",
      "model_name": "ButtonModel",
      "state": {
       "description": "remove",
       "layout": "IPY_MODEL_3e8d0e98656d40cb98986736ada5426e",
       "style": "IPY_MODEL_e56c612f16e1426499a4e9c3902b3d25"
      }
     },
     "e290d64ccfa04b249b1e7d99cbfc368a": {
      "model_module": "@jupyter-widgets/controls",
      "model_module_version": "1.4.0",
      "model_name": "CheckboxModel",
      "state": {
       "description": "norm_hist",
       "disabled": false,
       "layout": "IPY_MODEL_34a48f7231f347fc9377ea7ab7eff1b5",
       "style": "IPY_MODEL_d2b4fd6aa2ee4d5f82b8fdecd414707d",
       "value": false
      }
     },
     "e2a8c48b137247dd8e08da4a9dcbc112": {
      "model_module": "@jupyter-widgets/controls",
      "model_module_version": "1.4.0",
      "model_name": "DescriptionStyleModel",
      "state": {
       "description_width": ""
      }
     },
     "e2aba0b5dc824324ba56ed07bc4f3667": {
      "model_module": "@jupyter-widgets/controls",
      "model_module_version": "1.4.0",
      "model_name": "TextModel",
      "state": {
       "description": "linecolor",
       "layout": "IPY_MODEL_e0685d7e692e464eaeb2f91eabede888",
       "style": "IPY_MODEL_bb3fafd0a51b42deb7a092f323f721d6"
      }
     },
     "e2c9203ec55146be893432bbf3287dbe": {
      "model_module": "@jupyter-widgets/controls",
      "model_module_version": "1.4.0",
      "model_name": "ButtonStyleModel",
      "state": {}
     },
     "e2cd21e9a35a4f0485b657369845bfaf": {
      "model_module": "@jupyter-widgets/controls",
      "model_module_version": "1.4.0",
      "model_name": "DropdownModel",
      "state": {
       "_options_labels": [
        "band",
        "bars"
       ],
       "description": "err_style",
       "index": 0,
       "layout": "IPY_MODEL_07571e5c7cb34a73ad94054230e11e13",
       "style": "IPY_MODEL_7c51ff0bc97a424e80f285d503d83fb1"
      }
     },
     "e2d060856af34321b46021d7e54002bd": {
      "model_module": "@jupyter-widgets/controls",
      "model_module_version": "1.4.0",
      "model_name": "TextModel",
      "state": {
       "description": "palette",
       "layout": "IPY_MODEL_1c38764a90b740ee8e947406c8ed7fdf",
       "style": "IPY_MODEL_8ca2a6e46b434f2fbd1d33ced66eedee"
      }
     },
     "e2ec2a3295df4e40b920a058e24fc085": {
      "model_module": "@jupyter-widgets/controls",
      "model_module_version": "1.4.0",
      "model_name": "FloatTextModel",
      "state": {
       "description": "vmin",
       "layout": "IPY_MODEL_4477e2b2e6b24049bdd32e1b33044177",
       "step": null,
       "style": "IPY_MODEL_4c65d711799049cfbea470cefd73229e",
       "value": 1
      }
     },
     "e3058446f9794635b64685b99b66dd9b": {
      "model_module": "@jupyter-widgets/controls",
      "model_module_version": "1.4.0",
      "model_name": "TextModel",
      "state": {
       "description": "fmt",
       "layout": "IPY_MODEL_10e54e7bd26d424284cce26cd92545ea",
       "style": "IPY_MODEL_a4a07668ddf8442b945c73981b9593f2"
      }
     },
     "e30d77ab3e654777a1f6fecfb2e447c8": {
      "model_module": "@jupyter-widgets/controls",
      "model_module_version": "1.4.0",
      "model_name": "FloatTextModel",
      "state": {
       "description": "size",
       "layout": "IPY_MODEL_96870fa3ab8a4f35b97ddd0920cbfe00",
       "step": null,
       "style": "IPY_MODEL_5fdcb39a0ed94bbbb24bc064206095d8",
       "value": 1
      }
     },
     "e319b3a29602478894f28f1d4e6b90ca": {
      "model_module": "@jupyter-widgets/base",
      "model_module_version": "1.1.0",
      "model_name": "LayoutModel",
      "state": {}
     },
     "e347c683411a4081bfa2f3571d9533c9": {
      "model_module": "@jupyter-widgets/controls",
      "model_module_version": "1.4.0",
      "model_name": "DescriptionStyleModel",
      "state": {
       "description_width": ""
      }
     },
     "e36bae98e9184c8a930462965e91cdb6": {
      "model_module": "@jupyter-widgets/controls",
      "model_module_version": "1.4.0",
      "model_name": "DescriptionStyleModel",
      "state": {
       "description_width": ""
      }
     },
     "e372724f942a4dd0b541239dffd8514b": {
      "model_module": "@jupyter-widgets/controls",
      "model_module_version": "1.4.0",
      "model_name": "HBoxModel",
      "state": {
       "children": [
        "IPY_MODEL_aeb2990dfc164bacb73fc658f72f5aa1",
        "IPY_MODEL_36d89c65285c45f1ade5f4db6db95fb2"
       ],
       "layout": "IPY_MODEL_9051592a96a7454b93e0085179609878"
      }
     },
     "e377325a1d60496381971017f5cc26b7": {
      "model_module": "@jupyter-widgets/controls",
      "model_module_version": "1.4.0",
      "model_name": "FloatTextModel",
      "state": {
       "description": "linewidth",
       "layout": "IPY_MODEL_75eb998450614e83b17ecb5ecdfab895",
       "step": null,
       "style": "IPY_MODEL_80ff43059ed542f7aecfafa1dd40670f",
       "value": 1
      }
     },
     "e3c38f58ac6b4d279f7b0944a13e1e41": {
      "model_module": "@jupyter-widgets/controls",
      "model_module_version": "1.4.0",
      "model_name": "SliderStyleModel",
      "state": {
       "description_width": ""
      }
     },
     "e3cad8b08eae42cc9cf4c0cb46314d6e": {
      "model_module": "@jupyter-widgets/controls",
      "model_module_version": "1.4.0",
      "model_name": "DescriptionStyleModel",
      "state": {
       "description_width": ""
      }
     },
     "e430cdc22d07412caf819c4d1a99f963": {
      "model_module": "@jupyter-widgets/controls",
      "model_module_version": "1.4.0",
      "model_name": "DescriptionStyleModel",
      "state": {
       "description_width": ""
      }
     },
     "e45cf45e6a4a4dc8907912ef66de8a60": {
      "model_module": "@jupyter-widgets/controls",
      "model_module_version": "1.4.0",
      "model_name": "DescriptionStyleModel",
      "state": {
       "description_width": ""
      }
     },
     "e4913ea3d105419280a63d4aee9e0c9e": {
      "model_module": "@jupyter-widgets/controls",
      "model_module_version": "1.4.0",
      "model_name": "DescriptionStyleModel",
      "state": {
       "description_width": ""
      }
     },
     "e4b81295408840158cab0708d4cde8d6": {
      "model_module": "@jupyter-widgets/controls",
      "model_module_version": "1.4.0",
      "model_name": "LabelModel",
      "state": {
       "layout": "IPY_MODEL_90811c6fc94f4afba00eb5ff6742e2fe",
       "style": "IPY_MODEL_6e09efc5fb7a49599b2d2512601815d4",
       "value": "---"
      }
     },
     "e4cf3a5b82f94b64b1f954621e7f463e": {
      "model_module": "@jupyter-widgets/base",
      "model_module_version": "1.1.0",
      "model_name": "LayoutModel",
      "state": {}
     },
     "e4f80bb3f8bf41a68c47837848a639ce": {
      "model_module": "@jupyter-widgets/base",
      "model_module_version": "1.1.0",
      "model_name": "LayoutModel",
      "state": {}
     },
     "e5359ca2b673416ebbe41542c432b9c5": {
      "model_module": "@jupyter-widgets/controls",
      "model_module_version": "1.4.0",
      "model_name": "DescriptionStyleModel",
      "state": {
       "description_width": ""
      }
     },
     "e539a93abf26471687120b525ac90fab": {
      "model_module": "@jupyter-widgets/controls",
      "model_module_version": "1.4.0",
      "model_name": "CheckboxModel",
      "state": {
       "description": "cumulative",
       "disabled": false,
       "layout": "IPY_MODEL_71c1ef8fa08d4aa3997b6acbb2f9c20e",
       "style": "IPY_MODEL_c59d09f1bbbb4955a07c4a86aa0947d4",
       "value": false
      }
     },
     "e551d61256154da8ba5350f85c234cee": {
      "model_module": "@jupyter-widgets/controls",
      "model_module_version": "1.4.0",
      "model_name": "LabelModel",
      "state": {
       "layout": "IPY_MODEL_e10e15c24bf345249bec80a98e42466f",
       "style": "IPY_MODEL_110d7e3437714880ae117dd27e9f7529",
       "value": "---"
      }
     },
     "e567d6191a434a179e229d0ffecba16c": {
      "model_module": "@jupyter-widgets/base",
      "model_module_version": "1.1.0",
      "model_name": "LayoutModel",
      "state": {}
     },
     "e56c612f16e1426499a4e9c3902b3d25": {
      "model_module": "@jupyter-widgets/controls",
      "model_module_version": "1.4.0",
      "model_name": "ButtonStyleModel",
      "state": {}
     },
     "e62aceabd8d94c64b251bfe7ceb0a60e": {
      "model_module": "@jupyter-widgets/controls",
      "model_module_version": "1.4.0",
      "model_name": "DescriptionStyleModel",
      "state": {
       "description_width": ""
      }
     },
     "e6601de27b22448daa3839c36e333bd6": {
      "model_module": "@jupyter-widgets/controls",
      "model_module_version": "1.4.0",
      "model_name": "CheckboxModel",
      "state": {
       "description": "dropna",
       "disabled": false,
       "layout": "IPY_MODEL_57e050abfa074a7fae348f67a6d4f2a2",
       "style": "IPY_MODEL_e4913ea3d105419280a63d4aee9e0c9e",
       "value": false
      }
     },
     "e677c87807904004a8b785822eb3d337": {
      "model_module": "@jupyter-widgets/base",
      "model_module_version": "1.1.0",
      "model_name": "LayoutModel",
      "state": {}
     },
     "e683d7651a8340a9a606499e3d8be58b": {
      "model_module": "@jupyter-widgets/controls",
      "model_module_version": "1.4.0",
      "model_name": "DescriptionStyleModel",
      "state": {
       "description_width": ""
      }
     },
     "e69f7f240324450d828da2d564f44b20": {
      "model_module": "@jupyter-widgets/controls",
      "model_module_version": "1.4.0",
      "model_name": "CheckboxModel",
      "state": {
       "description": "rug",
       "disabled": false,
       "layout": "IPY_MODEL_5aa7b1fc81474532b49ae1de21eb220a",
       "style": "IPY_MODEL_bf4982d4c44049d4a5098efe58d2686b",
       "value": false
      }
     },
     "e6a57faee16b405e9c5ebc7d97743dbc": {
      "model_module": "@jupyter-widgets/base",
      "model_module_version": "1.1.0",
      "model_name": "LayoutModel",
      "state": {}
     },
     "e6bee3311d934819bf313829f4dc69e2": {
      "model_module": "@jupyter-widgets/controls",
      "model_module_version": "1.4.0",
      "model_name": "DescriptionStyleModel",
      "state": {
       "description_width": ""
      }
     },
     "e6cdf93c795b4fefbf8b60ef7e8faad0": {
      "model_module": "@jupyter-widgets/controls",
      "model_module_version": "1.4.0",
      "model_name": "TextModel",
      "state": {
       "description": "cmap",
       "layout": "IPY_MODEL_2c79e520a8814913b3fcd344aad3dae3",
       "style": "IPY_MODEL_d2333f8ed827449494fd745ce4937988",
       "value": "viridis"
      }
     },
     "e6cf2db7761c4abfbe77b5fc1d0f7c7d": {
      "model_module": "@jupyter-widgets/controls",
      "model_module_version": "1.4.0",
      "model_name": "ButtonModel",
      "state": {
       "description": "remove",
       "layout": "IPY_MODEL_69f864d078de40b9b92b82bfcac0a843",
       "style": "IPY_MODEL_9e388f9538764af99a6350c524cd9195"
      }
     },
     "e6ede79d6002410da566367a7aaf1f00": {
      "model_module": "@jupyter-widgets/controls",
      "model_module_version": "1.4.0",
      "model_name": "DescriptionStyleModel",
      "state": {
       "description_width": ""
      }
     },
     "e6f3332884e34a8eafad72d83d17239c": {
      "model_module": "@jupyter-widgets/base",
      "model_module_version": "1.1.0",
      "model_name": "LayoutModel",
      "state": {}
     },
     "e7100f05abd3484abd6eb1ff81d102cb": {
      "model_module": "@jupyter-widgets/controls",
      "model_module_version": "1.4.0",
      "model_name": "FloatTextModel",
      "state": {
       "description": "width",
       "layout": "IPY_MODEL_5a0712c68e214507acea0e8e0aa42b54",
       "step": null,
       "style": "IPY_MODEL_4d399185d88945ada35e4527d81f13fb",
       "value": 1
      }
     },
     "e710ac4591524771b4ff5abf38ff4988": {
      "model_module": "@jupyter-widgets/base",
      "model_module_version": "1.1.0",
      "model_name": "LayoutModel",
      "state": {}
     },
     "e726762026d347538712a5fb45229f3e": {
      "model_module": "@jupyter-widgets/controls",
      "model_module_version": "1.4.0",
      "model_name": "CheckboxModel",
      "state": {
       "description": "sort",
       "disabled": false,
       "layout": "IPY_MODEL_9a3c8d3a888b46c5a66eb2231a64cce0",
       "style": "IPY_MODEL_e6bee3311d934819bf313829f4dc69e2",
       "value": false
      }
     },
     "e7310c3ec9be44c2b2238cbb565b74fe": {
      "model_module": "@jupyter-widgets/base",
      "model_module_version": "1.1.0",
      "model_name": "LayoutModel",
      "state": {}
     },
     "e762b39ae9014026b307dd49c99db6b7": {
      "model_module": "@jupyter-widgets/controls",
      "model_module_version": "1.4.0",
      "model_name": "FloatTextModel",
      "state": {
       "description": "y_jitter",
       "layout": "IPY_MODEL_82766c21e5d241a9bde2520028cc8fae",
       "step": null,
       "style": "IPY_MODEL_f090e52ce8a644bb9b9edf63241db000",
       "value": 1
      }
     },
     "e791d33cb8a141a593e3e86d15e48336": {
      "model_module": "@jupyter-widgets/base",
      "model_module_version": "1.1.0",
      "model_name": "LayoutModel",
      "state": {}
     },
     "e7e7d96baf2d4120a8e804784f913771": {
      "model_module": "@jupyter-widgets/base",
      "model_module_version": "1.1.0",
      "model_name": "LayoutModel",
      "state": {}
     },
     "e7fa1a3cf33941528d10becac22427f6": {
      "model_module": "@jupyter-widgets/controls",
      "model_module_version": "1.4.0",
      "model_name": "DescriptionStyleModel",
      "state": {
       "description_width": ""
      }
     },
     "e80ce8132940479298c56cfb9db4f580": {
      "model_module": "@jupyter-widgets/base",
      "model_module_version": "1.1.0",
      "model_name": "LayoutModel",
      "state": {}
     },
     "e80ded6a24d4476fbb9eaf99ea893fe7": {
      "model_module": "@jupyter-widgets/controls",
      "model_module_version": "1.4.0",
      "model_name": "DescriptionStyleModel",
      "state": {
       "description_width": ""
      }
     },
     "e81935aff8c14dcea0596994c697d0de": {
      "model_module": "@jupyter-widgets/base",
      "model_module_version": "1.1.0",
      "model_name": "LayoutModel",
      "state": {}
     },
     "e8303d37d52443918d5b84cccb421b48": {
      "model_module": "@jupyter-widgets/base",
      "model_module_version": "1.1.0",
      "model_name": "LayoutModel",
      "state": {}
     },
     "e85f5b3c1c284aebb7e94a7bb1fbca09": {
      "model_module": "@jupyter-widgets/controls",
      "model_module_version": "1.4.0",
      "model_name": "HBoxModel",
      "state": {
       "children": [
        "IPY_MODEL_fcbfd57b25c240b2ada847cd0785c0ca",
        "IPY_MODEL_93d94854e4ca4726b54bf0999925edb5"
       ],
       "layout": "IPY_MODEL_dc327a46d9434a359dcb115e95aaf852"
      }
     },
     "e8dd48e565b44611b9d7f249c3a239c7": {
      "model_module": "@jupyter-widgets/controls",
      "model_module_version": "1.4.0",
      "model_name": "CheckboxModel",
      "state": {
       "description": "logx",
       "disabled": false,
       "layout": "IPY_MODEL_d796aef89d704650975454aabf8a1c68",
       "style": "IPY_MODEL_5eade71d56404327afd8a93633ec73d4",
       "value": false
      }
     },
     "e92dbcb5bc3c4e919f115ce45b33e882": {
      "model_module": "@jupyter-widgets/base",
      "model_module_version": "1.1.0",
      "model_name": "LayoutModel",
      "state": {}
     },
     "e9631db3e07d4ce3b2dde01138db517b": {
      "model_module": "@jupyter-widgets/controls",
      "model_module_version": "1.4.0",
      "model_name": "DescriptionStyleModel",
      "state": {
       "description_width": ""
      }
     },
     "e966080ff3ac498391f7d12de6bfd8f3": {
      "model_module": "@jupyter-widgets/controls",
      "model_module_version": "1.4.0",
      "model_name": "CheckboxModel",
      "state": {
       "description": "annot",
       "disabled": false,
       "layout": "IPY_MODEL_b64613701b2348f4a9a770e5e0b9935c",
       "style": "IPY_MODEL_20b6a509cc36499184a0ea33b95ab167",
       "value": true
      }
     },
     "e96a23db79b64f118e466105c2e28aa9": {
      "model_module": "@jupyter-widgets/base",
      "model_module_version": "1.1.0",
      "model_name": "LayoutModel",
      "state": {}
     },
     "e98016651fbc48b8a8e6f9b40935d7e5": {
      "model_module": "@jupyter-widgets/controls",
      "model_module_version": "1.4.0",
      "model_name": "DescriptionStyleModel",
      "state": {
       "description_width": ""
      }
     },
     "e98d9881338c4a1aae6273dfaffca603": {
      "model_module": "@jupyter-widgets/base",
      "model_module_version": "1.1.0",
      "model_name": "LayoutModel",
      "state": {}
     },
     "e9b8442beeca4b27bb48262234edb50d": {
      "model_module": "@jupyter-widgets/base",
      "model_module_version": "1.1.0",
      "model_name": "LayoutModel",
      "state": {}
     },
     "e9dd6ed8f3c3470f8421cdf1d74fd783": {
      "model_module": "@jupyter-widgets/controls",
      "model_module_version": "1.4.0",
      "model_name": "DescriptionStyleModel",
      "state": {
       "description_width": ""
      }
     },
     "e9de2dcf9ac34e61b4885ff71ade5f90": {
      "model_module": "@jupyter-widgets/base",
      "model_module_version": "1.1.0",
      "model_name": "LayoutModel",
      "state": {}
     },
     "e9e36099a03a44469a52baa99ac7828c": {
      "model_module": "@jupyter-widgets/controls",
      "model_module_version": "1.4.0",
      "model_name": "FloatSliderModel",
      "state": {
       "description": "outlier_prop",
       "layout": "IPY_MODEL_c381bd9687784df382f3d0b9767b7077",
       "max": 1,
       "step": 0.001,
       "style": "IPY_MODEL_55c505f82c5948bdb3d5be23715331c2",
       "value": 0.007
      }
     },
     "e9e3e3e7c85e471daa1dc15df5b4c78c": {
      "model_module": "@jupyter-widgets/controls",
      "model_module_version": "1.4.0",
      "model_name": "ButtonModel",
      "state": {
       "description": "remove",
       "layout": "IPY_MODEL_2d2de4027fae4c09857a1d108f0fe556",
       "style": "IPY_MODEL_fffac27d91d34daaba5cbdacb87b93db"
      }
     },
     "e9f7d6968c8543f889da35b5068d6877": {
      "model_module": "@jupyter-widgets/controls",
      "model_module_version": "1.4.0",
      "model_name": "IntTextModel",
      "state": {
       "description": "n_boot",
       "layout": "IPY_MODEL_3eb8e5a6ecaa485781c77974c49d5d89",
       "step": 1,
       "style": "IPY_MODEL_a2c864fb34e346f49bd3122e2b0724b0",
       "value": 10000
      }
     },
     "ea1e9e1138004ae681fcfd758eca682b": {
      "model_module": "@jupyter-widgets/controls",
      "model_module_version": "1.4.0",
      "model_name": "DescriptionStyleModel",
      "state": {
       "description_width": ""
      }
     },
     "ea414071f086462590af824311906ddd": {
      "model_module": "@jupyter-widgets/controls",
      "model_module_version": "1.4.0",
      "model_name": "DescriptionStyleModel",
      "state": {
       "description_width": ""
      }
     },
     "ea5971c5aa1e450d8529994dca4316c6": {
      "model_module": "@jupyter-widgets/controls",
      "model_module_version": "1.4.0",
      "model_name": "DropdownModel",
      "state": {
       "_options_labels": [
        "area",
        "count",
        "width"
       ],
       "description": "scale",
       "index": 0,
       "layout": "IPY_MODEL_6a961249b6a04e9484104d91fb3f5ea3",
       "style": "IPY_MODEL_39c24d2cd8e24d47a376a210adcbdb83"
      }
     },
     "ea8926c2543e4efebe6df967fdc2b290": {
      "model_module": "@jupyter-widgets/controls",
      "model_module_version": "1.4.0",
      "model_name": "DropdownModel",
      "state": {
       "_options_labels": [
        "True",
        "col",
        "row"
       ],
       "description": "sharex",
       "index": 0,
       "layout": "IPY_MODEL_d457938e1d6a44248a90e9485722a039",
       "style": "IPY_MODEL_5833b02ac5eb431f868658cfad9c6a9e"
      }
     },
     "eab99e7e7e1c4579a9e1fa05fa387cd3": {
      "model_module": "@jupyter-widgets/controls",
      "model_module_version": "1.4.0",
      "model_name": "CheckboxModel",
      "state": {
       "description": "rug",
       "disabled": false,
       "layout": "IPY_MODEL_f36afcf5f3124e52857df92a889488dc",
       "style": "IPY_MODEL_a26a1488e51d4fc2b5815390c97899c2",
       "value": false
      }
     },
     "eab9c80c6de2473ca8fd7e443a63d38e": {
      "model_module": "@jupyter-widgets/controls",
      "model_module_version": "1.4.0",
      "model_name": "DescriptionStyleModel",
      "state": {
       "description_width": ""
      }
     },
     "eabf013ef08342608d6289a3c9aeba5d": {
      "model_module": "@jupyter-widgets/controls",
      "model_module_version": "1.4.0",
      "model_name": "FloatTextModel",
      "state": {
       "description": "x_jitter",
       "layout": "IPY_MODEL_ab4ddeb2e3bb4d2aaeca127dff95bace",
       "step": null,
       "style": "IPY_MODEL_7a425255fc304005a98bb09197bce709",
       "value": 1
      }
     },
     "eabf43770c2f4122beee9a183f7f4af6": {
      "model_module": "@jupyter-widgets/base",
      "model_module_version": "1.1.0",
      "model_name": "LayoutModel",
      "state": {}
     },
     "ead11d8116944dedb3ee2e4e7f776af0": {
      "model_module": "@jupyter-widgets/controls",
      "model_module_version": "1.4.0",
      "model_name": "DescriptionStyleModel",
      "state": {
       "description_width": ""
      }
     },
     "ead42430d463458899d3ff00e55709ed": {
      "model_module": "@jupyter-widgets/base",
      "model_module_version": "1.1.0",
      "model_name": "LayoutModel",
      "state": {}
     },
     "eb0a3d348e1e4bf4a388878744d2bd57": {
      "model_module": "@jupyter-widgets/base",
      "model_module_version": "1.1.0",
      "model_name": "LayoutModel",
      "state": {}
     },
     "eb4c1f91b0a64efdb9d9b22f182c9efe": {
      "model_module": "@jupyter-widgets/controls",
      "model_module_version": "1.4.0",
      "model_name": "FloatTextModel",
      "state": {
       "description": "scale",
       "layout": "IPY_MODEL_7d21d537ce2b46eda9335f81aab9c925",
       "step": null,
       "style": "IPY_MODEL_15086f6abe97436aa1c4d4f7604ae038",
       "value": 1
      }
     },
     "eb60abab3335451f889d9758a9c6e714": {
      "model_module": "@jupyter-widgets/controls",
      "model_module_version": "1.4.0",
      "model_name": "DescriptionStyleModel",
      "state": {
       "description_width": ""
      }
     },
     "eb6aaf1ccb644aa687793a73275941d7": {
      "model_module": "@jupyter-widgets/controls",
      "model_module_version": "1.4.0",
      "model_name": "DescriptionStyleModel",
      "state": {
       "description_width": ""
      }
     },
     "eb6c099f0143419da0e6c0ec8405d955": {
      "model_module": "@jupyter-widgets/base",
      "model_module_version": "1.1.0",
      "model_name": "LayoutModel",
      "state": {}
     },
     "ec17b50a64684dc7aae3cb29244bd67d": {
      "model_module": "@jupyter-widgets/base",
      "model_module_version": "1.1.0",
      "model_name": "LayoutModel",
      "state": {}
     },
     "ec4edf0c167147be9c606372feebe805": {
      "model_module": "@jupyter-widgets/controls",
      "model_module_version": "1.4.0",
      "model_name": "DescriptionStyleModel",
      "state": {
       "description_width": ""
      }
     },
     "ec696e4a67ff490893ef715938885262": {
      "model_module": "@jupyter-widgets/controls",
      "model_module_version": "1.4.0",
      "model_name": "DropdownModel",
      "state": {
       "_options_labels": [
        "1",
        "2",
        "3",
        "4",
        "5",
        "6",
        "7",
        "8",
        "9",
        "10",
        "11",
        "12",
        "13",
        "14",
        "15",
        "16",
        "17",
        "18",
        "19",
        "20",
        "21",
        "22",
        "23",
        "24",
        "25",
        "26",
        "27",
        "28",
        "29",
        "30",
        "31"
       ],
       "description": "sizes",
       "index": 0,
       "layout": "IPY_MODEL_9ee5cfc36036433299569302e090d75e",
       "style": "IPY_MODEL_cc25c677c3b242c7a58488b8114bd5e1"
      }
     },
     "eca572e7e7514e23b8be31e602d7471a": {
      "model_module": "@jupyter-widgets/controls",
      "model_module_version": "1.4.0",
      "model_name": "DescriptionStyleModel",
      "state": {
       "description_width": ""
      }
     },
     "ed24750d479a40c8b3332b71ce84c49e": {
      "model_module": "@jupyter-widgets/base",
      "model_module_version": "1.1.0",
      "model_name": "LayoutModel",
      "state": {}
     },
     "ed2907bdd9f34fbc92fa5bc34c76452a": {
      "model_module": "@jupyter-widgets/controls",
      "model_module_version": "1.4.0",
      "model_name": "DescriptionStyleModel",
      "state": {
       "description_width": ""
      }
     },
     "ed390c715d5d45d2a00687d44651420d": {
      "model_module": "@jupyter-widgets/controls",
      "model_module_version": "1.4.0",
      "model_name": "DescriptionStyleModel",
      "state": {
       "description_width": ""
      }
     },
     "ed7087539ae6451291fbaaf87cb499f9": {
      "model_module": "@jupyter-widgets/controls",
      "model_module_version": "1.4.0",
      "model_name": "DescriptionStyleModel",
      "state": {
       "description_width": ""
      }
     },
     "ed95d061c95f47f7a04936d10280bf88": {
      "model_module": "@jupyter-widgets/controls",
      "model_module_version": "1.4.0",
      "model_name": "HBoxModel",
      "state": {
       "children": [
        "IPY_MODEL_a2213b5975c64ed4b5dd725d99dcaf05",
        "IPY_MODEL_9cf04a09e37a46aa886e8c3b642d096a"
       ],
       "layout": "IPY_MODEL_aaf314fad9064574b38d353979650167"
      }
     },
     "eda70b53a00b497bbd32d400923af476": {
      "model_module": "@jupyter-widgets/controls",
      "model_module_version": "1.4.0",
      "model_name": "DropdownModel",
      "state": {
       "_options_labels": [
        "1",
        "2",
        "3",
        "4",
        "5",
        "6",
        "7",
        "8",
        "9",
        "10",
        "11",
        "12",
        "13",
        "14",
        "15",
        "16",
        "17",
        "18",
        "19",
        "20",
        "21",
        "22",
        "23",
        "24",
        "25",
        "26",
        "27",
        "28",
        "29",
        "30",
        "31"
       ],
       "description": "row",
       "index": 0,
       "layout": "IPY_MODEL_0a86bb9887244031bad6f3d58fd3bcdf",
       "style": "IPY_MODEL_e6ede79d6002410da566367a7aaf1f00"
      }
     },
     "edacccbf4b1f4c58927823246af01f1d": {
      "model_module": "@jupyter-widgets/controls",
      "model_module_version": "1.4.0",
      "model_name": "IntTextModel",
      "state": {
       "description": "n_boot",
       "layout": "IPY_MODEL_1d7af1f584ac4b538fc8692ed8481c26",
       "step": 1,
       "style": "IPY_MODEL_12a787eaf395409dae26e968fd3a8665",
       "value": 10000
      }
     },
     "edb098815bf64da68ad28e4a8368b6ee": {
      "model_module": "@jupyter-widgets/base",
      "model_module_version": "1.1.0",
      "model_name": "LayoutModel",
      "state": {}
     },
     "ee03d910eefa4176922f25b586f79daa": {
      "model_module": "@jupyter-widgets/base",
      "model_module_version": "1.1.0",
      "model_name": "LayoutModel",
      "state": {}
     },
     "ee1fc1ee4c284a8d93255d9c9fff8bbb": {
      "model_module": "@jupyter-widgets/controls",
      "model_module_version": "1.4.0",
      "model_name": "DropdownModel",
      "state": {
       "_options_labels": [
        "Acceleration",
        "Cylinders",
        "Displacement",
        "Horsepower",
        "Miles_per_Gallon",
        "Name",
        "Origin",
        "Weight_in_lbs",
        "Year"
       ],
       "description": "x_partial",
       "index": 0,
       "layout": "IPY_MODEL_74962a4c372a4daa8972534500376e1e",
       "style": "IPY_MODEL_146b4a7014dd433ea8a0274f8bc396a4"
      }
     },
     "ee713deddd2849f5bdd54dc4fd66e329": {
      "model_module": "@jupyter-widgets/base",
      "model_module_version": "1.1.0",
      "model_name": "LayoutModel",
      "state": {}
     },
     "ee93adf943b24f408c5d1e8515858083": {
      "model_module": "@jupyter-widgets/base",
      "model_module_version": "1.1.0",
      "model_name": "LayoutModel",
      "state": {}
     },
     "eeaaec81d5ff4b3094fa9d434ac4fb2e": {
      "model_module": "@jupyter-widgets/controls",
      "model_module_version": "1.4.0",
      "model_name": "DropdownModel",
      "state": {
       "_options_labels": [
        "scott",
        "silverman"
       ],
       "description": "bw",
       "index": 0,
       "layout": "IPY_MODEL_326cbcf3b4c346fb944d8484ed054ac7",
       "style": "IPY_MODEL_5957e1858bbd462d996fdf2e2a2ae8d7"
      }
     },
     "eeac803bdede4eba812507f72335fa7c": {
      "model_module": "@jupyter-widgets/base",
      "model_module_version": "1.1.0",
      "model_name": "LayoutModel",
      "state": {}
     },
     "eed14040be7f419082add6a06215a18f": {
      "model_module": "@jupyter-widgets/base",
      "model_module_version": "1.1.0",
      "model_name": "LayoutModel",
      "state": {}
     },
     "ef4074ab7cb24edd81715036ba1bd3db": {
      "model_module": "@jupyter-widgets/controls",
      "model_module_version": "1.4.0",
      "model_name": "DescriptionStyleModel",
      "state": {
       "description_width": ""
      }
     },
     "ef67ca7a8e4340fdb5d72cc438c96253": {
      "model_module": "@jupyter-widgets/base",
      "model_module_version": "1.1.0",
      "model_name": "LayoutModel",
      "state": {}
     },
     "ef9ec5d402434f7ea1a8fa0ebad2b1ac": {
      "model_module": "@jupyter-widgets/controls",
      "model_module_version": "1.4.0",
      "model_name": "DescriptionStyleModel",
      "state": {
       "description_width": ""
      }
     },
     "efe42cfd438d4dc0a78f64236c96e220": {
      "model_module": "@jupyter-widgets/controls",
      "model_module_version": "1.4.0",
      "model_name": "HBoxModel",
      "state": {
       "children": [
        "IPY_MODEL_a87dcd3bf3aa4694a51b263670bb6e58"
       ],
       "layout": "IPY_MODEL_543e14afd0424d98a5010eefede4fbd7"
      }
     },
     "eff6a2b81a7d4db8bb65f1d6453c6dfe": {
      "model_module": "@jupyter-widgets/controls",
      "model_module_version": "1.4.0",
      "model_name": "CheckboxModel",
      "state": {
       "description": "truncate",
       "disabled": false,
       "layout": "IPY_MODEL_00912c76cf9241eb814d0987b08f0877",
       "style": "IPY_MODEL_1d614d7fde2845418e268dc5a6f3f2da",
       "value": false
      }
     },
     "f00c41639181411ea2f58e317923220b": {
      "model_module": "@jupyter-widgets/base",
      "model_module_version": "1.1.0",
      "model_name": "LayoutModel",
      "state": {}
     },
     "f037799c35ba4e53830d833f3591e88e": {
      "model_module": "@jupyter-widgets/controls",
      "model_module_version": "1.4.0",
      "model_name": "DropdownModel",
      "state": {
       "_options_labels": [
        "True",
        "col",
        "row"
       ],
       "description": "sharey",
       "index": 0,
       "layout": "IPY_MODEL_5adb40c127e6476393b4beef22730210",
       "style": "IPY_MODEL_9f44159cdc7543a5b0e709e05af974a8"
      }
     },
     "f0608c9ab1844f9f8b60836ba393be38": {
      "model_module": "@jupyter-widgets/controls",
      "model_module_version": "1.4.0",
      "model_name": "DropdownModel",
      "state": {
       "_options_labels": [
        "box",
        "quartile",
        "point",
        "stick"
       ],
       "description": "inner",
       "index": 0,
       "layout": "IPY_MODEL_4fd20ff5d63d4d3e98190deded4a3c83",
       "style": "IPY_MODEL_e430cdc22d07412caf819c4d1a99f963"
      }
     },
     "f06573769b73464f8056e2330c213c60": {
      "model_module": "@jupyter-widgets/base",
      "model_module_version": "1.1.0",
      "model_name": "LayoutModel",
      "state": {}
     },
     "f07d162ea046484aba16d75f509f1f4c": {
      "model_module": "@jupyter-widgets/controls",
      "model_module_version": "1.4.0",
      "model_name": "ButtonStyleModel",
      "state": {}
     },
     "f08d0743dc0f4698b1c5a7e329278e65": {
      "model_module": "@jupyter-widgets/base",
      "model_module_version": "1.1.0",
      "model_name": "LayoutModel",
      "state": {}
     },
     "f090e52ce8a644bb9b9edf63241db000": {
      "model_module": "@jupyter-widgets/controls",
      "model_module_version": "1.4.0",
      "model_name": "DescriptionStyleModel",
      "state": {
       "description_width": ""
      }
     },
     "f0950b2b869748d194697b7ab91a7cb3": {
      "model_module": "@jupyter-widgets/controls",
      "model_module_version": "1.4.0",
      "model_name": "DescriptionStyleModel",
      "state": {
       "description_width": ""
      }
     },
     "f0955f7f63cf470d8a5495cbff987ec0": {
      "model_module": "@jupyter-widgets/controls",
      "model_module_version": "1.4.0",
      "model_name": "CheckboxModel",
      "state": {
       "description": "shade_lowest",
       "disabled": false,
       "layout": "IPY_MODEL_9fd29a31cf604af1b01d9954c6ec52ae",
       "style": "IPY_MODEL_23a7756ea14446b1a8b30a93a0c37b5e",
       "value": false
      }
     },
     "f0e21d94738e4af29504109cfcdc951c": {
      "model_module": "@jupyter-widgets/controls",
      "model_module_version": "1.4.0",
      "model_name": "TextModel",
      "state": {
       "description": "color",
       "layout": "IPY_MODEL_f96f6d0ddf6c424bbb93706971eaf23c",
       "style": "IPY_MODEL_20849334a7a84e928e6afaa566ad28ed",
       "value": "g"
      }
     },
     "f0f93f0d8ccc46e0a84c609fb1ddd3b0": {
      "model_module": "@jupyter-widgets/base",
      "model_module_version": "1.1.0",
      "model_name": "LayoutModel",
      "state": {}
     },
     "f1048098e2954450aa58a7a0f796539c": {
      "model_module": "@jupyter-widgets/base",
      "model_module_version": "1.1.0",
      "model_name": "LayoutModel",
      "state": {}
     },
     "f14264eeefb74b768413563d267748cf": {
      "model_module": "@jupyter-widgets/controls",
      "model_module_version": "1.4.0",
      "model_name": "IntSliderModel",
      "state": {
       "description": "ci",
       "layout": "IPY_MODEL_fc9955adc499495e80da1a63bbce56d9",
       "style": "IPY_MODEL_010c467de8fb46848af02f4c717456aa",
       "value": 95
      }
     },
     "f1548fbf20674b39a792108873c96f36": {
      "model_module": "@jupyter-widgets/controls",
      "model_module_version": "1.4.0",
      "model_name": "FloatTextModel",
      "state": {
       "description": "scale",
       "layout": "IPY_MODEL_812dbabe70c641cca7ede9b920d2a338",
       "step": null,
       "style": "IPY_MODEL_896a172ed4e54193a9c8b98b44610ce8",
       "value": 1
      }
     },
     "f1647369344c47f8afb9349bbfd1af0b": {
      "model_module": "@jupyter-widgets/controls",
      "model_module_version": "1.4.0",
      "model_name": "DescriptionStyleModel",
      "state": {
       "description_width": ""
      }
     },
     "f165ff334da94463a0bfb3975766e6bb": {
      "model_module": "@jupyter-widgets/controls",
      "model_module_version": "1.4.0",
      "model_name": "ButtonModel",
      "state": {
       "description": "remove",
       "layout": "IPY_MODEL_ee713deddd2849f5bdd54dc4fd66e329",
       "style": "IPY_MODEL_4fd10c8c9a964dc7ab1c1a8c34d93ec1"
      }
     },
     "f17f91cf49c44575a70b3e6f130d399c": {
      "model_module": "@jupyter-widgets/controls",
      "model_module_version": "1.4.0",
      "model_name": "DescriptionStyleModel",
      "state": {
       "description_width": ""
      }
     },
     "f19b4c32165f4212bd4d0da94ff82122": {
      "model_module": "@jupyter-widgets/controls",
      "model_module_version": "1.4.0",
      "model_name": "FloatTextModel",
      "state": {
       "description": "height",
       "layout": "IPY_MODEL_a4c2267cdac04e47a8a45ef26cf3c365",
       "step": null,
       "style": "IPY_MODEL_5ad3d71d17794897a139110e5c2ec513",
       "value": 1
      }
     },
     "f1cb8bfe87cb4bfdb064897253e07948": {
      "model_module": "@jupyter-widgets/base",
      "model_module_version": "1.1.0",
      "model_name": "LayoutModel",
      "state": {}
     },
     "f1e2e0e799d94617a3e4fcd36674fe1a": {
      "model_module": "@jupyter-widgets/controls",
      "model_module_version": "1.4.0",
      "model_name": "CheckboxModel",
      "state": {
       "description": "cbar",
       "disabled": false,
       "layout": "IPY_MODEL_fe9a056dd3a74572b4e2372035164b49",
       "style": "IPY_MODEL_de7e8660b64442258b4a023183a23287",
       "value": false
      }
     },
     "f2169169474d4ca09ec51314eef1229f": {
      "model_module": "@jupyter-widgets/controls",
      "model_module_version": "1.4.0",
      "model_name": "HBoxModel",
      "state": {
       "children": [
        "IPY_MODEL_977182c777e5493e8905c34a00ae2d37"
       ],
       "layout": "IPY_MODEL_5d72b9de9d814ca3935c064a78c2050e"
      }
     },
     "f217dfec4685498a871079bc9bb0fc3c": {
      "model_module": "@jupyter-widgets/controls",
      "model_module_version": "1.4.0",
      "model_name": "DescriptionStyleModel",
      "state": {
       "description_width": ""
      }
     },
     "f2422af96bfd4d7c8d8ab5bf63e35002": {
      "model_module": "@jupyter-widgets/controls",
      "model_module_version": "1.4.0",
      "model_name": "DescriptionStyleModel",
      "state": {
       "description_width": ""
      }
     },
     "f25e4614a6c045ba978ee4d79515e52a": {
      "model_module": "@jupyter-widgets/base",
      "model_module_version": "1.1.0",
      "model_name": "LayoutModel",
      "state": {}
     },
     "f27ec6dbe7dc4b58bb024712b966bcc3": {
      "model_module": "@jupyter-widgets/controls",
      "model_module_version": "1.4.0",
      "model_name": "HBoxModel",
      "state": {
       "children": [
        "IPY_MODEL_ca1d8900714c49e7badf7d5d175609eb",
        "IPY_MODEL_d7970f60b9f549dfbfd2d1ec194dc391"
       ],
       "layout": "IPY_MODEL_29453f9cb4db44caab66be5fef29ed87"
      }
     },
     "f2a148750ade414dae58f1dbb5868033": {
      "model_module": "@jupyter-widgets/output",
      "model_module_version": "1.0.0",
      "model_name": "OutputModel",
      "state": {
       "layout": "IPY_MODEL_3ed08ea47e5a4bf2944b010142a6c71c",
       "outputs": [
        {
         "data": {
          "image/png": "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\n",
          "text/plain": "<Figure size 432x288 with 1 Axes>"
         },
         "metadata": {},
         "output_type": "display_data"
        }
       ]
      }
     },
     "f2dff2445d7c48a287f8450540f29489": {
      "model_module": "@jupyter-widgets/base",
      "model_module_version": "1.1.0",
      "model_name": "LayoutModel",
      "state": {}
     },
     "f2f26125a596483bb465ba8903e5b38f": {
      "model_module": "@jupyter-widgets/base",
      "model_module_version": "1.1.0",
      "model_name": "LayoutModel",
      "state": {}
     },
     "f2f91d26715242c59c37d157a26185ac": {
      "model_module": "@jupyter-widgets/controls",
      "model_module_version": "1.4.0",
      "model_name": "DescriptionStyleModel",
      "state": {
       "description_width": ""
      }
     },
     "f2fea6b6ddbf46ef805a0918c0d4520b": {
      "model_module": "@jupyter-widgets/controls",
      "model_module_version": "1.4.0",
      "model_name": "CheckboxModel",
      "state": {
       "description": "legend_out",
       "disabled": false,
       "layout": "IPY_MODEL_31e8d6e972e04b73bdd675d94cd083ed",
       "style": "IPY_MODEL_547032ba5a134958b0daa29d27cf68cf",
       "value": false
      }
     },
     "f30853561d9b439885ecb4d8ea56f6ae": {
      "model_module": "@jupyter-widgets/controls",
      "model_module_version": "1.4.0",
      "model_name": "DropdownModel",
      "state": {
       "_options_labels": [
        "Acceleration",
        "Cylinders",
        "Displacement",
        "Horsepower",
        "Miles_per_Gallon",
        "Name",
        "Origin",
        "Weight_in_lbs",
        "Year"
       ],
       "description": "x_partial",
       "index": 0,
       "layout": "IPY_MODEL_7186264a174b492f95275a52d222e3d8",
       "style": "IPY_MODEL_38ce8c9472464553a090984d8bec207b"
      }
     },
     "f312ce42b54f4811967668bd31958d4b": {
      "model_module": "@jupyter-widgets/controls",
      "model_module_version": "1.4.0",
      "model_name": "CheckboxModel",
      "state": {
       "description": "shade_lowest",
       "disabled": false,
       "layout": "IPY_MODEL_6c8bf7aced9e4c2598d8f433f2a5fac5",
       "style": "IPY_MODEL_f8e17c9e3ccb4bdd9d5b95bee1c2e6bb",
       "value": false
      }
     },
     "f3554df7b41f406ab1ed32a2642ec336": {
      "model_module": "@jupyter-widgets/base",
      "model_module_version": "1.1.0",
      "model_name": "LayoutModel",
      "state": {}
     },
     "f35e72c6b608427f98710b767d12da6f": {
      "model_module": "@jupyter-widgets/base",
      "model_module_version": "1.1.0",
      "model_name": "LayoutModel",
      "state": {}
     },
     "f360dcdeacf342938071655d4b6c199f": {
      "model_module": "@jupyter-widgets/controls",
      "model_module_version": "1.4.0",
      "model_name": "FloatTextModel",
      "state": {
       "description": "whis",
       "layout": "IPY_MODEL_e6f3332884e34a8eafad72d83d17239c",
       "step": null,
       "style": "IPY_MODEL_fdbfb40f316a43d1a8bd759ebc6f06ac",
       "value": 1
      }
     },
     "f36afcf5f3124e52857df92a889488dc": {
      "model_module": "@jupyter-widgets/base",
      "model_module_version": "1.1.0",
      "model_name": "LayoutModel",
      "state": {}
     },
     "f39e6115fb544249ae2a777850b10879": {
      "model_module": "@jupyter-widgets/base",
      "model_module_version": "1.1.0",
      "model_name": "LayoutModel",
      "state": {}
     },
     "f3adc75180594ca99efcdc481ae0a492": {
      "model_module": "@jupyter-widgets/controls",
      "model_module_version": "1.4.0",
      "model_name": "TextModel",
      "state": {
       "description": "color",
       "layout": "IPY_MODEL_8a90b5d0f95a4054af7595a8c0f8b0f1",
       "style": "IPY_MODEL_fa310a30b96140d3a720a6b011b1d792",
       "value": "g"
      }
     },
     "f3ae8cae2efd44a1a9e10da216ea09d0": {
      "model_module": "@jupyter-widgets/controls",
      "model_module_version": "1.4.0",
      "model_name": "FloatTextModel",
      "state": {
       "description": "capsize",
       "layout": "IPY_MODEL_1e9373fd580d4db4a7c73bdac1b17ccd",
       "step": null,
       "style": "IPY_MODEL_522988da07ac40d8936a9917b57383ff",
       "value": 1
      }
     },
     "f3b172e825d94977aa90378da16c9421": {
      "model_module": "@jupyter-widgets/controls",
      "model_module_version": "1.4.0",
      "model_name": "DropdownModel",
      "state": {
       "_options_labels": [
        "brief",
        "full",
        "False"
       ],
       "description": "legend",
       "index": 0,
       "layout": "IPY_MODEL_b42a7431c45c4480a1d9a0fcb2461900",
       "style": "IPY_MODEL_2106b1a5d48d4e52a266e8558038b2dd"
      }
     },
     "f3c62296cfd74cc883dc810dac674758": {
      "model_module": "@jupyter-widgets/controls",
      "model_module_version": "1.4.0",
      "model_name": "DescriptionStyleModel",
      "state": {
       "description_width": ""
      }
     },
     "f40e3796f319474597865c0a846d1960": {
      "model_module": "@jupyter-widgets/base",
      "model_module_version": "1.1.0",
      "model_name": "LayoutModel",
      "state": {}
     },
     "f423db168260458789aa6c804bc0ca39": {
      "model_module": "@jupyter-widgets/base",
      "model_module_version": "1.1.0",
      "model_name": "LayoutModel",
      "state": {}
     },
     "f457e83e1e5d4361b69dc832f1645564": {
      "model_module": "@jupyter-widgets/base",
      "model_module_version": "1.1.0",
      "model_name": "LayoutModel",
      "state": {}
     },
     "f46b5f85d3b44af28db63ba7e540062e": {
      "model_module": "@jupyter-widgets/controls",
      "model_module_version": "1.4.0",
      "model_name": "DropdownModel",
      "state": {
       "_options_labels": [
        "band",
        "bars"
       ],
       "description": "err_style",
       "index": 0,
       "layout": "IPY_MODEL_cf0fe43236bb48d39dcba67e3907e26f",
       "style": "IPY_MODEL_e7fa1a3cf33941528d10becac22427f6"
      }
     },
     "f4a8728102d04890bfb0dc6ab1cbe44d": {
      "model_module": "@jupyter-widgets/controls",
      "model_module_version": "1.4.0",
      "model_name": "HBoxModel",
      "state": {
       "children": [
        "IPY_MODEL_b3765923979c4cd5b9d3a59470645ea3",
        "IPY_MODEL_aee1590ae1e9407c880d42abb8c4d255"
       ],
       "layout": "IPY_MODEL_f9743fbe3ecb4feea973868a70559c7d"
      }
     },
     "f4c0892a5f7c498e85700c0acf1b40e6": {
      "model_module": "@jupyter-widgets/controls",
      "model_module_version": "1.4.0",
      "model_name": "TextModel",
      "state": {
       "description": "label",
       "layout": "IPY_MODEL_20084e3c736a4378a2683c1c8d908639",
       "style": "IPY_MODEL_443d7fb2fee446c990f10efd77e9f121"
      }
     },
     "f4cb7602ee994cbabe37dd40172bc1e9": {
      "model_module": "@jupyter-widgets/controls",
      "model_module_version": "1.4.0",
      "model_name": "CheckboxModel",
      "state": {
       "description": "kde",
       "disabled": false,
       "layout": "IPY_MODEL_4aa122ad854646d388deff74b8745f4c",
       "style": "IPY_MODEL_01216a7f24d94c8286b67e69e64ff8f6",
       "value": false
      }
     },
     "f50c6f85926744c284dae98387050ec4": {
      "model_module": "@jupyter-widgets/controls",
      "model_module_version": "1.4.0",
      "model_name": "DescriptionStyleModel",
      "state": {
       "description_width": ""
      }
     },
     "f51e125d8fd84959a35cb5cfc6818e14": {
      "model_module": "@jupyter-widgets/base",
      "model_module_version": "1.1.0",
      "model_name": "LayoutModel",
      "state": {}
     },
     "f531393edc544081bc98400a8372119e": {
      "model_module": "@jupyter-widgets/base",
      "model_module_version": "1.1.0",
      "model_name": "LayoutModel",
      "state": {}
     },
     "f531c73f1ffb4b7b808c5e4880c92460": {
      "model_module": "@jupyter-widgets/base",
      "model_module_version": "1.1.0",
      "model_name": "LayoutModel",
      "state": {}
     },
     "f538f170c71b4214a8d4b20c829fb226": {
      "model_module": "@jupyter-widgets/controls",
      "model_module_version": "1.4.0",
      "model_name": "DescriptionStyleModel",
      "state": {
       "description_width": ""
      }
     },
     "f55cbf09434d45dc9ba0e5ab54b29dc5": {
      "model_module": "@jupyter-widgets/base",
      "model_module_version": "1.1.0",
      "model_name": "LayoutModel",
      "state": {}
     },
     "f589e4c8c6a44639a3ed91ada236092b": {
      "model_module": "@jupyter-widgets/controls",
      "model_module_version": "1.4.0",
      "model_name": "DescriptionStyleModel",
      "state": {
       "description_width": ""
      }
     },
     "f5938851622540c68f762c8f86c53cd0": {
      "model_module": "@jupyter-widgets/base",
      "model_module_version": "1.1.0",
      "model_name": "LayoutModel",
      "state": {}
     },
     "f5a64899bc09432f88a7d67dd8794d78": {
      "model_module": "@jupyter-widgets/base",
      "model_module_version": "1.1.0",
      "model_name": "LayoutModel",
      "state": {}
     },
     "f5ab963e86a045dbb947ab95269d816c": {
      "model_module": "@jupyter-widgets/controls",
      "model_module_version": "1.4.0",
      "model_name": "DescriptionStyleModel",
      "state": {
       "description_width": ""
      }
     },
     "f61a1391a01c488482fcf588275c79da": {
      "model_module": "@jupyter-widgets/controls",
      "model_module_version": "1.4.0",
      "model_name": "HBoxModel",
      "state": {
       "children": [
        "IPY_MODEL_4bccc70c9949446a8fe99fb4ea55ddbc"
       ],
       "layout": "IPY_MODEL_8ee6ba7ed9e34080a07ff9a4236b24fd"
      }
     },
     "f625d4575a4c49da9736fbf459573acb": {
      "model_module": "@jupyter-widgets/controls",
      "model_module_version": "1.4.0",
      "model_name": "DropdownModel",
      "state": {
       "_options_labels": [
        "point",
        "bar",
        "strip",
        "swarm",
        "box",
        "violin",
        "boxen"
       ],
       "description": "kind",
       "index": 0,
       "layout": "IPY_MODEL_bafaa12984724365a74e504efc1dc48d",
       "style": "IPY_MODEL_b113eab0e0ac4d99b14ead17cbc9da17"
      }
     },
     "f66153841e4f47e5a82546f29d038e8e": {
      "model_module": "@jupyter-widgets/base",
      "model_module_version": "1.1.0",
      "model_name": "LayoutModel",
      "state": {}
     },
     "f6aff48d0ba14b15a08d3333f6162155": {
      "model_module": "@jupyter-widgets/controls",
      "model_module_version": "1.4.0",
      "model_name": "CheckboxModel",
      "state": {
       "description": "legend_out",
       "disabled": false,
       "layout": "IPY_MODEL_c4f4782bf6864b2e8ea42f70c15e14d1",
       "style": "IPY_MODEL_a2d57dc8b2f442b29b451387469dedb2",
       "value": false
      }
     },
     "f6e6bab0e8f64fb2842d14fcf2a3fb00": {
      "model_module": "@jupyter-widgets/controls",
      "model_module_version": "1.4.0",
      "model_name": "CheckboxModel",
      "state": {
       "description": "scale_hue",
       "disabled": false,
       "layout": "IPY_MODEL_aa6437eab61142bd8a823da8e0fae216",
       "style": "IPY_MODEL_f1647369344c47f8afb9349bbfd1af0b",
       "value": false
      }
     },
     "f71a4fe84e594113a357a8fa99830d1d": {
      "model_module": "@jupyter-widgets/base",
      "model_module_version": "1.1.0",
      "model_name": "LayoutModel",
      "state": {}
     },
     "f7fc9a16188c480082043bb6dbc7df04": {
      "model_module": "@jupyter-widgets/base",
      "model_module_version": "1.1.0",
      "model_name": "LayoutModel",
      "state": {}
     },
     "f83b435f5f764217a13ec28edd95869a": {
      "model_module": "@jupyter-widgets/base",
      "model_module_version": "1.1.0",
      "model_name": "LayoutModel",
      "state": {}
     },
     "f83d3959afdb43e397bfffb861e7602d": {
      "model_module": "@jupyter-widgets/base",
      "model_module_version": "1.1.0",
      "model_name": "LayoutModel",
      "state": {}
     },
     "f85135716b4c41629d874c580891ace6": {
      "model_module": "@jupyter-widgets/controls",
      "model_module_version": "1.4.0",
      "model_name": "DescriptionStyleModel",
      "state": {
       "description_width": ""
      }
     },
     "f852613dc6874676b5a3e3ae345ff005": {
      "model_module": "@jupyter-widgets/base",
      "model_module_version": "1.1.0",
      "model_name": "LayoutModel",
      "state": {}
     },
     "f8e17c9e3ccb4bdd9d5b95bee1c2e6bb": {
      "model_module": "@jupyter-widgets/controls",
      "model_module_version": "1.4.0",
      "model_name": "DescriptionStyleModel",
      "state": {
       "description_width": ""
      }
     },
     "f8fb731a4d614e3eaa295840881bbeee": {
      "model_module": "@jupyter-widgets/controls",
      "model_module_version": "1.4.0",
      "model_name": "DescriptionStyleModel",
      "state": {
       "description_width": ""
      }
     },
     "f921b9dcb97e4b09bc84bfa831214801": {
      "model_module": "@jupyter-widgets/controls",
      "model_module_version": "1.4.0",
      "model_name": "DescriptionStyleModel",
      "state": {
       "description_width": ""
      }
     },
     "f927f43b76ed468b84d52f592817664e": {
      "model_module": "@jupyter-widgets/base",
      "model_module_version": "1.1.0",
      "model_name": "LayoutModel",
      "state": {}
     },
     "f93dbe9f09ce4747b3f2821e70b650eb": {
      "model_module": "@jupyter-widgets/controls",
      "model_module_version": "1.4.0",
      "model_name": "DropdownModel",
      "state": {
       "_options_labels": [
        "scatter",
        "reg"
       ],
       "description": "kind",
       "index": 0,
       "layout": "IPY_MODEL_75b506304ed643dea1d8c3ee1ec156dc",
       "style": "IPY_MODEL_c5520729b2a84ba689dec7b05aae0d90"
      }
     },
     "f95de3c5ed7b4c9d8c4655f16fc9a038": {
      "model_module": "@jupyter-widgets/controls",
      "model_module_version": "1.4.0",
      "model_name": "TextModel",
      "state": {
       "description": "axlabel",
       "layout": "IPY_MODEL_610236d485fe4a3394ee86522aa345eb",
       "style": "IPY_MODEL_c88ffce2fd1745f8834e828886fa983c"
      }
     },
     "f96f6d0ddf6c424bbb93706971eaf23c": {
      "model_module": "@jupyter-widgets/base",
      "model_module_version": "1.1.0",
      "model_name": "LayoutModel",
      "state": {}
     },
     "f9743fbe3ecb4feea973868a70559c7d": {
      "model_module": "@jupyter-widgets/base",
      "model_module_version": "1.1.0",
      "model_name": "LayoutModel",
      "state": {}
     },
     "f9cc020bc4874bc78c4c68c3a042d83b": {
      "model_module": "@jupyter-widgets/base",
      "model_module_version": "1.1.0",
      "model_name": "LayoutModel",
      "state": {}
     },
     "f9ea824de74d4c15bdd6dd3be36f5229": {
      "model_module": "@jupyter-widgets/base",
      "model_module_version": "1.1.0",
      "model_name": "LayoutModel",
      "state": {}
     },
     "f9fb57cd845145c3819f414718476a65": {
      "model_module": "@jupyter-widgets/base",
      "model_module_version": "1.1.0",
      "model_name": "LayoutModel",
      "state": {}
     },
     "fa21c41af65a4a588abed2e0b17ae7f8": {
      "model_module": "@jupyter-widgets/base",
      "model_module_version": "1.1.0",
      "model_name": "LayoutModel",
      "state": {}
     },
     "fa310a30b96140d3a720a6b011b1d792": {
      "model_module": "@jupyter-widgets/controls",
      "model_module_version": "1.4.0",
      "model_name": "DescriptionStyleModel",
      "state": {
       "description_width": ""
      }
     },
     "fa3a95415a0a4be69d0af316fb07249d": {
      "model_module": "@jupyter-widgets/controls",
      "model_module_version": "1.4.0",
      "model_name": "DropdownModel",
      "state": {
       "_options_labels": [
        "auto",
        "hist",
        "kde"
       ],
       "description": "diag_kind",
       "index": 0,
       "layout": "IPY_MODEL_f531393edc544081bc98400a8372119e",
       "style": "IPY_MODEL_bf3212a33aa043dc8602757241e6db32"
      }
     },
     "fa52124e31ba4149983269f2fa21c998": {
      "model_module": "@jupyter-widgets/controls",
      "model_module_version": "1.4.0",
      "model_name": "DescriptionStyleModel",
      "state": {
       "description_width": ""
      }
     },
     "fa58f9bddf894f83a1f94ed51c49ac03": {
      "model_module": "@jupyter-widgets/controls",
      "model_module_version": "1.4.0",
      "model_name": "ButtonStyleModel",
      "state": {}
     },
     "fa6ff213a938437b8932ae482f25a4db": {
      "model_module": "@jupyter-widgets/controls",
      "model_module_version": "1.4.0",
      "model_name": "DescriptionStyleModel",
      "state": {
       "description_width": ""
      }
     },
     "fa9c5c41bb4b468ea4edff45486c18ff": {
      "model_module": "@jupyter-widgets/base",
      "model_module_version": "1.1.0",
      "model_name": "LayoutModel",
      "state": {}
     },
     "fac7dcef866e4685a2e6b440ecc2ea06": {
      "model_module": "@jupyter-widgets/controls",
      "model_module_version": "1.4.0",
      "model_name": "HBoxModel",
      "state": {
       "children": [
        "IPY_MODEL_a2213b5975c64ed4b5dd725d99dcaf05",
        "IPY_MODEL_aa85d18f71a04afe8f8672403bdf6b07"
       ],
       "layout": "IPY_MODEL_372e9de58ee14538a03ba3b1e7ac40e3"
      }
     },
     "fac952e7f1eb4043be872bba06984b17": {
      "model_module": "@jupyter-widgets/controls",
      "model_module_version": "1.4.0",
      "model_name": "LabelModel",
      "state": {
       "layout": "IPY_MODEL_4c32365c2c4e49e09c513526e9cb4e39",
       "style": "IPY_MODEL_a616933a82d342ec99b66028328af3fc",
       "value": "---"
      }
     },
     "fae657af77344bcebdf131f490e026d7": {
      "model_module": "@jupyter-widgets/controls",
      "model_module_version": "1.4.0",
      "model_name": "DescriptionStyleModel",
      "state": {
       "description_width": ""
      }
     },
     "faec107d3d304a23bed3e4c1801b5d66": {
      "model_module": "@jupyter-widgets/controls",
      "model_module_version": "1.4.0",
      "model_name": "DescriptionStyleModel",
      "state": {
       "description_width": ""
      }
     },
     "fb119da952f14eb49c03f715ecf450ae": {
      "model_module": "@jupyter-widgets/controls",
      "model_module_version": "1.4.0",
      "model_name": "DropdownModel",
      "state": {
       "_options_labels": [
        "1",
        "2",
        "3",
        "4",
        "5",
        "6",
        "7",
        "8",
        "9",
        "10",
        "11",
        "12",
        "13",
        "14",
        "15",
        "16",
        "17",
        "18",
        "19",
        "20",
        "21",
        "22",
        "23",
        "24",
        "25",
        "26",
        "27",
        "28",
        "29",
        "30",
        "31"
       ],
       "description": "a",
       "index": 0,
       "layout": "IPY_MODEL_f852613dc6874676b5a3e3ae345ff005",
       "style": "IPY_MODEL_cf88b1e909084f08a1ee8a4d1d2d610c"
      }
     },
     "fb197725d6e9432b9d847e0caf3786a5": {
      "model_module": "@jupyter-widgets/base",
      "model_module_version": "1.1.0",
      "model_name": "LayoutModel",
      "state": {}
     },
     "fb52acae8f26441593762a22110b1a33": {
      "model_module": "@jupyter-widgets/controls",
      "model_module_version": "1.4.0",
      "model_name": "FloatTextModel",
      "state": {
       "description": "vmax",
       "layout": "IPY_MODEL_b3811788230f4f589fc8c67bc35b2890",
       "step": null,
       "style": "IPY_MODEL_0b02493be48645169ba79ee7a1a4ee75",
       "value": 1
      }
     },
     "fba4cdb9e6ad49d19c10a61cc86c926f": {
      "model_module": "@jupyter-widgets/controls",
      "model_module_version": "1.4.0",
      "model_name": "FloatTextModel",
      "state": {
       "description": "whis",
       "layout": "IPY_MODEL_99914bd7660947eda6c6403a25162ee7",
       "step": null,
       "style": "IPY_MODEL_d31be58d1e3d4ad4b83490531a805aa4",
       "value": 1
      }
     },
     "fbb0d069991b4225bda6fb0094f4b92d": {
      "model_module": "@jupyter-widgets/controls",
      "model_module_version": "1.4.0",
      "model_name": "DescriptionStyleModel",
      "state": {
       "description_width": ""
      }
     },
     "fbce0ff1eb2f4032842f0f798b91574f": {
      "model_module": "@jupyter-widgets/controls",
      "model_module_version": "1.4.0",
      "model_name": "DescriptionStyleModel",
      "state": {
       "description_width": ""
      }
     },
     "fbda66cc41c84f4090c709610f1047ad": {
      "model_module": "@jupyter-widgets/controls",
      "model_module_version": "1.4.0",
      "model_name": "ButtonStyleModel",
      "state": {}
     },
     "fbe2f5dcf90b4f6bbad6f4e46017d039": {
      "model_module": "@jupyter-widgets/controls",
      "model_module_version": "1.4.0",
      "model_name": "CheckboxModel",
      "state": {
       "description": "hist",
       "disabled": false,
       "layout": "IPY_MODEL_b2913af26c0d496f85cff8e3eff451db",
       "style": "IPY_MODEL_4b81ac5260c947d9b32a41c805e12517",
       "value": false
      }
     },
     "fbf02a4945564b7fbfae8f34dedd653e": {
      "model_module": "@jupyter-widgets/base",
      "model_module_version": "1.1.0",
      "model_name": "LayoutModel",
      "state": {}
     },
     "fbf166a49f4c417b8b603a75b94bbd4e": {
      "model_module": "@jupyter-widgets/controls",
      "model_module_version": "1.4.0",
      "model_name": "DescriptionStyleModel",
      "state": {
       "description_width": ""
      }
     },
     "fc4d7424e68d428f93e14e59fd795d33": {
      "model_module": "@jupyter-widgets/controls",
      "model_module_version": "1.4.0",
      "model_name": "DescriptionStyleModel",
      "state": {
       "description_width": ""
      }
     },
     "fc5489183f5040b99e4e9a3156e091cd": {
      "model_module": "@jupyter-widgets/controls",
      "model_module_version": "1.4.0",
      "model_name": "DescriptionStyleModel",
      "state": {
       "description_width": ""
      }
     },
     "fc9955adc499495e80da1a63bbce56d9": {
      "model_module": "@jupyter-widgets/base",
      "model_module_version": "1.1.0",
      "model_name": "LayoutModel",
      "state": {}
     },
     "fc9bc1b2ca89410d97bd589fe71839ee": {
      "model_module": "@jupyter-widgets/controls",
      "model_module_version": "1.4.0",
      "model_name": "CheckboxModel",
      "state": {
       "description": "vertical",
       "disabled": false,
       "layout": "IPY_MODEL_a9335c51035d4f41a2445569075219f3",
       "style": "IPY_MODEL_e9dd6ed8f3c3470f8421cdf1d74fd783",
       "value": false
      }
     },
     "fc9c5a2b876444bf8cac9726decdbcb6": {
      "model_module": "@jupyter-widgets/controls",
      "model_module_version": "1.4.0",
      "model_name": "CheckboxModel",
      "state": {
       "description": "scale_hue",
       "disabled": false,
       "layout": "IPY_MODEL_75a24e7a962b4046ab591f6f7a461b21",
       "style": "IPY_MODEL_375e9c9dd08c4829a91e1bd5fc7c8227",
       "value": false
      }
     },
     "fca252f4c5344c5e9db7440361a5904c": {
      "model_module": "@jupyter-widgets/controls",
      "model_module_version": "1.4.0",
      "model_name": "ButtonModel",
      "state": {
       "description": "remove",
       "layout": "IPY_MODEL_6843c5319bdd4d7c91c2be4fc2c11e1e",
       "style": "IPY_MODEL_a32a3d92070b48be8fbac5f5ec557a8a"
      }
     },
     "fcbfd57b25c240b2ada847cd0785c0ca": {
      "model_module": "@jupyter-widgets/controls",
      "model_module_version": "1.4.0",
      "model_name": "DropdownModel",
      "state": {
       "_options_labels": [
        "Acceleration",
        "Cylinders",
        "Displacement",
        "Horsepower",
        "Miles_per_Gallon",
        "Name",
        "Origin",
        "Weight_in_lbs",
        "Year"
       ],
       "description": "y",
       "index": 4,
       "layout": "IPY_MODEL_de46609a46e04954b7859f420e1afdbe",
       "style": "IPY_MODEL_ddab0a1558ab434e93a901d312b283d7"
      }
     },
     "fcc1dced59b04bf998f6c579c9ebd7e9": {
      "model_module": "@jupyter-widgets/controls",
      "model_module_version": "1.4.0",
      "model_name": "IntSliderModel",
      "state": {
       "description": "ci",
       "layout": "IPY_MODEL_32534f5813a249709f69b9158d911404",
       "style": "IPY_MODEL_4bc9b5cc150349d7ae51f5b1586131b6",
       "value": 95
      }
     },
     "fcde5115ff084884b36b0e0c96f2c234": {
      "model_module": "@jupyter-widgets/controls",
      "model_module_version": "1.4.0",
      "model_name": "DescriptionStyleModel",
      "state": {
       "description_width": ""
      }
     },
     "fcf61ba5930146b7826359485ce8d335": {
      "model_module": "@jupyter-widgets/controls",
      "model_module_version": "1.4.0",
      "model_name": "IntTextModel",
      "state": {
       "description": "n_boot",
       "layout": "IPY_MODEL_0d52d37c2bc04bc3b4ebbd93d97f5d14",
       "step": 1,
       "style": "IPY_MODEL_d8f58c0139404d51b03c062c2405341b",
       "value": 10000
      }
     },
     "fd21720780874505a0677a374f37bbcc": {
      "model_module": "@jupyter-widgets/base",
      "model_module_version": "1.1.0",
      "model_name": "LayoutModel",
      "state": {}
     },
     "fd86f41201f840268b04f5ed8acbca2d": {
      "model_module": "@jupyter-widgets/controls",
      "model_module_version": "1.4.0",
      "model_name": "FloatTextModel",
      "state": {
       "description": "aspect",
       "layout": "IPY_MODEL_ae764a05551f4bd8903b31713a052957",
       "step": null,
       "style": "IPY_MODEL_78faf5f3812b4897b1eba1272aff0248",
       "value": 1
      }
     },
     "fdbb6dcf1ee64a7caefe70af53852ce3": {
      "model_module": "@jupyter-widgets/base",
      "model_module_version": "1.1.0",
      "model_name": "LayoutModel",
      "state": {}
     },
     "fdbfb40f316a43d1a8bd759ebc6f06ac": {
      "model_module": "@jupyter-widgets/controls",
      "model_module_version": "1.4.0",
      "model_name": "DescriptionStyleModel",
      "state": {
       "description_width": ""
      }
     },
     "fdda4de7e6ba45e38cc680de9d856c08": {
      "model_module": "@jupyter-widgets/controls",
      "model_module_version": "1.4.0",
      "model_name": "DropdownModel",
      "state": {
       "_options_labels": [
        "auto",
        "hist",
        "kde"
       ],
       "description": "diag_kind",
       "index": 0,
       "layout": "IPY_MODEL_61b2492577ab42bcbff5ed6af52852d0",
       "style": "IPY_MODEL_61b5a1da3fc14ad8af448aa0cc004c49"
      }
     },
     "fde16afdf1ae4d5891f33bde3ce63bd8": {
      "model_module": "@jupyter-widgets/controls",
      "model_module_version": "1.4.0",
      "model_name": "DropdownModel",
      "state": {
       "_options_labels": [
        "Acceleration",
        "Cylinders",
        "Displacement",
        "Horsepower",
        "Miles_per_Gallon",
        "Name",
        "Origin",
        "Weight_in_lbs",
        "Year"
       ],
       "description": "a",
       "index": 0,
       "layout": "IPY_MODEL_f66153841e4f47e5a82546f29d038e8e",
       "style": "IPY_MODEL_3de49f76acc94cc893d112553bf0cfd2"
      }
     },
     "fde20d822eeb41ebbf91e8eaa0a96ce3": {
      "model_module": "@jupyter-widgets/controls",
      "model_module_version": "1.4.0",
      "model_name": "FloatTextModel",
      "state": {
       "description": "errwidth",
       "layout": "IPY_MODEL_ff443eac374142b6b32aec07763182b8",
       "step": null,
       "style": "IPY_MODEL_196e3e59c12c4708a972a4ee78e8fbe3",
       "value": 1
      }
     },
     "fe35b3b791714847954c6f7bd8736faa": {
      "model_module": "@jupyter-widgets/controls",
      "model_module_version": "1.4.0",
      "model_name": "CheckboxModel",
      "state": {
       "description": "fit_reg",
       "disabled": false,
       "layout": "IPY_MODEL_b7d9236a0ab34433b128a0fdde708c46",
       "style": "IPY_MODEL_52653528880c46d8a7b86323934da1ef",
       "value": false
      }
     },
     "fe4a9ec4d6254febb7a24628369cb1e1": {
      "model_module": "@jupyter-widgets/base",
      "model_module_version": "1.1.0",
      "model_name": "LayoutModel",
      "state": {}
     },
     "fe9a056dd3a74572b4e2372035164b49": {
      "model_module": "@jupyter-widgets/base",
      "model_module_version": "1.1.0",
      "model_name": "LayoutModel",
      "state": {}
     },
     "feedfeee24e54ce19eaa71655e26a488": {
      "model_module": "@jupyter-widgets/controls",
      "model_module_version": "1.4.0",
      "model_name": "CheckboxModel",
      "state": {
       "description": "logistic",
       "disabled": false,
       "layout": "IPY_MODEL_a8854709f8dd4b7d83b5b658917ff0cc",
       "style": "IPY_MODEL_75c93c12a2b047259f43bbb079f7fcc5",
       "value": false
      }
     },
     "ff443eac374142b6b32aec07763182b8": {
      "model_module": "@jupyter-widgets/base",
      "model_module_version": "1.1.0",
      "model_name": "LayoutModel",
      "state": {}
     },
     "ff4488bddbf84c83a86c9a5871819dd8": {
      "model_module": "@jupyter-widgets/controls",
      "model_module_version": "1.4.0",
      "model_name": "DescriptionStyleModel",
      "state": {
       "description_width": ""
      }
     },
     "ff53f7446e834bd38e6e0a60d34b5628": {
      "model_module": "@jupyter-widgets/base",
      "model_module_version": "1.1.0",
      "model_name": "LayoutModel",
      "state": {}
     },
     "ffa160f4e939424c8d161615d3689cbb": {
      "model_module": "@jupyter-widgets/controls",
      "model_module_version": "1.4.0",
      "model_name": "DescriptionStyleModel",
      "state": {
       "description_width": ""
      }
     },
     "ffa555e0b28c4f22b7332fbb798b6bca": {
      "model_module": "@jupyter-widgets/controls",
      "model_module_version": "1.4.0",
      "model_name": "DescriptionStyleModel",
      "state": {
       "description_width": ""
      }
     },
     "ffab993c343742b0bf79db85a77f77b2": {
      "model_module": "@jupyter-widgets/base",
      "model_module_version": "1.1.0",
      "model_name": "LayoutModel",
      "state": {}
     },
     "ffe3dccfdf084bd68bdfaa3cc676695b": {
      "model_module": "@jupyter-widgets/controls",
      "model_module_version": "1.4.0",
      "model_name": "DescriptionStyleModel",
      "state": {
       "description_width": ""
      }
     },
     "fff63c1073d24b3483ace53b18014d1b": {
      "model_module": "@jupyter-widgets/controls",
      "model_module_version": "1.4.0",
      "model_name": "IntTextModel",
      "state": {
       "description": "gridsize",
       "layout": "IPY_MODEL_a4d62227681049c4ab759112f576f783",
       "step": 1,
       "style": "IPY_MODEL_456a73e808c34a1087365b3e2e98d948",
       "value": 100
      }
     },
     "fffac27d91d34daaba5cbdacb87b93db": {
      "model_module": "@jupyter-widgets/controls",
      "model_module_version": "1.4.0",
      "model_name": "ButtonStyleModel",
      "state": {}
     }
    },
    "version_major": 2,
    "version_minor": 0
   }
  }
 },
 "nbformat": 4,
 "nbformat_minor": 2
}
