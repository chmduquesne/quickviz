{
 "cells": [
  {
   "cell_type": "code",
   "execution_count": 1,
   "metadata": {},
   "outputs": [
    {
     "data": {
      "application/vnd.jupyter.widget-view+json": {
       "model_id": "dd1aef9a6478426f86c26682d74f50d0",
       "version_major": 2,
       "version_minor": 0
      },
      "text/plain": [
       "VBox()"
      ]
     },
     "metadata": {},
     "output_type": "display_data"
    },
    {
     "data": {
      "application/vnd.jupyter.widget-view+json": {
       "model_id": "67081e8b2ce849f58c6d5d4ea6693b7b",
       "version_major": 2,
       "version_minor": 0
      },
      "text/plain": [
       "Output()"
      ]
     },
     "metadata": {},
     "output_type": "display_data"
    },
    {
     "data": {
      "text/plain": [
       "<quickviz.quickviz.UI at 0x7f8e089f0a58>"
      ]
     },
     "execution_count": 1,
     "metadata": {},
     "output_type": "execute_result"
    }
   ],
   "source": [
    "%matplotlib inline\n",
    "from quickviz import visualize as v\n",
    "from vega_datasets import data\n",
    "from matplotlib import pyplot as plt\n",
    "\n",
    "v(data.cars(), method=\"seaborn\")"
   ]
  },
  {
   "cell_type": "code",
   "execution_count": null,
   "metadata": {},
   "outputs": [],
   "source": []
  }
 ],
 "metadata": {
  "kernelspec": {
   "display_name": "Python 3",
   "language": "python",
   "name": "python3"
  },
  "language_info": {
   "codemirror_mode": {
    "name": "ipython",
    "version": 3
   },
   "file_extension": ".py",
   "mimetype": "text/x-python",
   "name": "python",
   "nbconvert_exporter": "python",
   "pygments_lexer": "ipython3",
   "version": "3.5.2"
  },
  "widgets": {
   "application/vnd.jupyter.widget-state+json": {
    "state": {
     "0012fd5edf0e4392b0567864bba595f3": {
      "model_module": "@jupyter-widgets/base",
      "model_module_version": "1.1.0",
      "model_name": "LayoutModel",
      "state": {}
     },
     "007d6608f8b34ff7942a53e1510e938d": {
      "model_module": "@jupyter-widgets/controls",
      "model_module_version": "1.4.0",
      "model_name": "IntTextModel",
      "state": {
       "description": "space",
       "layout": "IPY_MODEL_c0b44d9db92446368b40daa5c0527963",
       "step": 1,
       "style": "IPY_MODEL_525ecad0040c41a3a8746f3aec469e2b",
       "value": 1
      }
     },
     "008085b4ca7f42c7a2878f764a667886": {
      "model_module": "@jupyter-widgets/controls",
      "model_module_version": "1.4.0",
      "model_name": "DescriptionStyleModel",
      "state": {
       "description_width": ""
      }
     },
     "0080ee43d87346f691f8a4030d26f8af": {
      "model_module": "@jupyter-widgets/base",
      "model_module_version": "1.1.0",
      "model_name": "LayoutModel",
      "state": {}
     },
     "013902d471394c968b9bbbf7ac236c5f": {
      "model_module": "@jupyter-widgets/base",
      "model_module_version": "1.1.0",
      "model_name": "LayoutModel",
      "state": {}
     },
     "017a99aa4be34171bfe86443a6ff4642": {
      "model_module": "@jupyter-widgets/controls",
      "model_module_version": "1.4.0",
      "model_name": "DescriptionStyleModel",
      "state": {
       "description_width": ""
      }
     },
     "01be1bf39505478db88bd95fb5d3ba58": {
      "model_module": "@jupyter-widgets/base",
      "model_module_version": "1.1.0",
      "model_name": "LayoutModel",
      "state": {}
     },
     "0251a90728324e4fa5a123321289e75e": {
      "model_module": "@jupyter-widgets/controls",
      "model_module_version": "1.4.0",
      "model_name": "FloatTextModel",
      "state": {
       "description": "errwidth",
       "layout": "IPY_MODEL_8ee8e392f0dd43a39bb32fdd9abfc627",
       "step": null,
       "style": "IPY_MODEL_525270fdaeef428eb9edc29c7c17ba26",
       "value": 1
      }
     },
     "02cbb1ed5e2f423ba0dd378a6d24589d": {
      "model_module": "@jupyter-widgets/controls",
      "model_module_version": "1.4.0",
      "model_name": "DropdownModel",
      "state": {
       "_options_labels": [
        "scott",
        "silverman"
       ],
       "description": "bw",
       "index": 0,
       "layout": "IPY_MODEL_242e51a3b8cb4a59a9d393dbd6e6a6aa",
       "style": "IPY_MODEL_7758baa65e854db99fa64a6ffa03192f"
      }
     },
     "02f233ca2fd14adeb38f21cfba179d82": {
      "model_module": "@jupyter-widgets/controls",
      "model_module_version": "1.4.0",
      "model_name": "DescriptionStyleModel",
      "state": {
       "description_width": ""
      }
     },
     "03247f7ec9c244829e6b4fc7097b5c97": {
      "model_module": "@jupyter-widgets/base",
      "model_module_version": "1.1.0",
      "model_name": "LayoutModel",
      "state": {}
     },
     "03c11239af1e49818df8fa494606d787": {
      "model_module": "@jupyter-widgets/base",
      "model_module_version": "1.1.0",
      "model_name": "LayoutModel",
      "state": {}
     },
     "03ce9d05d0c0468780ae77f9571d85e5": {
      "model_module": "@jupyter-widgets/controls",
      "model_module_version": "1.4.0",
      "model_name": "FloatTextModel",
      "state": {
       "description": "saturation",
       "layout": "IPY_MODEL_4aee1e1695d941d794e124aa22d4046d",
       "step": null,
       "style": "IPY_MODEL_0a724074147a40deb3f106f5dda26781",
       "value": 1
      }
     },
     "05243bc9e4ff482c81cbbfe872e20510": {
      "model_module": "@jupyter-widgets/controls",
      "model_module_version": "1.4.0",
      "model_name": "DescriptionStyleModel",
      "state": {
       "description_width": ""
      }
     },
     "0535baa2ac38475ca14829bf490f3712": {
      "model_module": "@jupyter-widgets/base",
      "model_module_version": "1.1.0",
      "model_name": "LayoutModel",
      "state": {}
     },
     "055ab8fc55c44590bf638fc5ef18665e": {
      "model_module": "@jupyter-widgets/base",
      "model_module_version": "1.1.0",
      "model_name": "LayoutModel",
      "state": {}
     },
     "05b4c8cf16d84c929ace51425c7f74a3": {
      "model_module": "@jupyter-widgets/base",
      "model_module_version": "1.1.0",
      "model_name": "LayoutModel",
      "state": {}
     },
     "0669d546abc54ad09c07d166263d4fce": {
      "model_module": "@jupyter-widgets/controls",
      "model_module_version": "1.4.0",
      "model_name": "CheckboxModel",
      "state": {
       "description": "jitter",
       "disabled": false,
       "layout": "IPY_MODEL_1fba3d5d92cf43f6966816908cf2efed",
       "style": "IPY_MODEL_1e0526c422d04f8a873ef03fb612d87c",
       "value": false
      }
     },
     "07b2455899214d538db603ad6a41e100": {
      "model_module": "@jupyter-widgets/controls",
      "model_module_version": "1.4.0",
      "model_name": "HBoxModel",
      "state": {
       "children": [
        "IPY_MODEL_976e29178100485385a6e64396fb83e5",
        "IPY_MODEL_a8cc80f2f1f340cb940adcc99d4e8dbe"
       ],
       "layout": "IPY_MODEL_24690ef8968f4d48b6fc80d4d97da595"
      }
     },
     "07c21c8f52514b958cced2a19bfe11af": {
      "model_module": "@jupyter-widgets/base",
      "model_module_version": "1.1.0",
      "model_name": "LayoutModel",
      "state": {}
     },
     "07fcfc7ddd684a21932f7468daa3181d": {
      "model_module": "@jupyter-widgets/controls",
      "model_module_version": "1.4.0",
      "model_name": "HBoxModel",
      "state": {
       "children": [
        "IPY_MODEL_5b7daf3538df480c9c99a9db87d903dd",
        "IPY_MODEL_9a914d3efe624d6abd867502df8edc7e"
       ],
       "layout": "IPY_MODEL_fdb98ad9d0684eb08b4823d1ffdb6aca"
      }
     },
     "07ff03a8739a4c65950fc7ce1348d8bf": {
      "model_module": "@jupyter-widgets/controls",
      "model_module_version": "1.4.0",
      "model_name": "TextModel",
      "state": {
       "description": "color",
       "layout": "IPY_MODEL_8967251fa67f46d09707ccd683879446",
       "style": "IPY_MODEL_cd037481afbb4458b5417fff5ca8fef0",
       "value": "g"
      }
     },
     "080c96c9af2241a894a67f66c0318084": {
      "model_module": "@jupyter-widgets/controls",
      "model_module_version": "1.4.0",
      "model_name": "DescriptionStyleModel",
      "state": {
       "description_width": ""
      }
     },
     "08ba11d8d5d143df9d7992f48b1f635d": {
      "model_module": "@jupyter-widgets/base",
      "model_module_version": "1.1.0",
      "model_name": "LayoutModel",
      "state": {}
     },
     "08be08b7f9a14b57b7184eb5d38fdc5f": {
      "model_module": "@jupyter-widgets/base",
      "model_module_version": "1.1.0",
      "model_name": "LayoutModel",
      "state": {}
     },
     "08d7c40e6e824f77895550b7f961f45e": {
      "model_module": "@jupyter-widgets/base",
      "model_module_version": "1.1.0",
      "model_name": "LayoutModel",
      "state": {}
     },
     "08ff81c499a340b5be741bb93bcef6ce": {
      "model_module": "@jupyter-widgets/controls",
      "model_module_version": "1.4.0",
      "model_name": "DescriptionStyleModel",
      "state": {
       "description_width": ""
      }
     },
     "09e33715ba2940ccac10222f194ff2f0": {
      "model_module": "@jupyter-widgets/controls",
      "model_module_version": "1.4.0",
      "model_name": "DescriptionStyleModel",
      "state": {
       "description_width": ""
      }
     },
     "09e603b2cb00431b82d9dca343c8f25a": {
      "model_module": "@jupyter-widgets/base",
      "model_module_version": "1.1.0",
      "model_name": "LayoutModel",
      "state": {}
     },
     "0a4b3ae3d8eb45ec87fa94f3ba596953": {
      "model_module": "@jupyter-widgets/base",
      "model_module_version": "1.1.0",
      "model_name": "LayoutModel",
      "state": {}
     },
     "0a4caf228a5f4166beeca5514de5bd52": {
      "model_module": "@jupyter-widgets/controls",
      "model_module_version": "1.4.0",
      "model_name": "DescriptionStyleModel",
      "state": {
       "description_width": ""
      }
     },
     "0a5588aac4f04606b563e89e6790dfa9": {
      "model_module": "@jupyter-widgets/controls",
      "model_module_version": "1.4.0",
      "model_name": "DropdownModel",
      "state": {
       "_options_labels": [
        "scatter",
        "reg"
       ],
       "description": "kind",
       "index": 0,
       "layout": "IPY_MODEL_a409802a65094ea28693efed3673baf2",
       "style": "IPY_MODEL_ff6aa0d6d5ec46f9829456f08e71d8d6"
      }
     },
     "0a724074147a40deb3f106f5dda26781": {
      "model_module": "@jupyter-widgets/controls",
      "model_module_version": "1.4.0",
      "model_name": "DescriptionStyleModel",
      "state": {
       "description_width": ""
      }
     },
     "0b1f3e92423d4b67ba18db4073f4d802": {
      "model_module": "@jupyter-widgets/base",
      "model_module_version": "1.1.0",
      "model_name": "LayoutModel",
      "state": {}
     },
     "0b680c3b0fa74d4bb844edfbab0eb452": {
      "model_module": "@jupyter-widgets/controls",
      "model_module_version": "1.4.0",
      "model_name": "DescriptionStyleModel",
      "state": {
       "description_width": ""
      }
     },
     "0b70801fad3a4edea39141cf211d90a3": {
      "model_module": "@jupyter-widgets/controls",
      "model_module_version": "1.4.0",
      "model_name": "DescriptionStyleModel",
      "state": {
       "description_width": ""
      }
     },
     "0bc0b1fe100d44fc9d6bd394694abf1c": {
      "model_module": "@jupyter-widgets/base",
      "model_module_version": "1.1.0",
      "model_name": "LayoutModel",
      "state": {}
     },
     "0cc58918f670410e9f946ca7cc13f730": {
      "model_module": "@jupyter-widgets/controls",
      "model_module_version": "1.4.0",
      "model_name": "ButtonStyleModel",
      "state": {}
     },
     "0d3ec5fbafd94a00946fe8c25e97c1bf": {
      "model_module": "@jupyter-widgets/controls",
      "model_module_version": "1.4.0",
      "model_name": "DropdownModel",
      "state": {
       "_options_labels": [
        "barplot",
        "boxenplot",
        "boxplot",
        "catplot",
        "countplot",
        "distplot",
        "heatmap",
        "jointplot",
        "kdeplot",
        "lineplot",
        "lmplot",
        "pairplot",
        "pointplot",
        "regplot",
        "relplot",
        "residplot",
        "scatterplot",
        "stripplot",
        "swarmplot",
        "violinplot"
       ],
       "description": "Plot type",
       "index": 1,
       "layout": "IPY_MODEL_48e95fb4bef64848b2159db20b01af94",
       "style": "IPY_MODEL_289dee1935b74db8b8320599e267bbca"
      }
     },
     "0dd9240e18a44fbea13442290a7ebf37": {
      "model_module": "@jupyter-widgets/base",
      "model_module_version": "1.1.0",
      "model_name": "LayoutModel",
      "state": {}
     },
     "0ddda85f5b874281a58d5572d3fa4156": {
      "model_module": "@jupyter-widgets/controls",
      "model_module_version": "1.4.0",
      "model_name": "DropdownModel",
      "state": {
       "_options_labels": [
        "scatter",
        "reg",
        "resid",
        "kde",
        "hex"
       ],
       "description": "kind",
       "index": 0,
       "layout": "IPY_MODEL_6a83465a197c4637841164af77297add",
       "style": "IPY_MODEL_5f2558e6bf0a4b088f83bbf9b9bd4d04"
      }
     },
     "0e1c7277bfb94d9eb91f9fd22bd03000": {
      "model_module": "@jupyter-widgets/controls",
      "model_module_version": "1.4.0",
      "model_name": "DropdownModel",
      "state": {
       "_options_labels": [
        "o",
        "v",
        "^",
        "<",
        ">",
        "8",
        "s",
        "p",
        "*",
        "h",
        "H",
        "D",
        "d",
        "P",
        "X"
       ],
       "description": "marker",
       "index": 0,
       "layout": "IPY_MODEL_2552ce406c2042558021a5e52eec1ae2",
       "style": "IPY_MODEL_30c1f999e49b47189dd79e79c57d86d0"
      }
     },
     "0f1ac7ce0e0f4bb1b5ea2cd56236c992": {
      "model_module": "@jupyter-widgets/base",
      "model_module_version": "1.1.0",
      "model_name": "LayoutModel",
      "state": {}
     },
     "0feb97b2688d497389d60ac9bbd50d98": {
      "model_module": "@jupyter-widgets/base",
      "model_module_version": "1.1.0",
      "model_name": "LayoutModel",
      "state": {}
     },
     "10465b1250d3434eba7f74aaa35f2256": {
      "model_module": "@jupyter-widgets/controls",
      "model_module_version": "1.4.0",
      "model_name": "DescriptionStyleModel",
      "state": {
       "description_width": ""
      }
     },
     "10db5776dfda4405b7748c9caa9116ce": {
      "model_module": "@jupyter-widgets/controls",
      "model_module_version": "1.4.0",
      "model_name": "DescriptionStyleModel",
      "state": {
       "description_width": ""
      }
     },
     "117f9e188ac14fc9aa79f9fc40d46825": {
      "model_module": "@jupyter-widgets/base",
      "model_module_version": "1.1.0",
      "model_name": "LayoutModel",
      "state": {}
     },
     "1193c1e3caea4625b9a2aa0649f39798": {
      "model_module": "@jupyter-widgets/controls",
      "model_module_version": "1.4.0",
      "model_name": "TextModel",
      "state": {
       "description": "cmap",
       "layout": "IPY_MODEL_b01d5f774e9b4e90abf465a17be1d53f",
       "style": "IPY_MODEL_bc7a56a055cd43a0bdfab28fbd24b831",
       "value": "viridis"
      }
     },
     "11c460f0707646c29367f7ab1bcf5daf": {
      "model_module": "@jupyter-widgets/base",
      "model_module_version": "1.1.0",
      "model_name": "LayoutModel",
      "state": {}
     },
     "11cde4c03397463fb296f3f6f6140196": {
      "model_module": "@jupyter-widgets/controls",
      "model_module_version": "1.4.0",
      "model_name": "DescriptionStyleModel",
      "state": {
       "description_width": ""
      }
     },
     "129c2a9a95984a53a51849df2a403352": {
      "model_module": "@jupyter-widgets/controls",
      "model_module_version": "1.4.0",
      "model_name": "DescriptionStyleModel",
      "state": {
       "description_width": ""
      }
     },
     "131a398d62184268a3374e55960db212": {
      "model_module": "@jupyter-widgets/controls",
      "model_module_version": "1.4.0",
      "model_name": "FloatTextModel",
      "state": {
       "description": "fliersize",
       "layout": "IPY_MODEL_f6d0e792ac844fbb9a891b15a9e04f3d",
       "step": null,
       "style": "IPY_MODEL_c58b513e6ea1484fbe9faee4c6fecaef",
       "value": 1
      }
     },
     "136d53d49811400c9605d027e58dbfab": {
      "model_module": "@jupyter-widgets/controls",
      "model_module_version": "1.4.0",
      "model_name": "TextModel",
      "state": {
       "description": "fmt",
       "layout": "IPY_MODEL_16e2441f52f7461d8458a67babd6975a",
       "style": "IPY_MODEL_eac59fea0e57472e894a2f5bd2411a7d"
      }
     },
     "138eaa4c4e514e9587fdcfa0697092e6": {
      "model_module": "@jupyter-widgets/controls",
      "model_module_version": "1.4.0",
      "model_name": "CheckboxModel",
      "state": {
       "description": "vertical",
       "disabled": false,
       "layout": "IPY_MODEL_8f75372785db412d94f7b2a7f50741c9",
       "style": "IPY_MODEL_2df6414b4bbe4cdfbcc148f23290e6e4",
       "value": false
      }
     },
     "14e7dbdf2449474f9fb48cb9d2590fa0": {
      "model_module": "@jupyter-widgets/controls",
      "model_module_version": "1.4.0",
      "model_name": "CheckboxModel",
      "state": {
       "description": "legend_out",
       "disabled": false,
       "layout": "IPY_MODEL_08d7c40e6e824f77895550b7f961f45e",
       "style": "IPY_MODEL_d559382603b9445294eeec611e4cd213",
       "value": false
      }
     },
     "150fb0256c0f49279148276884c48dfb": {
      "model_module": "@jupyter-widgets/controls",
      "model_module_version": "1.4.0",
      "model_name": "FloatTextModel",
      "state": {
       "description": "linewidths",
       "layout": "IPY_MODEL_f5e82261f07047969e984007e598eb4b",
       "step": null,
       "style": "IPY_MODEL_008085b4ca7f42c7a2878f764a667886",
       "value": 1
      }
     },
     "151eac96b29546ae9aafd2b764984db7": {
      "model_module": "@jupyter-widgets/controls",
      "model_module_version": "1.4.0",
      "model_name": "DescriptionStyleModel",
      "state": {
       "description_width": ""
      }
     },
     "15219ff5f08c4b8c83bfba8b7ea82aa6": {
      "model_module": "@jupyter-widgets/controls",
      "model_module_version": "1.4.0",
      "model_name": "ButtonStyleModel",
      "state": {}
     },
     "15c2198cfdb046a28e642153a2d53470": {
      "model_module": "@jupyter-widgets/base",
      "model_module_version": "1.1.0",
      "model_name": "LayoutModel",
      "state": {}
     },
     "15d2ee659f494a3f898df1f9a1e2559f": {
      "model_module": "@jupyter-widgets/base",
      "model_module_version": "1.1.0",
      "model_name": "LayoutModel",
      "state": {}
     },
     "163b2d084adc46838147a8b8300abe7b": {
      "model_module": "@jupyter-widgets/base",
      "model_module_version": "1.1.0",
      "model_name": "LayoutModel",
      "state": {}
     },
     "16e2441f52f7461d8458a67babd6975a": {
      "model_module": "@jupyter-widgets/base",
      "model_module_version": "1.1.0",
      "model_name": "LayoutModel",
      "state": {}
     },
     "16f0e8cfa6444fd6b30373017a9ee09b": {
      "model_module": "@jupyter-widgets/controls",
      "model_module_version": "1.4.0",
      "model_name": "ButtonStyleModel",
      "state": {}
     },
     "16fe292eedc444c9ae86a63d74462abe": {
      "model_module": "@jupyter-widgets/controls",
      "model_module_version": "1.4.0",
      "model_name": "DescriptionStyleModel",
      "state": {
       "description_width": ""
      }
     },
     "18443b13962846709c2bc90629a64c29": {
      "model_module": "@jupyter-widgets/controls",
      "model_module_version": "1.4.0",
      "model_name": "DescriptionStyleModel",
      "state": {
       "description_width": ""
      }
     },
     "189ede68eab744069448a91086a5e30d": {
      "model_module": "@jupyter-widgets/controls",
      "model_module_version": "1.4.0",
      "model_name": "DescriptionStyleModel",
      "state": {
       "description_width": ""
      }
     },
     "18bce8d768df44f7805d8e459e13c335": {
      "model_module": "@jupyter-widgets/controls",
      "model_module_version": "1.4.0",
      "model_name": "DescriptionStyleModel",
      "state": {
       "description_width": ""
      }
     },
     "18bd8fdd7b4c4782997543c69f7194ce": {
      "model_module": "@jupyter-widgets/base",
      "model_module_version": "1.1.0",
      "model_name": "LayoutModel",
      "state": {}
     },
     "1962cb8b5d1445d4bee5f9303021f86e": {
      "model_module": "@jupyter-widgets/controls",
      "model_module_version": "1.4.0",
      "model_name": "ButtonModel",
      "state": {
       "description": "remove",
       "layout": "IPY_MODEL_ebaac9f07ddf4ba3957f29b57841e320",
       "style": "IPY_MODEL_bc0c43c4dd1c4d27926dd33ac63c4276"
      }
     },
     "19d34eabacf3438db6433c7654f8af6d": {
      "model_module": "@jupyter-widgets/controls",
      "model_module_version": "1.4.0",
      "model_name": "DropdownModel",
      "state": {
       "_options_labels": [
        "row",
        "col",
        "True"
       ],
       "description": "sharex",
       "index": 0,
       "layout": "IPY_MODEL_345ca3173a7548468662d68f3b916b4f",
       "style": "IPY_MODEL_b553c4b5fd3f42d9b8f42f95cc98de94"
      }
     },
     "1a35e071153840c8bbb442e37da6fd1b": {
      "model_module": "@jupyter-widgets/controls",
      "model_module_version": "1.4.0",
      "model_name": "FloatTextModel",
      "state": {
       "description": "aspect",
       "layout": "IPY_MODEL_c32dad9d1b6345b09ee33b9ae8cd5e49",
       "step": null,
       "style": "IPY_MODEL_6117406048cb430fb0074aa06ae733b7",
       "value": 1
      }
     },
     "1b55c950f4804e1a92fd1dab3b491b83": {
      "model_module": "@jupyter-widgets/controls",
      "model_module_version": "1.4.0",
      "model_name": "LabelModel",
      "state": {
       "layout": "IPY_MODEL_9871008b4a68402e9057f8fa82db1fa2",
       "style": "IPY_MODEL_a3fd1eebbb29484b8d1f9089bfe8eedc",
       "value": "---"
      }
     },
     "1ba67b1082b44586991b60959a398873": {
      "model_module": "@jupyter-widgets/controls",
      "model_module_version": "1.4.0",
      "model_name": "CheckboxModel",
      "state": {
       "description": "hist",
       "disabled": false,
       "layout": "IPY_MODEL_b31746e606a24772abe343a92a76c3af",
       "style": "IPY_MODEL_925582c378894027a625054965efc575",
       "value": false
      }
     },
     "1bdd24f3731245bea319f966c5bf3792": {
      "model_module": "@jupyter-widgets/controls",
      "model_module_version": "1.4.0",
      "model_name": "ButtonModel",
      "state": {
       "description": "remove",
       "layout": "IPY_MODEL_94f12f53057d4e518305487bb46e7c80",
       "style": "IPY_MODEL_45155b6a027c4a8b89ac15f0b5b6c6c8"
      }
     },
     "1c152a5f84154f389ed1c723f470c56f": {
      "model_module": "@jupyter-widgets/controls",
      "model_module_version": "1.4.0",
      "model_name": "TextModel",
      "state": {
       "description": "cmap",
       "layout": "IPY_MODEL_7870d6d3561d416a874c668e2c7bbeb2",
       "style": "IPY_MODEL_26b573285abc4feeb08a5c156e7a2e20",
       "value": "viridis"
      }
     },
     "1c7f327ee17145d6aecabb699702b47a": {
      "model_module": "@jupyter-widgets/base",
      "model_module_version": "1.1.0",
      "model_name": "LayoutModel",
      "state": {}
     },
     "1cd873b8983041639760c9bcb0114de6": {
      "model_module": "@jupyter-widgets/controls",
      "model_module_version": "1.4.0",
      "model_name": "DescriptionStyleModel",
      "state": {
       "description_width": ""
      }
     },
     "1d8bec8a7c6e431d91200f9114baa799": {
      "model_module": "@jupyter-widgets/controls",
      "model_module_version": "1.4.0",
      "model_name": "FloatSliderModel",
      "state": {
       "description": "alpha",
       "layout": "IPY_MODEL_3013d5a83f274d7b94fec3790b0bf945",
       "max": 1,
       "step": 0.05,
       "style": "IPY_MODEL_8885b82b823940c5814ece5edd0497cd"
      }
     },
     "1e0526c422d04f8a873ef03fb612d87c": {
      "model_module": "@jupyter-widgets/controls",
      "model_module_version": "1.4.0",
      "model_name": "DescriptionStyleModel",
      "state": {
       "description_width": ""
      }
     },
     "1e1369bf1bce40108f7157fc149ed0b4": {
      "model_module": "@jupyter-widgets/base",
      "model_module_version": "1.1.0",
      "model_name": "LayoutModel",
      "state": {}
     },
     "1e75fc4b193a4bc6b183253bff9d4cdd": {
      "model_module": "@jupyter-widgets/controls",
      "model_module_version": "1.4.0",
      "model_name": "DescriptionStyleModel",
      "state": {
       "description_width": ""
      }
     },
     "1f1e3d6c5f044bddb9983cfe8fd4dac0": {
      "model_module": "@jupyter-widgets/controls",
      "model_module_version": "1.4.0",
      "model_name": "DescriptionStyleModel",
      "state": {
       "description_width": ""
      }
     },
     "1f6c8e32964845d6800e4078cb66676f": {
      "model_module": "@jupyter-widgets/controls",
      "model_module_version": "1.4.0",
      "model_name": "DescriptionStyleModel",
      "state": {
       "description_width": ""
      }
     },
     "1f7c3ae9ed9e4b7bb28fbf65000ff865": {
      "model_module": "@jupyter-widgets/controls",
      "model_module_version": "1.4.0",
      "model_name": "CheckboxModel",
      "state": {
       "description": "auto-update",
       "disabled": false,
       "layout": "IPY_MODEL_22de4e8cf52d43758d6436a8e8b28cf1",
       "style": "IPY_MODEL_3cdb019158374f8ebf106ed23eb71801",
       "value": true
      }
     },
     "1f7dea6fc7ea493f81c863b7a86501b9": {
      "model_module": "@jupyter-widgets/controls",
      "model_module_version": "1.4.0",
      "model_name": "DescriptionStyleModel",
      "state": {
       "description_width": ""
      }
     },
     "1f94fe796add4f9b83b707238d04e2cd": {
      "model_module": "@jupyter-widgets/controls",
      "model_module_version": "1.4.0",
      "model_name": "DescriptionStyleModel",
      "state": {
       "description_width": ""
      }
     },
     "1fba3d5d92cf43f6966816908cf2efed": {
      "model_module": "@jupyter-widgets/base",
      "model_module_version": "1.1.0",
      "model_name": "LayoutModel",
      "state": {}
     },
     "20ba8b7da99042a6a983e176ff87e3e3": {
      "model_module": "@jupyter-widgets/controls",
      "model_module_version": "1.4.0",
      "model_name": "FloatSliderModel",
      "state": {
       "description": "outlier_prop",
       "layout": "IPY_MODEL_d8524009eb9749658218e6019e52666c",
       "max": 1,
       "step": 0.001,
       "style": "IPY_MODEL_4ec77584d37844579194613c196f1f4f",
       "value": 0.007
      }
     },
     "20d8a5168be84955827fd05ac1f36b9d": {
      "model_module": "@jupyter-widgets/base",
      "model_module_version": "1.1.0",
      "model_name": "LayoutModel",
      "state": {}
     },
     "212d6cecd56441478786a2914a773dc6": {
      "model_module": "@jupyter-widgets/base",
      "model_module_version": "1.1.0",
      "model_name": "LayoutModel",
      "state": {}
     },
     "213739a036744c99bc4c70d5423747e4": {
      "model_module": "@jupyter-widgets/controls",
      "model_module_version": "1.4.0",
      "model_name": "DescriptionStyleModel",
      "state": {
       "description_width": ""
      }
     },
     "219461269d444b4eb3eafdf7ffa4be27": {
      "model_module": "@jupyter-widgets/controls",
      "model_module_version": "1.4.0",
      "model_name": "ButtonModel",
      "state": {
       "description": "remove",
       "layout": "IPY_MODEL_74e94f46c6574a2e9f062ea20df3cef3",
       "style": "IPY_MODEL_50a605bb04a34fd88151405e188314b7"
      }
     },
     "21cfcd2319064a678ca3627248379184": {
      "model_module": "@jupyter-widgets/controls",
      "model_module_version": "1.4.0",
      "model_name": "HBoxModel",
      "state": {
       "children": [
        "IPY_MODEL_80c26812c50c429f9c7606af20134afe",
        "IPY_MODEL_6f8890c3912b4d5caeb46dcedae9e7ee"
       ],
       "layout": "IPY_MODEL_0080ee43d87346f691f8a4030d26f8af"
      }
     },
     "2256ee2c46924ab8833d5afe1f47bf9e": {
      "model_module": "@jupyter-widgets/base",
      "model_module_version": "1.1.0",
      "model_name": "LayoutModel",
      "state": {}
     },
     "22a6ad1d8dbd493e9295da2174ab0aed": {
      "model_module": "@jupyter-widgets/controls",
      "model_module_version": "1.4.0",
      "model_name": "ButtonModel",
      "state": {
       "description": "remove",
       "layout": "IPY_MODEL_365b6277299c45ce8f913bc42697eb9e",
       "style": "IPY_MODEL_a81990bcd5f542489ef251394f10648d"
      }
     },
     "22cfcd234695489b8d8b55a2b316fd26": {
      "model_module": "@jupyter-widgets/base",
      "model_module_version": "1.1.0",
      "model_name": "LayoutModel",
      "state": {}
     },
     "22de4e8cf52d43758d6436a8e8b28cf1": {
      "model_module": "@jupyter-widgets/base",
      "model_module_version": "1.1.0",
      "model_name": "LayoutModel",
      "state": {}
     },
     "22ec787903964c16b5ca1af232b93238": {
      "model_module": "@jupyter-widgets/controls",
      "model_module_version": "1.4.0",
      "model_name": "TextModel",
      "state": {
       "description": "fmt",
       "layout": "IPY_MODEL_68fb1d3be8c94a97b6f4b8f9d40580b1",
       "style": "IPY_MODEL_775f8d44cbd04e4f9974ded7c120622b"
      }
     },
     "23a3ab0e008f4130aea64a704cf26fea": {
      "model_module": "@jupyter-widgets/base",
      "model_module_version": "1.1.0",
      "model_name": "LayoutModel",
      "state": {}
     },
     "23b227cfc8a843d59b5a79ba119b6d6b": {
      "model_module": "@jupyter-widgets/controls",
      "model_module_version": "1.4.0",
      "model_name": "DescriptionStyleModel",
      "state": {
       "description_width": ""
      }
     },
     "242e51a3b8cb4a59a9d393dbd6e6a6aa": {
      "model_module": "@jupyter-widgets/base",
      "model_module_version": "1.1.0",
      "model_name": "LayoutModel",
      "state": {}
     },
     "245b4ceba76e43449aac81a5160b885c": {
      "model_module": "@jupyter-widgets/controls",
      "model_module_version": "1.4.0",
      "model_name": "DescriptionStyleModel",
      "state": {
       "description_width": ""
      }
     },
     "24690ef8968f4d48b6fc80d4d97da595": {
      "model_module": "@jupyter-widgets/base",
      "model_module_version": "1.1.0",
      "model_name": "LayoutModel",
      "state": {}
     },
     "248e813d9aac4afa87046e25b1c10884": {
      "model_module": "@jupyter-widgets/controls",
      "model_module_version": "1.4.0",
      "model_name": "DescriptionStyleModel",
      "state": {
       "description_width": ""
      }
     },
     "24fdf14c0b244af1be938bb998953e29": {
      "model_module": "@jupyter-widgets/controls",
      "model_module_version": "1.4.0",
      "model_name": "DropdownModel",
      "state": {
       "_options_labels": [
        "Acceleration",
        "Cylinders",
        "Displacement",
        "Horsepower",
        "Miles_per_Gallon",
        "Name",
        "Origin",
        "Weight_in_lbs",
        "Year"
       ],
       "description": "a",
       "index": 0,
       "layout": "IPY_MODEL_47cc873b6eb44adf8b094f80a4f73734",
       "style": "IPY_MODEL_db296290354a4377a3a8e5644f76e0bf"
      }
     },
     "2544cc38dd0b46ae80129d64b4b691e3": {
      "model_module": "@jupyter-widgets/controls",
      "model_module_version": "1.4.0",
      "model_name": "CheckboxModel",
      "state": {
       "description": "scatter",
       "disabled": false,
       "layout": "IPY_MODEL_7cccb0e973c74b9caf3f1cf980435f86",
       "style": "IPY_MODEL_780702fc588341bcbc291dd98e0bade2",
       "value": false
      }
     },
     "254644a56cd74462a53ad840dd03c3f0": {
      "model_module": "@jupyter-widgets/controls",
      "model_module_version": "1.4.0",
      "model_name": "DescriptionStyleModel",
      "state": {
       "description_width": ""
      }
     },
     "2552ce406c2042558021a5e52eec1ae2": {
      "model_module": "@jupyter-widgets/base",
      "model_module_version": "1.1.0",
      "model_name": "LayoutModel",
      "state": {}
     },
     "25f3d80160de4c228dc993f6bfed5f54": {
      "model_module": "@jupyter-widgets/controls",
      "model_module_version": "1.4.0",
      "model_name": "CheckboxModel",
      "state": {
       "description": "robust",
       "disabled": false,
       "layout": "IPY_MODEL_a5a5a9c699ad47a29d28143911b70651",
       "style": "IPY_MODEL_2df1e7400c2343778e6165b455731a1f",
       "value": false
      }
     },
     "261ffeab4cc845c584c11c8c5a8db428": {
      "model_module": "@jupyter-widgets/controls",
      "model_module_version": "1.4.0",
      "model_name": "FloatTextModel",
      "state": {
       "description": "vmax",
       "layout": "IPY_MODEL_fb4e6e4dfa5b46b7b68a1598452fa68a",
       "step": null,
       "style": "IPY_MODEL_8286bcf7c16d49ac9358aebb432eaf24",
       "value": 1
      }
     },
     "26408958422c425b894c6a5bf86d78f7": {
      "model_module": "@jupyter-widgets/controls",
      "model_module_version": "1.4.0",
      "model_name": "DescriptionStyleModel",
      "state": {
       "description_width": ""
      }
     },
     "267959589b7d4d06b14c8075d47bb6db": {
      "model_module": "@jupyter-widgets/base",
      "model_module_version": "1.1.0",
      "model_name": "LayoutModel",
      "state": {}
     },
     "26a7aa3f74ab45a49ce29dcbc0ddb97a": {
      "model_module": "@jupyter-widgets/controls",
      "model_module_version": "1.4.0",
      "model_name": "IntSliderModel",
      "state": {
       "description": "x_ci",
       "layout": "IPY_MODEL_c63470f1cd84417a8fa19c871a596f38",
       "style": "IPY_MODEL_2abe94e63c9249bba68c1fca67b06cf8",
       "value": 95
      }
     },
     "26b573285abc4feeb08a5c156e7a2e20": {
      "model_module": "@jupyter-widgets/controls",
      "model_module_version": "1.4.0",
      "model_name": "DescriptionStyleModel",
      "state": {
       "description_width": ""
      }
     },
     "26c695586d9c4b9a8ca09fcd216b4b22": {
      "model_module": "@jupyter-widgets/controls",
      "model_module_version": "1.4.0",
      "model_name": "DescriptionStyleModel",
      "state": {
       "description_width": ""
      }
     },
     "27a5459d19ef4dd5953054ab5f7c3b4f": {
      "model_module": "@jupyter-widgets/base",
      "model_module_version": "1.1.0",
      "model_name": "LayoutModel",
      "state": {}
     },
     "27d6db28e9674961899986e1363106c2": {
      "model_module": "@jupyter-widgets/controls",
      "model_module_version": "1.4.0",
      "model_name": "DropdownModel",
      "state": {
       "_options_labels": [
        "linear",
        "exponential",
        "area"
       ],
       "description": "scale",
       "index": 0,
       "layout": "IPY_MODEL_013902d471394c968b9bbbf7ac236c5f",
       "style": "IPY_MODEL_7767e2e306634b61af55aedce450fda9"
      }
     },
     "2837d8b471004df3a2f95036205f8044": {
      "model_module": "@jupyter-widgets/controls",
      "model_module_version": "1.4.0",
      "model_name": "FloatTextModel",
      "state": {
       "description": "linewidth",
       "layout": "IPY_MODEL_70b04884c64d4198b5c29b57ddf113ec",
       "step": null,
       "style": "IPY_MODEL_129c2a9a95984a53a51849df2a403352",
       "value": 1
      }
     },
     "289dee1935b74db8b8320599e267bbca": {
      "model_module": "@jupyter-widgets/controls",
      "model_module_version": "1.4.0",
      "model_name": "DescriptionStyleModel",
      "state": {
       "description_width": ""
      }
     },
     "28a4ca83b46544f98193126b46afa4ae": {
      "model_module": "@jupyter-widgets/controls",
      "model_module_version": "1.4.0",
      "model_name": "ButtonStyleModel",
      "state": {}
     },
     "2a7aa63b85714de8baa0b313fb545ef1": {
      "model_module": "@jupyter-widgets/controls",
      "model_module_version": "1.4.0",
      "model_name": "HBoxModel",
      "state": {
       "children": [
        "IPY_MODEL_0d3ec5fbafd94a00946fe8c25e97c1bf",
        "IPY_MODEL_af91dfb325704d50ab6a0051e5cb9c7e"
       ],
       "layout": "IPY_MODEL_62619a849f3d4ff69e9806ff9a292653"
      }
     },
     "2a836fdd689b45f18e12477f3812d874": {
      "model_module": "@jupyter-widgets/base",
      "model_module_version": "1.1.0",
      "model_name": "LayoutModel",
      "state": {}
     },
     "2a8b333a939b4c6db9517e741d96fcf5": {
      "model_module": "@jupyter-widgets/base",
      "model_module_version": "1.1.0",
      "model_name": "LayoutModel",
      "state": {}
     },
     "2abc16595859400daec4916ff9660f6a": {
      "model_module": "@jupyter-widgets/controls",
      "model_module_version": "1.4.0",
      "model_name": "DropdownModel",
      "state": {
       "_options_labels": [
        "scatter",
        "line"
       ],
       "description": "kind",
       "index": 0,
       "layout": "IPY_MODEL_e1c006c780c045508039dadf064a9475",
       "style": "IPY_MODEL_4e11e12e10574ca39770a395571416ca"
      }
     },
     "2abe94e63c9249bba68c1fca67b06cf8": {
      "model_module": "@jupyter-widgets/controls",
      "model_module_version": "1.4.0",
      "model_name": "SliderStyleModel",
      "state": {
       "description_width": ""
      }
     },
     "2ac439ab1e0941799f0317787e675420": {
      "model_module": "@jupyter-widgets/controls",
      "model_module_version": "1.4.0",
      "model_name": "DescriptionStyleModel",
      "state": {
       "description_width": ""
      }
     },
     "2afb4572e4e6482887eaa816852b0239": {
      "model_module": "@jupyter-widgets/controls",
      "model_module_version": "1.4.0",
      "model_name": "DescriptionStyleModel",
      "state": {
       "description_width": ""
      }
     },
     "2b9a7d8ea7e844e0bf804c35fa54ddaf": {
      "model_module": "@jupyter-widgets/controls",
      "model_module_version": "1.4.0",
      "model_name": "IntTextModel",
      "state": {
       "description": "x_bins",
       "layout": "IPY_MODEL_c486301e35b54cc1aaec683b28b00f21",
       "step": 1,
       "style": "IPY_MODEL_7f79f14663314c0282e99f707ddababa",
       "value": 10
      }
     },
     "2ba3d9dd741a4fbe99c4a2d89a387d06": {
      "model_module": "@jupyter-widgets/controls",
      "model_module_version": "1.4.0",
      "model_name": "CheckboxModel",
      "state": {
       "description": "join",
       "disabled": false,
       "layout": "IPY_MODEL_953e05bc778248618aa23e33b7072b1f",
       "style": "IPY_MODEL_b1aa82babeb94531adcae9a805ac8126",
       "value": false
      }
     },
     "2c8ddd6897d14a2b9aa32cd745e98767": {
      "model_module": "@jupyter-widgets/base",
      "model_module_version": "1.1.0",
      "model_name": "LayoutModel",
      "state": {}
     },
     "2ca6174b830745758cd7b1f65f78d6e1": {
      "model_module": "@jupyter-widgets/controls",
      "model_module_version": "1.4.0",
      "model_name": "DescriptionStyleModel",
      "state": {
       "description_width": ""
      }
     },
     "2ccb0ff78e484effb6c6a25eb07f153d": {
      "model_module": "@jupyter-widgets/controls",
      "model_module_version": "1.4.0",
      "model_name": "DescriptionStyleModel",
      "state": {
       "description_width": ""
      }
     },
     "2d176f399bf843bab9b2a294ea0cc441": {
      "model_module": "@jupyter-widgets/controls",
      "model_module_version": "1.4.0",
      "model_name": "IntTextModel",
      "state": {
       "description": "x_bins",
       "layout": "IPY_MODEL_47f068cc583848d7ba201276957efe2f",
       "step": 1,
       "style": "IPY_MODEL_64f1167b720741dc8f017afea254963d",
       "value": 10
      }
     },
     "2d628359c36d4248b1cdc1ce2eb29e74": {
      "model_module": "@jupyter-widgets/controls",
      "model_module_version": "1.4.0",
      "model_name": "DescriptionStyleModel",
      "state": {
       "description_width": ""
      }
     },
     "2dcff766ae24428786eae7848b286d8b": {
      "model_module": "@jupyter-widgets/controls",
      "model_module_version": "1.4.0",
      "model_name": "DescriptionStyleModel",
      "state": {
       "description_width": ""
      }
     },
     "2df1e7400c2343778e6165b455731a1f": {
      "model_module": "@jupyter-widgets/controls",
      "model_module_version": "1.4.0",
      "model_name": "DescriptionStyleModel",
      "state": {
       "description_width": ""
      }
     },
     "2df6414b4bbe4cdfbcc148f23290e6e4": {
      "model_module": "@jupyter-widgets/controls",
      "model_module_version": "1.4.0",
      "model_name": "DescriptionStyleModel",
      "state": {
       "description_width": ""
      }
     },
     "2e3665c1dfe24e4c86ce27108ecad7e1": {
      "model_module": "@jupyter-widgets/controls",
      "model_module_version": "1.4.0",
      "model_name": "DropdownModel",
      "state": {
       "_options_labels": [
        "Acceleration",
        "Cylinders",
        "Displacement",
        "Horsepower",
        "Miles_per_Gallon",
        "Name",
        "Origin",
        "Weight_in_lbs",
        "Year"
       ],
       "description": "size",
       "index": 0,
       "layout": "IPY_MODEL_f8dd202fe2564e3d865ce6fc6538d0c5",
       "style": "IPY_MODEL_11cde4c03397463fb296f3f6f6140196"
      }
     },
     "2e53a148f679408a8fcfa79b961c643e": {
      "model_module": "@jupyter-widgets/controls",
      "model_module_version": "1.4.0",
      "model_name": "ButtonStyleModel",
      "state": {}
     },
     "2e84cd4e3b9d48e390390dcd142f6cf6": {
      "model_module": "@jupyter-widgets/controls",
      "model_module_version": "1.4.0",
      "model_name": "DropdownModel",
      "state": {
       "_options_labels": [
        "Acceleration",
        "Cylinders",
        "Displacement",
        "Horsepower",
        "Miles_per_Gallon",
        "Name",
        "Origin",
        "Weight_in_lbs",
        "Year"
       ],
       "description": "hue",
       "index": 0,
       "layout": "IPY_MODEL_ab6f784bd77a48158acbc088b7db7073",
       "style": "IPY_MODEL_18bce8d768df44f7805d8e459e13c335"
      }
     },
     "2eaf1dcb8e4b4c2591d87c61cb68a380": {
      "model_module": "@jupyter-widgets/controls",
      "model_module_version": "1.4.0",
      "model_name": "DropdownModel",
      "state": {
       "_options_labels": [
        "scatter",
        "line"
       ],
       "description": "kind",
       "index": 0,
       "layout": "IPY_MODEL_5f11f0e3094f446e9f810ecf959a2d6b",
       "style": "IPY_MODEL_817661f554e04293b925ce4a47f36513"
      }
     },
     "2f4e71088b474968a5f1f3c145a4dac0": {
      "model_module": "@jupyter-widgets/controls",
      "model_module_version": "1.4.0",
      "model_name": "CheckboxModel",
      "state": {
       "description": "margin_titles",
       "disabled": false,
       "layout": "IPY_MODEL_d38601a0c7d243fb8a8a6f93c67e6614",
       "style": "IPY_MODEL_7400e42c21424d74b84de90fac171f68",
       "value": false
      }
     },
     "3013d5a83f274d7b94fec3790b0bf945": {
      "model_module": "@jupyter-widgets/base",
      "model_module_version": "1.1.0",
      "model_name": "LayoutModel",
      "state": {}
     },
     "30c1f999e49b47189dd79e79c57d86d0": {
      "model_module": "@jupyter-widgets/controls",
      "model_module_version": "1.4.0",
      "model_name": "DescriptionStyleModel",
      "state": {
       "description_width": ""
      }
     },
     "30e9cf5a5e324379860ed3e65394ec28": {
      "model_module": "@jupyter-widgets/controls",
      "model_module_version": "1.4.0",
      "model_name": "DescriptionStyleModel",
      "state": {
       "description_width": ""
      }
     },
     "30f1c6169ded4c31985ead88afee8554": {
      "model_module": "@jupyter-widgets/controls",
      "model_module_version": "1.4.0",
      "model_name": "HBoxModel",
      "state": {
       "children": [
        "IPY_MODEL_03ce9d05d0c0468780ae77f9571d85e5",
        "IPY_MODEL_c2a1b6f23be2421ca5555efa8e24f65f"
       ],
       "layout": "IPY_MODEL_e142592db9d84dd8828b17ca961aa13a"
      }
     },
     "31b05843f6a74c64a0b43584264eac6b": {
      "model_module": "@jupyter-widgets/controls",
      "model_module_version": "1.4.0",
      "model_name": "IntTextModel",
      "state": {
       "description": "order",
       "layout": "IPY_MODEL_df71ab0c55154c47848a8f787fefb2fe",
       "step": 1,
       "style": "IPY_MODEL_46ffe5e0a5324ec29f1203c34464fb5a",
       "value": 1
      }
     },
     "3251b8f41f764c219e8c784cdb9c7129": {
      "model_module": "@jupyter-widgets/controls",
      "model_module_version": "1.4.0",
      "model_name": "IntTextModel",
      "state": {
       "description": "col_wrap",
       "layout": "IPY_MODEL_5dd1cb75e8fb4c538c9e738642a94118",
       "step": 1,
       "style": "IPY_MODEL_b70af15620154793a1decdfadb5df05e",
       "value": 10
      }
     },
     "32d2f8d377a242d6a1e547c3d4b1eb1f": {
      "model_module": "@jupyter-widgets/controls",
      "model_module_version": "1.4.0",
      "model_name": "DropdownModel",
      "state": {
       "_options_labels": [
        "row",
        "col",
        "True"
       ],
       "description": "sharex",
       "index": 0,
       "layout": "IPY_MODEL_117f9e188ac14fc9aa79f9fc40d46825",
       "style": "IPY_MODEL_676dcf36877a4525ad42feb2d0ed9fc5"
      }
     },
     "337f2901d2ab43979e67ea9223890c98": {
      "model_module": "@jupyter-widgets/controls",
      "model_module_version": "1.4.0",
      "model_name": "FloatTextModel",
      "state": {
       "description": "errwidth",
       "layout": "IPY_MODEL_8b452c4d4cdf4203911220eec6e56bd0",
       "step": null,
       "style": "IPY_MODEL_4be2016bad1e4f8a8bf519bbaf943886",
       "value": 1
      }
     },
     "3407a41350964704991c85121bdbd56c": {
      "model_module": "@jupyter-widgets/base",
      "model_module_version": "1.1.0",
      "model_name": "LayoutModel",
      "state": {}
     },
     "341030b6c8da4f6ca18c5df2223cbf6b": {
      "model_module": "@jupyter-widgets/controls",
      "model_module_version": "1.4.0",
      "model_name": "DropdownModel",
      "state": {
       "_options_labels": [
        "True",
        "row",
        "col"
       ],
       "description": "sharey",
       "index": 0,
       "layout": "IPY_MODEL_d82552579e1e4be78a8e888bee6bf32f",
       "style": "IPY_MODEL_e1f4f1d0e8244a7c9a56c0444ac2eaa2"
      }
     },
     "343146aac3db46d0aa7027da5730b836": {
      "model_module": "@jupyter-widgets/controls",
      "model_module_version": "1.4.0",
      "model_name": "DescriptionStyleModel",
      "state": {
       "description_width": ""
      }
     },
     "345ca3173a7548468662d68f3b916b4f": {
      "model_module": "@jupyter-widgets/base",
      "model_module_version": "1.1.0",
      "model_name": "LayoutModel",
      "state": {}
     },
     "34770c8a3a914a7d84925cab49a0399a": {
      "model_module": "@jupyter-widgets/controls",
      "model_module_version": "1.4.0",
      "model_name": "DropdownModel",
      "state": {
       "_options_labels": [
        "x",
        "y",
        "color",
        "hue",
        "k_depth",
        "linewidth",
        "orient",
        "outlier_prop",
        "palette",
        "saturation",
        "scale",
        "width"
       ],
       "description": "Add arg",
       "index": 4,
       "layout": "IPY_MODEL_58fcecbebc2d46328f25fd3a1eaaa4a4",
       "style": "IPY_MODEL_ef918d015bff41d2b903a189a417cc93"
      }
     },
     "35117ecbb1054e5db96aac1445ded429": {
      "model_module": "@jupyter-widgets/base",
      "model_module_version": "1.1.0",
      "model_name": "LayoutModel",
      "state": {}
     },
     "358b5c87313d4a05bc461a5fdeb58ecb": {
      "model_module": "@jupyter-widgets/base",
      "model_module_version": "1.1.0",
      "model_name": "LayoutModel",
      "state": {}
     },
     "359b59a993624390882147b50132be38": {
      "model_module": "@jupyter-widgets/base",
      "model_module_version": "1.1.0",
      "model_name": "LayoutModel",
      "state": {}
     },
     "3638540f5a254651b008a179c038524c": {
      "model_module": "@jupyter-widgets/controls",
      "model_module_version": "1.4.0",
      "model_name": "DropdownModel",
      "state": {
       "_options_labels": [
        "full",
        "brief",
        "False"
       ],
       "description": "legend",
       "index": 0,
       "layout": "IPY_MODEL_462beb1962914aa78a0e726f2c5fafdf",
       "style": "IPY_MODEL_4826e525ee8e498c927e0dc77dd8fc79"
      }
     },
     "363984556cae4449bc4212b825ad49f5": {
      "model_module": "@jupyter-widgets/base",
      "model_module_version": "1.1.0",
      "model_name": "LayoutModel",
      "state": {}
     },
     "365b6277299c45ce8f913bc42697eb9e": {
      "model_module": "@jupyter-widgets/base",
      "model_module_version": "1.1.0",
      "model_name": "LayoutModel",
      "state": {}
     },
     "3677c53f88fb4426b2ff86b76336e948": {
      "model_module": "@jupyter-widgets/base",
      "model_module_version": "1.1.0",
      "model_name": "LayoutModel",
      "state": {}
     },
     "37b15b5e0a73465abad74e55dfb682dd": {
      "model_module": "@jupyter-widgets/base",
      "model_module_version": "1.1.0",
      "model_name": "LayoutModel",
      "state": {}
     },
     "37c90534c4e347f5b4f67cbb7724132b": {
      "model_module": "@jupyter-widgets/controls",
      "model_module_version": "1.4.0",
      "model_name": "DescriptionStyleModel",
      "state": {
       "description_width": ""
      }
     },
     "38236cb8df8844639c55ddefc77bcf6e": {
      "model_module": "@jupyter-widgets/controls",
      "model_module_version": "1.4.0",
      "model_name": "CheckboxModel",
      "state": {
       "description": "rug",
       "disabled": false,
       "layout": "IPY_MODEL_fc33748c4e514295a1f5e056c164bca7",
       "style": "IPY_MODEL_ff39033294074a108a110916e351d407",
       "value": false
      }
     },
     "386b3ed450ba4e08843ff621ae7c5916": {
      "model_module": "@jupyter-widgets/controls",
      "model_module_version": "1.4.0",
      "model_name": "DropdownModel",
      "state": {
       "_options_labels": [
        "scatter",
        "reg"
       ],
       "description": "kind",
       "index": 0,
       "layout": "IPY_MODEL_08be08b7f9a14b57b7184eb5d38fdc5f",
       "style": "IPY_MODEL_cb79ef8cee12497e8607afe251107396"
      }
     },
     "390fa6cc07e54d8e9dd8e9ed1ee80bea": {
      "model_module": "@jupyter-widgets/base",
      "model_module_version": "1.1.0",
      "model_name": "LayoutModel",
      "state": {}
     },
     "3a11866d27d549b0b11a6dc9895ce2ff": {
      "model_module": "@jupyter-widgets/base",
      "model_module_version": "1.1.0",
      "model_name": "LayoutModel",
      "state": {}
     },
     "3a2772f1f11a4fc59c526cd315fc49df": {
      "model_module": "@jupyter-widgets/base",
      "model_module_version": "1.1.0",
      "model_name": "LayoutModel",
      "state": {}
     },
     "3a2d66bd3af645ada41e7d156a8cd1ae": {
      "model_module": "@jupyter-widgets/controls",
      "model_module_version": "1.4.0",
      "model_name": "HBoxModel",
      "state": {
       "children": [
        "IPY_MODEL_b1489cd979d24483800a3146ec7ed86e",
        "IPY_MODEL_1f7c3ae9ed9e4b7bb28fbf65000ff865"
       ],
       "layout": "IPY_MODEL_363984556cae4449bc4212b825ad49f5"
      }
     },
     "3aefcd31ce304d77942ad3284d20ea22": {
      "model_module": "@jupyter-widgets/controls",
      "model_module_version": "1.4.0",
      "model_name": "DescriptionStyleModel",
      "state": {
       "description_width": ""
      }
     },
     "3b0e0346793645da9f3f5af7cf4fa6b5": {
      "model_module": "@jupyter-widgets/controls",
      "model_module_version": "1.4.0",
      "model_name": "DropdownModel",
      "state": {
       "_options_labels": [
        "Acceleration",
        "Cylinders",
        "Displacement",
        "Horsepower",
        "Miles_per_Gallon",
        "Name",
        "Origin",
        "Weight_in_lbs",
        "Year"
       ],
       "description": "y",
       "index": 0,
       "layout": "IPY_MODEL_60c15a4a0beb4b3bb54802b98fe2290b",
       "style": "IPY_MODEL_9c232e2d64c24fac85f5d08e757de9ab"
      }
     },
     "3be828dff2d74bbc83cb032779f0607f": {
      "model_module": "@jupyter-widgets/controls",
      "model_module_version": "1.4.0",
      "model_name": "DropdownModel",
      "state": {
       "_options_labels": [
        "box",
        "quartile",
        "point",
        "stick"
       ],
       "description": "inner",
       "index": 0,
       "layout": "IPY_MODEL_07c21c8f52514b958cced2a19bfe11af",
       "style": "IPY_MODEL_45892cd2ebf44999aaf3723a4e61b09a"
      }
     },
     "3bf1284b37444f86948f1ff7734853c0": {
      "model_module": "@jupyter-widgets/base",
      "model_module_version": "1.1.0",
      "model_name": "LayoutModel",
      "state": {}
     },
     "3c1659571500415595ab77494213ee92": {
      "model_module": "@jupyter-widgets/controls",
      "model_module_version": "1.4.0",
      "model_name": "DescriptionStyleModel",
      "state": {
       "description_width": ""
      }
     },
     "3c468b40f1a944a389361def49d7629b": {
      "model_module": "@jupyter-widgets/base",
      "model_module_version": "1.1.0",
      "model_name": "LayoutModel",
      "state": {}
     },
     "3c920ba87d1f4204a823ec27f62bc0d4": {
      "model_module": "@jupyter-widgets/controls",
      "model_module_version": "1.4.0",
      "model_name": "CheckboxModel",
      "state": {
       "description": "lowess",
       "disabled": false,
       "layout": "IPY_MODEL_6b96d27090fa45e4b8421da5c5abcc98",
       "style": "IPY_MODEL_245b4ceba76e43449aac81a5160b885c",
       "value": false
      }
     },
     "3cdb019158374f8ebf106ed23eb71801": {
      "model_module": "@jupyter-widgets/controls",
      "model_module_version": "1.4.0",
      "model_name": "DescriptionStyleModel",
      "state": {
       "description_width": ""
      }
     },
     "3d1f80ba46f34127918ef37c364711b1": {
      "model_module": "@jupyter-widgets/controls",
      "model_module_version": "1.4.0",
      "model_name": "HBoxModel",
      "state": {
       "children": [
        "IPY_MODEL_ad7e81e80fb344728085aef2766aeb57"
       ],
       "layout": "IPY_MODEL_9ab6e74c0e6a4b6b9f6d9b6acebf5c7a"
      }
     },
     "3d68dbb56ee847eba3e8180b422f5292": {
      "model_module": "@jupyter-widgets/base",
      "model_module_version": "1.1.0",
      "model_name": "LayoutModel",
      "state": {}
     },
     "3d7f6bce166e4e36b2578b0b1c41e306": {
      "model_module": "@jupyter-widgets/controls",
      "model_module_version": "1.4.0",
      "model_name": "FloatTextModel",
      "state": {
       "description": "vmin",
       "layout": "IPY_MODEL_3a2772f1f11a4fc59c526cd315fc49df",
       "step": null,
       "style": "IPY_MODEL_7f8b646d691e4416ab5b5afa355773e6",
       "value": 1
      }
     },
     "3ddf9f84388b4586ba5cbf3977af0c97": {
      "model_module": "@jupyter-widgets/base",
      "model_module_version": "1.1.0",
      "model_name": "LayoutModel",
      "state": {}
     },
     "3e051b3a76604304a4463c9e4e8b684c": {
      "model_module": "@jupyter-widgets/base",
      "model_module_version": "1.1.0",
      "model_name": "LayoutModel",
      "state": {}
     },
     "3ea1c4995c0b4d6e998ce10fa9b730b6": {
      "model_module": "@jupyter-widgets/controls",
      "model_module_version": "1.4.0",
      "model_name": "DescriptionStyleModel",
      "state": {
       "description_width": ""
      }
     },
     "3ec32179c18149dfbe1af3e3b4ef2436": {
      "model_module": "@jupyter-widgets/base",
      "model_module_version": "1.1.0",
      "model_name": "LayoutModel",
      "state": {}
     },
     "3ecd8771c4a146ac8747a76cdf8717ac": {
      "model_module": "@jupyter-widgets/controls",
      "model_module_version": "1.4.0",
      "model_name": "DescriptionStyleModel",
      "state": {
       "description_width": ""
      }
     },
     "3f138ad6332740b68b4433b77d9dc9e0": {
      "model_module": "@jupyter-widgets/controls",
      "model_module_version": "1.4.0",
      "model_name": "IntTextModel",
      "state": {
       "description": "gridsize",
       "layout": "IPY_MODEL_7066eb78c5674246a0e5b8a394da4c13",
       "step": 1,
       "style": "IPY_MODEL_189ede68eab744069448a91086a5e30d",
       "value": 100
      }
     },
     "3fa33ff3b20046ba97dd6c41598001a9": {
      "model_module": "@jupyter-widgets/base",
      "model_module_version": "1.1.0",
      "model_name": "LayoutModel",
      "state": {}
     },
     "3fc050b37cf14c60be524f12a835a086": {
      "model_module": "@jupyter-widgets/base",
      "model_module_version": "1.1.0",
      "model_name": "LayoutModel",
      "state": {}
     },
     "4046ccaf4b2f468e997b14536a53e6ad": {
      "model_module": "@jupyter-widgets/controls",
      "model_module_version": "1.4.0",
      "model_name": "DescriptionStyleModel",
      "state": {
       "description_width": ""
      }
     },
     "40a8e66e5d3d4d1c92b3ce182752c9e6": {
      "model_module": "@jupyter-widgets/base",
      "model_module_version": "1.1.0",
      "model_name": "LayoutModel",
      "state": {}
     },
     "422fc125778742199d8a60ccfcc104fa": {
      "model_module": "@jupyter-widgets/base",
      "model_module_version": "1.1.0",
      "model_name": "LayoutModel",
      "state": {}
     },
     "4261c304f2e24e23bbdb52259903a696": {
      "model_module": "@jupyter-widgets/controls",
      "model_module_version": "1.4.0",
      "model_name": "DescriptionStyleModel",
      "state": {
       "description_width": ""
      }
     },
     "42c49d3cd82a4581b9516c9e7a3a5668": {
      "model_module": "@jupyter-widgets/base",
      "model_module_version": "1.1.0",
      "model_name": "LayoutModel",
      "state": {}
     },
     "42f0492c98994fffa44d50ead652d7d1": {
      "model_module": "@jupyter-widgets/base",
      "model_module_version": "1.1.0",
      "model_name": "LayoutModel",
      "state": {}
     },
     "430135aae6ce45a3a0279c687839f019": {
      "model_module": "@jupyter-widgets/base",
      "model_module_version": "1.1.0",
      "model_name": "LayoutModel",
      "state": {}
     },
     "440ee75ba9234b1785d3f2b2ceda9ff0": {
      "model_module": "@jupyter-widgets/controls",
      "model_module_version": "1.4.0",
      "model_name": "FloatTextModel",
      "state": {
       "description": "capsize",
       "layout": "IPY_MODEL_0bc0b1fe100d44fc9d6bd394694abf1c",
       "step": null,
       "style": "IPY_MODEL_c2715d6c647c48ddb31028f34ee2c1f7",
       "value": 1
      }
     },
     "45155b6a027c4a8b89ac15f0b5b6c6c8": {
      "model_module": "@jupyter-widgets/controls",
      "model_module_version": "1.4.0",
      "model_name": "ButtonStyleModel",
      "state": {}
     },
     "45892cd2ebf44999aaf3723a4e61b09a": {
      "model_module": "@jupyter-widgets/controls",
      "model_module_version": "1.4.0",
      "model_name": "DescriptionStyleModel",
      "state": {
       "description_width": ""
      }
     },
     "45960937fae5428f91f3ffa0be30185c": {
      "model_module": "@jupyter-widgets/controls",
      "model_module_version": "1.4.0",
      "model_name": "TextModel",
      "state": {
       "description": "palette",
       "layout": "IPY_MODEL_df7d8475b27f4e21bb22a29df54107e1",
       "style": "IPY_MODEL_e741d4cccc164119a3124084cbbbd6c6"
      }
     },
     "462beb1962914aa78a0e726f2c5fafdf": {
      "model_module": "@jupyter-widgets/base",
      "model_module_version": "1.1.0",
      "model_name": "LayoutModel",
      "state": {}
     },
     "46be3cd966944ad79263e7c18d66793a": {
      "model_module": "@jupyter-widgets/controls",
      "model_module_version": "1.4.0",
      "model_name": "LabelModel",
      "state": {
       "layout": "IPY_MODEL_b2c823247f4849bd9002d08e2b7dae64",
       "style": "IPY_MODEL_836e027ff8b746b28ae5820dafb22ff4",
       "value": "---"
      }
     },
     "46d9a4a8500c44acb32516224e925da5": {
      "model_module": "@jupyter-widgets/base",
      "model_module_version": "1.1.0",
      "model_name": "LayoutModel",
      "state": {}
     },
     "46ffe5e0a5324ec29f1203c34464fb5a": {
      "model_module": "@jupyter-widgets/controls",
      "model_module_version": "1.4.0",
      "model_name": "DescriptionStyleModel",
      "state": {
       "description_width": ""
      }
     },
     "475c46f15a8241be8261e0772729f682": {
      "model_module": "@jupyter-widgets/base",
      "model_module_version": "1.1.0",
      "model_name": "LayoutModel",
      "state": {}
     },
     "478b0e34e7d84ca9ba2d634d882803c2": {
      "model_module": "@jupyter-widgets/base",
      "model_module_version": "1.1.0",
      "model_name": "LayoutModel",
      "state": {}
     },
     "4792d157a3e94ef79a50beeb85228e9b": {
      "model_module": "@jupyter-widgets/base",
      "model_module_version": "1.1.0",
      "model_name": "LayoutModel",
      "state": {}
     },
     "479ef239b7ae44439d8800b4e419c16a": {
      "model_module": "@jupyter-widgets/base",
      "model_module_version": "1.1.0",
      "model_name": "LayoutModel",
      "state": {}
     },
     "47cc873b6eb44adf8b094f80a4f73734": {
      "model_module": "@jupyter-widgets/base",
      "model_module_version": "1.1.0",
      "model_name": "LayoutModel",
      "state": {}
     },
     "47f068cc583848d7ba201276957efe2f": {
      "model_module": "@jupyter-widgets/base",
      "model_module_version": "1.1.0",
      "model_name": "LayoutModel",
      "state": {}
     },
     "47fbcbec92c64f7fb2e41b7a99ae29a8": {
      "model_module": "@jupyter-widgets/base",
      "model_module_version": "1.1.0",
      "model_name": "LayoutModel",
      "state": {}
     },
     "48100e00f0084598942f0c779773f8e1": {
      "model_module": "@jupyter-widgets/controls",
      "model_module_version": "1.4.0",
      "model_name": "DropdownModel",
      "state": {
       "_options_labels": [
        "band",
        "bars"
       ],
       "description": "err_style",
       "index": 0,
       "layout": "IPY_MODEL_75fee4f984d5484abb2bb1437c8d2343",
       "style": "IPY_MODEL_26c695586d9c4b9a8ca09fcd216b4b22"
      }
     },
     "4826e525ee8e498c927e0dc77dd8fc79": {
      "model_module": "@jupyter-widgets/controls",
      "model_module_version": "1.4.0",
      "model_name": "DescriptionStyleModel",
      "state": {
       "description_width": ""
      }
     },
     "48d4ec8e2fc045c894af9f48ba269919": {
      "model_module": "@jupyter-widgets/base",
      "model_module_version": "1.1.0",
      "model_name": "LayoutModel",
      "state": {}
     },
     "48e95fb4bef64848b2159db20b01af94": {
      "model_module": "@jupyter-widgets/base",
      "model_module_version": "1.1.0",
      "model_name": "LayoutModel",
      "state": {}
     },
     "49909f441d654e9db70c05c7004f6db0": {
      "model_module": "@jupyter-widgets/controls",
      "model_module_version": "1.4.0",
      "model_name": "DescriptionStyleModel",
      "state": {
       "description_width": ""
      }
     },
     "49efd60a6afc49658732b7d10d80dc9c": {
      "model_module": "@jupyter-widgets/controls",
      "model_module_version": "1.4.0",
      "model_name": "SliderStyleModel",
      "state": {
       "description_width": ""
      }
     },
     "4a493949d8bd410f8caa3bdbfe1edf88": {
      "model_module": "@jupyter-widgets/controls",
      "model_module_version": "1.4.0",
      "model_name": "DropdownModel",
      "state": {
       "_options_labels": [
        "v",
        "h"
       ],
       "description": "orient",
       "index": 0,
       "layout": "IPY_MODEL_20d8a5168be84955827fd05ac1f36b9d",
       "style": "IPY_MODEL_0a4caf228a5f4166beeca5514de5bd52"
      }
     },
     "4aad390bd46f4357bc574dd09b160f16": {
      "model_module": "@jupyter-widgets/controls",
      "model_module_version": "1.4.0",
      "model_name": "HBoxModel",
      "state": {
       "children": [
        "IPY_MODEL_fcdc4e0e83f1431599e0e6ce31c645b6"
       ],
       "layout": "IPY_MODEL_430135aae6ce45a3a0279c687839f019"
      }
     },
     "4ac43303b6b2466ba552d13ebb0a6871": {
      "model_module": "@jupyter-widgets/base",
      "model_module_version": "1.1.0",
      "model_name": "LayoutModel",
      "state": {}
     },
     "4aee1e1695d941d794e124aa22d4046d": {
      "model_module": "@jupyter-widgets/base",
      "model_module_version": "1.1.0",
      "model_name": "LayoutModel",
      "state": {}
     },
     "4b05c4bbb2ef4193becb4150610ed6f3": {
      "model_module": "@jupyter-widgets/controls",
      "model_module_version": "1.4.0",
      "model_name": "CheckboxModel",
      "state": {
       "description": "dropna",
       "disabled": false,
       "layout": "IPY_MODEL_e82a473a38fe43d59c6998df021e39cf",
       "style": "IPY_MODEL_cb26031063394d24b48bce6ac76a59ac",
       "value": false
      }
     },
     "4b1f5b3d84394db888f1a5f36483427b": {
      "model_module": "@jupyter-widgets/base",
      "model_module_version": "1.1.0",
      "model_name": "LayoutModel",
      "state": {}
     },
     "4b32ed4761d04d02aa6a5150128d186f": {
      "model_module": "@jupyter-widgets/controls",
      "model_module_version": "1.4.0",
      "model_name": "DropdownModel",
      "state": {
       "_options_labels": [
        "True",
        "row",
        "col"
       ],
       "description": "sharey",
       "index": 0,
       "layout": "IPY_MODEL_c71e55232cfc46ce9a1f6e2f19582cfd",
       "style": "IPY_MODEL_734d491a9958455fbb259c70c3fb6910"
      }
     },
     "4b3f70dafdc04dc3b137515ad8f616a8": {
      "model_module": "@jupyter-widgets/controls",
      "model_module_version": "1.4.0",
      "model_name": "HBoxModel",
      "state": {
       "children": [
        "IPY_MODEL_46be3cd966944ad79263e7c18d66793a"
       ],
       "layout": "IPY_MODEL_781dadf59ee6445b9c6827be56388e85"
      }
     },
     "4be2016bad1e4f8a8bf519bbaf943886": {
      "model_module": "@jupyter-widgets/controls",
      "model_module_version": "1.4.0",
      "model_name": "DescriptionStyleModel",
      "state": {
       "description_width": ""
      }
     },
     "4c108b60dac54c549d0a9ba50ddeb3a4": {
      "model_module": "@jupyter-widgets/controls",
      "model_module_version": "1.4.0",
      "model_name": "HBoxModel",
      "state": {
       "children": [
        "IPY_MODEL_df40196c501c44868f35054b21792fb4"
       ],
       "layout": "IPY_MODEL_a067daa83db14cf4b04ecd1ace852139"
      }
     },
     "4cee5b3d64ce4acf850568eddc785de2": {
      "model_module": "@jupyter-widgets/controls",
      "model_module_version": "1.4.0",
      "model_name": "ButtonModel",
      "state": {
       "description": "remove",
       "layout": "IPY_MODEL_478b0e34e7d84ca9ba2d634d882803c2",
       "style": "IPY_MODEL_0cc58918f670410e9f946ca7cc13f730"
      }
     },
     "4d7fa39921d3493289bec77641dd7f04": {
      "model_module": "@jupyter-widgets/controls",
      "model_module_version": "1.4.0",
      "model_name": "DescriptionStyleModel",
      "state": {
       "description_width": ""
      }
     },
     "4d99f66188e74327845f47c541c352bd": {
      "model_module": "@jupyter-widgets/base",
      "model_module_version": "1.1.0",
      "model_name": "LayoutModel",
      "state": {}
     },
     "4dd2b6d7fc7f4c7590622df41990604e": {
      "model_module": "@jupyter-widgets/base",
      "model_module_version": "1.1.0",
      "model_name": "LayoutModel",
      "state": {}
     },
     "4dd331f8bcd54e759ba805ff0d91ddcd": {
      "model_module": "@jupyter-widgets/controls",
      "model_module_version": "1.4.0",
      "model_name": "TextModel",
      "state": {
       "description": "linecolor",
       "layout": "IPY_MODEL_3677c53f88fb4426b2ff86b76336e948",
       "style": "IPY_MODEL_ce40917a1d5f4376af8480eb8b225856"
      }
     },
     "4e11e12e10574ca39770a395571416ca": {
      "model_module": "@jupyter-widgets/controls",
      "model_module_version": "1.4.0",
      "model_name": "DescriptionStyleModel",
      "state": {
       "description_width": ""
      }
     },
     "4ec77584d37844579194613c196f1f4f": {
      "model_module": "@jupyter-widgets/controls",
      "model_module_version": "1.4.0",
      "model_name": "SliderStyleModel",
      "state": {
       "description_width": ""
      }
     },
     "4f2d749d80994567a2e9093894de75f8": {
      "model_module": "@jupyter-widgets/controls",
      "model_module_version": "1.4.0",
      "model_name": "DropdownModel",
      "state": {
       "_options_labels": [
        "Acceleration",
        "Cylinders",
        "Displacement",
        "Horsepower",
        "Miles_per_Gallon",
        "Name",
        "Origin",
        "Weight_in_lbs",
        "Year"
       ],
       "description": "size",
       "index": 0,
       "layout": "IPY_MODEL_5e26ceb9af134bcf9ceb3de191502421",
       "style": "IPY_MODEL_4d7fa39921d3493289bec77641dd7f04"
      }
     },
     "4fc4fc9a6a454bfb81604f42b292770b": {
      "model_module": "@jupyter-widgets/base",
      "model_module_version": "1.1.0",
      "model_name": "LayoutModel",
      "state": {}
     },
     "4ff718b8f9d84dc7a951cf54c5bedfd0": {
      "model_module": "@jupyter-widgets/controls",
      "model_module_version": "1.4.0",
      "model_name": "DescriptionStyleModel",
      "state": {
       "description_width": ""
      }
     },
     "501c325d26ed4a6890ef4adfd83132e3": {
      "model_module": "@jupyter-widgets/controls",
      "model_module_version": "1.4.0",
      "model_name": "IntTextModel",
      "state": {
       "description": "height",
       "layout": "IPY_MODEL_cd47b5c547124a3cabe454953b55d641",
       "step": 1,
       "style": "IPY_MODEL_854cc50df9a14a62aa2b12a44f46a288",
       "value": 5
      }
     },
     "50558fc5fb9e4058990e66b5e8d719c4": {
      "model_module": "@jupyter-widgets/base",
      "model_module_version": "1.1.0",
      "model_name": "LayoutModel",
      "state": {}
     },
     "505d312ed9894e4babba607a813e68b3": {
      "model_module": "@jupyter-widgets/base",
      "model_module_version": "1.1.0",
      "model_name": "LayoutModel",
      "state": {}
     },
     "50a605bb04a34fd88151405e188314b7": {
      "model_module": "@jupyter-widgets/controls",
      "model_module_version": "1.4.0",
      "model_name": "ButtonStyleModel",
      "state": {}
     },
     "512054069a0245ad94200a78207dabde": {
      "model_module": "@jupyter-widgets/controls",
      "model_module_version": "1.4.0",
      "model_name": "HBoxModel",
      "state": {
       "children": [
        "IPY_MODEL_a1386fe03ee84f97ab12d4687e608fcf"
       ],
       "layout": "IPY_MODEL_2256ee2c46924ab8833d5afe1f47bf9e"
      }
     },
     "515cd47f85c84bcfbe9b48cbf387fbef": {
      "model_module": "@jupyter-widgets/base",
      "model_module_version": "1.1.0",
      "model_name": "LayoutModel",
      "state": {}
     },
     "515e2a3295724a378074780edfd9b78e": {
      "model_module": "@jupyter-widgets/controls",
      "model_module_version": "1.4.0",
      "model_name": "CheckboxModel",
      "state": {
       "description": "annot",
       "disabled": false,
       "layout": "IPY_MODEL_267959589b7d4d06b14c8075d47bb6db",
       "style": "IPY_MODEL_94d3ea5ed84b43be87e3e8b317418a20",
       "value": false
      }
     },
     "5166b2d9c61d46d984e772ba57cb3393": {
      "model_module": "@jupyter-widgets/controls",
      "model_module_version": "1.4.0",
      "model_name": "DescriptionStyleModel",
      "state": {
       "description_width": ""
      }
     },
     "5181135b7b7f4a8797273a21d9a3354a": {
      "model_module": "@jupyter-widgets/controls",
      "model_module_version": "1.4.0",
      "model_name": "CheckboxModel",
      "state": {
       "description": "cbar_ax",
       "disabled": false,
       "layout": "IPY_MODEL_e19db2b1145e4c3d8089ee8edd3c3459",
       "style": "IPY_MODEL_30e9cf5a5e324379860ed3e65394ec28",
       "value": false
      }
     },
     "51a434c9054446ce956a44eeb553ec23": {
      "model_module": "@jupyter-widgets/controls",
      "model_module_version": "1.4.0",
      "model_name": "CheckboxModel",
      "state": {
       "description": "cumulative",
       "disabled": false,
       "layout": "IPY_MODEL_e434f25a038e42cea7bc34caa019db72",
       "style": "IPY_MODEL_b0e5021105a543c2a542c621298136d1",
       "value": false
      }
     },
     "522bcda448ae42ca8c3d119f19d06c7a": {
      "model_module": "@jupyter-widgets/controls",
      "model_module_version": "1.4.0",
      "model_name": "CheckboxModel",
      "state": {
       "description": "shade",
       "disabled": false,
       "layout": "IPY_MODEL_757be49fe8b9435f9504cb05833379e9",
       "style": "IPY_MODEL_787a46bad6834401982f9b46e00e2c00",
       "value": false
      }
     },
     "525270fdaeef428eb9edc29c7c17ba26": {
      "model_module": "@jupyter-widgets/controls",
      "model_module_version": "1.4.0",
      "model_name": "DescriptionStyleModel",
      "state": {
       "description_width": ""
      }
     },
     "525ecad0040c41a3a8746f3aec469e2b": {
      "model_module": "@jupyter-widgets/controls",
      "model_module_version": "1.4.0",
      "model_name": "DescriptionStyleModel",
      "state": {
       "description_width": ""
      }
     },
     "52acd5d79bf14080863634bf0e3d7b20": {
      "model_module": "@jupyter-widgets/base",
      "model_module_version": "1.1.0",
      "model_name": "LayoutModel",
      "state": {}
     },
     "5311fc101d34498980f3aa9cd8a592f4": {
      "model_module": "@jupyter-widgets/controls",
      "model_module_version": "1.4.0",
      "model_name": "FloatTextModel",
      "state": {
       "description": "cut",
       "layout": "IPY_MODEL_358b5c87313d4a05bc461a5fdeb58ecb",
       "step": null,
       "style": "IPY_MODEL_09e33715ba2940ccac10222f194ff2f0",
       "value": 1
      }
     },
     "53af51339086439683fbe214ee4fc145": {
      "model_module": "@jupyter-widgets/controls",
      "model_module_version": "1.4.0",
      "model_name": "CheckboxModel",
      "state": {
       "description": "lowess",
       "disabled": false,
       "layout": "IPY_MODEL_b83c4cb5b91d4e07a474004c20033181",
       "style": "IPY_MODEL_1f7dea6fc7ea493f81c863b7a86501b9",
       "value": false
      }
     },
     "540abaf6ac3549839e4142aef3045d0f": {
      "model_module": "@jupyter-widgets/controls",
      "model_module_version": "1.4.0",
      "model_name": "DropdownModel",
      "state": {
       "_options_labels": [
        "gau",
        "cos",
        "biw",
        "epa",
        "tri",
        "triw"
       ],
       "description": "kernel",
       "index": 0,
       "layout": "IPY_MODEL_35117ecbb1054e5db96aac1445ded429",
       "style": "IPY_MODEL_ab613a433eaa4ca1ba712ae0eac72b9e"
      }
     },
     "54114054d042460caf39a0bc0bead24b": {
      "model_module": "@jupyter-widgets/controls",
      "model_module_version": "1.4.0",
      "model_name": "CheckboxModel",
      "state": {
       "description": "legend_out",
       "disabled": false,
       "layout": "IPY_MODEL_8dc85b2b1b16497cb7daa656c0a52e60",
       "style": "IPY_MODEL_8104848b7caa4cb68349dd901524a1b3",
       "value": false
      }
     },
     "5459653d0a3947fbb383ca752e371fb0": {
      "model_module": "@jupyter-widgets/base",
      "model_module_version": "1.1.0",
      "model_name": "LayoutModel",
      "state": {}
     },
     "556003b228de4ef1bf24c168bf09b39b": {
      "model_module": "@jupyter-widgets/base",
      "model_module_version": "1.1.0",
      "model_name": "LayoutModel",
      "state": {}
     },
     "55d4183a07044dd7a88be79447097134": {
      "model_module": "@jupyter-widgets/controls",
      "model_module_version": "1.4.0",
      "model_name": "FloatTextModel",
      "state": {
       "description": "center",
       "layout": "IPY_MODEL_91fe69c0a4a14933a30636096f554fcd",
       "step": null,
       "style": "IPY_MODEL_c722dacd61894ba3a6417010480107cc",
       "value": 1
      }
     },
     "566657e6a0544e1b94a05c545ec7aad7": {
      "model_module": "@jupyter-widgets/controls",
      "model_module_version": "1.4.0",
      "model_name": "IntTextModel",
      "state": {
       "description": "n_boot",
       "layout": "IPY_MODEL_c1b0336c2b4542d993ab0d38251bcd33",
       "step": 1,
       "style": "IPY_MODEL_e7d214f1992248ffbb89575518f587b9",
       "value": 10000
      }
     },
     "56c39846342d40fb9119aa9d036b8766": {
      "model_module": "@jupyter-widgets/base",
      "model_module_version": "1.1.0",
      "model_name": "LayoutModel",
      "state": {}
     },
     "5705e4ddc6604cba90830fe7f521c1bf": {
      "model_module": "@jupyter-widgets/controls",
      "model_module_version": "1.4.0",
      "model_name": "DropdownModel",
      "state": {
       "_options_labels": [
        "Acceleration",
        "Cylinders",
        "Displacement",
        "Horsepower",
        "Miles_per_Gallon",
        "Name",
        "Origin",
        "Weight_in_lbs",
        "Year"
       ],
       "description": "x_partial",
       "index": 0,
       "layout": "IPY_MODEL_9ec6cf42809f47cdb19a7623f5e90655",
       "style": "IPY_MODEL_611baac5753442369b1245457ebd3078"
      }
     },
     "570dace253ff4871b2dde4e1270a791e": {
      "model_module": "@jupyter-widgets/controls",
      "model_module_version": "1.4.0",
      "model_name": "DescriptionStyleModel",
      "state": {
       "description_width": ""
      }
     },
     "58c63769c07c463d96e3b1c764930021": {
      "model_module": "@jupyter-widgets/base",
      "model_module_version": "1.1.0",
      "model_name": "LayoutModel",
      "state": {}
     },
     "58fcecbebc2d46328f25fd3a1eaaa4a4": {
      "model_module": "@jupyter-widgets/base",
      "model_module_version": "1.1.0",
      "model_name": "LayoutModel",
      "state": {}
     },
     "5925c18c7a8f4a949dca7c5082a756bd": {
      "model_module": "@jupyter-widgets/base",
      "model_module_version": "1.1.0",
      "model_name": "LayoutModel",
      "state": {}
     },
     "59262deba06848a3b3585a14ba6b89f9": {
      "model_module": "@jupyter-widgets/base",
      "model_module_version": "1.1.0",
      "model_name": "LayoutModel",
      "state": {}
     },
     "592cbe3ae02c43b7a4604631cba010ef": {
      "model_module": "@jupyter-widgets/controls",
      "model_module_version": "1.4.0",
      "model_name": "FloatTextModel",
      "state": {
       "description": "whis",
       "layout": "IPY_MODEL_3c468b40f1a944a389361def49d7629b",
       "step": null,
       "style": "IPY_MODEL_017a99aa4be34171bfe86443a6ff4642",
       "value": 1
      }
     },
     "597a4e31fd3e43bda7e4811da6fc6bf4": {
      "model_module": "@jupyter-widgets/base",
      "model_module_version": "1.1.0",
      "model_name": "LayoutModel",
      "state": {}
     },
     "59f35f35fb0e44dc9b48a04b88e592f5": {
      "model_module": "@jupyter-widgets/controls",
      "model_module_version": "1.4.0",
      "model_name": "CheckboxModel",
      "state": {
       "description": "norm_hist",
       "disabled": false,
       "layout": "IPY_MODEL_46d9a4a8500c44acb32516224e925da5",
       "style": "IPY_MODEL_ad1d1fedad9a49edb15ea74037b2aafd",
       "value": false
      }
     },
     "5a3b9dc080744d6a8e9d9a3e54f60a6e": {
      "model_module": "@jupyter-widgets/controls",
      "model_module_version": "1.4.0",
      "model_name": "CheckboxModel",
      "state": {
       "description": "legend_out",
       "disabled": false,
       "layout": "IPY_MODEL_f46bdfb570ec4d6aa01727136a8299cf",
       "style": "IPY_MODEL_6a07ffcb87fc4b4eb97773e3db44e003",
       "value": false
      }
     },
     "5abe9e7652cc401b85f01d8bb5c75fde": {
      "model_module": "@jupyter-widgets/base",
      "model_module_version": "1.1.0",
      "model_name": "LayoutModel",
      "state": {}
     },
     "5b7daf3538df480c9c99a9db87d903dd": {
      "model_module": "@jupyter-widgets/controls",
      "model_module_version": "1.4.0",
      "model_name": "DropdownModel",
      "state": {
       "_options_labels": [
        "proportion",
        "tukey",
        "trustworthy"
       ],
       "description": "k_depth",
       "index": 2,
       "layout": "IPY_MODEL_3fc050b37cf14c60be524f12a835a086",
       "style": "IPY_MODEL_dfc2ce90614e4a84acf17f025e493a7c"
      }
     },
     "5bc3954d81fb4cfe8b1af3a0534654d5": {
      "model_module": "@jupyter-widgets/base",
      "model_module_version": "1.1.0",
      "model_name": "LayoutModel",
      "state": {}
     },
     "5bcf820f41f643c5a217b221b7eeb61d": {
      "model_module": "@jupyter-widgets/controls",
      "model_module_version": "1.4.0",
      "model_name": "FloatTextModel",
      "state": {
       "description": "height",
       "layout": "IPY_MODEL_dc087f8e3df14b39b4a23b1bd0888fec",
       "step": null,
       "style": "IPY_MODEL_2ac439ab1e0941799f0317787e675420",
       "value": 1
      }
     },
     "5c09288bd2424505b926743329ce829a": {
      "model_module": "@jupyter-widgets/controls",
      "model_module_version": "1.4.0",
      "model_name": "CheckboxModel",
      "state": {
       "description": "kde",
       "disabled": false,
       "layout": "IPY_MODEL_5f02d2eb1e64460da1d59f943519d2d1",
       "style": "IPY_MODEL_e9b2ec5d809c4814978ea3d0177072b8",
       "value": false
      }
     },
     "5caff04214084fa1a5a5ec22914d27ac": {
      "model_module": "@jupyter-widgets/controls",
      "model_module_version": "1.4.0",
      "model_name": "DescriptionStyleModel",
      "state": {
       "description_width": ""
      }
     },
     "5d0568b5e0a44964ad504b4b14feece4": {
      "model_module": "@jupyter-widgets/base",
      "model_module_version": "1.1.0",
      "model_name": "LayoutModel",
      "state": {}
     },
     "5d659204e6a3444da8eaee4ec3fc2169": {
      "model_module": "@jupyter-widgets/controls",
      "model_module_version": "1.4.0",
      "model_name": "DescriptionStyleModel",
      "state": {
       "description_width": ""
      }
     },
     "5dd1cb75e8fb4c538c9e738642a94118": {
      "model_module": "@jupyter-widgets/base",
      "model_module_version": "1.1.0",
      "model_name": "LayoutModel",
      "state": {}
     },
     "5e26ceb9af134bcf9ceb3de191502421": {
      "model_module": "@jupyter-widgets/base",
      "model_module_version": "1.1.0",
      "model_name": "LayoutModel",
      "state": {}
     },
     "5eca0a63c21b4062b33ecc57039c12d3": {
      "model_module": "@jupyter-widgets/base",
      "model_module_version": "1.1.0",
      "model_name": "LayoutModel",
      "state": {}
     },
     "5f02d2eb1e64460da1d59f943519d2d1": {
      "model_module": "@jupyter-widgets/base",
      "model_module_version": "1.1.0",
      "model_name": "LayoutModel",
      "state": {}
     },
     "5f068e9d7b9b468680f3dd4069d237c2": {
      "model_module": "@jupyter-widgets/controls",
      "model_module_version": "1.4.0",
      "model_name": "ButtonModel",
      "state": {
       "description": "remove",
       "layout": "IPY_MODEL_72671a60cf3e4afa835180bb8b29e475",
       "style": "IPY_MODEL_ffd6ac5639f24f02bc74bbb4f3f3c97f"
      }
     },
     "5f11f0e3094f446e9f810ecf959a2d6b": {
      "model_module": "@jupyter-widgets/base",
      "model_module_version": "1.1.0",
      "model_name": "LayoutModel",
      "state": {}
     },
     "5f2558e6bf0a4b088f83bbf9b9bd4d04": {
      "model_module": "@jupyter-widgets/controls",
      "model_module_version": "1.4.0",
      "model_name": "DescriptionStyleModel",
      "state": {
       "description_width": ""
      }
     },
     "5f496eec65e44710bf4762b5b0c06f2b": {
      "model_module": "@jupyter-widgets/controls",
      "model_module_version": "1.4.0",
      "model_name": "DescriptionStyleModel",
      "state": {
       "description_width": ""
      }
     },
     "6037d99781654dad98a6e0d6e917ad00": {
      "model_module": "@jupyter-widgets/base",
      "model_module_version": "1.1.0",
      "model_name": "LayoutModel",
      "state": {}
     },
     "60c15a4a0beb4b3bb54802b98fe2290b": {
      "model_module": "@jupyter-widgets/base",
      "model_module_version": "1.1.0",
      "model_name": "LayoutModel",
      "state": {}
     },
     "6117406048cb430fb0074aa06ae733b7": {
      "model_module": "@jupyter-widgets/controls",
      "model_module_version": "1.4.0",
      "model_name": "DescriptionStyleModel",
      "state": {
       "description_width": ""
      }
     },
     "611baac5753442369b1245457ebd3078": {
      "model_module": "@jupyter-widgets/controls",
      "model_module_version": "1.4.0",
      "model_name": "DescriptionStyleModel",
      "state": {
       "description_width": ""
      }
     },
     "6123f45610a748fdaa71ea2d946ef326": {
      "model_module": "@jupyter-widgets/controls",
      "model_module_version": "1.4.0",
      "model_name": "HBoxModel",
      "state": {
       "children": [
        "IPY_MODEL_62894b5b13b8431dbb9a4dbb33d7422d",
        "IPY_MODEL_efd48bb91f6c473599561f3f508f4fef"
       ],
       "layout": "IPY_MODEL_a6dbadc45e514a7eb9dd116d9b03d9bd"
      }
     },
     "614a4f710e904b27a775a33a96a940a1": {
      "model_module": "@jupyter-widgets/controls",
      "model_module_version": "1.4.0",
      "model_name": "FloatTextModel",
      "state": {
       "description": "x_jitter",
       "layout": "IPY_MODEL_96f6d49b30244c78a2274552fa6bc90a",
       "step": null,
       "style": "IPY_MODEL_c5463c44826743f1b3551edabf7b6cec",
       "value": 1
      }
     },
     "616533d56e2d4045926d00d94695a7b7": {
      "model_module": "@jupyter-widgets/controls",
      "model_module_version": "1.4.0",
      "model_name": "FloatTextModel",
      "state": {
       "description": "fliersize",
       "layout": "IPY_MODEL_c4cdc83ee9cf4cf3aaf5d92d3cad683e",
       "step": null,
       "style": "IPY_MODEL_213739a036744c99bc4c70d5423747e4",
       "value": 1
      }
     },
     "61712b47546d43f4a80f9db2ab681eb8": {
      "model_module": "@jupyter-widgets/controls",
      "model_module_version": "1.4.0",
      "model_name": "DescriptionStyleModel",
      "state": {
       "description_width": ""
      }
     },
     "620a7f6e955a45cc9d1ecd45c379c50a": {
      "model_module": "@jupyter-widgets/controls",
      "model_module_version": "1.4.0",
      "model_name": "DescriptionStyleModel",
      "state": {
       "description_width": ""
      }
     },
     "624ad56b1ac147cbba8d7123e29e9e15": {
      "model_module": "@jupyter-widgets/controls",
      "model_module_version": "1.4.0",
      "model_name": "DescriptionStyleModel",
      "state": {
       "description_width": ""
      }
     },
     "62619a849f3d4ff69e9806ff9a292653": {
      "model_module": "@jupyter-widgets/base",
      "model_module_version": "1.1.0",
      "model_name": "LayoutModel",
      "state": {}
     },
     "62778a69c2c7447b935da696e9243205": {
      "model_module": "@jupyter-widgets/controls",
      "model_module_version": "1.4.0",
      "model_name": "DescriptionStyleModel",
      "state": {
       "description_width": ""
      }
     },
     "62894b5b13b8431dbb9a4dbb33d7422d": {
      "model_module": "@jupyter-widgets/controls",
      "model_module_version": "1.4.0",
      "model_name": "DropdownModel",
      "state": {
       "_options_labels": [
        "Acceleration",
        "Cylinders",
        "Displacement",
        "Horsepower",
        "Miles_per_Gallon",
        "Name",
        "Origin",
        "Weight_in_lbs",
        "Year"
       ],
       "description": "y",
       "index": 0,
       "layout": "IPY_MODEL_c40a630661d54d68a4d71d621d36f652",
       "style": "IPY_MODEL_4046ccaf4b2f468e997b14536a53e6ad"
      }
     },
     "64298fcaf39b44d0b468e66d0585aeb3": {
      "model_module": "@jupyter-widgets/controls",
      "model_module_version": "1.4.0",
      "model_name": "DescriptionStyleModel",
      "state": {
       "description_width": ""
      }
     },
     "644f67c01e3147cda4b0fe0c2c9bb564": {
      "model_module": "@jupyter-widgets/controls",
      "model_module_version": "1.4.0",
      "model_name": "DescriptionStyleModel",
      "state": {
       "description_width": ""
      }
     },
     "6453d5838729412192346ae82be97fbf": {
      "model_module": "@jupyter-widgets/controls",
      "model_module_version": "1.4.0",
      "model_name": "CheckboxModel",
      "state": {
       "description": "margin_titles",
       "disabled": false,
       "layout": "IPY_MODEL_b2c2f76d654c4be7854d90144fc55124",
       "style": "IPY_MODEL_c01b2f4b9792423a983ecb8a3b3a1d91",
       "value": false
      }
     },
     "645c7f73f69044b88087728694bc4287": {
      "model_module": "@jupyter-widgets/controls",
      "model_module_version": "1.4.0",
      "model_name": "DescriptionStyleModel",
      "state": {
       "description_width": ""
      }
     },
     "647a08e5cd5c4025958e68a0d6dc2924": {
      "model_module": "@jupyter-widgets/controls",
      "model_module_version": "1.4.0",
      "model_name": "TextModel",
      "state": {
       "description": "label",
       "layout": "IPY_MODEL_8c1f08634e6f44e3ba01d874e28b81bc",
       "style": "IPY_MODEL_2dcff766ae24428786eae7848b286d8b"
      }
     },
     "64830bfdf9f44157a46e057b24c88fb6": {
      "model_module": "@jupyter-widgets/controls",
      "model_module_version": "1.4.0",
      "model_name": "FloatTextModel",
      "state": {
       "description": "center",
       "layout": "IPY_MODEL_7b9d64537a9b4c0c9bfbace442c10d90",
       "step": null,
       "style": "IPY_MODEL_4ff718b8f9d84dc7a951cf54c5bedfd0",
       "value": 1
      }
     },
     "64f1167b720741dc8f017afea254963d": {
      "model_module": "@jupyter-widgets/controls",
      "model_module_version": "1.4.0",
      "model_name": "DescriptionStyleModel",
      "state": {
       "description_width": ""
      }
     },
     "64fa6f8d50474b81bc05a1a1db5072f2": {
      "model_module": "@jupyter-widgets/controls",
      "model_module_version": "1.4.0",
      "model_name": "HBoxModel",
      "state": {
       "children": [
        "IPY_MODEL_d5ca33d7378342daa870fcf5b4078bc8"
       ],
       "layout": "IPY_MODEL_5eca0a63c21b4062b33ecc57039c12d3"
      }
     },
     "66ebce3ce6484bbaa5b6b11e859110a9": {
      "model_module": "@jupyter-widgets/base",
      "model_module_version": "1.1.0",
      "model_name": "LayoutModel",
      "state": {}
     },
     "66f85f50c257452ebbb8ca1911e8c613": {
      "model_module": "@jupyter-widgets/controls",
      "model_module_version": "1.4.0",
      "model_name": "FloatTextModel",
      "state": {
       "description": "x_jitter",
       "layout": "IPY_MODEL_7d4960c58cf7454fa2b1fb99c6dcf3f3",
       "step": null,
       "style": "IPY_MODEL_d6dda6ced8c642a793147b50c8550501",
       "value": 1
      }
     },
     "67081e8b2ce849f58c6d5d4ea6693b7b": {
      "model_module": "@jupyter-widgets/output",
      "model_module_version": "1.0.0",
      "model_name": "OutputModel",
      "state": {
       "layout": "IPY_MODEL_878022c4bed045d7bc183fadd51dcb6d",
       "outputs": [
        {
         "data": {
          "image/png": "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\n",
          "text/plain": "<Figure size 432x288 with 1 Axes>"
         },
         "metadata": {},
         "output_type": "display_data"
        }
       ]
      }
     },
     "672a6fddb05f4b9da82e606b9e83aa86": {
      "model_module": "@jupyter-widgets/controls",
      "model_module_version": "1.4.0",
      "model_name": "DescriptionStyleModel",
      "state": {
       "description_width": ""
      }
     },
     "676dcf36877a4525ad42feb2d0ed9fc5": {
      "model_module": "@jupyter-widgets/controls",
      "model_module_version": "1.4.0",
      "model_name": "DescriptionStyleModel",
      "state": {
       "description_width": ""
      }
     },
     "67adffe41194484580a7e8183d207249": {
      "model_module": "@jupyter-widgets/controls",
      "model_module_version": "1.4.0",
      "model_name": "FloatTextModel",
      "state": {
       "description": "width",
       "layout": "IPY_MODEL_f6df512d6d344302b14213cda911da65",
       "step": null,
       "style": "IPY_MODEL_8d32246c6b874b58b780eec7088be7a7",
       "value": 1
      }
     },
     "67c2e04b17e1437baab2b5801cf47f28": {
      "model_module": "@jupyter-widgets/controls",
      "model_module_version": "1.4.0",
      "model_name": "CheckboxModel",
      "state": {
       "description": "norm_hist",
       "disabled": false,
       "layout": "IPY_MODEL_055ab8fc55c44590bf638fc5ef18665e",
       "style": "IPY_MODEL_acd2aec9438e439389c1840eda2f26dc",
       "value": false
      }
     },
     "67fef60179b8491b8110724498445472": {
      "model_module": "@jupyter-widgets/base",
      "model_module_version": "1.1.0",
      "model_name": "LayoutModel",
      "state": {}
     },
     "6866e3674e6542d896a23a4d89b95f77": {
      "model_module": "@jupyter-widgets/controls",
      "model_module_version": "1.4.0",
      "model_name": "DescriptionStyleModel",
      "state": {
       "description_width": ""
      }
     },
     "688ce6a0d05449fa8ef5d5d6298030d1": {
      "model_module": "@jupyter-widgets/controls",
      "model_module_version": "1.4.0",
      "model_name": "FloatTextModel",
      "state": {
       "description": "vmin",
       "layout": "IPY_MODEL_7cc0351be6434fe080781b7de1cca40d",
       "step": null,
       "style": "IPY_MODEL_d154dd2567e04704ad8ccd975887c0ef",
       "value": 1
      }
     },
     "68b21c784faf43279f089b49446b4c17": {
      "model_module": "@jupyter-widgets/base",
      "model_module_version": "1.1.0",
      "model_name": "LayoutModel",
      "state": {}
     },
     "68fb1d3be8c94a97b6f4b8f9d40580b1": {
      "model_module": "@jupyter-widgets/base",
      "model_module_version": "1.1.0",
      "model_name": "LayoutModel",
      "state": {}
     },
     "69b26a60ad1e4c1b9c5201a7d00f0c70": {
      "model_module": "@jupyter-widgets/controls",
      "model_module_version": "1.4.0",
      "model_name": "HBoxModel",
      "state": {
       "children": [
        "IPY_MODEL_c4d3dd32e432498ba5fdfd5c88d3756d"
       ],
       "layout": "IPY_MODEL_3a11866d27d549b0b11a6dc9895ce2ff"
      }
     },
     "69b88b04c7f84ebf89f11c945968ea18": {
      "model_module": "@jupyter-widgets/base",
      "model_module_version": "1.1.0",
      "model_name": "LayoutModel",
      "state": {}
     },
     "6a07ffcb87fc4b4eb97773e3db44e003": {
      "model_module": "@jupyter-widgets/controls",
      "model_module_version": "1.4.0",
      "model_name": "DescriptionStyleModel",
      "state": {
       "description_width": ""
      }
     },
     "6a737ab8878e489697b31c89c9aa2b30": {
      "model_module": "@jupyter-widgets/base",
      "model_module_version": "1.1.0",
      "model_name": "LayoutModel",
      "state": {}
     },
     "6a83465a197c4637841164af77297add": {
      "model_module": "@jupyter-widgets/base",
      "model_module_version": "1.1.0",
      "model_name": "LayoutModel",
      "state": {}
     },
     "6aaa64b092d8468882b733dd6346edf1": {
      "model_module": "@jupyter-widgets/controls",
      "model_module_version": "1.4.0",
      "model_name": "DescriptionStyleModel",
      "state": {
       "description_width": ""
      }
     },
     "6b900c7e87014f9f889486ea3ec75d2a": {
      "model_module": "@jupyter-widgets/controls",
      "model_module_version": "1.4.0",
      "model_name": "ButtonModel",
      "state": {
       "description": "remove",
       "layout": "IPY_MODEL_b6aea9e3a4ca4934958992dfab33bb47",
       "style": "IPY_MODEL_b3a3bac668ef4f8c9b0458b7f8f5b6c9"
      }
     },
     "6b96d27090fa45e4b8421da5c5abcc98": {
      "model_module": "@jupyter-widgets/base",
      "model_module_version": "1.1.0",
      "model_name": "LayoutModel",
      "state": {}
     },
     "6d3ea415466c4a8a93e58e1addba641f": {
      "model_module": "@jupyter-widgets/controls",
      "model_module_version": "1.4.0",
      "model_name": "DropdownModel",
      "state": {
       "_options_labels": [
        "Acceleration",
        "Cylinders",
        "Year",
        "Origin",
        "Horsepower",
        "Name",
        "Displacement",
        "Weight_in_lbs",
        "Miles_per_Gallon"
       ],
       "description": "dashes",
       "index": 0,
       "layout": "IPY_MODEL_66ebce3ce6484bbaa5b6b11e859110a9",
       "style": "IPY_MODEL_b742d7cee9ff45fa8293b57782726bff"
      }
     },
     "6d68d90d6cae401aa7a1cebb249535d1": {
      "model_module": "@jupyter-widgets/controls",
      "model_module_version": "1.4.0",
      "model_name": "DescriptionStyleModel",
      "state": {
       "description_width": ""
      }
     },
     "6d7c7586ba5046dba435c309a2a821c7": {
      "model_module": "@jupyter-widgets/controls",
      "model_module_version": "1.4.0",
      "model_name": "DescriptionStyleModel",
      "state": {
       "description_width": ""
      }
     },
     "6d9a05d56f69431b87175431b6a22650": {
      "model_module": "@jupyter-widgets/controls",
      "model_module_version": "1.4.0",
      "model_name": "DropdownModel",
      "state": {
       "_options_labels": [
        "Acceleration",
        "Cylinders",
        "Displacement",
        "Horsepower",
        "Miles_per_Gallon",
        "Name",
        "Origin",
        "Weight_in_lbs",
        "Year"
       ],
       "description": "row",
       "index": 0,
       "layout": "IPY_MODEL_58c63769c07c463d96e3b1c764930021",
       "style": "IPY_MODEL_61712b47546d43f4a80f9db2ab681eb8"
      }
     },
     "6dcc76ca49dc4e33a47f8c67a4d87352": {
      "model_module": "@jupyter-widgets/controls",
      "model_module_version": "1.4.0",
      "model_name": "DescriptionStyleModel",
      "state": {
       "description_width": ""
      }
     },
     "6e4e39b8a90f41f9b7bdacb915c31f75": {
      "model_module": "@jupyter-widgets/base",
      "model_module_version": "1.1.0",
      "model_name": "LayoutModel",
      "state": {}
     },
     "6e9c3919725b4b47a462a651cbbc1ec8": {
      "model_module": "@jupyter-widgets/controls",
      "model_module_version": "1.4.0",
      "model_name": "CheckboxModel",
      "state": {
       "description": "cbar_ax",
       "disabled": false,
       "layout": "IPY_MODEL_42f0492c98994fffa44d50ead652d7d1",
       "style": "IPY_MODEL_5166b2d9c61d46d984e772ba57cb3393",
       "value": false
      }
     },
     "6ec5c84993d248109b4d99fcc00fda90": {
      "model_module": "@jupyter-widgets/controls",
      "model_module_version": "1.4.0",
      "model_name": "FloatTextModel",
      "state": {
       "description": "whis",
       "layout": "IPY_MODEL_68b21c784faf43279f089b49446b4c17",
       "step": null,
       "style": "IPY_MODEL_7a9a281d925a4884b0deb92cf15e3f16",
       "value": 1
      }
     },
     "6f3c60e418584020a8bde6b8175f1688": {
      "model_module": "@jupyter-widgets/base",
      "model_module_version": "1.1.0",
      "model_name": "LayoutModel",
      "state": {}
     },
     "6f8890c3912b4d5caeb46dcedae9e7ee": {
      "model_module": "@jupyter-widgets/controls",
      "model_module_version": "1.4.0",
      "model_name": "ButtonModel",
      "state": {
       "description": "remove",
       "layout": "IPY_MODEL_ff8b64a0288f41238938f0b2a56896ce",
       "style": "IPY_MODEL_9451dc432ae341a9a2985c07f7b4167b"
      }
     },
     "6f94e792af644247a5cb6c16a864b25b": {
      "model_module": "@jupyter-widgets/base",
      "model_module_version": "1.1.0",
      "model_name": "LayoutModel",
      "state": {}
     },
     "6fc729d63d1947589ab24bdbb15c07c2": {
      "model_module": "@jupyter-widgets/controls",
      "model_module_version": "1.4.0",
      "model_name": "DropdownModel",
      "state": {
       "_options_labels": [
        "band",
        "bars"
       ],
       "description": "err_style",
       "index": 0,
       "layout": "IPY_MODEL_212d6cecd56441478786a2914a773dc6",
       "style": "IPY_MODEL_8b70140af308488693832458580080e5"
      }
     },
     "6fe14077907b4c09a66ed93c503064fb": {
      "model_module": "@jupyter-widgets/controls",
      "model_module_version": "1.4.0",
      "model_name": "IntTextModel",
      "state": {
       "description": "n_boot",
       "layout": "IPY_MODEL_5925c18c7a8f4a949dca7c5082a756bd",
       "step": 1,
       "style": "IPY_MODEL_2ccb0ff78e484effb6c6a25eb07f153d",
       "value": 10000
      }
     },
     "6ff60cb4d8484cf790e721f50745f4b7": {
      "model_module": "@jupyter-widgets/controls",
      "model_module_version": "1.4.0",
      "model_name": "FloatTextModel",
      "state": {
       "description": "size",
       "layout": "IPY_MODEL_8db0d013a2c84ebc8a023143af4eb936",
       "step": null,
       "style": "IPY_MODEL_e6f7d00eff884e6dbafd71c00ddf5a0c",
       "value": 1
      }
     },
     "701ee5210f8c48ffb59e82b0ec3513fa": {
      "model_module": "@jupyter-widgets/base",
      "model_module_version": "1.1.0",
      "model_name": "LayoutModel",
      "state": {}
     },
     "702876f73dc0489ab050af8ace1758c9": {
      "model_module": "@jupyter-widgets/controls",
      "model_module_version": "1.4.0",
      "model_name": "DescriptionStyleModel",
      "state": {
       "description_width": ""
      }
     },
     "705b0bd40b9a4b698cd59f7089437267": {
      "model_module": "@jupyter-widgets/controls",
      "model_module_version": "1.4.0",
      "model_name": "DescriptionStyleModel",
      "state": {
       "description_width": ""
      }
     },
     "7066eb78c5674246a0e5b8a394da4c13": {
      "model_module": "@jupyter-widgets/base",
      "model_module_version": "1.1.0",
      "model_name": "LayoutModel",
      "state": {}
     },
     "70b04884c64d4198b5c29b57ddf113ec": {
      "model_module": "@jupyter-widgets/base",
      "model_module_version": "1.1.0",
      "model_name": "LayoutModel",
      "state": {}
     },
     "70ba4fcfd61741f086d9a2d728dbb4d9": {
      "model_module": "@jupyter-widgets/base",
      "model_module_version": "1.1.0",
      "model_name": "LayoutModel",
      "state": {}
     },
     "70e18cb15d684b44a40cd895afbb7cc0": {
      "model_module": "@jupyter-widgets/controls",
      "model_module_version": "1.4.0",
      "model_name": "ButtonStyleModel",
      "state": {}
     },
     "71208cf720aa4b828e15699aa20e2925": {
      "model_module": "@jupyter-widgets/base",
      "model_module_version": "1.1.0",
      "model_name": "LayoutModel",
      "state": {}
     },
     "7131d9e7d30d4e13a4d9872c8358114b": {
      "model_module": "@jupyter-widgets/base",
      "model_module_version": "1.1.0",
      "model_name": "LayoutModel",
      "state": {}
     },
     "7149c07d9edf47a5a81bc705f3ac9246": {
      "model_module": "@jupyter-widgets/controls",
      "model_module_version": "1.4.0",
      "model_name": "DescriptionStyleModel",
      "state": {
       "description_width": ""
      }
     },
     "71a9170ccf03414f8b712a580c63a3e8": {
      "model_module": "@jupyter-widgets/controls",
      "model_module_version": "1.4.0",
      "model_name": "CheckboxModel",
      "state": {
       "description": "hist",
       "disabled": false,
       "layout": "IPY_MODEL_c053798e72bc40059eb2558d8af1c8ea",
       "style": "IPY_MODEL_73d8fb0a02e64a20b1f33b9e025e0b73",
       "value": false
      }
     },
     "722479185be04a52bbfce4fad5509f5a": {
      "model_module": "@jupyter-widgets/controls",
      "model_module_version": "1.4.0",
      "model_name": "DescriptionStyleModel",
      "state": {
       "description_width": ""
      }
     },
     "72671a60cf3e4afa835180bb8b29e475": {
      "model_module": "@jupyter-widgets/base",
      "model_module_version": "1.1.0",
      "model_name": "LayoutModel",
      "state": {}
     },
     "734d491a9958455fbb259c70c3fb6910": {
      "model_module": "@jupyter-widgets/controls",
      "model_module_version": "1.4.0",
      "model_name": "DescriptionStyleModel",
      "state": {
       "description_width": ""
      }
     },
     "73d8fb0a02e64a20b1f33b9e025e0b73": {
      "model_module": "@jupyter-widgets/controls",
      "model_module_version": "1.4.0",
      "model_name": "DescriptionStyleModel",
      "state": {
       "description_width": ""
      }
     },
     "7400e42c21424d74b84de90fac171f68": {
      "model_module": "@jupyter-widgets/controls",
      "model_module_version": "1.4.0",
      "model_name": "DescriptionStyleModel",
      "state": {
       "description_width": ""
      }
     },
     "7418bb75dc294c578d2e9caee61afe10": {
      "model_module": "@jupyter-widgets/controls",
      "model_module_version": "1.4.0",
      "model_name": "CheckboxModel",
      "state": {
       "description": "cbar",
       "disabled": false,
       "layout": "IPY_MODEL_c72731664b194b84a3fb9047437c0d8d",
       "style": "IPY_MODEL_bd1ec9d47ad9491e92e1de9d11dfe620",
       "value": false
      }
     },
     "74b1a106824442f68400d89abfd6ecbf": {
      "model_module": "@jupyter-widgets/controls",
      "model_module_version": "1.4.0",
      "model_name": "CheckboxModel",
      "state": {
       "description": "logistic",
       "disabled": false,
       "layout": "IPY_MODEL_885fa6701f02464798c21a1c2d3a233a",
       "style": "IPY_MODEL_f8b8f386e1294569ab43ff33043796c9",
       "value": false
      }
     },
     "74e94f46c6574a2e9f062ea20df3cef3": {
      "model_module": "@jupyter-widgets/base",
      "model_module_version": "1.1.0",
      "model_name": "LayoutModel",
      "state": {}
     },
     "75300abe663a488693c08a0a94f53f28": {
      "model_module": "@jupyter-widgets/controls",
      "model_module_version": "1.4.0",
      "model_name": "DescriptionStyleModel",
      "state": {
       "description_width": ""
      }
     },
     "7573854e34f74ca49e9199f7b7bcd8bd": {
      "model_module": "@jupyter-widgets/controls",
      "model_module_version": "1.4.0",
      "model_name": "DescriptionStyleModel",
      "state": {
       "description_width": ""
      }
     },
     "757be49fe8b9435f9504cb05833379e9": {
      "model_module": "@jupyter-widgets/base",
      "model_module_version": "1.1.0",
      "model_name": "LayoutModel",
      "state": {}
     },
     "75ab0200072e4b5daac924c628bd1bcf": {
      "model_module": "@jupyter-widgets/controls",
      "model_module_version": "1.4.0",
      "model_name": "DropdownModel",
      "state": {
       "_options_labels": [
        "Acceleration",
        "Cylinders",
        "Displacement",
        "Horsepower",
        "Miles_per_Gallon",
        "Name",
        "Origin",
        "Weight_in_lbs",
        "Year"
       ],
       "description": "y_partial",
       "index": 0,
       "layout": "IPY_MODEL_a9ab1a5619c043ed8cabf837dd61d84f",
       "style": "IPY_MODEL_e1be1dcef2174f0b8436060b3e8a8bf5"
      }
     },
     "75fd6816c3a446c3825ce3b9762b46cc": {
      "model_module": "@jupyter-widgets/controls",
      "model_module_version": "1.4.0",
      "model_name": "CheckboxModel",
      "state": {
       "description": "notch",
       "disabled": false,
       "layout": "IPY_MODEL_bebcc9bf3a00416aa121c956fcdab45c",
       "style": "IPY_MODEL_f5d15411a4ac40188fc98097905e7207",
       "value": false
      }
     },
     "75fee4f984d5484abb2bb1437c8d2343": {
      "model_module": "@jupyter-widgets/base",
      "model_module_version": "1.1.0",
      "model_name": "LayoutModel",
      "state": {}
     },
     "76fb5e014faa4237a837ff7d26b20641": {
      "model_module": "@jupyter-widgets/controls",
      "model_module_version": "1.4.0",
      "model_name": "DescriptionStyleModel",
      "state": {
       "description_width": ""
      }
     },
     "773701a551a2475aa23f026ea795248f": {
      "model_module": "@jupyter-widgets/base",
      "model_module_version": "1.1.0",
      "model_name": "LayoutModel",
      "state": {}
     },
     "7758baa65e854db99fa64a6ffa03192f": {
      "model_module": "@jupyter-widgets/controls",
      "model_module_version": "1.4.0",
      "model_name": "DescriptionStyleModel",
      "state": {
       "description_width": ""
      }
     },
     "775f8d44cbd04e4f9974ded7c120622b": {
      "model_module": "@jupyter-widgets/controls",
      "model_module_version": "1.4.0",
      "model_name": "DescriptionStyleModel",
      "state": {
       "description_width": ""
      }
     },
     "7767e2e306634b61af55aedce450fda9": {
      "model_module": "@jupyter-widgets/controls",
      "model_module_version": "1.4.0",
      "model_name": "DescriptionStyleModel",
      "state": {
       "description_width": ""
      }
     },
     "780702fc588341bcbc291dd98e0bade2": {
      "model_module": "@jupyter-widgets/controls",
      "model_module_version": "1.4.0",
      "model_name": "DescriptionStyleModel",
      "state": {
       "description_width": ""
      }
     },
     "781dadf59ee6445b9c6827be56388e85": {
      "model_module": "@jupyter-widgets/base",
      "model_module_version": "1.1.0",
      "model_name": "LayoutModel",
      "state": {}
     },
     "7870d6d3561d416a874c668e2c7bbeb2": {
      "model_module": "@jupyter-widgets/base",
      "model_module_version": "1.1.0",
      "model_name": "LayoutModel",
      "state": {}
     },
     "787a46bad6834401982f9b46e00e2c00": {
      "model_module": "@jupyter-widgets/controls",
      "model_module_version": "1.4.0",
      "model_name": "DescriptionStyleModel",
      "state": {
       "description_width": ""
      }
     },
     "78d9c0db90224182a01f3190ed8ec859": {
      "model_module": "@jupyter-widgets/base",
      "model_module_version": "1.1.0",
      "model_name": "LayoutModel",
      "state": {}
     },
     "7907acc90fde4d3d8d714a6023736aef": {
      "model_module": "@jupyter-widgets/controls",
      "model_module_version": "1.4.0",
      "model_name": "DropdownModel",
      "state": {
       "_options_labels": [
        "Acceleration",
        "Cylinders",
        "Displacement",
        "Horsepower",
        "Miles_per_Gallon",
        "Name",
        "Origin",
        "Weight_in_lbs",
        "Year"
       ],
       "description": "x_partial",
       "index": 0,
       "layout": "IPY_MODEL_ce930017dd8f43cea1e04034da1a86b7",
       "style": "IPY_MODEL_7de09054d0174782be020b4270c64569"
      }
     },
     "79d2e3e34c2a46f7a3934e50ca574189": {
      "model_module": "@jupyter-widgets/controls",
      "model_module_version": "1.4.0",
      "model_name": "FloatTextModel",
      "state": {
       "description": "aspect",
       "layout": "IPY_MODEL_8a10c0028575424d8cfe4d8f65b94632",
       "step": null,
       "style": "IPY_MODEL_8db77131ca324edea4f188c4d9040c77",
       "value": 1
      }
     },
     "79f9ba89143f4b369db3285c5efd9eb1": {
      "model_module": "@jupyter-widgets/controls",
      "model_module_version": "1.4.0",
      "model_name": "CheckboxModel",
      "state": {
       "description": "sort",
       "disabled": false,
       "layout": "IPY_MODEL_18bd8fdd7b4c4782997543c69f7194ce",
       "style": "IPY_MODEL_c2aebd12d63a40c4ab1734c94ce1f27e",
       "value": false
      }
     },
     "7a7e9ae426bf43b898ad4933843e7c43": {
      "model_module": "@jupyter-widgets/controls",
      "model_module_version": "1.4.0",
      "model_name": "HBoxModel",
      "state": {
       "children": [
        "IPY_MODEL_af915b7b65084e5db15d8ffce9e5e210"
       ],
       "layout": "IPY_MODEL_d0e87f06246340269e4999229240b333"
      }
     },
     "7a8bbaecd27b419b9c677f0353321cb9": {
      "model_module": "@jupyter-widgets/controls",
      "model_module_version": "1.4.0",
      "model_name": "DropdownModel",
      "state": {
       "_options_labels": [
        "Acceleration",
        "Cylinders",
        "Displacement",
        "Horsepower",
        "Miles_per_Gallon",
        "Name",
        "Origin",
        "Weight_in_lbs",
        "Year"
       ],
       "description": "row",
       "index": 0,
       "layout": "IPY_MODEL_b518158986ca44ab8e0b802d982d2eb6",
       "style": "IPY_MODEL_dcb0056083eb43e58b14392f49aa0ac8"
      }
     },
     "7a9a281d925a4884b0deb92cf15e3f16": {
      "model_module": "@jupyter-widgets/controls",
      "model_module_version": "1.4.0",
      "model_name": "DescriptionStyleModel",
      "state": {
       "description_width": ""
      }
     },
     "7aa9940e524840e2807972f5be6567e7": {
      "model_module": "@jupyter-widgets/controls",
      "model_module_version": "1.4.0",
      "model_name": "HBoxModel",
      "state": {
       "children": [
        "IPY_MODEL_62894b5b13b8431dbb9a4dbb33d7422d",
        "IPY_MODEL_4cee5b3d64ce4acf850568eddc785de2"
       ],
       "layout": "IPY_MODEL_948a3dc9b5874b789e7dd31f69a731d7"
      }
     },
     "7b7f6673a1bb48cb9bf2ebe74c23a510": {
      "model_module": "@jupyter-widgets/controls",
      "model_module_version": "1.4.0",
      "model_name": "DescriptionStyleModel",
      "state": {
       "description_width": ""
      }
     },
     "7b94bc9f22b449b89d363c5f8d0596f1": {
      "model_module": "@jupyter-widgets/base",
      "model_module_version": "1.1.0",
      "model_name": "LayoutModel",
      "state": {}
     },
     "7b9d64537a9b4c0c9bfbace442c10d90": {
      "model_module": "@jupyter-widgets/base",
      "model_module_version": "1.1.0",
      "model_name": "LayoutModel",
      "state": {}
     },
     "7be372f599dc48aa96e82f1b01d67ebe": {
      "model_module": "@jupyter-widgets/controls",
      "model_module_version": "1.4.0",
      "model_name": "TextModel",
      "state": {
       "description": "linecolor",
       "layout": "IPY_MODEL_fba4346a4a004395ae51340dcf026871",
       "style": "IPY_MODEL_18443b13962846709c2bc90629a64c29"
      }
     },
     "7bf6db423c4b4e8f9c43b1bd97b8a525": {
      "model_module": "@jupyter-widgets/controls",
      "model_module_version": "1.4.0",
      "model_name": "FloatTextModel",
      "state": {
       "description": "vmax",
       "layout": "IPY_MODEL_a5d6d5b38296495cb7c1b0abd5c0c917",
       "step": null,
       "style": "IPY_MODEL_624ad56b1ac147cbba8d7123e29e9e15",
       "value": 1
      }
     },
     "7c0e53b0f0e94b7d9094828d2203e767": {
      "model_module": "@jupyter-widgets/controls",
      "model_module_version": "1.4.0",
      "model_name": "DropdownModel",
      "state": {
       "_options_labels": [
        "Acceleration",
        "Cylinders",
        "Displacement",
        "Horsepower",
        "Miles_per_Gallon",
        "Name",
        "Origin",
        "Weight_in_lbs",
        "Year"
       ],
       "description": "data",
       "index": 0,
       "layout": "IPY_MODEL_be7ea329163847f5abdebcb54f3b08e2",
       "style": "IPY_MODEL_10db5776dfda4405b7748c9caa9116ce"
      }
     },
     "7c67eff6b79e48558af694f881077be9": {
      "model_module": "@jupyter-widgets/controls",
      "model_module_version": "1.4.0",
      "model_name": "DropdownModel",
      "state": {
       "_options_labels": [
        "v",
        "h"
       ],
       "description": "orient",
       "index": 0,
       "layout": "IPY_MODEL_c73be20e79a14fb4acde47e558f9a955",
       "style": "IPY_MODEL_c61813042180463881dff74fcb28ffdd"
      }
     },
     "7cc0351be6434fe080781b7de1cca40d": {
      "model_module": "@jupyter-widgets/base",
      "model_module_version": "1.1.0",
      "model_name": "LayoutModel",
      "state": {}
     },
     "7cccb0e973c74b9caf3f1cf980435f86": {
      "model_module": "@jupyter-widgets/base",
      "model_module_version": "1.1.0",
      "model_name": "LayoutModel",
      "state": {}
     },
     "7d4960c58cf7454fa2b1fb99c6dcf3f3": {
      "model_module": "@jupyter-widgets/base",
      "model_module_version": "1.1.0",
      "model_name": "LayoutModel",
      "state": {}
     },
     "7d9eb5ccb5064538a28dd470a51ed5b5": {
      "model_module": "@jupyter-widgets/controls",
      "model_module_version": "1.4.0",
      "model_name": "IntSliderModel",
      "state": {
       "description": "ci",
       "layout": "IPY_MODEL_67fef60179b8491b8110724498445472",
       "style": "IPY_MODEL_db9edc5952b14d2685a71a22f0f8e00a",
       "value": 95
      }
     },
     "7de09054d0174782be020b4270c64569": {
      "model_module": "@jupyter-widgets/controls",
      "model_module_version": "1.4.0",
      "model_name": "DescriptionStyleModel",
      "state": {
       "description_width": ""
      }
     },
     "7df33a911d0e4be287aa4bd1d410b1aa": {
      "model_module": "@jupyter-widgets/controls",
      "model_module_version": "1.4.0",
      "model_name": "CheckboxModel",
      "state": {
       "description": "kde",
       "disabled": false,
       "layout": "IPY_MODEL_e84550abfc6040eb9b08ed128d90469d",
       "style": "IPY_MODEL_7b7f6673a1bb48cb9bf2ebe74c23a510",
       "value": false
      }
     },
     "7eaf90b65b74459eaf12ca3920027710": {
      "model_module": "@jupyter-widgets/base",
      "model_module_version": "1.1.0",
      "model_name": "LayoutModel",
      "state": {}
     },
     "7f1f750dc8494fc695c5ba94cd332d03": {
      "model_module": "@jupyter-widgets/controls",
      "model_module_version": "1.4.0",
      "model_name": "CheckboxModel",
      "state": {
       "description": "scale_hue",
       "disabled": false,
       "layout": "IPY_MODEL_11c460f0707646c29367f7ab1bcf5daf",
       "style": "IPY_MODEL_8996456817594848b6c3dee3af764a81",
       "value": false
      }
     },
     "7f70985413314a599f5a8d92c15d3d1c": {
      "model_module": "@jupyter-widgets/controls",
      "model_module_version": "1.4.0",
      "model_name": "DescriptionStyleModel",
      "state": {
       "description_width": ""
      }
     },
     "7f77fe215bc8470085f8f21ff726f72e": {
      "model_module": "@jupyter-widgets/controls",
      "model_module_version": "1.4.0",
      "model_name": "FloatSliderModel",
      "state": {
       "description": "outlier_prop",
       "layout": "IPY_MODEL_5d0568b5e0a44964ad504b4b14feece4",
       "max": 1,
       "step": 0.001,
       "style": "IPY_MODEL_e9bd966fc455498b92bf6f57e80c9fb9",
       "value": 0.007
      }
     },
     "7f79f14663314c0282e99f707ddababa": {
      "model_module": "@jupyter-widgets/controls",
      "model_module_version": "1.4.0",
      "model_name": "DescriptionStyleModel",
      "state": {
       "description_width": ""
      }
     },
     "7f8b646d691e4416ab5b5afa355773e6": {
      "model_module": "@jupyter-widgets/controls",
      "model_module_version": "1.4.0",
      "model_name": "DescriptionStyleModel",
      "state": {
       "description_width": ""
      }
     },
     "7fbf6a3f69254e5c9244ac7e3b4523ee": {
      "model_module": "@jupyter-widgets/controls",
      "model_module_version": "1.4.0",
      "model_name": "CheckboxModel",
      "state": {
       "description": "fit_reg",
       "disabled": false,
       "layout": "IPY_MODEL_ab7ad602bfe6486ab075a0768835df97",
       "style": "IPY_MODEL_26408958422c425b894c6a5bf86d78f7",
       "value": false
      }
     },
     "8017494c394e4d5e8e675254a5b3b9f1": {
      "model_module": "@jupyter-widgets/controls",
      "model_module_version": "1.4.0",
      "model_name": "DescriptionStyleModel",
      "state": {
       "description_width": ""
      }
     },
     "807d58aa4a774569a3bbb5e287f8379e": {
      "model_module": "@jupyter-widgets/controls",
      "model_module_version": "1.4.0",
      "model_name": "FloatTextModel",
      "state": {
       "description": "y_jitter",
       "layout": "IPY_MODEL_cdfc973cfd064cbbb08db1cf8a5309ba",
       "step": null,
       "style": "IPY_MODEL_dbfff260e8ba465a8350fedc98768780",
       "value": 1
      }
     },
     "80c26812c50c429f9c7606af20134afe": {
      "model_module": "@jupyter-widgets/controls",
      "model_module_version": "1.4.0",
      "model_name": "DropdownModel",
      "state": {
       "_options_labels": [
        "Acceleration",
        "Cylinders",
        "Displacement",
        "Horsepower",
        "Miles_per_Gallon",
        "Name",
        "Origin",
        "Weight_in_lbs",
        "Year"
       ],
       "description": "x",
       "index": 6,
       "layout": "IPY_MODEL_f2df33d7a8d643859973f533132c70b6",
       "style": "IPY_MODEL_248e813d9aac4afa87046e25b1c10884"
      }
     },
     "8104848b7caa4cb68349dd901524a1b3": {
      "model_module": "@jupyter-widgets/controls",
      "model_module_version": "1.4.0",
      "model_name": "DescriptionStyleModel",
      "state": {
       "description_width": ""
      }
     },
     "817661f554e04293b925ce4a47f36513": {
      "model_module": "@jupyter-widgets/controls",
      "model_module_version": "1.4.0",
      "model_name": "DescriptionStyleModel",
      "state": {
       "description_width": ""
      }
     },
     "81f8a08b66f34350bf152b765faf0ae8": {
      "model_module": "@jupyter-widgets/controls",
      "model_module_version": "1.4.0",
      "model_name": "DescriptionStyleModel",
      "state": {
       "description_width": ""
      }
     },
     "824ce5570d3e48f484d14e933f9fc7e5": {
      "model_module": "@jupyter-widgets/controls",
      "model_module_version": "1.4.0",
      "model_name": "HBoxModel",
      "state": {
       "children": [
        "IPY_MODEL_919598e8d8674e889fdfa9874196c529"
       ],
       "layout": "IPY_MODEL_dde9d3db6937488492e39594bd844b04"
      }
     },
     "8286bcf7c16d49ac9358aebb432eaf24": {
      "model_module": "@jupyter-widgets/controls",
      "model_module_version": "1.4.0",
      "model_name": "DescriptionStyleModel",
      "state": {
       "description_width": ""
      }
     },
     "836e027ff8b746b28ae5820dafb22ff4": {
      "model_module": "@jupyter-widgets/controls",
      "model_module_version": "1.4.0",
      "model_name": "DescriptionStyleModel",
      "state": {
       "description_width": ""
      }
     },
     "83ee2aabbde8406c9a9dc0ca2c2d83ca": {
      "model_module": "@jupyter-widgets/controls",
      "model_module_version": "1.4.0",
      "model_name": "HBoxModel",
      "state": {
       "children": [
        "IPY_MODEL_34770c8a3a914a7d84925cab49a0399a"
       ],
       "layout": "IPY_MODEL_7131d9e7d30d4e13a4d9872c8358114b"
      }
     },
     "848b168561e14020b3c8374d36875fea": {
      "model_module": "@jupyter-widgets/controls",
      "model_module_version": "1.4.0",
      "model_name": "DescriptionStyleModel",
      "state": {
       "description_width": ""
      }
     },
     "84b203470e7c433c8e44e77a4d3a1e9e": {
      "model_module": "@jupyter-widgets/controls",
      "model_module_version": "1.4.0",
      "model_name": "ButtonModel",
      "state": {
       "description": "remove",
       "layout": "IPY_MODEL_af4d7ff103104182bb38b2c8b0626e75",
       "style": "IPY_MODEL_15219ff5f08c4b8c83bfba8b7ea82aa6"
      }
     },
     "84b60e701ef34c68b58ae6f374c194e6": {
      "model_module": "@jupyter-widgets/base",
      "model_module_version": "1.1.0",
      "model_name": "LayoutModel",
      "state": {}
     },
     "84f24b8965d24070b7f00d2796a7ae4e": {
      "model_module": "@jupyter-widgets/controls",
      "model_module_version": "1.4.0",
      "model_name": "DescriptionStyleModel",
      "state": {
       "description_width": ""
      }
     },
     "854cc50df9a14a62aa2b12a44f46a288": {
      "model_module": "@jupyter-widgets/controls",
      "model_module_version": "1.4.0",
      "model_name": "DescriptionStyleModel",
      "state": {
       "description_width": ""
      }
     },
     "8554077e827c4a1fbaf69b85c7d0a3fe": {
      "model_module": "@jupyter-widgets/controls",
      "model_module_version": "1.4.0",
      "model_name": "FloatTextModel",
      "state": {
       "description": "aspect",
       "layout": "IPY_MODEL_03c11239af1e49818df8fa494606d787",
       "step": null,
       "style": "IPY_MODEL_892a6cc3cc1840ca936d5f4990c60cd4",
       "value": 1
      }
     },
     "86326093d30a4e318b7cb6d2ac213d55": {
      "model_module": "@jupyter-widgets/base",
      "model_module_version": "1.1.0",
      "model_name": "LayoutModel",
      "state": {}
     },
     "86c6e0acff9242b0b1f11c60f68bb922": {
      "model_module": "@jupyter-widgets/controls",
      "model_module_version": "1.4.0",
      "model_name": "HBoxModel",
      "state": {
       "children": [
        "IPY_MODEL_1b55c950f4804e1a92fd1dab3b491b83"
       ],
       "layout": "IPY_MODEL_6f94e792af644247a5cb6c16a864b25b"
      }
     },
     "86d999242e8146fc8ce84e7cf345cb88": {
      "model_module": "@jupyter-widgets/controls",
      "model_module_version": "1.4.0",
      "model_name": "CheckboxModel",
      "state": {
       "description": "scatter",
       "disabled": false,
       "layout": "IPY_MODEL_e142ecb3096b490fab4e687d382ba481",
       "style": "IPY_MODEL_10465b1250d3434eba7f74aaa35f2256",
       "value": false
      }
     },
     "874069c5f567471bb461436108f23be8": {
      "model_module": "@jupyter-widgets/base",
      "model_module_version": "1.1.0",
      "model_name": "LayoutModel",
      "state": {}
     },
     "878022c4bed045d7bc183fadd51dcb6d": {
      "model_module": "@jupyter-widgets/base",
      "model_module_version": "1.1.0",
      "model_name": "LayoutModel",
      "state": {}
     },
     "878fe07dd64b42fdae548681aa04b3ad": {
      "model_module": "@jupyter-widgets/controls",
      "model_module_version": "1.4.0",
      "model_name": "HBoxModel",
      "state": {
       "children": [
        "IPY_MODEL_fe45d292d07248f6960af6b03479ab59"
       ],
       "layout": "IPY_MODEL_fb949e6e0dc04a7cbbbe28d87df332ed"
      }
     },
     "87de164e9e1241ac8313df4578b324aa": {
      "model_module": "@jupyter-widgets/controls",
      "model_module_version": "1.4.0",
      "model_name": "DescriptionStyleModel",
      "state": {
       "description_width": ""
      }
     },
     "885fa6701f02464798c21a1c2d3a233a": {
      "model_module": "@jupyter-widgets/base",
      "model_module_version": "1.1.0",
      "model_name": "LayoutModel",
      "state": {}
     },
     "8882006f38044ebfad9c0e91a3ba0e53": {
      "model_module": "@jupyter-widgets/controls",
      "model_module_version": "1.4.0",
      "model_name": "FloatTextModel",
      "state": {
       "description": "cut",
       "layout": "IPY_MODEL_7b94bc9f22b449b89d363c5f8d0596f1",
       "step": null,
       "style": "IPY_MODEL_9eca74fd54cc4df8abf0a66fce306977",
       "value": 1
      }
     },
     "8885b82b823940c5814ece5edd0497cd": {
      "model_module": "@jupyter-widgets/controls",
      "model_module_version": "1.4.0",
      "model_name": "SliderStyleModel",
      "state": {
       "description_width": ""
      }
     },
     "88b40c3557ed4b01b2c9c8f80ffdd9a7": {
      "model_module": "@jupyter-widgets/controls",
      "model_module_version": "1.4.0",
      "model_name": "TextModel",
      "state": {
       "description": "label",
       "layout": "IPY_MODEL_0012fd5edf0e4392b0567864bba595f3",
       "style": "IPY_MODEL_f1de105021594b36949262385112e117"
      }
     },
     "892a6cc3cc1840ca936d5f4990c60cd4": {
      "model_module": "@jupyter-widgets/controls",
      "model_module_version": "1.4.0",
      "model_name": "DescriptionStyleModel",
      "state": {
       "description_width": ""
      }
     },
     "894efca581b642f09b61db5a52da42ab": {
      "model_module": "@jupyter-widgets/controls",
      "model_module_version": "1.4.0",
      "model_name": "DescriptionStyleModel",
      "state": {
       "description_width": ""
      }
     },
     "8967251fa67f46d09707ccd683879446": {
      "model_module": "@jupyter-widgets/base",
      "model_module_version": "1.1.0",
      "model_name": "LayoutModel",
      "state": {}
     },
     "8996456817594848b6c3dee3af764a81": {
      "model_module": "@jupyter-widgets/controls",
      "model_module_version": "1.4.0",
      "model_name": "DescriptionStyleModel",
      "state": {
       "description_width": ""
      }
     },
     "8a10c0028575424d8cfe4d8f65b94632": {
      "model_module": "@jupyter-widgets/base",
      "model_module_version": "1.1.0",
      "model_name": "LayoutModel",
      "state": {}
     },
     "8a12cccf9ffa4fccabbfbe80ec3bccff": {
      "model_module": "@jupyter-widgets/base",
      "model_module_version": "1.1.0",
      "model_name": "LayoutModel",
      "state": {}
     },
     "8b35c1ba06a642cdbe74d27bff900548": {
      "model_module": "@jupyter-widgets/base",
      "model_module_version": "1.1.0",
      "model_name": "LayoutModel",
      "state": {}
     },
     "8b452c4d4cdf4203911220eec6e56bd0": {
      "model_module": "@jupyter-widgets/base",
      "model_module_version": "1.1.0",
      "model_name": "LayoutModel",
      "state": {}
     },
     "8b70140af308488693832458580080e5": {
      "model_module": "@jupyter-widgets/controls",
      "model_module_version": "1.4.0",
      "model_name": "DescriptionStyleModel",
      "state": {
       "description_width": ""
      }
     },
     "8bea1bf0aeed41b7b9bab47514108949": {
      "model_module": "@jupyter-widgets/controls",
      "model_module_version": "1.4.0",
      "model_name": "DescriptionStyleModel",
      "state": {
       "description_width": ""
      }
     },
     "8c1f08634e6f44e3ba01d874e28b81bc": {
      "model_module": "@jupyter-widgets/base",
      "model_module_version": "1.1.0",
      "model_name": "LayoutModel",
      "state": {}
     },
     "8c68fc14bb33404fb432199b4a081334": {
      "model_module": "@jupyter-widgets/controls",
      "model_module_version": "1.4.0",
      "model_name": "CheckboxModel",
      "state": {
       "description": "shade",
       "disabled": false,
       "layout": "IPY_MODEL_0dd9240e18a44fbea13442290a7ebf37",
       "style": "IPY_MODEL_894efca581b642f09b61db5a52da42ab",
       "value": false
      }
     },
     "8c895aa6658a416bb9a64ee9bac508a8": {
      "model_module": "@jupyter-widgets/controls",
      "model_module_version": "1.4.0",
      "model_name": "IntTextModel",
      "state": {
       "description": "ratio",
       "layout": "IPY_MODEL_e2e3a6aa3a6c4f29a5d491dbe0bc8634",
       "step": 1,
       "style": "IPY_MODEL_644f67c01e3147cda4b0fe0c2c9bb564",
       "value": 1
      }
     },
     "8ca90ccfce54495795bfb6596c2b53fa": {
      "model_module": "@jupyter-widgets/controls",
      "model_module_version": "1.4.0",
      "model_name": "DropdownModel",
      "state": {
       "_options_labels": [
        "Horsepower",
        "Year",
        "Weight_in_lbs",
        "Name",
        "Displacement",
        "Miles_per_Gallon",
        "Cylinders",
        "Acceleration",
        "Origin"
       ],
       "description": "dashes",
       "index": 0,
       "layout": "IPY_MODEL_390fa6cc07e54d8e9dd8e9ed1ee80bea",
       "style": "IPY_MODEL_1f1e3d6c5f044bddb9983cfe8fd4dac0"
      }
     },
     "8cb3247f62894571a24014f422fcbe6a": {
      "model_module": "@jupyter-widgets/controls",
      "model_module_version": "1.4.0",
      "model_name": "DescriptionStyleModel",
      "state": {
       "description_width": ""
      }
     },
     "8cc7894a047745b084ade536d02ba88a": {
      "model_module": "@jupyter-widgets/controls",
      "model_module_version": "1.4.0",
      "model_name": "HBoxModel",
      "state": {
       "children": [
        "IPY_MODEL_976e29178100485385a6e64396fb83e5",
        "IPY_MODEL_b5916c628ef745dbabb6d9311fa304c3"
       ],
       "layout": "IPY_MODEL_0feb97b2688d497389d60ac9bbd50d98"
      }
     },
     "8d32246c6b874b58b780eec7088be7a7": {
      "model_module": "@jupyter-widgets/controls",
      "model_module_version": "1.4.0",
      "model_name": "DescriptionStyleModel",
      "state": {
       "description_width": ""
      }
     },
     "8d472406bade4f2cad088c82b224671c": {
      "model_module": "@jupyter-widgets/base",
      "model_module_version": "1.1.0",
      "model_name": "LayoutModel",
      "state": {}
     },
     "8d8028f7a7674fc899994469045fcbb3": {
      "model_module": "@jupyter-widgets/controls",
      "model_module_version": "1.4.0",
      "model_name": "CheckboxModel",
      "state": {
       "description": "robust",
       "disabled": false,
       "layout": "IPY_MODEL_0f1ac7ce0e0f4bb1b5ea2cd56236c992",
       "style": "IPY_MODEL_8017494c394e4d5e8e675254a5b3b9f1",
       "value": false
      }
     },
     "8d80d7547ade4eb2ae108d07783e8dc1": {
      "model_module": "@jupyter-widgets/base",
      "model_module_version": "1.1.0",
      "model_name": "LayoutModel",
      "state": {}
     },
     "8d8e961d7204460c86a2279d979266b6": {
      "model_module": "@jupyter-widgets/base",
      "model_module_version": "1.1.0",
      "model_name": "LayoutModel",
      "state": {}
     },
     "8db0d013a2c84ebc8a023143af4eb936": {
      "model_module": "@jupyter-widgets/base",
      "model_module_version": "1.1.0",
      "model_name": "LayoutModel",
      "state": {}
     },
     "8db77131ca324edea4f188c4d9040c77": {
      "model_module": "@jupyter-widgets/controls",
      "model_module_version": "1.4.0",
      "model_name": "DescriptionStyleModel",
      "state": {
       "description_width": ""
      }
     },
     "8dc85b2b1b16497cb7daa656c0a52e60": {
      "model_module": "@jupyter-widgets/base",
      "model_module_version": "1.1.0",
      "model_name": "LayoutModel",
      "state": {}
     },
     "8dfe27f4b04346298acc5b1edcb14adb": {
      "model_module": "@jupyter-widgets/controls",
      "model_module_version": "1.4.0",
      "model_name": "DescriptionStyleModel",
      "state": {
       "description_width": ""
      }
     },
     "8e44960b2487461288e65e6046a1be1a": {
      "model_module": "@jupyter-widgets/controls",
      "model_module_version": "1.4.0",
      "model_name": "DescriptionStyleModel",
      "state": {
       "description_width": ""
      }
     },
     "8ea9a7c1595a4083ac44ca93726954e8": {
      "model_module": "@jupyter-widgets/base",
      "model_module_version": "1.1.0",
      "model_name": "LayoutModel",
      "state": {}
     },
     "8ee8e392f0dd43a39bb32fdd9abfc627": {
      "model_module": "@jupyter-widgets/base",
      "model_module_version": "1.1.0",
      "model_name": "LayoutModel",
      "state": {}
     },
     "8f02394a61f64ff894aed0fa29fc4eca": {
      "model_module": "@jupyter-widgets/base",
      "model_module_version": "1.1.0",
      "model_name": "LayoutModel",
      "state": {}
     },
     "8f75372785db412d94f7b2a7f50741c9": {
      "model_module": "@jupyter-widgets/base",
      "model_module_version": "1.1.0",
      "model_name": "LayoutModel",
      "state": {}
     },
     "8f84de6db4874e39b1235c046e511c21": {
      "model_module": "@jupyter-widgets/controls",
      "model_module_version": "1.4.0",
      "model_name": "FloatSliderModel",
      "state": {
       "description": "alpha",
       "layout": "IPY_MODEL_3407a41350964704991c85121bdbd56c",
       "max": 1,
       "step": 0.05,
       "style": "IPY_MODEL_bdc7447da7c348d488c10f334940edbb"
      }
     },
     "9008447f1ed245d58d508f3c1c30caad": {
      "model_module": "@jupyter-widgets/controls",
      "model_module_version": "1.4.0",
      "model_name": "ButtonModel",
      "state": {
       "description": "remove",
       "layout": "IPY_MODEL_27a5459d19ef4dd5953054ab5f7c3b4f",
       "style": "IPY_MODEL_70e18cb15d684b44a40cd895afbb7cc0"
      }
     },
     "907da15d0f8d43a98d591c2413f422a2": {
      "model_module": "@jupyter-widgets/controls",
      "model_module_version": "1.4.0",
      "model_name": "DropdownModel",
      "state": {
       "_options_labels": [
        "Horsepower",
        "Year",
        "Weight_in_lbs",
        "Name",
        "Displacement",
        "Miles_per_Gallon",
        "Cylinders",
        "Acceleration",
        "Origin"
       ],
       "description": "sizes",
       "index": 0,
       "layout": "IPY_MODEL_aa9f2b53a7cb4209a8b5cb042b24c011",
       "style": "IPY_MODEL_5caff04214084fa1a5a5ec22914d27ac"
      }
     },
     "90caccab21004eaca6b7718aa382a100": {
      "model_module": "@jupyter-widgets/controls",
      "model_module_version": "1.4.0",
      "model_name": "IntTextModel",
      "state": {
       "description": "gridsize",
       "layout": "IPY_MODEL_8d472406bade4f2cad088c82b224671c",
       "step": 1,
       "style": "IPY_MODEL_0b680c3b0fa74d4bb844edfbab0eb452",
       "value": 100
      }
     },
     "90e89ab3c2c24957a212f4f2d01c20a5": {
      "model_module": "@jupyter-widgets/controls",
      "model_module_version": "1.4.0",
      "model_name": "HBoxModel",
      "state": {
       "children": [
        "IPY_MODEL_976e29178100485385a6e64396fb83e5",
        "IPY_MODEL_84b203470e7c433c8e44e77a4d3a1e9e"
       ],
       "layout": "IPY_MODEL_59262deba06848a3b3585a14ba6b89f9"
      }
     },
     "90f8399a8a4448fea918b4e08c269016": {
      "model_module": "@jupyter-widgets/base",
      "model_module_version": "1.1.0",
      "model_name": "LayoutModel",
      "state": {}
     },
     "919598e8d8674e889fdfa9874196c529": {
      "model_module": "@jupyter-widgets/controls",
      "model_module_version": "1.4.0",
      "model_name": "LabelModel",
      "state": {
       "layout": "IPY_MODEL_773701a551a2475aa23f026ea795248f",
       "style": "IPY_MODEL_62778a69c2c7447b935da696e9243205",
       "value": "---"
      }
     },
     "91fe69c0a4a14933a30636096f554fcd": {
      "model_module": "@jupyter-widgets/base",
      "model_module_version": "1.1.0",
      "model_name": "LayoutModel",
      "state": {}
     },
     "925582c378894027a625054965efc575": {
      "model_module": "@jupyter-widgets/controls",
      "model_module_version": "1.4.0",
      "model_name": "DescriptionStyleModel",
      "state": {
       "description_width": ""
      }
     },
     "93c56a8f3b004342a65d776610fffd11": {
      "model_module": "@jupyter-widgets/controls",
      "model_module_version": "1.4.0",
      "model_name": "CheckboxModel",
      "state": {
       "description": "truncate",
       "disabled": false,
       "layout": "IPY_MODEL_4ac43303b6b2466ba552d13ebb0a6871",
       "style": "IPY_MODEL_672a6fddb05f4b9da82e606b9e83aa86",
       "value": false
      }
     },
     "9451dc432ae341a9a2985c07f7b4167b": {
      "model_module": "@jupyter-widgets/controls",
      "model_module_version": "1.4.0",
      "model_name": "ButtonStyleModel",
      "state": {}
     },
     "948a3dc9b5874b789e7dd31f69a731d7": {
      "model_module": "@jupyter-widgets/base",
      "model_module_version": "1.1.0",
      "model_name": "LayoutModel",
      "state": {}
     },
     "94c527cfa00b42bbad476a15ff258b00": {
      "model_module": "@jupyter-widgets/controls",
      "model_module_version": "1.4.0",
      "model_name": "DescriptionStyleModel",
      "state": {
       "description_width": ""
      }
     },
     "94cdedb4a0bd4edd8c17d62fe41e85a4": {
      "model_module": "@jupyter-widgets/base",
      "model_module_version": "1.1.0",
      "model_name": "LayoutModel",
      "state": {}
     },
     "94d3ea5ed84b43be87e3e8b317418a20": {
      "model_module": "@jupyter-widgets/controls",
      "model_module_version": "1.4.0",
      "model_name": "DescriptionStyleModel",
      "state": {
       "description_width": ""
      }
     },
     "94f12f53057d4e518305487bb46e7c80": {
      "model_module": "@jupyter-widgets/base",
      "model_module_version": "1.1.0",
      "model_name": "LayoutModel",
      "state": {}
     },
     "953e05bc778248618aa23e33b7072b1f": {
      "model_module": "@jupyter-widgets/base",
      "model_module_version": "1.1.0",
      "model_name": "LayoutModel",
      "state": {}
     },
     "9561aeb6cb564b0bb353a30f34753ae8": {
      "model_module": "@jupyter-widgets/base",
      "model_module_version": "1.1.0",
      "model_name": "LayoutModel",
      "state": {}
     },
     "95635c44caac4186878b101c05fb551b": {
      "model_module": "@jupyter-widgets/base",
      "model_module_version": "1.1.0",
      "model_name": "LayoutModel",
      "state": {}
     },
     "95be2e7346454d72bccbf81960f8c29b": {
      "model_module": "@jupyter-widgets/controls",
      "model_module_version": "1.4.0",
      "model_name": "DescriptionStyleModel",
      "state": {
       "description_width": ""
      }
     },
     "95d792e72d5d41cd8ebe3d64c8f334b9": {
      "model_module": "@jupyter-widgets/base",
      "model_module_version": "1.1.0",
      "model_name": "LayoutModel",
      "state": {}
     },
     "95e78b596915489e91da8d6181d9a442": {
      "model_module": "@jupyter-widgets/controls",
      "model_module_version": "1.4.0",
      "model_name": "DescriptionStyleModel",
      "state": {
       "description_width": ""
      }
     },
     "96557149e04f44c5b192d18936db4ff6": {
      "model_module": "@jupyter-widgets/controls",
      "model_module_version": "1.4.0",
      "model_name": "DropdownModel",
      "state": {
       "_options_labels": [
        "brief",
        "full",
        "False"
       ],
       "description": "legend",
       "index": 0,
       "layout": "IPY_MODEL_359b59a993624390882147b50132be38",
       "style": "IPY_MODEL_8cb3247f62894571a24014f422fcbe6a"
      }
     },
     "96585df5343e4f00a08c9eeaf91f658c": {
      "model_module": "@jupyter-widgets/controls",
      "model_module_version": "1.4.0",
      "model_name": "DropdownModel",
      "state": {
       "_options_labels": [
        "Acceleration",
        "Cylinders",
        "Displacement",
        "Horsepower",
        "Miles_per_Gallon",
        "Name",
        "Origin",
        "Weight_in_lbs",
        "Year"
       ],
       "description": "data",
       "index": 0,
       "layout": "IPY_MODEL_8f02394a61f64ff894aed0fa29fc4eca",
       "style": "IPY_MODEL_7149c07d9edf47a5a81bc705f3ac9246"
      }
     },
     "96a6007608fa45d6aa9e4bc4bc710513": {
      "model_module": "@jupyter-widgets/controls",
      "model_module_version": "1.4.0",
      "model_name": "LabelModel",
      "state": {
       "layout": "IPY_MODEL_a2d9654122af4be3a914a8c8622a4377",
       "style": "IPY_MODEL_620a7f6e955a45cc9d1ecd45c379c50a",
       "value": "---"
      }
     },
     "96f6d49b30244c78a2274552fa6bc90a": {
      "model_module": "@jupyter-widgets/base",
      "model_module_version": "1.1.0",
      "model_name": "LayoutModel",
      "state": {}
     },
     "9746421ffdb6463483c636a06e03fc76": {
      "model_module": "@jupyter-widgets/controls",
      "model_module_version": "1.4.0",
      "model_name": "DescriptionStyleModel",
      "state": {
       "description_width": ""
      }
     },
     "976e29178100485385a6e64396fb83e5": {
      "model_module": "@jupyter-widgets/controls",
      "model_module_version": "1.4.0",
      "model_name": "DropdownModel",
      "state": {
       "_options_labels": [
        "Acceleration",
        "Cylinders",
        "Displacement",
        "Horsepower",
        "Miles_per_Gallon",
        "Name",
        "Origin",
        "Weight_in_lbs",
        "Year"
       ],
       "description": "x",
       "index": 6,
       "layout": "IPY_MODEL_37b15b5e0a73465abad74e55dfb682dd",
       "style": "IPY_MODEL_6d68d90d6cae401aa7a1cebb249535d1"
      }
     },
     "98231c438c6a48c4a9ba96e453c76199": {
      "model_module": "@jupyter-widgets/controls",
      "model_module_version": "1.4.0",
      "model_name": "HBoxModel",
      "state": {
       "children": [
        "IPY_MODEL_e28f08638c5d4ff1b5d38eae877622b5",
        "IPY_MODEL_bfbda1c8116446fd8aa20f56be2afac6"
       ],
       "layout": "IPY_MODEL_479ef239b7ae44439d8800b4e419c16a"
      }
     },
     "986393bea4d64d48ad7f9ed279ec2ffa": {
      "model_module": "@jupyter-widgets/base",
      "model_module_version": "1.1.0",
      "model_name": "LayoutModel",
      "state": {}
     },
     "9871008b4a68402e9057f8fa82db1fa2": {
      "model_module": "@jupyter-widgets/base",
      "model_module_version": "1.1.0",
      "model_name": "LayoutModel",
      "state": {}
     },
     "987c926a159c4be597747e3a2ff8e8f1": {
      "model_module": "@jupyter-widgets/controls",
      "model_module_version": "1.4.0",
      "model_name": "DropdownModel",
      "state": {
       "_options_labels": [
        "Acceleration",
        "Cylinders",
        "Displacement",
        "Horsepower",
        "Miles_per_Gallon",
        "Name",
        "Origin",
        "Weight_in_lbs",
        "Year"
       ],
       "description": "data2",
       "index": 0,
       "layout": "IPY_MODEL_fb11ab4b6f044dd496ee21fc83abcf13",
       "style": "IPY_MODEL_37c90534c4e347f5b4f67cbb7724132b"
      }
     },
     "9894893c7b894889bb87192f4cc14f45": {
      "model_module": "@jupyter-widgets/controls",
      "model_module_version": "1.4.0",
      "model_name": "IntTextModel",
      "state": {
       "description": "space",
       "layout": "IPY_MODEL_a3da56e8e9cf430b95aeb686ee692ea1",
       "step": 1,
       "style": "IPY_MODEL_702876f73dc0489ab050af8ace1758c9",
       "value": 1
      }
     },
     "98efdb8aa5774039a7c0810332500252": {
      "model_module": "@jupyter-widgets/controls",
      "model_module_version": "1.4.0",
      "model_name": "FloatTextModel",
      "state": {
       "description": "linewidth",
       "layout": "IPY_MODEL_fdc1aa1c75a449bd87d9ee4b0d7420ac",
       "step": null,
       "style": "IPY_MODEL_e2759f52273b476cafa27238e2af6f23",
       "value": 1
      }
     },
     "993f9796c7d944cf9d2973c578617630": {
      "model_module": "@jupyter-widgets/controls",
      "model_module_version": "1.4.0",
      "model_name": "HBoxModel",
      "state": {
       "children": [
        "IPY_MODEL_b45c484428574af3972e0dc553b2b2a9"
       ],
       "layout": "IPY_MODEL_e15ba72b4b824454af0beebdaf3e0084"
      }
     },
     "99b0d9e2e6d54a04bbf369bb2e758d70": {
      "model_module": "@jupyter-widgets/base",
      "model_module_version": "1.1.0",
      "model_name": "LayoutModel",
      "state": {}
     },
     "9a914d3efe624d6abd867502df8edc7e": {
      "model_module": "@jupyter-widgets/controls",
      "model_module_version": "1.4.0",
      "model_name": "ButtonModel",
      "state": {
       "description": "remove",
       "layout": "IPY_MODEL_56c39846342d40fb9119aa9d036b8766",
       "style": "IPY_MODEL_2e53a148f679408a8fcfa79b961c643e"
      }
     },
     "9aad40a89c80489580b016a554ab9bed": {
      "model_module": "@jupyter-widgets/controls",
      "model_module_version": "1.4.0",
      "model_name": "SliderStyleModel",
      "state": {
       "description_width": ""
      }
     },
     "9ab6e74c0e6a4b6b9f6d9b6acebf5c7a": {
      "model_module": "@jupyter-widgets/base",
      "model_module_version": "1.1.0",
      "model_name": "LayoutModel",
      "state": {}
     },
     "9aed1727677543d690ed30cf82b8eb2d": {
      "model_module": "@jupyter-widgets/controls",
      "model_module_version": "1.4.0",
      "model_name": "CheckboxModel",
      "state": {
       "description": "fit_reg",
       "disabled": false,
       "layout": "IPY_MODEL_475c46f15a8241be8261e0772729f682",
       "style": "IPY_MODEL_3aefcd31ce304d77942ad3284d20ea22",
       "value": false
      }
     },
     "9b4f0f7810824d87b2518501aeb5eb28": {
      "model_module": "@jupyter-widgets/controls",
      "model_module_version": "1.4.0",
      "model_name": "CheckboxModel",
      "state": {
       "description": "truncate",
       "disabled": false,
       "layout": "IPY_MODEL_08ba11d8d5d143df9d7992f48b1f635d",
       "style": "IPY_MODEL_3ecd8771c4a146ac8747a76cdf8717ac",
       "value": false
      }
     },
     "9c232e2d64c24fac85f5d08e757de9ab": {
      "model_module": "@jupyter-widgets/controls",
      "model_module_version": "1.4.0",
      "model_name": "DescriptionStyleModel",
      "state": {
       "description_width": ""
      }
     },
     "9ca27942d89f438b8c68d83b92e73b3b": {
      "model_module": "@jupyter-widgets/controls",
      "model_module_version": "1.4.0",
      "model_name": "IntSliderModel",
      "state": {
       "description": "x_ci",
       "layout": "IPY_MODEL_86326093d30a4e318b7cb6d2ac213d55",
       "style": "IPY_MODEL_cb4249b7f0cb4af19f16cae6ab732daa",
       "value": 95
      }
     },
     "9e9c6de9e5cf4e769bf0f19af4814c6e": {
      "model_module": "@jupyter-widgets/controls",
      "model_module_version": "1.4.0",
      "model_name": "IntTextModel",
      "state": {
       "description": "col_wrap",
       "layout": "IPY_MODEL_515cd47f85c84bcfbe9b48cbf387fbef",
       "step": 1,
       "style": "IPY_MODEL_bdf2a3fcdb51461fba85fb011857e62a",
       "value": 10
      }
     },
     "9ec6cf42809f47cdb19a7623f5e90655": {
      "model_module": "@jupyter-widgets/base",
      "model_module_version": "1.1.0",
      "model_name": "LayoutModel",
      "state": {}
     },
     "9eca74fd54cc4df8abf0a66fce306977": {
      "model_module": "@jupyter-widgets/controls",
      "model_module_version": "1.4.0",
      "model_name": "DescriptionStyleModel",
      "state": {
       "description_width": ""
      }
     },
     "9f523e5426034c98a023ccffbce695ac": {
      "model_module": "@jupyter-widgets/controls",
      "model_module_version": "1.4.0",
      "model_name": "DescriptionStyleModel",
      "state": {
       "description_width": ""
      }
     },
     "9fc462a200e646428666fedafec2b745": {
      "model_module": "@jupyter-widgets/base",
      "model_module_version": "1.1.0",
      "model_name": "LayoutModel",
      "state": {}
     },
     "9fd26d61005047928e0b0da67fab89cb": {
      "model_module": "@jupyter-widgets/controls",
      "model_module_version": "1.4.0",
      "model_name": "CheckboxModel",
      "state": {
       "description": "legend_out",
       "disabled": false,
       "layout": "IPY_MODEL_8ea9a7c1595a4083ac44ca93726954e8",
       "style": "IPY_MODEL_254644a56cd74462a53ad840dd03c3f0",
       "value": false
      }
     },
     "a067daa83db14cf4b04ecd1ace852139": {
      "model_module": "@jupyter-widgets/base",
      "model_module_version": "1.1.0",
      "model_name": "LayoutModel",
      "state": {}
     },
     "a1070f8819984cba82acc1625b4fa072": {
      "model_module": "@jupyter-widgets/controls",
      "model_module_version": "1.4.0",
      "model_name": "CheckboxModel",
      "state": {
       "description": "logx",
       "disabled": false,
       "layout": "IPY_MODEL_70ba4fcfd61741f086d9a2d728dbb4d9",
       "style": "IPY_MODEL_848b168561e14020b3c8374d36875fea",
       "value": false
      }
     },
     "a1386fe03ee84f97ab12d4687e608fcf": {
      "model_module": "@jupyter-widgets/controls",
      "model_module_version": "1.4.0",
      "model_name": "LabelModel",
      "state": {
       "layout": "IPY_MODEL_4dd2b6d7fc7f4c7590622df41990604e",
       "style": "IPY_MODEL_5d659204e6a3444da8eaee4ec3fc2169",
       "value": "---"
      }
     },
     "a18cb3c307a4445d80aa1bb6b1d28470": {
      "model_module": "@jupyter-widgets/controls",
      "model_module_version": "1.4.0",
      "model_name": "DescriptionStyleModel",
      "state": {
       "description_width": ""
      }
     },
     "a2a12473751a4486837f952e8e1ea02a": {
      "model_module": "@jupyter-widgets/controls",
      "model_module_version": "1.4.0",
      "model_name": "DescriptionStyleModel",
      "state": {
       "description_width": ""
      }
     },
     "a2d9654122af4be3a914a8c8622a4377": {
      "model_module": "@jupyter-widgets/base",
      "model_module_version": "1.1.0",
      "model_name": "LayoutModel",
      "state": {}
     },
     "a2f061931dc049cfa6058d5c87ff5b3a": {
      "model_module": "@jupyter-widgets/base",
      "model_module_version": "1.1.0",
      "model_name": "LayoutModel",
      "state": {}
     },
     "a3bbdc1d68dc41058b5ad08276dc9958": {
      "model_module": "@jupyter-widgets/controls",
      "model_module_version": "1.4.0",
      "model_name": "HBoxModel",
      "state": {
       "children": [
        "IPY_MODEL_e28f08638c5d4ff1b5d38eae877622b5",
        "IPY_MODEL_ace205af277f419c98f9e2d53cd20b73"
       ],
       "layout": "IPY_MODEL_95d792e72d5d41cd8ebe3d64c8f334b9"
      }
     },
     "a3da56e8e9cf430b95aeb686ee692ea1": {
      "model_module": "@jupyter-widgets/base",
      "model_module_version": "1.1.0",
      "model_name": "LayoutModel",
      "state": {}
     },
     "a3f2daed65d84eb2aa029c77407803cb": {
      "model_module": "@jupyter-widgets/base",
      "model_module_version": "1.1.0",
      "model_name": "LayoutModel",
      "state": {}
     },
     "a3fd1eebbb29484b8d1f9089bfe8eedc": {
      "model_module": "@jupyter-widgets/controls",
      "model_module_version": "1.4.0",
      "model_name": "DescriptionStyleModel",
      "state": {
       "description_width": ""
      }
     },
     "a409802a65094ea28693efed3673baf2": {
      "model_module": "@jupyter-widgets/base",
      "model_module_version": "1.1.0",
      "model_name": "LayoutModel",
      "state": {}
     },
     "a44dfc22c27d428580d62dcb1a72d7dd": {
      "model_module": "@jupyter-widgets/controls",
      "model_module_version": "1.4.0",
      "model_name": "CheckboxModel",
      "state": {
       "description": "rug",
       "disabled": false,
       "layout": "IPY_MODEL_e759e76bdf6c4443b6b034f06707ff4d",
       "style": "IPY_MODEL_570dace253ff4871b2dde4e1270a791e",
       "value": false
      }
     },
     "a505fe85ee3045f3bf6108d4071df99a": {
      "model_module": "@jupyter-widgets/controls",
      "model_module_version": "1.4.0",
      "model_name": "CheckboxModel",
      "state": {
       "description": "annot",
       "disabled": false,
       "layout": "IPY_MODEL_d5e6be5834734702870e8f83f8fadc35",
       "style": "IPY_MODEL_95e78b596915489e91da8d6181d9a442",
       "value": false
      }
     },
     "a55150eaf9ac4a098820d8c18e000941": {
      "model_module": "@jupyter-widgets/controls",
      "model_module_version": "1.4.0",
      "model_name": "ButtonStyleModel",
      "state": {}
     },
     "a5a5a9c699ad47a29d28143911b70651": {
      "model_module": "@jupyter-widgets/base",
      "model_module_version": "1.1.0",
      "model_name": "LayoutModel",
      "state": {}
     },
     "a5d6d5b38296495cb7c1b0abd5c0c917": {
      "model_module": "@jupyter-widgets/base",
      "model_module_version": "1.1.0",
      "model_name": "LayoutModel",
      "state": {}
     },
     "a5d9192f58cf40b7809f05130026d770": {
      "model_module": "@jupyter-widgets/base",
      "model_module_version": "1.1.0",
      "model_name": "LayoutModel",
      "state": {}
     },
     "a60623f610194f439c2c2715f20eb46f": {
      "model_module": "@jupyter-widgets/controls",
      "model_module_version": "1.4.0",
      "model_name": "DescriptionStyleModel",
      "state": {
       "description_width": ""
      }
     },
     "a6607d908b234647b6c47dabe2fd3735": {
      "model_module": "@jupyter-widgets/controls",
      "model_module_version": "1.4.0",
      "model_name": "DescriptionStyleModel",
      "state": {
       "description_width": ""
      }
     },
     "a683c3e6a16244b6820ff2065402e047": {
      "model_module": "@jupyter-widgets/controls",
      "model_module_version": "1.4.0",
      "model_name": "TextModel",
      "state": {
       "description": "axlabel",
       "layout": "IPY_MODEL_4792d157a3e94ef79a50beeb85228e9b",
       "style": "IPY_MODEL_4261c304f2e24e23bbdb52259903a696"
      }
     },
     "a69d8de106ec436eba9e01467140fd78": {
      "model_module": "@jupyter-widgets/controls",
      "model_module_version": "1.4.0",
      "model_name": "CheckboxModel",
      "state": {
       "description": "join",
       "disabled": false,
       "layout": "IPY_MODEL_a3f2daed65d84eb2aa029c77407803cb",
       "style": "IPY_MODEL_f69110e2e52b48abb0d831a4d0596cd7",
       "value": false
      }
     },
     "a6dbadc45e514a7eb9dd116d9b03d9bd": {
      "model_module": "@jupyter-widgets/base",
      "model_module_version": "1.1.0",
      "model_name": "LayoutModel",
      "state": {}
     },
     "a741c3ebf7114de0bcbbac16757e5d5b": {
      "model_module": "@jupyter-widgets/controls",
      "model_module_version": "1.4.0",
      "model_name": "DescriptionStyleModel",
      "state": {
       "description_width": ""
      }
     },
     "a7a7f0637ec74259aa588ad10702140b": {
      "model_module": "@jupyter-widgets/controls",
      "model_module_version": "1.4.0",
      "model_name": "DescriptionStyleModel",
      "state": {
       "description_width": ""
      }
     },
     "a81990bcd5f542489ef251394f10648d": {
      "model_module": "@jupyter-widgets/controls",
      "model_module_version": "1.4.0",
      "model_name": "ButtonStyleModel",
      "state": {}
     },
     "a86032038c8d4c73a958cf1f0e10d3e1": {
      "model_module": "@jupyter-widgets/base",
      "model_module_version": "1.1.0",
      "model_name": "LayoutModel",
      "state": {}
     },
     "a8ab65934d8a4e17aa855bbaa04c3668": {
      "model_module": "@jupyter-widgets/controls",
      "model_module_version": "1.4.0",
      "model_name": "LabelModel",
      "state": {
       "layout": "IPY_MODEL_3ec32179c18149dfbe1af3e3b4ef2436",
       "style": "IPY_MODEL_b9d81fc8eacd4747b7948ce23309c2e6",
       "value": "---"
      }
     },
     "a8cc80f2f1f340cb940adcc99d4e8dbe": {
      "model_module": "@jupyter-widgets/controls",
      "model_module_version": "1.4.0",
      "model_name": "ButtonModel",
      "state": {
       "description": "remove",
       "layout": "IPY_MODEL_9fc462a200e646428666fedafec2b745",
       "style": "IPY_MODEL_28a4ca83b46544f98193126b46afa4ae"
      }
     },
     "a915049a811a4f719325780b60faa9bd": {
      "model_module": "@jupyter-widgets/base",
      "model_module_version": "1.1.0",
      "model_name": "LayoutModel",
      "state": {}
     },
     "a9ab1a5619c043ed8cabf837dd61d84f": {
      "model_module": "@jupyter-widgets/base",
      "model_module_version": "1.1.0",
      "model_name": "LayoutModel",
      "state": {}
     },
     "aa9294c68e8a45b48db362b6c80ad031": {
      "model_module": "@jupyter-widgets/controls",
      "model_module_version": "1.4.0",
      "model_name": "DescriptionStyleModel",
      "state": {
       "description_width": ""
      }
     },
     "aa9f2b53a7cb4209a8b5cb042b24c011": {
      "model_module": "@jupyter-widgets/base",
      "model_module_version": "1.1.0",
      "model_name": "LayoutModel",
      "state": {}
     },
     "aaebb1d31e624547a2a85dcc1b529c22": {
      "model_module": "@jupyter-widgets/controls",
      "model_module_version": "1.4.0",
      "model_name": "DropdownModel",
      "state": {
       "_options_labels": [
        "Acceleration",
        "Cylinders",
        "Displacement",
        "Horsepower",
        "Miles_per_Gallon",
        "Name",
        "Origin",
        "Weight_in_lbs",
        "Year"
       ],
       "description": "a",
       "index": 0,
       "layout": "IPY_MODEL_40a8e66e5d3d4d1c92b3ce182752c9e6",
       "style": "IPY_MODEL_1f94fe796add4f9b83b707238d04e2cd"
      }
     },
     "ab613a433eaa4ca1ba712ae0eac72b9e": {
      "model_module": "@jupyter-widgets/controls",
      "model_module_version": "1.4.0",
      "model_name": "DescriptionStyleModel",
      "state": {
       "description_width": ""
      }
     },
     "ab6f784bd77a48158acbc088b7db7073": {
      "model_module": "@jupyter-widgets/base",
      "model_module_version": "1.1.0",
      "model_name": "LayoutModel",
      "state": {}
     },
     "ab7ad602bfe6486ab075a0768835df97": {
      "model_module": "@jupyter-widgets/base",
      "model_module_version": "1.1.0",
      "model_name": "LayoutModel",
      "state": {}
     },
     "abe122b0ce0f46fbb7229749410faeb3": {
      "model_module": "@jupyter-widgets/controls",
      "model_module_version": "1.4.0",
      "model_name": "HBoxModel",
      "state": {
       "children": [
        "IPY_MODEL_976e29178100485385a6e64396fb83e5",
        "IPY_MODEL_6b900c7e87014f9f889486ea3ec75d2a"
       ],
       "layout": "IPY_MODEL_0b1f3e92423d4b67ba18db4073f4d802"
      }
     },
     "ac3257a5b8964522b7ea75e3c3f28ef2": {
      "model_module": "@jupyter-widgets/controls",
      "model_module_version": "1.4.0",
      "model_name": "DropdownModel",
      "state": {
       "_options_labels": [
        "row",
        "col",
        "True"
       ],
       "description": "sharey",
       "index": 0,
       "layout": "IPY_MODEL_505d312ed9894e4babba607a813e68b3",
       "style": "IPY_MODEL_080c96c9af2241a894a67f66c0318084"
      }
     },
     "acd2aec9438e439389c1840eda2f26dc": {
      "model_module": "@jupyter-widgets/controls",
      "model_module_version": "1.4.0",
      "model_name": "DescriptionStyleModel",
      "state": {
       "description_width": ""
      }
     },
     "acdb04c6c650408f8805b1b418e40b6c": {
      "model_module": "@jupyter-widgets/base",
      "model_module_version": "1.1.0",
      "model_name": "LayoutModel",
      "state": {}
     },
     "ace205af277f419c98f9e2d53cd20b73": {
      "model_module": "@jupyter-widgets/controls",
      "model_module_version": "1.4.0",
      "model_name": "ButtonModel",
      "state": {
       "description": "remove",
       "layout": "IPY_MODEL_6f3c60e418584020a8bde6b8175f1688",
       "style": "IPY_MODEL_a55150eaf9ac4a098820d8c18e000941"
      }
     },
     "acfca1cf0ac84a43836e9e77ded837e3": {
      "model_module": "@jupyter-widgets/controls",
      "model_module_version": "1.4.0",
      "model_name": "CheckboxModel",
      "state": {
       "description": "cbar",
       "disabled": false,
       "layout": "IPY_MODEL_ed09893089984755b4ff12468b70d499",
       "style": "IPY_MODEL_ee9e2e837fc34da7b6185b0d2ac063cf",
       "value": false
      }
     },
     "ad07597a0d194ac1b75ecfa670fa3b34": {
      "model_module": "@jupyter-widgets/base",
      "model_module_version": "1.1.0",
      "model_name": "LayoutModel",
      "state": {}
     },
     "ad1d1fedad9a49edb15ea74037b2aafd": {
      "model_module": "@jupyter-widgets/controls",
      "model_module_version": "1.4.0",
      "model_name": "DescriptionStyleModel",
      "state": {
       "description_width": ""
      }
     },
     "ad7e81e80fb344728085aef2766aeb57": {
      "model_module": "@jupyter-widgets/controls",
      "model_module_version": "1.4.0",
      "model_name": "LabelModel",
      "state": {
       "layout": "IPY_MODEL_84b60e701ef34c68b58ae6f374c194e6",
       "style": "IPY_MODEL_c6e9227dd2c64a05b0a8a34486c72434",
       "value": "---"
      }
     },
     "af4d7ff103104182bb38b2c8b0626e75": {
      "model_module": "@jupyter-widgets/base",
      "model_module_version": "1.1.0",
      "model_name": "LayoutModel",
      "state": {}
     },
     "af915b7b65084e5db15d8ffce9e5e210": {
      "model_module": "@jupyter-widgets/controls",
      "model_module_version": "1.4.0",
      "model_name": "LabelModel",
      "state": {
       "layout": "IPY_MODEL_556003b228de4ef1bf24c168bf09b39b",
       "style": "IPY_MODEL_64298fcaf39b44d0b468e66d0585aeb3",
       "value": "---"
      }
     },
     "af91dfb325704d50ab6a0051e5cb9c7e": {
      "model_module": "@jupyter-widgets/controls",
      "model_module_version": "1.4.0",
      "model_name": "CheckboxModel",
      "state": {
       "description": "auto-update",
       "disabled": false,
       "layout": "IPY_MODEL_c1d247c0f4de40db9b06c80f269ba627",
       "style": "IPY_MODEL_7f70985413314a599f5a8d92c15d3d1c",
       "value": true
      }
     },
     "b01d5f774e9b4e90abf465a17be1d53f": {
      "model_module": "@jupyter-widgets/base",
      "model_module_version": "1.1.0",
      "model_name": "LayoutModel",
      "state": {}
     },
     "b0c084c7b3e9427cb208f9d1736bb2c0": {
      "model_module": "@jupyter-widgets/controls",
      "model_module_version": "1.4.0",
      "model_name": "CheckboxModel",
      "state": {
       "description": "cbar",
       "disabled": false,
       "layout": "IPY_MODEL_0535baa2ac38475ca14829bf490f3712",
       "style": "IPY_MODEL_d110837b959149d3ac36d731f20c16b1",
       "value": false
      }
     },
     "b0e5021105a543c2a542c621298136d1": {
      "model_module": "@jupyter-widgets/controls",
      "model_module_version": "1.4.0",
      "model_name": "DescriptionStyleModel",
      "state": {
       "description_width": ""
      }
     },
     "b1489cd979d24483800a3146ec7ed86e": {
      "model_module": "@jupyter-widgets/controls",
      "model_module_version": "1.4.0",
      "model_name": "DropdownModel",
      "state": {
       "_options_labels": [
        "barplot",
        "boxenplot",
        "boxplot",
        "catplot",
        "countplot",
        "distplot",
        "heatmap",
        "jointplot",
        "kdeplot",
        "lineplot",
        "lmplot",
        "pairplot",
        "pointplot",
        "regplot",
        "relplot",
        "residplot",
        "scatterplot",
        "stripplot",
        "swarmplot",
        "violinplot"
       ],
       "description": "Plot type",
       "index": 1,
       "layout": "IPY_MODEL_e7200817f8974cbe8f1725ad15c780c6",
       "style": "IPY_MODEL_b8acf0661fdd49d98c282944c9830c7a"
      }
     },
     "b1aa82babeb94531adcae9a805ac8126": {
      "model_module": "@jupyter-widgets/controls",
      "model_module_version": "1.4.0",
      "model_name": "DescriptionStyleModel",
      "state": {
       "description_width": ""
      }
     },
     "b20e31d8400d4130859caf6ba27d3506": {
      "model_module": "@jupyter-widgets/controls",
      "model_module_version": "1.4.0",
      "model_name": "DescriptionStyleModel",
      "state": {
       "description_width": ""
      }
     },
     "b2730d343aca49c79af13bdd6506fb0a": {
      "model_module": "@jupyter-widgets/controls",
      "model_module_version": "1.4.0",
      "model_name": "DropdownModel",
      "state": {
       "_options_labels": [
        "auto",
        "hist",
        "kde"
       ],
       "description": "diag_kind",
       "index": 0,
       "layout": "IPY_MODEL_e4fc7db97e5d422992dc5177d8e1103e",
       "style": "IPY_MODEL_8bea1bf0aeed41b7b9bab47514108949"
      }
     },
     "b2c2f76d654c4be7854d90144fc55124": {
      "model_module": "@jupyter-widgets/base",
      "model_module_version": "1.1.0",
      "model_name": "LayoutModel",
      "state": {}
     },
     "b2c823247f4849bd9002d08e2b7dae64": {
      "model_module": "@jupyter-widgets/base",
      "model_module_version": "1.1.0",
      "model_name": "LayoutModel",
      "state": {}
     },
     "b31746e606a24772abe343a92a76c3af": {
      "model_module": "@jupyter-widgets/base",
      "model_module_version": "1.1.0",
      "model_name": "LayoutModel",
      "state": {}
     },
     "b389479b04c24d36813e46921bac6724": {
      "model_module": "@jupyter-widgets/controls",
      "model_module_version": "1.4.0",
      "model_name": "DropdownModel",
      "state": {
       "_options_labels": [
        "point",
        "bar",
        "strip",
        "swarm",
        "box",
        "violin",
        "boxen"
       ],
       "description": "kind",
       "index": 0,
       "layout": "IPY_MODEL_8a12cccf9ffa4fccabbfbe80ec3bccff",
       "style": "IPY_MODEL_2ca6174b830745758cd7b1f65f78d6e1"
      }
     },
     "b38e5b86d8134a189d5ec7f2e55cf042": {
      "model_module": "@jupyter-widgets/controls",
      "model_module_version": "1.4.0",
      "model_name": "CheckboxModel",
      "state": {
       "description": "square",
       "disabled": false,
       "layout": "IPY_MODEL_2a836fdd689b45f18e12477f3812d874",
       "style": "IPY_MODEL_3ea1c4995c0b4d6e998ce10fa9b730b6",
       "value": false
      }
     },
     "b3a3bac668ef4f8c9b0458b7f8f5b6c9": {
      "model_module": "@jupyter-widgets/controls",
      "model_module_version": "1.4.0",
      "model_name": "ButtonStyleModel",
      "state": {}
     },
     "b3e7b439e384436f9ddb6ed27a2875ee": {
      "model_module": "@jupyter-widgets/controls",
      "model_module_version": "1.4.0",
      "model_name": "HBoxModel",
      "state": {
       "children": [
        "IPY_MODEL_62894b5b13b8431dbb9a4dbb33d7422d",
        "IPY_MODEL_1bdd24f3731245bea319f966c5bf3792"
       ],
       "layout": "IPY_MODEL_e729bf51f0134704a24cbd0a982979a5"
      }
     },
     "b45c484428574af3972e0dc553b2b2a9": {
      "model_module": "@jupyter-widgets/controls",
      "model_module_version": "1.4.0",
      "model_name": "LabelModel",
      "state": {
       "layout": "IPY_MODEL_e658da7710f643d1ae3cc149c07cc3f4",
       "style": "IPY_MODEL_a18cb3c307a4445d80aa1bb6b1d28470",
       "value": "---"
      }
     },
     "b49985d3f14c417ebb760515187c72e8": {
      "model_module": "@jupyter-widgets/controls",
      "model_module_version": "1.4.0",
      "model_name": "DescriptionStyleModel",
      "state": {
       "description_width": ""
      }
     },
     "b4bf24e34cb44fcf879028102525eb95": {
      "model_module": "@jupyter-widgets/base",
      "model_module_version": "1.1.0",
      "model_name": "LayoutModel",
      "state": {}
     },
     "b4ccaa2e29bd44a881995dd4d08b1d14": {
      "model_module": "@jupyter-widgets/controls",
      "model_module_version": "1.4.0",
      "model_name": "DescriptionStyleModel",
      "state": {
       "description_width": ""
      }
     },
     "b4eb7912cc8647af94959a37c6cd9cc7": {
      "model_module": "@jupyter-widgets/controls",
      "model_module_version": "1.4.0",
      "model_name": "HBoxModel",
      "state": {
       "children": [
        "IPY_MODEL_c6873023cf1946afb15c393142f2dd53"
       ],
       "layout": "IPY_MODEL_8b35c1ba06a642cdbe74d27bff900548"
      }
     },
     "b4f15dbe9920432fae4e09bf5fea0fd9": {
      "model_module": "@jupyter-widgets/base",
      "model_module_version": "1.1.0",
      "model_name": "LayoutModel",
      "state": {}
     },
     "b518158986ca44ab8e0b802d982d2eb6": {
      "model_module": "@jupyter-widgets/base",
      "model_module_version": "1.1.0",
      "model_name": "LayoutModel",
      "state": {}
     },
     "b5181ed0258a42b69d9751509a551404": {
      "model_module": "@jupyter-widgets/controls",
      "model_module_version": "1.4.0",
      "model_name": "FloatTextModel",
      "state": {
       "description": "aspect",
       "layout": "IPY_MODEL_4d99f66188e74327845f47c541c352bd",
       "step": null,
       "style": "IPY_MODEL_c99c0373dda4455db68d9e40b2feda76",
       "value": 1
      }
     },
     "b553c4b5fd3f42d9b8f42f95cc98de94": {
      "model_module": "@jupyter-widgets/controls",
      "model_module_version": "1.4.0",
      "model_name": "DescriptionStyleModel",
      "state": {
       "description_width": ""
      }
     },
     "b5916c628ef745dbabb6d9311fa304c3": {
      "model_module": "@jupyter-widgets/controls",
      "model_module_version": "1.4.0",
      "model_name": "ButtonModel",
      "state": {
       "description": "remove",
       "layout": "IPY_MODEL_2c8ddd6897d14a2b9aa32cd745e98767",
       "style": "IPY_MODEL_b69a043a45d5498ba198b72ffc47ce3e"
      }
     },
     "b6589cebce9442ab915eb0519a519012": {
      "model_module": "@jupyter-widgets/controls",
      "model_module_version": "1.4.0",
      "model_name": "DescriptionStyleModel",
      "state": {
       "description_width": ""
      }
     },
     "b66129e7334b4bd3ac1989094540d8c6": {
      "model_module": "@jupyter-widgets/controls",
      "model_module_version": "1.4.0",
      "model_name": "DropdownModel",
      "state": {
       "_options_labels": [
        "point",
        "bar",
        "strip",
        "swarm",
        "box",
        "violin",
        "boxen"
       ],
       "description": "kind",
       "index": 0,
       "layout": "IPY_MODEL_8d80d7547ade4eb2ae108d07783e8dc1",
       "style": "IPY_MODEL_81f8a08b66f34350bf152b765faf0ae8"
      }
     },
     "b69a043a45d5498ba198b72ffc47ce3e": {
      "model_module": "@jupyter-widgets/controls",
      "model_module_version": "1.4.0",
      "model_name": "ButtonStyleModel",
      "state": {}
     },
     "b6aea9e3a4ca4934958992dfab33bb47": {
      "model_module": "@jupyter-widgets/base",
      "model_module_version": "1.1.0",
      "model_name": "LayoutModel",
      "state": {}
     },
     "b6fee4ae3b1f4e89bf0f81720059215a": {
      "model_module": "@jupyter-widgets/controls",
      "model_module_version": "1.4.0",
      "model_name": "CheckboxModel",
      "state": {
       "description": "split",
       "disabled": false,
       "layout": "IPY_MODEL_52acd5d79bf14080863634bf0e3d7b20",
       "style": "IPY_MODEL_76fb5e014faa4237a837ff7d26b20641",
       "value": false
      }
     },
     "b70af15620154793a1decdfadb5df05e": {
      "model_module": "@jupyter-widgets/controls",
      "model_module_version": "1.4.0",
      "model_name": "DescriptionStyleModel",
      "state": {
       "description_width": ""
      }
     },
     "b742d7cee9ff45fa8293b57782726bff": {
      "model_module": "@jupyter-widgets/controls",
      "model_module_version": "1.4.0",
      "model_name": "DescriptionStyleModel",
      "state": {
       "description_width": ""
      }
     },
     "b798b6dcfc284186b60a1d555d5d642f": {
      "model_module": "@jupyter-widgets/controls",
      "model_module_version": "1.4.0",
      "model_name": "DropdownModel",
      "state": {
       "_options_labels": [
        "Acceleration",
        "Cylinders",
        "Displacement",
        "Horsepower",
        "Miles_per_Gallon",
        "Name",
        "Origin",
        "Weight_in_lbs",
        "Year"
       ],
       "description": "col",
       "index": 0,
       "layout": "IPY_MODEL_acdb04c6c650408f8805b1b418e40b6c",
       "style": "IPY_MODEL_75300abe663a488693c08a0a94f53f28"
      }
     },
     "b79d51eaa608417ba88ea3eac2cbf3e8": {
      "model_module": "@jupyter-widgets/controls",
      "model_module_version": "1.4.0",
      "model_name": "DescriptionStyleModel",
      "state": {
       "description_width": ""
      }
     },
     "b7f47a3471f244d89fb01419ccb51a07": {
      "model_module": "@jupyter-widgets/controls",
      "model_module_version": "1.4.0",
      "model_name": "DescriptionStyleModel",
      "state": {
       "description_width": ""
      }
     },
     "b83c4cb5b91d4e07a474004c20033181": {
      "model_module": "@jupyter-widgets/base",
      "model_module_version": "1.1.0",
      "model_name": "LayoutModel",
      "state": {}
     },
     "b8acf0661fdd49d98c282944c9830c7a": {
      "model_module": "@jupyter-widgets/controls",
      "model_module_version": "1.4.0",
      "model_name": "DescriptionStyleModel",
      "state": {
       "description_width": ""
      }
     },
     "b8f0e3c45c494145bd3593c481e7cbf0": {
      "model_module": "@jupyter-widgets/controls",
      "model_module_version": "1.4.0",
      "model_name": "DescriptionStyleModel",
      "state": {
       "description_width": ""
      }
     },
     "b96311ff8d404a1c99ae258c5bfa3187": {
      "model_module": "@jupyter-widgets/controls",
      "model_module_version": "1.4.0",
      "model_name": "DescriptionStyleModel",
      "state": {
       "description_width": ""
      }
     },
     "b9d81fc8eacd4747b7948ce23309c2e6": {
      "model_module": "@jupyter-widgets/controls",
      "model_module_version": "1.4.0",
      "model_name": "DescriptionStyleModel",
      "state": {
       "description_width": ""
      }
     },
     "bbba85ad0e5e4148915b08dda17119b1": {
      "model_module": "@jupyter-widgets/controls",
      "model_module_version": "1.4.0",
      "model_name": "TextModel",
      "state": {
       "description": "axlabel",
       "layout": "IPY_MODEL_701ee5210f8c48ffb59e82b0ec3513fa",
       "style": "IPY_MODEL_9f523e5426034c98a023ccffbce695ac"
      }
     },
     "bc0c43c4dd1c4d27926dd33ac63c4276": {
      "model_module": "@jupyter-widgets/controls",
      "model_module_version": "1.4.0",
      "model_name": "ButtonStyleModel",
      "state": {}
     },
     "bc1d050c2305468a875049ba205adb1c": {
      "model_module": "@jupyter-widgets/controls",
      "model_module_version": "1.4.0",
      "model_name": "IntSliderModel",
      "state": {
       "description": "ci",
       "layout": "IPY_MODEL_90f8399a8a4448fea918b4e08c269016",
       "style": "IPY_MODEL_9aad40a89c80489580b016a554ab9bed",
       "value": 95
      }
     },
     "bc7a56a055cd43a0bdfab28fbd24b831": {
      "model_module": "@jupyter-widgets/controls",
      "model_module_version": "1.4.0",
      "model_name": "DescriptionStyleModel",
      "state": {
       "description_width": ""
      }
     },
     "bd1ec9d47ad9491e92e1de9d11dfe620": {
      "model_module": "@jupyter-widgets/controls",
      "model_module_version": "1.4.0",
      "model_name": "DescriptionStyleModel",
      "state": {
       "description_width": ""
      }
     },
     "bd3cf27174264c05bdb771f4224c39d3": {
      "model_module": "@jupyter-widgets/controls",
      "model_module_version": "1.4.0",
      "model_name": "DescriptionStyleModel",
      "state": {
       "description_width": ""
      }
     },
     "bdc7447da7c348d488c10f334940edbb": {
      "model_module": "@jupyter-widgets/controls",
      "model_module_version": "1.4.0",
      "model_name": "SliderStyleModel",
      "state": {
       "description_width": ""
      }
     },
     "bdd0698224ae4b2f89431c46b60be493": {
      "model_module": "@jupyter-widgets/controls",
      "model_module_version": "1.4.0",
      "model_name": "FloatSliderModel",
      "state": {
       "description": "saturation",
       "layout": "IPY_MODEL_c887053b4d6f4ff495c85811014ab1e6",
       "max": 1,
       "step": 0.05,
       "style": "IPY_MODEL_49efd60a6afc49658732b7d10d80dc9c",
       "value": 1
      }
     },
     "bddb93b5bfd6428294036818a1935cef": {
      "model_module": "@jupyter-widgets/controls",
      "model_module_version": "1.4.0",
      "model_name": "FloatTextModel",
      "state": {
       "description": "scale",
       "layout": "IPY_MODEL_47fbcbec92c64f7fb2e41b7a99ae29a8",
       "step": null,
       "style": "IPY_MODEL_bd3cf27174264c05bdb771f4224c39d3",
       "value": 1
      }
     },
     "bdf2a3fcdb51461fba85fb011857e62a": {
      "model_module": "@jupyter-widgets/controls",
      "model_module_version": "1.4.0",
      "model_name": "DescriptionStyleModel",
      "state": {
       "description_width": ""
      }
     },
     "be29f93fefba419e926dc5bc0ecac5b5": {
      "model_module": "@jupyter-widgets/controls",
      "model_module_version": "1.4.0",
      "model_name": "HBoxModel",
      "state": {
       "children": [
        "IPY_MODEL_96a6007608fa45d6aa9e4bc4bc710513"
       ],
       "layout": "IPY_MODEL_7eaf90b65b74459eaf12ca3920027710"
      }
     },
     "be4abb4ca27847ea8885cd50446ed8fc": {
      "model_module": "@jupyter-widgets/controls",
      "model_module_version": "1.4.0",
      "model_name": "FloatTextModel",
      "state": {
       "description": "size",
       "layout": "IPY_MODEL_6a737ab8878e489697b31c89c9aa2b30",
       "step": null,
       "style": "IPY_MODEL_a741c3ebf7114de0bcbbac16757e5d5b",
       "value": 1
      }
     },
     "be60efd5adca46fa8f8d54c150981bba": {
      "model_module": "@jupyter-widgets/controls",
      "model_module_version": "1.4.0",
      "model_name": "DescriptionStyleModel",
      "state": {
       "description_width": ""
      }
     },
     "be7ea329163847f5abdebcb54f3b08e2": {
      "model_module": "@jupyter-widgets/base",
      "model_module_version": "1.1.0",
      "model_name": "LayoutModel",
      "state": {}
     },
     "bebcc9bf3a00416aa121c956fcdab45c": {
      "model_module": "@jupyter-widgets/base",
      "model_module_version": "1.1.0",
      "model_name": "LayoutModel",
      "state": {}
     },
     "bef2b0836e83495495787d35a9276408": {
      "model_module": "@jupyter-widgets/controls",
      "model_module_version": "1.4.0",
      "model_name": "DescriptionStyleModel",
      "state": {
       "description_width": ""
      }
     },
     "bfb4d71e30994d819376b73eec008058": {
      "model_module": "@jupyter-widgets/base",
      "model_module_version": "1.1.0",
      "model_name": "LayoutModel",
      "state": {}
     },
     "bfbda1c8116446fd8aa20f56be2afac6": {
      "model_module": "@jupyter-widgets/controls",
      "model_module_version": "1.4.0",
      "model_name": "ButtonModel",
      "state": {
       "description": "remove",
       "layout": "IPY_MODEL_15c2198cfdb046a28e642153a2d53470",
       "style": "IPY_MODEL_c2a2073ae0294e5fb6f133852f094dea"
      }
     },
     "c01b2f4b9792423a983ecb8a3b3a1d91": {
      "model_module": "@jupyter-widgets/controls",
      "model_module_version": "1.4.0",
      "model_name": "DescriptionStyleModel",
      "state": {
       "description_width": ""
      }
     },
     "c053798e72bc40059eb2558d8af1c8ea": {
      "model_module": "@jupyter-widgets/base",
      "model_module_version": "1.1.0",
      "model_name": "LayoutModel",
      "state": {}
     },
     "c074cd3da1784c5fa9f353f5fd882be6": {
      "model_module": "@jupyter-widgets/base",
      "model_module_version": "1.1.0",
      "model_name": "LayoutModel",
      "state": {}
     },
     "c0b44d9db92446368b40daa5c0527963": {
      "model_module": "@jupyter-widgets/base",
      "model_module_version": "1.1.0",
      "model_name": "LayoutModel",
      "state": {}
     },
     "c1b0336c2b4542d993ab0d38251bcd33": {
      "model_module": "@jupyter-widgets/base",
      "model_module_version": "1.1.0",
      "model_name": "LayoutModel",
      "state": {}
     },
     "c1d247c0f4de40db9b06c80f269ba627": {
      "model_module": "@jupyter-widgets/base",
      "model_module_version": "1.1.0",
      "model_name": "LayoutModel",
      "state": {}
     },
     "c24d47ae66c040e0b527671593c2eadb": {
      "model_module": "@jupyter-widgets/output",
      "model_module_version": "1.0.0",
      "model_name": "OutputModel",
      "state": {
       "layout": "IPY_MODEL_fb35dca8374044ba9181c10af6bbcd31",
       "outputs": [
        {
         "data": {
          "image/png": "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\n",
          "text/plain": "<Figure size 432x288 with 1 Axes>"
         },
         "metadata": {},
         "output_type": "display_data"
        }
       ]
      }
     },
     "c2715d6c647c48ddb31028f34ee2c1f7": {
      "model_module": "@jupyter-widgets/controls",
      "model_module_version": "1.4.0",
      "model_name": "DescriptionStyleModel",
      "state": {
       "description_width": ""
      }
     },
     "c2a1b6f23be2421ca5555efa8e24f65f": {
      "model_module": "@jupyter-widgets/controls",
      "model_module_version": "1.4.0",
      "model_name": "ButtonModel",
      "state": {
       "description": "remove",
       "layout": "IPY_MODEL_01be1bf39505478db88bd95fb5d3ba58",
       "style": "IPY_MODEL_16f0e8cfa6444fd6b30373017a9ee09b"
      }
     },
     "c2a2073ae0294e5fb6f133852f094dea": {
      "model_module": "@jupyter-widgets/controls",
      "model_module_version": "1.4.0",
      "model_name": "ButtonStyleModel",
      "state": {}
     },
     "c2aebd12d63a40c4ab1734c94ce1f27e": {
      "model_module": "@jupyter-widgets/controls",
      "model_module_version": "1.4.0",
      "model_name": "DescriptionStyleModel",
      "state": {
       "description_width": ""
      }
     },
     "c32dad9d1b6345b09ee33b9ae8cd5e49": {
      "model_module": "@jupyter-widgets/base",
      "model_module_version": "1.1.0",
      "model_name": "LayoutModel",
      "state": {}
     },
     "c353e1cb7f604d4db0e0c247bd60c576": {
      "model_module": "@jupyter-widgets/controls",
      "model_module_version": "1.4.0",
      "model_name": "DropdownModel",
      "state": {
       "_options_labels": [
        "Acceleration",
        "Cylinders",
        "Year",
        "Origin",
        "Horsepower",
        "Name",
        "Displacement",
        "Weight_in_lbs",
        "Miles_per_Gallon"
       ],
       "description": "sizes",
       "index": 0,
       "layout": "IPY_MODEL_f3e67359587d472c9b9d78ec01e46325",
       "style": "IPY_MODEL_ed272c3d32c0467ba5e7f89535f3c705"
      }
     },
     "c40a630661d54d68a4d71d621d36f652": {
      "model_module": "@jupyter-widgets/base",
      "model_module_version": "1.1.0",
      "model_name": "LayoutModel",
      "state": {}
     },
     "c46a6445f03640d19bc97ec0bfdfc908": {
      "model_module": "@jupyter-widgets/base",
      "model_module_version": "1.1.0",
      "model_name": "LayoutModel",
      "state": {}
     },
     "c486301e35b54cc1aaec683b28b00f21": {
      "model_module": "@jupyter-widgets/base",
      "model_module_version": "1.1.0",
      "model_name": "LayoutModel",
      "state": {}
     },
     "c4a01f2894c54ec590ae724a2e3f26da": {
      "model_module": "@jupyter-widgets/controls",
      "model_module_version": "1.4.0",
      "model_name": "IntTextModel",
      "state": {
       "description": "ratio",
       "layout": "IPY_MODEL_c074cd3da1784c5fa9f353f5fd882be6",
       "step": 1,
       "style": "IPY_MODEL_84f24b8965d24070b7f00d2796a7ae4e",
       "value": 1
      }
     },
     "c4cdc83ee9cf4cf3aaf5d92d3cad683e": {
      "model_module": "@jupyter-widgets/base",
      "model_module_version": "1.1.0",
      "model_name": "LayoutModel",
      "state": {}
     },
     "c4d3dd32e432498ba5fdfd5c88d3756d": {
      "model_module": "@jupyter-widgets/controls",
      "model_module_version": "1.4.0",
      "model_name": "LabelModel",
      "state": {
       "layout": "IPY_MODEL_48d4ec8e2fc045c894af9f48ba269919",
       "style": "IPY_MODEL_be60efd5adca46fa8f8d54c150981bba",
       "value": "---"
      }
     },
     "c53658d500a74551a2c3b105693cfa6d": {
      "model_module": "@jupyter-widgets/controls",
      "model_module_version": "1.4.0",
      "model_name": "DropdownModel",
      "state": {
       "_options_labels": [
        "Acceleration",
        "Cylinders",
        "Displacement",
        "Horsepower",
        "Miles_per_Gallon",
        "Name",
        "Origin",
        "Weight_in_lbs",
        "Year"
       ],
       "description": "hue",
       "index": 0,
       "layout": "IPY_MODEL_f6c077d2c72c42dd84c43bb29faa68f8",
       "style": "IPY_MODEL_b8f0e3c45c494145bd3593c481e7cbf0"
      }
     },
     "c5463c44826743f1b3551edabf7b6cec": {
      "model_module": "@jupyter-widgets/controls",
      "model_module_version": "1.4.0",
      "model_name": "DescriptionStyleModel",
      "state": {
       "description_width": ""
      }
     },
     "c5563f3f0dd84fbd87ca0c9656f5de25": {
      "model_module": "@jupyter-widgets/controls",
      "model_module_version": "1.4.0",
      "model_name": "DropdownModel",
      "state": {
       "_options_labels": [
        "scott",
        "silverman"
       ],
       "description": "bw",
       "index": 0,
       "layout": "IPY_MODEL_d948a4fad8dd4eee8ae909476098fe31",
       "style": "IPY_MODEL_49909f441d654e9db70c05c7004f6db0"
      }
     },
     "c58b513e6ea1484fbe9faee4c6fecaef": {
      "model_module": "@jupyter-widgets/controls",
      "model_module_version": "1.4.0",
      "model_name": "DescriptionStyleModel",
      "state": {
       "description_width": ""
      }
     },
     "c5bfefe9aa8e442d9f28413a87ec43fc": {
      "model_module": "@jupyter-widgets/controls",
      "model_module_version": "1.4.0",
      "model_name": "HBoxModel",
      "state": {
       "children": [
        "IPY_MODEL_62894b5b13b8431dbb9a4dbb33d7422d",
        "IPY_MODEL_219461269d444b4eb3eafdf7ffa4be27"
       ],
       "layout": "IPY_MODEL_09e603b2cb00431b82d9dca343c8f25a"
      }
     },
     "c61813042180463881dff74fcb28ffdd": {
      "model_module": "@jupyter-widgets/controls",
      "model_module_version": "1.4.0",
      "model_name": "DescriptionStyleModel",
      "state": {
       "description_width": ""
      }
     },
     "c63470f1cd84417a8fa19c871a596f38": {
      "model_module": "@jupyter-widgets/base",
      "model_module_version": "1.1.0",
      "model_name": "LayoutModel",
      "state": {}
     },
     "c6873023cf1946afb15c393142f2dd53": {
      "model_module": "@jupyter-widgets/controls",
      "model_module_version": "1.4.0",
      "model_name": "LabelModel",
      "state": {
       "layout": "IPY_MODEL_f5e5fd438e434928b92bb4f6d662ab8c",
       "style": "IPY_MODEL_a7a7f0637ec74259aa588ad10702140b",
       "value": "---"
      }
     },
     "c6e9227dd2c64a05b0a8a34486c72434": {
      "model_module": "@jupyter-widgets/controls",
      "model_module_version": "1.4.0",
      "model_name": "DescriptionStyleModel",
      "state": {
       "description_width": ""
      }
     },
     "c6eae0b4637343749eca4b8a67d8e671": {
      "model_module": "@jupyter-widgets/controls",
      "model_module_version": "1.4.0",
      "model_name": "CheckboxModel",
      "state": {
       "description": "scale_hue",
       "disabled": false,
       "layout": "IPY_MODEL_cea7bd005567485f8cb558494edb9ef5",
       "style": "IPY_MODEL_f28226a5fc424db5b25c7db47c32f943",
       "value": false
      }
     },
     "c71e55232cfc46ce9a1f6e2f19582cfd": {
      "model_module": "@jupyter-widgets/base",
      "model_module_version": "1.1.0",
      "model_name": "LayoutModel",
      "state": {}
     },
     "c722dacd61894ba3a6417010480107cc": {
      "model_module": "@jupyter-widgets/controls",
      "model_module_version": "1.4.0",
      "model_name": "DescriptionStyleModel",
      "state": {
       "description_width": ""
      }
     },
     "c72731664b194b84a3fb9047437c0d8d": {
      "model_module": "@jupyter-widgets/base",
      "model_module_version": "1.1.0",
      "model_name": "LayoutModel",
      "state": {}
     },
     "c73be20e79a14fb4acde47e558f9a955": {
      "model_module": "@jupyter-widgets/base",
      "model_module_version": "1.1.0",
      "model_name": "LayoutModel",
      "state": {}
     },
     "c7de9dd18f274ec58d603e232ca6d7c6": {
      "model_module": "@jupyter-widgets/controls",
      "model_module_version": "1.4.0",
      "model_name": "CheckboxModel",
      "state": {
       "description": "shade_lowest",
       "disabled": false,
       "layout": "IPY_MODEL_f7dd954e949c4ead8f20ae7968abc1dd",
       "style": "IPY_MODEL_aa9294c68e8a45b48db362b6c80ad031",
       "value": false
      }
     },
     "c8173ce8fe5b4f7aab67617e5362ab5b": {
      "model_module": "@jupyter-widgets/controls",
      "model_module_version": "1.4.0",
      "model_name": "DropdownModel",
      "state": {
       "_options_labels": [
        "box",
        "quartile",
        "point",
        "stick"
       ],
       "description": "inner",
       "index": 0,
       "layout": "IPY_MODEL_f2fafa3e76404d58bfba797129cd59d0",
       "style": "IPY_MODEL_b20e31d8400d4130859caf6ba27d3506"
      }
     },
     "c8308ed5e40e45a9a116d6930c45fe6f": {
      "model_module": "@jupyter-widgets/controls",
      "model_module_version": "1.4.0",
      "model_name": "CheckboxModel",
      "state": {
       "description": "shade_lowest",
       "disabled": false,
       "layout": "IPY_MODEL_50558fc5fb9e4058990e66b5e8d719c4",
       "style": "IPY_MODEL_cdfaec4f1a8744d9a95f04c025f5218f",
       "value": false
      }
     },
     "c887053b4d6f4ff495c85811014ab1e6": {
      "model_module": "@jupyter-widgets/base",
      "model_module_version": "1.1.0",
      "model_name": "LayoutModel",
      "state": {}
     },
     "c96351c3624146a5a43e537c83ecd3aa": {
      "model_module": "@jupyter-widgets/controls",
      "model_module_version": "1.4.0",
      "model_name": "DropdownModel",
      "state": {
       "_options_labels": [
        "area",
        "count",
        "width"
       ],
       "description": "scale",
       "index": 0,
       "layout": "IPY_MODEL_5bc3954d81fb4cfe8b1af3a0534654d5",
       "style": "IPY_MODEL_23b227cfc8a843d59b5a79ba119b6d6b"
      }
     },
     "c99c0373dda4455db68d9e40b2feda76": {
      "model_module": "@jupyter-widgets/controls",
      "model_module_version": "1.4.0",
      "model_name": "DescriptionStyleModel",
      "state": {
       "description_width": ""
      }
     },
     "ca0047abfd1f48d6bd567dfbf3e46d20": {
      "model_module": "@jupyter-widgets/controls",
      "model_module_version": "1.4.0",
      "model_name": "CheckboxModel",
      "state": {
       "description": "logx",
       "disabled": false,
       "layout": "IPY_MODEL_0a4b3ae3d8eb45ec87fa94f3ba596953",
       "style": "IPY_MODEL_87de164e9e1241ac8313df4578b324aa",
       "value": false
      }
     },
     "ca6d8e53385a4ddaaca37674d4d21ae9": {
      "model_module": "@jupyter-widgets/controls",
      "model_module_version": "1.4.0",
      "model_name": "FloatTextModel",
      "state": {
       "description": "width",
       "layout": "IPY_MODEL_c46a6445f03640d19bc97ec0bfdfc908",
       "step": null,
       "style": "IPY_MODEL_2afb4572e4e6482887eaa816852b0239",
       "value": 1
      }
     },
     "ca9a5b9f39cd46e3be94d091f6a5a920": {
      "model_module": "@jupyter-widgets/controls",
      "model_module_version": "1.4.0",
      "model_name": "DropdownModel",
      "state": {
       "_options_labels": [
        "True",
        "row",
        "col"
       ],
       "description": "sharex",
       "index": 0,
       "layout": "IPY_MODEL_5459653d0a3947fbb383ca752e371fb0",
       "style": "IPY_MODEL_1e75fc4b193a4bc6b183253bff9d4cdd"
      }
     },
     "cb26031063394d24b48bce6ac76a59ac": {
      "model_module": "@jupyter-widgets/controls",
      "model_module_version": "1.4.0",
      "model_name": "DescriptionStyleModel",
      "state": {
       "description_width": ""
      }
     },
     "cb4249b7f0cb4af19f16cae6ab732daa": {
      "model_module": "@jupyter-widgets/controls",
      "model_module_version": "1.4.0",
      "model_name": "SliderStyleModel",
      "state": {
       "description_width": ""
      }
     },
     "cb79ef8cee12497e8607afe251107396": {
      "model_module": "@jupyter-widgets/controls",
      "model_module_version": "1.4.0",
      "model_name": "DescriptionStyleModel",
      "state": {
       "description_width": ""
      }
     },
     "cbc5ae16f7ad4d2e8cc8d95fb6b213bc": {
      "model_module": "@jupyter-widgets/controls",
      "model_module_version": "1.4.0",
      "model_name": "CheckboxModel",
      "state": {
       "description": "notch",
       "disabled": false,
       "layout": "IPY_MODEL_b4bf24e34cb44fcf879028102525eb95",
       "style": "IPY_MODEL_95be2e7346454d72bccbf81960f8c29b",
       "value": false
      }
     },
     "cc695d7bf2d645eea041a7fc9ab2077c": {
      "model_module": "@jupyter-widgets/controls",
      "model_module_version": "1.4.0",
      "model_name": "DropdownModel",
      "state": {
       "_options_labels": [
        "scatter",
        "reg",
        "resid",
        "kde",
        "hex"
       ],
       "description": "kind",
       "index": 0,
       "layout": "IPY_MODEL_3bf1284b37444f86948f1ff7734853c0",
       "style": "IPY_MODEL_94c527cfa00b42bbad476a15ff258b00"
      }
     },
     "cd037481afbb4458b5417fff5ca8fef0": {
      "model_module": "@jupyter-widgets/controls",
      "model_module_version": "1.4.0",
      "model_name": "DescriptionStyleModel",
      "state": {
       "description_width": ""
      }
     },
     "cd47b5c547124a3cabe454953b55d641": {
      "model_module": "@jupyter-widgets/base",
      "model_module_version": "1.1.0",
      "model_name": "LayoutModel",
      "state": {}
     },
     "cdfaec4f1a8744d9a95f04c025f5218f": {
      "model_module": "@jupyter-widgets/controls",
      "model_module_version": "1.4.0",
      "model_name": "DescriptionStyleModel",
      "state": {
       "description_width": ""
      }
     },
     "cdfc973cfd064cbbb08db1cf8a5309ba": {
      "model_module": "@jupyter-widgets/base",
      "model_module_version": "1.1.0",
      "model_name": "LayoutModel",
      "state": {}
     },
     "ce40917a1d5f4376af8480eb8b225856": {
      "model_module": "@jupyter-widgets/controls",
      "model_module_version": "1.4.0",
      "model_name": "DescriptionStyleModel",
      "state": {
       "description_width": ""
      }
     },
     "ce930017dd8f43cea1e04034da1a86b7": {
      "model_module": "@jupyter-widgets/base",
      "model_module_version": "1.1.0",
      "model_name": "LayoutModel",
      "state": {}
     },
     "cea7bd005567485f8cb558494edb9ef5": {
      "model_module": "@jupyter-widgets/base",
      "model_module_version": "1.1.0",
      "model_name": "LayoutModel",
      "state": {}
     },
     "cee6da3ef2584478b4981d52b0aa7117": {
      "model_module": "@jupyter-widgets/base",
      "model_module_version": "1.1.0",
      "model_name": "LayoutModel",
      "state": {}
     },
     "cfc79eaaf9f947dbbf9bf1a7227f07ba": {
      "model_module": "@jupyter-widgets/controls",
      "model_module_version": "1.4.0",
      "model_name": "DropdownModel",
      "state": {
       "_options_labels": [
        "linear",
        "exponential",
        "area"
       ],
       "description": "scale",
       "index": 0,
       "layout": "IPY_MODEL_ee472705fe9648fd852fdb116c857bce",
       "style": "IPY_MODEL_05243bc9e4ff482c81cbbfe872e20510"
      }
     },
     "d0e87f06246340269e4999229240b333": {
      "model_module": "@jupyter-widgets/base",
      "model_module_version": "1.1.0",
      "model_name": "LayoutModel",
      "state": {}
     },
     "d110837b959149d3ac36d731f20c16b1": {
      "model_module": "@jupyter-widgets/controls",
      "model_module_version": "1.4.0",
      "model_name": "DescriptionStyleModel",
      "state": {
       "description_width": ""
      }
     },
     "d112840d6d0d4399b1e9785ed63b5a55": {
      "model_module": "@jupyter-widgets/controls",
      "model_module_version": "1.4.0",
      "model_name": "DropdownModel",
      "state": {
       "_options_labels": [
        "Acceleration",
        "Cylinders",
        "Displacement",
        "Horsepower",
        "Miles_per_Gallon",
        "Name",
        "Origin",
        "Weight_in_lbs",
        "Year"
       ],
       "description": "col",
       "index": 0,
       "layout": "IPY_MODEL_f2f857480bda410cbfbf937e6aad14ec",
       "style": "IPY_MODEL_1cd873b8983041639760c9bcb0114de6"
      }
     },
     "d154dd2567e04704ad8ccd975887c0ef": {
      "model_module": "@jupyter-widgets/controls",
      "model_module_version": "1.4.0",
      "model_name": "DescriptionStyleModel",
      "state": {
       "description_width": ""
      }
     },
     "d1737b5e23c049ef8d0f5c4dcf1434f7": {
      "model_module": "@jupyter-widgets/controls",
      "model_module_version": "1.4.0",
      "model_name": "ButtonStyleModel",
      "state": {}
     },
     "d292c2dce15e4eaf97b75c9978b1352c": {
      "model_module": "@jupyter-widgets/controls",
      "model_module_version": "1.4.0",
      "model_name": "FloatTextModel",
      "state": {
       "description": "height",
       "layout": "IPY_MODEL_78d9c0db90224182a01f3190ed8ec859",
       "step": null,
       "style": "IPY_MODEL_b96311ff8d404a1c99ae258c5bfa3187",
       "value": 1
      }
     },
     "d38601a0c7d243fb8a8a6f93c67e6614": {
      "model_module": "@jupyter-widgets/base",
      "model_module_version": "1.1.0",
      "model_name": "LayoutModel",
      "state": {}
     },
     "d3d961c2362c4de39121af334755b9be": {
      "model_module": "@jupyter-widgets/controls",
      "model_module_version": "1.4.0",
      "model_name": "DropdownModel",
      "state": {
       "_options_labels": [
        "gau",
        "cos",
        "biw",
        "epa",
        "tri",
        "triw"
       ],
       "description": "kernel",
       "index": 0,
       "layout": "IPY_MODEL_ad07597a0d194ac1b75ecfa670fa3b34",
       "style": "IPY_MODEL_fb763bb5ca65416ebee2d47b0f82438d"
      }
     },
     "d4b32b7cca8e48aab71154dca80a7de7": {
      "model_module": "@jupyter-widgets/controls",
      "model_module_version": "1.4.0",
      "model_name": "FloatTextModel",
      "state": {
       "description": "linewidths",
       "layout": "IPY_MODEL_f3541a301b264abc80a33b0fb1048a29",
       "step": null,
       "style": "IPY_MODEL_b4ccaa2e29bd44a881995dd4d08b1d14",
       "value": 1
      }
     },
     "d5039516371a40e39a10fd66498e0bc6": {
      "model_module": "@jupyter-widgets/controls",
      "model_module_version": "1.4.0",
      "model_name": "CheckboxModel",
      "state": {
       "description": "dropna",
       "disabled": false,
       "layout": "IPY_MODEL_3d68dbb56ee847eba3e8180b422f5292",
       "style": "IPY_MODEL_2d628359c36d4248b1cdc1ce2eb29e74",
       "value": false
      }
     },
     "d559382603b9445294eeec611e4cd213": {
      "model_module": "@jupyter-widgets/controls",
      "model_module_version": "1.4.0",
      "model_name": "DescriptionStyleModel",
      "state": {
       "description_width": ""
      }
     },
     "d5ca33d7378342daa870fcf5b4078bc8": {
      "model_module": "@jupyter-widgets/controls",
      "model_module_version": "1.4.0",
      "model_name": "LabelModel",
      "state": {
       "layout": "IPY_MODEL_986393bea4d64d48ad7f9ed279ec2ffa",
       "style": "IPY_MODEL_5f496eec65e44710bf4762b5b0c06f2b",
       "value": "---"
      }
     },
     "d5e6be5834734702870e8f83f8fadc35": {
      "model_module": "@jupyter-widgets/base",
      "model_module_version": "1.1.0",
      "model_name": "LayoutModel",
      "state": {}
     },
     "d6dda6ced8c642a793147b50c8550501": {
      "model_module": "@jupyter-widgets/controls",
      "model_module_version": "1.4.0",
      "model_name": "DescriptionStyleModel",
      "state": {
       "description_width": ""
      }
     },
     "d7499c767dd24252bbb4b54db5a03b6d": {
      "model_module": "@jupyter-widgets/base",
      "model_module_version": "1.1.0",
      "model_name": "LayoutModel",
      "state": {}
     },
     "d750a64d27ec4570be972fa5e3b82f63": {
      "model_module": "@jupyter-widgets/controls",
      "model_module_version": "1.4.0",
      "model_name": "IntTextModel",
      "state": {
       "description": "height",
       "layout": "IPY_MODEL_422fc125778742199d8a60ccfcc104fa",
       "step": 1,
       "style": "IPY_MODEL_9746421ffdb6463483c636a06e03fc76",
       "value": 5
      }
     },
     "d82552579e1e4be78a8e888bee6bf32f": {
      "model_module": "@jupyter-widgets/base",
      "model_module_version": "1.1.0",
      "model_name": "LayoutModel",
      "state": {}
     },
     "d8524009eb9749658218e6019e52666c": {
      "model_module": "@jupyter-widgets/base",
      "model_module_version": "1.1.0",
      "model_name": "LayoutModel",
      "state": {}
     },
     "d948a4fad8dd4eee8ae909476098fe31": {
      "model_module": "@jupyter-widgets/base",
      "model_module_version": "1.1.0",
      "model_name": "LayoutModel",
      "state": {}
     },
     "dae567cbd39b4535a4acecb3894fa57c": {
      "model_module": "@jupyter-widgets/controls",
      "model_module_version": "1.4.0",
      "model_name": "FloatTextModel",
      "state": {
       "description": "height",
       "layout": "IPY_MODEL_f43c8554072747e4aad254fd1a42d806",
       "step": null,
       "style": "IPY_MODEL_e2aa9aa1435e42f88f204f8e824e9bb4",
       "value": 1
      }
     },
     "db296290354a4377a3a8e5644f76e0bf": {
      "model_module": "@jupyter-widgets/controls",
      "model_module_version": "1.4.0",
      "model_name": "DescriptionStyleModel",
      "state": {
       "description_width": ""
      }
     },
     "db9edc5952b14d2685a71a22f0f8e00a": {
      "model_module": "@jupyter-widgets/controls",
      "model_module_version": "1.4.0",
      "model_name": "SliderStyleModel",
      "state": {
       "description_width": ""
      }
     },
     "dbfff260e8ba465a8350fedc98768780": {
      "model_module": "@jupyter-widgets/controls",
      "model_module_version": "1.4.0",
      "model_name": "DescriptionStyleModel",
      "state": {
       "description_width": ""
      }
     },
     "dc087f8e3df14b39b4a23b1bd0888fec": {
      "model_module": "@jupyter-widgets/base",
      "model_module_version": "1.1.0",
      "model_name": "LayoutModel",
      "state": {}
     },
     "dc2a1f1179694188a2c6faa45a9b0e1a": {
      "model_module": "@jupyter-widgets/controls",
      "model_module_version": "1.4.0",
      "model_name": "ButtonStyleModel",
      "state": {}
     },
     "dca7e55f295745ac8767e86eab884526": {
      "model_module": "@jupyter-widgets/controls",
      "model_module_version": "1.4.0",
      "model_name": "DropdownModel",
      "state": {
       "_options_labels": [
        "True",
        "row",
        "col"
       ],
       "description": "sharex",
       "index": 0,
       "layout": "IPY_MODEL_3ddf9f84388b4586ba5cbf3977af0c97",
       "style": "IPY_MODEL_a6607d908b234647b6c47dabe2fd3735"
      }
     },
     "dcb0056083eb43e58b14392f49aa0ac8": {
      "model_module": "@jupyter-widgets/controls",
      "model_module_version": "1.4.0",
      "model_name": "DescriptionStyleModel",
      "state": {
       "description_width": ""
      }
     },
     "dcc74ac2a22a4391a192fd998f8725e9": {
      "model_module": "@jupyter-widgets/controls",
      "model_module_version": "1.4.0",
      "model_name": "VBoxModel",
      "state": {
       "children": [
        "IPY_MODEL_2a7aa63b85714de8baa0b313fb545ef1",
        "IPY_MODEL_8cc7894a047745b084ade536d02ba88a",
        "IPY_MODEL_7aa9940e524840e2807972f5be6567e7",
        "IPY_MODEL_98231c438c6a48c4a9ba96e453c76199",
        "IPY_MODEL_30f1c6169ded4c31985ead88afee8554",
        "IPY_MODEL_86c6e0acff9242b0b1f11c60f68bb922",
        "IPY_MODEL_4c108b60dac54c549d0a9ba50ddeb3a4"
       ],
       "layout": "IPY_MODEL_03247f7ec9c244829e6b4fc7097b5c97"
      }
     },
     "dd1aef9a6478426f86c26682d74f50d0": {
      "model_module": "@jupyter-widgets/controls",
      "model_module_version": "1.4.0",
      "model_name": "VBoxModel",
      "state": {
       "children": [
        "IPY_MODEL_3a2d66bd3af645ada41e7d156a8cd1ae",
        "IPY_MODEL_21cfcd2319064a678ca3627248379184",
        "IPY_MODEL_ebab0301c0944c409dc83a82870c3345",
        "IPY_MODEL_07fcfc7ddd684a21932f7468daa3181d",
        "IPY_MODEL_69b26a60ad1e4c1b9c5201a7d00f0c70",
        "IPY_MODEL_83ee2aabbde8406c9a9dc0ca2c2d83ca"
       ],
       "layout": "IPY_MODEL_fbadf71a9a40483b93c935d6ef5d71a9"
      }
     },
     "dd4e5006011d4befae4be95495d82599": {
      "model_module": "@jupyter-widgets/controls",
      "model_module_version": "1.4.0",
      "model_name": "HBoxModel",
      "state": {
       "children": [
        "IPY_MODEL_80c26812c50c429f9c7606af20134afe",
        "IPY_MODEL_22a6ad1d8dbd493e9295da2174ab0aed"
       ],
       "layout": "IPY_MODEL_f335277b31d345b38e0826794c9140d9"
      }
     },
     "dde9d3db6937488492e39594bd844b04": {
      "model_module": "@jupyter-widgets/base",
      "model_module_version": "1.1.0",
      "model_name": "LayoutModel",
      "state": {}
     },
     "de303aeb311e4d6085fb38dda5dd76aa": {
      "model_module": "@jupyter-widgets/controls",
      "model_module_version": "1.4.0",
      "model_name": "ButtonModel",
      "state": {
       "description": "remove",
       "layout": "IPY_MODEL_22cfcd234695489b8d8b55a2b316fd26",
       "style": "IPY_MODEL_dc2a1f1179694188a2c6faa45a9b0e1a"
      }
     },
     "de707cce389c41a9b75a7e030df4db86": {
      "model_module": "@jupyter-widgets/controls",
      "model_module_version": "1.4.0",
      "model_name": "DropdownModel",
      "state": {
       "_options_labels": [
        "row",
        "col",
        "True"
       ],
       "description": "sharey",
       "index": 0,
       "layout": "IPY_MODEL_69b88b04c7f84ebf89f11c945968ea18",
       "style": "IPY_MODEL_151eac96b29546ae9aafd2b764984db7"
      }
     },
     "dee1fd6d4a0e46cb907d86c8b8f7e7b5": {
      "model_module": "@jupyter-widgets/controls",
      "model_module_version": "1.4.0",
      "model_name": "DropdownModel",
      "state": {
       "_options_labels": [
        "Acceleration",
        "Cylinders",
        "Displacement",
        "Horsepower",
        "Miles_per_Gallon",
        "Name",
        "Origin",
        "Weight_in_lbs",
        "Year"
       ],
       "description": "y_partial",
       "index": 0,
       "layout": "IPY_MODEL_6037d99781654dad98a6e0d6e917ad00",
       "style": "IPY_MODEL_705b0bd40b9a4b698cd59f7089437267"
      }
     },
     "df40196c501c44868f35054b21792fb4": {
      "model_module": "@jupyter-widgets/controls",
      "model_module_version": "1.4.0",
      "model_name": "DropdownModel",
      "state": {
       "_options_labels": [
        "x",
        "y",
        "color",
        "hue",
        "k_depth",
        "linewidth",
        "orient",
        "outlier_prop",
        "palette",
        "saturation",
        "scale",
        "width"
       ],
       "description": "Add arg",
       "index": 9,
       "layout": "IPY_MODEL_42c49d3cd82a4581b9516c9e7a3a5668",
       "style": "IPY_MODEL_b49985d3f14c417ebb760515187c72e8"
      }
     },
     "df71ab0c55154c47848a8f787fefb2fe": {
      "model_module": "@jupyter-widgets/base",
      "model_module_version": "1.1.0",
      "model_name": "LayoutModel",
      "state": {}
     },
     "df7bde89ed1b4174902ce19747337035": {
      "model_module": "@jupyter-widgets/controls",
      "model_module_version": "1.4.0",
      "model_name": "DropdownModel",
      "state": {
       "_options_labels": [
        "auto",
        "hist",
        "kde"
       ],
       "description": "diag_kind",
       "index": 0,
       "layout": "IPY_MODEL_a86032038c8d4c73a958cf1f0e10d3e1",
       "style": "IPY_MODEL_a2a12473751a4486837f952e8e1ea02a"
      }
     },
     "df7d8475b27f4e21bb22a29df54107e1": {
      "model_module": "@jupyter-widgets/base",
      "model_module_version": "1.1.0",
      "model_name": "LayoutModel",
      "state": {}
     },
     "dfc2ce90614e4a84acf17f025e493a7c": {
      "model_module": "@jupyter-widgets/controls",
      "model_module_version": "1.4.0",
      "model_name": "DescriptionStyleModel",
      "state": {
       "description_width": ""
      }
     },
     "dfe372778b944dec9f987e9d792964f2": {
      "model_module": "@jupyter-widgets/controls",
      "model_module_version": "1.4.0",
      "model_name": "FloatTextModel",
      "state": {
       "description": "height",
       "layout": "IPY_MODEL_d7499c767dd24252bbb4b54db5a03b6d",
       "step": null,
       "style": "IPY_MODEL_bef2b0836e83495495787d35a9276408",
       "value": 1
      }
     },
     "e02d800067264b0392a0d3e55ab28a8d": {
      "model_module": "@jupyter-widgets/controls",
      "model_module_version": "1.4.0",
      "model_name": "DropdownModel",
      "state": {
       "_options_labels": [
        "Acceleration",
        "Cylinders",
        "Displacement",
        "Horsepower",
        "Miles_per_Gallon",
        "Name",
        "Origin",
        "Weight_in_lbs",
        "Year"
       ],
       "description": "style",
       "index": 0,
       "layout": "IPY_MODEL_71208cf720aa4b828e15699aa20e2925",
       "style": "IPY_MODEL_6d7c7586ba5046dba435c309a2a821c7"
      }
     },
     "e142592db9d84dd8828b17ca961aa13a": {
      "model_module": "@jupyter-widgets/base",
      "model_module_version": "1.1.0",
      "model_name": "LayoutModel",
      "state": {}
     },
     "e142ecb3096b490fab4e687d382ba481": {
      "model_module": "@jupyter-widgets/base",
      "model_module_version": "1.1.0",
      "model_name": "LayoutModel",
      "state": {}
     },
     "e15ba72b4b824454af0beebdaf3e0084": {
      "model_module": "@jupyter-widgets/base",
      "model_module_version": "1.1.0",
      "model_name": "LayoutModel",
      "state": {}
     },
     "e19db2b1145e4c3d8089ee8edd3c3459": {
      "model_module": "@jupyter-widgets/base",
      "model_module_version": "1.1.0",
      "model_name": "LayoutModel",
      "state": {}
     },
     "e1b5e62a87fc40b49e2cb025b63b0ba3": {
      "model_module": "@jupyter-widgets/controls",
      "model_module_version": "1.4.0",
      "model_name": "IntTextModel",
      "state": {
       "description": "order",
       "layout": "IPY_MODEL_3e051b3a76604304a4463c9e4e8b684c",
       "step": 1,
       "style": "IPY_MODEL_8e44960b2487461288e65e6046a1be1a",
       "value": 1
      }
     },
     "e1be1dcef2174f0b8436060b3e8a8bf5": {
      "model_module": "@jupyter-widgets/controls",
      "model_module_version": "1.4.0",
      "model_name": "DescriptionStyleModel",
      "state": {
       "description_width": ""
      }
     },
     "e1c006c780c045508039dadf064a9475": {
      "model_module": "@jupyter-widgets/base",
      "model_module_version": "1.1.0",
      "model_name": "LayoutModel",
      "state": {}
     },
     "e1f4f1d0e8244a7c9a56c0444ac2eaa2": {
      "model_module": "@jupyter-widgets/controls",
      "model_module_version": "1.4.0",
      "model_name": "DescriptionStyleModel",
      "state": {
       "description_width": ""
      }
     },
     "e202f8c50b9c4c5bb5b7a03c40afb046": {
      "model_module": "@jupyter-widgets/controls",
      "model_module_version": "1.4.0",
      "model_name": "HBoxModel",
      "state": {
       "children": [
        "IPY_MODEL_a8ab65934d8a4e17aa855bbaa04c3668"
       ],
       "layout": "IPY_MODEL_3fa33ff3b20046ba97dd6c41598001a9"
      }
     },
     "e24d474174dc4b03969a1cd95312afcb": {
      "model_module": "@jupyter-widgets/controls",
      "model_module_version": "1.4.0",
      "model_name": "CheckboxModel",
      "state": {
       "description": "logistic",
       "disabled": false,
       "layout": "IPY_MODEL_8d8e961d7204460c86a2279d979266b6",
       "style": "IPY_MODEL_a60623f610194f439c2c2715f20eb46f",
       "value": false
      }
     },
     "e2759f52273b476cafa27238e2af6f23": {
      "model_module": "@jupyter-widgets/controls",
      "model_module_version": "1.4.0",
      "model_name": "DescriptionStyleModel",
      "state": {
       "description_width": ""
      }
     },
     "e28f08638c5d4ff1b5d38eae877622b5": {
      "model_module": "@jupyter-widgets/controls",
      "model_module_version": "1.4.0",
      "model_name": "DropdownModel",
      "state": {
       "_options_labels": [
        "proportion",
        "tukey",
        "trustworthy"
       ],
       "description": "k_depth",
       "index": 2,
       "layout": "IPY_MODEL_a2f061931dc049cfa6058d5c87ff5b3a",
       "style": "IPY_MODEL_fecc8907e25e4233a9a8a84f29cdfd73"
      }
     },
     "e2aa9aa1435e42f88f204f8e824e9bb4": {
      "model_module": "@jupyter-widgets/controls",
      "model_module_version": "1.4.0",
      "model_name": "DescriptionStyleModel",
      "state": {
       "description_width": ""
      }
     },
     "e2c27f1f009b4c389539096522e391cb": {
      "model_module": "@jupyter-widgets/controls",
      "model_module_version": "1.4.0",
      "model_name": "CheckboxModel",
      "state": {
       "description": "square",
       "disabled": false,
       "layout": "IPY_MODEL_1c7f327ee17145d6aecabb699702b47a",
       "style": "IPY_MODEL_ef2da8fbf49a4728a07cbbac2e0208f2",
       "value": false
      }
     },
     "e2e3a6aa3a6c4f29a5d491dbe0bc8634": {
      "model_module": "@jupyter-widgets/base",
      "model_module_version": "1.1.0",
      "model_name": "LayoutModel",
      "state": {}
     },
     "e2e4fdb505144f95a5b5787c2b439b58": {
      "model_module": "@jupyter-widgets/controls",
      "model_module_version": "1.4.0",
      "model_name": "CheckboxModel",
      "state": {
       "description": "cbar",
       "disabled": false,
       "layout": "IPY_MODEL_2a8b333a939b4c6db9517e741d96fcf5",
       "style": "IPY_MODEL_0b70801fad3a4edea39141cf211d90a3",
       "value": false
      }
     },
     "e366730fff624c72b9c14a31a502bf82": {
      "model_module": "@jupyter-widgets/controls",
      "model_module_version": "1.4.0",
      "model_name": "CheckboxModel",
      "state": {
       "description": "sort",
       "disabled": false,
       "layout": "IPY_MODEL_4fc4fc9a6a454bfb81604f42b292770b",
       "style": "IPY_MODEL_6dcc76ca49dc4e33a47f8c67a4d87352",
       "value": false
      }
     },
     "e434f25a038e42cea7bc34caa019db72": {
      "model_module": "@jupyter-widgets/base",
      "model_module_version": "1.1.0",
      "model_name": "LayoutModel",
      "state": {}
     },
     "e47a2b8e262247fa8a2dbb51149c21b2": {
      "model_module": "@jupyter-widgets/controls",
      "model_module_version": "1.4.0",
      "model_name": "FloatTextModel",
      "state": {
       "description": "capsize",
       "layout": "IPY_MODEL_23a3ab0e008f4130aea64a704cf26fea",
       "step": null,
       "style": "IPY_MODEL_8dfe27f4b04346298acc5b1edcb14adb",
       "value": 1
      }
     },
     "e487734af3a448b9a1a44f8a2a68fc06": {
      "model_module": "@jupyter-widgets/controls",
      "model_module_version": "1.4.0",
      "model_name": "CheckboxModel",
      "state": {
       "description": "vertical",
       "disabled": false,
       "layout": "IPY_MODEL_cee6da3ef2584478b4981d52b0aa7117",
       "style": "IPY_MODEL_08ff81c499a340b5be741bb93bcef6ce",
       "value": false
      }
     },
     "e4aa92e86b314056b5d25165ebe43c53": {
      "model_module": "@jupyter-widgets/controls",
      "model_module_version": "1.4.0",
      "model_name": "DropdownModel",
      "state": {
       "_options_labels": [
        "Acceleration",
        "Cylinders",
        "Displacement",
        "Horsepower",
        "Miles_per_Gallon",
        "Name",
        "Origin",
        "Weight_in_lbs",
        "Year"
       ],
       "description": "style",
       "index": 0,
       "layout": "IPY_MODEL_15d2ee659f494a3f898df1f9a1e2559f",
       "style": "IPY_MODEL_6aaa64b092d8468882b733dd6346edf1"
      }
     },
     "e4fc7db97e5d422992dc5177d8e1103e": {
      "model_module": "@jupyter-widgets/base",
      "model_module_version": "1.1.0",
      "model_name": "LayoutModel",
      "state": {}
     },
     "e5efb2a5a2cb4d749516eda8ed2a8d25": {
      "model_module": "@jupyter-widgets/controls",
      "model_module_version": "1.4.0",
      "model_name": "CheckboxModel",
      "state": {
       "description": "jitter",
       "disabled": false,
       "layout": "IPY_MODEL_a915049a811a4f719325780b60faa9bd",
       "style": "IPY_MODEL_645c7f73f69044b88087728694bc4287",
       "value": false
      }
     },
     "e658da7710f643d1ae3cc149c07cc3f4": {
      "model_module": "@jupyter-widgets/base",
      "model_module_version": "1.1.0",
      "model_name": "LayoutModel",
      "state": {}
     },
     "e6f7d00eff884e6dbafd71c00ddf5a0c": {
      "model_module": "@jupyter-widgets/controls",
      "model_module_version": "1.4.0",
      "model_name": "DescriptionStyleModel",
      "state": {
       "description_width": ""
      }
     },
     "e70fa2ce7ef148a1ae8dc6b83081a4dc": {
      "model_module": "@jupyter-widgets/controls",
      "model_module_version": "1.4.0",
      "model_name": "DropdownModel",
      "state": {
       "_options_labels": [
        "Acceleration",
        "Cylinders",
        "Displacement",
        "Horsepower",
        "Miles_per_Gallon",
        "Name",
        "Origin",
        "Weight_in_lbs",
        "Year"
       ],
       "description": "data2",
       "index": 0,
       "layout": "IPY_MODEL_94cdedb4a0bd4edd8c17d62fe41e85a4",
       "style": "IPY_MODEL_7573854e34f74ca49e9199f7b7bcd8bd"
      }
     },
     "e7200817f8974cbe8f1725ad15c780c6": {
      "model_module": "@jupyter-widgets/base",
      "model_module_version": "1.1.0",
      "model_name": "LayoutModel",
      "state": {}
     },
     "e729bf51f0134704a24cbd0a982979a5": {
      "model_module": "@jupyter-widgets/base",
      "model_module_version": "1.1.0",
      "model_name": "LayoutModel",
      "state": {}
     },
     "e741d4cccc164119a3124084cbbbd6c6": {
      "model_module": "@jupyter-widgets/controls",
      "model_module_version": "1.4.0",
      "model_name": "DescriptionStyleModel",
      "state": {
       "description_width": ""
      }
     },
     "e759e76bdf6c4443b6b034f06707ff4d": {
      "model_module": "@jupyter-widgets/base",
      "model_module_version": "1.1.0",
      "model_name": "LayoutModel",
      "state": {}
     },
     "e7d214f1992248ffbb89575518f587b9": {
      "model_module": "@jupyter-widgets/controls",
      "model_module_version": "1.4.0",
      "model_name": "DescriptionStyleModel",
      "state": {
       "description_width": ""
      }
     },
     "e82a473a38fe43d59c6998df021e39cf": {
      "model_module": "@jupyter-widgets/base",
      "model_module_version": "1.1.0",
      "model_name": "LayoutModel",
      "state": {}
     },
     "e84550abfc6040eb9b08ed128d90469d": {
      "model_module": "@jupyter-widgets/base",
      "model_module_version": "1.1.0",
      "model_name": "LayoutModel",
      "state": {}
     },
     "e8a23ed08cf548f8bf56e21c173cea50": {
      "model_module": "@jupyter-widgets/controls",
      "model_module_version": "1.4.0",
      "model_name": "HBoxModel",
      "state": {
       "children": [
        "IPY_MODEL_80c26812c50c429f9c7606af20134afe",
        "IPY_MODEL_de303aeb311e4d6085fb38dda5dd76aa"
       ],
       "layout": "IPY_MODEL_1e1369bf1bce40108f7157fc149ed0b4"
      }
     },
     "e99da99182f649e3b600a0850e77fa8c": {
      "model_module": "@jupyter-widgets/controls",
      "model_module_version": "1.4.0",
      "model_name": "FloatTextModel",
      "state": {
       "description": "scale",
       "layout": "IPY_MODEL_95635c44caac4186878b101c05fb551b",
       "step": null,
       "style": "IPY_MODEL_b7f47a3471f244d89fb01419ccb51a07",
       "value": 1
      }
     },
     "e9b2ec5d809c4814978ea3d0177072b8": {
      "model_module": "@jupyter-widgets/controls",
      "model_module_version": "1.4.0",
      "model_name": "DescriptionStyleModel",
      "state": {
       "description_width": ""
      }
     },
     "e9bd966fc455498b92bf6f57e80c9fb9": {
      "model_module": "@jupyter-widgets/controls",
      "model_module_version": "1.4.0",
      "model_name": "SliderStyleModel",
      "state": {
       "description_width": ""
      }
     },
     "eac59fea0e57472e894a2f5bd2411a7d": {
      "model_module": "@jupyter-widgets/controls",
      "model_module_version": "1.4.0",
      "model_name": "DescriptionStyleModel",
      "state": {
       "description_width": ""
      }
     },
     "ebaac9f07ddf4ba3957f29b57841e320": {
      "model_module": "@jupyter-widgets/base",
      "model_module_version": "1.1.0",
      "model_name": "LayoutModel",
      "state": {}
     },
     "ebab0301c0944c409dc83a82870c3345": {
      "model_module": "@jupyter-widgets/controls",
      "model_module_version": "1.4.0",
      "model_name": "HBoxModel",
      "state": {
       "children": [
        "IPY_MODEL_3b0e0346793645da9f3f5af7cf4fa6b5",
        "IPY_MODEL_5f068e9d7b9b468680f3dd4069d237c2"
       ],
       "layout": "IPY_MODEL_4b1f5b3d84394db888f1a5f36483427b"
      }
     },
     "ed09893089984755b4ff12468b70d499": {
      "model_module": "@jupyter-widgets/base",
      "model_module_version": "1.1.0",
      "model_name": "LayoutModel",
      "state": {}
     },
     "ed272c3d32c0467ba5e7f89535f3c705": {
      "model_module": "@jupyter-widgets/controls",
      "model_module_version": "1.4.0",
      "model_name": "DescriptionStyleModel",
      "state": {
       "description_width": ""
      }
     },
     "eddfc1eaf7b84f71b00838ae712151d4": {
      "model_module": "@jupyter-widgets/controls",
      "model_module_version": "1.4.0",
      "model_name": "CheckboxModel",
      "state": {
       "description": "cumulative",
       "disabled": false,
       "layout": "IPY_MODEL_597a4e31fd3e43bda7e4811da6fc6bf4",
       "style": "IPY_MODEL_722479185be04a52bbfce4fad5509f5a",
       "value": false
      }
     },
     "ee472705fe9648fd852fdb116c857bce": {
      "model_module": "@jupyter-widgets/base",
      "model_module_version": "1.1.0",
      "model_name": "LayoutModel",
      "state": {}
     },
     "ee9e2e837fc34da7b6185b0d2ac063cf": {
      "model_module": "@jupyter-widgets/controls",
      "model_module_version": "1.4.0",
      "model_name": "DescriptionStyleModel",
      "state": {
       "description_width": ""
      }
     },
     "ef2da8fbf49a4728a07cbbac2e0208f2": {
      "model_module": "@jupyter-widgets/controls",
      "model_module_version": "1.4.0",
      "model_name": "DescriptionStyleModel",
      "state": {
       "description_width": ""
      }
     },
     "ef918d015bff41d2b903a189a417cc93": {
      "model_module": "@jupyter-widgets/controls",
      "model_module_version": "1.4.0",
      "model_name": "DescriptionStyleModel",
      "state": {
       "description_width": ""
      }
     },
     "efd48bb91f6c473599561f3f508f4fef": {
      "model_module": "@jupyter-widgets/controls",
      "model_module_version": "1.4.0",
      "model_name": "ButtonModel",
      "state": {
       "description": "remove",
       "layout": "IPY_MODEL_bfb4d71e30994d819376b73eec008058",
       "style": "IPY_MODEL_d1737b5e23c049ef8d0f5c4dcf1434f7"
      }
     },
     "efd891f09ce04654b8d468bd9b8501c7": {
      "model_module": "@jupyter-widgets/controls",
      "model_module_version": "1.4.0",
      "model_name": "CheckboxModel",
      "state": {
       "description": "split",
       "disabled": false,
       "layout": "IPY_MODEL_5abe9e7652cc401b85f01d8bb5c75fde",
       "style": "IPY_MODEL_3c1659571500415595ab77494213ee92",
       "value": false
      }
     },
     "f0facb31be0548a49515fcf83406d4cb": {
      "model_module": "@jupyter-widgets/controls",
      "model_module_version": "1.4.0",
      "model_name": "FloatTextModel",
      "state": {
       "description": "y_jitter",
       "layout": "IPY_MODEL_b4f15dbe9920432fae4e09bf5fea0fd9",
       "step": null,
       "style": "IPY_MODEL_16fe292eedc444c9ae86a63d74462abe",
       "value": 1
      }
     },
     "f1de105021594b36949262385112e117": {
      "model_module": "@jupyter-widgets/controls",
      "model_module_version": "1.4.0",
      "model_name": "DescriptionStyleModel",
      "state": {
       "description_width": ""
      }
     },
     "f28226a5fc424db5b25c7db47c32f943": {
      "model_module": "@jupyter-widgets/controls",
      "model_module_version": "1.4.0",
      "model_name": "DescriptionStyleModel",
      "state": {
       "description_width": ""
      }
     },
     "f2ddc60f62aa4e7ea33c96d09f3a76ce": {
      "model_module": "@jupyter-widgets/controls",
      "model_module_version": "1.4.0",
      "model_name": "DropdownModel",
      "state": {
       "_options_labels": [
        "area",
        "count",
        "width"
       ],
       "description": "scale",
       "index": 0,
       "layout": "IPY_MODEL_6e4e39b8a90f41f9b7bdacb915c31f75",
       "style": "IPY_MODEL_b79d51eaa608417ba88ea3eac2cbf3e8"
      }
     },
     "f2df33d7a8d643859973f533132c70b6": {
      "model_module": "@jupyter-widgets/base",
      "model_module_version": "1.1.0",
      "model_name": "LayoutModel",
      "state": {}
     },
     "f2f857480bda410cbfbf937e6aad14ec": {
      "model_module": "@jupyter-widgets/base",
      "model_module_version": "1.1.0",
      "model_name": "LayoutModel",
      "state": {}
     },
     "f2fafa3e76404d58bfba797129cd59d0": {
      "model_module": "@jupyter-widgets/base",
      "model_module_version": "1.1.0",
      "model_name": "LayoutModel",
      "state": {}
     },
     "f335277b31d345b38e0826794c9140d9": {
      "model_module": "@jupyter-widgets/base",
      "model_module_version": "1.1.0",
      "model_name": "LayoutModel",
      "state": {}
     },
     "f3541a301b264abc80a33b0fb1048a29": {
      "model_module": "@jupyter-widgets/base",
      "model_module_version": "1.1.0",
      "model_name": "LayoutModel",
      "state": {}
     },
     "f3e67359587d472c9b9d78ec01e46325": {
      "model_module": "@jupyter-widgets/base",
      "model_module_version": "1.1.0",
      "model_name": "LayoutModel",
      "state": {}
     },
     "f43c8554072747e4aad254fd1a42d806": {
      "model_module": "@jupyter-widgets/base",
      "model_module_version": "1.1.0",
      "model_name": "LayoutModel",
      "state": {}
     },
     "f46bdfb570ec4d6aa01727136a8299cf": {
      "model_module": "@jupyter-widgets/base",
      "model_module_version": "1.1.0",
      "model_name": "LayoutModel",
      "state": {}
     },
     "f55ca30c90a64984b7c42aef5e968914": {
      "model_module": "@jupyter-widgets/controls",
      "model_module_version": "1.4.0",
      "model_name": "DropdownModel",
      "state": {
       "_options_labels": [
        "o",
        "v",
        "^",
        "<",
        ">",
        "8",
        "s",
        "p",
        "*",
        "h",
        "H",
        "D",
        "d",
        "P",
        "X"
       ],
       "description": "marker",
       "index": 0,
       "layout": "IPY_MODEL_05b4c8cf16d84c929ace51425c7f74a3",
       "style": "IPY_MODEL_1f6c8e32964845d6800e4078cb66676f"
      }
     },
     "f5d15411a4ac40188fc98097905e7207": {
      "model_module": "@jupyter-widgets/controls",
      "model_module_version": "1.4.0",
      "model_name": "DescriptionStyleModel",
      "state": {
       "description_width": ""
      }
     },
     "f5e5fd438e434928b92bb4f6d662ab8c": {
      "model_module": "@jupyter-widgets/base",
      "model_module_version": "1.1.0",
      "model_name": "LayoutModel",
      "state": {}
     },
     "f5e82261f07047969e984007e598eb4b": {
      "model_module": "@jupyter-widgets/base",
      "model_module_version": "1.1.0",
      "model_name": "LayoutModel",
      "state": {}
     },
     "f69110e2e52b48abb0d831a4d0596cd7": {
      "model_module": "@jupyter-widgets/controls",
      "model_module_version": "1.4.0",
      "model_name": "DescriptionStyleModel",
      "state": {
       "description_width": ""
      }
     },
     "f6c077d2c72c42dd84c43bb29faa68f8": {
      "model_module": "@jupyter-widgets/base",
      "model_module_version": "1.1.0",
      "model_name": "LayoutModel",
      "state": {}
     },
     "f6d0e792ac844fbb9a891b15a9e04f3d": {
      "model_module": "@jupyter-widgets/base",
      "model_module_version": "1.1.0",
      "model_name": "LayoutModel",
      "state": {}
     },
     "f6df512d6d344302b14213cda911da65": {
      "model_module": "@jupyter-widgets/base",
      "model_module_version": "1.1.0",
      "model_name": "LayoutModel",
      "state": {}
     },
     "f7dd954e949c4ead8f20ae7968abc1dd": {
      "model_module": "@jupyter-widgets/base",
      "model_module_version": "1.1.0",
      "model_name": "LayoutModel",
      "state": {}
     },
     "f871d8035ba84105ae70e34dd279a283": {
      "model_module": "@jupyter-widgets/controls",
      "model_module_version": "1.4.0",
      "model_name": "HBoxModel",
      "state": {
       "children": [
        "IPY_MODEL_3b0e0346793645da9f3f5af7cf4fa6b5",
        "IPY_MODEL_1962cb8b5d1445d4bee5f9303021f86e"
       ],
       "layout": "IPY_MODEL_9561aeb6cb564b0bb353a30f34753ae8"
      }
     },
     "f8b8f386e1294569ab43ff33043796c9": {
      "model_module": "@jupyter-widgets/controls",
      "model_module_version": "1.4.0",
      "model_name": "DescriptionStyleModel",
      "state": {
       "description_width": ""
      }
     },
     "f8dd202fe2564e3d865ce6fc6538d0c5": {
      "model_module": "@jupyter-widgets/base",
      "model_module_version": "1.1.0",
      "model_name": "LayoutModel",
      "state": {}
     },
     "fb11ab4b6f044dd496ee21fc83abcf13": {
      "model_module": "@jupyter-widgets/base",
      "model_module_version": "1.1.0",
      "model_name": "LayoutModel",
      "state": {}
     },
     "fb35dca8374044ba9181c10af6bbcd31": {
      "model_module": "@jupyter-widgets/base",
      "model_module_version": "1.1.0",
      "model_name": "LayoutModel",
      "state": {}
     },
     "fb4e6e4dfa5b46b7b68a1598452fa68a": {
      "model_module": "@jupyter-widgets/base",
      "model_module_version": "1.1.0",
      "model_name": "LayoutModel",
      "state": {}
     },
     "fb763bb5ca65416ebee2d47b0f82438d": {
      "model_module": "@jupyter-widgets/controls",
      "model_module_version": "1.4.0",
      "model_name": "DescriptionStyleModel",
      "state": {
       "description_width": ""
      }
     },
     "fb949e6e0dc04a7cbbbe28d87df332ed": {
      "model_module": "@jupyter-widgets/base",
      "model_module_version": "1.1.0",
      "model_name": "LayoutModel",
      "state": {}
     },
     "fba4346a4a004395ae51340dcf026871": {
      "model_module": "@jupyter-widgets/base",
      "model_module_version": "1.1.0",
      "model_name": "LayoutModel",
      "state": {}
     },
     "fbadf71a9a40483b93c935d6ef5d71a9": {
      "model_module": "@jupyter-widgets/base",
      "model_module_version": "1.1.0",
      "model_name": "LayoutModel",
      "state": {}
     },
     "fbe5aa1734a54ebb93c8644664de63b9": {
      "model_module": "@jupyter-widgets/controls",
      "model_module_version": "1.4.0",
      "model_name": "HBoxModel",
      "state": {
       "children": [
        "IPY_MODEL_976e29178100485385a6e64396fb83e5",
        "IPY_MODEL_9008447f1ed245d58d508f3c1c30caad"
       ],
       "layout": "IPY_MODEL_874069c5f567471bb461436108f23be8"
      }
     },
     "fc33748c4e514295a1f5e056c164bca7": {
      "model_module": "@jupyter-widgets/base",
      "model_module_version": "1.1.0",
      "model_name": "LayoutModel",
      "state": {}
     },
     "fcdc4e0e83f1431599e0e6ce31c645b6": {
      "model_module": "@jupyter-widgets/controls",
      "model_module_version": "1.4.0",
      "model_name": "LabelModel",
      "state": {
       "layout": "IPY_MODEL_a5d9192f58cf40b7809f05130026d770",
       "style": "IPY_MODEL_02f233ca2fd14adeb38f21cfba179d82",
       "value": "---"
      }
     },
     "fdb98ad9d0684eb08b4823d1ffdb6aca": {
      "model_module": "@jupyter-widgets/base",
      "model_module_version": "1.1.0",
      "model_name": "LayoutModel",
      "state": {}
     },
     "fdc1aa1c75a449bd87d9ee4b0d7420ac": {
      "model_module": "@jupyter-widgets/base",
      "model_module_version": "1.1.0",
      "model_name": "LayoutModel",
      "state": {}
     },
     "fe1b45e7fc434105b48550ecb068a0ab": {
      "model_module": "@jupyter-widgets/controls",
      "model_module_version": "1.4.0",
      "model_name": "TextModel",
      "state": {
       "description": "palette",
       "layout": "IPY_MODEL_fea4046c461e41bb93f6c857b3cf20e5",
       "style": "IPY_MODEL_343146aac3db46d0aa7027da5730b836"
      }
     },
     "fe45d292d07248f6960af6b03479ab59": {
      "model_module": "@jupyter-widgets/controls",
      "model_module_version": "1.4.0",
      "model_name": "LabelModel",
      "state": {
       "layout": "IPY_MODEL_99b0d9e2e6d54a04bbf369bb2e758d70",
       "style": "IPY_MODEL_6866e3674e6542d896a23a4d89b95f77",
       "value": "---"
      }
     },
     "fe9a6efe8689422dbf2996b6247b0e59": {
      "model_module": "@jupyter-widgets/controls",
      "model_module_version": "1.4.0",
      "model_name": "TextModel",
      "state": {
       "description": "color",
       "layout": "IPY_MODEL_163b2d084adc46838147a8b8300abe7b",
       "style": "IPY_MODEL_b6589cebce9442ab915eb0519a519012",
       "value": "g"
      }
     },
     "fea4046c461e41bb93f6c857b3cf20e5": {
      "model_module": "@jupyter-widgets/base",
      "model_module_version": "1.1.0",
      "model_name": "LayoutModel",
      "state": {}
     },
     "fecc8907e25e4233a9a8a84f29cdfd73": {
      "model_module": "@jupyter-widgets/controls",
      "model_module_version": "1.4.0",
      "model_name": "DescriptionStyleModel",
      "state": {
       "description_width": ""
      }
     },
     "ff39033294074a108a110916e351d407": {
      "model_module": "@jupyter-widgets/controls",
      "model_module_version": "1.4.0",
      "model_name": "DescriptionStyleModel",
      "state": {
       "description_width": ""
      }
     },
     "ff6aa0d6d5ec46f9829456f08e71d8d6": {
      "model_module": "@jupyter-widgets/controls",
      "model_module_version": "1.4.0",
      "model_name": "DescriptionStyleModel",
      "state": {
       "description_width": ""
      }
     },
     "ff8b64a0288f41238938f0b2a56896ce": {
      "model_module": "@jupyter-widgets/base",
      "model_module_version": "1.1.0",
      "model_name": "LayoutModel",
      "state": {}
     },
     "ffd6ac5639f24f02bc74bbb4f3f3c97f": {
      "model_module": "@jupyter-widgets/controls",
      "model_module_version": "1.4.0",
      "model_name": "ButtonStyleModel",
      "state": {}
     }
    },
    "version_major": 2,
    "version_minor": 0
   }
  }
 },
 "nbformat": 4,
 "nbformat_minor": 2
}
